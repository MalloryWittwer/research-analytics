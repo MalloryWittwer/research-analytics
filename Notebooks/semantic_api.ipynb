{
 "cells": [
  {
   "cell_type": "markdown",
   "id": "a624bda1",
   "metadata": {},
   "source": [
    "# Test `semantic_api()`"
   ]
  },
  {
   "cell_type": "code",
   "execution_count": 81,
   "id": "eb4ecf49",
   "metadata": {},
   "outputs": [
    {
     "name": "stdout",
     "output_type": "stream",
     "text": [
      "The autoreload extension is already loaded. To reload it, use:\n",
      "  %reload_ext autoreload\n"
     ]
    }
   ],
   "source": [
    "import pandas as pd\n",
    "import numpy as np\n",
    "from datetime import date\n",
    "from collections import Counter\n",
    "\n",
    "from startupjh import utils\n",
    "from startupjh import plots\n",
    "from startupjh.data_collection import consolidated_df\n",
    "from startupjh.data_preprocessing import data_preprocess\n",
    "from startupjh.data_preprocessing import data_cleaning, data_enrichment\n",
    "from startupjh.data_collection import semantic_api\n",
    "\n",
    "import plotly.graph_objs as go\n",
    "import plotly.express as px\n",
    "\n",
    "%load_ext autoreload\n",
    "\n",
    "%autoreload 2"
   ]
  },
  {
   "cell_type": "markdown",
   "id": "8ff7423d",
   "metadata": {},
   "source": [
    "## Data collection for Semantic scholar"
   ]
  },
  {
   "cell_type": "code",
   "execution_count": 72,
   "id": "75add7ce",
   "metadata": {},
   "outputs": [
    {
     "name": "stdout",
     "output_type": "stream",
     "text": [
      "Enter key words: mars biosignature\n"
     ]
    }
   ],
   "source": [
    "results_df, all_references_df, total_results, query = semantic_api.get_all_results_from_semantic_scholar()"
   ]
  },
  {
   "cell_type": "markdown",
   "id": "9a8c5563",
   "metadata": {},
   "source": [
    "## Data visualization for Semantic scholar"
   ]
  },
  {
   "cell_type": "markdown",
   "id": "47dd7139",
   "metadata": {
    "heading_collapsed": true
   },
   "source": [
    "### Basic plots"
   ]
  },
  {
   "cell_type": "code",
   "execution_count": 64,
   "id": "bf8d8759",
   "metadata": {
    "hidden": true
   },
   "outputs": [
    {
     "data": {
      "application/vnd.plotly.v1+json": {
       "config": {
        "plotlyServerURL": "https://plot.ly"
       },
       "data": [
        {
         "customdata": [
          [
           false
          ],
          [
           true
          ]
         ],
         "domain": {
          "x": [
           0,
           1
          ],
          "y": [
           0,
           1
          ]
         },
         "hovertemplate": "isOpenAccess=%{customdata[0]}<br>title=%{value}<extra></extra>",
         "labels": [
          false,
          true
         ],
         "legendgroup": "",
         "marker": {
          "colors": [
           "#ab63fa",
           "#FFA15A"
          ]
         },
         "name": "",
         "showlegend": true,
         "type": "pie",
         "values": [
          19,
          11
         ]
        }
       ],
       "layout": {
        "font": {
         "color": "white",
         "family": "Courier New, monospace",
         "size": 14
        },
        "legend": {
         "tracegroupgap": 0
        },
        "margin": {
         "t": 60
        },
        "paper_bgcolor": "#101126",
        "plot_bgcolor": "#101126",
        "template": {
         "data": {
          "bar": [
           {
            "error_x": {
             "color": "#2a3f5f"
            },
            "error_y": {
             "color": "#2a3f5f"
            },
            "marker": {
             "line": {
              "color": "#E5ECF6",
              "width": 0.5
             }
            },
            "type": "bar"
           }
          ],
          "barpolar": [
           {
            "marker": {
             "line": {
              "color": "#E5ECF6",
              "width": 0.5
             }
            },
            "type": "barpolar"
           }
          ],
          "carpet": [
           {
            "aaxis": {
             "endlinecolor": "#2a3f5f",
             "gridcolor": "white",
             "linecolor": "white",
             "minorgridcolor": "white",
             "startlinecolor": "#2a3f5f"
            },
            "baxis": {
             "endlinecolor": "#2a3f5f",
             "gridcolor": "white",
             "linecolor": "white",
             "minorgridcolor": "white",
             "startlinecolor": "#2a3f5f"
            },
            "type": "carpet"
           }
          ],
          "choropleth": [
           {
            "colorbar": {
             "outlinewidth": 0,
             "ticks": ""
            },
            "type": "choropleth"
           }
          ],
          "contour": [
           {
            "colorbar": {
             "outlinewidth": 0,
             "ticks": ""
            },
            "colorscale": [
             [
              0,
              "#0d0887"
             ],
             [
              0.1111111111111111,
              "#46039f"
             ],
             [
              0.2222222222222222,
              "#7201a8"
             ],
             [
              0.3333333333333333,
              "#9c179e"
             ],
             [
              0.4444444444444444,
              "#bd3786"
             ],
             [
              0.5555555555555556,
              "#d8576b"
             ],
             [
              0.6666666666666666,
              "#ed7953"
             ],
             [
              0.7777777777777778,
              "#fb9f3a"
             ],
             [
              0.8888888888888888,
              "#fdca26"
             ],
             [
              1,
              "#f0f921"
             ]
            ],
            "type": "contour"
           }
          ],
          "contourcarpet": [
           {
            "colorbar": {
             "outlinewidth": 0,
             "ticks": ""
            },
            "type": "contourcarpet"
           }
          ],
          "heatmap": [
           {
            "colorbar": {
             "outlinewidth": 0,
             "ticks": ""
            },
            "colorscale": [
             [
              0,
              "#0d0887"
             ],
             [
              0.1111111111111111,
              "#46039f"
             ],
             [
              0.2222222222222222,
              "#7201a8"
             ],
             [
              0.3333333333333333,
              "#9c179e"
             ],
             [
              0.4444444444444444,
              "#bd3786"
             ],
             [
              0.5555555555555556,
              "#d8576b"
             ],
             [
              0.6666666666666666,
              "#ed7953"
             ],
             [
              0.7777777777777778,
              "#fb9f3a"
             ],
             [
              0.8888888888888888,
              "#fdca26"
             ],
             [
              1,
              "#f0f921"
             ]
            ],
            "type": "heatmap"
           }
          ],
          "heatmapgl": [
           {
            "colorbar": {
             "outlinewidth": 0,
             "ticks": ""
            },
            "colorscale": [
             [
              0,
              "#0d0887"
             ],
             [
              0.1111111111111111,
              "#46039f"
             ],
             [
              0.2222222222222222,
              "#7201a8"
             ],
             [
              0.3333333333333333,
              "#9c179e"
             ],
             [
              0.4444444444444444,
              "#bd3786"
             ],
             [
              0.5555555555555556,
              "#d8576b"
             ],
             [
              0.6666666666666666,
              "#ed7953"
             ],
             [
              0.7777777777777778,
              "#fb9f3a"
             ],
             [
              0.8888888888888888,
              "#fdca26"
             ],
             [
              1,
              "#f0f921"
             ]
            ],
            "type": "heatmapgl"
           }
          ],
          "histogram": [
           {
            "marker": {
             "colorbar": {
              "outlinewidth": 0,
              "ticks": ""
             }
            },
            "type": "histogram"
           }
          ],
          "histogram2d": [
           {
            "colorbar": {
             "outlinewidth": 0,
             "ticks": ""
            },
            "colorscale": [
             [
              0,
              "#0d0887"
             ],
             [
              0.1111111111111111,
              "#46039f"
             ],
             [
              0.2222222222222222,
              "#7201a8"
             ],
             [
              0.3333333333333333,
              "#9c179e"
             ],
             [
              0.4444444444444444,
              "#bd3786"
             ],
             [
              0.5555555555555556,
              "#d8576b"
             ],
             [
              0.6666666666666666,
              "#ed7953"
             ],
             [
              0.7777777777777778,
              "#fb9f3a"
             ],
             [
              0.8888888888888888,
              "#fdca26"
             ],
             [
              1,
              "#f0f921"
             ]
            ],
            "type": "histogram2d"
           }
          ],
          "histogram2dcontour": [
           {
            "colorbar": {
             "outlinewidth": 0,
             "ticks": ""
            },
            "colorscale": [
             [
              0,
              "#0d0887"
             ],
             [
              0.1111111111111111,
              "#46039f"
             ],
             [
              0.2222222222222222,
              "#7201a8"
             ],
             [
              0.3333333333333333,
              "#9c179e"
             ],
             [
              0.4444444444444444,
              "#bd3786"
             ],
             [
              0.5555555555555556,
              "#d8576b"
             ],
             [
              0.6666666666666666,
              "#ed7953"
             ],
             [
              0.7777777777777778,
              "#fb9f3a"
             ],
             [
              0.8888888888888888,
              "#fdca26"
             ],
             [
              1,
              "#f0f921"
             ]
            ],
            "type": "histogram2dcontour"
           }
          ],
          "mesh3d": [
           {
            "colorbar": {
             "outlinewidth": 0,
             "ticks": ""
            },
            "type": "mesh3d"
           }
          ],
          "parcoords": [
           {
            "line": {
             "colorbar": {
              "outlinewidth": 0,
              "ticks": ""
             }
            },
            "type": "parcoords"
           }
          ],
          "pie": [
           {
            "automargin": true,
            "type": "pie"
           }
          ],
          "scatter": [
           {
            "marker": {
             "colorbar": {
              "outlinewidth": 0,
              "ticks": ""
             }
            },
            "type": "scatter"
           }
          ],
          "scatter3d": [
           {
            "line": {
             "colorbar": {
              "outlinewidth": 0,
              "ticks": ""
             }
            },
            "marker": {
             "colorbar": {
              "outlinewidth": 0,
              "ticks": ""
             }
            },
            "type": "scatter3d"
           }
          ],
          "scattercarpet": [
           {
            "marker": {
             "colorbar": {
              "outlinewidth": 0,
              "ticks": ""
             }
            },
            "type": "scattercarpet"
           }
          ],
          "scattergeo": [
           {
            "marker": {
             "colorbar": {
              "outlinewidth": 0,
              "ticks": ""
             }
            },
            "type": "scattergeo"
           }
          ],
          "scattergl": [
           {
            "marker": {
             "colorbar": {
              "outlinewidth": 0,
              "ticks": ""
             }
            },
            "type": "scattergl"
           }
          ],
          "scattermapbox": [
           {
            "marker": {
             "colorbar": {
              "outlinewidth": 0,
              "ticks": ""
             }
            },
            "type": "scattermapbox"
           }
          ],
          "scatterpolar": [
           {
            "marker": {
             "colorbar": {
              "outlinewidth": 0,
              "ticks": ""
             }
            },
            "type": "scatterpolar"
           }
          ],
          "scatterpolargl": [
           {
            "marker": {
             "colorbar": {
              "outlinewidth": 0,
              "ticks": ""
             }
            },
            "type": "scatterpolargl"
           }
          ],
          "scatterternary": [
           {
            "marker": {
             "colorbar": {
              "outlinewidth": 0,
              "ticks": ""
             }
            },
            "type": "scatterternary"
           }
          ],
          "surface": [
           {
            "colorbar": {
             "outlinewidth": 0,
             "ticks": ""
            },
            "colorscale": [
             [
              0,
              "#0d0887"
             ],
             [
              0.1111111111111111,
              "#46039f"
             ],
             [
              0.2222222222222222,
              "#7201a8"
             ],
             [
              0.3333333333333333,
              "#9c179e"
             ],
             [
              0.4444444444444444,
              "#bd3786"
             ],
             [
              0.5555555555555556,
              "#d8576b"
             ],
             [
              0.6666666666666666,
              "#ed7953"
             ],
             [
              0.7777777777777778,
              "#fb9f3a"
             ],
             [
              0.8888888888888888,
              "#fdca26"
             ],
             [
              1,
              "#f0f921"
             ]
            ],
            "type": "surface"
           }
          ],
          "table": [
           {
            "cells": {
             "fill": {
              "color": "#EBF0F8"
             },
             "line": {
              "color": "white"
             }
            },
            "header": {
             "fill": {
              "color": "#C8D4E3"
             },
             "line": {
              "color": "white"
             }
            },
            "type": "table"
           }
          ]
         },
         "layout": {
          "annotationdefaults": {
           "arrowcolor": "#2a3f5f",
           "arrowhead": 0,
           "arrowwidth": 1
          },
          "autotypenumbers": "strict",
          "coloraxis": {
           "colorbar": {
            "outlinewidth": 0,
            "ticks": ""
           }
          },
          "colorscale": {
           "diverging": [
            [
             0,
             "#8e0152"
            ],
            [
             0.1,
             "#c51b7d"
            ],
            [
             0.2,
             "#de77ae"
            ],
            [
             0.3,
             "#f1b6da"
            ],
            [
             0.4,
             "#fde0ef"
            ],
            [
             0.5,
             "#f7f7f7"
            ],
            [
             0.6,
             "#e6f5d0"
            ],
            [
             0.7,
             "#b8e186"
            ],
            [
             0.8,
             "#7fbc41"
            ],
            [
             0.9,
             "#4d9221"
            ],
            [
             1,
             "#276419"
            ]
           ],
           "sequential": [
            [
             0,
             "#0d0887"
            ],
            [
             0.1111111111111111,
             "#46039f"
            ],
            [
             0.2222222222222222,
             "#7201a8"
            ],
            [
             0.3333333333333333,
             "#9c179e"
            ],
            [
             0.4444444444444444,
             "#bd3786"
            ],
            [
             0.5555555555555556,
             "#d8576b"
            ],
            [
             0.6666666666666666,
             "#ed7953"
            ],
            [
             0.7777777777777778,
             "#fb9f3a"
            ],
            [
             0.8888888888888888,
             "#fdca26"
            ],
            [
             1,
             "#f0f921"
            ]
           ],
           "sequentialminus": [
            [
             0,
             "#0d0887"
            ],
            [
             0.1111111111111111,
             "#46039f"
            ],
            [
             0.2222222222222222,
             "#7201a8"
            ],
            [
             0.3333333333333333,
             "#9c179e"
            ],
            [
             0.4444444444444444,
             "#bd3786"
            ],
            [
             0.5555555555555556,
             "#d8576b"
            ],
            [
             0.6666666666666666,
             "#ed7953"
            ],
            [
             0.7777777777777778,
             "#fb9f3a"
            ],
            [
             0.8888888888888888,
             "#fdca26"
            ],
            [
             1,
             "#f0f921"
            ]
           ]
          },
          "colorway": [
           "#636efa",
           "#EF553B",
           "#00cc96",
           "#ab63fa",
           "#FFA15A",
           "#19d3f3",
           "#FF6692",
           "#B6E880",
           "#FF97FF",
           "#FECB52"
          ],
          "font": {
           "color": "#2a3f5f"
          },
          "geo": {
           "bgcolor": "white",
           "lakecolor": "white",
           "landcolor": "#E5ECF6",
           "showlakes": true,
           "showland": true,
           "subunitcolor": "white"
          },
          "hoverlabel": {
           "align": "left"
          },
          "hovermode": "closest",
          "mapbox": {
           "style": "light"
          },
          "paper_bgcolor": "white",
          "plot_bgcolor": "#E5ECF6",
          "polar": {
           "angularaxis": {
            "gridcolor": "white",
            "linecolor": "white",
            "ticks": ""
           },
           "bgcolor": "#E5ECF6",
           "radialaxis": {
            "gridcolor": "white",
            "linecolor": "white",
            "ticks": ""
           }
          },
          "scene": {
           "xaxis": {
            "backgroundcolor": "#E5ECF6",
            "gridcolor": "white",
            "gridwidth": 2,
            "linecolor": "white",
            "showbackground": true,
            "ticks": "",
            "zerolinecolor": "white"
           },
           "yaxis": {
            "backgroundcolor": "#E5ECF6",
            "gridcolor": "white",
            "gridwidth": 2,
            "linecolor": "white",
            "showbackground": true,
            "ticks": "",
            "zerolinecolor": "white"
           },
           "zaxis": {
            "backgroundcolor": "#E5ECF6",
            "gridcolor": "white",
            "gridwidth": 2,
            "linecolor": "white",
            "showbackground": true,
            "ticks": "",
            "zerolinecolor": "white"
           }
          },
          "shapedefaults": {
           "line": {
            "color": "#2a3f5f"
           }
          },
          "ternary": {
           "aaxis": {
            "gridcolor": "white",
            "linecolor": "white",
            "ticks": ""
           },
           "baxis": {
            "gridcolor": "white",
            "linecolor": "white",
            "ticks": ""
           },
           "bgcolor": "#E5ECF6",
           "caxis": {
            "gridcolor": "white",
            "linecolor": "white",
            "ticks": ""
           }
          },
          "title": {
           "x": 0.05
          },
          "xaxis": {
           "automargin": true,
           "gridcolor": "white",
           "linecolor": "white",
           "ticks": "",
           "title": {
            "standoff": 15
           },
           "zerolinecolor": "white",
           "zerolinewidth": 2
          },
          "yaxis": {
           "automargin": true,
           "gridcolor": "white",
           "linecolor": "white",
           "ticks": "",
           "title": {
            "standoff": 15
           },
           "zerolinecolor": "white",
           "zerolinewidth": 2
          }
         }
        },
        "title": {
         "text": "<span style='font-size: 22px;'><b>Open access publications<b></span>",
         "x": 0.5
        }
       }
      },
      "text/html": [
       "<div>                            <div id=\"1f48e3c5-2761-4a1f-a0cc-ec26ff562890\" class=\"plotly-graph-div\" style=\"height:525px; width:100%;\"></div>            <script type=\"text/javascript\">                require([\"plotly\"], function(Plotly) {                    window.PLOTLYENV=window.PLOTLYENV || {};                                    if (document.getElementById(\"1f48e3c5-2761-4a1f-a0cc-ec26ff562890\")) {                    Plotly.newPlot(                        \"1f48e3c5-2761-4a1f-a0cc-ec26ff562890\",                        [{\"customdata\": [[false], [true]], \"domain\": {\"x\": [0.0, 1.0], \"y\": [0.0, 1.0]}, \"hovertemplate\": \"isOpenAccess=%{customdata[0]}<br>title=%{value}<extra></extra>\", \"labels\": [false, true], \"legendgroup\": \"\", \"marker\": {\"colors\": [\"#ab63fa\", \"#FFA15A\"]}, \"name\": \"\", \"showlegend\": true, \"type\": \"pie\", \"values\": [19, 11]}],                        {\"font\": {\"color\": \"white\", \"family\": \"Courier New, monospace\", \"size\": 14}, \"legend\": {\"tracegroupgap\": 0}, \"margin\": {\"t\": 60}, \"paper_bgcolor\": \"#101126\", \"plot_bgcolor\": \"#101126\", \"template\": {\"data\": {\"bar\": [{\"error_x\": {\"color\": \"#2a3f5f\"}, \"error_y\": {\"color\": \"#2a3f5f\"}, \"marker\": {\"line\": {\"color\": \"#E5ECF6\", \"width\": 0.5}}, \"type\": \"bar\"}], \"barpolar\": [{\"marker\": {\"line\": {\"color\": \"#E5ECF6\", \"width\": 0.5}}, \"type\": \"barpolar\"}], \"carpet\": [{\"aaxis\": {\"endlinecolor\": \"#2a3f5f\", \"gridcolor\": \"white\", \"linecolor\": \"white\", \"minorgridcolor\": \"white\", \"startlinecolor\": \"#2a3f5f\"}, \"baxis\": {\"endlinecolor\": \"#2a3f5f\", \"gridcolor\": \"white\", \"linecolor\": \"white\", \"minorgridcolor\": \"white\", \"startlinecolor\": \"#2a3f5f\"}, \"type\": \"carpet\"}], \"choropleth\": [{\"colorbar\": {\"outlinewidth\": 0, \"ticks\": \"\"}, \"type\": \"choropleth\"}], \"contour\": [{\"colorbar\": {\"outlinewidth\": 0, \"ticks\": \"\"}, \"colorscale\": [[0.0, \"#0d0887\"], [0.1111111111111111, \"#46039f\"], [0.2222222222222222, \"#7201a8\"], [0.3333333333333333, \"#9c179e\"], [0.4444444444444444, \"#bd3786\"], [0.5555555555555556, \"#d8576b\"], [0.6666666666666666, \"#ed7953\"], [0.7777777777777778, \"#fb9f3a\"], [0.8888888888888888, \"#fdca26\"], [1.0, \"#f0f921\"]], \"type\": \"contour\"}], \"contourcarpet\": [{\"colorbar\": {\"outlinewidth\": 0, \"ticks\": \"\"}, \"type\": \"contourcarpet\"}], \"heatmap\": [{\"colorbar\": {\"outlinewidth\": 0, \"ticks\": \"\"}, \"colorscale\": [[0.0, \"#0d0887\"], [0.1111111111111111, \"#46039f\"], [0.2222222222222222, \"#7201a8\"], [0.3333333333333333, \"#9c179e\"], [0.4444444444444444, \"#bd3786\"], [0.5555555555555556, \"#d8576b\"], [0.6666666666666666, \"#ed7953\"], [0.7777777777777778, \"#fb9f3a\"], [0.8888888888888888, \"#fdca26\"], [1.0, \"#f0f921\"]], \"type\": \"heatmap\"}], \"heatmapgl\": [{\"colorbar\": {\"outlinewidth\": 0, \"ticks\": \"\"}, \"colorscale\": [[0.0, \"#0d0887\"], [0.1111111111111111, \"#46039f\"], [0.2222222222222222, \"#7201a8\"], [0.3333333333333333, \"#9c179e\"], [0.4444444444444444, \"#bd3786\"], [0.5555555555555556, \"#d8576b\"], [0.6666666666666666, \"#ed7953\"], [0.7777777777777778, \"#fb9f3a\"], [0.8888888888888888, \"#fdca26\"], [1.0, \"#f0f921\"]], \"type\": \"heatmapgl\"}], \"histogram\": [{\"marker\": {\"colorbar\": {\"outlinewidth\": 0, \"ticks\": \"\"}}, \"type\": \"histogram\"}], \"histogram2d\": [{\"colorbar\": {\"outlinewidth\": 0, \"ticks\": \"\"}, \"colorscale\": [[0.0, \"#0d0887\"], [0.1111111111111111, \"#46039f\"], [0.2222222222222222, \"#7201a8\"], [0.3333333333333333, \"#9c179e\"], [0.4444444444444444, \"#bd3786\"], [0.5555555555555556, \"#d8576b\"], [0.6666666666666666, \"#ed7953\"], [0.7777777777777778, \"#fb9f3a\"], [0.8888888888888888, \"#fdca26\"], [1.0, \"#f0f921\"]], \"type\": \"histogram2d\"}], \"histogram2dcontour\": [{\"colorbar\": {\"outlinewidth\": 0, \"ticks\": \"\"}, \"colorscale\": [[0.0, \"#0d0887\"], [0.1111111111111111, \"#46039f\"], [0.2222222222222222, \"#7201a8\"], [0.3333333333333333, \"#9c179e\"], [0.4444444444444444, \"#bd3786\"], [0.5555555555555556, \"#d8576b\"], [0.6666666666666666, \"#ed7953\"], [0.7777777777777778, \"#fb9f3a\"], [0.8888888888888888, \"#fdca26\"], [1.0, \"#f0f921\"]], \"type\": \"histogram2dcontour\"}], \"mesh3d\": [{\"colorbar\": {\"outlinewidth\": 0, \"ticks\": \"\"}, \"type\": \"mesh3d\"}], \"parcoords\": [{\"line\": {\"colorbar\": {\"outlinewidth\": 0, \"ticks\": \"\"}}, \"type\": \"parcoords\"}], \"pie\": [{\"automargin\": true, \"type\": \"pie\"}], \"scatter\": [{\"marker\": {\"colorbar\": {\"outlinewidth\": 0, \"ticks\": \"\"}}, \"type\": \"scatter\"}], \"scatter3d\": [{\"line\": {\"colorbar\": {\"outlinewidth\": 0, \"ticks\": \"\"}}, \"marker\": {\"colorbar\": {\"outlinewidth\": 0, \"ticks\": \"\"}}, \"type\": \"scatter3d\"}], \"scattercarpet\": [{\"marker\": {\"colorbar\": {\"outlinewidth\": 0, \"ticks\": \"\"}}, \"type\": \"scattercarpet\"}], \"scattergeo\": [{\"marker\": {\"colorbar\": {\"outlinewidth\": 0, \"ticks\": \"\"}}, \"type\": \"scattergeo\"}], \"scattergl\": [{\"marker\": {\"colorbar\": {\"outlinewidth\": 0, \"ticks\": \"\"}}, \"type\": \"scattergl\"}], \"scattermapbox\": [{\"marker\": {\"colorbar\": {\"outlinewidth\": 0, \"ticks\": \"\"}}, \"type\": \"scattermapbox\"}], \"scatterpolar\": [{\"marker\": {\"colorbar\": {\"outlinewidth\": 0, \"ticks\": \"\"}}, \"type\": \"scatterpolar\"}], \"scatterpolargl\": [{\"marker\": {\"colorbar\": {\"outlinewidth\": 0, \"ticks\": \"\"}}, \"type\": \"scatterpolargl\"}], \"scatterternary\": [{\"marker\": {\"colorbar\": {\"outlinewidth\": 0, \"ticks\": \"\"}}, \"type\": \"scatterternary\"}], \"surface\": [{\"colorbar\": {\"outlinewidth\": 0, \"ticks\": \"\"}, \"colorscale\": [[0.0, \"#0d0887\"], [0.1111111111111111, \"#46039f\"], [0.2222222222222222, \"#7201a8\"], [0.3333333333333333, \"#9c179e\"], [0.4444444444444444, \"#bd3786\"], [0.5555555555555556, \"#d8576b\"], [0.6666666666666666, \"#ed7953\"], [0.7777777777777778, \"#fb9f3a\"], [0.8888888888888888, \"#fdca26\"], [1.0, \"#f0f921\"]], \"type\": \"surface\"}], \"table\": [{\"cells\": {\"fill\": {\"color\": \"#EBF0F8\"}, \"line\": {\"color\": \"white\"}}, \"header\": {\"fill\": {\"color\": \"#C8D4E3\"}, \"line\": {\"color\": \"white\"}}, \"type\": \"table\"}]}, \"layout\": {\"annotationdefaults\": {\"arrowcolor\": \"#2a3f5f\", \"arrowhead\": 0, \"arrowwidth\": 1}, \"autotypenumbers\": \"strict\", \"coloraxis\": {\"colorbar\": {\"outlinewidth\": 0, \"ticks\": \"\"}}, \"colorscale\": {\"diverging\": [[0, \"#8e0152\"], [0.1, \"#c51b7d\"], [0.2, \"#de77ae\"], [0.3, \"#f1b6da\"], [0.4, \"#fde0ef\"], [0.5, \"#f7f7f7\"], [0.6, \"#e6f5d0\"], [0.7, \"#b8e186\"], [0.8, \"#7fbc41\"], [0.9, \"#4d9221\"], [1, \"#276419\"]], \"sequential\": [[0.0, \"#0d0887\"], [0.1111111111111111, \"#46039f\"], [0.2222222222222222, \"#7201a8\"], [0.3333333333333333, \"#9c179e\"], [0.4444444444444444, \"#bd3786\"], [0.5555555555555556, \"#d8576b\"], [0.6666666666666666, \"#ed7953\"], [0.7777777777777778, \"#fb9f3a\"], [0.8888888888888888, \"#fdca26\"], [1.0, \"#f0f921\"]], \"sequentialminus\": [[0.0, \"#0d0887\"], [0.1111111111111111, \"#46039f\"], [0.2222222222222222, \"#7201a8\"], [0.3333333333333333, \"#9c179e\"], [0.4444444444444444, \"#bd3786\"], [0.5555555555555556, \"#d8576b\"], [0.6666666666666666, \"#ed7953\"], [0.7777777777777778, \"#fb9f3a\"], [0.8888888888888888, \"#fdca26\"], [1.0, \"#f0f921\"]]}, \"colorway\": [\"#636efa\", \"#EF553B\", \"#00cc96\", \"#ab63fa\", \"#FFA15A\", \"#19d3f3\", \"#FF6692\", \"#B6E880\", \"#FF97FF\", \"#FECB52\"], \"font\": {\"color\": \"#2a3f5f\"}, \"geo\": {\"bgcolor\": \"white\", \"lakecolor\": \"white\", \"landcolor\": \"#E5ECF6\", \"showlakes\": true, \"showland\": true, \"subunitcolor\": \"white\"}, \"hoverlabel\": {\"align\": \"left\"}, \"hovermode\": \"closest\", \"mapbox\": {\"style\": \"light\"}, \"paper_bgcolor\": \"white\", \"plot_bgcolor\": \"#E5ECF6\", \"polar\": {\"angularaxis\": {\"gridcolor\": \"white\", \"linecolor\": \"white\", \"ticks\": \"\"}, \"bgcolor\": \"#E5ECF6\", \"radialaxis\": {\"gridcolor\": \"white\", \"linecolor\": \"white\", \"ticks\": \"\"}}, \"scene\": {\"xaxis\": {\"backgroundcolor\": \"#E5ECF6\", \"gridcolor\": \"white\", \"gridwidth\": 2, \"linecolor\": \"white\", \"showbackground\": true, \"ticks\": \"\", \"zerolinecolor\": \"white\"}, \"yaxis\": {\"backgroundcolor\": \"#E5ECF6\", \"gridcolor\": \"white\", \"gridwidth\": 2, \"linecolor\": \"white\", \"showbackground\": true, \"ticks\": \"\", \"zerolinecolor\": \"white\"}, \"zaxis\": {\"backgroundcolor\": \"#E5ECF6\", \"gridcolor\": \"white\", \"gridwidth\": 2, \"linecolor\": \"white\", \"showbackground\": true, \"ticks\": \"\", \"zerolinecolor\": \"white\"}}, \"shapedefaults\": {\"line\": {\"color\": \"#2a3f5f\"}}, \"ternary\": {\"aaxis\": {\"gridcolor\": \"white\", \"linecolor\": \"white\", \"ticks\": \"\"}, \"baxis\": {\"gridcolor\": \"white\", \"linecolor\": \"white\", \"ticks\": \"\"}, \"bgcolor\": \"#E5ECF6\", \"caxis\": {\"gridcolor\": \"white\", \"linecolor\": \"white\", \"ticks\": \"\"}}, \"title\": {\"x\": 0.05}, \"xaxis\": {\"automargin\": true, \"gridcolor\": \"white\", \"linecolor\": \"white\", \"ticks\": \"\", \"title\": {\"standoff\": 15}, \"zerolinecolor\": \"white\", \"zerolinewidth\": 2}, \"yaxis\": {\"automargin\": true, \"gridcolor\": \"white\", \"linecolor\": \"white\", \"ticks\": \"\", \"title\": {\"standoff\": 15}, \"zerolinecolor\": \"white\", \"zerolinewidth\": 2}}}, \"title\": {\"text\": \"<span style='font-size: 22px;'><b>Open access publications<b></span>\", \"x\": 0.5}},                        {\"responsive\": true}                    ).then(function(){\n",
       "                            \n",
       "var gd = document.getElementById('1f48e3c5-2761-4a1f-a0cc-ec26ff562890');\n",
       "var x = new MutationObserver(function (mutations, observer) {{\n",
       "        var display = window.getComputedStyle(gd).display;\n",
       "        if (!display || display === 'none') {{\n",
       "            console.log([gd, 'removed!']);\n",
       "            Plotly.purge(gd);\n",
       "            observer.disconnect();\n",
       "        }}\n",
       "}});\n",
       "\n",
       "// Listen for the removal of the full notebook cells\n",
       "var notebookContainer = gd.closest('#notebook-container');\n",
       "if (notebookContainer) {{\n",
       "    x.observe(notebookContainer, {childList: true});\n",
       "}}\n",
       "\n",
       "// Listen for the clearing of the current output cell\n",
       "var outputEl = gd.closest('.output');\n",
       "if (outputEl) {{\n",
       "    x.observe(outputEl, {childList: true});\n",
       "}}\n",
       "\n",
       "                        })                };                });            </script>        </div>"
      ]
     },
     "metadata": {},
     "output_type": "display_data"
    }
   ],
   "source": [
    "plots.make_access_pie(results_df, 'semantic_scholar')"
   ]
  },
  {
   "cell_type": "code",
   "execution_count": 65,
   "id": "98e761a7",
   "metadata": {
    "hidden": true
   },
   "outputs": [
    {
     "data": {
      "application/vnd.plotly.v1+json": {
       "config": {
        "plotlyServerURL": "https://plot.ly"
       },
       "data": [
        {
         "marker": {
          "color": "#eda109"
         },
         "textangle": 0,
         "textposition": "outside",
         "texttemplate": "%{y}",
         "type": "bar",
         "x": [
          2011,
          2013,
          2014,
          2015,
          2016,
          2017,
          2018,
          2019,
          2020,
          2021
         ],
         "y": [
          1,
          2,
          1,
          1,
          6,
          4,
          8,
          2,
          4,
          1
         ]
        }
       ],
       "layout": {
        "font": {
         "color": "white",
         "family": "Courier New, monospace",
         "size": 12
        },
        "paper_bgcolor": "#101126",
        "plot_bgcolor": "#101126",
        "template": {
         "data": {
          "bar": [
           {
            "error_x": {
             "color": "#2a3f5f"
            },
            "error_y": {
             "color": "#2a3f5f"
            },
            "marker": {
             "line": {
              "color": "#E5ECF6",
              "width": 0.5
             }
            },
            "type": "bar"
           }
          ],
          "barpolar": [
           {
            "marker": {
             "line": {
              "color": "#E5ECF6",
              "width": 0.5
             }
            },
            "type": "barpolar"
           }
          ],
          "carpet": [
           {
            "aaxis": {
             "endlinecolor": "#2a3f5f",
             "gridcolor": "white",
             "linecolor": "white",
             "minorgridcolor": "white",
             "startlinecolor": "#2a3f5f"
            },
            "baxis": {
             "endlinecolor": "#2a3f5f",
             "gridcolor": "white",
             "linecolor": "white",
             "minorgridcolor": "white",
             "startlinecolor": "#2a3f5f"
            },
            "type": "carpet"
           }
          ],
          "choropleth": [
           {
            "colorbar": {
             "outlinewidth": 0,
             "ticks": ""
            },
            "type": "choropleth"
           }
          ],
          "contour": [
           {
            "colorbar": {
             "outlinewidth": 0,
             "ticks": ""
            },
            "colorscale": [
             [
              0,
              "#0d0887"
             ],
             [
              0.1111111111111111,
              "#46039f"
             ],
             [
              0.2222222222222222,
              "#7201a8"
             ],
             [
              0.3333333333333333,
              "#9c179e"
             ],
             [
              0.4444444444444444,
              "#bd3786"
             ],
             [
              0.5555555555555556,
              "#d8576b"
             ],
             [
              0.6666666666666666,
              "#ed7953"
             ],
             [
              0.7777777777777778,
              "#fb9f3a"
             ],
             [
              0.8888888888888888,
              "#fdca26"
             ],
             [
              1,
              "#f0f921"
             ]
            ],
            "type": "contour"
           }
          ],
          "contourcarpet": [
           {
            "colorbar": {
             "outlinewidth": 0,
             "ticks": ""
            },
            "type": "contourcarpet"
           }
          ],
          "heatmap": [
           {
            "colorbar": {
             "outlinewidth": 0,
             "ticks": ""
            },
            "colorscale": [
             [
              0,
              "#0d0887"
             ],
             [
              0.1111111111111111,
              "#46039f"
             ],
             [
              0.2222222222222222,
              "#7201a8"
             ],
             [
              0.3333333333333333,
              "#9c179e"
             ],
             [
              0.4444444444444444,
              "#bd3786"
             ],
             [
              0.5555555555555556,
              "#d8576b"
             ],
             [
              0.6666666666666666,
              "#ed7953"
             ],
             [
              0.7777777777777778,
              "#fb9f3a"
             ],
             [
              0.8888888888888888,
              "#fdca26"
             ],
             [
              1,
              "#f0f921"
             ]
            ],
            "type": "heatmap"
           }
          ],
          "heatmapgl": [
           {
            "colorbar": {
             "outlinewidth": 0,
             "ticks": ""
            },
            "colorscale": [
             [
              0,
              "#0d0887"
             ],
             [
              0.1111111111111111,
              "#46039f"
             ],
             [
              0.2222222222222222,
              "#7201a8"
             ],
             [
              0.3333333333333333,
              "#9c179e"
             ],
             [
              0.4444444444444444,
              "#bd3786"
             ],
             [
              0.5555555555555556,
              "#d8576b"
             ],
             [
              0.6666666666666666,
              "#ed7953"
             ],
             [
              0.7777777777777778,
              "#fb9f3a"
             ],
             [
              0.8888888888888888,
              "#fdca26"
             ],
             [
              1,
              "#f0f921"
             ]
            ],
            "type": "heatmapgl"
           }
          ],
          "histogram": [
           {
            "marker": {
             "colorbar": {
              "outlinewidth": 0,
              "ticks": ""
             }
            },
            "type": "histogram"
           }
          ],
          "histogram2d": [
           {
            "colorbar": {
             "outlinewidth": 0,
             "ticks": ""
            },
            "colorscale": [
             [
              0,
              "#0d0887"
             ],
             [
              0.1111111111111111,
              "#46039f"
             ],
             [
              0.2222222222222222,
              "#7201a8"
             ],
             [
              0.3333333333333333,
              "#9c179e"
             ],
             [
              0.4444444444444444,
              "#bd3786"
             ],
             [
              0.5555555555555556,
              "#d8576b"
             ],
             [
              0.6666666666666666,
              "#ed7953"
             ],
             [
              0.7777777777777778,
              "#fb9f3a"
             ],
             [
              0.8888888888888888,
              "#fdca26"
             ],
             [
              1,
              "#f0f921"
             ]
            ],
            "type": "histogram2d"
           }
          ],
          "histogram2dcontour": [
           {
            "colorbar": {
             "outlinewidth": 0,
             "ticks": ""
            },
            "colorscale": [
             [
              0,
              "#0d0887"
             ],
             [
              0.1111111111111111,
              "#46039f"
             ],
             [
              0.2222222222222222,
              "#7201a8"
             ],
             [
              0.3333333333333333,
              "#9c179e"
             ],
             [
              0.4444444444444444,
              "#bd3786"
             ],
             [
              0.5555555555555556,
              "#d8576b"
             ],
             [
              0.6666666666666666,
              "#ed7953"
             ],
             [
              0.7777777777777778,
              "#fb9f3a"
             ],
             [
              0.8888888888888888,
              "#fdca26"
             ],
             [
              1,
              "#f0f921"
             ]
            ],
            "type": "histogram2dcontour"
           }
          ],
          "mesh3d": [
           {
            "colorbar": {
             "outlinewidth": 0,
             "ticks": ""
            },
            "type": "mesh3d"
           }
          ],
          "parcoords": [
           {
            "line": {
             "colorbar": {
              "outlinewidth": 0,
              "ticks": ""
             }
            },
            "type": "parcoords"
           }
          ],
          "pie": [
           {
            "automargin": true,
            "type": "pie"
           }
          ],
          "scatter": [
           {
            "marker": {
             "colorbar": {
              "outlinewidth": 0,
              "ticks": ""
             }
            },
            "type": "scatter"
           }
          ],
          "scatter3d": [
           {
            "line": {
             "colorbar": {
              "outlinewidth": 0,
              "ticks": ""
             }
            },
            "marker": {
             "colorbar": {
              "outlinewidth": 0,
              "ticks": ""
             }
            },
            "type": "scatter3d"
           }
          ],
          "scattercarpet": [
           {
            "marker": {
             "colorbar": {
              "outlinewidth": 0,
              "ticks": ""
             }
            },
            "type": "scattercarpet"
           }
          ],
          "scattergeo": [
           {
            "marker": {
             "colorbar": {
              "outlinewidth": 0,
              "ticks": ""
             }
            },
            "type": "scattergeo"
           }
          ],
          "scattergl": [
           {
            "marker": {
             "colorbar": {
              "outlinewidth": 0,
              "ticks": ""
             }
            },
            "type": "scattergl"
           }
          ],
          "scattermapbox": [
           {
            "marker": {
             "colorbar": {
              "outlinewidth": 0,
              "ticks": ""
             }
            },
            "type": "scattermapbox"
           }
          ],
          "scatterpolar": [
           {
            "marker": {
             "colorbar": {
              "outlinewidth": 0,
              "ticks": ""
             }
            },
            "type": "scatterpolar"
           }
          ],
          "scatterpolargl": [
           {
            "marker": {
             "colorbar": {
              "outlinewidth": 0,
              "ticks": ""
             }
            },
            "type": "scatterpolargl"
           }
          ],
          "scatterternary": [
           {
            "marker": {
             "colorbar": {
              "outlinewidth": 0,
              "ticks": ""
             }
            },
            "type": "scatterternary"
           }
          ],
          "surface": [
           {
            "colorbar": {
             "outlinewidth": 0,
             "ticks": ""
            },
            "colorscale": [
             [
              0,
              "#0d0887"
             ],
             [
              0.1111111111111111,
              "#46039f"
             ],
             [
              0.2222222222222222,
              "#7201a8"
             ],
             [
              0.3333333333333333,
              "#9c179e"
             ],
             [
              0.4444444444444444,
              "#bd3786"
             ],
             [
              0.5555555555555556,
              "#d8576b"
             ],
             [
              0.6666666666666666,
              "#ed7953"
             ],
             [
              0.7777777777777778,
              "#fb9f3a"
             ],
             [
              0.8888888888888888,
              "#fdca26"
             ],
             [
              1,
              "#f0f921"
             ]
            ],
            "type": "surface"
           }
          ],
          "table": [
           {
            "cells": {
             "fill": {
              "color": "#EBF0F8"
             },
             "line": {
              "color": "white"
             }
            },
            "header": {
             "fill": {
              "color": "#C8D4E3"
             },
             "line": {
              "color": "white"
             }
            },
            "type": "table"
           }
          ]
         },
         "layout": {
          "annotationdefaults": {
           "arrowcolor": "#2a3f5f",
           "arrowhead": 0,
           "arrowwidth": 1
          },
          "autotypenumbers": "strict",
          "coloraxis": {
           "colorbar": {
            "outlinewidth": 0,
            "ticks": ""
           }
          },
          "colorscale": {
           "diverging": [
            [
             0,
             "#8e0152"
            ],
            [
             0.1,
             "#c51b7d"
            ],
            [
             0.2,
             "#de77ae"
            ],
            [
             0.3,
             "#f1b6da"
            ],
            [
             0.4,
             "#fde0ef"
            ],
            [
             0.5,
             "#f7f7f7"
            ],
            [
             0.6,
             "#e6f5d0"
            ],
            [
             0.7,
             "#b8e186"
            ],
            [
             0.8,
             "#7fbc41"
            ],
            [
             0.9,
             "#4d9221"
            ],
            [
             1,
             "#276419"
            ]
           ],
           "sequential": [
            [
             0,
             "#0d0887"
            ],
            [
             0.1111111111111111,
             "#46039f"
            ],
            [
             0.2222222222222222,
             "#7201a8"
            ],
            [
             0.3333333333333333,
             "#9c179e"
            ],
            [
             0.4444444444444444,
             "#bd3786"
            ],
            [
             0.5555555555555556,
             "#d8576b"
            ],
            [
             0.6666666666666666,
             "#ed7953"
            ],
            [
             0.7777777777777778,
             "#fb9f3a"
            ],
            [
             0.8888888888888888,
             "#fdca26"
            ],
            [
             1,
             "#f0f921"
            ]
           ],
           "sequentialminus": [
            [
             0,
             "#0d0887"
            ],
            [
             0.1111111111111111,
             "#46039f"
            ],
            [
             0.2222222222222222,
             "#7201a8"
            ],
            [
             0.3333333333333333,
             "#9c179e"
            ],
            [
             0.4444444444444444,
             "#bd3786"
            ],
            [
             0.5555555555555556,
             "#d8576b"
            ],
            [
             0.6666666666666666,
             "#ed7953"
            ],
            [
             0.7777777777777778,
             "#fb9f3a"
            ],
            [
             0.8888888888888888,
             "#fdca26"
            ],
            [
             1,
             "#f0f921"
            ]
           ]
          },
          "colorway": [
           "#636efa",
           "#EF553B",
           "#00cc96",
           "#ab63fa",
           "#FFA15A",
           "#19d3f3",
           "#FF6692",
           "#B6E880",
           "#FF97FF",
           "#FECB52"
          ],
          "font": {
           "color": "#2a3f5f"
          },
          "geo": {
           "bgcolor": "white",
           "lakecolor": "white",
           "landcolor": "#E5ECF6",
           "showlakes": true,
           "showland": true,
           "subunitcolor": "white"
          },
          "hoverlabel": {
           "align": "left"
          },
          "hovermode": "closest",
          "mapbox": {
           "style": "light"
          },
          "paper_bgcolor": "white",
          "plot_bgcolor": "#E5ECF6",
          "polar": {
           "angularaxis": {
            "gridcolor": "white",
            "linecolor": "white",
            "ticks": ""
           },
           "bgcolor": "#E5ECF6",
           "radialaxis": {
            "gridcolor": "white",
            "linecolor": "white",
            "ticks": ""
           }
          },
          "scene": {
           "xaxis": {
            "backgroundcolor": "#E5ECF6",
            "gridcolor": "white",
            "gridwidth": 2,
            "linecolor": "white",
            "showbackground": true,
            "ticks": "",
            "zerolinecolor": "white"
           },
           "yaxis": {
            "backgroundcolor": "#E5ECF6",
            "gridcolor": "white",
            "gridwidth": 2,
            "linecolor": "white",
            "showbackground": true,
            "ticks": "",
            "zerolinecolor": "white"
           },
           "zaxis": {
            "backgroundcolor": "#E5ECF6",
            "gridcolor": "white",
            "gridwidth": 2,
            "linecolor": "white",
            "showbackground": true,
            "ticks": "",
            "zerolinecolor": "white"
           }
          },
          "shapedefaults": {
           "line": {
            "color": "#2a3f5f"
           }
          },
          "ternary": {
           "aaxis": {
            "gridcolor": "white",
            "linecolor": "white",
            "ticks": ""
           },
           "baxis": {
            "gridcolor": "white",
            "linecolor": "white",
            "ticks": ""
           },
           "bgcolor": "#E5ECF6",
           "caxis": {
            "gridcolor": "white",
            "linecolor": "white",
            "ticks": ""
           }
          },
          "title": {
           "x": 0.05
          },
          "xaxis": {
           "automargin": true,
           "gridcolor": "white",
           "linecolor": "white",
           "ticks": "",
           "title": {
            "standoff": 15
           },
           "zerolinecolor": "white",
           "zerolinewidth": 2
          },
          "yaxis": {
           "automargin": true,
           "gridcolor": "white",
           "linecolor": "white",
           "ticks": "",
           "title": {
            "standoff": 15
           },
           "zerolinecolor": "white",
           "zerolinewidth": 2
          }
         }
        },
        "title": {
         "text": "<span style='font-size: 22px;'><b>Publications per Year<b></span>",
         "x": 0.5
        },
        "xaxis": {
         "range": [
          2006,
          2027
         ],
         "title": {
          "text": "Year"
         }
        },
        "yaxis": {
         "range": [
          0,
          8.8
         ],
         "title": {
          "text": "Number of Publications"
         }
        }
       }
      },
      "text/html": [
       "<div>                            <div id=\"eb220fc2-76da-4525-a71a-f929ca515f0b\" class=\"plotly-graph-div\" style=\"height:525px; width:100%;\"></div>            <script type=\"text/javascript\">                require([\"plotly\"], function(Plotly) {                    window.PLOTLYENV=window.PLOTLYENV || {};                                    if (document.getElementById(\"eb220fc2-76da-4525-a71a-f929ca515f0b\")) {                    Plotly.newPlot(                        \"eb220fc2-76da-4525-a71a-f929ca515f0b\",                        [{\"marker\": {\"color\": \"#eda109\"}, \"textangle\": 0, \"textposition\": \"outside\", \"texttemplate\": \"%{y}\", \"type\": \"bar\", \"x\": [2011, 2013, 2014, 2015, 2016, 2017, 2018, 2019, 2020, 2021], \"y\": [1, 2, 1, 1, 6, 4, 8, 2, 4, 1]}],                        {\"font\": {\"color\": \"white\", \"family\": \"Courier New, monospace\", \"size\": 12}, \"paper_bgcolor\": \"#101126\", \"plot_bgcolor\": \"#101126\", \"template\": {\"data\": {\"bar\": [{\"error_x\": {\"color\": \"#2a3f5f\"}, \"error_y\": {\"color\": \"#2a3f5f\"}, \"marker\": {\"line\": {\"color\": \"#E5ECF6\", \"width\": 0.5}}, \"type\": \"bar\"}], \"barpolar\": [{\"marker\": {\"line\": {\"color\": \"#E5ECF6\", \"width\": 0.5}}, \"type\": \"barpolar\"}], \"carpet\": [{\"aaxis\": {\"endlinecolor\": \"#2a3f5f\", \"gridcolor\": \"white\", \"linecolor\": \"white\", \"minorgridcolor\": \"white\", \"startlinecolor\": \"#2a3f5f\"}, \"baxis\": {\"endlinecolor\": \"#2a3f5f\", \"gridcolor\": \"white\", \"linecolor\": \"white\", \"minorgridcolor\": \"white\", \"startlinecolor\": \"#2a3f5f\"}, \"type\": \"carpet\"}], \"choropleth\": [{\"colorbar\": {\"outlinewidth\": 0, \"ticks\": \"\"}, \"type\": \"choropleth\"}], \"contour\": [{\"colorbar\": {\"outlinewidth\": 0, \"ticks\": \"\"}, \"colorscale\": [[0.0, \"#0d0887\"], [0.1111111111111111, \"#46039f\"], [0.2222222222222222, \"#7201a8\"], [0.3333333333333333, \"#9c179e\"], [0.4444444444444444, \"#bd3786\"], [0.5555555555555556, \"#d8576b\"], [0.6666666666666666, \"#ed7953\"], [0.7777777777777778, \"#fb9f3a\"], [0.8888888888888888, \"#fdca26\"], [1.0, \"#f0f921\"]], \"type\": \"contour\"}], \"contourcarpet\": [{\"colorbar\": {\"outlinewidth\": 0, \"ticks\": \"\"}, \"type\": \"contourcarpet\"}], \"heatmap\": [{\"colorbar\": {\"outlinewidth\": 0, \"ticks\": \"\"}, \"colorscale\": [[0.0, \"#0d0887\"], [0.1111111111111111, \"#46039f\"], [0.2222222222222222, \"#7201a8\"], [0.3333333333333333, \"#9c179e\"], [0.4444444444444444, \"#bd3786\"], [0.5555555555555556, \"#d8576b\"], [0.6666666666666666, \"#ed7953\"], [0.7777777777777778, \"#fb9f3a\"], [0.8888888888888888, \"#fdca26\"], [1.0, \"#f0f921\"]], \"type\": \"heatmap\"}], \"heatmapgl\": [{\"colorbar\": {\"outlinewidth\": 0, \"ticks\": \"\"}, \"colorscale\": [[0.0, \"#0d0887\"], [0.1111111111111111, \"#46039f\"], [0.2222222222222222, \"#7201a8\"], [0.3333333333333333, \"#9c179e\"], [0.4444444444444444, \"#bd3786\"], [0.5555555555555556, \"#d8576b\"], [0.6666666666666666, \"#ed7953\"], [0.7777777777777778, \"#fb9f3a\"], [0.8888888888888888, \"#fdca26\"], [1.0, \"#f0f921\"]], \"type\": \"heatmapgl\"}], \"histogram\": [{\"marker\": {\"colorbar\": {\"outlinewidth\": 0, \"ticks\": \"\"}}, \"type\": \"histogram\"}], \"histogram2d\": [{\"colorbar\": {\"outlinewidth\": 0, \"ticks\": \"\"}, \"colorscale\": [[0.0, \"#0d0887\"], [0.1111111111111111, \"#46039f\"], [0.2222222222222222, \"#7201a8\"], [0.3333333333333333, \"#9c179e\"], [0.4444444444444444, \"#bd3786\"], [0.5555555555555556, \"#d8576b\"], [0.6666666666666666, \"#ed7953\"], [0.7777777777777778, \"#fb9f3a\"], [0.8888888888888888, \"#fdca26\"], [1.0, \"#f0f921\"]], \"type\": \"histogram2d\"}], \"histogram2dcontour\": [{\"colorbar\": {\"outlinewidth\": 0, \"ticks\": \"\"}, \"colorscale\": [[0.0, \"#0d0887\"], [0.1111111111111111, \"#46039f\"], [0.2222222222222222, \"#7201a8\"], [0.3333333333333333, \"#9c179e\"], [0.4444444444444444, \"#bd3786\"], [0.5555555555555556, \"#d8576b\"], [0.6666666666666666, \"#ed7953\"], [0.7777777777777778, \"#fb9f3a\"], [0.8888888888888888, \"#fdca26\"], [1.0, \"#f0f921\"]], \"type\": \"histogram2dcontour\"}], \"mesh3d\": [{\"colorbar\": {\"outlinewidth\": 0, \"ticks\": \"\"}, \"type\": \"mesh3d\"}], \"parcoords\": [{\"line\": {\"colorbar\": {\"outlinewidth\": 0, \"ticks\": \"\"}}, \"type\": \"parcoords\"}], \"pie\": [{\"automargin\": true, \"type\": \"pie\"}], \"scatter\": [{\"marker\": {\"colorbar\": {\"outlinewidth\": 0, \"ticks\": \"\"}}, \"type\": \"scatter\"}], \"scatter3d\": [{\"line\": {\"colorbar\": {\"outlinewidth\": 0, \"ticks\": \"\"}}, \"marker\": {\"colorbar\": {\"outlinewidth\": 0, \"ticks\": \"\"}}, \"type\": \"scatter3d\"}], \"scattercarpet\": [{\"marker\": {\"colorbar\": {\"outlinewidth\": 0, \"ticks\": \"\"}}, \"type\": \"scattercarpet\"}], \"scattergeo\": [{\"marker\": {\"colorbar\": {\"outlinewidth\": 0, \"ticks\": \"\"}}, \"type\": \"scattergeo\"}], \"scattergl\": [{\"marker\": {\"colorbar\": {\"outlinewidth\": 0, \"ticks\": \"\"}}, \"type\": \"scattergl\"}], \"scattermapbox\": [{\"marker\": {\"colorbar\": {\"outlinewidth\": 0, \"ticks\": \"\"}}, \"type\": \"scattermapbox\"}], \"scatterpolar\": [{\"marker\": {\"colorbar\": {\"outlinewidth\": 0, \"ticks\": \"\"}}, \"type\": \"scatterpolar\"}], \"scatterpolargl\": [{\"marker\": {\"colorbar\": {\"outlinewidth\": 0, \"ticks\": \"\"}}, \"type\": \"scatterpolargl\"}], \"scatterternary\": [{\"marker\": {\"colorbar\": {\"outlinewidth\": 0, \"ticks\": \"\"}}, \"type\": \"scatterternary\"}], \"surface\": [{\"colorbar\": {\"outlinewidth\": 0, \"ticks\": \"\"}, \"colorscale\": [[0.0, \"#0d0887\"], [0.1111111111111111, \"#46039f\"], [0.2222222222222222, \"#7201a8\"], [0.3333333333333333, \"#9c179e\"], [0.4444444444444444, \"#bd3786\"], [0.5555555555555556, \"#d8576b\"], [0.6666666666666666, \"#ed7953\"], [0.7777777777777778, \"#fb9f3a\"], [0.8888888888888888, \"#fdca26\"], [1.0, \"#f0f921\"]], \"type\": \"surface\"}], \"table\": [{\"cells\": {\"fill\": {\"color\": \"#EBF0F8\"}, \"line\": {\"color\": \"white\"}}, \"header\": {\"fill\": {\"color\": \"#C8D4E3\"}, \"line\": {\"color\": \"white\"}}, \"type\": \"table\"}]}, \"layout\": {\"annotationdefaults\": {\"arrowcolor\": \"#2a3f5f\", \"arrowhead\": 0, \"arrowwidth\": 1}, \"autotypenumbers\": \"strict\", \"coloraxis\": {\"colorbar\": {\"outlinewidth\": 0, \"ticks\": \"\"}}, \"colorscale\": {\"diverging\": [[0, \"#8e0152\"], [0.1, \"#c51b7d\"], [0.2, \"#de77ae\"], [0.3, \"#f1b6da\"], [0.4, \"#fde0ef\"], [0.5, \"#f7f7f7\"], [0.6, \"#e6f5d0\"], [0.7, \"#b8e186\"], [0.8, \"#7fbc41\"], [0.9, \"#4d9221\"], [1, \"#276419\"]], \"sequential\": [[0.0, \"#0d0887\"], [0.1111111111111111, \"#46039f\"], [0.2222222222222222, \"#7201a8\"], [0.3333333333333333, \"#9c179e\"], [0.4444444444444444, \"#bd3786\"], [0.5555555555555556, \"#d8576b\"], [0.6666666666666666, \"#ed7953\"], [0.7777777777777778, \"#fb9f3a\"], [0.8888888888888888, \"#fdca26\"], [1.0, \"#f0f921\"]], \"sequentialminus\": [[0.0, \"#0d0887\"], [0.1111111111111111, \"#46039f\"], [0.2222222222222222, \"#7201a8\"], [0.3333333333333333, \"#9c179e\"], [0.4444444444444444, \"#bd3786\"], [0.5555555555555556, \"#d8576b\"], [0.6666666666666666, \"#ed7953\"], [0.7777777777777778, \"#fb9f3a\"], [0.8888888888888888, \"#fdca26\"], [1.0, \"#f0f921\"]]}, \"colorway\": [\"#636efa\", \"#EF553B\", \"#00cc96\", \"#ab63fa\", \"#FFA15A\", \"#19d3f3\", \"#FF6692\", \"#B6E880\", \"#FF97FF\", \"#FECB52\"], \"font\": {\"color\": \"#2a3f5f\"}, \"geo\": {\"bgcolor\": \"white\", \"lakecolor\": \"white\", \"landcolor\": \"#E5ECF6\", \"showlakes\": true, \"showland\": true, \"subunitcolor\": \"white\"}, \"hoverlabel\": {\"align\": \"left\"}, \"hovermode\": \"closest\", \"mapbox\": {\"style\": \"light\"}, \"paper_bgcolor\": \"white\", \"plot_bgcolor\": \"#E5ECF6\", \"polar\": {\"angularaxis\": {\"gridcolor\": \"white\", \"linecolor\": \"white\", \"ticks\": \"\"}, \"bgcolor\": \"#E5ECF6\", \"radialaxis\": {\"gridcolor\": \"white\", \"linecolor\": \"white\", \"ticks\": \"\"}}, \"scene\": {\"xaxis\": {\"backgroundcolor\": \"#E5ECF6\", \"gridcolor\": \"white\", \"gridwidth\": 2, \"linecolor\": \"white\", \"showbackground\": true, \"ticks\": \"\", \"zerolinecolor\": \"white\"}, \"yaxis\": {\"backgroundcolor\": \"#E5ECF6\", \"gridcolor\": \"white\", \"gridwidth\": 2, \"linecolor\": \"white\", \"showbackground\": true, \"ticks\": \"\", \"zerolinecolor\": \"white\"}, \"zaxis\": {\"backgroundcolor\": \"#E5ECF6\", \"gridcolor\": \"white\", \"gridwidth\": 2, \"linecolor\": \"white\", \"showbackground\": true, \"ticks\": \"\", \"zerolinecolor\": \"white\"}}, \"shapedefaults\": {\"line\": {\"color\": \"#2a3f5f\"}}, \"ternary\": {\"aaxis\": {\"gridcolor\": \"white\", \"linecolor\": \"white\", \"ticks\": \"\"}, \"baxis\": {\"gridcolor\": \"white\", \"linecolor\": \"white\", \"ticks\": \"\"}, \"bgcolor\": \"#E5ECF6\", \"caxis\": {\"gridcolor\": \"white\", \"linecolor\": \"white\", \"ticks\": \"\"}}, \"title\": {\"x\": 0.05}, \"xaxis\": {\"automargin\": true, \"gridcolor\": \"white\", \"linecolor\": \"white\", \"ticks\": \"\", \"title\": {\"standoff\": 15}, \"zerolinecolor\": \"white\", \"zerolinewidth\": 2}, \"yaxis\": {\"automargin\": true, \"gridcolor\": \"white\", \"linecolor\": \"white\", \"ticks\": \"\", \"title\": {\"standoff\": 15}, \"zerolinecolor\": \"white\", \"zerolinewidth\": 2}}}, \"title\": {\"text\": \"<span style='font-size: 22px;'><b>Publications per Year<b></span>\", \"x\": 0.5}, \"xaxis\": {\"range\": [2006, 2027], \"title\": {\"text\": \"Year\"}}, \"yaxis\": {\"range\": [0, 8.8], \"title\": {\"text\": \"Number of Publications\"}}},                        {\"responsive\": true}                    ).then(function(){\n",
       "                            \n",
       "var gd = document.getElementById('eb220fc2-76da-4525-a71a-f929ca515f0b');\n",
       "var x = new MutationObserver(function (mutations, observer) {{\n",
       "        var display = window.getComputedStyle(gd).display;\n",
       "        if (!display || display === 'none') {{\n",
       "            console.log([gd, 'removed!']);\n",
       "            Plotly.purge(gd);\n",
       "            observer.disconnect();\n",
       "        }}\n",
       "}});\n",
       "\n",
       "// Listen for the removal of the full notebook cells\n",
       "var notebookContainer = gd.closest('#notebook-container');\n",
       "if (notebookContainer) {{\n",
       "    x.observe(notebookContainer, {childList: true});\n",
       "}}\n",
       "\n",
       "// Listen for the clearing of the current output cell\n",
       "var outputEl = gd.closest('.output');\n",
       "if (outputEl) {{\n",
       "    x.observe(outputEl, {childList: true});\n",
       "}}\n",
       "\n",
       "                        })                };                });            </script>        </div>"
      ]
     },
     "metadata": {},
     "output_type": "display_data"
    }
   ],
   "source": [
    "plots.make_pub_per_year(results_df, 'semantic_scholar')"
   ]
  },
  {
   "cell_type": "code",
   "execution_count": 66,
   "id": "9bf27181",
   "metadata": {
    "hidden": true
   },
   "outputs": [
    {
     "data": {
      "application/vnd.plotly.v1+json": {
       "config": {
        "plotlyServerURL": "https://plot.ly"
       },
       "data": [
        {
         "marker": {
          "color": "#eda109"
         },
         "textangle": 0,
         "textposition": "outside",
         "texttemplate": "%{y}",
         "type": "bar",
         "x": [
          2011,
          2013,
          2014,
          2015,
          2016,
          2017,
          2018,
          2019,
          2020,
          2021
         ],
         "y": [
          215,
          18,
          1,
          1,
          9,
          111,
          10,
          10,
          10,
          4
         ]
        }
       ],
       "layout": {
        "font": {
         "color": "white",
         "family": "Courier New, monospace",
         "size": 12
        },
        "paper_bgcolor": "#101126",
        "plot_bgcolor": "#101126",
        "template": {
         "data": {
          "bar": [
           {
            "error_x": {
             "color": "#2a3f5f"
            },
            "error_y": {
             "color": "#2a3f5f"
            },
            "marker": {
             "line": {
              "color": "#E5ECF6",
              "width": 0.5
             }
            },
            "type": "bar"
           }
          ],
          "barpolar": [
           {
            "marker": {
             "line": {
              "color": "#E5ECF6",
              "width": 0.5
             }
            },
            "type": "barpolar"
           }
          ],
          "carpet": [
           {
            "aaxis": {
             "endlinecolor": "#2a3f5f",
             "gridcolor": "white",
             "linecolor": "white",
             "minorgridcolor": "white",
             "startlinecolor": "#2a3f5f"
            },
            "baxis": {
             "endlinecolor": "#2a3f5f",
             "gridcolor": "white",
             "linecolor": "white",
             "minorgridcolor": "white",
             "startlinecolor": "#2a3f5f"
            },
            "type": "carpet"
           }
          ],
          "choropleth": [
           {
            "colorbar": {
             "outlinewidth": 0,
             "ticks": ""
            },
            "type": "choropleth"
           }
          ],
          "contour": [
           {
            "colorbar": {
             "outlinewidth": 0,
             "ticks": ""
            },
            "colorscale": [
             [
              0,
              "#0d0887"
             ],
             [
              0.1111111111111111,
              "#46039f"
             ],
             [
              0.2222222222222222,
              "#7201a8"
             ],
             [
              0.3333333333333333,
              "#9c179e"
             ],
             [
              0.4444444444444444,
              "#bd3786"
             ],
             [
              0.5555555555555556,
              "#d8576b"
             ],
             [
              0.6666666666666666,
              "#ed7953"
             ],
             [
              0.7777777777777778,
              "#fb9f3a"
             ],
             [
              0.8888888888888888,
              "#fdca26"
             ],
             [
              1,
              "#f0f921"
             ]
            ],
            "type": "contour"
           }
          ],
          "contourcarpet": [
           {
            "colorbar": {
             "outlinewidth": 0,
             "ticks": ""
            },
            "type": "contourcarpet"
           }
          ],
          "heatmap": [
           {
            "colorbar": {
             "outlinewidth": 0,
             "ticks": ""
            },
            "colorscale": [
             [
              0,
              "#0d0887"
             ],
             [
              0.1111111111111111,
              "#46039f"
             ],
             [
              0.2222222222222222,
              "#7201a8"
             ],
             [
              0.3333333333333333,
              "#9c179e"
             ],
             [
              0.4444444444444444,
              "#bd3786"
             ],
             [
              0.5555555555555556,
              "#d8576b"
             ],
             [
              0.6666666666666666,
              "#ed7953"
             ],
             [
              0.7777777777777778,
              "#fb9f3a"
             ],
             [
              0.8888888888888888,
              "#fdca26"
             ],
             [
              1,
              "#f0f921"
             ]
            ],
            "type": "heatmap"
           }
          ],
          "heatmapgl": [
           {
            "colorbar": {
             "outlinewidth": 0,
             "ticks": ""
            },
            "colorscale": [
             [
              0,
              "#0d0887"
             ],
             [
              0.1111111111111111,
              "#46039f"
             ],
             [
              0.2222222222222222,
              "#7201a8"
             ],
             [
              0.3333333333333333,
              "#9c179e"
             ],
             [
              0.4444444444444444,
              "#bd3786"
             ],
             [
              0.5555555555555556,
              "#d8576b"
             ],
             [
              0.6666666666666666,
              "#ed7953"
             ],
             [
              0.7777777777777778,
              "#fb9f3a"
             ],
             [
              0.8888888888888888,
              "#fdca26"
             ],
             [
              1,
              "#f0f921"
             ]
            ],
            "type": "heatmapgl"
           }
          ],
          "histogram": [
           {
            "marker": {
             "colorbar": {
              "outlinewidth": 0,
              "ticks": ""
             }
            },
            "type": "histogram"
           }
          ],
          "histogram2d": [
           {
            "colorbar": {
             "outlinewidth": 0,
             "ticks": ""
            },
            "colorscale": [
             [
              0,
              "#0d0887"
             ],
             [
              0.1111111111111111,
              "#46039f"
             ],
             [
              0.2222222222222222,
              "#7201a8"
             ],
             [
              0.3333333333333333,
              "#9c179e"
             ],
             [
              0.4444444444444444,
              "#bd3786"
             ],
             [
              0.5555555555555556,
              "#d8576b"
             ],
             [
              0.6666666666666666,
              "#ed7953"
             ],
             [
              0.7777777777777778,
              "#fb9f3a"
             ],
             [
              0.8888888888888888,
              "#fdca26"
             ],
             [
              1,
              "#f0f921"
             ]
            ],
            "type": "histogram2d"
           }
          ],
          "histogram2dcontour": [
           {
            "colorbar": {
             "outlinewidth": 0,
             "ticks": ""
            },
            "colorscale": [
             [
              0,
              "#0d0887"
             ],
             [
              0.1111111111111111,
              "#46039f"
             ],
             [
              0.2222222222222222,
              "#7201a8"
             ],
             [
              0.3333333333333333,
              "#9c179e"
             ],
             [
              0.4444444444444444,
              "#bd3786"
             ],
             [
              0.5555555555555556,
              "#d8576b"
             ],
             [
              0.6666666666666666,
              "#ed7953"
             ],
             [
              0.7777777777777778,
              "#fb9f3a"
             ],
             [
              0.8888888888888888,
              "#fdca26"
             ],
             [
              1,
              "#f0f921"
             ]
            ],
            "type": "histogram2dcontour"
           }
          ],
          "mesh3d": [
           {
            "colorbar": {
             "outlinewidth": 0,
             "ticks": ""
            },
            "type": "mesh3d"
           }
          ],
          "parcoords": [
           {
            "line": {
             "colorbar": {
              "outlinewidth": 0,
              "ticks": ""
             }
            },
            "type": "parcoords"
           }
          ],
          "pie": [
           {
            "automargin": true,
            "type": "pie"
           }
          ],
          "scatter": [
           {
            "marker": {
             "colorbar": {
              "outlinewidth": 0,
              "ticks": ""
             }
            },
            "type": "scatter"
           }
          ],
          "scatter3d": [
           {
            "line": {
             "colorbar": {
              "outlinewidth": 0,
              "ticks": ""
             }
            },
            "marker": {
             "colorbar": {
              "outlinewidth": 0,
              "ticks": ""
             }
            },
            "type": "scatter3d"
           }
          ],
          "scattercarpet": [
           {
            "marker": {
             "colorbar": {
              "outlinewidth": 0,
              "ticks": ""
             }
            },
            "type": "scattercarpet"
           }
          ],
          "scattergeo": [
           {
            "marker": {
             "colorbar": {
              "outlinewidth": 0,
              "ticks": ""
             }
            },
            "type": "scattergeo"
           }
          ],
          "scattergl": [
           {
            "marker": {
             "colorbar": {
              "outlinewidth": 0,
              "ticks": ""
             }
            },
            "type": "scattergl"
           }
          ],
          "scattermapbox": [
           {
            "marker": {
             "colorbar": {
              "outlinewidth": 0,
              "ticks": ""
             }
            },
            "type": "scattermapbox"
           }
          ],
          "scatterpolar": [
           {
            "marker": {
             "colorbar": {
              "outlinewidth": 0,
              "ticks": ""
             }
            },
            "type": "scatterpolar"
           }
          ],
          "scatterpolargl": [
           {
            "marker": {
             "colorbar": {
              "outlinewidth": 0,
              "ticks": ""
             }
            },
            "type": "scatterpolargl"
           }
          ],
          "scatterternary": [
           {
            "marker": {
             "colorbar": {
              "outlinewidth": 0,
              "ticks": ""
             }
            },
            "type": "scatterternary"
           }
          ],
          "surface": [
           {
            "colorbar": {
             "outlinewidth": 0,
             "ticks": ""
            },
            "colorscale": [
             [
              0,
              "#0d0887"
             ],
             [
              0.1111111111111111,
              "#46039f"
             ],
             [
              0.2222222222222222,
              "#7201a8"
             ],
             [
              0.3333333333333333,
              "#9c179e"
             ],
             [
              0.4444444444444444,
              "#bd3786"
             ],
             [
              0.5555555555555556,
              "#d8576b"
             ],
             [
              0.6666666666666666,
              "#ed7953"
             ],
             [
              0.7777777777777778,
              "#fb9f3a"
             ],
             [
              0.8888888888888888,
              "#fdca26"
             ],
             [
              1,
              "#f0f921"
             ]
            ],
            "type": "surface"
           }
          ],
          "table": [
           {
            "cells": {
             "fill": {
              "color": "#EBF0F8"
             },
             "line": {
              "color": "white"
             }
            },
            "header": {
             "fill": {
              "color": "#C8D4E3"
             },
             "line": {
              "color": "white"
             }
            },
            "type": "table"
           }
          ]
         },
         "layout": {
          "annotationdefaults": {
           "arrowcolor": "#2a3f5f",
           "arrowhead": 0,
           "arrowwidth": 1
          },
          "autotypenumbers": "strict",
          "coloraxis": {
           "colorbar": {
            "outlinewidth": 0,
            "ticks": ""
           }
          },
          "colorscale": {
           "diverging": [
            [
             0,
             "#8e0152"
            ],
            [
             0.1,
             "#c51b7d"
            ],
            [
             0.2,
             "#de77ae"
            ],
            [
             0.3,
             "#f1b6da"
            ],
            [
             0.4,
             "#fde0ef"
            ],
            [
             0.5,
             "#f7f7f7"
            ],
            [
             0.6,
             "#e6f5d0"
            ],
            [
             0.7,
             "#b8e186"
            ],
            [
             0.8,
             "#7fbc41"
            ],
            [
             0.9,
             "#4d9221"
            ],
            [
             1,
             "#276419"
            ]
           ],
           "sequential": [
            [
             0,
             "#0d0887"
            ],
            [
             0.1111111111111111,
             "#46039f"
            ],
            [
             0.2222222222222222,
             "#7201a8"
            ],
            [
             0.3333333333333333,
             "#9c179e"
            ],
            [
             0.4444444444444444,
             "#bd3786"
            ],
            [
             0.5555555555555556,
             "#d8576b"
            ],
            [
             0.6666666666666666,
             "#ed7953"
            ],
            [
             0.7777777777777778,
             "#fb9f3a"
            ],
            [
             0.8888888888888888,
             "#fdca26"
            ],
            [
             1,
             "#f0f921"
            ]
           ],
           "sequentialminus": [
            [
             0,
             "#0d0887"
            ],
            [
             0.1111111111111111,
             "#46039f"
            ],
            [
             0.2222222222222222,
             "#7201a8"
            ],
            [
             0.3333333333333333,
             "#9c179e"
            ],
            [
             0.4444444444444444,
             "#bd3786"
            ],
            [
             0.5555555555555556,
             "#d8576b"
            ],
            [
             0.6666666666666666,
             "#ed7953"
            ],
            [
             0.7777777777777778,
             "#fb9f3a"
            ],
            [
             0.8888888888888888,
             "#fdca26"
            ],
            [
             1,
             "#f0f921"
            ]
           ]
          },
          "colorway": [
           "#636efa",
           "#EF553B",
           "#00cc96",
           "#ab63fa",
           "#FFA15A",
           "#19d3f3",
           "#FF6692",
           "#B6E880",
           "#FF97FF",
           "#FECB52"
          ],
          "font": {
           "color": "#2a3f5f"
          },
          "geo": {
           "bgcolor": "white",
           "lakecolor": "white",
           "landcolor": "#E5ECF6",
           "showlakes": true,
           "showland": true,
           "subunitcolor": "white"
          },
          "hoverlabel": {
           "align": "left"
          },
          "hovermode": "closest",
          "mapbox": {
           "style": "light"
          },
          "paper_bgcolor": "white",
          "plot_bgcolor": "#E5ECF6",
          "polar": {
           "angularaxis": {
            "gridcolor": "white",
            "linecolor": "white",
            "ticks": ""
           },
           "bgcolor": "#E5ECF6",
           "radialaxis": {
            "gridcolor": "white",
            "linecolor": "white",
            "ticks": ""
           }
          },
          "scene": {
           "xaxis": {
            "backgroundcolor": "#E5ECF6",
            "gridcolor": "white",
            "gridwidth": 2,
            "linecolor": "white",
            "showbackground": true,
            "ticks": "",
            "zerolinecolor": "white"
           },
           "yaxis": {
            "backgroundcolor": "#E5ECF6",
            "gridcolor": "white",
            "gridwidth": 2,
            "linecolor": "white",
            "showbackground": true,
            "ticks": "",
            "zerolinecolor": "white"
           },
           "zaxis": {
            "backgroundcolor": "#E5ECF6",
            "gridcolor": "white",
            "gridwidth": 2,
            "linecolor": "white",
            "showbackground": true,
            "ticks": "",
            "zerolinecolor": "white"
           }
          },
          "shapedefaults": {
           "line": {
            "color": "#2a3f5f"
           }
          },
          "ternary": {
           "aaxis": {
            "gridcolor": "white",
            "linecolor": "white",
            "ticks": ""
           },
           "baxis": {
            "gridcolor": "white",
            "linecolor": "white",
            "ticks": ""
           },
           "bgcolor": "#E5ECF6",
           "caxis": {
            "gridcolor": "white",
            "linecolor": "white",
            "ticks": ""
           }
          },
          "title": {
           "x": 0.05
          },
          "xaxis": {
           "automargin": true,
           "gridcolor": "white",
           "linecolor": "white",
           "ticks": "",
           "title": {
            "standoff": 15
           },
           "zerolinecolor": "white",
           "zerolinewidth": 2
          },
          "yaxis": {
           "automargin": true,
           "gridcolor": "white",
           "linecolor": "white",
           "ticks": "",
           "title": {
            "standoff": 15
           },
           "zerolinecolor": "white",
           "zerolinewidth": 2
          }
         }
        },
        "title": {
         "text": "<span style='font-size: 22px;'><b>Citations per Year<b></span>",
         "x": 0.5
        },
        "xaxis": {
         "range": [
          2006,
          2027
         ],
         "title": {
          "text": "Year"
         }
        },
        "yaxis": {
         "range": [
          0,
          236.50000000000003
         ],
         "title": {
          "text": "Number of Publications"
         }
        }
       }
      },
      "text/html": [
       "<div>                            <div id=\"e5fcfe29-29d1-4b84-aa80-8d49e0b2a988\" class=\"plotly-graph-div\" style=\"height:525px; width:100%;\"></div>            <script type=\"text/javascript\">                require([\"plotly\"], function(Plotly) {                    window.PLOTLYENV=window.PLOTLYENV || {};                                    if (document.getElementById(\"e5fcfe29-29d1-4b84-aa80-8d49e0b2a988\")) {                    Plotly.newPlot(                        \"e5fcfe29-29d1-4b84-aa80-8d49e0b2a988\",                        [{\"marker\": {\"color\": \"#eda109\"}, \"textangle\": 0, \"textposition\": \"outside\", \"texttemplate\": \"%{y}\", \"type\": \"bar\", \"x\": [2011, 2013, 2014, 2015, 2016, 2017, 2018, 2019, 2020, 2021], \"y\": [215, 18, 1, 1, 9, 111, 10, 10, 10, 4]}],                        {\"font\": {\"color\": \"white\", \"family\": \"Courier New, monospace\", \"size\": 12}, \"paper_bgcolor\": \"#101126\", \"plot_bgcolor\": \"#101126\", \"template\": {\"data\": {\"bar\": [{\"error_x\": {\"color\": \"#2a3f5f\"}, \"error_y\": {\"color\": \"#2a3f5f\"}, \"marker\": {\"line\": {\"color\": \"#E5ECF6\", \"width\": 0.5}}, \"type\": \"bar\"}], \"barpolar\": [{\"marker\": {\"line\": {\"color\": \"#E5ECF6\", \"width\": 0.5}}, \"type\": \"barpolar\"}], \"carpet\": [{\"aaxis\": {\"endlinecolor\": \"#2a3f5f\", \"gridcolor\": \"white\", \"linecolor\": \"white\", \"minorgridcolor\": \"white\", \"startlinecolor\": \"#2a3f5f\"}, \"baxis\": {\"endlinecolor\": \"#2a3f5f\", \"gridcolor\": \"white\", \"linecolor\": \"white\", \"minorgridcolor\": \"white\", \"startlinecolor\": \"#2a3f5f\"}, \"type\": \"carpet\"}], \"choropleth\": [{\"colorbar\": {\"outlinewidth\": 0, \"ticks\": \"\"}, \"type\": \"choropleth\"}], \"contour\": [{\"colorbar\": {\"outlinewidth\": 0, \"ticks\": \"\"}, \"colorscale\": [[0.0, \"#0d0887\"], [0.1111111111111111, \"#46039f\"], [0.2222222222222222, \"#7201a8\"], [0.3333333333333333, \"#9c179e\"], [0.4444444444444444, \"#bd3786\"], [0.5555555555555556, \"#d8576b\"], [0.6666666666666666, \"#ed7953\"], [0.7777777777777778, \"#fb9f3a\"], [0.8888888888888888, \"#fdca26\"], [1.0, \"#f0f921\"]], \"type\": \"contour\"}], \"contourcarpet\": [{\"colorbar\": {\"outlinewidth\": 0, \"ticks\": \"\"}, \"type\": \"contourcarpet\"}], \"heatmap\": [{\"colorbar\": {\"outlinewidth\": 0, \"ticks\": \"\"}, \"colorscale\": [[0.0, \"#0d0887\"], [0.1111111111111111, \"#46039f\"], [0.2222222222222222, \"#7201a8\"], [0.3333333333333333, \"#9c179e\"], [0.4444444444444444, \"#bd3786\"], [0.5555555555555556, \"#d8576b\"], [0.6666666666666666, \"#ed7953\"], [0.7777777777777778, \"#fb9f3a\"], [0.8888888888888888, \"#fdca26\"], [1.0, \"#f0f921\"]], \"type\": \"heatmap\"}], \"heatmapgl\": [{\"colorbar\": {\"outlinewidth\": 0, \"ticks\": \"\"}, \"colorscale\": [[0.0, \"#0d0887\"], [0.1111111111111111, \"#46039f\"], [0.2222222222222222, \"#7201a8\"], [0.3333333333333333, \"#9c179e\"], [0.4444444444444444, \"#bd3786\"], [0.5555555555555556, \"#d8576b\"], [0.6666666666666666, \"#ed7953\"], [0.7777777777777778, \"#fb9f3a\"], [0.8888888888888888, \"#fdca26\"], [1.0, \"#f0f921\"]], \"type\": \"heatmapgl\"}], \"histogram\": [{\"marker\": {\"colorbar\": {\"outlinewidth\": 0, \"ticks\": \"\"}}, \"type\": \"histogram\"}], \"histogram2d\": [{\"colorbar\": {\"outlinewidth\": 0, \"ticks\": \"\"}, \"colorscale\": [[0.0, \"#0d0887\"], [0.1111111111111111, \"#46039f\"], [0.2222222222222222, \"#7201a8\"], [0.3333333333333333, \"#9c179e\"], [0.4444444444444444, \"#bd3786\"], [0.5555555555555556, \"#d8576b\"], [0.6666666666666666, \"#ed7953\"], [0.7777777777777778, \"#fb9f3a\"], [0.8888888888888888, \"#fdca26\"], [1.0, \"#f0f921\"]], \"type\": \"histogram2d\"}], \"histogram2dcontour\": [{\"colorbar\": {\"outlinewidth\": 0, \"ticks\": \"\"}, \"colorscale\": [[0.0, \"#0d0887\"], [0.1111111111111111, \"#46039f\"], [0.2222222222222222, \"#7201a8\"], [0.3333333333333333, \"#9c179e\"], [0.4444444444444444, \"#bd3786\"], [0.5555555555555556, \"#d8576b\"], [0.6666666666666666, \"#ed7953\"], [0.7777777777777778, \"#fb9f3a\"], [0.8888888888888888, \"#fdca26\"], [1.0, \"#f0f921\"]], \"type\": \"histogram2dcontour\"}], \"mesh3d\": [{\"colorbar\": {\"outlinewidth\": 0, \"ticks\": \"\"}, \"type\": \"mesh3d\"}], \"parcoords\": [{\"line\": {\"colorbar\": {\"outlinewidth\": 0, \"ticks\": \"\"}}, \"type\": \"parcoords\"}], \"pie\": [{\"automargin\": true, \"type\": \"pie\"}], \"scatter\": [{\"marker\": {\"colorbar\": {\"outlinewidth\": 0, \"ticks\": \"\"}}, \"type\": \"scatter\"}], \"scatter3d\": [{\"line\": {\"colorbar\": {\"outlinewidth\": 0, \"ticks\": \"\"}}, \"marker\": {\"colorbar\": {\"outlinewidth\": 0, \"ticks\": \"\"}}, \"type\": \"scatter3d\"}], \"scattercarpet\": [{\"marker\": {\"colorbar\": {\"outlinewidth\": 0, \"ticks\": \"\"}}, \"type\": \"scattercarpet\"}], \"scattergeo\": [{\"marker\": {\"colorbar\": {\"outlinewidth\": 0, \"ticks\": \"\"}}, \"type\": \"scattergeo\"}], \"scattergl\": [{\"marker\": {\"colorbar\": {\"outlinewidth\": 0, \"ticks\": \"\"}}, \"type\": \"scattergl\"}], \"scattermapbox\": [{\"marker\": {\"colorbar\": {\"outlinewidth\": 0, \"ticks\": \"\"}}, \"type\": \"scattermapbox\"}], \"scatterpolar\": [{\"marker\": {\"colorbar\": {\"outlinewidth\": 0, \"ticks\": \"\"}}, \"type\": \"scatterpolar\"}], \"scatterpolargl\": [{\"marker\": {\"colorbar\": {\"outlinewidth\": 0, \"ticks\": \"\"}}, \"type\": \"scatterpolargl\"}], \"scatterternary\": [{\"marker\": {\"colorbar\": {\"outlinewidth\": 0, \"ticks\": \"\"}}, \"type\": \"scatterternary\"}], \"surface\": [{\"colorbar\": {\"outlinewidth\": 0, \"ticks\": \"\"}, \"colorscale\": [[0.0, \"#0d0887\"], [0.1111111111111111, \"#46039f\"], [0.2222222222222222, \"#7201a8\"], [0.3333333333333333, \"#9c179e\"], [0.4444444444444444, \"#bd3786\"], [0.5555555555555556, \"#d8576b\"], [0.6666666666666666, \"#ed7953\"], [0.7777777777777778, \"#fb9f3a\"], [0.8888888888888888, \"#fdca26\"], [1.0, \"#f0f921\"]], \"type\": \"surface\"}], \"table\": [{\"cells\": {\"fill\": {\"color\": \"#EBF0F8\"}, \"line\": {\"color\": \"white\"}}, \"header\": {\"fill\": {\"color\": \"#C8D4E3\"}, \"line\": {\"color\": \"white\"}}, \"type\": \"table\"}]}, \"layout\": {\"annotationdefaults\": {\"arrowcolor\": \"#2a3f5f\", \"arrowhead\": 0, \"arrowwidth\": 1}, \"autotypenumbers\": \"strict\", \"coloraxis\": {\"colorbar\": {\"outlinewidth\": 0, \"ticks\": \"\"}}, \"colorscale\": {\"diverging\": [[0, \"#8e0152\"], [0.1, \"#c51b7d\"], [0.2, \"#de77ae\"], [0.3, \"#f1b6da\"], [0.4, \"#fde0ef\"], [0.5, \"#f7f7f7\"], [0.6, \"#e6f5d0\"], [0.7, \"#b8e186\"], [0.8, \"#7fbc41\"], [0.9, \"#4d9221\"], [1, \"#276419\"]], \"sequential\": [[0.0, \"#0d0887\"], [0.1111111111111111, \"#46039f\"], [0.2222222222222222, \"#7201a8\"], [0.3333333333333333, \"#9c179e\"], [0.4444444444444444, \"#bd3786\"], [0.5555555555555556, \"#d8576b\"], [0.6666666666666666, \"#ed7953\"], [0.7777777777777778, \"#fb9f3a\"], [0.8888888888888888, \"#fdca26\"], [1.0, \"#f0f921\"]], \"sequentialminus\": [[0.0, \"#0d0887\"], [0.1111111111111111, \"#46039f\"], [0.2222222222222222, \"#7201a8\"], [0.3333333333333333, \"#9c179e\"], [0.4444444444444444, \"#bd3786\"], [0.5555555555555556, \"#d8576b\"], [0.6666666666666666, \"#ed7953\"], [0.7777777777777778, \"#fb9f3a\"], [0.8888888888888888, \"#fdca26\"], [1.0, \"#f0f921\"]]}, \"colorway\": [\"#636efa\", \"#EF553B\", \"#00cc96\", \"#ab63fa\", \"#FFA15A\", \"#19d3f3\", \"#FF6692\", \"#B6E880\", \"#FF97FF\", \"#FECB52\"], \"font\": {\"color\": \"#2a3f5f\"}, \"geo\": {\"bgcolor\": \"white\", \"lakecolor\": \"white\", \"landcolor\": \"#E5ECF6\", \"showlakes\": true, \"showland\": true, \"subunitcolor\": \"white\"}, \"hoverlabel\": {\"align\": \"left\"}, \"hovermode\": \"closest\", \"mapbox\": {\"style\": \"light\"}, \"paper_bgcolor\": \"white\", \"plot_bgcolor\": \"#E5ECF6\", \"polar\": {\"angularaxis\": {\"gridcolor\": \"white\", \"linecolor\": \"white\", \"ticks\": \"\"}, \"bgcolor\": \"#E5ECF6\", \"radialaxis\": {\"gridcolor\": \"white\", \"linecolor\": \"white\", \"ticks\": \"\"}}, \"scene\": {\"xaxis\": {\"backgroundcolor\": \"#E5ECF6\", \"gridcolor\": \"white\", \"gridwidth\": 2, \"linecolor\": \"white\", \"showbackground\": true, \"ticks\": \"\", \"zerolinecolor\": \"white\"}, \"yaxis\": {\"backgroundcolor\": \"#E5ECF6\", \"gridcolor\": \"white\", \"gridwidth\": 2, \"linecolor\": \"white\", \"showbackground\": true, \"ticks\": \"\", \"zerolinecolor\": \"white\"}, \"zaxis\": {\"backgroundcolor\": \"#E5ECF6\", \"gridcolor\": \"white\", \"gridwidth\": 2, \"linecolor\": \"white\", \"showbackground\": true, \"ticks\": \"\", \"zerolinecolor\": \"white\"}}, \"shapedefaults\": {\"line\": {\"color\": \"#2a3f5f\"}}, \"ternary\": {\"aaxis\": {\"gridcolor\": \"white\", \"linecolor\": \"white\", \"ticks\": \"\"}, \"baxis\": {\"gridcolor\": \"white\", \"linecolor\": \"white\", \"ticks\": \"\"}, \"bgcolor\": \"#E5ECF6\", \"caxis\": {\"gridcolor\": \"white\", \"linecolor\": \"white\", \"ticks\": \"\"}}, \"title\": {\"x\": 0.05}, \"xaxis\": {\"automargin\": true, \"gridcolor\": \"white\", \"linecolor\": \"white\", \"ticks\": \"\", \"title\": {\"standoff\": 15}, \"zerolinecolor\": \"white\", \"zerolinewidth\": 2}, \"yaxis\": {\"automargin\": true, \"gridcolor\": \"white\", \"linecolor\": \"white\", \"ticks\": \"\", \"title\": {\"standoff\": 15}, \"zerolinecolor\": \"white\", \"zerolinewidth\": 2}}}, \"title\": {\"text\": \"<span style='font-size: 22px;'><b>Citations per Year<b></span>\", \"x\": 0.5}, \"xaxis\": {\"range\": [2006, 2027], \"title\": {\"text\": \"Year\"}}, \"yaxis\": {\"range\": [0, 236.50000000000003], \"title\": {\"text\": \"Number of Publications\"}}},                        {\"responsive\": true}                    ).then(function(){\n",
       "                            \n",
       "var gd = document.getElementById('e5fcfe29-29d1-4b84-aa80-8d49e0b2a988');\n",
       "var x = new MutationObserver(function (mutations, observer) {{\n",
       "        var display = window.getComputedStyle(gd).display;\n",
       "        if (!display || display === 'none') {{\n",
       "            console.log([gd, 'removed!']);\n",
       "            Plotly.purge(gd);\n",
       "            observer.disconnect();\n",
       "        }}\n",
       "}});\n",
       "\n",
       "// Listen for the removal of the full notebook cells\n",
       "var notebookContainer = gd.closest('#notebook-container');\n",
       "if (notebookContainer) {{\n",
       "    x.observe(notebookContainer, {childList: true});\n",
       "}}\n",
       "\n",
       "// Listen for the clearing of the current output cell\n",
       "var outputEl = gd.closest('.output');\n",
       "if (outputEl) {{\n",
       "    x.observe(outputEl, {childList: true});\n",
       "}}\n",
       "\n",
       "                        })                };                });            </script>        </div>"
      ]
     },
     "metadata": {},
     "output_type": "display_data"
    }
   ],
   "source": [
    "plots.make_citations_per_year(results_df, 'semantic_scholar')"
   ]
  },
  {
   "cell_type": "code",
   "execution_count": 67,
   "id": "5015da57",
   "metadata": {
    "hidden": true,
    "scrolled": false
   },
   "outputs": [
    {
     "data": {
      "application/vnd.plotly.v1+json": {
       "config": {
        "plotlyServerURL": "https://plot.ly"
       },
       "data": [
        {
         "marker": {
          "color": "#eda109"
         },
         "textangle": 0,
         "textposition": "outside",
         "texttemplate": "%{y}",
         "type": "bar",
         "x": [
          "preservation",
          "potential",
          "implications",
          "detection",
          "analog",
          "exploration",
          "earth",
          "diagenesis",
          "playa",
          "spectroscopy",
          "environments",
          "using",
          "high",
          "evaporites",
          "trace"
         ],
         "y": [
          13,
          8,
          8,
          7,
          6,
          5,
          4,
          4,
          3,
          3,
          3,
          3,
          3,
          2,
          2
         ]
        }
       ],
       "layout": {
        "font": {
         "color": "white",
         "family": "Courier New, monospace",
         "size": 12
        },
        "paper_bgcolor": "#101126",
        "plot_bgcolor": "#101126",
        "template": {
         "data": {
          "bar": [
           {
            "error_x": {
             "color": "#2a3f5f"
            },
            "error_y": {
             "color": "#2a3f5f"
            },
            "marker": {
             "line": {
              "color": "#E5ECF6",
              "width": 0.5
             }
            },
            "type": "bar"
           }
          ],
          "barpolar": [
           {
            "marker": {
             "line": {
              "color": "#E5ECF6",
              "width": 0.5
             }
            },
            "type": "barpolar"
           }
          ],
          "carpet": [
           {
            "aaxis": {
             "endlinecolor": "#2a3f5f",
             "gridcolor": "white",
             "linecolor": "white",
             "minorgridcolor": "white",
             "startlinecolor": "#2a3f5f"
            },
            "baxis": {
             "endlinecolor": "#2a3f5f",
             "gridcolor": "white",
             "linecolor": "white",
             "minorgridcolor": "white",
             "startlinecolor": "#2a3f5f"
            },
            "type": "carpet"
           }
          ],
          "choropleth": [
           {
            "colorbar": {
             "outlinewidth": 0,
             "ticks": ""
            },
            "type": "choropleth"
           }
          ],
          "contour": [
           {
            "colorbar": {
             "outlinewidth": 0,
             "ticks": ""
            },
            "colorscale": [
             [
              0,
              "#0d0887"
             ],
             [
              0.1111111111111111,
              "#46039f"
             ],
             [
              0.2222222222222222,
              "#7201a8"
             ],
             [
              0.3333333333333333,
              "#9c179e"
             ],
             [
              0.4444444444444444,
              "#bd3786"
             ],
             [
              0.5555555555555556,
              "#d8576b"
             ],
             [
              0.6666666666666666,
              "#ed7953"
             ],
             [
              0.7777777777777778,
              "#fb9f3a"
             ],
             [
              0.8888888888888888,
              "#fdca26"
             ],
             [
              1,
              "#f0f921"
             ]
            ],
            "type": "contour"
           }
          ],
          "contourcarpet": [
           {
            "colorbar": {
             "outlinewidth": 0,
             "ticks": ""
            },
            "type": "contourcarpet"
           }
          ],
          "heatmap": [
           {
            "colorbar": {
             "outlinewidth": 0,
             "ticks": ""
            },
            "colorscale": [
             [
              0,
              "#0d0887"
             ],
             [
              0.1111111111111111,
              "#46039f"
             ],
             [
              0.2222222222222222,
              "#7201a8"
             ],
             [
              0.3333333333333333,
              "#9c179e"
             ],
             [
              0.4444444444444444,
              "#bd3786"
             ],
             [
              0.5555555555555556,
              "#d8576b"
             ],
             [
              0.6666666666666666,
              "#ed7953"
             ],
             [
              0.7777777777777778,
              "#fb9f3a"
             ],
             [
              0.8888888888888888,
              "#fdca26"
             ],
             [
              1,
              "#f0f921"
             ]
            ],
            "type": "heatmap"
           }
          ],
          "heatmapgl": [
           {
            "colorbar": {
             "outlinewidth": 0,
             "ticks": ""
            },
            "colorscale": [
             [
              0,
              "#0d0887"
             ],
             [
              0.1111111111111111,
              "#46039f"
             ],
             [
              0.2222222222222222,
              "#7201a8"
             ],
             [
              0.3333333333333333,
              "#9c179e"
             ],
             [
              0.4444444444444444,
              "#bd3786"
             ],
             [
              0.5555555555555556,
              "#d8576b"
             ],
             [
              0.6666666666666666,
              "#ed7953"
             ],
             [
              0.7777777777777778,
              "#fb9f3a"
             ],
             [
              0.8888888888888888,
              "#fdca26"
             ],
             [
              1,
              "#f0f921"
             ]
            ],
            "type": "heatmapgl"
           }
          ],
          "histogram": [
           {
            "marker": {
             "colorbar": {
              "outlinewidth": 0,
              "ticks": ""
             }
            },
            "type": "histogram"
           }
          ],
          "histogram2d": [
           {
            "colorbar": {
             "outlinewidth": 0,
             "ticks": ""
            },
            "colorscale": [
             [
              0,
              "#0d0887"
             ],
             [
              0.1111111111111111,
              "#46039f"
             ],
             [
              0.2222222222222222,
              "#7201a8"
             ],
             [
              0.3333333333333333,
              "#9c179e"
             ],
             [
              0.4444444444444444,
              "#bd3786"
             ],
             [
              0.5555555555555556,
              "#d8576b"
             ],
             [
              0.6666666666666666,
              "#ed7953"
             ],
             [
              0.7777777777777778,
              "#fb9f3a"
             ],
             [
              0.8888888888888888,
              "#fdca26"
             ],
             [
              1,
              "#f0f921"
             ]
            ],
            "type": "histogram2d"
           }
          ],
          "histogram2dcontour": [
           {
            "colorbar": {
             "outlinewidth": 0,
             "ticks": ""
            },
            "colorscale": [
             [
              0,
              "#0d0887"
             ],
             [
              0.1111111111111111,
              "#46039f"
             ],
             [
              0.2222222222222222,
              "#7201a8"
             ],
             [
              0.3333333333333333,
              "#9c179e"
             ],
             [
              0.4444444444444444,
              "#bd3786"
             ],
             [
              0.5555555555555556,
              "#d8576b"
             ],
             [
              0.6666666666666666,
              "#ed7953"
             ],
             [
              0.7777777777777778,
              "#fb9f3a"
             ],
             [
              0.8888888888888888,
              "#fdca26"
             ],
             [
              1,
              "#f0f921"
             ]
            ],
            "type": "histogram2dcontour"
           }
          ],
          "mesh3d": [
           {
            "colorbar": {
             "outlinewidth": 0,
             "ticks": ""
            },
            "type": "mesh3d"
           }
          ],
          "parcoords": [
           {
            "line": {
             "colorbar": {
              "outlinewidth": 0,
              "ticks": ""
             }
            },
            "type": "parcoords"
           }
          ],
          "pie": [
           {
            "automargin": true,
            "type": "pie"
           }
          ],
          "scatter": [
           {
            "marker": {
             "colorbar": {
              "outlinewidth": 0,
              "ticks": ""
             }
            },
            "type": "scatter"
           }
          ],
          "scatter3d": [
           {
            "line": {
             "colorbar": {
              "outlinewidth": 0,
              "ticks": ""
             }
            },
            "marker": {
             "colorbar": {
              "outlinewidth": 0,
              "ticks": ""
             }
            },
            "type": "scatter3d"
           }
          ],
          "scattercarpet": [
           {
            "marker": {
             "colorbar": {
              "outlinewidth": 0,
              "ticks": ""
             }
            },
            "type": "scattercarpet"
           }
          ],
          "scattergeo": [
           {
            "marker": {
             "colorbar": {
              "outlinewidth": 0,
              "ticks": ""
             }
            },
            "type": "scattergeo"
           }
          ],
          "scattergl": [
           {
            "marker": {
             "colorbar": {
              "outlinewidth": 0,
              "ticks": ""
             }
            },
            "type": "scattergl"
           }
          ],
          "scattermapbox": [
           {
            "marker": {
             "colorbar": {
              "outlinewidth": 0,
              "ticks": ""
             }
            },
            "type": "scattermapbox"
           }
          ],
          "scatterpolar": [
           {
            "marker": {
             "colorbar": {
              "outlinewidth": 0,
              "ticks": ""
             }
            },
            "type": "scatterpolar"
           }
          ],
          "scatterpolargl": [
           {
            "marker": {
             "colorbar": {
              "outlinewidth": 0,
              "ticks": ""
             }
            },
            "type": "scatterpolargl"
           }
          ],
          "scatterternary": [
           {
            "marker": {
             "colorbar": {
              "outlinewidth": 0,
              "ticks": ""
             }
            },
            "type": "scatterternary"
           }
          ],
          "surface": [
           {
            "colorbar": {
             "outlinewidth": 0,
             "ticks": ""
            },
            "colorscale": [
             [
              0,
              "#0d0887"
             ],
             [
              0.1111111111111111,
              "#46039f"
             ],
             [
              0.2222222222222222,
              "#7201a8"
             ],
             [
              0.3333333333333333,
              "#9c179e"
             ],
             [
              0.4444444444444444,
              "#bd3786"
             ],
             [
              0.5555555555555556,
              "#d8576b"
             ],
             [
              0.6666666666666666,
              "#ed7953"
             ],
             [
              0.7777777777777778,
              "#fb9f3a"
             ],
             [
              0.8888888888888888,
              "#fdca26"
             ],
             [
              1,
              "#f0f921"
             ]
            ],
            "type": "surface"
           }
          ],
          "table": [
           {
            "cells": {
             "fill": {
              "color": "#EBF0F8"
             },
             "line": {
              "color": "white"
             }
            },
            "header": {
             "fill": {
              "color": "#C8D4E3"
             },
             "line": {
              "color": "white"
             }
            },
            "type": "table"
           }
          ]
         },
         "layout": {
          "annotationdefaults": {
           "arrowcolor": "#2a3f5f",
           "arrowhead": 0,
           "arrowwidth": 1
          },
          "autotypenumbers": "strict",
          "coloraxis": {
           "colorbar": {
            "outlinewidth": 0,
            "ticks": ""
           }
          },
          "colorscale": {
           "diverging": [
            [
             0,
             "#8e0152"
            ],
            [
             0.1,
             "#c51b7d"
            ],
            [
             0.2,
             "#de77ae"
            ],
            [
             0.3,
             "#f1b6da"
            ],
            [
             0.4,
             "#fde0ef"
            ],
            [
             0.5,
             "#f7f7f7"
            ],
            [
             0.6,
             "#e6f5d0"
            ],
            [
             0.7,
             "#b8e186"
            ],
            [
             0.8,
             "#7fbc41"
            ],
            [
             0.9,
             "#4d9221"
            ],
            [
             1,
             "#276419"
            ]
           ],
           "sequential": [
            [
             0,
             "#0d0887"
            ],
            [
             0.1111111111111111,
             "#46039f"
            ],
            [
             0.2222222222222222,
             "#7201a8"
            ],
            [
             0.3333333333333333,
             "#9c179e"
            ],
            [
             0.4444444444444444,
             "#bd3786"
            ],
            [
             0.5555555555555556,
             "#d8576b"
            ],
            [
             0.6666666666666666,
             "#ed7953"
            ],
            [
             0.7777777777777778,
             "#fb9f3a"
            ],
            [
             0.8888888888888888,
             "#fdca26"
            ],
            [
             1,
             "#f0f921"
            ]
           ],
           "sequentialminus": [
            [
             0,
             "#0d0887"
            ],
            [
             0.1111111111111111,
             "#46039f"
            ],
            [
             0.2222222222222222,
             "#7201a8"
            ],
            [
             0.3333333333333333,
             "#9c179e"
            ],
            [
             0.4444444444444444,
             "#bd3786"
            ],
            [
             0.5555555555555556,
             "#d8576b"
            ],
            [
             0.6666666666666666,
             "#ed7953"
            ],
            [
             0.7777777777777778,
             "#fb9f3a"
            ],
            [
             0.8888888888888888,
             "#fdca26"
            ],
            [
             1,
             "#f0f921"
            ]
           ]
          },
          "colorway": [
           "#636efa",
           "#EF553B",
           "#00cc96",
           "#ab63fa",
           "#FFA15A",
           "#19d3f3",
           "#FF6692",
           "#B6E880",
           "#FF97FF",
           "#FECB52"
          ],
          "font": {
           "color": "#2a3f5f"
          },
          "geo": {
           "bgcolor": "white",
           "lakecolor": "white",
           "landcolor": "#E5ECF6",
           "showlakes": true,
           "showland": true,
           "subunitcolor": "white"
          },
          "hoverlabel": {
           "align": "left"
          },
          "hovermode": "closest",
          "mapbox": {
           "style": "light"
          },
          "paper_bgcolor": "white",
          "plot_bgcolor": "#E5ECF6",
          "polar": {
           "angularaxis": {
            "gridcolor": "white",
            "linecolor": "white",
            "ticks": ""
           },
           "bgcolor": "#E5ECF6",
           "radialaxis": {
            "gridcolor": "white",
            "linecolor": "white",
            "ticks": ""
           }
          },
          "scene": {
           "xaxis": {
            "backgroundcolor": "#E5ECF6",
            "gridcolor": "white",
            "gridwidth": 2,
            "linecolor": "white",
            "showbackground": true,
            "ticks": "",
            "zerolinecolor": "white"
           },
           "yaxis": {
            "backgroundcolor": "#E5ECF6",
            "gridcolor": "white",
            "gridwidth": 2,
            "linecolor": "white",
            "showbackground": true,
            "ticks": "",
            "zerolinecolor": "white"
           },
           "zaxis": {
            "backgroundcolor": "#E5ECF6",
            "gridcolor": "white",
            "gridwidth": 2,
            "linecolor": "white",
            "showbackground": true,
            "ticks": "",
            "zerolinecolor": "white"
           }
          },
          "shapedefaults": {
           "line": {
            "color": "#2a3f5f"
           }
          },
          "ternary": {
           "aaxis": {
            "gridcolor": "white",
            "linecolor": "white",
            "ticks": ""
           },
           "baxis": {
            "gridcolor": "white",
            "linecolor": "white",
            "ticks": ""
           },
           "bgcolor": "#E5ECF6",
           "caxis": {
            "gridcolor": "white",
            "linecolor": "white",
            "ticks": ""
           }
          },
          "title": {
           "x": 0.05
          },
          "xaxis": {
           "automargin": true,
           "gridcolor": "white",
           "linecolor": "white",
           "ticks": "",
           "title": {
            "standoff": 15
           },
           "zerolinecolor": "white",
           "zerolinewidth": 2
          },
          "yaxis": {
           "automargin": true,
           "gridcolor": "white",
           "linecolor": "white",
           "ticks": "",
           "title": {
            "standoff": 15
           },
           "zerolinecolor": "white",
           "zerolinewidth": 2
          }
         }
        },
        "title": {
         "text": "<span style='font-size: 22px;'><b>Top key words<b></span>",
         "x": 0.5
        },
        "yaxis": {
         "range": [
          0,
          14.3
         ],
         "title": {
          "text": "Number of occurences"
         }
        }
       }
      },
      "text/html": [
       "<div>                            <div id=\"d29f0e61-8cec-4aa1-9f86-3425e5b604c6\" class=\"plotly-graph-div\" style=\"height:525px; width:100%;\"></div>            <script type=\"text/javascript\">                require([\"plotly\"], function(Plotly) {                    window.PLOTLYENV=window.PLOTLYENV || {};                                    if (document.getElementById(\"d29f0e61-8cec-4aa1-9f86-3425e5b604c6\")) {                    Plotly.newPlot(                        \"d29f0e61-8cec-4aa1-9f86-3425e5b604c6\",                        [{\"marker\": {\"color\": \"#eda109\"}, \"textangle\": 0, \"textposition\": \"outside\", \"texttemplate\": \"%{y}\", \"type\": \"bar\", \"x\": [\"preservation\", \"potential\", \"implications\", \"detection\", \"analog\", \"exploration\", \"earth\", \"diagenesis\", \"playa\", \"spectroscopy\", \"environments\", \"using\", \"high\", \"evaporites\", \"trace\"], \"y\": [13, 8, 8, 7, 6, 5, 4, 4, 3, 3, 3, 3, 3, 2, 2]}],                        {\"font\": {\"color\": \"white\", \"family\": \"Courier New, monospace\", \"size\": 12}, \"paper_bgcolor\": \"#101126\", \"plot_bgcolor\": \"#101126\", \"template\": {\"data\": {\"bar\": [{\"error_x\": {\"color\": \"#2a3f5f\"}, \"error_y\": {\"color\": \"#2a3f5f\"}, \"marker\": {\"line\": {\"color\": \"#E5ECF6\", \"width\": 0.5}}, \"type\": \"bar\"}], \"barpolar\": [{\"marker\": {\"line\": {\"color\": \"#E5ECF6\", \"width\": 0.5}}, \"type\": \"barpolar\"}], \"carpet\": [{\"aaxis\": {\"endlinecolor\": \"#2a3f5f\", \"gridcolor\": \"white\", \"linecolor\": \"white\", \"minorgridcolor\": \"white\", \"startlinecolor\": \"#2a3f5f\"}, \"baxis\": {\"endlinecolor\": \"#2a3f5f\", \"gridcolor\": \"white\", \"linecolor\": \"white\", \"minorgridcolor\": \"white\", \"startlinecolor\": \"#2a3f5f\"}, \"type\": \"carpet\"}], \"choropleth\": [{\"colorbar\": {\"outlinewidth\": 0, \"ticks\": \"\"}, \"type\": \"choropleth\"}], \"contour\": [{\"colorbar\": {\"outlinewidth\": 0, \"ticks\": \"\"}, \"colorscale\": [[0.0, \"#0d0887\"], [0.1111111111111111, \"#46039f\"], [0.2222222222222222, \"#7201a8\"], [0.3333333333333333, \"#9c179e\"], [0.4444444444444444, \"#bd3786\"], [0.5555555555555556, \"#d8576b\"], [0.6666666666666666, \"#ed7953\"], [0.7777777777777778, \"#fb9f3a\"], [0.8888888888888888, \"#fdca26\"], [1.0, \"#f0f921\"]], \"type\": \"contour\"}], \"contourcarpet\": [{\"colorbar\": {\"outlinewidth\": 0, \"ticks\": \"\"}, \"type\": \"contourcarpet\"}], \"heatmap\": [{\"colorbar\": {\"outlinewidth\": 0, \"ticks\": \"\"}, \"colorscale\": [[0.0, \"#0d0887\"], [0.1111111111111111, \"#46039f\"], [0.2222222222222222, \"#7201a8\"], [0.3333333333333333, \"#9c179e\"], [0.4444444444444444, \"#bd3786\"], [0.5555555555555556, \"#d8576b\"], [0.6666666666666666, \"#ed7953\"], [0.7777777777777778, \"#fb9f3a\"], [0.8888888888888888, \"#fdca26\"], [1.0, \"#f0f921\"]], \"type\": \"heatmap\"}], \"heatmapgl\": [{\"colorbar\": {\"outlinewidth\": 0, \"ticks\": \"\"}, \"colorscale\": [[0.0, \"#0d0887\"], [0.1111111111111111, \"#46039f\"], [0.2222222222222222, \"#7201a8\"], [0.3333333333333333, \"#9c179e\"], [0.4444444444444444, \"#bd3786\"], [0.5555555555555556, \"#d8576b\"], [0.6666666666666666, \"#ed7953\"], [0.7777777777777778, \"#fb9f3a\"], [0.8888888888888888, \"#fdca26\"], [1.0, \"#f0f921\"]], \"type\": \"heatmapgl\"}], \"histogram\": [{\"marker\": {\"colorbar\": {\"outlinewidth\": 0, \"ticks\": \"\"}}, \"type\": \"histogram\"}], \"histogram2d\": [{\"colorbar\": {\"outlinewidth\": 0, \"ticks\": \"\"}, \"colorscale\": [[0.0, \"#0d0887\"], [0.1111111111111111, \"#46039f\"], [0.2222222222222222, \"#7201a8\"], [0.3333333333333333, \"#9c179e\"], [0.4444444444444444, \"#bd3786\"], [0.5555555555555556, \"#d8576b\"], [0.6666666666666666, \"#ed7953\"], [0.7777777777777778, \"#fb9f3a\"], [0.8888888888888888, \"#fdca26\"], [1.0, \"#f0f921\"]], \"type\": \"histogram2d\"}], \"histogram2dcontour\": [{\"colorbar\": {\"outlinewidth\": 0, \"ticks\": \"\"}, \"colorscale\": [[0.0, \"#0d0887\"], [0.1111111111111111, \"#46039f\"], [0.2222222222222222, \"#7201a8\"], [0.3333333333333333, \"#9c179e\"], [0.4444444444444444, \"#bd3786\"], [0.5555555555555556, \"#d8576b\"], [0.6666666666666666, \"#ed7953\"], [0.7777777777777778, \"#fb9f3a\"], [0.8888888888888888, \"#fdca26\"], [1.0, \"#f0f921\"]], \"type\": \"histogram2dcontour\"}], \"mesh3d\": [{\"colorbar\": {\"outlinewidth\": 0, \"ticks\": \"\"}, \"type\": \"mesh3d\"}], \"parcoords\": [{\"line\": {\"colorbar\": {\"outlinewidth\": 0, \"ticks\": \"\"}}, \"type\": \"parcoords\"}], \"pie\": [{\"automargin\": true, \"type\": \"pie\"}], \"scatter\": [{\"marker\": {\"colorbar\": {\"outlinewidth\": 0, \"ticks\": \"\"}}, \"type\": \"scatter\"}], \"scatter3d\": [{\"line\": {\"colorbar\": {\"outlinewidth\": 0, \"ticks\": \"\"}}, \"marker\": {\"colorbar\": {\"outlinewidth\": 0, \"ticks\": \"\"}}, \"type\": \"scatter3d\"}], \"scattercarpet\": [{\"marker\": {\"colorbar\": {\"outlinewidth\": 0, \"ticks\": \"\"}}, \"type\": \"scattercarpet\"}], \"scattergeo\": [{\"marker\": {\"colorbar\": {\"outlinewidth\": 0, \"ticks\": \"\"}}, \"type\": \"scattergeo\"}], \"scattergl\": [{\"marker\": {\"colorbar\": {\"outlinewidth\": 0, \"ticks\": \"\"}}, \"type\": \"scattergl\"}], \"scattermapbox\": [{\"marker\": {\"colorbar\": {\"outlinewidth\": 0, \"ticks\": \"\"}}, \"type\": \"scattermapbox\"}], \"scatterpolar\": [{\"marker\": {\"colorbar\": {\"outlinewidth\": 0, \"ticks\": \"\"}}, \"type\": \"scatterpolar\"}], \"scatterpolargl\": [{\"marker\": {\"colorbar\": {\"outlinewidth\": 0, \"ticks\": \"\"}}, \"type\": \"scatterpolargl\"}], \"scatterternary\": [{\"marker\": {\"colorbar\": {\"outlinewidth\": 0, \"ticks\": \"\"}}, \"type\": \"scatterternary\"}], \"surface\": [{\"colorbar\": {\"outlinewidth\": 0, \"ticks\": \"\"}, \"colorscale\": [[0.0, \"#0d0887\"], [0.1111111111111111, \"#46039f\"], [0.2222222222222222, \"#7201a8\"], [0.3333333333333333, \"#9c179e\"], [0.4444444444444444, \"#bd3786\"], [0.5555555555555556, \"#d8576b\"], [0.6666666666666666, \"#ed7953\"], [0.7777777777777778, \"#fb9f3a\"], [0.8888888888888888, \"#fdca26\"], [1.0, \"#f0f921\"]], \"type\": \"surface\"}], \"table\": [{\"cells\": {\"fill\": {\"color\": \"#EBF0F8\"}, \"line\": {\"color\": \"white\"}}, \"header\": {\"fill\": {\"color\": \"#C8D4E3\"}, \"line\": {\"color\": \"white\"}}, \"type\": \"table\"}]}, \"layout\": {\"annotationdefaults\": {\"arrowcolor\": \"#2a3f5f\", \"arrowhead\": 0, \"arrowwidth\": 1}, \"autotypenumbers\": \"strict\", \"coloraxis\": {\"colorbar\": {\"outlinewidth\": 0, \"ticks\": \"\"}}, \"colorscale\": {\"diverging\": [[0, \"#8e0152\"], [0.1, \"#c51b7d\"], [0.2, \"#de77ae\"], [0.3, \"#f1b6da\"], [0.4, \"#fde0ef\"], [0.5, \"#f7f7f7\"], [0.6, \"#e6f5d0\"], [0.7, \"#b8e186\"], [0.8, \"#7fbc41\"], [0.9, \"#4d9221\"], [1, \"#276419\"]], \"sequential\": [[0.0, \"#0d0887\"], [0.1111111111111111, \"#46039f\"], [0.2222222222222222, \"#7201a8\"], [0.3333333333333333, \"#9c179e\"], [0.4444444444444444, \"#bd3786\"], [0.5555555555555556, \"#d8576b\"], [0.6666666666666666, \"#ed7953\"], [0.7777777777777778, \"#fb9f3a\"], [0.8888888888888888, \"#fdca26\"], [1.0, \"#f0f921\"]], \"sequentialminus\": [[0.0, \"#0d0887\"], [0.1111111111111111, \"#46039f\"], [0.2222222222222222, \"#7201a8\"], [0.3333333333333333, \"#9c179e\"], [0.4444444444444444, \"#bd3786\"], [0.5555555555555556, \"#d8576b\"], [0.6666666666666666, \"#ed7953\"], [0.7777777777777778, \"#fb9f3a\"], [0.8888888888888888, \"#fdca26\"], [1.0, \"#f0f921\"]]}, \"colorway\": [\"#636efa\", \"#EF553B\", \"#00cc96\", \"#ab63fa\", \"#FFA15A\", \"#19d3f3\", \"#FF6692\", \"#B6E880\", \"#FF97FF\", \"#FECB52\"], \"font\": {\"color\": \"#2a3f5f\"}, \"geo\": {\"bgcolor\": \"white\", \"lakecolor\": \"white\", \"landcolor\": \"#E5ECF6\", \"showlakes\": true, \"showland\": true, \"subunitcolor\": \"white\"}, \"hoverlabel\": {\"align\": \"left\"}, \"hovermode\": \"closest\", \"mapbox\": {\"style\": \"light\"}, \"paper_bgcolor\": \"white\", \"plot_bgcolor\": \"#E5ECF6\", \"polar\": {\"angularaxis\": {\"gridcolor\": \"white\", \"linecolor\": \"white\", \"ticks\": \"\"}, \"bgcolor\": \"#E5ECF6\", \"radialaxis\": {\"gridcolor\": \"white\", \"linecolor\": \"white\", \"ticks\": \"\"}}, \"scene\": {\"xaxis\": {\"backgroundcolor\": \"#E5ECF6\", \"gridcolor\": \"white\", \"gridwidth\": 2, \"linecolor\": \"white\", \"showbackground\": true, \"ticks\": \"\", \"zerolinecolor\": \"white\"}, \"yaxis\": {\"backgroundcolor\": \"#E5ECF6\", \"gridcolor\": \"white\", \"gridwidth\": 2, \"linecolor\": \"white\", \"showbackground\": true, \"ticks\": \"\", \"zerolinecolor\": \"white\"}, \"zaxis\": {\"backgroundcolor\": \"#E5ECF6\", \"gridcolor\": \"white\", \"gridwidth\": 2, \"linecolor\": \"white\", \"showbackground\": true, \"ticks\": \"\", \"zerolinecolor\": \"white\"}}, \"shapedefaults\": {\"line\": {\"color\": \"#2a3f5f\"}}, \"ternary\": {\"aaxis\": {\"gridcolor\": \"white\", \"linecolor\": \"white\", \"ticks\": \"\"}, \"baxis\": {\"gridcolor\": \"white\", \"linecolor\": \"white\", \"ticks\": \"\"}, \"bgcolor\": \"#E5ECF6\", \"caxis\": {\"gridcolor\": \"white\", \"linecolor\": \"white\", \"ticks\": \"\"}}, \"title\": {\"x\": 0.05}, \"xaxis\": {\"automargin\": true, \"gridcolor\": \"white\", \"linecolor\": \"white\", \"ticks\": \"\", \"title\": {\"standoff\": 15}, \"zerolinecolor\": \"white\", \"zerolinewidth\": 2}, \"yaxis\": {\"automargin\": true, \"gridcolor\": \"white\", \"linecolor\": \"white\", \"ticks\": \"\", \"title\": {\"standoff\": 15}, \"zerolinecolor\": \"white\", \"zerolinewidth\": 2}}}, \"title\": {\"text\": \"<span style='font-size: 22px;'><b>Top key words<b></span>\", \"x\": 0.5}, \"yaxis\": {\"range\": [0, 14.3], \"title\": {\"text\": \"Number of occurences\"}}},                        {\"responsive\": true}                    ).then(function(){\n",
       "                            \n",
       "var gd = document.getElementById('d29f0e61-8cec-4aa1-9f86-3425e5b604c6');\n",
       "var x = new MutationObserver(function (mutations, observer) {{\n",
       "        var display = window.getComputedStyle(gd).display;\n",
       "        if (!display || display === 'none') {{\n",
       "            console.log([gd, 'removed!']);\n",
       "            Plotly.purge(gd);\n",
       "            observer.disconnect();\n",
       "        }}\n",
       "}});\n",
       "\n",
       "// Listen for the removal of the full notebook cells\n",
       "var notebookContainer = gd.closest('#notebook-container');\n",
       "if (notebookContainer) {{\n",
       "    x.observe(notebookContainer, {childList: true});\n",
       "}}\n",
       "\n",
       "// Listen for the clearing of the current output cell\n",
       "var outputEl = gd.closest('.output');\n",
       "if (outputEl) {{\n",
       "    x.observe(outputEl, {childList: true});\n",
       "}}\n",
       "\n",
       "                        })                };                });            </script>        </div>"
      ]
     },
     "metadata": {},
     "output_type": "display_data"
    }
   ],
   "source": [
    "plots.make_top_key_words(results_df, query)"
   ]
  },
  {
   "cell_type": "markdown",
   "id": "09038c37",
   "metadata": {
    "heading_collapsed": true,
    "hidden": true
   },
   "source": [
    "#### Fields of Study"
   ]
  },
  {
   "cell_type": "code",
   "execution_count": 16,
   "id": "9c2fe968",
   "metadata": {
    "hidden": true
   },
   "outputs": [],
   "source": [
    "test_list = results_df.fieldsOfStudy.tolist()\n",
    "res = [i for i in test_list if i]\n",
    "flat_list_fields = utils.flatten_list(res)"
   ]
  },
  {
   "cell_type": "code",
   "execution_count": 18,
   "id": "a32d4844",
   "metadata": {
    "hidden": true
   },
   "outputs": [
    {
     "data": {
      "text/html": [
       "<div>\n",
       "<style scoped>\n",
       "    .dataframe tbody tr th:only-of-type {\n",
       "        vertical-align: middle;\n",
       "    }\n",
       "\n",
       "    .dataframe tbody tr th {\n",
       "        vertical-align: top;\n",
       "    }\n",
       "\n",
       "    .dataframe thead th {\n",
       "        text-align: right;\n",
       "    }\n",
       "</style>\n",
       "<table border=\"1\" class=\"dataframe\">\n",
       "  <thead>\n",
       "    <tr style=\"text-align: right;\">\n",
       "      <th></th>\n",
       "      <th>field</th>\n",
       "      <th>occurence</th>\n",
       "    </tr>\n",
       "  </thead>\n",
       "  <tbody>\n",
       "    <tr>\n",
       "      <th>0</th>\n",
       "      <td>Geology</td>\n",
       "      <td>19</td>\n",
       "    </tr>\n",
       "    <tr>\n",
       "      <th>1</th>\n",
       "      <td>Medicine</td>\n",
       "      <td>6</td>\n",
       "    </tr>\n",
       "    <tr>\n",
       "      <th>2</th>\n",
       "      <td>Environmental Science</td>\n",
       "      <td>5</td>\n",
       "    </tr>\n",
       "    <tr>\n",
       "      <th>3</th>\n",
       "      <td>Chemistry</td>\n",
       "      <td>3</td>\n",
       "    </tr>\n",
       "    <tr>\n",
       "      <th>4</th>\n",
       "      <td>Materials Science</td>\n",
       "      <td>1</td>\n",
       "    </tr>\n",
       "  </tbody>\n",
       "</table>\n",
       "</div>"
      ],
      "text/plain": [
       "                   field  occurence\n",
       "0                Geology         19\n",
       "1               Medicine          6\n",
       "2  Environmental Science          5\n",
       "3              Chemistry          3\n",
       "4      Materials Science          1"
      ]
     },
     "execution_count": 18,
     "metadata": {},
     "output_type": "execute_result"
    }
   ],
   "source": [
    "most_common_fields = Counter(flat_list_fields).most_common()\n",
    "most_common_fields_df = pd.DataFrame(most_common_fields, columns=[\"field\", \"occurence\"])\n",
    "most_common_fields_df"
   ]
  },
  {
   "cell_type": "code",
   "execution_count": 21,
   "id": "07a4a721",
   "metadata": {
    "hidden": true
   },
   "outputs": [],
   "source": [
    "def make_fields_pie(df):\n",
    "    test_list = df.fieldsOfStudy.tolist()\n",
    "    res = [i for i in test_list if i]\n",
    "    flat_list_fields = utils.flatten_list(res)\n",
    "    \n",
    "    most_common_fields = Counter(flat_list_fields).most_common()\n",
    "    most_common_fields_df = pd.DataFrame(most_common_fields, columns=[\"field\", \"occurence\"])\n",
    "    \n",
    "    fig = px.pie(most_common_fields_df, values='occurence', names= 'field')\n",
    "\n",
    "    fig.update_layout(\n",
    "    title = \"<span style='font-size: 22px;'><b>Fields of Study<b></span>\", title_x=0.5,\n",
    "    font=dict(\n",
    "        family=\"Courier New, monospace\",\n",
    "        size=14,\n",
    "        color=\"white\"\n",
    "    ),\n",
    "    paper_bgcolor = \"#101126\",\n",
    "    plot_bgcolor = \"#101126\")\n",
    "    return fig"
   ]
  },
  {
   "cell_type": "code",
   "execution_count": 23,
   "id": "9469303d",
   "metadata": {
    "hidden": true,
    "scrolled": false
   },
   "outputs": [
    {
     "data": {
      "application/vnd.plotly.v1+json": {
       "config": {
        "plotlyServerURL": "https://plot.ly"
       },
       "data": [
        {
         "domain": {
          "x": [
           0,
           1
          ],
          "y": [
           0,
           1
          ]
         },
         "hovertemplate": "field=%{label}<br>occurence=%{value}<extra></extra>",
         "labels": [
          "Geology",
          "Medicine",
          "Chemistry",
          "Biology",
          "Physics",
          "Environmental Science",
          "Materials Science",
          "Computer Science",
          "Engineering",
          "Geography",
          "History"
         ],
         "legendgroup": "",
         "name": "",
         "showlegend": true,
         "type": "pie",
         "values": [
          387,
          288,
          154,
          82,
          77,
          59,
          45,
          13,
          10,
          5,
          1
         ]
        }
       ],
       "layout": {
        "font": {
         "color": "white",
         "family": "Courier New, monospace",
         "size": 14
        },
        "legend": {
         "tracegroupgap": 0
        },
        "margin": {
         "t": 60
        },
        "paper_bgcolor": "#101126",
        "plot_bgcolor": "#101126",
        "template": {
         "data": {
          "bar": [
           {
            "error_x": {
             "color": "#2a3f5f"
            },
            "error_y": {
             "color": "#2a3f5f"
            },
            "marker": {
             "line": {
              "color": "#E5ECF6",
              "width": 0.5
             }
            },
            "type": "bar"
           }
          ],
          "barpolar": [
           {
            "marker": {
             "line": {
              "color": "#E5ECF6",
              "width": 0.5
             }
            },
            "type": "barpolar"
           }
          ],
          "carpet": [
           {
            "aaxis": {
             "endlinecolor": "#2a3f5f",
             "gridcolor": "white",
             "linecolor": "white",
             "minorgridcolor": "white",
             "startlinecolor": "#2a3f5f"
            },
            "baxis": {
             "endlinecolor": "#2a3f5f",
             "gridcolor": "white",
             "linecolor": "white",
             "minorgridcolor": "white",
             "startlinecolor": "#2a3f5f"
            },
            "type": "carpet"
           }
          ],
          "choropleth": [
           {
            "colorbar": {
             "outlinewidth": 0,
             "ticks": ""
            },
            "type": "choropleth"
           }
          ],
          "contour": [
           {
            "colorbar": {
             "outlinewidth": 0,
             "ticks": ""
            },
            "colorscale": [
             [
              0,
              "#0d0887"
             ],
             [
              0.1111111111111111,
              "#46039f"
             ],
             [
              0.2222222222222222,
              "#7201a8"
             ],
             [
              0.3333333333333333,
              "#9c179e"
             ],
             [
              0.4444444444444444,
              "#bd3786"
             ],
             [
              0.5555555555555556,
              "#d8576b"
             ],
             [
              0.6666666666666666,
              "#ed7953"
             ],
             [
              0.7777777777777778,
              "#fb9f3a"
             ],
             [
              0.8888888888888888,
              "#fdca26"
             ],
             [
              1,
              "#f0f921"
             ]
            ],
            "type": "contour"
           }
          ],
          "contourcarpet": [
           {
            "colorbar": {
             "outlinewidth": 0,
             "ticks": ""
            },
            "type": "contourcarpet"
           }
          ],
          "heatmap": [
           {
            "colorbar": {
             "outlinewidth": 0,
             "ticks": ""
            },
            "colorscale": [
             [
              0,
              "#0d0887"
             ],
             [
              0.1111111111111111,
              "#46039f"
             ],
             [
              0.2222222222222222,
              "#7201a8"
             ],
             [
              0.3333333333333333,
              "#9c179e"
             ],
             [
              0.4444444444444444,
              "#bd3786"
             ],
             [
              0.5555555555555556,
              "#d8576b"
             ],
             [
              0.6666666666666666,
              "#ed7953"
             ],
             [
              0.7777777777777778,
              "#fb9f3a"
             ],
             [
              0.8888888888888888,
              "#fdca26"
             ],
             [
              1,
              "#f0f921"
             ]
            ],
            "type": "heatmap"
           }
          ],
          "heatmapgl": [
           {
            "colorbar": {
             "outlinewidth": 0,
             "ticks": ""
            },
            "colorscale": [
             [
              0,
              "#0d0887"
             ],
             [
              0.1111111111111111,
              "#46039f"
             ],
             [
              0.2222222222222222,
              "#7201a8"
             ],
             [
              0.3333333333333333,
              "#9c179e"
             ],
             [
              0.4444444444444444,
              "#bd3786"
             ],
             [
              0.5555555555555556,
              "#d8576b"
             ],
             [
              0.6666666666666666,
              "#ed7953"
             ],
             [
              0.7777777777777778,
              "#fb9f3a"
             ],
             [
              0.8888888888888888,
              "#fdca26"
             ],
             [
              1,
              "#f0f921"
             ]
            ],
            "type": "heatmapgl"
           }
          ],
          "histogram": [
           {
            "marker": {
             "colorbar": {
              "outlinewidth": 0,
              "ticks": ""
             }
            },
            "type": "histogram"
           }
          ],
          "histogram2d": [
           {
            "colorbar": {
             "outlinewidth": 0,
             "ticks": ""
            },
            "colorscale": [
             [
              0,
              "#0d0887"
             ],
             [
              0.1111111111111111,
              "#46039f"
             ],
             [
              0.2222222222222222,
              "#7201a8"
             ],
             [
              0.3333333333333333,
              "#9c179e"
             ],
             [
              0.4444444444444444,
              "#bd3786"
             ],
             [
              0.5555555555555556,
              "#d8576b"
             ],
             [
              0.6666666666666666,
              "#ed7953"
             ],
             [
              0.7777777777777778,
              "#fb9f3a"
             ],
             [
              0.8888888888888888,
              "#fdca26"
             ],
             [
              1,
              "#f0f921"
             ]
            ],
            "type": "histogram2d"
           }
          ],
          "histogram2dcontour": [
           {
            "colorbar": {
             "outlinewidth": 0,
             "ticks": ""
            },
            "colorscale": [
             [
              0,
              "#0d0887"
             ],
             [
              0.1111111111111111,
              "#46039f"
             ],
             [
              0.2222222222222222,
              "#7201a8"
             ],
             [
              0.3333333333333333,
              "#9c179e"
             ],
             [
              0.4444444444444444,
              "#bd3786"
             ],
             [
              0.5555555555555556,
              "#d8576b"
             ],
             [
              0.6666666666666666,
              "#ed7953"
             ],
             [
              0.7777777777777778,
              "#fb9f3a"
             ],
             [
              0.8888888888888888,
              "#fdca26"
             ],
             [
              1,
              "#f0f921"
             ]
            ],
            "type": "histogram2dcontour"
           }
          ],
          "mesh3d": [
           {
            "colorbar": {
             "outlinewidth": 0,
             "ticks": ""
            },
            "type": "mesh3d"
           }
          ],
          "parcoords": [
           {
            "line": {
             "colorbar": {
              "outlinewidth": 0,
              "ticks": ""
             }
            },
            "type": "parcoords"
           }
          ],
          "pie": [
           {
            "automargin": true,
            "type": "pie"
           }
          ],
          "scatter": [
           {
            "marker": {
             "colorbar": {
              "outlinewidth": 0,
              "ticks": ""
             }
            },
            "type": "scatter"
           }
          ],
          "scatter3d": [
           {
            "line": {
             "colorbar": {
              "outlinewidth": 0,
              "ticks": ""
             }
            },
            "marker": {
             "colorbar": {
              "outlinewidth": 0,
              "ticks": ""
             }
            },
            "type": "scatter3d"
           }
          ],
          "scattercarpet": [
           {
            "marker": {
             "colorbar": {
              "outlinewidth": 0,
              "ticks": ""
             }
            },
            "type": "scattercarpet"
           }
          ],
          "scattergeo": [
           {
            "marker": {
             "colorbar": {
              "outlinewidth": 0,
              "ticks": ""
             }
            },
            "type": "scattergeo"
           }
          ],
          "scattergl": [
           {
            "marker": {
             "colorbar": {
              "outlinewidth": 0,
              "ticks": ""
             }
            },
            "type": "scattergl"
           }
          ],
          "scattermapbox": [
           {
            "marker": {
             "colorbar": {
              "outlinewidth": 0,
              "ticks": ""
             }
            },
            "type": "scattermapbox"
           }
          ],
          "scatterpolar": [
           {
            "marker": {
             "colorbar": {
              "outlinewidth": 0,
              "ticks": ""
             }
            },
            "type": "scatterpolar"
           }
          ],
          "scatterpolargl": [
           {
            "marker": {
             "colorbar": {
              "outlinewidth": 0,
              "ticks": ""
             }
            },
            "type": "scatterpolargl"
           }
          ],
          "scatterternary": [
           {
            "marker": {
             "colorbar": {
              "outlinewidth": 0,
              "ticks": ""
             }
            },
            "type": "scatterternary"
           }
          ],
          "surface": [
           {
            "colorbar": {
             "outlinewidth": 0,
             "ticks": ""
            },
            "colorscale": [
             [
              0,
              "#0d0887"
             ],
             [
              0.1111111111111111,
              "#46039f"
             ],
             [
              0.2222222222222222,
              "#7201a8"
             ],
             [
              0.3333333333333333,
              "#9c179e"
             ],
             [
              0.4444444444444444,
              "#bd3786"
             ],
             [
              0.5555555555555556,
              "#d8576b"
             ],
             [
              0.6666666666666666,
              "#ed7953"
             ],
             [
              0.7777777777777778,
              "#fb9f3a"
             ],
             [
              0.8888888888888888,
              "#fdca26"
             ],
             [
              1,
              "#f0f921"
             ]
            ],
            "type": "surface"
           }
          ],
          "table": [
           {
            "cells": {
             "fill": {
              "color": "#EBF0F8"
             },
             "line": {
              "color": "white"
             }
            },
            "header": {
             "fill": {
              "color": "#C8D4E3"
             },
             "line": {
              "color": "white"
             }
            },
            "type": "table"
           }
          ]
         },
         "layout": {
          "annotationdefaults": {
           "arrowcolor": "#2a3f5f",
           "arrowhead": 0,
           "arrowwidth": 1
          },
          "autotypenumbers": "strict",
          "coloraxis": {
           "colorbar": {
            "outlinewidth": 0,
            "ticks": ""
           }
          },
          "colorscale": {
           "diverging": [
            [
             0,
             "#8e0152"
            ],
            [
             0.1,
             "#c51b7d"
            ],
            [
             0.2,
             "#de77ae"
            ],
            [
             0.3,
             "#f1b6da"
            ],
            [
             0.4,
             "#fde0ef"
            ],
            [
             0.5,
             "#f7f7f7"
            ],
            [
             0.6,
             "#e6f5d0"
            ],
            [
             0.7,
             "#b8e186"
            ],
            [
             0.8,
             "#7fbc41"
            ],
            [
             0.9,
             "#4d9221"
            ],
            [
             1,
             "#276419"
            ]
           ],
           "sequential": [
            [
             0,
             "#0d0887"
            ],
            [
             0.1111111111111111,
             "#46039f"
            ],
            [
             0.2222222222222222,
             "#7201a8"
            ],
            [
             0.3333333333333333,
             "#9c179e"
            ],
            [
             0.4444444444444444,
             "#bd3786"
            ],
            [
             0.5555555555555556,
             "#d8576b"
            ],
            [
             0.6666666666666666,
             "#ed7953"
            ],
            [
             0.7777777777777778,
             "#fb9f3a"
            ],
            [
             0.8888888888888888,
             "#fdca26"
            ],
            [
             1,
             "#f0f921"
            ]
           ],
           "sequentialminus": [
            [
             0,
             "#0d0887"
            ],
            [
             0.1111111111111111,
             "#46039f"
            ],
            [
             0.2222222222222222,
             "#7201a8"
            ],
            [
             0.3333333333333333,
             "#9c179e"
            ],
            [
             0.4444444444444444,
             "#bd3786"
            ],
            [
             0.5555555555555556,
             "#d8576b"
            ],
            [
             0.6666666666666666,
             "#ed7953"
            ],
            [
             0.7777777777777778,
             "#fb9f3a"
            ],
            [
             0.8888888888888888,
             "#fdca26"
            ],
            [
             1,
             "#f0f921"
            ]
           ]
          },
          "colorway": [
           "#636efa",
           "#EF553B",
           "#00cc96",
           "#ab63fa",
           "#FFA15A",
           "#19d3f3",
           "#FF6692",
           "#B6E880",
           "#FF97FF",
           "#FECB52"
          ],
          "font": {
           "color": "#2a3f5f"
          },
          "geo": {
           "bgcolor": "white",
           "lakecolor": "white",
           "landcolor": "#E5ECF6",
           "showlakes": true,
           "showland": true,
           "subunitcolor": "white"
          },
          "hoverlabel": {
           "align": "left"
          },
          "hovermode": "closest",
          "mapbox": {
           "style": "light"
          },
          "paper_bgcolor": "white",
          "plot_bgcolor": "#E5ECF6",
          "polar": {
           "angularaxis": {
            "gridcolor": "white",
            "linecolor": "white",
            "ticks": ""
           },
           "bgcolor": "#E5ECF6",
           "radialaxis": {
            "gridcolor": "white",
            "linecolor": "white",
            "ticks": ""
           }
          },
          "scene": {
           "xaxis": {
            "backgroundcolor": "#E5ECF6",
            "gridcolor": "white",
            "gridwidth": 2,
            "linecolor": "white",
            "showbackground": true,
            "ticks": "",
            "zerolinecolor": "white"
           },
           "yaxis": {
            "backgroundcolor": "#E5ECF6",
            "gridcolor": "white",
            "gridwidth": 2,
            "linecolor": "white",
            "showbackground": true,
            "ticks": "",
            "zerolinecolor": "white"
           },
           "zaxis": {
            "backgroundcolor": "#E5ECF6",
            "gridcolor": "white",
            "gridwidth": 2,
            "linecolor": "white",
            "showbackground": true,
            "ticks": "",
            "zerolinecolor": "white"
           }
          },
          "shapedefaults": {
           "line": {
            "color": "#2a3f5f"
           }
          },
          "ternary": {
           "aaxis": {
            "gridcolor": "white",
            "linecolor": "white",
            "ticks": ""
           },
           "baxis": {
            "gridcolor": "white",
            "linecolor": "white",
            "ticks": ""
           },
           "bgcolor": "#E5ECF6",
           "caxis": {
            "gridcolor": "white",
            "linecolor": "white",
            "ticks": ""
           }
          },
          "title": {
           "x": 0.05
          },
          "xaxis": {
           "automargin": true,
           "gridcolor": "white",
           "linecolor": "white",
           "ticks": "",
           "title": {
            "standoff": 15
           },
           "zerolinecolor": "white",
           "zerolinewidth": 2
          },
          "yaxis": {
           "automargin": true,
           "gridcolor": "white",
           "linecolor": "white",
           "ticks": "",
           "title": {
            "standoff": 15
           },
           "zerolinecolor": "white",
           "zerolinewidth": 2
          }
         }
        },
        "title": {
         "text": "<span style='font-size: 22px;'><b>Fields of Study<b></span>",
         "x": 0.5
        }
       }
      },
      "text/html": [
       "<div>                            <div id=\"f4768478-7001-43a1-a8c7-bc625c659337\" class=\"plotly-graph-div\" style=\"height:525px; width:100%;\"></div>            <script type=\"text/javascript\">                require([\"plotly\"], function(Plotly) {                    window.PLOTLYENV=window.PLOTLYENV || {};                                    if (document.getElementById(\"f4768478-7001-43a1-a8c7-bc625c659337\")) {                    Plotly.newPlot(                        \"f4768478-7001-43a1-a8c7-bc625c659337\",                        [{\"domain\": {\"x\": [0.0, 1.0], \"y\": [0.0, 1.0]}, \"hovertemplate\": \"field=%{label}<br>occurence=%{value}<extra></extra>\", \"labels\": [\"Geology\", \"Medicine\", \"Chemistry\", \"Biology\", \"Physics\", \"Environmental Science\", \"Materials Science\", \"Computer Science\", \"Engineering\", \"Geography\", \"History\"], \"legendgroup\": \"\", \"name\": \"\", \"showlegend\": true, \"type\": \"pie\", \"values\": [387, 288, 154, 82, 77, 59, 45, 13, 10, 5, 1]}],                        {\"font\": {\"color\": \"white\", \"family\": \"Courier New, monospace\", \"size\": 14}, \"legend\": {\"tracegroupgap\": 0}, \"margin\": {\"t\": 60}, \"paper_bgcolor\": \"#101126\", \"plot_bgcolor\": \"#101126\", \"template\": {\"data\": {\"bar\": [{\"error_x\": {\"color\": \"#2a3f5f\"}, \"error_y\": {\"color\": \"#2a3f5f\"}, \"marker\": {\"line\": {\"color\": \"#E5ECF6\", \"width\": 0.5}}, \"type\": \"bar\"}], \"barpolar\": [{\"marker\": {\"line\": {\"color\": \"#E5ECF6\", \"width\": 0.5}}, \"type\": \"barpolar\"}], \"carpet\": [{\"aaxis\": {\"endlinecolor\": \"#2a3f5f\", \"gridcolor\": \"white\", \"linecolor\": \"white\", \"minorgridcolor\": \"white\", \"startlinecolor\": \"#2a3f5f\"}, \"baxis\": {\"endlinecolor\": \"#2a3f5f\", \"gridcolor\": \"white\", \"linecolor\": \"white\", \"minorgridcolor\": \"white\", \"startlinecolor\": \"#2a3f5f\"}, \"type\": \"carpet\"}], \"choropleth\": [{\"colorbar\": {\"outlinewidth\": 0, \"ticks\": \"\"}, \"type\": \"choropleth\"}], \"contour\": [{\"colorbar\": {\"outlinewidth\": 0, \"ticks\": \"\"}, \"colorscale\": [[0.0, \"#0d0887\"], [0.1111111111111111, \"#46039f\"], [0.2222222222222222, \"#7201a8\"], [0.3333333333333333, \"#9c179e\"], [0.4444444444444444, \"#bd3786\"], [0.5555555555555556, \"#d8576b\"], [0.6666666666666666, \"#ed7953\"], [0.7777777777777778, \"#fb9f3a\"], [0.8888888888888888, \"#fdca26\"], [1.0, \"#f0f921\"]], \"type\": \"contour\"}], \"contourcarpet\": [{\"colorbar\": {\"outlinewidth\": 0, \"ticks\": \"\"}, \"type\": \"contourcarpet\"}], \"heatmap\": [{\"colorbar\": {\"outlinewidth\": 0, \"ticks\": \"\"}, \"colorscale\": [[0.0, \"#0d0887\"], [0.1111111111111111, \"#46039f\"], [0.2222222222222222, \"#7201a8\"], [0.3333333333333333, \"#9c179e\"], [0.4444444444444444, \"#bd3786\"], [0.5555555555555556, \"#d8576b\"], [0.6666666666666666, \"#ed7953\"], [0.7777777777777778, \"#fb9f3a\"], [0.8888888888888888, \"#fdca26\"], [1.0, \"#f0f921\"]], \"type\": \"heatmap\"}], \"heatmapgl\": [{\"colorbar\": {\"outlinewidth\": 0, \"ticks\": \"\"}, \"colorscale\": [[0.0, \"#0d0887\"], [0.1111111111111111, \"#46039f\"], [0.2222222222222222, \"#7201a8\"], [0.3333333333333333, \"#9c179e\"], [0.4444444444444444, \"#bd3786\"], [0.5555555555555556, \"#d8576b\"], [0.6666666666666666, \"#ed7953\"], [0.7777777777777778, \"#fb9f3a\"], [0.8888888888888888, \"#fdca26\"], [1.0, \"#f0f921\"]], \"type\": \"heatmapgl\"}], \"histogram\": [{\"marker\": {\"colorbar\": {\"outlinewidth\": 0, \"ticks\": \"\"}}, \"type\": \"histogram\"}], \"histogram2d\": [{\"colorbar\": {\"outlinewidth\": 0, \"ticks\": \"\"}, \"colorscale\": [[0.0, \"#0d0887\"], [0.1111111111111111, \"#46039f\"], [0.2222222222222222, \"#7201a8\"], [0.3333333333333333, \"#9c179e\"], [0.4444444444444444, \"#bd3786\"], [0.5555555555555556, \"#d8576b\"], [0.6666666666666666, \"#ed7953\"], [0.7777777777777778, \"#fb9f3a\"], [0.8888888888888888, \"#fdca26\"], [1.0, \"#f0f921\"]], \"type\": \"histogram2d\"}], \"histogram2dcontour\": [{\"colorbar\": {\"outlinewidth\": 0, \"ticks\": \"\"}, \"colorscale\": [[0.0, \"#0d0887\"], [0.1111111111111111, \"#46039f\"], [0.2222222222222222, \"#7201a8\"], [0.3333333333333333, \"#9c179e\"], [0.4444444444444444, \"#bd3786\"], [0.5555555555555556, \"#d8576b\"], [0.6666666666666666, \"#ed7953\"], [0.7777777777777778, \"#fb9f3a\"], [0.8888888888888888, \"#fdca26\"], [1.0, \"#f0f921\"]], \"type\": \"histogram2dcontour\"}], \"mesh3d\": [{\"colorbar\": {\"outlinewidth\": 0, \"ticks\": \"\"}, \"type\": \"mesh3d\"}], \"parcoords\": [{\"line\": {\"colorbar\": {\"outlinewidth\": 0, \"ticks\": \"\"}}, \"type\": \"parcoords\"}], \"pie\": [{\"automargin\": true, \"type\": \"pie\"}], \"scatter\": [{\"marker\": {\"colorbar\": {\"outlinewidth\": 0, \"ticks\": \"\"}}, \"type\": \"scatter\"}], \"scatter3d\": [{\"line\": {\"colorbar\": {\"outlinewidth\": 0, \"ticks\": \"\"}}, \"marker\": {\"colorbar\": {\"outlinewidth\": 0, \"ticks\": \"\"}}, \"type\": \"scatter3d\"}], \"scattercarpet\": [{\"marker\": {\"colorbar\": {\"outlinewidth\": 0, \"ticks\": \"\"}}, \"type\": \"scattercarpet\"}], \"scattergeo\": [{\"marker\": {\"colorbar\": {\"outlinewidth\": 0, \"ticks\": \"\"}}, \"type\": \"scattergeo\"}], \"scattergl\": [{\"marker\": {\"colorbar\": {\"outlinewidth\": 0, \"ticks\": \"\"}}, \"type\": \"scattergl\"}], \"scattermapbox\": [{\"marker\": {\"colorbar\": {\"outlinewidth\": 0, \"ticks\": \"\"}}, \"type\": \"scattermapbox\"}], \"scatterpolar\": [{\"marker\": {\"colorbar\": {\"outlinewidth\": 0, \"ticks\": \"\"}}, \"type\": \"scatterpolar\"}], \"scatterpolargl\": [{\"marker\": {\"colorbar\": {\"outlinewidth\": 0, \"ticks\": \"\"}}, \"type\": \"scatterpolargl\"}], \"scatterternary\": [{\"marker\": {\"colorbar\": {\"outlinewidth\": 0, \"ticks\": \"\"}}, \"type\": \"scatterternary\"}], \"surface\": [{\"colorbar\": {\"outlinewidth\": 0, \"ticks\": \"\"}, \"colorscale\": [[0.0, \"#0d0887\"], [0.1111111111111111, \"#46039f\"], [0.2222222222222222, \"#7201a8\"], [0.3333333333333333, \"#9c179e\"], [0.4444444444444444, \"#bd3786\"], [0.5555555555555556, \"#d8576b\"], [0.6666666666666666, \"#ed7953\"], [0.7777777777777778, \"#fb9f3a\"], [0.8888888888888888, \"#fdca26\"], [1.0, \"#f0f921\"]], \"type\": \"surface\"}], \"table\": [{\"cells\": {\"fill\": {\"color\": \"#EBF0F8\"}, \"line\": {\"color\": \"white\"}}, \"header\": {\"fill\": {\"color\": \"#C8D4E3\"}, \"line\": {\"color\": \"white\"}}, \"type\": \"table\"}]}, \"layout\": {\"annotationdefaults\": {\"arrowcolor\": \"#2a3f5f\", \"arrowhead\": 0, \"arrowwidth\": 1}, \"autotypenumbers\": \"strict\", \"coloraxis\": {\"colorbar\": {\"outlinewidth\": 0, \"ticks\": \"\"}}, \"colorscale\": {\"diverging\": [[0, \"#8e0152\"], [0.1, \"#c51b7d\"], [0.2, \"#de77ae\"], [0.3, \"#f1b6da\"], [0.4, \"#fde0ef\"], [0.5, \"#f7f7f7\"], [0.6, \"#e6f5d0\"], [0.7, \"#b8e186\"], [0.8, \"#7fbc41\"], [0.9, \"#4d9221\"], [1, \"#276419\"]], \"sequential\": [[0.0, \"#0d0887\"], [0.1111111111111111, \"#46039f\"], [0.2222222222222222, \"#7201a8\"], [0.3333333333333333, \"#9c179e\"], [0.4444444444444444, \"#bd3786\"], [0.5555555555555556, \"#d8576b\"], [0.6666666666666666, \"#ed7953\"], [0.7777777777777778, \"#fb9f3a\"], [0.8888888888888888, \"#fdca26\"], [1.0, \"#f0f921\"]], \"sequentialminus\": [[0.0, \"#0d0887\"], [0.1111111111111111, \"#46039f\"], [0.2222222222222222, \"#7201a8\"], [0.3333333333333333, \"#9c179e\"], [0.4444444444444444, \"#bd3786\"], [0.5555555555555556, \"#d8576b\"], [0.6666666666666666, \"#ed7953\"], [0.7777777777777778, \"#fb9f3a\"], [0.8888888888888888, \"#fdca26\"], [1.0, \"#f0f921\"]]}, \"colorway\": [\"#636efa\", \"#EF553B\", \"#00cc96\", \"#ab63fa\", \"#FFA15A\", \"#19d3f3\", \"#FF6692\", \"#B6E880\", \"#FF97FF\", \"#FECB52\"], \"font\": {\"color\": \"#2a3f5f\"}, \"geo\": {\"bgcolor\": \"white\", \"lakecolor\": \"white\", \"landcolor\": \"#E5ECF6\", \"showlakes\": true, \"showland\": true, \"subunitcolor\": \"white\"}, \"hoverlabel\": {\"align\": \"left\"}, \"hovermode\": \"closest\", \"mapbox\": {\"style\": \"light\"}, \"paper_bgcolor\": \"white\", \"plot_bgcolor\": \"#E5ECF6\", \"polar\": {\"angularaxis\": {\"gridcolor\": \"white\", \"linecolor\": \"white\", \"ticks\": \"\"}, \"bgcolor\": \"#E5ECF6\", \"radialaxis\": {\"gridcolor\": \"white\", \"linecolor\": \"white\", \"ticks\": \"\"}}, \"scene\": {\"xaxis\": {\"backgroundcolor\": \"#E5ECF6\", \"gridcolor\": \"white\", \"gridwidth\": 2, \"linecolor\": \"white\", \"showbackground\": true, \"ticks\": \"\", \"zerolinecolor\": \"white\"}, \"yaxis\": {\"backgroundcolor\": \"#E5ECF6\", \"gridcolor\": \"white\", \"gridwidth\": 2, \"linecolor\": \"white\", \"showbackground\": true, \"ticks\": \"\", \"zerolinecolor\": \"white\"}, \"zaxis\": {\"backgroundcolor\": \"#E5ECF6\", \"gridcolor\": \"white\", \"gridwidth\": 2, \"linecolor\": \"white\", \"showbackground\": true, \"ticks\": \"\", \"zerolinecolor\": \"white\"}}, \"shapedefaults\": {\"line\": {\"color\": \"#2a3f5f\"}}, \"ternary\": {\"aaxis\": {\"gridcolor\": \"white\", \"linecolor\": \"white\", \"ticks\": \"\"}, \"baxis\": {\"gridcolor\": \"white\", \"linecolor\": \"white\", \"ticks\": \"\"}, \"bgcolor\": \"#E5ECF6\", \"caxis\": {\"gridcolor\": \"white\", \"linecolor\": \"white\", \"ticks\": \"\"}}, \"title\": {\"x\": 0.05}, \"xaxis\": {\"automargin\": true, \"gridcolor\": \"white\", \"linecolor\": \"white\", \"ticks\": \"\", \"title\": {\"standoff\": 15}, \"zerolinecolor\": \"white\", \"zerolinewidth\": 2}, \"yaxis\": {\"automargin\": true, \"gridcolor\": \"white\", \"linecolor\": \"white\", \"ticks\": \"\", \"title\": {\"standoff\": 15}, \"zerolinecolor\": \"white\", \"zerolinewidth\": 2}}}, \"title\": {\"text\": \"<span style='font-size: 22px;'><b>Fields of Study<b></span>\", \"x\": 0.5}},                        {\"responsive\": true}                    ).then(function(){\n",
       "                            \n",
       "var gd = document.getElementById('f4768478-7001-43a1-a8c7-bc625c659337');\n",
       "var x = new MutationObserver(function (mutations, observer) {{\n",
       "        var display = window.getComputedStyle(gd).display;\n",
       "        if (!display || display === 'none') {{\n",
       "            console.log([gd, 'removed!']);\n",
       "            Plotly.purge(gd);\n",
       "            observer.disconnect();\n",
       "        }}\n",
       "}});\n",
       "\n",
       "// Listen for the removal of the full notebook cells\n",
       "var notebookContainer = gd.closest('#notebook-container');\n",
       "if (notebookContainer) {{\n",
       "    x.observe(notebookContainer, {childList: true});\n",
       "}}\n",
       "\n",
       "// Listen for the clearing of the current output cell\n",
       "var outputEl = gd.closest('.output');\n",
       "if (outputEl) {{\n",
       "    x.observe(outputEl, {childList: true});\n",
       "}}\n",
       "\n",
       "                        })                };                });            </script>        </div>"
      ]
     },
     "metadata": {},
     "output_type": "display_data"
    }
   ],
   "source": [
    "make_fields_pie(all_references_df)"
   ]
  },
  {
   "cell_type": "markdown",
   "id": "269e4947",
   "metadata": {
    "heading_collapsed": true,
    "hidden": true
   },
   "source": [
    "#### Authors"
   ]
  },
  {
   "cell_type": "code",
   "execution_count": 27,
   "id": "0691ff05",
   "metadata": {
    "collapsed": true,
    "hidden": true
   },
   "outputs": [
    {
     "data": {
      "text/plain": [
       "['K. Campbell',\n",
       " 'D. Guido',\n",
       " 'J. Farmer',\n",
       " 'M. V. Kranendonk',\n",
       " 'S. Ruff',\n",
       " 'F. Westall',\n",
       " 'R. Summons',\n",
       " 'J. Amend',\n",
       " 'D. Bish',\n",
       " 'R. Buick',\n",
       " 'G. Cody',\n",
       " 'D. D. Des Marais',\n",
       " 'G. Dromart',\n",
       " 'J. Eigenbrode',\n",
       " 'A. Knoll',\n",
       " 'D. Sumner',\n",
       " 'C. Weisbin',\n",
       " 'W. Lincoln',\n",
       " 'D. Papanastassiou',\n",
       " 'M. Coleman',\n",
       " 'K. Campbell',\n",
       " 'D. Guido',\n",
       " 'J. Farmer',\n",
       " 'M. V. Kranendonk',\n",
       " 'S. Ruff',\n",
       " 'F. Westall',\n",
       " 'Joost W. Aerts',\n",
       " 'A. Riedo',\n",
       " 'Daniel J. Melton',\n",
       " 'Simone Martini',\n",
       " 'J. Flahaut',\n",
       " 'U. Meierhenrich',\n",
       " 'C. Meinert',\n",
       " 'I. Myrgorodska',\n",
       " 'R. Lindner',\n",
       " 'P. Ehrenfreund',\n",
       " 'A. Gangidine',\n",
       " 'J. Havig',\n",
       " 'A. Czaja',\n",
       " 'F. Da Pieve',\n",
       " 'G. Gronoff',\n",
       " 'J. Guo',\n",
       " 'C. Mertens',\n",
       " 'L. Neary',\n",
       " 'B. Gu',\n",
       " 'N. Koval',\n",
       " 'J. Kohanoff',\n",
       " 'A. Vandaele',\n",
       " 'F. Cleri',\n",
       " 'M. Nachon',\n",
       " 'R. Ewing',\n",
       " 'M. Tice',\n",
       " 'J. Stromberg',\n",
       " 'A. Parkinson',\n",
       " 'M. Morison',\n",
       " 'E. Cloutis',\n",
       " 'N. Casson',\n",
       " 'D. Applin',\n",
       " 'J. Poitras',\n",
       " 'A. M. Martí',\n",
       " 'C. Maggiori',\n",
       " 'C. Cousins',\n",
       " 'L. Whyte',\n",
       " 'R. Kruzelecky',\n",
       " 'D. Das',\n",
       " 'R. Léveillé',\n",
       " 'K. Berlo',\n",
       " 'Shiv K. Sharma',\n",
       " 'T. Acosta-Maeda',\n",
       " 'M. Daly',\n",
       " 'E. Lalla',\n",
       " 'M. Floyd',\n",
       " 'Amy J. Williams',\n",
       " 'A. Grubisic',\n",
       " 'D. Emerson',\n",
       " 'Joshua Williams',\n",
       " 'T. Nagle-McNaughton',\n",
       " 'H. Newsom',\n",
       " 'Z. Gallegos',\n",
       " 'H. A. Wilkie',\n",
       " 'D. C. Martinez',\n",
       " 'L. Scuderi',\n",
       " 'L. Hays',\n",
       " 'H. Graham',\n",
       " 'D. D. Des Marais',\n",
       " 'E. Hausrath',\n",
       " 'B. Horgan',\n",
       " 'T. McCollom',\n",
       " 'M. Parenteau',\n",
       " 'S. Potter-McIntyre',\n",
       " 'Amy J. Williams',\n",
       " 'K. Lynch',\n",
       " 'S. Shkolyar',\n",
       " 'J. Farmer',\n",
       " 'M. Weng',\n",
       " 'M. Millan',\n",
       " 'E. Zaikova',\n",
       " 'J. Bevilacqua',\n",
       " 'S. S. Johnson',\n",
       " 'L. Hays',\n",
       " 'D. Beaty',\n",
       " 'B. Brenha',\n",
       " 'D. Galante',\n",
       " 'M. Román',\n",
       " 'R. V. Spanning',\n",
       " 'Murilo Carvalho',\n",
       " 'F. Rodrigues',\n",
       " 'F. Callefo',\n",
       " 'V. Teixeira',\n",
       " 'I. Neckel',\n",
       " 'Paula Morão',\n",
       " 'G. Borelli',\n",
       " 'A. Gangidine',\n",
       " 'A. Czaja',\n",
       " 'J. Havig',\n",
       " 'N. Cabrol',\n",
       " 'J. Bishop',\n",
       " 'S. Cady',\n",
       " 'N. Hinman',\n",
       " 'J. Moersch',\n",
       " 'N. Noffke',\n",
       " 'C. Phillips',\n",
       " 'P. Sobrón',\n",
       " 'D. Summers',\n",
       " 'K. Warren-Rhodes',\n",
       " 'D. Wettergreen',\n",
       " 'A. Czaja',\n",
       " 'A. Gangidine',\n",
       " 'K. Lorber',\n",
       " 'J. Osterhout',\n",
       " 'S. Shkolyar',\n",
       " 'J. Farmer',\n",
       " 'A. Pontefract',\n",
       " 'J. Hachey',\n",
       " 'A. Mojarro',\n",
       " 'V. Walker',\n",
       " 'H. Rowedder',\n",
       " 'T. F. Zhu',\n",
       " 'C. Lui',\n",
       " 'M. Zuber',\n",
       " 'G. Ruvkun',\n",
       " 'C. Carr',\n",
       " 'L. Beegle',\n",
       " 'R. Bhartia',\n",
       " 'W. Abbey',\n",
       " 'Jason E. French',\n",
       " 'D. Blake',\n",
       " 'K. Lorber',\n",
       " 'A. Czaja',\n",
       " 'P. Lee',\n",
       " 'D. Hamilton',\n",
       " 'Joshua Williams',\n",
       " 'M. Rice',\n",
       " 'S. Shkolyar',\n",
       " 'J. Farmer',\n",
       " 'J. Stromberg',\n",
       " 'D. Applin',\n",
       " 'E. Cloutis',\n",
       " 'M. Rice',\n",
       " 'G. Berard',\n",
       " 'P. Mann',\n",
       " 'B. Ehlmann',\n",
       " 'J. Mustard',\n",
       " 'S. Murchie',\n",
       " 'R. Green',\n",
       " 'P. Mouroulis',\n",
       " 'B. V. Gorp',\n",
       " 'M. Jeganathan',\n",
       " 'Y. H. Wu',\n",
       " 'T. Glavich',\n",
       " 'R. Bartos',\n",
       " 'J. Nastal',\n",
       " 'K. Strohbehn',\n",
       " 'D. Blaney',\n",
       " 'J. Boardman',\n",
       " 'J. Farmer',\n",
       " 'W. Fischer',\n",
       " 'J. Grotzinger',\n",
       " 'C. Herd',\n",
       " 'T. Hoehler',\n",
       " 'J. Hurowitz',\n",
       " 'M. Schmidt',\n",
       " 'F. Seelos',\n",
       " 'M. Wadhwa',\n",
       " 'A. Santo',\n",
       " 'J. Ferdosi',\n",
       " 'S. Shkolyar',\n",
       " 'E. Lalla',\n",
       " 'M. Konstantindis',\n",
       " 'K. Cote',\n",
       " 'M. Daly',\n",
       " 'A. Steele']"
      ]
     },
     "execution_count": 27,
     "metadata": {},
     "output_type": "execute_result"
    }
   ],
   "source": [
    "authors_list = []\n",
    "for index, row in results_df.iterrows():\n",
    "    for dict_ in row.authors:\n",
    "        authors_list.append(dict_['name'])\n",
    "authors_list"
   ]
  },
  {
   "cell_type": "code",
   "execution_count": 30,
   "id": "794ad8ec",
   "metadata": {
    "hidden": true
   },
   "outputs": [],
   "source": [
    "most_active_authors = Counter(authors_list).most_common()\n",
    "most_active_authors_df = pd.DataFrame(most_active_authors, columns=[\"author\", \"occurence\"])"
   ]
  },
  {
   "cell_type": "code",
   "execution_count": 31,
   "id": "a0bf4da5",
   "metadata": {
    "hidden": true
   },
   "outputs": [
    {
     "data": {
      "text/html": [
       "<div>\n",
       "<style scoped>\n",
       "    .dataframe tbody tr th:only-of-type {\n",
       "        vertical-align: middle;\n",
       "    }\n",
       "\n",
       "    .dataframe tbody tr th {\n",
       "        vertical-align: top;\n",
       "    }\n",
       "\n",
       "    .dataframe thead th {\n",
       "        text-align: right;\n",
       "    }\n",
       "</style>\n",
       "<table border=\"1\" class=\"dataframe\">\n",
       "  <thead>\n",
       "    <tr style=\"text-align: right;\">\n",
       "      <th></th>\n",
       "      <th>author</th>\n",
       "      <th>occurence</th>\n",
       "    </tr>\n",
       "  </thead>\n",
       "  <tbody>\n",
       "    <tr>\n",
       "      <th>0</th>\n",
       "      <td>J. Farmer</td>\n",
       "      <td>6</td>\n",
       "    </tr>\n",
       "    <tr>\n",
       "      <th>1</th>\n",
       "      <td>A. Czaja</td>\n",
       "      <td>4</td>\n",
       "    </tr>\n",
       "    <tr>\n",
       "      <th>2</th>\n",
       "      <td>S. Shkolyar</td>\n",
       "      <td>4</td>\n",
       "    </tr>\n",
       "    <tr>\n",
       "      <th>3</th>\n",
       "      <td>A. Gangidine</td>\n",
       "      <td>3</td>\n",
       "    </tr>\n",
       "    <tr>\n",
       "      <th>4</th>\n",
       "      <td>K. Campbell</td>\n",
       "      <td>2</td>\n",
       "    </tr>\n",
       "    <tr>\n",
       "      <th>...</th>\n",
       "      <td>...</td>\n",
       "      <td>...</td>\n",
       "    </tr>\n",
       "    <tr>\n",
       "      <th>157</th>\n",
       "      <td>A. Santo</td>\n",
       "      <td>1</td>\n",
       "    </tr>\n",
       "    <tr>\n",
       "      <th>158</th>\n",
       "      <td>J. Ferdosi</td>\n",
       "      <td>1</td>\n",
       "    </tr>\n",
       "    <tr>\n",
       "      <th>159</th>\n",
       "      <td>M. Konstantindis</td>\n",
       "      <td>1</td>\n",
       "    </tr>\n",
       "    <tr>\n",
       "      <th>160</th>\n",
       "      <td>K. Cote</td>\n",
       "      <td>1</td>\n",
       "    </tr>\n",
       "    <tr>\n",
       "      <th>161</th>\n",
       "      <td>A. Steele</td>\n",
       "      <td>1</td>\n",
       "    </tr>\n",
       "  </tbody>\n",
       "</table>\n",
       "<p>162 rows × 2 columns</p>\n",
       "</div>"
      ],
      "text/plain": [
       "               author  occurence\n",
       "0           J. Farmer          6\n",
       "1            A. Czaja          4\n",
       "2         S. Shkolyar          4\n",
       "3        A. Gangidine          3\n",
       "4         K. Campbell          2\n",
       "..                ...        ...\n",
       "157          A. Santo          1\n",
       "158        J. Ferdosi          1\n",
       "159  M. Konstantindis          1\n",
       "160           K. Cote          1\n",
       "161         A. Steele          1\n",
       "\n",
       "[162 rows x 2 columns]"
      ]
     },
     "execution_count": 31,
     "metadata": {},
     "output_type": "execute_result"
    }
   ],
   "source": [
    "most_active_authors_df"
   ]
  },
  {
   "cell_type": "code",
   "execution_count": 36,
   "id": "16ce7137",
   "metadata": {
    "hidden": true
   },
   "outputs": [],
   "source": [
    "def make_active_authors(df):\n",
    "    authors_list = []\n",
    "    for index, row in df.iterrows():\n",
    "        for dict_ in row.authors:\n",
    "            authors_list.append(dict_['name'])\n",
    "    most_active_authors = Counter(authors_list).most_common()\n",
    "    most_active_authors_df = pd.DataFrame(most_active_authors, columns=[\"author\", \"occurence\"])\n",
    "    fig = go.Figure(data=[go.Bar(x=most_active_authors_df[0:10].author,\n",
    "                              y= most_active_authors_df[0:10].occurence,\n",
    "                              texttemplate=\"%{y}\",\n",
    "                              textposition=\"outside\",\n",
    "                              textangle=0)])\n",
    "    fig.update_layout(title = \"<span style='font-size: 22px;'><b>Most active authors<b></span>\", title_x=0.5,\n",
    "                    font=dict(\n",
    "                              family=\"Courier New, monospace\",\n",
    "                              size=12,\n",
    "                              color=\"white\"\n",
    "    ),\n",
    "    paper_bgcolor = \"#101126\",\n",
    "    plot_bgcolor = \"#101126\")\n",
    "\n",
    "    fig.update_traces(marker_color='#eda109')\n",
    "    fig.update_xaxes(title=\"Authors\")\n",
    "    fig.update_yaxes(title=\"Number of Publications\", range= [0, 1.1* most_active_authors_df.occurence.max()])\n",
    "    return fig"
   ]
  },
  {
   "cell_type": "code",
   "execution_count": 37,
   "id": "49dfc99a",
   "metadata": {
    "hidden": true
   },
   "outputs": [
    {
     "data": {
      "application/vnd.plotly.v1+json": {
       "config": {
        "plotlyServerURL": "https://plot.ly"
       },
       "data": [
        {
         "marker": {
          "color": "#eda109"
         },
         "textangle": 0,
         "textposition": "outside",
         "texttemplate": "%{y}",
         "type": "bar",
         "x": [
          "J. Farmer",
          "A. Czaja",
          "S. Shkolyar",
          "A. Gangidine",
          "K. Campbell",
          "D. Guido",
          "M. V. Kranendonk",
          "S. Ruff",
          "F. Westall",
          "D. D. Des Marais"
         ],
         "y": [
          6,
          4,
          4,
          3,
          2,
          2,
          2,
          2,
          2,
          2
         ]
        }
       ],
       "layout": {
        "font": {
         "color": "white",
         "family": "Courier New, monospace",
         "size": 12
        },
        "paper_bgcolor": "#101126",
        "plot_bgcolor": "#101126",
        "template": {
         "data": {
          "bar": [
           {
            "error_x": {
             "color": "#2a3f5f"
            },
            "error_y": {
             "color": "#2a3f5f"
            },
            "marker": {
             "line": {
              "color": "#E5ECF6",
              "width": 0.5
             }
            },
            "type": "bar"
           }
          ],
          "barpolar": [
           {
            "marker": {
             "line": {
              "color": "#E5ECF6",
              "width": 0.5
             }
            },
            "type": "barpolar"
           }
          ],
          "carpet": [
           {
            "aaxis": {
             "endlinecolor": "#2a3f5f",
             "gridcolor": "white",
             "linecolor": "white",
             "minorgridcolor": "white",
             "startlinecolor": "#2a3f5f"
            },
            "baxis": {
             "endlinecolor": "#2a3f5f",
             "gridcolor": "white",
             "linecolor": "white",
             "minorgridcolor": "white",
             "startlinecolor": "#2a3f5f"
            },
            "type": "carpet"
           }
          ],
          "choropleth": [
           {
            "colorbar": {
             "outlinewidth": 0,
             "ticks": ""
            },
            "type": "choropleth"
           }
          ],
          "contour": [
           {
            "colorbar": {
             "outlinewidth": 0,
             "ticks": ""
            },
            "colorscale": [
             [
              0,
              "#0d0887"
             ],
             [
              0.1111111111111111,
              "#46039f"
             ],
             [
              0.2222222222222222,
              "#7201a8"
             ],
             [
              0.3333333333333333,
              "#9c179e"
             ],
             [
              0.4444444444444444,
              "#bd3786"
             ],
             [
              0.5555555555555556,
              "#d8576b"
             ],
             [
              0.6666666666666666,
              "#ed7953"
             ],
             [
              0.7777777777777778,
              "#fb9f3a"
             ],
             [
              0.8888888888888888,
              "#fdca26"
             ],
             [
              1,
              "#f0f921"
             ]
            ],
            "type": "contour"
           }
          ],
          "contourcarpet": [
           {
            "colorbar": {
             "outlinewidth": 0,
             "ticks": ""
            },
            "type": "contourcarpet"
           }
          ],
          "heatmap": [
           {
            "colorbar": {
             "outlinewidth": 0,
             "ticks": ""
            },
            "colorscale": [
             [
              0,
              "#0d0887"
             ],
             [
              0.1111111111111111,
              "#46039f"
             ],
             [
              0.2222222222222222,
              "#7201a8"
             ],
             [
              0.3333333333333333,
              "#9c179e"
             ],
             [
              0.4444444444444444,
              "#bd3786"
             ],
             [
              0.5555555555555556,
              "#d8576b"
             ],
             [
              0.6666666666666666,
              "#ed7953"
             ],
             [
              0.7777777777777778,
              "#fb9f3a"
             ],
             [
              0.8888888888888888,
              "#fdca26"
             ],
             [
              1,
              "#f0f921"
             ]
            ],
            "type": "heatmap"
           }
          ],
          "heatmapgl": [
           {
            "colorbar": {
             "outlinewidth": 0,
             "ticks": ""
            },
            "colorscale": [
             [
              0,
              "#0d0887"
             ],
             [
              0.1111111111111111,
              "#46039f"
             ],
             [
              0.2222222222222222,
              "#7201a8"
             ],
             [
              0.3333333333333333,
              "#9c179e"
             ],
             [
              0.4444444444444444,
              "#bd3786"
             ],
             [
              0.5555555555555556,
              "#d8576b"
             ],
             [
              0.6666666666666666,
              "#ed7953"
             ],
             [
              0.7777777777777778,
              "#fb9f3a"
             ],
             [
              0.8888888888888888,
              "#fdca26"
             ],
             [
              1,
              "#f0f921"
             ]
            ],
            "type": "heatmapgl"
           }
          ],
          "histogram": [
           {
            "marker": {
             "colorbar": {
              "outlinewidth": 0,
              "ticks": ""
             }
            },
            "type": "histogram"
           }
          ],
          "histogram2d": [
           {
            "colorbar": {
             "outlinewidth": 0,
             "ticks": ""
            },
            "colorscale": [
             [
              0,
              "#0d0887"
             ],
             [
              0.1111111111111111,
              "#46039f"
             ],
             [
              0.2222222222222222,
              "#7201a8"
             ],
             [
              0.3333333333333333,
              "#9c179e"
             ],
             [
              0.4444444444444444,
              "#bd3786"
             ],
             [
              0.5555555555555556,
              "#d8576b"
             ],
             [
              0.6666666666666666,
              "#ed7953"
             ],
             [
              0.7777777777777778,
              "#fb9f3a"
             ],
             [
              0.8888888888888888,
              "#fdca26"
             ],
             [
              1,
              "#f0f921"
             ]
            ],
            "type": "histogram2d"
           }
          ],
          "histogram2dcontour": [
           {
            "colorbar": {
             "outlinewidth": 0,
             "ticks": ""
            },
            "colorscale": [
             [
              0,
              "#0d0887"
             ],
             [
              0.1111111111111111,
              "#46039f"
             ],
             [
              0.2222222222222222,
              "#7201a8"
             ],
             [
              0.3333333333333333,
              "#9c179e"
             ],
             [
              0.4444444444444444,
              "#bd3786"
             ],
             [
              0.5555555555555556,
              "#d8576b"
             ],
             [
              0.6666666666666666,
              "#ed7953"
             ],
             [
              0.7777777777777778,
              "#fb9f3a"
             ],
             [
              0.8888888888888888,
              "#fdca26"
             ],
             [
              1,
              "#f0f921"
             ]
            ],
            "type": "histogram2dcontour"
           }
          ],
          "mesh3d": [
           {
            "colorbar": {
             "outlinewidth": 0,
             "ticks": ""
            },
            "type": "mesh3d"
           }
          ],
          "parcoords": [
           {
            "line": {
             "colorbar": {
              "outlinewidth": 0,
              "ticks": ""
             }
            },
            "type": "parcoords"
           }
          ],
          "pie": [
           {
            "automargin": true,
            "type": "pie"
           }
          ],
          "scatter": [
           {
            "marker": {
             "colorbar": {
              "outlinewidth": 0,
              "ticks": ""
             }
            },
            "type": "scatter"
           }
          ],
          "scatter3d": [
           {
            "line": {
             "colorbar": {
              "outlinewidth": 0,
              "ticks": ""
             }
            },
            "marker": {
             "colorbar": {
              "outlinewidth": 0,
              "ticks": ""
             }
            },
            "type": "scatter3d"
           }
          ],
          "scattercarpet": [
           {
            "marker": {
             "colorbar": {
              "outlinewidth": 0,
              "ticks": ""
             }
            },
            "type": "scattercarpet"
           }
          ],
          "scattergeo": [
           {
            "marker": {
             "colorbar": {
              "outlinewidth": 0,
              "ticks": ""
             }
            },
            "type": "scattergeo"
           }
          ],
          "scattergl": [
           {
            "marker": {
             "colorbar": {
              "outlinewidth": 0,
              "ticks": ""
             }
            },
            "type": "scattergl"
           }
          ],
          "scattermapbox": [
           {
            "marker": {
             "colorbar": {
              "outlinewidth": 0,
              "ticks": ""
             }
            },
            "type": "scattermapbox"
           }
          ],
          "scatterpolar": [
           {
            "marker": {
             "colorbar": {
              "outlinewidth": 0,
              "ticks": ""
             }
            },
            "type": "scatterpolar"
           }
          ],
          "scatterpolargl": [
           {
            "marker": {
             "colorbar": {
              "outlinewidth": 0,
              "ticks": ""
             }
            },
            "type": "scatterpolargl"
           }
          ],
          "scatterternary": [
           {
            "marker": {
             "colorbar": {
              "outlinewidth": 0,
              "ticks": ""
             }
            },
            "type": "scatterternary"
           }
          ],
          "surface": [
           {
            "colorbar": {
             "outlinewidth": 0,
             "ticks": ""
            },
            "colorscale": [
             [
              0,
              "#0d0887"
             ],
             [
              0.1111111111111111,
              "#46039f"
             ],
             [
              0.2222222222222222,
              "#7201a8"
             ],
             [
              0.3333333333333333,
              "#9c179e"
             ],
             [
              0.4444444444444444,
              "#bd3786"
             ],
             [
              0.5555555555555556,
              "#d8576b"
             ],
             [
              0.6666666666666666,
              "#ed7953"
             ],
             [
              0.7777777777777778,
              "#fb9f3a"
             ],
             [
              0.8888888888888888,
              "#fdca26"
             ],
             [
              1,
              "#f0f921"
             ]
            ],
            "type": "surface"
           }
          ],
          "table": [
           {
            "cells": {
             "fill": {
              "color": "#EBF0F8"
             },
             "line": {
              "color": "white"
             }
            },
            "header": {
             "fill": {
              "color": "#C8D4E3"
             },
             "line": {
              "color": "white"
             }
            },
            "type": "table"
           }
          ]
         },
         "layout": {
          "annotationdefaults": {
           "arrowcolor": "#2a3f5f",
           "arrowhead": 0,
           "arrowwidth": 1
          },
          "autotypenumbers": "strict",
          "coloraxis": {
           "colorbar": {
            "outlinewidth": 0,
            "ticks": ""
           }
          },
          "colorscale": {
           "diverging": [
            [
             0,
             "#8e0152"
            ],
            [
             0.1,
             "#c51b7d"
            ],
            [
             0.2,
             "#de77ae"
            ],
            [
             0.3,
             "#f1b6da"
            ],
            [
             0.4,
             "#fde0ef"
            ],
            [
             0.5,
             "#f7f7f7"
            ],
            [
             0.6,
             "#e6f5d0"
            ],
            [
             0.7,
             "#b8e186"
            ],
            [
             0.8,
             "#7fbc41"
            ],
            [
             0.9,
             "#4d9221"
            ],
            [
             1,
             "#276419"
            ]
           ],
           "sequential": [
            [
             0,
             "#0d0887"
            ],
            [
             0.1111111111111111,
             "#46039f"
            ],
            [
             0.2222222222222222,
             "#7201a8"
            ],
            [
             0.3333333333333333,
             "#9c179e"
            ],
            [
             0.4444444444444444,
             "#bd3786"
            ],
            [
             0.5555555555555556,
             "#d8576b"
            ],
            [
             0.6666666666666666,
             "#ed7953"
            ],
            [
             0.7777777777777778,
             "#fb9f3a"
            ],
            [
             0.8888888888888888,
             "#fdca26"
            ],
            [
             1,
             "#f0f921"
            ]
           ],
           "sequentialminus": [
            [
             0,
             "#0d0887"
            ],
            [
             0.1111111111111111,
             "#46039f"
            ],
            [
             0.2222222222222222,
             "#7201a8"
            ],
            [
             0.3333333333333333,
             "#9c179e"
            ],
            [
             0.4444444444444444,
             "#bd3786"
            ],
            [
             0.5555555555555556,
             "#d8576b"
            ],
            [
             0.6666666666666666,
             "#ed7953"
            ],
            [
             0.7777777777777778,
             "#fb9f3a"
            ],
            [
             0.8888888888888888,
             "#fdca26"
            ],
            [
             1,
             "#f0f921"
            ]
           ]
          },
          "colorway": [
           "#636efa",
           "#EF553B",
           "#00cc96",
           "#ab63fa",
           "#FFA15A",
           "#19d3f3",
           "#FF6692",
           "#B6E880",
           "#FF97FF",
           "#FECB52"
          ],
          "font": {
           "color": "#2a3f5f"
          },
          "geo": {
           "bgcolor": "white",
           "lakecolor": "white",
           "landcolor": "#E5ECF6",
           "showlakes": true,
           "showland": true,
           "subunitcolor": "white"
          },
          "hoverlabel": {
           "align": "left"
          },
          "hovermode": "closest",
          "mapbox": {
           "style": "light"
          },
          "paper_bgcolor": "white",
          "plot_bgcolor": "#E5ECF6",
          "polar": {
           "angularaxis": {
            "gridcolor": "white",
            "linecolor": "white",
            "ticks": ""
           },
           "bgcolor": "#E5ECF6",
           "radialaxis": {
            "gridcolor": "white",
            "linecolor": "white",
            "ticks": ""
           }
          },
          "scene": {
           "xaxis": {
            "backgroundcolor": "#E5ECF6",
            "gridcolor": "white",
            "gridwidth": 2,
            "linecolor": "white",
            "showbackground": true,
            "ticks": "",
            "zerolinecolor": "white"
           },
           "yaxis": {
            "backgroundcolor": "#E5ECF6",
            "gridcolor": "white",
            "gridwidth": 2,
            "linecolor": "white",
            "showbackground": true,
            "ticks": "",
            "zerolinecolor": "white"
           },
           "zaxis": {
            "backgroundcolor": "#E5ECF6",
            "gridcolor": "white",
            "gridwidth": 2,
            "linecolor": "white",
            "showbackground": true,
            "ticks": "",
            "zerolinecolor": "white"
           }
          },
          "shapedefaults": {
           "line": {
            "color": "#2a3f5f"
           }
          },
          "ternary": {
           "aaxis": {
            "gridcolor": "white",
            "linecolor": "white",
            "ticks": ""
           },
           "baxis": {
            "gridcolor": "white",
            "linecolor": "white",
            "ticks": ""
           },
           "bgcolor": "#E5ECF6",
           "caxis": {
            "gridcolor": "white",
            "linecolor": "white",
            "ticks": ""
           }
          },
          "title": {
           "x": 0.05
          },
          "xaxis": {
           "automargin": true,
           "gridcolor": "white",
           "linecolor": "white",
           "ticks": "",
           "title": {
            "standoff": 15
           },
           "zerolinecolor": "white",
           "zerolinewidth": 2
          },
          "yaxis": {
           "automargin": true,
           "gridcolor": "white",
           "linecolor": "white",
           "ticks": "",
           "title": {
            "standoff": 15
           },
           "zerolinecolor": "white",
           "zerolinewidth": 2
          }
         }
        },
        "title": {
         "text": "<span style='font-size: 22px;'><b>Most active authors<b></span>",
         "x": 0.5
        },
        "xaxis": {
         "title": {
          "text": "Authors"
         }
        },
        "yaxis": {
         "range": [
          0,
          6.6000000000000005
         ],
         "title": {
          "text": "Number of Publications"
         }
        }
       }
      },
      "text/html": [
       "<div>                            <div id=\"7ab7501a-2a57-4f80-92a7-334ab909e0ad\" class=\"plotly-graph-div\" style=\"height:525px; width:100%;\"></div>            <script type=\"text/javascript\">                require([\"plotly\"], function(Plotly) {                    window.PLOTLYENV=window.PLOTLYENV || {};                                    if (document.getElementById(\"7ab7501a-2a57-4f80-92a7-334ab909e0ad\")) {                    Plotly.newPlot(                        \"7ab7501a-2a57-4f80-92a7-334ab909e0ad\",                        [{\"marker\": {\"color\": \"#eda109\"}, \"textangle\": 0, \"textposition\": \"outside\", \"texttemplate\": \"%{y}\", \"type\": \"bar\", \"x\": [\"J. Farmer\", \"A. Czaja\", \"S. Shkolyar\", \"A. Gangidine\", \"K. Campbell\", \"D. Guido\", \"M. V. Kranendonk\", \"S. Ruff\", \"F. Westall\", \"D. D. Des Marais\"], \"y\": [6, 4, 4, 3, 2, 2, 2, 2, 2, 2]}],                        {\"font\": {\"color\": \"white\", \"family\": \"Courier New, monospace\", \"size\": 12}, \"paper_bgcolor\": \"#101126\", \"plot_bgcolor\": \"#101126\", \"template\": {\"data\": {\"bar\": [{\"error_x\": {\"color\": \"#2a3f5f\"}, \"error_y\": {\"color\": \"#2a3f5f\"}, \"marker\": {\"line\": {\"color\": \"#E5ECF6\", \"width\": 0.5}}, \"type\": \"bar\"}], \"barpolar\": [{\"marker\": {\"line\": {\"color\": \"#E5ECF6\", \"width\": 0.5}}, \"type\": \"barpolar\"}], \"carpet\": [{\"aaxis\": {\"endlinecolor\": \"#2a3f5f\", \"gridcolor\": \"white\", \"linecolor\": \"white\", \"minorgridcolor\": \"white\", \"startlinecolor\": \"#2a3f5f\"}, \"baxis\": {\"endlinecolor\": \"#2a3f5f\", \"gridcolor\": \"white\", \"linecolor\": \"white\", \"minorgridcolor\": \"white\", \"startlinecolor\": \"#2a3f5f\"}, \"type\": \"carpet\"}], \"choropleth\": [{\"colorbar\": {\"outlinewidth\": 0, \"ticks\": \"\"}, \"type\": \"choropleth\"}], \"contour\": [{\"colorbar\": {\"outlinewidth\": 0, \"ticks\": \"\"}, \"colorscale\": [[0.0, \"#0d0887\"], [0.1111111111111111, \"#46039f\"], [0.2222222222222222, \"#7201a8\"], [0.3333333333333333, \"#9c179e\"], [0.4444444444444444, \"#bd3786\"], [0.5555555555555556, \"#d8576b\"], [0.6666666666666666, \"#ed7953\"], [0.7777777777777778, \"#fb9f3a\"], [0.8888888888888888, \"#fdca26\"], [1.0, \"#f0f921\"]], \"type\": \"contour\"}], \"contourcarpet\": [{\"colorbar\": {\"outlinewidth\": 0, \"ticks\": \"\"}, \"type\": \"contourcarpet\"}], \"heatmap\": [{\"colorbar\": {\"outlinewidth\": 0, \"ticks\": \"\"}, \"colorscale\": [[0.0, \"#0d0887\"], [0.1111111111111111, \"#46039f\"], [0.2222222222222222, \"#7201a8\"], [0.3333333333333333, \"#9c179e\"], [0.4444444444444444, \"#bd3786\"], [0.5555555555555556, \"#d8576b\"], [0.6666666666666666, \"#ed7953\"], [0.7777777777777778, \"#fb9f3a\"], [0.8888888888888888, \"#fdca26\"], [1.0, \"#f0f921\"]], \"type\": \"heatmap\"}], \"heatmapgl\": [{\"colorbar\": {\"outlinewidth\": 0, \"ticks\": \"\"}, \"colorscale\": [[0.0, \"#0d0887\"], [0.1111111111111111, \"#46039f\"], [0.2222222222222222, \"#7201a8\"], [0.3333333333333333, \"#9c179e\"], [0.4444444444444444, \"#bd3786\"], [0.5555555555555556, \"#d8576b\"], [0.6666666666666666, \"#ed7953\"], [0.7777777777777778, \"#fb9f3a\"], [0.8888888888888888, \"#fdca26\"], [1.0, \"#f0f921\"]], \"type\": \"heatmapgl\"}], \"histogram\": [{\"marker\": {\"colorbar\": {\"outlinewidth\": 0, \"ticks\": \"\"}}, \"type\": \"histogram\"}], \"histogram2d\": [{\"colorbar\": {\"outlinewidth\": 0, \"ticks\": \"\"}, \"colorscale\": [[0.0, \"#0d0887\"], [0.1111111111111111, \"#46039f\"], [0.2222222222222222, \"#7201a8\"], [0.3333333333333333, \"#9c179e\"], [0.4444444444444444, \"#bd3786\"], [0.5555555555555556, \"#d8576b\"], [0.6666666666666666, \"#ed7953\"], [0.7777777777777778, \"#fb9f3a\"], [0.8888888888888888, \"#fdca26\"], [1.0, \"#f0f921\"]], \"type\": \"histogram2d\"}], \"histogram2dcontour\": [{\"colorbar\": {\"outlinewidth\": 0, \"ticks\": \"\"}, \"colorscale\": [[0.0, \"#0d0887\"], [0.1111111111111111, \"#46039f\"], [0.2222222222222222, \"#7201a8\"], [0.3333333333333333, \"#9c179e\"], [0.4444444444444444, \"#bd3786\"], [0.5555555555555556, \"#d8576b\"], [0.6666666666666666, \"#ed7953\"], [0.7777777777777778, \"#fb9f3a\"], [0.8888888888888888, \"#fdca26\"], [1.0, \"#f0f921\"]], \"type\": \"histogram2dcontour\"}], \"mesh3d\": [{\"colorbar\": {\"outlinewidth\": 0, \"ticks\": \"\"}, \"type\": \"mesh3d\"}], \"parcoords\": [{\"line\": {\"colorbar\": {\"outlinewidth\": 0, \"ticks\": \"\"}}, \"type\": \"parcoords\"}], \"pie\": [{\"automargin\": true, \"type\": \"pie\"}], \"scatter\": [{\"marker\": {\"colorbar\": {\"outlinewidth\": 0, \"ticks\": \"\"}}, \"type\": \"scatter\"}], \"scatter3d\": [{\"line\": {\"colorbar\": {\"outlinewidth\": 0, \"ticks\": \"\"}}, \"marker\": {\"colorbar\": {\"outlinewidth\": 0, \"ticks\": \"\"}}, \"type\": \"scatter3d\"}], \"scattercarpet\": [{\"marker\": {\"colorbar\": {\"outlinewidth\": 0, \"ticks\": \"\"}}, \"type\": \"scattercarpet\"}], \"scattergeo\": [{\"marker\": {\"colorbar\": {\"outlinewidth\": 0, \"ticks\": \"\"}}, \"type\": \"scattergeo\"}], \"scattergl\": [{\"marker\": {\"colorbar\": {\"outlinewidth\": 0, \"ticks\": \"\"}}, \"type\": \"scattergl\"}], \"scattermapbox\": [{\"marker\": {\"colorbar\": {\"outlinewidth\": 0, \"ticks\": \"\"}}, \"type\": \"scattermapbox\"}], \"scatterpolar\": [{\"marker\": {\"colorbar\": {\"outlinewidth\": 0, \"ticks\": \"\"}}, \"type\": \"scatterpolar\"}], \"scatterpolargl\": [{\"marker\": {\"colorbar\": {\"outlinewidth\": 0, \"ticks\": \"\"}}, \"type\": \"scatterpolargl\"}], \"scatterternary\": [{\"marker\": {\"colorbar\": {\"outlinewidth\": 0, \"ticks\": \"\"}}, \"type\": \"scatterternary\"}], \"surface\": [{\"colorbar\": {\"outlinewidth\": 0, \"ticks\": \"\"}, \"colorscale\": [[0.0, \"#0d0887\"], [0.1111111111111111, \"#46039f\"], [0.2222222222222222, \"#7201a8\"], [0.3333333333333333, \"#9c179e\"], [0.4444444444444444, \"#bd3786\"], [0.5555555555555556, \"#d8576b\"], [0.6666666666666666, \"#ed7953\"], [0.7777777777777778, \"#fb9f3a\"], [0.8888888888888888, \"#fdca26\"], [1.0, \"#f0f921\"]], \"type\": \"surface\"}], \"table\": [{\"cells\": {\"fill\": {\"color\": \"#EBF0F8\"}, \"line\": {\"color\": \"white\"}}, \"header\": {\"fill\": {\"color\": \"#C8D4E3\"}, \"line\": {\"color\": \"white\"}}, \"type\": \"table\"}]}, \"layout\": {\"annotationdefaults\": {\"arrowcolor\": \"#2a3f5f\", \"arrowhead\": 0, \"arrowwidth\": 1}, \"autotypenumbers\": \"strict\", \"coloraxis\": {\"colorbar\": {\"outlinewidth\": 0, \"ticks\": \"\"}}, \"colorscale\": {\"diverging\": [[0, \"#8e0152\"], [0.1, \"#c51b7d\"], [0.2, \"#de77ae\"], [0.3, \"#f1b6da\"], [0.4, \"#fde0ef\"], [0.5, \"#f7f7f7\"], [0.6, \"#e6f5d0\"], [0.7, \"#b8e186\"], [0.8, \"#7fbc41\"], [0.9, \"#4d9221\"], [1, \"#276419\"]], \"sequential\": [[0.0, \"#0d0887\"], [0.1111111111111111, \"#46039f\"], [0.2222222222222222, \"#7201a8\"], [0.3333333333333333, \"#9c179e\"], [0.4444444444444444, \"#bd3786\"], [0.5555555555555556, \"#d8576b\"], [0.6666666666666666, \"#ed7953\"], [0.7777777777777778, \"#fb9f3a\"], [0.8888888888888888, \"#fdca26\"], [1.0, \"#f0f921\"]], \"sequentialminus\": [[0.0, \"#0d0887\"], [0.1111111111111111, \"#46039f\"], [0.2222222222222222, \"#7201a8\"], [0.3333333333333333, \"#9c179e\"], [0.4444444444444444, \"#bd3786\"], [0.5555555555555556, \"#d8576b\"], [0.6666666666666666, \"#ed7953\"], [0.7777777777777778, \"#fb9f3a\"], [0.8888888888888888, \"#fdca26\"], [1.0, \"#f0f921\"]]}, \"colorway\": [\"#636efa\", \"#EF553B\", \"#00cc96\", \"#ab63fa\", \"#FFA15A\", \"#19d3f3\", \"#FF6692\", \"#B6E880\", \"#FF97FF\", \"#FECB52\"], \"font\": {\"color\": \"#2a3f5f\"}, \"geo\": {\"bgcolor\": \"white\", \"lakecolor\": \"white\", \"landcolor\": \"#E5ECF6\", \"showlakes\": true, \"showland\": true, \"subunitcolor\": \"white\"}, \"hoverlabel\": {\"align\": \"left\"}, \"hovermode\": \"closest\", \"mapbox\": {\"style\": \"light\"}, \"paper_bgcolor\": \"white\", \"plot_bgcolor\": \"#E5ECF6\", \"polar\": {\"angularaxis\": {\"gridcolor\": \"white\", \"linecolor\": \"white\", \"ticks\": \"\"}, \"bgcolor\": \"#E5ECF6\", \"radialaxis\": {\"gridcolor\": \"white\", \"linecolor\": \"white\", \"ticks\": \"\"}}, \"scene\": {\"xaxis\": {\"backgroundcolor\": \"#E5ECF6\", \"gridcolor\": \"white\", \"gridwidth\": 2, \"linecolor\": \"white\", \"showbackground\": true, \"ticks\": \"\", \"zerolinecolor\": \"white\"}, \"yaxis\": {\"backgroundcolor\": \"#E5ECF6\", \"gridcolor\": \"white\", \"gridwidth\": 2, \"linecolor\": \"white\", \"showbackground\": true, \"ticks\": \"\", \"zerolinecolor\": \"white\"}, \"zaxis\": {\"backgroundcolor\": \"#E5ECF6\", \"gridcolor\": \"white\", \"gridwidth\": 2, \"linecolor\": \"white\", \"showbackground\": true, \"ticks\": \"\", \"zerolinecolor\": \"white\"}}, \"shapedefaults\": {\"line\": {\"color\": \"#2a3f5f\"}}, \"ternary\": {\"aaxis\": {\"gridcolor\": \"white\", \"linecolor\": \"white\", \"ticks\": \"\"}, \"baxis\": {\"gridcolor\": \"white\", \"linecolor\": \"white\", \"ticks\": \"\"}, \"bgcolor\": \"#E5ECF6\", \"caxis\": {\"gridcolor\": \"white\", \"linecolor\": \"white\", \"ticks\": \"\"}}, \"title\": {\"x\": 0.05}, \"xaxis\": {\"automargin\": true, \"gridcolor\": \"white\", \"linecolor\": \"white\", \"ticks\": \"\", \"title\": {\"standoff\": 15}, \"zerolinecolor\": \"white\", \"zerolinewidth\": 2}, \"yaxis\": {\"automargin\": true, \"gridcolor\": \"white\", \"linecolor\": \"white\", \"ticks\": \"\", \"title\": {\"standoff\": 15}, \"zerolinecolor\": \"white\", \"zerolinewidth\": 2}}}, \"title\": {\"text\": \"<span style='font-size: 22px;'><b>Most active authors<b></span>\", \"x\": 0.5}, \"xaxis\": {\"title\": {\"text\": \"Authors\"}}, \"yaxis\": {\"range\": [0, 6.6000000000000005], \"title\": {\"text\": \"Number of Publications\"}}},                        {\"responsive\": true}                    ).then(function(){\n",
       "                            \n",
       "var gd = document.getElementById('7ab7501a-2a57-4f80-92a7-334ab909e0ad');\n",
       "var x = new MutationObserver(function (mutations, observer) {{\n",
       "        var display = window.getComputedStyle(gd).display;\n",
       "        if (!display || display === 'none') {{\n",
       "            console.log([gd, 'removed!']);\n",
       "            Plotly.purge(gd);\n",
       "            observer.disconnect();\n",
       "        }}\n",
       "}});\n",
       "\n",
       "// Listen for the removal of the full notebook cells\n",
       "var notebookContainer = gd.closest('#notebook-container');\n",
       "if (notebookContainer) {{\n",
       "    x.observe(notebookContainer, {childList: true});\n",
       "}}\n",
       "\n",
       "// Listen for the clearing of the current output cell\n",
       "var outputEl = gd.closest('.output');\n",
       "if (outputEl) {{\n",
       "    x.observe(outputEl, {childList: true});\n",
       "}}\n",
       "\n",
       "                        })                };                });            </script>        </div>"
      ]
     },
     "metadata": {},
     "output_type": "display_data"
    }
   ],
   "source": [
    "make_active_authors(results_df)"
   ]
  },
  {
   "cell_type": "markdown",
   "id": "246e9f7c",
   "metadata": {
    "heading_collapsed": true,
    "hidden": true
   },
   "source": [
    "#### Line charts"
   ]
  },
  {
   "cell_type": "code",
   "execution_count": 42,
   "id": "0bb89078",
   "metadata": {
    "hidden": true
   },
   "outputs": [
    {
     "data": {
      "application/vnd.plotly.v1+json": {
       "config": {
        "plotlyServerURL": "https://plot.ly"
       },
       "data": [
        {
         "hovertemplate": "x=%{x}<br>y=%{y}<extra></extra>",
         "legendgroup": "",
         "line": {
          "color": "#636efa",
          "dash": "solid"
         },
         "marker": {
          "color": "#eda109"
         },
         "mode": "lines",
         "name": "",
         "orientation": "v",
         "showlegend": false,
         "type": "scatter",
         "x": [
          2011,
          2013,
          2014,
          2015,
          2016,
          2017,
          2018,
          2019,
          2020,
          2021
         ],
         "xaxis": "x",
         "y": [
          1,
          2,
          1,
          1,
          6,
          4,
          8,
          2,
          4,
          1
         ],
         "yaxis": "y"
        }
       ],
       "layout": {
        "font": {
         "color": "white",
         "family": "Courier New, monospace",
         "size": 12
        },
        "legend": {
         "tracegroupgap": 0
        },
        "paper_bgcolor": "#101126",
        "plot_bgcolor": "#101126",
        "template": {
         "data": {
          "bar": [
           {
            "error_x": {
             "color": "#2a3f5f"
            },
            "error_y": {
             "color": "#2a3f5f"
            },
            "marker": {
             "line": {
              "color": "#E5ECF6",
              "width": 0.5
             }
            },
            "type": "bar"
           }
          ],
          "barpolar": [
           {
            "marker": {
             "line": {
              "color": "#E5ECF6",
              "width": 0.5
             }
            },
            "type": "barpolar"
           }
          ],
          "carpet": [
           {
            "aaxis": {
             "endlinecolor": "#2a3f5f",
             "gridcolor": "white",
             "linecolor": "white",
             "minorgridcolor": "white",
             "startlinecolor": "#2a3f5f"
            },
            "baxis": {
             "endlinecolor": "#2a3f5f",
             "gridcolor": "white",
             "linecolor": "white",
             "minorgridcolor": "white",
             "startlinecolor": "#2a3f5f"
            },
            "type": "carpet"
           }
          ],
          "choropleth": [
           {
            "colorbar": {
             "outlinewidth": 0,
             "ticks": ""
            },
            "type": "choropleth"
           }
          ],
          "contour": [
           {
            "colorbar": {
             "outlinewidth": 0,
             "ticks": ""
            },
            "colorscale": [
             [
              0,
              "#0d0887"
             ],
             [
              0.1111111111111111,
              "#46039f"
             ],
             [
              0.2222222222222222,
              "#7201a8"
             ],
             [
              0.3333333333333333,
              "#9c179e"
             ],
             [
              0.4444444444444444,
              "#bd3786"
             ],
             [
              0.5555555555555556,
              "#d8576b"
             ],
             [
              0.6666666666666666,
              "#ed7953"
             ],
             [
              0.7777777777777778,
              "#fb9f3a"
             ],
             [
              0.8888888888888888,
              "#fdca26"
             ],
             [
              1,
              "#f0f921"
             ]
            ],
            "type": "contour"
           }
          ],
          "contourcarpet": [
           {
            "colorbar": {
             "outlinewidth": 0,
             "ticks": ""
            },
            "type": "contourcarpet"
           }
          ],
          "heatmap": [
           {
            "colorbar": {
             "outlinewidth": 0,
             "ticks": ""
            },
            "colorscale": [
             [
              0,
              "#0d0887"
             ],
             [
              0.1111111111111111,
              "#46039f"
             ],
             [
              0.2222222222222222,
              "#7201a8"
             ],
             [
              0.3333333333333333,
              "#9c179e"
             ],
             [
              0.4444444444444444,
              "#bd3786"
             ],
             [
              0.5555555555555556,
              "#d8576b"
             ],
             [
              0.6666666666666666,
              "#ed7953"
             ],
             [
              0.7777777777777778,
              "#fb9f3a"
             ],
             [
              0.8888888888888888,
              "#fdca26"
             ],
             [
              1,
              "#f0f921"
             ]
            ],
            "type": "heatmap"
           }
          ],
          "heatmapgl": [
           {
            "colorbar": {
             "outlinewidth": 0,
             "ticks": ""
            },
            "colorscale": [
             [
              0,
              "#0d0887"
             ],
             [
              0.1111111111111111,
              "#46039f"
             ],
             [
              0.2222222222222222,
              "#7201a8"
             ],
             [
              0.3333333333333333,
              "#9c179e"
             ],
             [
              0.4444444444444444,
              "#bd3786"
             ],
             [
              0.5555555555555556,
              "#d8576b"
             ],
             [
              0.6666666666666666,
              "#ed7953"
             ],
             [
              0.7777777777777778,
              "#fb9f3a"
             ],
             [
              0.8888888888888888,
              "#fdca26"
             ],
             [
              1,
              "#f0f921"
             ]
            ],
            "type": "heatmapgl"
           }
          ],
          "histogram": [
           {
            "marker": {
             "colorbar": {
              "outlinewidth": 0,
              "ticks": ""
             }
            },
            "type": "histogram"
           }
          ],
          "histogram2d": [
           {
            "colorbar": {
             "outlinewidth": 0,
             "ticks": ""
            },
            "colorscale": [
             [
              0,
              "#0d0887"
             ],
             [
              0.1111111111111111,
              "#46039f"
             ],
             [
              0.2222222222222222,
              "#7201a8"
             ],
             [
              0.3333333333333333,
              "#9c179e"
             ],
             [
              0.4444444444444444,
              "#bd3786"
             ],
             [
              0.5555555555555556,
              "#d8576b"
             ],
             [
              0.6666666666666666,
              "#ed7953"
             ],
             [
              0.7777777777777778,
              "#fb9f3a"
             ],
             [
              0.8888888888888888,
              "#fdca26"
             ],
             [
              1,
              "#f0f921"
             ]
            ],
            "type": "histogram2d"
           }
          ],
          "histogram2dcontour": [
           {
            "colorbar": {
             "outlinewidth": 0,
             "ticks": ""
            },
            "colorscale": [
             [
              0,
              "#0d0887"
             ],
             [
              0.1111111111111111,
              "#46039f"
             ],
             [
              0.2222222222222222,
              "#7201a8"
             ],
             [
              0.3333333333333333,
              "#9c179e"
             ],
             [
              0.4444444444444444,
              "#bd3786"
             ],
             [
              0.5555555555555556,
              "#d8576b"
             ],
             [
              0.6666666666666666,
              "#ed7953"
             ],
             [
              0.7777777777777778,
              "#fb9f3a"
             ],
             [
              0.8888888888888888,
              "#fdca26"
             ],
             [
              1,
              "#f0f921"
             ]
            ],
            "type": "histogram2dcontour"
           }
          ],
          "mesh3d": [
           {
            "colorbar": {
             "outlinewidth": 0,
             "ticks": ""
            },
            "type": "mesh3d"
           }
          ],
          "parcoords": [
           {
            "line": {
             "colorbar": {
              "outlinewidth": 0,
              "ticks": ""
             }
            },
            "type": "parcoords"
           }
          ],
          "pie": [
           {
            "automargin": true,
            "type": "pie"
           }
          ],
          "scatter": [
           {
            "marker": {
             "colorbar": {
              "outlinewidth": 0,
              "ticks": ""
             }
            },
            "type": "scatter"
           }
          ],
          "scatter3d": [
           {
            "line": {
             "colorbar": {
              "outlinewidth": 0,
              "ticks": ""
             }
            },
            "marker": {
             "colorbar": {
              "outlinewidth": 0,
              "ticks": ""
             }
            },
            "type": "scatter3d"
           }
          ],
          "scattercarpet": [
           {
            "marker": {
             "colorbar": {
              "outlinewidth": 0,
              "ticks": ""
             }
            },
            "type": "scattercarpet"
           }
          ],
          "scattergeo": [
           {
            "marker": {
             "colorbar": {
              "outlinewidth": 0,
              "ticks": ""
             }
            },
            "type": "scattergeo"
           }
          ],
          "scattergl": [
           {
            "marker": {
             "colorbar": {
              "outlinewidth": 0,
              "ticks": ""
             }
            },
            "type": "scattergl"
           }
          ],
          "scattermapbox": [
           {
            "marker": {
             "colorbar": {
              "outlinewidth": 0,
              "ticks": ""
             }
            },
            "type": "scattermapbox"
           }
          ],
          "scatterpolar": [
           {
            "marker": {
             "colorbar": {
              "outlinewidth": 0,
              "ticks": ""
             }
            },
            "type": "scatterpolar"
           }
          ],
          "scatterpolargl": [
           {
            "marker": {
             "colorbar": {
              "outlinewidth": 0,
              "ticks": ""
             }
            },
            "type": "scatterpolargl"
           }
          ],
          "scatterternary": [
           {
            "marker": {
             "colorbar": {
              "outlinewidth": 0,
              "ticks": ""
             }
            },
            "type": "scatterternary"
           }
          ],
          "surface": [
           {
            "colorbar": {
             "outlinewidth": 0,
             "ticks": ""
            },
            "colorscale": [
             [
              0,
              "#0d0887"
             ],
             [
              0.1111111111111111,
              "#46039f"
             ],
             [
              0.2222222222222222,
              "#7201a8"
             ],
             [
              0.3333333333333333,
              "#9c179e"
             ],
             [
              0.4444444444444444,
              "#bd3786"
             ],
             [
              0.5555555555555556,
              "#d8576b"
             ],
             [
              0.6666666666666666,
              "#ed7953"
             ],
             [
              0.7777777777777778,
              "#fb9f3a"
             ],
             [
              0.8888888888888888,
              "#fdca26"
             ],
             [
              1,
              "#f0f921"
             ]
            ],
            "type": "surface"
           }
          ],
          "table": [
           {
            "cells": {
             "fill": {
              "color": "#EBF0F8"
             },
             "line": {
              "color": "white"
             }
            },
            "header": {
             "fill": {
              "color": "#C8D4E3"
             },
             "line": {
              "color": "white"
             }
            },
            "type": "table"
           }
          ]
         },
         "layout": {
          "annotationdefaults": {
           "arrowcolor": "#2a3f5f",
           "arrowhead": 0,
           "arrowwidth": 1
          },
          "autotypenumbers": "strict",
          "coloraxis": {
           "colorbar": {
            "outlinewidth": 0,
            "ticks": ""
           }
          },
          "colorscale": {
           "diverging": [
            [
             0,
             "#8e0152"
            ],
            [
             0.1,
             "#c51b7d"
            ],
            [
             0.2,
             "#de77ae"
            ],
            [
             0.3,
             "#f1b6da"
            ],
            [
             0.4,
             "#fde0ef"
            ],
            [
             0.5,
             "#f7f7f7"
            ],
            [
             0.6,
             "#e6f5d0"
            ],
            [
             0.7,
             "#b8e186"
            ],
            [
             0.8,
             "#7fbc41"
            ],
            [
             0.9,
             "#4d9221"
            ],
            [
             1,
             "#276419"
            ]
           ],
           "sequential": [
            [
             0,
             "#0d0887"
            ],
            [
             0.1111111111111111,
             "#46039f"
            ],
            [
             0.2222222222222222,
             "#7201a8"
            ],
            [
             0.3333333333333333,
             "#9c179e"
            ],
            [
             0.4444444444444444,
             "#bd3786"
            ],
            [
             0.5555555555555556,
             "#d8576b"
            ],
            [
             0.6666666666666666,
             "#ed7953"
            ],
            [
             0.7777777777777778,
             "#fb9f3a"
            ],
            [
             0.8888888888888888,
             "#fdca26"
            ],
            [
             1,
             "#f0f921"
            ]
           ],
           "sequentialminus": [
            [
             0,
             "#0d0887"
            ],
            [
             0.1111111111111111,
             "#46039f"
            ],
            [
             0.2222222222222222,
             "#7201a8"
            ],
            [
             0.3333333333333333,
             "#9c179e"
            ],
            [
             0.4444444444444444,
             "#bd3786"
            ],
            [
             0.5555555555555556,
             "#d8576b"
            ],
            [
             0.6666666666666666,
             "#ed7953"
            ],
            [
             0.7777777777777778,
             "#fb9f3a"
            ],
            [
             0.8888888888888888,
             "#fdca26"
            ],
            [
             1,
             "#f0f921"
            ]
           ]
          },
          "colorway": [
           "#636efa",
           "#EF553B",
           "#00cc96",
           "#ab63fa",
           "#FFA15A",
           "#19d3f3",
           "#FF6692",
           "#B6E880",
           "#FF97FF",
           "#FECB52"
          ],
          "font": {
           "color": "#2a3f5f"
          },
          "geo": {
           "bgcolor": "white",
           "lakecolor": "white",
           "landcolor": "#E5ECF6",
           "showlakes": true,
           "showland": true,
           "subunitcolor": "white"
          },
          "hoverlabel": {
           "align": "left"
          },
          "hovermode": "closest",
          "mapbox": {
           "style": "light"
          },
          "paper_bgcolor": "white",
          "plot_bgcolor": "#E5ECF6",
          "polar": {
           "angularaxis": {
            "gridcolor": "white",
            "linecolor": "white",
            "ticks": ""
           },
           "bgcolor": "#E5ECF6",
           "radialaxis": {
            "gridcolor": "white",
            "linecolor": "white",
            "ticks": ""
           }
          },
          "scene": {
           "xaxis": {
            "backgroundcolor": "#E5ECF6",
            "gridcolor": "white",
            "gridwidth": 2,
            "linecolor": "white",
            "showbackground": true,
            "ticks": "",
            "zerolinecolor": "white"
           },
           "yaxis": {
            "backgroundcolor": "#E5ECF6",
            "gridcolor": "white",
            "gridwidth": 2,
            "linecolor": "white",
            "showbackground": true,
            "ticks": "",
            "zerolinecolor": "white"
           },
           "zaxis": {
            "backgroundcolor": "#E5ECF6",
            "gridcolor": "white",
            "gridwidth": 2,
            "linecolor": "white",
            "showbackground": true,
            "ticks": "",
            "zerolinecolor": "white"
           }
          },
          "shapedefaults": {
           "line": {
            "color": "#2a3f5f"
           }
          },
          "ternary": {
           "aaxis": {
            "gridcolor": "white",
            "linecolor": "white",
            "ticks": ""
           },
           "baxis": {
            "gridcolor": "white",
            "linecolor": "white",
            "ticks": ""
           },
           "bgcolor": "#E5ECF6",
           "caxis": {
            "gridcolor": "white",
            "linecolor": "white",
            "ticks": ""
           }
          },
          "title": {
           "x": 0.05
          },
          "xaxis": {
           "automargin": true,
           "gridcolor": "white",
           "linecolor": "white",
           "ticks": "",
           "title": {
            "standoff": 15
           },
           "zerolinecolor": "white",
           "zerolinewidth": 2
          },
          "yaxis": {
           "automargin": true,
           "gridcolor": "white",
           "linecolor": "white",
           "ticks": "",
           "title": {
            "standoff": 15
           },
           "zerolinecolor": "white",
           "zerolinewidth": 2
          }
         }
        },
        "title": {
         "text": "<span style='font-size: 22px;'><b>Publications per Year<b></span>",
         "x": 0.5
        },
        "xaxis": {
         "anchor": "y",
         "domain": [
          0,
          1
         ],
         "range": [
          2006,
          2027
         ],
         "title": {
          "text": "Year"
         }
        },
        "yaxis": {
         "anchor": "x",
         "domain": [
          0,
          1
         ],
         "range": [
          0,
          8.8
         ],
         "title": {
          "text": "Number of Publications"
         }
        }
       }
      },
      "text/html": [
       "<div>                            <div id=\"c41fc286-accb-4c65-ba2d-cea2d2a3e118\" class=\"plotly-graph-div\" style=\"height:525px; width:100%;\"></div>            <script type=\"text/javascript\">                require([\"plotly\"], function(Plotly) {                    window.PLOTLYENV=window.PLOTLYENV || {};                                    if (document.getElementById(\"c41fc286-accb-4c65-ba2d-cea2d2a3e118\")) {                    Plotly.newPlot(                        \"c41fc286-accb-4c65-ba2d-cea2d2a3e118\",                        [{\"hovertemplate\": \"x=%{x}<br>y=%{y}<extra></extra>\", \"legendgroup\": \"\", \"line\": {\"color\": \"#636efa\", \"dash\": \"solid\"}, \"marker\": {\"color\": \"#eda109\"}, \"mode\": \"lines\", \"name\": \"\", \"orientation\": \"v\", \"showlegend\": false, \"type\": \"scatter\", \"x\": [2011, 2013, 2014, 2015, 2016, 2017, 2018, 2019, 2020, 2021], \"xaxis\": \"x\", \"y\": [1, 2, 1, 1, 6, 4, 8, 2, 4, 1], \"yaxis\": \"y\"}],                        {\"font\": {\"color\": \"white\", \"family\": \"Courier New, monospace\", \"size\": 12}, \"legend\": {\"tracegroupgap\": 0}, \"paper_bgcolor\": \"#101126\", \"plot_bgcolor\": \"#101126\", \"template\": {\"data\": {\"bar\": [{\"error_x\": {\"color\": \"#2a3f5f\"}, \"error_y\": {\"color\": \"#2a3f5f\"}, \"marker\": {\"line\": {\"color\": \"#E5ECF6\", \"width\": 0.5}}, \"type\": \"bar\"}], \"barpolar\": [{\"marker\": {\"line\": {\"color\": \"#E5ECF6\", \"width\": 0.5}}, \"type\": \"barpolar\"}], \"carpet\": [{\"aaxis\": {\"endlinecolor\": \"#2a3f5f\", \"gridcolor\": \"white\", \"linecolor\": \"white\", \"minorgridcolor\": \"white\", \"startlinecolor\": \"#2a3f5f\"}, \"baxis\": {\"endlinecolor\": \"#2a3f5f\", \"gridcolor\": \"white\", \"linecolor\": \"white\", \"minorgridcolor\": \"white\", \"startlinecolor\": \"#2a3f5f\"}, \"type\": \"carpet\"}], \"choropleth\": [{\"colorbar\": {\"outlinewidth\": 0, \"ticks\": \"\"}, \"type\": \"choropleth\"}], \"contour\": [{\"colorbar\": {\"outlinewidth\": 0, \"ticks\": \"\"}, \"colorscale\": [[0.0, \"#0d0887\"], [0.1111111111111111, \"#46039f\"], [0.2222222222222222, \"#7201a8\"], [0.3333333333333333, \"#9c179e\"], [0.4444444444444444, \"#bd3786\"], [0.5555555555555556, \"#d8576b\"], [0.6666666666666666, \"#ed7953\"], [0.7777777777777778, \"#fb9f3a\"], [0.8888888888888888, \"#fdca26\"], [1.0, \"#f0f921\"]], \"type\": \"contour\"}], \"contourcarpet\": [{\"colorbar\": {\"outlinewidth\": 0, \"ticks\": \"\"}, \"type\": \"contourcarpet\"}], \"heatmap\": [{\"colorbar\": {\"outlinewidth\": 0, \"ticks\": \"\"}, \"colorscale\": [[0.0, \"#0d0887\"], [0.1111111111111111, \"#46039f\"], [0.2222222222222222, \"#7201a8\"], [0.3333333333333333, \"#9c179e\"], [0.4444444444444444, \"#bd3786\"], [0.5555555555555556, \"#d8576b\"], [0.6666666666666666, \"#ed7953\"], [0.7777777777777778, \"#fb9f3a\"], [0.8888888888888888, \"#fdca26\"], [1.0, \"#f0f921\"]], \"type\": \"heatmap\"}], \"heatmapgl\": [{\"colorbar\": {\"outlinewidth\": 0, \"ticks\": \"\"}, \"colorscale\": [[0.0, \"#0d0887\"], [0.1111111111111111, \"#46039f\"], [0.2222222222222222, \"#7201a8\"], [0.3333333333333333, \"#9c179e\"], [0.4444444444444444, \"#bd3786\"], [0.5555555555555556, \"#d8576b\"], [0.6666666666666666, \"#ed7953\"], [0.7777777777777778, \"#fb9f3a\"], [0.8888888888888888, \"#fdca26\"], [1.0, \"#f0f921\"]], \"type\": \"heatmapgl\"}], \"histogram\": [{\"marker\": {\"colorbar\": {\"outlinewidth\": 0, \"ticks\": \"\"}}, \"type\": \"histogram\"}], \"histogram2d\": [{\"colorbar\": {\"outlinewidth\": 0, \"ticks\": \"\"}, \"colorscale\": [[0.0, \"#0d0887\"], [0.1111111111111111, \"#46039f\"], [0.2222222222222222, \"#7201a8\"], [0.3333333333333333, \"#9c179e\"], [0.4444444444444444, \"#bd3786\"], [0.5555555555555556, \"#d8576b\"], [0.6666666666666666, \"#ed7953\"], [0.7777777777777778, \"#fb9f3a\"], [0.8888888888888888, \"#fdca26\"], [1.0, \"#f0f921\"]], \"type\": \"histogram2d\"}], \"histogram2dcontour\": [{\"colorbar\": {\"outlinewidth\": 0, \"ticks\": \"\"}, \"colorscale\": [[0.0, \"#0d0887\"], [0.1111111111111111, \"#46039f\"], [0.2222222222222222, \"#7201a8\"], [0.3333333333333333, \"#9c179e\"], [0.4444444444444444, \"#bd3786\"], [0.5555555555555556, \"#d8576b\"], [0.6666666666666666, \"#ed7953\"], [0.7777777777777778, \"#fb9f3a\"], [0.8888888888888888, \"#fdca26\"], [1.0, \"#f0f921\"]], \"type\": \"histogram2dcontour\"}], \"mesh3d\": [{\"colorbar\": {\"outlinewidth\": 0, \"ticks\": \"\"}, \"type\": \"mesh3d\"}], \"parcoords\": [{\"line\": {\"colorbar\": {\"outlinewidth\": 0, \"ticks\": \"\"}}, \"type\": \"parcoords\"}], \"pie\": [{\"automargin\": true, \"type\": \"pie\"}], \"scatter\": [{\"marker\": {\"colorbar\": {\"outlinewidth\": 0, \"ticks\": \"\"}}, \"type\": \"scatter\"}], \"scatter3d\": [{\"line\": {\"colorbar\": {\"outlinewidth\": 0, \"ticks\": \"\"}}, \"marker\": {\"colorbar\": {\"outlinewidth\": 0, \"ticks\": \"\"}}, \"type\": \"scatter3d\"}], \"scattercarpet\": [{\"marker\": {\"colorbar\": {\"outlinewidth\": 0, \"ticks\": \"\"}}, \"type\": \"scattercarpet\"}], \"scattergeo\": [{\"marker\": {\"colorbar\": {\"outlinewidth\": 0, \"ticks\": \"\"}}, \"type\": \"scattergeo\"}], \"scattergl\": [{\"marker\": {\"colorbar\": {\"outlinewidth\": 0, \"ticks\": \"\"}}, \"type\": \"scattergl\"}], \"scattermapbox\": [{\"marker\": {\"colorbar\": {\"outlinewidth\": 0, \"ticks\": \"\"}}, \"type\": \"scattermapbox\"}], \"scatterpolar\": [{\"marker\": {\"colorbar\": {\"outlinewidth\": 0, \"ticks\": \"\"}}, \"type\": \"scatterpolar\"}], \"scatterpolargl\": [{\"marker\": {\"colorbar\": {\"outlinewidth\": 0, \"ticks\": \"\"}}, \"type\": \"scatterpolargl\"}], \"scatterternary\": [{\"marker\": {\"colorbar\": {\"outlinewidth\": 0, \"ticks\": \"\"}}, \"type\": \"scatterternary\"}], \"surface\": [{\"colorbar\": {\"outlinewidth\": 0, \"ticks\": \"\"}, \"colorscale\": [[0.0, \"#0d0887\"], [0.1111111111111111, \"#46039f\"], [0.2222222222222222, \"#7201a8\"], [0.3333333333333333, \"#9c179e\"], [0.4444444444444444, \"#bd3786\"], [0.5555555555555556, \"#d8576b\"], [0.6666666666666666, \"#ed7953\"], [0.7777777777777778, \"#fb9f3a\"], [0.8888888888888888, \"#fdca26\"], [1.0, \"#f0f921\"]], \"type\": \"surface\"}], \"table\": [{\"cells\": {\"fill\": {\"color\": \"#EBF0F8\"}, \"line\": {\"color\": \"white\"}}, \"header\": {\"fill\": {\"color\": \"#C8D4E3\"}, \"line\": {\"color\": \"white\"}}, \"type\": \"table\"}]}, \"layout\": {\"annotationdefaults\": {\"arrowcolor\": \"#2a3f5f\", \"arrowhead\": 0, \"arrowwidth\": 1}, \"autotypenumbers\": \"strict\", \"coloraxis\": {\"colorbar\": {\"outlinewidth\": 0, \"ticks\": \"\"}}, \"colorscale\": {\"diverging\": [[0, \"#8e0152\"], [0.1, \"#c51b7d\"], [0.2, \"#de77ae\"], [0.3, \"#f1b6da\"], [0.4, \"#fde0ef\"], [0.5, \"#f7f7f7\"], [0.6, \"#e6f5d0\"], [0.7, \"#b8e186\"], [0.8, \"#7fbc41\"], [0.9, \"#4d9221\"], [1, \"#276419\"]], \"sequential\": [[0.0, \"#0d0887\"], [0.1111111111111111, \"#46039f\"], [0.2222222222222222, \"#7201a8\"], [0.3333333333333333, \"#9c179e\"], [0.4444444444444444, \"#bd3786\"], [0.5555555555555556, \"#d8576b\"], [0.6666666666666666, \"#ed7953\"], [0.7777777777777778, \"#fb9f3a\"], [0.8888888888888888, \"#fdca26\"], [1.0, \"#f0f921\"]], \"sequentialminus\": [[0.0, \"#0d0887\"], [0.1111111111111111, \"#46039f\"], [0.2222222222222222, \"#7201a8\"], [0.3333333333333333, \"#9c179e\"], [0.4444444444444444, \"#bd3786\"], [0.5555555555555556, \"#d8576b\"], [0.6666666666666666, \"#ed7953\"], [0.7777777777777778, \"#fb9f3a\"], [0.8888888888888888, \"#fdca26\"], [1.0, \"#f0f921\"]]}, \"colorway\": [\"#636efa\", \"#EF553B\", \"#00cc96\", \"#ab63fa\", \"#FFA15A\", \"#19d3f3\", \"#FF6692\", \"#B6E880\", \"#FF97FF\", \"#FECB52\"], \"font\": {\"color\": \"#2a3f5f\"}, \"geo\": {\"bgcolor\": \"white\", \"lakecolor\": \"white\", \"landcolor\": \"#E5ECF6\", \"showlakes\": true, \"showland\": true, \"subunitcolor\": \"white\"}, \"hoverlabel\": {\"align\": \"left\"}, \"hovermode\": \"closest\", \"mapbox\": {\"style\": \"light\"}, \"paper_bgcolor\": \"white\", \"plot_bgcolor\": \"#E5ECF6\", \"polar\": {\"angularaxis\": {\"gridcolor\": \"white\", \"linecolor\": \"white\", \"ticks\": \"\"}, \"bgcolor\": \"#E5ECF6\", \"radialaxis\": {\"gridcolor\": \"white\", \"linecolor\": \"white\", \"ticks\": \"\"}}, \"scene\": {\"xaxis\": {\"backgroundcolor\": \"#E5ECF6\", \"gridcolor\": \"white\", \"gridwidth\": 2, \"linecolor\": \"white\", \"showbackground\": true, \"ticks\": \"\", \"zerolinecolor\": \"white\"}, \"yaxis\": {\"backgroundcolor\": \"#E5ECF6\", \"gridcolor\": \"white\", \"gridwidth\": 2, \"linecolor\": \"white\", \"showbackground\": true, \"ticks\": \"\", \"zerolinecolor\": \"white\"}, \"zaxis\": {\"backgroundcolor\": \"#E5ECF6\", \"gridcolor\": \"white\", \"gridwidth\": 2, \"linecolor\": \"white\", \"showbackground\": true, \"ticks\": \"\", \"zerolinecolor\": \"white\"}}, \"shapedefaults\": {\"line\": {\"color\": \"#2a3f5f\"}}, \"ternary\": {\"aaxis\": {\"gridcolor\": \"white\", \"linecolor\": \"white\", \"ticks\": \"\"}, \"baxis\": {\"gridcolor\": \"white\", \"linecolor\": \"white\", \"ticks\": \"\"}, \"bgcolor\": \"#E5ECF6\", \"caxis\": {\"gridcolor\": \"white\", \"linecolor\": \"white\", \"ticks\": \"\"}}, \"title\": {\"x\": 0.05}, \"xaxis\": {\"automargin\": true, \"gridcolor\": \"white\", \"linecolor\": \"white\", \"ticks\": \"\", \"title\": {\"standoff\": 15}, \"zerolinecolor\": \"white\", \"zerolinewidth\": 2}, \"yaxis\": {\"automargin\": true, \"gridcolor\": \"white\", \"linecolor\": \"white\", \"ticks\": \"\", \"title\": {\"standoff\": 15}, \"zerolinecolor\": \"white\", \"zerolinewidth\": 2}}}, \"title\": {\"text\": \"<span style='font-size: 22px;'><b>Publications per Year<b></span>\", \"x\": 0.5}, \"xaxis\": {\"anchor\": \"y\", \"domain\": [0.0, 1.0], \"range\": [2006, 2027], \"title\": {\"text\": \"Year\"}}, \"yaxis\": {\"anchor\": \"x\", \"domain\": [0.0, 1.0], \"range\": [0, 8.8], \"title\": {\"text\": \"Number of Publications\"}}},                        {\"responsive\": true}                    ).then(function(){\n",
       "                            \n",
       "var gd = document.getElementById('c41fc286-accb-4c65-ba2d-cea2d2a3e118');\n",
       "var x = new MutationObserver(function (mutations, observer) {{\n",
       "        var display = window.getComputedStyle(gd).display;\n",
       "        if (!display || display === 'none') {{\n",
       "            console.log([gd, 'removed!']);\n",
       "            Plotly.purge(gd);\n",
       "            observer.disconnect();\n",
       "        }}\n",
       "}});\n",
       "\n",
       "// Listen for the removal of the full notebook cells\n",
       "var notebookContainer = gd.closest('#notebook-container');\n",
       "if (notebookContainer) {{\n",
       "    x.observe(notebookContainer, {childList: true});\n",
       "}}\n",
       "\n",
       "// Listen for the clearing of the current output cell\n",
       "var outputEl = gd.closest('.output');\n",
       "if (outputEl) {{\n",
       "    x.observe(outputEl, {childList: true});\n",
       "}}\n",
       "\n",
       "                        })                };                });            </script>        </div>"
      ]
     },
     "metadata": {},
     "output_type": "display_data"
    }
   ],
   "source": [
    "#results_df.groupby('year').count()['citationCount']\n",
    "fig = px.line(results_df, x=results_df.groupby('year').count()['citationCount'].index,\n",
    "              y=results_df.groupby('year').count()['citationCount'], title='Publications per year')\n",
    "fig.update_layout(title = \"<span style='font-size: 22px;'><b>Publications per Year<b></span>\", title_x=0.5,\n",
    "                    font=dict(\n",
    "                              family=\"Courier New, monospace\",\n",
    "                              size=12,\n",
    "                              color=\"white\"\n",
    "    ),\n",
    "    paper_bgcolor = \"#101126\",\n",
    "    plot_bgcolor = \"#101126\")\n",
    "  \n",
    "fig.update_traces(marker_color='#eda109')\n",
    "fig.update_xaxes(title=\"Year\", range= [results_df.year.min() - 5, date.today().year + 5])\n",
    "fig.update_yaxes(title=\"Number of Publications\", range= [0, 1.1* results_df.groupby('year').count()['citationCount'].max()])\n",
    "fig.show()"
   ]
  },
  {
   "cell_type": "markdown",
   "id": "05ea31d6",
   "metadata": {
    "heading_collapsed": true
   },
   "source": [
    "### Network plots"
   ]
  },
  {
   "cell_type": "code",
   "execution_count": 68,
   "id": "b2efbf20",
   "metadata": {
    "collapsed": true,
    "hidden": true
   },
   "outputs": [
    {
     "data": {
      "text/plain": [
       "[['K. Campbell',\n",
       "  'D. Guido',\n",
       "  'J. Farmer',\n",
       "  'M. V. Kranendonk',\n",
       "  'S. Ruff',\n",
       "  'F. Westall'],\n",
       " ['R. Summons',\n",
       "  'J. Amend',\n",
       "  'D. Bish',\n",
       "  'R. Buick',\n",
       "  'G. Cody',\n",
       "  'D. D. Des Marais',\n",
       "  'G. Dromart',\n",
       "  'J. Eigenbrode',\n",
       "  'A. Knoll',\n",
       "  'D. Sumner'],\n",
       " ['C. Weisbin', 'W. Lincoln', 'D. Papanastassiou', 'M. Coleman'],\n",
       " ['K. Campbell',\n",
       "  'D. Guido',\n",
       "  'J. Farmer',\n",
       "  'M. V. Kranendonk',\n",
       "  'S. Ruff',\n",
       "  'F. Westall'],\n",
       " ['Joost W. Aerts',\n",
       "  'A. Riedo',\n",
       "  'Daniel J. Melton',\n",
       "  'Simone Martini',\n",
       "  'J. Flahaut',\n",
       "  'U. Meierhenrich',\n",
       "  'C. Meinert',\n",
       "  'I. Myrgorodska',\n",
       "  'R. Lindner',\n",
       "  'P. Ehrenfreund'],\n",
       " ['A. Gangidine', 'J. Havig', 'A. Czaja'],\n",
       " ['F. Da Pieve',\n",
       "  'G. Gronoff',\n",
       "  'J. Guo',\n",
       "  'C. Mertens',\n",
       "  'L. Neary',\n",
       "  'B. Gu',\n",
       "  'N. Koval',\n",
       "  'J. Kohanoff',\n",
       "  'A. Vandaele',\n",
       "  'F. Cleri'],\n",
       " ['M. Nachon', 'R. Ewing', 'M. Tice'],\n",
       " ['J. Stromberg',\n",
       "  'A. Parkinson',\n",
       "  'M. Morison',\n",
       "  'E. Cloutis',\n",
       "  'N. Casson',\n",
       "  'D. Applin',\n",
       "  'J. Poitras',\n",
       "  'A. M. Martí',\n",
       "  'C. Maggiori',\n",
       "  'C. Cousins',\n",
       "  'L. Whyte',\n",
       "  'R. Kruzelecky',\n",
       "  'D. Das',\n",
       "  'R. Léveillé',\n",
       "  'K. Berlo',\n",
       "  'Shiv K. Sharma',\n",
       "  'T. Acosta-Maeda',\n",
       "  'M. Daly',\n",
       "  'E. Lalla'],\n",
       " ['M. Floyd', 'Amy J. Williams', 'A. Grubisic', 'D. Emerson'],\n",
       " ['Joshua Williams',\n",
       "  'T. Nagle-McNaughton',\n",
       "  'H. Newsom',\n",
       "  'Z. Gallegos',\n",
       "  'H. A. Wilkie',\n",
       "  'D. C. Martinez',\n",
       "  'L. Scuderi'],\n",
       " ['L. Hays',\n",
       "  'H. Graham',\n",
       "  'D. D. Des Marais',\n",
       "  'E. Hausrath',\n",
       "  'B. Horgan',\n",
       "  'T. McCollom',\n",
       "  'M. Parenteau',\n",
       "  'S. Potter-McIntyre',\n",
       "  'Amy J. Williams',\n",
       "  'K. Lynch'],\n",
       " ['S. Shkolyar', 'J. Farmer'],\n",
       " ['M. Weng', 'M. Millan', 'E. Zaikova', 'J. Bevilacqua', 'S. S. Johnson'],\n",
       " ['L. Hays', 'D. Beaty'],\n",
       " ['A. Czaja', 'A. Gangidine', 'K. Lorber', 'J. Osterhout'],\n",
       " ['A. Gangidine', 'A. Czaja', 'J. Havig'],\n",
       " ['N. Cabrol',\n",
       "  'J. Bishop',\n",
       "  'S. Cady',\n",
       "  'N. Hinman',\n",
       "  'J. Moersch',\n",
       "  'N. Noffke',\n",
       "  'C. Phillips',\n",
       "  'P. Sobrón',\n",
       "  'D. Summers',\n",
       "  'K. Warren-Rhodes',\n",
       "  'D. Wettergreen'],\n",
       " ['S. Shkolyar', 'J. Farmer'],\n",
       " ['B. Brenha',\n",
       "  'D. Galante',\n",
       "  'M. Román',\n",
       "  'R. V. Spanning',\n",
       "  'Murilo Carvalho',\n",
       "  'F. Rodrigues',\n",
       "  'F. Callefo',\n",
       "  'V. Teixeira',\n",
       "  'I. Neckel',\n",
       "  'Paula Morão',\n",
       "  'G. Borelli'],\n",
       " ['A. Pontefract',\n",
       "  'J. Hachey',\n",
       "  'A. Mojarro',\n",
       "  'V. Walker',\n",
       "  'H. Rowedder',\n",
       "  'T. F. Zhu',\n",
       "  'C. Lui',\n",
       "  'M. Zuber',\n",
       "  'G. Ruvkun',\n",
       "  'C. Carr'],\n",
       " ['L. Beegle', 'R. Bhartia', 'W. Abbey'],\n",
       " ['Jason E. French', 'D. Blake'],\n",
       " ['K. Lorber', 'A. Czaja', 'P. Lee'],\n",
       " ['D. Hamilton'],\n",
       " ['Joshua Williams', 'M. Rice'],\n",
       " ['S. Shkolyar', 'J. Farmer'],\n",
       " ['J. Stromberg',\n",
       "  'D. Applin',\n",
       "  'E. Cloutis',\n",
       "  'M. Rice',\n",
       "  'G. Berard',\n",
       "  'P. Mann'],\n",
       " ['B. Ehlmann',\n",
       "  'J. Mustard',\n",
       "  'S. Murchie',\n",
       "  'R. Green',\n",
       "  'P. Mouroulis',\n",
       "  'B. V. Gorp',\n",
       "  'M. Jeganathan',\n",
       "  'Y. H. Wu',\n",
       "  'T. Glavich',\n",
       "  'R. Bartos',\n",
       "  'J. Nastal',\n",
       "  'K. Strohbehn',\n",
       "  'D. Blaney',\n",
       "  'J. Boardman',\n",
       "  'J. Farmer',\n",
       "  'W. Fischer',\n",
       "  'J. Grotzinger',\n",
       "  'C. Herd',\n",
       "  'T. Hoehler',\n",
       "  'J. Hurowitz',\n",
       "  'M. Schmidt',\n",
       "  'F. Seelos',\n",
       "  'M. Wadhwa',\n",
       "  'A. Santo',\n",
       "  'J. Ferdosi'],\n",
       " ['S. Shkolyar',\n",
       "  'E. Lalla',\n",
       "  'M. Konstantindis',\n",
       "  'K. Cote',\n",
       "  'M. Daly',\n",
       "  'A. Steele']]"
      ]
     },
     "execution_count": 68,
     "metadata": {},
     "output_type": "execute_result"
    }
   ],
   "source": [
    "authors_list_of_list = []\n",
    "for index, row in results_df.iterrows():\n",
    "    authors_list = []\n",
    "    for dict_ in row.authors:\n",
    "        authors_list.append(dict_['name'])\n",
    "    authors_list_of_list.append(authors_list)\n",
    "authors_list_of_list"
   ]
  },
  {
   "cell_type": "code",
   "execution_count": 69,
   "id": "391ed5ce",
   "metadata": {
    "collapsed": true,
    "hidden": true
   },
   "outputs": [
    {
     "data": {
      "text/html": [
       "<div>\n",
       "<style scoped>\n",
       "    .dataframe tbody tr th:only-of-type {\n",
       "        vertical-align: middle;\n",
       "    }\n",
       "\n",
       "    .dataframe tbody tr th {\n",
       "        vertical-align: top;\n",
       "    }\n",
       "\n",
       "    .dataframe thead th {\n",
       "        text-align: right;\n",
       "    }\n",
       "</style>\n",
       "<table border=\"1\" class=\"dataframe\">\n",
       "  <thead>\n",
       "    <tr style=\"text-align: right;\">\n",
       "      <th></th>\n",
       "      <th>author1</th>\n",
       "      <th>author2</th>\n",
       "      <th>weight</th>\n",
       "    </tr>\n",
       "  </thead>\n",
       "  <tbody>\n",
       "    <tr>\n",
       "      <th>0</th>\n",
       "      <td>S. Shkolyar</td>\n",
       "      <td>J. Farmer</td>\n",
       "      <td>3</td>\n",
       "    </tr>\n",
       "    <tr>\n",
       "      <th>1</th>\n",
       "      <td>K. Campbell</td>\n",
       "      <td>D. Guido</td>\n",
       "      <td>2</td>\n",
       "    </tr>\n",
       "    <tr>\n",
       "      <th>2</th>\n",
       "      <td>K. Campbell</td>\n",
       "      <td>J. Farmer</td>\n",
       "      <td>2</td>\n",
       "    </tr>\n",
       "    <tr>\n",
       "      <th>3</th>\n",
       "      <td>K. Campbell</td>\n",
       "      <td>M. V. Kranendonk</td>\n",
       "      <td>2</td>\n",
       "    </tr>\n",
       "    <tr>\n",
       "      <th>4</th>\n",
       "      <td>K. Campbell</td>\n",
       "      <td>S. Ruff</td>\n",
       "      <td>2</td>\n",
       "    </tr>\n",
       "    <tr>\n",
       "      <th>5</th>\n",
       "      <td>K. Campbell</td>\n",
       "      <td>F. Westall</td>\n",
       "      <td>2</td>\n",
       "    </tr>\n",
       "    <tr>\n",
       "      <th>6</th>\n",
       "      <td>D. Guido</td>\n",
       "      <td>J. Farmer</td>\n",
       "      <td>2</td>\n",
       "    </tr>\n",
       "    <tr>\n",
       "      <th>7</th>\n",
       "      <td>D. Guido</td>\n",
       "      <td>M. V. Kranendonk</td>\n",
       "      <td>2</td>\n",
       "    </tr>\n",
       "    <tr>\n",
       "      <th>8</th>\n",
       "      <td>D. Guido</td>\n",
       "      <td>S. Ruff</td>\n",
       "      <td>2</td>\n",
       "    </tr>\n",
       "    <tr>\n",
       "      <th>9</th>\n",
       "      <td>D. Guido</td>\n",
       "      <td>F. Westall</td>\n",
       "      <td>2</td>\n",
       "    </tr>\n",
       "    <tr>\n",
       "      <th>10</th>\n",
       "      <td>J. Farmer</td>\n",
       "      <td>M. V. Kranendonk</td>\n",
       "      <td>2</td>\n",
       "    </tr>\n",
       "    <tr>\n",
       "      <th>11</th>\n",
       "      <td>J. Farmer</td>\n",
       "      <td>S. Ruff</td>\n",
       "      <td>2</td>\n",
       "    </tr>\n",
       "    <tr>\n",
       "      <th>12</th>\n",
       "      <td>J. Farmer</td>\n",
       "      <td>F. Westall</td>\n",
       "      <td>2</td>\n",
       "    </tr>\n",
       "    <tr>\n",
       "      <th>13</th>\n",
       "      <td>M. V. Kranendonk</td>\n",
       "      <td>S. Ruff</td>\n",
       "      <td>2</td>\n",
       "    </tr>\n",
       "    <tr>\n",
       "      <th>14</th>\n",
       "      <td>M. V. Kranendonk</td>\n",
       "      <td>F. Westall</td>\n",
       "      <td>2</td>\n",
       "    </tr>\n",
       "    <tr>\n",
       "      <th>15</th>\n",
       "      <td>S. Ruff</td>\n",
       "      <td>F. Westall</td>\n",
       "      <td>2</td>\n",
       "    </tr>\n",
       "    <tr>\n",
       "      <th>16</th>\n",
       "      <td>A. Gangidine</td>\n",
       "      <td>J. Havig</td>\n",
       "      <td>2</td>\n",
       "    </tr>\n",
       "    <tr>\n",
       "      <th>17</th>\n",
       "      <td>A. Gangidine</td>\n",
       "      <td>A. Czaja</td>\n",
       "      <td>2</td>\n",
       "    </tr>\n",
       "    <tr>\n",
       "      <th>18</th>\n",
       "      <td>J. Stromberg</td>\n",
       "      <td>E. Cloutis</td>\n",
       "      <td>2</td>\n",
       "    </tr>\n",
       "    <tr>\n",
       "      <th>19</th>\n",
       "      <td>J. Stromberg</td>\n",
       "      <td>D. Applin</td>\n",
       "      <td>2</td>\n",
       "    </tr>\n",
       "    <tr>\n",
       "      <th>20</th>\n",
       "      <td>R. Summons</td>\n",
       "      <td>J. Amend</td>\n",
       "      <td>1</td>\n",
       "    </tr>\n",
       "    <tr>\n",
       "      <th>21</th>\n",
       "      <td>R. Summons</td>\n",
       "      <td>D. Bish</td>\n",
       "      <td>1</td>\n",
       "    </tr>\n",
       "    <tr>\n",
       "      <th>22</th>\n",
       "      <td>R. Summons</td>\n",
       "      <td>R. Buick</td>\n",
       "      <td>1</td>\n",
       "    </tr>\n",
       "    <tr>\n",
       "      <th>23</th>\n",
       "      <td>R. Summons</td>\n",
       "      <td>G. Cody</td>\n",
       "      <td>1</td>\n",
       "    </tr>\n",
       "    <tr>\n",
       "      <th>24</th>\n",
       "      <td>R. Summons</td>\n",
       "      <td>D. D. Des Marais</td>\n",
       "      <td>1</td>\n",
       "    </tr>\n",
       "    <tr>\n",
       "      <th>25</th>\n",
       "      <td>R. Summons</td>\n",
       "      <td>G. Dromart</td>\n",
       "      <td>1</td>\n",
       "    </tr>\n",
       "    <tr>\n",
       "      <th>26</th>\n",
       "      <td>R. Summons</td>\n",
       "      <td>J. Eigenbrode</td>\n",
       "      <td>1</td>\n",
       "    </tr>\n",
       "    <tr>\n",
       "      <th>27</th>\n",
       "      <td>R. Summons</td>\n",
       "      <td>A. Knoll</td>\n",
       "      <td>1</td>\n",
       "    </tr>\n",
       "    <tr>\n",
       "      <th>28</th>\n",
       "      <td>R. Summons</td>\n",
       "      <td>D. Sumner</td>\n",
       "      <td>1</td>\n",
       "    </tr>\n",
       "    <tr>\n",
       "      <th>29</th>\n",
       "      <td>J. Amend</td>\n",
       "      <td>D. Bish</td>\n",
       "      <td>1</td>\n",
       "    </tr>\n",
       "    <tr>\n",
       "      <th>30</th>\n",
       "      <td>J. Amend</td>\n",
       "      <td>R. Buick</td>\n",
       "      <td>1</td>\n",
       "    </tr>\n",
       "    <tr>\n",
       "      <th>31</th>\n",
       "      <td>J. Amend</td>\n",
       "      <td>G. Cody</td>\n",
       "      <td>1</td>\n",
       "    </tr>\n",
       "    <tr>\n",
       "      <th>32</th>\n",
       "      <td>J. Amend</td>\n",
       "      <td>D. D. Des Marais</td>\n",
       "      <td>1</td>\n",
       "    </tr>\n",
       "    <tr>\n",
       "      <th>33</th>\n",
       "      <td>J. Amend</td>\n",
       "      <td>G. Dromart</td>\n",
       "      <td>1</td>\n",
       "    </tr>\n",
       "    <tr>\n",
       "      <th>34</th>\n",
       "      <td>J. Amend</td>\n",
       "      <td>J. Eigenbrode</td>\n",
       "      <td>1</td>\n",
       "    </tr>\n",
       "    <tr>\n",
       "      <th>35</th>\n",
       "      <td>J. Amend</td>\n",
       "      <td>A. Knoll</td>\n",
       "      <td>1</td>\n",
       "    </tr>\n",
       "    <tr>\n",
       "      <th>36</th>\n",
       "      <td>J. Amend</td>\n",
       "      <td>D. Sumner</td>\n",
       "      <td>1</td>\n",
       "    </tr>\n",
       "    <tr>\n",
       "      <th>37</th>\n",
       "      <td>D. Bish</td>\n",
       "      <td>R. Buick</td>\n",
       "      <td>1</td>\n",
       "    </tr>\n",
       "    <tr>\n",
       "      <th>38</th>\n",
       "      <td>D. Bish</td>\n",
       "      <td>G. Cody</td>\n",
       "      <td>1</td>\n",
       "    </tr>\n",
       "    <tr>\n",
       "      <th>39</th>\n",
       "      <td>D. Bish</td>\n",
       "      <td>D. D. Des Marais</td>\n",
       "      <td>1</td>\n",
       "    </tr>\n",
       "    <tr>\n",
       "      <th>40</th>\n",
       "      <td>D. Bish</td>\n",
       "      <td>G. Dromart</td>\n",
       "      <td>1</td>\n",
       "    </tr>\n",
       "    <tr>\n",
       "      <th>41</th>\n",
       "      <td>D. Bish</td>\n",
       "      <td>J. Eigenbrode</td>\n",
       "      <td>1</td>\n",
       "    </tr>\n",
       "    <tr>\n",
       "      <th>42</th>\n",
       "      <td>D. Bish</td>\n",
       "      <td>A. Knoll</td>\n",
       "      <td>1</td>\n",
       "    </tr>\n",
       "    <tr>\n",
       "      <th>43</th>\n",
       "      <td>D. Bish</td>\n",
       "      <td>D. Sumner</td>\n",
       "      <td>1</td>\n",
       "    </tr>\n",
       "    <tr>\n",
       "      <th>44</th>\n",
       "      <td>R. Buick</td>\n",
       "      <td>G. Cody</td>\n",
       "      <td>1</td>\n",
       "    </tr>\n",
       "    <tr>\n",
       "      <th>45</th>\n",
       "      <td>R. Buick</td>\n",
       "      <td>D. D. Des Marais</td>\n",
       "      <td>1</td>\n",
       "    </tr>\n",
       "    <tr>\n",
       "      <th>46</th>\n",
       "      <td>R. Buick</td>\n",
       "      <td>G. Dromart</td>\n",
       "      <td>1</td>\n",
       "    </tr>\n",
       "    <tr>\n",
       "      <th>47</th>\n",
       "      <td>R. Buick</td>\n",
       "      <td>J. Eigenbrode</td>\n",
       "      <td>1</td>\n",
       "    </tr>\n",
       "    <tr>\n",
       "      <th>48</th>\n",
       "      <td>R. Buick</td>\n",
       "      <td>A. Knoll</td>\n",
       "      <td>1</td>\n",
       "    </tr>\n",
       "    <tr>\n",
       "      <th>49</th>\n",
       "      <td>R. Buick</td>\n",
       "      <td>D. Sumner</td>\n",
       "      <td>1</td>\n",
       "    </tr>\n",
       "  </tbody>\n",
       "</table>\n",
       "</div>"
      ],
      "text/plain": [
       "             author1           author2  weight\n",
       "0        S. Shkolyar         J. Farmer       3\n",
       "1        K. Campbell          D. Guido       2\n",
       "2        K. Campbell         J. Farmer       2\n",
       "3        K. Campbell  M. V. Kranendonk       2\n",
       "4        K. Campbell           S. Ruff       2\n",
       "5        K. Campbell        F. Westall       2\n",
       "6           D. Guido         J. Farmer       2\n",
       "7           D. Guido  M. V. Kranendonk       2\n",
       "8           D. Guido           S. Ruff       2\n",
       "9           D. Guido        F. Westall       2\n",
       "10         J. Farmer  M. V. Kranendonk       2\n",
       "11         J. Farmer           S. Ruff       2\n",
       "12         J. Farmer        F. Westall       2\n",
       "13  M. V. Kranendonk           S. Ruff       2\n",
       "14  M. V. Kranendonk        F. Westall       2\n",
       "15           S. Ruff        F. Westall       2\n",
       "16      A. Gangidine          J. Havig       2\n",
       "17      A. Gangidine          A. Czaja       2\n",
       "18      J. Stromberg        E. Cloutis       2\n",
       "19      J. Stromberg         D. Applin       2\n",
       "20        R. Summons          J. Amend       1\n",
       "21        R. Summons           D. Bish       1\n",
       "22        R. Summons          R. Buick       1\n",
       "23        R. Summons           G. Cody       1\n",
       "24        R. Summons  D. D. Des Marais       1\n",
       "25        R. Summons        G. Dromart       1\n",
       "26        R. Summons     J. Eigenbrode       1\n",
       "27        R. Summons          A. Knoll       1\n",
       "28        R. Summons         D. Sumner       1\n",
       "29          J. Amend           D. Bish       1\n",
       "30          J. Amend          R. Buick       1\n",
       "31          J. Amend           G. Cody       1\n",
       "32          J. Amend  D. D. Des Marais       1\n",
       "33          J. Amend        G. Dromart       1\n",
       "34          J. Amend     J. Eigenbrode       1\n",
       "35          J. Amend          A. Knoll       1\n",
       "36          J. Amend         D. Sumner       1\n",
       "37           D. Bish          R. Buick       1\n",
       "38           D. Bish           G. Cody       1\n",
       "39           D. Bish  D. D. Des Marais       1\n",
       "40           D. Bish        G. Dromart       1\n",
       "41           D. Bish     J. Eigenbrode       1\n",
       "42           D. Bish          A. Knoll       1\n",
       "43           D. Bish         D. Sumner       1\n",
       "44          R. Buick           G. Cody       1\n",
       "45          R. Buick  D. D. Des Marais       1\n",
       "46          R. Buick        G. Dromart       1\n",
       "47          R. Buick     J. Eigenbrode       1\n",
       "48          R. Buick          A. Knoll       1\n",
       "49          R. Buick         D. Sumner       1"
      ]
     },
     "execution_count": 69,
     "metadata": {},
     "output_type": "execute_result"
    }
   ],
   "source": [
    "plots.generate_collab_network_df(results_df)"
   ]
  },
  {
   "cell_type": "code",
   "execution_count": 70,
   "id": "88640211",
   "metadata": {
    "collapsed": true,
    "hidden": true
   },
   "outputs": [
    {
     "data": {
      "text/plain": [
       "[{'data': {'id': 'R. Buick', 'label': 'R. Buick'}, 'classes': 'author'},\n",
       " {'data': {'id': 'D. Sumner', 'label': 'D. Sumner'}, 'classes': 'author'},\n",
       " {'data': {'id': 'S. Ruff', 'label': 'S. Ruff'}, 'classes': 'author'},\n",
       " {'data': {'id': 'E. Cloutis', 'label': 'E. Cloutis'}, 'classes': 'author'},\n",
       " {'data': {'id': 'F. Westall', 'label': 'F. Westall'}, 'classes': 'author'},\n",
       " {'data': {'id': 'A. Czaja', 'label': 'A. Czaja'}, 'classes': 'author'},\n",
       " {'data': {'id': 'R. Summons', 'label': 'R. Summons'}, 'classes': 'author'},\n",
       " {'data': {'id': 'J. Havig', 'label': 'J. Havig'}, 'classes': 'author'},\n",
       " {'data': {'id': 'D. Guido', 'label': 'D. Guido'}, 'classes': 'author'},\n",
       " {'data': {'id': 'J. Eigenbrode', 'label': 'J. Eigenbrode'},\n",
       "  'classes': 'author'},\n",
       " {'data': {'id': 'D. Bish', 'label': 'D. Bish'}, 'classes': 'author'},\n",
       " {'data': {'id': 'D. Applin', 'label': 'D. Applin'}, 'classes': 'author'},\n",
       " {'data': {'id': 'A. Gangidine', 'label': 'A. Gangidine'},\n",
       "  'classes': 'author'},\n",
       " {'data': {'id': 'J. Amend', 'label': 'J. Amend'}, 'classes': 'author'},\n",
       " {'data': {'id': 'G. Dromart', 'label': 'G. Dromart'}, 'classes': 'author'},\n",
       " {'data': {'id': 'D. D. Des Marais', 'label': 'D. D. Des Marais'},\n",
       "  'classes': 'author'},\n",
       " {'data': {'id': 'K. Campbell', 'label': 'K. Campbell'}, 'classes': 'author'},\n",
       " {'data': {'id': 'S. Shkolyar', 'label': 'S. Shkolyar'}, 'classes': 'author'},\n",
       " {'data': {'id': 'M. V. Kranendonk', 'label': 'M. V. Kranendonk'},\n",
       "  'classes': 'author'},\n",
       " {'data': {'id': 'G. Cody', 'label': 'G. Cody'}, 'classes': 'author'},\n",
       " {'data': {'id': 'A. Knoll', 'label': 'A. Knoll'}, 'classes': 'author'},\n",
       " {'data': {'id': 'J. Farmer', 'label': 'J. Farmer'}, 'classes': 'author'},\n",
       " {'data': {'id': 'J. Stromberg', 'label': 'J. Stromberg'},\n",
       "  'classes': 'author'},\n",
       " {'data': {'source': 'S. Shkolyar', 'target': 'J. Farmer'},\n",
       "  'classes': 'collaboration'},\n",
       " {'data': {'source': 'S. Shkolyar', 'target': 'J. Farmer'},\n",
       "  'classes': 'collaboration'},\n",
       " {'data': {'source': 'K. Campbell', 'target': 'D. Guido'},\n",
       "  'classes': 'collaboration'},\n",
       " {'data': {'source': 'K. Campbell', 'target': 'J. Farmer'},\n",
       "  'classes': 'collaboration'},\n",
       " {'data': {'source': 'K. Campbell', 'target': 'M. V. Kranendonk'},\n",
       "  'classes': 'collaboration'},\n",
       " {'data': {'source': 'K. Campbell', 'target': 'S. Ruff'},\n",
       "  'classes': 'collaboration'},\n",
       " {'data': {'source': 'K. Campbell', 'target': 'F. Westall'},\n",
       "  'classes': 'collaboration'},\n",
       " {'data': {'source': 'D. Guido', 'target': 'J. Farmer'},\n",
       "  'classes': 'collaboration'},\n",
       " {'data': {'source': 'D. Guido', 'target': 'M. V. Kranendonk'},\n",
       "  'classes': 'collaboration'},\n",
       " {'data': {'source': 'D. Guido', 'target': 'S. Ruff'},\n",
       "  'classes': 'collaboration'},\n",
       " {'data': {'source': 'D. Guido', 'target': 'F. Westall'},\n",
       "  'classes': 'collaboration'},\n",
       " {'data': {'source': 'J. Farmer', 'target': 'M. V. Kranendonk'},\n",
       "  'classes': 'collaboration'},\n",
       " {'data': {'source': 'J. Farmer', 'target': 'S. Ruff'},\n",
       "  'classes': 'collaboration'},\n",
       " {'data': {'source': 'J. Farmer', 'target': 'F. Westall'},\n",
       "  'classes': 'collaboration'},\n",
       " {'data': {'source': 'M. V. Kranendonk', 'target': 'S. Ruff'},\n",
       "  'classes': 'collaboration'},\n",
       " {'data': {'source': 'M. V. Kranendonk', 'target': 'F. Westall'},\n",
       "  'classes': 'collaboration'},\n",
       " {'data': {'source': 'S. Ruff', 'target': 'F. Westall'},\n",
       "  'classes': 'collaboration'},\n",
       " {'data': {'source': 'A. Gangidine', 'target': 'J. Havig'},\n",
       "  'classes': 'collaboration'},\n",
       " {'data': {'source': 'A. Gangidine', 'target': 'A. Czaja'},\n",
       "  'classes': 'collaboration'},\n",
       " {'data': {'source': 'J. Stromberg', 'target': 'E. Cloutis'},\n",
       "  'classes': 'collaboration'},\n",
       " {'data': {'source': 'J. Stromberg', 'target': 'D. Applin'},\n",
       "  'classes': 'collaboration'},\n",
       " {'data': {'source': 'R. Summons', 'target': 'J. Amend'},\n",
       "  'classes': 'collaboration'},\n",
       " {'data': {'source': 'R. Summons', 'target': 'D. Bish'},\n",
       "  'classes': 'collaboration'},\n",
       " {'data': {'source': 'R. Summons', 'target': 'R. Buick'},\n",
       "  'classes': 'collaboration'},\n",
       " {'data': {'source': 'R. Summons', 'target': 'G. Cody'},\n",
       "  'classes': 'collaboration'},\n",
       " {'data': {'source': 'R. Summons', 'target': 'D. D. Des Marais'},\n",
       "  'classes': 'collaboration'},\n",
       " {'data': {'source': 'R. Summons', 'target': 'G. Dromart'},\n",
       "  'classes': 'collaboration'},\n",
       " {'data': {'source': 'R. Summons', 'target': 'J. Eigenbrode'},\n",
       "  'classes': 'collaboration'},\n",
       " {'data': {'source': 'R. Summons', 'target': 'A. Knoll'},\n",
       "  'classes': 'collaboration'},\n",
       " {'data': {'source': 'R. Summons', 'target': 'D. Sumner'},\n",
       "  'classes': 'collaboration'},\n",
       " {'data': {'source': 'J. Amend', 'target': 'D. Bish'},\n",
       "  'classes': 'collaboration'},\n",
       " {'data': {'source': 'J. Amend', 'target': 'R. Buick'},\n",
       "  'classes': 'collaboration'},\n",
       " {'data': {'source': 'J. Amend', 'target': 'G. Cody'},\n",
       "  'classes': 'collaboration'},\n",
       " {'data': {'source': 'J. Amend', 'target': 'D. D. Des Marais'},\n",
       "  'classes': 'collaboration'},\n",
       " {'data': {'source': 'J. Amend', 'target': 'G. Dromart'},\n",
       "  'classes': 'collaboration'},\n",
       " {'data': {'source': 'J. Amend', 'target': 'J. Eigenbrode'},\n",
       "  'classes': 'collaboration'},\n",
       " {'data': {'source': 'J. Amend', 'target': 'A. Knoll'},\n",
       "  'classes': 'collaboration'},\n",
       " {'data': {'source': 'J. Amend', 'target': 'D. Sumner'},\n",
       "  'classes': 'collaboration'},\n",
       " {'data': {'source': 'D. Bish', 'target': 'R. Buick'},\n",
       "  'classes': 'collaboration'},\n",
       " {'data': {'source': 'D. Bish', 'target': 'G. Cody'},\n",
       "  'classes': 'collaboration'},\n",
       " {'data': {'source': 'D. Bish', 'target': 'D. D. Des Marais'},\n",
       "  'classes': 'collaboration'},\n",
       " {'data': {'source': 'D. Bish', 'target': 'G. Dromart'},\n",
       "  'classes': 'collaboration'},\n",
       " {'data': {'source': 'D. Bish', 'target': 'J. Eigenbrode'},\n",
       "  'classes': 'collaboration'},\n",
       " {'data': {'source': 'D. Bish', 'target': 'A. Knoll'},\n",
       "  'classes': 'collaboration'},\n",
       " {'data': {'source': 'D. Bish', 'target': 'D. Sumner'},\n",
       "  'classes': 'collaboration'},\n",
       " {'data': {'source': 'R. Buick', 'target': 'G. Cody'},\n",
       "  'classes': 'collaboration'},\n",
       " {'data': {'source': 'R. Buick', 'target': 'D. D. Des Marais'},\n",
       "  'classes': 'collaboration'},\n",
       " {'data': {'source': 'R. Buick', 'target': 'G. Dromart'},\n",
       "  'classes': 'collaboration'},\n",
       " {'data': {'source': 'R. Buick', 'target': 'J. Eigenbrode'},\n",
       "  'classes': 'collaboration'},\n",
       " {'data': {'source': 'R. Buick', 'target': 'A. Knoll'},\n",
       "  'classes': 'collaboration'},\n",
       " {'data': {'source': 'R. Buick', 'target': 'D. Sumner'},\n",
       "  'classes': 'collaboration'}]"
      ]
     },
     "execution_count": 70,
     "metadata": {},
     "output_type": "execute_result"
    }
   ],
   "source": [
    "plots.generate_graph_elements(results_df)"
   ]
  },
  {
   "cell_type": "code",
   "execution_count": 82,
   "id": "8744c337",
   "metadata": {
    "hidden": true
   },
   "outputs": [],
   "source": [
    "ref1 = []\n",
    "ref2 = []\n",
    "for index, row in all_references_df.iterrows():\n",
    "    ref1.append(row.reference)\n",
    "    ref2.append(results_df.reference[results_df.paperId == row['citedBy']])\n",
    "ref1_array = np.array(ref1)\n",
    "ref2_array = np.array(ref2)"
   ]
  },
  {
   "cell_type": "code",
   "execution_count": 85,
   "id": "8d1e2ebf",
   "metadata": {
    "hidden": true
   },
   "outputs": [],
   "source": [
    "ref_network_df = pd.DataFrame(ref1_array, columns=['ref1'])"
   ]
  },
  {
   "cell_type": "code",
   "execution_count": 86,
   "id": "069f2770",
   "metadata": {
    "hidden": true
   },
   "outputs": [
    {
     "data": {
      "text/html": [
       "<div>\n",
       "<style scoped>\n",
       "    .dataframe tbody tr th:only-of-type {\n",
       "        vertical-align: middle;\n",
       "    }\n",
       "\n",
       "    .dataframe tbody tr th {\n",
       "        vertical-align: top;\n",
       "    }\n",
       "\n",
       "    .dataframe thead th {\n",
       "        text-align: right;\n",
       "    }\n",
       "</style>\n",
       "<table border=\"1\" class=\"dataframe\">\n",
       "  <thead>\n",
       "    <tr style=\"text-align: right;\">\n",
       "      <th></th>\n",
       "      <th>ref1</th>\n",
       "      <th>ref2</th>\n",
       "    </tr>\n",
       "  </thead>\n",
       "  <tbody>\n",
       "    <tr>\n",
       "      <th>0</th>\n",
       "      <td>A. Bradley et al. (2009)</td>\n",
       "      <td>R. Summons et al. (2011)</td>\n",
       "    </tr>\n",
       "    <tr>\n",
       "      <th>1</th>\n",
       "      <td>M. Brasier et al. (2006)</td>\n",
       "      <td>R. Summons et al. (2011)</td>\n",
       "    </tr>\n",
       "    <tr>\n",
       "      <th>2</th>\n",
       "      <td>N. Noffke (1978)</td>\n",
       "      <td>R. Summons et al. (2011)</td>\n",
       "    </tr>\n",
       "    <tr>\n",
       "      <th>3</th>\n",
       "      <td>D. D. Marais (2001)</td>\n",
       "      <td>R. Summons et al. (2011)</td>\n",
       "    </tr>\n",
       "    <tr>\n",
       "      <th>4</th>\n",
       "      <td>M. Kennedy et al. (2006)</td>\n",
       "      <td>R. Summons et al. (2011)</td>\n",
       "    </tr>\n",
       "    <tr>\n",
       "      <th>...</th>\n",
       "      <td>...</td>\n",
       "      <td>...</td>\n",
       "    </tr>\n",
       "    <tr>\n",
       "      <th>905</th>\n",
       "      <td>M. Puchalska, E. Zych (2017)</td>\n",
       "      <td>S. Shkolyar et al. (2021)</td>\n",
       "    </tr>\n",
       "    <tr>\n",
       "      <th>906</th>\n",
       "      <td>E. Eshelman et al. (2017)</td>\n",
       "      <td>S. Shkolyar et al. (2021)</td>\n",
       "    </tr>\n",
       "    <tr>\n",
       "      <th>907</th>\n",
       "      <td>K. Cannon et al. (2019)</td>\n",
       "      <td>S. Shkolyar et al. (2021)</td>\n",
       "    </tr>\n",
       "    <tr>\n",
       "      <th>908</th>\n",
       "      <td>M. Storrie-Lombardi et al. (2009)</td>\n",
       "      <td>S. Shkolyar et al. (2021)</td>\n",
       "    </tr>\n",
       "    <tr>\n",
       "      <th>909</th>\n",
       "      <td>A. Misra et al. (2016)</td>\n",
       "      <td>S. Shkolyar et al. (2021)</td>\n",
       "    </tr>\n",
       "  </tbody>\n",
       "</table>\n",
       "<p>910 rows × 2 columns</p>\n",
       "</div>"
      ],
      "text/plain": [
       "                                  ref1                       ref2\n",
       "0             A. Bradley et al. (2009)   R. Summons et al. (2011)\n",
       "1             M. Brasier et al. (2006)   R. Summons et al. (2011)\n",
       "2                     N. Noffke (1978)   R. Summons et al. (2011)\n",
       "3                  D. D. Marais (2001)   R. Summons et al. (2011)\n",
       "4             M. Kennedy et al. (2006)   R. Summons et al. (2011)\n",
       "..                                 ...                        ...\n",
       "905       M. Puchalska, E. Zych (2017)  S. Shkolyar et al. (2021)\n",
       "906          E. Eshelman et al. (2017)  S. Shkolyar et al. (2021)\n",
       "907            K. Cannon et al. (2019)  S. Shkolyar et al. (2021)\n",
       "908  M. Storrie-Lombardi et al. (2009)  S. Shkolyar et al. (2021)\n",
       "909             A. Misra et al. (2016)  S. Shkolyar et al. (2021)\n",
       "\n",
       "[910 rows x 2 columns]"
      ]
     },
     "execution_count": 86,
     "metadata": {},
     "output_type": "execute_result"
    }
   ],
   "source": [
    "ref_network_df['ref2'] = ref2_array\n",
    "ref_network_df"
   ]
  },
  {
   "cell_type": "code",
   "execution_count": 94,
   "id": "1731be69",
   "metadata": {
    "hidden": true
   },
   "outputs": [],
   "source": [
    "def generate_ref_network_df(df1, df2):\n",
    "    \"\"\"df1 = all_references_df\n",
    "     df2 = results_df\"\"\"\n",
    "    ref1 = []\n",
    "    ref2 = []\n",
    "    for index, row in df1.iterrows():\n",
    "        ref1.append(row.reference)\n",
    "        ref2.append(df2.reference[df2.paperId == row['citedBy']])\n",
    "    ref1_array = np.array(ref1)\n",
    "    ref2_array = np.array(ref2)\n",
    "    ref_network_df = pd.DataFrame(ref1_array, columns=['ref1'])\n",
    "    ref_network_df['ref2'] = ref2_array\n",
    "    return ref_network_df"
   ]
  },
  {
   "cell_type": "code",
   "execution_count": 97,
   "id": "cf6360b7",
   "metadata": {
    "hidden": true
   },
   "outputs": [],
   "source": [
    "def generate_graph_elements_network(df1, df2):\n",
    "    ref_network_df = generate_ref_network_df(df1, df2)\n",
    "    unique_refs = list(set(ref_network_df.ref1.unique().tolist() + ref_network_df.ref2.unique().tolist()))\n",
    "    nodes_list = [{'data': {'id': unique_refs[0], 'label': unique_refs[0]}, 'classes': 'ref'}]\n",
    "    for element in unique_refs[1:]:\n",
    "        nodes_list.append({'data': {'id': element, 'label': element}, 'classes': 'ref'})\n",
    "    edges_list = [{'data': {'source': ref_network_df['ref1'][0], 'target': ref_network_df['ref2'][0]}, 'classes': 'citation'}]\n",
    "    for index, row in ref_network_df.iterrows():\n",
    "        edges_list.append({'data': {'source': row.ref1, 'target': row.ref2}, 'classes': 'citation'})\n",
    "    elements = nodes_list + edges_list\n",
    "    #print(elements)\n",
    "    return elements"
   ]
  },
  {
   "cell_type": "code",
   "execution_count": 98,
   "id": "90f3cad4",
   "metadata": {
    "collapsed": true,
    "hidden": true
   },
   "outputs": [
    {
     "data": {
      "text/plain": [
       "[{'data': {'id': 'S.K. Sharma et al. (2020)',\n",
       "   'label': 'S.K. Sharma et al. (2020)'},\n",
       "  'classes': 'ref'},\n",
       " {'data': {'id': 'S. Ruff, J. Farmer (2016)',\n",
       "   'label': 'S. Ruff, J. Farmer (2016)'},\n",
       "  'classes': 'ref'},\n",
       " {'data': {'id': 'L. E. Reichen, J. Fahey (1962)',\n",
       "   'label': 'L. E. Reichen, J. Fahey (1962)'},\n",
       "  'classes': 'ref'},\n",
       " {'data': {'id': 'Ł. Karwowski et al. (2013)',\n",
       "   'label': 'Ł. Karwowski et al. (2013)'},\n",
       "  'classes': 'ref'},\n",
       " {'data': {'id': 'C. Martín (2008)', 'label': 'C. Martín (2008)'},\n",
       "  'classes': 'ref'},\n",
       " {'data': {'id': 'H. Matzke (1992)', 'label': 'H. Matzke (1992)'},\n",
       "  'classes': 'ref'},\n",
       " {'data': {'id': 'R. Hites (nan)', 'label': 'R. Hites (nan)'},\n",
       "  'classes': 'ref'},\n",
       " {'data': {'id': 'A. J. Williams et al. (2017.0)',\n",
       "   'label': 'A. J. Williams et al. (2017.0)'},\n",
       "  'classes': 'ref'},\n",
       " {'data': {'id': 'K. Thomas-Keprta et al. (1998)',\n",
       "   'label': 'K. Thomas-Keprta et al. (1998)'},\n",
       "  'classes': 'ref'},\n",
       " {'data': {'id': 'M. Mora-Ruiz et al. (2017.0)',\n",
       "   'label': 'M. Mora-Ruiz et al. (2017.0)'},\n",
       "  'classes': 'ref'},\n",
       " {'data': {'id': 'J. Guo et al. (2020.0)', 'label': 'J. Guo et al. (2020.0)'},\n",
       "  'classes': 'ref'},\n",
       " {'data': {'id': 'J. Parnell et al. (2007.0)',\n",
       "   'label': 'J. Parnell et al. (2007.0)'},\n",
       "  'classes': 'ref'},\n",
       " {'data': {'id': 'J. Donovan et al. (2003)',\n",
       "   'label': 'J. Donovan et al. (2003)'},\n",
       "  'classes': 'ref'},\n",
       " {'data': {'id': 'Y. Liu et al. (2013)', 'label': 'Y. Liu et al. (2013)'},\n",
       "  'classes': 'ref'},\n",
       " {'data': {'id': 'W. Ney (1973.0)', 'label': 'W. Ney (1973.0)'},\n",
       "  'classes': 'ref'},\n",
       " {'data': {'id': 'S. Heising et al. (1999)',\n",
       "   'label': 'S. Heising et al. (1999)'},\n",
       "  'classes': 'ref'},\n",
       " {'data': {'id': 'C. Cousins et al. (2012.0)',\n",
       "   'label': 'C. Cousins et al. (2012.0)'},\n",
       "  'classes': 'ref'},\n",
       " {'data': {'id': 'J. Schopf et al. (2012)',\n",
       "   'label': 'J. Schopf et al. (2012)'},\n",
       "  'classes': 'ref'},\n",
       " {'data': {'id': 'L. Beegle et al. (2014)',\n",
       "   'label': 'L. Beegle et al. (2014)'},\n",
       "  'classes': 'ref'},\n",
       " {'data': {'id': 'I. Szczygieł et al. (2007)',\n",
       "   'label': 'I. Szczygieł et al. (2007)'},\n",
       "  'classes': 'ref'},\n",
       " {'data': {'id': 'N. Nimura, T. Kinoshita (1986.0)',\n",
       "   'label': 'N. Nimura, T. Kinoshita (1986.0)'},\n",
       "  'classes': 'ref'},\n",
       " {'data': {'id': 'A. Jubb, H. Allen (2010)',\n",
       "   'label': 'A. Jubb, H. Allen (2010)'},\n",
       "  'classes': 'ref'},\n",
       " {'data': {'id': 'Daly (2015)', 'label': 'Daly (2015)'}, 'classes': 'ref'},\n",
       " {'data': {'id': 'Q. He et al. (2015)', 'label': 'Q. He et al. (2015)'},\n",
       "  'classes': 'ref'},\n",
       " {'data': {'id': 'K. F. Weaver (1973.0)', 'label': 'K. F. Weaver (1973.0)'},\n",
       "  'classes': 'ref'},\n",
       " {'data': {'id': 'J. Gleason et al. (1997)',\n",
       "   'label': 'J. Gleason et al. (1997)'},\n",
       "  'classes': 'ref'},\n",
       " {'data': {'id': 'J. Clarke, C. Pain (2003)',\n",
       "   'label': 'J. Clarke, C. Pain (2003)'},\n",
       "  'classes': 'ref'},\n",
       " {'data': {'id': 'M. N. Parenteau et al. (2014.0)',\n",
       "   'label': 'M. N. Parenteau et al. (2014.0)'},\n",
       "  'classes': 'ref'},\n",
       " {'data': {'id': 'Shiv K. Sharma et al. (2012)',\n",
       "   'label': 'Shiv K. Sharma et al. (2012)'},\n",
       "  'classes': 'ref'},\n",
       " {'data': {'id': 'M. Carr (1996.0)', 'label': 'M. Carr (1996.0)'},\n",
       "  'classes': 'ref'},\n",
       " {'data': {'id': 'G. Loppnow et al. (2004)',\n",
       "   'label': 'G. Loppnow et al. (2004)'},\n",
       "  'classes': 'ref'},\n",
       " {'data': {'id': 'J. Laing et al. (2015)', 'label': 'J. Laing et al. (2015)'},\n",
       "  'classes': 'ref'},\n",
       " {'data': {'id': 'K. Lodders (2003)', 'label': 'K. Lodders (2003)'},\n",
       "  'classes': 'ref'},\n",
       " {'data': {'id': 'A. Misra et al. (2016)', 'label': 'A. Misra et al. (2016)'},\n",
       "  'classes': 'ref'},\n",
       " {'data': {'id': 'M. Gauß et al. (2003.0)',\n",
       "   'label': 'M. Gauß et al. (2003.0)'},\n",
       "  'classes': 'ref'},\n",
       " {'data': {'id': 'N. Zotov et al. (1999)', 'label': 'N. Zotov et al. (1999)'},\n",
       "  'classes': 'ref'},\n",
       " {'data': {'id': 'B. Sutter et al. (2007.0)',\n",
       "   'label': 'B. Sutter et al. (2007.0)'},\n",
       "  'classes': 'ref'},\n",
       " {'data': {'id': 'S. Squyres et al. (2008)',\n",
       "   'label': 'S. Squyres et al. (2008)'},\n",
       "  'classes': 'ref'},\n",
       " {'data': {'id': 'D. Lovley (1993)', 'label': 'D. Lovley (1993)'},\n",
       "  'classes': 'ref'},\n",
       " {'data': {'id': 'G. Retallack (2014)', 'label': 'G. Retallack (2014)'},\n",
       "  'classes': 'ref'},\n",
       " {'data': {'id': 'B. Ehlmann, J. Mustard (2012.0)',\n",
       "   'label': 'B. Ehlmann, J. Mustard (2012.0)'},\n",
       "  'classes': 'ref'},\n",
       " {'data': {'id': 'Yong Chen et al. (2007)',\n",
       "   'label': 'Yong Chen et al. (2007)'},\n",
       "  'classes': 'ref'},\n",
       " {'data': {'id': 'C. Brolly et al. (2016)',\n",
       "   'label': 'C. Brolly et al. (2016)'},\n",
       "  'classes': 'ref'},\n",
       " {'data': {'id': 'A. Oren (2014.0)', 'label': 'A. Oren (2014.0)'},\n",
       "  'classes': 'ref'},\n",
       " {'data': {'id': 'F. Rull et al. (2007)', 'label': 'F. Rull et al. (2007)'},\n",
       "  'classes': 'ref'},\n",
       " {'data': {'id': 'D. D. Des Marais et al. (2008.0)',\n",
       "   'label': 'D. D. Des Marais et al. (2008.0)'},\n",
       "  'classes': 'ref'},\n",
       " {'data': {'id': 'W. Ingledew (1982)', 'label': 'W. Ingledew (1982)'},\n",
       "  'classes': 'ref'},\n",
       " {'data': {'id': 'JACK A. Peary, R. Castenholz (1964)',\n",
       "   'label': 'JACK A. Peary, R. Castenholz (1964)'},\n",
       "  'classes': 'ref'},\n",
       " {'data': {'id': 'Hai Cheng et al. (2000)',\n",
       "   'label': 'Hai Cheng et al. (2000)'},\n",
       "  'classes': 'ref'},\n",
       " {'data': {'id': 'C. Marshall et al. (2006.0)',\n",
       "   'label': 'C. Marshall et al. (2006.0)'},\n",
       "  'classes': 'ref'},\n",
       " {'data': {'id': 'T. D. WnIrB (nan)', 'label': 'T. D. WnIrB (nan)'},\n",
       "  'classes': 'ref'},\n",
       " {'data': {'id': 'W. Brazelton et al. (2006)',\n",
       "   'label': 'W. Brazelton et al. (2006)'},\n",
       "  'classes': 'ref'},\n",
       " {'data': {'id': 'J. Parnell (2005.0)', 'label': 'J. Parnell (2005.0)'},\n",
       "  'classes': 'ref'},\n",
       " {'data': {'id': 'F. Cucinotta et al. (2006.0)',\n",
       "   'label': 'F. Cucinotta et al. (2006.0)'},\n",
       "  'classes': 'ref'},\n",
       " {'data': {'id': 'D. Hassler et al. (2014)',\n",
       "   'label': 'D. Hassler et al. (2014)'},\n",
       "  'classes': 'ref'},\n",
       " {'data': {'id': 'T. Goudge et al. (2015)',\n",
       "   'label': 'T. Goudge et al. (2015)'},\n",
       "  'classes': 'ref'},\n",
       " {'data': {'id': 'T. Hoehler (2007)', 'label': 'T. Hoehler (2007)'},\n",
       "  'classes': 'ref'},\n",
       " {'data': {'id': 'F. Widdel et al. (1993)',\n",
       "   'label': 'F. Widdel et al. (1993)'},\n",
       "  'classes': 'ref'},\n",
       " {'data': {'id': 'J. Marlow et al. (2010.0)',\n",
       "   'label': 'J. Marlow et al. (2010.0)'},\n",
       "  'classes': 'ref'},\n",
       " {'data': {'id': 'M. Floyd et al. (2018)', 'label': 'M. Floyd et al. (2018)'},\n",
       "  'classes': 'ref'},\n",
       " {'data': {'id': 'A. Steele et al. (2016)',\n",
       "   'label': 'A. Steele et al. (2016)'},\n",
       "  'classes': 'ref'},\n",
       " {'data': {'id': 'J. Wadell (1972.0)', 'label': 'J. Wadell (1972.0)'},\n",
       "  'classes': 'ref'},\n",
       " {'data': {'id': 'A. Steele et al. (2007)',\n",
       "   'label': 'A. Steele et al. (2007)'},\n",
       "  'classes': 'ref'},\n",
       " {'data': {'id': 'P. Prasad (2001.0)', 'label': 'P. Prasad (2001.0)'},\n",
       "  'classes': 'ref'},\n",
       " {'data': {'id': 'P. Doran et al. (1998)', 'label': 'P. Doran et al. (1998)'},\n",
       "  'classes': 'ref'},\n",
       " {'data': {'id': 'P. Christensen et al. (2001)',\n",
       "   'label': 'P. Christensen et al. (2001)'},\n",
       "  'classes': 'ref'},\n",
       " {'data': {'id': 'J. Bell et al. (2006.0)',\n",
       "   'label': 'J. Bell et al. (2006.0)'},\n",
       "  'classes': 'ref'},\n",
       " {'data': {'id': 'E. Cloutis et al. (2006.0)',\n",
       "   'label': 'E. Cloutis et al. (2006.0)'},\n",
       "  'classes': 'ref'},\n",
       " {'data': {'id': 'Z. Suo et al. (2007.0)', 'label': 'Z. Suo et al. (2007.0)'},\n",
       "  'classes': 'ref'},\n",
       " {'data': {'id': 'K. J. Edwards et al. (1999.0)',\n",
       "   'label': 'K. J. Edwards et al. (1999.0)'},\n",
       "  'classes': 'ref'},\n",
       " {'data': {'id': 'N. Holden, D. Hoffman (2000)',\n",
       "   'label': 'N. Holden, D. Hoffman (2000)'},\n",
       "  'classes': 'ref'},\n",
       " {'data': {'id': 'J. Sweeney, S. Asher (1990)',\n",
       "   'label': 'J. Sweeney, S. Asher (1990)'},\n",
       "  'classes': 'ref'},\n",
       " {'data': {'id': 'J. Alt (1988)', 'label': 'J. Alt (1988)'}, 'classes': 'ref'},\n",
       " {'data': {'id': 'O. Seki et al. (2010)', 'label': 'O. Seki et al. (2010)'},\n",
       "  'classes': 'ref'},\n",
       " {'data': {'id': 'G. E. Ericksen (1983.0)',\n",
       "   'label': 'G. E. Ericksen (1983.0)'},\n",
       "  'classes': 'ref'},\n",
       " {'data': {'id': 'E. W. Baker, J. Louda (1986.0)',\n",
       "   'label': 'E. W. Baker, J. Louda (1986.0)'},\n",
       "  'classes': 'ref'},\n",
       " {'data': {'id': 'Jie Wei et al. (2015.0)',\n",
       "   'label': 'Jie Wei et al. (2015.0)'},\n",
       "  'classes': 'ref'},\n",
       " {'data': {'id': 'O. Prieto-Ballesteros et al. (2003.0)',\n",
       "   'label': 'O. Prieto-Ballesteros et al. (2003.0)'},\n",
       "  'classes': 'ref'},\n",
       " {'data': {'id': 'N. Feirer, C. Fuqua (2017.0)',\n",
       "   'label': 'N. Feirer, C. Fuqua (2017.0)'},\n",
       "  'classes': 'ref'},\n",
       " {'data': {'id': 'E. Hausrath et al. (2011)',\n",
       "   'label': 'E. Hausrath et al. (2011)'},\n",
       "  'classes': 'ref'},\n",
       " {'data': {'id': 'Clara S Chan et al. (2016.0)',\n",
       "   'label': 'Clara S Chan et al. (2016.0)'},\n",
       "  'classes': 'ref'},\n",
       " {'data': {'id': 'S. Agostinelli et al. (2003.0)',\n",
       "   'label': 'S. Agostinelli et al. (2003.0)'},\n",
       "  'classes': 'ref'},\n",
       " {'data': {'id': 'Hardie L.A. (1970.0)', 'label': 'Hardie L.A. (1970.0)'},\n",
       "  'classes': 'ref'},\n",
       " {'data': {'id': 'K. Pedersen et al. (1997)',\n",
       "   'label': 'K. Pedersen et al. (1997)'},\n",
       "  'classes': 'ref'},\n",
       " {'data': {'id': 'J. Wang et al. (2002)', 'label': 'J. Wang et al. (2002)'},\n",
       "  'classes': 'ref'},\n",
       " {'data': {'id': 'C. Meinert, U. Meierhenrich (2012.0)',\n",
       "   'label': 'C. Meinert, U. Meierhenrich (2012.0)'},\n",
       "  'classes': 'ref'},\n",
       " {'data': {'id': 'D. Pullan et al. (2008.0)',\n",
       "   'label': 'D. Pullan et al. (2008.0)'},\n",
       "  'classes': 'ref'},\n",
       " {'data': {'id': 'Nations J.D. (1981.0)', 'label': 'Nations J.D. (1981.0)'},\n",
       "  'classes': 'ref'},\n",
       " {'data': {'id': 'N. Stivaletta et al. (2010.0)',\n",
       "   'label': 'N. Stivaletta et al. (2010.0)'},\n",
       "  'classes': 'ref'},\n",
       " {'data': {'id': 'J. Stromberg et al. (2013)',\n",
       "   'label': 'J. Stromberg et al. (2013)'},\n",
       "  'classes': 'ref'},\n",
       " {'data': {'id': 'N. Noffke (1978)', 'label': 'N. Noffke (1978)'},\n",
       "  'classes': 'ref'},\n",
       " {'data': {'id': 'M. Mumma et al. (2009)', 'label': 'M. Mumma et al. (2009)'},\n",
       "  'classes': 'ref'},\n",
       " {'data': {'id': 'Ericksen G.E. (1981.0)', 'label': 'Ericksen G.E. (1981.0)'},\n",
       "  'classes': 'ref'},\n",
       " {'data': {'id': 'Shiv K. Sharma et al. (2002)',\n",
       "   'label': 'Shiv K. Sharma et al. (2002)'},\n",
       "  'classes': 'ref'},\n",
       " {'data': {'id': 'S. Bose, H. Chafetz (2012)',\n",
       "   'label': 'S. Bose, H. Chafetz (2012)'},\n",
       "  'classes': 'ref'},\n",
       " {'data': {'id': 'V. Pylro et al. (2014.0)',\n",
       "   'label': 'V. Pylro et al. (2014.0)'},\n",
       "  'classes': 'ref'},\n",
       " {'data': {'id': 'R. Fleischer, P. Price (1964)',\n",
       "   'label': 'R. Fleischer, P. Price (1964)'},\n",
       "  'classes': 'ref'},\n",
       " {'data': {'id': 'T. Torsvik et al. (1998)',\n",
       "   'label': 'T. Torsvik et al. (1998)'},\n",
       "  'classes': 'ref'},\n",
       " {'data': {'id': 'G. Ertem et al. (2016.0)',\n",
       "   'label': 'G. Ertem et al. (2016.0)'},\n",
       "  'classes': 'ref'},\n",
       " {'data': {'id': 'J. Feynman et al. (1993.0)',\n",
       "   'label': 'J. Feynman et al. (1993.0)'},\n",
       "  'classes': 'ref'},\n",
       " {'data': {'id': 'D. Smith et al. (2001.0)',\n",
       "   'label': 'D. Smith et al. (2001.0)'},\n",
       "  'classes': 'ref'},\n",
       " {'data': {'id': 'J. Grotzinger et al. (2012.0)',\n",
       "   'label': 'J. Grotzinger et al. (2012.0)'},\n",
       "  'classes': 'ref'},\n",
       " {'data': {'id': 'O. Botta et al. (2004.0)',\n",
       "   'label': 'O. Botta et al. (2004.0)'},\n",
       "  'classes': 'ref'},\n",
       " {'data': {'id': 'T. G. Powell (1986.0)', 'label': 'T. G. Powell (1986.0)'},\n",
       "  'classes': 'ref'},\n",
       " {'data': {'id': 'M. Kennedy et al. (2002.0)',\n",
       "   'label': 'M. Kennedy et al. (2002.0)'},\n",
       "  'classes': 'ref'},\n",
       " {'data': {'id': 'R. Castenholz (1988)', 'label': 'R. Castenholz (1988)'},\n",
       "  'classes': 'ref'},\n",
       " {'data': {'id': 'M. Flower et al. (2006)',\n",
       "   'label': 'M. Flower et al. (2006)'},\n",
       "  'classes': 'ref'},\n",
       " {'data': {'id': 'N. McLoughlin et al. (2010)',\n",
       "   'label': 'N. McLoughlin et al. (2010)'},\n",
       "  'classes': 'ref'},\n",
       " {'data': {'id': 'R. Bonaccorsi, C. Stoker (2008)',\n",
       "   'label': 'R. Bonaccorsi, C. Stoker (2008)'},\n",
       "  'classes': 'ref'},\n",
       " {'data': {'id': 'S. Potter-McIntyre et al. (2014.0)',\n",
       "   'label': 'S. Potter-McIntyre et al. (2014.0)'},\n",
       "  'classes': 'ref'},\n",
       " {'data': {'id': 'B. Ehresmann et al. (2011.0)',\n",
       "   'label': 'B. Ehresmann et al. (2011.0)'},\n",
       "  'classes': 'ref'},\n",
       " {'data': {'id': 'J. Tien, Chieh-Chang Chen (1999)',\n",
       "   'label': 'J. Tien, Chieh-Chang Chen (1999)'},\n",
       "  'classes': 'ref'},\n",
       " {'data': {'id': 'F. Gómez et al. (2011.0)',\n",
       "   'label': 'F. Gómez et al. (2011.0)'},\n",
       "  'classes': 'ref'},\n",
       " {'data': {'id': 'Joost W. Aerts et al. (2020)',\n",
       "   'label': 'Joost W. Aerts et al. (2020)'},\n",
       "  'classes': 'ref'},\n",
       " {'data': {'id': 'J. Alt (2013)', 'label': 'J. Alt (2013)'}, 'classes': 'ref'},\n",
       " {'data': {'id': 'J. Pollack et al. (1987.0)',\n",
       "   'label': 'J. Pollack et al. (1987.0)'},\n",
       "  'classes': 'ref'},\n",
       " {'data': {'id': 'Hintze (2009)', 'label': 'Hintze (2009)'}, 'classes': 'ref'},\n",
       " {'data': {'id': 'A. Beliaev et al. (2002.0)',\n",
       "   'label': 'A. Beliaev et al. (2002.0)'},\n",
       "  'classes': 'ref'},\n",
       " {'data': {'id': 'G. Brass (1980.0)', 'label': 'G. Brass (1980.0)'},\n",
       "  'classes': 'ref'},\n",
       " {'data': {'id': 'S. Durairaju Nisshanthini et al. (2015.0)',\n",
       "   'label': 'S. Durairaju Nisshanthini et al. (2015.0)'},\n",
       "  'classes': 'ref'},\n",
       " {'data': {'id': 'C. McKay (2008)', 'label': 'C. McKay (2008)'},\n",
       "  'classes': 'ref'},\n",
       " {'data': {'id': 'C. Klein, N. Beukes (1989)',\n",
       "   'label': 'C. Klein, N. Beukes (1989)'},\n",
       "  'classes': 'ref'},\n",
       " {'data': {'id': 'Williams A.J. (2017.0)', 'label': 'Williams A.J. (2017.0)'},\n",
       "  'classes': 'ref'},\n",
       " {'data': {'id': 'B. Cámara et al. (2016)',\n",
       "   'label': 'B. Cámara et al. (2016)'},\n",
       "  'classes': 'ref'},\n",
       " {'data': {'id': 'D. D. Des Marais et al. (2003)',\n",
       "   'label': 'D. D. Des Marais et al. (2003)'},\n",
       "  'classes': 'ref'},\n",
       " {'data': {'id': 'Phillips K.A. (1987.0)', 'label': 'Phillips K.A. (1987.0)'},\n",
       "  'classes': 'ref'},\n",
       " {'data': {'id': 'G. Cody, C. Alexander (2005)',\n",
       "   'label': 'G. Cody, C. Alexander (2005)'},\n",
       "  'classes': 'ref'},\n",
       " {'data': {'id': 'O. Takano, A. Waseda (2003)',\n",
       "   'label': 'O. Takano, A. Waseda (2003)'},\n",
       "  'classes': 'ref'},\n",
       " {'data': {'id': 'T. Slaba, N. Stoffle (2017.0)',\n",
       "   'label': 'T. Slaba, N. Stoffle (2017.0)'},\n",
       "  'classes': 'ref'},\n",
       " {'data': {'id': 'J. Grotzinger et al. (2014.0)',\n",
       "   'label': 'J. Grotzinger et al. (2014.0)'},\n",
       "  'classes': 'ref'},\n",
       " {'data': {'id': 'C. Mertens et al. (2016.0)',\n",
       "   'label': 'C. Mertens et al. (2016.0)'},\n",
       "  'classes': 'ref'},\n",
       " {'data': {'id': 'B. Ehlmann et al. (2009)',\n",
       "   'label': 'B. Ehlmann et al. (2009)'},\n",
       "  'classes': 'ref'},\n",
       " {'data': {'id': 'A. Lambert et al. (1998.0)',\n",
       "   'label': 'A. Lambert et al. (1998.0)'},\n",
       "  'classes': 'ref'},\n",
       " {'data': {'id': 'J. Flahaut et al. (2015.0)',\n",
       "   'label': 'J. Flahaut et al. (2015.0)'},\n",
       "  'classes': 'ref'},\n",
       " {'data': {'id': 'D. Fliegel et al. (2012)',\n",
       "   'label': 'D. Fliegel et al. (2012)'},\n",
       "  'classes': 'ref'},\n",
       " {'data': {'id': 'R. Spencer (2000.0)', 'label': 'R. Spencer (2000.0)'},\n",
       "  'classes': 'ref'},\n",
       " {'data': {'id': 'G. Martinez et al. (2017.0)',\n",
       "   'label': 'G. Martinez et al. (2017.0)'},\n",
       "  'classes': 'ref'},\n",
       " {'data': {'id': 'J Guo et al. (2019.0)', 'label': 'J Guo et al. (2019.0)'},\n",
       "  'classes': 'ref'},\n",
       " {'data': {'id': 'R. Tada, R. Siever (1989)',\n",
       "   'label': 'R. Tada, R. Siever (1989)'},\n",
       "  'classes': 'ref'},\n",
       " {'data': {'id': 'F. Poulet et al. (2005.0)',\n",
       "   'label': 'F. Poulet et al. (2005.0)'},\n",
       "  'classes': 'ref'},\n",
       " {'data': {'id': 'D. Canfield (2001)', 'label': 'D. Canfield (2001)'},\n",
       "  'classes': 'ref'},\n",
       " {'data': {'id': 'J. Wierzchos et al. (2006.0)',\n",
       "   'label': 'J. Wierzchos et al. (2006.0)'},\n",
       "  'classes': 'ref'},\n",
       " {'data': {'id': 'L. Townsend et al. (2011.0)',\n",
       "   'label': 'L. Townsend et al. (2011.0)'},\n",
       "  'classes': 'ref'},\n",
       " {'data': {'id': 'R. Léveillé, S. Datta (2010)',\n",
       "   'label': 'R. Léveillé, S. Datta (2010)'},\n",
       "  'classes': 'ref'},\n",
       " {'data': {'id': 'T. Dequaire et al. (2016)',\n",
       "   'label': 'T. Dequaire et al. (2016)'},\n",
       "  'classes': 'ref'},\n",
       " {'data': {'id': 'N. Koura et al. (1996)', 'label': 'N. Koura et al. (1996)'},\n",
       "  'classes': 'ref'},\n",
       " {'data': {'id': 'Gurpreet Kaur et al. (2011.0)',\n",
       "   'label': 'Gurpreet Kaur et al. (2011.0)'},\n",
       "  'classes': 'ref'},\n",
       " {'data': {'id': 'C. Fassett et al. (2010.0)',\n",
       "   'label': 'C. Fassett et al. (2010.0)'},\n",
       "  'classes': 'ref'},\n",
       " {'data': {'id': 'F. Gómez et al. (2004)', 'label': 'F. Gómez et al. (2004)'},\n",
       "  'classes': 'ref'},\n",
       " {'data': {'id': 'A. Allwood et al. (2009.0)',\n",
       "   'label': 'A. Allwood et al. (2009.0)'},\n",
       "  'classes': 'ref'},\n",
       " {'data': {'id': 'R. Buick (2008.0)', 'label': 'R. Buick (2008.0)'},\n",
       "  'classes': 'ref'},\n",
       " {'data': {'id': 'E. Lalla et al. (2015)', 'label': 'E. Lalla et al. (2015)'},\n",
       "  'classes': 'ref'},\n",
       " {'data': {'id': 'M. Battler et al. (2013.0)',\n",
       "   'label': 'M. Battler et al. (2013.0)'},\n",
       "  'classes': 'ref'},\n",
       " {'data': {'id': 'I. N. Reid et al. (2006.0)',\n",
       "   'label': 'I. N. Reid et al. (2006.0)'},\n",
       "  'classes': 'ref'},\n",
       " {'data': {'id': 'M. Daly (2009)', 'label': 'M. Daly (2009)'},\n",
       "  'classes': 'ref'},\n",
       " {'data': {'id': 'M. Sephton, O. Botta (2008)',\n",
       "   'label': 'M. Sephton, O. Botta (2008)'},\n",
       "  'classes': 'ref'},\n",
       " {'data': {'id': 'L. Pratt et al. (2006)', 'label': 'L. Pratt et al. (2006)'},\n",
       "  'classes': 'ref'},\n",
       " {'data': {'id': 'Lennart Roestel et al. (2020.0)',\n",
       "   'label': 'Lennart Roestel et al. (2020.0)'},\n",
       "  'classes': 'ref'},\n",
       " {'data': {'id': 'M. Ivarsson et al. (2008)',\n",
       "   'label': 'M. Ivarsson et al. (2008)'},\n",
       "  'classes': 'ref'},\n",
       " {'data': {'id': 'T. Mccoy et al. (1999)', 'label': 'T. Mccoy et al. (1999)'},\n",
       "  'classes': 'ref'},\n",
       " {'data': {'id': 'Farmer J.D. (1999.0)', 'label': 'Farmer J.D. (1999.0)'},\n",
       "  'classes': 'ref'},\n",
       " {'data': {'id': 'Amy J. Williams et al. (2017.0)',\n",
       "   'label': 'Amy J. Williams et al. (2017.0)'},\n",
       "  'classes': 'ref'},\n",
       " {'data': {'id': 'A. Ollila et al. (2017)',\n",
       "   'label': 'A. Ollila et al. (2017)'},\n",
       "  'classes': 'ref'},\n",
       " {'data': {'id': 'F. Shadkami, R. Helleur (2010.0)',\n",
       "   'label': 'F. Shadkami, R. Helleur (2010.0)'},\n",
       "  'classes': 'ref'},\n",
       " {'data': {'id': 'L. Jahnke et al. (2004)',\n",
       "   'label': 'L. Jahnke et al. (2004)'},\n",
       "  'classes': 'ref'},\n",
       " {'data': {'id': 'J. Pasteris, B. Wopenka (2003)',\n",
       "   'label': 'J. Pasteris, B. Wopenka (2003)'},\n",
       "  'classes': 'ref'},\n",
       " {'data': {'id': 'E. N. Silva et al. (2006)',\n",
       "   'label': 'E. N. Silva et al. (2006)'},\n",
       "  'classes': 'ref'},\n",
       " {'data': {'id': 'J. Stromberg et al. (2019)',\n",
       "   'label': 'J. Stromberg et al. (2019)'},\n",
       "  'classes': 'ref'},\n",
       " {'data': {'id': 'R. Edgar (2010.0)', 'label': 'R. Edgar (2010.0)'},\n",
       "  'classes': 'ref'},\n",
       " {'data': {'id': 'P. Christensen et al. (2004)',\n",
       "   'label': 'P. Christensen et al. (2004)'},\n",
       "  'classes': 'ref'},\n",
       " {'data': {'id': 'F. Forget et al. (1999.0)',\n",
       "   'label': 'F. Forget et al. (1999.0)'},\n",
       "  'classes': 'ref'},\n",
       " {'data': {'id': 'R. E. Summons et al. (1988.0)',\n",
       "   'label': 'R. E. Summons et al. (1988.0)'},\n",
       "  'classes': 'ref'},\n",
       " {'data': {'id': 'C. Lenz et al. (2015)', 'label': 'C. Lenz et al. (2015)'},\n",
       "  'classes': 'ref'},\n",
       " {'data': {'id': 'J. Farmer, D. D. Des Marais (1999)',\n",
       "   'label': 'J. Farmer, D. D. Des Marais (1999)'},\n",
       "  'classes': 'ref'},\n",
       " {'data': {'id': 'D. Hassler et al. (2012.0)',\n",
       "   'label': 'D. Hassler et al. (2012.0)'},\n",
       "  'classes': 'ref'},\n",
       " {'data': {'id': 'M. Golombek (2000)', 'label': 'M. Golombek (2000)'},\n",
       "  'classes': 'ref'},\n",
       " {'data': {'id': 'D J Patzelt et al. (2014.0)',\n",
       "   'label': 'D J Patzelt et al. (2014.0)'},\n",
       "  'classes': 'ref'},\n",
       " {'data': {'id': 'T. Stevens, J. Mckinley (2000)',\n",
       "   'label': 'T. Stevens, J. Mckinley (2000)'},\n",
       "  'classes': 'ref'},\n",
       " {'data': {'id': 'J. Bada, G. Mcdonald (1995)',\n",
       "   'label': 'J. Bada, G. Mcdonald (1995)'},\n",
       "  'classes': 'ref'},\n",
       " {'data': {'id': 'F. Westall et al. (2015)',\n",
       "   'label': 'F. Westall et al. (2015)'},\n",
       "  'classes': 'ref'},\n",
       " {'data': {'id': 'A. Davila et al. (2015)',\n",
       "   'label': 'A. Davila et al. (2015)'},\n",
       "  'classes': 'ref'},\n",
       " {'data': {'id': 'K. Lynch et al. (2015)', 'label': 'K. Lynch et al. (2015)'},\n",
       "  'classes': 'ref'},\n",
       " {'data': {'id': 'B. Katz et al. (1987.0)',\n",
       "   'label': 'B. Katz et al. (1987.0)'},\n",
       "  'classes': 'ref'},\n",
       " {'data': {'id': 'C. Cockell et al. (2005.0)',\n",
       "   'label': 'C. Cockell et al. (2005.0)'},\n",
       "  'classes': 'ref'},\n",
       " {'data': {'id': 'K. Lalonde et al. (2012.0)',\n",
       "   'label': 'K. Lalonde et al. (2012.0)'},\n",
       "  'classes': 'ref'},\n",
       " {'data': {'id': 'Marzo (2009)', 'label': 'Marzo (2009)'}, 'classes': 'ref'},\n",
       " {'data': {'id': 'N. Buzgar, I. Cuza (2009)',\n",
       "   'label': 'N. Buzgar, I. Cuza (2009)'},\n",
       "  'classes': 'ref'},\n",
       " {'data': {'id': 'K. Campbell et al. (2016)',\n",
       "   'label': 'K. Campbell et al. (2016)'},\n",
       "  'classes': 'ref'},\n",
       " {'data': {'id': 'D. Fliegel et al. (2011)',\n",
       "   'label': 'D. Fliegel et al. (2011)'},\n",
       "  'classes': 'ref'},\n",
       " {'data': {'id': 'Chris McKay (2004)', 'label': 'Chris McKay (2004)'},\n",
       "  'classes': 'ref'},\n",
       " {'data': {'id': 'L. L. Lundberg et al. (1988)',\n",
       "   'label': 'L. L. Lundberg et al. (1988)'},\n",
       "  'classes': 'ref'},\n",
       " {'data': {'id': 'C. Freissinet et al. (2015)',\n",
       "   'label': 'C. Freissinet et al. (2015)'},\n",
       "  'classes': 'ref'},\n",
       " {'data': {'id': 'F. Westall (2008.0)', 'label': 'F. Westall (2008.0)'},\n",
       "  'classes': 'ref'},\n",
       " {'data': {'id': 'G. Dharmasena, R. Frech (1993.0)',\n",
       "   'label': 'G. Dharmasena, R. Frech (1993.0)'},\n",
       "  'classes': 'ref'},\n",
       " {'data': {'id': 'S. Benner et al. (2000)',\n",
       "   'label': 'S. Benner et al. (2000)'},\n",
       "  'classes': 'ref'},\n",
       " {'data': {'id': 'A. Simonetti et al. (2008)',\n",
       "   'label': 'A. Simonetti et al. (2008)'},\n",
       "  'classes': 'ref'},\n",
       " {'data': {'id': 'F. Ghaemi (2009.0)', 'label': 'F. Ghaemi (2009.0)'},\n",
       "  'classes': 'ref'},\n",
       " {'data': {'id': 'E. Anders (1989)', 'label': 'E. Anders (1989)'},\n",
       "  'classes': 'ref'},\n",
       " {'data': {'id': 'A. Steele et al. (2012)',\n",
       "   'label': 'A. Steele et al. (2012)'},\n",
       "  'classes': 'ref'},\n",
       " {'data': {'id': 'Pelin Yilmaz et al. (2013.0)',\n",
       "   'label': 'Pelin Yilmaz et al. (2013.0)'},\n",
       "  'classes': 'ref'},\n",
       " {'data': {'id': 'P. Jiggens et al. (2014.0)',\n",
       "   'label': 'P. Jiggens et al. (2014.0)'},\n",
       "  'classes': 'ref'},\n",
       " {'data': {'id': 'D. Crider et al. (2005.0)',\n",
       "   'label': 'D. Crider et al. (2005.0)'},\n",
       "  'classes': 'ref'},\n",
       " {'data': {'id': 'J. Clarke (2006.0)', 'label': 'J. Clarke (2006.0)'},\n",
       "  'classes': 'ref'},\n",
       " {'data': {'id': 'J. Vesenka et al. (2018.0)',\n",
       "   'label': 'J. Vesenka et al. (2018.0)'},\n",
       "  'classes': 'ref'},\n",
       " {'data': {'id': 'M. Baqué et al. (2016)', 'label': 'M. Baqué et al. (2016)'},\n",
       "  'classes': 'ref'},\n",
       " {'data': {'id': 'T. Glotch et al. (2010)',\n",
       "   'label': 'T. Glotch et al. (2010)'},\n",
       "  'classes': 'ref'},\n",
       " {'data': {'id': 'S. Direito et al. (2012.0)',\n",
       "   'label': 'S. Direito et al. (2012.0)'},\n",
       "  'classes': 'ref'},\n",
       " {'data': {'id': 'S. Bodył (2009)', 'label': 'S. Bodył (2009)'},\n",
       "  'classes': 'ref'},\n",
       " {'data': {'id': 'J. Bell et al. (2003.0)',\n",
       "   'label': 'J. Bell et al. (2003.0)'},\n",
       "  'classes': 'ref'},\n",
       " {'data': {'id': 'A. D. Rogers, J. Bandfield (2009.0)',\n",
       "   'label': 'A. D. Rogers, J. Bandfield (2009.0)'},\n",
       "  'classes': 'ref'},\n",
       " {'data': {'id': 'D. Lario et al. (2005.0)',\n",
       "   'label': 'D. Lario et al. (2005.0)'},\n",
       "  'classes': 'ref'},\n",
       " {'data': {'id': 'C. Arias et al. (1981)', 'label': 'C. Arias et al. (1981)'},\n",
       "  'classes': 'ref'},\n",
       " {'data': {'id': 'D. Matthiä et al. (2017.0)',\n",
       "   'label': 'D. Matthiä et al. (2017.0)'},\n",
       "  'classes': 'ref'},\n",
       " {'data': {'id': 'N. Bokulich et al. (2012.0)',\n",
       "   'label': 'N. Bokulich et al. (2012.0)'},\n",
       "  'classes': 'ref'},\n",
       " {'data': {'id': 'H. Furnes et al. (2005)',\n",
       "   'label': 'H. Furnes et al. (2005)'},\n",
       "  'classes': 'ref'},\n",
       " {'data': {'id': 'M. Sélo, D. Storzer (1981)',\n",
       "   'label': 'M. Sélo, D. Storzer (1981)'},\n",
       "  'classes': 'ref'},\n",
       " {'data': {'id': 'H. Dill (2010)', 'label': 'H. Dill (2010)'},\n",
       "  'classes': 'ref'},\n",
       " {'data': {'id': 'Y. Langevin et al. (2005.0)',\n",
       "   'label': 'Y. Langevin et al. (2005.0)'},\n",
       "  'classes': 'ref'},\n",
       " {'data': {'id': 'B. Clark et al. (2005.0)',\n",
       "   'label': 'B. Clark et al. (2005.0)'},\n",
       "  'classes': 'ref'},\n",
       " {'data': {'id': 'J. Holcombe, P. B. Farnsworth (2010)',\n",
       "   'label': 'J. Holcombe, P. B. Farnsworth (2010)'},\n",
       "  'classes': 'ref'},\n",
       " {'data': {'id': 'C. Olariu, J. Bhattacharya (2006)',\n",
       "   'label': 'C. Olariu, J. Bhattacharya (2006)'},\n",
       "  'classes': 'ref'},\n",
       " {'data': {'id': 'R. Barco et al. (2015.0)',\n",
       "   'label': 'R. Barco et al. (2015.0)'},\n",
       "  'classes': 'ref'},\n",
       " {'data': {'id': 'Alpers C.N. (2003.0)', 'label': 'Alpers C.N. (2003.0)'},\n",
       "  'classes': 'ref'},\n",
       " {'data': {'id': 'E. Friedmann (1982.0)', 'label': 'E. Friedmann (1982.0)'},\n",
       "  'classes': 'ref'},\n",
       " {'data': {'id': 'B. Ehlmann et al. (2010)',\n",
       "   'label': 'B. Ehlmann et al. (2010)'},\n",
       "  'classes': 'ref'},\n",
       " {'data': {'id': 'C. Cohen, R. Mewaldt (2018.0)',\n",
       "   'label': 'C. Cohen, R. Mewaldt (2018.0)'},\n",
       "  'classes': 'ref'},\n",
       " {'data': {'id': 'E. Anders et al. (1973)',\n",
       "   'label': 'E. Anders et al. (1973)'},\n",
       "  'classes': 'ref'},\n",
       " {'data': {'id': 'D. Chivian et al. (2008)',\n",
       "   'label': 'D. Chivian et al. (2008)'},\n",
       "  'classes': 'ref'},\n",
       " {'data': {'id': 'M. Fisk et al. (2003)', 'label': 'M. Fisk et al. (2003)'},\n",
       "  'classes': 'ref'},\n",
       " {'data': {'id': 'I. Foster et al. (2010.0)',\n",
       "   'label': 'I. Foster et al. (2010.0)'},\n",
       "  'classes': 'ref'},\n",
       " {'data': {'id': 'N. Petoussi-Henss et al. (2010.0)',\n",
       "   'label': 'N. Petoussi-Henss et al. (2010.0)'},\n",
       "  'classes': 'ref'},\n",
       " {'data': {'id': 'L. Kozlowski (2016.0)', 'label': 'L. Kozlowski (2016.0)'},\n",
       "  'classes': 'ref'},\n",
       " {'data': {'id': 'Y. Liu (2009.0)', 'label': 'Y. Liu (2009.0)'},\n",
       "  'classes': 'ref'},\n",
       " {'data': {'id': 'A. Ellery et al. (2004)',\n",
       "   'label': 'A. Ellery et al. (2004)'},\n",
       "  'classes': 'ref'},\n",
       " {'data': {'id': 'A. Cairns-smith (1978)', 'label': 'A. Cairns-smith (1978)'},\n",
       "  'classes': 'ref'},\n",
       " {'data': {'id': 'T. McCollom, J. Seewald (2006)',\n",
       "   'label': 'T. McCollom, J. Seewald (2006)'},\n",
       "  'classes': 'ref'},\n",
       " {'data': {'id': 'V. Baker et al. (1991.0)',\n",
       "   'label': 'V. Baker et al. (1991.0)'},\n",
       "  'classes': 'ref'},\n",
       " {'data': {'id': 'L. Dartnell et al. (2010.0)',\n",
       "   'label': 'L. Dartnell et al. (2010.0)'},\n",
       "  'classes': 'ref'},\n",
       " {'data': {'id': 'Jingnan Guo et al. (2015.0)',\n",
       "   'label': 'Jingnan Guo et al. (2015.0)'},\n",
       "  'classes': 'ref'},\n",
       " {'data': {'id': 'J. Farmer (1995.0)', 'label': 'J. Farmer (1995.0)'},\n",
       "  'classes': 'ref'},\n",
       " {'data': {'id': 'H. Edwards et al. (2005)',\n",
       "   'label': 'H. Edwards et al. (2005)'},\n",
       "  'classes': 'ref'},\n",
       " {'data': {'id': 'N. Banerjee et al. (2007)',\n",
       "   'label': 'N. Banerjee et al. (2007)'},\n",
       "  'classes': 'ref'},\n",
       " {'data': {'id': 'L. Dartnell et al. (2007.0)',\n",
       "   'label': 'L. Dartnell et al. (2007.0)'},\n",
       "  'classes': 'ref'},\n",
       " {'data': {'id': 'P. Ehrenfreund et al. (2000.0)',\n",
       "   'label': 'P. Ehrenfreund et al. (2000.0)'},\n",
       "  'classes': 'ref'},\n",
       " {'data': {'id': 'C. Allen et al. (2001.0)',\n",
       "   'label': 'C. Allen et al. (2001.0)'},\n",
       "  'classes': 'ref'},\n",
       " {'data': {'id': 'J. Head et al. (2010.0)',\n",
       "   'label': 'J. Head et al. (2010.0)'},\n",
       "  'classes': 'ref'},\n",
       " {'data': {'id': 'A. Neaman et al. (2005)',\n",
       "   'label': 'A. Neaman et al. (2005)'},\n",
       "  'classes': 'ref'},\n",
       " {'data': {'id': 'J. Theo Kloprogge et al. (2001.0)',\n",
       "   'label': 'J. Theo Kloprogge et al. (2001.0)'},\n",
       "  'classes': 'ref'},\n",
       " {'data': {'id': 'M. Chan et al. (2007)', 'label': 'M. Chan et al. (2007)'},\n",
       "  'classes': 'ref'},\n",
       " {'data': {'id': 'D. Sumner (2004.0)', 'label': 'D. Sumner (2004.0)'},\n",
       "  'classes': 'ref'},\n",
       " {'data': {'id': 'B. Berg et al. (2014)', 'label': 'B. Berg et al. (2014)'},\n",
       "  'classes': 'ref'},\n",
       " {'data': {'id': 'R. Rye, H. D. Holland (2000)',\n",
       "   'label': 'R. Rye, H. D. Holland (2000)'},\n",
       "  'classes': 'ref'},\n",
       " {'data': {'id': 'S. Squyres et al. (2004.0)',\n",
       "   'label': 'S. Squyres et al. (2004.0)'},\n",
       "  'classes': 'ref'},\n",
       " {'data': {'id': 'E. Eshelman et al. (2014)',\n",
       "   'label': 'E. Eshelman et al. (2014)'},\n",
       "  'classes': 'ref'},\n",
       " {'data': {'id': 'Y. Blanco et al. (2017)',\n",
       "   'label': 'Y. Blanco et al. (2017)'},\n",
       "  'classes': 'ref'},\n",
       " {'data': {'id': 'K. Yamauchi et al. (1979.0)',\n",
       "   'label': 'K. Yamauchi et al. (1979.0)'},\n",
       "  'classes': 'ref'},\n",
       " {'data': {'id': 'L. Nyquist et al. (2016)',\n",
       "   'label': 'L. Nyquist et al. (2016)'},\n",
       "  'classes': 'ref'},\n",
       " {'data': {'id': 'N. McLoughlin (2015)', 'label': 'N. McLoughlin (2015)'},\n",
       "  'classes': 'ref'},\n",
       " {'data': {'id': 'J. Albers (1985.0)', 'label': 'J. Albers (1985.0)'},\n",
       "  'classes': 'ref'},\n",
       " {'data': {'id': 'S. Takasu, S. Shimanuki (1974)',\n",
       "   'label': 'S. Takasu, S. Shimanuki (1974)'},\n",
       "  'classes': 'ref'},\n",
       " {'data': {'id': 'V. Phoenix et al. (2000)',\n",
       "   'label': 'V. Phoenix et al. (2000)'},\n",
       "  'classes': 'ref'},\n",
       " {'data': {'id': 'J. Cronin, S. Pizzarello (1997)',\n",
       "   'label': 'J. Cronin, S. Pizzarello (1997)'},\n",
       "  'classes': 'ref'},\n",
       " {'data': {'id': 'B. Schubert et al. (2009.0)',\n",
       "   'label': 'B. Schubert et al. (2009.0)'},\n",
       "  'classes': 'ref'},\n",
       " {'data': {'id': 'J. Mustard et al. (2008.0)',\n",
       "   'label': 'J. Mustard et al. (2008.0)'},\n",
       "  'classes': 'ref'},\n",
       " {'data': {'id': 'N. Holden, D. Hoffman (1993)',\n",
       "   'label': 'N. Holden, D. Hoffman (1993)'},\n",
       "  'classes': 'ref'},\n",
       " {'data': {'id': 'H. Newsom et al. (2010)',\n",
       "   'label': 'H. Newsom et al. (2010)'},\n",
       "  'classes': 'ref'},\n",
       " {'data': {'id': 'N. Stivaletta, R. Barbieri (2009.0)',\n",
       "   'label': 'N. Stivaletta, R. Barbieri (2009.0)'},\n",
       "  'classes': 'ref'},\n",
       " {'data': {'id': 'K. Biemann (1979)', 'label': 'K. Biemann (1979)'},\n",
       "  'classes': 'ref'},\n",
       " {'data': {'id': 'L. Orgel (1971.0)', 'label': 'L. Orgel (1971.0)'},\n",
       "  'classes': 'ref'},\n",
       " {'data': {'id': 'N. Butterfield (1990)', 'label': 'N. Butterfield (1990)'},\n",
       "  'classes': 'ref'},\n",
       " {'data': {'id': 'J. Dran et al. (1980)', 'label': 'J. Dran et al. (1980)'},\n",
       "  'classes': 'ref'},\n",
       " {'data': {'id': 'A. Sandhu et al. (1999)',\n",
       "   'label': 'A. Sandhu et al. (1999)'},\n",
       "  'classes': 'ref'},\n",
       " {'data': {'id': 'D. Wynn-Williams et al. (2002.0)',\n",
       "   'label': 'D. Wynn-Williams et al. (2002.0)'},\n",
       "  'classes': 'ref'},\n",
       " {'data': {'id': 'A. Miall, C. E. Turner-Peterson (1989)',\n",
       "   'label': 'A. Miall, C. E. Turner-Peterson (1989)'},\n",
       "  'classes': 'ref'},\n",
       " {'data': {'id': 'S. Grasby et al. (2006.0)',\n",
       "   'label': 'S. Grasby et al. (2006.0)'},\n",
       "  'classes': 'ref'},\n",
       " {'data': {'id': 'J. Schopf et al. (2006.0)',\n",
       "   'label': 'J. Schopf et al. (2006.0)'},\n",
       "  'classes': 'ref'},\n",
       " {'data': {'id': 'C. Shen et al. (2008.0)',\n",
       "   'label': 'C. Shen et al. (2008.0)'},\n",
       "  'classes': 'ref'},\n",
       " {'data': {'id': 'E. Cloutis et al. (2011.0)',\n",
       "   'label': 'E. Cloutis et al. (2011.0)'},\n",
       "  'classes': 'ref'},\n",
       " {'data': {'id': 'J. Feynman et al. (2002.0)',\n",
       "   'label': 'J. Feynman et al. (2002.0)'},\n",
       "  'classes': 'ref'},\n",
       " {'data': {'id': 'R. Rieder et al. (2004)',\n",
       "   'label': 'R. Rieder et al. (2004)'},\n",
       "  'classes': 'ref'},\n",
       " {'data': {'id': 'R. Arevalo et al. (2009)',\n",
       "   'label': 'R. Arevalo et al. (2009)'},\n",
       "  'classes': 'ref'},\n",
       " {'data': {'id': 'J. Challinor (2001.0)', 'label': 'J. Challinor (2001.0)'},\n",
       "  'classes': 'ref'},\n",
       " {'data': {'id': 'S. H. Richardson et al. (1980)',\n",
       "   'label': 'S. H. Richardson et al. (1980)'},\n",
       "  'classes': 'ref'},\n",
       " {'data': {'id': 'M. Zolotov, J. Kargel (2009)',\n",
       "   'label': 'M. Zolotov, J. Kargel (2009)'},\n",
       "  'classes': 'ref'},\n",
       " {'data': {'id': 'M. Kennedy et al. (2006)',\n",
       "   'label': 'M. Kennedy et al. (2006)'},\n",
       "  'classes': 'ref'},\n",
       " {'data': {'id': 'M. Lang et al. (2002)', 'label': 'M. Lang et al. (2002)'},\n",
       "  'classes': 'ref'},\n",
       " {'data': {'id': 'D. D. Marais et al. (2008)',\n",
       "   'label': 'D. D. Marais et al. (2008)'},\n",
       "  'classes': 'ref'},\n",
       " {'data': {'id': 'S. Squyres et al. (2009)',\n",
       "   'label': 'S. Squyres et al. (2009)'},\n",
       "  'classes': 'ref'},\n",
       " {'data': {'id': 'M. Koblížek (2009.0)', 'label': 'M. Koblížek (2009.0)'},\n",
       "  'classes': 'ref'},\n",
       " {'data': {'id': 'U. Schwertmann, R. M. Cornell (2003.0)',\n",
       "   'label': 'U. Schwertmann, R. M. Cornell (2003.0)'},\n",
       "  'classes': 'ref'},\n",
       " {'data': {'id': 'R. Summons et al. (2011.0)',\n",
       "   'label': 'R. Summons et al. (2011.0)'},\n",
       "  'classes': 'ref'},\n",
       " {'data': {'id': 'S. Krause et al. (2017)',\n",
       "   'label': 'S. Krause et al. (2017)'},\n",
       "  'classes': 'ref'},\n",
       " {'data': {'id': 'L. Rothschild (1990)', 'label': 'L. Rothschild (1990)'},\n",
       "  'classes': 'ref'},\n",
       " {'data': {'id': '2013 Mars 2020 SDT (2013)',\n",
       "   'label': '2013 Mars 2020 SDT (2013)'},\n",
       "  'classes': 'ref'},\n",
       " {'data': {'id': 'D. Ming et al. (2014.0)',\n",
       "   'label': 'D. Ming et al. (2014.0)'},\n",
       "  'classes': 'ref'},\n",
       " {'data': {'id': 'L. Akoto et al. (2005.0)',\n",
       "   'label': 'L. Akoto et al. (2005.0)'},\n",
       "  'classes': 'ref'},\n",
       " {'data': {'id': 'N. Banerjee et al. (2011)',\n",
       "   'label': 'N. Banerjee et al. (2011)'},\n",
       "  'classes': 'ref'},\n",
       " {'data': {'id': 'F. J. Vine (1966)', 'label': 'F. J. Vine (1966)'},\n",
       "  'classes': 'ref'},\n",
       " {'data': {'id': 'J. B. Cooper et al. (1994)',\n",
       "   'label': 'J. B. Cooper et al. (1994)'},\n",
       "  'classes': 'ref'},\n",
       " {'data': {'id': 'N. Wardlaw et al. (1969.0)',\n",
       "   'label': 'N. Wardlaw et al. (1969.0)'},\n",
       "  'classes': 'ref'},\n",
       " {'data': {'id': 'S. Grasby, K. Londry (2007.0)',\n",
       "   'label': 'S. Grasby, K. Londry (2007.0)'},\n",
       "  'classes': 'ref'},\n",
       " {'data': {'id': 'P. P. Metha, Rama (1969)',\n",
       "   'label': 'P. P. Metha, Rama (1969)'},\n",
       "  'classes': 'ref'},\n",
       " {'data': {'id': 'R. Edgar (2013.0)', 'label': 'R. Edgar (2013.0)'},\n",
       "  'classes': 'ref'},\n",
       " {'data': {'id': 'J. Flahaut et al. (2014.0)',\n",
       "   'label': 'J. Flahaut et al. (2014.0)'},\n",
       "  'classes': 'ref'},\n",
       " {'data': {'id': 'W. Martin et al. (2008)',\n",
       "   'label': 'W. Martin et al. (2008)'},\n",
       "  'classes': 'ref'},\n",
       " {'data': {'id': 'K. Herkenhoff et al. (2004.0)',\n",
       "   'label': 'K. Herkenhoff et al. (2004.0)'},\n",
       "  'classes': 'ref'},\n",
       " {'data': {'id': 'C. Gross et al. (2017.0)',\n",
       "   'label': 'C. Gross et al. (2017.0)'},\n",
       "  'classes': 'ref'},\n",
       " {'data': {'id': 'Jingnan Guo et al. (2019.0)',\n",
       "   'label': 'Jingnan Guo et al. (2019.0)'},\n",
       "  'classes': 'ref'},\n",
       " {'data': {'id': 'R. Vance, K. Condie (1987.0)',\n",
       "   'label': 'R. Vance, K. Condie (1987.0)'},\n",
       "  'classes': 'ref'},\n",
       " {'data': {'id': 'A. Lasaga, A. Blum (1986)',\n",
       "   'label': 'A. Lasaga, A. Blum (1986)'},\n",
       "  'classes': 'ref'},\n",
       " {'data': {'id': 'M. Gaft, G. Panczer (2013)',\n",
       "   'label': 'M. Gaft, G. Panczer (2013)'},\n",
       "  'classes': 'ref'},\n",
       " {'data': {'id': 'M. Zolotov, E. Shock (2001)',\n",
       "   'label': 'M. Zolotov, E. Shock (2001)'},\n",
       "  'classes': 'ref'},\n",
       " {'data': {'id': 'Reiche (1962)', 'label': 'Reiche (1962)'}, 'classes': 'ref'},\n",
       " {'data': {'id': 'F. Poulet et al. (2020.0)',\n",
       "   'label': 'F. Poulet et al. (2020.0)'},\n",
       "  'classes': 'ref'},\n",
       " {'data': {'id': 'C. Duan et al. (2011)', 'label': 'C. Duan et al. (2011)'},\n",
       "  'classes': 'ref'},\n",
       " {'data': {'id': 'J. Warren (1999.0)', 'label': 'J. Warren (1999.0)'},\n",
       "  'classes': 'ref'},\n",
       " {'data': {'id': 'L. Desorgher (2005.0)', 'label': 'L. Desorgher (2005.0)'},\n",
       "  'classes': 'ref'},\n",
       " {'data': {'id': 'M. McClain et al. (2003)',\n",
       "   'label': 'M. McClain et al. (2003)'},\n",
       "  'classes': 'ref'},\n",
       " {'data': {'id': 'Carr M.H. (1996.0)', 'label': 'Carr M.H. (1996.0)'},\n",
       "  'classes': 'ref'},\n",
       " {'data': {'id': 'R. Mewaldt (1981.0)', 'label': 'R. Mewaldt (1981.0)'},\n",
       "  'classes': 'ref'},\n",
       " {'data': {'id': 'S. D. Nisshanthini et al. (2015.0)',\n",
       "   'label': 'S. D. Nisshanthini et al. (2015.0)'},\n",
       "  'classes': 'ref'},\n",
       " {'data': {'id': 'Patrícia N. Refojo et al. (2012.0)',\n",
       "   'label': 'Patrícia N. Refojo et al. (2012.0)'},\n",
       "  'classes': 'ref'},\n",
       " {'data': {'id': 'J. Grant et al. (2010)', 'label': 'J. Grant et al. (2010)'},\n",
       "  'classes': 'ref'},\n",
       " {'data': {'id': 'E. Dewitt et al. (2008.0)',\n",
       "   'label': 'E. Dewitt et al. (2008.0)'},\n",
       "  'classes': 'ref'},\n",
       " {'data': {'id': 'P. King, S. McLennan (2010.0)',\n",
       "   'label': 'P. King, S. McLennan (2010.0)'},\n",
       "  'classes': 'ref'},\n",
       " {'data': {'id': 'Adam P. Johnson et al. (2011.0)',\n",
       "   'label': 'Adam P. Johnson et al. (2011.0)'},\n",
       "  'classes': 'ref'},\n",
       " {'data': {'id': 'F. Cucinotta et al. (2015.0)',\n",
       "   'label': 'F. Cucinotta et al. (2015.0)'},\n",
       "  'classes': 'ref'},\n",
       " {'data': {'id': 'K. Farley, K. Williford (2017)',\n",
       "   'label': 'K. Farley, K. Williford (2017)'},\n",
       "  'classes': 'ref'},\n",
       " {'data': {'id': 'R. Nymmik et al. (1996.0)',\n",
       "   'label': 'R. Nymmik et al. (1996.0)'},\n",
       "  'classes': 'ref'},\n",
       " {'data': {'id': 'D. Vaniman et al. (2014)',\n",
       "   'label': 'D. Vaniman et al. (2014)'},\n",
       "  'classes': 'ref'},\n",
       " {'data': {'id': 'Premkumar B. Saganti et al. (2004.0)',\n",
       "   'label': 'Premkumar B. Saganti et al. (2004.0)'},\n",
       "  'classes': 'ref'},\n",
       " {'data': {'id': 'F. Da Pieve et al. (2020)',\n",
       "   'label': 'F. Da Pieve et al. (2020)'},\n",
       "  'classes': 'ref'},\n",
       " {'data': {'id': 'G. Michalski et al. (2004.0)',\n",
       "   'label': 'G. Michalski et al. (2004.0)'},\n",
       "  'classes': 'ref'},\n",
       " {'data': {'id': 'Emily Knowles et al. (2012)',\n",
       "   'label': 'Emily Knowles et al. (2012)'},\n",
       "  'classes': 'ref'},\n",
       " {'data': {'id': 'J. Bandfield et al. (2000)',\n",
       "   'label': 'J. Bandfield et al. (2000)'},\n",
       "  'classes': 'ref'},\n",
       " {'data': {'id': 'C. Lausen (1928.0)', 'label': 'C. Lausen (1928.0)'},\n",
       "  'classes': 'ref'},\n",
       " {'data': {'id': 'J. Gottsmann et al. (2004)',\n",
       "   'label': 'J. Gottsmann et al. (2004)'},\n",
       "  'classes': 'ref'},\n",
       " {'data': {'id': 'R. Schmitt, R. Smith (1963)',\n",
       "   'label': 'R. Schmitt, R. Smith (1963)'},\n",
       "  'classes': 'ref'},\n",
       " {'data': {'id': 'S. Potter-McIntyre et al. (2014)',\n",
       "   'label': 'S. Potter-McIntyre et al. (2014)'},\n",
       "  'classes': 'ref'},\n",
       " {'data': {'id': 'G. Bigazzi et al. (1993)',\n",
       "   'label': 'G. Bigazzi et al. (1993)'},\n",
       "  'classes': 'ref'},\n",
       " {'data': {'id': 'P. A. Baker, S. Bloomer (1988.0)',\n",
       "   'label': 'P. A. Baker, S. Bloomer (1988.0)'},\n",
       "  'classes': 'ref'},\n",
       " {'data': {'id': 'L. Dartnell et al. (2007)',\n",
       "   'label': 'L. Dartnell et al. (2007)'},\n",
       "  'classes': 'ref'},\n",
       " {'data': {'id': 'S. D. Angelis et al. (2013.0)',\n",
       "   'label': 'S. D. Angelis et al. (2013.0)'},\n",
       "  'classes': 'ref'},\n",
       " {'data': {'id': 'M. Walter (1996)', 'label': 'M. Walter (1996)'},\n",
       "  'classes': 'ref'},\n",
       " {'data': {'id': 'M. Puchalska, E. Zych (2017)',\n",
       "   'label': 'M. Puchalska, E. Zych (2017)'},\n",
       "  'classes': 'ref'},\n",
       " {'data': {'id': 'J. Hedges, R. Keil (1995)',\n",
       "   'label': 'J. Hedges, R. Keil (1995)'},\n",
       "  'classes': 'ref'},\n",
       " {'data': {'id': 'D. Emerson et al. (2013.0)',\n",
       "   'label': 'D. Emerson et al. (2013.0)'},\n",
       "  'classes': 'ref'},\n",
       " {'data': {'id': 'Ericksen G.E. (1983.0)', 'label': 'Ericksen G.E. (1983.0)'},\n",
       "  'classes': 'ref'},\n",
       " {'data': {'id': 'L. Hays et al. (2017)', 'label': 'L. Hays et al. (2017)'},\n",
       "  'classes': 'ref'},\n",
       " {'data': {'id': 'H. Matzke (1984)', 'label': 'H. Matzke (1984)'},\n",
       "  'classes': 'ref'},\n",
       " {'data': {'id': 'K. Konhauser et al. (1998)',\n",
       "   'label': 'K. Konhauser et al. (1998)'},\n",
       "  'classes': 'ref'},\n",
       " {'data': {'id': 'E. Shock et al. (2010)', 'label': 'E. Shock et al. (2010)'},\n",
       "  'classes': 'ref'},\n",
       " {'data': {'id': 'J. Flores-McLaughlin (2017.0)',\n",
       "   'label': 'J. Flores-McLaughlin (2017.0)'},\n",
       "  'classes': 'ref'},\n",
       " {'data': {'id': 'S. Nockolds (1954.0)', 'label': 'S. Nockolds (1954.0)'},\n",
       "  'classes': 'ref'},\n",
       " {'data': {'id': 'G. Proskurowski et al. (2008)',\n",
       "   'label': 'G. Proskurowski et al. (2008)'},\n",
       "  'classes': 'ref'},\n",
       " {'data': {'id': 'B. Ehlmann et al. (2011.0)',\n",
       "   'label': 'B. Ehlmann et al. (2011.0)'},\n",
       "  'classes': 'ref'},\n",
       " {'data': {'id': 'L. Grasset et al. (2002.0)',\n",
       "   'label': 'L. Grasset et al. (2002.0)'},\n",
       "  'classes': 'ref'},\n",
       " {'data': {'id': 'M. Leybourne et al. (2007.0)',\n",
       "   'label': 'M. Leybourne et al. (2007.0)'},\n",
       "  'classes': 'ref'},\n",
       " {'data': {'id': 'X. Amashukeli et al. (2007.0)',\n",
       "   'label': 'X. Amashukeli et al. (2007.0)'},\n",
       "  'classes': 'ref'},\n",
       " {'data': {'id': 'D. Burr et al. (2009)', 'label': 'D. Burr et al. (2009)'},\n",
       "  'classes': 'ref'},\n",
       " {'data': {'id': 'A. casimiro et al. (2018.0)',\n",
       "   'label': 'A. casimiro et al. (2018.0)'},\n",
       "  'classes': 'ref'},\n",
       " {'data': {'id': 'J. Milliman (1991)', 'label': 'J. Milliman (1991)'},\n",
       "  'classes': 'ref'},\n",
       " {'data': {'id': 'S. Shkolyar, J. Farmer (2018)',\n",
       "   'label': 'S. Shkolyar, J. Farmer (2018)'},\n",
       "  'classes': 'ref'},\n",
       " {'data': {'id': 'N. McLoughlin et al. (2007)',\n",
       "   'label': 'N. McLoughlin et al. (2007)'},\n",
       "  'classes': 'ref'},\n",
       " {'data': {'id': 'A. Azua-Bustos et al. (2012)',\n",
       "   'label': 'A. Azua-Bustos et al. (2012)'},\n",
       "  'classes': 'ref'},\n",
       " {'data': {'id': 'Y. Huang et al. (2009)', 'label': 'Y. Huang et al. (2009)'},\n",
       "  'classes': 'ref'},\n",
       " {'data': {'id': 'C. M. Scarfe (1980)', 'label': 'C. M. Scarfe (1980)'},\n",
       "  'classes': 'ref'},\n",
       " {'data': {'id': 'C. Allen, D. Oehler (2008.0)',\n",
       "   'label': 'C. Allen, D. Oehler (2008.0)'},\n",
       "  'classes': 'ref'},\n",
       " {'data': {'id': 'D. Fernández-Remolar et al. (2013.0)',\n",
       "   'label': 'D. Fernández-Remolar et al. (2013.0)'},\n",
       "  'classes': 'ref'},\n",
       " {'data': {'id': 'V. Kolb, P. J. Liesch (2008)',\n",
       "   'label': 'V. Kolb, P. J. Liesch (2008)'},\n",
       "  'classes': 'ref'},\n",
       " {'data': {'id': 'B. Lollar et al. (2006)',\n",
       "   'label': 'B. Lollar et al. (2006)'},\n",
       "  'classes': 'ref'},\n",
       " {'data': {'id': 'J. Jankowski, G. Jacobson (1989.0)',\n",
       "   'label': 'J. Jankowski, G. Jacobson (1989.0)'},\n",
       "  'classes': 'ref'},\n",
       " {'data': {'id': 'C. Mertens (2016.0)', 'label': 'C. Mertens (2016.0)'},\n",
       "  'classes': 'ref'},\n",
       " {'data': {'id': 'G. Cody et al. (2008)', 'label': 'G. Cody et al. (2008)'},\n",
       "  'classes': 'ref'},\n",
       " {'data': {'id': 'S. McKenna-Lawlor et al. (2012.0)',\n",
       "   'label': 'S. McKenna-Lawlor et al. (2012.0)'},\n",
       "  'classes': 'ref'},\n",
       " {'data': {'id': 'J. Bibring et al. (2005.0)',\n",
       "   'label': 'J. Bibring et al. (2005.0)'},\n",
       "  'classes': 'ref'},\n",
       " {'data': {'id': 'D. Matthiä et al. (2016.0)',\n",
       "   'label': 'D. Matthiä et al. (2016.0)'},\n",
       "  'classes': 'ref'},\n",
       " {'data': {'id': 'B. Ehlmann, C. Edwards (2014)',\n",
       "   'label': 'B. Ehlmann, C. Edwards (2014)'},\n",
       "  'classes': 'ref'},\n",
       " {'data': {'id': 'R. Haberle et al. (2014.0)',\n",
       "   'label': 'R. Haberle et al. (2014.0)'},\n",
       "  'classes': 'ref'},\n",
       " {'data': {'id': 'V. Krasnopolsky et al. (2004)',\n",
       "   'label': 'V. Krasnopolsky et al. (2004)'},\n",
       "  'classes': 'ref'},\n",
       " {'data': {'id': 'J. Baross (2006)', 'label': 'J. Baross (2006)'},\n",
       "  'classes': 'ref'},\n",
       " {'data': {'id': 'R. Berner (1989)', 'label': 'R. Berner (1989)'},\n",
       "  'classes': 'ref'},\n",
       " {'data': {'id': 'V. Melezhik et al. (2001.0)',\n",
       "   'label': 'V. Melezhik et al. (2001.0)'},\n",
       "  'classes': 'ref'},\n",
       " {'data': {'id': 'G. Wanger et al. (2006)',\n",
       "   'label': 'G. Wanger et al. (2006)'},\n",
       "  'classes': 'ref'},\n",
       " {'data': {'id': 'Efremov I.A. (1940.0)', 'label': 'Efremov I.A. (1940.0)'},\n",
       "  'classes': 'ref'},\n",
       " {'data': {'id': 'R. Steiger, E. Jäger (1977)',\n",
       "   'label': 'R. Steiger, E. Jäger (1977)'},\n",
       "  'classes': 'ref'},\n",
       " {'data': {'id': 'R. Cordero et al. (2018.0)',\n",
       "   'label': 'R. Cordero et al. (2018.0)'},\n",
       "  'classes': 'ref'},\n",
       " {'data': {'id': 'R. Frost et al. (2014)', 'label': 'R. Frost et al. (2014)'},\n",
       "  'classes': 'ref'},\n",
       " {'data': {'id': 'Downs (2015)', 'label': 'Downs (2015)'}, 'classes': 'ref'},\n",
       " {'data': {'id': 'B. Ehlmann et al. (2013)',\n",
       "   'label': 'B. Ehlmann et al. (2013)'},\n",
       "  'classes': 'ref'},\n",
       " {'data': {'id': 'P. Allison, D. Briggs (1991.0)',\n",
       "   'label': 'P. Allison, D. Briggs (1991.0)'},\n",
       "  'classes': 'ref'},\n",
       " {'data': {'id': 'P. Boston et al. (2001)',\n",
       "   'label': 'P. Boston et al. (2001)'},\n",
       "  'classes': 'ref'},\n",
       " {'data': {'id': 'C. Cockell et al. (2008.0)',\n",
       "   'label': 'C. Cockell et al. (2008.0)'},\n",
       "  'classes': 'ref'},\n",
       " {'data': {'id': 'D. D. Marais (2001.0)', 'label': 'D. D. Marais (2001.0)'},\n",
       "  'classes': 'ref'},\n",
       " {'data': {'id': 'W. Hug et al. (2005)', 'label': 'W. Hug et al. (2005)'},\n",
       "  'classes': 'ref'},\n",
       " {'data': {'id': 'A. Hamilton, R. I. Menzies (2010.0)',\n",
       "   'label': 'A. Hamilton, R. I. Menzies (2010.0)'},\n",
       "  'classes': 'ref'},\n",
       " {'data': {'id': 'D. Mckay et al. (1996)', 'label': 'D. Mckay et al. (1996)'},\n",
       "  'classes': 'ref'},\n",
       " {'data': {'id': 'K. Warren-Rhodes et al. (2006.0)',\n",
       "   'label': 'K. Warren-Rhodes et al. (2006.0)'},\n",
       "  'classes': 'ref'},\n",
       " {'data': {'id': 'T. Swindle (2002)', 'label': 'T. Swindle (2002)'},\n",
       "  'classes': 'ref'},\n",
       " {'data': {'id': 'B. Rasmussen (2000)', 'label': 'B. Rasmussen (2000)'},\n",
       "  'classes': 'ref'},\n",
       " {'data': {'id': 'C. Alexander et al. (2007)',\n",
       "   'label': 'C. Alexander et al. (2007)'},\n",
       "  'classes': 'ref'},\n",
       " {'data': {'id': 'L. Simonsen, J. Nealy (1992.0)',\n",
       "   'label': 'L. Simonsen, J. Nealy (1992.0)'},\n",
       "  'classes': 'ref'},\n",
       " {'data': {'id': 'Laodong Guo, P. Santschi (1997)',\n",
       "   'label': 'Laodong Guo, P. Santschi (1997)'},\n",
       "  'classes': 'ref'},\n",
       " {'data': {'id': 'G. Holland et al. (2013)',\n",
       "   'label': 'G. Holland et al. (2013)'},\n",
       "  'classes': 'ref'},\n",
       " {'data': {'id': 'D. Vaniman et al. (2014.0)',\n",
       "   'label': 'D. Vaniman et al. (2014.0)'},\n",
       "  'classes': 'ref'},\n",
       " {'data': {'id': 'G. Faure (1977)', 'label': 'G. Faure (1977)'},\n",
       "  'classes': 'ref'},\n",
       " {'data': {'id': 'W. Huang, R. Walker (1967)',\n",
       "   'label': 'W. Huang, R. Walker (1967)'},\n",
       "  'classes': 'ref'},\n",
       " {'data': {'id': 'A. Aubrey et al. (2006.0)',\n",
       "   'label': 'A. Aubrey et al. (2006.0)'},\n",
       "  'classes': 'ref'},\n",
       " {'data': {'id': 'K. A. Ross, R. V. Fisher (1986)',\n",
       "   'label': 'K. A. Ross, R. V. Fisher (1986)'},\n",
       "  'classes': 'ref'},\n",
       " {'data': {'id': 'S. Seager et al. (2005.0)',\n",
       "   'label': 'S. Seager et al. (2005.0)'},\n",
       "  'classes': 'ref'},\n",
       " {'data': {'id': 'E. Eshelman (2016)', 'label': 'E. Eshelman (2016)'},\n",
       "  'classes': 'ref'},\n",
       " {'data': {'id': 'N. McLoughlin et al. (2011)',\n",
       "   'label': 'N. McLoughlin et al. (2011)'},\n",
       "  'classes': 'ref'},\n",
       " {'data': {'id': 'Furnes et al. (1999)', 'label': 'Furnes et al. (1999)'},\n",
       "  'classes': 'ref'},\n",
       " {'data': {'id': 'N. Sleep, D. Bird (2007)',\n",
       "   'label': 'N. Sleep, D. Bird (2007)'},\n",
       "  'classes': 'ref'},\n",
       " {'data': {'id': 'K. Hughes, B. Lawley (2003.0)',\n",
       "   'label': 'K. Hughes, B. Lawley (2003.0)'},\n",
       "  'classes': 'ref'},\n",
       " {'data': {'id': 'Z. Martins et al. (2008.0)',\n",
       "   'label': 'Z. Martins et al. (2008.0)'},\n",
       "  'classes': 'ref'},\n",
       " {'data': {'id': 'H. Furnes et al. (1996)',\n",
       "   'label': 'H. Furnes et al. (1996)'},\n",
       "  'classes': 'ref'},\n",
       " {'data': {'id': 'F. Poitrasson et al. (2000)',\n",
       "   'label': 'F. Poitrasson et al. (2000)'},\n",
       "  'classes': 'ref'},\n",
       " {'data': {'id': 'E. Singer et al. (2011.0)',\n",
       "   'label': 'E. Singer et al. (2011.0)'},\n",
       "  'classes': 'ref'},\n",
       " {'data': {'id': 'E. Shock, M. Schulte (1998)',\n",
       "   'label': 'E. Shock, M. Schulte (1998)'},\n",
       "  'classes': 'ref'},\n",
       " {'data': {'id': 'Jessberger (2003)', 'label': 'Jessberger (2003)'},\n",
       "  'classes': 'ref'},\n",
       " {'data': {'id': 'E. Lester et al. (2007.0)',\n",
       "   'label': 'E. Lester et al. (2007.0)'},\n",
       "  'classes': 'ref'},\n",
       " {'data': {'id': 'O. Sato et al. (1999.0)',\n",
       "   'label': 'O. Sato et al. (1999.0)'},\n",
       "  'classes': 'ref'},\n",
       " {'data': {'id': 'J. Carter et al. (2013.0)',\n",
       "   'label': 'J. Carter et al. (2013.0)'},\n",
       "  'classes': 'ref'},\n",
       " {'data': {'id': 'L. Rothschild (1990.0)', 'label': 'L. Rothschild (1990.0)'},\n",
       "  'classes': 'ref'},\n",
       " {'data': {'id': 'P. Toulmin et al. (1977)',\n",
       "   'label': 'P. Toulmin et al. (1977)'},\n",
       "  'classes': 'ref'},\n",
       " {'data': {'id': 'P. Meyers, R. Ishiwatari (1995)',\n",
       "   'label': 'P. Meyers, R. Ishiwatari (1995)'},\n",
       "  'classes': 'ref'},\n",
       " {'data': {'id': 'S. Asher, C. R. Johnson (1984)',\n",
       "   'label': 'S. Asher, C. R. Johnson (1984)'},\n",
       "  'classes': 'ref'},\n",
       " {'data': {'id': 'D. Matthiä, T. Berger (2017.0)',\n",
       "   'label': 'D. Matthiä, T. Berger (2017.0)'},\n",
       "  'classes': 'ref'},\n",
       " {'data': {'id': 'G. Angelis et al. (2006.0)',\n",
       "   'label': 'G. Angelis et al. (2006.0)'},\n",
       "  'classes': 'ref'},\n",
       " {'data': {'id': 'S. Gartner (1980)', 'label': 'S. Gartner (1980)'},\n",
       "  'classes': 'ref'},\n",
       " {'data': {'id': 'S. Mojzsis, G. Arrhenius (1998)',\n",
       "   'label': 'S. Mojzsis, G. Arrhenius (1998)'},\n",
       "  'classes': 'ref'},\n",
       " {'data': {'id': 'S. Rafkin et al. (2014.0)',\n",
       "   'label': 'S. Rafkin et al. (2014.0)'},\n",
       "  'classes': 'ref'},\n",
       " {'data': {'id': 'M. Osburn et al. (2014)',\n",
       "   'label': 'M. Osburn et al. (2014)'},\n",
       "  'classes': 'ref'},\n",
       " {'data': {'id': 'R. Barbieri, N. Stivaletta (2011.0)',\n",
       "   'label': 'R. Barbieri, N. Stivaletta (2011.0)'},\n",
       "  'classes': 'ref'},\n",
       " {'data': {'id': 'J. Freeman et al. (2008)',\n",
       "   'label': 'J. Freeman et al. (2008)'},\n",
       "  'classes': 'ref'},\n",
       " {'data': {'id': 'J. P. Beam et al. (2015)',\n",
       "   'label': 'J. P. Beam et al. (2015)'},\n",
       "  'classes': 'ref'},\n",
       " {'data': {'id': 'C. Allen et al. (1981)', 'label': 'C. Allen et al. (1981)'},\n",
       "  'classes': 'ref'},\n",
       " {'data': {'id': 'H. Posamentier, V. Kolla (2003)',\n",
       "   'label': 'H. Posamentier, V. Kolla (2003)'},\n",
       "  'classes': 'ref'},\n",
       " {'data': {'id': 'D. Northup et al. (2011)',\n",
       "   'label': 'D. Northup et al. (2011)'},\n",
       "  'classes': 'ref'},\n",
       " {'data': {'id': 'K. Williams et al. (2010)',\n",
       "   'label': 'K. Williams et al. (2010)'},\n",
       "  'classes': 'ref'},\n",
       " {'data': {'id': 'M. Bock, L. Mayer (2000)',\n",
       "   'label': 'M. Bock, L. Mayer (2000)'},\n",
       "  'classes': 'ref'},\n",
       " {'data': {'id': 'N. McLoughlin et al. (2012)',\n",
       "   'label': 'N. McLoughlin et al. (2012)'},\n",
       "  'classes': 'ref'},\n",
       " {'data': {'id': 'Joost W. Aerts et al. (2016.0)',\n",
       "   'label': 'Joost W. Aerts et al. (2016.0)'},\n",
       "  'classes': 'ref'},\n",
       " {'data': {'id': 'M. Trieloff et al. (2003)',\n",
       "   'label': 'M. Trieloff et al. (2003)'},\n",
       "  'classes': 'ref'},\n",
       " {'data': {'id': 'A. Allwood et al. (2015)',\n",
       "   'label': 'A. Allwood et al. (2015)'},\n",
       "  'classes': 'ref'},\n",
       " {'data': {'id': 'D. Hassler et al. (2018.0)',\n",
       "   'label': 'D. Hassler et al. (2018.0)'},\n",
       "  'classes': 'ref'},\n",
       " {'data': {'id': 'M. Carr, J. Head (2010.0)',\n",
       "   'label': 'M. Carr, J. Head (2010.0)'},\n",
       "  'classes': 'ref'},\n",
       " {'data': {'id': 'J. Wray et al. (2011)', 'label': 'J. Wray et al. (2011)'},\n",
       "  'classes': 'ref'},\n",
       " {'data': {'id': 'G. Osinski et al. (2019)',\n",
       "   'label': 'G. Osinski et al. (2019)'},\n",
       "  'classes': 'ref'},\n",
       " {'data': {'id': 'D. Glavin, J. Dworkin (2009)',\n",
       "   'label': 'D. Glavin, J. Dworkin (2009)'},\n",
       "  'classes': 'ref'},\n",
       " {'data': {'id': 'McKeown (2009)', 'label': 'McKeown (2009)'},\n",
       "  'classes': 'ref'},\n",
       " {'data': {'id': 'A. Davila et al. (2008)',\n",
       "   'label': 'A. Davila et al. (2008)'},\n",
       "  'classes': 'ref'},\n",
       " {'data': {'id': 'R. Keil, L. Mayer (2014.0)',\n",
       "   'label': 'R. Keil, L. Mayer (2014.0)'},\n",
       "  'classes': 'ref'},\n",
       " {'data': {'id': 'F Forget et al. (2006.0)',\n",
       "   'label': 'F Forget et al. (2006.0)'},\n",
       "  'classes': 'ref'},\n",
       " {'data': {'id': 'S. Squyres (1989)', 'label': 'S. Squyres (1989)'},\n",
       "  'classes': 'ref'},\n",
       " {'data': {'id': 'D. Kelley et al. (2005)',\n",
       "   'label': 'D. Kelley et al. (2005)'},\n",
       "  'classes': 'ref'},\n",
       " {'data': {'id': 'J. Fontenot et al. (2009.0)',\n",
       "   'label': 'J. Fontenot et al. (2009.0)'},\n",
       "  'classes': 'ref'},\n",
       " {'data': {'id': 'A. Knoll (1985)', 'label': 'A. Knoll (1985)'},\n",
       "  'classes': 'ref'},\n",
       " {'data': {'id': 'M. Kruglanski et al. (2009.0)',\n",
       "   'label': 'M. Kruglanski et al. (2009.0)'},\n",
       "  'classes': 'ref'},\n",
       " {'data': {'id': 'J. P. Greenwood et al. (2000)',\n",
       "   'label': 'J. P. Greenwood et al. (2000)'},\n",
       "  'classes': 'ref'},\n",
       " {'data': {'id': 'R. Clark, T. Roush (1984.0)',\n",
       "   'label': 'R. Clark, T. Roush (1984.0)'},\n",
       "  'classes': 'ref'},\n",
       " {'data': {'id': 'K. Lepot et al. (2009)', 'label': 'K. Lepot et al. (2009)'},\n",
       "  'classes': 'ref'},\n",
       " {'data': {'id': 'R. Yamada et al. (1993)',\n",
       "   'label': 'R. Yamada et al. (1993)'},\n",
       "  'classes': 'ref'},\n",
       " {'data': {'id': 'C. McKay (2014)', 'label': 'C. McKay (2014)'},\n",
       "  'classes': 'ref'},\n",
       " {'data': {'id': 'C. Marshall et al. (2010)',\n",
       "   'label': 'C. Marshall et al. (2010)'},\n",
       "  'classes': 'ref'},\n",
       " {'data': {'id': 'T. McCollom, J. Seewald (2013)',\n",
       "   'label': 'T. McCollom, J. Seewald (2013)'},\n",
       "  'classes': 'ref'},\n",
       " {'data': {'id': 'Hunter C.N. (2008.0)', 'label': 'Hunter C.N. (2008.0)'},\n",
       "  'classes': 'ref'},\n",
       " {'data': {'id': 'J. Channell et al. (1995)',\n",
       "   'label': 'J. Channell et al. (1995)'},\n",
       "  'classes': 'ref'},\n",
       " {'data': {'id': 'M. Engel, S. Macko (1997)',\n",
       "   'label': 'M. Engel, S. Macko (1997)'},\n",
       "  'classes': 'ref'},\n",
       " {'data': {'id': 'J. Flahaut et al. (2017.0)',\n",
       "   'label': 'J. Flahaut et al. (2017.0)'},\n",
       "  'classes': 'ref'},\n",
       " {'data': {'id': 'V. Parro et al. (2011.0)',\n",
       "   'label': 'V. Parro et al. (2011.0)'},\n",
       "  'classes': 'ref'},\n",
       " {'data': {'id': 'K. Dontsova, J. Bigham (2005)',\n",
       "   'label': 'K. Dontsova, J. Bigham (2005)'},\n",
       "  'classes': 'ref'},\n",
       " {'data': {'id': 'J. Alroy (2003.0)', 'label': 'J. Alroy (2003.0)'},\n",
       "  'classes': 'ref'},\n",
       " {'data': {'id': 'P. Gasda et al. (2017)', 'label': 'P. Gasda et al. (2017)'},\n",
       "  'classes': 'ref'},\n",
       " {'data': {'id': 'J. Guo et al. (2018.0)', 'label': 'J. Guo et al. (2018.0)'},\n",
       "  'classes': 'ref'},\n",
       " {'data': {'id': 'D. Fliegel et al. (2010)',\n",
       "   'label': 'D. Fliegel et al. (2010)'},\n",
       "  'classes': 'ref'},\n",
       " {'data': {'id': 'J. Albers, J. Bain (1985.0)',\n",
       "   'label': 'J. Albers, J. Bain (1985.0)'},\n",
       "  'classes': 'ref'},\n",
       " {'data': {'id': 'A. Gleadow et al. (1986)',\n",
       "   'label': 'A. Gleadow et al. (1986)'},\n",
       "  'classes': 'ref'},\n",
       " {'data': {'id': 'M. Skulinova et al. (2014)',\n",
       "   'label': 'M. Skulinova et al. (2014)'},\n",
       "  'classes': 'ref'},\n",
       " {'data': {'id': 'R. Schweickert et al. (1984)',\n",
       "   'label': 'R. Schweickert et al. (1984)'},\n",
       "  'classes': 'ref'},\n",
       " {'data': {'id': 'Shawn D. Domagal-Goldman et al. (2016)',\n",
       "   'label': 'Shawn D. Domagal-Goldman et al. (2016)'},\n",
       "  'classes': 'ref'},\n",
       " {'data': {'id': 'J. Grotzinger (2014)', 'label': 'J. Grotzinger (2014)'},\n",
       "  'classes': 'ref'},\n",
       " {'data': {'id': 'J. Amend, T. McCollom (2009)',\n",
       "   'label': 'J. Amend, T. McCollom (2009)'},\n",
       "  'classes': 'ref'},\n",
       " {'data': {'id': 'Z. Martins et al. (2007)',\n",
       "   'label': 'Z. Martins et al. (2007)'},\n",
       "  'classes': 'ref'},\n",
       " {'data': {'id': 'J. Masarik, R. Reedy (1996.0)',\n",
       "   'label': 'J. Masarik, R. Reedy (1996.0)'},\n",
       "  'classes': 'ref'},\n",
       " {'data': {'id': 'I A Berger, R U Cooke (1997.0)',\n",
       "   'label': 'I A Berger, R U Cooke (1997.0)'},\n",
       "  'classes': 'ref'},\n",
       " {'data': {'id': 'M. Hof et al. (1994)', 'label': 'M. Hof et al. (1994)'},\n",
       "  'classes': 'ref'},\n",
       " {'data': {'id': 'L. Dartnell, Manish R. Patel (2013)',\n",
       "   'label': 'L. Dartnell, Manish R. Patel (2013)'},\n",
       "  'classes': 'ref'},\n",
       " {'data': {'id': 'I. Reid et al. (2006.0)',\n",
       "   'label': 'I. Reid et al. (2006.0)'},\n",
       "  'classes': 'ref'},\n",
       " {'data': {'id': 'B. Horgan, J. Bell (2012)',\n",
       "   'label': 'B. Horgan, J. Bell (2012)'},\n",
       "  'classes': 'ref'},\n",
       " {'data': {'id': 'E. Cloutis et al. (2007.0)',\n",
       "   'label': 'E. Cloutis et al. (2007.0)'},\n",
       "  'classes': 'ref'},\n",
       " {'data': {'id': 'M. Fisk, N. McLoughlin (2013)',\n",
       "   'label': 'M. Fisk, N. McLoughlin (2013)'},\n",
       "  'classes': 'ref'},\n",
       " {'data': {'id': 'B. Gómez-Silva et al. (2008.0)',\n",
       "   'label': 'B. Gómez-Silva et al. (2008.0)'},\n",
       "  'classes': 'ref'},\n",
       " {'data': {'id': 'A. Sandhu et al. (1993)',\n",
       "   'label': 'A. Sandhu et al. (1993)'},\n",
       "  'classes': 'ref'},\n",
       " {'data': {'id': 'R. Sinha et al. (2002.0)',\n",
       "   'label': 'R. Sinha et al. (2002.0)'},\n",
       "  'classes': 'ref'},\n",
       " {'data': {'id': 'M. Wilhelm et al. (2017.0)',\n",
       "   'label': 'M. Wilhelm et al. (2017.0)'},\n",
       "  'classes': 'ref'},\n",
       " {'data': {'id': 'Mertzman (2000)', 'label': 'Mertzman (2000)'},\n",
       "  'classes': 'ref'},\n",
       " {'data': {'id': 'F. Cucinotta et al. (2001.0)',\n",
       "   'label': 'F. Cucinotta et al. (2001.0)'},\n",
       "  'classes': 'ref'},\n",
       " {'data': {'id': 'D. Ming et al. (2014)', 'label': 'D. Ming et al. (2014)'},\n",
       "  'classes': 'ref'},\n",
       " {'data': {'id': 'J. Smith, I. Kaplan (1970)',\n",
       "   'label': 'J. Smith, I. Kaplan (1970)'},\n",
       "  'classes': 'ref'},\n",
       " {'data': {'id': 'C. Weisbin et al. (2013)',\n",
       "   'label': 'C. Weisbin et al. (2013)'},\n",
       "  'classes': 'ref'},\n",
       " {'data': {'id': 'S. Shkolyar et al. (2018.0)',\n",
       "   'label': 'S. Shkolyar et al. (2018.0)'},\n",
       "  'classes': 'ref'},\n",
       " {'data': {'id': 'J. Donovan et al. (2002)',\n",
       "   'label': 'J. Donovan et al. (2002)'},\n",
       "  'classes': 'ref'},\n",
       " {'data': {'id': 'Junhong Chen et al. (2003)',\n",
       "   'label': 'Junhong Chen et al. (2003)'},\n",
       "  'classes': 'ref'},\n",
       " {'data': {'id': 'A. Azua-Bustos et al. (2017.0)',\n",
       "   'label': 'A. Azua-Bustos et al. (2017.0)'},\n",
       "  'classes': 'ref'},\n",
       " {'data': {'id': 'Stoertz G.E. (1974.0)', 'label': 'Stoertz G.E. (1974.0)'},\n",
       "  'classes': 'ref'},\n",
       " {'data': {'id': 'C. Zeitlin et al. (2018.0)',\n",
       "   'label': 'C. Zeitlin et al. (2018.0)'},\n",
       "  'classes': 'ref'},\n",
       " {'data': {'id': 'R. Fleischer (1988)', 'label': 'R. Fleischer (1988)'},\n",
       "  'classes': 'ref'},\n",
       " {'data': {'id': 'E. Cloutis et al. (2015)',\n",
       "   'label': 'E. Cloutis et al. (2015)'},\n",
       "  'classes': 'ref'},\n",
       " {'data': {'id': 'A. Aubrey et al. (2006)',\n",
       "   'label': 'A. Aubrey et al. (2006)'},\n",
       "  'classes': 'ref'},\n",
       " {'data': {'id': 'J. Havig et al. (2017.0)',\n",
       "   'label': 'J. Havig et al. (2017.0)'},\n",
       "  'classes': 'ref'},\n",
       " {'data': {'id': 'J. Hedges, P. E. Hare (1987)',\n",
       "   'label': 'J. Hedges, P. E. Hare (1987)'},\n",
       "  'classes': 'ref'},\n",
       " {'data': {'id': 'M. Ilbert, V. Bonnefoy (2013.0)',\n",
       "   'label': 'M. Ilbert, V. Bonnefoy (2013.0)'},\n",
       "  'classes': 'ref'},\n",
       " {'data': {'id': 'M. Wadhwa et al. (2001)',\n",
       "   'label': 'M. Wadhwa et al. (2001)'},\n",
       "  'classes': 'ref'},\n",
       " {'data': {'id': 'J. A. Russell et al. (2014)',\n",
       "   'label': 'J. A. Russell et al. (2014)'},\n",
       "  'classes': 'ref'},\n",
       " {'data': {'id': 'S. Gainey et al. (2017)',\n",
       "   'label': 'S. Gainey et al. (2017)'},\n",
       "  'classes': 'ref'},\n",
       " {'data': {'id': 'S. Vance et al. (2007)', 'label': 'S. Vance et al. (2007)'},\n",
       "  'classes': 'ref'},\n",
       " {'data': {'id': 'D. Patzelt et al. (2014.0)',\n",
       "   'label': 'D. Patzelt et al. (2014.0)'},\n",
       "  'classes': 'ref'},\n",
       " {'data': {'id': 'E. Grosch, N. McLoughlin (2014)',\n",
       "   'label': 'E. Grosch, N. McLoughlin (2014)'},\n",
       "  'classes': 'ref'},\n",
       " {'data': {'id': 'M. Price et al. (2009.0)',\n",
       "   'label': 'M. Price et al. (2009.0)'},\n",
       "  'classes': 'ref'},\n",
       " {'data': {'id': 'F. Cucinotta et al. (2011.0)',\n",
       "   'label': 'F. Cucinotta et al. (2011.0)'},\n",
       "  'classes': 'ref'},\n",
       " {'data': {'id': 'M. Janssens et al. (1977.0)',\n",
       "   'label': 'M. Janssens et al. (1977.0)'},\n",
       "  'classes': 'ref'},\n",
       " {'data': {'id': 'T. Djokic et al. (2017)',\n",
       "   'label': 'T. Djokic et al. (2017)'},\n",
       "  'classes': 'ref'},\n",
       " {'data': {'id': 'A. Rossi et al. (2008.0)',\n",
       "   'label': 'A. Rossi et al. (2008.0)'},\n",
       "  'classes': 'ref'},\n",
       " {'data': {'id': 'J. Grotzinger et al. (2015)',\n",
       "   'label': 'J. Grotzinger et al. (2015)'},\n",
       "  'classes': 'ref'},\n",
       " {'data': {'id': 'L. Dartnell et al. (2011)',\n",
       "   'label': 'L. Dartnell et al. (2011)'},\n",
       "  'classes': 'ref'},\n",
       " {'data': {'id': 'W. Primak (1983)', 'label': 'W. Primak (1983)'},\n",
       "  'classes': 'ref'},\n",
       " {'data': {'id': 'R. Pel et al. (2004.0)', 'label': 'R. Pel et al. (2004.0)'},\n",
       "  'classes': 'ref'},\n",
       " {'data': {'id': 'C. Chio et al. (2005)', 'label': 'C. Chio et al. (2005)'},\n",
       "  'classes': 'ref'},\n",
       " {'data': {'id': 'D. Papineau et al. (2005)',\n",
       "   'label': 'D. Papineau et al. (2005)'},\n",
       "  'classes': 'ref'},\n",
       " {'data': {'id': 'B. Jakosky et al. (1994)',\n",
       "   'label': 'B. Jakosky et al. (1994)'},\n",
       "  'classes': 'ref'},\n",
       " {'data': {'id': 'W. M. Haynes (1990.0)', 'label': 'W. M. Haynes (1990.0)'},\n",
       "  'classes': 'ref'},\n",
       " {'data': {'id': 'S. Chang et al. (1983)', 'label': 'S. Chang et al. (1983)'},\n",
       "  'classes': 'ref'},\n",
       " {'data': {'id': 'J. Bridges et al. (2017.0)',\n",
       "   'label': 'J. Bridges et al. (2017.0)'},\n",
       "  'classes': 'ref'},\n",
       " {'data': {'id': 'N. Rividi et al. (2010.0)',\n",
       "   'label': 'N. Rividi et al. (2010.0)'},\n",
       "  'classes': 'ref'},\n",
       " {'data': {'id': 'J. Alt, P. Mata (2000)', 'label': 'J. Alt, P. Mata (2000)'},\n",
       "  'classes': 'ref'},\n",
       " {'data': {'id': 'R. Léveillé et al. (2014)',\n",
       "   'label': 'R. Léveillé et al. (2014)'},\n",
       "  'classes': 'ref'},\n",
       " {'data': {'id': 'U. Meierhenrich (2008.0)',\n",
       "   'label': 'U. Meierhenrich (2008.0)'},\n",
       "  'classes': 'ref'},\n",
       " {'data': {'id': 'R. Summons et al. (1988.0)',\n",
       "   'label': 'R. Summons et al. (1988.0)'},\n",
       "  'classes': 'ref'},\n",
       " {'data': {'id': 'M. Brasier et al. (2006)',\n",
       "   'label': 'M. Brasier et al. (2006)'},\n",
       "  'classes': 'ref'},\n",
       " {'data': {'id': 'M. Sephton (2002)', 'label': 'M. Sephton (2002)'},\n",
       "  'classes': 'ref'},\n",
       " {'data': {'id': 'A. Medvedev et al. (2011.0)',\n",
       "   'label': 'A. Medvedev et al. (2011.0)'},\n",
       "  'classes': 'ref'},\n",
       " {'data': {'id': 'Division on Earth (2007)',\n",
       "   'label': 'Division on Earth (2007)'},\n",
       "  'classes': 'ref'},\n",
       " {'data': {'id': 'D. McDonald et al. (2012.0)',\n",
       "   'label': 'D. McDonald et al. (2012.0)'},\n",
       "  'classes': 'ref'},\n",
       " {'data': {'id': 'R. Ott (2014.0)', 'label': 'R. Ott (2014.0)'},\n",
       "  'classes': 'ref'},\n",
       " {'data': {'id': 'Donchin J.H. (1983.0)', 'label': 'Donchin J.H. (1983.0)'},\n",
       "  'classes': 'ref'},\n",
       " {'data': {'id': 'M. Schmieder et al. (2013.0)',\n",
       "   'label': 'M. Schmieder et al. (2013.0)'},\n",
       "  'classes': 'ref'},\n",
       " {'data': {'id': 'G. P. Butler (1973.0)', 'label': 'G. P. Butler (1973.0)'},\n",
       "  'classes': 'ref'},\n",
       " {'data': {'id': 'B. Ehlmann et al. (2011)',\n",
       "   'label': 'B. Ehlmann et al. (2011)'},\n",
       "  'classes': 'ref'},\n",
       " {'data': {'id': 'H. Nesbitt, G. M. Young (1984)',\n",
       "   'label': 'H. Nesbitt, G. M. Young (1984)'},\n",
       "  'classes': 'ref'},\n",
       " {'data': {'id': 'W. Farrand et al. (2014)',\n",
       "   'label': 'W. Farrand et al. (2014)'},\n",
       "  'classes': 'ref'},\n",
       " {'data': {'id': 'J. Caporaso et al. (2010.0)',\n",
       "   'label': 'J. Caporaso et al. (2010.0)'},\n",
       "  'classes': 'ref'},\n",
       " {'data': {'id': 'T. Sekiya et al. (2001)',\n",
       "   'label': 'T. Sekiya et al. (2001)'},\n",
       "  'classes': 'ref'},\n",
       " {'data': {'id': 'R. Pancost et al. (2005)',\n",
       "   'label': 'R. Pancost et al. (2005)'},\n",
       "  'classes': 'ref'},\n",
       " {'data': {'id': 'S. Naeem et al. (2000)', 'label': 'S. Naeem et al. (2000)'},\n",
       "  'classes': 'ref'},\n",
       " {'data': {'id': 'A. Keating, P. Gonçalves (2012.0)',\n",
       "   'label': 'A. Keating, P. Gonçalves (2012.0)'},\n",
       "  'classes': 'ref'},\n",
       " {'data': {'id': 'S. L. Potter-McIntyre et al. (2014.0)',\n",
       "   'label': 'S. L. Potter-McIntyre et al. (2014.0)'},\n",
       "  'classes': 'ref'},\n",
       " {'data': {'id': 'K. Edwards et al. (1999.0)',\n",
       "   'label': 'K. Edwards et al. (1999.0)'},\n",
       "  'classes': 'ref'},\n",
       " {'data': {'id': 'N. Buzgar et al. (2009)',\n",
       "   'label': 'N. Buzgar et al. (2009)'},\n",
       "  'classes': 'ref'},\n",
       " {'data': {'id': 'L. Taylor et al. (2002)',\n",
       "   'label': 'L. Taylor et al. (2002)'},\n",
       "  'classes': 'ref'},\n",
       " {'data': {'id': 'M. Talbot (1990.0)', 'label': 'M. Talbot (1990.0)'},\n",
       "  'classes': 'ref'},\n",
       " {'data': {'id': 'J. Head et al. (1999.0)',\n",
       "   'label': 'J. Head et al. (1999.0)'},\n",
       "  'classes': 'ref'},\n",
       " {'data': {'id': 'E. Lalla et al. (2021)', 'label': 'E. Lalla et al. (2021)'},\n",
       "  'classes': 'ref'},\n",
       " {'data': {'id': 'T. Peters et al. (2015)',\n",
       "   'label': 'T. Peters et al. (2015)'},\n",
       "  'classes': 'ref'},\n",
       " {'data': {'id': 'R. Bhartia et al. (2010)',\n",
       "   'label': 'R. Bhartia et al. (2010)'},\n",
       "  'classes': 'ref'},\n",
       " {'data': {'id': 'R. Wetzel (1975)', 'label': 'R. Wetzel (1975)'},\n",
       "  'classes': 'ref'},\n",
       " {'data': {'id': 'S. Grasby (2000.0)', 'label': 'S. Grasby (2000.0)'},\n",
       "  'classes': 'ref'},\n",
       " {'data': {'id': 'Amy J. Williams et al. (2015.0)',\n",
       "   'label': 'Amy J. Williams et al. (2015.0)'},\n",
       "  'classes': 'ref'},\n",
       " {'data': {'id': 'J. Lasue et al. (2013)', 'label': 'J. Lasue et al. (2013)'},\n",
       "  'classes': 'ref'},\n",
       " {'data': {'id': 'J. Farmer et al. (1995)',\n",
       "   'label': 'J. Farmer et al. (1995)'},\n",
       "  'classes': 'ref'},\n",
       " {'data': {'id': 'H. Sapers et al. (2019)',\n",
       "   'label': 'H. Sapers et al. (2019)'},\n",
       "  'classes': 'ref'},\n",
       " {'data': {'id': 'R. Downs (2006.0)', 'label': 'R. Downs (2006.0)'},\n",
       "  'classes': 'ref'},\n",
       " {'data': {'id': 'S. Yang et al. (2015)', 'label': 'S. Yang et al. (2015)'},\n",
       "  'classes': 'ref'},\n",
       " {'data': {'id': 'E. Cloutis et al. (2016)',\n",
       "   'label': 'E. Cloutis et al. (2016)'},\n",
       "  'classes': 'ref'},\n",
       " {'data': {'id': 'E. Eshelman et al. (2015)',\n",
       "   'label': 'E. Eshelman et al. (2015)'},\n",
       "  'classes': 'ref'},\n",
       " {'data': {'id': 'A. Schettino, E. Turco (2009)',\n",
       "   'label': 'A. Schettino, E. Turco (2009)'},\n",
       "  'classes': 'ref'},\n",
       " {'data': {'id': 'R. Wiens et al. (2015)', 'label': 'R. Wiens et al. (2015)'},\n",
       "  'classes': 'ref'},\n",
       " {'data': {'id': 'K. Konhauser et al. (1994)',\n",
       "   'label': 'K. Konhauser et al. (1994)'},\n",
       "  'classes': 'ref'},\n",
       " {'data': {'id': 'Frances Westall, Barbara Cavalazzi (2011.0)',\n",
       "   'label': 'Frances Westall, Barbara Cavalazzi (2011.0)'},\n",
       "  'classes': 'ref'},\n",
       " {'data': {'id': 'D. Vlassopoulos, S. Wood (1990)',\n",
       "   'label': 'D. Vlassopoulos, S. Wood (1990)'},\n",
       "  'classes': 'ref'},\n",
       " {'data': {'id': 'National Research Council (2011.0)',\n",
       "   'label': 'National Research Council (2011.0)'},\n",
       "  'classes': 'ref'},\n",
       " {'data': {'id': 'Robert et al. (2008)', 'label': 'Robert et al. (2008)'},\n",
       "  'classes': 'ref'},\n",
       " {'data': {'id': 'R. Garstang (1957)', 'label': 'R. Garstang (1957)'},\n",
       "  'classes': 'ref'},\n",
       " {'data': {'id': 'C. Cockell et al. (2009)',\n",
       "   'label': 'C. Cockell et al. (2009)'},\n",
       "  'classes': 'ref'},\n",
       " {'data': {'id': 'J. Sclater, Lewellyn Wixon (2015)',\n",
       "   'label': 'J. Sclater, Lewellyn Wixon (2015)'},\n",
       "  'classes': 'ref'},\n",
       " {'data': {'id': 'W. D. de Wet, L. Townsend (2017.0)',\n",
       "   'label': 'W. D. de Wet, L. Townsend (2017.0)'},\n",
       "  'classes': 'ref'},\n",
       " {'data': {'id': 'J. Lipp et al. (2008)', 'label': 'J. Lipp et al. (2008)'},\n",
       "  'classes': 'ref'},\n",
       " {'data': {'id': 'R. Harmon et al. (2013)',\n",
       "   'label': 'R. Harmon et al. (2013)'},\n",
       "  'classes': 'ref'},\n",
       " {'data': {'id': 'D. Emerson et al. (2010.0)',\n",
       "   'label': 'D. Emerson et al. (2010.0)'},\n",
       "  'classes': 'ref'},\n",
       " {'data': {'id': 'B. Lafuente (2015.0)', 'label': 'B. Lafuente (2015.0)'},\n",
       "  'classes': 'ref'},\n",
       " {'data': {'id': 'S. Grasby et al. (2003.0)',\n",
       "   'label': 'S. Grasby et al. (2003.0)'},\n",
       "  'classes': 'ref'},\n",
       " {'data': {'id': 'R. Navarro‐González et al. (2006)',\n",
       "   'label': 'R. Navarro‐González et al. (2006)'},\n",
       "  'classes': 'ref'},\n",
       " {'data': {'id': 'S. Asher (2006)', 'label': 'S. Asher (2006)'},\n",
       "  'classes': 'ref'},\n",
       " {'data': {'id': 'W. Abbey et al. (2017)', 'label': 'W. Abbey et al. (2017)'},\n",
       "  'classes': 'ref'},\n",
       " {'data': {'id': 'Battler (2006)', 'label': 'Battler (2006)'},\n",
       "  'classes': 'ref'},\n",
       " {'data': {'id': 'F. Aumento (1969)', 'label': 'F. Aumento (1969)'},\n",
       "  'classes': 'ref'},\n",
       " {'data': {'id': 'C. Shearer et al. (2014)',\n",
       "   'label': 'C. Shearer et al. (2014)'},\n",
       "  'classes': 'ref'},\n",
       " {'data': {'id': 'D. Sherman, T. Waite (1985.0)',\n",
       "   'label': 'D. Sherman, T. Waite (1985.0)'},\n",
       "  'classes': 'ref'},\n",
       " {'data': {'id': 'R. Müller et al. (2008)',\n",
       "   'label': 'R. Müller et al. (2008)'},\n",
       "  'classes': 'ref'},\n",
       " {'data': {'id': 'P. Franzmann et al. (1988.0)',\n",
       "   'label': 'P. Franzmann et al. (1988.0)'},\n",
       "  'classes': 'ref'},\n",
       " {'data': {'id': 'D. Herlemann et al. (2011.0)',\n",
       "   'label': 'D. Herlemann et al. (2011.0)'},\n",
       "  'classes': 'ref'},\n",
       " {'data': {'id': 'S. Umino (2007)', 'label': 'S. Umino (2007)'},\n",
       "  'classes': 'ref'},\n",
       " {'data': {'id': 'T. Vishnivetskaya et al. (2003.0)',\n",
       "   'label': 'T. Vishnivetskaya et al. (2003.0)'},\n",
       "  'classes': 'ref'},\n",
       " {'data': {'id': 'J. Semkova et al. (2018.0)',\n",
       "   'label': 'J. Semkova et al. (2018.0)'},\n",
       "  'classes': 'ref'},\n",
       " {'data': {'id': 'Jason E. French, D. Blake (2016)',\n",
       "   'label': 'Jason E. French, D. Blake (2016)'},\n",
       "  'classes': 'ref'},\n",
       " {'data': {'id': 'N. Bridge et al. (2010)',\n",
       "   'label': 'N. Bridge et al. (2010)'},\n",
       "  'classes': 'ref'},\n",
       " {'data': {'id': 'S. Cady et al. (2003.0)',\n",
       "   'label': 'S. Cady et al. (2003.0)'},\n",
       "  'classes': 'ref'},\n",
       " {'data': {'id': 'M. Osterloo et al. (2010.0)',\n",
       "   'label': 'M. Osterloo et al. (2010.0)'},\n",
       "  'classes': 'ref'},\n",
       " {'data': {'id': 'Horita, Berndt (1999)', 'label': 'Horita, Berndt (1999)'},\n",
       "  'classes': 'ref'},\n",
       " {'data': {'id': 'S. Squyres et al. (2004)',\n",
       "   'label': 'S. Squyres et al. (2004)'},\n",
       "  'classes': 'ref'},\n",
       " {'data': {'id': 'S. Sharma et al. (2007)',\n",
       "   'label': 'S. Sharma et al. (2007)'},\n",
       "  'classes': 'ref'},\n",
       " {'data': {'id': 'M. Gaft et al. (2005)', 'label': 'M. Gaft et al. (2005)'},\n",
       "  'classes': 'ref'},\n",
       " {'data': {'id': 'K. István et al. (2003)',\n",
       "   'label': 'K. István et al. (2003)'},\n",
       "  'classes': 'ref'},\n",
       " {'data': {'id': 'R. Galbraith, G. Laslett (1988)',\n",
       "   'label': 'R. Galbraith, G. Laslett (1988)'},\n",
       "  'classes': 'ref'},\n",
       " {'data': {'id': 'S. Murchie et al. (2009.0)',\n",
       "   'label': 'S. Murchie et al. (2009.0)'},\n",
       "  'classes': 'ref'},\n",
       " {'data': {'id': 'L. Hays et al. (2017.0)',\n",
       "   'label': 'L. Hays et al. (2017.0)'},\n",
       "  'classes': 'ref'},\n",
       " {'data': {'id': 'G. E. Stoertz, G. E. Ericksen (1974.0)',\n",
       "   'label': 'G. E. Stoertz, G. E. Ericksen (1974.0)'},\n",
       "  'classes': 'ref'},\n",
       " {'data': {'id': 'K. Sauer (1979.0)', 'label': 'K. Sauer (1979.0)'},\n",
       "  'classes': 'ref'},\n",
       " {'data': {'id': 'J K Böhlke et al. (1997.0)',\n",
       "   'label': 'J K Böhlke et al. (1997.0)'},\n",
       "  'classes': 'ref'},\n",
       " {'data': {'id': 'B. Schreiber et al. (2001.0)',\n",
       "   'label': 'B. Schreiber et al. (2001.0)'},\n",
       "  'classes': 'ref'},\n",
       " {'data': {'id': 'S. Mata et al. (2012)', 'label': 'S. Mata et al. (2012)'},\n",
       "  'classes': 'ref'},\n",
       " {'data': {'id': 'C. Cockell et al. (2000.0)',\n",
       "   'label': 'C. Cockell et al. (2000.0)'},\n",
       "  'classes': 'ref'},\n",
       " {'data': {'id': 'Marcel Martin (2011.0)', 'label': 'Marcel Martin (2011.0)'},\n",
       "  'classes': 'ref'},\n",
       " {'data': {'id': 'T. Owen et al. (1992)', 'label': 'T. Owen et al. (1992)'},\n",
       "  'classes': 'ref'},\n",
       " {'data': {'id': 'L. Haley et al. (1982)', 'label': 'L. Haley et al. (1982)'},\n",
       "  'classes': 'ref'},\n",
       " {'data': {'id': 'T. Bristow et al. (2015.0)',\n",
       "   'label': 'T. Bristow et al. (2015.0)'},\n",
       "  'classes': 'ref'},\n",
       " {'data': {'id': 'N. Pfennig (2004)', 'label': 'N. Pfennig (2004)'},\n",
       "  'classes': 'ref'},\n",
       " {'data': {'id': 'N. Noffke (2009)', 'label': 'N. Noffke (2009)'},\n",
       "  'classes': 'ref'},\n",
       " {'data': {'id': 'A. Kasprzyk (2013.0)', 'label': 'A. Kasprzyk (2013.0)'},\n",
       "  'classes': 'ref'},\n",
       " {'data': {'id': 'S. Shkolyar et al. (2021)',\n",
       "   'label': 'S. Shkolyar et al. (2021)'},\n",
       "  'classes': 'ref'},\n",
       " {'data': {'id': None, 'label': None}, 'classes': 'ref'},\n",
       " {'data': {'id': 'Balme (2015)', 'label': 'Balme (2015)'}, 'classes': 'ref'},\n",
       " {'data': {'id': 'L. Mayer (1994)', 'label': 'L. Mayer (1994)'},\n",
       "  'classes': 'ref'},\n",
       " {'data': {'id': 'W. Martin, M. Russell (2007)',\n",
       "   'label': 'W. Martin, M. Russell (2007)'},\n",
       "  'classes': 'ref'},\n",
       " {'data': {'id': 'G. Kminek, J. Bada (2006.0)',\n",
       "   'label': 'G. Kminek, J. Bada (2006.0)'},\n",
       "  'classes': 'ref'},\n",
       " {'data': {'id': 'Ding Jun-kai et al. (1997.0)',\n",
       "   'label': 'Ding Jun-kai et al. (1997.0)'},\n",
       "  'classes': 'ref'},\n",
       " {'data': {'id': 'K. Kozarev et al. (2010.0)',\n",
       "   'label': 'K. Kozarev et al. (2010.0)'},\n",
       "  'classes': 'ref'},\n",
       " {'data': {'id': 'Carroll A.R. (2001.0)', 'label': 'Carroll A.R. (2001.0)'},\n",
       "  'classes': 'ref'},\n",
       " {'data': {'id': 'M. Guo et al. (2011)', 'label': 'M. Guo et al. (2011)'},\n",
       "  'classes': 'ref'},\n",
       " {'data': {'id': 'H. McSween (2015)', 'label': 'H. McSween (2015)'},\n",
       "  'classes': 'ref'},\n",
       " {'data': {'id': 'C. Cubillos et al. (2018.0)',\n",
       "   'label': 'C. Cubillos et al. (2018.0)'},\n",
       "  'classes': 'ref'},\n",
       " {'data': {'id': 'V. Formisano et al. (2004)',\n",
       "   'label': 'V. Formisano et al. (2004)'},\n",
       "  'classes': 'ref'},\n",
       " {'data': {'id': 'B. Ehlmann et al. (2008)',\n",
       "   'label': 'B. Ehlmann et al. (2008)'},\n",
       "  'classes': 'ref'},\n",
       " {'data': {'id': 'R. S. Williams et al. (2013)',\n",
       "   'label': 'R. S. Williams et al. (2013)'},\n",
       "  'classes': 'ref'},\n",
       " {'data': {'id': 'J. Bibring et al. (2005)',\n",
       "   'label': 'J. Bibring et al. (2005)'},\n",
       "  'classes': 'ref'},\n",
       " {'data': {'id': 'A. Treiman, A. Irving (2008)',\n",
       "   'label': 'A. Treiman, A. Irving (2008)'},\n",
       "  'classes': 'ref'},\n",
       " {'data': {'id': 'G. Wagner, P. Haute (1992)',\n",
       "   'label': 'G. Wagner, P. Haute (1992)'},\n",
       "  'classes': 'ref'},\n",
       " {'data': {'id': 'L. Richardson (1996.0)', 'label': 'L. Richardson (1996.0)'},\n",
       "  'classes': 'ref'},\n",
       " {'data': {'id': 'J. Dworzanski et al. (1990.0)',\n",
       "   'label': 'J. Dworzanski et al. (1990.0)'},\n",
       "  'classes': 'ref'},\n",
       " {'data': {'id': 'D. Emerson, M. Floyd (2005.0)',\n",
       "   'label': 'D. Emerson, M. Floyd (2005.0)'},\n",
       "  'classes': 'ref'},\n",
       " {'data': {'id': 'S. Squyres et al. (2012.0)',\n",
       "   'label': 'S. Squyres et al. (2012.0)'},\n",
       "  'classes': 'ref'},\n",
       " {'data': {'id': 'A. Pavlov et al. (2002.0)',\n",
       "   'label': 'A. Pavlov et al. (2002.0)'},\n",
       "  'classes': 'ref'},\n",
       " {'data': {'id': 'M. Lindsay et al. (2017)',\n",
       "   'label': 'M. Lindsay et al. (2017)'},\n",
       "  'classes': 'ref'},\n",
       " {'data': {'id': 'Anthony J.W. (1982.0)', 'label': 'Anthony J.W. (1982.0)'},\n",
       "  'classes': 'ref'},\n",
       " {'data': {'id': 'R. Cas, J. V. Wright (1987)',\n",
       "   'label': 'R. Cas, J. V. Wright (1987)'},\n",
       "  'classes': 'ref'},\n",
       " {'data': {'id': 'F. Košek et al. (2017)', 'label': 'F. Košek et al. (2017)'},\n",
       "  'classes': 'ref'},\n",
       " {'data': {'id': 'K. Campbell et al. (2013.0)',\n",
       "   'label': 'K. Campbell et al. (2013.0)'},\n",
       "  'classes': 'ref'},\n",
       " {'data': {'id': 'C. McKay et al. (2003.0)',\n",
       "   'label': 'C. McKay et al. (2003.0)'},\n",
       "  'classes': 'ref'},\n",
       " {'data': {'id': 'J. Schopf et al. (2012.0)',\n",
       "   'label': 'J. Schopf et al. (2012.0)'},\n",
       "  'classes': 'ref'},\n",
       " {'data': {'id': 'P. Christensen et al. (2000)',\n",
       "   'label': 'P. Christensen et al. (2000)'},\n",
       "  'classes': 'ref'},\n",
       " {'data': {'id': 'P. Meyers (1994.0)', 'label': 'P. Meyers (1994.0)'},\n",
       "  'classes': 'ref'},\n",
       " {'data': {'id': 'M. Malin et al. (2010.0)',\n",
       "   'label': 'M. Malin et al. (2010.0)'},\n",
       "  'classes': 'ref'},\n",
       " {'data': {'id': 'A. Pavlov et al. (2012.0)',\n",
       "   'label': 'A. Pavlov et al. (2012.0)'},\n",
       "  'classes': 'ref'},\n",
       " {'data': {'id': 'S. Ruff et al. (2014)', 'label': 'S. Ruff et al. (2014)'},\n",
       "  'classes': 'ref'},\n",
       " {'data': {'id': 'M. Sephton et al. (2004)',\n",
       "   'label': 'M. Sephton et al. (2004)'},\n",
       "  'classes': 'ref'},\n",
       " {'data': {'id': 'M. Izawa et al. (2014)', 'label': 'M. Izawa et al. (2014)'},\n",
       "  'classes': 'ref'},\n",
       " {'data': {'id': 'K. Cannon et al. (2019)',\n",
       "   'label': 'K. Cannon et al. (2019)'},\n",
       "  'classes': 'ref'},\n",
       " {'data': {'id': 'R. B. Norman et al. (2016.0)',\n",
       "   'label': 'R. B. Norman et al. (2016.0)'},\n",
       "  'classes': 'ref'},\n",
       " {'data': {'id': 'S. Xiao, A. Knoll (2007)',\n",
       "   'label': 'S. Xiao, A. Knoll (2007)'},\n",
       "  'classes': 'ref'},\n",
       " {'data': {'id': 'E. Pilles et al. (2019)',\n",
       "   'label': 'E. Pilles et al. (2019)'},\n",
       "  'classes': 'ref'},\n",
       " {'data': {'id': 'J. Bishop et al. (2006.0)',\n",
       "   'label': 'J. Bishop et al. (2006.0)'},\n",
       "  'classes': 'ref'},\n",
       " {'data': {'id': 'W. Rapin et al. (2016.0)',\n",
       "   'label': 'W. Rapin et al. (2016.0)'},\n",
       "  'classes': 'ref'},\n",
       " {'data': {'id': 'K. Biemann (2007)', 'label': 'K. Biemann (2007)'},\n",
       "  'classes': 'ref'},\n",
       " {'data': {'id': 'P. Boston et al. (1992)',\n",
       "   'label': 'P. Boston et al. (1992)'},\n",
       "  'classes': 'ref'},\n",
       " {'data': {'id': 'C. Pain et al. (2007)', 'label': 'C. Pain et al. (2007)'},\n",
       "  'classes': 'ref'},\n",
       " {'data': {'id': 'O. Botta (2005)', 'label': 'O. Botta (2005)'},\n",
       "  'classes': 'ref'},\n",
       " {'data': {'id': 'Campbell K.M. (2013.0)', 'label': 'Campbell K.M. (2013.0)'},\n",
       "  'classes': 'ref'},\n",
       " {'data': {'id': 'G. Anno et al. (1989.0)',\n",
       "   'label': 'G. Anno et al. (1989.0)'},\n",
       "  'classes': 'ref'},\n",
       " {'data': {'id': 'D. Heynderickx et al. (2003.0)',\n",
       "   'label': 'D. Heynderickx et al. (2003.0)'},\n",
       "  'classes': 'ref'},\n",
       " {'data': {'id': 'F. Forget et al. (2006.0)',\n",
       "   'label': 'F. Forget et al. (2006.0)'},\n",
       "  'classes': 'ref'},\n",
       " {'data': {'id': 'L. Dartnell et al. (2011.0)',\n",
       "   'label': 'L. Dartnell et al. (2011.0)'},\n",
       "  'classes': 'ref'},\n",
       " {'data': {'id': 'J. Bishop et al. (2008)',\n",
       "   'label': 'J. Bishop et al. (2008)'},\n",
       "  'classes': 'ref'},\n",
       " {'data': {'id': 'D. Mandakovic et al. (2018.0)',\n",
       "   'label': 'D. Mandakovic et al. (2018.0)'},\n",
       "  'classes': 'ref'},\n",
       " {'data': {'id': 'H. Ōhashi, H. Nakazawa (1996)',\n",
       "   'label': 'H. Ōhashi, H. Nakazawa (1996)'},\n",
       "  'classes': 'ref'},\n",
       " {'data': {'id': 'P. Gonçalves et al. (2009.0)',\n",
       "   'label': 'P. Gonçalves et al. (2009.0)'},\n",
       "  'classes': 'ref'},\n",
       " {'data': {'id': 'D. Bendall (2006.0)', 'label': 'D. Bendall (2006.0)'},\n",
       "  'classes': 'ref'},\n",
       " {'data': {'id': 'L. Hays, D. Beaty (2017)',\n",
       "   'label': 'L. Hays, D. Beaty (2017)'},\n",
       "  'classes': 'ref'},\n",
       " {'data': {'id': 'M. Storrie-Lombardi, M. Fisk (2004)',\n",
       "   'label': 'M. Storrie-Lombardi, M. Fisk (2004)'},\n",
       "  'classes': 'ref'},\n",
       " {'data': {'id': 'J. Vago et al. (2017.0)',\n",
       "   'label': 'J. Vago et al. (2017.0)'},\n",
       "  'classes': 'ref'},\n",
       " {'data': {'id': 'R. Summons et al. (2011)',\n",
       "   'label': 'R. Summons et al. (2011)'},\n",
       "  'classes': 'ref'},\n",
       " {'data': {'id': 'R. Mancinelli et al. (2004.0)',\n",
       "   'label': 'R. Mancinelli et al. (2004.0)'},\n",
       "  'classes': 'ref'},\n",
       " {'data': {'id': 'G. Berard et al. (2013.0)',\n",
       "   'label': 'G. Berard et al. (2013.0)'},\n",
       "  'classes': 'ref'},\n",
       " {'data': {'id': 'P. Higgs, R. Pudritz (2009.0)',\n",
       "   'label': 'P. Higgs, R. Pudritz (2009.0)'},\n",
       "  'classes': 'ref'},\n",
       " {'data': {'id': 'C. Oze, Mukul Sharma (2005)',\n",
       "   'label': 'C. Oze, Mukul Sharma (2005)'},\n",
       "  'classes': 'ref'},\n",
       " {'data': {'id': 'E. J. Woodbury, W. K. Ng (1962.0)',\n",
       "   'label': 'E. J. Woodbury, W. K. Ng (1962.0)'},\n",
       "  'classes': 'ref'},\n",
       " {'data': {'id': 'Jingnan Guo et al. (2017.0)',\n",
       "   'label': 'Jingnan Guo et al. (2017.0)'},\n",
       "  'classes': 'ref'},\n",
       " {'data': {'id': 'P. Jiggens et al. (2011.0)',\n",
       "   'label': 'P. Jiggens et al. (2011.0)'},\n",
       "  'classes': 'ref'},\n",
       " {'data': {'id': 'O. Korablev et al. (2017)',\n",
       "   'label': 'O. Korablev et al. (2017)'},\n",
       "  'classes': 'ref'},\n",
       " {'data': {'id': 'K. Klitgord, H. Schouten (1986)',\n",
       "   'label': 'K. Klitgord, H. Schouten (1986)'},\n",
       "  'classes': 'ref'},\n",
       " {'data': {'id': 'S. Squyres et al. (2006)',\n",
       "   'label': 'S. Squyres et al. (2006)'},\n",
       "  'classes': 'ref'},\n",
       " {'data': {'id': 'D. Fernández-Remolar, A. Knoll (2008)',\n",
       "   'label': 'D. Fernández-Remolar, A. Knoll (2008)'},\n",
       "  'classes': 'ref'},\n",
       " {'data': {'id': 'M. Richardson, C. Newman (2018.0)',\n",
       "   'label': 'M. Richardson, C. Newman (2018.0)'},\n",
       "  'classes': 'ref'},\n",
       " {'data': {'id': 'Andre P. Masella et al. (2012.0)',\n",
       "   'label': 'Andre P. Masella et al. (2012.0)'},\n",
       "  'classes': 'ref'},\n",
       " {'data': {'id': 'A. Mrigakshi et al. (2012.0)',\n",
       "   'label': 'A. Mrigakshi et al. (2012.0)'},\n",
       "  'classes': 'ref'},\n",
       " {'data': {'id': 'F. Gómez et al. (2012.0)',\n",
       "   'label': 'F. Gómez et al. (2012.0)'},\n",
       "  'classes': 'ref'},\n",
       " {'data': {'id': 'D. Burr et al. (2002.0)',\n",
       "   'label': 'D. Burr et al. (2002.0)'},\n",
       "  'classes': 'ref'},\n",
       " {'data': {'id': 'R. Barbieri et al. (2006.0)',\n",
       "   'label': 'R. Barbieri et al. (2006.0)'},\n",
       "  'classes': 'ref'},\n",
       " {'data': {'id': 'C. Allen et al. (2000)', 'label': 'C. Allen et al. (2000)'},\n",
       "  'classes': 'ref'},\n",
       " {'data': {'id': 'J. Kallmeyer et al. (2012)',\n",
       "   'label': 'J. Kallmeyer et al. (2012)'},\n",
       "  'classes': 'ref'},\n",
       " {'data': {'id': 'G. Gronoff et al. (2015.0)',\n",
       "   'label': 'G. Gronoff et al. (2015.0)'},\n",
       "  'classes': 'ref'},\n",
       " {'data': {'id': 'S. Pizzarello (2006)', 'label': 'S. Pizzarello (2006)'},\n",
       "  'classes': 'ref'},\n",
       " {'data': {'id': 'A. Gendrin et al. (2005.0)',\n",
       "   'label': 'A. Gendrin et al. (2005.0)'},\n",
       "  'classes': 'ref'},\n",
       " {'data': {'id': 'N. Trewin (2007)', 'label': 'N. Trewin (2007)'},\n",
       "  'classes': 'ref'},\n",
       " {'data': {'id': 'L. Leshin et al. (2013)',\n",
       "   'label': 'L. Leshin et al. (2013)'},\n",
       "  'classes': 'ref'},\n",
       " {'data': {'id': 'J. Clarke, C. Stoker (2011)',\n",
       "   'label': 'J. Clarke, C. Stoker (2011)'},\n",
       "  'classes': 'ref'},\n",
       " {'data': {'id': 'D. Beaty et al. (2019)', 'label': 'D. Beaty et al. (2019)'},\n",
       "  'classes': 'ref'},\n",
       " {'data': {'id': 'Twenter F.R. (1963.0)', 'label': 'Twenter F.R. (1963.0)'},\n",
       "  'classes': 'ref'},\n",
       " {'data': {'id': 'M. Brasier et al. (2002)',\n",
       "   'label': 'M. Brasier et al. (2002)'},\n",
       "  'classes': 'ref'},\n",
       " {'data': {'id': 'M. Malin, K. Edgett (2000.0)',\n",
       "   'label': 'M. Malin, K. Edgett (2000.0)'},\n",
       "  'classes': 'ref'},\n",
       " {'data': {'id': 'C. Sagan et al. (1993.0)',\n",
       "   'label': 'C. Sagan et al. (1993.0)'},\n",
       "  'classes': 'ref'},\n",
       " {'data': {'id': 'G. E. Ericksen (1981.0)',\n",
       "   'label': 'G. E. Ericksen (1981.0)'},\n",
       "  'classes': 'ref'},\n",
       " {'data': {'id': 'K. Williford et al. (2018)',\n",
       "   'label': 'K. Williford et al. (2018)'},\n",
       "  'classes': 'ref'},\n",
       " {'data': {'id': 'C. Joyce et al. (2015.0)',\n",
       "   'label': 'C. Joyce et al. (2015.0)'},\n",
       "  'classes': 'ref'},\n",
       " {'data': {'id': 'R. Chapoulie et al. (1995)',\n",
       "   'label': 'R. Chapoulie et al. (1995)'},\n",
       "  'classes': 'ref'},\n",
       " {'data': {'id': 'N. A. Schwadron et al. (2010.0)',\n",
       "   'label': 'N. A. Schwadron et al. (2010.0)'},\n",
       "  'classes': 'ref'},\n",
       " {'data': {'id': 'Rebecca M. E. Williams et al. (2009)',\n",
       "   'label': 'Rebecca M. E. Williams et al. (2009)'},\n",
       "  'classes': 'ref'},\n",
       " {'data': {'id': 'N. Stroncik, H. Schmincke (2002)',\n",
       "   'label': 'N. Stroncik, H. Schmincke (2002)'},\n",
       "  'classes': 'ref'},\n",
       " {'data': {'id': 'S. Brody, E. Rabinowitch (1957)',\n",
       "   'label': 'S. Brody, E. Rabinowitch (1957)'},\n",
       "  'classes': 'ref'},\n",
       " {'data': {'id': 'F. Risacher et al. (2003.0)',\n",
       "   'label': 'F. Risacher et al. (2003.0)'},\n",
       "  'classes': 'ref'},\n",
       " {'data': {'id': 'A. Skelley et al. (2005.0)',\n",
       "   'label': 'A. Skelley et al. (2005.0)'},\n",
       "  'classes': 'ref'},\n",
       " {'data': {'id': 'Abbey (1983)', 'label': 'Abbey (1983)'}, 'classes': 'ref'},\n",
       " {'data': {'id': 'C. Caudill et al. (2019)',\n",
       "   'label': 'C. Caudill et al. (2019)'},\n",
       "  'classes': 'ref'},\n",
       " {'data': {'id': 'C. Cousins et al. (2010.0)',\n",
       "   'label': 'C. Cousins et al. (2010.0)'},\n",
       "  'classes': 'ref'},\n",
       " {'data': {'id': 'Y. Ishida et al. (1999.0)',\n",
       "   'label': 'Y. Ishida et al. (1999.0)'},\n",
       "  'classes': 'ref'},\n",
       " {'data': {'id': 'P. Ehrenfreund et al. (2011)',\n",
       "   'label': 'P. Ehrenfreund et al. (2011)'},\n",
       "  'classes': 'ref'},\n",
       " {'data': {'id': 'C. Alpers et al. (2003.0)',\n",
       "   'label': 'C. Alpers et al. (2003.0)'},\n",
       "  'classes': 'ref'},\n",
       " {'data': {'id': 'M. Salvatore et al. (2017)',\n",
       "   'label': 'M. Salvatore et al. (2017)'},\n",
       "  'classes': 'ref'},\n",
       " {'data': {'id': 'C. Cockell, A. Herrera (2008)',\n",
       "   'label': 'C. Cockell, A. Herrera (2008)'},\n",
       "  'classes': 'ref'},\n",
       " {'data': {'id': 'Botta et al. (2008)', 'label': 'Botta et al. (2008)'},\n",
       "  'classes': 'ref'},\n",
       " {'data': {'id': 'M. Morsy et al. (1999)', 'label': 'M. Morsy et al. (1999)'},\n",
       "  'classes': 'ref'},\n",
       " {'data': {'id': 'A. Mrigakshi et al. (2013.0)',\n",
       "   'label': 'A. Mrigakshi et al. (2013.0)'},\n",
       "  'classes': 'ref'},\n",
       " {'data': {'id': 'I. A. Berger, R. Cooke (1997.0)',\n",
       "   'label': 'I. A. Berger, R. Cooke (1997.0)'},\n",
       "  'classes': 'ref'},\n",
       " {'data': {'id': 'F. Worrall, D. Pearson (2001)',\n",
       "   'label': 'F. Worrall, D. Pearson (2001)'},\n",
       "  'classes': 'ref'},\n",
       " {'data': {'id': 'J. Bell et al. (2012.0)',\n",
       "   'label': 'J. Bell et al. (2012.0)'},\n",
       "  'classes': 'ref'},\n",
       " {'data': {'id': 'K. Konhauser et al. (2001)',\n",
       "   'label': 'K. Konhauser et al. (2001)'},\n",
       "  'classes': 'ref'},\n",
       " {'data': {'id': 'H. McSween et al. (2004)',\n",
       "   'label': 'H. McSween et al. (2004)'},\n",
       "  'classes': 'ref'},\n",
       " {'data': {'id': 'J. Bibring et al. (2006.0)',\n",
       "   'label': 'J. Bibring et al. (2006.0)'},\n",
       "  'classes': 'ref'},\n",
       " {'data': {'id': 'R. Quinn et al. (2013.0)',\n",
       "   'label': 'R. Quinn et al. (2013.0)'},\n",
       "  'classes': 'ref'},\n",
       " {'data': {'id': 'C. Lee et al. (2009.0)', 'label': 'C. Lee et al. (2009.0)'},\n",
       "  'classes': 'ref'},\n",
       " {'data': {'id': 'L. Preston et al. (2015)',\n",
       "   'label': 'L. Preston et al. (2015)'},\n",
       "  'classes': 'ref'},\n",
       " {'data': {'id': 'H. Furnes et al. (2007)',\n",
       "   'label': 'H. Furnes et al. (2007)'},\n",
       "  'classes': 'ref'},\n",
       " {'data': {'id': 'S. Heising, B. Schink (1998)',\n",
       "   'label': 'S. Heising, B. Schink (1998)'},\n",
       "  'classes': 'ref'},\n",
       " {'data': {'id': 'K. Leslie et al. (2013)',\n",
       "   'label': 'K. Leslie et al. (2013)'},\n",
       "  'classes': 'ref'},\n",
       " {'data': {'id': 'B. Berenblut et al. (1973.0)',\n",
       "   'label': 'B. Berenblut et al. (1973.0)'},\n",
       "  'classes': 'ref'},\n",
       " {'data': {'id': 'R. Galbraith (2002)', 'label': 'R. Galbraith (2002)'},\n",
       "  'classes': 'ref'},\n",
       " {'data': {'id': 'J. Wray et al. (2011.0)',\n",
       "   'label': 'J. Wray et al. (2011.0)'},\n",
       "  'classes': 'ref'},\n",
       " {'data': {'id': 'D. D. Marais (2001)', 'label': 'D. D. Marais (2001)'},\n",
       "  'classes': 'ref'},\n",
       " {'data': {'id': 'S. Atreya et al. (2006)',\n",
       "   'label': 'S. Atreya et al. (2006)'},\n",
       "  'classes': 'ref'},\n",
       " {'data': {'id': 'J. K. Crowley et al. (2003.0)',\n",
       "   'label': 'J. K. Crowley et al. (2003.0)'},\n",
       "  'classes': 'ref'},\n",
       " {'data': {'id': 'H. Furnes et al. (2002)',\n",
       "   'label': 'H. Furnes et al. (2002)'},\n",
       "  'classes': 'ref'},\n",
       " {'data': {'id': 'E. Eshelman et al. (2017)',\n",
       "   'label': 'E. Eshelman et al. (2017)'},\n",
       "  'classes': 'ref'},\n",
       " {'data': {'id': 'C. Zeitlin et al. (2010.0)',\n",
       "   'label': 'C. Zeitlin et al. (2010.0)'},\n",
       "  'classes': 'ref'},\n",
       " {'data': {'id': 'Renato Lemos dos Santos et al. (2016.0)',\n",
       "   'label': 'Renato Lemos dos Santos et al. (2016.0)'},\n",
       "  'classes': 'ref'},\n",
       " {'data': {'id': 'B. Bozlee et al. (2005)',\n",
       "   'label': 'B. Bozlee et al. (2005)'},\n",
       "  'classes': 'ref'},\n",
       " {'data': {'id': 'R. Hark, R. Harmon (2014)',\n",
       "   'label': 'R. Hark, R. Harmon (2014)'},\n",
       "  'classes': 'ref'},\n",
       " {'data': {'id': 'T. Rhind et al. (2014)', 'label': 'T. Rhind et al. (2014)'},\n",
       "  'classes': 'ref'},\n",
       " {'data': {'id': 'S. Krishnaswami et al. (1974)',\n",
       "   'label': 'S. Krishnaswami et al. (1974)'},\n",
       "  'classes': 'ref'},\n",
       " {'data': {'id': 'H. Wu (2009.0)', 'label': 'H. Wu (2009.0)'},\n",
       "  'classes': 'ref'},\n",
       " {'data': {'id': 'L. Haskin et al. (2005)',\n",
       "   'label': 'L. Haskin et al. (2005)'},\n",
       "  'classes': 'ref'},\n",
       " {'data': {'id': 'C. Leovy, R. Zurek (1979.0)',\n",
       "   'label': 'C. Leovy, R. Zurek (1979.0)'},\n",
       "  'classes': 'ref'},\n",
       " {'data': {'id': 'M. Osterloo et al. (2008.0)',\n",
       "   'label': 'M. Osterloo et al. (2008.0)'},\n",
       "  'classes': 'ref'},\n",
       " {'data': {'id': 'M. PourArsalan et al. (2010.0)',\n",
       "   'label': 'M. PourArsalan et al. (2010.0)'},\n",
       "  'classes': 'ref'},\n",
       " {'data': {'id': 'M. Pelliccioni (2000.0)',\n",
       "   'label': 'M. Pelliccioni (2000.0)'},\n",
       "  'classes': 'ref'},\n",
       " {'data': {'id': 'Krause (2017)', 'label': 'Krause (2017)'}, 'classes': 'ref'},\n",
       " {'data': {'id': 'L. Dartnell et al. (2012.0)',\n",
       "   'label': 'L. Dartnell et al. (2012.0)'},\n",
       "  'classes': 'ref'},\n",
       " {'data': {'id': 'J. Vago et al. (2017)', 'label': 'J. Vago et al. (2017)'},\n",
       "  'classes': 'ref'},\n",
       " {'data': {'id': 'D. Bower et al. (2013)', 'label': 'D. Bower et al. (2013)'},\n",
       "  'classes': 'ref'},\n",
       " {'data': {'id': 'R. B. Norman et al. (2014.0)',\n",
       "   'label': 'R. B. Norman et al. (2014.0)'},\n",
       "  'classes': 'ref'},\n",
       " {'data': {'id': 'J. Longworth et al. (1966)',\n",
       "   'label': 'J. Longworth et al. (1966)'},\n",
       "  'classes': 'ref'},\n",
       " {'data': {'id': 'T. Geisler et al. (2016)',\n",
       "   'label': 'T. Geisler et al. (2016)'},\n",
       "  'classes': 'ref'},\n",
       " {'data': {'id': 'T. Tursina (1980.0)', 'label': 'T. Tursina (1980.0)'},\n",
       "  'classes': 'ref'},\n",
       " {'data': {'id': 'M. Bernstein et al. (1999.0)',\n",
       "   'label': 'M. Bernstein et al. (1999.0)'},\n",
       "  'classes': 'ref'},\n",
       " {'data': {'id': 'N. Sleep et al. (2004)', 'label': 'N. Sleep et al. (2004)'},\n",
       "  'classes': 'ref'},\n",
       " {'data': {'id': 'A. Quesada et al. (1999.0)',\n",
       "   'label': 'A. Quesada et al. (1999.0)'},\n",
       "  'classes': 'ref'},\n",
       " {'data': {'id': 'S. Squyres et al. (2006.0)',\n",
       "   'label': 'S. Squyres et al. (2006.0)'},\n",
       "  'classes': 'ref'},\n",
       " {'data': {'id': 'M. Chan et al. (2004)', 'label': 'M. Chan et al. (2004)'},\n",
       "  'classes': 'ref'},\n",
       " {'data': {'id': 'R. Bhartia et al. (2012)',\n",
       "   'label': 'R. Bhartia et al. (2012)'},\n",
       "  'classes': 'ref'},\n",
       " {'data': {'id': 'K. Anju et al. (2019)', 'label': 'K. Anju et al. (2019)'},\n",
       "  'classes': 'ref'},\n",
       " {'data': {'id': 'S. Schwenzer et al. (2012)',\n",
       "   'label': 'S. Schwenzer et al. (2012)'},\n",
       "  'classes': 'ref'},\n",
       " {'data': {'id': 'E. Lymer et al. (2020)', 'label': 'E. Lymer et al. (2020)'},\n",
       "  'classes': 'ref'},\n",
       " {'data': {'id': 'G. Muyzer et al. (1993.0)',\n",
       "   'label': 'G. Muyzer et al. (1993.0)'},\n",
       "  'classes': 'ref'},\n",
       " {'data': {'id': 'R. Frost et al. (2001)', 'label': 'R. Frost et al. (2001)'},\n",
       "  'classes': 'ref'},\n",
       " {'data': {'id': 'J. Carter et al. (2015)',\n",
       "   'label': 'J. Carter et al. (2015)'},\n",
       "  'classes': 'ref'},\n",
       " {'data': {'id': 'M. Wadhwa et al. (1994)',\n",
       "   'label': 'M. Wadhwa et al. (1994)'},\n",
       "  'classes': 'ref'},\n",
       " {'data': {'id': 'D. Birgel et al. (2008)',\n",
       "   'label': 'D. Birgel et al. (2008)'},\n",
       "  'classes': 'ref'},\n",
       " {'data': {'id': 'J. Grotzinger et al. (2005)',\n",
       "   'label': 'J. Grotzinger et al. (2005)'},\n",
       "  'classes': 'ref'},\n",
       " {'data': {'id': 'A. Bradley, R. Summons (2010)',\n",
       "   'label': 'A. Bradley, R. Summons (2010)'},\n",
       "  'classes': 'ref'},\n",
       " {'data': {'id': 'M. McCanta et al. (2009)',\n",
       "   'label': 'M. McCanta et al. (2009)'},\n",
       "  'classes': 'ref'},\n",
       " {'data': {'id': 'Aierken Sidike et al. (2006)',\n",
       "   'label': 'Aierken Sidike et al. (2006)'},\n",
       "  'classes': 'ref'},\n",
       " {'data': {'id': 'A. Udry et al. (2014)', 'label': 'A. Udry et al. (2014)'},\n",
       "  'classes': 'ref'},\n",
       " {'data': {'id': 'R. Bhartia et al. (2008)',\n",
       "   'label': 'R. Bhartia et al. (2008)'},\n",
       "  'classes': 'ref'},\n",
       " {'data': {'id': 'J. Hurowitz et al. (2006)',\n",
       "   'label': 'J. Hurowitz et al. (2006)'},\n",
       "  'classes': 'ref'},\n",
       " {'data': {'id': 'W. Whitman et al. (1998)',\n",
       "   'label': 'W. Whitman et al. (1998)'},\n",
       "  'classes': 'ref'},\n",
       " {'data': {'id': 'C. Chan et al. (2016.0)',\n",
       "   'label': 'C. Chan et al. (2016.0)'},\n",
       "  'classes': 'ref'},\n",
       " {'data': {'id': 'Clara S. Chan et al. (2016.0)',\n",
       "   'label': 'Clara S. Chan et al. (2016.0)'},\n",
       "  'classes': 'ref'},\n",
       " {'data': {'id': 'A. Allwood et al. (2006)',\n",
       "   'label': 'A. Allwood et al. (2006)'},\n",
       "  'classes': 'ref'},\n",
       " {'data': {'id': 'C. Fassett et al. (2010)',\n",
       "   'label': 'C. Fassett et al. (2010)'},\n",
       "  'classes': 'ref'},\n",
       " {'data': {'id': 'D. Sumner (2004)', 'label': 'D. Sumner (2004)'},\n",
       "  'classes': 'ref'},\n",
       " {'data': {'id': 'J. Böhlke et al. (1997.0)',\n",
       "   'label': 'J. Böhlke et al. (1997.0)'},\n",
       "  'classes': 'ref'},\n",
       " {'data': {'id': 'D. Hassler et al. (2014.0)',\n",
       "   'label': 'D. Hassler et al. (2014.0)'},\n",
       "  'classes': 'ref'},\n",
       " {'data': {'id': 'L. Neary, F. Daerden (2018.0)',\n",
       "   'label': 'L. Neary, F. Daerden (2018.0)'},\n",
       "  'classes': 'ref'},\n",
       " {'data': {'id': 'N. Beukes et al. (1990)',\n",
       "   'label': 'N. Beukes et al. (1990)'},\n",
       "  'classes': 'ref'},\n",
       " {'data': {'id': 'Will Curran (1982.0)', 'label': 'Will Curran (1982.0)'},\n",
       "  'classes': 'ref'},\n",
       " {'data': {'id': 'L Simonsen (1997.0)', 'label': 'L Simonsen (1997.0)'},\n",
       "  'classes': 'ref'},\n",
       " {'data': {'id': 'S. Cady et al. (2003)', 'label': 'S. Cady et al. (2003)'},\n",
       "  'classes': 'ref'},\n",
       " {'data': {'id': 'M. Storrie-Lombardi et al. (2009)',\n",
       "   'label': 'M. Storrie-Lombardi et al. (2009)'},\n",
       "  'classes': 'ref'},\n",
       " {'data': {'id': 'Donovan J.J. (1992.0)', 'label': 'Donovan J.J. (1992.0)'},\n",
       "  'classes': 'ref'},\n",
       " {'data': {'id': 'A. Bradley et al. (2009)',\n",
       "   'label': 'A. Bradley et al. (2009)'},\n",
       "  'classes': 'ref'},\n",
       " {'data': {'id': 'Maury Morgenstein, T. J. Riley (1975)',\n",
       "   'label': 'Maury Morgenstein, T. J. Riley (1975)'},\n",
       "  'classes': 'ref'},\n",
       " {'data': {'id': 'Igor Lukacevic et al. (2012)',\n",
       "   'label': 'Igor Lukacevic et al. (2012)'},\n",
       "  'classes': 'ref'},\n",
       " {'data': {'id': 'J. Caporaso et al. (2009.0)',\n",
       "   'label': 'J. Caporaso et al. (2009.0)'},\n",
       "  'classes': 'ref'},\n",
       " {'data': {'id': 'K. Gögen, G. Wagner (2000)',\n",
       "   'label': 'K. Gögen, G. Wagner (2000)'},\n",
       "  'classes': 'ref'},\n",
       " {'data': {'id': 'B. Pierson et al. (1993)',\n",
       "   'label': 'B. Pierson et al. (1993)'},\n",
       "  'classes': 'ref'},\n",
       " {'data': {'id': 'R. Navarro‐González et al. (2003.0)',\n",
       "   'label': 'R. Navarro‐González et al. (2003.0)'},\n",
       "  'classes': 'ref'},\n",
       " {'data': {'id': 'S. E. Bramer (1998.0)', 'label': 'S. E. Bramer (1998.0)'},\n",
       "  'classes': 'ref'},\n",
       " {'data': {'id': 'P. Allison, K. Pye (1994.0)',\n",
       "   'label': 'P. Allison, K. Pye (1994.0)'},\n",
       "  'classes': 'ref'},\n",
       " {'data': {'id': 'K. Campbell (2013.0)', 'label': 'K. Campbell (2013.0)'},\n",
       "  'classes': 'ref'},\n",
       " {'data': {'id': 'C. Kruber et al. (2008)',\n",
       "   'label': 'C. Kruber et al. (2008)'},\n",
       "  'classes': 'ref'},\n",
       " {'data': {'id': 'J. Dahl et al. (1988)', 'label': 'J. Dahl et al. (1988)'},\n",
       "  'classes': 'ref'},\n",
       " {'data': {'id': 'Rice (2010)', 'label': 'Rice (2010)'}, 'classes': 'ref'},\n",
       " {'data': {'id': 'E. Roden et al. (2012.0)',\n",
       "   'label': 'E. Roden et al. (2012.0)'},\n",
       "  'classes': 'ref'},\n",
       " {'data': {'id': 'H. Furnes, K. Muehlenbachs (2003)',\n",
       "   'label': 'H. Furnes, K. Muehlenbachs (2003)'},\n",
       "  'classes': 'ref'},\n",
       " {'data': {'id': 'L. Zaikowski et al. (2010)',\n",
       "   'label': 'L. Zaikowski et al. (2010)'},\n",
       "  'classes': 'ref'},\n",
       " {'data': {'id': 'H. Edwards et al. (2012.0)',\n",
       "   'label': 'H. Edwards et al. (2012.0)'},\n",
       "  'classes': 'ref'},\n",
       " {'data': {'id': 'J. Gustafsson (2001)', 'label': 'J. Gustafsson (2001)'},\n",
       "  'classes': 'ref'},\n",
       " {'data': {'id': 'J. F. Carter, V. J. Barwick (2011.0)',\n",
       "   'label': 'J. F. Carter, V. J. Barwick (2011.0)'},\n",
       "  'classes': 'ref'},\n",
       " {'data': {'id': 'A. Aubrey et al. (2008.0)',\n",
       "   'label': 'A. Aubrey et al. (2008.0)'},\n",
       "  'classes': 'ref'},\n",
       " {'data': {'id': 'R. W. Hoham, H. U. Ling (2000)',\n",
       "   'label': 'R. W. Hoham, H. U. Ling (2000)'},\n",
       "  'classes': 'ref'},\n",
       " {'data': {'id': 'D. Schwartz, R. Mancinelli (1989)',\n",
       "   'label': 'D. Schwartz, R. Mancinelli (1989)'},\n",
       "  'classes': 'ref'},\n",
       " {'data': {'id': 'H. Edwards et al. (2004.0)',\n",
       "   'label': 'H. Edwards et al. (2004.0)'},\n",
       "  'classes': 'ref'},\n",
       " {'data': {'id': 'N. Stivaletta et al. (2005.0)',\n",
       "   'label': 'N. Stivaletta et al. (2005.0)'},\n",
       "  'classes': 'ref'},\n",
       " {'data': {'id': 'M. Gaft et al. (2002)', 'label': 'M. Gaft et al. (2002)'},\n",
       "  'classes': 'ref'},\n",
       " {'data': {'id': 'S. McLennan et al. (2005.0)',\n",
       "   'label': 'S. McLennan et al. (2005.0)'},\n",
       "  'classes': 'ref'},\n",
       " {'data': {'id': 'D. Anderson et al. (2017)',\n",
       "   'label': 'D. Anderson et al. (2017)'},\n",
       "  'classes': 'ref'},\n",
       " {'data': {'id': 'J. Bishop et al. (2013)',\n",
       "   'label': 'J. Bishop et al. (2013)'},\n",
       "  'classes': 'ref'},\n",
       " {'data': {'id': 'R. Rye (2005)', 'label': 'R. Rye (2005)'}, 'classes': 'ref'},\n",
       " {'data': {'id': 'J. Bishop et al. (2008.0)',\n",
       "   'label': 'J. Bishop et al. (2008.0)'},\n",
       "  'classes': 'ref'},\n",
       " {'data': {'id': 'E. Jones et al. (1995)', 'label': 'E. Jones et al. (1995)'},\n",
       "  'classes': 'ref'},\n",
       " {'data': {'id': 'G. Panieri et al. (2010)',\n",
       "   'label': 'G. Panieri et al. (2010)'},\n",
       "  'classes': 'ref'},\n",
       " {'data': {'id': 'M. Izawa et al. (2010)', 'label': 'M. Izawa et al. (2010)'},\n",
       "  'classes': 'ref'},\n",
       " {'data': {'id': 'J. Farmer, D. D. Des Marais (1999.0)',\n",
       "   'label': 'J. Farmer, D. D. Des Marais (1999.0)'},\n",
       "  'classes': 'ref'},\n",
       " {'data': {'id': 'D. Bird et al. (2007)', 'label': 'D. Bird et al. (2007)'},\n",
       "  'classes': 'ref'},\n",
       " {'data': {'id': 'M. Rice et al. (2013)', 'label': 'M. Rice et al. (2013)'},\n",
       "  'classes': 'ref'},\n",
       " {'data': {'id': 'C. Cockell et al. (2002.0)',\n",
       "   'label': 'C. Cockell et al. (2002.0)'},\n",
       "  'classes': 'ref'},\n",
       " {'data': {'id': 'B. Hynek et al. (2010.0)',\n",
       "   'label': 'B. Hynek et al. (2010.0)'},\n",
       "  'classes': 'ref'},\n",
       " {'data': {'id': 'F. Grunthaner et al. (2012.0)',\n",
       "   'label': 'F. Grunthaner et al. (2012.0)'},\n",
       "  'classes': 'ref'},\n",
       " {'data': {'id': 'L. Simonsen et al. (1990.0)',\n",
       "   'label': 'L. Simonsen et al. (1990.0)'},\n",
       "  'classes': 'ref'},\n",
       " {'data': {'id': 'Christian Quast et al. (2012.0)',\n",
       "   'label': 'Christian Quast et al. (2012.0)'},\n",
       "  'classes': 'ref'},\n",
       " {'data': {'id': 'Ralph H. Thomas (2004.0)',\n",
       "   'label': 'Ralph H. Thomas (2004.0)'},\n",
       "  'classes': 'ref'},\n",
       " {'data': {'id': 'T. Hanyu (1964)', 'label': 'T. Hanyu (1964)'},\n",
       "  'classes': 'ref'},\n",
       " {'data': {'id': 'P. Blokker et al. (2002.0)',\n",
       "   'label': 'P. Blokker et al. (2002.0)'},\n",
       "  'classes': 'ref'},\n",
       " {'data': {'id': 'R. Mewaldt et al. (2005.0)',\n",
       "   'label': 'R. Mewaldt et al. (2005.0)'},\n",
       "  'classes': 'ref'},\n",
       " {'data': {'id': 'RullFernando et al. (2017)',\n",
       "   'label': 'RullFernando et al. (2017)'},\n",
       "  'classes': 'ref'},\n",
       " {'data': {'id': 'Hunter Ratliff et al. (2017.0)',\n",
       "   'label': 'Hunter Ratliff et al. (2017.0)'},\n",
       "  'classes': 'ref'},\n",
       " {'data': {'id': 'M. Storrie-Lombardi et al. (2001)',\n",
       "   'label': 'M. Storrie-Lombardi et al. (2001)'},\n",
       "  'classes': 'ref'},\n",
       " {'data': {'id': 'L. Dartnell (2011.0)', 'label': 'L. Dartnell (2011.0)'},\n",
       "  'classes': 'ref'},\n",
       " {'data': {'id': 'L. Preston et al. (2011)',\n",
       "   'label': 'L. Preston et al. (2011)'},\n",
       "  'classes': 'ref'},\n",
       " {'data': {'source': 'A. Bradley et al. (2009)',\n",
       "   'target': 'R. Summons et al. (2011)'},\n",
       "  'classes': 'citation'},\n",
       " {'data': {'source': 'A. Bradley et al. (2009)',\n",
       "   'target': 'R. Summons et al. (2011)'},\n",
       "  'classes': 'citation'},\n",
       " {'data': {'source': 'M. Brasier et al. (2006)',\n",
       "   'target': 'R. Summons et al. (2011)'},\n",
       "  'classes': 'citation'},\n",
       " {'data': {'source': 'N. Noffke (1978)', 'target': 'R. Summons et al. (2011)'},\n",
       "  'classes': 'citation'},\n",
       " {'data': {'source': 'D. D. Marais (2001)',\n",
       "   'target': 'R. Summons et al. (2011)'},\n",
       "  'classes': 'citation'},\n",
       " {'data': {'source': 'M. Kennedy et al. (2006)',\n",
       "   'target': 'R. Summons et al. (2011)'},\n",
       "  'classes': 'citation'},\n",
       " {'data': {'source': 'B. Rasmussen (2000)',\n",
       "   'target': 'R. Summons et al. (2011)'},\n",
       "  'classes': 'citation'},\n",
       " {'data': {'source': 'J. Baross (2006)', 'target': 'R. Summons et al. (2011)'},\n",
       "  'classes': 'citation'},\n",
       " {'data': {'source': 'E. Shock, M. Schulte (1998)',\n",
       "   'target': 'R. Summons et al. (2011)'},\n",
       "  'classes': 'citation'},\n",
       " {'data': {'source': 'Division on Earth (2007)',\n",
       "   'target': 'R. Summons et al. (2011)'},\n",
       "  'classes': 'citation'},\n",
       " {'data': {'source': 'N. Noffke (2009)', 'target': 'R. Summons et al. (2011)'},\n",
       "  'classes': 'citation'},\n",
       " {'data': {'source': 'S. Atreya et al. (2006)',\n",
       "   'target': 'R. Summons et al. (2011)'},\n",
       "  'classes': 'citation'},\n",
       " {'data': {'source': 'J. Farmer, D. D. Des Marais (1999)',\n",
       "   'target': 'R. Summons et al. (2011)'},\n",
       "  'classes': 'citation'},\n",
       " {'data': {'source': 'A. Aubrey et al. (2006)',\n",
       "   'target': 'R. Summons et al. (2011)'},\n",
       "  'classes': 'citation'},\n",
       " {'data': {'source': 'M. Engel, S. Macko (1997)',\n",
       "   'target': 'R. Summons et al. (2011)'},\n",
       "  'classes': 'citation'},\n",
       " {'data': {'source': 'J. Cronin, S. Pizzarello (1997)',\n",
       "   'target': 'R. Summons et al. (2011)'},\n",
       "  'classes': 'citation'},\n",
       " {'data': {'source': 'E. Anders (1989)', 'target': 'R. Summons et al. (2011)'},\n",
       "  'classes': 'citation'},\n",
       " {'data': {'source': 'T. McCollom, J. Seewald (2006)',\n",
       "   'target': 'R. Summons et al. (2011)'},\n",
       "  'classes': 'citation'},\n",
       " {'data': {'source': 'B. Lollar et al. (2006)',\n",
       "   'target': 'R. Summons et al. (2011)'},\n",
       "  'classes': 'citation'},\n",
       " {'data': {'source': 'S. Benner et al. (2000)',\n",
       "   'target': 'R. Summons et al. (2011)'},\n",
       "  'classes': 'citation'},\n",
       " {'data': {'source': 'S. Xiao, A. Knoll (2007)',\n",
       "   'target': 'R. Summons et al. (2011)'},\n",
       "  'classes': 'citation'},\n",
       " {'data': {'source': 'D. Kelley et al. (2005)',\n",
       "   'target': 'R. Summons et al. (2011)'},\n",
       "  'classes': 'citation'},\n",
       " {'data': {'source': 'N. Sleep, D. Bird (2007)',\n",
       "   'target': 'R. Summons et al. (2011)'},\n",
       "  'classes': 'citation'},\n",
       " {'data': {'source': 'D. Canfield (2001)',\n",
       "   'target': 'R. Summons et al. (2011)'},\n",
       "  'classes': 'citation'},\n",
       " {'data': {'source': 'Chris McKay (2004)',\n",
       "   'target': 'R. Summons et al. (2011)'},\n",
       "  'classes': 'citation'},\n",
       " {'data': {'source': 'C. Alexander et al. (2007)',\n",
       "   'target': 'R. Summons et al. (2011)'},\n",
       "  'classes': 'citation'},\n",
       " {'data': {'source': 'J. Grotzinger et al. (2005)',\n",
       "   'target': 'R. Summons et al. (2011)'},\n",
       "  'classes': 'citation'},\n",
       " {'data': {'source': 'J. Wang et al. (2002)',\n",
       "   'target': 'R. Summons et al. (2011)'},\n",
       "  'classes': 'citation'},\n",
       " {'data': {'source': 'S. Squyres et al. (2004)',\n",
       "   'target': 'R. Summons et al. (2011)'},\n",
       "  'classes': 'citation'},\n",
       " {'data': {'source': 'L. Pratt et al. (2006)',\n",
       "   'target': 'R. Summons et al. (2011)'},\n",
       "  'classes': 'citation'},\n",
       " {'data': {'source': 'N. Trewin (2007)', 'target': 'R. Summons et al. (2011)'},\n",
       "  'classes': 'citation'},\n",
       " {'data': {'source': 'J. P. Greenwood et al. (2000)',\n",
       "   'target': 'R. Summons et al. (2011)'},\n",
       "  'classes': 'citation'},\n",
       " {'data': {'source': 'L. Mayer (1994)', 'target': 'R. Summons et al. (2011)'},\n",
       "  'classes': 'citation'},\n",
       " {'data': {'source': 'P. Meyers, R. Ishiwatari (1995)',\n",
       "   'target': 'R. Summons et al. (2011)'},\n",
       "  'classes': 'citation'},\n",
       " {'data': {'source': 'Robert et al. (2008)',\n",
       "   'target': 'R. Summons et al. (2011)'},\n",
       "  'classes': 'citation'},\n",
       " {'data': {'source': 'C. Martín (2008)', 'target': 'R. Summons et al. (2011)'},\n",
       "  'classes': 'citation'},\n",
       " {'data': {'source': 'Junhong Chen et al. (2003)',\n",
       "   'target': 'R. Summons et al. (2011)'},\n",
       "  'classes': 'citation'},\n",
       " {'data': {'source': 'A. Steele et al. (2007)',\n",
       "   'target': 'R. Summons et al. (2011)'},\n",
       "  'classes': 'citation'},\n",
       " {'data': {'source': 'R. Navarro‐González et al. (2006)',\n",
       "   'target': 'R. Summons et al. (2011)'},\n",
       "  'classes': 'citation'},\n",
       " {'data': {'source': 'J. Hedges, P. E. Hare (1987)',\n",
       "   'target': 'R. Summons et al. (2011)'},\n",
       "  'classes': 'citation'},\n",
       " {'data': {'source': 'Z. Martins et al. (2007)',\n",
       "   'target': 'R. Summons et al. (2011)'},\n",
       "  'classes': 'citation'},\n",
       " {'data': {'source': 'L. Mayer (1994)', 'target': 'R. Summons et al. (2011)'},\n",
       "  'classes': 'citation'},\n",
       " {'data': {'source': 'J. Smith, I. Kaplan (1970)',\n",
       "   'target': 'R. Summons et al. (2011)'},\n",
       "  'classes': 'citation'},\n",
       " {'data': {'source': 'G. Proskurowski et al. (2008)',\n",
       "   'target': 'R. Summons et al. (2011)'},\n",
       "  'classes': 'citation'},\n",
       " {'data': {'source': 'B. Ehlmann et al. (2008)',\n",
       "   'target': 'R. Summons et al. (2011)'},\n",
       "  'classes': 'citation'},\n",
       " {'data': {'source': 'Botta et al. (2008)',\n",
       "   'target': 'R. Summons et al. (2011)'},\n",
       "  'classes': 'citation'},\n",
       " {'data': {'source': 'B. Ehlmann et al. (2008)',\n",
       "   'target': 'R. Summons et al. (2011)'},\n",
       "  'classes': 'citation'},\n",
       " {'data': {'source': 'C. Oze, Mukul Sharma (2005)',\n",
       "   'target': 'R. Summons et al. (2011)'},\n",
       "  'classes': 'citation'},\n",
       " {'data': {'source': 'V. Formisano et al. (2004)',\n",
       "   'target': 'R. Summons et al. (2011)'},\n",
       "  'classes': 'citation'},\n",
       " {'data': {'source': 'D. Birgel et al. (2008)',\n",
       "   'target': 'R. Summons et al. (2011)'},\n",
       "  'classes': 'citation'},\n",
       " {'data': {'source': 'K. Biemann (2007)',\n",
       "   'target': 'R. Summons et al. (2011)'},\n",
       "  'classes': 'citation'},\n",
       " {'data': {'source': 'J. Hedges, R. Keil (1995)',\n",
       "   'target': 'R. Summons et al. (2011)'},\n",
       "  'classes': 'citation'},\n",
       " {'data': {'source': 'D. Glavin, J. Dworkin (2009)',\n",
       "   'target': 'R. Summons et al. (2011)'},\n",
       "  'classes': 'citation'},\n",
       " {'data': {'source': 'M. Golombek (2000)',\n",
       "   'target': 'R. Summons et al. (2011)'},\n",
       "  'classes': 'citation'},\n",
       " {'data': {'source': 'B. Jakosky et al. (1994)',\n",
       "   'target': 'R. Summons et al. (2011)'},\n",
       "  'classes': 'citation'},\n",
       " {'data': {'source': 'A. Bradley, R. Summons (2010)',\n",
       "   'target': 'R. Summons et al. (2011)'},\n",
       "  'classes': 'citation'},\n",
       " {'data': {'source': 'A. Knoll (1985)', 'target': 'R. Summons et al. (2011)'},\n",
       "  'classes': 'citation'},\n",
       " {'data': {'source': 'J. Dahl et al. (1988)',\n",
       "   'target': 'R. Summons et al. (2011)'},\n",
       "  'classes': 'citation'},\n",
       " {'data': {'source': 'G. Cody, C. Alexander (2005)',\n",
       "   'target': 'R. Summons et al. (2011)'},\n",
       "  'classes': 'citation'},\n",
       " {'data': {'source': 'D. Vlassopoulos, S. Wood (1990)',\n",
       "   'target': 'R. Summons et al. (2011)'},\n",
       "  'classes': 'citation'},\n",
       " {'data': {'source': 'R. Rye (2005)', 'target': 'R. Summons et al. (2011)'},\n",
       "  'classes': 'citation'},\n",
       " {'data': {'source': 'S. Chang et al. (1983)',\n",
       "   'target': 'R. Summons et al. (2011)'},\n",
       "  'classes': 'citation'},\n",
       " {'data': {'source': 'S. Squyres et al. (2004)',\n",
       "   'target': 'R. Summons et al. (2011)'},\n",
       "  'classes': 'citation'},\n",
       " {'data': {'source': 'N. Butterfield (1990)',\n",
       "   'target': 'R. Summons et al. (2011)'},\n",
       "  'classes': 'citation'},\n",
       " {'data': {'source': 'S. Pizzarello (2006)',\n",
       "   'target': 'R. Summons et al. (2011)'},\n",
       "  'classes': 'citation'},\n",
       " {'data': {'source': 'W. Martin et al. (2008)',\n",
       "   'target': 'R. Summons et al. (2011)'},\n",
       "  'classes': 'citation'},\n",
       " {'data': {'source': 'Horita, Berndt (1999)',\n",
       "   'target': 'R. Summons et al. (2011)'},\n",
       "  'classes': 'citation'},\n",
       " {'data': {'source': 'O. Botta (2005)', 'target': 'R. Summons et al. (2011)'},\n",
       "  'classes': 'citation'},\n",
       " {'data': {'source': 'P. Christensen et al. (2004)',\n",
       "   'target': 'R. Summons et al. (2011)'},\n",
       "  'classes': 'citation'},\n",
       " {'data': {'source': 'T. Swindle (2002)',\n",
       "   'target': 'R. Summons et al. (2011)'},\n",
       "  'classes': 'citation'},\n",
       " {'data': {'source': 'G. Cody et al. (2008)',\n",
       "   'target': 'R. Summons et al. (2011)'},\n",
       "  'classes': 'citation'},\n",
       " {'data': {'source': 'Laodong Guo, P. Santschi (1997)',\n",
       "   'target': 'R. Summons et al. (2011)'},\n",
       "  'classes': 'citation'},\n",
       " {'data': {'source': 'W. Martin, M. Russell (2007)',\n",
       "   'target': 'R. Summons et al. (2011)'},\n",
       "  'classes': 'citation'},\n",
       " {'data': {'source': 'G. Panieri et al. (2010)',\n",
       "   'target': 'R. Summons et al. (2011)'},\n",
       "  'classes': 'citation'},\n",
       " {'data': {'source': 'K. Biemann (1979)',\n",
       "   'target': 'R. Summons et al. (2011)'},\n",
       "  'classes': 'citation'},\n",
       " {'data': {'source': 'D. Sumner (2004)', 'target': 'R. Summons et al. (2011)'},\n",
       "  'classes': 'citation'},\n",
       " {'data': {'source': 'C. McKay (2008)', 'target': 'R. Summons et al. (2011)'},\n",
       "  'classes': 'citation'},\n",
       " {'data': {'source': 'K. Dontsova, J. Bigham (2005)',\n",
       "   'target': 'R. Summons et al. (2011)'},\n",
       "  'classes': 'citation'},\n",
       " {'data': {'source': 'J. Bibring et al. (2005)',\n",
       "   'target': 'R. Summons et al. (2011)'},\n",
       "  'classes': 'citation'},\n",
       " {'data': {'source': 'M. Bock, L. Mayer (2000)',\n",
       "   'target': 'R. Summons et al. (2011)'},\n",
       "  'classes': 'citation'},\n",
       " {'data': {'source': 'M. Sephton et al. (2004)',\n",
       "   'target': 'R. Summons et al. (2011)'},\n",
       "  'classes': 'citation'},\n",
       " {'data': {'source': 'M. Sephton (2002)',\n",
       "   'target': 'R. Summons et al. (2011)'},\n",
       "  'classes': 'citation'},\n",
       " {'data': {'source': 'S. Squyres et al. (2006)',\n",
       "   'target': 'R. Summons et al. (2011)'},\n",
       "  'classes': 'citation'},\n",
       " {'data': {'source': 'D. Chivian et al. (2008)',\n",
       "   'target': 'R. Summons et al. (2011)'},\n",
       "  'classes': 'citation'},\n",
       " {'data': {'source': 'D. Fernández-Remolar, A. Knoll (2008)',\n",
       "   'target': 'R. Summons et al. (2011)'},\n",
       "  'classes': 'citation'},\n",
       " {'data': {'source': 'B. Ehlmann et al. (2010)',\n",
       "   'target': 'R. Summons et al. (2011)'},\n",
       "  'classes': 'citation'},\n",
       " {'data': {'source': 'J. Amend, T. McCollom (2009)',\n",
       "   'target': 'R. Summons et al. (2011)'},\n",
       "  'classes': 'citation'},\n",
       " {'data': {'source': 'S. Squyres et al. (2009)',\n",
       "   'target': 'R. Summons et al. (2011)'},\n",
       "  'classes': 'citation'},\n",
       " {'data': {'source': 'M. Mumma et al. (2009)',\n",
       "   'target': 'R. Summons et al. (2011)'},\n",
       "  'classes': 'citation'},\n",
       " {'data': {'source': 'M. Sephton, O. Botta (2008)',\n",
       "   'target': 'R. Summons et al. (2011)'},\n",
       "  'classes': 'citation'},\n",
       " {'data': {'source': 'T. Owen et al. (1992)',\n",
       "   'target': 'R. Summons et al. (2011)'},\n",
       "  'classes': 'citation'},\n",
       " {'data': {'source': 'H. Ōhashi, H. Nakazawa (1996)',\n",
       "   'target': 'R. Summons et al. (2011)'},\n",
       "  'classes': 'citation'},\n",
       " {'data': {'source': 'W. Brazelton et al. (2006)',\n",
       "   'target': 'R. Summons et al. (2011)'},\n",
       "  'classes': 'citation'},\n",
       " {'data': {'source': 'N. Sleep et al. (2004)',\n",
       "   'target': 'R. Summons et al. (2011)'},\n",
       "  'classes': 'citation'},\n",
       " {'data': {'source': 'S. Squyres et al. (2008)',\n",
       "   'target': 'R. Summons et al. (2011)'},\n",
       "  'classes': 'citation'},\n",
       " {'data': {'source': 'V. Krasnopolsky et al. (2004)',\n",
       "   'target': 'R. Summons et al. (2011)'},\n",
       "  'classes': 'citation'},\n",
       " {'data': {'source': 'L. Zaikowski et al. (2010)',\n",
       "   'target': 'R. Summons et al. (2011)'},\n",
       "  'classes': 'citation'},\n",
       " {'data': {'source': 'J. Bishop et al. (2008)',\n",
       "   'target': 'R. Summons et al. (2011)'},\n",
       "  'classes': 'citation'},\n",
       " {'data': {'source': 'E. Anders et al. (1973)',\n",
       "   'target': 'R. Summons et al. (2011)'},\n",
       "  'classes': 'citation'},\n",
       " {'data': {'source': 'L. Haskin et al. (2005)',\n",
       "   'target': 'R. Summons et al. (2011)'},\n",
       "  'classes': 'citation'},\n",
       " {'data': {'source': 'M. Walter (1996)', 'target': 'R. Summons et al. (2011)'},\n",
       "  'classes': 'citation'},\n",
       " {'data': {'source': 'S. E. Bramer (1998.0)',\n",
       "   'target': 'C. Weisbin et al. (2013)'},\n",
       "  'classes': 'citation'},\n",
       " {'data': {'source': 'R. Hites (nan)', 'target': 'C. Weisbin et al. (2013)'},\n",
       "  'classes': 'citation'},\n",
       " {'data': {'source': 'F. Grunthaner et al. (2012.0)',\n",
       "   'target': 'C. Weisbin et al. (2013)'},\n",
       "  'classes': 'citation'},\n",
       " {'data': {'source': 'R. Summons et al. (2011.0)',\n",
       "   'target': 'C. Weisbin et al. (2013)'},\n",
       "  'classes': 'citation'},\n",
       " {'data': {'source': 'A. Aubrey et al. (2008.0)',\n",
       "   'target': 'C. Weisbin et al. (2013)'},\n",
       "  'classes': 'citation'},\n",
       " {'data': {'source': 'E. J. Woodbury, W. K. Ng (1962.0)',\n",
       "   'target': 'C. Weisbin et al. (2013)'},\n",
       "  'classes': 'citation'},\n",
       " {'data': {'source': 'J. F. Carter, V. J. Barwick (2011.0)',\n",
       "   'target': 'C. Weisbin et al. (2013)'},\n",
       "  'classes': 'citation'},\n",
       " {'data': {'source': 'J. Grotzinger et al. (2014.0)',\n",
       "   'target': 'Joost W. Aerts et al. (2020)'},\n",
       "  'classes': 'citation'},\n",
       " {'data': {'source': 'M. Osterloo et al. (2008.0)',\n",
       "   'target': 'Joost W. Aerts et al. (2020)'},\n",
       "  'classes': 'citation'},\n",
       " {'data': {'source': 'G. Brass (1980.0)',\n",
       "   'target': 'Joost W. Aerts et al. (2020)'},\n",
       "  'classes': 'citation'},\n",
       " {'data': {'source': 'Marcel Martin (2011.0)',\n",
       "   'target': 'Joost W. Aerts et al. (2020)'},\n",
       "  'classes': 'citation'},\n",
       " {'data': {'source': 'B. Ehlmann et al. (2011.0)',\n",
       "   'target': 'Joost W. Aerts et al. (2020)'},\n",
       "  'classes': 'citation'},\n",
       " {'data': {'source': 'P. Franzmann et al. (1988.0)',\n",
       "   'target': 'Joost W. Aerts et al. (2020)'},\n",
       "  'classes': 'citation'},\n",
       " {'data': {'source': 'D. McDonald et al. (2012.0)',\n",
       "   'target': 'Joost W. Aerts et al. (2020)'},\n",
       "  'classes': 'citation'},\n",
       " {'data': {'source': 'G. Muyzer et al. (1993.0)',\n",
       "   'target': 'Joost W. Aerts et al. (2020)'},\n",
       "  'classes': 'citation'},\n",
       " {'data': {'source': 'O. Botta et al. (2004.0)',\n",
       "   'target': 'Joost W. Aerts et al. (2020)'},\n",
       "  'classes': 'citation'},\n",
       " {'data': {'source': 'I. A. Berger, R. Cooke (1997.0)',\n",
       "   'target': 'Joost W. Aerts et al. (2020)'},\n",
       "  'classes': 'citation'},\n",
       " {'data': {'source': 'D. Herlemann et al. (2011.0)',\n",
       "   'target': 'Joost W. Aerts et al. (2020)'},\n",
       "  'classes': 'citation'},\n",
       " {'data': {'source': 'G. E. Ericksen (1981.0)',\n",
       "   'target': 'Joost W. Aerts et al. (2020)'},\n",
       "  'classes': 'citation'},\n",
       " {'data': {'source': 'E. Lester et al. (2007.0)',\n",
       "   'target': 'Joost W. Aerts et al. (2020)'},\n",
       "  'classes': 'citation'},\n",
       " {'data': {'source': 'Joost W. Aerts et al. (2016.0)',\n",
       "   'target': 'Joost W. Aerts et al. (2020)'},\n",
       "  'classes': 'citation'},\n",
       " {'data': {'source': 'J. Bibring et al. (2006.0)',\n",
       "   'target': 'Joost W. Aerts et al. (2020)'},\n",
       "  'classes': 'citation'},\n",
       " {'data': {'source': 'J. Caporaso et al. (2009.0)',\n",
       "   'target': 'Joost W. Aerts et al. (2020)'},\n",
       "  'classes': 'citation'},\n",
       " {'data': {'source': 'N. Bokulich et al. (2012.0)',\n",
       "   'target': 'Joost W. Aerts et al. (2020)'},\n",
       "  'classes': 'citation'},\n",
       " {'data': {'source': 'S. Squyres et al. (2004.0)',\n",
       "   'target': 'Joost W. Aerts et al. (2020)'},\n",
       "  'classes': 'citation'},\n",
       " {'data': {'source': 'S. Murchie et al. (2009.0)',\n",
       "   'target': 'Joost W. Aerts et al. (2020)'},\n",
       "  'classes': 'citation'},\n",
       " {'data': {'source': 'W. M. Haynes (1990.0)',\n",
       "   'target': 'Joost W. Aerts et al. (2020)'},\n",
       "  'classes': 'citation'},\n",
       " {'data': {'source': 'J. Flahaut et al. (2015.0)',\n",
       "   'target': 'Joost W. Aerts et al. (2020)'},\n",
       "  'classes': 'citation'},\n",
       " {'data': {'source': 'J. Caporaso et al. (2010.0)',\n",
       "   'target': 'Joost W. Aerts et al. (2020)'},\n",
       "  'classes': 'citation'},\n",
       " {'data': {'source': 'B. Gómez-Silva et al. (2008.0)',\n",
       "   'target': 'Joost W. Aerts et al. (2020)'},\n",
       "  'classes': 'citation'},\n",
       " {'data': {'source': 'L. Kozlowski (2016.0)',\n",
       "   'target': 'Joost W. Aerts et al. (2020)'},\n",
       "  'classes': 'citation'},\n",
       " ...]"
      ]
     },
     "execution_count": 98,
     "metadata": {},
     "output_type": "execute_result"
    }
   ],
   "source": [
    "generate_graph_elements_network(all_references_df, results_df)"
   ]
  }
 ],
 "metadata": {
  "kernelspec": {
   "display_name": "Python 3",
   "language": "python",
   "name": "python3"
  },
  "language_info": {
   "codemirror_mode": {
    "name": "ipython",
    "version": 3
   },
   "file_extension": ".py",
   "mimetype": "text/x-python",
   "name": "python",
   "nbconvert_exporter": "python",
   "pygments_lexer": "ipython3",
   "version": "3.8.6"
  },
  "toc": {
   "base_numbering": 1,
   "nav_menu": {},
   "number_sections": true,
   "sideBar": true,
   "skip_h1_title": false,
   "title_cell": "Table of Contents",
   "title_sidebar": "Contents",
   "toc_cell": false,
   "toc_position": {},
   "toc_section_display": true,
   "toc_window_display": false
  }
 },
 "nbformat": 4,
 "nbformat_minor": 5
}
