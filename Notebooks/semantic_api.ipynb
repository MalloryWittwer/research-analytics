{
 "cells": [
  {
   "cell_type": "markdown",
   "id": "a624bda1",
   "metadata": {},
   "source": [
    "# Test `semantic_api()`"
   ]
  },
  {
   "cell_type": "code",
   "execution_count": 70,
   "id": "eb4ecf49",
   "metadata": {},
   "outputs": [
    {
     "name": "stdout",
     "output_type": "stream",
     "text": [
      "The autoreload extension is already loaded. To reload it, use:\n",
      "  %reload_ext autoreload\n"
     ]
    }
   ],
   "source": [
    "import pandas as pd\n",
    "import numpy as np\n",
    "import requests\n",
    "from datetime import date\n",
    "from collections import Counter\n",
    "\n",
    "from startupjh import utils\n",
    "from startupjh import plots\n",
    "from startupjh.data_collection import consolidated_df\n",
    "from startupjh.data_preprocessing import data_preprocess\n",
    "from startupjh.data_preprocessing import data_cleaning, data_enrichment\n",
    "from startupjh.data_collection import semantic_api\n",
    "\n",
    "import plotly.graph_objs as go\n",
    "import plotly.express as px\n",
    "\n",
    "%load_ext autoreload\n",
    "\n",
    "%autoreload 2"
   ]
  },
  {
   "cell_type": "markdown",
   "id": "8ff7423d",
   "metadata": {},
   "source": [
    "## Data collection for Semantic scholar"
   ]
  },
  {
   "cell_type": "code",
   "execution_count": 4,
   "id": "75add7ce",
   "metadata": {},
   "outputs": [
    {
     "name": "stdout",
     "output_type": "stream",
     "text": [
      "Enter key words: mars biosignature\n"
     ]
    }
   ],
   "source": [
    "results_df, all_references_df, total_results, query = semantic_api.get_all_results_from_semantic_scholar()"
   ]
  },
  {
   "cell_type": "code",
   "execution_count": 5,
   "id": "aec3c427",
   "metadata": {},
   "outputs": [
    {
     "data": {
      "text/html": [
       "<div>\n",
       "<style scoped>\n",
       "    .dataframe tbody tr th:only-of-type {\n",
       "        vertical-align: middle;\n",
       "    }\n",
       "\n",
       "    .dataframe tbody tr th {\n",
       "        vertical-align: top;\n",
       "    }\n",
       "\n",
       "    .dataframe thead th {\n",
       "        text-align: right;\n",
       "    }\n",
       "</style>\n",
       "<table border=\"1\" class=\"dataframe\">\n",
       "  <thead>\n",
       "    <tr style=\"text-align: right;\">\n",
       "      <th></th>\n",
       "      <th>paperId</th>\n",
       "      <th>url</th>\n",
       "      <th>title</th>\n",
       "      <th>abstract</th>\n",
       "      <th>venue</th>\n",
       "      <th>year</th>\n",
       "      <th>referenceCount</th>\n",
       "      <th>citationCount</th>\n",
       "      <th>influentialCitationCount</th>\n",
       "      <th>isOpenAccess</th>\n",
       "      <th>fieldsOfStudy</th>\n",
       "      <th>authors</th>\n",
       "      <th>reference</th>\n",
       "      <th>first_author_id</th>\n",
       "      <th>key_words</th>\n",
       "    </tr>\n",
       "  </thead>\n",
       "  <tbody>\n",
       "    <tr>\n",
       "      <th>0</th>\n",
       "      <td>1935abaebef93ceb4b18eaf67c12618a001b26bb</td>\n",
       "      <td>https://www.semanticscholar.org/paper/1935abae...</td>\n",
       "      <td>TRACING HOT-SPRING FACIES AND THEIR GEOTHERMAL...</td>\n",
       "      <td>TEXTURES INTO THE TERRESTRIAL GEOLOGIC RECORD:...</td>\n",
       "      <td></td>\n",
       "      <td>2016</td>\n",
       "      <td>0</td>\n",
       "      <td>1</td>\n",
       "      <td>1</td>\n",
       "      <td>False</td>\n",
       "      <td>None</td>\n",
       "      <td>[{'authorId': '4662741', 'name': 'K. Campbell'...</td>\n",
       "      <td>K. Campbell et al. (2016)</td>\n",
       "      <td>4662741</td>\n",
       "      <td>[tracing, hotspring, facies, geothermally, sil...</td>\n",
       "    </tr>\n",
       "    <tr>\n",
       "      <th>1</th>\n",
       "      <td>958b808c4e32488bf9f484c7de0b928ddfe94cff</td>\n",
       "      <td>https://www.semanticscholar.org/paper/958b808c...</td>\n",
       "      <td>Preservation of martian organic and environmen...</td>\n",
       "      <td>The Mars Science Laboratory (MSL) has an instr...</td>\n",
       "      <td>Astrobiology</td>\n",
       "      <td>2011</td>\n",
       "      <td>117</td>\n",
       "      <td>215</td>\n",
       "      <td>7</td>\n",
       "      <td>True</td>\n",
       "      <td>[Environmental Science, Medicine, Geology]</td>\n",
       "      <td>[{'authorId': '4945458', 'name': 'R. Summons'}...</td>\n",
       "      <td>R. Summons et al. (2011)</td>\n",
       "      <td>4945458</td>\n",
       "      <td>[preservation, martian, organic, environmental...</td>\n",
       "    </tr>\n",
       "    <tr>\n",
       "      <th>2</th>\n",
       "      <td>61d144bd68693abd0ceafd1275969e8596b8c34b</td>\n",
       "      <td>https://www.semanticscholar.org/paper/61d144bd...</td>\n",
       "      <td>Mars Biosignature - Detection Capabilities: A ...</td>\n",
       "      <td>A Mars sample-return mission has been proposed...</td>\n",
       "      <td></td>\n",
       "      <td>2013</td>\n",
       "      <td>7</td>\n",
       "      <td>3</td>\n",
       "      <td>0</td>\n",
       "      <td>True</td>\n",
       "      <td>[Environmental Science]</td>\n",
       "      <td>[{'authorId': '1751448', 'name': 'C. Weisbin'}...</td>\n",
       "      <td>C. Weisbin et al. (2013)</td>\n",
       "      <td>1751448</td>\n",
       "      <td>[mars, biosignature, detection, capabilities, ...</td>\n",
       "    </tr>\n",
       "    <tr>\n",
       "      <th>3</th>\n",
       "      <td>fc7a04d99ce2f9bc8a9c177e6a6cdbebe842641f</td>\n",
       "      <td>https://www.semanticscholar.org/paper/fc7a04d9...</td>\n",
       "      <td>Tracing Hot-Spring Facies and thier Geothermal...</td>\n",
       "      <td>None</td>\n",
       "      <td></td>\n",
       "      <td>2016</td>\n",
       "      <td>0</td>\n",
       "      <td>0</td>\n",
       "      <td>0</td>\n",
       "      <td>False</td>\n",
       "      <td>[Geology]</td>\n",
       "      <td>[{'authorId': '4662741', 'name': 'K. Campbell'...</td>\n",
       "      <td>K. Campbell et al. (2016)</td>\n",
       "      <td>4662741</td>\n",
       "      <td>[tracing, hotspring, facies, thier, geothermal...</td>\n",
       "    </tr>\n",
       "    <tr>\n",
       "      <th>4</th>\n",
       "      <td>f1376f87575a361568df4b3d891b5e6388519cfd</td>\n",
       "      <td>https://www.semanticscholar.org/paper/f1376f87...</td>\n",
       "      <td>Biosignature Analysis of Mars Soil Analogs fro...</td>\n",
       "      <td>The detection of biosignatures on Mars is of o...</td>\n",
       "      <td>Astrobiology</td>\n",
       "      <td>2020</td>\n",
       "      <td>90</td>\n",
       "      <td>6</td>\n",
       "      <td>0</td>\n",
       "      <td>True</td>\n",
       "      <td>[Medicine, Environmental Science]</td>\n",
       "      <td>[{'authorId': '32793236', 'name': 'Joost W. Ae...</td>\n",
       "      <td>Joost W. Aerts et al. (2020)</td>\n",
       "      <td>32793236</td>\n",
       "      <td>[biosignature, analysis, mars, soil, analogs, ...</td>\n",
       "    </tr>\n",
       "  </tbody>\n",
       "</table>\n",
       "</div>"
      ],
      "text/plain": [
       "                                    paperId  \\\n",
       "0  1935abaebef93ceb4b18eaf67c12618a001b26bb   \n",
       "1  958b808c4e32488bf9f484c7de0b928ddfe94cff   \n",
       "2  61d144bd68693abd0ceafd1275969e8596b8c34b   \n",
       "3  fc7a04d99ce2f9bc8a9c177e6a6cdbebe842641f   \n",
       "4  f1376f87575a361568df4b3d891b5e6388519cfd   \n",
       "\n",
       "                                                 url  \\\n",
       "0  https://www.semanticscholar.org/paper/1935abae...   \n",
       "1  https://www.semanticscholar.org/paper/958b808c...   \n",
       "2  https://www.semanticscholar.org/paper/61d144bd...   \n",
       "3  https://www.semanticscholar.org/paper/fc7a04d9...   \n",
       "4  https://www.semanticscholar.org/paper/f1376f87...   \n",
       "\n",
       "                                               title  \\\n",
       "0  TRACING HOT-SPRING FACIES AND THEIR GEOTHERMAL...   \n",
       "1  Preservation of martian organic and environmen...   \n",
       "2  Mars Biosignature - Detection Capabilities: A ...   \n",
       "3  Tracing Hot-Spring Facies and thier Geothermal...   \n",
       "4  Biosignature Analysis of Mars Soil Analogs fro...   \n",
       "\n",
       "                                            abstract         venue  year  \\\n",
       "0  TEXTURES INTO THE TERRESTRIAL GEOLOGIC RECORD:...                2016   \n",
       "1  The Mars Science Laboratory (MSL) has an instr...  Astrobiology  2011   \n",
       "2  A Mars sample-return mission has been proposed...                2013   \n",
       "3                                               None                2016   \n",
       "4  The detection of biosignatures on Mars is of o...  Astrobiology  2020   \n",
       "\n",
       "   referenceCount  citationCount  influentialCitationCount  isOpenAccess  \\\n",
       "0               0              1                         1         False   \n",
       "1             117            215                         7          True   \n",
       "2               7              3                         0          True   \n",
       "3               0              0                         0         False   \n",
       "4              90              6                         0          True   \n",
       "\n",
       "                                fieldsOfStudy  \\\n",
       "0                                        None   \n",
       "1  [Environmental Science, Medicine, Geology]   \n",
       "2                     [Environmental Science]   \n",
       "3                                   [Geology]   \n",
       "4           [Medicine, Environmental Science]   \n",
       "\n",
       "                                             authors  \\\n",
       "0  [{'authorId': '4662741', 'name': 'K. Campbell'...   \n",
       "1  [{'authorId': '4945458', 'name': 'R. Summons'}...   \n",
       "2  [{'authorId': '1751448', 'name': 'C. Weisbin'}...   \n",
       "3  [{'authorId': '4662741', 'name': 'K. Campbell'...   \n",
       "4  [{'authorId': '32793236', 'name': 'Joost W. Ae...   \n",
       "\n",
       "                      reference first_author_id  \\\n",
       "0     K. Campbell et al. (2016)         4662741   \n",
       "1      R. Summons et al. (2011)         4945458   \n",
       "2      C. Weisbin et al. (2013)         1751448   \n",
       "3     K. Campbell et al. (2016)         4662741   \n",
       "4  Joost W. Aerts et al. (2020)        32793236   \n",
       "\n",
       "                                           key_words  \n",
       "0  [tracing, hotspring, facies, geothermally, sil...  \n",
       "1  [preservation, martian, organic, environmental...  \n",
       "2  [mars, biosignature, detection, capabilities, ...  \n",
       "3  [tracing, hotspring, facies, thier, geothermal...  \n",
       "4  [biosignature, analysis, mars, soil, analogs, ...  "
      ]
     },
     "execution_count": 5,
     "metadata": {},
     "output_type": "execute_result"
    }
   ],
   "source": [
    "results_df.head()"
   ]
  },
  {
   "cell_type": "markdown",
   "id": "9a8c5563",
   "metadata": {},
   "source": [
    "## Data visualization for Semantic scholar"
   ]
  },
  {
   "cell_type": "markdown",
   "id": "47dd7139",
   "metadata": {
    "heading_collapsed": true
   },
   "source": [
    "### Basic plots"
   ]
  },
  {
   "cell_type": "code",
   "execution_count": 64,
   "id": "bf8d8759",
   "metadata": {
    "hidden": true
   },
   "outputs": [
    {
     "data": {
      "application/vnd.plotly.v1+json": {
       "config": {
        "plotlyServerURL": "https://plot.ly"
       },
       "data": [
        {
         "customdata": [
          [
           false
          ],
          [
           true
          ]
         ],
         "domain": {
          "x": [
           0,
           1
          ],
          "y": [
           0,
           1
          ]
         },
         "hovertemplate": "isOpenAccess=%{customdata[0]}<br>title=%{value}<extra></extra>",
         "labels": [
          false,
          true
         ],
         "legendgroup": "",
         "marker": {
          "colors": [
           "#ab63fa",
           "#FFA15A"
          ]
         },
         "name": "",
         "showlegend": true,
         "type": "pie",
         "values": [
          19,
          11
         ]
        }
       ],
       "layout": {
        "font": {
         "color": "white",
         "family": "Courier New, monospace",
         "size": 14
        },
        "legend": {
         "tracegroupgap": 0
        },
        "margin": {
         "t": 60
        },
        "paper_bgcolor": "#101126",
        "plot_bgcolor": "#101126",
        "template": {
         "data": {
          "bar": [
           {
            "error_x": {
             "color": "#2a3f5f"
            },
            "error_y": {
             "color": "#2a3f5f"
            },
            "marker": {
             "line": {
              "color": "#E5ECF6",
              "width": 0.5
             }
            },
            "type": "bar"
           }
          ],
          "barpolar": [
           {
            "marker": {
             "line": {
              "color": "#E5ECF6",
              "width": 0.5
             }
            },
            "type": "barpolar"
           }
          ],
          "carpet": [
           {
            "aaxis": {
             "endlinecolor": "#2a3f5f",
             "gridcolor": "white",
             "linecolor": "white",
             "minorgridcolor": "white",
             "startlinecolor": "#2a3f5f"
            },
            "baxis": {
             "endlinecolor": "#2a3f5f",
             "gridcolor": "white",
             "linecolor": "white",
             "minorgridcolor": "white",
             "startlinecolor": "#2a3f5f"
            },
            "type": "carpet"
           }
          ],
          "choropleth": [
           {
            "colorbar": {
             "outlinewidth": 0,
             "ticks": ""
            },
            "type": "choropleth"
           }
          ],
          "contour": [
           {
            "colorbar": {
             "outlinewidth": 0,
             "ticks": ""
            },
            "colorscale": [
             [
              0,
              "#0d0887"
             ],
             [
              0.1111111111111111,
              "#46039f"
             ],
             [
              0.2222222222222222,
              "#7201a8"
             ],
             [
              0.3333333333333333,
              "#9c179e"
             ],
             [
              0.4444444444444444,
              "#bd3786"
             ],
             [
              0.5555555555555556,
              "#d8576b"
             ],
             [
              0.6666666666666666,
              "#ed7953"
             ],
             [
              0.7777777777777778,
              "#fb9f3a"
             ],
             [
              0.8888888888888888,
              "#fdca26"
             ],
             [
              1,
              "#f0f921"
             ]
            ],
            "type": "contour"
           }
          ],
          "contourcarpet": [
           {
            "colorbar": {
             "outlinewidth": 0,
             "ticks": ""
            },
            "type": "contourcarpet"
           }
          ],
          "heatmap": [
           {
            "colorbar": {
             "outlinewidth": 0,
             "ticks": ""
            },
            "colorscale": [
             [
              0,
              "#0d0887"
             ],
             [
              0.1111111111111111,
              "#46039f"
             ],
             [
              0.2222222222222222,
              "#7201a8"
             ],
             [
              0.3333333333333333,
              "#9c179e"
             ],
             [
              0.4444444444444444,
              "#bd3786"
             ],
             [
              0.5555555555555556,
              "#d8576b"
             ],
             [
              0.6666666666666666,
              "#ed7953"
             ],
             [
              0.7777777777777778,
              "#fb9f3a"
             ],
             [
              0.8888888888888888,
              "#fdca26"
             ],
             [
              1,
              "#f0f921"
             ]
            ],
            "type": "heatmap"
           }
          ],
          "heatmapgl": [
           {
            "colorbar": {
             "outlinewidth": 0,
             "ticks": ""
            },
            "colorscale": [
             [
              0,
              "#0d0887"
             ],
             [
              0.1111111111111111,
              "#46039f"
             ],
             [
              0.2222222222222222,
              "#7201a8"
             ],
             [
              0.3333333333333333,
              "#9c179e"
             ],
             [
              0.4444444444444444,
              "#bd3786"
             ],
             [
              0.5555555555555556,
              "#d8576b"
             ],
             [
              0.6666666666666666,
              "#ed7953"
             ],
             [
              0.7777777777777778,
              "#fb9f3a"
             ],
             [
              0.8888888888888888,
              "#fdca26"
             ],
             [
              1,
              "#f0f921"
             ]
            ],
            "type": "heatmapgl"
           }
          ],
          "histogram": [
           {
            "marker": {
             "colorbar": {
              "outlinewidth": 0,
              "ticks": ""
             }
            },
            "type": "histogram"
           }
          ],
          "histogram2d": [
           {
            "colorbar": {
             "outlinewidth": 0,
             "ticks": ""
            },
            "colorscale": [
             [
              0,
              "#0d0887"
             ],
             [
              0.1111111111111111,
              "#46039f"
             ],
             [
              0.2222222222222222,
              "#7201a8"
             ],
             [
              0.3333333333333333,
              "#9c179e"
             ],
             [
              0.4444444444444444,
              "#bd3786"
             ],
             [
              0.5555555555555556,
              "#d8576b"
             ],
             [
              0.6666666666666666,
              "#ed7953"
             ],
             [
              0.7777777777777778,
              "#fb9f3a"
             ],
             [
              0.8888888888888888,
              "#fdca26"
             ],
             [
              1,
              "#f0f921"
             ]
            ],
            "type": "histogram2d"
           }
          ],
          "histogram2dcontour": [
           {
            "colorbar": {
             "outlinewidth": 0,
             "ticks": ""
            },
            "colorscale": [
             [
              0,
              "#0d0887"
             ],
             [
              0.1111111111111111,
              "#46039f"
             ],
             [
              0.2222222222222222,
              "#7201a8"
             ],
             [
              0.3333333333333333,
              "#9c179e"
             ],
             [
              0.4444444444444444,
              "#bd3786"
             ],
             [
              0.5555555555555556,
              "#d8576b"
             ],
             [
              0.6666666666666666,
              "#ed7953"
             ],
             [
              0.7777777777777778,
              "#fb9f3a"
             ],
             [
              0.8888888888888888,
              "#fdca26"
             ],
             [
              1,
              "#f0f921"
             ]
            ],
            "type": "histogram2dcontour"
           }
          ],
          "mesh3d": [
           {
            "colorbar": {
             "outlinewidth": 0,
             "ticks": ""
            },
            "type": "mesh3d"
           }
          ],
          "parcoords": [
           {
            "line": {
             "colorbar": {
              "outlinewidth": 0,
              "ticks": ""
             }
            },
            "type": "parcoords"
           }
          ],
          "pie": [
           {
            "automargin": true,
            "type": "pie"
           }
          ],
          "scatter": [
           {
            "marker": {
             "colorbar": {
              "outlinewidth": 0,
              "ticks": ""
             }
            },
            "type": "scatter"
           }
          ],
          "scatter3d": [
           {
            "line": {
             "colorbar": {
              "outlinewidth": 0,
              "ticks": ""
             }
            },
            "marker": {
             "colorbar": {
              "outlinewidth": 0,
              "ticks": ""
             }
            },
            "type": "scatter3d"
           }
          ],
          "scattercarpet": [
           {
            "marker": {
             "colorbar": {
              "outlinewidth": 0,
              "ticks": ""
             }
            },
            "type": "scattercarpet"
           }
          ],
          "scattergeo": [
           {
            "marker": {
             "colorbar": {
              "outlinewidth": 0,
              "ticks": ""
             }
            },
            "type": "scattergeo"
           }
          ],
          "scattergl": [
           {
            "marker": {
             "colorbar": {
              "outlinewidth": 0,
              "ticks": ""
             }
            },
            "type": "scattergl"
           }
          ],
          "scattermapbox": [
           {
            "marker": {
             "colorbar": {
              "outlinewidth": 0,
              "ticks": ""
             }
            },
            "type": "scattermapbox"
           }
          ],
          "scatterpolar": [
           {
            "marker": {
             "colorbar": {
              "outlinewidth": 0,
              "ticks": ""
             }
            },
            "type": "scatterpolar"
           }
          ],
          "scatterpolargl": [
           {
            "marker": {
             "colorbar": {
              "outlinewidth": 0,
              "ticks": ""
             }
            },
            "type": "scatterpolargl"
           }
          ],
          "scatterternary": [
           {
            "marker": {
             "colorbar": {
              "outlinewidth": 0,
              "ticks": ""
             }
            },
            "type": "scatterternary"
           }
          ],
          "surface": [
           {
            "colorbar": {
             "outlinewidth": 0,
             "ticks": ""
            },
            "colorscale": [
             [
              0,
              "#0d0887"
             ],
             [
              0.1111111111111111,
              "#46039f"
             ],
             [
              0.2222222222222222,
              "#7201a8"
             ],
             [
              0.3333333333333333,
              "#9c179e"
             ],
             [
              0.4444444444444444,
              "#bd3786"
             ],
             [
              0.5555555555555556,
              "#d8576b"
             ],
             [
              0.6666666666666666,
              "#ed7953"
             ],
             [
              0.7777777777777778,
              "#fb9f3a"
             ],
             [
              0.8888888888888888,
              "#fdca26"
             ],
             [
              1,
              "#f0f921"
             ]
            ],
            "type": "surface"
           }
          ],
          "table": [
           {
            "cells": {
             "fill": {
              "color": "#EBF0F8"
             },
             "line": {
              "color": "white"
             }
            },
            "header": {
             "fill": {
              "color": "#C8D4E3"
             },
             "line": {
              "color": "white"
             }
            },
            "type": "table"
           }
          ]
         },
         "layout": {
          "annotationdefaults": {
           "arrowcolor": "#2a3f5f",
           "arrowhead": 0,
           "arrowwidth": 1
          },
          "autotypenumbers": "strict",
          "coloraxis": {
           "colorbar": {
            "outlinewidth": 0,
            "ticks": ""
           }
          },
          "colorscale": {
           "diverging": [
            [
             0,
             "#8e0152"
            ],
            [
             0.1,
             "#c51b7d"
            ],
            [
             0.2,
             "#de77ae"
            ],
            [
             0.3,
             "#f1b6da"
            ],
            [
             0.4,
             "#fde0ef"
            ],
            [
             0.5,
             "#f7f7f7"
            ],
            [
             0.6,
             "#e6f5d0"
            ],
            [
             0.7,
             "#b8e186"
            ],
            [
             0.8,
             "#7fbc41"
            ],
            [
             0.9,
             "#4d9221"
            ],
            [
             1,
             "#276419"
            ]
           ],
           "sequential": [
            [
             0,
             "#0d0887"
            ],
            [
             0.1111111111111111,
             "#46039f"
            ],
            [
             0.2222222222222222,
             "#7201a8"
            ],
            [
             0.3333333333333333,
             "#9c179e"
            ],
            [
             0.4444444444444444,
             "#bd3786"
            ],
            [
             0.5555555555555556,
             "#d8576b"
            ],
            [
             0.6666666666666666,
             "#ed7953"
            ],
            [
             0.7777777777777778,
             "#fb9f3a"
            ],
            [
             0.8888888888888888,
             "#fdca26"
            ],
            [
             1,
             "#f0f921"
            ]
           ],
           "sequentialminus": [
            [
             0,
             "#0d0887"
            ],
            [
             0.1111111111111111,
             "#46039f"
            ],
            [
             0.2222222222222222,
             "#7201a8"
            ],
            [
             0.3333333333333333,
             "#9c179e"
            ],
            [
             0.4444444444444444,
             "#bd3786"
            ],
            [
             0.5555555555555556,
             "#d8576b"
            ],
            [
             0.6666666666666666,
             "#ed7953"
            ],
            [
             0.7777777777777778,
             "#fb9f3a"
            ],
            [
             0.8888888888888888,
             "#fdca26"
            ],
            [
             1,
             "#f0f921"
            ]
           ]
          },
          "colorway": [
           "#636efa",
           "#EF553B",
           "#00cc96",
           "#ab63fa",
           "#FFA15A",
           "#19d3f3",
           "#FF6692",
           "#B6E880",
           "#FF97FF",
           "#FECB52"
          ],
          "font": {
           "color": "#2a3f5f"
          },
          "geo": {
           "bgcolor": "white",
           "lakecolor": "white",
           "landcolor": "#E5ECF6",
           "showlakes": true,
           "showland": true,
           "subunitcolor": "white"
          },
          "hoverlabel": {
           "align": "left"
          },
          "hovermode": "closest",
          "mapbox": {
           "style": "light"
          },
          "paper_bgcolor": "white",
          "plot_bgcolor": "#E5ECF6",
          "polar": {
           "angularaxis": {
            "gridcolor": "white",
            "linecolor": "white",
            "ticks": ""
           },
           "bgcolor": "#E5ECF6",
           "radialaxis": {
            "gridcolor": "white",
            "linecolor": "white",
            "ticks": ""
           }
          },
          "scene": {
           "xaxis": {
            "backgroundcolor": "#E5ECF6",
            "gridcolor": "white",
            "gridwidth": 2,
            "linecolor": "white",
            "showbackground": true,
            "ticks": "",
            "zerolinecolor": "white"
           },
           "yaxis": {
            "backgroundcolor": "#E5ECF6",
            "gridcolor": "white",
            "gridwidth": 2,
            "linecolor": "white",
            "showbackground": true,
            "ticks": "",
            "zerolinecolor": "white"
           },
           "zaxis": {
            "backgroundcolor": "#E5ECF6",
            "gridcolor": "white",
            "gridwidth": 2,
            "linecolor": "white",
            "showbackground": true,
            "ticks": "",
            "zerolinecolor": "white"
           }
          },
          "shapedefaults": {
           "line": {
            "color": "#2a3f5f"
           }
          },
          "ternary": {
           "aaxis": {
            "gridcolor": "white",
            "linecolor": "white",
            "ticks": ""
           },
           "baxis": {
            "gridcolor": "white",
            "linecolor": "white",
            "ticks": ""
           },
           "bgcolor": "#E5ECF6",
           "caxis": {
            "gridcolor": "white",
            "linecolor": "white",
            "ticks": ""
           }
          },
          "title": {
           "x": 0.05
          },
          "xaxis": {
           "automargin": true,
           "gridcolor": "white",
           "linecolor": "white",
           "ticks": "",
           "title": {
            "standoff": 15
           },
           "zerolinecolor": "white",
           "zerolinewidth": 2
          },
          "yaxis": {
           "automargin": true,
           "gridcolor": "white",
           "linecolor": "white",
           "ticks": "",
           "title": {
            "standoff": 15
           },
           "zerolinecolor": "white",
           "zerolinewidth": 2
          }
         }
        },
        "title": {
         "text": "<span style='font-size: 22px;'><b>Open access publications<b></span>",
         "x": 0.5
        }
       }
      },
      "text/html": [
       "<div>                            <div id=\"1f48e3c5-2761-4a1f-a0cc-ec26ff562890\" class=\"plotly-graph-div\" style=\"height:525px; width:100%;\"></div>            <script type=\"text/javascript\">                require([\"plotly\"], function(Plotly) {                    window.PLOTLYENV=window.PLOTLYENV || {};                                    if (document.getElementById(\"1f48e3c5-2761-4a1f-a0cc-ec26ff562890\")) {                    Plotly.newPlot(                        \"1f48e3c5-2761-4a1f-a0cc-ec26ff562890\",                        [{\"customdata\": [[false], [true]], \"domain\": {\"x\": [0.0, 1.0], \"y\": [0.0, 1.0]}, \"hovertemplate\": \"isOpenAccess=%{customdata[0]}<br>title=%{value}<extra></extra>\", \"labels\": [false, true], \"legendgroup\": \"\", \"marker\": {\"colors\": [\"#ab63fa\", \"#FFA15A\"]}, \"name\": \"\", \"showlegend\": true, \"type\": \"pie\", \"values\": [19, 11]}],                        {\"font\": {\"color\": \"white\", \"family\": \"Courier New, monospace\", \"size\": 14}, \"legend\": {\"tracegroupgap\": 0}, \"margin\": {\"t\": 60}, \"paper_bgcolor\": \"#101126\", \"plot_bgcolor\": \"#101126\", \"template\": {\"data\": {\"bar\": [{\"error_x\": {\"color\": \"#2a3f5f\"}, \"error_y\": {\"color\": \"#2a3f5f\"}, \"marker\": {\"line\": {\"color\": \"#E5ECF6\", \"width\": 0.5}}, \"type\": \"bar\"}], \"barpolar\": [{\"marker\": {\"line\": {\"color\": \"#E5ECF6\", \"width\": 0.5}}, \"type\": \"barpolar\"}], \"carpet\": [{\"aaxis\": {\"endlinecolor\": \"#2a3f5f\", \"gridcolor\": \"white\", \"linecolor\": \"white\", \"minorgridcolor\": \"white\", \"startlinecolor\": \"#2a3f5f\"}, \"baxis\": {\"endlinecolor\": \"#2a3f5f\", \"gridcolor\": \"white\", \"linecolor\": \"white\", \"minorgridcolor\": \"white\", \"startlinecolor\": \"#2a3f5f\"}, \"type\": \"carpet\"}], \"choropleth\": [{\"colorbar\": {\"outlinewidth\": 0, \"ticks\": \"\"}, \"type\": \"choropleth\"}], \"contour\": [{\"colorbar\": {\"outlinewidth\": 0, \"ticks\": \"\"}, \"colorscale\": [[0.0, \"#0d0887\"], [0.1111111111111111, \"#46039f\"], [0.2222222222222222, \"#7201a8\"], [0.3333333333333333, \"#9c179e\"], [0.4444444444444444, \"#bd3786\"], [0.5555555555555556, \"#d8576b\"], [0.6666666666666666, \"#ed7953\"], [0.7777777777777778, \"#fb9f3a\"], [0.8888888888888888, \"#fdca26\"], [1.0, \"#f0f921\"]], \"type\": \"contour\"}], \"contourcarpet\": [{\"colorbar\": {\"outlinewidth\": 0, \"ticks\": \"\"}, \"type\": \"contourcarpet\"}], \"heatmap\": [{\"colorbar\": {\"outlinewidth\": 0, \"ticks\": \"\"}, \"colorscale\": [[0.0, \"#0d0887\"], [0.1111111111111111, \"#46039f\"], [0.2222222222222222, \"#7201a8\"], [0.3333333333333333, \"#9c179e\"], [0.4444444444444444, \"#bd3786\"], [0.5555555555555556, \"#d8576b\"], [0.6666666666666666, \"#ed7953\"], [0.7777777777777778, \"#fb9f3a\"], [0.8888888888888888, \"#fdca26\"], [1.0, \"#f0f921\"]], \"type\": \"heatmap\"}], \"heatmapgl\": [{\"colorbar\": {\"outlinewidth\": 0, \"ticks\": \"\"}, \"colorscale\": [[0.0, \"#0d0887\"], [0.1111111111111111, \"#46039f\"], [0.2222222222222222, \"#7201a8\"], [0.3333333333333333, \"#9c179e\"], [0.4444444444444444, \"#bd3786\"], [0.5555555555555556, \"#d8576b\"], [0.6666666666666666, \"#ed7953\"], [0.7777777777777778, \"#fb9f3a\"], [0.8888888888888888, \"#fdca26\"], [1.0, \"#f0f921\"]], \"type\": \"heatmapgl\"}], \"histogram\": [{\"marker\": {\"colorbar\": {\"outlinewidth\": 0, \"ticks\": \"\"}}, \"type\": \"histogram\"}], \"histogram2d\": [{\"colorbar\": {\"outlinewidth\": 0, \"ticks\": \"\"}, \"colorscale\": [[0.0, \"#0d0887\"], [0.1111111111111111, \"#46039f\"], [0.2222222222222222, \"#7201a8\"], [0.3333333333333333, \"#9c179e\"], [0.4444444444444444, \"#bd3786\"], [0.5555555555555556, \"#d8576b\"], [0.6666666666666666, \"#ed7953\"], [0.7777777777777778, \"#fb9f3a\"], [0.8888888888888888, \"#fdca26\"], [1.0, \"#f0f921\"]], \"type\": \"histogram2d\"}], \"histogram2dcontour\": [{\"colorbar\": {\"outlinewidth\": 0, \"ticks\": \"\"}, \"colorscale\": [[0.0, \"#0d0887\"], [0.1111111111111111, \"#46039f\"], [0.2222222222222222, \"#7201a8\"], [0.3333333333333333, \"#9c179e\"], [0.4444444444444444, \"#bd3786\"], [0.5555555555555556, \"#d8576b\"], [0.6666666666666666, \"#ed7953\"], [0.7777777777777778, \"#fb9f3a\"], [0.8888888888888888, \"#fdca26\"], [1.0, \"#f0f921\"]], \"type\": \"histogram2dcontour\"}], \"mesh3d\": [{\"colorbar\": {\"outlinewidth\": 0, \"ticks\": \"\"}, \"type\": \"mesh3d\"}], \"parcoords\": [{\"line\": {\"colorbar\": {\"outlinewidth\": 0, \"ticks\": \"\"}}, \"type\": \"parcoords\"}], \"pie\": [{\"automargin\": true, \"type\": \"pie\"}], \"scatter\": [{\"marker\": {\"colorbar\": {\"outlinewidth\": 0, \"ticks\": \"\"}}, \"type\": \"scatter\"}], \"scatter3d\": [{\"line\": {\"colorbar\": {\"outlinewidth\": 0, \"ticks\": \"\"}}, \"marker\": {\"colorbar\": {\"outlinewidth\": 0, \"ticks\": \"\"}}, \"type\": \"scatter3d\"}], \"scattercarpet\": [{\"marker\": {\"colorbar\": {\"outlinewidth\": 0, \"ticks\": \"\"}}, \"type\": \"scattercarpet\"}], \"scattergeo\": [{\"marker\": {\"colorbar\": {\"outlinewidth\": 0, \"ticks\": \"\"}}, \"type\": \"scattergeo\"}], \"scattergl\": [{\"marker\": {\"colorbar\": {\"outlinewidth\": 0, \"ticks\": \"\"}}, \"type\": \"scattergl\"}], \"scattermapbox\": [{\"marker\": {\"colorbar\": {\"outlinewidth\": 0, \"ticks\": \"\"}}, \"type\": \"scattermapbox\"}], \"scatterpolar\": [{\"marker\": {\"colorbar\": {\"outlinewidth\": 0, \"ticks\": \"\"}}, \"type\": \"scatterpolar\"}], \"scatterpolargl\": [{\"marker\": {\"colorbar\": {\"outlinewidth\": 0, \"ticks\": \"\"}}, \"type\": \"scatterpolargl\"}], \"scatterternary\": [{\"marker\": {\"colorbar\": {\"outlinewidth\": 0, \"ticks\": \"\"}}, \"type\": \"scatterternary\"}], \"surface\": [{\"colorbar\": {\"outlinewidth\": 0, \"ticks\": \"\"}, \"colorscale\": [[0.0, \"#0d0887\"], [0.1111111111111111, \"#46039f\"], [0.2222222222222222, \"#7201a8\"], [0.3333333333333333, \"#9c179e\"], [0.4444444444444444, \"#bd3786\"], [0.5555555555555556, \"#d8576b\"], [0.6666666666666666, \"#ed7953\"], [0.7777777777777778, \"#fb9f3a\"], [0.8888888888888888, \"#fdca26\"], [1.0, \"#f0f921\"]], \"type\": \"surface\"}], \"table\": [{\"cells\": {\"fill\": {\"color\": \"#EBF0F8\"}, \"line\": {\"color\": \"white\"}}, \"header\": {\"fill\": {\"color\": \"#C8D4E3\"}, \"line\": {\"color\": \"white\"}}, \"type\": \"table\"}]}, \"layout\": {\"annotationdefaults\": {\"arrowcolor\": \"#2a3f5f\", \"arrowhead\": 0, \"arrowwidth\": 1}, \"autotypenumbers\": \"strict\", \"coloraxis\": {\"colorbar\": {\"outlinewidth\": 0, \"ticks\": \"\"}}, \"colorscale\": {\"diverging\": [[0, \"#8e0152\"], [0.1, \"#c51b7d\"], [0.2, \"#de77ae\"], [0.3, \"#f1b6da\"], [0.4, \"#fde0ef\"], [0.5, \"#f7f7f7\"], [0.6, \"#e6f5d0\"], [0.7, \"#b8e186\"], [0.8, \"#7fbc41\"], [0.9, \"#4d9221\"], [1, \"#276419\"]], \"sequential\": [[0.0, \"#0d0887\"], [0.1111111111111111, \"#46039f\"], [0.2222222222222222, \"#7201a8\"], [0.3333333333333333, \"#9c179e\"], [0.4444444444444444, \"#bd3786\"], [0.5555555555555556, \"#d8576b\"], [0.6666666666666666, \"#ed7953\"], [0.7777777777777778, \"#fb9f3a\"], [0.8888888888888888, \"#fdca26\"], [1.0, \"#f0f921\"]], \"sequentialminus\": [[0.0, \"#0d0887\"], [0.1111111111111111, \"#46039f\"], [0.2222222222222222, \"#7201a8\"], [0.3333333333333333, \"#9c179e\"], [0.4444444444444444, \"#bd3786\"], [0.5555555555555556, \"#d8576b\"], [0.6666666666666666, \"#ed7953\"], [0.7777777777777778, \"#fb9f3a\"], [0.8888888888888888, \"#fdca26\"], [1.0, \"#f0f921\"]]}, \"colorway\": [\"#636efa\", \"#EF553B\", \"#00cc96\", \"#ab63fa\", \"#FFA15A\", \"#19d3f3\", \"#FF6692\", \"#B6E880\", \"#FF97FF\", \"#FECB52\"], \"font\": {\"color\": \"#2a3f5f\"}, \"geo\": {\"bgcolor\": \"white\", \"lakecolor\": \"white\", \"landcolor\": \"#E5ECF6\", \"showlakes\": true, \"showland\": true, \"subunitcolor\": \"white\"}, \"hoverlabel\": {\"align\": \"left\"}, \"hovermode\": \"closest\", \"mapbox\": {\"style\": \"light\"}, \"paper_bgcolor\": \"white\", \"plot_bgcolor\": \"#E5ECF6\", \"polar\": {\"angularaxis\": {\"gridcolor\": \"white\", \"linecolor\": \"white\", \"ticks\": \"\"}, \"bgcolor\": \"#E5ECF6\", \"radialaxis\": {\"gridcolor\": \"white\", \"linecolor\": \"white\", \"ticks\": \"\"}}, \"scene\": {\"xaxis\": {\"backgroundcolor\": \"#E5ECF6\", \"gridcolor\": \"white\", \"gridwidth\": 2, \"linecolor\": \"white\", \"showbackground\": true, \"ticks\": \"\", \"zerolinecolor\": \"white\"}, \"yaxis\": {\"backgroundcolor\": \"#E5ECF6\", \"gridcolor\": \"white\", \"gridwidth\": 2, \"linecolor\": \"white\", \"showbackground\": true, \"ticks\": \"\", \"zerolinecolor\": \"white\"}, \"zaxis\": {\"backgroundcolor\": \"#E5ECF6\", \"gridcolor\": \"white\", \"gridwidth\": 2, \"linecolor\": \"white\", \"showbackground\": true, \"ticks\": \"\", \"zerolinecolor\": \"white\"}}, \"shapedefaults\": {\"line\": {\"color\": \"#2a3f5f\"}}, \"ternary\": {\"aaxis\": {\"gridcolor\": \"white\", \"linecolor\": \"white\", \"ticks\": \"\"}, \"baxis\": {\"gridcolor\": \"white\", \"linecolor\": \"white\", \"ticks\": \"\"}, \"bgcolor\": \"#E5ECF6\", \"caxis\": {\"gridcolor\": \"white\", \"linecolor\": \"white\", \"ticks\": \"\"}}, \"title\": {\"x\": 0.05}, \"xaxis\": {\"automargin\": true, \"gridcolor\": \"white\", \"linecolor\": \"white\", \"ticks\": \"\", \"title\": {\"standoff\": 15}, \"zerolinecolor\": \"white\", \"zerolinewidth\": 2}, \"yaxis\": {\"automargin\": true, \"gridcolor\": \"white\", \"linecolor\": \"white\", \"ticks\": \"\", \"title\": {\"standoff\": 15}, \"zerolinecolor\": \"white\", \"zerolinewidth\": 2}}}, \"title\": {\"text\": \"<span style='font-size: 22px;'><b>Open access publications<b></span>\", \"x\": 0.5}},                        {\"responsive\": true}                    ).then(function(){\n",
       "                            \n",
       "var gd = document.getElementById('1f48e3c5-2761-4a1f-a0cc-ec26ff562890');\n",
       "var x = new MutationObserver(function (mutations, observer) {{\n",
       "        var display = window.getComputedStyle(gd).display;\n",
       "        if (!display || display === 'none') {{\n",
       "            console.log([gd, 'removed!']);\n",
       "            Plotly.purge(gd);\n",
       "            observer.disconnect();\n",
       "        }}\n",
       "}});\n",
       "\n",
       "// Listen for the removal of the full notebook cells\n",
       "var notebookContainer = gd.closest('#notebook-container');\n",
       "if (notebookContainer) {{\n",
       "    x.observe(notebookContainer, {childList: true});\n",
       "}}\n",
       "\n",
       "// Listen for the clearing of the current output cell\n",
       "var outputEl = gd.closest('.output');\n",
       "if (outputEl) {{\n",
       "    x.observe(outputEl, {childList: true});\n",
       "}}\n",
       "\n",
       "                        })                };                });            </script>        </div>"
      ]
     },
     "metadata": {},
     "output_type": "display_data"
    }
   ],
   "source": [
    "plots.make_access_pie(results_df, 'semantic_scholar')"
   ]
  },
  {
   "cell_type": "code",
   "execution_count": 65,
   "id": "98e761a7",
   "metadata": {
    "hidden": true
   },
   "outputs": [
    {
     "data": {
      "application/vnd.plotly.v1+json": {
       "config": {
        "plotlyServerURL": "https://plot.ly"
       },
       "data": [
        {
         "marker": {
          "color": "#eda109"
         },
         "textangle": 0,
         "textposition": "outside",
         "texttemplate": "%{y}",
         "type": "bar",
         "x": [
          2011,
          2013,
          2014,
          2015,
          2016,
          2017,
          2018,
          2019,
          2020,
          2021
         ],
         "y": [
          1,
          2,
          1,
          1,
          6,
          4,
          8,
          2,
          4,
          1
         ]
        }
       ],
       "layout": {
        "font": {
         "color": "white",
         "family": "Courier New, monospace",
         "size": 12
        },
        "paper_bgcolor": "#101126",
        "plot_bgcolor": "#101126",
        "template": {
         "data": {
          "bar": [
           {
            "error_x": {
             "color": "#2a3f5f"
            },
            "error_y": {
             "color": "#2a3f5f"
            },
            "marker": {
             "line": {
              "color": "#E5ECF6",
              "width": 0.5
             }
            },
            "type": "bar"
           }
          ],
          "barpolar": [
           {
            "marker": {
             "line": {
              "color": "#E5ECF6",
              "width": 0.5
             }
            },
            "type": "barpolar"
           }
          ],
          "carpet": [
           {
            "aaxis": {
             "endlinecolor": "#2a3f5f",
             "gridcolor": "white",
             "linecolor": "white",
             "minorgridcolor": "white",
             "startlinecolor": "#2a3f5f"
            },
            "baxis": {
             "endlinecolor": "#2a3f5f",
             "gridcolor": "white",
             "linecolor": "white",
             "minorgridcolor": "white",
             "startlinecolor": "#2a3f5f"
            },
            "type": "carpet"
           }
          ],
          "choropleth": [
           {
            "colorbar": {
             "outlinewidth": 0,
             "ticks": ""
            },
            "type": "choropleth"
           }
          ],
          "contour": [
           {
            "colorbar": {
             "outlinewidth": 0,
             "ticks": ""
            },
            "colorscale": [
             [
              0,
              "#0d0887"
             ],
             [
              0.1111111111111111,
              "#46039f"
             ],
             [
              0.2222222222222222,
              "#7201a8"
             ],
             [
              0.3333333333333333,
              "#9c179e"
             ],
             [
              0.4444444444444444,
              "#bd3786"
             ],
             [
              0.5555555555555556,
              "#d8576b"
             ],
             [
              0.6666666666666666,
              "#ed7953"
             ],
             [
              0.7777777777777778,
              "#fb9f3a"
             ],
             [
              0.8888888888888888,
              "#fdca26"
             ],
             [
              1,
              "#f0f921"
             ]
            ],
            "type": "contour"
           }
          ],
          "contourcarpet": [
           {
            "colorbar": {
             "outlinewidth": 0,
             "ticks": ""
            },
            "type": "contourcarpet"
           }
          ],
          "heatmap": [
           {
            "colorbar": {
             "outlinewidth": 0,
             "ticks": ""
            },
            "colorscale": [
             [
              0,
              "#0d0887"
             ],
             [
              0.1111111111111111,
              "#46039f"
             ],
             [
              0.2222222222222222,
              "#7201a8"
             ],
             [
              0.3333333333333333,
              "#9c179e"
             ],
             [
              0.4444444444444444,
              "#bd3786"
             ],
             [
              0.5555555555555556,
              "#d8576b"
             ],
             [
              0.6666666666666666,
              "#ed7953"
             ],
             [
              0.7777777777777778,
              "#fb9f3a"
             ],
             [
              0.8888888888888888,
              "#fdca26"
             ],
             [
              1,
              "#f0f921"
             ]
            ],
            "type": "heatmap"
           }
          ],
          "heatmapgl": [
           {
            "colorbar": {
             "outlinewidth": 0,
             "ticks": ""
            },
            "colorscale": [
             [
              0,
              "#0d0887"
             ],
             [
              0.1111111111111111,
              "#46039f"
             ],
             [
              0.2222222222222222,
              "#7201a8"
             ],
             [
              0.3333333333333333,
              "#9c179e"
             ],
             [
              0.4444444444444444,
              "#bd3786"
             ],
             [
              0.5555555555555556,
              "#d8576b"
             ],
             [
              0.6666666666666666,
              "#ed7953"
             ],
             [
              0.7777777777777778,
              "#fb9f3a"
             ],
             [
              0.8888888888888888,
              "#fdca26"
             ],
             [
              1,
              "#f0f921"
             ]
            ],
            "type": "heatmapgl"
           }
          ],
          "histogram": [
           {
            "marker": {
             "colorbar": {
              "outlinewidth": 0,
              "ticks": ""
             }
            },
            "type": "histogram"
           }
          ],
          "histogram2d": [
           {
            "colorbar": {
             "outlinewidth": 0,
             "ticks": ""
            },
            "colorscale": [
             [
              0,
              "#0d0887"
             ],
             [
              0.1111111111111111,
              "#46039f"
             ],
             [
              0.2222222222222222,
              "#7201a8"
             ],
             [
              0.3333333333333333,
              "#9c179e"
             ],
             [
              0.4444444444444444,
              "#bd3786"
             ],
             [
              0.5555555555555556,
              "#d8576b"
             ],
             [
              0.6666666666666666,
              "#ed7953"
             ],
             [
              0.7777777777777778,
              "#fb9f3a"
             ],
             [
              0.8888888888888888,
              "#fdca26"
             ],
             [
              1,
              "#f0f921"
             ]
            ],
            "type": "histogram2d"
           }
          ],
          "histogram2dcontour": [
           {
            "colorbar": {
             "outlinewidth": 0,
             "ticks": ""
            },
            "colorscale": [
             [
              0,
              "#0d0887"
             ],
             [
              0.1111111111111111,
              "#46039f"
             ],
             [
              0.2222222222222222,
              "#7201a8"
             ],
             [
              0.3333333333333333,
              "#9c179e"
             ],
             [
              0.4444444444444444,
              "#bd3786"
             ],
             [
              0.5555555555555556,
              "#d8576b"
             ],
             [
              0.6666666666666666,
              "#ed7953"
             ],
             [
              0.7777777777777778,
              "#fb9f3a"
             ],
             [
              0.8888888888888888,
              "#fdca26"
             ],
             [
              1,
              "#f0f921"
             ]
            ],
            "type": "histogram2dcontour"
           }
          ],
          "mesh3d": [
           {
            "colorbar": {
             "outlinewidth": 0,
             "ticks": ""
            },
            "type": "mesh3d"
           }
          ],
          "parcoords": [
           {
            "line": {
             "colorbar": {
              "outlinewidth": 0,
              "ticks": ""
             }
            },
            "type": "parcoords"
           }
          ],
          "pie": [
           {
            "automargin": true,
            "type": "pie"
           }
          ],
          "scatter": [
           {
            "marker": {
             "colorbar": {
              "outlinewidth": 0,
              "ticks": ""
             }
            },
            "type": "scatter"
           }
          ],
          "scatter3d": [
           {
            "line": {
             "colorbar": {
              "outlinewidth": 0,
              "ticks": ""
             }
            },
            "marker": {
             "colorbar": {
              "outlinewidth": 0,
              "ticks": ""
             }
            },
            "type": "scatter3d"
           }
          ],
          "scattercarpet": [
           {
            "marker": {
             "colorbar": {
              "outlinewidth": 0,
              "ticks": ""
             }
            },
            "type": "scattercarpet"
           }
          ],
          "scattergeo": [
           {
            "marker": {
             "colorbar": {
              "outlinewidth": 0,
              "ticks": ""
             }
            },
            "type": "scattergeo"
           }
          ],
          "scattergl": [
           {
            "marker": {
             "colorbar": {
              "outlinewidth": 0,
              "ticks": ""
             }
            },
            "type": "scattergl"
           }
          ],
          "scattermapbox": [
           {
            "marker": {
             "colorbar": {
              "outlinewidth": 0,
              "ticks": ""
             }
            },
            "type": "scattermapbox"
           }
          ],
          "scatterpolar": [
           {
            "marker": {
             "colorbar": {
              "outlinewidth": 0,
              "ticks": ""
             }
            },
            "type": "scatterpolar"
           }
          ],
          "scatterpolargl": [
           {
            "marker": {
             "colorbar": {
              "outlinewidth": 0,
              "ticks": ""
             }
            },
            "type": "scatterpolargl"
           }
          ],
          "scatterternary": [
           {
            "marker": {
             "colorbar": {
              "outlinewidth": 0,
              "ticks": ""
             }
            },
            "type": "scatterternary"
           }
          ],
          "surface": [
           {
            "colorbar": {
             "outlinewidth": 0,
             "ticks": ""
            },
            "colorscale": [
             [
              0,
              "#0d0887"
             ],
             [
              0.1111111111111111,
              "#46039f"
             ],
             [
              0.2222222222222222,
              "#7201a8"
             ],
             [
              0.3333333333333333,
              "#9c179e"
             ],
             [
              0.4444444444444444,
              "#bd3786"
             ],
             [
              0.5555555555555556,
              "#d8576b"
             ],
             [
              0.6666666666666666,
              "#ed7953"
             ],
             [
              0.7777777777777778,
              "#fb9f3a"
             ],
             [
              0.8888888888888888,
              "#fdca26"
             ],
             [
              1,
              "#f0f921"
             ]
            ],
            "type": "surface"
           }
          ],
          "table": [
           {
            "cells": {
             "fill": {
              "color": "#EBF0F8"
             },
             "line": {
              "color": "white"
             }
            },
            "header": {
             "fill": {
              "color": "#C8D4E3"
             },
             "line": {
              "color": "white"
             }
            },
            "type": "table"
           }
          ]
         },
         "layout": {
          "annotationdefaults": {
           "arrowcolor": "#2a3f5f",
           "arrowhead": 0,
           "arrowwidth": 1
          },
          "autotypenumbers": "strict",
          "coloraxis": {
           "colorbar": {
            "outlinewidth": 0,
            "ticks": ""
           }
          },
          "colorscale": {
           "diverging": [
            [
             0,
             "#8e0152"
            ],
            [
             0.1,
             "#c51b7d"
            ],
            [
             0.2,
             "#de77ae"
            ],
            [
             0.3,
             "#f1b6da"
            ],
            [
             0.4,
             "#fde0ef"
            ],
            [
             0.5,
             "#f7f7f7"
            ],
            [
             0.6,
             "#e6f5d0"
            ],
            [
             0.7,
             "#b8e186"
            ],
            [
             0.8,
             "#7fbc41"
            ],
            [
             0.9,
             "#4d9221"
            ],
            [
             1,
             "#276419"
            ]
           ],
           "sequential": [
            [
             0,
             "#0d0887"
            ],
            [
             0.1111111111111111,
             "#46039f"
            ],
            [
             0.2222222222222222,
             "#7201a8"
            ],
            [
             0.3333333333333333,
             "#9c179e"
            ],
            [
             0.4444444444444444,
             "#bd3786"
            ],
            [
             0.5555555555555556,
             "#d8576b"
            ],
            [
             0.6666666666666666,
             "#ed7953"
            ],
            [
             0.7777777777777778,
             "#fb9f3a"
            ],
            [
             0.8888888888888888,
             "#fdca26"
            ],
            [
             1,
             "#f0f921"
            ]
           ],
           "sequentialminus": [
            [
             0,
             "#0d0887"
            ],
            [
             0.1111111111111111,
             "#46039f"
            ],
            [
             0.2222222222222222,
             "#7201a8"
            ],
            [
             0.3333333333333333,
             "#9c179e"
            ],
            [
             0.4444444444444444,
             "#bd3786"
            ],
            [
             0.5555555555555556,
             "#d8576b"
            ],
            [
             0.6666666666666666,
             "#ed7953"
            ],
            [
             0.7777777777777778,
             "#fb9f3a"
            ],
            [
             0.8888888888888888,
             "#fdca26"
            ],
            [
             1,
             "#f0f921"
            ]
           ]
          },
          "colorway": [
           "#636efa",
           "#EF553B",
           "#00cc96",
           "#ab63fa",
           "#FFA15A",
           "#19d3f3",
           "#FF6692",
           "#B6E880",
           "#FF97FF",
           "#FECB52"
          ],
          "font": {
           "color": "#2a3f5f"
          },
          "geo": {
           "bgcolor": "white",
           "lakecolor": "white",
           "landcolor": "#E5ECF6",
           "showlakes": true,
           "showland": true,
           "subunitcolor": "white"
          },
          "hoverlabel": {
           "align": "left"
          },
          "hovermode": "closest",
          "mapbox": {
           "style": "light"
          },
          "paper_bgcolor": "white",
          "plot_bgcolor": "#E5ECF6",
          "polar": {
           "angularaxis": {
            "gridcolor": "white",
            "linecolor": "white",
            "ticks": ""
           },
           "bgcolor": "#E5ECF6",
           "radialaxis": {
            "gridcolor": "white",
            "linecolor": "white",
            "ticks": ""
           }
          },
          "scene": {
           "xaxis": {
            "backgroundcolor": "#E5ECF6",
            "gridcolor": "white",
            "gridwidth": 2,
            "linecolor": "white",
            "showbackground": true,
            "ticks": "",
            "zerolinecolor": "white"
           },
           "yaxis": {
            "backgroundcolor": "#E5ECF6",
            "gridcolor": "white",
            "gridwidth": 2,
            "linecolor": "white",
            "showbackground": true,
            "ticks": "",
            "zerolinecolor": "white"
           },
           "zaxis": {
            "backgroundcolor": "#E5ECF6",
            "gridcolor": "white",
            "gridwidth": 2,
            "linecolor": "white",
            "showbackground": true,
            "ticks": "",
            "zerolinecolor": "white"
           }
          },
          "shapedefaults": {
           "line": {
            "color": "#2a3f5f"
           }
          },
          "ternary": {
           "aaxis": {
            "gridcolor": "white",
            "linecolor": "white",
            "ticks": ""
           },
           "baxis": {
            "gridcolor": "white",
            "linecolor": "white",
            "ticks": ""
           },
           "bgcolor": "#E5ECF6",
           "caxis": {
            "gridcolor": "white",
            "linecolor": "white",
            "ticks": ""
           }
          },
          "title": {
           "x": 0.05
          },
          "xaxis": {
           "automargin": true,
           "gridcolor": "white",
           "linecolor": "white",
           "ticks": "",
           "title": {
            "standoff": 15
           },
           "zerolinecolor": "white",
           "zerolinewidth": 2
          },
          "yaxis": {
           "automargin": true,
           "gridcolor": "white",
           "linecolor": "white",
           "ticks": "",
           "title": {
            "standoff": 15
           },
           "zerolinecolor": "white",
           "zerolinewidth": 2
          }
         }
        },
        "title": {
         "text": "<span style='font-size: 22px;'><b>Publications per Year<b></span>",
         "x": 0.5
        },
        "xaxis": {
         "range": [
          2006,
          2027
         ],
         "title": {
          "text": "Year"
         }
        },
        "yaxis": {
         "range": [
          0,
          8.8
         ],
         "title": {
          "text": "Number of Publications"
         }
        }
       }
      },
      "text/html": [
       "<div>                            <div id=\"eb220fc2-76da-4525-a71a-f929ca515f0b\" class=\"plotly-graph-div\" style=\"height:525px; width:100%;\"></div>            <script type=\"text/javascript\">                require([\"plotly\"], function(Plotly) {                    window.PLOTLYENV=window.PLOTLYENV || {};                                    if (document.getElementById(\"eb220fc2-76da-4525-a71a-f929ca515f0b\")) {                    Plotly.newPlot(                        \"eb220fc2-76da-4525-a71a-f929ca515f0b\",                        [{\"marker\": {\"color\": \"#eda109\"}, \"textangle\": 0, \"textposition\": \"outside\", \"texttemplate\": \"%{y}\", \"type\": \"bar\", \"x\": [2011, 2013, 2014, 2015, 2016, 2017, 2018, 2019, 2020, 2021], \"y\": [1, 2, 1, 1, 6, 4, 8, 2, 4, 1]}],                        {\"font\": {\"color\": \"white\", \"family\": \"Courier New, monospace\", \"size\": 12}, \"paper_bgcolor\": \"#101126\", \"plot_bgcolor\": \"#101126\", \"template\": {\"data\": {\"bar\": [{\"error_x\": {\"color\": \"#2a3f5f\"}, \"error_y\": {\"color\": \"#2a3f5f\"}, \"marker\": {\"line\": {\"color\": \"#E5ECF6\", \"width\": 0.5}}, \"type\": \"bar\"}], \"barpolar\": [{\"marker\": {\"line\": {\"color\": \"#E5ECF6\", \"width\": 0.5}}, \"type\": \"barpolar\"}], \"carpet\": [{\"aaxis\": {\"endlinecolor\": \"#2a3f5f\", \"gridcolor\": \"white\", \"linecolor\": \"white\", \"minorgridcolor\": \"white\", \"startlinecolor\": \"#2a3f5f\"}, \"baxis\": {\"endlinecolor\": \"#2a3f5f\", \"gridcolor\": \"white\", \"linecolor\": \"white\", \"minorgridcolor\": \"white\", \"startlinecolor\": \"#2a3f5f\"}, \"type\": \"carpet\"}], \"choropleth\": [{\"colorbar\": {\"outlinewidth\": 0, \"ticks\": \"\"}, \"type\": \"choropleth\"}], \"contour\": [{\"colorbar\": {\"outlinewidth\": 0, \"ticks\": \"\"}, \"colorscale\": [[0.0, \"#0d0887\"], [0.1111111111111111, \"#46039f\"], [0.2222222222222222, \"#7201a8\"], [0.3333333333333333, \"#9c179e\"], [0.4444444444444444, \"#bd3786\"], [0.5555555555555556, \"#d8576b\"], [0.6666666666666666, \"#ed7953\"], [0.7777777777777778, \"#fb9f3a\"], [0.8888888888888888, \"#fdca26\"], [1.0, \"#f0f921\"]], \"type\": \"contour\"}], \"contourcarpet\": [{\"colorbar\": {\"outlinewidth\": 0, \"ticks\": \"\"}, \"type\": \"contourcarpet\"}], \"heatmap\": [{\"colorbar\": {\"outlinewidth\": 0, \"ticks\": \"\"}, \"colorscale\": [[0.0, \"#0d0887\"], [0.1111111111111111, \"#46039f\"], [0.2222222222222222, \"#7201a8\"], [0.3333333333333333, \"#9c179e\"], [0.4444444444444444, \"#bd3786\"], [0.5555555555555556, \"#d8576b\"], [0.6666666666666666, \"#ed7953\"], [0.7777777777777778, \"#fb9f3a\"], [0.8888888888888888, \"#fdca26\"], [1.0, \"#f0f921\"]], \"type\": \"heatmap\"}], \"heatmapgl\": [{\"colorbar\": {\"outlinewidth\": 0, \"ticks\": \"\"}, \"colorscale\": [[0.0, \"#0d0887\"], [0.1111111111111111, \"#46039f\"], [0.2222222222222222, \"#7201a8\"], [0.3333333333333333, \"#9c179e\"], [0.4444444444444444, \"#bd3786\"], [0.5555555555555556, \"#d8576b\"], [0.6666666666666666, \"#ed7953\"], [0.7777777777777778, \"#fb9f3a\"], [0.8888888888888888, \"#fdca26\"], [1.0, \"#f0f921\"]], \"type\": \"heatmapgl\"}], \"histogram\": [{\"marker\": {\"colorbar\": {\"outlinewidth\": 0, \"ticks\": \"\"}}, \"type\": \"histogram\"}], \"histogram2d\": [{\"colorbar\": {\"outlinewidth\": 0, \"ticks\": \"\"}, \"colorscale\": [[0.0, \"#0d0887\"], [0.1111111111111111, \"#46039f\"], [0.2222222222222222, \"#7201a8\"], [0.3333333333333333, \"#9c179e\"], [0.4444444444444444, \"#bd3786\"], [0.5555555555555556, \"#d8576b\"], [0.6666666666666666, \"#ed7953\"], [0.7777777777777778, \"#fb9f3a\"], [0.8888888888888888, \"#fdca26\"], [1.0, \"#f0f921\"]], \"type\": \"histogram2d\"}], \"histogram2dcontour\": [{\"colorbar\": {\"outlinewidth\": 0, \"ticks\": \"\"}, \"colorscale\": [[0.0, \"#0d0887\"], [0.1111111111111111, \"#46039f\"], [0.2222222222222222, \"#7201a8\"], [0.3333333333333333, \"#9c179e\"], [0.4444444444444444, \"#bd3786\"], [0.5555555555555556, \"#d8576b\"], [0.6666666666666666, \"#ed7953\"], [0.7777777777777778, \"#fb9f3a\"], [0.8888888888888888, \"#fdca26\"], [1.0, \"#f0f921\"]], \"type\": \"histogram2dcontour\"}], \"mesh3d\": [{\"colorbar\": {\"outlinewidth\": 0, \"ticks\": \"\"}, \"type\": \"mesh3d\"}], \"parcoords\": [{\"line\": {\"colorbar\": {\"outlinewidth\": 0, \"ticks\": \"\"}}, \"type\": \"parcoords\"}], \"pie\": [{\"automargin\": true, \"type\": \"pie\"}], \"scatter\": [{\"marker\": {\"colorbar\": {\"outlinewidth\": 0, \"ticks\": \"\"}}, \"type\": \"scatter\"}], \"scatter3d\": [{\"line\": {\"colorbar\": {\"outlinewidth\": 0, \"ticks\": \"\"}}, \"marker\": {\"colorbar\": {\"outlinewidth\": 0, \"ticks\": \"\"}}, \"type\": \"scatter3d\"}], \"scattercarpet\": [{\"marker\": {\"colorbar\": {\"outlinewidth\": 0, \"ticks\": \"\"}}, \"type\": \"scattercarpet\"}], \"scattergeo\": [{\"marker\": {\"colorbar\": {\"outlinewidth\": 0, \"ticks\": \"\"}}, \"type\": \"scattergeo\"}], \"scattergl\": [{\"marker\": {\"colorbar\": {\"outlinewidth\": 0, \"ticks\": \"\"}}, \"type\": \"scattergl\"}], \"scattermapbox\": [{\"marker\": {\"colorbar\": {\"outlinewidth\": 0, \"ticks\": \"\"}}, \"type\": \"scattermapbox\"}], \"scatterpolar\": [{\"marker\": {\"colorbar\": {\"outlinewidth\": 0, \"ticks\": \"\"}}, \"type\": \"scatterpolar\"}], \"scatterpolargl\": [{\"marker\": {\"colorbar\": {\"outlinewidth\": 0, \"ticks\": \"\"}}, \"type\": \"scatterpolargl\"}], \"scatterternary\": [{\"marker\": {\"colorbar\": {\"outlinewidth\": 0, \"ticks\": \"\"}}, \"type\": \"scatterternary\"}], \"surface\": [{\"colorbar\": {\"outlinewidth\": 0, \"ticks\": \"\"}, \"colorscale\": [[0.0, \"#0d0887\"], [0.1111111111111111, \"#46039f\"], [0.2222222222222222, \"#7201a8\"], [0.3333333333333333, \"#9c179e\"], [0.4444444444444444, \"#bd3786\"], [0.5555555555555556, \"#d8576b\"], [0.6666666666666666, \"#ed7953\"], [0.7777777777777778, \"#fb9f3a\"], [0.8888888888888888, \"#fdca26\"], [1.0, \"#f0f921\"]], \"type\": \"surface\"}], \"table\": [{\"cells\": {\"fill\": {\"color\": \"#EBF0F8\"}, \"line\": {\"color\": \"white\"}}, \"header\": {\"fill\": {\"color\": \"#C8D4E3\"}, \"line\": {\"color\": \"white\"}}, \"type\": \"table\"}]}, \"layout\": {\"annotationdefaults\": {\"arrowcolor\": \"#2a3f5f\", \"arrowhead\": 0, \"arrowwidth\": 1}, \"autotypenumbers\": \"strict\", \"coloraxis\": {\"colorbar\": {\"outlinewidth\": 0, \"ticks\": \"\"}}, \"colorscale\": {\"diverging\": [[0, \"#8e0152\"], [0.1, \"#c51b7d\"], [0.2, \"#de77ae\"], [0.3, \"#f1b6da\"], [0.4, \"#fde0ef\"], [0.5, \"#f7f7f7\"], [0.6, \"#e6f5d0\"], [0.7, \"#b8e186\"], [0.8, \"#7fbc41\"], [0.9, \"#4d9221\"], [1, \"#276419\"]], \"sequential\": [[0.0, \"#0d0887\"], [0.1111111111111111, \"#46039f\"], [0.2222222222222222, \"#7201a8\"], [0.3333333333333333, \"#9c179e\"], [0.4444444444444444, \"#bd3786\"], [0.5555555555555556, \"#d8576b\"], [0.6666666666666666, \"#ed7953\"], [0.7777777777777778, \"#fb9f3a\"], [0.8888888888888888, \"#fdca26\"], [1.0, \"#f0f921\"]], \"sequentialminus\": [[0.0, \"#0d0887\"], [0.1111111111111111, \"#46039f\"], [0.2222222222222222, \"#7201a8\"], [0.3333333333333333, \"#9c179e\"], [0.4444444444444444, \"#bd3786\"], [0.5555555555555556, \"#d8576b\"], [0.6666666666666666, \"#ed7953\"], [0.7777777777777778, \"#fb9f3a\"], [0.8888888888888888, \"#fdca26\"], [1.0, \"#f0f921\"]]}, \"colorway\": [\"#636efa\", \"#EF553B\", \"#00cc96\", \"#ab63fa\", \"#FFA15A\", \"#19d3f3\", \"#FF6692\", \"#B6E880\", \"#FF97FF\", \"#FECB52\"], \"font\": {\"color\": \"#2a3f5f\"}, \"geo\": {\"bgcolor\": \"white\", \"lakecolor\": \"white\", \"landcolor\": \"#E5ECF6\", \"showlakes\": true, \"showland\": true, \"subunitcolor\": \"white\"}, \"hoverlabel\": {\"align\": \"left\"}, \"hovermode\": \"closest\", \"mapbox\": {\"style\": \"light\"}, \"paper_bgcolor\": \"white\", \"plot_bgcolor\": \"#E5ECF6\", \"polar\": {\"angularaxis\": {\"gridcolor\": \"white\", \"linecolor\": \"white\", \"ticks\": \"\"}, \"bgcolor\": \"#E5ECF6\", \"radialaxis\": {\"gridcolor\": \"white\", \"linecolor\": \"white\", \"ticks\": \"\"}}, \"scene\": {\"xaxis\": {\"backgroundcolor\": \"#E5ECF6\", \"gridcolor\": \"white\", \"gridwidth\": 2, \"linecolor\": \"white\", \"showbackground\": true, \"ticks\": \"\", \"zerolinecolor\": \"white\"}, \"yaxis\": {\"backgroundcolor\": \"#E5ECF6\", \"gridcolor\": \"white\", \"gridwidth\": 2, \"linecolor\": \"white\", \"showbackground\": true, \"ticks\": \"\", \"zerolinecolor\": \"white\"}, \"zaxis\": {\"backgroundcolor\": \"#E5ECF6\", \"gridcolor\": \"white\", \"gridwidth\": 2, \"linecolor\": \"white\", \"showbackground\": true, \"ticks\": \"\", \"zerolinecolor\": \"white\"}}, \"shapedefaults\": {\"line\": {\"color\": \"#2a3f5f\"}}, \"ternary\": {\"aaxis\": {\"gridcolor\": \"white\", \"linecolor\": \"white\", \"ticks\": \"\"}, \"baxis\": {\"gridcolor\": \"white\", \"linecolor\": \"white\", \"ticks\": \"\"}, \"bgcolor\": \"#E5ECF6\", \"caxis\": {\"gridcolor\": \"white\", \"linecolor\": \"white\", \"ticks\": \"\"}}, \"title\": {\"x\": 0.05}, \"xaxis\": {\"automargin\": true, \"gridcolor\": \"white\", \"linecolor\": \"white\", \"ticks\": \"\", \"title\": {\"standoff\": 15}, \"zerolinecolor\": \"white\", \"zerolinewidth\": 2}, \"yaxis\": {\"automargin\": true, \"gridcolor\": \"white\", \"linecolor\": \"white\", \"ticks\": \"\", \"title\": {\"standoff\": 15}, \"zerolinecolor\": \"white\", \"zerolinewidth\": 2}}}, \"title\": {\"text\": \"<span style='font-size: 22px;'><b>Publications per Year<b></span>\", \"x\": 0.5}, \"xaxis\": {\"range\": [2006, 2027], \"title\": {\"text\": \"Year\"}}, \"yaxis\": {\"range\": [0, 8.8], \"title\": {\"text\": \"Number of Publications\"}}},                        {\"responsive\": true}                    ).then(function(){\n",
       "                            \n",
       "var gd = document.getElementById('eb220fc2-76da-4525-a71a-f929ca515f0b');\n",
       "var x = new MutationObserver(function (mutations, observer) {{\n",
       "        var display = window.getComputedStyle(gd).display;\n",
       "        if (!display || display === 'none') {{\n",
       "            console.log([gd, 'removed!']);\n",
       "            Plotly.purge(gd);\n",
       "            observer.disconnect();\n",
       "        }}\n",
       "}});\n",
       "\n",
       "// Listen for the removal of the full notebook cells\n",
       "var notebookContainer = gd.closest('#notebook-container');\n",
       "if (notebookContainer) {{\n",
       "    x.observe(notebookContainer, {childList: true});\n",
       "}}\n",
       "\n",
       "// Listen for the clearing of the current output cell\n",
       "var outputEl = gd.closest('.output');\n",
       "if (outputEl) {{\n",
       "    x.observe(outputEl, {childList: true});\n",
       "}}\n",
       "\n",
       "                        })                };                });            </script>        </div>"
      ]
     },
     "metadata": {},
     "output_type": "display_data"
    }
   ],
   "source": [
    "plots.make_pub_per_year(results_df, 'semantic_scholar')"
   ]
  },
  {
   "cell_type": "code",
   "execution_count": 66,
   "id": "9bf27181",
   "metadata": {
    "hidden": true
   },
   "outputs": [
    {
     "data": {
      "application/vnd.plotly.v1+json": {
       "config": {
        "plotlyServerURL": "https://plot.ly"
       },
       "data": [
        {
         "marker": {
          "color": "#eda109"
         },
         "textangle": 0,
         "textposition": "outside",
         "texttemplate": "%{y}",
         "type": "bar",
         "x": [
          2011,
          2013,
          2014,
          2015,
          2016,
          2017,
          2018,
          2019,
          2020,
          2021
         ],
         "y": [
          215,
          18,
          1,
          1,
          9,
          111,
          10,
          10,
          10,
          4
         ]
        }
       ],
       "layout": {
        "font": {
         "color": "white",
         "family": "Courier New, monospace",
         "size": 12
        },
        "paper_bgcolor": "#101126",
        "plot_bgcolor": "#101126",
        "template": {
         "data": {
          "bar": [
           {
            "error_x": {
             "color": "#2a3f5f"
            },
            "error_y": {
             "color": "#2a3f5f"
            },
            "marker": {
             "line": {
              "color": "#E5ECF6",
              "width": 0.5
             }
            },
            "type": "bar"
           }
          ],
          "barpolar": [
           {
            "marker": {
             "line": {
              "color": "#E5ECF6",
              "width": 0.5
             }
            },
            "type": "barpolar"
           }
          ],
          "carpet": [
           {
            "aaxis": {
             "endlinecolor": "#2a3f5f",
             "gridcolor": "white",
             "linecolor": "white",
             "minorgridcolor": "white",
             "startlinecolor": "#2a3f5f"
            },
            "baxis": {
             "endlinecolor": "#2a3f5f",
             "gridcolor": "white",
             "linecolor": "white",
             "minorgridcolor": "white",
             "startlinecolor": "#2a3f5f"
            },
            "type": "carpet"
           }
          ],
          "choropleth": [
           {
            "colorbar": {
             "outlinewidth": 0,
             "ticks": ""
            },
            "type": "choropleth"
           }
          ],
          "contour": [
           {
            "colorbar": {
             "outlinewidth": 0,
             "ticks": ""
            },
            "colorscale": [
             [
              0,
              "#0d0887"
             ],
             [
              0.1111111111111111,
              "#46039f"
             ],
             [
              0.2222222222222222,
              "#7201a8"
             ],
             [
              0.3333333333333333,
              "#9c179e"
             ],
             [
              0.4444444444444444,
              "#bd3786"
             ],
             [
              0.5555555555555556,
              "#d8576b"
             ],
             [
              0.6666666666666666,
              "#ed7953"
             ],
             [
              0.7777777777777778,
              "#fb9f3a"
             ],
             [
              0.8888888888888888,
              "#fdca26"
             ],
             [
              1,
              "#f0f921"
             ]
            ],
            "type": "contour"
           }
          ],
          "contourcarpet": [
           {
            "colorbar": {
             "outlinewidth": 0,
             "ticks": ""
            },
            "type": "contourcarpet"
           }
          ],
          "heatmap": [
           {
            "colorbar": {
             "outlinewidth": 0,
             "ticks": ""
            },
            "colorscale": [
             [
              0,
              "#0d0887"
             ],
             [
              0.1111111111111111,
              "#46039f"
             ],
             [
              0.2222222222222222,
              "#7201a8"
             ],
             [
              0.3333333333333333,
              "#9c179e"
             ],
             [
              0.4444444444444444,
              "#bd3786"
             ],
             [
              0.5555555555555556,
              "#d8576b"
             ],
             [
              0.6666666666666666,
              "#ed7953"
             ],
             [
              0.7777777777777778,
              "#fb9f3a"
             ],
             [
              0.8888888888888888,
              "#fdca26"
             ],
             [
              1,
              "#f0f921"
             ]
            ],
            "type": "heatmap"
           }
          ],
          "heatmapgl": [
           {
            "colorbar": {
             "outlinewidth": 0,
             "ticks": ""
            },
            "colorscale": [
             [
              0,
              "#0d0887"
             ],
             [
              0.1111111111111111,
              "#46039f"
             ],
             [
              0.2222222222222222,
              "#7201a8"
             ],
             [
              0.3333333333333333,
              "#9c179e"
             ],
             [
              0.4444444444444444,
              "#bd3786"
             ],
             [
              0.5555555555555556,
              "#d8576b"
             ],
             [
              0.6666666666666666,
              "#ed7953"
             ],
             [
              0.7777777777777778,
              "#fb9f3a"
             ],
             [
              0.8888888888888888,
              "#fdca26"
             ],
             [
              1,
              "#f0f921"
             ]
            ],
            "type": "heatmapgl"
           }
          ],
          "histogram": [
           {
            "marker": {
             "colorbar": {
              "outlinewidth": 0,
              "ticks": ""
             }
            },
            "type": "histogram"
           }
          ],
          "histogram2d": [
           {
            "colorbar": {
             "outlinewidth": 0,
             "ticks": ""
            },
            "colorscale": [
             [
              0,
              "#0d0887"
             ],
             [
              0.1111111111111111,
              "#46039f"
             ],
             [
              0.2222222222222222,
              "#7201a8"
             ],
             [
              0.3333333333333333,
              "#9c179e"
             ],
             [
              0.4444444444444444,
              "#bd3786"
             ],
             [
              0.5555555555555556,
              "#d8576b"
             ],
             [
              0.6666666666666666,
              "#ed7953"
             ],
             [
              0.7777777777777778,
              "#fb9f3a"
             ],
             [
              0.8888888888888888,
              "#fdca26"
             ],
             [
              1,
              "#f0f921"
             ]
            ],
            "type": "histogram2d"
           }
          ],
          "histogram2dcontour": [
           {
            "colorbar": {
             "outlinewidth": 0,
             "ticks": ""
            },
            "colorscale": [
             [
              0,
              "#0d0887"
             ],
             [
              0.1111111111111111,
              "#46039f"
             ],
             [
              0.2222222222222222,
              "#7201a8"
             ],
             [
              0.3333333333333333,
              "#9c179e"
             ],
             [
              0.4444444444444444,
              "#bd3786"
             ],
             [
              0.5555555555555556,
              "#d8576b"
             ],
             [
              0.6666666666666666,
              "#ed7953"
             ],
             [
              0.7777777777777778,
              "#fb9f3a"
             ],
             [
              0.8888888888888888,
              "#fdca26"
             ],
             [
              1,
              "#f0f921"
             ]
            ],
            "type": "histogram2dcontour"
           }
          ],
          "mesh3d": [
           {
            "colorbar": {
             "outlinewidth": 0,
             "ticks": ""
            },
            "type": "mesh3d"
           }
          ],
          "parcoords": [
           {
            "line": {
             "colorbar": {
              "outlinewidth": 0,
              "ticks": ""
             }
            },
            "type": "parcoords"
           }
          ],
          "pie": [
           {
            "automargin": true,
            "type": "pie"
           }
          ],
          "scatter": [
           {
            "marker": {
             "colorbar": {
              "outlinewidth": 0,
              "ticks": ""
             }
            },
            "type": "scatter"
           }
          ],
          "scatter3d": [
           {
            "line": {
             "colorbar": {
              "outlinewidth": 0,
              "ticks": ""
             }
            },
            "marker": {
             "colorbar": {
              "outlinewidth": 0,
              "ticks": ""
             }
            },
            "type": "scatter3d"
           }
          ],
          "scattercarpet": [
           {
            "marker": {
             "colorbar": {
              "outlinewidth": 0,
              "ticks": ""
             }
            },
            "type": "scattercarpet"
           }
          ],
          "scattergeo": [
           {
            "marker": {
             "colorbar": {
              "outlinewidth": 0,
              "ticks": ""
             }
            },
            "type": "scattergeo"
           }
          ],
          "scattergl": [
           {
            "marker": {
             "colorbar": {
              "outlinewidth": 0,
              "ticks": ""
             }
            },
            "type": "scattergl"
           }
          ],
          "scattermapbox": [
           {
            "marker": {
             "colorbar": {
              "outlinewidth": 0,
              "ticks": ""
             }
            },
            "type": "scattermapbox"
           }
          ],
          "scatterpolar": [
           {
            "marker": {
             "colorbar": {
              "outlinewidth": 0,
              "ticks": ""
             }
            },
            "type": "scatterpolar"
           }
          ],
          "scatterpolargl": [
           {
            "marker": {
             "colorbar": {
              "outlinewidth": 0,
              "ticks": ""
             }
            },
            "type": "scatterpolargl"
           }
          ],
          "scatterternary": [
           {
            "marker": {
             "colorbar": {
              "outlinewidth": 0,
              "ticks": ""
             }
            },
            "type": "scatterternary"
           }
          ],
          "surface": [
           {
            "colorbar": {
             "outlinewidth": 0,
             "ticks": ""
            },
            "colorscale": [
             [
              0,
              "#0d0887"
             ],
             [
              0.1111111111111111,
              "#46039f"
             ],
             [
              0.2222222222222222,
              "#7201a8"
             ],
             [
              0.3333333333333333,
              "#9c179e"
             ],
             [
              0.4444444444444444,
              "#bd3786"
             ],
             [
              0.5555555555555556,
              "#d8576b"
             ],
             [
              0.6666666666666666,
              "#ed7953"
             ],
             [
              0.7777777777777778,
              "#fb9f3a"
             ],
             [
              0.8888888888888888,
              "#fdca26"
             ],
             [
              1,
              "#f0f921"
             ]
            ],
            "type": "surface"
           }
          ],
          "table": [
           {
            "cells": {
             "fill": {
              "color": "#EBF0F8"
             },
             "line": {
              "color": "white"
             }
            },
            "header": {
             "fill": {
              "color": "#C8D4E3"
             },
             "line": {
              "color": "white"
             }
            },
            "type": "table"
           }
          ]
         },
         "layout": {
          "annotationdefaults": {
           "arrowcolor": "#2a3f5f",
           "arrowhead": 0,
           "arrowwidth": 1
          },
          "autotypenumbers": "strict",
          "coloraxis": {
           "colorbar": {
            "outlinewidth": 0,
            "ticks": ""
           }
          },
          "colorscale": {
           "diverging": [
            [
             0,
             "#8e0152"
            ],
            [
             0.1,
             "#c51b7d"
            ],
            [
             0.2,
             "#de77ae"
            ],
            [
             0.3,
             "#f1b6da"
            ],
            [
             0.4,
             "#fde0ef"
            ],
            [
             0.5,
             "#f7f7f7"
            ],
            [
             0.6,
             "#e6f5d0"
            ],
            [
             0.7,
             "#b8e186"
            ],
            [
             0.8,
             "#7fbc41"
            ],
            [
             0.9,
             "#4d9221"
            ],
            [
             1,
             "#276419"
            ]
           ],
           "sequential": [
            [
             0,
             "#0d0887"
            ],
            [
             0.1111111111111111,
             "#46039f"
            ],
            [
             0.2222222222222222,
             "#7201a8"
            ],
            [
             0.3333333333333333,
             "#9c179e"
            ],
            [
             0.4444444444444444,
             "#bd3786"
            ],
            [
             0.5555555555555556,
             "#d8576b"
            ],
            [
             0.6666666666666666,
             "#ed7953"
            ],
            [
             0.7777777777777778,
             "#fb9f3a"
            ],
            [
             0.8888888888888888,
             "#fdca26"
            ],
            [
             1,
             "#f0f921"
            ]
           ],
           "sequentialminus": [
            [
             0,
             "#0d0887"
            ],
            [
             0.1111111111111111,
             "#46039f"
            ],
            [
             0.2222222222222222,
             "#7201a8"
            ],
            [
             0.3333333333333333,
             "#9c179e"
            ],
            [
             0.4444444444444444,
             "#bd3786"
            ],
            [
             0.5555555555555556,
             "#d8576b"
            ],
            [
             0.6666666666666666,
             "#ed7953"
            ],
            [
             0.7777777777777778,
             "#fb9f3a"
            ],
            [
             0.8888888888888888,
             "#fdca26"
            ],
            [
             1,
             "#f0f921"
            ]
           ]
          },
          "colorway": [
           "#636efa",
           "#EF553B",
           "#00cc96",
           "#ab63fa",
           "#FFA15A",
           "#19d3f3",
           "#FF6692",
           "#B6E880",
           "#FF97FF",
           "#FECB52"
          ],
          "font": {
           "color": "#2a3f5f"
          },
          "geo": {
           "bgcolor": "white",
           "lakecolor": "white",
           "landcolor": "#E5ECF6",
           "showlakes": true,
           "showland": true,
           "subunitcolor": "white"
          },
          "hoverlabel": {
           "align": "left"
          },
          "hovermode": "closest",
          "mapbox": {
           "style": "light"
          },
          "paper_bgcolor": "white",
          "plot_bgcolor": "#E5ECF6",
          "polar": {
           "angularaxis": {
            "gridcolor": "white",
            "linecolor": "white",
            "ticks": ""
           },
           "bgcolor": "#E5ECF6",
           "radialaxis": {
            "gridcolor": "white",
            "linecolor": "white",
            "ticks": ""
           }
          },
          "scene": {
           "xaxis": {
            "backgroundcolor": "#E5ECF6",
            "gridcolor": "white",
            "gridwidth": 2,
            "linecolor": "white",
            "showbackground": true,
            "ticks": "",
            "zerolinecolor": "white"
           },
           "yaxis": {
            "backgroundcolor": "#E5ECF6",
            "gridcolor": "white",
            "gridwidth": 2,
            "linecolor": "white",
            "showbackground": true,
            "ticks": "",
            "zerolinecolor": "white"
           },
           "zaxis": {
            "backgroundcolor": "#E5ECF6",
            "gridcolor": "white",
            "gridwidth": 2,
            "linecolor": "white",
            "showbackground": true,
            "ticks": "",
            "zerolinecolor": "white"
           }
          },
          "shapedefaults": {
           "line": {
            "color": "#2a3f5f"
           }
          },
          "ternary": {
           "aaxis": {
            "gridcolor": "white",
            "linecolor": "white",
            "ticks": ""
           },
           "baxis": {
            "gridcolor": "white",
            "linecolor": "white",
            "ticks": ""
           },
           "bgcolor": "#E5ECF6",
           "caxis": {
            "gridcolor": "white",
            "linecolor": "white",
            "ticks": ""
           }
          },
          "title": {
           "x": 0.05
          },
          "xaxis": {
           "automargin": true,
           "gridcolor": "white",
           "linecolor": "white",
           "ticks": "",
           "title": {
            "standoff": 15
           },
           "zerolinecolor": "white",
           "zerolinewidth": 2
          },
          "yaxis": {
           "automargin": true,
           "gridcolor": "white",
           "linecolor": "white",
           "ticks": "",
           "title": {
            "standoff": 15
           },
           "zerolinecolor": "white",
           "zerolinewidth": 2
          }
         }
        },
        "title": {
         "text": "<span style='font-size: 22px;'><b>Citations per Year<b></span>",
         "x": 0.5
        },
        "xaxis": {
         "range": [
          2006,
          2027
         ],
         "title": {
          "text": "Year"
         }
        },
        "yaxis": {
         "range": [
          0,
          236.50000000000003
         ],
         "title": {
          "text": "Number of Publications"
         }
        }
       }
      },
      "text/html": [
       "<div>                            <div id=\"e5fcfe29-29d1-4b84-aa80-8d49e0b2a988\" class=\"plotly-graph-div\" style=\"height:525px; width:100%;\"></div>            <script type=\"text/javascript\">                require([\"plotly\"], function(Plotly) {                    window.PLOTLYENV=window.PLOTLYENV || {};                                    if (document.getElementById(\"e5fcfe29-29d1-4b84-aa80-8d49e0b2a988\")) {                    Plotly.newPlot(                        \"e5fcfe29-29d1-4b84-aa80-8d49e0b2a988\",                        [{\"marker\": {\"color\": \"#eda109\"}, \"textangle\": 0, \"textposition\": \"outside\", \"texttemplate\": \"%{y}\", \"type\": \"bar\", \"x\": [2011, 2013, 2014, 2015, 2016, 2017, 2018, 2019, 2020, 2021], \"y\": [215, 18, 1, 1, 9, 111, 10, 10, 10, 4]}],                        {\"font\": {\"color\": \"white\", \"family\": \"Courier New, monospace\", \"size\": 12}, \"paper_bgcolor\": \"#101126\", \"plot_bgcolor\": \"#101126\", \"template\": {\"data\": {\"bar\": [{\"error_x\": {\"color\": \"#2a3f5f\"}, \"error_y\": {\"color\": \"#2a3f5f\"}, \"marker\": {\"line\": {\"color\": \"#E5ECF6\", \"width\": 0.5}}, \"type\": \"bar\"}], \"barpolar\": [{\"marker\": {\"line\": {\"color\": \"#E5ECF6\", \"width\": 0.5}}, \"type\": \"barpolar\"}], \"carpet\": [{\"aaxis\": {\"endlinecolor\": \"#2a3f5f\", \"gridcolor\": \"white\", \"linecolor\": \"white\", \"minorgridcolor\": \"white\", \"startlinecolor\": \"#2a3f5f\"}, \"baxis\": {\"endlinecolor\": \"#2a3f5f\", \"gridcolor\": \"white\", \"linecolor\": \"white\", \"minorgridcolor\": \"white\", \"startlinecolor\": \"#2a3f5f\"}, \"type\": \"carpet\"}], \"choropleth\": [{\"colorbar\": {\"outlinewidth\": 0, \"ticks\": \"\"}, \"type\": \"choropleth\"}], \"contour\": [{\"colorbar\": {\"outlinewidth\": 0, \"ticks\": \"\"}, \"colorscale\": [[0.0, \"#0d0887\"], [0.1111111111111111, \"#46039f\"], [0.2222222222222222, \"#7201a8\"], [0.3333333333333333, \"#9c179e\"], [0.4444444444444444, \"#bd3786\"], [0.5555555555555556, \"#d8576b\"], [0.6666666666666666, \"#ed7953\"], [0.7777777777777778, \"#fb9f3a\"], [0.8888888888888888, \"#fdca26\"], [1.0, \"#f0f921\"]], \"type\": \"contour\"}], \"contourcarpet\": [{\"colorbar\": {\"outlinewidth\": 0, \"ticks\": \"\"}, \"type\": \"contourcarpet\"}], \"heatmap\": [{\"colorbar\": {\"outlinewidth\": 0, \"ticks\": \"\"}, \"colorscale\": [[0.0, \"#0d0887\"], [0.1111111111111111, \"#46039f\"], [0.2222222222222222, \"#7201a8\"], [0.3333333333333333, \"#9c179e\"], [0.4444444444444444, \"#bd3786\"], [0.5555555555555556, \"#d8576b\"], [0.6666666666666666, \"#ed7953\"], [0.7777777777777778, \"#fb9f3a\"], [0.8888888888888888, \"#fdca26\"], [1.0, \"#f0f921\"]], \"type\": \"heatmap\"}], \"heatmapgl\": [{\"colorbar\": {\"outlinewidth\": 0, \"ticks\": \"\"}, \"colorscale\": [[0.0, \"#0d0887\"], [0.1111111111111111, \"#46039f\"], [0.2222222222222222, \"#7201a8\"], [0.3333333333333333, \"#9c179e\"], [0.4444444444444444, \"#bd3786\"], [0.5555555555555556, \"#d8576b\"], [0.6666666666666666, \"#ed7953\"], [0.7777777777777778, \"#fb9f3a\"], [0.8888888888888888, \"#fdca26\"], [1.0, \"#f0f921\"]], \"type\": \"heatmapgl\"}], \"histogram\": [{\"marker\": {\"colorbar\": {\"outlinewidth\": 0, \"ticks\": \"\"}}, \"type\": \"histogram\"}], \"histogram2d\": [{\"colorbar\": {\"outlinewidth\": 0, \"ticks\": \"\"}, \"colorscale\": [[0.0, \"#0d0887\"], [0.1111111111111111, \"#46039f\"], [0.2222222222222222, \"#7201a8\"], [0.3333333333333333, \"#9c179e\"], [0.4444444444444444, \"#bd3786\"], [0.5555555555555556, \"#d8576b\"], [0.6666666666666666, \"#ed7953\"], [0.7777777777777778, \"#fb9f3a\"], [0.8888888888888888, \"#fdca26\"], [1.0, \"#f0f921\"]], \"type\": \"histogram2d\"}], \"histogram2dcontour\": [{\"colorbar\": {\"outlinewidth\": 0, \"ticks\": \"\"}, \"colorscale\": [[0.0, \"#0d0887\"], [0.1111111111111111, \"#46039f\"], [0.2222222222222222, \"#7201a8\"], [0.3333333333333333, \"#9c179e\"], [0.4444444444444444, \"#bd3786\"], [0.5555555555555556, \"#d8576b\"], [0.6666666666666666, \"#ed7953\"], [0.7777777777777778, \"#fb9f3a\"], [0.8888888888888888, \"#fdca26\"], [1.0, \"#f0f921\"]], \"type\": \"histogram2dcontour\"}], \"mesh3d\": [{\"colorbar\": {\"outlinewidth\": 0, \"ticks\": \"\"}, \"type\": \"mesh3d\"}], \"parcoords\": [{\"line\": {\"colorbar\": {\"outlinewidth\": 0, \"ticks\": \"\"}}, \"type\": \"parcoords\"}], \"pie\": [{\"automargin\": true, \"type\": \"pie\"}], \"scatter\": [{\"marker\": {\"colorbar\": {\"outlinewidth\": 0, \"ticks\": \"\"}}, \"type\": \"scatter\"}], \"scatter3d\": [{\"line\": {\"colorbar\": {\"outlinewidth\": 0, \"ticks\": \"\"}}, \"marker\": {\"colorbar\": {\"outlinewidth\": 0, \"ticks\": \"\"}}, \"type\": \"scatter3d\"}], \"scattercarpet\": [{\"marker\": {\"colorbar\": {\"outlinewidth\": 0, \"ticks\": \"\"}}, \"type\": \"scattercarpet\"}], \"scattergeo\": [{\"marker\": {\"colorbar\": {\"outlinewidth\": 0, \"ticks\": \"\"}}, \"type\": \"scattergeo\"}], \"scattergl\": [{\"marker\": {\"colorbar\": {\"outlinewidth\": 0, \"ticks\": \"\"}}, \"type\": \"scattergl\"}], \"scattermapbox\": [{\"marker\": {\"colorbar\": {\"outlinewidth\": 0, \"ticks\": \"\"}}, \"type\": \"scattermapbox\"}], \"scatterpolar\": [{\"marker\": {\"colorbar\": {\"outlinewidth\": 0, \"ticks\": \"\"}}, \"type\": \"scatterpolar\"}], \"scatterpolargl\": [{\"marker\": {\"colorbar\": {\"outlinewidth\": 0, \"ticks\": \"\"}}, \"type\": \"scatterpolargl\"}], \"scatterternary\": [{\"marker\": {\"colorbar\": {\"outlinewidth\": 0, \"ticks\": \"\"}}, \"type\": \"scatterternary\"}], \"surface\": [{\"colorbar\": {\"outlinewidth\": 0, \"ticks\": \"\"}, \"colorscale\": [[0.0, \"#0d0887\"], [0.1111111111111111, \"#46039f\"], [0.2222222222222222, \"#7201a8\"], [0.3333333333333333, \"#9c179e\"], [0.4444444444444444, \"#bd3786\"], [0.5555555555555556, \"#d8576b\"], [0.6666666666666666, \"#ed7953\"], [0.7777777777777778, \"#fb9f3a\"], [0.8888888888888888, \"#fdca26\"], [1.0, \"#f0f921\"]], \"type\": \"surface\"}], \"table\": [{\"cells\": {\"fill\": {\"color\": \"#EBF0F8\"}, \"line\": {\"color\": \"white\"}}, \"header\": {\"fill\": {\"color\": \"#C8D4E3\"}, \"line\": {\"color\": \"white\"}}, \"type\": \"table\"}]}, \"layout\": {\"annotationdefaults\": {\"arrowcolor\": \"#2a3f5f\", \"arrowhead\": 0, \"arrowwidth\": 1}, \"autotypenumbers\": \"strict\", \"coloraxis\": {\"colorbar\": {\"outlinewidth\": 0, \"ticks\": \"\"}}, \"colorscale\": {\"diverging\": [[0, \"#8e0152\"], [0.1, \"#c51b7d\"], [0.2, \"#de77ae\"], [0.3, \"#f1b6da\"], [0.4, \"#fde0ef\"], [0.5, \"#f7f7f7\"], [0.6, \"#e6f5d0\"], [0.7, \"#b8e186\"], [0.8, \"#7fbc41\"], [0.9, \"#4d9221\"], [1, \"#276419\"]], \"sequential\": [[0.0, \"#0d0887\"], [0.1111111111111111, \"#46039f\"], [0.2222222222222222, \"#7201a8\"], [0.3333333333333333, \"#9c179e\"], [0.4444444444444444, \"#bd3786\"], [0.5555555555555556, \"#d8576b\"], [0.6666666666666666, \"#ed7953\"], [0.7777777777777778, \"#fb9f3a\"], [0.8888888888888888, \"#fdca26\"], [1.0, \"#f0f921\"]], \"sequentialminus\": [[0.0, \"#0d0887\"], [0.1111111111111111, \"#46039f\"], [0.2222222222222222, \"#7201a8\"], [0.3333333333333333, \"#9c179e\"], [0.4444444444444444, \"#bd3786\"], [0.5555555555555556, \"#d8576b\"], [0.6666666666666666, \"#ed7953\"], [0.7777777777777778, \"#fb9f3a\"], [0.8888888888888888, \"#fdca26\"], [1.0, \"#f0f921\"]]}, \"colorway\": [\"#636efa\", \"#EF553B\", \"#00cc96\", \"#ab63fa\", \"#FFA15A\", \"#19d3f3\", \"#FF6692\", \"#B6E880\", \"#FF97FF\", \"#FECB52\"], \"font\": {\"color\": \"#2a3f5f\"}, \"geo\": {\"bgcolor\": \"white\", \"lakecolor\": \"white\", \"landcolor\": \"#E5ECF6\", \"showlakes\": true, \"showland\": true, \"subunitcolor\": \"white\"}, \"hoverlabel\": {\"align\": \"left\"}, \"hovermode\": \"closest\", \"mapbox\": {\"style\": \"light\"}, \"paper_bgcolor\": \"white\", \"plot_bgcolor\": \"#E5ECF6\", \"polar\": {\"angularaxis\": {\"gridcolor\": \"white\", \"linecolor\": \"white\", \"ticks\": \"\"}, \"bgcolor\": \"#E5ECF6\", \"radialaxis\": {\"gridcolor\": \"white\", \"linecolor\": \"white\", \"ticks\": \"\"}}, \"scene\": {\"xaxis\": {\"backgroundcolor\": \"#E5ECF6\", \"gridcolor\": \"white\", \"gridwidth\": 2, \"linecolor\": \"white\", \"showbackground\": true, \"ticks\": \"\", \"zerolinecolor\": \"white\"}, \"yaxis\": {\"backgroundcolor\": \"#E5ECF6\", \"gridcolor\": \"white\", \"gridwidth\": 2, \"linecolor\": \"white\", \"showbackground\": true, \"ticks\": \"\", \"zerolinecolor\": \"white\"}, \"zaxis\": {\"backgroundcolor\": \"#E5ECF6\", \"gridcolor\": \"white\", \"gridwidth\": 2, \"linecolor\": \"white\", \"showbackground\": true, \"ticks\": \"\", \"zerolinecolor\": \"white\"}}, \"shapedefaults\": {\"line\": {\"color\": \"#2a3f5f\"}}, \"ternary\": {\"aaxis\": {\"gridcolor\": \"white\", \"linecolor\": \"white\", \"ticks\": \"\"}, \"baxis\": {\"gridcolor\": \"white\", \"linecolor\": \"white\", \"ticks\": \"\"}, \"bgcolor\": \"#E5ECF6\", \"caxis\": {\"gridcolor\": \"white\", \"linecolor\": \"white\", \"ticks\": \"\"}}, \"title\": {\"x\": 0.05}, \"xaxis\": {\"automargin\": true, \"gridcolor\": \"white\", \"linecolor\": \"white\", \"ticks\": \"\", \"title\": {\"standoff\": 15}, \"zerolinecolor\": \"white\", \"zerolinewidth\": 2}, \"yaxis\": {\"automargin\": true, \"gridcolor\": \"white\", \"linecolor\": \"white\", \"ticks\": \"\", \"title\": {\"standoff\": 15}, \"zerolinecolor\": \"white\", \"zerolinewidth\": 2}}}, \"title\": {\"text\": \"<span style='font-size: 22px;'><b>Citations per Year<b></span>\", \"x\": 0.5}, \"xaxis\": {\"range\": [2006, 2027], \"title\": {\"text\": \"Year\"}}, \"yaxis\": {\"range\": [0, 236.50000000000003], \"title\": {\"text\": \"Number of Publications\"}}},                        {\"responsive\": true}                    ).then(function(){\n",
       "                            \n",
       "var gd = document.getElementById('e5fcfe29-29d1-4b84-aa80-8d49e0b2a988');\n",
       "var x = new MutationObserver(function (mutations, observer) {{\n",
       "        var display = window.getComputedStyle(gd).display;\n",
       "        if (!display || display === 'none') {{\n",
       "            console.log([gd, 'removed!']);\n",
       "            Plotly.purge(gd);\n",
       "            observer.disconnect();\n",
       "        }}\n",
       "}});\n",
       "\n",
       "// Listen for the removal of the full notebook cells\n",
       "var notebookContainer = gd.closest('#notebook-container');\n",
       "if (notebookContainer) {{\n",
       "    x.observe(notebookContainer, {childList: true});\n",
       "}}\n",
       "\n",
       "// Listen for the clearing of the current output cell\n",
       "var outputEl = gd.closest('.output');\n",
       "if (outputEl) {{\n",
       "    x.observe(outputEl, {childList: true});\n",
       "}}\n",
       "\n",
       "                        })                };                });            </script>        </div>"
      ]
     },
     "metadata": {},
     "output_type": "display_data"
    }
   ],
   "source": [
    "plots.make_citations_per_year(results_df, 'semantic_scholar')"
   ]
  },
  {
   "cell_type": "code",
   "execution_count": 67,
   "id": "5015da57",
   "metadata": {
    "hidden": true,
    "scrolled": false
   },
   "outputs": [
    {
     "data": {
      "application/vnd.plotly.v1+json": {
       "config": {
        "plotlyServerURL": "https://plot.ly"
       },
       "data": [
        {
         "marker": {
          "color": "#eda109"
         },
         "textangle": 0,
         "textposition": "outside",
         "texttemplate": "%{y}",
         "type": "bar",
         "x": [
          "preservation",
          "potential",
          "implications",
          "detection",
          "analog",
          "exploration",
          "earth",
          "diagenesis",
          "playa",
          "spectroscopy",
          "environments",
          "using",
          "high",
          "evaporites",
          "trace"
         ],
         "y": [
          13,
          8,
          8,
          7,
          6,
          5,
          4,
          4,
          3,
          3,
          3,
          3,
          3,
          2,
          2
         ]
        }
       ],
       "layout": {
        "font": {
         "color": "white",
         "family": "Courier New, monospace",
         "size": 12
        },
        "paper_bgcolor": "#101126",
        "plot_bgcolor": "#101126",
        "template": {
         "data": {
          "bar": [
           {
            "error_x": {
             "color": "#2a3f5f"
            },
            "error_y": {
             "color": "#2a3f5f"
            },
            "marker": {
             "line": {
              "color": "#E5ECF6",
              "width": 0.5
             }
            },
            "type": "bar"
           }
          ],
          "barpolar": [
           {
            "marker": {
             "line": {
              "color": "#E5ECF6",
              "width": 0.5
             }
            },
            "type": "barpolar"
           }
          ],
          "carpet": [
           {
            "aaxis": {
             "endlinecolor": "#2a3f5f",
             "gridcolor": "white",
             "linecolor": "white",
             "minorgridcolor": "white",
             "startlinecolor": "#2a3f5f"
            },
            "baxis": {
             "endlinecolor": "#2a3f5f",
             "gridcolor": "white",
             "linecolor": "white",
             "minorgridcolor": "white",
             "startlinecolor": "#2a3f5f"
            },
            "type": "carpet"
           }
          ],
          "choropleth": [
           {
            "colorbar": {
             "outlinewidth": 0,
             "ticks": ""
            },
            "type": "choropleth"
           }
          ],
          "contour": [
           {
            "colorbar": {
             "outlinewidth": 0,
             "ticks": ""
            },
            "colorscale": [
             [
              0,
              "#0d0887"
             ],
             [
              0.1111111111111111,
              "#46039f"
             ],
             [
              0.2222222222222222,
              "#7201a8"
             ],
             [
              0.3333333333333333,
              "#9c179e"
             ],
             [
              0.4444444444444444,
              "#bd3786"
             ],
             [
              0.5555555555555556,
              "#d8576b"
             ],
             [
              0.6666666666666666,
              "#ed7953"
             ],
             [
              0.7777777777777778,
              "#fb9f3a"
             ],
             [
              0.8888888888888888,
              "#fdca26"
             ],
             [
              1,
              "#f0f921"
             ]
            ],
            "type": "contour"
           }
          ],
          "contourcarpet": [
           {
            "colorbar": {
             "outlinewidth": 0,
             "ticks": ""
            },
            "type": "contourcarpet"
           }
          ],
          "heatmap": [
           {
            "colorbar": {
             "outlinewidth": 0,
             "ticks": ""
            },
            "colorscale": [
             [
              0,
              "#0d0887"
             ],
             [
              0.1111111111111111,
              "#46039f"
             ],
             [
              0.2222222222222222,
              "#7201a8"
             ],
             [
              0.3333333333333333,
              "#9c179e"
             ],
             [
              0.4444444444444444,
              "#bd3786"
             ],
             [
              0.5555555555555556,
              "#d8576b"
             ],
             [
              0.6666666666666666,
              "#ed7953"
             ],
             [
              0.7777777777777778,
              "#fb9f3a"
             ],
             [
              0.8888888888888888,
              "#fdca26"
             ],
             [
              1,
              "#f0f921"
             ]
            ],
            "type": "heatmap"
           }
          ],
          "heatmapgl": [
           {
            "colorbar": {
             "outlinewidth": 0,
             "ticks": ""
            },
            "colorscale": [
             [
              0,
              "#0d0887"
             ],
             [
              0.1111111111111111,
              "#46039f"
             ],
             [
              0.2222222222222222,
              "#7201a8"
             ],
             [
              0.3333333333333333,
              "#9c179e"
             ],
             [
              0.4444444444444444,
              "#bd3786"
             ],
             [
              0.5555555555555556,
              "#d8576b"
             ],
             [
              0.6666666666666666,
              "#ed7953"
             ],
             [
              0.7777777777777778,
              "#fb9f3a"
             ],
             [
              0.8888888888888888,
              "#fdca26"
             ],
             [
              1,
              "#f0f921"
             ]
            ],
            "type": "heatmapgl"
           }
          ],
          "histogram": [
           {
            "marker": {
             "colorbar": {
              "outlinewidth": 0,
              "ticks": ""
             }
            },
            "type": "histogram"
           }
          ],
          "histogram2d": [
           {
            "colorbar": {
             "outlinewidth": 0,
             "ticks": ""
            },
            "colorscale": [
             [
              0,
              "#0d0887"
             ],
             [
              0.1111111111111111,
              "#46039f"
             ],
             [
              0.2222222222222222,
              "#7201a8"
             ],
             [
              0.3333333333333333,
              "#9c179e"
             ],
             [
              0.4444444444444444,
              "#bd3786"
             ],
             [
              0.5555555555555556,
              "#d8576b"
             ],
             [
              0.6666666666666666,
              "#ed7953"
             ],
             [
              0.7777777777777778,
              "#fb9f3a"
             ],
             [
              0.8888888888888888,
              "#fdca26"
             ],
             [
              1,
              "#f0f921"
             ]
            ],
            "type": "histogram2d"
           }
          ],
          "histogram2dcontour": [
           {
            "colorbar": {
             "outlinewidth": 0,
             "ticks": ""
            },
            "colorscale": [
             [
              0,
              "#0d0887"
             ],
             [
              0.1111111111111111,
              "#46039f"
             ],
             [
              0.2222222222222222,
              "#7201a8"
             ],
             [
              0.3333333333333333,
              "#9c179e"
             ],
             [
              0.4444444444444444,
              "#bd3786"
             ],
             [
              0.5555555555555556,
              "#d8576b"
             ],
             [
              0.6666666666666666,
              "#ed7953"
             ],
             [
              0.7777777777777778,
              "#fb9f3a"
             ],
             [
              0.8888888888888888,
              "#fdca26"
             ],
             [
              1,
              "#f0f921"
             ]
            ],
            "type": "histogram2dcontour"
           }
          ],
          "mesh3d": [
           {
            "colorbar": {
             "outlinewidth": 0,
             "ticks": ""
            },
            "type": "mesh3d"
           }
          ],
          "parcoords": [
           {
            "line": {
             "colorbar": {
              "outlinewidth": 0,
              "ticks": ""
             }
            },
            "type": "parcoords"
           }
          ],
          "pie": [
           {
            "automargin": true,
            "type": "pie"
           }
          ],
          "scatter": [
           {
            "marker": {
             "colorbar": {
              "outlinewidth": 0,
              "ticks": ""
             }
            },
            "type": "scatter"
           }
          ],
          "scatter3d": [
           {
            "line": {
             "colorbar": {
              "outlinewidth": 0,
              "ticks": ""
             }
            },
            "marker": {
             "colorbar": {
              "outlinewidth": 0,
              "ticks": ""
             }
            },
            "type": "scatter3d"
           }
          ],
          "scattercarpet": [
           {
            "marker": {
             "colorbar": {
              "outlinewidth": 0,
              "ticks": ""
             }
            },
            "type": "scattercarpet"
           }
          ],
          "scattergeo": [
           {
            "marker": {
             "colorbar": {
              "outlinewidth": 0,
              "ticks": ""
             }
            },
            "type": "scattergeo"
           }
          ],
          "scattergl": [
           {
            "marker": {
             "colorbar": {
              "outlinewidth": 0,
              "ticks": ""
             }
            },
            "type": "scattergl"
           }
          ],
          "scattermapbox": [
           {
            "marker": {
             "colorbar": {
              "outlinewidth": 0,
              "ticks": ""
             }
            },
            "type": "scattermapbox"
           }
          ],
          "scatterpolar": [
           {
            "marker": {
             "colorbar": {
              "outlinewidth": 0,
              "ticks": ""
             }
            },
            "type": "scatterpolar"
           }
          ],
          "scatterpolargl": [
           {
            "marker": {
             "colorbar": {
              "outlinewidth": 0,
              "ticks": ""
             }
            },
            "type": "scatterpolargl"
           }
          ],
          "scatterternary": [
           {
            "marker": {
             "colorbar": {
              "outlinewidth": 0,
              "ticks": ""
             }
            },
            "type": "scatterternary"
           }
          ],
          "surface": [
           {
            "colorbar": {
             "outlinewidth": 0,
             "ticks": ""
            },
            "colorscale": [
             [
              0,
              "#0d0887"
             ],
             [
              0.1111111111111111,
              "#46039f"
             ],
             [
              0.2222222222222222,
              "#7201a8"
             ],
             [
              0.3333333333333333,
              "#9c179e"
             ],
             [
              0.4444444444444444,
              "#bd3786"
             ],
             [
              0.5555555555555556,
              "#d8576b"
             ],
             [
              0.6666666666666666,
              "#ed7953"
             ],
             [
              0.7777777777777778,
              "#fb9f3a"
             ],
             [
              0.8888888888888888,
              "#fdca26"
             ],
             [
              1,
              "#f0f921"
             ]
            ],
            "type": "surface"
           }
          ],
          "table": [
           {
            "cells": {
             "fill": {
              "color": "#EBF0F8"
             },
             "line": {
              "color": "white"
             }
            },
            "header": {
             "fill": {
              "color": "#C8D4E3"
             },
             "line": {
              "color": "white"
             }
            },
            "type": "table"
           }
          ]
         },
         "layout": {
          "annotationdefaults": {
           "arrowcolor": "#2a3f5f",
           "arrowhead": 0,
           "arrowwidth": 1
          },
          "autotypenumbers": "strict",
          "coloraxis": {
           "colorbar": {
            "outlinewidth": 0,
            "ticks": ""
           }
          },
          "colorscale": {
           "diverging": [
            [
             0,
             "#8e0152"
            ],
            [
             0.1,
             "#c51b7d"
            ],
            [
             0.2,
             "#de77ae"
            ],
            [
             0.3,
             "#f1b6da"
            ],
            [
             0.4,
             "#fde0ef"
            ],
            [
             0.5,
             "#f7f7f7"
            ],
            [
             0.6,
             "#e6f5d0"
            ],
            [
             0.7,
             "#b8e186"
            ],
            [
             0.8,
             "#7fbc41"
            ],
            [
             0.9,
             "#4d9221"
            ],
            [
             1,
             "#276419"
            ]
           ],
           "sequential": [
            [
             0,
             "#0d0887"
            ],
            [
             0.1111111111111111,
             "#46039f"
            ],
            [
             0.2222222222222222,
             "#7201a8"
            ],
            [
             0.3333333333333333,
             "#9c179e"
            ],
            [
             0.4444444444444444,
             "#bd3786"
            ],
            [
             0.5555555555555556,
             "#d8576b"
            ],
            [
             0.6666666666666666,
             "#ed7953"
            ],
            [
             0.7777777777777778,
             "#fb9f3a"
            ],
            [
             0.8888888888888888,
             "#fdca26"
            ],
            [
             1,
             "#f0f921"
            ]
           ],
           "sequentialminus": [
            [
             0,
             "#0d0887"
            ],
            [
             0.1111111111111111,
             "#46039f"
            ],
            [
             0.2222222222222222,
             "#7201a8"
            ],
            [
             0.3333333333333333,
             "#9c179e"
            ],
            [
             0.4444444444444444,
             "#bd3786"
            ],
            [
             0.5555555555555556,
             "#d8576b"
            ],
            [
             0.6666666666666666,
             "#ed7953"
            ],
            [
             0.7777777777777778,
             "#fb9f3a"
            ],
            [
             0.8888888888888888,
             "#fdca26"
            ],
            [
             1,
             "#f0f921"
            ]
           ]
          },
          "colorway": [
           "#636efa",
           "#EF553B",
           "#00cc96",
           "#ab63fa",
           "#FFA15A",
           "#19d3f3",
           "#FF6692",
           "#B6E880",
           "#FF97FF",
           "#FECB52"
          ],
          "font": {
           "color": "#2a3f5f"
          },
          "geo": {
           "bgcolor": "white",
           "lakecolor": "white",
           "landcolor": "#E5ECF6",
           "showlakes": true,
           "showland": true,
           "subunitcolor": "white"
          },
          "hoverlabel": {
           "align": "left"
          },
          "hovermode": "closest",
          "mapbox": {
           "style": "light"
          },
          "paper_bgcolor": "white",
          "plot_bgcolor": "#E5ECF6",
          "polar": {
           "angularaxis": {
            "gridcolor": "white",
            "linecolor": "white",
            "ticks": ""
           },
           "bgcolor": "#E5ECF6",
           "radialaxis": {
            "gridcolor": "white",
            "linecolor": "white",
            "ticks": ""
           }
          },
          "scene": {
           "xaxis": {
            "backgroundcolor": "#E5ECF6",
            "gridcolor": "white",
            "gridwidth": 2,
            "linecolor": "white",
            "showbackground": true,
            "ticks": "",
            "zerolinecolor": "white"
           },
           "yaxis": {
            "backgroundcolor": "#E5ECF6",
            "gridcolor": "white",
            "gridwidth": 2,
            "linecolor": "white",
            "showbackground": true,
            "ticks": "",
            "zerolinecolor": "white"
           },
           "zaxis": {
            "backgroundcolor": "#E5ECF6",
            "gridcolor": "white",
            "gridwidth": 2,
            "linecolor": "white",
            "showbackground": true,
            "ticks": "",
            "zerolinecolor": "white"
           }
          },
          "shapedefaults": {
           "line": {
            "color": "#2a3f5f"
           }
          },
          "ternary": {
           "aaxis": {
            "gridcolor": "white",
            "linecolor": "white",
            "ticks": ""
           },
           "baxis": {
            "gridcolor": "white",
            "linecolor": "white",
            "ticks": ""
           },
           "bgcolor": "#E5ECF6",
           "caxis": {
            "gridcolor": "white",
            "linecolor": "white",
            "ticks": ""
           }
          },
          "title": {
           "x": 0.05
          },
          "xaxis": {
           "automargin": true,
           "gridcolor": "white",
           "linecolor": "white",
           "ticks": "",
           "title": {
            "standoff": 15
           },
           "zerolinecolor": "white",
           "zerolinewidth": 2
          },
          "yaxis": {
           "automargin": true,
           "gridcolor": "white",
           "linecolor": "white",
           "ticks": "",
           "title": {
            "standoff": 15
           },
           "zerolinecolor": "white",
           "zerolinewidth": 2
          }
         }
        },
        "title": {
         "text": "<span style='font-size: 22px;'><b>Top key words<b></span>",
         "x": 0.5
        },
        "yaxis": {
         "range": [
          0,
          14.3
         ],
         "title": {
          "text": "Number of occurences"
         }
        }
       }
      },
      "text/html": [
       "<div>                            <div id=\"d29f0e61-8cec-4aa1-9f86-3425e5b604c6\" class=\"plotly-graph-div\" style=\"height:525px; width:100%;\"></div>            <script type=\"text/javascript\">                require([\"plotly\"], function(Plotly) {                    window.PLOTLYENV=window.PLOTLYENV || {};                                    if (document.getElementById(\"d29f0e61-8cec-4aa1-9f86-3425e5b604c6\")) {                    Plotly.newPlot(                        \"d29f0e61-8cec-4aa1-9f86-3425e5b604c6\",                        [{\"marker\": {\"color\": \"#eda109\"}, \"textangle\": 0, \"textposition\": \"outside\", \"texttemplate\": \"%{y}\", \"type\": \"bar\", \"x\": [\"preservation\", \"potential\", \"implications\", \"detection\", \"analog\", \"exploration\", \"earth\", \"diagenesis\", \"playa\", \"spectroscopy\", \"environments\", \"using\", \"high\", \"evaporites\", \"trace\"], \"y\": [13, 8, 8, 7, 6, 5, 4, 4, 3, 3, 3, 3, 3, 2, 2]}],                        {\"font\": {\"color\": \"white\", \"family\": \"Courier New, monospace\", \"size\": 12}, \"paper_bgcolor\": \"#101126\", \"plot_bgcolor\": \"#101126\", \"template\": {\"data\": {\"bar\": [{\"error_x\": {\"color\": \"#2a3f5f\"}, \"error_y\": {\"color\": \"#2a3f5f\"}, \"marker\": {\"line\": {\"color\": \"#E5ECF6\", \"width\": 0.5}}, \"type\": \"bar\"}], \"barpolar\": [{\"marker\": {\"line\": {\"color\": \"#E5ECF6\", \"width\": 0.5}}, \"type\": \"barpolar\"}], \"carpet\": [{\"aaxis\": {\"endlinecolor\": \"#2a3f5f\", \"gridcolor\": \"white\", \"linecolor\": \"white\", \"minorgridcolor\": \"white\", \"startlinecolor\": \"#2a3f5f\"}, \"baxis\": {\"endlinecolor\": \"#2a3f5f\", \"gridcolor\": \"white\", \"linecolor\": \"white\", \"minorgridcolor\": \"white\", \"startlinecolor\": \"#2a3f5f\"}, \"type\": \"carpet\"}], \"choropleth\": [{\"colorbar\": {\"outlinewidth\": 0, \"ticks\": \"\"}, \"type\": \"choropleth\"}], \"contour\": [{\"colorbar\": {\"outlinewidth\": 0, \"ticks\": \"\"}, \"colorscale\": [[0.0, \"#0d0887\"], [0.1111111111111111, \"#46039f\"], [0.2222222222222222, \"#7201a8\"], [0.3333333333333333, \"#9c179e\"], [0.4444444444444444, \"#bd3786\"], [0.5555555555555556, \"#d8576b\"], [0.6666666666666666, \"#ed7953\"], [0.7777777777777778, \"#fb9f3a\"], [0.8888888888888888, \"#fdca26\"], [1.0, \"#f0f921\"]], \"type\": \"contour\"}], \"contourcarpet\": [{\"colorbar\": {\"outlinewidth\": 0, \"ticks\": \"\"}, \"type\": \"contourcarpet\"}], \"heatmap\": [{\"colorbar\": {\"outlinewidth\": 0, \"ticks\": \"\"}, \"colorscale\": [[0.0, \"#0d0887\"], [0.1111111111111111, \"#46039f\"], [0.2222222222222222, \"#7201a8\"], [0.3333333333333333, \"#9c179e\"], [0.4444444444444444, \"#bd3786\"], [0.5555555555555556, \"#d8576b\"], [0.6666666666666666, \"#ed7953\"], [0.7777777777777778, \"#fb9f3a\"], [0.8888888888888888, \"#fdca26\"], [1.0, \"#f0f921\"]], \"type\": \"heatmap\"}], \"heatmapgl\": [{\"colorbar\": {\"outlinewidth\": 0, \"ticks\": \"\"}, \"colorscale\": [[0.0, \"#0d0887\"], [0.1111111111111111, \"#46039f\"], [0.2222222222222222, \"#7201a8\"], [0.3333333333333333, \"#9c179e\"], [0.4444444444444444, \"#bd3786\"], [0.5555555555555556, \"#d8576b\"], [0.6666666666666666, \"#ed7953\"], [0.7777777777777778, \"#fb9f3a\"], [0.8888888888888888, \"#fdca26\"], [1.0, \"#f0f921\"]], \"type\": \"heatmapgl\"}], \"histogram\": [{\"marker\": {\"colorbar\": {\"outlinewidth\": 0, \"ticks\": \"\"}}, \"type\": \"histogram\"}], \"histogram2d\": [{\"colorbar\": {\"outlinewidth\": 0, \"ticks\": \"\"}, \"colorscale\": [[0.0, \"#0d0887\"], [0.1111111111111111, \"#46039f\"], [0.2222222222222222, \"#7201a8\"], [0.3333333333333333, \"#9c179e\"], [0.4444444444444444, \"#bd3786\"], [0.5555555555555556, \"#d8576b\"], [0.6666666666666666, \"#ed7953\"], [0.7777777777777778, \"#fb9f3a\"], [0.8888888888888888, \"#fdca26\"], [1.0, \"#f0f921\"]], \"type\": \"histogram2d\"}], \"histogram2dcontour\": [{\"colorbar\": {\"outlinewidth\": 0, \"ticks\": \"\"}, \"colorscale\": [[0.0, \"#0d0887\"], [0.1111111111111111, \"#46039f\"], [0.2222222222222222, \"#7201a8\"], [0.3333333333333333, \"#9c179e\"], [0.4444444444444444, \"#bd3786\"], [0.5555555555555556, \"#d8576b\"], [0.6666666666666666, \"#ed7953\"], [0.7777777777777778, \"#fb9f3a\"], [0.8888888888888888, \"#fdca26\"], [1.0, \"#f0f921\"]], \"type\": \"histogram2dcontour\"}], \"mesh3d\": [{\"colorbar\": {\"outlinewidth\": 0, \"ticks\": \"\"}, \"type\": \"mesh3d\"}], \"parcoords\": [{\"line\": {\"colorbar\": {\"outlinewidth\": 0, \"ticks\": \"\"}}, \"type\": \"parcoords\"}], \"pie\": [{\"automargin\": true, \"type\": \"pie\"}], \"scatter\": [{\"marker\": {\"colorbar\": {\"outlinewidth\": 0, \"ticks\": \"\"}}, \"type\": \"scatter\"}], \"scatter3d\": [{\"line\": {\"colorbar\": {\"outlinewidth\": 0, \"ticks\": \"\"}}, \"marker\": {\"colorbar\": {\"outlinewidth\": 0, \"ticks\": \"\"}}, \"type\": \"scatter3d\"}], \"scattercarpet\": [{\"marker\": {\"colorbar\": {\"outlinewidth\": 0, \"ticks\": \"\"}}, \"type\": \"scattercarpet\"}], \"scattergeo\": [{\"marker\": {\"colorbar\": {\"outlinewidth\": 0, \"ticks\": \"\"}}, \"type\": \"scattergeo\"}], \"scattergl\": [{\"marker\": {\"colorbar\": {\"outlinewidth\": 0, \"ticks\": \"\"}}, \"type\": \"scattergl\"}], \"scattermapbox\": [{\"marker\": {\"colorbar\": {\"outlinewidth\": 0, \"ticks\": \"\"}}, \"type\": \"scattermapbox\"}], \"scatterpolar\": [{\"marker\": {\"colorbar\": {\"outlinewidth\": 0, \"ticks\": \"\"}}, \"type\": \"scatterpolar\"}], \"scatterpolargl\": [{\"marker\": {\"colorbar\": {\"outlinewidth\": 0, \"ticks\": \"\"}}, \"type\": \"scatterpolargl\"}], \"scatterternary\": [{\"marker\": {\"colorbar\": {\"outlinewidth\": 0, \"ticks\": \"\"}}, \"type\": \"scatterternary\"}], \"surface\": [{\"colorbar\": {\"outlinewidth\": 0, \"ticks\": \"\"}, \"colorscale\": [[0.0, \"#0d0887\"], [0.1111111111111111, \"#46039f\"], [0.2222222222222222, \"#7201a8\"], [0.3333333333333333, \"#9c179e\"], [0.4444444444444444, \"#bd3786\"], [0.5555555555555556, \"#d8576b\"], [0.6666666666666666, \"#ed7953\"], [0.7777777777777778, \"#fb9f3a\"], [0.8888888888888888, \"#fdca26\"], [1.0, \"#f0f921\"]], \"type\": \"surface\"}], \"table\": [{\"cells\": {\"fill\": {\"color\": \"#EBF0F8\"}, \"line\": {\"color\": \"white\"}}, \"header\": {\"fill\": {\"color\": \"#C8D4E3\"}, \"line\": {\"color\": \"white\"}}, \"type\": \"table\"}]}, \"layout\": {\"annotationdefaults\": {\"arrowcolor\": \"#2a3f5f\", \"arrowhead\": 0, \"arrowwidth\": 1}, \"autotypenumbers\": \"strict\", \"coloraxis\": {\"colorbar\": {\"outlinewidth\": 0, \"ticks\": \"\"}}, \"colorscale\": {\"diverging\": [[0, \"#8e0152\"], [0.1, \"#c51b7d\"], [0.2, \"#de77ae\"], [0.3, \"#f1b6da\"], [0.4, \"#fde0ef\"], [0.5, \"#f7f7f7\"], [0.6, \"#e6f5d0\"], [0.7, \"#b8e186\"], [0.8, \"#7fbc41\"], [0.9, \"#4d9221\"], [1, \"#276419\"]], \"sequential\": [[0.0, \"#0d0887\"], [0.1111111111111111, \"#46039f\"], [0.2222222222222222, \"#7201a8\"], [0.3333333333333333, \"#9c179e\"], [0.4444444444444444, \"#bd3786\"], [0.5555555555555556, \"#d8576b\"], [0.6666666666666666, \"#ed7953\"], [0.7777777777777778, \"#fb9f3a\"], [0.8888888888888888, \"#fdca26\"], [1.0, \"#f0f921\"]], \"sequentialminus\": [[0.0, \"#0d0887\"], [0.1111111111111111, \"#46039f\"], [0.2222222222222222, \"#7201a8\"], [0.3333333333333333, \"#9c179e\"], [0.4444444444444444, \"#bd3786\"], [0.5555555555555556, \"#d8576b\"], [0.6666666666666666, \"#ed7953\"], [0.7777777777777778, \"#fb9f3a\"], [0.8888888888888888, \"#fdca26\"], [1.0, \"#f0f921\"]]}, \"colorway\": [\"#636efa\", \"#EF553B\", \"#00cc96\", \"#ab63fa\", \"#FFA15A\", \"#19d3f3\", \"#FF6692\", \"#B6E880\", \"#FF97FF\", \"#FECB52\"], \"font\": {\"color\": \"#2a3f5f\"}, \"geo\": {\"bgcolor\": \"white\", \"lakecolor\": \"white\", \"landcolor\": \"#E5ECF6\", \"showlakes\": true, \"showland\": true, \"subunitcolor\": \"white\"}, \"hoverlabel\": {\"align\": \"left\"}, \"hovermode\": \"closest\", \"mapbox\": {\"style\": \"light\"}, \"paper_bgcolor\": \"white\", \"plot_bgcolor\": \"#E5ECF6\", \"polar\": {\"angularaxis\": {\"gridcolor\": \"white\", \"linecolor\": \"white\", \"ticks\": \"\"}, \"bgcolor\": \"#E5ECF6\", \"radialaxis\": {\"gridcolor\": \"white\", \"linecolor\": \"white\", \"ticks\": \"\"}}, \"scene\": {\"xaxis\": {\"backgroundcolor\": \"#E5ECF6\", \"gridcolor\": \"white\", \"gridwidth\": 2, \"linecolor\": \"white\", \"showbackground\": true, \"ticks\": \"\", \"zerolinecolor\": \"white\"}, \"yaxis\": {\"backgroundcolor\": \"#E5ECF6\", \"gridcolor\": \"white\", \"gridwidth\": 2, \"linecolor\": \"white\", \"showbackground\": true, \"ticks\": \"\", \"zerolinecolor\": \"white\"}, \"zaxis\": {\"backgroundcolor\": \"#E5ECF6\", \"gridcolor\": \"white\", \"gridwidth\": 2, \"linecolor\": \"white\", \"showbackground\": true, \"ticks\": \"\", \"zerolinecolor\": \"white\"}}, \"shapedefaults\": {\"line\": {\"color\": \"#2a3f5f\"}}, \"ternary\": {\"aaxis\": {\"gridcolor\": \"white\", \"linecolor\": \"white\", \"ticks\": \"\"}, \"baxis\": {\"gridcolor\": \"white\", \"linecolor\": \"white\", \"ticks\": \"\"}, \"bgcolor\": \"#E5ECF6\", \"caxis\": {\"gridcolor\": \"white\", \"linecolor\": \"white\", \"ticks\": \"\"}}, \"title\": {\"x\": 0.05}, \"xaxis\": {\"automargin\": true, \"gridcolor\": \"white\", \"linecolor\": \"white\", \"ticks\": \"\", \"title\": {\"standoff\": 15}, \"zerolinecolor\": \"white\", \"zerolinewidth\": 2}, \"yaxis\": {\"automargin\": true, \"gridcolor\": \"white\", \"linecolor\": \"white\", \"ticks\": \"\", \"title\": {\"standoff\": 15}, \"zerolinecolor\": \"white\", \"zerolinewidth\": 2}}}, \"title\": {\"text\": \"<span style='font-size: 22px;'><b>Top key words<b></span>\", \"x\": 0.5}, \"yaxis\": {\"range\": [0, 14.3], \"title\": {\"text\": \"Number of occurences\"}}},                        {\"responsive\": true}                    ).then(function(){\n",
       "                            \n",
       "var gd = document.getElementById('d29f0e61-8cec-4aa1-9f86-3425e5b604c6');\n",
       "var x = new MutationObserver(function (mutations, observer) {{\n",
       "        var display = window.getComputedStyle(gd).display;\n",
       "        if (!display || display === 'none') {{\n",
       "            console.log([gd, 'removed!']);\n",
       "            Plotly.purge(gd);\n",
       "            observer.disconnect();\n",
       "        }}\n",
       "}});\n",
       "\n",
       "// Listen for the removal of the full notebook cells\n",
       "var notebookContainer = gd.closest('#notebook-container');\n",
       "if (notebookContainer) {{\n",
       "    x.observe(notebookContainer, {childList: true});\n",
       "}}\n",
       "\n",
       "// Listen for the clearing of the current output cell\n",
       "var outputEl = gd.closest('.output');\n",
       "if (outputEl) {{\n",
       "    x.observe(outputEl, {childList: true});\n",
       "}}\n",
       "\n",
       "                        })                };                });            </script>        </div>"
      ]
     },
     "metadata": {},
     "output_type": "display_data"
    }
   ],
   "source": [
    "plots.make_top_key_words(results_df, query)"
   ]
  },
  {
   "cell_type": "markdown",
   "id": "09038c37",
   "metadata": {
    "heading_collapsed": true,
    "hidden": true
   },
   "source": [
    "#### Fields of Study"
   ]
  },
  {
   "cell_type": "code",
   "execution_count": 16,
   "id": "9c2fe968",
   "metadata": {
    "hidden": true
   },
   "outputs": [],
   "source": [
    "test_list = results_df.fieldsOfStudy.tolist()\n",
    "res = [i for i in test_list if i]\n",
    "flat_list_fields = utils.flatten_list(res)"
   ]
  },
  {
   "cell_type": "code",
   "execution_count": 18,
   "id": "a32d4844",
   "metadata": {
    "hidden": true
   },
   "outputs": [
    {
     "data": {
      "text/html": [
       "<div>\n",
       "<style scoped>\n",
       "    .dataframe tbody tr th:only-of-type {\n",
       "        vertical-align: middle;\n",
       "    }\n",
       "\n",
       "    .dataframe tbody tr th {\n",
       "        vertical-align: top;\n",
       "    }\n",
       "\n",
       "    .dataframe thead th {\n",
       "        text-align: right;\n",
       "    }\n",
       "</style>\n",
       "<table border=\"1\" class=\"dataframe\">\n",
       "  <thead>\n",
       "    <tr style=\"text-align: right;\">\n",
       "      <th></th>\n",
       "      <th>field</th>\n",
       "      <th>occurence</th>\n",
       "    </tr>\n",
       "  </thead>\n",
       "  <tbody>\n",
       "    <tr>\n",
       "      <th>0</th>\n",
       "      <td>Geology</td>\n",
       "      <td>19</td>\n",
       "    </tr>\n",
       "    <tr>\n",
       "      <th>1</th>\n",
       "      <td>Medicine</td>\n",
       "      <td>6</td>\n",
       "    </tr>\n",
       "    <tr>\n",
       "      <th>2</th>\n",
       "      <td>Environmental Science</td>\n",
       "      <td>5</td>\n",
       "    </tr>\n",
       "    <tr>\n",
       "      <th>3</th>\n",
       "      <td>Chemistry</td>\n",
       "      <td>3</td>\n",
       "    </tr>\n",
       "    <tr>\n",
       "      <th>4</th>\n",
       "      <td>Materials Science</td>\n",
       "      <td>1</td>\n",
       "    </tr>\n",
       "  </tbody>\n",
       "</table>\n",
       "</div>"
      ],
      "text/plain": [
       "                   field  occurence\n",
       "0                Geology         19\n",
       "1               Medicine          6\n",
       "2  Environmental Science          5\n",
       "3              Chemistry          3\n",
       "4      Materials Science          1"
      ]
     },
     "execution_count": 18,
     "metadata": {},
     "output_type": "execute_result"
    }
   ],
   "source": [
    "most_common_fields = Counter(flat_list_fields).most_common()\n",
    "most_common_fields_df = pd.DataFrame(most_common_fields, columns=[\"field\", \"occurence\"])\n",
    "most_common_fields_df"
   ]
  },
  {
   "cell_type": "code",
   "execution_count": 21,
   "id": "07a4a721",
   "metadata": {
    "hidden": true
   },
   "outputs": [],
   "source": [
    "def make_fields_pie(df):\n",
    "    test_list = df.fieldsOfStudy.tolist()\n",
    "    res = [i for i in test_list if i]\n",
    "    flat_list_fields = utils.flatten_list(res)\n",
    "    \n",
    "    most_common_fields = Counter(flat_list_fields).most_common()\n",
    "    most_common_fields_df = pd.DataFrame(most_common_fields, columns=[\"field\", \"occurence\"])\n",
    "    \n",
    "    fig = px.pie(most_common_fields_df, values='occurence', names= 'field')\n",
    "\n",
    "    fig.update_layout(\n",
    "    title = \"<span style='font-size: 22px;'><b>Fields of Study<b></span>\", title_x=0.5,\n",
    "    font=dict(\n",
    "        family=\"Courier New, monospace\",\n",
    "        size=14,\n",
    "        color=\"white\"\n",
    "    ),\n",
    "    paper_bgcolor = \"#101126\",\n",
    "    plot_bgcolor = \"#101126\")\n",
    "    return fig"
   ]
  },
  {
   "cell_type": "code",
   "execution_count": 23,
   "id": "9469303d",
   "metadata": {
    "hidden": true,
    "scrolled": false
   },
   "outputs": [
    {
     "data": {
      "application/vnd.plotly.v1+json": {
       "config": {
        "plotlyServerURL": "https://plot.ly"
       },
       "data": [
        {
         "domain": {
          "x": [
           0,
           1
          ],
          "y": [
           0,
           1
          ]
         },
         "hovertemplate": "field=%{label}<br>occurence=%{value}<extra></extra>",
         "labels": [
          "Geology",
          "Medicine",
          "Chemistry",
          "Biology",
          "Physics",
          "Environmental Science",
          "Materials Science",
          "Computer Science",
          "Engineering",
          "Geography",
          "History"
         ],
         "legendgroup": "",
         "name": "",
         "showlegend": true,
         "type": "pie",
         "values": [
          387,
          288,
          154,
          82,
          77,
          59,
          45,
          13,
          10,
          5,
          1
         ]
        }
       ],
       "layout": {
        "font": {
         "color": "white",
         "family": "Courier New, monospace",
         "size": 14
        },
        "legend": {
         "tracegroupgap": 0
        },
        "margin": {
         "t": 60
        },
        "paper_bgcolor": "#101126",
        "plot_bgcolor": "#101126",
        "template": {
         "data": {
          "bar": [
           {
            "error_x": {
             "color": "#2a3f5f"
            },
            "error_y": {
             "color": "#2a3f5f"
            },
            "marker": {
             "line": {
              "color": "#E5ECF6",
              "width": 0.5
             }
            },
            "type": "bar"
           }
          ],
          "barpolar": [
           {
            "marker": {
             "line": {
              "color": "#E5ECF6",
              "width": 0.5
             }
            },
            "type": "barpolar"
           }
          ],
          "carpet": [
           {
            "aaxis": {
             "endlinecolor": "#2a3f5f",
             "gridcolor": "white",
             "linecolor": "white",
             "minorgridcolor": "white",
             "startlinecolor": "#2a3f5f"
            },
            "baxis": {
             "endlinecolor": "#2a3f5f",
             "gridcolor": "white",
             "linecolor": "white",
             "minorgridcolor": "white",
             "startlinecolor": "#2a3f5f"
            },
            "type": "carpet"
           }
          ],
          "choropleth": [
           {
            "colorbar": {
             "outlinewidth": 0,
             "ticks": ""
            },
            "type": "choropleth"
           }
          ],
          "contour": [
           {
            "colorbar": {
             "outlinewidth": 0,
             "ticks": ""
            },
            "colorscale": [
             [
              0,
              "#0d0887"
             ],
             [
              0.1111111111111111,
              "#46039f"
             ],
             [
              0.2222222222222222,
              "#7201a8"
             ],
             [
              0.3333333333333333,
              "#9c179e"
             ],
             [
              0.4444444444444444,
              "#bd3786"
             ],
             [
              0.5555555555555556,
              "#d8576b"
             ],
             [
              0.6666666666666666,
              "#ed7953"
             ],
             [
              0.7777777777777778,
              "#fb9f3a"
             ],
             [
              0.8888888888888888,
              "#fdca26"
             ],
             [
              1,
              "#f0f921"
             ]
            ],
            "type": "contour"
           }
          ],
          "contourcarpet": [
           {
            "colorbar": {
             "outlinewidth": 0,
             "ticks": ""
            },
            "type": "contourcarpet"
           }
          ],
          "heatmap": [
           {
            "colorbar": {
             "outlinewidth": 0,
             "ticks": ""
            },
            "colorscale": [
             [
              0,
              "#0d0887"
             ],
             [
              0.1111111111111111,
              "#46039f"
             ],
             [
              0.2222222222222222,
              "#7201a8"
             ],
             [
              0.3333333333333333,
              "#9c179e"
             ],
             [
              0.4444444444444444,
              "#bd3786"
             ],
             [
              0.5555555555555556,
              "#d8576b"
             ],
             [
              0.6666666666666666,
              "#ed7953"
             ],
             [
              0.7777777777777778,
              "#fb9f3a"
             ],
             [
              0.8888888888888888,
              "#fdca26"
             ],
             [
              1,
              "#f0f921"
             ]
            ],
            "type": "heatmap"
           }
          ],
          "heatmapgl": [
           {
            "colorbar": {
             "outlinewidth": 0,
             "ticks": ""
            },
            "colorscale": [
             [
              0,
              "#0d0887"
             ],
             [
              0.1111111111111111,
              "#46039f"
             ],
             [
              0.2222222222222222,
              "#7201a8"
             ],
             [
              0.3333333333333333,
              "#9c179e"
             ],
             [
              0.4444444444444444,
              "#bd3786"
             ],
             [
              0.5555555555555556,
              "#d8576b"
             ],
             [
              0.6666666666666666,
              "#ed7953"
             ],
             [
              0.7777777777777778,
              "#fb9f3a"
             ],
             [
              0.8888888888888888,
              "#fdca26"
             ],
             [
              1,
              "#f0f921"
             ]
            ],
            "type": "heatmapgl"
           }
          ],
          "histogram": [
           {
            "marker": {
             "colorbar": {
              "outlinewidth": 0,
              "ticks": ""
             }
            },
            "type": "histogram"
           }
          ],
          "histogram2d": [
           {
            "colorbar": {
             "outlinewidth": 0,
             "ticks": ""
            },
            "colorscale": [
             [
              0,
              "#0d0887"
             ],
             [
              0.1111111111111111,
              "#46039f"
             ],
             [
              0.2222222222222222,
              "#7201a8"
             ],
             [
              0.3333333333333333,
              "#9c179e"
             ],
             [
              0.4444444444444444,
              "#bd3786"
             ],
             [
              0.5555555555555556,
              "#d8576b"
             ],
             [
              0.6666666666666666,
              "#ed7953"
             ],
             [
              0.7777777777777778,
              "#fb9f3a"
             ],
             [
              0.8888888888888888,
              "#fdca26"
             ],
             [
              1,
              "#f0f921"
             ]
            ],
            "type": "histogram2d"
           }
          ],
          "histogram2dcontour": [
           {
            "colorbar": {
             "outlinewidth": 0,
             "ticks": ""
            },
            "colorscale": [
             [
              0,
              "#0d0887"
             ],
             [
              0.1111111111111111,
              "#46039f"
             ],
             [
              0.2222222222222222,
              "#7201a8"
             ],
             [
              0.3333333333333333,
              "#9c179e"
             ],
             [
              0.4444444444444444,
              "#bd3786"
             ],
             [
              0.5555555555555556,
              "#d8576b"
             ],
             [
              0.6666666666666666,
              "#ed7953"
             ],
             [
              0.7777777777777778,
              "#fb9f3a"
             ],
             [
              0.8888888888888888,
              "#fdca26"
             ],
             [
              1,
              "#f0f921"
             ]
            ],
            "type": "histogram2dcontour"
           }
          ],
          "mesh3d": [
           {
            "colorbar": {
             "outlinewidth": 0,
             "ticks": ""
            },
            "type": "mesh3d"
           }
          ],
          "parcoords": [
           {
            "line": {
             "colorbar": {
              "outlinewidth": 0,
              "ticks": ""
             }
            },
            "type": "parcoords"
           }
          ],
          "pie": [
           {
            "automargin": true,
            "type": "pie"
           }
          ],
          "scatter": [
           {
            "marker": {
             "colorbar": {
              "outlinewidth": 0,
              "ticks": ""
             }
            },
            "type": "scatter"
           }
          ],
          "scatter3d": [
           {
            "line": {
             "colorbar": {
              "outlinewidth": 0,
              "ticks": ""
             }
            },
            "marker": {
             "colorbar": {
              "outlinewidth": 0,
              "ticks": ""
             }
            },
            "type": "scatter3d"
           }
          ],
          "scattercarpet": [
           {
            "marker": {
             "colorbar": {
              "outlinewidth": 0,
              "ticks": ""
             }
            },
            "type": "scattercarpet"
           }
          ],
          "scattergeo": [
           {
            "marker": {
             "colorbar": {
              "outlinewidth": 0,
              "ticks": ""
             }
            },
            "type": "scattergeo"
           }
          ],
          "scattergl": [
           {
            "marker": {
             "colorbar": {
              "outlinewidth": 0,
              "ticks": ""
             }
            },
            "type": "scattergl"
           }
          ],
          "scattermapbox": [
           {
            "marker": {
             "colorbar": {
              "outlinewidth": 0,
              "ticks": ""
             }
            },
            "type": "scattermapbox"
           }
          ],
          "scatterpolar": [
           {
            "marker": {
             "colorbar": {
              "outlinewidth": 0,
              "ticks": ""
             }
            },
            "type": "scatterpolar"
           }
          ],
          "scatterpolargl": [
           {
            "marker": {
             "colorbar": {
              "outlinewidth": 0,
              "ticks": ""
             }
            },
            "type": "scatterpolargl"
           }
          ],
          "scatterternary": [
           {
            "marker": {
             "colorbar": {
              "outlinewidth": 0,
              "ticks": ""
             }
            },
            "type": "scatterternary"
           }
          ],
          "surface": [
           {
            "colorbar": {
             "outlinewidth": 0,
             "ticks": ""
            },
            "colorscale": [
             [
              0,
              "#0d0887"
             ],
             [
              0.1111111111111111,
              "#46039f"
             ],
             [
              0.2222222222222222,
              "#7201a8"
             ],
             [
              0.3333333333333333,
              "#9c179e"
             ],
             [
              0.4444444444444444,
              "#bd3786"
             ],
             [
              0.5555555555555556,
              "#d8576b"
             ],
             [
              0.6666666666666666,
              "#ed7953"
             ],
             [
              0.7777777777777778,
              "#fb9f3a"
             ],
             [
              0.8888888888888888,
              "#fdca26"
             ],
             [
              1,
              "#f0f921"
             ]
            ],
            "type": "surface"
           }
          ],
          "table": [
           {
            "cells": {
             "fill": {
              "color": "#EBF0F8"
             },
             "line": {
              "color": "white"
             }
            },
            "header": {
             "fill": {
              "color": "#C8D4E3"
             },
             "line": {
              "color": "white"
             }
            },
            "type": "table"
           }
          ]
         },
         "layout": {
          "annotationdefaults": {
           "arrowcolor": "#2a3f5f",
           "arrowhead": 0,
           "arrowwidth": 1
          },
          "autotypenumbers": "strict",
          "coloraxis": {
           "colorbar": {
            "outlinewidth": 0,
            "ticks": ""
           }
          },
          "colorscale": {
           "diverging": [
            [
             0,
             "#8e0152"
            ],
            [
             0.1,
             "#c51b7d"
            ],
            [
             0.2,
             "#de77ae"
            ],
            [
             0.3,
             "#f1b6da"
            ],
            [
             0.4,
             "#fde0ef"
            ],
            [
             0.5,
             "#f7f7f7"
            ],
            [
             0.6,
             "#e6f5d0"
            ],
            [
             0.7,
             "#b8e186"
            ],
            [
             0.8,
             "#7fbc41"
            ],
            [
             0.9,
             "#4d9221"
            ],
            [
             1,
             "#276419"
            ]
           ],
           "sequential": [
            [
             0,
             "#0d0887"
            ],
            [
             0.1111111111111111,
             "#46039f"
            ],
            [
             0.2222222222222222,
             "#7201a8"
            ],
            [
             0.3333333333333333,
             "#9c179e"
            ],
            [
             0.4444444444444444,
             "#bd3786"
            ],
            [
             0.5555555555555556,
             "#d8576b"
            ],
            [
             0.6666666666666666,
             "#ed7953"
            ],
            [
             0.7777777777777778,
             "#fb9f3a"
            ],
            [
             0.8888888888888888,
             "#fdca26"
            ],
            [
             1,
             "#f0f921"
            ]
           ],
           "sequentialminus": [
            [
             0,
             "#0d0887"
            ],
            [
             0.1111111111111111,
             "#46039f"
            ],
            [
             0.2222222222222222,
             "#7201a8"
            ],
            [
             0.3333333333333333,
             "#9c179e"
            ],
            [
             0.4444444444444444,
             "#bd3786"
            ],
            [
             0.5555555555555556,
             "#d8576b"
            ],
            [
             0.6666666666666666,
             "#ed7953"
            ],
            [
             0.7777777777777778,
             "#fb9f3a"
            ],
            [
             0.8888888888888888,
             "#fdca26"
            ],
            [
             1,
             "#f0f921"
            ]
           ]
          },
          "colorway": [
           "#636efa",
           "#EF553B",
           "#00cc96",
           "#ab63fa",
           "#FFA15A",
           "#19d3f3",
           "#FF6692",
           "#B6E880",
           "#FF97FF",
           "#FECB52"
          ],
          "font": {
           "color": "#2a3f5f"
          },
          "geo": {
           "bgcolor": "white",
           "lakecolor": "white",
           "landcolor": "#E5ECF6",
           "showlakes": true,
           "showland": true,
           "subunitcolor": "white"
          },
          "hoverlabel": {
           "align": "left"
          },
          "hovermode": "closest",
          "mapbox": {
           "style": "light"
          },
          "paper_bgcolor": "white",
          "plot_bgcolor": "#E5ECF6",
          "polar": {
           "angularaxis": {
            "gridcolor": "white",
            "linecolor": "white",
            "ticks": ""
           },
           "bgcolor": "#E5ECF6",
           "radialaxis": {
            "gridcolor": "white",
            "linecolor": "white",
            "ticks": ""
           }
          },
          "scene": {
           "xaxis": {
            "backgroundcolor": "#E5ECF6",
            "gridcolor": "white",
            "gridwidth": 2,
            "linecolor": "white",
            "showbackground": true,
            "ticks": "",
            "zerolinecolor": "white"
           },
           "yaxis": {
            "backgroundcolor": "#E5ECF6",
            "gridcolor": "white",
            "gridwidth": 2,
            "linecolor": "white",
            "showbackground": true,
            "ticks": "",
            "zerolinecolor": "white"
           },
           "zaxis": {
            "backgroundcolor": "#E5ECF6",
            "gridcolor": "white",
            "gridwidth": 2,
            "linecolor": "white",
            "showbackground": true,
            "ticks": "",
            "zerolinecolor": "white"
           }
          },
          "shapedefaults": {
           "line": {
            "color": "#2a3f5f"
           }
          },
          "ternary": {
           "aaxis": {
            "gridcolor": "white",
            "linecolor": "white",
            "ticks": ""
           },
           "baxis": {
            "gridcolor": "white",
            "linecolor": "white",
            "ticks": ""
           },
           "bgcolor": "#E5ECF6",
           "caxis": {
            "gridcolor": "white",
            "linecolor": "white",
            "ticks": ""
           }
          },
          "title": {
           "x": 0.05
          },
          "xaxis": {
           "automargin": true,
           "gridcolor": "white",
           "linecolor": "white",
           "ticks": "",
           "title": {
            "standoff": 15
           },
           "zerolinecolor": "white",
           "zerolinewidth": 2
          },
          "yaxis": {
           "automargin": true,
           "gridcolor": "white",
           "linecolor": "white",
           "ticks": "",
           "title": {
            "standoff": 15
           },
           "zerolinecolor": "white",
           "zerolinewidth": 2
          }
         }
        },
        "title": {
         "text": "<span style='font-size: 22px;'><b>Fields of Study<b></span>",
         "x": 0.5
        }
       }
      },
      "text/html": [
       "<div>                            <div id=\"f4768478-7001-43a1-a8c7-bc625c659337\" class=\"plotly-graph-div\" style=\"height:525px; width:100%;\"></div>            <script type=\"text/javascript\">                require([\"plotly\"], function(Plotly) {                    window.PLOTLYENV=window.PLOTLYENV || {};                                    if (document.getElementById(\"f4768478-7001-43a1-a8c7-bc625c659337\")) {                    Plotly.newPlot(                        \"f4768478-7001-43a1-a8c7-bc625c659337\",                        [{\"domain\": {\"x\": [0.0, 1.0], \"y\": [0.0, 1.0]}, \"hovertemplate\": \"field=%{label}<br>occurence=%{value}<extra></extra>\", \"labels\": [\"Geology\", \"Medicine\", \"Chemistry\", \"Biology\", \"Physics\", \"Environmental Science\", \"Materials Science\", \"Computer Science\", \"Engineering\", \"Geography\", \"History\"], \"legendgroup\": \"\", \"name\": \"\", \"showlegend\": true, \"type\": \"pie\", \"values\": [387, 288, 154, 82, 77, 59, 45, 13, 10, 5, 1]}],                        {\"font\": {\"color\": \"white\", \"family\": \"Courier New, monospace\", \"size\": 14}, \"legend\": {\"tracegroupgap\": 0}, \"margin\": {\"t\": 60}, \"paper_bgcolor\": \"#101126\", \"plot_bgcolor\": \"#101126\", \"template\": {\"data\": {\"bar\": [{\"error_x\": {\"color\": \"#2a3f5f\"}, \"error_y\": {\"color\": \"#2a3f5f\"}, \"marker\": {\"line\": {\"color\": \"#E5ECF6\", \"width\": 0.5}}, \"type\": \"bar\"}], \"barpolar\": [{\"marker\": {\"line\": {\"color\": \"#E5ECF6\", \"width\": 0.5}}, \"type\": \"barpolar\"}], \"carpet\": [{\"aaxis\": {\"endlinecolor\": \"#2a3f5f\", \"gridcolor\": \"white\", \"linecolor\": \"white\", \"minorgridcolor\": \"white\", \"startlinecolor\": \"#2a3f5f\"}, \"baxis\": {\"endlinecolor\": \"#2a3f5f\", \"gridcolor\": \"white\", \"linecolor\": \"white\", \"minorgridcolor\": \"white\", \"startlinecolor\": \"#2a3f5f\"}, \"type\": \"carpet\"}], \"choropleth\": [{\"colorbar\": {\"outlinewidth\": 0, \"ticks\": \"\"}, \"type\": \"choropleth\"}], \"contour\": [{\"colorbar\": {\"outlinewidth\": 0, \"ticks\": \"\"}, \"colorscale\": [[0.0, \"#0d0887\"], [0.1111111111111111, \"#46039f\"], [0.2222222222222222, \"#7201a8\"], [0.3333333333333333, \"#9c179e\"], [0.4444444444444444, \"#bd3786\"], [0.5555555555555556, \"#d8576b\"], [0.6666666666666666, \"#ed7953\"], [0.7777777777777778, \"#fb9f3a\"], [0.8888888888888888, \"#fdca26\"], [1.0, \"#f0f921\"]], \"type\": \"contour\"}], \"contourcarpet\": [{\"colorbar\": {\"outlinewidth\": 0, \"ticks\": \"\"}, \"type\": \"contourcarpet\"}], \"heatmap\": [{\"colorbar\": {\"outlinewidth\": 0, \"ticks\": \"\"}, \"colorscale\": [[0.0, \"#0d0887\"], [0.1111111111111111, \"#46039f\"], [0.2222222222222222, \"#7201a8\"], [0.3333333333333333, \"#9c179e\"], [0.4444444444444444, \"#bd3786\"], [0.5555555555555556, \"#d8576b\"], [0.6666666666666666, \"#ed7953\"], [0.7777777777777778, \"#fb9f3a\"], [0.8888888888888888, \"#fdca26\"], [1.0, \"#f0f921\"]], \"type\": \"heatmap\"}], \"heatmapgl\": [{\"colorbar\": {\"outlinewidth\": 0, \"ticks\": \"\"}, \"colorscale\": [[0.0, \"#0d0887\"], [0.1111111111111111, \"#46039f\"], [0.2222222222222222, \"#7201a8\"], [0.3333333333333333, \"#9c179e\"], [0.4444444444444444, \"#bd3786\"], [0.5555555555555556, \"#d8576b\"], [0.6666666666666666, \"#ed7953\"], [0.7777777777777778, \"#fb9f3a\"], [0.8888888888888888, \"#fdca26\"], [1.0, \"#f0f921\"]], \"type\": \"heatmapgl\"}], \"histogram\": [{\"marker\": {\"colorbar\": {\"outlinewidth\": 0, \"ticks\": \"\"}}, \"type\": \"histogram\"}], \"histogram2d\": [{\"colorbar\": {\"outlinewidth\": 0, \"ticks\": \"\"}, \"colorscale\": [[0.0, \"#0d0887\"], [0.1111111111111111, \"#46039f\"], [0.2222222222222222, \"#7201a8\"], [0.3333333333333333, \"#9c179e\"], [0.4444444444444444, \"#bd3786\"], [0.5555555555555556, \"#d8576b\"], [0.6666666666666666, \"#ed7953\"], [0.7777777777777778, \"#fb9f3a\"], [0.8888888888888888, \"#fdca26\"], [1.0, \"#f0f921\"]], \"type\": \"histogram2d\"}], \"histogram2dcontour\": [{\"colorbar\": {\"outlinewidth\": 0, \"ticks\": \"\"}, \"colorscale\": [[0.0, \"#0d0887\"], [0.1111111111111111, \"#46039f\"], [0.2222222222222222, \"#7201a8\"], [0.3333333333333333, \"#9c179e\"], [0.4444444444444444, \"#bd3786\"], [0.5555555555555556, \"#d8576b\"], [0.6666666666666666, \"#ed7953\"], [0.7777777777777778, \"#fb9f3a\"], [0.8888888888888888, \"#fdca26\"], [1.0, \"#f0f921\"]], \"type\": \"histogram2dcontour\"}], \"mesh3d\": [{\"colorbar\": {\"outlinewidth\": 0, \"ticks\": \"\"}, \"type\": \"mesh3d\"}], \"parcoords\": [{\"line\": {\"colorbar\": {\"outlinewidth\": 0, \"ticks\": \"\"}}, \"type\": \"parcoords\"}], \"pie\": [{\"automargin\": true, \"type\": \"pie\"}], \"scatter\": [{\"marker\": {\"colorbar\": {\"outlinewidth\": 0, \"ticks\": \"\"}}, \"type\": \"scatter\"}], \"scatter3d\": [{\"line\": {\"colorbar\": {\"outlinewidth\": 0, \"ticks\": \"\"}}, \"marker\": {\"colorbar\": {\"outlinewidth\": 0, \"ticks\": \"\"}}, \"type\": \"scatter3d\"}], \"scattercarpet\": [{\"marker\": {\"colorbar\": {\"outlinewidth\": 0, \"ticks\": \"\"}}, \"type\": \"scattercarpet\"}], \"scattergeo\": [{\"marker\": {\"colorbar\": {\"outlinewidth\": 0, \"ticks\": \"\"}}, \"type\": \"scattergeo\"}], \"scattergl\": [{\"marker\": {\"colorbar\": {\"outlinewidth\": 0, \"ticks\": \"\"}}, \"type\": \"scattergl\"}], \"scattermapbox\": [{\"marker\": {\"colorbar\": {\"outlinewidth\": 0, \"ticks\": \"\"}}, \"type\": \"scattermapbox\"}], \"scatterpolar\": [{\"marker\": {\"colorbar\": {\"outlinewidth\": 0, \"ticks\": \"\"}}, \"type\": \"scatterpolar\"}], \"scatterpolargl\": [{\"marker\": {\"colorbar\": {\"outlinewidth\": 0, \"ticks\": \"\"}}, \"type\": \"scatterpolargl\"}], \"scatterternary\": [{\"marker\": {\"colorbar\": {\"outlinewidth\": 0, \"ticks\": \"\"}}, \"type\": \"scatterternary\"}], \"surface\": [{\"colorbar\": {\"outlinewidth\": 0, \"ticks\": \"\"}, \"colorscale\": [[0.0, \"#0d0887\"], [0.1111111111111111, \"#46039f\"], [0.2222222222222222, \"#7201a8\"], [0.3333333333333333, \"#9c179e\"], [0.4444444444444444, \"#bd3786\"], [0.5555555555555556, \"#d8576b\"], [0.6666666666666666, \"#ed7953\"], [0.7777777777777778, \"#fb9f3a\"], [0.8888888888888888, \"#fdca26\"], [1.0, \"#f0f921\"]], \"type\": \"surface\"}], \"table\": [{\"cells\": {\"fill\": {\"color\": \"#EBF0F8\"}, \"line\": {\"color\": \"white\"}}, \"header\": {\"fill\": {\"color\": \"#C8D4E3\"}, \"line\": {\"color\": \"white\"}}, \"type\": \"table\"}]}, \"layout\": {\"annotationdefaults\": {\"arrowcolor\": \"#2a3f5f\", \"arrowhead\": 0, \"arrowwidth\": 1}, \"autotypenumbers\": \"strict\", \"coloraxis\": {\"colorbar\": {\"outlinewidth\": 0, \"ticks\": \"\"}}, \"colorscale\": {\"diverging\": [[0, \"#8e0152\"], [0.1, \"#c51b7d\"], [0.2, \"#de77ae\"], [0.3, \"#f1b6da\"], [0.4, \"#fde0ef\"], [0.5, \"#f7f7f7\"], [0.6, \"#e6f5d0\"], [0.7, \"#b8e186\"], [0.8, \"#7fbc41\"], [0.9, \"#4d9221\"], [1, \"#276419\"]], \"sequential\": [[0.0, \"#0d0887\"], [0.1111111111111111, \"#46039f\"], [0.2222222222222222, \"#7201a8\"], [0.3333333333333333, \"#9c179e\"], [0.4444444444444444, \"#bd3786\"], [0.5555555555555556, \"#d8576b\"], [0.6666666666666666, \"#ed7953\"], [0.7777777777777778, \"#fb9f3a\"], [0.8888888888888888, \"#fdca26\"], [1.0, \"#f0f921\"]], \"sequentialminus\": [[0.0, \"#0d0887\"], [0.1111111111111111, \"#46039f\"], [0.2222222222222222, \"#7201a8\"], [0.3333333333333333, \"#9c179e\"], [0.4444444444444444, \"#bd3786\"], [0.5555555555555556, \"#d8576b\"], [0.6666666666666666, \"#ed7953\"], [0.7777777777777778, \"#fb9f3a\"], [0.8888888888888888, \"#fdca26\"], [1.0, \"#f0f921\"]]}, \"colorway\": [\"#636efa\", \"#EF553B\", \"#00cc96\", \"#ab63fa\", \"#FFA15A\", \"#19d3f3\", \"#FF6692\", \"#B6E880\", \"#FF97FF\", \"#FECB52\"], \"font\": {\"color\": \"#2a3f5f\"}, \"geo\": {\"bgcolor\": \"white\", \"lakecolor\": \"white\", \"landcolor\": \"#E5ECF6\", \"showlakes\": true, \"showland\": true, \"subunitcolor\": \"white\"}, \"hoverlabel\": {\"align\": \"left\"}, \"hovermode\": \"closest\", \"mapbox\": {\"style\": \"light\"}, \"paper_bgcolor\": \"white\", \"plot_bgcolor\": \"#E5ECF6\", \"polar\": {\"angularaxis\": {\"gridcolor\": \"white\", \"linecolor\": \"white\", \"ticks\": \"\"}, \"bgcolor\": \"#E5ECF6\", \"radialaxis\": {\"gridcolor\": \"white\", \"linecolor\": \"white\", \"ticks\": \"\"}}, \"scene\": {\"xaxis\": {\"backgroundcolor\": \"#E5ECF6\", \"gridcolor\": \"white\", \"gridwidth\": 2, \"linecolor\": \"white\", \"showbackground\": true, \"ticks\": \"\", \"zerolinecolor\": \"white\"}, \"yaxis\": {\"backgroundcolor\": \"#E5ECF6\", \"gridcolor\": \"white\", \"gridwidth\": 2, \"linecolor\": \"white\", \"showbackground\": true, \"ticks\": \"\", \"zerolinecolor\": \"white\"}, \"zaxis\": {\"backgroundcolor\": \"#E5ECF6\", \"gridcolor\": \"white\", \"gridwidth\": 2, \"linecolor\": \"white\", \"showbackground\": true, \"ticks\": \"\", \"zerolinecolor\": \"white\"}}, \"shapedefaults\": {\"line\": {\"color\": \"#2a3f5f\"}}, \"ternary\": {\"aaxis\": {\"gridcolor\": \"white\", \"linecolor\": \"white\", \"ticks\": \"\"}, \"baxis\": {\"gridcolor\": \"white\", \"linecolor\": \"white\", \"ticks\": \"\"}, \"bgcolor\": \"#E5ECF6\", \"caxis\": {\"gridcolor\": \"white\", \"linecolor\": \"white\", \"ticks\": \"\"}}, \"title\": {\"x\": 0.05}, \"xaxis\": {\"automargin\": true, \"gridcolor\": \"white\", \"linecolor\": \"white\", \"ticks\": \"\", \"title\": {\"standoff\": 15}, \"zerolinecolor\": \"white\", \"zerolinewidth\": 2}, \"yaxis\": {\"automargin\": true, \"gridcolor\": \"white\", \"linecolor\": \"white\", \"ticks\": \"\", \"title\": {\"standoff\": 15}, \"zerolinecolor\": \"white\", \"zerolinewidth\": 2}}}, \"title\": {\"text\": \"<span style='font-size: 22px;'><b>Fields of Study<b></span>\", \"x\": 0.5}},                        {\"responsive\": true}                    ).then(function(){\n",
       "                            \n",
       "var gd = document.getElementById('f4768478-7001-43a1-a8c7-bc625c659337');\n",
       "var x = new MutationObserver(function (mutations, observer) {{\n",
       "        var display = window.getComputedStyle(gd).display;\n",
       "        if (!display || display === 'none') {{\n",
       "            console.log([gd, 'removed!']);\n",
       "            Plotly.purge(gd);\n",
       "            observer.disconnect();\n",
       "        }}\n",
       "}});\n",
       "\n",
       "// Listen for the removal of the full notebook cells\n",
       "var notebookContainer = gd.closest('#notebook-container');\n",
       "if (notebookContainer) {{\n",
       "    x.observe(notebookContainer, {childList: true});\n",
       "}}\n",
       "\n",
       "// Listen for the clearing of the current output cell\n",
       "var outputEl = gd.closest('.output');\n",
       "if (outputEl) {{\n",
       "    x.observe(outputEl, {childList: true});\n",
       "}}\n",
       "\n",
       "                        })                };                });            </script>        </div>"
      ]
     },
     "metadata": {},
     "output_type": "display_data"
    }
   ],
   "source": [
    "make_fields_pie(all_references_df)"
   ]
  },
  {
   "cell_type": "markdown",
   "id": "269e4947",
   "metadata": {
    "heading_collapsed": true,
    "hidden": true
   },
   "source": [
    "#### Authors"
   ]
  },
  {
   "cell_type": "code",
   "execution_count": 27,
   "id": "0691ff05",
   "metadata": {
    "collapsed": true,
    "hidden": true
   },
   "outputs": [
    {
     "data": {
      "text/plain": [
       "['K. Campbell',\n",
       " 'D. Guido',\n",
       " 'J. Farmer',\n",
       " 'M. V. Kranendonk',\n",
       " 'S. Ruff',\n",
       " 'F. Westall',\n",
       " 'R. Summons',\n",
       " 'J. Amend',\n",
       " 'D. Bish',\n",
       " 'R. Buick',\n",
       " 'G. Cody',\n",
       " 'D. D. Des Marais',\n",
       " 'G. Dromart',\n",
       " 'J. Eigenbrode',\n",
       " 'A. Knoll',\n",
       " 'D. Sumner',\n",
       " 'C. Weisbin',\n",
       " 'W. Lincoln',\n",
       " 'D. Papanastassiou',\n",
       " 'M. Coleman',\n",
       " 'K. Campbell',\n",
       " 'D. Guido',\n",
       " 'J. Farmer',\n",
       " 'M. V. Kranendonk',\n",
       " 'S. Ruff',\n",
       " 'F. Westall',\n",
       " 'Joost W. Aerts',\n",
       " 'A. Riedo',\n",
       " 'Daniel J. Melton',\n",
       " 'Simone Martini',\n",
       " 'J. Flahaut',\n",
       " 'U. Meierhenrich',\n",
       " 'C. Meinert',\n",
       " 'I. Myrgorodska',\n",
       " 'R. Lindner',\n",
       " 'P. Ehrenfreund',\n",
       " 'A. Gangidine',\n",
       " 'J. Havig',\n",
       " 'A. Czaja',\n",
       " 'F. Da Pieve',\n",
       " 'G. Gronoff',\n",
       " 'J. Guo',\n",
       " 'C. Mertens',\n",
       " 'L. Neary',\n",
       " 'B. Gu',\n",
       " 'N. Koval',\n",
       " 'J. Kohanoff',\n",
       " 'A. Vandaele',\n",
       " 'F. Cleri',\n",
       " 'M. Nachon',\n",
       " 'R. Ewing',\n",
       " 'M. Tice',\n",
       " 'J. Stromberg',\n",
       " 'A. Parkinson',\n",
       " 'M. Morison',\n",
       " 'E. Cloutis',\n",
       " 'N. Casson',\n",
       " 'D. Applin',\n",
       " 'J. Poitras',\n",
       " 'A. M. Martí',\n",
       " 'C. Maggiori',\n",
       " 'C. Cousins',\n",
       " 'L. Whyte',\n",
       " 'R. Kruzelecky',\n",
       " 'D. Das',\n",
       " 'R. Léveillé',\n",
       " 'K. Berlo',\n",
       " 'Shiv K. Sharma',\n",
       " 'T. Acosta-Maeda',\n",
       " 'M. Daly',\n",
       " 'E. Lalla',\n",
       " 'M. Floyd',\n",
       " 'Amy J. Williams',\n",
       " 'A. Grubisic',\n",
       " 'D. Emerson',\n",
       " 'Joshua Williams',\n",
       " 'T. Nagle-McNaughton',\n",
       " 'H. Newsom',\n",
       " 'Z. Gallegos',\n",
       " 'H. A. Wilkie',\n",
       " 'D. C. Martinez',\n",
       " 'L. Scuderi',\n",
       " 'L. Hays',\n",
       " 'H. Graham',\n",
       " 'D. D. Des Marais',\n",
       " 'E. Hausrath',\n",
       " 'B. Horgan',\n",
       " 'T. McCollom',\n",
       " 'M. Parenteau',\n",
       " 'S. Potter-McIntyre',\n",
       " 'Amy J. Williams',\n",
       " 'K. Lynch',\n",
       " 'S. Shkolyar',\n",
       " 'J. Farmer',\n",
       " 'M. Weng',\n",
       " 'M. Millan',\n",
       " 'E. Zaikova',\n",
       " 'J. Bevilacqua',\n",
       " 'S. S. Johnson',\n",
       " 'L. Hays',\n",
       " 'D. Beaty',\n",
       " 'B. Brenha',\n",
       " 'D. Galante',\n",
       " 'M. Román',\n",
       " 'R. V. Spanning',\n",
       " 'Murilo Carvalho',\n",
       " 'F. Rodrigues',\n",
       " 'F. Callefo',\n",
       " 'V. Teixeira',\n",
       " 'I. Neckel',\n",
       " 'Paula Morão',\n",
       " 'G. Borelli',\n",
       " 'A. Gangidine',\n",
       " 'A. Czaja',\n",
       " 'J. Havig',\n",
       " 'N. Cabrol',\n",
       " 'J. Bishop',\n",
       " 'S. Cady',\n",
       " 'N. Hinman',\n",
       " 'J. Moersch',\n",
       " 'N. Noffke',\n",
       " 'C. Phillips',\n",
       " 'P. Sobrón',\n",
       " 'D. Summers',\n",
       " 'K. Warren-Rhodes',\n",
       " 'D. Wettergreen',\n",
       " 'A. Czaja',\n",
       " 'A. Gangidine',\n",
       " 'K. Lorber',\n",
       " 'J. Osterhout',\n",
       " 'S. Shkolyar',\n",
       " 'J. Farmer',\n",
       " 'A. Pontefract',\n",
       " 'J. Hachey',\n",
       " 'A. Mojarro',\n",
       " 'V. Walker',\n",
       " 'H. Rowedder',\n",
       " 'T. F. Zhu',\n",
       " 'C. Lui',\n",
       " 'M. Zuber',\n",
       " 'G. Ruvkun',\n",
       " 'C. Carr',\n",
       " 'L. Beegle',\n",
       " 'R. Bhartia',\n",
       " 'W. Abbey',\n",
       " 'Jason E. French',\n",
       " 'D. Blake',\n",
       " 'K. Lorber',\n",
       " 'A. Czaja',\n",
       " 'P. Lee',\n",
       " 'D. Hamilton',\n",
       " 'Joshua Williams',\n",
       " 'M. Rice',\n",
       " 'S. Shkolyar',\n",
       " 'J. Farmer',\n",
       " 'J. Stromberg',\n",
       " 'D. Applin',\n",
       " 'E. Cloutis',\n",
       " 'M. Rice',\n",
       " 'G. Berard',\n",
       " 'P. Mann',\n",
       " 'B. Ehlmann',\n",
       " 'J. Mustard',\n",
       " 'S. Murchie',\n",
       " 'R. Green',\n",
       " 'P. Mouroulis',\n",
       " 'B. V. Gorp',\n",
       " 'M. Jeganathan',\n",
       " 'Y. H. Wu',\n",
       " 'T. Glavich',\n",
       " 'R. Bartos',\n",
       " 'J. Nastal',\n",
       " 'K. Strohbehn',\n",
       " 'D. Blaney',\n",
       " 'J. Boardman',\n",
       " 'J. Farmer',\n",
       " 'W. Fischer',\n",
       " 'J. Grotzinger',\n",
       " 'C. Herd',\n",
       " 'T. Hoehler',\n",
       " 'J. Hurowitz',\n",
       " 'M. Schmidt',\n",
       " 'F. Seelos',\n",
       " 'M. Wadhwa',\n",
       " 'A. Santo',\n",
       " 'J. Ferdosi',\n",
       " 'S. Shkolyar',\n",
       " 'E. Lalla',\n",
       " 'M. Konstantindis',\n",
       " 'K. Cote',\n",
       " 'M. Daly',\n",
       " 'A. Steele']"
      ]
     },
     "execution_count": 27,
     "metadata": {},
     "output_type": "execute_result"
    }
   ],
   "source": [
    "authors_list = []\n",
    "for index, row in results_df.iterrows():\n",
    "    for dict_ in row.authors:\n",
    "        authors_list.append(dict_['name'])\n",
    "authors_list"
   ]
  },
  {
   "cell_type": "code",
   "execution_count": 30,
   "id": "794ad8ec",
   "metadata": {
    "hidden": true
   },
   "outputs": [],
   "source": [
    "most_active_authors = Counter(authors_list).most_common()\n",
    "most_active_authors_df = pd.DataFrame(most_active_authors, columns=[\"author\", \"occurence\"])"
   ]
  },
  {
   "cell_type": "code",
   "execution_count": 31,
   "id": "a0bf4da5",
   "metadata": {
    "hidden": true
   },
   "outputs": [
    {
     "data": {
      "text/html": [
       "<div>\n",
       "<style scoped>\n",
       "    .dataframe tbody tr th:only-of-type {\n",
       "        vertical-align: middle;\n",
       "    }\n",
       "\n",
       "    .dataframe tbody tr th {\n",
       "        vertical-align: top;\n",
       "    }\n",
       "\n",
       "    .dataframe thead th {\n",
       "        text-align: right;\n",
       "    }\n",
       "</style>\n",
       "<table border=\"1\" class=\"dataframe\">\n",
       "  <thead>\n",
       "    <tr style=\"text-align: right;\">\n",
       "      <th></th>\n",
       "      <th>author</th>\n",
       "      <th>occurence</th>\n",
       "    </tr>\n",
       "  </thead>\n",
       "  <tbody>\n",
       "    <tr>\n",
       "      <th>0</th>\n",
       "      <td>J. Farmer</td>\n",
       "      <td>6</td>\n",
       "    </tr>\n",
       "    <tr>\n",
       "      <th>1</th>\n",
       "      <td>A. Czaja</td>\n",
       "      <td>4</td>\n",
       "    </tr>\n",
       "    <tr>\n",
       "      <th>2</th>\n",
       "      <td>S. Shkolyar</td>\n",
       "      <td>4</td>\n",
       "    </tr>\n",
       "    <tr>\n",
       "      <th>3</th>\n",
       "      <td>A. Gangidine</td>\n",
       "      <td>3</td>\n",
       "    </tr>\n",
       "    <tr>\n",
       "      <th>4</th>\n",
       "      <td>K. Campbell</td>\n",
       "      <td>2</td>\n",
       "    </tr>\n",
       "    <tr>\n",
       "      <th>...</th>\n",
       "      <td>...</td>\n",
       "      <td>...</td>\n",
       "    </tr>\n",
       "    <tr>\n",
       "      <th>157</th>\n",
       "      <td>A. Santo</td>\n",
       "      <td>1</td>\n",
       "    </tr>\n",
       "    <tr>\n",
       "      <th>158</th>\n",
       "      <td>J. Ferdosi</td>\n",
       "      <td>1</td>\n",
       "    </tr>\n",
       "    <tr>\n",
       "      <th>159</th>\n",
       "      <td>M. Konstantindis</td>\n",
       "      <td>1</td>\n",
       "    </tr>\n",
       "    <tr>\n",
       "      <th>160</th>\n",
       "      <td>K. Cote</td>\n",
       "      <td>1</td>\n",
       "    </tr>\n",
       "    <tr>\n",
       "      <th>161</th>\n",
       "      <td>A. Steele</td>\n",
       "      <td>1</td>\n",
       "    </tr>\n",
       "  </tbody>\n",
       "</table>\n",
       "<p>162 rows × 2 columns</p>\n",
       "</div>"
      ],
      "text/plain": [
       "               author  occurence\n",
       "0           J. Farmer          6\n",
       "1            A. Czaja          4\n",
       "2         S. Shkolyar          4\n",
       "3        A. Gangidine          3\n",
       "4         K. Campbell          2\n",
       "..                ...        ...\n",
       "157          A. Santo          1\n",
       "158        J. Ferdosi          1\n",
       "159  M. Konstantindis          1\n",
       "160           K. Cote          1\n",
       "161         A. Steele          1\n",
       "\n",
       "[162 rows x 2 columns]"
      ]
     },
     "execution_count": 31,
     "metadata": {},
     "output_type": "execute_result"
    }
   ],
   "source": [
    "most_active_authors_df"
   ]
  },
  {
   "cell_type": "code",
   "execution_count": 36,
   "id": "16ce7137",
   "metadata": {
    "hidden": true
   },
   "outputs": [],
   "source": [
    "def make_active_authors(df):\n",
    "    authors_list = []\n",
    "    for index, row in df.iterrows():\n",
    "        for dict_ in row.authors:\n",
    "            authors_list.append(dict_['name'])\n",
    "    most_active_authors = Counter(authors_list).most_common()\n",
    "    most_active_authors_df = pd.DataFrame(most_active_authors, columns=[\"author\", \"occurence\"])\n",
    "    fig = go.Figure(data=[go.Bar(x=most_active_authors_df[0:10].author,\n",
    "                              y= most_active_authors_df[0:10].occurence,\n",
    "                              texttemplate=\"%{y}\",\n",
    "                              textposition=\"outside\",\n",
    "                              textangle=0)])\n",
    "    fig.update_layout(title = \"<span style='font-size: 22px;'><b>Most active authors<b></span>\", title_x=0.5,\n",
    "                    font=dict(\n",
    "                              family=\"Courier New, monospace\",\n",
    "                              size=12,\n",
    "                              color=\"white\"\n",
    "    ),\n",
    "    paper_bgcolor = \"#101126\",\n",
    "    plot_bgcolor = \"#101126\")\n",
    "\n",
    "    fig.update_traces(marker_color='#eda109')\n",
    "    fig.update_xaxes(title=\"Authors\")\n",
    "    fig.update_yaxes(title=\"Number of Publications\", range= [0, 1.1* most_active_authors_df.occurence.max()])\n",
    "    return fig"
   ]
  },
  {
   "cell_type": "code",
   "execution_count": 37,
   "id": "49dfc99a",
   "metadata": {
    "hidden": true
   },
   "outputs": [
    {
     "data": {
      "application/vnd.plotly.v1+json": {
       "config": {
        "plotlyServerURL": "https://plot.ly"
       },
       "data": [
        {
         "marker": {
          "color": "#eda109"
         },
         "textangle": 0,
         "textposition": "outside",
         "texttemplate": "%{y}",
         "type": "bar",
         "x": [
          "J. Farmer",
          "A. Czaja",
          "S. Shkolyar",
          "A. Gangidine",
          "K. Campbell",
          "D. Guido",
          "M. V. Kranendonk",
          "S. Ruff",
          "F. Westall",
          "D. D. Des Marais"
         ],
         "y": [
          6,
          4,
          4,
          3,
          2,
          2,
          2,
          2,
          2,
          2
         ]
        }
       ],
       "layout": {
        "font": {
         "color": "white",
         "family": "Courier New, monospace",
         "size": 12
        },
        "paper_bgcolor": "#101126",
        "plot_bgcolor": "#101126",
        "template": {
         "data": {
          "bar": [
           {
            "error_x": {
             "color": "#2a3f5f"
            },
            "error_y": {
             "color": "#2a3f5f"
            },
            "marker": {
             "line": {
              "color": "#E5ECF6",
              "width": 0.5
             }
            },
            "type": "bar"
           }
          ],
          "barpolar": [
           {
            "marker": {
             "line": {
              "color": "#E5ECF6",
              "width": 0.5
             }
            },
            "type": "barpolar"
           }
          ],
          "carpet": [
           {
            "aaxis": {
             "endlinecolor": "#2a3f5f",
             "gridcolor": "white",
             "linecolor": "white",
             "minorgridcolor": "white",
             "startlinecolor": "#2a3f5f"
            },
            "baxis": {
             "endlinecolor": "#2a3f5f",
             "gridcolor": "white",
             "linecolor": "white",
             "minorgridcolor": "white",
             "startlinecolor": "#2a3f5f"
            },
            "type": "carpet"
           }
          ],
          "choropleth": [
           {
            "colorbar": {
             "outlinewidth": 0,
             "ticks": ""
            },
            "type": "choropleth"
           }
          ],
          "contour": [
           {
            "colorbar": {
             "outlinewidth": 0,
             "ticks": ""
            },
            "colorscale": [
             [
              0,
              "#0d0887"
             ],
             [
              0.1111111111111111,
              "#46039f"
             ],
             [
              0.2222222222222222,
              "#7201a8"
             ],
             [
              0.3333333333333333,
              "#9c179e"
             ],
             [
              0.4444444444444444,
              "#bd3786"
             ],
             [
              0.5555555555555556,
              "#d8576b"
             ],
             [
              0.6666666666666666,
              "#ed7953"
             ],
             [
              0.7777777777777778,
              "#fb9f3a"
             ],
             [
              0.8888888888888888,
              "#fdca26"
             ],
             [
              1,
              "#f0f921"
             ]
            ],
            "type": "contour"
           }
          ],
          "contourcarpet": [
           {
            "colorbar": {
             "outlinewidth": 0,
             "ticks": ""
            },
            "type": "contourcarpet"
           }
          ],
          "heatmap": [
           {
            "colorbar": {
             "outlinewidth": 0,
             "ticks": ""
            },
            "colorscale": [
             [
              0,
              "#0d0887"
             ],
             [
              0.1111111111111111,
              "#46039f"
             ],
             [
              0.2222222222222222,
              "#7201a8"
             ],
             [
              0.3333333333333333,
              "#9c179e"
             ],
             [
              0.4444444444444444,
              "#bd3786"
             ],
             [
              0.5555555555555556,
              "#d8576b"
             ],
             [
              0.6666666666666666,
              "#ed7953"
             ],
             [
              0.7777777777777778,
              "#fb9f3a"
             ],
             [
              0.8888888888888888,
              "#fdca26"
             ],
             [
              1,
              "#f0f921"
             ]
            ],
            "type": "heatmap"
           }
          ],
          "heatmapgl": [
           {
            "colorbar": {
             "outlinewidth": 0,
             "ticks": ""
            },
            "colorscale": [
             [
              0,
              "#0d0887"
             ],
             [
              0.1111111111111111,
              "#46039f"
             ],
             [
              0.2222222222222222,
              "#7201a8"
             ],
             [
              0.3333333333333333,
              "#9c179e"
             ],
             [
              0.4444444444444444,
              "#bd3786"
             ],
             [
              0.5555555555555556,
              "#d8576b"
             ],
             [
              0.6666666666666666,
              "#ed7953"
             ],
             [
              0.7777777777777778,
              "#fb9f3a"
             ],
             [
              0.8888888888888888,
              "#fdca26"
             ],
             [
              1,
              "#f0f921"
             ]
            ],
            "type": "heatmapgl"
           }
          ],
          "histogram": [
           {
            "marker": {
             "colorbar": {
              "outlinewidth": 0,
              "ticks": ""
             }
            },
            "type": "histogram"
           }
          ],
          "histogram2d": [
           {
            "colorbar": {
             "outlinewidth": 0,
             "ticks": ""
            },
            "colorscale": [
             [
              0,
              "#0d0887"
             ],
             [
              0.1111111111111111,
              "#46039f"
             ],
             [
              0.2222222222222222,
              "#7201a8"
             ],
             [
              0.3333333333333333,
              "#9c179e"
             ],
             [
              0.4444444444444444,
              "#bd3786"
             ],
             [
              0.5555555555555556,
              "#d8576b"
             ],
             [
              0.6666666666666666,
              "#ed7953"
             ],
             [
              0.7777777777777778,
              "#fb9f3a"
             ],
             [
              0.8888888888888888,
              "#fdca26"
             ],
             [
              1,
              "#f0f921"
             ]
            ],
            "type": "histogram2d"
           }
          ],
          "histogram2dcontour": [
           {
            "colorbar": {
             "outlinewidth": 0,
             "ticks": ""
            },
            "colorscale": [
             [
              0,
              "#0d0887"
             ],
             [
              0.1111111111111111,
              "#46039f"
             ],
             [
              0.2222222222222222,
              "#7201a8"
             ],
             [
              0.3333333333333333,
              "#9c179e"
             ],
             [
              0.4444444444444444,
              "#bd3786"
             ],
             [
              0.5555555555555556,
              "#d8576b"
             ],
             [
              0.6666666666666666,
              "#ed7953"
             ],
             [
              0.7777777777777778,
              "#fb9f3a"
             ],
             [
              0.8888888888888888,
              "#fdca26"
             ],
             [
              1,
              "#f0f921"
             ]
            ],
            "type": "histogram2dcontour"
           }
          ],
          "mesh3d": [
           {
            "colorbar": {
             "outlinewidth": 0,
             "ticks": ""
            },
            "type": "mesh3d"
           }
          ],
          "parcoords": [
           {
            "line": {
             "colorbar": {
              "outlinewidth": 0,
              "ticks": ""
             }
            },
            "type": "parcoords"
           }
          ],
          "pie": [
           {
            "automargin": true,
            "type": "pie"
           }
          ],
          "scatter": [
           {
            "marker": {
             "colorbar": {
              "outlinewidth": 0,
              "ticks": ""
             }
            },
            "type": "scatter"
           }
          ],
          "scatter3d": [
           {
            "line": {
             "colorbar": {
              "outlinewidth": 0,
              "ticks": ""
             }
            },
            "marker": {
             "colorbar": {
              "outlinewidth": 0,
              "ticks": ""
             }
            },
            "type": "scatter3d"
           }
          ],
          "scattercarpet": [
           {
            "marker": {
             "colorbar": {
              "outlinewidth": 0,
              "ticks": ""
             }
            },
            "type": "scattercarpet"
           }
          ],
          "scattergeo": [
           {
            "marker": {
             "colorbar": {
              "outlinewidth": 0,
              "ticks": ""
             }
            },
            "type": "scattergeo"
           }
          ],
          "scattergl": [
           {
            "marker": {
             "colorbar": {
              "outlinewidth": 0,
              "ticks": ""
             }
            },
            "type": "scattergl"
           }
          ],
          "scattermapbox": [
           {
            "marker": {
             "colorbar": {
              "outlinewidth": 0,
              "ticks": ""
             }
            },
            "type": "scattermapbox"
           }
          ],
          "scatterpolar": [
           {
            "marker": {
             "colorbar": {
              "outlinewidth": 0,
              "ticks": ""
             }
            },
            "type": "scatterpolar"
           }
          ],
          "scatterpolargl": [
           {
            "marker": {
             "colorbar": {
              "outlinewidth": 0,
              "ticks": ""
             }
            },
            "type": "scatterpolargl"
           }
          ],
          "scatterternary": [
           {
            "marker": {
             "colorbar": {
              "outlinewidth": 0,
              "ticks": ""
             }
            },
            "type": "scatterternary"
           }
          ],
          "surface": [
           {
            "colorbar": {
             "outlinewidth": 0,
             "ticks": ""
            },
            "colorscale": [
             [
              0,
              "#0d0887"
             ],
             [
              0.1111111111111111,
              "#46039f"
             ],
             [
              0.2222222222222222,
              "#7201a8"
             ],
             [
              0.3333333333333333,
              "#9c179e"
             ],
             [
              0.4444444444444444,
              "#bd3786"
             ],
             [
              0.5555555555555556,
              "#d8576b"
             ],
             [
              0.6666666666666666,
              "#ed7953"
             ],
             [
              0.7777777777777778,
              "#fb9f3a"
             ],
             [
              0.8888888888888888,
              "#fdca26"
             ],
             [
              1,
              "#f0f921"
             ]
            ],
            "type": "surface"
           }
          ],
          "table": [
           {
            "cells": {
             "fill": {
              "color": "#EBF0F8"
             },
             "line": {
              "color": "white"
             }
            },
            "header": {
             "fill": {
              "color": "#C8D4E3"
             },
             "line": {
              "color": "white"
             }
            },
            "type": "table"
           }
          ]
         },
         "layout": {
          "annotationdefaults": {
           "arrowcolor": "#2a3f5f",
           "arrowhead": 0,
           "arrowwidth": 1
          },
          "autotypenumbers": "strict",
          "coloraxis": {
           "colorbar": {
            "outlinewidth": 0,
            "ticks": ""
           }
          },
          "colorscale": {
           "diverging": [
            [
             0,
             "#8e0152"
            ],
            [
             0.1,
             "#c51b7d"
            ],
            [
             0.2,
             "#de77ae"
            ],
            [
             0.3,
             "#f1b6da"
            ],
            [
             0.4,
             "#fde0ef"
            ],
            [
             0.5,
             "#f7f7f7"
            ],
            [
             0.6,
             "#e6f5d0"
            ],
            [
             0.7,
             "#b8e186"
            ],
            [
             0.8,
             "#7fbc41"
            ],
            [
             0.9,
             "#4d9221"
            ],
            [
             1,
             "#276419"
            ]
           ],
           "sequential": [
            [
             0,
             "#0d0887"
            ],
            [
             0.1111111111111111,
             "#46039f"
            ],
            [
             0.2222222222222222,
             "#7201a8"
            ],
            [
             0.3333333333333333,
             "#9c179e"
            ],
            [
             0.4444444444444444,
             "#bd3786"
            ],
            [
             0.5555555555555556,
             "#d8576b"
            ],
            [
             0.6666666666666666,
             "#ed7953"
            ],
            [
             0.7777777777777778,
             "#fb9f3a"
            ],
            [
             0.8888888888888888,
             "#fdca26"
            ],
            [
             1,
             "#f0f921"
            ]
           ],
           "sequentialminus": [
            [
             0,
             "#0d0887"
            ],
            [
             0.1111111111111111,
             "#46039f"
            ],
            [
             0.2222222222222222,
             "#7201a8"
            ],
            [
             0.3333333333333333,
             "#9c179e"
            ],
            [
             0.4444444444444444,
             "#bd3786"
            ],
            [
             0.5555555555555556,
             "#d8576b"
            ],
            [
             0.6666666666666666,
             "#ed7953"
            ],
            [
             0.7777777777777778,
             "#fb9f3a"
            ],
            [
             0.8888888888888888,
             "#fdca26"
            ],
            [
             1,
             "#f0f921"
            ]
           ]
          },
          "colorway": [
           "#636efa",
           "#EF553B",
           "#00cc96",
           "#ab63fa",
           "#FFA15A",
           "#19d3f3",
           "#FF6692",
           "#B6E880",
           "#FF97FF",
           "#FECB52"
          ],
          "font": {
           "color": "#2a3f5f"
          },
          "geo": {
           "bgcolor": "white",
           "lakecolor": "white",
           "landcolor": "#E5ECF6",
           "showlakes": true,
           "showland": true,
           "subunitcolor": "white"
          },
          "hoverlabel": {
           "align": "left"
          },
          "hovermode": "closest",
          "mapbox": {
           "style": "light"
          },
          "paper_bgcolor": "white",
          "plot_bgcolor": "#E5ECF6",
          "polar": {
           "angularaxis": {
            "gridcolor": "white",
            "linecolor": "white",
            "ticks": ""
           },
           "bgcolor": "#E5ECF6",
           "radialaxis": {
            "gridcolor": "white",
            "linecolor": "white",
            "ticks": ""
           }
          },
          "scene": {
           "xaxis": {
            "backgroundcolor": "#E5ECF6",
            "gridcolor": "white",
            "gridwidth": 2,
            "linecolor": "white",
            "showbackground": true,
            "ticks": "",
            "zerolinecolor": "white"
           },
           "yaxis": {
            "backgroundcolor": "#E5ECF6",
            "gridcolor": "white",
            "gridwidth": 2,
            "linecolor": "white",
            "showbackground": true,
            "ticks": "",
            "zerolinecolor": "white"
           },
           "zaxis": {
            "backgroundcolor": "#E5ECF6",
            "gridcolor": "white",
            "gridwidth": 2,
            "linecolor": "white",
            "showbackground": true,
            "ticks": "",
            "zerolinecolor": "white"
           }
          },
          "shapedefaults": {
           "line": {
            "color": "#2a3f5f"
           }
          },
          "ternary": {
           "aaxis": {
            "gridcolor": "white",
            "linecolor": "white",
            "ticks": ""
           },
           "baxis": {
            "gridcolor": "white",
            "linecolor": "white",
            "ticks": ""
           },
           "bgcolor": "#E5ECF6",
           "caxis": {
            "gridcolor": "white",
            "linecolor": "white",
            "ticks": ""
           }
          },
          "title": {
           "x": 0.05
          },
          "xaxis": {
           "automargin": true,
           "gridcolor": "white",
           "linecolor": "white",
           "ticks": "",
           "title": {
            "standoff": 15
           },
           "zerolinecolor": "white",
           "zerolinewidth": 2
          },
          "yaxis": {
           "automargin": true,
           "gridcolor": "white",
           "linecolor": "white",
           "ticks": "",
           "title": {
            "standoff": 15
           },
           "zerolinecolor": "white",
           "zerolinewidth": 2
          }
         }
        },
        "title": {
         "text": "<span style='font-size: 22px;'><b>Most active authors<b></span>",
         "x": 0.5
        },
        "xaxis": {
         "title": {
          "text": "Authors"
         }
        },
        "yaxis": {
         "range": [
          0,
          6.6000000000000005
         ],
         "title": {
          "text": "Number of Publications"
         }
        }
       }
      },
      "text/html": [
       "<div>                            <div id=\"7ab7501a-2a57-4f80-92a7-334ab909e0ad\" class=\"plotly-graph-div\" style=\"height:525px; width:100%;\"></div>            <script type=\"text/javascript\">                require([\"plotly\"], function(Plotly) {                    window.PLOTLYENV=window.PLOTLYENV || {};                                    if (document.getElementById(\"7ab7501a-2a57-4f80-92a7-334ab909e0ad\")) {                    Plotly.newPlot(                        \"7ab7501a-2a57-4f80-92a7-334ab909e0ad\",                        [{\"marker\": {\"color\": \"#eda109\"}, \"textangle\": 0, \"textposition\": \"outside\", \"texttemplate\": \"%{y}\", \"type\": \"bar\", \"x\": [\"J. Farmer\", \"A. Czaja\", \"S. Shkolyar\", \"A. Gangidine\", \"K. Campbell\", \"D. Guido\", \"M. V. Kranendonk\", \"S. Ruff\", \"F. Westall\", \"D. D. Des Marais\"], \"y\": [6, 4, 4, 3, 2, 2, 2, 2, 2, 2]}],                        {\"font\": {\"color\": \"white\", \"family\": \"Courier New, monospace\", \"size\": 12}, \"paper_bgcolor\": \"#101126\", \"plot_bgcolor\": \"#101126\", \"template\": {\"data\": {\"bar\": [{\"error_x\": {\"color\": \"#2a3f5f\"}, \"error_y\": {\"color\": \"#2a3f5f\"}, \"marker\": {\"line\": {\"color\": \"#E5ECF6\", \"width\": 0.5}}, \"type\": \"bar\"}], \"barpolar\": [{\"marker\": {\"line\": {\"color\": \"#E5ECF6\", \"width\": 0.5}}, \"type\": \"barpolar\"}], \"carpet\": [{\"aaxis\": {\"endlinecolor\": \"#2a3f5f\", \"gridcolor\": \"white\", \"linecolor\": \"white\", \"minorgridcolor\": \"white\", \"startlinecolor\": \"#2a3f5f\"}, \"baxis\": {\"endlinecolor\": \"#2a3f5f\", \"gridcolor\": \"white\", \"linecolor\": \"white\", \"minorgridcolor\": \"white\", \"startlinecolor\": \"#2a3f5f\"}, \"type\": \"carpet\"}], \"choropleth\": [{\"colorbar\": {\"outlinewidth\": 0, \"ticks\": \"\"}, \"type\": \"choropleth\"}], \"contour\": [{\"colorbar\": {\"outlinewidth\": 0, \"ticks\": \"\"}, \"colorscale\": [[0.0, \"#0d0887\"], [0.1111111111111111, \"#46039f\"], [0.2222222222222222, \"#7201a8\"], [0.3333333333333333, \"#9c179e\"], [0.4444444444444444, \"#bd3786\"], [0.5555555555555556, \"#d8576b\"], [0.6666666666666666, \"#ed7953\"], [0.7777777777777778, \"#fb9f3a\"], [0.8888888888888888, \"#fdca26\"], [1.0, \"#f0f921\"]], \"type\": \"contour\"}], \"contourcarpet\": [{\"colorbar\": {\"outlinewidth\": 0, \"ticks\": \"\"}, \"type\": \"contourcarpet\"}], \"heatmap\": [{\"colorbar\": {\"outlinewidth\": 0, \"ticks\": \"\"}, \"colorscale\": [[0.0, \"#0d0887\"], [0.1111111111111111, \"#46039f\"], [0.2222222222222222, \"#7201a8\"], [0.3333333333333333, \"#9c179e\"], [0.4444444444444444, \"#bd3786\"], [0.5555555555555556, \"#d8576b\"], [0.6666666666666666, \"#ed7953\"], [0.7777777777777778, \"#fb9f3a\"], [0.8888888888888888, \"#fdca26\"], [1.0, \"#f0f921\"]], \"type\": \"heatmap\"}], \"heatmapgl\": [{\"colorbar\": {\"outlinewidth\": 0, \"ticks\": \"\"}, \"colorscale\": [[0.0, \"#0d0887\"], [0.1111111111111111, \"#46039f\"], [0.2222222222222222, \"#7201a8\"], [0.3333333333333333, \"#9c179e\"], [0.4444444444444444, \"#bd3786\"], [0.5555555555555556, \"#d8576b\"], [0.6666666666666666, \"#ed7953\"], [0.7777777777777778, \"#fb9f3a\"], [0.8888888888888888, \"#fdca26\"], [1.0, \"#f0f921\"]], \"type\": \"heatmapgl\"}], \"histogram\": [{\"marker\": {\"colorbar\": {\"outlinewidth\": 0, \"ticks\": \"\"}}, \"type\": \"histogram\"}], \"histogram2d\": [{\"colorbar\": {\"outlinewidth\": 0, \"ticks\": \"\"}, \"colorscale\": [[0.0, \"#0d0887\"], [0.1111111111111111, \"#46039f\"], [0.2222222222222222, \"#7201a8\"], [0.3333333333333333, \"#9c179e\"], [0.4444444444444444, \"#bd3786\"], [0.5555555555555556, \"#d8576b\"], [0.6666666666666666, \"#ed7953\"], [0.7777777777777778, \"#fb9f3a\"], [0.8888888888888888, \"#fdca26\"], [1.0, \"#f0f921\"]], \"type\": \"histogram2d\"}], \"histogram2dcontour\": [{\"colorbar\": {\"outlinewidth\": 0, \"ticks\": \"\"}, \"colorscale\": [[0.0, \"#0d0887\"], [0.1111111111111111, \"#46039f\"], [0.2222222222222222, \"#7201a8\"], [0.3333333333333333, \"#9c179e\"], [0.4444444444444444, \"#bd3786\"], [0.5555555555555556, \"#d8576b\"], [0.6666666666666666, \"#ed7953\"], [0.7777777777777778, \"#fb9f3a\"], [0.8888888888888888, \"#fdca26\"], [1.0, \"#f0f921\"]], \"type\": \"histogram2dcontour\"}], \"mesh3d\": [{\"colorbar\": {\"outlinewidth\": 0, \"ticks\": \"\"}, \"type\": \"mesh3d\"}], \"parcoords\": [{\"line\": {\"colorbar\": {\"outlinewidth\": 0, \"ticks\": \"\"}}, \"type\": \"parcoords\"}], \"pie\": [{\"automargin\": true, \"type\": \"pie\"}], \"scatter\": [{\"marker\": {\"colorbar\": {\"outlinewidth\": 0, \"ticks\": \"\"}}, \"type\": \"scatter\"}], \"scatter3d\": [{\"line\": {\"colorbar\": {\"outlinewidth\": 0, \"ticks\": \"\"}}, \"marker\": {\"colorbar\": {\"outlinewidth\": 0, \"ticks\": \"\"}}, \"type\": \"scatter3d\"}], \"scattercarpet\": [{\"marker\": {\"colorbar\": {\"outlinewidth\": 0, \"ticks\": \"\"}}, \"type\": \"scattercarpet\"}], \"scattergeo\": [{\"marker\": {\"colorbar\": {\"outlinewidth\": 0, \"ticks\": \"\"}}, \"type\": \"scattergeo\"}], \"scattergl\": [{\"marker\": {\"colorbar\": {\"outlinewidth\": 0, \"ticks\": \"\"}}, \"type\": \"scattergl\"}], \"scattermapbox\": [{\"marker\": {\"colorbar\": {\"outlinewidth\": 0, \"ticks\": \"\"}}, \"type\": \"scattermapbox\"}], \"scatterpolar\": [{\"marker\": {\"colorbar\": {\"outlinewidth\": 0, \"ticks\": \"\"}}, \"type\": \"scatterpolar\"}], \"scatterpolargl\": [{\"marker\": {\"colorbar\": {\"outlinewidth\": 0, \"ticks\": \"\"}}, \"type\": \"scatterpolargl\"}], \"scatterternary\": [{\"marker\": {\"colorbar\": {\"outlinewidth\": 0, \"ticks\": \"\"}}, \"type\": \"scatterternary\"}], \"surface\": [{\"colorbar\": {\"outlinewidth\": 0, \"ticks\": \"\"}, \"colorscale\": [[0.0, \"#0d0887\"], [0.1111111111111111, \"#46039f\"], [0.2222222222222222, \"#7201a8\"], [0.3333333333333333, \"#9c179e\"], [0.4444444444444444, \"#bd3786\"], [0.5555555555555556, \"#d8576b\"], [0.6666666666666666, \"#ed7953\"], [0.7777777777777778, \"#fb9f3a\"], [0.8888888888888888, \"#fdca26\"], [1.0, \"#f0f921\"]], \"type\": \"surface\"}], \"table\": [{\"cells\": {\"fill\": {\"color\": \"#EBF0F8\"}, \"line\": {\"color\": \"white\"}}, \"header\": {\"fill\": {\"color\": \"#C8D4E3\"}, \"line\": {\"color\": \"white\"}}, \"type\": \"table\"}]}, \"layout\": {\"annotationdefaults\": {\"arrowcolor\": \"#2a3f5f\", \"arrowhead\": 0, \"arrowwidth\": 1}, \"autotypenumbers\": \"strict\", \"coloraxis\": {\"colorbar\": {\"outlinewidth\": 0, \"ticks\": \"\"}}, \"colorscale\": {\"diverging\": [[0, \"#8e0152\"], [0.1, \"#c51b7d\"], [0.2, \"#de77ae\"], [0.3, \"#f1b6da\"], [0.4, \"#fde0ef\"], [0.5, \"#f7f7f7\"], [0.6, \"#e6f5d0\"], [0.7, \"#b8e186\"], [0.8, \"#7fbc41\"], [0.9, \"#4d9221\"], [1, \"#276419\"]], \"sequential\": [[0.0, \"#0d0887\"], [0.1111111111111111, \"#46039f\"], [0.2222222222222222, \"#7201a8\"], [0.3333333333333333, \"#9c179e\"], [0.4444444444444444, \"#bd3786\"], [0.5555555555555556, \"#d8576b\"], [0.6666666666666666, \"#ed7953\"], [0.7777777777777778, \"#fb9f3a\"], [0.8888888888888888, \"#fdca26\"], [1.0, \"#f0f921\"]], \"sequentialminus\": [[0.0, \"#0d0887\"], [0.1111111111111111, \"#46039f\"], [0.2222222222222222, \"#7201a8\"], [0.3333333333333333, \"#9c179e\"], [0.4444444444444444, \"#bd3786\"], [0.5555555555555556, \"#d8576b\"], [0.6666666666666666, \"#ed7953\"], [0.7777777777777778, \"#fb9f3a\"], [0.8888888888888888, \"#fdca26\"], [1.0, \"#f0f921\"]]}, \"colorway\": [\"#636efa\", \"#EF553B\", \"#00cc96\", \"#ab63fa\", \"#FFA15A\", \"#19d3f3\", \"#FF6692\", \"#B6E880\", \"#FF97FF\", \"#FECB52\"], \"font\": {\"color\": \"#2a3f5f\"}, \"geo\": {\"bgcolor\": \"white\", \"lakecolor\": \"white\", \"landcolor\": \"#E5ECF6\", \"showlakes\": true, \"showland\": true, \"subunitcolor\": \"white\"}, \"hoverlabel\": {\"align\": \"left\"}, \"hovermode\": \"closest\", \"mapbox\": {\"style\": \"light\"}, \"paper_bgcolor\": \"white\", \"plot_bgcolor\": \"#E5ECF6\", \"polar\": {\"angularaxis\": {\"gridcolor\": \"white\", \"linecolor\": \"white\", \"ticks\": \"\"}, \"bgcolor\": \"#E5ECF6\", \"radialaxis\": {\"gridcolor\": \"white\", \"linecolor\": \"white\", \"ticks\": \"\"}}, \"scene\": {\"xaxis\": {\"backgroundcolor\": \"#E5ECF6\", \"gridcolor\": \"white\", \"gridwidth\": 2, \"linecolor\": \"white\", \"showbackground\": true, \"ticks\": \"\", \"zerolinecolor\": \"white\"}, \"yaxis\": {\"backgroundcolor\": \"#E5ECF6\", \"gridcolor\": \"white\", \"gridwidth\": 2, \"linecolor\": \"white\", \"showbackground\": true, \"ticks\": \"\", \"zerolinecolor\": \"white\"}, \"zaxis\": {\"backgroundcolor\": \"#E5ECF6\", \"gridcolor\": \"white\", \"gridwidth\": 2, \"linecolor\": \"white\", \"showbackground\": true, \"ticks\": \"\", \"zerolinecolor\": \"white\"}}, \"shapedefaults\": {\"line\": {\"color\": \"#2a3f5f\"}}, \"ternary\": {\"aaxis\": {\"gridcolor\": \"white\", \"linecolor\": \"white\", \"ticks\": \"\"}, \"baxis\": {\"gridcolor\": \"white\", \"linecolor\": \"white\", \"ticks\": \"\"}, \"bgcolor\": \"#E5ECF6\", \"caxis\": {\"gridcolor\": \"white\", \"linecolor\": \"white\", \"ticks\": \"\"}}, \"title\": {\"x\": 0.05}, \"xaxis\": {\"automargin\": true, \"gridcolor\": \"white\", \"linecolor\": \"white\", \"ticks\": \"\", \"title\": {\"standoff\": 15}, \"zerolinecolor\": \"white\", \"zerolinewidth\": 2}, \"yaxis\": {\"automargin\": true, \"gridcolor\": \"white\", \"linecolor\": \"white\", \"ticks\": \"\", \"title\": {\"standoff\": 15}, \"zerolinecolor\": \"white\", \"zerolinewidth\": 2}}}, \"title\": {\"text\": \"<span style='font-size: 22px;'><b>Most active authors<b></span>\", \"x\": 0.5}, \"xaxis\": {\"title\": {\"text\": \"Authors\"}}, \"yaxis\": {\"range\": [0, 6.6000000000000005], \"title\": {\"text\": \"Number of Publications\"}}},                        {\"responsive\": true}                    ).then(function(){\n",
       "                            \n",
       "var gd = document.getElementById('7ab7501a-2a57-4f80-92a7-334ab909e0ad');\n",
       "var x = new MutationObserver(function (mutations, observer) {{\n",
       "        var display = window.getComputedStyle(gd).display;\n",
       "        if (!display || display === 'none') {{\n",
       "            console.log([gd, 'removed!']);\n",
       "            Plotly.purge(gd);\n",
       "            observer.disconnect();\n",
       "        }}\n",
       "}});\n",
       "\n",
       "// Listen for the removal of the full notebook cells\n",
       "var notebookContainer = gd.closest('#notebook-container');\n",
       "if (notebookContainer) {{\n",
       "    x.observe(notebookContainer, {childList: true});\n",
       "}}\n",
       "\n",
       "// Listen for the clearing of the current output cell\n",
       "var outputEl = gd.closest('.output');\n",
       "if (outputEl) {{\n",
       "    x.observe(outputEl, {childList: true});\n",
       "}}\n",
       "\n",
       "                        })                };                });            </script>        </div>"
      ]
     },
     "metadata": {},
     "output_type": "display_data"
    }
   ],
   "source": [
    "make_active_authors(results_df)"
   ]
  },
  {
   "cell_type": "markdown",
   "id": "246e9f7c",
   "metadata": {
    "heading_collapsed": true,
    "hidden": true
   },
   "source": [
    "#### Line charts"
   ]
  },
  {
   "cell_type": "code",
   "execution_count": 42,
   "id": "0bb89078",
   "metadata": {
    "hidden": true
   },
   "outputs": [
    {
     "data": {
      "application/vnd.plotly.v1+json": {
       "config": {
        "plotlyServerURL": "https://plot.ly"
       },
       "data": [
        {
         "hovertemplate": "x=%{x}<br>y=%{y}<extra></extra>",
         "legendgroup": "",
         "line": {
          "color": "#636efa",
          "dash": "solid"
         },
         "marker": {
          "color": "#eda109"
         },
         "mode": "lines",
         "name": "",
         "orientation": "v",
         "showlegend": false,
         "type": "scatter",
         "x": [
          2011,
          2013,
          2014,
          2015,
          2016,
          2017,
          2018,
          2019,
          2020,
          2021
         ],
         "xaxis": "x",
         "y": [
          1,
          2,
          1,
          1,
          6,
          4,
          8,
          2,
          4,
          1
         ],
         "yaxis": "y"
        }
       ],
       "layout": {
        "font": {
         "color": "white",
         "family": "Courier New, monospace",
         "size": 12
        },
        "legend": {
         "tracegroupgap": 0
        },
        "paper_bgcolor": "#101126",
        "plot_bgcolor": "#101126",
        "template": {
         "data": {
          "bar": [
           {
            "error_x": {
             "color": "#2a3f5f"
            },
            "error_y": {
             "color": "#2a3f5f"
            },
            "marker": {
             "line": {
              "color": "#E5ECF6",
              "width": 0.5
             }
            },
            "type": "bar"
           }
          ],
          "barpolar": [
           {
            "marker": {
             "line": {
              "color": "#E5ECF6",
              "width": 0.5
             }
            },
            "type": "barpolar"
           }
          ],
          "carpet": [
           {
            "aaxis": {
             "endlinecolor": "#2a3f5f",
             "gridcolor": "white",
             "linecolor": "white",
             "minorgridcolor": "white",
             "startlinecolor": "#2a3f5f"
            },
            "baxis": {
             "endlinecolor": "#2a3f5f",
             "gridcolor": "white",
             "linecolor": "white",
             "minorgridcolor": "white",
             "startlinecolor": "#2a3f5f"
            },
            "type": "carpet"
           }
          ],
          "choropleth": [
           {
            "colorbar": {
             "outlinewidth": 0,
             "ticks": ""
            },
            "type": "choropleth"
           }
          ],
          "contour": [
           {
            "colorbar": {
             "outlinewidth": 0,
             "ticks": ""
            },
            "colorscale": [
             [
              0,
              "#0d0887"
             ],
             [
              0.1111111111111111,
              "#46039f"
             ],
             [
              0.2222222222222222,
              "#7201a8"
             ],
             [
              0.3333333333333333,
              "#9c179e"
             ],
             [
              0.4444444444444444,
              "#bd3786"
             ],
             [
              0.5555555555555556,
              "#d8576b"
             ],
             [
              0.6666666666666666,
              "#ed7953"
             ],
             [
              0.7777777777777778,
              "#fb9f3a"
             ],
             [
              0.8888888888888888,
              "#fdca26"
             ],
             [
              1,
              "#f0f921"
             ]
            ],
            "type": "contour"
           }
          ],
          "contourcarpet": [
           {
            "colorbar": {
             "outlinewidth": 0,
             "ticks": ""
            },
            "type": "contourcarpet"
           }
          ],
          "heatmap": [
           {
            "colorbar": {
             "outlinewidth": 0,
             "ticks": ""
            },
            "colorscale": [
             [
              0,
              "#0d0887"
             ],
             [
              0.1111111111111111,
              "#46039f"
             ],
             [
              0.2222222222222222,
              "#7201a8"
             ],
             [
              0.3333333333333333,
              "#9c179e"
             ],
             [
              0.4444444444444444,
              "#bd3786"
             ],
             [
              0.5555555555555556,
              "#d8576b"
             ],
             [
              0.6666666666666666,
              "#ed7953"
             ],
             [
              0.7777777777777778,
              "#fb9f3a"
             ],
             [
              0.8888888888888888,
              "#fdca26"
             ],
             [
              1,
              "#f0f921"
             ]
            ],
            "type": "heatmap"
           }
          ],
          "heatmapgl": [
           {
            "colorbar": {
             "outlinewidth": 0,
             "ticks": ""
            },
            "colorscale": [
             [
              0,
              "#0d0887"
             ],
             [
              0.1111111111111111,
              "#46039f"
             ],
             [
              0.2222222222222222,
              "#7201a8"
             ],
             [
              0.3333333333333333,
              "#9c179e"
             ],
             [
              0.4444444444444444,
              "#bd3786"
             ],
             [
              0.5555555555555556,
              "#d8576b"
             ],
             [
              0.6666666666666666,
              "#ed7953"
             ],
             [
              0.7777777777777778,
              "#fb9f3a"
             ],
             [
              0.8888888888888888,
              "#fdca26"
             ],
             [
              1,
              "#f0f921"
             ]
            ],
            "type": "heatmapgl"
           }
          ],
          "histogram": [
           {
            "marker": {
             "colorbar": {
              "outlinewidth": 0,
              "ticks": ""
             }
            },
            "type": "histogram"
           }
          ],
          "histogram2d": [
           {
            "colorbar": {
             "outlinewidth": 0,
             "ticks": ""
            },
            "colorscale": [
             [
              0,
              "#0d0887"
             ],
             [
              0.1111111111111111,
              "#46039f"
             ],
             [
              0.2222222222222222,
              "#7201a8"
             ],
             [
              0.3333333333333333,
              "#9c179e"
             ],
             [
              0.4444444444444444,
              "#bd3786"
             ],
             [
              0.5555555555555556,
              "#d8576b"
             ],
             [
              0.6666666666666666,
              "#ed7953"
             ],
             [
              0.7777777777777778,
              "#fb9f3a"
             ],
             [
              0.8888888888888888,
              "#fdca26"
             ],
             [
              1,
              "#f0f921"
             ]
            ],
            "type": "histogram2d"
           }
          ],
          "histogram2dcontour": [
           {
            "colorbar": {
             "outlinewidth": 0,
             "ticks": ""
            },
            "colorscale": [
             [
              0,
              "#0d0887"
             ],
             [
              0.1111111111111111,
              "#46039f"
             ],
             [
              0.2222222222222222,
              "#7201a8"
             ],
             [
              0.3333333333333333,
              "#9c179e"
             ],
             [
              0.4444444444444444,
              "#bd3786"
             ],
             [
              0.5555555555555556,
              "#d8576b"
             ],
             [
              0.6666666666666666,
              "#ed7953"
             ],
             [
              0.7777777777777778,
              "#fb9f3a"
             ],
             [
              0.8888888888888888,
              "#fdca26"
             ],
             [
              1,
              "#f0f921"
             ]
            ],
            "type": "histogram2dcontour"
           }
          ],
          "mesh3d": [
           {
            "colorbar": {
             "outlinewidth": 0,
             "ticks": ""
            },
            "type": "mesh3d"
           }
          ],
          "parcoords": [
           {
            "line": {
             "colorbar": {
              "outlinewidth": 0,
              "ticks": ""
             }
            },
            "type": "parcoords"
           }
          ],
          "pie": [
           {
            "automargin": true,
            "type": "pie"
           }
          ],
          "scatter": [
           {
            "marker": {
             "colorbar": {
              "outlinewidth": 0,
              "ticks": ""
             }
            },
            "type": "scatter"
           }
          ],
          "scatter3d": [
           {
            "line": {
             "colorbar": {
              "outlinewidth": 0,
              "ticks": ""
             }
            },
            "marker": {
             "colorbar": {
              "outlinewidth": 0,
              "ticks": ""
             }
            },
            "type": "scatter3d"
           }
          ],
          "scattercarpet": [
           {
            "marker": {
             "colorbar": {
              "outlinewidth": 0,
              "ticks": ""
             }
            },
            "type": "scattercarpet"
           }
          ],
          "scattergeo": [
           {
            "marker": {
             "colorbar": {
              "outlinewidth": 0,
              "ticks": ""
             }
            },
            "type": "scattergeo"
           }
          ],
          "scattergl": [
           {
            "marker": {
             "colorbar": {
              "outlinewidth": 0,
              "ticks": ""
             }
            },
            "type": "scattergl"
           }
          ],
          "scattermapbox": [
           {
            "marker": {
             "colorbar": {
              "outlinewidth": 0,
              "ticks": ""
             }
            },
            "type": "scattermapbox"
           }
          ],
          "scatterpolar": [
           {
            "marker": {
             "colorbar": {
              "outlinewidth": 0,
              "ticks": ""
             }
            },
            "type": "scatterpolar"
           }
          ],
          "scatterpolargl": [
           {
            "marker": {
             "colorbar": {
              "outlinewidth": 0,
              "ticks": ""
             }
            },
            "type": "scatterpolargl"
           }
          ],
          "scatterternary": [
           {
            "marker": {
             "colorbar": {
              "outlinewidth": 0,
              "ticks": ""
             }
            },
            "type": "scatterternary"
           }
          ],
          "surface": [
           {
            "colorbar": {
             "outlinewidth": 0,
             "ticks": ""
            },
            "colorscale": [
             [
              0,
              "#0d0887"
             ],
             [
              0.1111111111111111,
              "#46039f"
             ],
             [
              0.2222222222222222,
              "#7201a8"
             ],
             [
              0.3333333333333333,
              "#9c179e"
             ],
             [
              0.4444444444444444,
              "#bd3786"
             ],
             [
              0.5555555555555556,
              "#d8576b"
             ],
             [
              0.6666666666666666,
              "#ed7953"
             ],
             [
              0.7777777777777778,
              "#fb9f3a"
             ],
             [
              0.8888888888888888,
              "#fdca26"
             ],
             [
              1,
              "#f0f921"
             ]
            ],
            "type": "surface"
           }
          ],
          "table": [
           {
            "cells": {
             "fill": {
              "color": "#EBF0F8"
             },
             "line": {
              "color": "white"
             }
            },
            "header": {
             "fill": {
              "color": "#C8D4E3"
             },
             "line": {
              "color": "white"
             }
            },
            "type": "table"
           }
          ]
         },
         "layout": {
          "annotationdefaults": {
           "arrowcolor": "#2a3f5f",
           "arrowhead": 0,
           "arrowwidth": 1
          },
          "autotypenumbers": "strict",
          "coloraxis": {
           "colorbar": {
            "outlinewidth": 0,
            "ticks": ""
           }
          },
          "colorscale": {
           "diverging": [
            [
             0,
             "#8e0152"
            ],
            [
             0.1,
             "#c51b7d"
            ],
            [
             0.2,
             "#de77ae"
            ],
            [
             0.3,
             "#f1b6da"
            ],
            [
             0.4,
             "#fde0ef"
            ],
            [
             0.5,
             "#f7f7f7"
            ],
            [
             0.6,
             "#e6f5d0"
            ],
            [
             0.7,
             "#b8e186"
            ],
            [
             0.8,
             "#7fbc41"
            ],
            [
             0.9,
             "#4d9221"
            ],
            [
             1,
             "#276419"
            ]
           ],
           "sequential": [
            [
             0,
             "#0d0887"
            ],
            [
             0.1111111111111111,
             "#46039f"
            ],
            [
             0.2222222222222222,
             "#7201a8"
            ],
            [
             0.3333333333333333,
             "#9c179e"
            ],
            [
             0.4444444444444444,
             "#bd3786"
            ],
            [
             0.5555555555555556,
             "#d8576b"
            ],
            [
             0.6666666666666666,
             "#ed7953"
            ],
            [
             0.7777777777777778,
             "#fb9f3a"
            ],
            [
             0.8888888888888888,
             "#fdca26"
            ],
            [
             1,
             "#f0f921"
            ]
           ],
           "sequentialminus": [
            [
             0,
             "#0d0887"
            ],
            [
             0.1111111111111111,
             "#46039f"
            ],
            [
             0.2222222222222222,
             "#7201a8"
            ],
            [
             0.3333333333333333,
             "#9c179e"
            ],
            [
             0.4444444444444444,
             "#bd3786"
            ],
            [
             0.5555555555555556,
             "#d8576b"
            ],
            [
             0.6666666666666666,
             "#ed7953"
            ],
            [
             0.7777777777777778,
             "#fb9f3a"
            ],
            [
             0.8888888888888888,
             "#fdca26"
            ],
            [
             1,
             "#f0f921"
            ]
           ]
          },
          "colorway": [
           "#636efa",
           "#EF553B",
           "#00cc96",
           "#ab63fa",
           "#FFA15A",
           "#19d3f3",
           "#FF6692",
           "#B6E880",
           "#FF97FF",
           "#FECB52"
          ],
          "font": {
           "color": "#2a3f5f"
          },
          "geo": {
           "bgcolor": "white",
           "lakecolor": "white",
           "landcolor": "#E5ECF6",
           "showlakes": true,
           "showland": true,
           "subunitcolor": "white"
          },
          "hoverlabel": {
           "align": "left"
          },
          "hovermode": "closest",
          "mapbox": {
           "style": "light"
          },
          "paper_bgcolor": "white",
          "plot_bgcolor": "#E5ECF6",
          "polar": {
           "angularaxis": {
            "gridcolor": "white",
            "linecolor": "white",
            "ticks": ""
           },
           "bgcolor": "#E5ECF6",
           "radialaxis": {
            "gridcolor": "white",
            "linecolor": "white",
            "ticks": ""
           }
          },
          "scene": {
           "xaxis": {
            "backgroundcolor": "#E5ECF6",
            "gridcolor": "white",
            "gridwidth": 2,
            "linecolor": "white",
            "showbackground": true,
            "ticks": "",
            "zerolinecolor": "white"
           },
           "yaxis": {
            "backgroundcolor": "#E5ECF6",
            "gridcolor": "white",
            "gridwidth": 2,
            "linecolor": "white",
            "showbackground": true,
            "ticks": "",
            "zerolinecolor": "white"
           },
           "zaxis": {
            "backgroundcolor": "#E5ECF6",
            "gridcolor": "white",
            "gridwidth": 2,
            "linecolor": "white",
            "showbackground": true,
            "ticks": "",
            "zerolinecolor": "white"
           }
          },
          "shapedefaults": {
           "line": {
            "color": "#2a3f5f"
           }
          },
          "ternary": {
           "aaxis": {
            "gridcolor": "white",
            "linecolor": "white",
            "ticks": ""
           },
           "baxis": {
            "gridcolor": "white",
            "linecolor": "white",
            "ticks": ""
           },
           "bgcolor": "#E5ECF6",
           "caxis": {
            "gridcolor": "white",
            "linecolor": "white",
            "ticks": ""
           }
          },
          "title": {
           "x": 0.05
          },
          "xaxis": {
           "automargin": true,
           "gridcolor": "white",
           "linecolor": "white",
           "ticks": "",
           "title": {
            "standoff": 15
           },
           "zerolinecolor": "white",
           "zerolinewidth": 2
          },
          "yaxis": {
           "automargin": true,
           "gridcolor": "white",
           "linecolor": "white",
           "ticks": "",
           "title": {
            "standoff": 15
           },
           "zerolinecolor": "white",
           "zerolinewidth": 2
          }
         }
        },
        "title": {
         "text": "<span style='font-size: 22px;'><b>Publications per Year<b></span>",
         "x": 0.5
        },
        "xaxis": {
         "anchor": "y",
         "domain": [
          0,
          1
         ],
         "range": [
          2006,
          2027
         ],
         "title": {
          "text": "Year"
         }
        },
        "yaxis": {
         "anchor": "x",
         "domain": [
          0,
          1
         ],
         "range": [
          0,
          8.8
         ],
         "title": {
          "text": "Number of Publications"
         }
        }
       }
      },
      "text/html": [
       "<div>                            <div id=\"c41fc286-accb-4c65-ba2d-cea2d2a3e118\" class=\"plotly-graph-div\" style=\"height:525px; width:100%;\"></div>            <script type=\"text/javascript\">                require([\"plotly\"], function(Plotly) {                    window.PLOTLYENV=window.PLOTLYENV || {};                                    if (document.getElementById(\"c41fc286-accb-4c65-ba2d-cea2d2a3e118\")) {                    Plotly.newPlot(                        \"c41fc286-accb-4c65-ba2d-cea2d2a3e118\",                        [{\"hovertemplate\": \"x=%{x}<br>y=%{y}<extra></extra>\", \"legendgroup\": \"\", \"line\": {\"color\": \"#636efa\", \"dash\": \"solid\"}, \"marker\": {\"color\": \"#eda109\"}, \"mode\": \"lines\", \"name\": \"\", \"orientation\": \"v\", \"showlegend\": false, \"type\": \"scatter\", \"x\": [2011, 2013, 2014, 2015, 2016, 2017, 2018, 2019, 2020, 2021], \"xaxis\": \"x\", \"y\": [1, 2, 1, 1, 6, 4, 8, 2, 4, 1], \"yaxis\": \"y\"}],                        {\"font\": {\"color\": \"white\", \"family\": \"Courier New, monospace\", \"size\": 12}, \"legend\": {\"tracegroupgap\": 0}, \"paper_bgcolor\": \"#101126\", \"plot_bgcolor\": \"#101126\", \"template\": {\"data\": {\"bar\": [{\"error_x\": {\"color\": \"#2a3f5f\"}, \"error_y\": {\"color\": \"#2a3f5f\"}, \"marker\": {\"line\": {\"color\": \"#E5ECF6\", \"width\": 0.5}}, \"type\": \"bar\"}], \"barpolar\": [{\"marker\": {\"line\": {\"color\": \"#E5ECF6\", \"width\": 0.5}}, \"type\": \"barpolar\"}], \"carpet\": [{\"aaxis\": {\"endlinecolor\": \"#2a3f5f\", \"gridcolor\": \"white\", \"linecolor\": \"white\", \"minorgridcolor\": \"white\", \"startlinecolor\": \"#2a3f5f\"}, \"baxis\": {\"endlinecolor\": \"#2a3f5f\", \"gridcolor\": \"white\", \"linecolor\": \"white\", \"minorgridcolor\": \"white\", \"startlinecolor\": \"#2a3f5f\"}, \"type\": \"carpet\"}], \"choropleth\": [{\"colorbar\": {\"outlinewidth\": 0, \"ticks\": \"\"}, \"type\": \"choropleth\"}], \"contour\": [{\"colorbar\": {\"outlinewidth\": 0, \"ticks\": \"\"}, \"colorscale\": [[0.0, \"#0d0887\"], [0.1111111111111111, \"#46039f\"], [0.2222222222222222, \"#7201a8\"], [0.3333333333333333, \"#9c179e\"], [0.4444444444444444, \"#bd3786\"], [0.5555555555555556, \"#d8576b\"], [0.6666666666666666, \"#ed7953\"], [0.7777777777777778, \"#fb9f3a\"], [0.8888888888888888, \"#fdca26\"], [1.0, \"#f0f921\"]], \"type\": \"contour\"}], \"contourcarpet\": [{\"colorbar\": {\"outlinewidth\": 0, \"ticks\": \"\"}, \"type\": \"contourcarpet\"}], \"heatmap\": [{\"colorbar\": {\"outlinewidth\": 0, \"ticks\": \"\"}, \"colorscale\": [[0.0, \"#0d0887\"], [0.1111111111111111, \"#46039f\"], [0.2222222222222222, \"#7201a8\"], [0.3333333333333333, \"#9c179e\"], [0.4444444444444444, \"#bd3786\"], [0.5555555555555556, \"#d8576b\"], [0.6666666666666666, \"#ed7953\"], [0.7777777777777778, \"#fb9f3a\"], [0.8888888888888888, \"#fdca26\"], [1.0, \"#f0f921\"]], \"type\": \"heatmap\"}], \"heatmapgl\": [{\"colorbar\": {\"outlinewidth\": 0, \"ticks\": \"\"}, \"colorscale\": [[0.0, \"#0d0887\"], [0.1111111111111111, \"#46039f\"], [0.2222222222222222, \"#7201a8\"], [0.3333333333333333, \"#9c179e\"], [0.4444444444444444, \"#bd3786\"], [0.5555555555555556, \"#d8576b\"], [0.6666666666666666, \"#ed7953\"], [0.7777777777777778, \"#fb9f3a\"], [0.8888888888888888, \"#fdca26\"], [1.0, \"#f0f921\"]], \"type\": \"heatmapgl\"}], \"histogram\": [{\"marker\": {\"colorbar\": {\"outlinewidth\": 0, \"ticks\": \"\"}}, \"type\": \"histogram\"}], \"histogram2d\": [{\"colorbar\": {\"outlinewidth\": 0, \"ticks\": \"\"}, \"colorscale\": [[0.0, \"#0d0887\"], [0.1111111111111111, \"#46039f\"], [0.2222222222222222, \"#7201a8\"], [0.3333333333333333, \"#9c179e\"], [0.4444444444444444, \"#bd3786\"], [0.5555555555555556, \"#d8576b\"], [0.6666666666666666, \"#ed7953\"], [0.7777777777777778, \"#fb9f3a\"], [0.8888888888888888, \"#fdca26\"], [1.0, \"#f0f921\"]], \"type\": \"histogram2d\"}], \"histogram2dcontour\": [{\"colorbar\": {\"outlinewidth\": 0, \"ticks\": \"\"}, \"colorscale\": [[0.0, \"#0d0887\"], [0.1111111111111111, \"#46039f\"], [0.2222222222222222, \"#7201a8\"], [0.3333333333333333, \"#9c179e\"], [0.4444444444444444, \"#bd3786\"], [0.5555555555555556, \"#d8576b\"], [0.6666666666666666, \"#ed7953\"], [0.7777777777777778, \"#fb9f3a\"], [0.8888888888888888, \"#fdca26\"], [1.0, \"#f0f921\"]], \"type\": \"histogram2dcontour\"}], \"mesh3d\": [{\"colorbar\": {\"outlinewidth\": 0, \"ticks\": \"\"}, \"type\": \"mesh3d\"}], \"parcoords\": [{\"line\": {\"colorbar\": {\"outlinewidth\": 0, \"ticks\": \"\"}}, \"type\": \"parcoords\"}], \"pie\": [{\"automargin\": true, \"type\": \"pie\"}], \"scatter\": [{\"marker\": {\"colorbar\": {\"outlinewidth\": 0, \"ticks\": \"\"}}, \"type\": \"scatter\"}], \"scatter3d\": [{\"line\": {\"colorbar\": {\"outlinewidth\": 0, \"ticks\": \"\"}}, \"marker\": {\"colorbar\": {\"outlinewidth\": 0, \"ticks\": \"\"}}, \"type\": \"scatter3d\"}], \"scattercarpet\": [{\"marker\": {\"colorbar\": {\"outlinewidth\": 0, \"ticks\": \"\"}}, \"type\": \"scattercarpet\"}], \"scattergeo\": [{\"marker\": {\"colorbar\": {\"outlinewidth\": 0, \"ticks\": \"\"}}, \"type\": \"scattergeo\"}], \"scattergl\": [{\"marker\": {\"colorbar\": {\"outlinewidth\": 0, \"ticks\": \"\"}}, \"type\": \"scattergl\"}], \"scattermapbox\": [{\"marker\": {\"colorbar\": {\"outlinewidth\": 0, \"ticks\": \"\"}}, \"type\": \"scattermapbox\"}], \"scatterpolar\": [{\"marker\": {\"colorbar\": {\"outlinewidth\": 0, \"ticks\": \"\"}}, \"type\": \"scatterpolar\"}], \"scatterpolargl\": [{\"marker\": {\"colorbar\": {\"outlinewidth\": 0, \"ticks\": \"\"}}, \"type\": \"scatterpolargl\"}], \"scatterternary\": [{\"marker\": {\"colorbar\": {\"outlinewidth\": 0, \"ticks\": \"\"}}, \"type\": \"scatterternary\"}], \"surface\": [{\"colorbar\": {\"outlinewidth\": 0, \"ticks\": \"\"}, \"colorscale\": [[0.0, \"#0d0887\"], [0.1111111111111111, \"#46039f\"], [0.2222222222222222, \"#7201a8\"], [0.3333333333333333, \"#9c179e\"], [0.4444444444444444, \"#bd3786\"], [0.5555555555555556, \"#d8576b\"], [0.6666666666666666, \"#ed7953\"], [0.7777777777777778, \"#fb9f3a\"], [0.8888888888888888, \"#fdca26\"], [1.0, \"#f0f921\"]], \"type\": \"surface\"}], \"table\": [{\"cells\": {\"fill\": {\"color\": \"#EBF0F8\"}, \"line\": {\"color\": \"white\"}}, \"header\": {\"fill\": {\"color\": \"#C8D4E3\"}, \"line\": {\"color\": \"white\"}}, \"type\": \"table\"}]}, \"layout\": {\"annotationdefaults\": {\"arrowcolor\": \"#2a3f5f\", \"arrowhead\": 0, \"arrowwidth\": 1}, \"autotypenumbers\": \"strict\", \"coloraxis\": {\"colorbar\": {\"outlinewidth\": 0, \"ticks\": \"\"}}, \"colorscale\": {\"diverging\": [[0, \"#8e0152\"], [0.1, \"#c51b7d\"], [0.2, \"#de77ae\"], [0.3, \"#f1b6da\"], [0.4, \"#fde0ef\"], [0.5, \"#f7f7f7\"], [0.6, \"#e6f5d0\"], [0.7, \"#b8e186\"], [0.8, \"#7fbc41\"], [0.9, \"#4d9221\"], [1, \"#276419\"]], \"sequential\": [[0.0, \"#0d0887\"], [0.1111111111111111, \"#46039f\"], [0.2222222222222222, \"#7201a8\"], [0.3333333333333333, \"#9c179e\"], [0.4444444444444444, \"#bd3786\"], [0.5555555555555556, \"#d8576b\"], [0.6666666666666666, \"#ed7953\"], [0.7777777777777778, \"#fb9f3a\"], [0.8888888888888888, \"#fdca26\"], [1.0, \"#f0f921\"]], \"sequentialminus\": [[0.0, \"#0d0887\"], [0.1111111111111111, \"#46039f\"], [0.2222222222222222, \"#7201a8\"], [0.3333333333333333, \"#9c179e\"], [0.4444444444444444, \"#bd3786\"], [0.5555555555555556, \"#d8576b\"], [0.6666666666666666, \"#ed7953\"], [0.7777777777777778, \"#fb9f3a\"], [0.8888888888888888, \"#fdca26\"], [1.0, \"#f0f921\"]]}, \"colorway\": [\"#636efa\", \"#EF553B\", \"#00cc96\", \"#ab63fa\", \"#FFA15A\", \"#19d3f3\", \"#FF6692\", \"#B6E880\", \"#FF97FF\", \"#FECB52\"], \"font\": {\"color\": \"#2a3f5f\"}, \"geo\": {\"bgcolor\": \"white\", \"lakecolor\": \"white\", \"landcolor\": \"#E5ECF6\", \"showlakes\": true, \"showland\": true, \"subunitcolor\": \"white\"}, \"hoverlabel\": {\"align\": \"left\"}, \"hovermode\": \"closest\", \"mapbox\": {\"style\": \"light\"}, \"paper_bgcolor\": \"white\", \"plot_bgcolor\": \"#E5ECF6\", \"polar\": {\"angularaxis\": {\"gridcolor\": \"white\", \"linecolor\": \"white\", \"ticks\": \"\"}, \"bgcolor\": \"#E5ECF6\", \"radialaxis\": {\"gridcolor\": \"white\", \"linecolor\": \"white\", \"ticks\": \"\"}}, \"scene\": {\"xaxis\": {\"backgroundcolor\": \"#E5ECF6\", \"gridcolor\": \"white\", \"gridwidth\": 2, \"linecolor\": \"white\", \"showbackground\": true, \"ticks\": \"\", \"zerolinecolor\": \"white\"}, \"yaxis\": {\"backgroundcolor\": \"#E5ECF6\", \"gridcolor\": \"white\", \"gridwidth\": 2, \"linecolor\": \"white\", \"showbackground\": true, \"ticks\": \"\", \"zerolinecolor\": \"white\"}, \"zaxis\": {\"backgroundcolor\": \"#E5ECF6\", \"gridcolor\": \"white\", \"gridwidth\": 2, \"linecolor\": \"white\", \"showbackground\": true, \"ticks\": \"\", \"zerolinecolor\": \"white\"}}, \"shapedefaults\": {\"line\": {\"color\": \"#2a3f5f\"}}, \"ternary\": {\"aaxis\": {\"gridcolor\": \"white\", \"linecolor\": \"white\", \"ticks\": \"\"}, \"baxis\": {\"gridcolor\": \"white\", \"linecolor\": \"white\", \"ticks\": \"\"}, \"bgcolor\": \"#E5ECF6\", \"caxis\": {\"gridcolor\": \"white\", \"linecolor\": \"white\", \"ticks\": \"\"}}, \"title\": {\"x\": 0.05}, \"xaxis\": {\"automargin\": true, \"gridcolor\": \"white\", \"linecolor\": \"white\", \"ticks\": \"\", \"title\": {\"standoff\": 15}, \"zerolinecolor\": \"white\", \"zerolinewidth\": 2}, \"yaxis\": {\"automargin\": true, \"gridcolor\": \"white\", \"linecolor\": \"white\", \"ticks\": \"\", \"title\": {\"standoff\": 15}, \"zerolinecolor\": \"white\", \"zerolinewidth\": 2}}}, \"title\": {\"text\": \"<span style='font-size: 22px;'><b>Publications per Year<b></span>\", \"x\": 0.5}, \"xaxis\": {\"anchor\": \"y\", \"domain\": [0.0, 1.0], \"range\": [2006, 2027], \"title\": {\"text\": \"Year\"}}, \"yaxis\": {\"anchor\": \"x\", \"domain\": [0.0, 1.0], \"range\": [0, 8.8], \"title\": {\"text\": \"Number of Publications\"}}},                        {\"responsive\": true}                    ).then(function(){\n",
       "                            \n",
       "var gd = document.getElementById('c41fc286-accb-4c65-ba2d-cea2d2a3e118');\n",
       "var x = new MutationObserver(function (mutations, observer) {{\n",
       "        var display = window.getComputedStyle(gd).display;\n",
       "        if (!display || display === 'none') {{\n",
       "            console.log([gd, 'removed!']);\n",
       "            Plotly.purge(gd);\n",
       "            observer.disconnect();\n",
       "        }}\n",
       "}});\n",
       "\n",
       "// Listen for the removal of the full notebook cells\n",
       "var notebookContainer = gd.closest('#notebook-container');\n",
       "if (notebookContainer) {{\n",
       "    x.observe(notebookContainer, {childList: true});\n",
       "}}\n",
       "\n",
       "// Listen for the clearing of the current output cell\n",
       "var outputEl = gd.closest('.output');\n",
       "if (outputEl) {{\n",
       "    x.observe(outputEl, {childList: true});\n",
       "}}\n",
       "\n",
       "                        })                };                });            </script>        </div>"
      ]
     },
     "metadata": {},
     "output_type": "display_data"
    }
   ],
   "source": [
    "#results_df.groupby('year').count()['citationCount']\n",
    "fig = px.line(results_df, x=results_df.groupby('year').count()['citationCount'].index,\n",
    "              y=results_df.groupby('year').count()['citationCount'], title='Publications per year')\n",
    "fig.update_layout(title = \"<span style='font-size: 22px;'><b>Publications per Year<b></span>\", title_x=0.5,\n",
    "                    font=dict(\n",
    "                              family=\"Courier New, monospace\",\n",
    "                              size=12,\n",
    "                              color=\"white\"\n",
    "    ),\n",
    "    paper_bgcolor = \"#101126\",\n",
    "    plot_bgcolor = \"#101126\")\n",
    "  \n",
    "fig.update_traces(marker_color='#eda109')\n",
    "fig.update_xaxes(title=\"Year\", range= [results_df.year.min() - 5, date.today().year + 5])\n",
    "fig.update_yaxes(title=\"Number of Publications\", range= [0, 1.1* results_df.groupby('year').count()['citationCount'].max()])\n",
    "fig.show()"
   ]
  },
  {
   "cell_type": "markdown",
   "id": "05ea31d6",
   "metadata": {},
   "source": [
    "### Network plots"
   ]
  },
  {
   "cell_type": "code",
   "execution_count": 54,
   "id": "a1d08c94",
   "metadata": {},
   "outputs": [],
   "source": [
    "def generate_collab_network_df(df):\n",
    "    authors_list_of_list = []\n",
    "    ids_list_of_list = []\n",
    "    for index, row in df.iterrows():\n",
    "        authors_list = []\n",
    "        ids_list = []\n",
    "        for dict_ in row.authors:\n",
    "            authors_list.append(dict_['name'])\n",
    "            ids_list.append(dict_['authorId'])\n",
    "        authors_list_of_list.append(authors_list)\n",
    "        ids_list_of_list.append(ids_list)\n",
    "    authors_combinations = []\n",
    "    ids_combinations = []\n",
    "    for authors in authors_list_of_list:\n",
    "        res = [(a, b) for idx, a in enumerate(authors) for b in authors[idx + 1:]]\n",
    "        authors_combinations.append(res)\n",
    "    for ids in ids_list_of_list:\n",
    "        rex = [(a, b) for idx, a in enumerate(ids) for b in ids[idx + 1:]]\n",
    "        ids_combinations.append(rex)\n",
    "    flat_authors_combinations = utils.flatten_list(authors_combinations)\n",
    "    flat_ids_combinations = utils.flatten_list(ids_combinations)\n",
    "    most_common_collab = Counter(flat_authors_combinations).most_common(50)\n",
    "    most_common_collab_ids = Counter(flat_ids_combinations).most_common(50)\n",
    "    unpacked_most_collab = [(a, b, c) for (a, b ), c in most_common_collab]\n",
    "    unpacked_most_collab_ids = [(a, b, c) for (a, b ), c in most_common_collab_ids]\n",
    "    #print(unpacked_most_collab_ids)\n",
    "    nx_df = pd.DataFrame(unpacked_most_collab, columns=['author1', 'author2', 'weight'])\n",
    "    nx_id_df = pd.DataFrame(unpacked_most_collab_ids, columns=['id1', 'id2', 'weight1'])\n",
    "    collabs_df = pd.concat([nx_df, nx_id_df], axis=1)\n",
    "    collabs_df['author1'] = list(zip(collabs_df.author1, collabs_df.id1))\n",
    "    collabs_df['author2'] = list(zip(collabs_df.author2, collabs_df.id2))\n",
    "    collabs_df.drop(['id1', 'id2', 'weight1'], axis = 1, inplace = True)\n",
    "    return collabs_df"
   ]
  },
  {
   "cell_type": "code",
   "execution_count": 63,
   "id": "ed9aefd8",
   "metadata": {},
   "outputs": [],
   "source": [
    "def generate_graph_elements_collab(df):\n",
    "    nx_df = generate_collab_network_df(df)\n",
    "    unique_top_authors = list(set(nx_df.author1.unique().tolist() + nx_df.author2.unique().tolist()))\n",
    "    nodes_list = [{'data': {'id': unique_top_authors[0][1], 'label': unique_top_authors[0][0]}, 'classes': 'author'}]\n",
    "    for element in unique_top_authors[1:]:\n",
    "        nodes_list.append({'data': {'id': element[1], 'label': element[0]}, 'classes': 'author'})\n",
    "    edges_list = [{'data': {'source': nx_df['author1'][0][1], 'target': nx_df['author2'][0][1]}, 'classes': 'collaboration'}]\n",
    "    for index, row in nx_df.iterrows():\n",
    "        edges_list.append({'data': {'source': row.author1[1], 'target': row.author2[1]}, 'classes': 'collaboration'})\n",
    "    elements = nodes_list + edges_list\n",
    "    #print(elements)\n",
    "    return elements"
   ]
  },
  {
   "cell_type": "code",
   "execution_count": 118,
   "id": "1731be69",
   "metadata": {},
   "outputs": [],
   "source": [
    "def generate_ref_network_df(df1, df2):\n",
    "    \"\"\"df1 = all_references_df\n",
    "     df2 = results_df\"\"\"\n",
    "    ref1 = []\n",
    "    ref2 = []\n",
    "    for index, row in df1.iterrows():\n",
    "        ref1.append((row.reference,row['paperId']))\n",
    "        ref2.append((\"\".join(df2.reference[df2.paperId == row['citedBy']]), row['citedBy']))\n",
    "    ref_network_df = pd.DataFrame(\n",
    "    {'ref1': ref1,\n",
    "     'ref2': ref2\n",
    "    })\n",
    "    return ref_network_df"
   ]
  },
  {
   "cell_type": "code",
   "execution_count": 133,
   "id": "cf6360b7",
   "metadata": {},
   "outputs": [],
   "source": [
    "def generate_graph_elements_network(df1, df2):\n",
    "    ref_network_df = generate_ref_network_df(df1, df2)\n",
    "    unique_refs = list(set(ref_network_df.ref1.unique().tolist()))\n",
    "    unique_results = list(set(ref_network_df.ref2.unique().tolist()))\n",
    "    print(unique_results)\n",
    "    nodes_refs = [{'data': {'id': unique_refs[0][1], 'label': unique_refs[0][0], 'classes': 'ref'}}]\n",
    "    nodes_results = [{'data': {'id': unique_results[0][1], 'label': unique_results[0][0], 'classes': 'res'}}]\n",
    "    nodes_list = nodes_refs + nodes_results\n",
    "    for element in unique_refs[1:]:\n",
    "        nodes_list.append({'data': {'id': element[1], 'label': element[0], 'classes': 'ref'}})\n",
    "    for element in unique_results[1:]:\n",
    "        nodes_list.append({'data': {'id': element[1], 'label': element[0], 'classes': 'res'}})\n",
    "    edges_list = [{'data': {'source': ref_network_df['ref1'][0][1], 'target': ref_network_df['ref2'][0][1]}, 'classes': 'citation'}]\n",
    "    for index, row in ref_network_df.iterrows():\n",
    "        edges_list.append({'data': {'source': row.ref1[1], 'target': row.ref2[1]}, 'classes': 'citation'})\n",
    "    elements = nodes_list + edges_list\n",
    "    return elements"
   ]
  },
  {
   "cell_type": "code",
   "execution_count": 134,
   "id": "85a86e94",
   "metadata": {},
   "outputs": [
    {
     "name": "stdout",
     "output_type": "stream",
     "text": [
      "[('L. Hays et al. (2017)', '0e5ab9a0d7e84b33e627f655777abc5bd3eda272'), ('L. Hays, D. Beaty (2017)', 'be0a6eb06af6231edf9378247ac9e154add68770'), ('S. Shkolyar, J. Farmer (2018)', '9a40cc604ec5720a627103a982df6089fa6298f6'), ('F. Da Pieve et al. (2020)', '15f56931cbfc6a0e2296be1cb9fd4d8fe4217781'), ('Jason E. French, D. Blake (2016)', '8bd506fadaa7c5b5fdfa66d1c61f408395a08067'), ('S. Shkolyar et al. (2021)', 'a491bc56c596f169dedd8eebc2346a987b277dcc'), ('C. Weisbin et al. (2013)', '61d144bd68693abd0ceafd1275969e8596b8c34b'), ('Joost W. Aerts et al. (2020)', 'f1376f87575a361568df4b3d891b5e6388519cfd'), ('J. Stromberg et al. (2013)', '36d23ffa810754651adb7ef60b52c814ef45d993'), ('J. Stromberg et al. (2019)', '73e782e5532960f9c54cf2219ffdff0afbe5c308'), ('M. Floyd et al. (2018)', 'e9040c638702931f009145cf6126874672585e52'), ('R. Summons et al. (2011)', '958b808c4e32488bf9f484c7de0b928ddfe94cff')]\n"
     ]
    },
    {
     "data": {
      "text/plain": [
       "[{'data': {'id': '693dd2f835afd4eec2020f27f60e551c91ef4034',\n",
       "   'label': 'K. Lalonde et al. (2012)',\n",
       "   'classes': 'ref'}},\n",
       " {'data': {'id': '0e5ab9a0d7e84b33e627f655777abc5bd3eda272',\n",
       "   'label': 'L. Hays et al. (2017)',\n",
       "   'classes': 'res'}},\n",
       " {'data': {'id': '71bb4b88cef499cd62af8766123de489bf870417',\n",
       "   'label': 'I. Reid et al. (2006)',\n",
       "   'classes': 'ref'}},\n",
       " {'data': {'id': 'df23a6cb74e89fa0e979c4d1a7cc76a94577414a',\n",
       "   'label': 'S. Shkolyar et al. (2018)',\n",
       "   'classes': 'ref'}},\n",
       " {'data': {'id': '7f15ea35e9181b230fad207c44ee106bb84c982d',\n",
       "   'label': 'R. B. Norman et al. (2016)',\n",
       "   'classes': 'ref'}},\n",
       " {'data': {'id': '14ac33a1fb626040f3019947bfe95903ebe46d99',\n",
       "   'label': 'B. Schubert et al. (2009)',\n",
       "   'classes': 'ref'}},\n",
       " {'data': {'id': '039048dfde63b3504289cd4204cef34f83f2e675',\n",
       "   'label': 'C. Cockell, A. Herrera (2008)',\n",
       "   'classes': 'ref'}},\n",
       " {'data': {'id': '680b0bfaebae4fdb7daf4bba404229a4d9cdd75b',\n",
       "   'label': 'A. Lambert et al. (1998)',\n",
       "   'classes': 'ref'}},\n",
       " {'data': {'id': '691f9bb09e96961dd5430da47d2b92339ff34dcd',\n",
       "   'label': 'N. Petoussi-Henss et al. (2010)',\n",
       "   'classes': 'ref'}},\n",
       " {'data': {'id': '08199d8d6de6ae7d6d50af0cf2d334ecacdc6067',\n",
       "   'label': 'S. Krause et al. (2017)',\n",
       "   'classes': 'ref'}},\n",
       " {'data': {'id': '1620888a2977499668521835a039bc9936d5c732',\n",
       "   'label': 'F. Westall et al. (2015)',\n",
       "   'classes': 'ref'}},\n",
       " {'data': {'id': '4ad0a0cc94817cf96a8308812eda0f7df184e1b2',\n",
       "   'label': 'S. Vance et al. (2007)',\n",
       "   'classes': 'ref'}},\n",
       " {'data': {'id': '0e16eef9b093d8dad246ea81aba3b9dbaf453ccc',\n",
       "   'label': 'M. Zolotov, J. Kargel (2009)',\n",
       "   'classes': 'ref'}},\n",
       " {'data': {'id': '8669cce76d4ed5e2e3f1f8ccb5857618ce16a49f',\n",
       "   'label': 'E. Eshelman et al. (2014)',\n",
       "   'classes': 'ref'}},\n",
       " {'data': {'id': '46b186bf1b0e08a0870b766ea32adbdec9a1e118',\n",
       "   'label': 'T. Goudge et al. (2015)',\n",
       "   'classes': 'ref'}},\n",
       " {'data': {'id': '1e78295943a044c437b81046c348e9d9aa531fee',\n",
       "   'label': 'W. Farrand et al. (2014)',\n",
       "   'classes': 'ref'}},\n",
       " {'data': {'id': '1dd4af19f84e70d866a8a44226c00e1e0b6a84d0',\n",
       "   'label': 'A. Davila et al. (2008)',\n",
       "   'classes': 'ref'}},\n",
       " {'data': {'id': '2ff2397bed39174889d7a155ee1431cfc5686734',\n",
       "   'label': 'R. Yamada et al. (1993)',\n",
       "   'classes': 'ref'}},\n",
       " {'data': {'id': '470c25206c9bbf25d22895d9560fa95981390bf7',\n",
       "   'label': 'J. Grotzinger (2014)',\n",
       "   'classes': 'ref'}},\n",
       " {'data': {'id': '2ec43f2feebbf947ec55a0294822a276dbed1b9b',\n",
       "   'label': 'C. Chio et al. (2005)',\n",
       "   'classes': 'ref'}},\n",
       " {'data': {'id': '5ec38b2d1072268d69bd2863cd0fb1c68d169bdc',\n",
       "   'label': 'B. Ehlmann et al. (2008)',\n",
       "   'classes': 'ref'}},\n",
       " {'data': {'id': '2910eedb008025e5a62c826a8d1fb6a2f6feb94d',\n",
       "   'label': 'M. Guo et al. (2011)',\n",
       "   'classes': 'ref'}},\n",
       " {'data': {'id': '7bf4de67c23bf2c69056485d11e2e57f5d5ac4ea',\n",
       "   'label': 'S. McKenna-Lawlor et al. (2012)',\n",
       "   'classes': 'ref'}},\n",
       " {'data': {'id': '7cb02959fbeb885d94c317d8137b04589e523020',\n",
       "   'label': 'Will Curran (1982)',\n",
       "   'classes': 'ref'}},\n",
       " {'data': {'id': '5ad5d4a2fa569247a4c4a322c1307a566e2ef495',\n",
       "   'label': 'R. Schmitt, R. Smith (1963)',\n",
       "   'classes': 'ref'}},\n",
       " {'data': {'id': '6899e2de084dddaf6555b5951ed3ac92a6ce4f95',\n",
       "   'label': 'N. Buzgar et al. (2009)',\n",
       "   'classes': 'ref'}},\n",
       " {'data': {'id': '3dd83e0569190bc42091877a7e7bbefb2655d664',\n",
       "   'label': 'E. Cloutis et al. (2007)',\n",
       "   'classes': 'ref'}},\n",
       " {'data': {'id': '229f12b46cd78d38693463c1abcb765796b9edbc',\n",
       "   'label': 'Maury Morgenstein, T. J. Riley (1975)',\n",
       "   'classes': 'ref'}},\n",
       " {'data': {'id': '55ca64372c77eea50dd4f9f7c50ebe0058c6ed2a',\n",
       "   'label': 'F. Cucinotta et al. (2006)',\n",
       "   'classes': 'ref'}},\n",
       " {'data': {'id': '27e9c9567138512e137b8e4d7050426ec26d8891',\n",
       "   'label': 'M. Morsy et al. (1999)',\n",
       "   'classes': 'ref'}},\n",
       " {'data': {'id': '2cc939e0030aecff4bc1b7e2011132b96af314aa',\n",
       "   'label': 'D. Canfield (2001)',\n",
       "   'classes': 'ref'}},\n",
       " {'data': {'id': '2a722daf9b22947397e1a96083f56e98ca333b02',\n",
       "   'label': 'Shawn D. Domagal-Goldman et al. (2016)',\n",
       "   'classes': 'ref'}},\n",
       " {'data': {'id': '9e90e5b6219f1b710c9ab367ac9e464043676736',\n",
       "   'label': 'J. Farmer (1995)',\n",
       "   'classes': 'ref'}},\n",
       " {'data': {'id': '224845c0f8e7ecf888d23b46bcbf36c103cd2960',\n",
       "   'label': 'A. Azua-Bustos et al. (2012)',\n",
       "   'classes': 'ref'}},\n",
       " {'data': {'id': '1e2d0c6531df868c007c53c22642fada71ec6046',\n",
       "   'label': 'P. Boston et al. (2001)',\n",
       "   'classes': 'ref'}},\n",
       " {'data': {'id': '6ce41b696a1511e7ef820c41df3f53eb16680f06',\n",
       "   'label': 'J. Head et al. (1999)',\n",
       "   'classes': 'ref'}},\n",
       " {'data': {'id': '223578370778b09d90fb556e7caed07973d4bc48',\n",
       "   'label': 'R. Castenholz (1988)',\n",
       "   'classes': 'ref'}},\n",
       " {'data': {'id': '88b55fdfd5bef4222e75e51159668c79dc14574f',\n",
       "   'label': 'R. Cordero et al. (2018)',\n",
       "   'classes': 'ref'}},\n",
       " {'data': {'id': '22f8bf6131eef7f0e2b9d8fd4a40e7d426a37a38',\n",
       "   'label': 'L. Simonsen et al. (1990)',\n",
       "   'classes': 'ref'}},\n",
       " {'data': {'id': '46921aae97cff08c4c25f94fa0828cb60b00f293',\n",
       "   'label': 'S. Squyres et al. (2004)',\n",
       "   'classes': 'ref'}},\n",
       " {'data': {'id': '5532e4371c79b7736bafbf4282ec28c1799b6bf6',\n",
       "   'label': 'L. Kozlowski (2016)',\n",
       "   'classes': 'ref'}},\n",
       " {'data': {'id': '0c97d521bc1eedccf60d78bd6fc7c386d5c7748d',\n",
       "   'label': 'B. Horgan, J. Bell (2012)',\n",
       "   'classes': 'ref'}},\n",
       " {'data': {'id': '1e2b7c00e02e6ddb66319ce86058766d53b53f80',\n",
       "   'label': 'H. Furnes et al. (1996)',\n",
       "   'classes': 'ref'}},\n",
       " {'data': {'id': '213c7c2e334417fac60d7d041f74ac4454fb5181',\n",
       "   'label': 'C. Shearer et al. (2014)',\n",
       "   'classes': 'ref'}},\n",
       " {'data': {'id': '05cf70d7e2248efeb91f64f84ebc428a7197b38d',\n",
       "   'label': 'O. Seki et al. (2010)',\n",
       "   'classes': 'ref'}},\n",
       " {'data': {'id': '38c0141f9f9b2979b759cd5756906a6d1ef471b4',\n",
       "   'label': 'Q. He et al. (2015)',\n",
       "   'classes': 'ref'}},\n",
       " {'data': {'id': '04f7578219fd6b8c6217f7b1477414dcc443a8d2',\n",
       "   'label': 'R. Frost et al. (2014)',\n",
       "   'classes': 'ref'}},\n",
       " {'data': {'id': '1fb0e01ff8c0319576f169fb4d6f9cf154b989f9',\n",
       "   'label': 'S. D. Angelis et al. (2013)',\n",
       "   'classes': 'ref'}},\n",
       " {'data': {'id': '1573dfbc93bec7a435d7575e0538d029b8616454',\n",
       "   'label': 'E. Lymer et al. (2020)',\n",
       "   'classes': 'ref'}},\n",
       " {'data': {'id': 'b0e613f674eb404b743e428b6648184fb26bcc60',\n",
       "   'label': 'L. Dartnell (2011)',\n",
       "   'classes': 'ref'}},\n",
       " {'data': {'id': '05522fef43b14f7c132a7553740c621b49a8e478',\n",
       "   'label': 'Emily Knowles et al. (2012)',\n",
       "   'classes': 'ref'}},\n",
       " {'data': {'id': '0272fe47aa6c58084222561694484b53109a422a',\n",
       "   'label': 'N. Noffke (1978)',\n",
       "   'classes': 'ref'}},\n",
       " {'data': {'id': '59073ed0ce1d4f1c839d287a4d23c669b6b9b602',\n",
       "   'label': 'D. Hassler et al. (2014)',\n",
       "   'classes': 'ref'}},\n",
       " {'data': {'id': '5ee6e2eab75767d10084c2a975f2826ea7b83c26',\n",
       "   'label': 'M. Gaft et al. (2002)',\n",
       "   'classes': 'ref'}},\n",
       " {'data': {'id': 'fb2c5ae49026f953ed7030d917edcef376fe85e2',\n",
       "   'label': 'Ding Jun-kai et al. (1997)',\n",
       "   'classes': 'ref'}},\n",
       " {'data': {'id': '6ad8f03e941ed97b9dc8c1755a8477b34274fc75',\n",
       "   'label': 'M. PourArsalan et al. (2010)',\n",
       "   'classes': 'ref'}},\n",
       " {'data': {'id': '37a4c41c08c23ecc362bc66073c81b004ed0047f',\n",
       "   'label': 'Joost W. Aerts et al. (2016)',\n",
       "   'classes': 'ref'}},\n",
       " {'data': {'id': '3f7b678d15ba30705cec396335e43a875ccb0023',\n",
       "   'label': 'N. Trewin (2007)',\n",
       "   'classes': 'ref'}},\n",
       " {'data': {'id': '5fe63b4552c545de3c493f9955281a62727a26f2',\n",
       "   'label': 'Botta et al. (2008)',\n",
       "   'classes': 'ref'}},\n",
       " {'data': {'id': '414106f9320e04121be6636d3782a83e5b6ab70d',\n",
       "   'label': 'L. Mayer (1994)',\n",
       "   'classes': 'ref'}},\n",
       " {'data': {'id': '1e068951f1209fa9169974cae77fe291ac612dd6',\n",
       "   'label': 'M. Kennedy et al. (2002)',\n",
       "   'classes': 'ref'}},\n",
       " {'data': {'id': '181a0eebcb7fba14ff17fb77f6d08e8069b00679',\n",
       "   'label': 'R. Galbraith, G. Laslett (1988)',\n",
       "   'classes': 'ref'}},\n",
       " {'data': {'id': '35a12dc51c0f269562d780b0f63b9989ff266f43',\n",
       "   'label': 'J. Carter et al. (2013)',\n",
       "   'classes': 'ref'}},\n",
       " {'data': {'id': '1b6017d6f79d0bc22b1c8711c4e9722511598902',\n",
       "   'label': 'F. Forget et al. (1999)',\n",
       "   'classes': 'ref'}},\n",
       " {'data': {'id': '2f0d1ec7ce114083e60589ba9ee042e6a9b7550a',\n",
       "   'label': 'C. Cockell et al. (2005)',\n",
       "   'classes': 'ref'}},\n",
       " {'data': {'id': '1fb473dceb7a47430338fe5f47eb7b68a4aeeb38',\n",
       "   'label': 'P. Franzmann et al. (1988)',\n",
       "   'classes': 'ref'}},\n",
       " {'data': {'id': '98e68447896248fd84070eebb29b1becfd49a7d8',\n",
       "   'label': 'X. Amashukeli et al. (2007)',\n",
       "   'classes': 'ref'}},\n",
       " {'data': {'id': '2e7026b86929046852a75a4fd51d8fb398e5ffb7',\n",
       "   'label': 'Shiv K. Sharma et al. (2012)',\n",
       "   'classes': 'ref'}},\n",
       " {'data': {'id': '4481abeb6b9577ad058966996dc677ccd14c047b',\n",
       "   'label': 'Robert et al. (2008)',\n",
       "   'classes': 'ref'}},\n",
       " {'data': {'id': 'b0507d2d4d3408c7805f27871b0b3eb2a0ac704e',\n",
       "   'label': 'D. Sumner (2004)',\n",
       "   'classes': 'ref'}},\n",
       " {'data': {'id': '40003f9874257c8dd344edbe5cdcd08637a2eec0',\n",
       "   'label': 'Jingnan Guo et al. (2017)',\n",
       "   'classes': 'ref'}},\n",
       " {'data': {'id': '48b3cf8a2e39023f260c9c32b2fd887409d7671a',\n",
       "   'label': 'C. Martín (2008)',\n",
       "   'classes': 'ref'}},\n",
       " {'data': {'id': '482a64aea935eca6bda8bb0f73af42e05595b569',\n",
       "   'label': 'S. Murchie et al. (2009)',\n",
       "   'classes': 'ref'}},\n",
       " {'data': {'id': '86340d6c0a3ed96b355fed8aebc98f35ae952425',\n",
       "   'label': 'N. Zotov et al. (1999)',\n",
       "   'classes': 'ref'}},\n",
       " {'data': {'id': '0d6a9b1f19e0c2ed909105ade3447448d0e3bf74',\n",
       "   'label': 'Division on Earth (2007)',\n",
       "   'classes': 'ref'}},\n",
       " {'data': {'id': '781f36f461f4d7f5607e71a7628d5d9e785f7038',\n",
       "   'label': 'Clara S. Chan et al. (2016)',\n",
       "   'classes': 'ref'}},\n",
       " {'data': {'id': '129df25c98c90077cda0e1a84a597dcfd529727c',\n",
       "   'label': 'J. Farmer, D. D. Des Marais (1999)',\n",
       "   'classes': 'ref'}},\n",
       " {'data': {'id': '218407aba36fe0a3e619ba60edf2b327643fadbf',\n",
       "   'label': 'S. Benner et al. (2000)',\n",
       "   'classes': 'ref'}},\n",
       " {'data': {'id': '65da321500bdbf4a396a21cf106a5fdbb1b4561e',\n",
       "   'label': 'K. Farley, K. Williford (2017)',\n",
       "   'classes': 'ref'}},\n",
       " {'data': {'id': 'b2907666ed60699611ed646e126c5d9376d19c2a',\n",
       "   'label': 'R. Summons et al. (1988)',\n",
       "   'classes': 'ref'}},\n",
       " {'data': {'id': '36f8df498a7f40ccc375b84cf5593b222d86cd15',\n",
       "   'label': 'R. Galbraith (2002)',\n",
       "   'classes': 'ref'}},\n",
       " {'data': {'id': '4e4e0c34f57990a0ef876cac4108f98fcf12c6de',\n",
       "   'label': 'K. István et al. (2003)',\n",
       "   'classes': 'ref'}},\n",
       " {'data': {'id': '19a5de2e4a01d611f7cd5ab6c6bdca8293006815',\n",
       "   'label': 'E. Dewitt et al. (2008)',\n",
       "   'classes': 'ref'}},\n",
       " {'data': {'id': '71f0cee4a4d848be2561ec3808d0bea28c536494',\n",
       "   'label': 'J. Grotzinger et al. (2012)',\n",
       "   'classes': 'ref'}},\n",
       " {'data': {'id': '4deb2bc682a3b614f1bbb1995e904b81121b5c8f',\n",
       "   'label': 'C. Lee et al. (2009)',\n",
       "   'classes': 'ref'}},\n",
       " {'data': {'id': '0129ac6b5d524eddcf70a540f0f77fb5e00ed9b4',\n",
       "   'label': 'M. Brasier et al. (2006)',\n",
       "   'classes': 'ref'}},\n",
       " {'data': {'id': '0cf91d84638ece8614fb243ad6bf140ed26c30af',\n",
       "   'label': 'G. Brass (1980)',\n",
       "   'classes': 'ref'}},\n",
       " {'data': {'id': '106fa271e34408e2c79aca1eeff9a0277e568a5f',\n",
       "   'label': 'N. Noffke (2009)',\n",
       "   'classes': 'ref'}},\n",
       " {'data': {'id': '378993b9f044ac20c0ce9bd830bbc8d63295e35c',\n",
       "   'label': 'J. Grotzinger et al. (2005)',\n",
       "   'classes': 'ref'}},\n",
       " {'data': {'id': '68d9fc69b6aaeef481f12656c10cbebfcf732e99',\n",
       "   'label': 'Rebecca M. E. Williams et al. (2009)',\n",
       "   'classes': 'ref'}},\n",
       " {'data': {'id': '610b471317b8f973b499708f14d318f9143efa7b',\n",
       "   'label': 'M. Wadhwa et al. (1994)',\n",
       "   'classes': 'ref'}},\n",
       " {'data': {'id': '90f4e6c9ff30540d6a612846afaaac796b1f25af',\n",
       "   'label': 'O. Prieto-Ballesteros et al. (2003)',\n",
       "   'classes': 'ref'}},\n",
       " {'data': {'id': '4ceed324506f2e6a3d91df8dcefe1f9ee9d126b9',\n",
       "   'label': 'D. Sherman, T. Waite (1985)',\n",
       "   'classes': 'ref'}},\n",
       " {'data': {'id': '70b48fd1a0c3d9fef98600578308e1e033c0c67a',\n",
       "   'label': 'J. Caporaso et al. (2010)',\n",
       "   'classes': 'ref'}},\n",
       " {'data': {'id': '593b8d7a4c5236caf4793faa05be163dd2f41ee3',\n",
       "   'label': 'Z. Martins et al. (2007)',\n",
       "   'classes': 'ref'}},\n",
       " {'data': {'id': '1b18d58fc8be0714e3df0b639e9817e3ddf043cd',\n",
       "   'label': 'J. Havig et al. (2017)',\n",
       "   'classes': 'ref'}},\n",
       " {'data': {'id': '04f86d47d22a44fd15416b8c2c20741c764f8034',\n",
       "   'label': 'J. Grant et al. (2010)',\n",
       "   'classes': 'ref'}},\n",
       " {'data': {'id': '546bbd226cc7fa988f56c19aa4c2cb1e9a986de9',\n",
       "   'label': 'B. Gómez-Silva et al. (2008)',\n",
       "   'classes': 'ref'}},\n",
       " {'data': {'id': '2c17e31bb0adc208299b23f16c0f0f912a18b727',\n",
       "   'label': 'R. Pancost et al. (2005)',\n",
       "   'classes': 'ref'}},\n",
       " {'data': {'id': '133c78e96be66a364f9f6e1cee4bd68ed7be6f53',\n",
       "   'label': 'J. Alt, P. Mata (2000)',\n",
       "   'classes': 'ref'}},\n",
       " {'data': {'id': '225a21aaee29869b851b50ebc0f2eca7b71e1454',\n",
       "   'label': 'B. Clark et al. (2005)',\n",
       "   'classes': 'ref'}},\n",
       " {'data': {'id': '221983f994ce790ec8ecafce3674b0b753d4b32d',\n",
       "   'label': 'G. Muyzer et al. (1993)',\n",
       "   'classes': 'ref'}},\n",
       " {'data': {'id': '61ef33223ca7afcfa9f23e1eb84815d3f82910d1',\n",
       "   'label': 'Lennart Roestel et al. (2020)',\n",
       "   'classes': 'ref'}},\n",
       " {'data': {'id': '003948b04b07526d123558c8c1271ef94c07933f',\n",
       "   'label': 'J. Pasteris, B. Wopenka (2003)',\n",
       "   'classes': 'ref'}},\n",
       " {'data': {'id': '6fb0f19662d172428daebf80fae68b0780b5c23e',\n",
       "   'label': 'C. Mertens (2016)',\n",
       "   'classes': 'ref'}},\n",
       " {'data': {'id': 'c5cd4b259e835ecc52c3fe9282f113b99d47a449',\n",
       "   'label': 'D. Emerson et al. (2013)',\n",
       "   'classes': 'ref'}},\n",
       " {'data': {'id': '421b2269e9626ffa4bf4cd5b21d807b888bccc63',\n",
       "   'label': 'P. Ehrenfreund et al. (2011)',\n",
       "   'classes': 'ref'}},\n",
       " {'data': {'id': '201326faac3b314259e249dd64b7b99e8da3bf5f',\n",
       "   'label': 'C. Cousins et al. (2010)',\n",
       "   'classes': 'ref'}},\n",
       " {'data': {'id': '015c69dd2d9e24323b0ca7b0ecb4295c88eb8884',\n",
       "   'label': 'L. Nyquist et al. (2016)',\n",
       "   'classes': 'ref'}},\n",
       " {'data': {'id': 'df1b1fe34d677e744881862cd9f4d4fa82ebd570',\n",
       "   'label': 'R. Pel et al. (2004)',\n",
       "   'classes': 'ref'}},\n",
       " {'data': {'id': '0b4fa62d952e7b24825c77f61b766a052ee898d2',\n",
       "   'label': 'J. Longworth et al. (1966)',\n",
       "   'classes': 'ref'}},\n",
       " {'data': {'id': '1805afc9d7ff0fa00bcbd3a6c432d888e341c995',\n",
       "   'label': 'R. Williams et al. (2013)',\n",
       "   'classes': 'ref'}},\n",
       " {'data': {'id': '2da67692236162036d0a6544c0c990b5f1d12052',\n",
       "   'label': 'J. A. Russell et al. (2014)',\n",
       "   'classes': 'ref'}},\n",
       " {'data': {'id': '649d1d8c7534baac9cc831d7d2a3f4d578a21b44',\n",
       "   'label': 'A. Allwood et al. (2009)',\n",
       "   'classes': 'ref'}},\n",
       " {'data': {'id': '5458fdc35b557adc9a5065db6b8948929ebd7d03',\n",
       "   'label': 'B. Ehlmann, J. Mustard (2012)',\n",
       "   'classes': 'ref'}},\n",
       " {'data': {'id': '227386b442c772806a533bf42585e04ce1c59ec6',\n",
       "   'label': 'F. Widdel et al. (1993)',\n",
       "   'classes': 'ref'}},\n",
       " {'data': {'id': '9d642c008de62c0c7f340d3c1360a6cf4a36fb87',\n",
       "   'label': 'W. Abbey et al. (2017)',\n",
       "   'classes': 'ref'}},\n",
       " {'data': {'id': '60634ca98701b9df305181ff5945718461c3da84',\n",
       "   'label': 'Jingnan Guo et al. (2017)',\n",
       "   'classes': 'ref'}},\n",
       " {'data': {'id': '74ac413c133d7b59cc2ac21e98f485a1cf296048',\n",
       "   'label': 'C. Zeitlin et al. (2010)',\n",
       "   'classes': 'ref'}},\n",
       " {'data': {'id': '0763653d8b5c6477d4884acca4fa8140a31af114',\n",
       "   'label': 'J. Baross (2006)',\n",
       "   'classes': 'ref'}},\n",
       " {'data': {'id': '0f1e3f2ab0145ab19240a0bfda560870c7cbf871',\n",
       "   'label': 'B. Ehresmann et al. (2011)',\n",
       "   'classes': 'ref'}},\n",
       " {'data': {'id': '8eb54ec188080b62569bbfe5cb5460ebb820bb3e',\n",
       "   'label': 'D. Anderson et al. (2017)',\n",
       "   'classes': 'ref'}},\n",
       " {'data': {'id': '7005144a55202fff8b18e7f8760eb83e9dd25f9a',\n",
       "   'label': 'K. Herkenhoff et al. (2004)',\n",
       "   'classes': 'ref'}},\n",
       " {'data': {'id': 'a8fd2f09e07e47038dd4381d0cf2bdf78ea2b970',\n",
       "   'label': 'P. A. Baker, S. Bloomer (1988)',\n",
       "   'classes': 'ref'}},\n",
       " {'data': {'id': '9dd063299d04373ed7c0f57e449486cc7775b2aa',\n",
       "   'label': 'P. Ehrenfreund et al. (2000)',\n",
       "   'classes': 'ref'}},\n",
       " {'data': {'id': '26379c266d86b2503f946faf09c931bdfddfd10d',\n",
       "   'label': 'N. McLoughlin et al. (2007)',\n",
       "   'classes': 'ref'}},\n",
       " {'data': {'id': '7aaaea817247518b41d497840675bf0fca5736e4',\n",
       "   'label': 'P. Jiggens et al. (2011)',\n",
       "   'classes': 'ref'}},\n",
       " {'data': {'id': '0ac9c03cc596376ded027d795431320eeaed3013',\n",
       "   'label': 'R. Müller et al. (2008)',\n",
       "   'classes': 'ref'}},\n",
       " {'data': {'id': '55fd1fed096de57b1cac15e43df504007da78ec9',\n",
       "   'label': 'J. Fontenot et al. (2009)',\n",
       "   'classes': 'ref'}},\n",
       " {'data': {'id': '3ebaca0302271f04085937d599923f9b065df560',\n",
       "   'label': 'Jie Wei et al. (2015)',\n",
       "   'classes': 'ref'}},\n",
       " {'data': {'id': '2c2c513849f236137aef1896c55635cb414881c4',\n",
       "   'label': 'K. A. Ross, R. V. Fisher (1986)',\n",
       "   'classes': 'ref'}},\n",
       " {'data': {'id': '2c3ce14041dd91fbde4843e1f6b4d5bee6432bb7',\n",
       "   'label': 'C. Kruber et al. (2008)',\n",
       "   'classes': 'ref'}},\n",
       " {'data': {'id': '0ddc985b47c9ec30a1ffd49c026e66522b858397',\n",
       "   'label': 'D. Matthiä et al. (2017)',\n",
       "   'classes': 'ref'}},\n",
       " {'data': {'id': '20328886e9042f25b3313fe34c2bb7e8ef7195db',\n",
       "   'label': 'E. Cloutis et al. (2015)',\n",
       "   'classes': 'ref'}},\n",
       " {'data': {'id': 'fa779fc6a9e9eb80dcdce9b04a451e1c374cf914',\n",
       "   'label': 'M. Wilhelm et al. (2017)',\n",
       "   'classes': 'ref'}},\n",
       " {'data': {'id': '0028bae87a7b5cc1a730ba4bdcd6f7b9cbaa2d0b',\n",
       "   'label': 'S. Heising et al. (1999)',\n",
       "   'classes': 'ref'}},\n",
       " {'data': {'id': '0c613f8a3e9cc3516bc2f3ae6fa160633a417b4f',\n",
       "   'label': 'L. Dartnell et al. (2007)',\n",
       "   'classes': 'ref'}},\n",
       " {'data': {'id': '68b3308f18a249bba76df2e9048b3e4d9461eb80',\n",
       "   'label': 'D. Fernández-Remolar et al. (2013)',\n",
       "   'classes': 'ref'}},\n",
       " {'data': {'id': '12640897b590da5055fcfd0bc665fc6973406bca',\n",
       "   'label': 'S. Potter-McIntyre et al. (2014)',\n",
       "   'classes': 'ref'}},\n",
       " {'data': {'id': '8e276f86ee1efd2787e352ee33b86ba937957e75',\n",
       "   'label': 'D. Emerson, M. Floyd (2005)',\n",
       "   'classes': 'ref'}},\n",
       " {'data': {'id': '2f46729911b95016957f7e27ae9c975b23ff2dfb',\n",
       "   'label': 'T. Geisler et al. (2016)',\n",
       "   'classes': 'ref'}},\n",
       " {'data': {'id': '8db8be594597a42b3b1c8d980bed8f2e4117e5ee',\n",
       "   'label': 'Yong Chen et al. (2007)',\n",
       "   'classes': 'ref'}},\n",
       " {'data': {'id': '0a29b73fbd94c1982a35b286df872bc62b60b690',\n",
       "   'label': 'M. Osterloo et al. (2008)',\n",
       "   'classes': 'ref'}},\n",
       " {'data': {'id': '6b1a07bdee83830a945227ae69d40816d123c868',\n",
       "   'label': 'E. Cloutis et al. (2016)',\n",
       "   'classes': 'ref'}},\n",
       " {'data': {'id': '0571e7fb6731379be6b235f49bb5ff1b38216728',\n",
       "   'label': 'N. McLoughlin (2015)',\n",
       "   'classes': 'ref'}},\n",
       " {'data': {'id': '2d80e279b2d71186a17e63afa75eb79be56737cf',\n",
       "   'label': 'Chris McKay (2004)',\n",
       "   'classes': 'ref'}},\n",
       " {'data': {'id': '02cb8257f95a6edca7a73affe585fdfd28785036',\n",
       "   'label': 'A. Rossi et al. (2008)',\n",
       "   'classes': 'ref'}},\n",
       " {'data': {'id': '29ea3d6113cf6747274826f14c182c5c5d95b21d',\n",
       "   'label': 'E. Lalla et al. (2021)',\n",
       "   'classes': 'ref'}},\n",
       " {'data': {'id': '16be05c7d60f4874887160b1baceee81e3d0e002',\n",
       "   'label': 'A. Aubrey et al. (2006)',\n",
       "   'classes': 'ref'}},\n",
       " {'data': {'id': '013d7e8dd54feb75ff52370db17e0f14eeb18a0b',\n",
       "   'label': 'D. Vaniman et al. (2014)',\n",
       "   'classes': 'ref'}},\n",
       " {'data': {'id': 'da5352653c95b0915f8d1a3f3b1c2c182e20e1e7',\n",
       "   'label': 'E. Roden et al. (2012)',\n",
       "   'classes': 'ref'}},\n",
       " {'data': {'id': '3c7955b16e53796afc8a8a35d826786097681b6a',\n",
       "   'label': 'H. Edwards et al. (2005)',\n",
       "   'classes': 'ref'}},\n",
       " {'data': {'id': 'dcfe4514afb2179e1db895e75f5f1881119b8771',\n",
       "   'label': 'S. McLennan et al. (2005)',\n",
       "   'classes': 'ref'}},\n",
       " {'data': {'id': '3d8999037219a6641d0e7ea07b7233d67af2c152',\n",
       "   'label': 'L. E. Reichen, J. Fahey (1962)',\n",
       "   'classes': 'ref'}},\n",
       " {'data': {'id': '1876a0a6274a6c7a2d87f3d0a6a3ec2bc2bfd705',\n",
       "   'label': 'K. Pedersen et al. (1997)',\n",
       "   'classes': 'ref'}},\n",
       " {'data': {'id': '028f295ca73cfb2e75c09a7284e8f5efaccfbb6b',\n",
       "   'label': 'C. Cockell et al. (2002)',\n",
       "   'classes': 'ref'}},\n",
       " {'data': {'id': '14d64f16cc5cd1afc0d6900aae2dad5c00e1e34b',\n",
       "   'label': 'J. Dran et al. (1980)',\n",
       "   'classes': 'ref'}},\n",
       " {'data': {'id': '0b5099a095d9a76c431ea4214a705aeb14db8330',\n",
       "   'label': 'P. Christensen et al. (2000)',\n",
       "   'classes': 'ref'}},\n",
       " {'data': {'id': '228d82d3aa192cc7837861f199281aec2ef1eea2',\n",
       "   'label': 'R. Steiger, E. Jäger (1977)',\n",
       "   'classes': 'ref'}},\n",
       " {'data': {'id': '82745994fbfa16914b9569beb9dc61a8efe61f19',\n",
       "   'label': 'U. Schwertmann, R. M. Cornell (2003)',\n",
       "   'classes': 'ref'}},\n",
       " {'data': {'id': '85e4fd4b5bb60dd6cd3365c611a99d3a44b01379',\n",
       "   'label': 'E. Pilles et al. (2019)',\n",
       "   'classes': 'ref'}},\n",
       " {'data': {'id': '4792e7dd12bfebeb00cbb29d29dd84f07c9a978d',\n",
       "   'label': 'S. Agostinelli et al. (2003)',\n",
       "   'classes': 'ref'}},\n",
       " {'data': {'id': '0770cea4fcb4cef2b394511f9e23210a19add106',\n",
       "   'label': 'S. H. Richardson et al. (1980)',\n",
       "   'classes': 'ref'}},\n",
       " {'data': {'id': '2382b26dbb3017683e0ca0ac9ba08573fbde4540',\n",
       "   'label': 'J. Channell et al. (1995)',\n",
       "   'classes': 'ref'}},\n",
       " {'data': {'id': '33c8c145536ef7c2e193c18871baf42c386f9fc5',\n",
       "   'label': 'R. Fleischer, P. Price (1964)',\n",
       "   'classes': 'ref'}},\n",
       " {'data': {'id': '39fce80e5a504f54692b3c87f1e4a1f732c1c5ca',\n",
       "   'label': 'J. Bibring et al. (2006)',\n",
       "   'classes': 'ref'}},\n",
       " {'data': {'id': '8bf7b24069b472798925162a1a76116e45cdefe2',\n",
       "   'label': 'C. Allen et al. (2001)',\n",
       "   'classes': 'ref'}},\n",
       " {'data': {'id': '5c5c19406f8f6e4b88e28032c6ab66881bccb274',\n",
       "   'label': 'C. Brolly et al. (2016)',\n",
       "   'classes': 'ref'}},\n",
       " {'data': {'id': '552c2f38ca4aca376cbe3e29d92895d29afd0c52',\n",
       "   'label': 'S. Cady et al. (2003)',\n",
       "   'classes': 'ref'}},\n",
       " {'data': {'id': '26d0c038064058a0f901cf5123b2e282e9db4500',\n",
       "   'label': 'Y. Ishida et al. (1999)',\n",
       "   'classes': 'ref'}},\n",
       " {'data': {'id': '8b36dd1ee2a0e1704da4b341c452e84568a9bd34',\n",
       "   'label': 'C. Freissinet et al. (2015)',\n",
       "   'classes': 'ref'}},\n",
       " {'data': {'id': '2b5049f380c629645a5f8f30ac0747c94f6609b0',\n",
       "   'label': 'N. Sleep, D. Bird (2007)',\n",
       "   'classes': 'ref'}},\n",
       " {'data': {'id': '01f669b97b85eafea07407166e257cc34fd75258',\n",
       "   'label': 'L. Richardson (1996)',\n",
       "   'classes': 'ref'}},\n",
       " {'data': {'id': '297e66c475716902fa218b6ba36e7629660cb497',\n",
       "   'label': 'D. Herlemann et al. (2011)',\n",
       "   'classes': 'ref'}},\n",
       " {'data': {'id': 'bca5afa2f4f6de34919f7ba9436c675cffebc146',\n",
       "   'label': 'M. Talbot (1990)',\n",
       "   'classes': 'ref'}},\n",
       " {'data': {'id': '641255a31bb13ba233286930e782a620a69272e8',\n",
       "   'label': 'S. Grasby et al. (2003)',\n",
       "   'classes': 'ref'}},\n",
       " {'data': {'id': '49f6f1d109ed80a9d491f05fc82776ced2c74953',\n",
       "   'label': 'Junhong Chen et al. (2003)',\n",
       "   'classes': 'ref'}},\n",
       " {'data': {'id': '4b2c05f9a7fcef0e98b928174932a4a78ba9753d',\n",
       "   'label': 'S. Asher (2006)',\n",
       "   'classes': 'ref'}},\n",
       " {'data': {'id': '03faf87ef92e40242dd8feb4acd9198a1c20d343',\n",
       "   'label': 'M. Kennedy et al. (2006)',\n",
       "   'classes': 'ref'}},\n",
       " {'data': {'id': '8d2d4d6ecc1e9a1c66bf77bc88662eb5d394604f',\n",
       "   'label': 'Ł. Karwowski et al. (2013)',\n",
       "   'classes': 'ref'}},\n",
       " {'data': {'id': '0a5c756f623971cb22f64a081a53332f449a288f',\n",
       "   'label': 'L. Leshin et al. (2013)',\n",
       "   'classes': 'ref'}},\n",
       " {'data': {'id': 'fb423110e1ba7ebc2d071f780436a50d404bd109',\n",
       "   'label': 'J. Theo Kloprogge et al. (2001)',\n",
       "   'classes': 'ref'}},\n",
       " {'data': {'id': '1935abaebef93ceb4b18eaf67c12618a001b26bb',\n",
       "   'label': 'K. Campbell et al. (2016)',\n",
       "   'classes': 'ref'}},\n",
       " {'data': {'id': '1727a1e0b43244e2d5941869109f67d1686cfa64',\n",
       "   'label': 'M. Engel, S. Macko (1997)',\n",
       "   'classes': 'ref'}},\n",
       " {'data': {'id': '10ca84dedca98789350f684da22980b925f0e743',\n",
       "   'label': 'T. Sekiya et al. (2001)',\n",
       "   'classes': 'ref'}},\n",
       " {'data': {'id': '3ba6da47e9c7b4e4b0a38018dc4d884a66ea60f6',\n",
       "   'label': 'A. D. Rogers, J. Bandfield (2009)',\n",
       "   'classes': 'ref'}},\n",
       " {'data': {'id': 'b5fa2983369f33392499249f5bd895b23732e09c',\n",
       "   'label': 'L. Dartnell et al. (2012)',\n",
       "   'classes': 'ref'}},\n",
       " {'data': {'id': '300ad53f3fa77285a5dfe4e14abbaa83ef942aee',\n",
       "   'label': 'N. Koura et al. (1996)',\n",
       "   'classes': 'ref'}},\n",
       " {'data': {'id': 'ee035de26abdae3b874bcbe8903b57131a34fd3b',\n",
       "   'label': 'B. Berenblut et al. (1973)',\n",
       "   'classes': 'ref'}},\n",
       " {'data': {'id': '4f0e4a6639de9bab3558193f9497166bd26e2697',\n",
       "   'label': 'A. Steele et al. (2007)',\n",
       "   'classes': 'ref'}},\n",
       " {'data': {'id': '9c997827240a47d0df988c0c4a1315d132ce84b0',\n",
       "   'label': 'J. Flahaut et al. (2017)',\n",
       "   'classes': 'ref'}},\n",
       " {'data': {'id': '0887cf468a8dd41633cfd4c5cd4d7f236178699a',\n",
       "   'label': 'W. D. de Wet, L. Townsend (2017)',\n",
       "   'classes': 'ref'}},\n",
       " {'data': {'id': '2d538cb94f6bce2a7d3ac9a5657420c1fed071e9',\n",
       "   'label': 'JACK A. Peary, R. Castenholz (1964)',\n",
       "   'classes': 'ref'}},\n",
       " {'data': {'id': '8865325b1c088a5c0e8e14e34a0fc2ec8ee7d7a2',\n",
       "   'label': 'S. Nockolds (1954)',\n",
       "   'classes': 'ref'}},\n",
       " {'data': {'id': '5007ca6414001007520ef36da2e4649cef04cc92',\n",
       "   'label': 'R. Navarro‐González et al. (2006)',\n",
       "   'classes': 'ref'}},\n",
       " {'data': {'id': '35f3d2a812497a6bab2a1f585f17f7f4d2845cd3',\n",
       "   'label': 'H. Edwards et al. (2004)',\n",
       "   'classes': 'ref'}},\n",
       " {'data': {'id': '33d0a84b624b0df8450cd54a3b2cef8abc53bdb6',\n",
       "   'label': 'H. Furnes et al. (2002)',\n",
       "   'classes': 'ref'}},\n",
       " {'data': {'id': '0c4c5bd1f3d628642c4b6003afef4b6496e17520',\n",
       "   'label': 'J. Jankowski, G. Jacobson (1989)',\n",
       "   'classes': 'ref'}},\n",
       " {'data': {'id': '1d71730a4bc5d3a57a05ba1a428a46cce59840d2',\n",
       "   'label': 'P. Meyers (1994)',\n",
       "   'classes': 'ref'}},\n",
       " {'data': {'id': '6479c0e44ab143679d2337e9b726d6196d8dfa0b',\n",
       "   'label': 'B. Ehlmann et al. (2008)',\n",
       "   'classes': 'ref'}},\n",
       " {'data': {'id': '0a53814899471955b0d595fbf3e9d6834559c57e',\n",
       "   'label': 'S. E. Bramer (1998.0)',\n",
       "   'classes': 'ref'}},\n",
       " {'data': {'id': '3705287b987f699c1e2110de53aa14b3aa1126e8',\n",
       "   'label': 'N. Stivaletta et al. (2005)',\n",
       "   'classes': 'ref'}},\n",
       " {'data': {'id': '4e4c1e387f423eb28e75fd4ffce0c27c4257054e',\n",
       "   'label': 'D. Matthiä et al. (2016)',\n",
       "   'classes': 'ref'}},\n",
       " {'data': {'id': '23da62bde67103667086f17dd26832d9652b018a',\n",
       "   'label': 'H. Matzke (1984)',\n",
       "   'classes': 'ref'}},\n",
       " {'data': {'id': None, 'label': None, 'classes': 'ref'}},\n",
       " {'data': {'id': '7305159dad9793adcfd33e2ad09121cbae4b7d50',\n",
       "   'label': 'K. Biemann (2007)',\n",
       "   'classes': 'ref'}},\n",
       " {'data': {'id': '5977e7ba11475b2d3d38d2fa755d273da9319acb',\n",
       "   'label': 'L. Mayer (1994)',\n",
       "   'classes': 'ref'}},\n",
       " {'data': {'id': '24e379db1dd198c22daa0b7a21efede03a084216',\n",
       "   'label': 'P. Christensen et al. (2001)',\n",
       "   'classes': 'ref'}},\n",
       " {'data': {'id': '266773131d74990b6eb34d8fa297dc85ae6719d4',\n",
       "   'label': 'I. A. Berger, R. Cooke (1997)',\n",
       "   'classes': 'ref'}},\n",
       " {'data': {'id': '0480c5e6312ceb18b5236425805ebd58f9c65c2a',\n",
       "   'label': 'J. Grotzinger et al. (2014)',\n",
       "   'classes': 'ref'}},\n",
       " {'data': {'id': '1353f385e03c37bd15a412815d50606f1b602a9b',\n",
       "   'label': 'T. Stevens, J. Mckinley (2000)',\n",
       "   'classes': 'ref'}},\n",
       " {'data': {'id': '62f002b531ea1be0fb669783dbaa2d7d0c72e992',\n",
       "   'label': 'C. Marshall et al. (2010)',\n",
       "   'classes': 'ref'}},\n",
       " {'data': {'id': '76e1279b43227684e68038b955c31bda9ff87982',\n",
       "   'label': 'M. Koblížek (2009)',\n",
       "   'classes': 'ref'}},\n",
       " {'data': {'id': '29f9661441f126c5ce4712f0465354374d096788',\n",
       "   'label': 'H. Posamentier, V. Kolla (2003)',\n",
       "   'classes': 'ref'}},\n",
       " {'data': {'id': '8d5117333503acc0bec185ac6f55538264d85e68',\n",
       "   'label': 'J. Pollack et al. (1987)',\n",
       "   'classes': 'ref'}},\n",
       " {'data': {'id': 'ab0c27ae6dfdd6f5c71afc93e29ae783405ddeb7',\n",
       "   'label': 'J. Vesenka et al. (2018)',\n",
       "   'classes': 'ref'}},\n",
       " {'data': {'id': '56c301de3158bf39600ece862180a07f945d320b',\n",
       "   'label': 'K. Williford et al. (2018)',\n",
       "   'classes': 'ref'}},\n",
       " {'data': {'id': '09a4ec0399ae26fe3996e83633c1b9268c04214e',\n",
       "   'label': 'H. Dill (2010)',\n",
       "   'classes': 'ref'}},\n",
       " {'data': {'id': '0fd000df7d4a4e99b2474f3249f554197ce29c06',\n",
       "   'label': 'R. Harmon et al. (2013)',\n",
       "   'classes': 'ref'}},\n",
       " {'data': {'id': '2671eb431e2389cecf6a42e5623987586ecb9845',\n",
       "   'label': 'D. Smith et al. (2001)',\n",
       "   'classes': 'ref'}},\n",
       " {'data': {'id': '6ee09d122bd9136b6221d0906f3bc37a8f5e2a1c',\n",
       "   'label': 'D. Burr et al. (2002)',\n",
       "   'classes': 'ref'}},\n",
       " {'data': {'id': '6b0adb32efd356d0c3b855e883f4bc4e36ffa4af',\n",
       "   'label': 'J. Albers, J. Bain (1985)',\n",
       "   'classes': 'ref'}},\n",
       " {'data': {'id': '5836bf0c738d3d6f0175f3cbed0e388e1fefedfb',\n",
       "   'label': 'C. McKay et al. (2003)',\n",
       "   'classes': 'ref'}},\n",
       " {'data': {'id': '7ada44e25dcc2328a7b5ec642a4687bd14f7f2c3',\n",
       "   'label': 'M. Ilbert, V. Bonnefoy (2013)',\n",
       "   'classes': 'ref'}},\n",
       " {'data': {'id': '2830dd89d2e769022c46efded59f571db59d05a8',\n",
       "   'label': 'R. Haberle et al. (2014)',\n",
       "   'classes': 'ref'}},\n",
       " {'data': {'id': '7e3c44b9e84cabb853e79000df9ecc6b1a0552a2',\n",
       "   'label': 'N. Rividi et al. (2010)',\n",
       "   'classes': 'ref'}},\n",
       " {'data': {'id': '89a177767c988dc074dce0a55393909a73254cd0',\n",
       "   'label': 'T. Bristow et al. (2015)',\n",
       "   'classes': 'ref'}},\n",
       " {'data': {'id': '1c7fab8f2c288425aac7514f3bcf553c50d7e67b',\n",
       "   'label': 'M. Fisk et al. (2003)',\n",
       "   'classes': 'ref'}},\n",
       " {'data': {'id': '25345a7fedd2e6eb6cf2575cbff309b04f5a1dfa',\n",
       "   'label': 'O. Takano, A. Waseda (2003)',\n",
       "   'classes': 'ref'}},\n",
       " {'data': {'id': '54c4028959acca68035111a10c0ffb0912993eea',\n",
       "   'label': 'Y. Liu et al. (2013)',\n",
       "   'classes': 'ref'}},\n",
       " {'data': {'id': '014ea795a6b241b21646f360378f6cefba4eeb66',\n",
       "   'label': 'T. Hoehler (2007)',\n",
       "   'classes': 'ref'}},\n",
       " {'data': {'id': '1e5194236adb0d378a6cc4c22b4568c42f1b00ac',\n",
       "   'label': 'K. Leslie et al. (2013)',\n",
       "   'classes': 'ref'}},\n",
       " {'data': {'id': 'ac8d09f2924771b062b389bec1be88486c62bfeb',\n",
       "   'label': 'J. Schopf et al. (2012)',\n",
       "   'classes': 'ref'}},\n",
       " {'data': {'id': '9e01933805e1c64ea2f90f519f80a3949406386b',\n",
       "   'label': 'T. Rhind et al. (2014)',\n",
       "   'classes': 'ref'}},\n",
       " {'data': {'id': '762a63c06aaf644d5ab6cb952992f332d55ea958',\n",
       "   'label': 'P. Allison, K. Pye (1994)',\n",
       "   'classes': 'ref'}},\n",
       " {'data': {'id': '1ed879ed0470a9dc19102a549b22397fd5bf941f',\n",
       "   'label': 'D. Northup et al. (2011)',\n",
       "   'classes': 'ref'}},\n",
       " {'data': {'id': '107b054697110f8e43d5c379c413686ad1941674',\n",
       "   'label': 'N. Banerjee et al. (2007)',\n",
       "   'classes': 'ref'}},\n",
       " {'data': {'id': '64d96aeca2ecf5d5b5cdb36963cfaf19c4d6b628',\n",
       "   'label': 'C. Oze, Mukul Sharma (2005)',\n",
       "   'classes': 'ref'}},\n",
       " {'data': {'id': '946d78971d32cb265f1912b777a1947adf15201e',\n",
       "   'label': 'G. E. Stoertz, G. E. Ericksen (1974)',\n",
       "   'classes': 'ref'}},\n",
       " {'data': {'id': '4667de0a38f617fdda35d23d3a6b41ae051fc47b',\n",
       "   'label': 'P. Blokker et al. (2002)',\n",
       "   'classes': 'ref'}},\n",
       " {'data': {'id': '1eb9f88bcf886525b4d46a6eb3f33ea34749e40e',\n",
       "   'label': 'G. Faure (1977)',\n",
       "   'classes': 'ref'}},\n",
       " {'data': {'id': '673b379bb557306933298e3546846784b2be7020',\n",
       "   'label': 'M. N. Parenteau et al. (2014)',\n",
       "   'classes': 'ref'}},\n",
       " {'data': {'id': '2d3c832a64c36291247f39f50f0bc220fc483c3f',\n",
       "   'label': 'L. Grasset et al. (2002)',\n",
       "   'classes': 'ref'}},\n",
       " {'data': {'id': '15d5aa9edd5d3cb8190d69d88b8c5b77c208b88f',\n",
       "   'label': 'R. Léveillé et al. (2014)',\n",
       "   'classes': 'ref'}},\n",
       " {'data': {'id': '6b4a05bdae6d8018817a19cf7718e88b29d21d15',\n",
       "   'label': 'K. Campbell et al. (2013)',\n",
       "   'classes': 'ref'}},\n",
       " {'data': {'id': '14d6bc4f8d3220343e63b69ded9f19760bcbf537',\n",
       "   'label': 'R. Wetzel (1975)',\n",
       "   'classes': 'ref'}},\n",
       " {'data': {'id': '0ba4b79c72360e309d85898ce3260c21bbdf7ddf',\n",
       "   'label': 'G. Wagner, P. Haute (1992)',\n",
       "   'classes': 'ref'}},\n",
       " {'data': {'id': '6ef7a8f0d335db7a2d0ed60d54791dc074f5deb2',\n",
       "   'label': 'Pelin Yilmaz et al. (2013)',\n",
       "   'classes': 'ref'}},\n",
       " {'data': {'id': '5d87819d4c37651635101e47d5c64766ea88152c',\n",
       "   'label': 'Amy J. Williams et al. (2017)',\n",
       "   'classes': 'ref'}},\n",
       " {'data': {'id': '411d51cd17be25ce3074773896fe2b42c5d72a16',\n",
       "   'label': 'J. P. Greenwood et al. (2000)',\n",
       "   'classes': 'ref'}},\n",
       " {'data': {'id': '2a68d0b1e5b44f13d3c132693ab39ccff5e6ab5e',\n",
       "   'label': 'S. Takasu, S. Shimanuki (1974)',\n",
       "   'classes': 'ref'}},\n",
       " {'data': {'id': '3a4a0afdbfc703dcbbdc113c4106d10008f90904',\n",
       "   'label': 'E. Eshelman (2016)',\n",
       "   'classes': 'ref'}},\n",
       " {'data': {'id': '0166fd5bbecb3cb04ae0d85e7bf960c76d8e944b',\n",
       "   'label': 'A. Gleadow et al. (1986)',\n",
       "   'classes': 'ref'}},\n",
       " {'data': {'id': '00b309ad09cc626854f64e2a25ad8bb30aac0cba',\n",
       "   'label': 'D. Hassler et al. (2012)',\n",
       "   'classes': 'ref'}},\n",
       " {'data': {'id': '0e97b6c940dd343fd64fa4c8564d73225cf83798',\n",
       "   'label': 'L. Preston et al. (2015)',\n",
       "   'classes': 'ref'}},\n",
       " {'data': {'id': 'bc1e2582a8f346c966c79532bbcbd7705f522c2c',\n",
       "   'label': 'Amy J. Williams et al. (2017)',\n",
       "   'classes': 'ref'}},\n",
       " {'data': {'id': '5feaea80fbba7aab2ce1fbbde5bcc084d4b9139b',\n",
       "   'label': 'J. Masarik, R. Reedy (1996)',\n",
       "   'classes': 'ref'}},\n",
       " {'data': {'id': '6c1f7fae234d5da29d05fc3071e4546208f4b51b',\n",
       "   'label': 'D. Ming et al. (2014)',\n",
       "   'classes': 'ref'}},\n",
       " {'data': {'id': '62e8c9ddf3785370c474a988bb7c5db2db1717a4',\n",
       "   'label': 'F. Cucinotta et al. (2001)',\n",
       "   'classes': 'ref'}},\n",
       " {'data': {'id': 'c65efcd20fe1bc9b77bb2ccea91a5209458b30ee',\n",
       "   'label': 'A. Aubrey et al. (2008.0)',\n",
       "   'classes': 'ref'}},\n",
       " {'data': {'id': '318a4998d5aaa3c62b5592bbbed85e5bade01333',\n",
       "   'label': 'C. Alexander et al. (2007)',\n",
       "   'classes': 'ref'}},\n",
       " {'data': {'id': '941d37cc16e08ce3541f1c14b4fd2a5faca49784',\n",
       "   'label': 'R. Barco et al. (2015)',\n",
       "   'classes': 'ref'}},\n",
       " {'data': {'id': '48d700764cdf32034683209370648828714997a3',\n",
       "   'label': 'J. Wierzchos et al. (2006)',\n",
       "   'classes': 'ref'}},\n",
       " {'data': {'id': '13f85a9426bb7d66a0550be4dbf60eea8dfafca2',\n",
       "   'label': 'S.K. Sharma et al. (2020)',\n",
       "   'classes': 'ref'}},\n",
       " {'data': {'id': '17d74c22f4b69e72868e3775f64336eba31a44ca',\n",
       "   'label': 'D. Burr et al. (2009)',\n",
       "   'classes': 'ref'}},\n",
       " {'data': {'id': '8d6694d5dbbe16b02f2bd1c7d4123d9f3a9585a3',\n",
       "   'label': 'J. Flahaut et al. (2014)',\n",
       "   'classes': 'ref'}},\n",
       " {'data': {'id': '128f71c23ea8f64f9ac633e1e56aafbf937f9d10',\n",
       "   'label': 'S. Atreya et al. (2006)',\n",
       "   'classes': 'ref'}},\n",
       " {'data': {'id': '01a5ba51b3cea1fbd6807350fdf5647311b91788',\n",
       "   'label': 'C. Allen et al. (2000)',\n",
       "   'classes': 'ref'}},\n",
       " {'data': {'id': '2028e5affdc580abf0824064c27c760f98cda11c',\n",
       "   'label': 'M. Flower et al. (2006)',\n",
       "   'classes': 'ref'}},\n",
       " {'data': {'id': 'a1571e4e5aad0ae0a96371a18a61a00b884aef7e',\n",
       "   'label': 'M. Carr (1996)',\n",
       "   'classes': 'ref'}},\n",
       " {'data': {'id': '3ddaeb199adca8ad0ba0969718147361c468883d',\n",
       "   'label': 'S. Squyres et al. (2004)',\n",
       "   'classes': 'ref'}},\n",
       " {'data': {'id': '17d01d94092942d99625e2df0614a03977f64960',\n",
       "   'label': 'Marcel Martin (2011)',\n",
       "   'classes': 'ref'}},\n",
       " {'data': {'id': '2178132d563281f67c01f315dcff4216ad423311',\n",
       "   'label': 'J. Bell et al. (2012)',\n",
       "   'classes': 'ref'}},\n",
       " {'data': {'id': '45ce86de3fce5fd914510b4c188f0be663535891',\n",
       "   'label': 'R. Bhartia et al. (2008)',\n",
       "   'classes': 'ref'}},\n",
       " {'data': {'id': '6609176c3d75135a27d512729e65dc872e4de8ec',\n",
       "   'label': 'F. Gómez et al. (2011)',\n",
       "   'classes': 'ref'}},\n",
       " {'data': {'id': 'eceb150eaa5323be0d3fef5e68859495c9dc6b44',\n",
       "   'label': 'A. Beliaev et al. (2002)',\n",
       "   'classes': 'ref'}},\n",
       " {'data': {'id': '73ff6e34d1d551c5c0d8b2d72980fd836cca5e62',\n",
       "   'label': 'C. Caudill et al. (2019)',\n",
       "   'classes': 'ref'}},\n",
       " {'data': {'id': '81f5e12957f877e1cc3b886a4891f497fbd15395',\n",
       "   'label': 'R. Mewaldt et al. (2005)',\n",
       "   'classes': 'ref'}},\n",
       " {'data': {'id': '2773ce6c0eaa25cdf400e7713d0bfae9b4a60d30',\n",
       "   'label': 'M. Trieloff et al. (2003)',\n",
       "   'classes': 'ref'}},\n",
       " {'data': {'id': '0566f8a93d311bd7ebcfdd5522403c8e1aecf2ca',\n",
       "   'label': 'R. Spencer (2000)',\n",
       "   'classes': 'ref'}},\n",
       " {'data': {'id': '462d207d2089a4e648d62e196af52e3708b122b1',\n",
       "   'label': 'B. Ehlmann et al. (2009)',\n",
       "   'classes': 'ref'}},\n",
       " {'data': {'id': '3bcaf3d10c5eaad97bb1e01989a3846039ae6470',\n",
       "   'label': 'G. Loppnow et al. (2004)',\n",
       "   'classes': 'ref'}},\n",
       " {'data': {'id': '6ee2119a12bddceadd51d25ec44c3fb52b753ba7',\n",
       "   'label': 'V. Melezhik et al. (2001)',\n",
       "   'classes': 'ref'}},\n",
       " {'data': {'id': '2743a48bfe01d8fcdf6eee53aa47d5794f83e789',\n",
       "   'label': 'C. Olariu, J. Bhattacharya (2006)',\n",
       "   'classes': 'ref'}},\n",
       " {'data': {'id': '721301ad563cb2fe54f3c75310305cbf3c3da214',\n",
       "   'label': 'M. Carr, J. Head (2010)',\n",
       "   'classes': 'ref'}},\n",
       " {'data': {'id': 'dc538b8e19dacb7290b9bfc00f1f272dbd458668',\n",
       "   'label': 'Amy J. Williams et al. (2015)',\n",
       "   'classes': 'ref'}},\n",
       " {'data': {'id': '3ad93207fa47bb0d62a595d52967e5dc63938b51',\n",
       "   'label': 'S. Grasby, K. Londry (2007)',\n",
       "   'classes': 'ref'}},\n",
       " {'data': {'id': '43081dc2610a5716236a1680b27ccc82d5f1c7e3',\n",
       "   'label': 'R. Hites (nan)',\n",
       "   'classes': 'ref'}},\n",
       " {'data': {'id': '2a4693b5cbdf9c5ea92711d46761c768db011642',\n",
       "   'label': 'J. Bell et al. (2006)',\n",
       "   'classes': 'ref'}},\n",
       " {'data': {'id': '40725dd3c2d1e819988c3c2d52f8b8b5fda8baa1',\n",
       "   'label': 'L. Rothschild (1990)',\n",
       "   'classes': 'ref'}},\n",
       " {'data': {'id': '0e71e2d6a85d9f4b89c6333ce60dd1faacdded26',\n",
       "   'label': 'C. Cockell et al. (2000)',\n",
       "   'classes': 'ref'}},\n",
       " {'data': {'id': '958b808c4e32488bf9f484c7de0b928ddfe94cff',\n",
       "   'label': 'R. Summons et al. (2011)',\n",
       "   'classes': 'ref'}},\n",
       " {'data': {'id': '1c0ee1a2add6820734e56fb40ecc39212ce15050',\n",
       "   'label': 'N. McLoughlin et al. (2012)',\n",
       "   'classes': 'ref'}},\n",
       " {'data': {'id': '3fc130ee0303c9013b911a2d18fc4f37ae36972a',\n",
       "   'label': 'R. Vance, K. Condie (1987)',\n",
       "   'classes': 'ref'}},\n",
       " {'data': {'id': 'd93759a5b3a9d85841185ee4e021e1781c5bdba2',\n",
       "   'label': 'P. Allison, D. Briggs (1991)',\n",
       "   'classes': 'ref'}},\n",
       " {'data': {'id': '18d6f6caeb14431dcd8aa1609d10d9430f8878dc',\n",
       "   'label': 'J. Cronin, S. Pizzarello (1997)',\n",
       "   'classes': 'ref'}},\n",
       " {'data': {'id': '49cdf16489ee008649a00037cb22041a7bcd96ec',\n",
       "   'label': 'W. M. Haynes (1990)',\n",
       "   'classes': 'ref'}},\n",
       " {'data': {'id': 'f0ba01f7ed760da72103e1e661557729a2cd17ad',\n",
       "   'label': 'J. Challinor (2001)',\n",
       "   'classes': 'ref'}},\n",
       " {'data': {'id': '34e7e7a6d7ab7594f9ad5d0912aca50259355f44',\n",
       "   'label': 'D. D. Des Marais et al. (2003)',\n",
       "   'classes': 'ref'}},\n",
       " {'data': {'id': '1bcc56dae5fa29c001fdb62db5f62deaf89859e2',\n",
       "   'label': 'T. Peters et al. (2015)',\n",
       "   'classes': 'ref'}},\n",
       " {'data': {'id': '9d054caaec9e59a15b30845f81d31dcf95594b87',\n",
       "   'label': 'M. Price et al. (2009)',\n",
       "   'classes': 'ref'}},\n",
       " {'data': {'id': '28b004d775a55f8f8ca1c0c4c638ec3ca03fe673',\n",
       "   'label': 'R. Clark, T. Roush (1984)',\n",
       "   'classes': 'ref'}},\n",
       " {'data': {'id': '6521adead11e8fd7d5529aeb24d1a2ab922c44be',\n",
       "   'label': 'J. Freeman et al. (2008)',\n",
       "   'classes': 'ref'}},\n",
       " {'data': {'id': '338625e81e9b5ce80f730e42d8877bac1b3fe3dc',\n",
       "   'label': 'M. Malin et al. (2010)',\n",
       "   'classes': 'ref'}},\n",
       " {'data': {'id': '6ba6590c2d871a0f7db0f568e2ba1e838c4c433b',\n",
       "   'label': 'V. Formisano et al. (2004)',\n",
       "   'classes': 'ref'}},\n",
       " {'data': {'id': '31bdbff04af393d28e628e7f08eeaeb66e686ed9',\n",
       "   'label': 'K. Hughes, B. Lawley (2003)',\n",
       "   'classes': 'ref'}},\n",
       " {'data': {'id': '4010eb5e7fb396a95b004207f8e4664ed60d3a1c',\n",
       "   'label': 'S. Gainey et al. (2017)',\n",
       "   'classes': 'ref'}},\n",
       " {'data': {'id': '04b060a44068d5c37c892003d83314ed53cd87b9',\n",
       "   'label': 'D. Papineau et al. (2005)',\n",
       "   'classes': 'ref'}},\n",
       " {'data': {'id': '1718901dc2bf0d295e31f4d5f6dea7c3c83675b0',\n",
       "   'label': 'F. Poitrasson et al. (2000)',\n",
       "   'classes': 'ref'}},\n",
       " {'data': {'id': '3767a8da3e65ce6cf40f9a3a927f92efee1f5fbe',\n",
       "   'label': 'J. Bada, G. Mcdonald (1995)',\n",
       "   'classes': 'ref'}},\n",
       " {'data': {'id': '210180765250728132842bff0f154be6d751c212',\n",
       "   'label': 'B. Ehlmann et al. (2013)',\n",
       "   'classes': 'ref'}},\n",
       " {'data': {'id': '42c6fcf006232a9eb90ce14d02caa3aa2dfb72f3',\n",
       "   'label': 'N. Bokulich et al. (2012)',\n",
       "   'classes': 'ref'}},\n",
       " {'data': {'id': '34e36913ade6d3fb8cdf96f56adbb796118a6fc7',\n",
       "   'label': 'J. Gottsmann et al. (2004)',\n",
       "   'classes': 'ref'}},\n",
       " {'data': {'id': '008b507e6c3e084b7674887012dceae3f118c45f',\n",
       "   'label': 'R. Barbieri et al. (2006)',\n",
       "   'classes': 'ref'}},\n",
       " {'data': {'id': '585a0cf04e4255203e85b110d95c816ace95b715',\n",
       "   'label': 'M. Battler et al. (2013)',\n",
       "   'classes': 'ref'}},\n",
       " {'data': {'id': '468f023f1b33578c01eeee77912e37a5146b22a3',\n",
       "   'label': 'C. Alpers et al. (2003)',\n",
       "   'classes': 'ref'}},\n",
       " {'data': {'id': '1e45c90e676bbf880e9df60db2586188d09b532a',\n",
       "   'label': 'D. Mckay et al. (1996)',\n",
       "   'classes': 'ref'}},\n",
       " {'data': {'id': '5b7fcf3b32d14673d54b38d5a2d6e12ebb0be5c9',\n",
       "   'label': 'R. Sinha et al. (2002)',\n",
       "   'classes': 'ref'}},\n",
       " {'data': {'id': '29dd433936371c2c709ce5a1bcadd5179c0936ec',\n",
       "   'label': 'E. Singer et al. (2011)',\n",
       "   'classes': 'ref'}},\n",
       " {'data': {'id': '963a99d2df7d26f3707ad9205ab3216a42971345',\n",
       "   'label': 'B. Berg et al. (2014)',\n",
       "   'classes': 'ref'}},\n",
       " {'data': {'id': '13dd9c9c2a89b25687a4900d390f5b2d47134492',\n",
       "   'label': 'S. Bose, H. Chafetz (2012)',\n",
       "   'classes': 'ref'}},\n",
       " {'data': {'id': '1a31203f7ba738eb5c63d20827c880fc2d33eba8',\n",
       "   'label': 'K. F. Weaver (1973)',\n",
       "   'classes': 'ref'}},\n",
       " {'data': {'id': '3abb4dc5157777554ddc09a887c775acea1fb020',\n",
       "   'label': 'C. Pain et al. (2007)',\n",
       "   'classes': 'ref'}},\n",
       " {'data': {'id': '3e6e0bea85976fcfcd1c6d71390e801e12cf32b2',\n",
       "   'label': 'L. Pratt et al. (2006)',\n",
       "   'classes': 'ref'}},\n",
       " {'data': {'id': '1606621113b36869bfe3edeb16cf7fa32d3b480a',\n",
       "   'label': 'H. Furnes et al. (2005)',\n",
       "   'classes': 'ref'}},\n",
       " {'data': {'id': '617ea69c577c62aa49d624fc94be7d22baddad8a',\n",
       "   'label': 'M. Janssens et al. (1977)',\n",
       "   'classes': 'ref'}},\n",
       " {'data': {'id': '39ef79b8ea36d54bc21d7ddea1d971b9b6100378',\n",
       "   'label': 'F. Košek et al. (2017)',\n",
       "   'classes': 'ref'}},\n",
       " {'data': {'id': '1362071b35b4f4873ed90ffd6ba9039716e4d271',\n",
       "   'label': 'G. Wanger et al. (2006)',\n",
       "   'classes': 'ref'}},\n",
       " {'data': {'id': '00af432229c83d8a214d9f7de0b02b2c226406a3',\n",
       "   'label': 'A. Bradley et al. (2009)',\n",
       "   'classes': 'ref'}},\n",
       " {'data': {'id': '89b549207846c0c48cf48114c16bbe25fcc77105',\n",
       "   'label': 'D. Matthiä, T. Berger (2017)',\n",
       "   'classes': 'ref'}},\n",
       " {'data': {'id': '06cce826a299a85fd3f04d2b8ea5c55dce3c0b74',\n",
       "   'label': 'N. Beukes et al. (1990)',\n",
       "   'classes': 'ref'}},\n",
       " {'data': {'id': '6f897a7a77930ca9400bf869514e68b4f4e8febc',\n",
       "   'label': 'A. Oren (2014)',\n",
       "   'classes': 'ref'}},\n",
       " {'data': {'id': '6dfbf3836c38e268427c54a2faa8fda854ac7d7a',\n",
       "   'label': 'H. Edwards et al. (2012)',\n",
       "   'classes': 'ref'}},\n",
       " {'data': {'id': '10bbe97aacc9c073139baa08a7e57085004299cc',\n",
       "   'label': 'M. Leybourne et al. (2007)',\n",
       "   'classes': 'ref'}},\n",
       " {'data': {'id': 'c138b7d3e34ecb49d60991875c927749c33b8311',\n",
       "   'label': 'Patrícia N. Refojo et al. (2012)',\n",
       "   'classes': 'ref'}},\n",
       " {'data': {'id': '3aef9313f4c3bad6523d3f6ace290d5a239d7cda',\n",
       "   'label': 'G. Gronoff et al. (2015)',\n",
       "   'classes': 'ref'}},\n",
       " {'data': {'id': '32e7492621c737d7309d8b7a6a19320f7c6eaec3',\n",
       "   'label': 'N. McLoughlin et al. (2010)',\n",
       "   'classes': 'ref'}},\n",
       " {'data': {'id': '0ea37649c706fae4d8b94d0a2c9523bee60ad09c',\n",
       "   'label': 'J. Semkova et al. (2018)',\n",
       "   'classes': 'ref'}},\n",
       " {'data': {'id': '1f13129f8fabe7d3cebe152fea6b72c5f6a41167',\n",
       "   'label': 'M. Sélo, D. Storzer (1981)',\n",
       "   'classes': 'ref'}},\n",
       " {'data': {'id': '091ae7eb717e526962f909db9b6a00a16e6f5c0c',\n",
       "   'label': 'E. Shock, M. Schulte (1998)',\n",
       "   'classes': 'ref'}},\n",
       " {'data': {'id': '836f1a29a47b002c88be04c9075524856d51dde3',\n",
       "   'label': 'J. Clarke (2006)',\n",
       "   'classes': 'ref'}},\n",
       " {'data': {'id': '3a40526c37e791d9e06e03cb9d9b3338b6028c7a',\n",
       "   'label': 'N. Wardlaw et al. (1969)',\n",
       "   'classes': 'ref'}},\n",
       " {'data': {'id': '958b808c4e32488bf9f484c7de0b928ddfe94cff',\n",
       "   'label': 'R. Summons et al. (2011.0)',\n",
       "   'classes': 'ref'}},\n",
       " {'data': {'id': 'e298b34bef8fd0fc4fe011fd39aee5e81d25cb3f',\n",
       "   'label': 'F. Westall (2008)',\n",
       "   'classes': 'ref'}},\n",
       " {'data': {'id': '7d741f91f8b01cb8c0e6bda889a6c67f281ed605',\n",
       "   'label': 'G. Dharmasena, R. Frech (1993)',\n",
       "   'classes': 'ref'}},\n",
       " {'data': {'id': 'b564debdcae85c329a581a9daf1766c23a29665d',\n",
       "   'label': 'G. P. Butler (1973)',\n",
       "   'classes': 'ref'}},\n",
       " {'data': {'id': '30e43a5501881330c6dc92df514cfea37c3514ee',\n",
       "   'label': 'R. Barbieri, N. Stivaletta (2011)',\n",
       "   'classes': 'ref'}},\n",
       " {'data': {'id': '2e07c57de2fc8da338e0060f48ea2f02cbc638f3',\n",
       "   'label': 'H. Furnes et al. (2007)',\n",
       "   'classes': 'ref'}},\n",
       " {'data': {'id': '33419abe434c5d3765dd1d8b2fb454e7d4245bfa',\n",
       "   'label': 'R. Fleischer (1988)',\n",
       "   'classes': 'ref'}},\n",
       " {'data': {'id': '2810247ffe757a0215310f5f6d4a62c34f888677',\n",
       "   'label': 'H. McSween et al. (2004)',\n",
       "   'classes': 'ref'}},\n",
       " {'data': {'id': '56b779afcb9e1f44f63e470f97357dcc78bef1b4',\n",
       "   'label': 'K. Kozarev et al. (2010)',\n",
       "   'classes': 'ref'}},\n",
       " {'data': {'id': 'd27586323ccc8af110362df7c0852b03dcd1eef3',\n",
       "   'label': 'C. Chan et al. (2016)',\n",
       "   'classes': 'ref'}},\n",
       " {'data': {'id': '1cd18efcf7a5190c135d217d094e75f60f0cc182',\n",
       "   'label': 'F. Poulet et al. (2020)',\n",
       "   'classes': 'ref'}},\n",
       " {'data': {'id': '7b437ed845bc7f2d31f75d779fa0f4aba3f8d33f',\n",
       "   'label': 'O. Korablev et al. (2017)',\n",
       "   'classes': 'ref'}},\n",
       " {'data': {'id': '675079b1213ad53779ac10caf6e30bef83e39087',\n",
       "   'label': 'G. Berard et al. (2013)',\n",
       "   'classes': 'ref'}},\n",
       " {'data': {'id': '4dc5a37d61e7dbd4d3d55f8679209e022ea09473',\n",
       "   'label': 'J. Caporaso et al. (2010)',\n",
       "   'classes': 'ref'}},\n",
       " {'data': {'id': '7d58270f04c52c237fb93757d8ea913f6e686bb6',\n",
       "   'label': 'N. Feirer, C. Fuqua (2017)',\n",
       "   'classes': 'ref'}},\n",
       " {'data': {'id': '5cc46488196fcde6939b9ef024ba32daaec767b5',\n",
       "   'label': 'Y. Blanco et al. (2017)',\n",
       "   'classes': 'ref'}},\n",
       " {'data': {'id': '2d424d38da550087b314a27f38dc93898d0b093e',\n",
       "   'label': 'P. King, S. McLennan (2010)',\n",
       "   'classes': 'ref'}},\n",
       " {'data': {'id': '1910a194a77db1c3b62032750a60eb9ca6a88027',\n",
       "   'label': 'E. Anders (1989)',\n",
       "   'classes': 'ref'}},\n",
       " {'data': {'id': '2beaaa04286846a74d31e0aaa892f6cb2f4d60ff',\n",
       "   'label': 'E. Shock et al. (2010)',\n",
       "   'classes': 'ref'}},\n",
       " {'data': {'id': '4143ed534d29b579c4cd2813870c913a4271072c',\n",
       "   'label': 'A. Steele et al. (2016)',\n",
       "   'classes': 'ref'}},\n",
       " {'data': {'id': '39263d5b86b71fbbba0fce9f8f1d6c2e7c265760',\n",
       "   'label': 'M. Pelliccioni (2000)',\n",
       "   'classes': 'ref'}},\n",
       " {'data': {'id': '5e97cef7f978bebe3455cd2822a95ca050a723a0',\n",
       "   'label': 'G. Proskurowski et al. (2008)',\n",
       "   'classes': 'ref'}},\n",
       " {'data': {'id': '5d6bd3a8178fe8531df7d567678a3e9084165061',\n",
       "   'label': 'J. Dworzanski et al. (1990)',\n",
       "   'classes': 'ref'}},\n",
       " {'data': {'id': '1b18ca04595d53d7e07f48ab77992f2e232b7a21',\n",
       "   'label': 'F. Westall et al. (2015)',\n",
       "   'classes': 'ref'}},\n",
       " {'data': {'id': '5ea2d1a1919609dd24fed9c8528a58e0c9150e1e',\n",
       "   'label': 'U. Meierhenrich (2008)',\n",
       "   'classes': 'ref'}},\n",
       " {'data': {'id': '40720feed7e50b0dff9fa3d145ceef2c3b058a74',\n",
       "   'label': 'C. Fassett et al. (2010)',\n",
       "   'classes': 'ref'}},\n",
       " {'data': {'id': 'f062f6f78cda7fb97aef96677df54da71cff84b6',\n",
       "   'label': 'D. D. Des Marais et al. (2008)',\n",
       "   'classes': 'ref'}},\n",
       " {'data': {'id': '5d04a1933dabcdfadebb71e037cd7463d62ef90f',\n",
       "   'label': 'I. Foster et al. (2010)',\n",
       "   'classes': 'ref'}},\n",
       " {'data': {'id': '653ecacb3475ebb802f6a46c39dab810636a50ab',\n",
       "   'label': 'L. Haley et al. (1982)',\n",
       "   'classes': 'ref'}},\n",
       " {'data': {'id': '70114ea71934d12ab6ab234d1694e30eed4c02a9',\n",
       "   'label': 'G. Angelis et al. (2006)',\n",
       "   'classes': 'ref'}},\n",
       " {'data': {'id': '594d46a69f42fb8ff08b21125d965a8fc9fc1d23',\n",
       "   'label': 'M. Izawa et al. (2014)',\n",
       "   'classes': 'ref'}},\n",
       " {'data': {'id': '7bbcb01e49b756d6e84c01c93a2f87daf6907107',\n",
       "   'label': 'B. Hynek et al. (2010)',\n",
       "   'classes': 'ref'}},\n",
       " {'data': {'id': '63fdce676e12f6e9b210a00fcb456c33848ef054',\n",
       "   'label': 'S. Durairaju Nisshanthini et al. (2015)',\n",
       "   'classes': 'ref'}},\n",
       " {'data': {'id': '4886143933bd5c85167fe04706c39b9909f28011',\n",
       "   'label': 'F. Grunthaner et al. (2012.0)',\n",
       "   'classes': 'ref'}},\n",
       " {'data': {'id': '1fb73381d2499f66f0f19f318dcf80922a366cec',\n",
       "   'label': 'D. McDonald et al. (2012)',\n",
       "   'classes': 'ref'}},\n",
       " {'data': {'id': '17d3cc05d5df182e8153b25cb54cc3cb9880dd04',\n",
       "   'label': 'Hai Cheng et al. (2000)',\n",
       "   'classes': 'ref'}},\n",
       " {'data': {'id': '81afded908d9cde6c143d3fe146d47fc86db6abe',\n",
       "   'label': 'S. Squyres et al. (2012)',\n",
       "   'classes': 'ref'}},\n",
       " {'data': {'id': '2ffabc5e0eb4a3196ed006ba72f59086b1b05883',\n",
       "   'label': 'M. Gaft, G. Panczer (2013)',\n",
       "   'classes': 'ref'}},\n",
       " {'data': {'id': '39a8a76bffac63a91b807b0bae6525adff6aa928',\n",
       "   'label': 'C. M. Scarfe (1980)',\n",
       "   'classes': 'ref'}},\n",
       " {'data': {'id': '4ab3abd9e593da338f5298476f8a5cee2b5781bd',\n",
       "   'label': 'L. Taylor et al. (2002)',\n",
       "   'classes': 'ref'}},\n",
       " {'data': {'id': '298004ead873695818da75eec4da48669dc4e4cf',\n",
       "   'label': 'O. Sato et al. (1999)',\n",
       "   'classes': 'ref'}},\n",
       " {'data': {'id': '661e72a401ea0a08fd9e0125d916c0388f1d8c90',\n",
       "   'label': 'C. Zeitlin et al. (2018)',\n",
       "   'classes': 'ref'}},\n",
       " {'data': {'id': 'c9f911b97c46b921b056ad4770b5e3a8599d8213',\n",
       "   'label': 'S. Squyres et al. (2006)',\n",
       "   'classes': 'ref'}},\n",
       " {'data': {'id': '79076871f8a959837773b039e00cc81619e0c6e5',\n",
       "   'label': 'A. Mrigakshi et al. (2012)',\n",
       "   'classes': 'ref'}},\n",
       " {'data': {'id': 'cbe8bf436192a970a427bf904fedc615e8d3d67f',\n",
       "   'label': 'L. Akoto et al. (2005)',\n",
       "   'classes': 'ref'}},\n",
       " {'data': {'id': 'cce88f4eeed7c5cf0ef3535becee9949915ceab6',\n",
       "   'label': 'Gurpreet Kaur et al. (2011)',\n",
       "   'classes': 'ref'}},\n",
       " {'data': {'id': '2181cede3f6d758d285762ea63d42f6c2d06207a',\n",
       "   'label': 'J. Milliman (1991)',\n",
       "   'classes': 'ref'}},\n",
       " {'data': {'id': '64054e5d7a9ba36c60f8cff5d35eb106f9a69edf',\n",
       "   'label': 'G. Anno et al. (1989)',\n",
       "   'classes': 'ref'}},\n",
       " {'data': {'id': '03eeb3934a9ae16e0df0ee9c677f3e864790e900',\n",
       "   'label': 'D. D. Marais (2001)',\n",
       "   'classes': 'ref'}},\n",
       " {'data': {'id': '2569b3a5798ab026daa7d8bbe5c6912fc63017e5',\n",
       "   'label': 'S. Xiao, A. Knoll (2007)',\n",
       "   'classes': 'ref'}},\n",
       " {'data': {'id': '42a075b4addfd366e3078cbfd0b17bfb97a2f1b0',\n",
       "   'label': 'D. Lario et al. (2005)',\n",
       "   'classes': 'ref'}},\n",
       " {'data': {'id': '0e5a55e820a70effaf167667129751152b8487ac',\n",
       "   'label': 'S. Heising, B. Schink (1998)',\n",
       "   'classes': 'ref'}},\n",
       " {'data': {'id': '3fb45e6845ab43478058523f9e3d4bb897886106',\n",
       "   'label': 'M. Malin, K. Edgett (2000)',\n",
       "   'classes': 'ref'}},\n",
       " {'data': {'id': '4aa000de8d0e866bae4712dfa535c42b067dbf14',\n",
       "   'label': 'J. Flahaut et al. (2015)',\n",
       "   'classes': 'ref'}},\n",
       " {'data': {'id': '510425708f045cbfaa979caa370468f5d28508e9',\n",
       "   'label': 'RullFernando et al. (2017)',\n",
       "   'classes': 'ref'}},\n",
       " {'data': {'id': '6951ce3c2d978573c88d031fb94a7616433fad2c',\n",
       "   'label': 'D. Emerson et al. (2010)',\n",
       "   'classes': 'ref'}},\n",
       " {'data': {'id': '36d23ffa810754651adb7ef60b52c814ef45d993',\n",
       "   'label': 'J. Stromberg et al. (2013)',\n",
       "   'classes': 'ref'}},\n",
       " {'data': {'id': 'f0bdf4b6426cfac3195c3fb9a139405bb7557cc9',\n",
       "   'label': 'B. Schreiber et al. (2001)',\n",
       "   'classes': 'ref'}},\n",
       " {'data': {'id': '970bb38e444f2d975caa30f281e0a650cdcd16c6',\n",
       "   'label': 'J. Vago et al. (2017)',\n",
       "   'classes': 'ref'}},\n",
       " {'data': {'id': '3506daaa29a16eac60887b3d4e36844e64ee0e14',\n",
       "   'label': 'G. Osinski et al. (2019)',\n",
       "   'classes': 'ref'}},\n",
       " {'data': {'id': '0e5ab9a0d7e84b33e627f655777abc5bd3eda272',\n",
       "   'label': 'L. Hays et al. (2017)',\n",
       "   'classes': 'ref'}},\n",
       " {'data': {'id': '1d8a27ece4452f8a2a5881101dfcfbb0e4203dc9',\n",
       "   'label': 'J. Laing et al. (2015)',\n",
       "   'classes': 'ref'}},\n",
       " {'data': {'id': '6376a601bfe1b87af5c96826c4c26bedb54faac0',\n",
       "   'label': 'A. Pavlov et al. (2012)',\n",
       "   'classes': 'ref'}},\n",
       " {'data': {'id': '350ce5624182ee2cdfffa95704b6b7094fed4d69',\n",
       "   'label': 'R. Bhartia et al. (2012)',\n",
       "   'classes': 'ref'}},\n",
       " {'data': {'id': '176c163e79579c07d2cecbf5be8a38d3a42ef8f6',\n",
       "   'label': 'M. Storrie-Lombardi, M. Fisk (2004)',\n",
       "   'classes': 'ref'}},\n",
       " {'data': {'id': '3e1a824323ab58e3597aeb6c100dbf823cd46587',\n",
       "   'label': 'J. Caporaso et al. (2009)',\n",
       "   'classes': 'ref'}},\n",
       " {'data': {'id': '4406ae327ebe98c128d48b95915af036e8dff98a',\n",
       "   'label': 'P. Meyers, R. Ishiwatari (1995)',\n",
       "   'classes': 'ref'}},\n",
       " {'data': {'id': '13d27d08370d6e5f955daf9d4a711e2d75a09e06',\n",
       "   'label': 'Furnes et al. (1999)',\n",
       "   'classes': 'ref'}},\n",
       " {'data': {'id': '7843076f7943f2a83a1f36525341f0a8abdf2702',\n",
       "   'label': 'R. Quinn et al. (2013)',\n",
       "   'classes': 'ref'}},\n",
       " {'data': {'id': '2fdf4af812d926cf58d4e75180814b9af0b56566',\n",
       "   'label': 'E. Lester et al. (2007)',\n",
       "   'classes': 'ref'}},\n",
       " {'data': {'id': '66e171bf0d473a287be54466ba52322151630d36',\n",
       "   'label': 'K. Warren-Rhodes et al. (2006)',\n",
       "   'classes': 'ref'}},\n",
       " {'data': {'id': '059c2c6d4a8da4817f0c626b55fae19720b8f8dc',\n",
       "   'label': 'N. Stivaletta, R. Barbieri (2009)',\n",
       "   'classes': 'ref'}},\n",
       " {'data': {'id': '23ff13a429020cf5c3d27432fde482a2eca68485',\n",
       "   'label': 'H. McSween (2015)',\n",
       "   'classes': 'ref'}},\n",
       " {'data': {'id': '738f32d0acf95ed76502b733f7c82504bebb99e6',\n",
       "   'label': 'A. Jubb, H. Allen (2010)',\n",
       "   'classes': 'ref'}},\n",
       " {'data': {'id': '30185d6ebbac85fe02824a4a61b1e9264baf6365',\n",
       "   'label': 'C. Cockell et al. (2009)',\n",
       "   'classes': 'ref'}},\n",
       " {'data': {'id': '9aa7294a7b7360962ba9f2a3132b89697ce0f256',\n",
       "   'label': 'Renato Lemos dos Santos et al. (2016)',\n",
       "   'classes': 'ref'}},\n",
       " {'data': {'id': '2bc796413514a913e1d529d688f37a7d574f3e79',\n",
       "   'label': 'A. Sandhu et al. (1999)',\n",
       "   'classes': 'ref'}},\n",
       " {'data': {'id': '25a070b4d74e914749f0dd79ad79fb6c22e3cd54',\n",
       "   'label': 'V. Kolb, P. J. Liesch (2008)',\n",
       "   'classes': 'ref'}},\n",
       " {'data': {'id': 'efff25ecc54882939d81c163e680dde1d4b8644c',\n",
       "   'label': 'J. Bishop et al. (2008)',\n",
       "   'classes': 'ref'}},\n",
       " {'data': {'id': '59e42369c255577e3964bf874677d354de31c6da',\n",
       "   'label': 'J. Smith, I. Kaplan (1970)',\n",
       "   'classes': 'ref'}},\n",
       " {'data': {'id': '36414910b1a9bc936151e9bfeb104895ce78fbfb',\n",
       "   'label': 'D. Hassler et al. (2018)',\n",
       "   'classes': 'ref'}},\n",
       " {'data': {'id': '25827ae9b41054b83ad9e074ada1524b537e0232',\n",
       "   'label': 'H. Sapers et al. (2019)',\n",
       "   'classes': 'ref'}},\n",
       " {'data': {'id': '345731690a4751240719a696734718b70654e518',\n",
       "   'label': 'N. Bridge et al. (2010)',\n",
       "   'classes': 'ref'}},\n",
       " {'data': {'id': 'a35916e51e86dbd15a43ebdc34dd0fe91837ec43',\n",
       "   'label': 'T. Dequaire et al. (2016)',\n",
       "   'classes': 'ref'}},\n",
       " {'data': {'id': '1310be663d7cd5103a60aef6ff6c6fa86b28a581',\n",
       "   'label': 'T. McCollom, J. Seewald (2013)',\n",
       "   'classes': 'ref'}},\n",
       " {'data': {'id': '680947991c734254c56b154eb63a921b75f02e6d',\n",
       "   'label': 'R. Frost et al. (2001)',\n",
       "   'classes': 'ref'}},\n",
       " {'data': {'id': '1868c2eaf37b5c888cbea2277abedc764229bd47',\n",
       "   'label': 'J. Alt (1988)',\n",
       "   'classes': 'ref'}},\n",
       " {'data': {'id': '85f5a5e897c98aff04d77c619717b443204cfdd0',\n",
       "   'label': 'A. Hamilton, R. I. Menzies (2010)',\n",
       "   'classes': 'ref'}},\n",
       " {'data': {'id': '26d6ae4cca834d385088222a7d550cac12b8e3e5',\n",
       "   'label': 'D. Kelley et al. (2005)',\n",
       "   'classes': 'ref'}},\n",
       " {'data': {'id': '157320ed97506107746715aa1a28985e48581989',\n",
       "   'label': 'B. Katz et al. (1987)',\n",
       "   'classes': 'ref'}},\n",
       " {'data': {'id': '1ba5e3afb4d9e0b461a98d42e76aa2acd255981d',\n",
       "   'label': 'B. Ehlmann et al. (2011)',\n",
       "   'classes': 'ref'}},\n",
       " {'data': {'id': '1fdf39df6be00f8761b761c6124c68cdfa10bbec',\n",
       "   'label': 'D. Fliegel et al. (2010)',\n",
       "   'classes': 'ref'}},\n",
       " {'data': {'id': 'a94b75d047a731d52de6e56a2cdf4883c1fba506',\n",
       "   'label': 'F. Shadkami, R. Helleur (2010)',\n",
       "   'classes': 'ref'}},\n",
       " {'data': {'id': '106f8d12ecd4b65671c653d6129961790e4228f6',\n",
       "   'label': 'D. Lovley (1993)',\n",
       "   'classes': 'ref'}},\n",
       " {'data': {'id': '2863fd8cebf9d134c2bdfb69dda8eaf8ce4ea948',\n",
       "   'label': 'R. W. Hoham, H. U. Ling (2000)',\n",
       "   'classes': 'ref'}},\n",
       " {'data': {'id': '0d185ac7bc8faac354902e95b330131105d21880',\n",
       "   'label': 'S. Krishnaswami et al. (1974)',\n",
       "   'classes': 'ref'}},\n",
       " {'data': {'id': '5f9860b351020400107f017f0b33dcd74737726e',\n",
       "   'label': 'S. McKenna-Lawlor et al. (2012)',\n",
       "   'classes': 'ref'}},\n",
       " {'data': {'id': '60d9261d5301847ef4b34425312c34432357cd0b',\n",
       "   'label': 'Shiv K. Sharma et al. (2002)',\n",
       "   'classes': 'ref'}},\n",
       " {'data': {'id': 'c384a6da9ffbc2f36379e0d70d5acfbd2b9096d7',\n",
       "   'label': 'K. Yamauchi et al. (1979)',\n",
       "   'classes': 'ref'}},\n",
       " {'data': {'id': '0d1a18496e13ee183c6ce97e608e66d6cbe9fa0d',\n",
       "   'label': 'F. Cucinotta et al. (2011)',\n",
       "   'classes': 'ref'}},\n",
       " {'data': {'id': '38a36740425dea3f17cee7b693e46fe39373f46e',\n",
       "   'label': 'J. Bandfield et al. (2000)',\n",
       "   'classes': 'ref'}},\n",
       " {'data': {'id': '3ce9ed130d93c020ea031efc541f19e01bc7c3d8',\n",
       "   'label': 'J. Wang et al. (2002)',\n",
       "   'classes': 'ref'}},\n",
       " {'data': {'id': '5839b70e16c9cbdc0fe428c15032e7a948c6b51b',\n",
       "   'label': 'J. Hedges, P. E. Hare (1987)',\n",
       "   'classes': 'ref'}},\n",
       " {'data': {'id': '06d035f49501b1f06124b7e4e69a9ee25386cb43',\n",
       "   'label': 'B. Rasmussen (2000)',\n",
       "   'classes': 'ref'}},\n",
       " {'data': {'id': '72c17b27717b1c0aae2d878a79c9ec95e000a921',\n",
       "   'label': 'D. Birgel et al. (2008)',\n",
       "   'classes': 'ref'}},\n",
       " {'data': {'id': '2e6235ba83969e7c537a3f0b4c2faeebaf0309ef',\n",
       "   'label': 'A. Cairns-smith (1978)',\n",
       "   'classes': 'ref'}},\n",
       " {'data': {'id': '410d1d892c1961119b50f11d5edbc9585fcfe74c',\n",
       "   'label': 'R. Mancinelli et al. (2004)',\n",
       "   'classes': 'ref'}},\n",
       " {'data': {'id': '16761353a2906e27ef1eb6e0f5d42a3562ab2785',\n",
       "   'label': 'K. Williams et al. (2010)',\n",
       "   'classes': 'ref'}},\n",
       " {'data': {'id': '6dda257a2b0fdb930e5644c9ed093a25aff05272',\n",
       "   'label': 'J. Albers (1985)',\n",
       "   'classes': 'ref'}},\n",
       " {'data': {'id': '57c231454ba662e048ca54547d7581ccac6d3180',\n",
       "   'label': 'E. Lalla et al. (2015)',\n",
       "   'classes': 'ref'}},\n",
       " {'data': {'id': '32c8b0d65f0d0c7b643159e6c01560b914cc12f7',\n",
       "   'label': 'D. Bower et al. (2013)',\n",
       "   'classes': 'ref'}},\n",
       " {'data': {'id': '7de7bfb37f22fd457c01ccce8a062b6d5a139fe8',\n",
       "   'label': 'P. Jiggens et al. (2014)',\n",
       "   'classes': 'ref'}},\n",
       " {'data': {'id': '19b1312a017093af64a6ff3497cb0a04a31b804c',\n",
       "   'label': 'T. G. Powell (1986)',\n",
       "   'classes': 'ref'}},\n",
       " {'data': {'id': '2d11779f2a65773a8d5c10bf953f16c76f33fa07',\n",
       "   'label': 'G. E. Ericksen (1981)',\n",
       "   'classes': 'ref'}},\n",
       " {'data': {'id': 'cb55df6368aa0e4e0f3ee86cf24530059a8afc4e',\n",
       "   'label': 'K. Edwards et al. (1999)',\n",
       "   'classes': 'ref'}},\n",
       " {'data': {'id': '1c8285849cad7c8016a2238f5e91a7ae2b192fc1',\n",
       "   'label': 'T. McCollom, J. Seewald (2006)',\n",
       "   'classes': 'ref'}},\n",
       " {'data': {'id': '101a693d9771e69b14b1b312e2e9efd27ac09bbe',\n",
       "   'label': 'W. Hug et al. (2005)',\n",
       "   'classes': 'ref'}},\n",
       " {'data': {'id': '25f1e4739fc86799ce2c05dc915bd4a8dec60c01',\n",
       "   'label': 'O. Botta et al. (2004)',\n",
       "   'classes': 'ref'}},\n",
       " {'data': {'id': '20e7958dea2ba771c5dcf7e07b0889be91a34245',\n",
       "   'label': 'B. Lollar et al. (2006)',\n",
       "   'classes': 'ref'}},\n",
       " {'data': {'id': '53930b3b0cb99645c94db4e80e6ad6f347fbc238',\n",
       "   'label': 'R. Garstang (1957)',\n",
       "   'classes': 'ref'}},\n",
       " {'data': {'id': 'e65e7b9748627d743694b33c6d3af9ec794a4c8d',\n",
       "   'label': 'W. Rapin et al. (2016)',\n",
       "   'classes': 'ref'}},\n",
       " {'data': {'id': '3a9ea8df3c76100c465d1feba16448d1f7e51c09',\n",
       "   'label': 'G. Kminek, J. Bada (2006)',\n",
       "   'classes': 'ref'}},\n",
       " {'data': {'id': '286c555a2f15561aa86e59ee2839aaab938aceac',\n",
       "   'label': 'J. Bell et al. (2003)',\n",
       "   'classes': 'ref'}},\n",
       " {'data': {'id': '14f00de98cbf6810bf3440833ae08021af9511a4',\n",
       "   'label': 'R. Rieder et al. (2004)',\n",
       "   'classes': 'ref'}},\n",
       " {'data': {'id': '5f7d7ddd39b26327b1d6b3d39b7e4a25e491102d',\n",
       "   'label': 'M. Wadhwa et al. (2001)',\n",
       "   'classes': 'ref'}},\n",
       " {'data': {'id': '072a871c5c59f01cbba76dac78eb4e223fd5cbef',\n",
       "   'label': 'N. Pfennig (2004)',\n",
       "   'classes': 'ref'}},\n",
       " {'data': {'id': 'be0a6eb06af6231edf9378247ac9e154add68770',\n",
       "   'label': 'L. Hays, D. Beaty (2017)',\n",
       "   'classes': 'res'}},\n",
       " {'data': {'id': '9a40cc604ec5720a627103a982df6089fa6298f6',\n",
       "   'label': 'S. Shkolyar, J. Farmer (2018)',\n",
       "   'classes': 'res'}},\n",
       " {'data': {'id': '15f56931cbfc6a0e2296be1cb9fd4d8fe4217781',\n",
       "   'label': 'F. Da Pieve et al. (2020)',\n",
       "   'classes': 'res'}},\n",
       " {'data': {'id': '8bd506fadaa7c5b5fdfa66d1c61f408395a08067',\n",
       "   'label': 'Jason E. French, D. Blake (2016)',\n",
       "   'classes': 'res'}},\n",
       " {'data': {'id': 'a491bc56c596f169dedd8eebc2346a987b277dcc',\n",
       "   'label': 'S. Shkolyar et al. (2021)',\n",
       "   'classes': 'res'}},\n",
       " {'data': {'id': '61d144bd68693abd0ceafd1275969e8596b8c34b',\n",
       "   'label': 'C. Weisbin et al. (2013)',\n",
       "   'classes': 'res'}},\n",
       " {'data': {'id': 'f1376f87575a361568df4b3d891b5e6388519cfd',\n",
       "   'label': 'Joost W. Aerts et al. (2020)',\n",
       "   'classes': 'res'}},\n",
       " {'data': {'id': '36d23ffa810754651adb7ef60b52c814ef45d993',\n",
       "   'label': 'J. Stromberg et al. (2013)',\n",
       "   'classes': 'res'}},\n",
       " {'data': {'id': '73e782e5532960f9c54cf2219ffdff0afbe5c308',\n",
       "   'label': 'J. Stromberg et al. (2019)',\n",
       "   'classes': 'res'}},\n",
       " {'data': {'id': 'e9040c638702931f009145cf6126874672585e52',\n",
       "   'label': 'M. Floyd et al. (2018)',\n",
       "   'classes': 'res'}},\n",
       " {'data': {'id': '958b808c4e32488bf9f484c7de0b928ddfe94cff',\n",
       "   'label': 'R. Summons et al. (2011)',\n",
       "   'classes': 'res'}},\n",
       " {'data': {'source': '00af432229c83d8a214d9f7de0b02b2c226406a3',\n",
       "   'target': '958b808c4e32488bf9f484c7de0b928ddfe94cff'},\n",
       "  'classes': 'citation'},\n",
       " {'data': {'source': '00af432229c83d8a214d9f7de0b02b2c226406a3',\n",
       "   'target': '958b808c4e32488bf9f484c7de0b928ddfe94cff'},\n",
       "  'classes': 'citation'},\n",
       " {'data': {'source': '0129ac6b5d524eddcf70a540f0f77fb5e00ed9b4',\n",
       "   'target': '958b808c4e32488bf9f484c7de0b928ddfe94cff'},\n",
       "  'classes': 'citation'},\n",
       " {'data': {'source': '0272fe47aa6c58084222561694484b53109a422a',\n",
       "   'target': '958b808c4e32488bf9f484c7de0b928ddfe94cff'},\n",
       "  'classes': 'citation'},\n",
       " {'data': {'source': '03eeb3934a9ae16e0df0ee9c677f3e864790e900',\n",
       "   'target': '958b808c4e32488bf9f484c7de0b928ddfe94cff'},\n",
       "  'classes': 'citation'},\n",
       " {'data': {'source': '03faf87ef92e40242dd8feb4acd9198a1c20d343',\n",
       "   'target': '958b808c4e32488bf9f484c7de0b928ddfe94cff'},\n",
       "  'classes': 'citation'},\n",
       " {'data': {'source': '06d035f49501b1f06124b7e4e69a9ee25386cb43',\n",
       "   'target': '958b808c4e32488bf9f484c7de0b928ddfe94cff'},\n",
       "  'classes': 'citation'},\n",
       " {'data': {'source': '0763653d8b5c6477d4884acca4fa8140a31af114',\n",
       "   'target': '958b808c4e32488bf9f484c7de0b928ddfe94cff'},\n",
       "  'classes': 'citation'},\n",
       " {'data': {'source': '091ae7eb717e526962f909db9b6a00a16e6f5c0c',\n",
       "   'target': '958b808c4e32488bf9f484c7de0b928ddfe94cff'},\n",
       "  'classes': 'citation'},\n",
       " {'data': {'source': '0d6a9b1f19e0c2ed909105ade3447448d0e3bf74',\n",
       "   'target': '958b808c4e32488bf9f484c7de0b928ddfe94cff'},\n",
       "  'classes': 'citation'},\n",
       " {'data': {'source': '106fa271e34408e2c79aca1eeff9a0277e568a5f',\n",
       "   'target': '958b808c4e32488bf9f484c7de0b928ddfe94cff'},\n",
       "  'classes': 'citation'},\n",
       " {'data': {'source': '128f71c23ea8f64f9ac633e1e56aafbf937f9d10',\n",
       "   'target': '958b808c4e32488bf9f484c7de0b928ddfe94cff'},\n",
       "  'classes': 'citation'},\n",
       " {'data': {'source': '129df25c98c90077cda0e1a84a597dcfd529727c',\n",
       "   'target': '958b808c4e32488bf9f484c7de0b928ddfe94cff'},\n",
       "  'classes': 'citation'},\n",
       " {'data': {'source': '16be05c7d60f4874887160b1baceee81e3d0e002',\n",
       "   'target': '958b808c4e32488bf9f484c7de0b928ddfe94cff'},\n",
       "  'classes': 'citation'},\n",
       " {'data': {'source': '1727a1e0b43244e2d5941869109f67d1686cfa64',\n",
       "   'target': '958b808c4e32488bf9f484c7de0b928ddfe94cff'},\n",
       "  'classes': 'citation'},\n",
       " {'data': {'source': '18d6f6caeb14431dcd8aa1609d10d9430f8878dc',\n",
       "   'target': '958b808c4e32488bf9f484c7de0b928ddfe94cff'},\n",
       "  'classes': 'citation'},\n",
       " {'data': {'source': '1910a194a77db1c3b62032750a60eb9ca6a88027',\n",
       "   'target': '958b808c4e32488bf9f484c7de0b928ddfe94cff'},\n",
       "  'classes': 'citation'},\n",
       " {'data': {'source': '1c8285849cad7c8016a2238f5e91a7ae2b192fc1',\n",
       "   'target': '958b808c4e32488bf9f484c7de0b928ddfe94cff'},\n",
       "  'classes': 'citation'},\n",
       " {'data': {'source': '20e7958dea2ba771c5dcf7e07b0889be91a34245',\n",
       "   'target': '958b808c4e32488bf9f484c7de0b928ddfe94cff'},\n",
       "  'classes': 'citation'},\n",
       " {'data': {'source': '218407aba36fe0a3e619ba60edf2b327643fadbf',\n",
       "   'target': '958b808c4e32488bf9f484c7de0b928ddfe94cff'},\n",
       "  'classes': 'citation'},\n",
       " {'data': {'source': '2569b3a5798ab026daa7d8bbe5c6912fc63017e5',\n",
       "   'target': '958b808c4e32488bf9f484c7de0b928ddfe94cff'},\n",
       "  'classes': 'citation'},\n",
       " {'data': {'source': '26d6ae4cca834d385088222a7d550cac12b8e3e5',\n",
       "   'target': '958b808c4e32488bf9f484c7de0b928ddfe94cff'},\n",
       "  'classes': 'citation'},\n",
       " {'data': {'source': '2b5049f380c629645a5f8f30ac0747c94f6609b0',\n",
       "   'target': '958b808c4e32488bf9f484c7de0b928ddfe94cff'},\n",
       "  'classes': 'citation'},\n",
       " {'data': {'source': '2cc939e0030aecff4bc1b7e2011132b96af314aa',\n",
       "   'target': '958b808c4e32488bf9f484c7de0b928ddfe94cff'},\n",
       "  'classes': 'citation'},\n",
       " {'data': {'source': '2d80e279b2d71186a17e63afa75eb79be56737cf',\n",
       "   'target': '958b808c4e32488bf9f484c7de0b928ddfe94cff'},\n",
       "  'classes': 'citation'},\n",
       " {'data': {'source': '318a4998d5aaa3c62b5592bbbed85e5bade01333',\n",
       "   'target': '958b808c4e32488bf9f484c7de0b928ddfe94cff'},\n",
       "  'classes': 'citation'},\n",
       " {'data': {'source': '378993b9f044ac20c0ce9bd830bbc8d63295e35c',\n",
       "   'target': '958b808c4e32488bf9f484c7de0b928ddfe94cff'},\n",
       "  'classes': 'citation'},\n",
       " {'data': {'source': '3ce9ed130d93c020ea031efc541f19e01bc7c3d8',\n",
       "   'target': '958b808c4e32488bf9f484c7de0b928ddfe94cff'},\n",
       "  'classes': 'citation'},\n",
       " {'data': {'source': '3ddaeb199adca8ad0ba0969718147361c468883d',\n",
       "   'target': '958b808c4e32488bf9f484c7de0b928ddfe94cff'},\n",
       "  'classes': 'citation'},\n",
       " {'data': {'source': '3e6e0bea85976fcfcd1c6d71390e801e12cf32b2',\n",
       "   'target': '958b808c4e32488bf9f484c7de0b928ddfe94cff'},\n",
       "  'classes': 'citation'},\n",
       " {'data': {'source': '3f7b678d15ba30705cec396335e43a875ccb0023',\n",
       "   'target': '958b808c4e32488bf9f484c7de0b928ddfe94cff'},\n",
       "  'classes': 'citation'},\n",
       " {'data': {'source': '411d51cd17be25ce3074773896fe2b42c5d72a16',\n",
       "   'target': '958b808c4e32488bf9f484c7de0b928ddfe94cff'},\n",
       "  'classes': 'citation'},\n",
       " {'data': {'source': '414106f9320e04121be6636d3782a83e5b6ab70d',\n",
       "   'target': '958b808c4e32488bf9f484c7de0b928ddfe94cff'},\n",
       "  'classes': 'citation'},\n",
       " {'data': {'source': '4406ae327ebe98c128d48b95915af036e8dff98a',\n",
       "   'target': '958b808c4e32488bf9f484c7de0b928ddfe94cff'},\n",
       "  'classes': 'citation'},\n",
       " {'data': {'source': '4481abeb6b9577ad058966996dc677ccd14c047b',\n",
       "   'target': '958b808c4e32488bf9f484c7de0b928ddfe94cff'},\n",
       "  'classes': 'citation'},\n",
       " {'data': {'source': '48b3cf8a2e39023f260c9c32b2fd887409d7671a',\n",
       "   'target': '958b808c4e32488bf9f484c7de0b928ddfe94cff'},\n",
       "  'classes': 'citation'},\n",
       " {'data': {'source': '49f6f1d109ed80a9d491f05fc82776ced2c74953',\n",
       "   'target': '958b808c4e32488bf9f484c7de0b928ddfe94cff'},\n",
       "  'classes': 'citation'},\n",
       " {'data': {'source': '4f0e4a6639de9bab3558193f9497166bd26e2697',\n",
       "   'target': '958b808c4e32488bf9f484c7de0b928ddfe94cff'},\n",
       "  'classes': 'citation'},\n",
       " {'data': {'source': '5007ca6414001007520ef36da2e4649cef04cc92',\n",
       "   'target': '958b808c4e32488bf9f484c7de0b928ddfe94cff'},\n",
       "  'classes': 'citation'},\n",
       " {'data': {'source': '5839b70e16c9cbdc0fe428c15032e7a948c6b51b',\n",
       "   'target': '958b808c4e32488bf9f484c7de0b928ddfe94cff'},\n",
       "  'classes': 'citation'},\n",
       " {'data': {'source': '593b8d7a4c5236caf4793faa05be163dd2f41ee3',\n",
       "   'target': '958b808c4e32488bf9f484c7de0b928ddfe94cff'},\n",
       "  'classes': 'citation'},\n",
       " {'data': {'source': '5977e7ba11475b2d3d38d2fa755d273da9319acb',\n",
       "   'target': '958b808c4e32488bf9f484c7de0b928ddfe94cff'},\n",
       "  'classes': 'citation'},\n",
       " {'data': {'source': '59e42369c255577e3964bf874677d354de31c6da',\n",
       "   'target': '958b808c4e32488bf9f484c7de0b928ddfe94cff'},\n",
       "  'classes': 'citation'},\n",
       " {'data': {'source': '5e97cef7f978bebe3455cd2822a95ca050a723a0',\n",
       "   'target': '958b808c4e32488bf9f484c7de0b928ddfe94cff'},\n",
       "  'classes': 'citation'},\n",
       " {'data': {'source': '5ec38b2d1072268d69bd2863cd0fb1c68d169bdc',\n",
       "   'target': '958b808c4e32488bf9f484c7de0b928ddfe94cff'},\n",
       "  'classes': 'citation'},\n",
       " {'data': {'source': '5fe63b4552c545de3c493f9955281a62727a26f2',\n",
       "   'target': '958b808c4e32488bf9f484c7de0b928ddfe94cff'},\n",
       "  'classes': 'citation'},\n",
       " {'data': {'source': '6479c0e44ab143679d2337e9b726d6196d8dfa0b',\n",
       "   'target': '958b808c4e32488bf9f484c7de0b928ddfe94cff'},\n",
       "  'classes': 'citation'},\n",
       " {'data': {'source': '64d96aeca2ecf5d5b5cdb36963cfaf19c4d6b628',\n",
       "   'target': '958b808c4e32488bf9f484c7de0b928ddfe94cff'},\n",
       "  'classes': 'citation'},\n",
       " {'data': {'source': '6ba6590c2d871a0f7db0f568e2ba1e838c4c433b',\n",
       "   'target': '958b808c4e32488bf9f484c7de0b928ddfe94cff'},\n",
       "  'classes': 'citation'},\n",
       " {'data': {'source': '72c17b27717b1c0aae2d878a79c9ec95e000a921',\n",
       "   'target': '958b808c4e32488bf9f484c7de0b928ddfe94cff'},\n",
       "  'classes': 'citation'},\n",
       " {'data': {'source': '7305159dad9793adcfd33e2ad09121cbae4b7d50',\n",
       "   'target': '958b808c4e32488bf9f484c7de0b928ddfe94cff'},\n",
       "  'classes': 'citation'},\n",
       " {'data': {'source': '0a53814899471955b0d595fbf3e9d6834559c57e',\n",
       "   'target': '61d144bd68693abd0ceafd1275969e8596b8c34b'},\n",
       "  'classes': 'citation'},\n",
       " {'data': {'source': '43081dc2610a5716236a1680b27ccc82d5f1c7e3',\n",
       "   'target': '61d144bd68693abd0ceafd1275969e8596b8c34b'},\n",
       "  'classes': 'citation'},\n",
       " {'data': {'source': '4886143933bd5c85167fe04706c39b9909f28011',\n",
       "   'target': '61d144bd68693abd0ceafd1275969e8596b8c34b'},\n",
       "  'classes': 'citation'},\n",
       " {'data': {'source': '958b808c4e32488bf9f484c7de0b928ddfe94cff',\n",
       "   'target': '61d144bd68693abd0ceafd1275969e8596b8c34b'},\n",
       "  'classes': 'citation'},\n",
       " {'data': {'source': 'c65efcd20fe1bc9b77bb2ccea91a5209458b30ee',\n",
       "   'target': '61d144bd68693abd0ceafd1275969e8596b8c34b'},\n",
       "  'classes': 'citation'},\n",
       " {'data': {'source': None,\n",
       "   'target': '61d144bd68693abd0ceafd1275969e8596b8c34b'},\n",
       "  'classes': 'citation'},\n",
       " {'data': {'source': None,\n",
       "   'target': '61d144bd68693abd0ceafd1275969e8596b8c34b'},\n",
       "  'classes': 'citation'},\n",
       " {'data': {'source': '0480c5e6312ceb18b5236425805ebd58f9c65c2a',\n",
       "   'target': 'f1376f87575a361568df4b3d891b5e6388519cfd'},\n",
       "  'classes': 'citation'},\n",
       " {'data': {'source': '0a29b73fbd94c1982a35b286df872bc62b60b690',\n",
       "   'target': 'f1376f87575a361568df4b3d891b5e6388519cfd'},\n",
       "  'classes': 'citation'},\n",
       " {'data': {'source': '0cf91d84638ece8614fb243ad6bf140ed26c30af',\n",
       "   'target': 'f1376f87575a361568df4b3d891b5e6388519cfd'},\n",
       "  'classes': 'citation'},\n",
       " {'data': {'source': '17d01d94092942d99625e2df0614a03977f64960',\n",
       "   'target': 'f1376f87575a361568df4b3d891b5e6388519cfd'},\n",
       "  'classes': 'citation'},\n",
       " {'data': {'source': '1ba5e3afb4d9e0b461a98d42e76aa2acd255981d',\n",
       "   'target': 'f1376f87575a361568df4b3d891b5e6388519cfd'},\n",
       "  'classes': 'citation'},\n",
       " {'data': {'source': '1fb473dceb7a47430338fe5f47eb7b68a4aeeb38',\n",
       "   'target': 'f1376f87575a361568df4b3d891b5e6388519cfd'},\n",
       "  'classes': 'citation'},\n",
       " {'data': {'source': '1fb73381d2499f66f0f19f318dcf80922a366cec',\n",
       "   'target': 'f1376f87575a361568df4b3d891b5e6388519cfd'},\n",
       "  'classes': 'citation'},\n",
       " {'data': {'source': '221983f994ce790ec8ecafce3674b0b753d4b32d',\n",
       "   'target': 'f1376f87575a361568df4b3d891b5e6388519cfd'},\n",
       "  'classes': 'citation'},\n",
       " {'data': {'source': '25f1e4739fc86799ce2c05dc915bd4a8dec60c01',\n",
       "   'target': 'f1376f87575a361568df4b3d891b5e6388519cfd'},\n",
       "  'classes': 'citation'},\n",
       " {'data': {'source': '266773131d74990b6eb34d8fa297dc85ae6719d4',\n",
       "   'target': 'f1376f87575a361568df4b3d891b5e6388519cfd'},\n",
       "  'classes': 'citation'},\n",
       " {'data': {'source': '297e66c475716902fa218b6ba36e7629660cb497',\n",
       "   'target': 'f1376f87575a361568df4b3d891b5e6388519cfd'},\n",
       "  'classes': 'citation'},\n",
       " {'data': {'source': '2d11779f2a65773a8d5c10bf953f16c76f33fa07',\n",
       "   'target': 'f1376f87575a361568df4b3d891b5e6388519cfd'},\n",
       "  'classes': 'citation'},\n",
       " {'data': {'source': '2fdf4af812d926cf58d4e75180814b9af0b56566',\n",
       "   'target': 'f1376f87575a361568df4b3d891b5e6388519cfd'},\n",
       "  'classes': 'citation'},\n",
       " {'data': {'source': '37a4c41c08c23ecc362bc66073c81b004ed0047f',\n",
       "   'target': 'f1376f87575a361568df4b3d891b5e6388519cfd'},\n",
       "  'classes': 'citation'},\n",
       " {'data': {'source': '39fce80e5a504f54692b3c87f1e4a1f732c1c5ca',\n",
       "   'target': 'f1376f87575a361568df4b3d891b5e6388519cfd'},\n",
       "  'classes': 'citation'},\n",
       " {'data': {'source': '3e1a824323ab58e3597aeb6c100dbf823cd46587',\n",
       "   'target': 'f1376f87575a361568df4b3d891b5e6388519cfd'},\n",
       "  'classes': 'citation'},\n",
       " {'data': {'source': '42c6fcf006232a9eb90ce14d02caa3aa2dfb72f3',\n",
       "   'target': 'f1376f87575a361568df4b3d891b5e6388519cfd'},\n",
       "  'classes': 'citation'},\n",
       " {'data': {'source': '46921aae97cff08c4c25f94fa0828cb60b00f293',\n",
       "   'target': 'f1376f87575a361568df4b3d891b5e6388519cfd'},\n",
       "  'classes': 'citation'},\n",
       " {'data': {'source': '482a64aea935eca6bda8bb0f73af42e05595b569',\n",
       "   'target': 'f1376f87575a361568df4b3d891b5e6388519cfd'},\n",
       "  'classes': 'citation'},\n",
       " {'data': {'source': '49cdf16489ee008649a00037cb22041a7bcd96ec',\n",
       "   'target': 'f1376f87575a361568df4b3d891b5e6388519cfd'},\n",
       "  'classes': 'citation'},\n",
       " {'data': {'source': '4aa000de8d0e866bae4712dfa535c42b067dbf14',\n",
       "   'target': 'f1376f87575a361568df4b3d891b5e6388519cfd'},\n",
       "  'classes': 'citation'},\n",
       " {'data': {'source': '4dc5a37d61e7dbd4d3d55f8679209e022ea09473',\n",
       "   'target': 'f1376f87575a361568df4b3d891b5e6388519cfd'},\n",
       "  'classes': 'citation'},\n",
       " {'data': {'source': '546bbd226cc7fa988f56c19aa4c2cb1e9a986de9',\n",
       "   'target': 'f1376f87575a361568df4b3d891b5e6388519cfd'},\n",
       "  'classes': 'citation'},\n",
       " {'data': {'source': '5532e4371c79b7736bafbf4282ec28c1799b6bf6',\n",
       "   'target': 'f1376f87575a361568df4b3d891b5e6388519cfd'},\n",
       "  'classes': 'citation'},\n",
       " {'data': {'source': '5836bf0c738d3d6f0175f3cbed0e388e1fefedfb',\n",
       "   'target': 'f1376f87575a361568df4b3d891b5e6388519cfd'},\n",
       "  'classes': 'citation'},\n",
       " {'data': {'source': '59073ed0ce1d4f1c839d287a4d23c669b6b9b602',\n",
       "   'target': 'f1376f87575a361568df4b3d891b5e6388519cfd'},\n",
       "  'classes': 'citation'},\n",
       " {'data': {'source': '5ea2d1a1919609dd24fed9c8528a58e0c9150e1e',\n",
       "   'target': 'f1376f87575a361568df4b3d891b5e6388519cfd'},\n",
       "  'classes': 'citation'},\n",
       " {'data': {'source': '66e171bf0d473a287be54466ba52322151630d36',\n",
       "   'target': 'f1376f87575a361568df4b3d891b5e6388519cfd'},\n",
       "  'classes': 'citation'},\n",
       " {'data': {'source': '68b3308f18a249bba76df2e9048b3e4d9461eb80',\n",
       "   'target': 'f1376f87575a361568df4b3d891b5e6388519cfd'},\n",
       "  'classes': 'citation'},\n",
       " {'data': {'source': '6ef7a8f0d335db7a2d0ed60d54791dc074f5deb2',\n",
       "   'target': 'f1376f87575a361568df4b3d891b5e6388519cfd'},\n",
       "  'classes': 'citation'},\n",
       " {'data': {'source': '6f897a7a77930ca9400bf869514e68b4f4e8febc',\n",
       "   'target': 'f1376f87575a361568df4b3d891b5e6388519cfd'},\n",
       "  'classes': 'citation'},\n",
       " {'data': {'source': '70b48fd1a0c3d9fef98600578308e1e033c0c67a',\n",
       "   'target': 'f1376f87575a361568df4b3d891b5e6388519cfd'},\n",
       "  'classes': 'citation'},\n",
       " {'data': {'source': '71bb4b88cef499cd62af8766123de489bf870417',\n",
       "   'target': 'f1376f87575a361568df4b3d891b5e6388519cfd'},\n",
       "  'classes': 'citation'},\n",
       " {'data': {'source': '721301ad563cb2fe54f3c75310305cbf3c3da214',\n",
       "   'target': 'f1376f87575a361568df4b3d891b5e6388519cfd'},\n",
       "  'classes': 'citation'},\n",
       " {'data': {'source': '76e1279b43227684e68038b955c31bda9ff87982',\n",
       "   'target': 'f1376f87575a361568df4b3d891b5e6388519cfd'},\n",
       "  'classes': 'citation'},\n",
       " {'data': {'source': '7843076f7943f2a83a1f36525341f0a8abdf2702',\n",
       "   'target': 'f1376f87575a361568df4b3d891b5e6388519cfd'},\n",
       "  'classes': 'citation'},\n",
       " {'data': {'source': '7bbcb01e49b756d6e84c01c93a2f87daf6907107',\n",
       "   'target': 'f1376f87575a361568df4b3d891b5e6388519cfd'},\n",
       "  'classes': 'citation'},\n",
       " {'data': {'source': '7cb02959fbeb885d94c317d8137b04589e523020',\n",
       "   'target': 'f1376f87575a361568df4b3d891b5e6388519cfd'},\n",
       "  'classes': 'citation'},\n",
       " {'data': {'source': '836f1a29a47b002c88be04c9075524856d51dde3',\n",
       "   'target': 'f1376f87575a361568df4b3d891b5e6388519cfd'},\n",
       "  'classes': 'citation'},\n",
       " {'data': {'source': '88b55fdfd5bef4222e75e51159668c79dc14574f',\n",
       "   'target': 'f1376f87575a361568df4b3d891b5e6388519cfd'},\n",
       "  'classes': 'citation'},\n",
       " {'data': {'source': '8d5117333503acc0bec185ac6f55538264d85e68',\n",
       "   'target': 'f1376f87575a361568df4b3d891b5e6388519cfd'},\n",
       "  'classes': 'citation'},\n",
       " {'data': {'source': '8d6694d5dbbe16b02f2bd1c7d4123d9f3a9585a3',\n",
       "   'target': 'f1376f87575a361568df4b3d891b5e6388519cfd'},\n",
       "  'classes': 'citation'},\n",
       " {'data': {'source': '946d78971d32cb265f1912b777a1947adf15201e',\n",
       "   'target': 'f1376f87575a361568df4b3d891b5e6388519cfd'},\n",
       "  'classes': 'citation'},\n",
       " {'data': {'source': '970bb38e444f2d975caa30f281e0a650cdcd16c6',\n",
       "   'target': 'f1376f87575a361568df4b3d891b5e6388519cfd'},\n",
       "  'classes': 'citation'},\n",
       " {'data': {'source': '98e68447896248fd84070eebb29b1becfd49a7d8',\n",
       "   'target': 'f1376f87575a361568df4b3d891b5e6388519cfd'},\n",
       "  'classes': 'citation'},\n",
       " {'data': {'source': '9aa7294a7b7360962ba9f2a3132b89697ce0f256',\n",
       "   'target': 'f1376f87575a361568df4b3d891b5e6388519cfd'},\n",
       "  'classes': 'citation'},\n",
       " {'data': {'source': '9c997827240a47d0df988c0c4a1315d132ce84b0',\n",
       "   'target': 'f1376f87575a361568df4b3d891b5e6388519cfd'},\n",
       "  'classes': 'citation'},\n",
       " {'data': {'source': '9d054caaec9e59a15b30845f81d31dcf95594b87',\n",
       "   'target': 'f1376f87575a361568df4b3d891b5e6388519cfd'},\n",
       "  'classes': 'citation'},\n",
       " {'data': {'source': '9dd063299d04373ed7c0f57e449486cc7775b2aa',\n",
       "   'target': 'f1376f87575a361568df4b3d891b5e6388519cfd'},\n",
       "  'classes': 'citation'},\n",
       " {'data': {'source': 'a1571e4e5aad0ae0a96371a18a61a00b884aef7e',\n",
       "   'target': 'f1376f87575a361568df4b3d891b5e6388519cfd'},\n",
       "  'classes': 'citation'},\n",
       " {'data': {'source': '00b309ad09cc626854f64e2a25ad8bb30aac0cba',\n",
       "   'target': '15f56931cbfc6a0e2296be1cb9fd4d8fe4217781'},\n",
       "  'classes': 'citation'},\n",
       " {'data': {'source': '0887cf468a8dd41633cfd4c5cd4d7f236178699a',\n",
       "   'target': '15f56931cbfc6a0e2296be1cb9fd4d8fe4217781'},\n",
       "  'classes': 'citation'},\n",
       " {'data': {'source': '0c613f8a3e9cc3516bc2f3ae6fa160633a417b4f',\n",
       "   'target': '15f56931cbfc6a0e2296be1cb9fd4d8fe4217781'},\n",
       "  'classes': 'citation'},\n",
       " {'data': {'source': '0d1a18496e13ee183c6ce97e608e66d6cbe9fa0d',\n",
       "   'target': '15f56931cbfc6a0e2296be1cb9fd4d8fe4217781'},\n",
       "  'classes': 'citation'},\n",
       " {'data': {'source': '0ddc985b47c9ec30a1ffd49c026e66522b858397',\n",
       "   'target': '15f56931cbfc6a0e2296be1cb9fd4d8fe4217781'},\n",
       "  'classes': 'citation'},\n",
       " {'data': {'source': '0ea37649c706fae4d8b94d0a2c9523bee60ad09c',\n",
       "   'target': '15f56931cbfc6a0e2296be1cb9fd4d8fe4217781'},\n",
       "  'classes': 'citation'},\n",
       " {'data': {'source': '0f1e3f2ab0145ab19240a0bfda560870c7cbf871',\n",
       "   'target': '15f56931cbfc6a0e2296be1cb9fd4d8fe4217781'},\n",
       "  'classes': 'citation'},\n",
       " {'data': {'source': '1b6017d6f79d0bc22b1c8711c4e9722511598902',\n",
       "   'target': '15f56931cbfc6a0e2296be1cb9fd4d8fe4217781'},\n",
       "  'classes': 'citation'},\n",
       " {'data': {'source': '1cd18efcf7a5190c135d217d094e75f60f0cc182',\n",
       "   'target': '15f56931cbfc6a0e2296be1cb9fd4d8fe4217781'},\n",
       "  'classes': 'citation'},\n",
       " {'data': {'source': '22f8bf6131eef7f0e2b9d8fd4a40e7d426a37a38',\n",
       "   'target': '15f56931cbfc6a0e2296be1cb9fd4d8fe4217781'},\n",
       "  'classes': 'citation'},\n",
       " {'data': {'source': '2671eb431e2389cecf6a42e5623987586ecb9845',\n",
       "   'target': '15f56931cbfc6a0e2296be1cb9fd4d8fe4217781'},\n",
       "  'classes': 'citation'},\n",
       " {'data': {'source': '2830dd89d2e769022c46efded59f571db59d05a8',\n",
       "   'target': '15f56931cbfc6a0e2296be1cb9fd4d8fe4217781'},\n",
       "  'classes': 'citation'},\n",
       " {'data': {'source': '298004ead873695818da75eec4da48669dc4e4cf',\n",
       "   'target': '15f56931cbfc6a0e2296be1cb9fd4d8fe4217781'},\n",
       "  'classes': 'citation'},\n",
       " {'data': {'source': '35a12dc51c0f269562d780b0f63b9989ff266f43',\n",
       "   'target': '15f56931cbfc6a0e2296be1cb9fd4d8fe4217781'},\n",
       "  'classes': 'citation'},\n",
       " {'data': {'source': '36414910b1a9bc936151e9bfeb104895ce78fbfb',\n",
       "   'target': '15f56931cbfc6a0e2296be1cb9fd4d8fe4217781'},\n",
       "  'classes': 'citation'},\n",
       " {'data': {'source': '39263d5b86b71fbbba0fce9f8f1d6c2e7c265760',\n",
       "   'target': '15f56931cbfc6a0e2296be1cb9fd4d8fe4217781'},\n",
       "  'classes': 'citation'},\n",
       " {'data': {'source': '3aef9313f4c3bad6523d3f6ace290d5a239d7cda',\n",
       "   'target': '15f56931cbfc6a0e2296be1cb9fd4d8fe4217781'},\n",
       "  'classes': 'citation'},\n",
       " {'data': {'source': '3ba6da47e9c7b4e4b0a38018dc4d884a66ea60f6',\n",
       "   'target': '15f56931cbfc6a0e2296be1cb9fd4d8fe4217781'},\n",
       "  'classes': 'citation'},\n",
       " {'data': {'source': '40003f9874257c8dd344edbe5cdcd08637a2eec0',\n",
       "   'target': '15f56931cbfc6a0e2296be1cb9fd4d8fe4217781'},\n",
       "  'classes': 'citation'},\n",
       " {'data': {'source': '42a075b4addfd366e3078cbfd0b17bfb97a2f1b0',\n",
       "   'target': '15f56931cbfc6a0e2296be1cb9fd4d8fe4217781'},\n",
       "  'classes': 'citation'},\n",
       " {'data': {'source': '4792e7dd12bfebeb00cbb29d29dd84f07c9a978d',\n",
       "   'target': '15f56931cbfc6a0e2296be1cb9fd4d8fe4217781'},\n",
       "  'classes': 'citation'},\n",
       " {'data': {'source': '4deb2bc682a3b614f1bbb1995e904b81121b5c8f',\n",
       "   'target': '15f56931cbfc6a0e2296be1cb9fd4d8fe4217781'},\n",
       "  'classes': 'citation'},\n",
       " {'data': {'source': '4e4c1e387f423eb28e75fd4ffce0c27c4257054e',\n",
       "   'target': '15f56931cbfc6a0e2296be1cb9fd4d8fe4217781'},\n",
       "  'classes': 'citation'},\n",
       " {'data': {'source': '55ca64372c77eea50dd4f9f7c50ebe0058c6ed2a',\n",
       "   'target': '15f56931cbfc6a0e2296be1cb9fd4d8fe4217781'},\n",
       "  'classes': 'citation'},\n",
       " {'data': {'source': '55fd1fed096de57b1cac15e43df504007da78ec9',\n",
       "   'target': '15f56931cbfc6a0e2296be1cb9fd4d8fe4217781'},\n",
       "  'classes': 'citation'},\n",
       " {'data': {'source': '56b779afcb9e1f44f63e470f97357dcc78bef1b4',\n",
       "   'target': '15f56931cbfc6a0e2296be1cb9fd4d8fe4217781'},\n",
       "  'classes': 'citation'},\n",
       " {'data': {'source': '59073ed0ce1d4f1c839d287a4d23c669b6b9b602',\n",
       "   'target': '15f56931cbfc6a0e2296be1cb9fd4d8fe4217781'},\n",
       "  'classes': 'citation'},\n",
       " {'data': {'source': '5f9860b351020400107f017f0b33dcd74737726e',\n",
       "   'target': '15f56931cbfc6a0e2296be1cb9fd4d8fe4217781'},\n",
       "  'classes': 'citation'},\n",
       " {'data': {'source': '5feaea80fbba7aab2ce1fbbde5bcc084d4b9139b',\n",
       "   'target': '15f56931cbfc6a0e2296be1cb9fd4d8fe4217781'},\n",
       "  'classes': 'citation'},\n",
       " {'data': {'source': '60634ca98701b9df305181ff5945718461c3da84',\n",
       "   'target': '15f56931cbfc6a0e2296be1cb9fd4d8fe4217781'},\n",
       "  'classes': 'citation'},\n",
       " {'data': {'source': '61ef33223ca7afcfa9f23e1eb84815d3f82910d1',\n",
       "   'target': '15f56931cbfc6a0e2296be1cb9fd4d8fe4217781'},\n",
       "  'classes': 'citation'},\n",
       " {'data': {'source': '62e8c9ddf3785370c474a988bb7c5db2db1717a4',\n",
       "   'target': '15f56931cbfc6a0e2296be1cb9fd4d8fe4217781'},\n",
       "  'classes': 'citation'},\n",
       " {'data': {'source': '6376a601bfe1b87af5c96826c4c26bedb54faac0',\n",
       "   'target': '15f56931cbfc6a0e2296be1cb9fd4d8fe4217781'},\n",
       "  'classes': 'citation'},\n",
       " {'data': {'source': '64054e5d7a9ba36c60f8cff5d35eb106f9a69edf',\n",
       "   'target': '15f56931cbfc6a0e2296be1cb9fd4d8fe4217781'},\n",
       "  'classes': 'citation'},\n",
       " {'data': {'source': '661e72a401ea0a08fd9e0125d916c0388f1d8c90',\n",
       "   'target': '15f56931cbfc6a0e2296be1cb9fd4d8fe4217781'},\n",
       "  'classes': 'citation'},\n",
       " {'data': {'source': '691f9bb09e96961dd5430da47d2b92339ff34dcd',\n",
       "   'target': '15f56931cbfc6a0e2296be1cb9fd4d8fe4217781'},\n",
       "  'classes': 'citation'},\n",
       " {'data': {'source': '6ad8f03e941ed97b9dc8c1755a8477b34274fc75',\n",
       "   'target': '15f56931cbfc6a0e2296be1cb9fd4d8fe4217781'},\n",
       "  'classes': 'citation'},\n",
       " {'data': {'source': '6fb0f19662d172428daebf80fae68b0780b5c23e',\n",
       "   'target': '15f56931cbfc6a0e2296be1cb9fd4d8fe4217781'},\n",
       "  'classes': 'citation'},\n",
       " {'data': {'source': '70114ea71934d12ab6ab234d1694e30eed4c02a9',\n",
       "   'target': '15f56931cbfc6a0e2296be1cb9fd4d8fe4217781'},\n",
       "  'classes': 'citation'},\n",
       " {'data': {'source': '71f0cee4a4d848be2561ec3808d0bea28c536494',\n",
       "   'target': '15f56931cbfc6a0e2296be1cb9fd4d8fe4217781'},\n",
       "  'classes': 'citation'},\n",
       " {'data': {'source': '74ac413c133d7b59cc2ac21e98f485a1cf296048',\n",
       "   'target': '15f56931cbfc6a0e2296be1cb9fd4d8fe4217781'},\n",
       "  'classes': 'citation'},\n",
       " {'data': {'source': '79076871f8a959837773b039e00cc81619e0c6e5',\n",
       "   'target': '15f56931cbfc6a0e2296be1cb9fd4d8fe4217781'},\n",
       "  'classes': 'citation'},\n",
       " {'data': {'source': '7aaaea817247518b41d497840675bf0fca5736e4',\n",
       "   'target': '15f56931cbfc6a0e2296be1cb9fd4d8fe4217781'},\n",
       "  'classes': 'citation'},\n",
       " {'data': {'source': '7bf4de67c23bf2c69056485d11e2e57f5d5ac4ea',\n",
       "   'target': '15f56931cbfc6a0e2296be1cb9fd4d8fe4217781'},\n",
       "  'classes': 'citation'},\n",
       " {'data': {'source': '7de7bfb37f22fd457c01ccce8a062b6d5a139fe8',\n",
       "   'target': '15f56931cbfc6a0e2296be1cb9fd4d8fe4217781'},\n",
       "  'classes': 'citation'},\n",
       " {'data': {'source': '7f15ea35e9181b230fad207c44ee106bb84c982d',\n",
       "   'target': '15f56931cbfc6a0e2296be1cb9fd4d8fe4217781'},\n",
       "  'classes': 'citation'},\n",
       " {'data': {'source': '81f5e12957f877e1cc3b886a4891f497fbd15395',\n",
       "   'target': '15f56931cbfc6a0e2296be1cb9fd4d8fe4217781'},\n",
       "  'classes': 'citation'},\n",
       " {'data': {'source': '8865325b1c088a5c0e8e14e34a0fc2ec8ee7d7a2',\n",
       "   'target': '15f56931cbfc6a0e2296be1cb9fd4d8fe4217781'},\n",
       "  'classes': 'citation'},\n",
       " {'data': {'source': '89b549207846c0c48cf48114c16bbe25fcc77105',\n",
       "   'target': '15f56931cbfc6a0e2296be1cb9fd4d8fe4217781'},\n",
       "  'classes': 'citation'},\n",
       " {'data': {'source': '8bf7b24069b472798925162a1a76116e45cdefe2',\n",
       "   'target': '15f56931cbfc6a0e2296be1cb9fd4d8fe4217781'},\n",
       "  'classes': 'citation'},\n",
       " {'data': {'source': '04f7578219fd6b8c6217f7b1477414dcc443a8d2',\n",
       "   'target': '73e782e5532960f9c54cf2219ffdff0afbe5c308'},\n",
       "  'classes': 'citation'},\n",
       " {'data': {'source': '08199d8d6de6ae7d6d50af0cf2d334ecacdc6067',\n",
       "   'target': '73e782e5532960f9c54cf2219ffdff0afbe5c308'},\n",
       "  'classes': 'citation'},\n",
       " {'data': {'source': '0e5ab9a0d7e84b33e627f655777abc5bd3eda272',\n",
       "   'target': '73e782e5532960f9c54cf2219ffdff0afbe5c308'},\n",
       "  'classes': 'citation'},\n",
       " {'data': {'source': '0e97b6c940dd343fd64fa4c8564d73225cf83798',\n",
       "   'target': '73e782e5532960f9c54cf2219ffdff0afbe5c308'},\n",
       "  'classes': 'citation'},\n",
       " {'data': {'source': '0fd000df7d4a4e99b2474f3249f554197ce29c06',\n",
       "   'target': '73e782e5532960f9c54cf2219ffdff0afbe5c308'},\n",
       "  'classes': 'citation'},\n",
       " {'data': {'source': '10ca84dedca98789350f684da22980b925f0e743',\n",
       "   'target': '73e782e5532960f9c54cf2219ffdff0afbe5c308'},\n",
       "  'classes': 'citation'},\n",
       " {'data': {'source': '1805afc9d7ff0fa00bcbd3a6c432d888e341c995',\n",
       "   'target': '73e782e5532960f9c54cf2219ffdff0afbe5c308'},\n",
       "  'classes': 'citation'},\n",
       " {'data': {'source': '1d8a27ece4452f8a2a5881101dfcfbb0e4203dc9',\n",
       "   'target': '73e782e5532960f9c54cf2219ffdff0afbe5c308'},\n",
       "  'classes': 'citation'},\n",
       " {'data': {'source': '20328886e9042f25b3313fe34c2bb7e8ef7195db',\n",
       "   'target': '73e782e5532960f9c54cf2219ffdff0afbe5c308'},\n",
       "  'classes': 'citation'},\n",
       " {'data': {'source': '2a722daf9b22947397e1a96083f56e98ca333b02',\n",
       "   'target': '73e782e5532960f9c54cf2219ffdff0afbe5c308'},\n",
       "  'classes': 'citation'},\n",
       " {'data': {'source': '2ec43f2feebbf947ec55a0294822a276dbed1b9b',\n",
       "   'target': '73e782e5532960f9c54cf2219ffdff0afbe5c308'},\n",
       "  'classes': 'citation'},\n",
       " {'data': {'source': '300ad53f3fa77285a5dfe4e14abbaa83ef942aee',\n",
       "   'target': '73e782e5532960f9c54cf2219ffdff0afbe5c308'},\n",
       "  'classes': 'citation'},\n",
       " {'data': {'source': '3506daaa29a16eac60887b3d4e36844e64ee0e14',\n",
       "   'target': '73e782e5532960f9c54cf2219ffdff0afbe5c308'},\n",
       "  'classes': 'citation'},\n",
       " {'data': {'source': '36d23ffa810754651adb7ef60b52c814ef45d993',\n",
       "   'target': '73e782e5532960f9c54cf2219ffdff0afbe5c308'},\n",
       "  'classes': 'citation'},\n",
       " {'data': {'source': '39ef79b8ea36d54bc21d7ddea1d971b9b6100378',\n",
       "   'target': '73e782e5532960f9c54cf2219ffdff0afbe5c308'},\n",
       "  'classes': 'citation'},\n",
       " {'data': {'source': '3abb4dc5157777554ddc09a887c775acea1fb020',\n",
       "   'target': '73e782e5532960f9c54cf2219ffdff0afbe5c308'},\n",
       "  'classes': 'citation'},\n",
       " {'data': {'source': '3c7955b16e53796afc8a8a35d826786097681b6a',\n",
       "   'target': '73e782e5532960f9c54cf2219ffdff0afbe5c308'},\n",
       "  'classes': 'citation'},\n",
       " {'data': {'source': '3d8999037219a6641d0e7ea07b7233d67af2c152',\n",
       "   'target': '73e782e5532960f9c54cf2219ffdff0afbe5c308'},\n",
       "  'classes': 'citation'},\n",
       " {'data': {'source': '4010eb5e7fb396a95b004207f8e4664ed60d3a1c',\n",
       "   'target': '73e782e5532960f9c54cf2219ffdff0afbe5c308'},\n",
       "  'classes': 'citation'},\n",
       " {'data': {'source': '421b2269e9626ffa4bf4cd5b21d807b888bccc63',\n",
       "   'target': '73e782e5532960f9c54cf2219ffdff0afbe5c308'},\n",
       "  'classes': 'citation'},\n",
       " {'data': {'source': '470c25206c9bbf25d22895d9560fa95981390bf7',\n",
       "   'target': '73e782e5532960f9c54cf2219ffdff0afbe5c308'},\n",
       "  'classes': 'citation'},\n",
       " {'data': {'source': '510425708f045cbfaa979caa370468f5d28508e9',\n",
       "   'target': '73e782e5532960f9c54cf2219ffdff0afbe5c308'},\n",
       "  'classes': 'citation'},\n",
       " {'data': {'source': '594d46a69f42fb8ff08b21125d965a8fc9fc1d23',\n",
       "   'target': '73e782e5532960f9c54cf2219ffdff0afbe5c308'},\n",
       "  'classes': 'citation'},\n",
       " {'data': {'source': '5c5c19406f8f6e4b88e28032c6ab66881bccb274',\n",
       "   'target': '73e782e5532960f9c54cf2219ffdff0afbe5c308'},\n",
       "  'classes': 'citation'},\n",
       " {'data': {'source': '5cc46488196fcde6939b9ef024ba32daaec767b5',\n",
       "   'target': '73e782e5532960f9c54cf2219ffdff0afbe5c308'},\n",
       "  'classes': 'citation'},\n",
       " {'data': {'source': '60d9261d5301847ef4b34425312c34432357cd0b',\n",
       "   'target': '73e782e5532960f9c54cf2219ffdff0afbe5c308'},\n",
       "  'classes': 'citation'},\n",
       " {'data': {'source': '6521adead11e8fd7d5529aeb24d1a2ab922c44be',\n",
       "   'target': '73e782e5532960f9c54cf2219ffdff0afbe5c308'},\n",
       "  'classes': 'citation'},\n",
       " {'data': {'source': '653ecacb3475ebb802f6a46c39dab810636a50ab',\n",
       "   'target': '73e782e5532960f9c54cf2219ffdff0afbe5c308'},\n",
       "  'classes': 'citation'},\n",
       " {'data': {'source': '65da321500bdbf4a396a21cf106a5fdbb1b4561e',\n",
       "   'target': '73e782e5532960f9c54cf2219ffdff0afbe5c308'},\n",
       "  'classes': 'citation'},\n",
       " {'data': {'source': '680947991c734254c56b154eb63a921b75f02e6d',\n",
       "   'target': '73e782e5532960f9c54cf2219ffdff0afbe5c308'},\n",
       "  'classes': 'citation'},\n",
       " {'data': {'source': '6899e2de084dddaf6555b5951ed3ac92a6ce4f95',\n",
       "   'target': '73e782e5532960f9c54cf2219ffdff0afbe5c308'},\n",
       "  'classes': 'citation'},\n",
       " {'data': {'source': '68d9fc69b6aaeef481f12656c10cbebfcf732e99',\n",
       "   'target': '73e782e5532960f9c54cf2219ffdff0afbe5c308'},\n",
       "  'classes': 'citation'},\n",
       " {'data': {'source': '6b1a07bdee83830a945227ae69d40816d123c868',\n",
       "   'target': '73e782e5532960f9c54cf2219ffdff0afbe5c308'},\n",
       "  'classes': 'citation'},\n",
       " {'data': {'source': '6c1f7fae234d5da29d05fc3071e4546208f4b51b',\n",
       "   'target': '73e782e5532960f9c54cf2219ffdff0afbe5c308'},\n",
       "  'classes': 'citation'},\n",
       " {'data': {'source': '738f32d0acf95ed76502b733f7c82504bebb99e6',\n",
       "   'target': '73e782e5532960f9c54cf2219ffdff0afbe5c308'},\n",
       "  'classes': 'citation'},\n",
       " {'data': {'source': '73ff6e34d1d551c5c0d8b2d72980fd836cca5e62',\n",
       "   'target': '73e782e5532960f9c54cf2219ffdff0afbe5c308'},\n",
       "  'classes': 'citation'},\n",
       " {'data': {'source': '7b437ed845bc7f2d31f75d779fa0f4aba3f8d33f',\n",
       "   'target': '73e782e5532960f9c54cf2219ffdff0afbe5c308'},\n",
       "  'classes': 'citation'},\n",
       " {'data': {'source': '85e4fd4b5bb60dd6cd3365c611a99d3a44b01379',\n",
       "   'target': '73e782e5532960f9c54cf2219ffdff0afbe5c308'},\n",
       "  'classes': 'citation'},\n",
       " {'data': {'source': '86340d6c0a3ed96b355fed8aebc98f35ae952425',\n",
       "   'target': '73e782e5532960f9c54cf2219ffdff0afbe5c308'},\n",
       "  'classes': 'citation'},\n",
       " {'data': {'source': '8669cce76d4ed5e2e3f1f8ccb5857618ce16a49f',\n",
       "   'target': '73e782e5532960f9c54cf2219ffdff0afbe5c308'},\n",
       "  'classes': 'citation'},\n",
       " {'data': {'source': '8b36dd1ee2a0e1704da4b341c452e84568a9bd34',\n",
       "   'target': '73e782e5532960f9c54cf2219ffdff0afbe5c308'},\n",
       "  'classes': 'citation'},\n",
       " {'data': {'source': '8d2d4d6ecc1e9a1c66bf77bc88662eb5d394604f',\n",
       "   'target': '73e782e5532960f9c54cf2219ffdff0afbe5c308'},\n",
       "  'classes': 'citation'},\n",
       " {'data': {'source': '8db8be594597a42b3b1c8d980bed8f2e4117e5ee',\n",
       "   'target': '73e782e5532960f9c54cf2219ffdff0afbe5c308'},\n",
       "  'classes': 'citation'},\n",
       " {'data': {'source': '8eb54ec188080b62569bbfe5cb5460ebb820bb3e',\n",
       "   'target': '73e782e5532960f9c54cf2219ffdff0afbe5c308'},\n",
       "  'classes': 'citation'},\n",
       " {'data': {'source': '958b808c4e32488bf9f484c7de0b928ddfe94cff',\n",
       "   'target': '73e782e5532960f9c54cf2219ffdff0afbe5c308'},\n",
       "  'classes': 'citation'},\n",
       " {'data': {'source': '963a99d2df7d26f3707ad9205ab3216a42971345',\n",
       "   'target': '73e782e5532960f9c54cf2219ffdff0afbe5c308'},\n",
       "  'classes': 'citation'},\n",
       " {'data': {'source': '970bb38e444f2d975caa30f281e0a650cdcd16c6',\n",
       "   'target': '73e782e5532960f9c54cf2219ffdff0afbe5c308'},\n",
       "  'classes': 'citation'},\n",
       " {'data': {'source': '9d642c008de62c0c7f340d3c1360a6cf4a36fb87',\n",
       "   'target': '73e782e5532960f9c54cf2219ffdff0afbe5c308'},\n",
       "  'classes': 'citation'},\n",
       " {'data': {'source': '9e01933805e1c64ea2f90f519f80a3949406386b',\n",
       "   'target': '73e782e5532960f9c54cf2219ffdff0afbe5c308'},\n",
       "  'classes': 'citation'},\n",
       " {'data': {'source': 'a35916e51e86dbd15a43ebdc34dd0fe91837ec43',\n",
       "   'target': '73e782e5532960f9c54cf2219ffdff0afbe5c308'},\n",
       "  'classes': 'citation'},\n",
       " {'data': {'source': None,\n",
       "   'target': 'e9040c638702931f009145cf6126874672585e52'},\n",
       "  'classes': 'citation'},\n",
       " {'data': {'source': None,\n",
       "   'target': 'e9040c638702931f009145cf6126874672585e52'},\n",
       "  'classes': 'citation'},\n",
       " {'data': {'source': '0480c5e6312ceb18b5236425805ebd58f9c65c2a',\n",
       "   'target': 'e9040c638702931f009145cf6126874672585e52'},\n",
       "  'classes': 'citation'},\n",
       " {'data': {'source': '0e5ab9a0d7e84b33e627f655777abc5bd3eda272',\n",
       "   'target': 'e9040c638702931f009145cf6126874672585e52'},\n",
       "  'classes': 'citation'},\n",
       " {'data': {'source': '12640897b590da5055fcfd0bc665fc6973406bca',\n",
       "   'target': 'e9040c638702931f009145cf6126874672585e52'},\n",
       "  'classes': 'citation'},\n",
       " {'data': {'source': '1b18d58fc8be0714e3df0b639e9817e3ddf043cd',\n",
       "   'target': 'e9040c638702931f009145cf6126874672585e52'},\n",
       "  'classes': 'citation'},\n",
       " {'data': {'source': '26d0c038064058a0f901cf5123b2e282e9db4500',\n",
       "   'target': 'e9040c638702931f009145cf6126874672585e52'},\n",
       "  'classes': 'citation'},\n",
       " {'data': {'source': '29dd433936371c2c709ce5a1bcadd5179c0936ec',\n",
       "   'target': 'e9040c638702931f009145cf6126874672585e52'},\n",
       "  'classes': 'citation'},\n",
       " {'data': {'source': '2d3c832a64c36291247f39f50f0bc220fc483c3f',\n",
       "   'target': 'e9040c638702931f009145cf6126874672585e52'},\n",
       "  'classes': 'citation'},\n",
       " {'data': {'source': '4667de0a38f617fdda35d23d3a6b41ae051fc47b',\n",
       "   'target': 'e9040c638702931f009145cf6126874672585e52'},\n",
       "  'classes': 'citation'},\n",
       " {'data': {'source': '468f023f1b33578c01eeee77912e37a5146b22a3',\n",
       "   'target': 'e9040c638702931f009145cf6126874672585e52'},\n",
       "  'classes': 'citation'},\n",
       " {'data': {'source': '5d6bd3a8178fe8531df7d567678a3e9084165061',\n",
       "   'target': 'e9040c638702931f009145cf6126874672585e52'},\n",
       "  'classes': 'citation'},\n",
       " {'data': {'source': '5d87819d4c37651635101e47d5c64766ea88152c',\n",
       "   'target': 'e9040c638702931f009145cf6126874672585e52'},\n",
       "  'classes': 'citation'},\n",
       " {'data': {'source': '63fdce676e12f6e9b210a00fcb456c33848ef054',\n",
       "   'target': 'e9040c638702931f009145cf6126874672585e52'},\n",
       "  'classes': 'citation'},\n",
       " {'data': {'source': '673b379bb557306933298e3546846784b2be7020',\n",
       "   'target': 'e9040c638702931f009145cf6126874672585e52'},\n",
       "  'classes': 'citation'},\n",
       " {'data': {'source': '693dd2f835afd4eec2020f27f60e551c91ef4034',\n",
       "   'target': 'e9040c638702931f009145cf6126874672585e52'},\n",
       "  'classes': 'citation'},\n",
       " {'data': {'source': '6951ce3c2d978573c88d031fb94a7616433fad2c',\n",
       "   'target': 'e9040c638702931f009145cf6126874672585e52'},\n",
       "  'classes': 'citation'},\n",
       " {'data': {'source': '6b0adb32efd356d0c3b855e883f4bc4e36ffa4af',\n",
       "   'target': 'e9040c638702931f009145cf6126874672585e52'},\n",
       "  'classes': 'citation'},\n",
       " {'data': {'source': '6b4a05bdae6d8018817a19cf7718e88b29d21d15',\n",
       "   'target': 'e9040c638702931f009145cf6126874672585e52'},\n",
       "  'classes': 'citation'},\n",
       " {'data': {'source': '6c1f7fae234d5da29d05fc3071e4546208f4b51b',\n",
       "   'target': 'e9040c638702931f009145cf6126874672585e52'},\n",
       "  'classes': 'citation'},\n",
       " {'data': {'source': '6dda257a2b0fdb930e5644c9ed093a25aff05272',\n",
       "   'target': 'e9040c638702931f009145cf6126874672585e52'},\n",
       "  'classes': 'citation'},\n",
       " {'data': {'source': '781f36f461f4d7f5607e71a7628d5d9e785f7038',\n",
       "   'target': 'e9040c638702931f009145cf6126874672585e52'},\n",
       "  'classes': 'citation'},\n",
       " {'data': {'source': '7ada44e25dcc2328a7b5ec642a4687bd14f7f2c3',\n",
       "   'target': 'e9040c638702931f009145cf6126874672585e52'},\n",
       "  'classes': 'citation'},\n",
       " {'data': {'source': '7d58270f04c52c237fb93757d8ea913f6e686bb6',\n",
       "   'target': 'e9040c638702931f009145cf6126874672585e52'},\n",
       "  'classes': 'citation'},\n",
       " {'data': {'source': '89a177767c988dc074dce0a55393909a73254cd0',\n",
       "   'target': 'e9040c638702931f009145cf6126874672585e52'},\n",
       "  'classes': 'citation'},\n",
       " {'data': {'source': '8e276f86ee1efd2787e352ee33b86ba937957e75',\n",
       "   'target': 'e9040c638702931f009145cf6126874672585e52'},\n",
       "  'classes': 'citation'},\n",
       " {'data': {'source': '941d37cc16e08ce3541f1c14b4fd2a5faca49784',\n",
       "   'target': 'e9040c638702931f009145cf6126874672585e52'},\n",
       "  'classes': 'citation'},\n",
       " {'data': {'source': 'a94b75d047a731d52de6e56a2cdf4883c1fba506',\n",
       "   'target': 'e9040c638702931f009145cf6126874672585e52'},\n",
       "  'classes': 'citation'},\n",
       " {'data': {'source': 'ab0c27ae6dfdd6f5c71afc93e29ae783405ddeb7',\n",
       "   'target': 'e9040c638702931f009145cf6126874672585e52'},\n",
       "  'classes': 'citation'},\n",
       " {'data': {'source': 'b0507d2d4d3408c7805f27871b0b3eb2a0ac704e',\n",
       "   'target': 'e9040c638702931f009145cf6126874672585e52'},\n",
       "  'classes': 'citation'},\n",
       " {'data': {'source': 'b2907666ed60699611ed646e126c5d9376d19c2a',\n",
       "   'target': 'e9040c638702931f009145cf6126874672585e52'},\n",
       "  'classes': 'citation'},\n",
       " {'data': {'source': 'bc1e2582a8f346c966c79532bbcbd7705f522c2c',\n",
       "   'target': 'e9040c638702931f009145cf6126874672585e52'},\n",
       "  'classes': 'citation'},\n",
       " {'data': {'source': 'c138b7d3e34ecb49d60991875c927749c33b8311',\n",
       "   'target': 'e9040c638702931f009145cf6126874672585e52'},\n",
       "  'classes': 'citation'},\n",
       " {'data': {'source': 'c384a6da9ffbc2f36379e0d70d5acfbd2b9096d7',\n",
       "   'target': 'e9040c638702931f009145cf6126874672585e52'},\n",
       "  'classes': 'citation'},\n",
       " {'data': {'source': 'c5cd4b259e835ecc52c3fe9282f113b99d47a449',\n",
       "   'target': 'e9040c638702931f009145cf6126874672585e52'},\n",
       "  'classes': 'citation'},\n",
       " {'data': {'source': 'cb55df6368aa0e4e0f3ee86cf24530059a8afc4e',\n",
       "   'target': 'e9040c638702931f009145cf6126874672585e52'},\n",
       "  'classes': 'citation'},\n",
       " {'data': {'source': 'cbe8bf436192a970a427bf904fedc615e8d3d67f',\n",
       "   'target': 'e9040c638702931f009145cf6126874672585e52'},\n",
       "  'classes': 'citation'},\n",
       " {'data': {'source': 'cce88f4eeed7c5cf0ef3535becee9949915ceab6',\n",
       "   'target': 'e9040c638702931f009145cf6126874672585e52'},\n",
       "  'classes': 'citation'},\n",
       " {'data': {'source': 'd27586323ccc8af110362df7c0852b03dcd1eef3',\n",
       "   'target': 'e9040c638702931f009145cf6126874672585e52'},\n",
       "  'classes': 'citation'},\n",
       " {'data': {'source': 'da5352653c95b0915f8d1a3f3b1c2c182e20e1e7',\n",
       "   'target': 'e9040c638702931f009145cf6126874672585e52'},\n",
       "  'classes': 'citation'},\n",
       " {'data': {'source': 'dc538b8e19dacb7290b9bfc00f1f272dbd458668',\n",
       "   'target': 'e9040c638702931f009145cf6126874672585e52'},\n",
       "  'classes': 'citation'},\n",
       " {'data': {'source': 'df1b1fe34d677e744881862cd9f4d4fa82ebd570',\n",
       "   'target': 'e9040c638702931f009145cf6126874672585e52'},\n",
       "  'classes': 'citation'},\n",
       " {'data': {'source': 'eceb150eaa5323be0d3fef5e68859495c9dc6b44',\n",
       "   'target': 'e9040c638702931f009145cf6126874672585e52'},\n",
       "  'classes': 'citation'},\n",
       " {'data': {'source': 'f0ba01f7ed760da72103e1e661557729a2cd17ad',\n",
       "   'target': 'e9040c638702931f009145cf6126874672585e52'},\n",
       "  'classes': 'citation'},\n",
       " {'data': {'source': 'fa779fc6a9e9eb80dcdce9b04a451e1c374cf914',\n",
       "   'target': 'e9040c638702931f009145cf6126874672585e52'},\n",
       "  'classes': 'citation'},\n",
       " {'data': {'source': 'fb2c5ae49026f953ed7030d917edcef376fe85e2',\n",
       "   'target': 'e9040c638702931f009145cf6126874672585e52'},\n",
       "  'classes': 'citation'},\n",
       " {'data': {'source': None,\n",
       "   'target': 'e9040c638702931f009145cf6126874672585e52'},\n",
       "  'classes': 'citation'},\n",
       " {'data': {'source': None,\n",
       "   'target': 'e9040c638702931f009145cf6126874672585e52'},\n",
       "  'classes': 'citation'},\n",
       " {'data': {'source': None,\n",
       "   'target': 'e9040c638702931f009145cf6126874672585e52'},\n",
       "  'classes': 'citation'},\n",
       " {'data': {'source': None,\n",
       "   'target': 'e9040c638702931f009145cf6126874672585e52'},\n",
       "  'classes': 'citation'},\n",
       " {'data': {'source': '0028bae87a7b5cc1a730ba4bdcd6f7b9cbaa2d0b',\n",
       "   'target': '0e5ab9a0d7e84b33e627f655777abc5bd3eda272'},\n",
       "  'classes': 'citation'},\n",
       " {'data': {'source': '014ea795a6b241b21646f360378f6cefba4eeb66',\n",
       "   'target': '0e5ab9a0d7e84b33e627f655777abc5bd3eda272'},\n",
       "  'classes': 'citation'},\n",
       " {'data': {'source': '0272fe47aa6c58084222561694484b53109a422a',\n",
       "   'target': '0e5ab9a0d7e84b33e627f655777abc5bd3eda272'},\n",
       "  'classes': 'citation'},\n",
       " {'data': {'source': '04b060a44068d5c37c892003d83314ed53cd87b9',\n",
       "   'target': '0e5ab9a0d7e84b33e627f655777abc5bd3eda272'},\n",
       "  'classes': 'citation'},\n",
       " {'data': {'source': '04f86d47d22a44fd15416b8c2c20741c764f8034',\n",
       "   'target': '0e5ab9a0d7e84b33e627f655777abc5bd3eda272'},\n",
       "  'classes': 'citation'},\n",
       " {'data': {'source': '05cf70d7e2248efeb91f64f84ebc428a7197b38d',\n",
       "   'target': '0e5ab9a0d7e84b33e627f655777abc5bd3eda272'},\n",
       "  'classes': 'citation'},\n",
       " {'data': {'source': '06cce826a299a85fd3f04d2b8ea5c55dce3c0b74',\n",
       "   'target': '0e5ab9a0d7e84b33e627f655777abc5bd3eda272'},\n",
       "  'classes': 'citation'},\n",
       " {'data': {'source': '072a871c5c59f01cbba76dac78eb4e223fd5cbef',\n",
       "   'target': '0e5ab9a0d7e84b33e627f655777abc5bd3eda272'},\n",
       "  'classes': 'citation'},\n",
       " {'data': {'source': '09a4ec0399ae26fe3996e83633c1b9268c04214e',\n",
       "   'target': '0e5ab9a0d7e84b33e627f655777abc5bd3eda272'},\n",
       "  'classes': 'citation'},\n",
       " {'data': {'source': '0a5c756f623971cb22f64a081a53332f449a288f',\n",
       "   'target': '0e5ab9a0d7e84b33e627f655777abc5bd3eda272'},\n",
       "  'classes': 'citation'},\n",
       " {'data': {'source': '0b5099a095d9a76c431ea4214a705aeb14db8330',\n",
       "   'target': '0e5ab9a0d7e84b33e627f655777abc5bd3eda272'},\n",
       "  'classes': 'citation'},\n",
       " {'data': {'source': '0c613f8a3e9cc3516bc2f3ae6fa160633a417b4f',\n",
       "   'target': '0e5ab9a0d7e84b33e627f655777abc5bd3eda272'},\n",
       "  'classes': 'citation'},\n",
       " {'data': {'source': '0e5a55e820a70effaf167667129751152b8487ac',\n",
       "   'target': '0e5ab9a0d7e84b33e627f655777abc5bd3eda272'},\n",
       "  'classes': 'citation'},\n",
       " {'data': {'source': '106f8d12ecd4b65671c653d6129961790e4228f6',\n",
       "   'target': '0e5ab9a0d7e84b33e627f655777abc5bd3eda272'},\n",
       "  'classes': 'citation'},\n",
       " {'data': {'source': '12640897b590da5055fcfd0bc665fc6973406bca',\n",
       "   'target': '0e5ab9a0d7e84b33e627f655777abc5bd3eda272'},\n",
       "  'classes': 'citation'},\n",
       " {'data': {'source': '129df25c98c90077cda0e1a84a597dcfd529727c',\n",
       "   'target': '0e5ab9a0d7e84b33e627f655777abc5bd3eda272'},\n",
       "  'classes': 'citation'},\n",
       " {'data': {'source': '1310be663d7cd5103a60aef6ff6c6fa86b28a581',\n",
       "   'target': '0e5ab9a0d7e84b33e627f655777abc5bd3eda272'},\n",
       "  'classes': 'citation'},\n",
       " {'data': {'source': '1353f385e03c37bd15a412815d50606f1b602a9b',\n",
       "   'target': '0e5ab9a0d7e84b33e627f655777abc5bd3eda272'},\n",
       "  'classes': 'citation'},\n",
       " {'data': {'source': '1362071b35b4f4873ed90ffd6ba9039716e4d271',\n",
       "   'target': '0e5ab9a0d7e84b33e627f655777abc5bd3eda272'},\n",
       "  'classes': 'citation'},\n",
       " {'data': {'source': '13dd9c9c2a89b25687a4900d390f5b2d47134492',\n",
       "   'target': '0e5ab9a0d7e84b33e627f655777abc5bd3eda272'},\n",
       "  'classes': 'citation'},\n",
       " {'data': {'source': '14d6bc4f8d3220343e63b69ded9f19760bcbf537',\n",
       "   'target': '0e5ab9a0d7e84b33e627f655777abc5bd3eda272'},\n",
       "  'classes': 'citation'},\n",
       " {'data': {'source': '15d5aa9edd5d3cb8190d69d88b8c5b77c208b88f',\n",
       "   'target': '0e5ab9a0d7e84b33e627f655777abc5bd3eda272'},\n",
       "  'classes': 'citation'},\n",
       " {'data': {'source': '1620888a2977499668521835a039bc9936d5c732',\n",
       "   'target': '0e5ab9a0d7e84b33e627f655777abc5bd3eda272'},\n",
       "  'classes': 'citation'},\n",
       " {'data': {'source': '16761353a2906e27ef1eb6e0f5d42a3562ab2785',\n",
       "   'target': '0e5ab9a0d7e84b33e627f655777abc5bd3eda272'},\n",
       "  'classes': 'citation'},\n",
       " {'data': {'source': '17d74c22f4b69e72868e3775f64336eba31a44ca',\n",
       "   'target': '0e5ab9a0d7e84b33e627f655777abc5bd3eda272'},\n",
       "  'classes': 'citation'},\n",
       " {'data': {'source': '1868c2eaf37b5c888cbea2277abedc764229bd47',\n",
       "   'target': '0e5ab9a0d7e84b33e627f655777abc5bd3eda272'},\n",
       "  'classes': 'citation'},\n",
       " {'data': {'source': '1876a0a6274a6c7a2d87f3d0a6a3ec2bc2bfd705',\n",
       "   'target': '0e5ab9a0d7e84b33e627f655777abc5bd3eda272'},\n",
       "  'classes': 'citation'},\n",
       " {'data': {'source': '1935abaebef93ceb4b18eaf67c12618a001b26bb',\n",
       "   'target': '0e5ab9a0d7e84b33e627f655777abc5bd3eda272'},\n",
       "  'classes': 'citation'},\n",
       " {'data': {'source': '1b18ca04595d53d7e07f48ab77992f2e232b7a21',\n",
       "   'target': '0e5ab9a0d7e84b33e627f655777abc5bd3eda272'},\n",
       "  'classes': 'citation'},\n",
       " {'data': {'source': '1ba5e3afb4d9e0b461a98d42e76aa2acd255981d',\n",
       "   'target': '0e5ab9a0d7e84b33e627f655777abc5bd3eda272'},\n",
       "  'classes': 'citation'},\n",
       " {'data': {'source': '1dd4af19f84e70d866a8a44226c00e1e0b6a84d0',\n",
       "   'target': '0e5ab9a0d7e84b33e627f655777abc5bd3eda272'},\n",
       "  'classes': 'citation'},\n",
       " {'data': {'source': '1e2d0c6531df868c007c53c22642fada71ec6046',\n",
       "   'target': '0e5ab9a0d7e84b33e627f655777abc5bd3eda272'},\n",
       "  'classes': 'citation'},\n",
       " {'data': {'source': '1e5194236adb0d378a6cc4c22b4568c42f1b00ac',\n",
       "   'target': '0e5ab9a0d7e84b33e627f655777abc5bd3eda272'},\n",
       "  'classes': 'citation'},\n",
       " {'data': {'source': '1e78295943a044c437b81046c348e9d9aa531fee',\n",
       "   'target': '0e5ab9a0d7e84b33e627f655777abc5bd3eda272'},\n",
       "  'classes': 'citation'},\n",
       " {'data': {'source': '1ed879ed0470a9dc19102a549b22397fd5bf941f',\n",
       "   'target': '0e5ab9a0d7e84b33e627f655777abc5bd3eda272'},\n",
       "  'classes': 'citation'},\n",
       " {'data': {'source': '210180765250728132842bff0f154be6d751c212',\n",
       "   'target': '0e5ab9a0d7e84b33e627f655777abc5bd3eda272'},\n",
       "  'classes': 'citation'},\n",
       " {'data': {'source': '2181cede3f6d758d285762ea63d42f6c2d06207a',\n",
       "   'target': '0e5ab9a0d7e84b33e627f655777abc5bd3eda272'},\n",
       "  'classes': 'citation'},\n",
       " {'data': {'source': '223578370778b09d90fb556e7caed07973d4bc48',\n",
       "   'target': '0e5ab9a0d7e84b33e627f655777abc5bd3eda272'},\n",
       "  'classes': 'citation'},\n",
       " {'data': {'source': '224845c0f8e7ecf888d23b46bcbf36c103cd2960',\n",
       "   'target': '0e5ab9a0d7e84b33e627f655777abc5bd3eda272'},\n",
       "  'classes': 'citation'},\n",
       " {'data': {'source': '227386b442c772806a533bf42585e04ce1c59ec6',\n",
       "   'target': '0e5ab9a0d7e84b33e627f655777abc5bd3eda272'},\n",
       "  'classes': 'citation'},\n",
       " {'data': {'source': '24e379db1dd198c22daa0b7a21efede03a084216',\n",
       "   'target': '0e5ab9a0d7e84b33e627f655777abc5bd3eda272'},\n",
       "  'classes': 'citation'},\n",
       " {'data': {'source': '25345a7fedd2e6eb6cf2575cbff309b04f5a1dfa',\n",
       "   'target': '0e5ab9a0d7e84b33e627f655777abc5bd3eda272'},\n",
       "  'classes': 'citation'},\n",
       " {'data': {'source': '2743a48bfe01d8fcdf6eee53aa47d5794f83e789',\n",
       "   'target': '0e5ab9a0d7e84b33e627f655777abc5bd3eda272'},\n",
       "  'classes': 'citation'},\n",
       " {'data': {'source': '2863fd8cebf9d134c2bdfb69dda8eaf8ce4ea948',\n",
       "   'target': '0e5ab9a0d7e84b33e627f655777abc5bd3eda272'},\n",
       "  'classes': 'citation'},\n",
       " {'data': {'source': '29f9661441f126c5ce4712f0465354374d096788',\n",
       "   'target': '0e5ab9a0d7e84b33e627f655777abc5bd3eda272'},\n",
       "  'classes': 'citation'},\n",
       " {'data': {'source': '2beaaa04286846a74d31e0aaa892f6cb2f4d60ff',\n",
       "   'target': '0e5ab9a0d7e84b33e627f655777abc5bd3eda272'},\n",
       "  'classes': 'citation'},\n",
       " {'data': {'source': '2c17e31bb0adc208299b23f16c0f0f912a18b727',\n",
       "   'target': '0e5ab9a0d7e84b33e627f655777abc5bd3eda272'},\n",
       "  'classes': 'citation'},\n",
       " {'data': {'source': '2d538cb94f6bce2a7d3ac9a5657420c1fed071e9',\n",
       "   'target': '0e5ab9a0d7e84b33e627f655777abc5bd3eda272'},\n",
       "  'classes': 'citation'},\n",
       " {'data': {'source': '2da67692236162036d0a6544c0c990b5f1d12052',\n",
       "   'target': '0e5ab9a0d7e84b33e627f655777abc5bd3eda272'},\n",
       "  'classes': 'citation'},\n",
       " {'data': {'source': '2e6235ba83969e7c537a3f0b4c2faeebaf0309ef',\n",
       "   'target': '0e5ab9a0d7e84b33e627f655777abc5bd3eda272'},\n",
       "  'classes': 'citation'},\n",
       " {'data': {'source': '008b507e6c3e084b7674887012dceae3f118c45f',\n",
       "   'target': '9a40cc604ec5720a627103a982df6089fa6298f6'},\n",
       "  'classes': 'citation'},\n",
       " {'data': {'source': '013d7e8dd54feb75ff52370db17e0f14eeb18a0b',\n",
       "   'target': '9a40cc604ec5720a627103a982df6089fa6298f6'},\n",
       "  'classes': 'citation'},\n",
       " {'data': {'source': '03eeb3934a9ae16e0df0ee9c677f3e864790e900',\n",
       "   'target': '9a40cc604ec5720a627103a982df6089fa6298f6'},\n",
       "  'classes': 'citation'},\n",
       " {'data': {'source': '0480c5e6312ceb18b5236425805ebd58f9c65c2a',\n",
       "   'target': '9a40cc604ec5720a627103a982df6089fa6298f6'},\n",
       "  'classes': 'citation'},\n",
       " {'data': {'source': '0c4c5bd1f3d628642c4b6003afef4b6496e17520',\n",
       "   'target': '9a40cc604ec5720a627103a982df6089fa6298f6'},\n",
       "  'classes': 'citation'},\n",
       " {'data': {'source': '157320ed97506107746715aa1a28985e48581989',\n",
       "   'target': '9a40cc604ec5720a627103a982df6089fa6298f6'},\n",
       "  'classes': 'citation'},\n",
       " {'data': {'source': '19a5de2e4a01d611f7cd5ab6c6bdca8293006815',\n",
       "   'target': '9a40cc604ec5720a627103a982df6089fa6298f6'},\n",
       "  'classes': 'citation'},\n",
       " {'data': {'source': '19b1312a017093af64a6ff3497cb0a04a31b804c',\n",
       "   'target': '9a40cc604ec5720a627103a982df6089fa6298f6'},\n",
       "  'classes': 'citation'},\n",
       " {'data': {'source': '1d71730a4bc5d3a57a05ba1a428a46cce59840d2',\n",
       "   'target': '9a40cc604ec5720a627103a982df6089fa6298f6'},\n",
       "  'classes': 'citation'},\n",
       " {'data': {'source': '1e068951f1209fa9169974cae77fe291ac612dd6',\n",
       "   'target': '9a40cc604ec5720a627103a982df6089fa6298f6'},\n",
       "  'classes': 'citation'},\n",
       " {'data': {'source': '225a21aaee29869b851b50ebc0f2eca7b71e1454',\n",
       "   'target': '9a40cc604ec5720a627103a982df6089fa6298f6'},\n",
       "  'classes': 'citation'},\n",
       " {'data': {'source': '3ebaca0302271f04085937d599923f9b065df560',\n",
       "   'target': '9a40cc604ec5720a627103a982df6089fa6298f6'},\n",
       "  'classes': 'citation'},\n",
       " {'data': {'source': '3fc130ee0303c9013b911a2d18fc4f37ae36972a',\n",
       "   'target': '9a40cc604ec5720a627103a982df6089fa6298f6'},\n",
       "  'classes': 'citation'},\n",
       " {'data': {'source': '649d1d8c7534baac9cc831d7d2a3f4d578a21b44',\n",
       "   'target': '9a40cc604ec5720a627103a982df6089fa6298f6'},\n",
       "  'classes': 'citation'},\n",
       " {'data': {'source': '6ee2119a12bddceadd51d25ec44c3fb52b753ba7',\n",
       "   'target': '9a40cc604ec5720a627103a982df6089fa6298f6'},\n",
       "  'classes': 'citation'},\n",
       " {'data': {'source': '7005144a55202fff8b18e7f8760eb83e9dd25f9a',\n",
       "   'target': '9a40cc604ec5720a627103a982df6089fa6298f6'},\n",
       "  'classes': 'citation'},\n",
       " {'data': {'source': '762a63c06aaf644d5ab6cb952992f332d55ea958',\n",
       "   'target': '9a40cc604ec5720a627103a982df6089fa6298f6'},\n",
       "  'classes': 'citation'},\n",
       " {'data': {'source': '7d741f91f8b01cb8c0e6bda889a6c67f281ed605',\n",
       "   'target': '9a40cc604ec5720a627103a982df6089fa6298f6'},\n",
       "  'classes': 'citation'},\n",
       " {'data': {'source': '7e3c44b9e84cabb853e79000df9ecc6b1a0552a2',\n",
       "   'target': '9a40cc604ec5720a627103a982df6089fa6298f6'},\n",
       "  'classes': 'citation'},\n",
       " {'data': {'source': '81afded908d9cde6c143d3fe146d47fc86db6abe',\n",
       "   'target': '9a40cc604ec5720a627103a982df6089fa6298f6'},\n",
       "  'classes': 'citation'},\n",
       " {'data': {'source': '82745994fbfa16914b9569beb9dc61a8efe61f19',\n",
       "   'target': '9a40cc604ec5720a627103a982df6089fa6298f6'},\n",
       "  'classes': 'citation'},\n",
       " {'data': {'source': '85f5a5e897c98aff04d77c619717b443204cfdd0',\n",
       "   'target': '9a40cc604ec5720a627103a982df6089fa6298f6'},\n",
       "  'classes': 'citation'},\n",
       " {'data': {'source': '90f4e6c9ff30540d6a612846afaaac796b1f25af',\n",
       "   'target': '9a40cc604ec5720a627103a982df6089fa6298f6'},\n",
       "  'classes': 'citation'},\n",
       " {'data': {'source': '9e90e5b6219f1b710c9ab367ac9e464043676736',\n",
       "   'target': '9a40cc604ec5720a627103a982df6089fa6298f6'},\n",
       "  'classes': 'citation'},\n",
       " {'data': {'source': 'a8fd2f09e07e47038dd4381d0cf2bdf78ea2b970',\n",
       "   'target': '9a40cc604ec5720a627103a982df6089fa6298f6'},\n",
       "  'classes': 'citation'},\n",
       " {'data': {'source': 'ac8d09f2924771b062b389bec1be88486c62bfeb',\n",
       "   'target': '9a40cc604ec5720a627103a982df6089fa6298f6'},\n",
       "  'classes': 'citation'},\n",
       " {'data': {'source': 'b0e613f674eb404b743e428b6648184fb26bcc60',\n",
       "   'target': '9a40cc604ec5720a627103a982df6089fa6298f6'},\n",
       "  'classes': 'citation'},\n",
       " {'data': {'source': 'b564debdcae85c329a581a9daf1766c23a29665d',\n",
       "   'target': '9a40cc604ec5720a627103a982df6089fa6298f6'},\n",
       "  'classes': 'citation'},\n",
       " {'data': {'source': 'b5fa2983369f33392499249f5bd895b23732e09c',\n",
       "   'target': '9a40cc604ec5720a627103a982df6089fa6298f6'},\n",
       "  'classes': 'citation'},\n",
       " {'data': {'source': 'bca5afa2f4f6de34919f7ba9436c675cffebc146',\n",
       "   'target': '9a40cc604ec5720a627103a982df6089fa6298f6'},\n",
       "  'classes': 'citation'},\n",
       " {'data': {'source': 'c9f911b97c46b921b056ad4770b5e3a8599d8213',\n",
       "   'target': '9a40cc604ec5720a627103a982df6089fa6298f6'},\n",
       "  'classes': 'citation'},\n",
       " {'data': {'source': 'd93759a5b3a9d85841185ee4e021e1781c5bdba2',\n",
       "   'target': '9a40cc604ec5720a627103a982df6089fa6298f6'},\n",
       "  'classes': 'citation'},\n",
       " {'data': {'source': 'dcfe4514afb2179e1db895e75f5f1881119b8771',\n",
       "   'target': '9a40cc604ec5720a627103a982df6089fa6298f6'},\n",
       "  'classes': 'citation'},\n",
       " {'data': {'source': 'df23a6cb74e89fa0e979c4d1a7cc76a94577414a',\n",
       "   'target': '9a40cc604ec5720a627103a982df6089fa6298f6'},\n",
       "  'classes': 'citation'},\n",
       " {'data': {'source': 'e298b34bef8fd0fc4fe011fd39aee5e81d25cb3f',\n",
       "   'target': '9a40cc604ec5720a627103a982df6089fa6298f6'},\n",
       "  'classes': 'citation'},\n",
       " {'data': {'source': 'e65e7b9748627d743694b33c6d3af9ec794a4c8d',\n",
       "   'target': '9a40cc604ec5720a627103a982df6089fa6298f6'},\n",
       "  'classes': 'citation'},\n",
       " {'data': {'source': 'ee035de26abdae3b874bcbe8903b57131a34fd3b',\n",
       "   'target': '9a40cc604ec5720a627103a982df6089fa6298f6'},\n",
       "  'classes': 'citation'},\n",
       " {'data': {'source': 'efff25ecc54882939d81c163e680dde1d4b8644c',\n",
       "   'target': '9a40cc604ec5720a627103a982df6089fa6298f6'},\n",
       "  'classes': 'citation'},\n",
       " {'data': {'source': 'f062f6f78cda7fb97aef96677df54da71cff84b6',\n",
       "   'target': '9a40cc604ec5720a627103a982df6089fa6298f6'},\n",
       "  'classes': 'citation'},\n",
       " {'data': {'source': 'f0bdf4b6426cfac3195c3fb9a139405bb7557cc9',\n",
       "   'target': '9a40cc604ec5720a627103a982df6089fa6298f6'},\n",
       "  'classes': 'citation'},\n",
       " {'data': {'source': 'fb423110e1ba7ebc2d071f780436a50d404bd109',\n",
       "   'target': '9a40cc604ec5720a627103a982df6089fa6298f6'},\n",
       "  'classes': 'citation'},\n",
       " {'data': {'source': None,\n",
       "   'target': '9a40cc604ec5720a627103a982df6089fa6298f6'},\n",
       "  'classes': 'citation'},\n",
       " {'data': {'source': None,\n",
       "   'target': '9a40cc604ec5720a627103a982df6089fa6298f6'},\n",
       "  'classes': 'citation'},\n",
       " {'data': {'source': None,\n",
       "   'target': '9a40cc604ec5720a627103a982df6089fa6298f6'},\n",
       "  'classes': 'citation'},\n",
       " {'data': {'source': None,\n",
       "   'target': '9a40cc604ec5720a627103a982df6089fa6298f6'},\n",
       "  'classes': 'citation'},\n",
       " {'data': {'source': None,\n",
       "   'target': '9a40cc604ec5720a627103a982df6089fa6298f6'},\n",
       "  'classes': 'citation'},\n",
       " {'data': {'source': None,\n",
       "   'target': '9a40cc604ec5720a627103a982df6089fa6298f6'},\n",
       "  'classes': 'citation'},\n",
       " {'data': {'source': None,\n",
       "   'target': '9a40cc604ec5720a627103a982df6089fa6298f6'},\n",
       "  'classes': 'citation'},\n",
       " {'data': {'source': None,\n",
       "   'target': '9a40cc604ec5720a627103a982df6089fa6298f6'},\n",
       "  'classes': 'citation'},\n",
       " {'data': {'source': None,\n",
       "   'target': '9a40cc604ec5720a627103a982df6089fa6298f6'},\n",
       "  'classes': 'citation'},\n",
       " {'data': {'source': '0e5ab9a0d7e84b33e627f655777abc5bd3eda272',\n",
       "   'target': 'be0a6eb06af6231edf9378247ac9e154add68770'},\n",
       "  'classes': 'citation'},\n",
       " {'data': {'source': '0166fd5bbecb3cb04ae0d85e7bf960c76d8e944b',\n",
       "   'target': '8bd506fadaa7c5b5fdfa66d1c61f408395a08067'},\n",
       "  'classes': 'citation'},\n",
       " {'data': {'source': '01a5ba51b3cea1fbd6807350fdf5647311b91788',\n",
       "   'target': '8bd506fadaa7c5b5fdfa66d1c61f408395a08067'},\n",
       "  'classes': 'citation'},\n",
       " {'data': {'source': '039048dfde63b3504289cd4204cef34f83f2e675',\n",
       "   'target': '8bd506fadaa7c5b5fdfa66d1c61f408395a08067'},\n",
       "  'classes': 'citation'},\n",
       " {'data': {'source': '05522fef43b14f7c132a7553740c621b49a8e478',\n",
       "   'target': '8bd506fadaa7c5b5fdfa66d1c61f408395a08067'},\n",
       "  'classes': 'citation'},\n",
       " {'data': {'source': '0571e7fb6731379be6b235f49bb5ff1b38216728',\n",
       "   'target': '8bd506fadaa7c5b5fdfa66d1c61f408395a08067'},\n",
       "  'classes': 'citation'},\n",
       " {'data': {'source': '0770cea4fcb4cef2b394511f9e23210a19add106',\n",
       "   'target': '8bd506fadaa7c5b5fdfa66d1c61f408395a08067'},\n",
       "  'classes': 'citation'},\n",
       " {'data': {'source': '0ac9c03cc596376ded027d795431320eeaed3013',\n",
       "   'target': '8bd506fadaa7c5b5fdfa66d1c61f408395a08067'},\n",
       "  'classes': 'citation'},\n",
       " {'data': {'source': '0ba4b79c72360e309d85898ce3260c21bbdf7ddf',\n",
       "   'target': '8bd506fadaa7c5b5fdfa66d1c61f408395a08067'},\n",
       "  'classes': 'citation'},\n",
       " {'data': {'source': '0c97d521bc1eedccf60d78bd6fc7c386d5c7748d',\n",
       "   'target': '8bd506fadaa7c5b5fdfa66d1c61f408395a08067'},\n",
       "  'classes': 'citation'},\n",
       " {'data': {'source': '0d185ac7bc8faac354902e95b330131105d21880',\n",
       "   'target': '8bd506fadaa7c5b5fdfa66d1c61f408395a08067'},\n",
       "  'classes': 'citation'},\n",
       " {'data': {'source': '107b054697110f8e43d5c379c413686ad1941674',\n",
       "   'target': '8bd506fadaa7c5b5fdfa66d1c61f408395a08067'},\n",
       "  'classes': 'citation'},\n",
       " {'data': {'source': '133c78e96be66a364f9f6e1cee4bd68ed7be6f53',\n",
       "   'target': '8bd506fadaa7c5b5fdfa66d1c61f408395a08067'},\n",
       "  'classes': 'citation'},\n",
       " {'data': {'source': '13d27d08370d6e5f955daf9d4a711e2d75a09e06',\n",
       "   'target': '8bd506fadaa7c5b5fdfa66d1c61f408395a08067'},\n",
       "  'classes': 'citation'},\n",
       " {'data': {'source': '14d64f16cc5cd1afc0d6900aae2dad5c00e1e34b',\n",
       "   'target': '8bd506fadaa7c5b5fdfa66d1c61f408395a08067'},\n",
       "  'classes': 'citation'},\n",
       " {'data': {'source': '14f00de98cbf6810bf3440833ae08021af9511a4',\n",
       "   'target': '8bd506fadaa7c5b5fdfa66d1c61f408395a08067'},\n",
       "  'classes': 'citation'},\n",
       " {'data': {'source': '1606621113b36869bfe3edeb16cf7fa32d3b480a',\n",
       "   'target': '8bd506fadaa7c5b5fdfa66d1c61f408395a08067'},\n",
       "  'classes': 'citation'},\n",
       " {'data': {'source': '176c163e79579c07d2cecbf5be8a38d3a42ef8f6',\n",
       "   'target': '8bd506fadaa7c5b5fdfa66d1c61f408395a08067'},\n",
       "  'classes': 'citation'},\n",
       " {'data': {'source': '17d3cc05d5df182e8153b25cb54cc3cb9880dd04',\n",
       "   'target': '8bd506fadaa7c5b5fdfa66d1c61f408395a08067'},\n",
       "  'classes': 'citation'},\n",
       " {'data': {'source': '181a0eebcb7fba14ff17fb77f6d08e8069b00679',\n",
       "   'target': '8bd506fadaa7c5b5fdfa66d1c61f408395a08067'},\n",
       "  'classes': 'citation'},\n",
       " {'data': {'source': '1c0ee1a2add6820734e56fb40ecc39212ce15050',\n",
       "   'target': '8bd506fadaa7c5b5fdfa66d1c61f408395a08067'},\n",
       "  'classes': 'citation'},\n",
       " {'data': {'source': '1c7fab8f2c288425aac7514f3bcf553c50d7e67b',\n",
       "   'target': '8bd506fadaa7c5b5fdfa66d1c61f408395a08067'},\n",
       "  'classes': 'citation'},\n",
       " {'data': {'source': '1e2b7c00e02e6ddb66319ce86058766d53b53f80',\n",
       "   'target': '8bd506fadaa7c5b5fdfa66d1c61f408395a08067'},\n",
       "  'classes': 'citation'},\n",
       " {'data': {'source': '1e45c90e676bbf880e9df60db2586188d09b532a',\n",
       "   'target': '8bd506fadaa7c5b5fdfa66d1c61f408395a08067'},\n",
       "  'classes': 'citation'},\n",
       " {'data': {'source': '1eb9f88bcf886525b4d46a6eb3f33ea34749e40e',\n",
       "   'target': '8bd506fadaa7c5b5fdfa66d1c61f408395a08067'},\n",
       "  'classes': 'citation'},\n",
       " {'data': {'source': '1f13129f8fabe7d3cebe152fea6b72c5f6a41167',\n",
       "   'target': '8bd506fadaa7c5b5fdfa66d1c61f408395a08067'},\n",
       "  'classes': 'citation'},\n",
       " {'data': {'source': '1fdf39df6be00f8761b761c6124c68cdfa10bbec',\n",
       "   'target': '8bd506fadaa7c5b5fdfa66d1c61f408395a08067'},\n",
       "  'classes': 'citation'},\n",
       " {'data': {'source': '2028e5affdc580abf0824064c27c760f98cda11c',\n",
       "   'target': '8bd506fadaa7c5b5fdfa66d1c61f408395a08067'},\n",
       "  'classes': 'citation'},\n",
       " {'data': {'source': '228d82d3aa192cc7837861f199281aec2ef1eea2',\n",
       "   'target': '8bd506fadaa7c5b5fdfa66d1c61f408395a08067'},\n",
       "  'classes': 'citation'},\n",
       " {'data': {'source': '229f12b46cd78d38693463c1abcb765796b9edbc',\n",
       "   'target': '8bd506fadaa7c5b5fdfa66d1c61f408395a08067'},\n",
       "  'classes': 'citation'},\n",
       " {'data': {'source': '2382b26dbb3017683e0ca0ac9ba08573fbde4540',\n",
       "   'target': '8bd506fadaa7c5b5fdfa66d1c61f408395a08067'},\n",
       "  'classes': 'citation'},\n",
       " {'data': {'source': '23da62bde67103667086f17dd26832d9652b018a',\n",
       "   'target': '8bd506fadaa7c5b5fdfa66d1c61f408395a08067'},\n",
       "  'classes': 'citation'},\n",
       " {'data': {'source': '26379c266d86b2503f946faf09c931bdfddfd10d',\n",
       "   'target': '8bd506fadaa7c5b5fdfa66d1c61f408395a08067'},\n",
       "  'classes': 'citation'},\n",
       " {'data': {'source': '2773ce6c0eaa25cdf400e7713d0bfae9b4a60d30',\n",
       "   'target': '8bd506fadaa7c5b5fdfa66d1c61f408395a08067'},\n",
       "  'classes': 'citation'},\n",
       " {'data': {'source': '2a68d0b1e5b44f13d3c132693ab39ccff5e6ab5e',\n",
       "   'target': '8bd506fadaa7c5b5fdfa66d1c61f408395a08067'},\n",
       "  'classes': 'citation'},\n",
       " {'data': {'source': '2bc796413514a913e1d529d688f37a7d574f3e79',\n",
       "   'target': '8bd506fadaa7c5b5fdfa66d1c61f408395a08067'},\n",
       "  'classes': 'citation'},\n",
       " {'data': {'source': '2c2c513849f236137aef1896c55635cb414881c4',\n",
       "   'target': '8bd506fadaa7c5b5fdfa66d1c61f408395a08067'},\n",
       "  'classes': 'citation'},\n",
       " {'data': {'source': '2c3ce14041dd91fbde4843e1f6b4d5bee6432bb7',\n",
       "   'target': '8bd506fadaa7c5b5fdfa66d1c61f408395a08067'},\n",
       "  'classes': 'citation'},\n",
       " {'data': {'source': '2e07c57de2fc8da338e0060f48ea2f02cbc638f3',\n",
       "   'target': '8bd506fadaa7c5b5fdfa66d1c61f408395a08067'},\n",
       "  'classes': 'citation'},\n",
       " {'data': {'source': '2ff2397bed39174889d7a155ee1431cfc5686734',\n",
       "   'target': '8bd506fadaa7c5b5fdfa66d1c61f408395a08067'},\n",
       "  'classes': 'citation'},\n",
       " {'data': {'source': '30185d6ebbac85fe02824a4a61b1e9264baf6365',\n",
       "   'target': '8bd506fadaa7c5b5fdfa66d1c61f408395a08067'},\n",
       "  'classes': 'citation'},\n",
       " {'data': {'source': '32e7492621c737d7309d8b7a6a19320f7c6eaec3',\n",
       "   'target': '8bd506fadaa7c5b5fdfa66d1c61f408395a08067'},\n",
       "  'classes': 'citation'},\n",
       " {'data': {'source': '33419abe434c5d3765dd1d8b2fb454e7d4245bfa',\n",
       "   'target': '8bd506fadaa7c5b5fdfa66d1c61f408395a08067'},\n",
       "  'classes': 'citation'},\n",
       " {'data': {'source': '33c8c145536ef7c2e193c18871baf42c386f9fc5',\n",
       "   'target': '8bd506fadaa7c5b5fdfa66d1c61f408395a08067'},\n",
       "  'classes': 'citation'},\n",
       " {'data': {'source': '33d0a84b624b0df8450cd54a3b2cef8abc53bdb6',\n",
       "   'target': '8bd506fadaa7c5b5fdfa66d1c61f408395a08067'},\n",
       "  'classes': 'citation'},\n",
       " {'data': {'source': '345731690a4751240719a696734718b70654e518',\n",
       "   'target': '8bd506fadaa7c5b5fdfa66d1c61f408395a08067'},\n",
       "  'classes': 'citation'},\n",
       " {'data': {'source': '34e36913ade6d3fb8cdf96f56adbb796118a6fc7',\n",
       "   'target': '8bd506fadaa7c5b5fdfa66d1c61f408395a08067'},\n",
       "  'classes': 'citation'},\n",
       " {'data': {'source': '36f8df498a7f40ccc375b84cf5593b222d86cd15',\n",
       "   'target': '8bd506fadaa7c5b5fdfa66d1c61f408395a08067'},\n",
       "  'classes': 'citation'},\n",
       " {'data': {'source': '3767a8da3e65ce6cf40f9a3a927f92efee1f5fbe',\n",
       "   'target': '8bd506fadaa7c5b5fdfa66d1c61f408395a08067'},\n",
       "  'classes': 'citation'},\n",
       " {'data': {'source': '38a36740425dea3f17cee7b693e46fe39373f46e',\n",
       "   'target': '8bd506fadaa7c5b5fdfa66d1c61f408395a08067'},\n",
       "  'classes': 'citation'},\n",
       " {'data': {'source': '39a8a76bffac63a91b807b0bae6525adff6aa928',\n",
       "   'target': '8bd506fadaa7c5b5fdfa66d1c61f408395a08067'},\n",
       "  'classes': 'citation'},\n",
       " {'data': {'source': '01f669b97b85eafea07407166e257cc34fd75258',\n",
       "   'target': '36d23ffa810754651adb7ef60b52c814ef45d993'},\n",
       "  'classes': 'citation'},\n",
       " {'data': {'source': '028f295ca73cfb2e75c09a7284e8f5efaccfbb6b',\n",
       "   'target': '36d23ffa810754651adb7ef60b52c814ef45d993'},\n",
       "  'classes': 'citation'},\n",
       " {'data': {'source': '02cb8257f95a6edca7a73affe585fdfd28785036',\n",
       "   'target': '36d23ffa810754651adb7ef60b52c814ef45d993'},\n",
       "  'classes': 'citation'},\n",
       " {'data': {'source': '0566f8a93d311bd7ebcfdd5522403c8e1aecf2ca',\n",
       "   'target': '36d23ffa810754651adb7ef60b52c814ef45d993'},\n",
       "  'classes': 'citation'},\n",
       " {'data': {'source': '059c2c6d4a8da4817f0c626b55fae19720b8f8dc',\n",
       "   'target': '36d23ffa810754651adb7ef60b52c814ef45d993'},\n",
       "  'classes': 'citation'},\n",
       " {'data': {'source': '0c613f8a3e9cc3516bc2f3ae6fa160633a417b4f',\n",
       "   'target': '36d23ffa810754651adb7ef60b52c814ef45d993'},\n",
       "  'classes': 'citation'},\n",
       " {'data': {'source': '0e71e2d6a85d9f4b89c6333ce60dd1faacdded26',\n",
       "   'target': '36d23ffa810754651adb7ef60b52c814ef45d993'},\n",
       "  'classes': 'citation'},\n",
       " {'data': {'source': '10bbe97aacc9c073139baa08a7e57085004299cc',\n",
       "   'target': '36d23ffa810754651adb7ef60b52c814ef45d993'},\n",
       "  'classes': 'citation'},\n",
       " {'data': {'source': '129df25c98c90077cda0e1a84a597dcfd529727c',\n",
       "   'target': '36d23ffa810754651adb7ef60b52c814ef45d993'},\n",
       "  'classes': 'citation'},\n",
       " {'data': {'source': '14ac33a1fb626040f3019947bfe95903ebe46d99',\n",
       "   'target': '36d23ffa810754651adb7ef60b52c814ef45d993'},\n",
       "  'classes': 'citation'},\n",
       " {'data': {'source': '16be05c7d60f4874887160b1baceee81e3d0e002',\n",
       "   'target': '36d23ffa810754651adb7ef60b52c814ef45d993'},\n",
       "  'classes': 'citation'},\n",
       " {'data': {'source': '1a31203f7ba738eb5c63d20827c880fc2d33eba8',\n",
       "   'target': '36d23ffa810754651adb7ef60b52c814ef45d993'},\n",
       "  'classes': 'citation'},\n",
       " {'data': {'source': '1fb0e01ff8c0319576f169fb4d6f9cf154b989f9',\n",
       "   'target': '36d23ffa810754651adb7ef60b52c814ef45d993'},\n",
       "  'classes': 'citation'},\n",
       " {'data': {'source': '201326faac3b314259e249dd64b7b99e8da3bf5f',\n",
       "   'target': '36d23ffa810754651adb7ef60b52c814ef45d993'},\n",
       "  'classes': 'citation'},\n",
       " {'data': {'source': '2178132d563281f67c01f315dcff4216ad423311',\n",
       "   'target': '36d23ffa810754651adb7ef60b52c814ef45d993'},\n",
       "  'classes': 'citation'},\n",
       " {'data': {'source': '286c555a2f15561aa86e59ee2839aaab938aceac',\n",
       "   'target': '36d23ffa810754651adb7ef60b52c814ef45d993'},\n",
       "  'classes': 'citation'},\n",
       " {'data': {'source': '28b004d775a55f8f8ca1c0c4c638ec3ca03fe673',\n",
       "   'target': '36d23ffa810754651adb7ef60b52c814ef45d993'},\n",
       "  'classes': 'citation'},\n",
       " {'data': {'source': '2a4693b5cbdf9c5ea92711d46761c768db011642',\n",
       "   'target': '36d23ffa810754651adb7ef60b52c814ef45d993'},\n",
       "  'classes': 'citation'},\n",
       " {'data': {'source': '2d424d38da550087b314a27f38dc93898d0b093e',\n",
       "   'target': '36d23ffa810754651adb7ef60b52c814ef45d993'},\n",
       "  'classes': 'citation'},\n",
       " {'data': {'source': '2f0d1ec7ce114083e60589ba9ee042e6a9b7550a',\n",
       "   'target': '36d23ffa810754651adb7ef60b52c814ef45d993'},\n",
       "  'classes': 'citation'},\n",
       " {'data': {'source': '30e43a5501881330c6dc92df514cfea37c3514ee',\n",
       "   'target': '36d23ffa810754651adb7ef60b52c814ef45d993'},\n",
       "  'classes': 'citation'},\n",
       " {'data': {'source': '31bdbff04af393d28e628e7f08eeaeb66e686ed9',\n",
       "   'target': '36d23ffa810754651adb7ef60b52c814ef45d993'},\n",
       "  'classes': 'citation'},\n",
       " {'data': {'source': '338625e81e9b5ce80f730e42d8877bac1b3fe3dc',\n",
       "   'target': '36d23ffa810754651adb7ef60b52c814ef45d993'},\n",
       "  'classes': 'citation'},\n",
       " {'data': {'source': '35f3d2a812497a6bab2a1f585f17f7f4d2845cd3',\n",
       "   'target': '36d23ffa810754651adb7ef60b52c814ef45d993'},\n",
       "  'classes': 'citation'},\n",
       " {'data': {'source': '3705287b987f699c1e2110de53aa14b3aa1126e8',\n",
       "   'target': '36d23ffa810754651adb7ef60b52c814ef45d993'},\n",
       "  'classes': 'citation'},\n",
       " {'data': {'source': '3a40526c37e791d9e06e03cb9d9b3338b6028c7a',\n",
       "   'target': '36d23ffa810754651adb7ef60b52c814ef45d993'},\n",
       "  'classes': 'citation'},\n",
       " {'data': {'source': '3a9ea8df3c76100c465d1feba16448d1f7e51c09',\n",
       "   'target': '36d23ffa810754651adb7ef60b52c814ef45d993'},\n",
       "  'classes': 'citation'},\n",
       " {'data': {'source': '3ad93207fa47bb0d62a595d52967e5dc63938b51',\n",
       "   'target': '36d23ffa810754651adb7ef60b52c814ef45d993'},\n",
       "  'classes': 'citation'},\n",
       " {'data': {'source': '3dd83e0569190bc42091877a7e7bbefb2655d664',\n",
       "   'target': '36d23ffa810754651adb7ef60b52c814ef45d993'},\n",
       "  'classes': 'citation'},\n",
       " {'data': {'source': '3fb45e6845ab43478058523f9e3d4bb897886106',\n",
       "   'target': '36d23ffa810754651adb7ef60b52c814ef45d993'},\n",
       "  'classes': 'citation'},\n",
       " {'data': {'source': '40720feed7e50b0dff9fa3d145ceef2c3b058a74',\n",
       "   'target': '36d23ffa810754651adb7ef60b52c814ef45d993'},\n",
       "  'classes': 'citation'},\n",
       " {'data': {'source': '40725dd3c2d1e819988c3c2d52f8b8b5fda8baa1',\n",
       "   'target': '36d23ffa810754651adb7ef60b52c814ef45d993'},\n",
       "  'classes': 'citation'},\n",
       " {'data': {'source': '410d1d892c1961119b50f11d5edbc9585fcfe74c',\n",
       "   'target': '36d23ffa810754651adb7ef60b52c814ef45d993'},\n",
       "  'classes': 'citation'},\n",
       " {'data': {'source': '46921aae97cff08c4c25f94fa0828cb60b00f293',\n",
       "   'target': '36d23ffa810754651adb7ef60b52c814ef45d993'},\n",
       "  'classes': 'citation'},\n",
       " {'data': {'source': '482a64aea935eca6bda8bb0f73af42e05595b569',\n",
       "   'target': '36d23ffa810754651adb7ef60b52c814ef45d993'},\n",
       "  'classes': 'citation'},\n",
       " {'data': {'source': '48d700764cdf32034683209370648828714997a3',\n",
       "   'target': '36d23ffa810754651adb7ef60b52c814ef45d993'},\n",
       "  'classes': 'citation'},\n",
       " {'data': {'source': '4ceed324506f2e6a3d91df8dcefe1f9ee9d126b9',\n",
       "   'target': '36d23ffa810754651adb7ef60b52c814ef45d993'},\n",
       "  'classes': 'citation'},\n",
       " {'data': {'source': '5458fdc35b557adc9a5065db6b8948929ebd7d03',\n",
       "   'target': '36d23ffa810754651adb7ef60b52c814ef45d993'},\n",
       "  'classes': 'citation'},\n",
       " {'data': {'source': '552c2f38ca4aca376cbe3e29d92895d29afd0c52',\n",
       "   'target': '36d23ffa810754651adb7ef60b52c814ef45d993'},\n",
       "  'classes': 'citation'},\n",
       " {'data': {'source': '585a0cf04e4255203e85b110d95c816ace95b715',\n",
       "   'target': '36d23ffa810754651adb7ef60b52c814ef45d993'},\n",
       "  'classes': 'citation'},\n",
       " {'data': {'source': '5b7fcf3b32d14673d54b38d5a2d6e12ebb0be5c9',\n",
       "   'target': '36d23ffa810754651adb7ef60b52c814ef45d993'},\n",
       "  'classes': 'citation'},\n",
       " {'data': {'source': '5d04a1933dabcdfadebb71e037cd7463d62ef90f',\n",
       "   'target': '36d23ffa810754651adb7ef60b52c814ef45d993'},\n",
       "  'classes': 'citation'},\n",
       " {'data': {'source': '617ea69c577c62aa49d624fc94be7d22baddad8a',\n",
       "   'target': '36d23ffa810754651adb7ef60b52c814ef45d993'},\n",
       "  'classes': 'citation'},\n",
       " {'data': {'source': '641255a31bb13ba233286930e782a620a69272e8',\n",
       "   'target': '36d23ffa810754651adb7ef60b52c814ef45d993'},\n",
       "  'classes': 'citation'},\n",
       " {'data': {'source': '6609176c3d75135a27d512729e65dc872e4de8ec',\n",
       "   'target': '36d23ffa810754651adb7ef60b52c814ef45d993'},\n",
       "  'classes': 'citation'},\n",
       " {'data': {'source': '675079b1213ad53779ac10caf6e30bef83e39087',\n",
       "   'target': '36d23ffa810754651adb7ef60b52c814ef45d993'},\n",
       "  'classes': 'citation'},\n",
       " {'data': {'source': '680b0bfaebae4fdb7daf4bba404229a4d9cdd75b',\n",
       "   'target': '36d23ffa810754651adb7ef60b52c814ef45d993'},\n",
       "  'classes': 'citation'},\n",
       " {'data': {'source': '6ce41b696a1511e7ef820c41df3f53eb16680f06',\n",
       "   'target': '36d23ffa810754651adb7ef60b52c814ef45d993'},\n",
       "  'classes': 'citation'},\n",
       " {'data': {'source': '6dfbf3836c38e268427c54a2faa8fda854ac7d7a',\n",
       "   'target': '36d23ffa810754651adb7ef60b52c814ef45d993'},\n",
       "  'classes': 'citation'},\n",
       " {'data': {'source': '6ee09d122bd9136b6221d0906f3bc37a8f5e2a1c',\n",
       "   'target': '36d23ffa810754651adb7ef60b52c814ef45d993'},\n",
       "  'classes': 'citation'},\n",
       " {'data': {'source': '003948b04b07526d123558c8c1271ef94c07933f',\n",
       "   'target': 'a491bc56c596f169dedd8eebc2346a987b277dcc'},\n",
       "  'classes': 'citation'},\n",
       " {'data': {'source': '013d7e8dd54feb75ff52370db17e0f14eeb18a0b',\n",
       "   'target': 'a491bc56c596f169dedd8eebc2346a987b277dcc'},\n",
       "  'classes': 'citation'},\n",
       " {'data': {'source': '015c69dd2d9e24323b0ca7b0ecb4295c88eb8884',\n",
       "   'target': 'a491bc56c596f169dedd8eebc2346a987b277dcc'},\n",
       "  'classes': 'citation'},\n",
       " {'data': {'source': '0b4fa62d952e7b24825c77f61b766a052ee898d2',\n",
       "   'target': 'a491bc56c596f169dedd8eebc2346a987b277dcc'},\n",
       "  'classes': 'citation'},\n",
       " {'data': {'source': '0e16eef9b093d8dad246ea81aba3b9dbaf453ccc',\n",
       "   'target': 'a491bc56c596f169dedd8eebc2346a987b277dcc'},\n",
       "  'classes': 'citation'},\n",
       " {'data': {'source': '101a693d9771e69b14b1b312e2e9efd27ac09bbe',\n",
       "   'target': 'a491bc56c596f169dedd8eebc2346a987b277dcc'},\n",
       "  'classes': 'citation'},\n",
       " {'data': {'source': '129df25c98c90077cda0e1a84a597dcfd529727c',\n",
       "   'target': 'a491bc56c596f169dedd8eebc2346a987b277dcc'},\n",
       "  'classes': 'citation'},\n",
       " {'data': {'source': '13f85a9426bb7d66a0550be4dbf60eea8dfafca2',\n",
       "   'target': 'a491bc56c596f169dedd8eebc2346a987b277dcc'},\n",
       "  'classes': 'citation'},\n",
       " {'data': {'source': '1573dfbc93bec7a435d7575e0538d029b8616454',\n",
       "   'target': 'a491bc56c596f169dedd8eebc2346a987b277dcc'},\n",
       "  'classes': 'citation'},\n",
       " {'data': {'source': '1718901dc2bf0d295e31f4d5f6dea7c3c83675b0',\n",
       "   'target': 'a491bc56c596f169dedd8eebc2346a987b277dcc'},\n",
       "  'classes': 'citation'},\n",
       " {'data': {'source': '1bcc56dae5fa29c001fdb62db5f62deaf89859e2',\n",
       "   'target': 'a491bc56c596f169dedd8eebc2346a987b277dcc'},\n",
       "  'classes': 'citation'},\n",
       " {'data': {'source': '213c7c2e334417fac60d7d041f74ac4454fb5181',\n",
       "   'target': 'a491bc56c596f169dedd8eebc2346a987b277dcc'},\n",
       "  'classes': 'citation'},\n",
       " {'data': {'source': '23ff13a429020cf5c3d27432fde482a2eca68485',\n",
       "   'target': 'a491bc56c596f169dedd8eebc2346a987b277dcc'},\n",
       "  'classes': 'citation'},\n",
       " {'data': {'source': '25827ae9b41054b83ad9e074ada1524b537e0232',\n",
       "   'target': 'a491bc56c596f169dedd8eebc2346a987b277dcc'},\n",
       "  'classes': 'citation'},\n",
       " {'data': {'source': '25a070b4d74e914749f0dd79ad79fb6c22e3cd54',\n",
       "   'target': 'a491bc56c596f169dedd8eebc2346a987b277dcc'},\n",
       "  'classes': 'citation'},\n",
       " {'data': {'source': '27e9c9567138512e137b8e4d7050426ec26d8891',\n",
       "   'target': 'a491bc56c596f169dedd8eebc2346a987b277dcc'},\n",
       "  'classes': 'citation'},\n",
       " {'data': {'source': '2810247ffe757a0215310f5f6d4a62c34f888677',\n",
       "   'target': 'a491bc56c596f169dedd8eebc2346a987b277dcc'},\n",
       "  'classes': 'citation'},\n",
       " {'data': {'source': '2910eedb008025e5a62c826a8d1fb6a2f6feb94d',\n",
       "   'target': 'a491bc56c596f169dedd8eebc2346a987b277dcc'},\n",
       "  'classes': 'citation'},\n",
       " {'data': {'source': '29ea3d6113cf6747274826f14c182c5c5d95b21d',\n",
       "   'target': 'a491bc56c596f169dedd8eebc2346a987b277dcc'},\n",
       "  'classes': 'citation'},\n",
       " {'data': {'source': '2e7026b86929046852a75a4fd51d8fb398e5ffb7',\n",
       "   'target': 'a491bc56c596f169dedd8eebc2346a987b277dcc'},\n",
       "  'classes': 'citation'},\n",
       " {'data': {'source': '2f46729911b95016957f7e27ae9c975b23ff2dfb',\n",
       "   'target': 'a491bc56c596f169dedd8eebc2346a987b277dcc'},\n",
       "  'classes': 'citation'},\n",
       " {'data': {'source': '2ffabc5e0eb4a3196ed006ba72f59086b1b05883',\n",
       "   'target': 'a491bc56c596f169dedd8eebc2346a987b277dcc'},\n",
       "  'classes': 'citation'},\n",
       " {'data': {'source': '32c8b0d65f0d0c7b643159e6c01560b914cc12f7',\n",
       "   'target': 'a491bc56c596f169dedd8eebc2346a987b277dcc'},\n",
       "  'classes': 'citation'},\n",
       " {'data': {'source': '34e7e7a6d7ab7594f9ad5d0912aca50259355f44',\n",
       "   'target': 'a491bc56c596f169dedd8eebc2346a987b277dcc'},\n",
       "  'classes': 'citation'},\n",
       " {'data': {'source': '350ce5624182ee2cdfffa95704b6b7094fed4d69',\n",
       "   'target': 'a491bc56c596f169dedd8eebc2346a987b277dcc'},\n",
       "  'classes': 'citation'},\n",
       " {'data': {'source': '38c0141f9f9b2979b759cd5756906a6d1ef471b4',\n",
       "   'target': 'a491bc56c596f169dedd8eebc2346a987b277dcc'},\n",
       "  'classes': 'citation'},\n",
       " {'data': {'source': '3a4a0afdbfc703dcbbdc113c4106d10008f90904',\n",
       "   'target': 'a491bc56c596f169dedd8eebc2346a987b277dcc'},\n",
       "  'classes': 'citation'},\n",
       " {'data': {'source': '3bcaf3d10c5eaad97bb1e01989a3846039ae6470',\n",
       "   'target': 'a491bc56c596f169dedd8eebc2346a987b277dcc'},\n",
       "  'classes': 'citation'},\n",
       " {'data': {'source': '4143ed534d29b579c4cd2813870c913a4271072c',\n",
       "   'target': 'a491bc56c596f169dedd8eebc2346a987b277dcc'},\n",
       "  'classes': 'citation'},\n",
       " {'data': {'source': '45ce86de3fce5fd914510b4c188f0be663535891',\n",
       "   'target': 'a491bc56c596f169dedd8eebc2346a987b277dcc'},\n",
       "  'classes': 'citation'},\n",
       " {'data': {'source': '462d207d2089a4e648d62e196af52e3708b122b1',\n",
       "   'target': 'a491bc56c596f169dedd8eebc2346a987b277dcc'},\n",
       "  'classes': 'citation'},\n",
       " {'data': {'source': '46b186bf1b0e08a0870b766ea32adbdec9a1e118',\n",
       "   'target': 'a491bc56c596f169dedd8eebc2346a987b277dcc'},\n",
       "  'classes': 'citation'},\n",
       " {'data': {'source': '4ab3abd9e593da338f5298476f8a5cee2b5781bd',\n",
       "   'target': 'a491bc56c596f169dedd8eebc2346a987b277dcc'},\n",
       "  'classes': 'citation'},\n",
       " {'data': {'source': '4ad0a0cc94817cf96a8308812eda0f7df184e1b2',\n",
       "   'target': 'a491bc56c596f169dedd8eebc2346a987b277dcc'},\n",
       "  'classes': 'citation'},\n",
       " {'data': {'source': '4b2c05f9a7fcef0e98b928174932a4a78ba9753d',\n",
       "   'target': 'a491bc56c596f169dedd8eebc2346a987b277dcc'},\n",
       "  'classes': 'citation'},\n",
       " {'data': {'source': '4e4e0c34f57990a0ef876cac4108f98fcf12c6de',\n",
       "   'target': 'a491bc56c596f169dedd8eebc2346a987b277dcc'},\n",
       "  'classes': 'citation'},\n",
       " {'data': {'source': '4f0e4a6639de9bab3558193f9497166bd26e2697',\n",
       "   'target': 'a491bc56c596f169dedd8eebc2346a987b277dcc'},\n",
       "  'classes': 'citation'},\n",
       " {'data': {'source': '510425708f045cbfaa979caa370468f5d28508e9',\n",
       "   'target': 'a491bc56c596f169dedd8eebc2346a987b277dcc'},\n",
       "  'classes': 'citation'},\n",
       " {'data': {'source': '53930b3b0cb99645c94db4e80e6ad6f347fbc238',\n",
       "   'target': 'a491bc56c596f169dedd8eebc2346a987b277dcc'},\n",
       "  'classes': 'citation'},\n",
       " {'data': {'source': '54c4028959acca68035111a10c0ffb0912993eea',\n",
       "   'target': 'a491bc56c596f169dedd8eebc2346a987b277dcc'},\n",
       "  'classes': 'citation'},\n",
       " {'data': {'source': '552c2f38ca4aca376cbe3e29d92895d29afd0c52',\n",
       "   'target': 'a491bc56c596f169dedd8eebc2346a987b277dcc'},\n",
       "  'classes': 'citation'},\n",
       " {'data': {'source': '56c301de3158bf39600ece862180a07f945d320b',\n",
       "   'target': 'a491bc56c596f169dedd8eebc2346a987b277dcc'},\n",
       "  'classes': 'citation'},\n",
       " {'data': {'source': '57c231454ba662e048ca54547d7581ccac6d3180',\n",
       "   'target': 'a491bc56c596f169dedd8eebc2346a987b277dcc'},\n",
       "  'classes': 'citation'},\n",
       " {'data': {'source': '5ad5d4a2fa569247a4c4a322c1307a566e2ef495',\n",
       "   'target': 'a491bc56c596f169dedd8eebc2346a987b277dcc'},\n",
       "  'classes': 'citation'},\n",
       " {'data': {'source': '5ec38b2d1072268d69bd2863cd0fb1c68d169bdc',\n",
       "   'target': 'a491bc56c596f169dedd8eebc2346a987b277dcc'},\n",
       "  'classes': 'citation'},\n",
       " {'data': {'source': '5ee6e2eab75767d10084c2a975f2826ea7b83c26',\n",
       "   'target': 'a491bc56c596f169dedd8eebc2346a987b277dcc'},\n",
       "  'classes': 'citation'},\n",
       " {'data': {'source': '5f7d7ddd39b26327b1d6b3d39b7e4a25e491102d',\n",
       "   'target': 'a491bc56c596f169dedd8eebc2346a987b277dcc'},\n",
       "  'classes': 'citation'},\n",
       " {'data': {'source': '610b471317b8f973b499708f14d318f9143efa7b',\n",
       "   'target': 'a491bc56c596f169dedd8eebc2346a987b277dcc'},\n",
       "  'classes': 'citation'},\n",
       " {'data': {'source': '62f002b531ea1be0fb669783dbaa2d7d0c72e992',\n",
       "   'target': 'a491bc56c596f169dedd8eebc2346a987b277dcc'},\n",
       "  'classes': 'citation'},\n",
       " {'data': {'source': '6479c0e44ab143679d2337e9b726d6196d8dfa0b',\n",
       "   'target': 'a491bc56c596f169dedd8eebc2346a987b277dcc'},\n",
       "  'classes': 'citation'}]"
      ]
     },
     "execution_count": 134,
     "metadata": {},
     "output_type": "execute_result"
    }
   ],
   "source": [
    "generate_graph_elements_network(all_references_df, results_df)"
   ]
  },
  {
   "cell_type": "code",
   "execution_count": 129,
   "id": "31f9a9c4",
   "metadata": {},
   "outputs": [],
   "source": [
    "def get_paper_info(paper_id):\n",
    "    url = f\"https://api.semanticscholar.org/graph/v1/paper/{paper_id}?fields=paperId,title,url,abstract,venue,year,referenceCount,citationCount,isOpenAccess,fieldsOfStudy\"\n",
    "    response = requests.get(url).json()\n",
    "    return response"
   ]
  }
 ],
 "metadata": {
  "kernelspec": {
   "display_name": "Python 3",
   "language": "python",
   "name": "python3"
  },
  "language_info": {
   "codemirror_mode": {
    "name": "ipython",
    "version": 3
   },
   "file_extension": ".py",
   "mimetype": "text/x-python",
   "name": "python",
   "nbconvert_exporter": "python",
   "pygments_lexer": "ipython3",
   "version": "3.8.6"
  },
  "toc": {
   "base_numbering": 1,
   "nav_menu": {},
   "number_sections": true,
   "sideBar": true,
   "skip_h1_title": false,
   "title_cell": "Table of Contents",
   "title_sidebar": "Contents",
   "toc_cell": false,
   "toc_position": {},
   "toc_section_display": true,
   "toc_window_display": false
  }
 },
 "nbformat": 4,
 "nbformat_minor": 5
}
