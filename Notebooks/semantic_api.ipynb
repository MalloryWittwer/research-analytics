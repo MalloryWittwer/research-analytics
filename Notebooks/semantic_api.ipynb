{
 "cells": [
  {
   "cell_type": "markdown",
   "id": "a624bda1",
   "metadata": {
    "heading_collapsed": true
   },
   "source": [
    "# Test `semantic_api()`"
   ]
  },
  {
   "cell_type": "code",
   "execution_count": 65,
   "id": "eb4ecf49",
   "metadata": {
    "hidden": true
   },
   "outputs": [
    {
     "name": "stdout",
     "output_type": "stream",
     "text": [
      "The autoreload extension is already loaded. To reload it, use:\n",
      "  %reload_ext autoreload\n"
     ]
    }
   ],
   "source": [
    "import pandas as pd\n",
    "from datetime import date\n",
    "from collections import Counter\n",
    "\n",
    "from startupjh import utils\n",
    "from startupjh import plots\n",
    "from startupjh.data_collection import consolidated_df\n",
    "from startupjh.data_preprocessing import data_preprocess\n",
    "from startupjh.data_preprocessing import data_cleaning, data_enrichment\n",
    "from startupjh.data_collection import semantic_api\n",
    "\n",
    "import plotly.graph_objs as go\n",
    "import plotly.express as px\n",
    "\n",
    "%load_ext autoreload\n",
    "\n",
    "%autoreload 2"
   ]
  },
  {
   "cell_type": "code",
   "execution_count": 52,
   "id": "75add7ce",
   "metadata": {
    "hidden": true
   },
   "outputs": [
    {
     "name": "stdout",
     "output_type": "stream",
     "text": [
      "Enter key words: mars biosignature\n"
     ]
    }
   ],
   "source": [
    "results_df, all_references_df, total_results, query = semantic_api.get_all_results_from_semantic_scholar()"
   ]
  },
  {
   "cell_type": "code",
   "execution_count": 55,
   "id": "bf8d8759",
   "metadata": {
    "hidden": true
   },
   "outputs": [
    {
     "data": {
      "application/vnd.plotly.v1+json": {
       "config": {
        "plotlyServerURL": "https://plot.ly"
       },
       "data": [
        {
         "customdata": [
          [
           false
          ],
          [
           true
          ]
         ],
         "domain": {
          "x": [
           0,
           1
          ],
          "y": [
           0,
           1
          ]
         },
         "hovertemplate": "isOpenAccess=%{customdata[0]}<br>title=%{value}<extra></extra>",
         "labels": [
          false,
          true
         ],
         "legendgroup": "",
         "marker": {
          "colors": [
           "#ab63fa",
           "#FFA15A"
          ]
         },
         "name": "",
         "showlegend": true,
         "type": "pie",
         "values": [
          36,
          14
         ]
        }
       ],
       "layout": {
        "font": {
         "color": "white",
         "family": "Courier New, monospace",
         "size": 14
        },
        "legend": {
         "tracegroupgap": 0
        },
        "margin": {
         "t": 60
        },
        "paper_bgcolor": "#101126",
        "plot_bgcolor": "#101126",
        "template": {
         "data": {
          "bar": [
           {
            "error_x": {
             "color": "#2a3f5f"
            },
            "error_y": {
             "color": "#2a3f5f"
            },
            "marker": {
             "line": {
              "color": "#E5ECF6",
              "width": 0.5
             }
            },
            "type": "bar"
           }
          ],
          "barpolar": [
           {
            "marker": {
             "line": {
              "color": "#E5ECF6",
              "width": 0.5
             }
            },
            "type": "barpolar"
           }
          ],
          "carpet": [
           {
            "aaxis": {
             "endlinecolor": "#2a3f5f",
             "gridcolor": "white",
             "linecolor": "white",
             "minorgridcolor": "white",
             "startlinecolor": "#2a3f5f"
            },
            "baxis": {
             "endlinecolor": "#2a3f5f",
             "gridcolor": "white",
             "linecolor": "white",
             "minorgridcolor": "white",
             "startlinecolor": "#2a3f5f"
            },
            "type": "carpet"
           }
          ],
          "choropleth": [
           {
            "colorbar": {
             "outlinewidth": 0,
             "ticks": ""
            },
            "type": "choropleth"
           }
          ],
          "contour": [
           {
            "colorbar": {
             "outlinewidth": 0,
             "ticks": ""
            },
            "colorscale": [
             [
              0,
              "#0d0887"
             ],
             [
              0.1111111111111111,
              "#46039f"
             ],
             [
              0.2222222222222222,
              "#7201a8"
             ],
             [
              0.3333333333333333,
              "#9c179e"
             ],
             [
              0.4444444444444444,
              "#bd3786"
             ],
             [
              0.5555555555555556,
              "#d8576b"
             ],
             [
              0.6666666666666666,
              "#ed7953"
             ],
             [
              0.7777777777777778,
              "#fb9f3a"
             ],
             [
              0.8888888888888888,
              "#fdca26"
             ],
             [
              1,
              "#f0f921"
             ]
            ],
            "type": "contour"
           }
          ],
          "contourcarpet": [
           {
            "colorbar": {
             "outlinewidth": 0,
             "ticks": ""
            },
            "type": "contourcarpet"
           }
          ],
          "heatmap": [
           {
            "colorbar": {
             "outlinewidth": 0,
             "ticks": ""
            },
            "colorscale": [
             [
              0,
              "#0d0887"
             ],
             [
              0.1111111111111111,
              "#46039f"
             ],
             [
              0.2222222222222222,
              "#7201a8"
             ],
             [
              0.3333333333333333,
              "#9c179e"
             ],
             [
              0.4444444444444444,
              "#bd3786"
             ],
             [
              0.5555555555555556,
              "#d8576b"
             ],
             [
              0.6666666666666666,
              "#ed7953"
             ],
             [
              0.7777777777777778,
              "#fb9f3a"
             ],
             [
              0.8888888888888888,
              "#fdca26"
             ],
             [
              1,
              "#f0f921"
             ]
            ],
            "type": "heatmap"
           }
          ],
          "heatmapgl": [
           {
            "colorbar": {
             "outlinewidth": 0,
             "ticks": ""
            },
            "colorscale": [
             [
              0,
              "#0d0887"
             ],
             [
              0.1111111111111111,
              "#46039f"
             ],
             [
              0.2222222222222222,
              "#7201a8"
             ],
             [
              0.3333333333333333,
              "#9c179e"
             ],
             [
              0.4444444444444444,
              "#bd3786"
             ],
             [
              0.5555555555555556,
              "#d8576b"
             ],
             [
              0.6666666666666666,
              "#ed7953"
             ],
             [
              0.7777777777777778,
              "#fb9f3a"
             ],
             [
              0.8888888888888888,
              "#fdca26"
             ],
             [
              1,
              "#f0f921"
             ]
            ],
            "type": "heatmapgl"
           }
          ],
          "histogram": [
           {
            "marker": {
             "colorbar": {
              "outlinewidth": 0,
              "ticks": ""
             }
            },
            "type": "histogram"
           }
          ],
          "histogram2d": [
           {
            "colorbar": {
             "outlinewidth": 0,
             "ticks": ""
            },
            "colorscale": [
             [
              0,
              "#0d0887"
             ],
             [
              0.1111111111111111,
              "#46039f"
             ],
             [
              0.2222222222222222,
              "#7201a8"
             ],
             [
              0.3333333333333333,
              "#9c179e"
             ],
             [
              0.4444444444444444,
              "#bd3786"
             ],
             [
              0.5555555555555556,
              "#d8576b"
             ],
             [
              0.6666666666666666,
              "#ed7953"
             ],
             [
              0.7777777777777778,
              "#fb9f3a"
             ],
             [
              0.8888888888888888,
              "#fdca26"
             ],
             [
              1,
              "#f0f921"
             ]
            ],
            "type": "histogram2d"
           }
          ],
          "histogram2dcontour": [
           {
            "colorbar": {
             "outlinewidth": 0,
             "ticks": ""
            },
            "colorscale": [
             [
              0,
              "#0d0887"
             ],
             [
              0.1111111111111111,
              "#46039f"
             ],
             [
              0.2222222222222222,
              "#7201a8"
             ],
             [
              0.3333333333333333,
              "#9c179e"
             ],
             [
              0.4444444444444444,
              "#bd3786"
             ],
             [
              0.5555555555555556,
              "#d8576b"
             ],
             [
              0.6666666666666666,
              "#ed7953"
             ],
             [
              0.7777777777777778,
              "#fb9f3a"
             ],
             [
              0.8888888888888888,
              "#fdca26"
             ],
             [
              1,
              "#f0f921"
             ]
            ],
            "type": "histogram2dcontour"
           }
          ],
          "mesh3d": [
           {
            "colorbar": {
             "outlinewidth": 0,
             "ticks": ""
            },
            "type": "mesh3d"
           }
          ],
          "parcoords": [
           {
            "line": {
             "colorbar": {
              "outlinewidth": 0,
              "ticks": ""
             }
            },
            "type": "parcoords"
           }
          ],
          "pie": [
           {
            "automargin": true,
            "type": "pie"
           }
          ],
          "scatter": [
           {
            "marker": {
             "colorbar": {
              "outlinewidth": 0,
              "ticks": ""
             }
            },
            "type": "scatter"
           }
          ],
          "scatter3d": [
           {
            "line": {
             "colorbar": {
              "outlinewidth": 0,
              "ticks": ""
             }
            },
            "marker": {
             "colorbar": {
              "outlinewidth": 0,
              "ticks": ""
             }
            },
            "type": "scatter3d"
           }
          ],
          "scattercarpet": [
           {
            "marker": {
             "colorbar": {
              "outlinewidth": 0,
              "ticks": ""
             }
            },
            "type": "scattercarpet"
           }
          ],
          "scattergeo": [
           {
            "marker": {
             "colorbar": {
              "outlinewidth": 0,
              "ticks": ""
             }
            },
            "type": "scattergeo"
           }
          ],
          "scattergl": [
           {
            "marker": {
             "colorbar": {
              "outlinewidth": 0,
              "ticks": ""
             }
            },
            "type": "scattergl"
           }
          ],
          "scattermapbox": [
           {
            "marker": {
             "colorbar": {
              "outlinewidth": 0,
              "ticks": ""
             }
            },
            "type": "scattermapbox"
           }
          ],
          "scatterpolar": [
           {
            "marker": {
             "colorbar": {
              "outlinewidth": 0,
              "ticks": ""
             }
            },
            "type": "scatterpolar"
           }
          ],
          "scatterpolargl": [
           {
            "marker": {
             "colorbar": {
              "outlinewidth": 0,
              "ticks": ""
             }
            },
            "type": "scatterpolargl"
           }
          ],
          "scatterternary": [
           {
            "marker": {
             "colorbar": {
              "outlinewidth": 0,
              "ticks": ""
             }
            },
            "type": "scatterternary"
           }
          ],
          "surface": [
           {
            "colorbar": {
             "outlinewidth": 0,
             "ticks": ""
            },
            "colorscale": [
             [
              0,
              "#0d0887"
             ],
             [
              0.1111111111111111,
              "#46039f"
             ],
             [
              0.2222222222222222,
              "#7201a8"
             ],
             [
              0.3333333333333333,
              "#9c179e"
             ],
             [
              0.4444444444444444,
              "#bd3786"
             ],
             [
              0.5555555555555556,
              "#d8576b"
             ],
             [
              0.6666666666666666,
              "#ed7953"
             ],
             [
              0.7777777777777778,
              "#fb9f3a"
             ],
             [
              0.8888888888888888,
              "#fdca26"
             ],
             [
              1,
              "#f0f921"
             ]
            ],
            "type": "surface"
           }
          ],
          "table": [
           {
            "cells": {
             "fill": {
              "color": "#EBF0F8"
             },
             "line": {
              "color": "white"
             }
            },
            "header": {
             "fill": {
              "color": "#C8D4E3"
             },
             "line": {
              "color": "white"
             }
            },
            "type": "table"
           }
          ]
         },
         "layout": {
          "annotationdefaults": {
           "arrowcolor": "#2a3f5f",
           "arrowhead": 0,
           "arrowwidth": 1
          },
          "autotypenumbers": "strict",
          "coloraxis": {
           "colorbar": {
            "outlinewidth": 0,
            "ticks": ""
           }
          },
          "colorscale": {
           "diverging": [
            [
             0,
             "#8e0152"
            ],
            [
             0.1,
             "#c51b7d"
            ],
            [
             0.2,
             "#de77ae"
            ],
            [
             0.3,
             "#f1b6da"
            ],
            [
             0.4,
             "#fde0ef"
            ],
            [
             0.5,
             "#f7f7f7"
            ],
            [
             0.6,
             "#e6f5d0"
            ],
            [
             0.7,
             "#b8e186"
            ],
            [
             0.8,
             "#7fbc41"
            ],
            [
             0.9,
             "#4d9221"
            ],
            [
             1,
             "#276419"
            ]
           ],
           "sequential": [
            [
             0,
             "#0d0887"
            ],
            [
             0.1111111111111111,
             "#46039f"
            ],
            [
             0.2222222222222222,
             "#7201a8"
            ],
            [
             0.3333333333333333,
             "#9c179e"
            ],
            [
             0.4444444444444444,
             "#bd3786"
            ],
            [
             0.5555555555555556,
             "#d8576b"
            ],
            [
             0.6666666666666666,
             "#ed7953"
            ],
            [
             0.7777777777777778,
             "#fb9f3a"
            ],
            [
             0.8888888888888888,
             "#fdca26"
            ],
            [
             1,
             "#f0f921"
            ]
           ],
           "sequentialminus": [
            [
             0,
             "#0d0887"
            ],
            [
             0.1111111111111111,
             "#46039f"
            ],
            [
             0.2222222222222222,
             "#7201a8"
            ],
            [
             0.3333333333333333,
             "#9c179e"
            ],
            [
             0.4444444444444444,
             "#bd3786"
            ],
            [
             0.5555555555555556,
             "#d8576b"
            ],
            [
             0.6666666666666666,
             "#ed7953"
            ],
            [
             0.7777777777777778,
             "#fb9f3a"
            ],
            [
             0.8888888888888888,
             "#fdca26"
            ],
            [
             1,
             "#f0f921"
            ]
           ]
          },
          "colorway": [
           "#636efa",
           "#EF553B",
           "#00cc96",
           "#ab63fa",
           "#FFA15A",
           "#19d3f3",
           "#FF6692",
           "#B6E880",
           "#FF97FF",
           "#FECB52"
          ],
          "font": {
           "color": "#2a3f5f"
          },
          "geo": {
           "bgcolor": "white",
           "lakecolor": "white",
           "landcolor": "#E5ECF6",
           "showlakes": true,
           "showland": true,
           "subunitcolor": "white"
          },
          "hoverlabel": {
           "align": "left"
          },
          "hovermode": "closest",
          "mapbox": {
           "style": "light"
          },
          "paper_bgcolor": "white",
          "plot_bgcolor": "#E5ECF6",
          "polar": {
           "angularaxis": {
            "gridcolor": "white",
            "linecolor": "white",
            "ticks": ""
           },
           "bgcolor": "#E5ECF6",
           "radialaxis": {
            "gridcolor": "white",
            "linecolor": "white",
            "ticks": ""
           }
          },
          "scene": {
           "xaxis": {
            "backgroundcolor": "#E5ECF6",
            "gridcolor": "white",
            "gridwidth": 2,
            "linecolor": "white",
            "showbackground": true,
            "ticks": "",
            "zerolinecolor": "white"
           },
           "yaxis": {
            "backgroundcolor": "#E5ECF6",
            "gridcolor": "white",
            "gridwidth": 2,
            "linecolor": "white",
            "showbackground": true,
            "ticks": "",
            "zerolinecolor": "white"
           },
           "zaxis": {
            "backgroundcolor": "#E5ECF6",
            "gridcolor": "white",
            "gridwidth": 2,
            "linecolor": "white",
            "showbackground": true,
            "ticks": "",
            "zerolinecolor": "white"
           }
          },
          "shapedefaults": {
           "line": {
            "color": "#2a3f5f"
           }
          },
          "ternary": {
           "aaxis": {
            "gridcolor": "white",
            "linecolor": "white",
            "ticks": ""
           },
           "baxis": {
            "gridcolor": "white",
            "linecolor": "white",
            "ticks": ""
           },
           "bgcolor": "#E5ECF6",
           "caxis": {
            "gridcolor": "white",
            "linecolor": "white",
            "ticks": ""
           }
          },
          "title": {
           "x": 0.05
          },
          "xaxis": {
           "automargin": true,
           "gridcolor": "white",
           "linecolor": "white",
           "ticks": "",
           "title": {
            "standoff": 15
           },
           "zerolinecolor": "white",
           "zerolinewidth": 2
          },
          "yaxis": {
           "automargin": true,
           "gridcolor": "white",
           "linecolor": "white",
           "ticks": "",
           "title": {
            "standoff": 15
           },
           "zerolinecolor": "white",
           "zerolinewidth": 2
          }
         }
        },
        "title": {
         "text": "<span style='font-size: 22px;'><b>Open access publications<b></span>",
         "x": 0.5
        }
       }
      },
      "text/html": [
       "<div>                            <div id=\"024404bc-cf9b-4a2e-8ed6-74318e63093a\" class=\"plotly-graph-div\" style=\"height:525px; width:100%;\"></div>            <script type=\"text/javascript\">                require([\"plotly\"], function(Plotly) {                    window.PLOTLYENV=window.PLOTLYENV || {};                                    if (document.getElementById(\"024404bc-cf9b-4a2e-8ed6-74318e63093a\")) {                    Plotly.newPlot(                        \"024404bc-cf9b-4a2e-8ed6-74318e63093a\",                        [{\"customdata\": [[false], [true]], \"domain\": {\"x\": [0.0, 1.0], \"y\": [0.0, 1.0]}, \"hovertemplate\": \"isOpenAccess=%{customdata[0]}<br>title=%{value}<extra></extra>\", \"labels\": [false, true], \"legendgroup\": \"\", \"marker\": {\"colors\": [\"#ab63fa\", \"#FFA15A\"]}, \"name\": \"\", \"showlegend\": true, \"type\": \"pie\", \"values\": [36, 14]}],                        {\"font\": {\"color\": \"white\", \"family\": \"Courier New, monospace\", \"size\": 14}, \"legend\": {\"tracegroupgap\": 0}, \"margin\": {\"t\": 60}, \"paper_bgcolor\": \"#101126\", \"plot_bgcolor\": \"#101126\", \"template\": {\"data\": {\"bar\": [{\"error_x\": {\"color\": \"#2a3f5f\"}, \"error_y\": {\"color\": \"#2a3f5f\"}, \"marker\": {\"line\": {\"color\": \"#E5ECF6\", \"width\": 0.5}}, \"type\": \"bar\"}], \"barpolar\": [{\"marker\": {\"line\": {\"color\": \"#E5ECF6\", \"width\": 0.5}}, \"type\": \"barpolar\"}], \"carpet\": [{\"aaxis\": {\"endlinecolor\": \"#2a3f5f\", \"gridcolor\": \"white\", \"linecolor\": \"white\", \"minorgridcolor\": \"white\", \"startlinecolor\": \"#2a3f5f\"}, \"baxis\": {\"endlinecolor\": \"#2a3f5f\", \"gridcolor\": \"white\", \"linecolor\": \"white\", \"minorgridcolor\": \"white\", \"startlinecolor\": \"#2a3f5f\"}, \"type\": \"carpet\"}], \"choropleth\": [{\"colorbar\": {\"outlinewidth\": 0, \"ticks\": \"\"}, \"type\": \"choropleth\"}], \"contour\": [{\"colorbar\": {\"outlinewidth\": 0, \"ticks\": \"\"}, \"colorscale\": [[0.0, \"#0d0887\"], [0.1111111111111111, \"#46039f\"], [0.2222222222222222, \"#7201a8\"], [0.3333333333333333, \"#9c179e\"], [0.4444444444444444, \"#bd3786\"], [0.5555555555555556, \"#d8576b\"], [0.6666666666666666, \"#ed7953\"], [0.7777777777777778, \"#fb9f3a\"], [0.8888888888888888, \"#fdca26\"], [1.0, \"#f0f921\"]], \"type\": \"contour\"}], \"contourcarpet\": [{\"colorbar\": {\"outlinewidth\": 0, \"ticks\": \"\"}, \"type\": \"contourcarpet\"}], \"heatmap\": [{\"colorbar\": {\"outlinewidth\": 0, \"ticks\": \"\"}, \"colorscale\": [[0.0, \"#0d0887\"], [0.1111111111111111, \"#46039f\"], [0.2222222222222222, \"#7201a8\"], [0.3333333333333333, \"#9c179e\"], [0.4444444444444444, \"#bd3786\"], [0.5555555555555556, \"#d8576b\"], [0.6666666666666666, \"#ed7953\"], [0.7777777777777778, \"#fb9f3a\"], [0.8888888888888888, \"#fdca26\"], [1.0, \"#f0f921\"]], \"type\": \"heatmap\"}], \"heatmapgl\": [{\"colorbar\": {\"outlinewidth\": 0, \"ticks\": \"\"}, \"colorscale\": [[0.0, \"#0d0887\"], [0.1111111111111111, \"#46039f\"], [0.2222222222222222, \"#7201a8\"], [0.3333333333333333, \"#9c179e\"], [0.4444444444444444, \"#bd3786\"], [0.5555555555555556, \"#d8576b\"], [0.6666666666666666, \"#ed7953\"], [0.7777777777777778, \"#fb9f3a\"], [0.8888888888888888, \"#fdca26\"], [1.0, \"#f0f921\"]], \"type\": \"heatmapgl\"}], \"histogram\": [{\"marker\": {\"colorbar\": {\"outlinewidth\": 0, \"ticks\": \"\"}}, \"type\": \"histogram\"}], \"histogram2d\": [{\"colorbar\": {\"outlinewidth\": 0, \"ticks\": \"\"}, \"colorscale\": [[0.0, \"#0d0887\"], [0.1111111111111111, \"#46039f\"], [0.2222222222222222, \"#7201a8\"], [0.3333333333333333, \"#9c179e\"], [0.4444444444444444, \"#bd3786\"], [0.5555555555555556, \"#d8576b\"], [0.6666666666666666, \"#ed7953\"], [0.7777777777777778, \"#fb9f3a\"], [0.8888888888888888, \"#fdca26\"], [1.0, \"#f0f921\"]], \"type\": \"histogram2d\"}], \"histogram2dcontour\": [{\"colorbar\": {\"outlinewidth\": 0, \"ticks\": \"\"}, \"colorscale\": [[0.0, \"#0d0887\"], [0.1111111111111111, \"#46039f\"], [0.2222222222222222, \"#7201a8\"], [0.3333333333333333, \"#9c179e\"], [0.4444444444444444, \"#bd3786\"], [0.5555555555555556, \"#d8576b\"], [0.6666666666666666, \"#ed7953\"], [0.7777777777777778, \"#fb9f3a\"], [0.8888888888888888, \"#fdca26\"], [1.0, \"#f0f921\"]], \"type\": \"histogram2dcontour\"}], \"mesh3d\": [{\"colorbar\": {\"outlinewidth\": 0, \"ticks\": \"\"}, \"type\": \"mesh3d\"}], \"parcoords\": [{\"line\": {\"colorbar\": {\"outlinewidth\": 0, \"ticks\": \"\"}}, \"type\": \"parcoords\"}], \"pie\": [{\"automargin\": true, \"type\": \"pie\"}], \"scatter\": [{\"marker\": {\"colorbar\": {\"outlinewidth\": 0, \"ticks\": \"\"}}, \"type\": \"scatter\"}], \"scatter3d\": [{\"line\": {\"colorbar\": {\"outlinewidth\": 0, \"ticks\": \"\"}}, \"marker\": {\"colorbar\": {\"outlinewidth\": 0, \"ticks\": \"\"}}, \"type\": \"scatter3d\"}], \"scattercarpet\": [{\"marker\": {\"colorbar\": {\"outlinewidth\": 0, \"ticks\": \"\"}}, \"type\": \"scattercarpet\"}], \"scattergeo\": [{\"marker\": {\"colorbar\": {\"outlinewidth\": 0, \"ticks\": \"\"}}, \"type\": \"scattergeo\"}], \"scattergl\": [{\"marker\": {\"colorbar\": {\"outlinewidth\": 0, \"ticks\": \"\"}}, \"type\": \"scattergl\"}], \"scattermapbox\": [{\"marker\": {\"colorbar\": {\"outlinewidth\": 0, \"ticks\": \"\"}}, \"type\": \"scattermapbox\"}], \"scatterpolar\": [{\"marker\": {\"colorbar\": {\"outlinewidth\": 0, \"ticks\": \"\"}}, \"type\": \"scatterpolar\"}], \"scatterpolargl\": [{\"marker\": {\"colorbar\": {\"outlinewidth\": 0, \"ticks\": \"\"}}, \"type\": \"scatterpolargl\"}], \"scatterternary\": [{\"marker\": {\"colorbar\": {\"outlinewidth\": 0, \"ticks\": \"\"}}, \"type\": \"scatterternary\"}], \"surface\": [{\"colorbar\": {\"outlinewidth\": 0, \"ticks\": \"\"}, \"colorscale\": [[0.0, \"#0d0887\"], [0.1111111111111111, \"#46039f\"], [0.2222222222222222, \"#7201a8\"], [0.3333333333333333, \"#9c179e\"], [0.4444444444444444, \"#bd3786\"], [0.5555555555555556, \"#d8576b\"], [0.6666666666666666, \"#ed7953\"], [0.7777777777777778, \"#fb9f3a\"], [0.8888888888888888, \"#fdca26\"], [1.0, \"#f0f921\"]], \"type\": \"surface\"}], \"table\": [{\"cells\": {\"fill\": {\"color\": \"#EBF0F8\"}, \"line\": {\"color\": \"white\"}}, \"header\": {\"fill\": {\"color\": \"#C8D4E3\"}, \"line\": {\"color\": \"white\"}}, \"type\": \"table\"}]}, \"layout\": {\"annotationdefaults\": {\"arrowcolor\": \"#2a3f5f\", \"arrowhead\": 0, \"arrowwidth\": 1}, \"autotypenumbers\": \"strict\", \"coloraxis\": {\"colorbar\": {\"outlinewidth\": 0, \"ticks\": \"\"}}, \"colorscale\": {\"diverging\": [[0, \"#8e0152\"], [0.1, \"#c51b7d\"], [0.2, \"#de77ae\"], [0.3, \"#f1b6da\"], [0.4, \"#fde0ef\"], [0.5, \"#f7f7f7\"], [0.6, \"#e6f5d0\"], [0.7, \"#b8e186\"], [0.8, \"#7fbc41\"], [0.9, \"#4d9221\"], [1, \"#276419\"]], \"sequential\": [[0.0, \"#0d0887\"], [0.1111111111111111, \"#46039f\"], [0.2222222222222222, \"#7201a8\"], [0.3333333333333333, \"#9c179e\"], [0.4444444444444444, \"#bd3786\"], [0.5555555555555556, \"#d8576b\"], [0.6666666666666666, \"#ed7953\"], [0.7777777777777778, \"#fb9f3a\"], [0.8888888888888888, \"#fdca26\"], [1.0, \"#f0f921\"]], \"sequentialminus\": [[0.0, \"#0d0887\"], [0.1111111111111111, \"#46039f\"], [0.2222222222222222, \"#7201a8\"], [0.3333333333333333, \"#9c179e\"], [0.4444444444444444, \"#bd3786\"], [0.5555555555555556, \"#d8576b\"], [0.6666666666666666, \"#ed7953\"], [0.7777777777777778, \"#fb9f3a\"], [0.8888888888888888, \"#fdca26\"], [1.0, \"#f0f921\"]]}, \"colorway\": [\"#636efa\", \"#EF553B\", \"#00cc96\", \"#ab63fa\", \"#FFA15A\", \"#19d3f3\", \"#FF6692\", \"#B6E880\", \"#FF97FF\", \"#FECB52\"], \"font\": {\"color\": \"#2a3f5f\"}, \"geo\": {\"bgcolor\": \"white\", \"lakecolor\": \"white\", \"landcolor\": \"#E5ECF6\", \"showlakes\": true, \"showland\": true, \"subunitcolor\": \"white\"}, \"hoverlabel\": {\"align\": \"left\"}, \"hovermode\": \"closest\", \"mapbox\": {\"style\": \"light\"}, \"paper_bgcolor\": \"white\", \"plot_bgcolor\": \"#E5ECF6\", \"polar\": {\"angularaxis\": {\"gridcolor\": \"white\", \"linecolor\": \"white\", \"ticks\": \"\"}, \"bgcolor\": \"#E5ECF6\", \"radialaxis\": {\"gridcolor\": \"white\", \"linecolor\": \"white\", \"ticks\": \"\"}}, \"scene\": {\"xaxis\": {\"backgroundcolor\": \"#E5ECF6\", \"gridcolor\": \"white\", \"gridwidth\": 2, \"linecolor\": \"white\", \"showbackground\": true, \"ticks\": \"\", \"zerolinecolor\": \"white\"}, \"yaxis\": {\"backgroundcolor\": \"#E5ECF6\", \"gridcolor\": \"white\", \"gridwidth\": 2, \"linecolor\": \"white\", \"showbackground\": true, \"ticks\": \"\", \"zerolinecolor\": \"white\"}, \"zaxis\": {\"backgroundcolor\": \"#E5ECF6\", \"gridcolor\": \"white\", \"gridwidth\": 2, \"linecolor\": \"white\", \"showbackground\": true, \"ticks\": \"\", \"zerolinecolor\": \"white\"}}, \"shapedefaults\": {\"line\": {\"color\": \"#2a3f5f\"}}, \"ternary\": {\"aaxis\": {\"gridcolor\": \"white\", \"linecolor\": \"white\", \"ticks\": \"\"}, \"baxis\": {\"gridcolor\": \"white\", \"linecolor\": \"white\", \"ticks\": \"\"}, \"bgcolor\": \"#E5ECF6\", \"caxis\": {\"gridcolor\": \"white\", \"linecolor\": \"white\", \"ticks\": \"\"}}, \"title\": {\"x\": 0.05}, \"xaxis\": {\"automargin\": true, \"gridcolor\": \"white\", \"linecolor\": \"white\", \"ticks\": \"\", \"title\": {\"standoff\": 15}, \"zerolinecolor\": \"white\", \"zerolinewidth\": 2}, \"yaxis\": {\"automargin\": true, \"gridcolor\": \"white\", \"linecolor\": \"white\", \"ticks\": \"\", \"title\": {\"standoff\": 15}, \"zerolinecolor\": \"white\", \"zerolinewidth\": 2}}}, \"title\": {\"text\": \"<span style='font-size: 22px;'><b>Open access publications<b></span>\", \"x\": 0.5}},                        {\"responsive\": true}                    ).then(function(){\n",
       "                            \n",
       "var gd = document.getElementById('024404bc-cf9b-4a2e-8ed6-74318e63093a');\n",
       "var x = new MutationObserver(function (mutations, observer) {{\n",
       "        var display = window.getComputedStyle(gd).display;\n",
       "        if (!display || display === 'none') {{\n",
       "            console.log([gd, 'removed!']);\n",
       "            Plotly.purge(gd);\n",
       "            observer.disconnect();\n",
       "        }}\n",
       "}});\n",
       "\n",
       "// Listen for the removal of the full notebook cells\n",
       "var notebookContainer = gd.closest('#notebook-container');\n",
       "if (notebookContainer) {{\n",
       "    x.observe(notebookContainer, {childList: true});\n",
       "}}\n",
       "\n",
       "// Listen for the clearing of the current output cell\n",
       "var outputEl = gd.closest('.output');\n",
       "if (outputEl) {{\n",
       "    x.observe(outputEl, {childList: true});\n",
       "}}\n",
       "\n",
       "                        })                };                });            </script>        </div>"
      ]
     },
     "metadata": {},
     "output_type": "display_data"
    }
   ],
   "source": [
    "plots.make_access_pie(results_df, 'semantic_scholar')"
   ]
  },
  {
   "cell_type": "code",
   "execution_count": 57,
   "id": "98e761a7",
   "metadata": {
    "hidden": true
   },
   "outputs": [
    {
     "data": {
      "application/vnd.plotly.v1+json": {
       "config": {
        "plotlyServerURL": "https://plot.ly"
       },
       "data": [
        {
         "marker": {
          "color": "#eda109"
         },
         "textangle": 0,
         "textposition": "outside",
         "texttemplate": "%{y}",
         "type": "bar",
         "x": [
          2011,
          2012,
          2013,
          2014,
          2015,
          2016,
          2017,
          2018,
          2019,
          2020,
          2021
         ],
         "y": [
          2,
          2,
          3,
          2,
          1,
          6,
          4,
          8,
          5,
          7,
          10
         ]
        }
       ],
       "layout": {
        "font": {
         "color": "white",
         "family": "Courier New, monospace",
         "size": 12
        },
        "paper_bgcolor": "#101126",
        "plot_bgcolor": "#101126",
        "template": {
         "data": {
          "bar": [
           {
            "error_x": {
             "color": "#2a3f5f"
            },
            "error_y": {
             "color": "#2a3f5f"
            },
            "marker": {
             "line": {
              "color": "#E5ECF6",
              "width": 0.5
             }
            },
            "type": "bar"
           }
          ],
          "barpolar": [
           {
            "marker": {
             "line": {
              "color": "#E5ECF6",
              "width": 0.5
             }
            },
            "type": "barpolar"
           }
          ],
          "carpet": [
           {
            "aaxis": {
             "endlinecolor": "#2a3f5f",
             "gridcolor": "white",
             "linecolor": "white",
             "minorgridcolor": "white",
             "startlinecolor": "#2a3f5f"
            },
            "baxis": {
             "endlinecolor": "#2a3f5f",
             "gridcolor": "white",
             "linecolor": "white",
             "minorgridcolor": "white",
             "startlinecolor": "#2a3f5f"
            },
            "type": "carpet"
           }
          ],
          "choropleth": [
           {
            "colorbar": {
             "outlinewidth": 0,
             "ticks": ""
            },
            "type": "choropleth"
           }
          ],
          "contour": [
           {
            "colorbar": {
             "outlinewidth": 0,
             "ticks": ""
            },
            "colorscale": [
             [
              0,
              "#0d0887"
             ],
             [
              0.1111111111111111,
              "#46039f"
             ],
             [
              0.2222222222222222,
              "#7201a8"
             ],
             [
              0.3333333333333333,
              "#9c179e"
             ],
             [
              0.4444444444444444,
              "#bd3786"
             ],
             [
              0.5555555555555556,
              "#d8576b"
             ],
             [
              0.6666666666666666,
              "#ed7953"
             ],
             [
              0.7777777777777778,
              "#fb9f3a"
             ],
             [
              0.8888888888888888,
              "#fdca26"
             ],
             [
              1,
              "#f0f921"
             ]
            ],
            "type": "contour"
           }
          ],
          "contourcarpet": [
           {
            "colorbar": {
             "outlinewidth": 0,
             "ticks": ""
            },
            "type": "contourcarpet"
           }
          ],
          "heatmap": [
           {
            "colorbar": {
             "outlinewidth": 0,
             "ticks": ""
            },
            "colorscale": [
             [
              0,
              "#0d0887"
             ],
             [
              0.1111111111111111,
              "#46039f"
             ],
             [
              0.2222222222222222,
              "#7201a8"
             ],
             [
              0.3333333333333333,
              "#9c179e"
             ],
             [
              0.4444444444444444,
              "#bd3786"
             ],
             [
              0.5555555555555556,
              "#d8576b"
             ],
             [
              0.6666666666666666,
              "#ed7953"
             ],
             [
              0.7777777777777778,
              "#fb9f3a"
             ],
             [
              0.8888888888888888,
              "#fdca26"
             ],
             [
              1,
              "#f0f921"
             ]
            ],
            "type": "heatmap"
           }
          ],
          "heatmapgl": [
           {
            "colorbar": {
             "outlinewidth": 0,
             "ticks": ""
            },
            "colorscale": [
             [
              0,
              "#0d0887"
             ],
             [
              0.1111111111111111,
              "#46039f"
             ],
             [
              0.2222222222222222,
              "#7201a8"
             ],
             [
              0.3333333333333333,
              "#9c179e"
             ],
             [
              0.4444444444444444,
              "#bd3786"
             ],
             [
              0.5555555555555556,
              "#d8576b"
             ],
             [
              0.6666666666666666,
              "#ed7953"
             ],
             [
              0.7777777777777778,
              "#fb9f3a"
             ],
             [
              0.8888888888888888,
              "#fdca26"
             ],
             [
              1,
              "#f0f921"
             ]
            ],
            "type": "heatmapgl"
           }
          ],
          "histogram": [
           {
            "marker": {
             "colorbar": {
              "outlinewidth": 0,
              "ticks": ""
             }
            },
            "type": "histogram"
           }
          ],
          "histogram2d": [
           {
            "colorbar": {
             "outlinewidth": 0,
             "ticks": ""
            },
            "colorscale": [
             [
              0,
              "#0d0887"
             ],
             [
              0.1111111111111111,
              "#46039f"
             ],
             [
              0.2222222222222222,
              "#7201a8"
             ],
             [
              0.3333333333333333,
              "#9c179e"
             ],
             [
              0.4444444444444444,
              "#bd3786"
             ],
             [
              0.5555555555555556,
              "#d8576b"
             ],
             [
              0.6666666666666666,
              "#ed7953"
             ],
             [
              0.7777777777777778,
              "#fb9f3a"
             ],
             [
              0.8888888888888888,
              "#fdca26"
             ],
             [
              1,
              "#f0f921"
             ]
            ],
            "type": "histogram2d"
           }
          ],
          "histogram2dcontour": [
           {
            "colorbar": {
             "outlinewidth": 0,
             "ticks": ""
            },
            "colorscale": [
             [
              0,
              "#0d0887"
             ],
             [
              0.1111111111111111,
              "#46039f"
             ],
             [
              0.2222222222222222,
              "#7201a8"
             ],
             [
              0.3333333333333333,
              "#9c179e"
             ],
             [
              0.4444444444444444,
              "#bd3786"
             ],
             [
              0.5555555555555556,
              "#d8576b"
             ],
             [
              0.6666666666666666,
              "#ed7953"
             ],
             [
              0.7777777777777778,
              "#fb9f3a"
             ],
             [
              0.8888888888888888,
              "#fdca26"
             ],
             [
              1,
              "#f0f921"
             ]
            ],
            "type": "histogram2dcontour"
           }
          ],
          "mesh3d": [
           {
            "colorbar": {
             "outlinewidth": 0,
             "ticks": ""
            },
            "type": "mesh3d"
           }
          ],
          "parcoords": [
           {
            "line": {
             "colorbar": {
              "outlinewidth": 0,
              "ticks": ""
             }
            },
            "type": "parcoords"
           }
          ],
          "pie": [
           {
            "automargin": true,
            "type": "pie"
           }
          ],
          "scatter": [
           {
            "marker": {
             "colorbar": {
              "outlinewidth": 0,
              "ticks": ""
             }
            },
            "type": "scatter"
           }
          ],
          "scatter3d": [
           {
            "line": {
             "colorbar": {
              "outlinewidth": 0,
              "ticks": ""
             }
            },
            "marker": {
             "colorbar": {
              "outlinewidth": 0,
              "ticks": ""
             }
            },
            "type": "scatter3d"
           }
          ],
          "scattercarpet": [
           {
            "marker": {
             "colorbar": {
              "outlinewidth": 0,
              "ticks": ""
             }
            },
            "type": "scattercarpet"
           }
          ],
          "scattergeo": [
           {
            "marker": {
             "colorbar": {
              "outlinewidth": 0,
              "ticks": ""
             }
            },
            "type": "scattergeo"
           }
          ],
          "scattergl": [
           {
            "marker": {
             "colorbar": {
              "outlinewidth": 0,
              "ticks": ""
             }
            },
            "type": "scattergl"
           }
          ],
          "scattermapbox": [
           {
            "marker": {
             "colorbar": {
              "outlinewidth": 0,
              "ticks": ""
             }
            },
            "type": "scattermapbox"
           }
          ],
          "scatterpolar": [
           {
            "marker": {
             "colorbar": {
              "outlinewidth": 0,
              "ticks": ""
             }
            },
            "type": "scatterpolar"
           }
          ],
          "scatterpolargl": [
           {
            "marker": {
             "colorbar": {
              "outlinewidth": 0,
              "ticks": ""
             }
            },
            "type": "scatterpolargl"
           }
          ],
          "scatterternary": [
           {
            "marker": {
             "colorbar": {
              "outlinewidth": 0,
              "ticks": ""
             }
            },
            "type": "scatterternary"
           }
          ],
          "surface": [
           {
            "colorbar": {
             "outlinewidth": 0,
             "ticks": ""
            },
            "colorscale": [
             [
              0,
              "#0d0887"
             ],
             [
              0.1111111111111111,
              "#46039f"
             ],
             [
              0.2222222222222222,
              "#7201a8"
             ],
             [
              0.3333333333333333,
              "#9c179e"
             ],
             [
              0.4444444444444444,
              "#bd3786"
             ],
             [
              0.5555555555555556,
              "#d8576b"
             ],
             [
              0.6666666666666666,
              "#ed7953"
             ],
             [
              0.7777777777777778,
              "#fb9f3a"
             ],
             [
              0.8888888888888888,
              "#fdca26"
             ],
             [
              1,
              "#f0f921"
             ]
            ],
            "type": "surface"
           }
          ],
          "table": [
           {
            "cells": {
             "fill": {
              "color": "#EBF0F8"
             },
             "line": {
              "color": "white"
             }
            },
            "header": {
             "fill": {
              "color": "#C8D4E3"
             },
             "line": {
              "color": "white"
             }
            },
            "type": "table"
           }
          ]
         },
         "layout": {
          "annotationdefaults": {
           "arrowcolor": "#2a3f5f",
           "arrowhead": 0,
           "arrowwidth": 1
          },
          "autotypenumbers": "strict",
          "coloraxis": {
           "colorbar": {
            "outlinewidth": 0,
            "ticks": ""
           }
          },
          "colorscale": {
           "diverging": [
            [
             0,
             "#8e0152"
            ],
            [
             0.1,
             "#c51b7d"
            ],
            [
             0.2,
             "#de77ae"
            ],
            [
             0.3,
             "#f1b6da"
            ],
            [
             0.4,
             "#fde0ef"
            ],
            [
             0.5,
             "#f7f7f7"
            ],
            [
             0.6,
             "#e6f5d0"
            ],
            [
             0.7,
             "#b8e186"
            ],
            [
             0.8,
             "#7fbc41"
            ],
            [
             0.9,
             "#4d9221"
            ],
            [
             1,
             "#276419"
            ]
           ],
           "sequential": [
            [
             0,
             "#0d0887"
            ],
            [
             0.1111111111111111,
             "#46039f"
            ],
            [
             0.2222222222222222,
             "#7201a8"
            ],
            [
             0.3333333333333333,
             "#9c179e"
            ],
            [
             0.4444444444444444,
             "#bd3786"
            ],
            [
             0.5555555555555556,
             "#d8576b"
            ],
            [
             0.6666666666666666,
             "#ed7953"
            ],
            [
             0.7777777777777778,
             "#fb9f3a"
            ],
            [
             0.8888888888888888,
             "#fdca26"
            ],
            [
             1,
             "#f0f921"
            ]
           ],
           "sequentialminus": [
            [
             0,
             "#0d0887"
            ],
            [
             0.1111111111111111,
             "#46039f"
            ],
            [
             0.2222222222222222,
             "#7201a8"
            ],
            [
             0.3333333333333333,
             "#9c179e"
            ],
            [
             0.4444444444444444,
             "#bd3786"
            ],
            [
             0.5555555555555556,
             "#d8576b"
            ],
            [
             0.6666666666666666,
             "#ed7953"
            ],
            [
             0.7777777777777778,
             "#fb9f3a"
            ],
            [
             0.8888888888888888,
             "#fdca26"
            ],
            [
             1,
             "#f0f921"
            ]
           ]
          },
          "colorway": [
           "#636efa",
           "#EF553B",
           "#00cc96",
           "#ab63fa",
           "#FFA15A",
           "#19d3f3",
           "#FF6692",
           "#B6E880",
           "#FF97FF",
           "#FECB52"
          ],
          "font": {
           "color": "#2a3f5f"
          },
          "geo": {
           "bgcolor": "white",
           "lakecolor": "white",
           "landcolor": "#E5ECF6",
           "showlakes": true,
           "showland": true,
           "subunitcolor": "white"
          },
          "hoverlabel": {
           "align": "left"
          },
          "hovermode": "closest",
          "mapbox": {
           "style": "light"
          },
          "paper_bgcolor": "white",
          "plot_bgcolor": "#E5ECF6",
          "polar": {
           "angularaxis": {
            "gridcolor": "white",
            "linecolor": "white",
            "ticks": ""
           },
           "bgcolor": "#E5ECF6",
           "radialaxis": {
            "gridcolor": "white",
            "linecolor": "white",
            "ticks": ""
           }
          },
          "scene": {
           "xaxis": {
            "backgroundcolor": "#E5ECF6",
            "gridcolor": "white",
            "gridwidth": 2,
            "linecolor": "white",
            "showbackground": true,
            "ticks": "",
            "zerolinecolor": "white"
           },
           "yaxis": {
            "backgroundcolor": "#E5ECF6",
            "gridcolor": "white",
            "gridwidth": 2,
            "linecolor": "white",
            "showbackground": true,
            "ticks": "",
            "zerolinecolor": "white"
           },
           "zaxis": {
            "backgroundcolor": "#E5ECF6",
            "gridcolor": "white",
            "gridwidth": 2,
            "linecolor": "white",
            "showbackground": true,
            "ticks": "",
            "zerolinecolor": "white"
           }
          },
          "shapedefaults": {
           "line": {
            "color": "#2a3f5f"
           }
          },
          "ternary": {
           "aaxis": {
            "gridcolor": "white",
            "linecolor": "white",
            "ticks": ""
           },
           "baxis": {
            "gridcolor": "white",
            "linecolor": "white",
            "ticks": ""
           },
           "bgcolor": "#E5ECF6",
           "caxis": {
            "gridcolor": "white",
            "linecolor": "white",
            "ticks": ""
           }
          },
          "title": {
           "x": 0.05
          },
          "xaxis": {
           "automargin": true,
           "gridcolor": "white",
           "linecolor": "white",
           "ticks": "",
           "title": {
            "standoff": 15
           },
           "zerolinecolor": "white",
           "zerolinewidth": 2
          },
          "yaxis": {
           "automargin": true,
           "gridcolor": "white",
           "linecolor": "white",
           "ticks": "",
           "title": {
            "standoff": 15
           },
           "zerolinecolor": "white",
           "zerolinewidth": 2
          }
         }
        },
        "title": {
         "text": "<span style='font-size: 22px;'><b>Publications per Year<b></span>",
         "x": 0.5
        },
        "xaxis": {
         "range": [
          2006,
          2027
         ],
         "title": {
          "text": "Year"
         }
        },
        "yaxis": {
         "range": [
          0,
          11
         ],
         "title": {
          "text": "Number of Publications"
         }
        }
       }
      },
      "text/html": [
       "<div>                            <div id=\"3bf0f0ee-aaac-4ae6-83db-41f0d1bd269c\" class=\"plotly-graph-div\" style=\"height:525px; width:100%;\"></div>            <script type=\"text/javascript\">                require([\"plotly\"], function(Plotly) {                    window.PLOTLYENV=window.PLOTLYENV || {};                                    if (document.getElementById(\"3bf0f0ee-aaac-4ae6-83db-41f0d1bd269c\")) {                    Plotly.newPlot(                        \"3bf0f0ee-aaac-4ae6-83db-41f0d1bd269c\",                        [{\"marker\": {\"color\": \"#eda109\"}, \"textangle\": 0, \"textposition\": \"outside\", \"texttemplate\": \"%{y}\", \"type\": \"bar\", \"x\": [2011, 2012, 2013, 2014, 2015, 2016, 2017, 2018, 2019, 2020, 2021], \"y\": [2, 2, 3, 2, 1, 6, 4, 8, 5, 7, 10]}],                        {\"font\": {\"color\": \"white\", \"family\": \"Courier New, monospace\", \"size\": 12}, \"paper_bgcolor\": \"#101126\", \"plot_bgcolor\": \"#101126\", \"template\": {\"data\": {\"bar\": [{\"error_x\": {\"color\": \"#2a3f5f\"}, \"error_y\": {\"color\": \"#2a3f5f\"}, \"marker\": {\"line\": {\"color\": \"#E5ECF6\", \"width\": 0.5}}, \"type\": \"bar\"}], \"barpolar\": [{\"marker\": {\"line\": {\"color\": \"#E5ECF6\", \"width\": 0.5}}, \"type\": \"barpolar\"}], \"carpet\": [{\"aaxis\": {\"endlinecolor\": \"#2a3f5f\", \"gridcolor\": \"white\", \"linecolor\": \"white\", \"minorgridcolor\": \"white\", \"startlinecolor\": \"#2a3f5f\"}, \"baxis\": {\"endlinecolor\": \"#2a3f5f\", \"gridcolor\": \"white\", \"linecolor\": \"white\", \"minorgridcolor\": \"white\", \"startlinecolor\": \"#2a3f5f\"}, \"type\": \"carpet\"}], \"choropleth\": [{\"colorbar\": {\"outlinewidth\": 0, \"ticks\": \"\"}, \"type\": \"choropleth\"}], \"contour\": [{\"colorbar\": {\"outlinewidth\": 0, \"ticks\": \"\"}, \"colorscale\": [[0.0, \"#0d0887\"], [0.1111111111111111, \"#46039f\"], [0.2222222222222222, \"#7201a8\"], [0.3333333333333333, \"#9c179e\"], [0.4444444444444444, \"#bd3786\"], [0.5555555555555556, \"#d8576b\"], [0.6666666666666666, \"#ed7953\"], [0.7777777777777778, \"#fb9f3a\"], [0.8888888888888888, \"#fdca26\"], [1.0, \"#f0f921\"]], \"type\": \"contour\"}], \"contourcarpet\": [{\"colorbar\": {\"outlinewidth\": 0, \"ticks\": \"\"}, \"type\": \"contourcarpet\"}], \"heatmap\": [{\"colorbar\": {\"outlinewidth\": 0, \"ticks\": \"\"}, \"colorscale\": [[0.0, \"#0d0887\"], [0.1111111111111111, \"#46039f\"], [0.2222222222222222, \"#7201a8\"], [0.3333333333333333, \"#9c179e\"], [0.4444444444444444, \"#bd3786\"], [0.5555555555555556, \"#d8576b\"], [0.6666666666666666, \"#ed7953\"], [0.7777777777777778, \"#fb9f3a\"], [0.8888888888888888, \"#fdca26\"], [1.0, \"#f0f921\"]], \"type\": \"heatmap\"}], \"heatmapgl\": [{\"colorbar\": {\"outlinewidth\": 0, \"ticks\": \"\"}, \"colorscale\": [[0.0, \"#0d0887\"], [0.1111111111111111, \"#46039f\"], [0.2222222222222222, \"#7201a8\"], [0.3333333333333333, \"#9c179e\"], [0.4444444444444444, \"#bd3786\"], [0.5555555555555556, \"#d8576b\"], [0.6666666666666666, \"#ed7953\"], [0.7777777777777778, \"#fb9f3a\"], [0.8888888888888888, \"#fdca26\"], [1.0, \"#f0f921\"]], \"type\": \"heatmapgl\"}], \"histogram\": [{\"marker\": {\"colorbar\": {\"outlinewidth\": 0, \"ticks\": \"\"}}, \"type\": \"histogram\"}], \"histogram2d\": [{\"colorbar\": {\"outlinewidth\": 0, \"ticks\": \"\"}, \"colorscale\": [[0.0, \"#0d0887\"], [0.1111111111111111, \"#46039f\"], [0.2222222222222222, \"#7201a8\"], [0.3333333333333333, \"#9c179e\"], [0.4444444444444444, \"#bd3786\"], [0.5555555555555556, \"#d8576b\"], [0.6666666666666666, \"#ed7953\"], [0.7777777777777778, \"#fb9f3a\"], [0.8888888888888888, \"#fdca26\"], [1.0, \"#f0f921\"]], \"type\": \"histogram2d\"}], \"histogram2dcontour\": [{\"colorbar\": {\"outlinewidth\": 0, \"ticks\": \"\"}, \"colorscale\": [[0.0, \"#0d0887\"], [0.1111111111111111, \"#46039f\"], [0.2222222222222222, \"#7201a8\"], [0.3333333333333333, \"#9c179e\"], [0.4444444444444444, \"#bd3786\"], [0.5555555555555556, \"#d8576b\"], [0.6666666666666666, \"#ed7953\"], [0.7777777777777778, \"#fb9f3a\"], [0.8888888888888888, \"#fdca26\"], [1.0, \"#f0f921\"]], \"type\": \"histogram2dcontour\"}], \"mesh3d\": [{\"colorbar\": {\"outlinewidth\": 0, \"ticks\": \"\"}, \"type\": \"mesh3d\"}], \"parcoords\": [{\"line\": {\"colorbar\": {\"outlinewidth\": 0, \"ticks\": \"\"}}, \"type\": \"parcoords\"}], \"pie\": [{\"automargin\": true, \"type\": \"pie\"}], \"scatter\": [{\"marker\": {\"colorbar\": {\"outlinewidth\": 0, \"ticks\": \"\"}}, \"type\": \"scatter\"}], \"scatter3d\": [{\"line\": {\"colorbar\": {\"outlinewidth\": 0, \"ticks\": \"\"}}, \"marker\": {\"colorbar\": {\"outlinewidth\": 0, \"ticks\": \"\"}}, \"type\": \"scatter3d\"}], \"scattercarpet\": [{\"marker\": {\"colorbar\": {\"outlinewidth\": 0, \"ticks\": \"\"}}, \"type\": \"scattercarpet\"}], \"scattergeo\": [{\"marker\": {\"colorbar\": {\"outlinewidth\": 0, \"ticks\": \"\"}}, \"type\": \"scattergeo\"}], \"scattergl\": [{\"marker\": {\"colorbar\": {\"outlinewidth\": 0, \"ticks\": \"\"}}, \"type\": \"scattergl\"}], \"scattermapbox\": [{\"marker\": {\"colorbar\": {\"outlinewidth\": 0, \"ticks\": \"\"}}, \"type\": \"scattermapbox\"}], \"scatterpolar\": [{\"marker\": {\"colorbar\": {\"outlinewidth\": 0, \"ticks\": \"\"}}, \"type\": \"scatterpolar\"}], \"scatterpolargl\": [{\"marker\": {\"colorbar\": {\"outlinewidth\": 0, \"ticks\": \"\"}}, \"type\": \"scatterpolargl\"}], \"scatterternary\": [{\"marker\": {\"colorbar\": {\"outlinewidth\": 0, \"ticks\": \"\"}}, \"type\": \"scatterternary\"}], \"surface\": [{\"colorbar\": {\"outlinewidth\": 0, \"ticks\": \"\"}, \"colorscale\": [[0.0, \"#0d0887\"], [0.1111111111111111, \"#46039f\"], [0.2222222222222222, \"#7201a8\"], [0.3333333333333333, \"#9c179e\"], [0.4444444444444444, \"#bd3786\"], [0.5555555555555556, \"#d8576b\"], [0.6666666666666666, \"#ed7953\"], [0.7777777777777778, \"#fb9f3a\"], [0.8888888888888888, \"#fdca26\"], [1.0, \"#f0f921\"]], \"type\": \"surface\"}], \"table\": [{\"cells\": {\"fill\": {\"color\": \"#EBF0F8\"}, \"line\": {\"color\": \"white\"}}, \"header\": {\"fill\": {\"color\": \"#C8D4E3\"}, \"line\": {\"color\": \"white\"}}, \"type\": \"table\"}]}, \"layout\": {\"annotationdefaults\": {\"arrowcolor\": \"#2a3f5f\", \"arrowhead\": 0, \"arrowwidth\": 1}, \"autotypenumbers\": \"strict\", \"coloraxis\": {\"colorbar\": {\"outlinewidth\": 0, \"ticks\": \"\"}}, \"colorscale\": {\"diverging\": [[0, \"#8e0152\"], [0.1, \"#c51b7d\"], [0.2, \"#de77ae\"], [0.3, \"#f1b6da\"], [0.4, \"#fde0ef\"], [0.5, \"#f7f7f7\"], [0.6, \"#e6f5d0\"], [0.7, \"#b8e186\"], [0.8, \"#7fbc41\"], [0.9, \"#4d9221\"], [1, \"#276419\"]], \"sequential\": [[0.0, \"#0d0887\"], [0.1111111111111111, \"#46039f\"], [0.2222222222222222, \"#7201a8\"], [0.3333333333333333, \"#9c179e\"], [0.4444444444444444, \"#bd3786\"], [0.5555555555555556, \"#d8576b\"], [0.6666666666666666, \"#ed7953\"], [0.7777777777777778, \"#fb9f3a\"], [0.8888888888888888, \"#fdca26\"], [1.0, \"#f0f921\"]], \"sequentialminus\": [[0.0, \"#0d0887\"], [0.1111111111111111, \"#46039f\"], [0.2222222222222222, \"#7201a8\"], [0.3333333333333333, \"#9c179e\"], [0.4444444444444444, \"#bd3786\"], [0.5555555555555556, \"#d8576b\"], [0.6666666666666666, \"#ed7953\"], [0.7777777777777778, \"#fb9f3a\"], [0.8888888888888888, \"#fdca26\"], [1.0, \"#f0f921\"]]}, \"colorway\": [\"#636efa\", \"#EF553B\", \"#00cc96\", \"#ab63fa\", \"#FFA15A\", \"#19d3f3\", \"#FF6692\", \"#B6E880\", \"#FF97FF\", \"#FECB52\"], \"font\": {\"color\": \"#2a3f5f\"}, \"geo\": {\"bgcolor\": \"white\", \"lakecolor\": \"white\", \"landcolor\": \"#E5ECF6\", \"showlakes\": true, \"showland\": true, \"subunitcolor\": \"white\"}, \"hoverlabel\": {\"align\": \"left\"}, \"hovermode\": \"closest\", \"mapbox\": {\"style\": \"light\"}, \"paper_bgcolor\": \"white\", \"plot_bgcolor\": \"#E5ECF6\", \"polar\": {\"angularaxis\": {\"gridcolor\": \"white\", \"linecolor\": \"white\", \"ticks\": \"\"}, \"bgcolor\": \"#E5ECF6\", \"radialaxis\": {\"gridcolor\": \"white\", \"linecolor\": \"white\", \"ticks\": \"\"}}, \"scene\": {\"xaxis\": {\"backgroundcolor\": \"#E5ECF6\", \"gridcolor\": \"white\", \"gridwidth\": 2, \"linecolor\": \"white\", \"showbackground\": true, \"ticks\": \"\", \"zerolinecolor\": \"white\"}, \"yaxis\": {\"backgroundcolor\": \"#E5ECF6\", \"gridcolor\": \"white\", \"gridwidth\": 2, \"linecolor\": \"white\", \"showbackground\": true, \"ticks\": \"\", \"zerolinecolor\": \"white\"}, \"zaxis\": {\"backgroundcolor\": \"#E5ECF6\", \"gridcolor\": \"white\", \"gridwidth\": 2, \"linecolor\": \"white\", \"showbackground\": true, \"ticks\": \"\", \"zerolinecolor\": \"white\"}}, \"shapedefaults\": {\"line\": {\"color\": \"#2a3f5f\"}}, \"ternary\": {\"aaxis\": {\"gridcolor\": \"white\", \"linecolor\": \"white\", \"ticks\": \"\"}, \"baxis\": {\"gridcolor\": \"white\", \"linecolor\": \"white\", \"ticks\": \"\"}, \"bgcolor\": \"#E5ECF6\", \"caxis\": {\"gridcolor\": \"white\", \"linecolor\": \"white\", \"ticks\": \"\"}}, \"title\": {\"x\": 0.05}, \"xaxis\": {\"automargin\": true, \"gridcolor\": \"white\", \"linecolor\": \"white\", \"ticks\": \"\", \"title\": {\"standoff\": 15}, \"zerolinecolor\": \"white\", \"zerolinewidth\": 2}, \"yaxis\": {\"automargin\": true, \"gridcolor\": \"white\", \"linecolor\": \"white\", \"ticks\": \"\", \"title\": {\"standoff\": 15}, \"zerolinecolor\": \"white\", \"zerolinewidth\": 2}}}, \"title\": {\"text\": \"<span style='font-size: 22px;'><b>Publications per Year<b></span>\", \"x\": 0.5}, \"xaxis\": {\"range\": [2006, 2027], \"title\": {\"text\": \"Year\"}}, \"yaxis\": {\"range\": [0, 11.0], \"title\": {\"text\": \"Number of Publications\"}}},                        {\"responsive\": true}                    ).then(function(){\n",
       "                            \n",
       "var gd = document.getElementById('3bf0f0ee-aaac-4ae6-83db-41f0d1bd269c');\n",
       "var x = new MutationObserver(function (mutations, observer) {{\n",
       "        var display = window.getComputedStyle(gd).display;\n",
       "        if (!display || display === 'none') {{\n",
       "            console.log([gd, 'removed!']);\n",
       "            Plotly.purge(gd);\n",
       "            observer.disconnect();\n",
       "        }}\n",
       "}});\n",
       "\n",
       "// Listen for the removal of the full notebook cells\n",
       "var notebookContainer = gd.closest('#notebook-container');\n",
       "if (notebookContainer) {{\n",
       "    x.observe(notebookContainer, {childList: true});\n",
       "}}\n",
       "\n",
       "// Listen for the clearing of the current output cell\n",
       "var outputEl = gd.closest('.output');\n",
       "if (outputEl) {{\n",
       "    x.observe(outputEl, {childList: true});\n",
       "}}\n",
       "\n",
       "                        })                };                });            </script>        </div>"
      ]
     },
     "metadata": {},
     "output_type": "display_data"
    }
   ],
   "source": [
    "plots.make_pub_per_year(results_df, 'semantic_scholar')"
   ]
  },
  {
   "cell_type": "code",
   "execution_count": 58,
   "id": "9bf27181",
   "metadata": {
    "hidden": true
   },
   "outputs": [
    {
     "data": {
      "application/vnd.plotly.v1+json": {
       "config": {
        "plotlyServerURL": "https://plot.ly"
       },
       "data": [
        {
         "marker": {
          "color": "#eda109"
         },
         "textangle": 0,
         "textposition": "outside",
         "texttemplate": "%{y}",
         "type": "bar",
         "x": [
          2011,
          2012,
          2013,
          2014,
          2015,
          2016,
          2017,
          2018,
          2019,
          2020,
          2021
         ],
         "y": [
          215,
          23,
          18,
          1,
          1,
          9,
          111,
          10,
          15,
          15,
          16
         ]
        }
       ],
       "layout": {
        "font": {
         "color": "white",
         "family": "Courier New, monospace",
         "size": 12
        },
        "paper_bgcolor": "#101126",
        "plot_bgcolor": "#101126",
        "template": {
         "data": {
          "bar": [
           {
            "error_x": {
             "color": "#2a3f5f"
            },
            "error_y": {
             "color": "#2a3f5f"
            },
            "marker": {
             "line": {
              "color": "#E5ECF6",
              "width": 0.5
             }
            },
            "type": "bar"
           }
          ],
          "barpolar": [
           {
            "marker": {
             "line": {
              "color": "#E5ECF6",
              "width": 0.5
             }
            },
            "type": "barpolar"
           }
          ],
          "carpet": [
           {
            "aaxis": {
             "endlinecolor": "#2a3f5f",
             "gridcolor": "white",
             "linecolor": "white",
             "minorgridcolor": "white",
             "startlinecolor": "#2a3f5f"
            },
            "baxis": {
             "endlinecolor": "#2a3f5f",
             "gridcolor": "white",
             "linecolor": "white",
             "minorgridcolor": "white",
             "startlinecolor": "#2a3f5f"
            },
            "type": "carpet"
           }
          ],
          "choropleth": [
           {
            "colorbar": {
             "outlinewidth": 0,
             "ticks": ""
            },
            "type": "choropleth"
           }
          ],
          "contour": [
           {
            "colorbar": {
             "outlinewidth": 0,
             "ticks": ""
            },
            "colorscale": [
             [
              0,
              "#0d0887"
             ],
             [
              0.1111111111111111,
              "#46039f"
             ],
             [
              0.2222222222222222,
              "#7201a8"
             ],
             [
              0.3333333333333333,
              "#9c179e"
             ],
             [
              0.4444444444444444,
              "#bd3786"
             ],
             [
              0.5555555555555556,
              "#d8576b"
             ],
             [
              0.6666666666666666,
              "#ed7953"
             ],
             [
              0.7777777777777778,
              "#fb9f3a"
             ],
             [
              0.8888888888888888,
              "#fdca26"
             ],
             [
              1,
              "#f0f921"
             ]
            ],
            "type": "contour"
           }
          ],
          "contourcarpet": [
           {
            "colorbar": {
             "outlinewidth": 0,
             "ticks": ""
            },
            "type": "contourcarpet"
           }
          ],
          "heatmap": [
           {
            "colorbar": {
             "outlinewidth": 0,
             "ticks": ""
            },
            "colorscale": [
             [
              0,
              "#0d0887"
             ],
             [
              0.1111111111111111,
              "#46039f"
             ],
             [
              0.2222222222222222,
              "#7201a8"
             ],
             [
              0.3333333333333333,
              "#9c179e"
             ],
             [
              0.4444444444444444,
              "#bd3786"
             ],
             [
              0.5555555555555556,
              "#d8576b"
             ],
             [
              0.6666666666666666,
              "#ed7953"
             ],
             [
              0.7777777777777778,
              "#fb9f3a"
             ],
             [
              0.8888888888888888,
              "#fdca26"
             ],
             [
              1,
              "#f0f921"
             ]
            ],
            "type": "heatmap"
           }
          ],
          "heatmapgl": [
           {
            "colorbar": {
             "outlinewidth": 0,
             "ticks": ""
            },
            "colorscale": [
             [
              0,
              "#0d0887"
             ],
             [
              0.1111111111111111,
              "#46039f"
             ],
             [
              0.2222222222222222,
              "#7201a8"
             ],
             [
              0.3333333333333333,
              "#9c179e"
             ],
             [
              0.4444444444444444,
              "#bd3786"
             ],
             [
              0.5555555555555556,
              "#d8576b"
             ],
             [
              0.6666666666666666,
              "#ed7953"
             ],
             [
              0.7777777777777778,
              "#fb9f3a"
             ],
             [
              0.8888888888888888,
              "#fdca26"
             ],
             [
              1,
              "#f0f921"
             ]
            ],
            "type": "heatmapgl"
           }
          ],
          "histogram": [
           {
            "marker": {
             "colorbar": {
              "outlinewidth": 0,
              "ticks": ""
             }
            },
            "type": "histogram"
           }
          ],
          "histogram2d": [
           {
            "colorbar": {
             "outlinewidth": 0,
             "ticks": ""
            },
            "colorscale": [
             [
              0,
              "#0d0887"
             ],
             [
              0.1111111111111111,
              "#46039f"
             ],
             [
              0.2222222222222222,
              "#7201a8"
             ],
             [
              0.3333333333333333,
              "#9c179e"
             ],
             [
              0.4444444444444444,
              "#bd3786"
             ],
             [
              0.5555555555555556,
              "#d8576b"
             ],
             [
              0.6666666666666666,
              "#ed7953"
             ],
             [
              0.7777777777777778,
              "#fb9f3a"
             ],
             [
              0.8888888888888888,
              "#fdca26"
             ],
             [
              1,
              "#f0f921"
             ]
            ],
            "type": "histogram2d"
           }
          ],
          "histogram2dcontour": [
           {
            "colorbar": {
             "outlinewidth": 0,
             "ticks": ""
            },
            "colorscale": [
             [
              0,
              "#0d0887"
             ],
             [
              0.1111111111111111,
              "#46039f"
             ],
             [
              0.2222222222222222,
              "#7201a8"
             ],
             [
              0.3333333333333333,
              "#9c179e"
             ],
             [
              0.4444444444444444,
              "#bd3786"
             ],
             [
              0.5555555555555556,
              "#d8576b"
             ],
             [
              0.6666666666666666,
              "#ed7953"
             ],
             [
              0.7777777777777778,
              "#fb9f3a"
             ],
             [
              0.8888888888888888,
              "#fdca26"
             ],
             [
              1,
              "#f0f921"
             ]
            ],
            "type": "histogram2dcontour"
           }
          ],
          "mesh3d": [
           {
            "colorbar": {
             "outlinewidth": 0,
             "ticks": ""
            },
            "type": "mesh3d"
           }
          ],
          "parcoords": [
           {
            "line": {
             "colorbar": {
              "outlinewidth": 0,
              "ticks": ""
             }
            },
            "type": "parcoords"
           }
          ],
          "pie": [
           {
            "automargin": true,
            "type": "pie"
           }
          ],
          "scatter": [
           {
            "marker": {
             "colorbar": {
              "outlinewidth": 0,
              "ticks": ""
             }
            },
            "type": "scatter"
           }
          ],
          "scatter3d": [
           {
            "line": {
             "colorbar": {
              "outlinewidth": 0,
              "ticks": ""
             }
            },
            "marker": {
             "colorbar": {
              "outlinewidth": 0,
              "ticks": ""
             }
            },
            "type": "scatter3d"
           }
          ],
          "scattercarpet": [
           {
            "marker": {
             "colorbar": {
              "outlinewidth": 0,
              "ticks": ""
             }
            },
            "type": "scattercarpet"
           }
          ],
          "scattergeo": [
           {
            "marker": {
             "colorbar": {
              "outlinewidth": 0,
              "ticks": ""
             }
            },
            "type": "scattergeo"
           }
          ],
          "scattergl": [
           {
            "marker": {
             "colorbar": {
              "outlinewidth": 0,
              "ticks": ""
             }
            },
            "type": "scattergl"
           }
          ],
          "scattermapbox": [
           {
            "marker": {
             "colorbar": {
              "outlinewidth": 0,
              "ticks": ""
             }
            },
            "type": "scattermapbox"
           }
          ],
          "scatterpolar": [
           {
            "marker": {
             "colorbar": {
              "outlinewidth": 0,
              "ticks": ""
             }
            },
            "type": "scatterpolar"
           }
          ],
          "scatterpolargl": [
           {
            "marker": {
             "colorbar": {
              "outlinewidth": 0,
              "ticks": ""
             }
            },
            "type": "scatterpolargl"
           }
          ],
          "scatterternary": [
           {
            "marker": {
             "colorbar": {
              "outlinewidth": 0,
              "ticks": ""
             }
            },
            "type": "scatterternary"
           }
          ],
          "surface": [
           {
            "colorbar": {
             "outlinewidth": 0,
             "ticks": ""
            },
            "colorscale": [
             [
              0,
              "#0d0887"
             ],
             [
              0.1111111111111111,
              "#46039f"
             ],
             [
              0.2222222222222222,
              "#7201a8"
             ],
             [
              0.3333333333333333,
              "#9c179e"
             ],
             [
              0.4444444444444444,
              "#bd3786"
             ],
             [
              0.5555555555555556,
              "#d8576b"
             ],
             [
              0.6666666666666666,
              "#ed7953"
             ],
             [
              0.7777777777777778,
              "#fb9f3a"
             ],
             [
              0.8888888888888888,
              "#fdca26"
             ],
             [
              1,
              "#f0f921"
             ]
            ],
            "type": "surface"
           }
          ],
          "table": [
           {
            "cells": {
             "fill": {
              "color": "#EBF0F8"
             },
             "line": {
              "color": "white"
             }
            },
            "header": {
             "fill": {
              "color": "#C8D4E3"
             },
             "line": {
              "color": "white"
             }
            },
            "type": "table"
           }
          ]
         },
         "layout": {
          "annotationdefaults": {
           "arrowcolor": "#2a3f5f",
           "arrowhead": 0,
           "arrowwidth": 1
          },
          "autotypenumbers": "strict",
          "coloraxis": {
           "colorbar": {
            "outlinewidth": 0,
            "ticks": ""
           }
          },
          "colorscale": {
           "diverging": [
            [
             0,
             "#8e0152"
            ],
            [
             0.1,
             "#c51b7d"
            ],
            [
             0.2,
             "#de77ae"
            ],
            [
             0.3,
             "#f1b6da"
            ],
            [
             0.4,
             "#fde0ef"
            ],
            [
             0.5,
             "#f7f7f7"
            ],
            [
             0.6,
             "#e6f5d0"
            ],
            [
             0.7,
             "#b8e186"
            ],
            [
             0.8,
             "#7fbc41"
            ],
            [
             0.9,
             "#4d9221"
            ],
            [
             1,
             "#276419"
            ]
           ],
           "sequential": [
            [
             0,
             "#0d0887"
            ],
            [
             0.1111111111111111,
             "#46039f"
            ],
            [
             0.2222222222222222,
             "#7201a8"
            ],
            [
             0.3333333333333333,
             "#9c179e"
            ],
            [
             0.4444444444444444,
             "#bd3786"
            ],
            [
             0.5555555555555556,
             "#d8576b"
            ],
            [
             0.6666666666666666,
             "#ed7953"
            ],
            [
             0.7777777777777778,
             "#fb9f3a"
            ],
            [
             0.8888888888888888,
             "#fdca26"
            ],
            [
             1,
             "#f0f921"
            ]
           ],
           "sequentialminus": [
            [
             0,
             "#0d0887"
            ],
            [
             0.1111111111111111,
             "#46039f"
            ],
            [
             0.2222222222222222,
             "#7201a8"
            ],
            [
             0.3333333333333333,
             "#9c179e"
            ],
            [
             0.4444444444444444,
             "#bd3786"
            ],
            [
             0.5555555555555556,
             "#d8576b"
            ],
            [
             0.6666666666666666,
             "#ed7953"
            ],
            [
             0.7777777777777778,
             "#fb9f3a"
            ],
            [
             0.8888888888888888,
             "#fdca26"
            ],
            [
             1,
             "#f0f921"
            ]
           ]
          },
          "colorway": [
           "#636efa",
           "#EF553B",
           "#00cc96",
           "#ab63fa",
           "#FFA15A",
           "#19d3f3",
           "#FF6692",
           "#B6E880",
           "#FF97FF",
           "#FECB52"
          ],
          "font": {
           "color": "#2a3f5f"
          },
          "geo": {
           "bgcolor": "white",
           "lakecolor": "white",
           "landcolor": "#E5ECF6",
           "showlakes": true,
           "showland": true,
           "subunitcolor": "white"
          },
          "hoverlabel": {
           "align": "left"
          },
          "hovermode": "closest",
          "mapbox": {
           "style": "light"
          },
          "paper_bgcolor": "white",
          "plot_bgcolor": "#E5ECF6",
          "polar": {
           "angularaxis": {
            "gridcolor": "white",
            "linecolor": "white",
            "ticks": ""
           },
           "bgcolor": "#E5ECF6",
           "radialaxis": {
            "gridcolor": "white",
            "linecolor": "white",
            "ticks": ""
           }
          },
          "scene": {
           "xaxis": {
            "backgroundcolor": "#E5ECF6",
            "gridcolor": "white",
            "gridwidth": 2,
            "linecolor": "white",
            "showbackground": true,
            "ticks": "",
            "zerolinecolor": "white"
           },
           "yaxis": {
            "backgroundcolor": "#E5ECF6",
            "gridcolor": "white",
            "gridwidth": 2,
            "linecolor": "white",
            "showbackground": true,
            "ticks": "",
            "zerolinecolor": "white"
           },
           "zaxis": {
            "backgroundcolor": "#E5ECF6",
            "gridcolor": "white",
            "gridwidth": 2,
            "linecolor": "white",
            "showbackground": true,
            "ticks": "",
            "zerolinecolor": "white"
           }
          },
          "shapedefaults": {
           "line": {
            "color": "#2a3f5f"
           }
          },
          "ternary": {
           "aaxis": {
            "gridcolor": "white",
            "linecolor": "white",
            "ticks": ""
           },
           "baxis": {
            "gridcolor": "white",
            "linecolor": "white",
            "ticks": ""
           },
           "bgcolor": "#E5ECF6",
           "caxis": {
            "gridcolor": "white",
            "linecolor": "white",
            "ticks": ""
           }
          },
          "title": {
           "x": 0.05
          },
          "xaxis": {
           "automargin": true,
           "gridcolor": "white",
           "linecolor": "white",
           "ticks": "",
           "title": {
            "standoff": 15
           },
           "zerolinecolor": "white",
           "zerolinewidth": 2
          },
          "yaxis": {
           "automargin": true,
           "gridcolor": "white",
           "linecolor": "white",
           "ticks": "",
           "title": {
            "standoff": 15
           },
           "zerolinecolor": "white",
           "zerolinewidth": 2
          }
         }
        },
        "title": {
         "text": "<span style='font-size: 22px;'><b>Citations per Year<b></span>",
         "x": 0.5
        },
        "xaxis": {
         "range": [
          2006,
          2027
         ],
         "title": {
          "text": "Year"
         }
        },
        "yaxis": {
         "range": [
          0,
          236.50000000000003
         ],
         "title": {
          "text": "Number of Publications"
         }
        }
       }
      },
      "text/html": [
       "<div>                            <div id=\"085e0216-3285-4bb5-bc71-73d41a3fab21\" class=\"plotly-graph-div\" style=\"height:525px; width:100%;\"></div>            <script type=\"text/javascript\">                require([\"plotly\"], function(Plotly) {                    window.PLOTLYENV=window.PLOTLYENV || {};                                    if (document.getElementById(\"085e0216-3285-4bb5-bc71-73d41a3fab21\")) {                    Plotly.newPlot(                        \"085e0216-3285-4bb5-bc71-73d41a3fab21\",                        [{\"marker\": {\"color\": \"#eda109\"}, \"textangle\": 0, \"textposition\": \"outside\", \"texttemplate\": \"%{y}\", \"type\": \"bar\", \"x\": [2011, 2012, 2013, 2014, 2015, 2016, 2017, 2018, 2019, 2020, 2021], \"y\": [215, 23, 18, 1, 1, 9, 111, 10, 15, 15, 16]}],                        {\"font\": {\"color\": \"white\", \"family\": \"Courier New, monospace\", \"size\": 12}, \"paper_bgcolor\": \"#101126\", \"plot_bgcolor\": \"#101126\", \"template\": {\"data\": {\"bar\": [{\"error_x\": {\"color\": \"#2a3f5f\"}, \"error_y\": {\"color\": \"#2a3f5f\"}, \"marker\": {\"line\": {\"color\": \"#E5ECF6\", \"width\": 0.5}}, \"type\": \"bar\"}], \"barpolar\": [{\"marker\": {\"line\": {\"color\": \"#E5ECF6\", \"width\": 0.5}}, \"type\": \"barpolar\"}], \"carpet\": [{\"aaxis\": {\"endlinecolor\": \"#2a3f5f\", \"gridcolor\": \"white\", \"linecolor\": \"white\", \"minorgridcolor\": \"white\", \"startlinecolor\": \"#2a3f5f\"}, \"baxis\": {\"endlinecolor\": \"#2a3f5f\", \"gridcolor\": \"white\", \"linecolor\": \"white\", \"minorgridcolor\": \"white\", \"startlinecolor\": \"#2a3f5f\"}, \"type\": \"carpet\"}], \"choropleth\": [{\"colorbar\": {\"outlinewidth\": 0, \"ticks\": \"\"}, \"type\": \"choropleth\"}], \"contour\": [{\"colorbar\": {\"outlinewidth\": 0, \"ticks\": \"\"}, \"colorscale\": [[0.0, \"#0d0887\"], [0.1111111111111111, \"#46039f\"], [0.2222222222222222, \"#7201a8\"], [0.3333333333333333, \"#9c179e\"], [0.4444444444444444, \"#bd3786\"], [0.5555555555555556, \"#d8576b\"], [0.6666666666666666, \"#ed7953\"], [0.7777777777777778, \"#fb9f3a\"], [0.8888888888888888, \"#fdca26\"], [1.0, \"#f0f921\"]], \"type\": \"contour\"}], \"contourcarpet\": [{\"colorbar\": {\"outlinewidth\": 0, \"ticks\": \"\"}, \"type\": \"contourcarpet\"}], \"heatmap\": [{\"colorbar\": {\"outlinewidth\": 0, \"ticks\": \"\"}, \"colorscale\": [[0.0, \"#0d0887\"], [0.1111111111111111, \"#46039f\"], [0.2222222222222222, \"#7201a8\"], [0.3333333333333333, \"#9c179e\"], [0.4444444444444444, \"#bd3786\"], [0.5555555555555556, \"#d8576b\"], [0.6666666666666666, \"#ed7953\"], [0.7777777777777778, \"#fb9f3a\"], [0.8888888888888888, \"#fdca26\"], [1.0, \"#f0f921\"]], \"type\": \"heatmap\"}], \"heatmapgl\": [{\"colorbar\": {\"outlinewidth\": 0, \"ticks\": \"\"}, \"colorscale\": [[0.0, \"#0d0887\"], [0.1111111111111111, \"#46039f\"], [0.2222222222222222, \"#7201a8\"], [0.3333333333333333, \"#9c179e\"], [0.4444444444444444, \"#bd3786\"], [0.5555555555555556, \"#d8576b\"], [0.6666666666666666, \"#ed7953\"], [0.7777777777777778, \"#fb9f3a\"], [0.8888888888888888, \"#fdca26\"], [1.0, \"#f0f921\"]], \"type\": \"heatmapgl\"}], \"histogram\": [{\"marker\": {\"colorbar\": {\"outlinewidth\": 0, \"ticks\": \"\"}}, \"type\": \"histogram\"}], \"histogram2d\": [{\"colorbar\": {\"outlinewidth\": 0, \"ticks\": \"\"}, \"colorscale\": [[0.0, \"#0d0887\"], [0.1111111111111111, \"#46039f\"], [0.2222222222222222, \"#7201a8\"], [0.3333333333333333, \"#9c179e\"], [0.4444444444444444, \"#bd3786\"], [0.5555555555555556, \"#d8576b\"], [0.6666666666666666, \"#ed7953\"], [0.7777777777777778, \"#fb9f3a\"], [0.8888888888888888, \"#fdca26\"], [1.0, \"#f0f921\"]], \"type\": \"histogram2d\"}], \"histogram2dcontour\": [{\"colorbar\": {\"outlinewidth\": 0, \"ticks\": \"\"}, \"colorscale\": [[0.0, \"#0d0887\"], [0.1111111111111111, \"#46039f\"], [0.2222222222222222, \"#7201a8\"], [0.3333333333333333, \"#9c179e\"], [0.4444444444444444, \"#bd3786\"], [0.5555555555555556, \"#d8576b\"], [0.6666666666666666, \"#ed7953\"], [0.7777777777777778, \"#fb9f3a\"], [0.8888888888888888, \"#fdca26\"], [1.0, \"#f0f921\"]], \"type\": \"histogram2dcontour\"}], \"mesh3d\": [{\"colorbar\": {\"outlinewidth\": 0, \"ticks\": \"\"}, \"type\": \"mesh3d\"}], \"parcoords\": [{\"line\": {\"colorbar\": {\"outlinewidth\": 0, \"ticks\": \"\"}}, \"type\": \"parcoords\"}], \"pie\": [{\"automargin\": true, \"type\": \"pie\"}], \"scatter\": [{\"marker\": {\"colorbar\": {\"outlinewidth\": 0, \"ticks\": \"\"}}, \"type\": \"scatter\"}], \"scatter3d\": [{\"line\": {\"colorbar\": {\"outlinewidth\": 0, \"ticks\": \"\"}}, \"marker\": {\"colorbar\": {\"outlinewidth\": 0, \"ticks\": \"\"}}, \"type\": \"scatter3d\"}], \"scattercarpet\": [{\"marker\": {\"colorbar\": {\"outlinewidth\": 0, \"ticks\": \"\"}}, \"type\": \"scattercarpet\"}], \"scattergeo\": [{\"marker\": {\"colorbar\": {\"outlinewidth\": 0, \"ticks\": \"\"}}, \"type\": \"scattergeo\"}], \"scattergl\": [{\"marker\": {\"colorbar\": {\"outlinewidth\": 0, \"ticks\": \"\"}}, \"type\": \"scattergl\"}], \"scattermapbox\": [{\"marker\": {\"colorbar\": {\"outlinewidth\": 0, \"ticks\": \"\"}}, \"type\": \"scattermapbox\"}], \"scatterpolar\": [{\"marker\": {\"colorbar\": {\"outlinewidth\": 0, \"ticks\": \"\"}}, \"type\": \"scatterpolar\"}], \"scatterpolargl\": [{\"marker\": {\"colorbar\": {\"outlinewidth\": 0, \"ticks\": \"\"}}, \"type\": \"scatterpolargl\"}], \"scatterternary\": [{\"marker\": {\"colorbar\": {\"outlinewidth\": 0, \"ticks\": \"\"}}, \"type\": \"scatterternary\"}], \"surface\": [{\"colorbar\": {\"outlinewidth\": 0, \"ticks\": \"\"}, \"colorscale\": [[0.0, \"#0d0887\"], [0.1111111111111111, \"#46039f\"], [0.2222222222222222, \"#7201a8\"], [0.3333333333333333, \"#9c179e\"], [0.4444444444444444, \"#bd3786\"], [0.5555555555555556, \"#d8576b\"], [0.6666666666666666, \"#ed7953\"], [0.7777777777777778, \"#fb9f3a\"], [0.8888888888888888, \"#fdca26\"], [1.0, \"#f0f921\"]], \"type\": \"surface\"}], \"table\": [{\"cells\": {\"fill\": {\"color\": \"#EBF0F8\"}, \"line\": {\"color\": \"white\"}}, \"header\": {\"fill\": {\"color\": \"#C8D4E3\"}, \"line\": {\"color\": \"white\"}}, \"type\": \"table\"}]}, \"layout\": {\"annotationdefaults\": {\"arrowcolor\": \"#2a3f5f\", \"arrowhead\": 0, \"arrowwidth\": 1}, \"autotypenumbers\": \"strict\", \"coloraxis\": {\"colorbar\": {\"outlinewidth\": 0, \"ticks\": \"\"}}, \"colorscale\": {\"diverging\": [[0, \"#8e0152\"], [0.1, \"#c51b7d\"], [0.2, \"#de77ae\"], [0.3, \"#f1b6da\"], [0.4, \"#fde0ef\"], [0.5, \"#f7f7f7\"], [0.6, \"#e6f5d0\"], [0.7, \"#b8e186\"], [0.8, \"#7fbc41\"], [0.9, \"#4d9221\"], [1, \"#276419\"]], \"sequential\": [[0.0, \"#0d0887\"], [0.1111111111111111, \"#46039f\"], [0.2222222222222222, \"#7201a8\"], [0.3333333333333333, \"#9c179e\"], [0.4444444444444444, \"#bd3786\"], [0.5555555555555556, \"#d8576b\"], [0.6666666666666666, \"#ed7953\"], [0.7777777777777778, \"#fb9f3a\"], [0.8888888888888888, \"#fdca26\"], [1.0, \"#f0f921\"]], \"sequentialminus\": [[0.0, \"#0d0887\"], [0.1111111111111111, \"#46039f\"], [0.2222222222222222, \"#7201a8\"], [0.3333333333333333, \"#9c179e\"], [0.4444444444444444, \"#bd3786\"], [0.5555555555555556, \"#d8576b\"], [0.6666666666666666, \"#ed7953\"], [0.7777777777777778, \"#fb9f3a\"], [0.8888888888888888, \"#fdca26\"], [1.0, \"#f0f921\"]]}, \"colorway\": [\"#636efa\", \"#EF553B\", \"#00cc96\", \"#ab63fa\", \"#FFA15A\", \"#19d3f3\", \"#FF6692\", \"#B6E880\", \"#FF97FF\", \"#FECB52\"], \"font\": {\"color\": \"#2a3f5f\"}, \"geo\": {\"bgcolor\": \"white\", \"lakecolor\": \"white\", \"landcolor\": \"#E5ECF6\", \"showlakes\": true, \"showland\": true, \"subunitcolor\": \"white\"}, \"hoverlabel\": {\"align\": \"left\"}, \"hovermode\": \"closest\", \"mapbox\": {\"style\": \"light\"}, \"paper_bgcolor\": \"white\", \"plot_bgcolor\": \"#E5ECF6\", \"polar\": {\"angularaxis\": {\"gridcolor\": \"white\", \"linecolor\": \"white\", \"ticks\": \"\"}, \"bgcolor\": \"#E5ECF6\", \"radialaxis\": {\"gridcolor\": \"white\", \"linecolor\": \"white\", \"ticks\": \"\"}}, \"scene\": {\"xaxis\": {\"backgroundcolor\": \"#E5ECF6\", \"gridcolor\": \"white\", \"gridwidth\": 2, \"linecolor\": \"white\", \"showbackground\": true, \"ticks\": \"\", \"zerolinecolor\": \"white\"}, \"yaxis\": {\"backgroundcolor\": \"#E5ECF6\", \"gridcolor\": \"white\", \"gridwidth\": 2, \"linecolor\": \"white\", \"showbackground\": true, \"ticks\": \"\", \"zerolinecolor\": \"white\"}, \"zaxis\": {\"backgroundcolor\": \"#E5ECF6\", \"gridcolor\": \"white\", \"gridwidth\": 2, \"linecolor\": \"white\", \"showbackground\": true, \"ticks\": \"\", \"zerolinecolor\": \"white\"}}, \"shapedefaults\": {\"line\": {\"color\": \"#2a3f5f\"}}, \"ternary\": {\"aaxis\": {\"gridcolor\": \"white\", \"linecolor\": \"white\", \"ticks\": \"\"}, \"baxis\": {\"gridcolor\": \"white\", \"linecolor\": \"white\", \"ticks\": \"\"}, \"bgcolor\": \"#E5ECF6\", \"caxis\": {\"gridcolor\": \"white\", \"linecolor\": \"white\", \"ticks\": \"\"}}, \"title\": {\"x\": 0.05}, \"xaxis\": {\"automargin\": true, \"gridcolor\": \"white\", \"linecolor\": \"white\", \"ticks\": \"\", \"title\": {\"standoff\": 15}, \"zerolinecolor\": \"white\", \"zerolinewidth\": 2}, \"yaxis\": {\"automargin\": true, \"gridcolor\": \"white\", \"linecolor\": \"white\", \"ticks\": \"\", \"title\": {\"standoff\": 15}, \"zerolinecolor\": \"white\", \"zerolinewidth\": 2}}}, \"title\": {\"text\": \"<span style='font-size: 22px;'><b>Citations per Year<b></span>\", \"x\": 0.5}, \"xaxis\": {\"range\": [2006, 2027], \"title\": {\"text\": \"Year\"}}, \"yaxis\": {\"range\": [0, 236.50000000000003], \"title\": {\"text\": \"Number of Publications\"}}},                        {\"responsive\": true}                    ).then(function(){\n",
       "                            \n",
       "var gd = document.getElementById('085e0216-3285-4bb5-bc71-73d41a3fab21');\n",
       "var x = new MutationObserver(function (mutations, observer) {{\n",
       "        var display = window.getComputedStyle(gd).display;\n",
       "        if (!display || display === 'none') {{\n",
       "            console.log([gd, 'removed!']);\n",
       "            Plotly.purge(gd);\n",
       "            observer.disconnect();\n",
       "        }}\n",
       "}});\n",
       "\n",
       "// Listen for the removal of the full notebook cells\n",
       "var notebookContainer = gd.closest('#notebook-container');\n",
       "if (notebookContainer) {{\n",
       "    x.observe(notebookContainer, {childList: true});\n",
       "}}\n",
       "\n",
       "// Listen for the clearing of the current output cell\n",
       "var outputEl = gd.closest('.output');\n",
       "if (outputEl) {{\n",
       "    x.observe(outputEl, {childList: true});\n",
       "}}\n",
       "\n",
       "                        })                };                });            </script>        </div>"
      ]
     },
     "metadata": {},
     "output_type": "display_data"
    }
   ],
   "source": [
    "plots.make_citations_per_year(results_df, 'semantic_scholar')"
   ]
  },
  {
   "cell_type": "code",
   "execution_count": 60,
   "id": "2e50dd95",
   "metadata": {
    "hidden": true
   },
   "outputs": [
    {
     "data": {
      "text/plain": [
       "'mars biosignature'"
      ]
     },
     "execution_count": 60,
     "metadata": {},
     "output_type": "execute_result"
    }
   ],
   "source": [
    "query"
   ]
  },
  {
   "cell_type": "code",
   "execution_count": 61,
   "id": "5015da57",
   "metadata": {
    "hidden": true
   },
   "outputs": [
    {
     "data": {
      "application/vnd.plotly.v1+json": {
       "config": {
        "plotlyServerURL": "https://plot.ly"
       },
       "data": [
        {
         "marker": {
          "color": "#eda109"
         },
         "textangle": 0,
         "textposition": "outside",
         "texttemplate": "%{y}",
         "type": "bar",
         "x": [
          "preservation",
          "potential",
          "detection",
          "implications",
          "organic",
          "life",
          "analog",
          "analysis",
          "earth",
          "exploration",
          "diagenesis",
          "mission",
          "habitability",
          "environments",
          "using"
         ],
         "y": [
          19,
          14,
          13,
          11,
          6,
          6,
          6,
          5,
          5,
          5,
          4,
          4,
          4,
          4,
          4
         ]
        }
       ],
       "layout": {
        "font": {
         "color": "white",
         "family": "Courier New, monospace",
         "size": 12
        },
        "paper_bgcolor": "#101126",
        "plot_bgcolor": "#101126",
        "template": {
         "data": {
          "bar": [
           {
            "error_x": {
             "color": "#2a3f5f"
            },
            "error_y": {
             "color": "#2a3f5f"
            },
            "marker": {
             "line": {
              "color": "#E5ECF6",
              "width": 0.5
             }
            },
            "type": "bar"
           }
          ],
          "barpolar": [
           {
            "marker": {
             "line": {
              "color": "#E5ECF6",
              "width": 0.5
             }
            },
            "type": "barpolar"
           }
          ],
          "carpet": [
           {
            "aaxis": {
             "endlinecolor": "#2a3f5f",
             "gridcolor": "white",
             "linecolor": "white",
             "minorgridcolor": "white",
             "startlinecolor": "#2a3f5f"
            },
            "baxis": {
             "endlinecolor": "#2a3f5f",
             "gridcolor": "white",
             "linecolor": "white",
             "minorgridcolor": "white",
             "startlinecolor": "#2a3f5f"
            },
            "type": "carpet"
           }
          ],
          "choropleth": [
           {
            "colorbar": {
             "outlinewidth": 0,
             "ticks": ""
            },
            "type": "choropleth"
           }
          ],
          "contour": [
           {
            "colorbar": {
             "outlinewidth": 0,
             "ticks": ""
            },
            "colorscale": [
             [
              0,
              "#0d0887"
             ],
             [
              0.1111111111111111,
              "#46039f"
             ],
             [
              0.2222222222222222,
              "#7201a8"
             ],
             [
              0.3333333333333333,
              "#9c179e"
             ],
             [
              0.4444444444444444,
              "#bd3786"
             ],
             [
              0.5555555555555556,
              "#d8576b"
             ],
             [
              0.6666666666666666,
              "#ed7953"
             ],
             [
              0.7777777777777778,
              "#fb9f3a"
             ],
             [
              0.8888888888888888,
              "#fdca26"
             ],
             [
              1,
              "#f0f921"
             ]
            ],
            "type": "contour"
           }
          ],
          "contourcarpet": [
           {
            "colorbar": {
             "outlinewidth": 0,
             "ticks": ""
            },
            "type": "contourcarpet"
           }
          ],
          "heatmap": [
           {
            "colorbar": {
             "outlinewidth": 0,
             "ticks": ""
            },
            "colorscale": [
             [
              0,
              "#0d0887"
             ],
             [
              0.1111111111111111,
              "#46039f"
             ],
             [
              0.2222222222222222,
              "#7201a8"
             ],
             [
              0.3333333333333333,
              "#9c179e"
             ],
             [
              0.4444444444444444,
              "#bd3786"
             ],
             [
              0.5555555555555556,
              "#d8576b"
             ],
             [
              0.6666666666666666,
              "#ed7953"
             ],
             [
              0.7777777777777778,
              "#fb9f3a"
             ],
             [
              0.8888888888888888,
              "#fdca26"
             ],
             [
              1,
              "#f0f921"
             ]
            ],
            "type": "heatmap"
           }
          ],
          "heatmapgl": [
           {
            "colorbar": {
             "outlinewidth": 0,
             "ticks": ""
            },
            "colorscale": [
             [
              0,
              "#0d0887"
             ],
             [
              0.1111111111111111,
              "#46039f"
             ],
             [
              0.2222222222222222,
              "#7201a8"
             ],
             [
              0.3333333333333333,
              "#9c179e"
             ],
             [
              0.4444444444444444,
              "#bd3786"
             ],
             [
              0.5555555555555556,
              "#d8576b"
             ],
             [
              0.6666666666666666,
              "#ed7953"
             ],
             [
              0.7777777777777778,
              "#fb9f3a"
             ],
             [
              0.8888888888888888,
              "#fdca26"
             ],
             [
              1,
              "#f0f921"
             ]
            ],
            "type": "heatmapgl"
           }
          ],
          "histogram": [
           {
            "marker": {
             "colorbar": {
              "outlinewidth": 0,
              "ticks": ""
             }
            },
            "type": "histogram"
           }
          ],
          "histogram2d": [
           {
            "colorbar": {
             "outlinewidth": 0,
             "ticks": ""
            },
            "colorscale": [
             [
              0,
              "#0d0887"
             ],
             [
              0.1111111111111111,
              "#46039f"
             ],
             [
              0.2222222222222222,
              "#7201a8"
             ],
             [
              0.3333333333333333,
              "#9c179e"
             ],
             [
              0.4444444444444444,
              "#bd3786"
             ],
             [
              0.5555555555555556,
              "#d8576b"
             ],
             [
              0.6666666666666666,
              "#ed7953"
             ],
             [
              0.7777777777777778,
              "#fb9f3a"
             ],
             [
              0.8888888888888888,
              "#fdca26"
             ],
             [
              1,
              "#f0f921"
             ]
            ],
            "type": "histogram2d"
           }
          ],
          "histogram2dcontour": [
           {
            "colorbar": {
             "outlinewidth": 0,
             "ticks": ""
            },
            "colorscale": [
             [
              0,
              "#0d0887"
             ],
             [
              0.1111111111111111,
              "#46039f"
             ],
             [
              0.2222222222222222,
              "#7201a8"
             ],
             [
              0.3333333333333333,
              "#9c179e"
             ],
             [
              0.4444444444444444,
              "#bd3786"
             ],
             [
              0.5555555555555556,
              "#d8576b"
             ],
             [
              0.6666666666666666,
              "#ed7953"
             ],
             [
              0.7777777777777778,
              "#fb9f3a"
             ],
             [
              0.8888888888888888,
              "#fdca26"
             ],
             [
              1,
              "#f0f921"
             ]
            ],
            "type": "histogram2dcontour"
           }
          ],
          "mesh3d": [
           {
            "colorbar": {
             "outlinewidth": 0,
             "ticks": ""
            },
            "type": "mesh3d"
           }
          ],
          "parcoords": [
           {
            "line": {
             "colorbar": {
              "outlinewidth": 0,
              "ticks": ""
             }
            },
            "type": "parcoords"
           }
          ],
          "pie": [
           {
            "automargin": true,
            "type": "pie"
           }
          ],
          "scatter": [
           {
            "marker": {
             "colorbar": {
              "outlinewidth": 0,
              "ticks": ""
             }
            },
            "type": "scatter"
           }
          ],
          "scatter3d": [
           {
            "line": {
             "colorbar": {
              "outlinewidth": 0,
              "ticks": ""
             }
            },
            "marker": {
             "colorbar": {
              "outlinewidth": 0,
              "ticks": ""
             }
            },
            "type": "scatter3d"
           }
          ],
          "scattercarpet": [
           {
            "marker": {
             "colorbar": {
              "outlinewidth": 0,
              "ticks": ""
             }
            },
            "type": "scattercarpet"
           }
          ],
          "scattergeo": [
           {
            "marker": {
             "colorbar": {
              "outlinewidth": 0,
              "ticks": ""
             }
            },
            "type": "scattergeo"
           }
          ],
          "scattergl": [
           {
            "marker": {
             "colorbar": {
              "outlinewidth": 0,
              "ticks": ""
             }
            },
            "type": "scattergl"
           }
          ],
          "scattermapbox": [
           {
            "marker": {
             "colorbar": {
              "outlinewidth": 0,
              "ticks": ""
             }
            },
            "type": "scattermapbox"
           }
          ],
          "scatterpolar": [
           {
            "marker": {
             "colorbar": {
              "outlinewidth": 0,
              "ticks": ""
             }
            },
            "type": "scatterpolar"
           }
          ],
          "scatterpolargl": [
           {
            "marker": {
             "colorbar": {
              "outlinewidth": 0,
              "ticks": ""
             }
            },
            "type": "scatterpolargl"
           }
          ],
          "scatterternary": [
           {
            "marker": {
             "colorbar": {
              "outlinewidth": 0,
              "ticks": ""
             }
            },
            "type": "scatterternary"
           }
          ],
          "surface": [
           {
            "colorbar": {
             "outlinewidth": 0,
             "ticks": ""
            },
            "colorscale": [
             [
              0,
              "#0d0887"
             ],
             [
              0.1111111111111111,
              "#46039f"
             ],
             [
              0.2222222222222222,
              "#7201a8"
             ],
             [
              0.3333333333333333,
              "#9c179e"
             ],
             [
              0.4444444444444444,
              "#bd3786"
             ],
             [
              0.5555555555555556,
              "#d8576b"
             ],
             [
              0.6666666666666666,
              "#ed7953"
             ],
             [
              0.7777777777777778,
              "#fb9f3a"
             ],
             [
              0.8888888888888888,
              "#fdca26"
             ],
             [
              1,
              "#f0f921"
             ]
            ],
            "type": "surface"
           }
          ],
          "table": [
           {
            "cells": {
             "fill": {
              "color": "#EBF0F8"
             },
             "line": {
              "color": "white"
             }
            },
            "header": {
             "fill": {
              "color": "#C8D4E3"
             },
             "line": {
              "color": "white"
             }
            },
            "type": "table"
           }
          ]
         },
         "layout": {
          "annotationdefaults": {
           "arrowcolor": "#2a3f5f",
           "arrowhead": 0,
           "arrowwidth": 1
          },
          "autotypenumbers": "strict",
          "coloraxis": {
           "colorbar": {
            "outlinewidth": 0,
            "ticks": ""
           }
          },
          "colorscale": {
           "diverging": [
            [
             0,
             "#8e0152"
            ],
            [
             0.1,
             "#c51b7d"
            ],
            [
             0.2,
             "#de77ae"
            ],
            [
             0.3,
             "#f1b6da"
            ],
            [
             0.4,
             "#fde0ef"
            ],
            [
             0.5,
             "#f7f7f7"
            ],
            [
             0.6,
             "#e6f5d0"
            ],
            [
             0.7,
             "#b8e186"
            ],
            [
             0.8,
             "#7fbc41"
            ],
            [
             0.9,
             "#4d9221"
            ],
            [
             1,
             "#276419"
            ]
           ],
           "sequential": [
            [
             0,
             "#0d0887"
            ],
            [
             0.1111111111111111,
             "#46039f"
            ],
            [
             0.2222222222222222,
             "#7201a8"
            ],
            [
             0.3333333333333333,
             "#9c179e"
            ],
            [
             0.4444444444444444,
             "#bd3786"
            ],
            [
             0.5555555555555556,
             "#d8576b"
            ],
            [
             0.6666666666666666,
             "#ed7953"
            ],
            [
             0.7777777777777778,
             "#fb9f3a"
            ],
            [
             0.8888888888888888,
             "#fdca26"
            ],
            [
             1,
             "#f0f921"
            ]
           ],
           "sequentialminus": [
            [
             0,
             "#0d0887"
            ],
            [
             0.1111111111111111,
             "#46039f"
            ],
            [
             0.2222222222222222,
             "#7201a8"
            ],
            [
             0.3333333333333333,
             "#9c179e"
            ],
            [
             0.4444444444444444,
             "#bd3786"
            ],
            [
             0.5555555555555556,
             "#d8576b"
            ],
            [
             0.6666666666666666,
             "#ed7953"
            ],
            [
             0.7777777777777778,
             "#fb9f3a"
            ],
            [
             0.8888888888888888,
             "#fdca26"
            ],
            [
             1,
             "#f0f921"
            ]
           ]
          },
          "colorway": [
           "#636efa",
           "#EF553B",
           "#00cc96",
           "#ab63fa",
           "#FFA15A",
           "#19d3f3",
           "#FF6692",
           "#B6E880",
           "#FF97FF",
           "#FECB52"
          ],
          "font": {
           "color": "#2a3f5f"
          },
          "geo": {
           "bgcolor": "white",
           "lakecolor": "white",
           "landcolor": "#E5ECF6",
           "showlakes": true,
           "showland": true,
           "subunitcolor": "white"
          },
          "hoverlabel": {
           "align": "left"
          },
          "hovermode": "closest",
          "mapbox": {
           "style": "light"
          },
          "paper_bgcolor": "white",
          "plot_bgcolor": "#E5ECF6",
          "polar": {
           "angularaxis": {
            "gridcolor": "white",
            "linecolor": "white",
            "ticks": ""
           },
           "bgcolor": "#E5ECF6",
           "radialaxis": {
            "gridcolor": "white",
            "linecolor": "white",
            "ticks": ""
           }
          },
          "scene": {
           "xaxis": {
            "backgroundcolor": "#E5ECF6",
            "gridcolor": "white",
            "gridwidth": 2,
            "linecolor": "white",
            "showbackground": true,
            "ticks": "",
            "zerolinecolor": "white"
           },
           "yaxis": {
            "backgroundcolor": "#E5ECF6",
            "gridcolor": "white",
            "gridwidth": 2,
            "linecolor": "white",
            "showbackground": true,
            "ticks": "",
            "zerolinecolor": "white"
           },
           "zaxis": {
            "backgroundcolor": "#E5ECF6",
            "gridcolor": "white",
            "gridwidth": 2,
            "linecolor": "white",
            "showbackground": true,
            "ticks": "",
            "zerolinecolor": "white"
           }
          },
          "shapedefaults": {
           "line": {
            "color": "#2a3f5f"
           }
          },
          "ternary": {
           "aaxis": {
            "gridcolor": "white",
            "linecolor": "white",
            "ticks": ""
           },
           "baxis": {
            "gridcolor": "white",
            "linecolor": "white",
            "ticks": ""
           },
           "bgcolor": "#E5ECF6",
           "caxis": {
            "gridcolor": "white",
            "linecolor": "white",
            "ticks": ""
           }
          },
          "title": {
           "x": 0.05
          },
          "xaxis": {
           "automargin": true,
           "gridcolor": "white",
           "linecolor": "white",
           "ticks": "",
           "title": {
            "standoff": 15
           },
           "zerolinecolor": "white",
           "zerolinewidth": 2
          },
          "yaxis": {
           "automargin": true,
           "gridcolor": "white",
           "linecolor": "white",
           "ticks": "",
           "title": {
            "standoff": 15
           },
           "zerolinecolor": "white",
           "zerolinewidth": 2
          }
         }
        },
        "title": {
         "text": "<span style='font-size: 22px;'><b>Top key words<b></span>",
         "x": 0.5
        },
        "yaxis": {
         "range": [
          0,
          20.900000000000002
         ],
         "title": {
          "text": "Number of occurences"
         }
        }
       }
      },
      "text/html": [
       "<div>                            <div id=\"a7ae8fdd-cc2a-46ab-9940-4003dc7f68a3\" class=\"plotly-graph-div\" style=\"height:525px; width:100%;\"></div>            <script type=\"text/javascript\">                require([\"plotly\"], function(Plotly) {                    window.PLOTLYENV=window.PLOTLYENV || {};                                    if (document.getElementById(\"a7ae8fdd-cc2a-46ab-9940-4003dc7f68a3\")) {                    Plotly.newPlot(                        \"a7ae8fdd-cc2a-46ab-9940-4003dc7f68a3\",                        [{\"marker\": {\"color\": \"#eda109\"}, \"textangle\": 0, \"textposition\": \"outside\", \"texttemplate\": \"%{y}\", \"type\": \"bar\", \"x\": [\"preservation\", \"potential\", \"detection\", \"implications\", \"organic\", \"life\", \"analog\", \"analysis\", \"earth\", \"exploration\", \"diagenesis\", \"mission\", \"habitability\", \"environments\", \"using\"], \"y\": [19, 14, 13, 11, 6, 6, 6, 5, 5, 5, 4, 4, 4, 4, 4]}],                        {\"font\": {\"color\": \"white\", \"family\": \"Courier New, monospace\", \"size\": 12}, \"paper_bgcolor\": \"#101126\", \"plot_bgcolor\": \"#101126\", \"template\": {\"data\": {\"bar\": [{\"error_x\": {\"color\": \"#2a3f5f\"}, \"error_y\": {\"color\": \"#2a3f5f\"}, \"marker\": {\"line\": {\"color\": \"#E5ECF6\", \"width\": 0.5}}, \"type\": \"bar\"}], \"barpolar\": [{\"marker\": {\"line\": {\"color\": \"#E5ECF6\", \"width\": 0.5}}, \"type\": \"barpolar\"}], \"carpet\": [{\"aaxis\": {\"endlinecolor\": \"#2a3f5f\", \"gridcolor\": \"white\", \"linecolor\": \"white\", \"minorgridcolor\": \"white\", \"startlinecolor\": \"#2a3f5f\"}, \"baxis\": {\"endlinecolor\": \"#2a3f5f\", \"gridcolor\": \"white\", \"linecolor\": \"white\", \"minorgridcolor\": \"white\", \"startlinecolor\": \"#2a3f5f\"}, \"type\": \"carpet\"}], \"choropleth\": [{\"colorbar\": {\"outlinewidth\": 0, \"ticks\": \"\"}, \"type\": \"choropleth\"}], \"contour\": [{\"colorbar\": {\"outlinewidth\": 0, \"ticks\": \"\"}, \"colorscale\": [[0.0, \"#0d0887\"], [0.1111111111111111, \"#46039f\"], [0.2222222222222222, \"#7201a8\"], [0.3333333333333333, \"#9c179e\"], [0.4444444444444444, \"#bd3786\"], [0.5555555555555556, \"#d8576b\"], [0.6666666666666666, \"#ed7953\"], [0.7777777777777778, \"#fb9f3a\"], [0.8888888888888888, \"#fdca26\"], [1.0, \"#f0f921\"]], \"type\": \"contour\"}], \"contourcarpet\": [{\"colorbar\": {\"outlinewidth\": 0, \"ticks\": \"\"}, \"type\": \"contourcarpet\"}], \"heatmap\": [{\"colorbar\": {\"outlinewidth\": 0, \"ticks\": \"\"}, \"colorscale\": [[0.0, \"#0d0887\"], [0.1111111111111111, \"#46039f\"], [0.2222222222222222, \"#7201a8\"], [0.3333333333333333, \"#9c179e\"], [0.4444444444444444, \"#bd3786\"], [0.5555555555555556, \"#d8576b\"], [0.6666666666666666, \"#ed7953\"], [0.7777777777777778, \"#fb9f3a\"], [0.8888888888888888, \"#fdca26\"], [1.0, \"#f0f921\"]], \"type\": \"heatmap\"}], \"heatmapgl\": [{\"colorbar\": {\"outlinewidth\": 0, \"ticks\": \"\"}, \"colorscale\": [[0.0, \"#0d0887\"], [0.1111111111111111, \"#46039f\"], [0.2222222222222222, \"#7201a8\"], [0.3333333333333333, \"#9c179e\"], [0.4444444444444444, \"#bd3786\"], [0.5555555555555556, \"#d8576b\"], [0.6666666666666666, \"#ed7953\"], [0.7777777777777778, \"#fb9f3a\"], [0.8888888888888888, \"#fdca26\"], [1.0, \"#f0f921\"]], \"type\": \"heatmapgl\"}], \"histogram\": [{\"marker\": {\"colorbar\": {\"outlinewidth\": 0, \"ticks\": \"\"}}, \"type\": \"histogram\"}], \"histogram2d\": [{\"colorbar\": {\"outlinewidth\": 0, \"ticks\": \"\"}, \"colorscale\": [[0.0, \"#0d0887\"], [0.1111111111111111, \"#46039f\"], [0.2222222222222222, \"#7201a8\"], [0.3333333333333333, \"#9c179e\"], [0.4444444444444444, \"#bd3786\"], [0.5555555555555556, \"#d8576b\"], [0.6666666666666666, \"#ed7953\"], [0.7777777777777778, \"#fb9f3a\"], [0.8888888888888888, \"#fdca26\"], [1.0, \"#f0f921\"]], \"type\": \"histogram2d\"}], \"histogram2dcontour\": [{\"colorbar\": {\"outlinewidth\": 0, \"ticks\": \"\"}, \"colorscale\": [[0.0, \"#0d0887\"], [0.1111111111111111, \"#46039f\"], [0.2222222222222222, \"#7201a8\"], [0.3333333333333333, \"#9c179e\"], [0.4444444444444444, \"#bd3786\"], [0.5555555555555556, \"#d8576b\"], [0.6666666666666666, \"#ed7953\"], [0.7777777777777778, \"#fb9f3a\"], [0.8888888888888888, \"#fdca26\"], [1.0, \"#f0f921\"]], \"type\": \"histogram2dcontour\"}], \"mesh3d\": [{\"colorbar\": {\"outlinewidth\": 0, \"ticks\": \"\"}, \"type\": \"mesh3d\"}], \"parcoords\": [{\"line\": {\"colorbar\": {\"outlinewidth\": 0, \"ticks\": \"\"}}, \"type\": \"parcoords\"}], \"pie\": [{\"automargin\": true, \"type\": \"pie\"}], \"scatter\": [{\"marker\": {\"colorbar\": {\"outlinewidth\": 0, \"ticks\": \"\"}}, \"type\": \"scatter\"}], \"scatter3d\": [{\"line\": {\"colorbar\": {\"outlinewidth\": 0, \"ticks\": \"\"}}, \"marker\": {\"colorbar\": {\"outlinewidth\": 0, \"ticks\": \"\"}}, \"type\": \"scatter3d\"}], \"scattercarpet\": [{\"marker\": {\"colorbar\": {\"outlinewidth\": 0, \"ticks\": \"\"}}, \"type\": \"scattercarpet\"}], \"scattergeo\": [{\"marker\": {\"colorbar\": {\"outlinewidth\": 0, \"ticks\": \"\"}}, \"type\": \"scattergeo\"}], \"scattergl\": [{\"marker\": {\"colorbar\": {\"outlinewidth\": 0, \"ticks\": \"\"}}, \"type\": \"scattergl\"}], \"scattermapbox\": [{\"marker\": {\"colorbar\": {\"outlinewidth\": 0, \"ticks\": \"\"}}, \"type\": \"scattermapbox\"}], \"scatterpolar\": [{\"marker\": {\"colorbar\": {\"outlinewidth\": 0, \"ticks\": \"\"}}, \"type\": \"scatterpolar\"}], \"scatterpolargl\": [{\"marker\": {\"colorbar\": {\"outlinewidth\": 0, \"ticks\": \"\"}}, \"type\": \"scatterpolargl\"}], \"scatterternary\": [{\"marker\": {\"colorbar\": {\"outlinewidth\": 0, \"ticks\": \"\"}}, \"type\": \"scatterternary\"}], \"surface\": [{\"colorbar\": {\"outlinewidth\": 0, \"ticks\": \"\"}, \"colorscale\": [[0.0, \"#0d0887\"], [0.1111111111111111, \"#46039f\"], [0.2222222222222222, \"#7201a8\"], [0.3333333333333333, \"#9c179e\"], [0.4444444444444444, \"#bd3786\"], [0.5555555555555556, \"#d8576b\"], [0.6666666666666666, \"#ed7953\"], [0.7777777777777778, \"#fb9f3a\"], [0.8888888888888888, \"#fdca26\"], [1.0, \"#f0f921\"]], \"type\": \"surface\"}], \"table\": [{\"cells\": {\"fill\": {\"color\": \"#EBF0F8\"}, \"line\": {\"color\": \"white\"}}, \"header\": {\"fill\": {\"color\": \"#C8D4E3\"}, \"line\": {\"color\": \"white\"}}, \"type\": \"table\"}]}, \"layout\": {\"annotationdefaults\": {\"arrowcolor\": \"#2a3f5f\", \"arrowhead\": 0, \"arrowwidth\": 1}, \"autotypenumbers\": \"strict\", \"coloraxis\": {\"colorbar\": {\"outlinewidth\": 0, \"ticks\": \"\"}}, \"colorscale\": {\"diverging\": [[0, \"#8e0152\"], [0.1, \"#c51b7d\"], [0.2, \"#de77ae\"], [0.3, \"#f1b6da\"], [0.4, \"#fde0ef\"], [0.5, \"#f7f7f7\"], [0.6, \"#e6f5d0\"], [0.7, \"#b8e186\"], [0.8, \"#7fbc41\"], [0.9, \"#4d9221\"], [1, \"#276419\"]], \"sequential\": [[0.0, \"#0d0887\"], [0.1111111111111111, \"#46039f\"], [0.2222222222222222, \"#7201a8\"], [0.3333333333333333, \"#9c179e\"], [0.4444444444444444, \"#bd3786\"], [0.5555555555555556, \"#d8576b\"], [0.6666666666666666, \"#ed7953\"], [0.7777777777777778, \"#fb9f3a\"], [0.8888888888888888, \"#fdca26\"], [1.0, \"#f0f921\"]], \"sequentialminus\": [[0.0, \"#0d0887\"], [0.1111111111111111, \"#46039f\"], [0.2222222222222222, \"#7201a8\"], [0.3333333333333333, \"#9c179e\"], [0.4444444444444444, \"#bd3786\"], [0.5555555555555556, \"#d8576b\"], [0.6666666666666666, \"#ed7953\"], [0.7777777777777778, \"#fb9f3a\"], [0.8888888888888888, \"#fdca26\"], [1.0, \"#f0f921\"]]}, \"colorway\": [\"#636efa\", \"#EF553B\", \"#00cc96\", \"#ab63fa\", \"#FFA15A\", \"#19d3f3\", \"#FF6692\", \"#B6E880\", \"#FF97FF\", \"#FECB52\"], \"font\": {\"color\": \"#2a3f5f\"}, \"geo\": {\"bgcolor\": \"white\", \"lakecolor\": \"white\", \"landcolor\": \"#E5ECF6\", \"showlakes\": true, \"showland\": true, \"subunitcolor\": \"white\"}, \"hoverlabel\": {\"align\": \"left\"}, \"hovermode\": \"closest\", \"mapbox\": {\"style\": \"light\"}, \"paper_bgcolor\": \"white\", \"plot_bgcolor\": \"#E5ECF6\", \"polar\": {\"angularaxis\": {\"gridcolor\": \"white\", \"linecolor\": \"white\", \"ticks\": \"\"}, \"bgcolor\": \"#E5ECF6\", \"radialaxis\": {\"gridcolor\": \"white\", \"linecolor\": \"white\", \"ticks\": \"\"}}, \"scene\": {\"xaxis\": {\"backgroundcolor\": \"#E5ECF6\", \"gridcolor\": \"white\", \"gridwidth\": 2, \"linecolor\": \"white\", \"showbackground\": true, \"ticks\": \"\", \"zerolinecolor\": \"white\"}, \"yaxis\": {\"backgroundcolor\": \"#E5ECF6\", \"gridcolor\": \"white\", \"gridwidth\": 2, \"linecolor\": \"white\", \"showbackground\": true, \"ticks\": \"\", \"zerolinecolor\": \"white\"}, \"zaxis\": {\"backgroundcolor\": \"#E5ECF6\", \"gridcolor\": \"white\", \"gridwidth\": 2, \"linecolor\": \"white\", \"showbackground\": true, \"ticks\": \"\", \"zerolinecolor\": \"white\"}}, \"shapedefaults\": {\"line\": {\"color\": \"#2a3f5f\"}}, \"ternary\": {\"aaxis\": {\"gridcolor\": \"white\", \"linecolor\": \"white\", \"ticks\": \"\"}, \"baxis\": {\"gridcolor\": \"white\", \"linecolor\": \"white\", \"ticks\": \"\"}, \"bgcolor\": \"#E5ECF6\", \"caxis\": {\"gridcolor\": \"white\", \"linecolor\": \"white\", \"ticks\": \"\"}}, \"title\": {\"x\": 0.05}, \"xaxis\": {\"automargin\": true, \"gridcolor\": \"white\", \"linecolor\": \"white\", \"ticks\": \"\", \"title\": {\"standoff\": 15}, \"zerolinecolor\": \"white\", \"zerolinewidth\": 2}, \"yaxis\": {\"automargin\": true, \"gridcolor\": \"white\", \"linecolor\": \"white\", \"ticks\": \"\", \"title\": {\"standoff\": 15}, \"zerolinecolor\": \"white\", \"zerolinewidth\": 2}}}, \"title\": {\"text\": \"<span style='font-size: 22px;'><b>Top key words<b></span>\", \"x\": 0.5}, \"yaxis\": {\"range\": [0, 20.900000000000002], \"title\": {\"text\": \"Number of occurences\"}}},                        {\"responsive\": true}                    ).then(function(){\n",
       "                            \n",
       "var gd = document.getElementById('a7ae8fdd-cc2a-46ab-9940-4003dc7f68a3');\n",
       "var x = new MutationObserver(function (mutations, observer) {{\n",
       "        var display = window.getComputedStyle(gd).display;\n",
       "        if (!display || display === 'none') {{\n",
       "            console.log([gd, 'removed!']);\n",
       "            Plotly.purge(gd);\n",
       "            observer.disconnect();\n",
       "        }}\n",
       "}});\n",
       "\n",
       "// Listen for the removal of the full notebook cells\n",
       "var notebookContainer = gd.closest('#notebook-container');\n",
       "if (notebookContainer) {{\n",
       "    x.observe(notebookContainer, {childList: true});\n",
       "}}\n",
       "\n",
       "// Listen for the clearing of the current output cell\n",
       "var outputEl = gd.closest('.output');\n",
       "if (outputEl) {{\n",
       "    x.observe(outputEl, {childList: true});\n",
       "}}\n",
       "\n",
       "                        })                };                });            </script>        </div>"
      ]
     },
     "metadata": {},
     "output_type": "display_data"
    }
   ],
   "source": [
    "plots.make_top_key_words(results_df, query)"
   ]
  },
  {
   "cell_type": "code",
   "execution_count": 62,
   "id": "c2d0b548",
   "metadata": {
    "hidden": true
   },
   "outputs": [
    {
     "data": {
      "text/html": [
       "<div>\n",
       "<style scoped>\n",
       "    .dataframe tbody tr th:only-of-type {\n",
       "        vertical-align: middle;\n",
       "    }\n",
       "\n",
       "    .dataframe tbody tr th {\n",
       "        vertical-align: top;\n",
       "    }\n",
       "\n",
       "    .dataframe thead th {\n",
       "        text-align: right;\n",
       "    }\n",
       "</style>\n",
       "<table border=\"1\" class=\"dataframe\">\n",
       "  <thead>\n",
       "    <tr style=\"text-align: right;\">\n",
       "      <th></th>\n",
       "      <th>paperId</th>\n",
       "      <th>url</th>\n",
       "      <th>title</th>\n",
       "      <th>abstract</th>\n",
       "      <th>venue</th>\n",
       "      <th>year</th>\n",
       "      <th>referenceCount</th>\n",
       "      <th>citationCount</th>\n",
       "      <th>influentialCitationCount</th>\n",
       "      <th>isOpenAccess</th>\n",
       "      <th>fieldsOfStudy</th>\n",
       "      <th>authors</th>\n",
       "      <th>key_words</th>\n",
       "    </tr>\n",
       "  </thead>\n",
       "  <tbody>\n",
       "    <tr>\n",
       "      <th>0</th>\n",
       "      <td>1935abaebef93ceb4b18eaf67c12618a001b26bb</td>\n",
       "      <td>https://www.semanticscholar.org/paper/1935abae...</td>\n",
       "      <td>TRACING HOT-SPRING FACIES AND THEIR GEOTHERMAL...</td>\n",
       "      <td>TEXTURES INTO THE TERRESTRIAL GEOLOGIC RECORD:...</td>\n",
       "      <td></td>\n",
       "      <td>2016</td>\n",
       "      <td>0</td>\n",
       "      <td>1</td>\n",
       "      <td>1</td>\n",
       "      <td>False</td>\n",
       "      <td>None</td>\n",
       "      <td>[{'authorId': '4662741', 'name': 'K. Campbell'...</td>\n",
       "      <td>[tracing, hotspring, facies, geothermally, sil...</td>\n",
       "    </tr>\n",
       "    <tr>\n",
       "      <th>1</th>\n",
       "      <td>958b808c4e32488bf9f484c7de0b928ddfe94cff</td>\n",
       "      <td>https://www.semanticscholar.org/paper/958b808c...</td>\n",
       "      <td>Preservation of martian organic and environmen...</td>\n",
       "      <td>The Mars Science Laboratory (MSL) has an instr...</td>\n",
       "      <td>Astrobiology</td>\n",
       "      <td>2011</td>\n",
       "      <td>117</td>\n",
       "      <td>215</td>\n",
       "      <td>7</td>\n",
       "      <td>True</td>\n",
       "      <td>[Environmental Science, Medicine, Geology]</td>\n",
       "      <td>[{'authorId': '4945458', 'name': 'R. Summons'}...</td>\n",
       "      <td>[preservation, martian, organic, environmental...</td>\n",
       "    </tr>\n",
       "    <tr>\n",
       "      <th>2</th>\n",
       "      <td>61d144bd68693abd0ceafd1275969e8596b8c34b</td>\n",
       "      <td>https://www.semanticscholar.org/paper/61d144bd...</td>\n",
       "      <td>Mars Biosignature - Detection Capabilities: A ...</td>\n",
       "      <td>A Mars sample-return mission has been proposed...</td>\n",
       "      <td></td>\n",
       "      <td>2013</td>\n",
       "      <td>7</td>\n",
       "      <td>3</td>\n",
       "      <td>0</td>\n",
       "      <td>True</td>\n",
       "      <td>[Environmental Science]</td>\n",
       "      <td>[{'authorId': '1751448', 'name': 'C. Weisbin'}...</td>\n",
       "      <td>[mars, biosignature, detection, capabilities, ...</td>\n",
       "    </tr>\n",
       "    <tr>\n",
       "      <th>3</th>\n",
       "      <td>fc7a04d99ce2f9bc8a9c177e6a6cdbebe842641f</td>\n",
       "      <td>https://www.semanticscholar.org/paper/fc7a04d9...</td>\n",
       "      <td>Tracing Hot-Spring Facies and thier Geothermal...</td>\n",
       "      <td>None</td>\n",
       "      <td></td>\n",
       "      <td>2016</td>\n",
       "      <td>0</td>\n",
       "      <td>0</td>\n",
       "      <td>0</td>\n",
       "      <td>False</td>\n",
       "      <td>[Geology]</td>\n",
       "      <td>[{'authorId': '4662741', 'name': 'K. Campbell'...</td>\n",
       "      <td>[tracing, hotspring, facies, thier, geothermal...</td>\n",
       "    </tr>\n",
       "    <tr>\n",
       "      <th>4</th>\n",
       "      <td>f1376f87575a361568df4b3d891b5e6388519cfd</td>\n",
       "      <td>https://www.semanticscholar.org/paper/f1376f87...</td>\n",
       "      <td>Biosignature Analysis of Mars Soil Analogs fro...</td>\n",
       "      <td>The detection of biosignatures on Mars is of o...</td>\n",
       "      <td>Astrobiology</td>\n",
       "      <td>2020</td>\n",
       "      <td>90</td>\n",
       "      <td>6</td>\n",
       "      <td>0</td>\n",
       "      <td>True</td>\n",
       "      <td>[Medicine, Environmental Science]</td>\n",
       "      <td>[{'authorId': '32793236', 'name': 'Joost W. Ae...</td>\n",
       "      <td>[biosignature, analysis, mars, soil, analogs, ...</td>\n",
       "    </tr>\n",
       "    <tr>\n",
       "      <th>5</th>\n",
       "      <td>b89e9e58001cf455b55ba9b22d9a1273b20fd28f</td>\n",
       "      <td>https://www.semanticscholar.org/paper/b89e9e58...</td>\n",
       "      <td>Elemental Relics - A Trace Element Biosignatur...</td>\n",
       "      <td>Introduction: The burden of proof for confirmi...</td>\n",
       "      <td></td>\n",
       "      <td>2020</td>\n",
       "      <td>0</td>\n",
       "      <td>0</td>\n",
       "      <td>0</td>\n",
       "      <td>False</td>\n",
       "      <td>[Geology]</td>\n",
       "      <td>[{'authorId': '8646428', 'name': 'A. Gangidine...</td>\n",
       "      <td>[elemental, relics, trace, element, biosignatu...</td>\n",
       "    </tr>\n",
       "    <tr>\n",
       "      <th>6</th>\n",
       "      <td>15f56931cbfc6a0e2296be1cb9fd4d8fe4217781</td>\n",
       "      <td>https://www.semanticscholar.org/paper/15f56931...</td>\n",
       "      <td>Radiation Environment and Doses on Mars at Oxi...</td>\n",
       "      <td>None</td>\n",
       "      <td></td>\n",
       "      <td>2020</td>\n",
       "      <td>109</td>\n",
       "      <td>4</td>\n",
       "      <td>0</td>\n",
       "      <td>True</td>\n",
       "      <td>[Geology]</td>\n",
       "      <td>[{'authorId': '13634608', 'name': 'F. Da Pieve...</td>\n",
       "      <td>[radiation, environment, doses, mars, oxia, pl...</td>\n",
       "    </tr>\n",
       "    <tr>\n",
       "      <th>7</th>\n",
       "      <td>bba45399bbdadc942752ca0edb884a0d87675c9f</td>\n",
       "      <td>https://www.semanticscholar.org/paper/bba45399...</td>\n",
       "      <td>Protocol for Biosignature Identification in We...</td>\n",
       "      <td>Introduction: The NASA Mars 2020 rover key obj...</td>\n",
       "      <td></td>\n",
       "      <td>2020</td>\n",
       "      <td>0</td>\n",
       "      <td>0</td>\n",
       "      <td>0</td>\n",
       "      <td>False</td>\n",
       "      <td>[Geology]</td>\n",
       "      <td>[{'authorId': '5752254', 'name': 'M. Nachon'},...</td>\n",
       "      <td>[protocol, biosignature, identification, wet, ...</td>\n",
       "    </tr>\n",
       "    <tr>\n",
       "      <th>8</th>\n",
       "      <td>73e782e5532960f9c54cf2219ffdff0afbe5c308</td>\n",
       "      <td>https://www.semanticscholar.org/paper/73e782e5...</td>\n",
       "      <td>Biosignature detection by Mars rover equivalen...</td>\n",
       "      <td>Abstract This work details the laboratory anal...</td>\n",
       "      <td>Planetary and Space Science</td>\n",
       "      <td>2019</td>\n",
       "      <td>88</td>\n",
       "      <td>10</td>\n",
       "      <td>0</td>\n",
       "      <td>True</td>\n",
       "      <td>[Geology]</td>\n",
       "      <td>[{'authorId': '145729540', 'name': 'J. Strombe...</td>\n",
       "      <td>[biosignature, detection, mars, rover, equival...</td>\n",
       "    </tr>\n",
       "    <tr>\n",
       "      <th>9</th>\n",
       "      <td>e9040c638702931f009145cf6126874672585e52</td>\n",
       "      <td>https://www.semanticscholar.org/paper/e9040c63...</td>\n",
       "      <td>Metabolic Processes Preserved as Biosignatures...</td>\n",
       "      <td>Abstract Iron-oxidizing bacteria occupy a dist...</td>\n",
       "      <td>Astrobiology</td>\n",
       "      <td>2018</td>\n",
       "      <td>58</td>\n",
       "      <td>6</td>\n",
       "      <td>1</td>\n",
       "      <td>True</td>\n",
       "      <td>[Chemistry, Medicine]</td>\n",
       "      <td>[{'authorId': '34897565', 'name': 'M. Floyd'},...</td>\n",
       "      <td>[metabolic, processes, preserved, biosignature...</td>\n",
       "    </tr>\n",
       "    <tr>\n",
       "      <th>10</th>\n",
       "      <td>c8c6202e4593547af70a51d788b27e2385f6a12e</td>\n",
       "      <td>https://www.semanticscholar.org/paper/c8c6202e...</td>\n",
       "      <td>Remote Sensing Techniques to Investigate Poten...</td>\n",
       "      <td>Introduction: The Jezero crater has been selec...</td>\n",
       "      <td></td>\n",
       "      <td>2019</td>\n",
       "      <td>0</td>\n",
       "      <td>0</td>\n",
       "      <td>0</td>\n",
       "      <td>False</td>\n",
       "      <td>[Environmental Science]</td>\n",
       "      <td>[{'authorId': '26928499', 'name': 'Joshua Will...</td>\n",
       "      <td>[remote, sensing, techniques, investigate, pot...</td>\n",
       "    </tr>\n",
       "    <tr>\n",
       "      <th>11</th>\n",
       "      <td>0e5ab9a0d7e84b33e627f655777abc5bd3eda272</td>\n",
       "      <td>https://www.semanticscholar.org/paper/0e5ab9a0...</td>\n",
       "      <td>Biosignature Preservation and Detection in Mar...</td>\n",
       "      <td>Abstract This review of material relevant to t...</td>\n",
       "      <td>Astrobiology</td>\n",
       "      <td>2017</td>\n",
       "      <td>406</td>\n",
       "      <td>103</td>\n",
       "      <td>4</td>\n",
       "      <td>True</td>\n",
       "      <td>[Environmental Science, Medicine]</td>\n",
       "      <td>[{'authorId': '4717886', 'name': 'L. Hays'}, {...</td>\n",
       "      <td>[biosignature, preservation, detection, mars, ...</td>\n",
       "    </tr>\n",
       "    <tr>\n",
       "      <th>12</th>\n",
       "      <td>9a40cc604ec5720a627103a982df6089fa6298f6</td>\n",
       "      <td>https://www.semanticscholar.org/paper/9a40cc60...</td>\n",
       "      <td>Biosignature Preservation Potential in Playa E...</td>\n",
       "      <td>Assessing biosignature preservation potential ...</td>\n",
       "      <td>Astrobiology</td>\n",
       "      <td>2018</td>\n",
       "      <td>64</td>\n",
       "      <td>4</td>\n",
       "      <td>0</td>\n",
       "      <td>False</td>\n",
       "      <td>[Medicine, Geology]</td>\n",
       "      <td>[{'authorId': '40859922', 'name': 'S. Shkolyar...</td>\n",
       "      <td>[biosignature, preservation, potential, playa,...</td>\n",
       "    </tr>\n",
       "    <tr>\n",
       "      <th>13</th>\n",
       "      <td>1dc4c24e36f021bf4e1a5a4d2284112ab155f51d</td>\n",
       "      <td>https://www.semanticscholar.org/paper/1dc4c24e...</td>\n",
       "      <td>BIOSIGNATURE PRESERVATIONS IN GYPSUM VEINS AND...</td>\n",
       "      <td>Introduction: The first science goal for NASA’...</td>\n",
       "      <td></td>\n",
       "      <td>2018</td>\n",
       "      <td>0</td>\n",
       "      <td>0</td>\n",
       "      <td>0</td>\n",
       "      <td>False</td>\n",
       "      <td>None</td>\n",
       "      <td>[{'authorId': '30650610', 'name': 'M. Weng'}, ...</td>\n",
       "      <td>[biosignature, preservations, gypsum, veins, m...</td>\n",
       "    </tr>\n",
       "    <tr>\n",
       "      <th>14</th>\n",
       "      <td>be0a6eb06af6231edf9378247ac9e154add68770</td>\n",
       "      <td>https://www.semanticscholar.org/paper/be0a6eb0...</td>\n",
       "      <td>Conference Report: Biosignature Preservation a...</td>\n",
       "      <td>The Conference on Biosignature Preservation an...</td>\n",
       "      <td>Astrobiology</td>\n",
       "      <td>2017</td>\n",
       "      <td>1</td>\n",
       "      <td>7</td>\n",
       "      <td>0</td>\n",
       "      <td>False</td>\n",
       "      <td>[Geology, Medicine]</td>\n",
       "      <td>[{'authorId': '4717886', 'name': 'L. Hays'}, {...</td>\n",
       "      <td>[conference, report, biosignature, preservatio...</td>\n",
       "    </tr>\n",
       "    <tr>\n",
       "      <th>15</th>\n",
       "      <td>d67a56be98332cb1fa88a1045b419428f85c415d</td>\n",
       "      <td>https://www.semanticscholar.org/paper/d67a56be...</td>\n",
       "      <td>Biosignature Preservation Potential in a Playa...</td>\n",
       "      <td>None</td>\n",
       "      <td></td>\n",
       "      <td>2018</td>\n",
       "      <td>0</td>\n",
       "      <td>0</td>\n",
       "      <td>0</td>\n",
       "      <td>False</td>\n",
       "      <td>[Geology]</td>\n",
       "      <td>[{'authorId': '40859922', 'name': 'S. Shkolyar...</td>\n",
       "      <td>[biosignature, preservation, potential, playa,...</td>\n",
       "    </tr>\n",
       "    <tr>\n",
       "      <th>16</th>\n",
       "      <td>934b7e56240403e7a758d79446850f9ecd3801f2</td>\n",
       "      <td>https://www.semanticscholar.org/paper/934b7e56...</td>\n",
       "      <td>Coevolution as a Guiding Principle for Biosign...</td>\n",
       "      <td>BEYOND). N.A. Cabrol, J. Bishop, S.L. Cady, N....</td>\n",
       "      <td></td>\n",
       "      <td>2018</td>\n",
       "      <td>0</td>\n",
       "      <td>0</td>\n",
       "      <td>0</td>\n",
       "      <td>False</td>\n",
       "      <td>[Geology]</td>\n",
       "      <td>[{'authorId': '2674096', 'name': 'N. Cabrol'},...</td>\n",
       "      <td>[coevolution, guiding, principle, biosignature...</td>\n",
       "    </tr>\n",
       "    <tr>\n",
       "      <th>17</th>\n",
       "      <td>949fd1339720632fe3f18359efc2a30eaa74fd00</td>\n",
       "      <td>https://www.semanticscholar.org/paper/949fd133...</td>\n",
       "      <td>Developing a Trace Element Biosignature for Ea...</td>\n",
       "      <td>None</td>\n",
       "      <td></td>\n",
       "      <td>2018</td>\n",
       "      <td>0</td>\n",
       "      <td>0</td>\n",
       "      <td>0</td>\n",
       "      <td>False</td>\n",
       "      <td>[Geology]</td>\n",
       "      <td>[{'authorId': '8646428', 'name': 'A. Gangidine...</td>\n",
       "      <td>[developing, trace, element, biosignature, ear...</td>\n",
       "    </tr>\n",
       "    <tr>\n",
       "      <th>18</th>\n",
       "      <td>677d1e3674af73b4640e84ee26e0b257be0987d8</td>\n",
       "      <td>https://www.semanticscholar.org/paper/677d1e36...</td>\n",
       "      <td>Carbonates’ precipitation by halophilic bacter...</td>\n",
       "      <td>The mechanisms of Mg-carbonate precipitation i...</td>\n",
       "      <td>Revista dos Trabalhos de Iniciação Científica ...</td>\n",
       "      <td>2018</td>\n",
       "      <td>0</td>\n",
       "      <td>0</td>\n",
       "      <td>0</td>\n",
       "      <td>True</td>\n",
       "      <td>[Chemistry]</td>\n",
       "      <td>[{'authorId': '116482993', 'name': 'B. Brenha'...</td>\n",
       "      <td>[carbonates, ’, precipitation, halophilic, bac...</td>\n",
       "    </tr>\n",
       "    <tr>\n",
       "      <th>19</th>\n",
       "      <td>a2a7d488be07da0a8952432d7ac080fede8722c9</td>\n",
       "      <td>https://www.semanticscholar.org/paper/a2a7d488...</td>\n",
       "      <td>Diagenesis of organic microfossils and their m...</td>\n",
       "      <td>None</td>\n",
       "      <td></td>\n",
       "      <td>2018</td>\n",
       "      <td>0</td>\n",
       "      <td>0</td>\n",
       "      <td>0</td>\n",
       "      <td>False</td>\n",
       "      <td>[Geology]</td>\n",
       "      <td>[{'authorId': '36549028', 'name': 'A. Czaja'},...</td>\n",
       "      <td>[diagenesis, organic, microfossils, mineral, m...</td>\n",
       "    </tr>\n",
       "    <tr>\n",
       "      <th>20</th>\n",
       "      <td>b1025a453ac7b677c5ffaccca9952896119e2487</td>\n",
       "      <td>https://www.semanticscholar.org/paper/b1025a45...</td>\n",
       "      <td>UNDERSTANDING HABITABILITY AND BIOSIGNATURE PR...</td>\n",
       "      <td>MARS ANALOG ENIVRONMENT: LESSONS FROM SPOTTED ...</td>\n",
       "      <td></td>\n",
       "      <td>2017</td>\n",
       "      <td>0</td>\n",
       "      <td>0</td>\n",
       "      <td>0</td>\n",
       "      <td>False</td>\n",
       "      <td>None</td>\n",
       "      <td>[{'authorId': '35749023', 'name': 'A. Pontefra...</td>\n",
       "      <td>[understanding, habitability, biosignature, pr...</td>\n",
       "    </tr>\n",
       "    <tr>\n",
       "      <th>21</th>\n",
       "      <td>d24a291e1d6ab78d3032256ced7ded16ddae106a</td>\n",
       "      <td>https://www.semanticscholar.org/paper/d24a291e...</td>\n",
       "      <td>Attenuation of UV Radiation in Rocks and Miner...</td>\n",
       "      <td>None</td>\n",
       "      <td></td>\n",
       "      <td>2017</td>\n",
       "      <td>0</td>\n",
       "      <td>1</td>\n",
       "      <td>0</td>\n",
       "      <td>False</td>\n",
       "      <td>[Geology]</td>\n",
       "      <td>[{'authorId': '4046229', 'name': 'L. Beegle'},...</td>\n",
       "      <td>[attenuation, uv, radiation, rocks, minerals, ...</td>\n",
       "    </tr>\n",
       "    <tr>\n",
       "      <th>22</th>\n",
       "      <td>8bd506fadaa7c5b5fdfa66d1c61f408395a08067</td>\n",
       "      <td>https://www.semanticscholar.org/paper/8bd506fa...</td>\n",
       "      <td>Discovery of Naturally Etched Fission Tracks a...</td>\n",
       "      <td>Over the last two decades, conspicuously “biog...</td>\n",
       "      <td></td>\n",
       "      <td>2016</td>\n",
       "      <td>248</td>\n",
       "      <td>7</td>\n",
       "      <td>0</td>\n",
       "      <td>True</td>\n",
       "      <td>[Geology]</td>\n",
       "      <td>[{'authorId': '77338651', 'name': 'Jason E. Fr...</td>\n",
       "      <td>[discovery, naturally, etched, fission, tracks...</td>\n",
       "    </tr>\n",
       "    <tr>\n",
       "      <th>23</th>\n",
       "      <td>1ef3fb6e652a1618eddb2ad050447c7d98774412</td>\n",
       "      <td>https://www.semanticscholar.org/paper/1ef3fb6e...</td>\n",
       "      <td>Variations in Biosignature Preservation: Geoch...</td>\n",
       "      <td>Introduction: Mars exploration has revealed ev...</td>\n",
       "      <td></td>\n",
       "      <td>2016</td>\n",
       "      <td>0</td>\n",
       "      <td>0</td>\n",
       "      <td>0</td>\n",
       "      <td>False</td>\n",
       "      <td>[Geology]</td>\n",
       "      <td>[{'authorId': '104924670', 'name': 'K. Lorber'...</td>\n",
       "      <td>[variations, biosignature, preservation, geoch...</td>\n",
       "    </tr>\n",
       "    <tr>\n",
       "      <th>24</th>\n",
       "      <td>48b712a9e76575bdb9a99e134ae05a9e03997109</td>\n",
       "      <td>https://www.semanticscholar.org/paper/48b712a9...</td>\n",
       "      <td>Biosignature detection in Mars Analogue Aqueou...</td>\n",
       "      <td>None</td>\n",
       "      <td></td>\n",
       "      <td>2016</td>\n",
       "      <td>0</td>\n",
       "      <td>1</td>\n",
       "      <td>0</td>\n",
       "      <td>False</td>\n",
       "      <td>[Chemistry]</td>\n",
       "      <td>[{'authorId': '2052971999', 'name': 'D. Hamilt...</td>\n",
       "      <td>[biosignature, detection, mars, analogue, aque...</td>\n",
       "    </tr>\n",
       "    <tr>\n",
       "      <th>25</th>\n",
       "      <td>14d22c67baa648412d14e2a6798e33ff4b8bcccd</td>\n",
       "      <td>https://www.semanticscholar.org/paper/14d22c67...</td>\n",
       "      <td>DEFINING GEOMORPHOLOGIC CRITERIA TO IDENTIFY S...</td>\n",
       "      <td>None</td>\n",
       "      <td></td>\n",
       "      <td>2016</td>\n",
       "      <td>0</td>\n",
       "      <td>0</td>\n",
       "      <td>0</td>\n",
       "      <td>True</td>\n",
       "      <td>[Geology]</td>\n",
       "      <td>[{'authorId': '26928499', 'name': 'Joshua Will...</td>\n",
       "      <td>[defining, geomorphologic, criteria, identify,...</td>\n",
       "    </tr>\n",
       "    <tr>\n",
       "      <th>26</th>\n",
       "      <td>50edb659905e64f1c66d683730acc1166c26f34e</td>\n",
       "      <td>https://www.semanticscholar.org/paper/50edb659...</td>\n",
       "      <td>Impact of Diagenesis on Biosignature Preservat...</td>\n",
       "      <td>None</td>\n",
       "      <td></td>\n",
       "      <td>2015</td>\n",
       "      <td>0</td>\n",
       "      <td>1</td>\n",
       "      <td>0</td>\n",
       "      <td>False</td>\n",
       "      <td>[Geology]</td>\n",
       "      <td>[{'authorId': '40859922', 'name': 'S. Shkolyar...</td>\n",
       "      <td>[impact, diagenesis, biosignature, preservatio...</td>\n",
       "    </tr>\n",
       "    <tr>\n",
       "      <th>27</th>\n",
       "      <td>36d23ffa810754651adb7ef60b52c814ef45d993</td>\n",
       "      <td>https://www.semanticscholar.org/paper/36d23ffa...</td>\n",
       "      <td>The persistence of a chlorophyll spectral bios...</td>\n",
       "      <td>Abstract Spring and evaporite deposits are con...</td>\n",
       "      <td>International Journal of Astrobiology</td>\n",
       "      <td>2013</td>\n",
       "      <td>121</td>\n",
       "      <td>15</td>\n",
       "      <td>0</td>\n",
       "      <td>True</td>\n",
       "      <td>[Geology]</td>\n",
       "      <td>[{'authorId': '145729540', 'name': 'J. Strombe...</td>\n",
       "      <td>[persistence, chlorophyll, spectral, biosignat...</td>\n",
       "    </tr>\n",
       "    <tr>\n",
       "      <th>28</th>\n",
       "      <td>7d6d7c931e0a156a057cfcea729ba723089eb77d</td>\n",
       "      <td>https://www.semanticscholar.org/paper/7d6d7c93...</td>\n",
       "      <td>Microimaging Spectroscopy on Mars with CIMMBA,...</td>\n",
       "      <td>CACHING-SUPPORTING INFRARED MICROIMAGER FOR MI...</td>\n",
       "      <td></td>\n",
       "      <td>2014</td>\n",
       "      <td>0</td>\n",
       "      <td>1</td>\n",
       "      <td>0</td>\n",
       "      <td>False</td>\n",
       "      <td>[Geology]</td>\n",
       "      <td>[{'authorId': '3477693', 'name': 'B. Ehlmann'}...</td>\n",
       "      <td>[microimaging, spectroscopy, mars, cimmba, pro...</td>\n",
       "    </tr>\n",
       "    <tr>\n",
       "      <th>29</th>\n",
       "      <td>a491bc56c596f169dedd8eebc2346a987b277dcc</td>\n",
       "      <td>https://www.semanticscholar.org/paper/a491bc56...</td>\n",
       "      <td>Detecting Ce3+ as a biosignature mimicker usin...</td>\n",
       "      <td>Abstract Combined UV Raman and laser-induced f...</td>\n",
       "      <td></td>\n",
       "      <td>2021</td>\n",
       "      <td>134</td>\n",
       "      <td>4</td>\n",
       "      <td>0</td>\n",
       "      <td>False</td>\n",
       "      <td>[Materials Science]</td>\n",
       "      <td>[{'authorId': '40859922', 'name': 'S. Shkolyar...</td>\n",
       "      <td>[detecting, ce3, biosignature, mimicker, using...</td>\n",
       "    </tr>\n",
       "    <tr>\n",
       "      <th>30</th>\n",
       "      <td>a1e77fbcf7a255f1d9e068d869395f4e59820aca</td>\n",
       "      <td>https://www.semanticscholar.org/paper/a1e77fbc...</td>\n",
       "      <td>Mars Habitability, Biosignature Preservation, ...</td>\n",
       "      <td>Our work has elucidated a new analog for the f...</td>\n",
       "      <td></td>\n",
       "      <td>2014</td>\n",
       "      <td>0</td>\n",
       "      <td>0</td>\n",
       "      <td>0</td>\n",
       "      <td>False</td>\n",
       "      <td>[Geology]</td>\n",
       "      <td>[{'authorId': '40335319', 'name': 'D. Oehler'}...</td>\n",
       "      <td>[mars, habitability, biosignature, preservatio...</td>\n",
       "    </tr>\n",
       "    <tr>\n",
       "      <th>31</th>\n",
       "      <td>616602ae9e9f565e30fa8c5284f1a7e1c0a8e862</td>\n",
       "      <td>https://www.semanticscholar.org/paper/616602ae...</td>\n",
       "      <td>MICROBIAL BIOSIGNATURE INVESTIGATION IN AEOLIA...</td>\n",
       "      <td>Introduction: Looking for evidence of ancient ...</td>\n",
       "      <td></td>\n",
       "      <td>2021</td>\n",
       "      <td>3</td>\n",
       "      <td>0</td>\n",
       "      <td>0</td>\n",
       "      <td>False</td>\n",
       "      <td>None</td>\n",
       "      <td>[{'authorId': '5752254', 'name': 'M. Nachon'},...</td>\n",
       "      <td>[microbial, biosignature, investigation, aeoli...</td>\n",
       "    </tr>\n",
       "    <tr>\n",
       "      <th>32</th>\n",
       "      <td>5a1a63a17b805400754f5da08ad03fecd0071ba1</td>\n",
       "      <td>https://www.semanticscholar.org/paper/5a1a63a1...</td>\n",
       "      <td>Preservation of Biosignature Molecules in Pote...</td>\n",
       "      <td>None</td>\n",
       "      <td></td>\n",
       "      <td>2013</td>\n",
       "      <td>0</td>\n",
       "      <td>0</td>\n",
       "      <td>0</td>\n",
       "      <td>False</td>\n",
       "      <td>[Geology]</td>\n",
       "      <td>[{'authorId': '92544301', 'name': 'K. Lykens'}...</td>\n",
       "      <td>[preservation, biosignature, molecules, potent...</td>\n",
       "    </tr>\n",
       "    <tr>\n",
       "      <th>33</th>\n",
       "      <td>9e9dc495e1ab15cafd873838f6b4595976fa7a4e</td>\n",
       "      <td>https://www.semanticscholar.org/paper/9e9dc495...</td>\n",
       "      <td>Carbonate precipitation under bulk acidic cond...</td>\n",
       "      <td>Recent observations of carbonate minerals in a...</td>\n",
       "      <td></td>\n",
       "      <td>2012</td>\n",
       "      <td>33</td>\n",
       "      <td>23</td>\n",
       "      <td>0</td>\n",
       "      <td>False</td>\n",
       "      <td>[Geology]</td>\n",
       "      <td>[{'authorId': '1412375586', 'name': 'D. Fernán...</td>\n",
       "      <td>[carbonate, precipitation, bulk, acidic, condi...</td>\n",
       "    </tr>\n",
       "    <tr>\n",
       "      <th>34</th>\n",
       "      <td>74347ed0cb3a0f5c5be8383fb03dc5dc56ba75be</td>\n",
       "      <td>https://www.semanticscholar.org/paper/74347ed0...</td>\n",
       "      <td>Interactions Between Iron Sulfide Minerals and...</td>\n",
       "      <td>Microbe-mineral interactions can produce uniqu...</td>\n",
       "      <td>Astrobiology</td>\n",
       "      <td>2021</td>\n",
       "      <td>0</td>\n",
       "      <td>1</td>\n",
       "      <td>0</td>\n",
       "      <td>False</td>\n",
       "      <td>[Medicine]</td>\n",
       "      <td>[{'authorId': '5462646', 'name': 'A. Picard'},...</td>\n",
       "      <td>[interactions, iron, sulfide, minerals, organi...</td>\n",
       "    </tr>\n",
       "    <tr>\n",
       "      <th>35</th>\n",
       "      <td>972b999d86a4f6607ab50c76942c75b611b95ee8</td>\n",
       "      <td>https://www.semanticscholar.org/paper/972b999d...</td>\n",
       "      <td>Mineralogy, aqueous history and biosignature p...</td>\n",
       "      <td>&lt;p&gt;In 2022, ESA/ROSCOSMOS will launch the ExoM...</td>\n",
       "      <td></td>\n",
       "      <td>2021</td>\n",
       "      <td>0</td>\n",
       "      <td>0</td>\n",
       "      <td>0</td>\n",
       "      <td>False</td>\n",
       "      <td>[Geology]</td>\n",
       "      <td>[{'authorId': '91840260', 'name': 'A. Krzesińs...</td>\n",
       "      <td>[mineralogy, aqueous, history, biosignature, p...</td>\n",
       "    </tr>\n",
       "    <tr>\n",
       "      <th>36</th>\n",
       "      <td>8aaa6b2d2411b7103e6dd517476512baa87dd544</td>\n",
       "      <td>https://www.semanticscholar.org/paper/8aaa6b2d...</td>\n",
       "      <td>Carbonate precipitation in acidic environments...</td>\n",
       "      <td>Recent observations of carbonate minerals in a...</td>\n",
       "      <td></td>\n",
       "      <td>2012</td>\n",
       "      <td>0</td>\n",
       "      <td>0</td>\n",
       "      <td>0</td>\n",
       "      <td>False</td>\n",
       "      <td>[Geology]</td>\n",
       "      <td>[{'authorId': '1405132185', 'name': 'M. Sánche...</td>\n",
       "      <td>[carbonate, precipitation, acidic, environment...</td>\n",
       "    </tr>\n",
       "    <tr>\n",
       "      <th>37</th>\n",
       "      <td>049c32eba945e46dcec43c20359b47bdc7020f7a</td>\n",
       "      <td>https://www.semanticscholar.org/paper/049c32eb...</td>\n",
       "      <td>Bacterial Cellulose Retains Robustness but Its...</td>\n",
       "      <td>Cellulose is a widespread macromolecule in ter...</td>\n",
       "      <td>Astrobiology</td>\n",
       "      <td>2021</td>\n",
       "      <td>0</td>\n",
       "      <td>7</td>\n",
       "      <td>0</td>\n",
       "      <td>False</td>\n",
       "      <td>[Medicine]</td>\n",
       "      <td>[{'authorId': '51988559', 'name': 'I. Orlovska...</td>\n",
       "      <td>[bacterial, cellulose, retains, robustness, sy...</td>\n",
       "    </tr>\n",
       "    <tr>\n",
       "      <th>38</th>\n",
       "      <td>723ea5f081d19fc15fdaa4320ccc762eeffa3647</td>\n",
       "      <td>https://www.semanticscholar.org/paper/723ea5f0...</td>\n",
       "      <td>Acceleration of amino acid racemization by iso...</td>\n",
       "      <td>Abstract In nature, abiotically formed amino a...</td>\n",
       "      <td>International Journal of Astrobiology</td>\n",
       "      <td>2020</td>\n",
       "      <td>33</td>\n",
       "      <td>0</td>\n",
       "      <td>0</td>\n",
       "      <td>True</td>\n",
       "      <td>[Chemistry]</td>\n",
       "      <td>[{'authorId': '11108935', 'name': 'S. Fox'}, {...</td>\n",
       "      <td>[acceleration, amino, acid, racemization, isov...</td>\n",
       "    </tr>\n",
       "    <tr>\n",
       "      <th>39</th>\n",
       "      <td>a0ba4e2143adb0be515edb3d889923fdc053418f</td>\n",
       "      <td>https://www.semanticscholar.org/paper/a0ba4e21...</td>\n",
       "      <td>MapX: An In-situ X-ray µ-Mapper for Habitabili...</td>\n",
       "      <td>&lt;p&gt;&lt;strong&gt;&amp;#160; &amp;#160;Introduction:&lt;/strong&gt;...</td>\n",
       "      <td></td>\n",
       "      <td>2020</td>\n",
       "      <td>0</td>\n",
       "      <td>0</td>\n",
       "      <td>0</td>\n",
       "      <td>False</td>\n",
       "      <td>None</td>\n",
       "      <td>[{'authorId': '2068472775', 'name': 'D. Blake'...</td>\n",
       "      <td>[mapx, insitu, xray, µmapper, habitability, bi...</td>\n",
       "    </tr>\n",
       "    <tr>\n",
       "      <th>40</th>\n",
       "      <td>79d69ee7fe8b4edcc8e1d5d5a44f81870221128c</td>\n",
       "      <td>https://www.semanticscholar.org/paper/79d69ee7...</td>\n",
       "      <td>Searching for biosignatures in sedimentary roc...</td>\n",
       "      <td>The recognition of past habitable environments...</td>\n",
       "      <td>Nature Reviews Earth &amp; Environment</td>\n",
       "      <td>2021</td>\n",
       "      <td>337</td>\n",
       "      <td>3</td>\n",
       "      <td>0</td>\n",
       "      <td>False</td>\n",
       "      <td>None</td>\n",
       "      <td>[{'authorId': '6215191', 'name': 'T. Bosak'}, ...</td>\n",
       "      <td>[searching, biosignatures, sedimentary, rocks,...</td>\n",
       "    </tr>\n",
       "    <tr>\n",
       "      <th>41</th>\n",
       "      <td>ce3f3e94d256a82a7f22d7f9c7e64f6c4379c2a7</td>\n",
       "      <td>https://www.semanticscholar.org/paper/ce3f3e94...</td>\n",
       "      <td>Reactive Transport Modeling of Aqueous Alterat...</td>\n",
       "      <td>Past aqueous conditions in the Murray formatio...</td>\n",
       "      <td></td>\n",
       "      <td>2021</td>\n",
       "      <td>91</td>\n",
       "      <td>1</td>\n",
       "      <td>0</td>\n",
       "      <td>False</td>\n",
       "      <td>[Geology]</td>\n",
       "      <td>[{'authorId': '9662705', 'name': 'E. Hausrath'...</td>\n",
       "      <td>[reactive, transport, modeling, aqueous, alter...</td>\n",
       "    </tr>\n",
       "    <tr>\n",
       "      <th>42</th>\n",
       "      <td>34271cf6ddcc75ecdf5e81bbdfae2515cc32910e</td>\n",
       "      <td>https://www.semanticscholar.org/paper/34271cf6...</td>\n",
       "      <td>Detection of organic carbon in Mars-analog pal...</td>\n",
       "      <td>37 Decades of space exploration have shown tha...</td>\n",
       "      <td></td>\n",
       "      <td>2021</td>\n",
       "      <td>146</td>\n",
       "      <td>0</td>\n",
       "      <td>0</td>\n",
       "      <td>False</td>\n",
       "      <td>None</td>\n",
       "      <td>[{'authorId': '94402134', 'name': 'A. Broz'}, ...</td>\n",
       "      <td>[detection, organic, carbon, marsanalog, paleo...</td>\n",
       "    </tr>\n",
       "    <tr>\n",
       "      <th>43</th>\n",
       "      <td>9899b985fc315e6bc9d5a91fd30420c3c65d48be</td>\n",
       "      <td>https://www.semanticscholar.org/paper/9899b985...</td>\n",
       "      <td>Detection of organic carbon in Mars-analog pal...</td>\n",
       "      <td>Decades of space exploration have shown that s...</td>\n",
       "      <td></td>\n",
       "      <td>2021</td>\n",
       "      <td>0</td>\n",
       "      <td>0</td>\n",
       "      <td>0</td>\n",
       "      <td>False</td>\n",
       "      <td>None</td>\n",
       "      <td>[{'authorId': '94402134', 'name': 'A. Broz'}, ...</td>\n",
       "      <td>[detection, organic, carbon, marsanalog, paleo...</td>\n",
       "    </tr>\n",
       "    <tr>\n",
       "      <th>44</th>\n",
       "      <td>9fb0d3fc1442fecadce0f24cb6df782ac797980b</td>\n",
       "      <td>https://www.semanticscholar.org/paper/9fb0d3fc...</td>\n",
       "      <td>Detection of methanogene archaea in Mars-like ...</td>\n",
       "      <td>The origin of methane on Mars is unknown. It m...</td>\n",
       "      <td></td>\n",
       "      <td>2011</td>\n",
       "      <td>0</td>\n",
       "      <td>0</td>\n",
       "      <td>0</td>\n",
       "      <td>False</td>\n",
       "      <td>[Chemistry]</td>\n",
       "      <td>[{'authorId': '88432642', 'name': 'J. Vera'}, ...</td>\n",
       "      <td>[detection, methanogene, archaea, marslike, en...</td>\n",
       "    </tr>\n",
       "    <tr>\n",
       "      <th>45</th>\n",
       "      <td>b06ef20802464fe85d92da8644e4149552f2a554</td>\n",
       "      <td>https://www.semanticscholar.org/paper/b06ef208...</td>\n",
       "      <td>Trace Element Concentrations in Hydrothermal S...</td>\n",
       "      <td>Uncovering and understanding the chemical and ...</td>\n",
       "      <td>Astrobiology</td>\n",
       "      <td>2019</td>\n",
       "      <td>35</td>\n",
       "      <td>4</td>\n",
       "      <td>0</td>\n",
       "      <td>True</td>\n",
       "      <td>[Medicine, Geology]</td>\n",
       "      <td>[{'authorId': '8646428', 'name': 'A. Gangidine...</td>\n",
       "      <td>[trace, element, concentrations, hydrothermal,...</td>\n",
       "    </tr>\n",
       "    <tr>\n",
       "      <th>46</th>\n",
       "      <td>a1f0c838b99d2ce13d3b3a890bc3cdf8720db59e</td>\n",
       "      <td>https://www.semanticscholar.org/paper/a1f0c838...</td>\n",
       "      <td>Physical Constraints on Motility with Applicat...</td>\n",
       "      <td>Motility is a ubiquitous feature of microbial ...</td>\n",
       "      <td>The Planetary Science Journal</td>\n",
       "      <td>2021</td>\n",
       "      <td>50</td>\n",
       "      <td>0</td>\n",
       "      <td>0</td>\n",
       "      <td>False</td>\n",
       "      <td>[Physics, Biology]</td>\n",
       "      <td>[{'authorId': '5345729', 'name': 'M. Lingam'},...</td>\n",
       "      <td>[physical, constraints, motility, applications...</td>\n",
       "    </tr>\n",
       "    <tr>\n",
       "      <th>47</th>\n",
       "      <td>73c1ae01004e4bf1bd0f31e13eca93bb474c456d</td>\n",
       "      <td>https://www.semanticscholar.org/paper/73c1ae01...</td>\n",
       "      <td>GOT GAS? ASSESSING NON-METHANE VOLATILE ORGANI...</td>\n",
       "      <td>Introduction: Recent findings of methane on Ma...</td>\n",
       "      <td></td>\n",
       "      <td>2019</td>\n",
       "      <td>0</td>\n",
       "      <td>1</td>\n",
       "      <td>0</td>\n",
       "      <td>False</td>\n",
       "      <td>None</td>\n",
       "      <td>[{'authorId': '1663954024', 'name': 'P. Lee'},...</td>\n",
       "      <td>[got, gas, assessing, nonmethane, volatile, or...</td>\n",
       "    </tr>\n",
       "    <tr>\n",
       "      <th>48</th>\n",
       "      <td>3634b6aaff67e04fc66a6cc00025c7ada00f63e9</td>\n",
       "      <td>https://www.semanticscholar.org/paper/3634b6aa...</td>\n",
       "      <td>The Oxygen Release Instrument: Space Mission R...</td>\n",
       "      <td>We describe the design of an instrument, the O...</td>\n",
       "      <td>Life</td>\n",
       "      <td>2019</td>\n",
       "      <td>83</td>\n",
       "      <td>0</td>\n",
       "      <td>0</td>\n",
       "      <td>True</td>\n",
       "      <td>[Environmental Science, Medicine]</td>\n",
       "      <td>[{'authorId': '3193712', 'name': 'C. Georgiou'...</td>\n",
       "      <td>[oxygen, release, instrument, space, mission, ...</td>\n",
       "    </tr>\n",
       "    <tr>\n",
       "      <th>49</th>\n",
       "      <td>85b88d00e661ffa30d70e04e3d522b65878247db</td>\n",
       "      <td>https://www.semanticscholar.org/paper/85b88d00...</td>\n",
       "      <td>Fatty Acid Preservation in Modern and Relict H...</td>\n",
       "      <td>Hydrothermal spring deposits host unique micro...</td>\n",
       "      <td>Astrobiology</td>\n",
       "      <td>2020</td>\n",
       "      <td>0</td>\n",
       "      <td>5</td>\n",
       "      <td>0</td>\n",
       "      <td>False</td>\n",
       "      <td>[Environmental Science, Medicine]</td>\n",
       "      <td>[{'authorId': '2109164299', 'name': 'Amy J. Wi...</td>\n",
       "      <td>[fatty, acid, preservation, modern, relict, ho...</td>\n",
       "    </tr>\n",
       "  </tbody>\n",
       "</table>\n",
       "</div>"
      ],
      "text/plain": [
       "                                     paperId  \\\n",
       "0   1935abaebef93ceb4b18eaf67c12618a001b26bb   \n",
       "1   958b808c4e32488bf9f484c7de0b928ddfe94cff   \n",
       "2   61d144bd68693abd0ceafd1275969e8596b8c34b   \n",
       "3   fc7a04d99ce2f9bc8a9c177e6a6cdbebe842641f   \n",
       "4   f1376f87575a361568df4b3d891b5e6388519cfd   \n",
       "5   b89e9e58001cf455b55ba9b22d9a1273b20fd28f   \n",
       "6   15f56931cbfc6a0e2296be1cb9fd4d8fe4217781   \n",
       "7   bba45399bbdadc942752ca0edb884a0d87675c9f   \n",
       "8   73e782e5532960f9c54cf2219ffdff0afbe5c308   \n",
       "9   e9040c638702931f009145cf6126874672585e52   \n",
       "10  c8c6202e4593547af70a51d788b27e2385f6a12e   \n",
       "11  0e5ab9a0d7e84b33e627f655777abc5bd3eda272   \n",
       "12  9a40cc604ec5720a627103a982df6089fa6298f6   \n",
       "13  1dc4c24e36f021bf4e1a5a4d2284112ab155f51d   \n",
       "14  be0a6eb06af6231edf9378247ac9e154add68770   \n",
       "15  d67a56be98332cb1fa88a1045b419428f85c415d   \n",
       "16  934b7e56240403e7a758d79446850f9ecd3801f2   \n",
       "17  949fd1339720632fe3f18359efc2a30eaa74fd00   \n",
       "18  677d1e3674af73b4640e84ee26e0b257be0987d8   \n",
       "19  a2a7d488be07da0a8952432d7ac080fede8722c9   \n",
       "20  b1025a453ac7b677c5ffaccca9952896119e2487   \n",
       "21  d24a291e1d6ab78d3032256ced7ded16ddae106a   \n",
       "22  8bd506fadaa7c5b5fdfa66d1c61f408395a08067   \n",
       "23  1ef3fb6e652a1618eddb2ad050447c7d98774412   \n",
       "24  48b712a9e76575bdb9a99e134ae05a9e03997109   \n",
       "25  14d22c67baa648412d14e2a6798e33ff4b8bcccd   \n",
       "26  50edb659905e64f1c66d683730acc1166c26f34e   \n",
       "27  36d23ffa810754651adb7ef60b52c814ef45d993   \n",
       "28  7d6d7c931e0a156a057cfcea729ba723089eb77d   \n",
       "29  a491bc56c596f169dedd8eebc2346a987b277dcc   \n",
       "30  a1e77fbcf7a255f1d9e068d869395f4e59820aca   \n",
       "31  616602ae9e9f565e30fa8c5284f1a7e1c0a8e862   \n",
       "32  5a1a63a17b805400754f5da08ad03fecd0071ba1   \n",
       "33  9e9dc495e1ab15cafd873838f6b4595976fa7a4e   \n",
       "34  74347ed0cb3a0f5c5be8383fb03dc5dc56ba75be   \n",
       "35  972b999d86a4f6607ab50c76942c75b611b95ee8   \n",
       "36  8aaa6b2d2411b7103e6dd517476512baa87dd544   \n",
       "37  049c32eba945e46dcec43c20359b47bdc7020f7a   \n",
       "38  723ea5f081d19fc15fdaa4320ccc762eeffa3647   \n",
       "39  a0ba4e2143adb0be515edb3d889923fdc053418f   \n",
       "40  79d69ee7fe8b4edcc8e1d5d5a44f81870221128c   \n",
       "41  ce3f3e94d256a82a7f22d7f9c7e64f6c4379c2a7   \n",
       "42  34271cf6ddcc75ecdf5e81bbdfae2515cc32910e   \n",
       "43  9899b985fc315e6bc9d5a91fd30420c3c65d48be   \n",
       "44  9fb0d3fc1442fecadce0f24cb6df782ac797980b   \n",
       "45  b06ef20802464fe85d92da8644e4149552f2a554   \n",
       "46  a1f0c838b99d2ce13d3b3a890bc3cdf8720db59e   \n",
       "47  73c1ae01004e4bf1bd0f31e13eca93bb474c456d   \n",
       "48  3634b6aaff67e04fc66a6cc00025c7ada00f63e9   \n",
       "49  85b88d00e661ffa30d70e04e3d522b65878247db   \n",
       "\n",
       "                                                  url  \\\n",
       "0   https://www.semanticscholar.org/paper/1935abae...   \n",
       "1   https://www.semanticscholar.org/paper/958b808c...   \n",
       "2   https://www.semanticscholar.org/paper/61d144bd...   \n",
       "3   https://www.semanticscholar.org/paper/fc7a04d9...   \n",
       "4   https://www.semanticscholar.org/paper/f1376f87...   \n",
       "5   https://www.semanticscholar.org/paper/b89e9e58...   \n",
       "6   https://www.semanticscholar.org/paper/15f56931...   \n",
       "7   https://www.semanticscholar.org/paper/bba45399...   \n",
       "8   https://www.semanticscholar.org/paper/73e782e5...   \n",
       "9   https://www.semanticscholar.org/paper/e9040c63...   \n",
       "10  https://www.semanticscholar.org/paper/c8c6202e...   \n",
       "11  https://www.semanticscholar.org/paper/0e5ab9a0...   \n",
       "12  https://www.semanticscholar.org/paper/9a40cc60...   \n",
       "13  https://www.semanticscholar.org/paper/1dc4c24e...   \n",
       "14  https://www.semanticscholar.org/paper/be0a6eb0...   \n",
       "15  https://www.semanticscholar.org/paper/d67a56be...   \n",
       "16  https://www.semanticscholar.org/paper/934b7e56...   \n",
       "17  https://www.semanticscholar.org/paper/949fd133...   \n",
       "18  https://www.semanticscholar.org/paper/677d1e36...   \n",
       "19  https://www.semanticscholar.org/paper/a2a7d488...   \n",
       "20  https://www.semanticscholar.org/paper/b1025a45...   \n",
       "21  https://www.semanticscholar.org/paper/d24a291e...   \n",
       "22  https://www.semanticscholar.org/paper/8bd506fa...   \n",
       "23  https://www.semanticscholar.org/paper/1ef3fb6e...   \n",
       "24  https://www.semanticscholar.org/paper/48b712a9...   \n",
       "25  https://www.semanticscholar.org/paper/14d22c67...   \n",
       "26  https://www.semanticscholar.org/paper/50edb659...   \n",
       "27  https://www.semanticscholar.org/paper/36d23ffa...   \n",
       "28  https://www.semanticscholar.org/paper/7d6d7c93...   \n",
       "29  https://www.semanticscholar.org/paper/a491bc56...   \n",
       "30  https://www.semanticscholar.org/paper/a1e77fbc...   \n",
       "31  https://www.semanticscholar.org/paper/616602ae...   \n",
       "32  https://www.semanticscholar.org/paper/5a1a63a1...   \n",
       "33  https://www.semanticscholar.org/paper/9e9dc495...   \n",
       "34  https://www.semanticscholar.org/paper/74347ed0...   \n",
       "35  https://www.semanticscholar.org/paper/972b999d...   \n",
       "36  https://www.semanticscholar.org/paper/8aaa6b2d...   \n",
       "37  https://www.semanticscholar.org/paper/049c32eb...   \n",
       "38  https://www.semanticscholar.org/paper/723ea5f0...   \n",
       "39  https://www.semanticscholar.org/paper/a0ba4e21...   \n",
       "40  https://www.semanticscholar.org/paper/79d69ee7...   \n",
       "41  https://www.semanticscholar.org/paper/ce3f3e94...   \n",
       "42  https://www.semanticscholar.org/paper/34271cf6...   \n",
       "43  https://www.semanticscholar.org/paper/9899b985...   \n",
       "44  https://www.semanticscholar.org/paper/9fb0d3fc...   \n",
       "45  https://www.semanticscholar.org/paper/b06ef208...   \n",
       "46  https://www.semanticscholar.org/paper/a1f0c838...   \n",
       "47  https://www.semanticscholar.org/paper/73c1ae01...   \n",
       "48  https://www.semanticscholar.org/paper/3634b6aa...   \n",
       "49  https://www.semanticscholar.org/paper/85b88d00...   \n",
       "\n",
       "                                                title  \\\n",
       "0   TRACING HOT-SPRING FACIES AND THEIR GEOTHERMAL...   \n",
       "1   Preservation of martian organic and environmen...   \n",
       "2   Mars Biosignature - Detection Capabilities: A ...   \n",
       "3   Tracing Hot-Spring Facies and thier Geothermal...   \n",
       "4   Biosignature Analysis of Mars Soil Analogs fro...   \n",
       "5   Elemental Relics - A Trace Element Biosignatur...   \n",
       "6   Radiation Environment and Doses on Mars at Oxi...   \n",
       "7   Protocol for Biosignature Identification in We...   \n",
       "8   Biosignature detection by Mars rover equivalen...   \n",
       "9   Metabolic Processes Preserved as Biosignatures...   \n",
       "10  Remote Sensing Techniques to Investigate Poten...   \n",
       "11  Biosignature Preservation and Detection in Mar...   \n",
       "12  Biosignature Preservation Potential in Playa E...   \n",
       "13  BIOSIGNATURE PRESERVATIONS IN GYPSUM VEINS AND...   \n",
       "14  Conference Report: Biosignature Preservation a...   \n",
       "15  Biosignature Preservation Potential in a Playa...   \n",
       "16  Coevolution as a Guiding Principle for Biosign...   \n",
       "17  Developing a Trace Element Biosignature for Ea...   \n",
       "18  Carbonates’ precipitation by halophilic bacter...   \n",
       "19  Diagenesis of organic microfossils and their m...   \n",
       "20  UNDERSTANDING HABITABILITY AND BIOSIGNATURE PR...   \n",
       "21  Attenuation of UV Radiation in Rocks and Miner...   \n",
       "22  Discovery of Naturally Etched Fission Tracks a...   \n",
       "23  Variations in Biosignature Preservation: Geoch...   \n",
       "24  Biosignature detection in Mars Analogue Aqueou...   \n",
       "25  DEFINING GEOMORPHOLOGIC CRITERIA TO IDENTIFY S...   \n",
       "26  Impact of Diagenesis on Biosignature Preservat...   \n",
       "27  The persistence of a chlorophyll spectral bios...   \n",
       "28  Microimaging Spectroscopy on Mars with CIMMBA,...   \n",
       "29  Detecting Ce3+ as a biosignature mimicker usin...   \n",
       "30  Mars Habitability, Biosignature Preservation, ...   \n",
       "31  MICROBIAL BIOSIGNATURE INVESTIGATION IN AEOLIA...   \n",
       "32  Preservation of Biosignature Molecules in Pote...   \n",
       "33  Carbonate precipitation under bulk acidic cond...   \n",
       "34  Interactions Between Iron Sulfide Minerals and...   \n",
       "35  Mineralogy, aqueous history and biosignature p...   \n",
       "36  Carbonate precipitation in acidic environments...   \n",
       "37  Bacterial Cellulose Retains Robustness but Its...   \n",
       "38  Acceleration of amino acid racemization by iso...   \n",
       "39  MapX: An In-situ X-ray µ-Mapper for Habitabili...   \n",
       "40  Searching for biosignatures in sedimentary roc...   \n",
       "41  Reactive Transport Modeling of Aqueous Alterat...   \n",
       "42  Detection of organic carbon in Mars-analog pal...   \n",
       "43  Detection of organic carbon in Mars-analog pal...   \n",
       "44  Detection of methanogene archaea in Mars-like ...   \n",
       "45  Trace Element Concentrations in Hydrothermal S...   \n",
       "46  Physical Constraints on Motility with Applicat...   \n",
       "47  GOT GAS? ASSESSING NON-METHANE VOLATILE ORGANI...   \n",
       "48  The Oxygen Release Instrument: Space Mission R...   \n",
       "49  Fatty Acid Preservation in Modern and Relict H...   \n",
       "\n",
       "                                             abstract  \\\n",
       "0   TEXTURES INTO THE TERRESTRIAL GEOLOGIC RECORD:...   \n",
       "1   The Mars Science Laboratory (MSL) has an instr...   \n",
       "2   A Mars sample-return mission has been proposed...   \n",
       "3                                                None   \n",
       "4   The detection of biosignatures on Mars is of o...   \n",
       "5   Introduction: The burden of proof for confirmi...   \n",
       "6                                                None   \n",
       "7   Introduction: The NASA Mars 2020 rover key obj...   \n",
       "8   Abstract This work details the laboratory anal...   \n",
       "9   Abstract Iron-oxidizing bacteria occupy a dist...   \n",
       "10  Introduction: The Jezero crater has been selec...   \n",
       "11  Abstract This review of material relevant to t...   \n",
       "12  Assessing biosignature preservation potential ...   \n",
       "13  Introduction: The first science goal for NASA’...   \n",
       "14  The Conference on Biosignature Preservation an...   \n",
       "15                                               None   \n",
       "16  BEYOND). N.A. Cabrol, J. Bishop, S.L. Cady, N....   \n",
       "17                                               None   \n",
       "18  The mechanisms of Mg-carbonate precipitation i...   \n",
       "19                                               None   \n",
       "20  MARS ANALOG ENIVRONMENT: LESSONS FROM SPOTTED ...   \n",
       "21                                               None   \n",
       "22  Over the last two decades, conspicuously “biog...   \n",
       "23  Introduction: Mars exploration has revealed ev...   \n",
       "24                                               None   \n",
       "25                                               None   \n",
       "26                                               None   \n",
       "27  Abstract Spring and evaporite deposits are con...   \n",
       "28  CACHING-SUPPORTING INFRARED MICROIMAGER FOR MI...   \n",
       "29  Abstract Combined UV Raman and laser-induced f...   \n",
       "30  Our work has elucidated a new analog for the f...   \n",
       "31  Introduction: Looking for evidence of ancient ...   \n",
       "32                                               None   \n",
       "33  Recent observations of carbonate minerals in a...   \n",
       "34  Microbe-mineral interactions can produce uniqu...   \n",
       "35  <p>In 2022, ESA/ROSCOSMOS will launch the ExoM...   \n",
       "36  Recent observations of carbonate minerals in a...   \n",
       "37  Cellulose is a widespread macromolecule in ter...   \n",
       "38  Abstract In nature, abiotically formed amino a...   \n",
       "39  <p><strong>&#160; &#160;Introduction:</strong>...   \n",
       "40  The recognition of past habitable environments...   \n",
       "41  Past aqueous conditions in the Murray formatio...   \n",
       "42  37 Decades of space exploration have shown tha...   \n",
       "43  Decades of space exploration have shown that s...   \n",
       "44  The origin of methane on Mars is unknown. It m...   \n",
       "45  Uncovering and understanding the chemical and ...   \n",
       "46  Motility is a ubiquitous feature of microbial ...   \n",
       "47  Introduction: Recent findings of methane on Ma...   \n",
       "48  We describe the design of an instrument, the O...   \n",
       "49  Hydrothermal spring deposits host unique micro...   \n",
       "\n",
       "                                                venue  year  referenceCount  \\\n",
       "0                                                      2016               0   \n",
       "1                                        Astrobiology  2011             117   \n",
       "2                                                      2013               7   \n",
       "3                                                      2016               0   \n",
       "4                                        Astrobiology  2020              90   \n",
       "5                                                      2020               0   \n",
       "6                                                      2020             109   \n",
       "7                                                      2020               0   \n",
       "8                         Planetary and Space Science  2019              88   \n",
       "9                                        Astrobiology  2018              58   \n",
       "10                                                     2019               0   \n",
       "11                                       Astrobiology  2017             406   \n",
       "12                                       Astrobiology  2018              64   \n",
       "13                                                     2018               0   \n",
       "14                                       Astrobiology  2017               1   \n",
       "15                                                     2018               0   \n",
       "16                                                     2018               0   \n",
       "17                                                     2018               0   \n",
       "18  Revista dos Trabalhos de Iniciação Científica ...  2018               0   \n",
       "19                                                     2018               0   \n",
       "20                                                     2017               0   \n",
       "21                                                     2017               0   \n",
       "22                                                     2016             248   \n",
       "23                                                     2016               0   \n",
       "24                                                     2016               0   \n",
       "25                                                     2016               0   \n",
       "26                                                     2015               0   \n",
       "27              International Journal of Astrobiology  2013             121   \n",
       "28                                                     2014               0   \n",
       "29                                                     2021             134   \n",
       "30                                                     2014               0   \n",
       "31                                                     2021               3   \n",
       "32                                                     2013               0   \n",
       "33                                                     2012              33   \n",
       "34                                       Astrobiology  2021               0   \n",
       "35                                                     2021               0   \n",
       "36                                                     2012               0   \n",
       "37                                       Astrobiology  2021               0   \n",
       "38              International Journal of Astrobiology  2020              33   \n",
       "39                                                     2020               0   \n",
       "40                 Nature Reviews Earth & Environment  2021             337   \n",
       "41                                                     2021              91   \n",
       "42                                                     2021             146   \n",
       "43                                                     2021               0   \n",
       "44                                                     2011               0   \n",
       "45                                       Astrobiology  2019              35   \n",
       "46                      The Planetary Science Journal  2021              50   \n",
       "47                                                     2019               0   \n",
       "48                                               Life  2019              83   \n",
       "49                                       Astrobiology  2020               0   \n",
       "\n",
       "    citationCount  influentialCitationCount  isOpenAccess  \\\n",
       "0               1                         1         False   \n",
       "1             215                         7          True   \n",
       "2               3                         0          True   \n",
       "3               0                         0         False   \n",
       "4               6                         0          True   \n",
       "5               0                         0         False   \n",
       "6               4                         0          True   \n",
       "7               0                         0         False   \n",
       "8              10                         0          True   \n",
       "9               6                         1          True   \n",
       "10              0                         0         False   \n",
       "11            103                         4          True   \n",
       "12              4                         0         False   \n",
       "13              0                         0         False   \n",
       "14              7                         0         False   \n",
       "15              0                         0         False   \n",
       "16              0                         0         False   \n",
       "17              0                         0         False   \n",
       "18              0                         0          True   \n",
       "19              0                         0         False   \n",
       "20              0                         0         False   \n",
       "21              1                         0         False   \n",
       "22              7                         0          True   \n",
       "23              0                         0         False   \n",
       "24              1                         0         False   \n",
       "25              0                         0          True   \n",
       "26              1                         0         False   \n",
       "27             15                         0          True   \n",
       "28              1                         0         False   \n",
       "29              4                         0         False   \n",
       "30              0                         0         False   \n",
       "31              0                         0         False   \n",
       "32              0                         0         False   \n",
       "33             23                         0         False   \n",
       "34              1                         0         False   \n",
       "35              0                         0         False   \n",
       "36              0                         0         False   \n",
       "37              7                         0         False   \n",
       "38              0                         0          True   \n",
       "39              0                         0         False   \n",
       "40              3                         0         False   \n",
       "41              1                         0         False   \n",
       "42              0                         0         False   \n",
       "43              0                         0         False   \n",
       "44              0                         0         False   \n",
       "45              4                         0          True   \n",
       "46              0                         0         False   \n",
       "47              1                         0         False   \n",
       "48              0                         0          True   \n",
       "49              5                         0         False   \n",
       "\n",
       "                                 fieldsOfStudy  \\\n",
       "0                                         None   \n",
       "1   [Environmental Science, Medicine, Geology]   \n",
       "2                      [Environmental Science]   \n",
       "3                                    [Geology]   \n",
       "4            [Medicine, Environmental Science]   \n",
       "5                                    [Geology]   \n",
       "6                                    [Geology]   \n",
       "7                                    [Geology]   \n",
       "8                                    [Geology]   \n",
       "9                        [Chemistry, Medicine]   \n",
       "10                     [Environmental Science]   \n",
       "11           [Environmental Science, Medicine]   \n",
       "12                         [Medicine, Geology]   \n",
       "13                                        None   \n",
       "14                         [Geology, Medicine]   \n",
       "15                                   [Geology]   \n",
       "16                                   [Geology]   \n",
       "17                                   [Geology]   \n",
       "18                                 [Chemistry]   \n",
       "19                                   [Geology]   \n",
       "20                                        None   \n",
       "21                                   [Geology]   \n",
       "22                                   [Geology]   \n",
       "23                                   [Geology]   \n",
       "24                                 [Chemistry]   \n",
       "25                                   [Geology]   \n",
       "26                                   [Geology]   \n",
       "27                                   [Geology]   \n",
       "28                                   [Geology]   \n",
       "29                         [Materials Science]   \n",
       "30                                   [Geology]   \n",
       "31                                        None   \n",
       "32                                   [Geology]   \n",
       "33                                   [Geology]   \n",
       "34                                  [Medicine]   \n",
       "35                                   [Geology]   \n",
       "36                                   [Geology]   \n",
       "37                                  [Medicine]   \n",
       "38                                 [Chemistry]   \n",
       "39                                        None   \n",
       "40                                        None   \n",
       "41                                   [Geology]   \n",
       "42                                        None   \n",
       "43                                        None   \n",
       "44                                 [Chemistry]   \n",
       "45                         [Medicine, Geology]   \n",
       "46                          [Physics, Biology]   \n",
       "47                                        None   \n",
       "48           [Environmental Science, Medicine]   \n",
       "49           [Environmental Science, Medicine]   \n",
       "\n",
       "                                              authors  \\\n",
       "0   [{'authorId': '4662741', 'name': 'K. Campbell'...   \n",
       "1   [{'authorId': '4945458', 'name': 'R. Summons'}...   \n",
       "2   [{'authorId': '1751448', 'name': 'C. Weisbin'}...   \n",
       "3   [{'authorId': '4662741', 'name': 'K. Campbell'...   \n",
       "4   [{'authorId': '32793236', 'name': 'Joost W. Ae...   \n",
       "5   [{'authorId': '8646428', 'name': 'A. Gangidine...   \n",
       "6   [{'authorId': '13634608', 'name': 'F. Da Pieve...   \n",
       "7   [{'authorId': '5752254', 'name': 'M. Nachon'},...   \n",
       "8   [{'authorId': '145729540', 'name': 'J. Strombe...   \n",
       "9   [{'authorId': '34897565', 'name': 'M. Floyd'},...   \n",
       "10  [{'authorId': '26928499', 'name': 'Joshua Will...   \n",
       "11  [{'authorId': '4717886', 'name': 'L. Hays'}, {...   \n",
       "12  [{'authorId': '40859922', 'name': 'S. Shkolyar...   \n",
       "13  [{'authorId': '30650610', 'name': 'M. Weng'}, ...   \n",
       "14  [{'authorId': '4717886', 'name': 'L. Hays'}, {...   \n",
       "15  [{'authorId': '40859922', 'name': 'S. Shkolyar...   \n",
       "16  [{'authorId': '2674096', 'name': 'N. Cabrol'},...   \n",
       "17  [{'authorId': '8646428', 'name': 'A. Gangidine...   \n",
       "18  [{'authorId': '116482993', 'name': 'B. Brenha'...   \n",
       "19  [{'authorId': '36549028', 'name': 'A. Czaja'},...   \n",
       "20  [{'authorId': '35749023', 'name': 'A. Pontefra...   \n",
       "21  [{'authorId': '4046229', 'name': 'L. Beegle'},...   \n",
       "22  [{'authorId': '77338651', 'name': 'Jason E. Fr...   \n",
       "23  [{'authorId': '104924670', 'name': 'K. Lorber'...   \n",
       "24  [{'authorId': '2052971999', 'name': 'D. Hamilt...   \n",
       "25  [{'authorId': '26928499', 'name': 'Joshua Will...   \n",
       "26  [{'authorId': '40859922', 'name': 'S. Shkolyar...   \n",
       "27  [{'authorId': '145729540', 'name': 'J. Strombe...   \n",
       "28  [{'authorId': '3477693', 'name': 'B. Ehlmann'}...   \n",
       "29  [{'authorId': '40859922', 'name': 'S. Shkolyar...   \n",
       "30  [{'authorId': '40335319', 'name': 'D. Oehler'}...   \n",
       "31  [{'authorId': '5752254', 'name': 'M. Nachon'},...   \n",
       "32  [{'authorId': '92544301', 'name': 'K. Lykens'}...   \n",
       "33  [{'authorId': '1412375586', 'name': 'D. Fernán...   \n",
       "34  [{'authorId': '5462646', 'name': 'A. Picard'},...   \n",
       "35  [{'authorId': '91840260', 'name': 'A. Krzesińs...   \n",
       "36  [{'authorId': '1405132185', 'name': 'M. Sánche...   \n",
       "37  [{'authorId': '51988559', 'name': 'I. Orlovska...   \n",
       "38  [{'authorId': '11108935', 'name': 'S. Fox'}, {...   \n",
       "39  [{'authorId': '2068472775', 'name': 'D. Blake'...   \n",
       "40  [{'authorId': '6215191', 'name': 'T. Bosak'}, ...   \n",
       "41  [{'authorId': '9662705', 'name': 'E. Hausrath'...   \n",
       "42  [{'authorId': '94402134', 'name': 'A. Broz'}, ...   \n",
       "43  [{'authorId': '94402134', 'name': 'A. Broz'}, ...   \n",
       "44  [{'authorId': '88432642', 'name': 'J. Vera'}, ...   \n",
       "45  [{'authorId': '8646428', 'name': 'A. Gangidine...   \n",
       "46  [{'authorId': '5345729', 'name': 'M. Lingam'},...   \n",
       "47  [{'authorId': '1663954024', 'name': 'P. Lee'},...   \n",
       "48  [{'authorId': '3193712', 'name': 'C. Georgiou'...   \n",
       "49  [{'authorId': '2109164299', 'name': 'Amy J. Wi...   \n",
       "\n",
       "                                            key_words  \n",
       "0   [tracing, hotspring, facies, geothermally, sil...  \n",
       "1   [preservation, martian, organic, environmental...  \n",
       "2   [mars, biosignature, detection, capabilities, ...  \n",
       "3   [tracing, hotspring, facies, thier, geothermal...  \n",
       "4   [biosignature, analysis, mars, soil, analogs, ...  \n",
       "5   [elemental, relics, trace, element, biosignatu...  \n",
       "6   [radiation, environment, doses, mars, oxia, pl...  \n",
       "7   [protocol, biosignature, identification, wet, ...  \n",
       "8   [biosignature, detection, mars, rover, equival...  \n",
       "9   [metabolic, processes, preserved, biosignature...  \n",
       "10  [remote, sensing, techniques, investigate, pot...  \n",
       "11  [biosignature, preservation, detection, mars, ...  \n",
       "12  [biosignature, preservation, potential, playa,...  \n",
       "13  [biosignature, preservations, gypsum, veins, m...  \n",
       "14  [conference, report, biosignature, preservatio...  \n",
       "15  [biosignature, preservation, potential, playa,...  \n",
       "16  [coevolution, guiding, principle, biosignature...  \n",
       "17  [developing, trace, element, biosignature, ear...  \n",
       "18  [carbonates, ’, precipitation, halophilic, bac...  \n",
       "19  [diagenesis, organic, microfossils, mineral, m...  \n",
       "20  [understanding, habitability, biosignature, pr...  \n",
       "21  [attenuation, uv, radiation, rocks, minerals, ...  \n",
       "22  [discovery, naturally, etched, fission, tracks...  \n",
       "23  [variations, biosignature, preservation, geoch...  \n",
       "24  [biosignature, detection, mars, analogue, aque...  \n",
       "25  [defining, geomorphologic, criteria, identify,...  \n",
       "26  [impact, diagenesis, biosignature, preservatio...  \n",
       "27  [persistence, chlorophyll, spectral, biosignat...  \n",
       "28  [microimaging, spectroscopy, mars, cimmba, pro...  \n",
       "29  [detecting, ce3, biosignature, mimicker, using...  \n",
       "30  [mars, habitability, biosignature, preservatio...  \n",
       "31  [microbial, biosignature, investigation, aeoli...  \n",
       "32  [preservation, biosignature, molecules, potent...  \n",
       "33  [carbonate, precipitation, bulk, acidic, condi...  \n",
       "34  [interactions, iron, sulfide, minerals, organi...  \n",
       "35  [mineralogy, aqueous, history, biosignature, p...  \n",
       "36  [carbonate, precipitation, acidic, environment...  \n",
       "37  [bacterial, cellulose, retains, robustness, sy...  \n",
       "38  [acceleration, amino, acid, racemization, isov...  \n",
       "39  [mapx, insitu, xray, µmapper, habitability, bi...  \n",
       "40  [searching, biosignatures, sedimentary, rocks,...  \n",
       "41  [reactive, transport, modeling, aqueous, alter...  \n",
       "42  [detection, organic, carbon, marsanalog, paleo...  \n",
       "43  [detection, organic, carbon, marsanalog, paleo...  \n",
       "44  [detection, methanogene, archaea, marslike, en...  \n",
       "45  [trace, element, concentrations, hydrothermal,...  \n",
       "46  [physical, constraints, motility, applications...  \n",
       "47  [got, gas, assessing, nonmethane, volatile, or...  \n",
       "48  [oxygen, release, instrument, space, mission, ...  \n",
       "49  [fatty, acid, preservation, modern, relict, ho...  "
      ]
     },
     "execution_count": 62,
     "metadata": {},
     "output_type": "execute_result"
    }
   ],
   "source": [
    "results_df"
   ]
  },
  {
   "cell_type": "code",
   "execution_count": 64,
   "id": "d06f662d",
   "metadata": {
    "hidden": true
   },
   "outputs": [
    {
     "name": "stdout",
     "output_type": "stream",
     "text": [
      "Enter key words: mars biosignature\n"
     ]
    },
    {
     "ename": "NameError",
     "evalue": "name 'data_cleaning' is not defined",
     "output_type": "error",
     "traceback": [
      "\u001b[0;31m---------------------------------------------------------------------------\u001b[0m",
      "\u001b[0;31mNameError\u001b[0m                                 Traceback (most recent call last)",
      "\u001b[0;32m<ipython-input-64-8d3487c9eaa6>\u001b[0m in \u001b[0;36m<module>\u001b[0;34m\u001b[0m\n\u001b[1;32m      1\u001b[0m \u001b[0mdf\u001b[0m\u001b[0;34m,\u001b[0m \u001b[0mquery\u001b[0m \u001b[0;34m=\u001b[0m \u001b[0mconsolidated_df\u001b[0m\u001b[0;34m.\u001b[0m\u001b[0mget_consolidated_df\u001b[0m\u001b[0;34m(\u001b[0m\u001b[0;34m)\u001b[0m\u001b[0;34m\u001b[0m\u001b[0;34m\u001b[0m\u001b[0m\n\u001b[0;32m----> 2\u001b[0;31m \u001b[0mdf\u001b[0m \u001b[0;34m=\u001b[0m \u001b[0mdata_cleaning\u001b[0m\u001b[0;34m.\u001b[0m\u001b[0mclean_df\u001b[0m\u001b[0;34m(\u001b[0m\u001b[0mdf\u001b[0m\u001b[0;34m)\u001b[0m\u001b[0;34m\u001b[0m\u001b[0;34m\u001b[0m\u001b[0m\n\u001b[0m\u001b[1;32m      3\u001b[0m \u001b[0mdf\u001b[0m \u001b[0;34m=\u001b[0m \u001b[0mdata_enrichment\u001b[0m\u001b[0;34m.\u001b[0m\u001b[0mget_citation_count\u001b[0m\u001b[0;34m(\u001b[0m\u001b[0mdf\u001b[0m\u001b[0;34m)\u001b[0m\u001b[0;34m\u001b[0m\u001b[0;34m\u001b[0m\u001b[0m\n",
      "\u001b[0;31mNameError\u001b[0m: name 'data_cleaning' is not defined"
     ]
    }
   ],
   "source": [
    "df, query = consolidated_df.get_consolidated_df()"
   ]
  },
  {
   "cell_type": "code",
   "execution_count": 66,
   "id": "1b02445e",
   "metadata": {
    "hidden": true
   },
   "outputs": [],
   "source": [
    "df = data_cleaning.clean_df(df)\n",
    "df = data_enrichment.get_citation_count(df)"
   ]
  },
  {
   "cell_type": "code",
   "execution_count": 67,
   "id": "25ea9c53",
   "metadata": {
    "hidden": true
   },
   "outputs": [
    {
     "data": {
      "text/html": [
       "<div>\n",
       "<style scoped>\n",
       "    .dataframe tbody tr th:only-of-type {\n",
       "        vertical-align: middle;\n",
       "    }\n",
       "\n",
       "    .dataframe tbody tr th {\n",
       "        vertical-align: top;\n",
       "    }\n",
       "\n",
       "    .dataframe thead th {\n",
       "        text-align: right;\n",
       "    }\n",
       "</style>\n",
       "<table border=\"1\" class=\"dataframe\">\n",
       "  <thead>\n",
       "    <tr style=\"text-align: right;\">\n",
       "      <th></th>\n",
       "      <th>title</th>\n",
       "      <th>journal_is_oa</th>\n",
       "      <th>journal_name</th>\n",
       "      <th>published_date</th>\n",
       "      <th>publisher</th>\n",
       "      <th>authors</th>\n",
       "      <th>key_words</th>\n",
       "      <th>citation_count</th>\n",
       "      <th>published_year</th>\n",
       "    </tr>\n",
       "  </thead>\n",
       "  <tbody>\n",
       "    <tr>\n",
       "      <th>0</th>\n",
       "      <td>On biosignatures for Mars</td>\n",
       "      <td>False</td>\n",
       "      <td>International Journal of Astrobiology</td>\n",
       "      <td>2021-11-18</td>\n",
       "      <td>Cambridge University Press (CUP)</td>\n",
       "      <td>[Frances Westall, Keyron Hickman-Lewis, Barbar...</td>\n",
       "      <td>(biosignatures, mars)</td>\n",
       "      <td>1.0</td>\n",
       "      <td>2021.0</td>\n",
       "    </tr>\n",
       "    <tr>\n",
       "      <th>1</th>\n",
       "      <td>A Review of Current Approaches for UAV Autonom...</td>\n",
       "      <td>False</td>\n",
       "      <td>2020 IEEE Aerospace Conference</td>\n",
       "      <td>2020-03-01</td>\n",
       "      <td>IEEE</td>\n",
       "      <td>[Julian Galvez Serna, Fernando Vanegas, Felipe...</td>\n",
       "      <td>(review, current, approaches, uav, autonomous,...</td>\n",
       "      <td>7.0</td>\n",
       "      <td>2020.0</td>\n",
       "    </tr>\n",
       "    <tr>\n",
       "      <th>2</th>\n",
       "      <td>Preservation of Martian Organic and Environmen...</td>\n",
       "      <td>False</td>\n",
       "      <td>Astrobiology</td>\n",
       "      <td>2011-03-01</td>\n",
       "      <td>Mary Ann Liebert Inc</td>\n",
       "      <td>[Roger E. Summons, Jan P. Amend, David Bish, R...</td>\n",
       "      <td>(preservation, martian, organic, environmental...</td>\n",
       "      <td>227.0</td>\n",
       "      <td>2011.0</td>\n",
       "    </tr>\n",
       "    <tr>\n",
       "      <th>3</th>\n",
       "      <td>Hunting for biosignatures on Mars</td>\n",
       "      <td>False</td>\n",
       "      <td>Astronomy &amp; Geophysics</td>\n",
       "      <td>2021-08-01</td>\n",
       "      <td>Oxford University Press (OUP)</td>\n",
       "      <td>[Nisha K Ramkissoon, Mark J Burchell, Peter Fa...</td>\n",
       "      <td>(hunting, biosignatures, mars)</td>\n",
       "      <td>0.0</td>\n",
       "      <td>2021.0</td>\n",
       "    </tr>\n",
       "    <tr>\n",
       "      <th>4</th>\n",
       "      <td>False biosignatures on Mars: anticipating ambi...</td>\n",
       "      <td>False</td>\n",
       "      <td>Journal of the Geological Society</td>\n",
       "      <td>2021-11-16</td>\n",
       "      <td>Geological Society of London</td>\n",
       "      <td>[Sean McMahon, Julie Cosmidis]</td>\n",
       "      <td>(false, biosignatures, mars, anticipating, amb...</td>\n",
       "      <td>0.0</td>\n",
       "      <td>2021.0</td>\n",
       "    </tr>\n",
       "    <tr>\n",
       "      <th>...</th>\n",
       "      <td>...</td>\n",
       "      <td>...</td>\n",
       "      <td>...</td>\n",
       "      <td>...</td>\n",
       "      <td>...</td>\n",
       "      <td>...</td>\n",
       "      <td>...</td>\n",
       "      <td>...</td>\n",
       "      <td>...</td>\n",
       "    </tr>\n",
       "    <tr>\n",
       "      <th>82</th>\n",
       "      <td>Orbital identification of hydrated silica in J...</td>\n",
       "      <td>no data</td>\n",
       "      <td>Geophysical Research Letters 46, no.</td>\n",
       "      <td>2019-06-01</td>\n",
       "      <td>no data</td>\n",
       "      <td>[J. D. Tarnas,  J. F. Mustard,  Honglei Lin,  ...</td>\n",
       "      <td>(orbital, identification, hydrated, silica, je...</td>\n",
       "      <td>43.0</td>\n",
       "      <td>2019.0</td>\n",
       "    </tr>\n",
       "    <tr>\n",
       "      <th>83</th>\n",
       "      <td>Slow degradation of ATP in simulated martian e...</td>\n",
       "      <td>no data</td>\n",
       "      <td>Icarus 194, no.</td>\n",
       "      <td>2008-06-01</td>\n",
       "      <td>no data</td>\n",
       "      <td>[Andrew C. Schuerger,  Patricia Fajardo-Cavazo...</td>\n",
       "      <td>(slow, degradation, atp, simulated, martian, e...</td>\n",
       "      <td>60.0</td>\n",
       "      <td>2008.0</td>\n",
       "    </tr>\n",
       "    <tr>\n",
       "      <th>84</th>\n",
       "      <td>Silica deposits on Mars with features resembli...</td>\n",
       "      <td>no data</td>\n",
       "      <td>Nature communications 7, no.</td>\n",
       "      <td>2016-06-01</td>\n",
       "      <td>no data</td>\n",
       "      <td>[Steven W. Ruff,  and Jack D. Farmer]</td>\n",
       "      <td>(silica, deposits, mars, features, resembling,...</td>\n",
       "      <td>172.0</td>\n",
       "      <td>2016.0</td>\n",
       "    </tr>\n",
       "    <tr>\n",
       "      <th>85</th>\n",
       "      <td>Mars' surface radiation environment measured w...</td>\n",
       "      <td>no data</td>\n",
       "      <td>science 343, no.</td>\n",
       "      <td>2014-06-01</td>\n",
       "      <td>no data</td>\n",
       "      <td>[Donald M. Hassler,  Cary Zeitlin,  Robert F. ...</td>\n",
       "      <td>(mars, surface, radiation, environment, measur...</td>\n",
       "      <td>480.0</td>\n",
       "      <td>2014.0</td>\n",
       "    </tr>\n",
       "    <tr>\n",
       "      <th>86</th>\n",
       "      <td>The coevolution of life and environment on Mar...</td>\n",
       "      <td>no data</td>\n",
       "      <td>(2018):</td>\n",
       "      <td>2018-06-01</td>\n",
       "      <td>no data</td>\n",
       "      <td>[Nathalie A Cabrol]</td>\n",
       "      <td>(coevolution, life, environment, mars, ecosyst...</td>\n",
       "      <td>38.0</td>\n",
       "      <td>2018.0</td>\n",
       "    </tr>\n",
       "  </tbody>\n",
       "</table>\n",
       "<p>86 rows × 9 columns</p>\n",
       "</div>"
      ],
      "text/plain": [
       "                                                title journal_is_oa  \\\n",
       "0                           On biosignatures for Mars         False   \n",
       "1   A Review of Current Approaches for UAV Autonom...         False   \n",
       "2   Preservation of Martian Organic and Environmen...         False   \n",
       "3                   Hunting for biosignatures on Mars         False   \n",
       "4   False biosignatures on Mars: anticipating ambi...         False   \n",
       "..                                                ...           ...   \n",
       "82  Orbital identification of hydrated silica in J...       no data   \n",
       "83  Slow degradation of ATP in simulated martian e...       no data   \n",
       "84  Silica deposits on Mars with features resembli...       no data   \n",
       "85  Mars' surface radiation environment measured w...       no data   \n",
       "86  The coevolution of life and environment on Mar...       no data   \n",
       "\n",
       "                             journal_name published_date  \\\n",
       "0   International Journal of Astrobiology     2021-11-18   \n",
       "1          2020 IEEE Aerospace Conference     2020-03-01   \n",
       "2                            Astrobiology     2011-03-01   \n",
       "3                  Astronomy & Geophysics     2021-08-01   \n",
       "4       Journal of the Geological Society     2021-11-16   \n",
       "..                                    ...            ...   \n",
       "82   Geophysical Research Letters 46, no.     2019-06-01   \n",
       "83                        Icarus 194, no.     2008-06-01   \n",
       "84           Nature communications 7, no.     2016-06-01   \n",
       "85                       science 343, no.     2014-06-01   \n",
       "86                                (2018):     2018-06-01   \n",
       "\n",
       "                           publisher  \\\n",
       "0   Cambridge University Press (CUP)   \n",
       "1                               IEEE   \n",
       "2               Mary Ann Liebert Inc   \n",
       "3      Oxford University Press (OUP)   \n",
       "4       Geological Society of London   \n",
       "..                               ...   \n",
       "82                           no data   \n",
       "83                           no data   \n",
       "84                           no data   \n",
       "85                           no data   \n",
       "86                           no data   \n",
       "\n",
       "                                              authors  \\\n",
       "0   [Frances Westall, Keyron Hickman-Lewis, Barbar...   \n",
       "1   [Julian Galvez Serna, Fernando Vanegas, Felipe...   \n",
       "2   [Roger E. Summons, Jan P. Amend, David Bish, R...   \n",
       "3   [Nisha K Ramkissoon, Mark J Burchell, Peter Fa...   \n",
       "4                      [Sean McMahon, Julie Cosmidis]   \n",
       "..                                                ...   \n",
       "82  [J. D. Tarnas,  J. F. Mustard,  Honglei Lin,  ...   \n",
       "83  [Andrew C. Schuerger,  Patricia Fajardo-Cavazo...   \n",
       "84              [Steven W. Ruff,  and Jack D. Farmer]   \n",
       "85  [Donald M. Hassler,  Cary Zeitlin,  Robert F. ...   \n",
       "86                                [Nathalie A Cabrol]   \n",
       "\n",
       "                                            key_words  citation_count  \\\n",
       "0                               (biosignatures, mars)             1.0   \n",
       "1   (review, current, approaches, uav, autonomous,...             7.0   \n",
       "2   (preservation, martian, organic, environmental...           227.0   \n",
       "3                      (hunting, biosignatures, mars)             0.0   \n",
       "4   (false, biosignatures, mars, anticipating, amb...             0.0   \n",
       "..                                                ...             ...   \n",
       "82  (orbital, identification, hydrated, silica, je...            43.0   \n",
       "83  (slow, degradation, atp, simulated, martian, e...            60.0   \n",
       "84  (silica, deposits, mars, features, resembling,...           172.0   \n",
       "85  (mars, surface, radiation, environment, measur...           480.0   \n",
       "86  (coevolution, life, environment, mars, ecosyst...            38.0   \n",
       "\n",
       "    published_year  \n",
       "0           2021.0  \n",
       "1           2020.0  \n",
       "2           2011.0  \n",
       "3           2021.0  \n",
       "4           2021.0  \n",
       "..             ...  \n",
       "82          2019.0  \n",
       "83          2008.0  \n",
       "84          2016.0  \n",
       "85          2014.0  \n",
       "86          2018.0  \n",
       "\n",
       "[86 rows x 9 columns]"
      ]
     },
     "execution_count": 67,
     "metadata": {},
     "output_type": "execute_result"
    }
   ],
   "source": [
    "df"
   ]
  },
  {
   "cell_type": "code",
   "execution_count": null,
   "id": "adeb9c48",
   "metadata": {
    "hidden": true
   },
   "outputs": [],
   "source": []
  }
 ],
 "metadata": {
  "kernelspec": {
   "display_name": "Python 3",
   "language": "python",
   "name": "python3"
  },
  "language_info": {
   "codemirror_mode": {
    "name": "ipython",
    "version": 3
   },
   "file_extension": ".py",
   "mimetype": "text/x-python",
   "name": "python",
   "nbconvert_exporter": "python",
   "pygments_lexer": "ipython3",
   "version": "3.8.6"
  },
  "toc": {
   "base_numbering": 1,
   "nav_menu": {},
   "number_sections": true,
   "sideBar": true,
   "skip_h1_title": false,
   "title_cell": "Table of Contents",
   "title_sidebar": "Contents",
   "toc_cell": false,
   "toc_position": {},
   "toc_section_display": true,
   "toc_window_display": false
  }
 },
 "nbformat": 4,
 "nbformat_minor": 5
}
