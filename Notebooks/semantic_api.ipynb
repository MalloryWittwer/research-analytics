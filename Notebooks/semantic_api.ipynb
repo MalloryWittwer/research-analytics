{
 "cells": [
  {
   "cell_type": "markdown",
   "id": "a624bda1",
   "metadata": {},
   "source": [
    "# Test `semantic_api()`"
   ]
  },
  {
   "cell_type": "code",
   "execution_count": 3,
   "id": "eb4ecf49",
   "metadata": {},
   "outputs": [
    {
     "name": "stdout",
     "output_type": "stream",
     "text": [
      "The autoreload extension is already loaded. To reload it, use:\n",
      "  %reload_ext autoreload\n"
     ]
    }
   ],
   "source": [
    "import pandas as pd\n",
    "import numpy as np\n",
    "from datetime import date\n",
    "from collections import Counter\n",
    "\n",
    "from startupjh import utils\n",
    "from startupjh import plots\n",
    "from startupjh.data_collection import consolidated_df\n",
    "from startupjh.data_preprocessing import data_preprocess\n",
    "from startupjh.data_preprocessing import data_cleaning, data_enrichment\n",
    "from startupjh.data_collection import semantic_api\n",
    "\n",
    "import plotly.graph_objs as go\n",
    "import plotly.express as px\n",
    "\n",
    "%load_ext autoreload\n",
    "\n",
    "%autoreload 2"
   ]
  },
  {
   "cell_type": "markdown",
   "id": "8ff7423d",
   "metadata": {},
   "source": [
    "## Data collection for Semantic scholar"
   ]
  },
  {
   "cell_type": "code",
   "execution_count": 4,
   "id": "75add7ce",
   "metadata": {},
   "outputs": [
    {
     "name": "stdout",
     "output_type": "stream",
     "text": [
      "Enter key words: mars biosignature\n"
     ]
    }
   ],
   "source": [
    "results_df, all_references_df, total_results, query = semantic_api.get_all_results_from_semantic_scholar()"
   ]
  },
  {
   "cell_type": "code",
   "execution_count": 5,
   "id": "aec3c427",
   "metadata": {},
   "outputs": [
    {
     "data": {
      "text/html": [
       "<div>\n",
       "<style scoped>\n",
       "    .dataframe tbody tr th:only-of-type {\n",
       "        vertical-align: middle;\n",
       "    }\n",
       "\n",
       "    .dataframe tbody tr th {\n",
       "        vertical-align: top;\n",
       "    }\n",
       "\n",
       "    .dataframe thead th {\n",
       "        text-align: right;\n",
       "    }\n",
       "</style>\n",
       "<table border=\"1\" class=\"dataframe\">\n",
       "  <thead>\n",
       "    <tr style=\"text-align: right;\">\n",
       "      <th></th>\n",
       "      <th>paperId</th>\n",
       "      <th>url</th>\n",
       "      <th>title</th>\n",
       "      <th>abstract</th>\n",
       "      <th>venue</th>\n",
       "      <th>year</th>\n",
       "      <th>referenceCount</th>\n",
       "      <th>citationCount</th>\n",
       "      <th>influentialCitationCount</th>\n",
       "      <th>isOpenAccess</th>\n",
       "      <th>fieldsOfStudy</th>\n",
       "      <th>authors</th>\n",
       "      <th>reference</th>\n",
       "      <th>first_author_id</th>\n",
       "      <th>key_words</th>\n",
       "    </tr>\n",
       "  </thead>\n",
       "  <tbody>\n",
       "    <tr>\n",
       "      <th>0</th>\n",
       "      <td>1935abaebef93ceb4b18eaf67c12618a001b26bb</td>\n",
       "      <td>https://www.semanticscholar.org/paper/1935abae...</td>\n",
       "      <td>TRACING HOT-SPRING FACIES AND THEIR GEOTHERMAL...</td>\n",
       "      <td>TEXTURES INTO THE TERRESTRIAL GEOLOGIC RECORD:...</td>\n",
       "      <td></td>\n",
       "      <td>2016</td>\n",
       "      <td>0</td>\n",
       "      <td>1</td>\n",
       "      <td>1</td>\n",
       "      <td>False</td>\n",
       "      <td>None</td>\n",
       "      <td>[{'authorId': '4662741', 'name': 'K. Campbell'...</td>\n",
       "      <td>K. Campbell et al. (2016)</td>\n",
       "      <td>4662741</td>\n",
       "      <td>[tracing, hotspring, facies, geothermally, sil...</td>\n",
       "    </tr>\n",
       "    <tr>\n",
       "      <th>1</th>\n",
       "      <td>958b808c4e32488bf9f484c7de0b928ddfe94cff</td>\n",
       "      <td>https://www.semanticscholar.org/paper/958b808c...</td>\n",
       "      <td>Preservation of martian organic and environmen...</td>\n",
       "      <td>The Mars Science Laboratory (MSL) has an instr...</td>\n",
       "      <td>Astrobiology</td>\n",
       "      <td>2011</td>\n",
       "      <td>117</td>\n",
       "      <td>215</td>\n",
       "      <td>7</td>\n",
       "      <td>True</td>\n",
       "      <td>[Environmental Science, Medicine, Geology]</td>\n",
       "      <td>[{'authorId': '4945458', 'name': 'R. Summons'}...</td>\n",
       "      <td>R. Summons et al. (2011)</td>\n",
       "      <td>4945458</td>\n",
       "      <td>[preservation, martian, organic, environmental...</td>\n",
       "    </tr>\n",
       "    <tr>\n",
       "      <th>2</th>\n",
       "      <td>61d144bd68693abd0ceafd1275969e8596b8c34b</td>\n",
       "      <td>https://www.semanticscholar.org/paper/61d144bd...</td>\n",
       "      <td>Mars Biosignature - Detection Capabilities: A ...</td>\n",
       "      <td>A Mars sample-return mission has been proposed...</td>\n",
       "      <td></td>\n",
       "      <td>2013</td>\n",
       "      <td>7</td>\n",
       "      <td>3</td>\n",
       "      <td>0</td>\n",
       "      <td>True</td>\n",
       "      <td>[Environmental Science]</td>\n",
       "      <td>[{'authorId': '1751448', 'name': 'C. Weisbin'}...</td>\n",
       "      <td>C. Weisbin et al. (2013)</td>\n",
       "      <td>1751448</td>\n",
       "      <td>[mars, biosignature, detection, capabilities, ...</td>\n",
       "    </tr>\n",
       "    <tr>\n",
       "      <th>3</th>\n",
       "      <td>fc7a04d99ce2f9bc8a9c177e6a6cdbebe842641f</td>\n",
       "      <td>https://www.semanticscholar.org/paper/fc7a04d9...</td>\n",
       "      <td>Tracing Hot-Spring Facies and thier Geothermal...</td>\n",
       "      <td>None</td>\n",
       "      <td></td>\n",
       "      <td>2016</td>\n",
       "      <td>0</td>\n",
       "      <td>0</td>\n",
       "      <td>0</td>\n",
       "      <td>False</td>\n",
       "      <td>[Geology]</td>\n",
       "      <td>[{'authorId': '4662741', 'name': 'K. Campbell'...</td>\n",
       "      <td>K. Campbell et al. (2016)</td>\n",
       "      <td>4662741</td>\n",
       "      <td>[tracing, hotspring, facies, thier, geothermal...</td>\n",
       "    </tr>\n",
       "    <tr>\n",
       "      <th>4</th>\n",
       "      <td>f1376f87575a361568df4b3d891b5e6388519cfd</td>\n",
       "      <td>https://www.semanticscholar.org/paper/f1376f87...</td>\n",
       "      <td>Biosignature Analysis of Mars Soil Analogs fro...</td>\n",
       "      <td>The detection of biosignatures on Mars is of o...</td>\n",
       "      <td>Astrobiology</td>\n",
       "      <td>2020</td>\n",
       "      <td>90</td>\n",
       "      <td>6</td>\n",
       "      <td>0</td>\n",
       "      <td>True</td>\n",
       "      <td>[Medicine, Environmental Science]</td>\n",
       "      <td>[{'authorId': '32793236', 'name': 'Joost W. Ae...</td>\n",
       "      <td>Joost W. Aerts et al. (2020)</td>\n",
       "      <td>32793236</td>\n",
       "      <td>[biosignature, analysis, mars, soil, analogs, ...</td>\n",
       "    </tr>\n",
       "  </tbody>\n",
       "</table>\n",
       "</div>"
      ],
      "text/plain": [
       "                                    paperId  \\\n",
       "0  1935abaebef93ceb4b18eaf67c12618a001b26bb   \n",
       "1  958b808c4e32488bf9f484c7de0b928ddfe94cff   \n",
       "2  61d144bd68693abd0ceafd1275969e8596b8c34b   \n",
       "3  fc7a04d99ce2f9bc8a9c177e6a6cdbebe842641f   \n",
       "4  f1376f87575a361568df4b3d891b5e6388519cfd   \n",
       "\n",
       "                                                 url  \\\n",
       "0  https://www.semanticscholar.org/paper/1935abae...   \n",
       "1  https://www.semanticscholar.org/paper/958b808c...   \n",
       "2  https://www.semanticscholar.org/paper/61d144bd...   \n",
       "3  https://www.semanticscholar.org/paper/fc7a04d9...   \n",
       "4  https://www.semanticscholar.org/paper/f1376f87...   \n",
       "\n",
       "                                               title  \\\n",
       "0  TRACING HOT-SPRING FACIES AND THEIR GEOTHERMAL...   \n",
       "1  Preservation of martian organic and environmen...   \n",
       "2  Mars Biosignature - Detection Capabilities: A ...   \n",
       "3  Tracing Hot-Spring Facies and thier Geothermal...   \n",
       "4  Biosignature Analysis of Mars Soil Analogs fro...   \n",
       "\n",
       "                                            abstract         venue  year  \\\n",
       "0  TEXTURES INTO THE TERRESTRIAL GEOLOGIC RECORD:...                2016   \n",
       "1  The Mars Science Laboratory (MSL) has an instr...  Astrobiology  2011   \n",
       "2  A Mars sample-return mission has been proposed...                2013   \n",
       "3                                               None                2016   \n",
       "4  The detection of biosignatures on Mars is of o...  Astrobiology  2020   \n",
       "\n",
       "   referenceCount  citationCount  influentialCitationCount  isOpenAccess  \\\n",
       "0               0              1                         1         False   \n",
       "1             117            215                         7          True   \n",
       "2               7              3                         0          True   \n",
       "3               0              0                         0         False   \n",
       "4              90              6                         0          True   \n",
       "\n",
       "                                fieldsOfStudy  \\\n",
       "0                                        None   \n",
       "1  [Environmental Science, Medicine, Geology]   \n",
       "2                     [Environmental Science]   \n",
       "3                                   [Geology]   \n",
       "4           [Medicine, Environmental Science]   \n",
       "\n",
       "                                             authors  \\\n",
       "0  [{'authorId': '4662741', 'name': 'K. Campbell'...   \n",
       "1  [{'authorId': '4945458', 'name': 'R. Summons'}...   \n",
       "2  [{'authorId': '1751448', 'name': 'C. Weisbin'}...   \n",
       "3  [{'authorId': '4662741', 'name': 'K. Campbell'...   \n",
       "4  [{'authorId': '32793236', 'name': 'Joost W. Ae...   \n",
       "\n",
       "                      reference first_author_id  \\\n",
       "0     K. Campbell et al. (2016)         4662741   \n",
       "1      R. Summons et al. (2011)         4945458   \n",
       "2      C. Weisbin et al. (2013)         1751448   \n",
       "3     K. Campbell et al. (2016)         4662741   \n",
       "4  Joost W. Aerts et al. (2020)        32793236   \n",
       "\n",
       "                                           key_words  \n",
       "0  [tracing, hotspring, facies, geothermally, sil...  \n",
       "1  [preservation, martian, organic, environmental...  \n",
       "2  [mars, biosignature, detection, capabilities, ...  \n",
       "3  [tracing, hotspring, facies, thier, geothermal...  \n",
       "4  [biosignature, analysis, mars, soil, analogs, ...  "
      ]
     },
     "execution_count": 5,
     "metadata": {},
     "output_type": "execute_result"
    }
   ],
   "source": [
    "results_df.head()"
   ]
  },
  {
   "cell_type": "markdown",
   "id": "9a8c5563",
   "metadata": {},
   "source": [
    "## Data visualization for Semantic scholar"
   ]
  },
  {
   "cell_type": "markdown",
   "id": "47dd7139",
   "metadata": {
    "heading_collapsed": true
   },
   "source": [
    "### Basic plots"
   ]
  },
  {
   "cell_type": "code",
   "execution_count": 64,
   "id": "bf8d8759",
   "metadata": {
    "hidden": true
   },
   "outputs": [
    {
     "data": {
      "application/vnd.plotly.v1+json": {
       "config": {
        "plotlyServerURL": "https://plot.ly"
       },
       "data": [
        {
         "customdata": [
          [
           false
          ],
          [
           true
          ]
         ],
         "domain": {
          "x": [
           0,
           1
          ],
          "y": [
           0,
           1
          ]
         },
         "hovertemplate": "isOpenAccess=%{customdata[0]}<br>title=%{value}<extra></extra>",
         "labels": [
          false,
          true
         ],
         "legendgroup": "",
         "marker": {
          "colors": [
           "#ab63fa",
           "#FFA15A"
          ]
         },
         "name": "",
         "showlegend": true,
         "type": "pie",
         "values": [
          19,
          11
         ]
        }
       ],
       "layout": {
        "font": {
         "color": "white",
         "family": "Courier New, monospace",
         "size": 14
        },
        "legend": {
         "tracegroupgap": 0
        },
        "margin": {
         "t": 60
        },
        "paper_bgcolor": "#101126",
        "plot_bgcolor": "#101126",
        "template": {
         "data": {
          "bar": [
           {
            "error_x": {
             "color": "#2a3f5f"
            },
            "error_y": {
             "color": "#2a3f5f"
            },
            "marker": {
             "line": {
              "color": "#E5ECF6",
              "width": 0.5
             }
            },
            "type": "bar"
           }
          ],
          "barpolar": [
           {
            "marker": {
             "line": {
              "color": "#E5ECF6",
              "width": 0.5
             }
            },
            "type": "barpolar"
           }
          ],
          "carpet": [
           {
            "aaxis": {
             "endlinecolor": "#2a3f5f",
             "gridcolor": "white",
             "linecolor": "white",
             "minorgridcolor": "white",
             "startlinecolor": "#2a3f5f"
            },
            "baxis": {
             "endlinecolor": "#2a3f5f",
             "gridcolor": "white",
             "linecolor": "white",
             "minorgridcolor": "white",
             "startlinecolor": "#2a3f5f"
            },
            "type": "carpet"
           }
          ],
          "choropleth": [
           {
            "colorbar": {
             "outlinewidth": 0,
             "ticks": ""
            },
            "type": "choropleth"
           }
          ],
          "contour": [
           {
            "colorbar": {
             "outlinewidth": 0,
             "ticks": ""
            },
            "colorscale": [
             [
              0,
              "#0d0887"
             ],
             [
              0.1111111111111111,
              "#46039f"
             ],
             [
              0.2222222222222222,
              "#7201a8"
             ],
             [
              0.3333333333333333,
              "#9c179e"
             ],
             [
              0.4444444444444444,
              "#bd3786"
             ],
             [
              0.5555555555555556,
              "#d8576b"
             ],
             [
              0.6666666666666666,
              "#ed7953"
             ],
             [
              0.7777777777777778,
              "#fb9f3a"
             ],
             [
              0.8888888888888888,
              "#fdca26"
             ],
             [
              1,
              "#f0f921"
             ]
            ],
            "type": "contour"
           }
          ],
          "contourcarpet": [
           {
            "colorbar": {
             "outlinewidth": 0,
             "ticks": ""
            },
            "type": "contourcarpet"
           }
          ],
          "heatmap": [
           {
            "colorbar": {
             "outlinewidth": 0,
             "ticks": ""
            },
            "colorscale": [
             [
              0,
              "#0d0887"
             ],
             [
              0.1111111111111111,
              "#46039f"
             ],
             [
              0.2222222222222222,
              "#7201a8"
             ],
             [
              0.3333333333333333,
              "#9c179e"
             ],
             [
              0.4444444444444444,
              "#bd3786"
             ],
             [
              0.5555555555555556,
              "#d8576b"
             ],
             [
              0.6666666666666666,
              "#ed7953"
             ],
             [
              0.7777777777777778,
              "#fb9f3a"
             ],
             [
              0.8888888888888888,
              "#fdca26"
             ],
             [
              1,
              "#f0f921"
             ]
            ],
            "type": "heatmap"
           }
          ],
          "heatmapgl": [
           {
            "colorbar": {
             "outlinewidth": 0,
             "ticks": ""
            },
            "colorscale": [
             [
              0,
              "#0d0887"
             ],
             [
              0.1111111111111111,
              "#46039f"
             ],
             [
              0.2222222222222222,
              "#7201a8"
             ],
             [
              0.3333333333333333,
              "#9c179e"
             ],
             [
              0.4444444444444444,
              "#bd3786"
             ],
             [
              0.5555555555555556,
              "#d8576b"
             ],
             [
              0.6666666666666666,
              "#ed7953"
             ],
             [
              0.7777777777777778,
              "#fb9f3a"
             ],
             [
              0.8888888888888888,
              "#fdca26"
             ],
             [
              1,
              "#f0f921"
             ]
            ],
            "type": "heatmapgl"
           }
          ],
          "histogram": [
           {
            "marker": {
             "colorbar": {
              "outlinewidth": 0,
              "ticks": ""
             }
            },
            "type": "histogram"
           }
          ],
          "histogram2d": [
           {
            "colorbar": {
             "outlinewidth": 0,
             "ticks": ""
            },
            "colorscale": [
             [
              0,
              "#0d0887"
             ],
             [
              0.1111111111111111,
              "#46039f"
             ],
             [
              0.2222222222222222,
              "#7201a8"
             ],
             [
              0.3333333333333333,
              "#9c179e"
             ],
             [
              0.4444444444444444,
              "#bd3786"
             ],
             [
              0.5555555555555556,
              "#d8576b"
             ],
             [
              0.6666666666666666,
              "#ed7953"
             ],
             [
              0.7777777777777778,
              "#fb9f3a"
             ],
             [
              0.8888888888888888,
              "#fdca26"
             ],
             [
              1,
              "#f0f921"
             ]
            ],
            "type": "histogram2d"
           }
          ],
          "histogram2dcontour": [
           {
            "colorbar": {
             "outlinewidth": 0,
             "ticks": ""
            },
            "colorscale": [
             [
              0,
              "#0d0887"
             ],
             [
              0.1111111111111111,
              "#46039f"
             ],
             [
              0.2222222222222222,
              "#7201a8"
             ],
             [
              0.3333333333333333,
              "#9c179e"
             ],
             [
              0.4444444444444444,
              "#bd3786"
             ],
             [
              0.5555555555555556,
              "#d8576b"
             ],
             [
              0.6666666666666666,
              "#ed7953"
             ],
             [
              0.7777777777777778,
              "#fb9f3a"
             ],
             [
              0.8888888888888888,
              "#fdca26"
             ],
             [
              1,
              "#f0f921"
             ]
            ],
            "type": "histogram2dcontour"
           }
          ],
          "mesh3d": [
           {
            "colorbar": {
             "outlinewidth": 0,
             "ticks": ""
            },
            "type": "mesh3d"
           }
          ],
          "parcoords": [
           {
            "line": {
             "colorbar": {
              "outlinewidth": 0,
              "ticks": ""
             }
            },
            "type": "parcoords"
           }
          ],
          "pie": [
           {
            "automargin": true,
            "type": "pie"
           }
          ],
          "scatter": [
           {
            "marker": {
             "colorbar": {
              "outlinewidth": 0,
              "ticks": ""
             }
            },
            "type": "scatter"
           }
          ],
          "scatter3d": [
           {
            "line": {
             "colorbar": {
              "outlinewidth": 0,
              "ticks": ""
             }
            },
            "marker": {
             "colorbar": {
              "outlinewidth": 0,
              "ticks": ""
             }
            },
            "type": "scatter3d"
           }
          ],
          "scattercarpet": [
           {
            "marker": {
             "colorbar": {
              "outlinewidth": 0,
              "ticks": ""
             }
            },
            "type": "scattercarpet"
           }
          ],
          "scattergeo": [
           {
            "marker": {
             "colorbar": {
              "outlinewidth": 0,
              "ticks": ""
             }
            },
            "type": "scattergeo"
           }
          ],
          "scattergl": [
           {
            "marker": {
             "colorbar": {
              "outlinewidth": 0,
              "ticks": ""
             }
            },
            "type": "scattergl"
           }
          ],
          "scattermapbox": [
           {
            "marker": {
             "colorbar": {
              "outlinewidth": 0,
              "ticks": ""
             }
            },
            "type": "scattermapbox"
           }
          ],
          "scatterpolar": [
           {
            "marker": {
             "colorbar": {
              "outlinewidth": 0,
              "ticks": ""
             }
            },
            "type": "scatterpolar"
           }
          ],
          "scatterpolargl": [
           {
            "marker": {
             "colorbar": {
              "outlinewidth": 0,
              "ticks": ""
             }
            },
            "type": "scatterpolargl"
           }
          ],
          "scatterternary": [
           {
            "marker": {
             "colorbar": {
              "outlinewidth": 0,
              "ticks": ""
             }
            },
            "type": "scatterternary"
           }
          ],
          "surface": [
           {
            "colorbar": {
             "outlinewidth": 0,
             "ticks": ""
            },
            "colorscale": [
             [
              0,
              "#0d0887"
             ],
             [
              0.1111111111111111,
              "#46039f"
             ],
             [
              0.2222222222222222,
              "#7201a8"
             ],
             [
              0.3333333333333333,
              "#9c179e"
             ],
             [
              0.4444444444444444,
              "#bd3786"
             ],
             [
              0.5555555555555556,
              "#d8576b"
             ],
             [
              0.6666666666666666,
              "#ed7953"
             ],
             [
              0.7777777777777778,
              "#fb9f3a"
             ],
             [
              0.8888888888888888,
              "#fdca26"
             ],
             [
              1,
              "#f0f921"
             ]
            ],
            "type": "surface"
           }
          ],
          "table": [
           {
            "cells": {
             "fill": {
              "color": "#EBF0F8"
             },
             "line": {
              "color": "white"
             }
            },
            "header": {
             "fill": {
              "color": "#C8D4E3"
             },
             "line": {
              "color": "white"
             }
            },
            "type": "table"
           }
          ]
         },
         "layout": {
          "annotationdefaults": {
           "arrowcolor": "#2a3f5f",
           "arrowhead": 0,
           "arrowwidth": 1
          },
          "autotypenumbers": "strict",
          "coloraxis": {
           "colorbar": {
            "outlinewidth": 0,
            "ticks": ""
           }
          },
          "colorscale": {
           "diverging": [
            [
             0,
             "#8e0152"
            ],
            [
             0.1,
             "#c51b7d"
            ],
            [
             0.2,
             "#de77ae"
            ],
            [
             0.3,
             "#f1b6da"
            ],
            [
             0.4,
             "#fde0ef"
            ],
            [
             0.5,
             "#f7f7f7"
            ],
            [
             0.6,
             "#e6f5d0"
            ],
            [
             0.7,
             "#b8e186"
            ],
            [
             0.8,
             "#7fbc41"
            ],
            [
             0.9,
             "#4d9221"
            ],
            [
             1,
             "#276419"
            ]
           ],
           "sequential": [
            [
             0,
             "#0d0887"
            ],
            [
             0.1111111111111111,
             "#46039f"
            ],
            [
             0.2222222222222222,
             "#7201a8"
            ],
            [
             0.3333333333333333,
             "#9c179e"
            ],
            [
             0.4444444444444444,
             "#bd3786"
            ],
            [
             0.5555555555555556,
             "#d8576b"
            ],
            [
             0.6666666666666666,
             "#ed7953"
            ],
            [
             0.7777777777777778,
             "#fb9f3a"
            ],
            [
             0.8888888888888888,
             "#fdca26"
            ],
            [
             1,
             "#f0f921"
            ]
           ],
           "sequentialminus": [
            [
             0,
             "#0d0887"
            ],
            [
             0.1111111111111111,
             "#46039f"
            ],
            [
             0.2222222222222222,
             "#7201a8"
            ],
            [
             0.3333333333333333,
             "#9c179e"
            ],
            [
             0.4444444444444444,
             "#bd3786"
            ],
            [
             0.5555555555555556,
             "#d8576b"
            ],
            [
             0.6666666666666666,
             "#ed7953"
            ],
            [
             0.7777777777777778,
             "#fb9f3a"
            ],
            [
             0.8888888888888888,
             "#fdca26"
            ],
            [
             1,
             "#f0f921"
            ]
           ]
          },
          "colorway": [
           "#636efa",
           "#EF553B",
           "#00cc96",
           "#ab63fa",
           "#FFA15A",
           "#19d3f3",
           "#FF6692",
           "#B6E880",
           "#FF97FF",
           "#FECB52"
          ],
          "font": {
           "color": "#2a3f5f"
          },
          "geo": {
           "bgcolor": "white",
           "lakecolor": "white",
           "landcolor": "#E5ECF6",
           "showlakes": true,
           "showland": true,
           "subunitcolor": "white"
          },
          "hoverlabel": {
           "align": "left"
          },
          "hovermode": "closest",
          "mapbox": {
           "style": "light"
          },
          "paper_bgcolor": "white",
          "plot_bgcolor": "#E5ECF6",
          "polar": {
           "angularaxis": {
            "gridcolor": "white",
            "linecolor": "white",
            "ticks": ""
           },
           "bgcolor": "#E5ECF6",
           "radialaxis": {
            "gridcolor": "white",
            "linecolor": "white",
            "ticks": ""
           }
          },
          "scene": {
           "xaxis": {
            "backgroundcolor": "#E5ECF6",
            "gridcolor": "white",
            "gridwidth": 2,
            "linecolor": "white",
            "showbackground": true,
            "ticks": "",
            "zerolinecolor": "white"
           },
           "yaxis": {
            "backgroundcolor": "#E5ECF6",
            "gridcolor": "white",
            "gridwidth": 2,
            "linecolor": "white",
            "showbackground": true,
            "ticks": "",
            "zerolinecolor": "white"
           },
           "zaxis": {
            "backgroundcolor": "#E5ECF6",
            "gridcolor": "white",
            "gridwidth": 2,
            "linecolor": "white",
            "showbackground": true,
            "ticks": "",
            "zerolinecolor": "white"
           }
          },
          "shapedefaults": {
           "line": {
            "color": "#2a3f5f"
           }
          },
          "ternary": {
           "aaxis": {
            "gridcolor": "white",
            "linecolor": "white",
            "ticks": ""
           },
           "baxis": {
            "gridcolor": "white",
            "linecolor": "white",
            "ticks": ""
           },
           "bgcolor": "#E5ECF6",
           "caxis": {
            "gridcolor": "white",
            "linecolor": "white",
            "ticks": ""
           }
          },
          "title": {
           "x": 0.05
          },
          "xaxis": {
           "automargin": true,
           "gridcolor": "white",
           "linecolor": "white",
           "ticks": "",
           "title": {
            "standoff": 15
           },
           "zerolinecolor": "white",
           "zerolinewidth": 2
          },
          "yaxis": {
           "automargin": true,
           "gridcolor": "white",
           "linecolor": "white",
           "ticks": "",
           "title": {
            "standoff": 15
           },
           "zerolinecolor": "white",
           "zerolinewidth": 2
          }
         }
        },
        "title": {
         "text": "<span style='font-size: 22px;'><b>Open access publications<b></span>",
         "x": 0.5
        }
       }
      },
      "text/html": [
       "<div>                            <div id=\"1f48e3c5-2761-4a1f-a0cc-ec26ff562890\" class=\"plotly-graph-div\" style=\"height:525px; width:100%;\"></div>            <script type=\"text/javascript\">                require([\"plotly\"], function(Plotly) {                    window.PLOTLYENV=window.PLOTLYENV || {};                                    if (document.getElementById(\"1f48e3c5-2761-4a1f-a0cc-ec26ff562890\")) {                    Plotly.newPlot(                        \"1f48e3c5-2761-4a1f-a0cc-ec26ff562890\",                        [{\"customdata\": [[false], [true]], \"domain\": {\"x\": [0.0, 1.0], \"y\": [0.0, 1.0]}, \"hovertemplate\": \"isOpenAccess=%{customdata[0]}<br>title=%{value}<extra></extra>\", \"labels\": [false, true], \"legendgroup\": \"\", \"marker\": {\"colors\": [\"#ab63fa\", \"#FFA15A\"]}, \"name\": \"\", \"showlegend\": true, \"type\": \"pie\", \"values\": [19, 11]}],                        {\"font\": {\"color\": \"white\", \"family\": \"Courier New, monospace\", \"size\": 14}, \"legend\": {\"tracegroupgap\": 0}, \"margin\": {\"t\": 60}, \"paper_bgcolor\": \"#101126\", \"plot_bgcolor\": \"#101126\", \"template\": {\"data\": {\"bar\": [{\"error_x\": {\"color\": \"#2a3f5f\"}, \"error_y\": {\"color\": \"#2a3f5f\"}, \"marker\": {\"line\": {\"color\": \"#E5ECF6\", \"width\": 0.5}}, \"type\": \"bar\"}], \"barpolar\": [{\"marker\": {\"line\": {\"color\": \"#E5ECF6\", \"width\": 0.5}}, \"type\": \"barpolar\"}], \"carpet\": [{\"aaxis\": {\"endlinecolor\": \"#2a3f5f\", \"gridcolor\": \"white\", \"linecolor\": \"white\", \"minorgridcolor\": \"white\", \"startlinecolor\": \"#2a3f5f\"}, \"baxis\": {\"endlinecolor\": \"#2a3f5f\", \"gridcolor\": \"white\", \"linecolor\": \"white\", \"minorgridcolor\": \"white\", \"startlinecolor\": \"#2a3f5f\"}, \"type\": \"carpet\"}], \"choropleth\": [{\"colorbar\": {\"outlinewidth\": 0, \"ticks\": \"\"}, \"type\": \"choropleth\"}], \"contour\": [{\"colorbar\": {\"outlinewidth\": 0, \"ticks\": \"\"}, \"colorscale\": [[0.0, \"#0d0887\"], [0.1111111111111111, \"#46039f\"], [0.2222222222222222, \"#7201a8\"], [0.3333333333333333, \"#9c179e\"], [0.4444444444444444, \"#bd3786\"], [0.5555555555555556, \"#d8576b\"], [0.6666666666666666, \"#ed7953\"], [0.7777777777777778, \"#fb9f3a\"], [0.8888888888888888, \"#fdca26\"], [1.0, \"#f0f921\"]], \"type\": \"contour\"}], \"contourcarpet\": [{\"colorbar\": {\"outlinewidth\": 0, \"ticks\": \"\"}, \"type\": \"contourcarpet\"}], \"heatmap\": [{\"colorbar\": {\"outlinewidth\": 0, \"ticks\": \"\"}, \"colorscale\": [[0.0, \"#0d0887\"], [0.1111111111111111, \"#46039f\"], [0.2222222222222222, \"#7201a8\"], [0.3333333333333333, \"#9c179e\"], [0.4444444444444444, \"#bd3786\"], [0.5555555555555556, \"#d8576b\"], [0.6666666666666666, \"#ed7953\"], [0.7777777777777778, \"#fb9f3a\"], [0.8888888888888888, \"#fdca26\"], [1.0, \"#f0f921\"]], \"type\": \"heatmap\"}], \"heatmapgl\": [{\"colorbar\": {\"outlinewidth\": 0, \"ticks\": \"\"}, \"colorscale\": [[0.0, \"#0d0887\"], [0.1111111111111111, \"#46039f\"], [0.2222222222222222, \"#7201a8\"], [0.3333333333333333, \"#9c179e\"], [0.4444444444444444, \"#bd3786\"], [0.5555555555555556, \"#d8576b\"], [0.6666666666666666, \"#ed7953\"], [0.7777777777777778, \"#fb9f3a\"], [0.8888888888888888, \"#fdca26\"], [1.0, \"#f0f921\"]], \"type\": \"heatmapgl\"}], \"histogram\": [{\"marker\": {\"colorbar\": {\"outlinewidth\": 0, \"ticks\": \"\"}}, \"type\": \"histogram\"}], \"histogram2d\": [{\"colorbar\": {\"outlinewidth\": 0, \"ticks\": \"\"}, \"colorscale\": [[0.0, \"#0d0887\"], [0.1111111111111111, \"#46039f\"], [0.2222222222222222, \"#7201a8\"], [0.3333333333333333, \"#9c179e\"], [0.4444444444444444, \"#bd3786\"], [0.5555555555555556, \"#d8576b\"], [0.6666666666666666, \"#ed7953\"], [0.7777777777777778, \"#fb9f3a\"], [0.8888888888888888, \"#fdca26\"], [1.0, \"#f0f921\"]], \"type\": \"histogram2d\"}], \"histogram2dcontour\": [{\"colorbar\": {\"outlinewidth\": 0, \"ticks\": \"\"}, \"colorscale\": [[0.0, \"#0d0887\"], [0.1111111111111111, \"#46039f\"], [0.2222222222222222, \"#7201a8\"], [0.3333333333333333, \"#9c179e\"], [0.4444444444444444, \"#bd3786\"], [0.5555555555555556, \"#d8576b\"], [0.6666666666666666, \"#ed7953\"], [0.7777777777777778, \"#fb9f3a\"], [0.8888888888888888, \"#fdca26\"], [1.0, \"#f0f921\"]], \"type\": \"histogram2dcontour\"}], \"mesh3d\": [{\"colorbar\": {\"outlinewidth\": 0, \"ticks\": \"\"}, \"type\": \"mesh3d\"}], \"parcoords\": [{\"line\": {\"colorbar\": {\"outlinewidth\": 0, \"ticks\": \"\"}}, \"type\": \"parcoords\"}], \"pie\": [{\"automargin\": true, \"type\": \"pie\"}], \"scatter\": [{\"marker\": {\"colorbar\": {\"outlinewidth\": 0, \"ticks\": \"\"}}, \"type\": \"scatter\"}], \"scatter3d\": [{\"line\": {\"colorbar\": {\"outlinewidth\": 0, \"ticks\": \"\"}}, \"marker\": {\"colorbar\": {\"outlinewidth\": 0, \"ticks\": \"\"}}, \"type\": \"scatter3d\"}], \"scattercarpet\": [{\"marker\": {\"colorbar\": {\"outlinewidth\": 0, \"ticks\": \"\"}}, \"type\": \"scattercarpet\"}], \"scattergeo\": [{\"marker\": {\"colorbar\": {\"outlinewidth\": 0, \"ticks\": \"\"}}, \"type\": \"scattergeo\"}], \"scattergl\": [{\"marker\": {\"colorbar\": {\"outlinewidth\": 0, \"ticks\": \"\"}}, \"type\": \"scattergl\"}], \"scattermapbox\": [{\"marker\": {\"colorbar\": {\"outlinewidth\": 0, \"ticks\": \"\"}}, \"type\": \"scattermapbox\"}], \"scatterpolar\": [{\"marker\": {\"colorbar\": {\"outlinewidth\": 0, \"ticks\": \"\"}}, \"type\": \"scatterpolar\"}], \"scatterpolargl\": [{\"marker\": {\"colorbar\": {\"outlinewidth\": 0, \"ticks\": \"\"}}, \"type\": \"scatterpolargl\"}], \"scatterternary\": [{\"marker\": {\"colorbar\": {\"outlinewidth\": 0, \"ticks\": \"\"}}, \"type\": \"scatterternary\"}], \"surface\": [{\"colorbar\": {\"outlinewidth\": 0, \"ticks\": \"\"}, \"colorscale\": [[0.0, \"#0d0887\"], [0.1111111111111111, \"#46039f\"], [0.2222222222222222, \"#7201a8\"], [0.3333333333333333, \"#9c179e\"], [0.4444444444444444, \"#bd3786\"], [0.5555555555555556, \"#d8576b\"], [0.6666666666666666, \"#ed7953\"], [0.7777777777777778, \"#fb9f3a\"], [0.8888888888888888, \"#fdca26\"], [1.0, \"#f0f921\"]], \"type\": \"surface\"}], \"table\": [{\"cells\": {\"fill\": {\"color\": \"#EBF0F8\"}, \"line\": {\"color\": \"white\"}}, \"header\": {\"fill\": {\"color\": \"#C8D4E3\"}, \"line\": {\"color\": \"white\"}}, \"type\": \"table\"}]}, \"layout\": {\"annotationdefaults\": {\"arrowcolor\": \"#2a3f5f\", \"arrowhead\": 0, \"arrowwidth\": 1}, \"autotypenumbers\": \"strict\", \"coloraxis\": {\"colorbar\": {\"outlinewidth\": 0, \"ticks\": \"\"}}, \"colorscale\": {\"diverging\": [[0, \"#8e0152\"], [0.1, \"#c51b7d\"], [0.2, \"#de77ae\"], [0.3, \"#f1b6da\"], [0.4, \"#fde0ef\"], [0.5, \"#f7f7f7\"], [0.6, \"#e6f5d0\"], [0.7, \"#b8e186\"], [0.8, \"#7fbc41\"], [0.9, \"#4d9221\"], [1, \"#276419\"]], \"sequential\": [[0.0, \"#0d0887\"], [0.1111111111111111, \"#46039f\"], [0.2222222222222222, \"#7201a8\"], [0.3333333333333333, \"#9c179e\"], [0.4444444444444444, \"#bd3786\"], [0.5555555555555556, \"#d8576b\"], [0.6666666666666666, \"#ed7953\"], [0.7777777777777778, \"#fb9f3a\"], [0.8888888888888888, \"#fdca26\"], [1.0, \"#f0f921\"]], \"sequentialminus\": [[0.0, \"#0d0887\"], [0.1111111111111111, \"#46039f\"], [0.2222222222222222, \"#7201a8\"], [0.3333333333333333, \"#9c179e\"], [0.4444444444444444, \"#bd3786\"], [0.5555555555555556, \"#d8576b\"], [0.6666666666666666, \"#ed7953\"], [0.7777777777777778, \"#fb9f3a\"], [0.8888888888888888, \"#fdca26\"], [1.0, \"#f0f921\"]]}, \"colorway\": [\"#636efa\", \"#EF553B\", \"#00cc96\", \"#ab63fa\", \"#FFA15A\", \"#19d3f3\", \"#FF6692\", \"#B6E880\", \"#FF97FF\", \"#FECB52\"], \"font\": {\"color\": \"#2a3f5f\"}, \"geo\": {\"bgcolor\": \"white\", \"lakecolor\": \"white\", \"landcolor\": \"#E5ECF6\", \"showlakes\": true, \"showland\": true, \"subunitcolor\": \"white\"}, \"hoverlabel\": {\"align\": \"left\"}, \"hovermode\": \"closest\", \"mapbox\": {\"style\": \"light\"}, \"paper_bgcolor\": \"white\", \"plot_bgcolor\": \"#E5ECF6\", \"polar\": {\"angularaxis\": {\"gridcolor\": \"white\", \"linecolor\": \"white\", \"ticks\": \"\"}, \"bgcolor\": \"#E5ECF6\", \"radialaxis\": {\"gridcolor\": \"white\", \"linecolor\": \"white\", \"ticks\": \"\"}}, \"scene\": {\"xaxis\": {\"backgroundcolor\": \"#E5ECF6\", \"gridcolor\": \"white\", \"gridwidth\": 2, \"linecolor\": \"white\", \"showbackground\": true, \"ticks\": \"\", \"zerolinecolor\": \"white\"}, \"yaxis\": {\"backgroundcolor\": \"#E5ECF6\", \"gridcolor\": \"white\", \"gridwidth\": 2, \"linecolor\": \"white\", \"showbackground\": true, \"ticks\": \"\", \"zerolinecolor\": \"white\"}, \"zaxis\": {\"backgroundcolor\": \"#E5ECF6\", \"gridcolor\": \"white\", \"gridwidth\": 2, \"linecolor\": \"white\", \"showbackground\": true, \"ticks\": \"\", \"zerolinecolor\": \"white\"}}, \"shapedefaults\": {\"line\": {\"color\": \"#2a3f5f\"}}, \"ternary\": {\"aaxis\": {\"gridcolor\": \"white\", \"linecolor\": \"white\", \"ticks\": \"\"}, \"baxis\": {\"gridcolor\": \"white\", \"linecolor\": \"white\", \"ticks\": \"\"}, \"bgcolor\": \"#E5ECF6\", \"caxis\": {\"gridcolor\": \"white\", \"linecolor\": \"white\", \"ticks\": \"\"}}, \"title\": {\"x\": 0.05}, \"xaxis\": {\"automargin\": true, \"gridcolor\": \"white\", \"linecolor\": \"white\", \"ticks\": \"\", \"title\": {\"standoff\": 15}, \"zerolinecolor\": \"white\", \"zerolinewidth\": 2}, \"yaxis\": {\"automargin\": true, \"gridcolor\": \"white\", \"linecolor\": \"white\", \"ticks\": \"\", \"title\": {\"standoff\": 15}, \"zerolinecolor\": \"white\", \"zerolinewidth\": 2}}}, \"title\": {\"text\": \"<span style='font-size: 22px;'><b>Open access publications<b></span>\", \"x\": 0.5}},                        {\"responsive\": true}                    ).then(function(){\n",
       "                            \n",
       "var gd = document.getElementById('1f48e3c5-2761-4a1f-a0cc-ec26ff562890');\n",
       "var x = new MutationObserver(function (mutations, observer) {{\n",
       "        var display = window.getComputedStyle(gd).display;\n",
       "        if (!display || display === 'none') {{\n",
       "            console.log([gd, 'removed!']);\n",
       "            Plotly.purge(gd);\n",
       "            observer.disconnect();\n",
       "        }}\n",
       "}});\n",
       "\n",
       "// Listen for the removal of the full notebook cells\n",
       "var notebookContainer = gd.closest('#notebook-container');\n",
       "if (notebookContainer) {{\n",
       "    x.observe(notebookContainer, {childList: true});\n",
       "}}\n",
       "\n",
       "// Listen for the clearing of the current output cell\n",
       "var outputEl = gd.closest('.output');\n",
       "if (outputEl) {{\n",
       "    x.observe(outputEl, {childList: true});\n",
       "}}\n",
       "\n",
       "                        })                };                });            </script>        </div>"
      ]
     },
     "metadata": {},
     "output_type": "display_data"
    }
   ],
   "source": [
    "plots.make_access_pie(results_df, 'semantic_scholar')"
   ]
  },
  {
   "cell_type": "code",
   "execution_count": 65,
   "id": "98e761a7",
   "metadata": {
    "hidden": true
   },
   "outputs": [
    {
     "data": {
      "application/vnd.plotly.v1+json": {
       "config": {
        "plotlyServerURL": "https://plot.ly"
       },
       "data": [
        {
         "marker": {
          "color": "#eda109"
         },
         "textangle": 0,
         "textposition": "outside",
         "texttemplate": "%{y}",
         "type": "bar",
         "x": [
          2011,
          2013,
          2014,
          2015,
          2016,
          2017,
          2018,
          2019,
          2020,
          2021
         ],
         "y": [
          1,
          2,
          1,
          1,
          6,
          4,
          8,
          2,
          4,
          1
         ]
        }
       ],
       "layout": {
        "font": {
         "color": "white",
         "family": "Courier New, monospace",
         "size": 12
        },
        "paper_bgcolor": "#101126",
        "plot_bgcolor": "#101126",
        "template": {
         "data": {
          "bar": [
           {
            "error_x": {
             "color": "#2a3f5f"
            },
            "error_y": {
             "color": "#2a3f5f"
            },
            "marker": {
             "line": {
              "color": "#E5ECF6",
              "width": 0.5
             }
            },
            "type": "bar"
           }
          ],
          "barpolar": [
           {
            "marker": {
             "line": {
              "color": "#E5ECF6",
              "width": 0.5
             }
            },
            "type": "barpolar"
           }
          ],
          "carpet": [
           {
            "aaxis": {
             "endlinecolor": "#2a3f5f",
             "gridcolor": "white",
             "linecolor": "white",
             "minorgridcolor": "white",
             "startlinecolor": "#2a3f5f"
            },
            "baxis": {
             "endlinecolor": "#2a3f5f",
             "gridcolor": "white",
             "linecolor": "white",
             "minorgridcolor": "white",
             "startlinecolor": "#2a3f5f"
            },
            "type": "carpet"
           }
          ],
          "choropleth": [
           {
            "colorbar": {
             "outlinewidth": 0,
             "ticks": ""
            },
            "type": "choropleth"
           }
          ],
          "contour": [
           {
            "colorbar": {
             "outlinewidth": 0,
             "ticks": ""
            },
            "colorscale": [
             [
              0,
              "#0d0887"
             ],
             [
              0.1111111111111111,
              "#46039f"
             ],
             [
              0.2222222222222222,
              "#7201a8"
             ],
             [
              0.3333333333333333,
              "#9c179e"
             ],
             [
              0.4444444444444444,
              "#bd3786"
             ],
             [
              0.5555555555555556,
              "#d8576b"
             ],
             [
              0.6666666666666666,
              "#ed7953"
             ],
             [
              0.7777777777777778,
              "#fb9f3a"
             ],
             [
              0.8888888888888888,
              "#fdca26"
             ],
             [
              1,
              "#f0f921"
             ]
            ],
            "type": "contour"
           }
          ],
          "contourcarpet": [
           {
            "colorbar": {
             "outlinewidth": 0,
             "ticks": ""
            },
            "type": "contourcarpet"
           }
          ],
          "heatmap": [
           {
            "colorbar": {
             "outlinewidth": 0,
             "ticks": ""
            },
            "colorscale": [
             [
              0,
              "#0d0887"
             ],
             [
              0.1111111111111111,
              "#46039f"
             ],
             [
              0.2222222222222222,
              "#7201a8"
             ],
             [
              0.3333333333333333,
              "#9c179e"
             ],
             [
              0.4444444444444444,
              "#bd3786"
             ],
             [
              0.5555555555555556,
              "#d8576b"
             ],
             [
              0.6666666666666666,
              "#ed7953"
             ],
             [
              0.7777777777777778,
              "#fb9f3a"
             ],
             [
              0.8888888888888888,
              "#fdca26"
             ],
             [
              1,
              "#f0f921"
             ]
            ],
            "type": "heatmap"
           }
          ],
          "heatmapgl": [
           {
            "colorbar": {
             "outlinewidth": 0,
             "ticks": ""
            },
            "colorscale": [
             [
              0,
              "#0d0887"
             ],
             [
              0.1111111111111111,
              "#46039f"
             ],
             [
              0.2222222222222222,
              "#7201a8"
             ],
             [
              0.3333333333333333,
              "#9c179e"
             ],
             [
              0.4444444444444444,
              "#bd3786"
             ],
             [
              0.5555555555555556,
              "#d8576b"
             ],
             [
              0.6666666666666666,
              "#ed7953"
             ],
             [
              0.7777777777777778,
              "#fb9f3a"
             ],
             [
              0.8888888888888888,
              "#fdca26"
             ],
             [
              1,
              "#f0f921"
             ]
            ],
            "type": "heatmapgl"
           }
          ],
          "histogram": [
           {
            "marker": {
             "colorbar": {
              "outlinewidth": 0,
              "ticks": ""
             }
            },
            "type": "histogram"
           }
          ],
          "histogram2d": [
           {
            "colorbar": {
             "outlinewidth": 0,
             "ticks": ""
            },
            "colorscale": [
             [
              0,
              "#0d0887"
             ],
             [
              0.1111111111111111,
              "#46039f"
             ],
             [
              0.2222222222222222,
              "#7201a8"
             ],
             [
              0.3333333333333333,
              "#9c179e"
             ],
             [
              0.4444444444444444,
              "#bd3786"
             ],
             [
              0.5555555555555556,
              "#d8576b"
             ],
             [
              0.6666666666666666,
              "#ed7953"
             ],
             [
              0.7777777777777778,
              "#fb9f3a"
             ],
             [
              0.8888888888888888,
              "#fdca26"
             ],
             [
              1,
              "#f0f921"
             ]
            ],
            "type": "histogram2d"
           }
          ],
          "histogram2dcontour": [
           {
            "colorbar": {
             "outlinewidth": 0,
             "ticks": ""
            },
            "colorscale": [
             [
              0,
              "#0d0887"
             ],
             [
              0.1111111111111111,
              "#46039f"
             ],
             [
              0.2222222222222222,
              "#7201a8"
             ],
             [
              0.3333333333333333,
              "#9c179e"
             ],
             [
              0.4444444444444444,
              "#bd3786"
             ],
             [
              0.5555555555555556,
              "#d8576b"
             ],
             [
              0.6666666666666666,
              "#ed7953"
             ],
             [
              0.7777777777777778,
              "#fb9f3a"
             ],
             [
              0.8888888888888888,
              "#fdca26"
             ],
             [
              1,
              "#f0f921"
             ]
            ],
            "type": "histogram2dcontour"
           }
          ],
          "mesh3d": [
           {
            "colorbar": {
             "outlinewidth": 0,
             "ticks": ""
            },
            "type": "mesh3d"
           }
          ],
          "parcoords": [
           {
            "line": {
             "colorbar": {
              "outlinewidth": 0,
              "ticks": ""
             }
            },
            "type": "parcoords"
           }
          ],
          "pie": [
           {
            "automargin": true,
            "type": "pie"
           }
          ],
          "scatter": [
           {
            "marker": {
             "colorbar": {
              "outlinewidth": 0,
              "ticks": ""
             }
            },
            "type": "scatter"
           }
          ],
          "scatter3d": [
           {
            "line": {
             "colorbar": {
              "outlinewidth": 0,
              "ticks": ""
             }
            },
            "marker": {
             "colorbar": {
              "outlinewidth": 0,
              "ticks": ""
             }
            },
            "type": "scatter3d"
           }
          ],
          "scattercarpet": [
           {
            "marker": {
             "colorbar": {
              "outlinewidth": 0,
              "ticks": ""
             }
            },
            "type": "scattercarpet"
           }
          ],
          "scattergeo": [
           {
            "marker": {
             "colorbar": {
              "outlinewidth": 0,
              "ticks": ""
             }
            },
            "type": "scattergeo"
           }
          ],
          "scattergl": [
           {
            "marker": {
             "colorbar": {
              "outlinewidth": 0,
              "ticks": ""
             }
            },
            "type": "scattergl"
           }
          ],
          "scattermapbox": [
           {
            "marker": {
             "colorbar": {
              "outlinewidth": 0,
              "ticks": ""
             }
            },
            "type": "scattermapbox"
           }
          ],
          "scatterpolar": [
           {
            "marker": {
             "colorbar": {
              "outlinewidth": 0,
              "ticks": ""
             }
            },
            "type": "scatterpolar"
           }
          ],
          "scatterpolargl": [
           {
            "marker": {
             "colorbar": {
              "outlinewidth": 0,
              "ticks": ""
             }
            },
            "type": "scatterpolargl"
           }
          ],
          "scatterternary": [
           {
            "marker": {
             "colorbar": {
              "outlinewidth": 0,
              "ticks": ""
             }
            },
            "type": "scatterternary"
           }
          ],
          "surface": [
           {
            "colorbar": {
             "outlinewidth": 0,
             "ticks": ""
            },
            "colorscale": [
             [
              0,
              "#0d0887"
             ],
             [
              0.1111111111111111,
              "#46039f"
             ],
             [
              0.2222222222222222,
              "#7201a8"
             ],
             [
              0.3333333333333333,
              "#9c179e"
             ],
             [
              0.4444444444444444,
              "#bd3786"
             ],
             [
              0.5555555555555556,
              "#d8576b"
             ],
             [
              0.6666666666666666,
              "#ed7953"
             ],
             [
              0.7777777777777778,
              "#fb9f3a"
             ],
             [
              0.8888888888888888,
              "#fdca26"
             ],
             [
              1,
              "#f0f921"
             ]
            ],
            "type": "surface"
           }
          ],
          "table": [
           {
            "cells": {
             "fill": {
              "color": "#EBF0F8"
             },
             "line": {
              "color": "white"
             }
            },
            "header": {
             "fill": {
              "color": "#C8D4E3"
             },
             "line": {
              "color": "white"
             }
            },
            "type": "table"
           }
          ]
         },
         "layout": {
          "annotationdefaults": {
           "arrowcolor": "#2a3f5f",
           "arrowhead": 0,
           "arrowwidth": 1
          },
          "autotypenumbers": "strict",
          "coloraxis": {
           "colorbar": {
            "outlinewidth": 0,
            "ticks": ""
           }
          },
          "colorscale": {
           "diverging": [
            [
             0,
             "#8e0152"
            ],
            [
             0.1,
             "#c51b7d"
            ],
            [
             0.2,
             "#de77ae"
            ],
            [
             0.3,
             "#f1b6da"
            ],
            [
             0.4,
             "#fde0ef"
            ],
            [
             0.5,
             "#f7f7f7"
            ],
            [
             0.6,
             "#e6f5d0"
            ],
            [
             0.7,
             "#b8e186"
            ],
            [
             0.8,
             "#7fbc41"
            ],
            [
             0.9,
             "#4d9221"
            ],
            [
             1,
             "#276419"
            ]
           ],
           "sequential": [
            [
             0,
             "#0d0887"
            ],
            [
             0.1111111111111111,
             "#46039f"
            ],
            [
             0.2222222222222222,
             "#7201a8"
            ],
            [
             0.3333333333333333,
             "#9c179e"
            ],
            [
             0.4444444444444444,
             "#bd3786"
            ],
            [
             0.5555555555555556,
             "#d8576b"
            ],
            [
             0.6666666666666666,
             "#ed7953"
            ],
            [
             0.7777777777777778,
             "#fb9f3a"
            ],
            [
             0.8888888888888888,
             "#fdca26"
            ],
            [
             1,
             "#f0f921"
            ]
           ],
           "sequentialminus": [
            [
             0,
             "#0d0887"
            ],
            [
             0.1111111111111111,
             "#46039f"
            ],
            [
             0.2222222222222222,
             "#7201a8"
            ],
            [
             0.3333333333333333,
             "#9c179e"
            ],
            [
             0.4444444444444444,
             "#bd3786"
            ],
            [
             0.5555555555555556,
             "#d8576b"
            ],
            [
             0.6666666666666666,
             "#ed7953"
            ],
            [
             0.7777777777777778,
             "#fb9f3a"
            ],
            [
             0.8888888888888888,
             "#fdca26"
            ],
            [
             1,
             "#f0f921"
            ]
           ]
          },
          "colorway": [
           "#636efa",
           "#EF553B",
           "#00cc96",
           "#ab63fa",
           "#FFA15A",
           "#19d3f3",
           "#FF6692",
           "#B6E880",
           "#FF97FF",
           "#FECB52"
          ],
          "font": {
           "color": "#2a3f5f"
          },
          "geo": {
           "bgcolor": "white",
           "lakecolor": "white",
           "landcolor": "#E5ECF6",
           "showlakes": true,
           "showland": true,
           "subunitcolor": "white"
          },
          "hoverlabel": {
           "align": "left"
          },
          "hovermode": "closest",
          "mapbox": {
           "style": "light"
          },
          "paper_bgcolor": "white",
          "plot_bgcolor": "#E5ECF6",
          "polar": {
           "angularaxis": {
            "gridcolor": "white",
            "linecolor": "white",
            "ticks": ""
           },
           "bgcolor": "#E5ECF6",
           "radialaxis": {
            "gridcolor": "white",
            "linecolor": "white",
            "ticks": ""
           }
          },
          "scene": {
           "xaxis": {
            "backgroundcolor": "#E5ECF6",
            "gridcolor": "white",
            "gridwidth": 2,
            "linecolor": "white",
            "showbackground": true,
            "ticks": "",
            "zerolinecolor": "white"
           },
           "yaxis": {
            "backgroundcolor": "#E5ECF6",
            "gridcolor": "white",
            "gridwidth": 2,
            "linecolor": "white",
            "showbackground": true,
            "ticks": "",
            "zerolinecolor": "white"
           },
           "zaxis": {
            "backgroundcolor": "#E5ECF6",
            "gridcolor": "white",
            "gridwidth": 2,
            "linecolor": "white",
            "showbackground": true,
            "ticks": "",
            "zerolinecolor": "white"
           }
          },
          "shapedefaults": {
           "line": {
            "color": "#2a3f5f"
           }
          },
          "ternary": {
           "aaxis": {
            "gridcolor": "white",
            "linecolor": "white",
            "ticks": ""
           },
           "baxis": {
            "gridcolor": "white",
            "linecolor": "white",
            "ticks": ""
           },
           "bgcolor": "#E5ECF6",
           "caxis": {
            "gridcolor": "white",
            "linecolor": "white",
            "ticks": ""
           }
          },
          "title": {
           "x": 0.05
          },
          "xaxis": {
           "automargin": true,
           "gridcolor": "white",
           "linecolor": "white",
           "ticks": "",
           "title": {
            "standoff": 15
           },
           "zerolinecolor": "white",
           "zerolinewidth": 2
          },
          "yaxis": {
           "automargin": true,
           "gridcolor": "white",
           "linecolor": "white",
           "ticks": "",
           "title": {
            "standoff": 15
           },
           "zerolinecolor": "white",
           "zerolinewidth": 2
          }
         }
        },
        "title": {
         "text": "<span style='font-size: 22px;'><b>Publications per Year<b></span>",
         "x": 0.5
        },
        "xaxis": {
         "range": [
          2006,
          2027
         ],
         "title": {
          "text": "Year"
         }
        },
        "yaxis": {
         "range": [
          0,
          8.8
         ],
         "title": {
          "text": "Number of Publications"
         }
        }
       }
      },
      "text/html": [
       "<div>                            <div id=\"eb220fc2-76da-4525-a71a-f929ca515f0b\" class=\"plotly-graph-div\" style=\"height:525px; width:100%;\"></div>            <script type=\"text/javascript\">                require([\"plotly\"], function(Plotly) {                    window.PLOTLYENV=window.PLOTLYENV || {};                                    if (document.getElementById(\"eb220fc2-76da-4525-a71a-f929ca515f0b\")) {                    Plotly.newPlot(                        \"eb220fc2-76da-4525-a71a-f929ca515f0b\",                        [{\"marker\": {\"color\": \"#eda109\"}, \"textangle\": 0, \"textposition\": \"outside\", \"texttemplate\": \"%{y}\", \"type\": \"bar\", \"x\": [2011, 2013, 2014, 2015, 2016, 2017, 2018, 2019, 2020, 2021], \"y\": [1, 2, 1, 1, 6, 4, 8, 2, 4, 1]}],                        {\"font\": {\"color\": \"white\", \"family\": \"Courier New, monospace\", \"size\": 12}, \"paper_bgcolor\": \"#101126\", \"plot_bgcolor\": \"#101126\", \"template\": {\"data\": {\"bar\": [{\"error_x\": {\"color\": \"#2a3f5f\"}, \"error_y\": {\"color\": \"#2a3f5f\"}, \"marker\": {\"line\": {\"color\": \"#E5ECF6\", \"width\": 0.5}}, \"type\": \"bar\"}], \"barpolar\": [{\"marker\": {\"line\": {\"color\": \"#E5ECF6\", \"width\": 0.5}}, \"type\": \"barpolar\"}], \"carpet\": [{\"aaxis\": {\"endlinecolor\": \"#2a3f5f\", \"gridcolor\": \"white\", \"linecolor\": \"white\", \"minorgridcolor\": \"white\", \"startlinecolor\": \"#2a3f5f\"}, \"baxis\": {\"endlinecolor\": \"#2a3f5f\", \"gridcolor\": \"white\", \"linecolor\": \"white\", \"minorgridcolor\": \"white\", \"startlinecolor\": \"#2a3f5f\"}, \"type\": \"carpet\"}], \"choropleth\": [{\"colorbar\": {\"outlinewidth\": 0, \"ticks\": \"\"}, \"type\": \"choropleth\"}], \"contour\": [{\"colorbar\": {\"outlinewidth\": 0, \"ticks\": \"\"}, \"colorscale\": [[0.0, \"#0d0887\"], [0.1111111111111111, \"#46039f\"], [0.2222222222222222, \"#7201a8\"], [0.3333333333333333, \"#9c179e\"], [0.4444444444444444, \"#bd3786\"], [0.5555555555555556, \"#d8576b\"], [0.6666666666666666, \"#ed7953\"], [0.7777777777777778, \"#fb9f3a\"], [0.8888888888888888, \"#fdca26\"], [1.0, \"#f0f921\"]], \"type\": \"contour\"}], \"contourcarpet\": [{\"colorbar\": {\"outlinewidth\": 0, \"ticks\": \"\"}, \"type\": \"contourcarpet\"}], \"heatmap\": [{\"colorbar\": {\"outlinewidth\": 0, \"ticks\": \"\"}, \"colorscale\": [[0.0, \"#0d0887\"], [0.1111111111111111, \"#46039f\"], [0.2222222222222222, \"#7201a8\"], [0.3333333333333333, \"#9c179e\"], [0.4444444444444444, \"#bd3786\"], [0.5555555555555556, \"#d8576b\"], [0.6666666666666666, \"#ed7953\"], [0.7777777777777778, \"#fb9f3a\"], [0.8888888888888888, \"#fdca26\"], [1.0, \"#f0f921\"]], \"type\": \"heatmap\"}], \"heatmapgl\": [{\"colorbar\": {\"outlinewidth\": 0, \"ticks\": \"\"}, \"colorscale\": [[0.0, \"#0d0887\"], [0.1111111111111111, \"#46039f\"], [0.2222222222222222, \"#7201a8\"], [0.3333333333333333, \"#9c179e\"], [0.4444444444444444, \"#bd3786\"], [0.5555555555555556, \"#d8576b\"], [0.6666666666666666, \"#ed7953\"], [0.7777777777777778, \"#fb9f3a\"], [0.8888888888888888, \"#fdca26\"], [1.0, \"#f0f921\"]], \"type\": \"heatmapgl\"}], \"histogram\": [{\"marker\": {\"colorbar\": {\"outlinewidth\": 0, \"ticks\": \"\"}}, \"type\": \"histogram\"}], \"histogram2d\": [{\"colorbar\": {\"outlinewidth\": 0, \"ticks\": \"\"}, \"colorscale\": [[0.0, \"#0d0887\"], [0.1111111111111111, \"#46039f\"], [0.2222222222222222, \"#7201a8\"], [0.3333333333333333, \"#9c179e\"], [0.4444444444444444, \"#bd3786\"], [0.5555555555555556, \"#d8576b\"], [0.6666666666666666, \"#ed7953\"], [0.7777777777777778, \"#fb9f3a\"], [0.8888888888888888, \"#fdca26\"], [1.0, \"#f0f921\"]], \"type\": \"histogram2d\"}], \"histogram2dcontour\": [{\"colorbar\": {\"outlinewidth\": 0, \"ticks\": \"\"}, \"colorscale\": [[0.0, \"#0d0887\"], [0.1111111111111111, \"#46039f\"], [0.2222222222222222, \"#7201a8\"], [0.3333333333333333, \"#9c179e\"], [0.4444444444444444, \"#bd3786\"], [0.5555555555555556, \"#d8576b\"], [0.6666666666666666, \"#ed7953\"], [0.7777777777777778, \"#fb9f3a\"], [0.8888888888888888, \"#fdca26\"], [1.0, \"#f0f921\"]], \"type\": \"histogram2dcontour\"}], \"mesh3d\": [{\"colorbar\": {\"outlinewidth\": 0, \"ticks\": \"\"}, \"type\": \"mesh3d\"}], \"parcoords\": [{\"line\": {\"colorbar\": {\"outlinewidth\": 0, \"ticks\": \"\"}}, \"type\": \"parcoords\"}], \"pie\": [{\"automargin\": true, \"type\": \"pie\"}], \"scatter\": [{\"marker\": {\"colorbar\": {\"outlinewidth\": 0, \"ticks\": \"\"}}, \"type\": \"scatter\"}], \"scatter3d\": [{\"line\": {\"colorbar\": {\"outlinewidth\": 0, \"ticks\": \"\"}}, \"marker\": {\"colorbar\": {\"outlinewidth\": 0, \"ticks\": \"\"}}, \"type\": \"scatter3d\"}], \"scattercarpet\": [{\"marker\": {\"colorbar\": {\"outlinewidth\": 0, \"ticks\": \"\"}}, \"type\": \"scattercarpet\"}], \"scattergeo\": [{\"marker\": {\"colorbar\": {\"outlinewidth\": 0, \"ticks\": \"\"}}, \"type\": \"scattergeo\"}], \"scattergl\": [{\"marker\": {\"colorbar\": {\"outlinewidth\": 0, \"ticks\": \"\"}}, \"type\": \"scattergl\"}], \"scattermapbox\": [{\"marker\": {\"colorbar\": {\"outlinewidth\": 0, \"ticks\": \"\"}}, \"type\": \"scattermapbox\"}], \"scatterpolar\": [{\"marker\": {\"colorbar\": {\"outlinewidth\": 0, \"ticks\": \"\"}}, \"type\": \"scatterpolar\"}], \"scatterpolargl\": [{\"marker\": {\"colorbar\": {\"outlinewidth\": 0, \"ticks\": \"\"}}, \"type\": \"scatterpolargl\"}], \"scatterternary\": [{\"marker\": {\"colorbar\": {\"outlinewidth\": 0, \"ticks\": \"\"}}, \"type\": \"scatterternary\"}], \"surface\": [{\"colorbar\": {\"outlinewidth\": 0, \"ticks\": \"\"}, \"colorscale\": [[0.0, \"#0d0887\"], [0.1111111111111111, \"#46039f\"], [0.2222222222222222, \"#7201a8\"], [0.3333333333333333, \"#9c179e\"], [0.4444444444444444, \"#bd3786\"], [0.5555555555555556, \"#d8576b\"], [0.6666666666666666, \"#ed7953\"], [0.7777777777777778, \"#fb9f3a\"], [0.8888888888888888, \"#fdca26\"], [1.0, \"#f0f921\"]], \"type\": \"surface\"}], \"table\": [{\"cells\": {\"fill\": {\"color\": \"#EBF0F8\"}, \"line\": {\"color\": \"white\"}}, \"header\": {\"fill\": {\"color\": \"#C8D4E3\"}, \"line\": {\"color\": \"white\"}}, \"type\": \"table\"}]}, \"layout\": {\"annotationdefaults\": {\"arrowcolor\": \"#2a3f5f\", \"arrowhead\": 0, \"arrowwidth\": 1}, \"autotypenumbers\": \"strict\", \"coloraxis\": {\"colorbar\": {\"outlinewidth\": 0, \"ticks\": \"\"}}, \"colorscale\": {\"diverging\": [[0, \"#8e0152\"], [0.1, \"#c51b7d\"], [0.2, \"#de77ae\"], [0.3, \"#f1b6da\"], [0.4, \"#fde0ef\"], [0.5, \"#f7f7f7\"], [0.6, \"#e6f5d0\"], [0.7, \"#b8e186\"], [0.8, \"#7fbc41\"], [0.9, \"#4d9221\"], [1, \"#276419\"]], \"sequential\": [[0.0, \"#0d0887\"], [0.1111111111111111, \"#46039f\"], [0.2222222222222222, \"#7201a8\"], [0.3333333333333333, \"#9c179e\"], [0.4444444444444444, \"#bd3786\"], [0.5555555555555556, \"#d8576b\"], [0.6666666666666666, \"#ed7953\"], [0.7777777777777778, \"#fb9f3a\"], [0.8888888888888888, \"#fdca26\"], [1.0, \"#f0f921\"]], \"sequentialminus\": [[0.0, \"#0d0887\"], [0.1111111111111111, \"#46039f\"], [0.2222222222222222, \"#7201a8\"], [0.3333333333333333, \"#9c179e\"], [0.4444444444444444, \"#bd3786\"], [0.5555555555555556, \"#d8576b\"], [0.6666666666666666, \"#ed7953\"], [0.7777777777777778, \"#fb9f3a\"], [0.8888888888888888, \"#fdca26\"], [1.0, \"#f0f921\"]]}, \"colorway\": [\"#636efa\", \"#EF553B\", \"#00cc96\", \"#ab63fa\", \"#FFA15A\", \"#19d3f3\", \"#FF6692\", \"#B6E880\", \"#FF97FF\", \"#FECB52\"], \"font\": {\"color\": \"#2a3f5f\"}, \"geo\": {\"bgcolor\": \"white\", \"lakecolor\": \"white\", \"landcolor\": \"#E5ECF6\", \"showlakes\": true, \"showland\": true, \"subunitcolor\": \"white\"}, \"hoverlabel\": {\"align\": \"left\"}, \"hovermode\": \"closest\", \"mapbox\": {\"style\": \"light\"}, \"paper_bgcolor\": \"white\", \"plot_bgcolor\": \"#E5ECF6\", \"polar\": {\"angularaxis\": {\"gridcolor\": \"white\", \"linecolor\": \"white\", \"ticks\": \"\"}, \"bgcolor\": \"#E5ECF6\", \"radialaxis\": {\"gridcolor\": \"white\", \"linecolor\": \"white\", \"ticks\": \"\"}}, \"scene\": {\"xaxis\": {\"backgroundcolor\": \"#E5ECF6\", \"gridcolor\": \"white\", \"gridwidth\": 2, \"linecolor\": \"white\", \"showbackground\": true, \"ticks\": \"\", \"zerolinecolor\": \"white\"}, \"yaxis\": {\"backgroundcolor\": \"#E5ECF6\", \"gridcolor\": \"white\", \"gridwidth\": 2, \"linecolor\": \"white\", \"showbackground\": true, \"ticks\": \"\", \"zerolinecolor\": \"white\"}, \"zaxis\": {\"backgroundcolor\": \"#E5ECF6\", \"gridcolor\": \"white\", \"gridwidth\": 2, \"linecolor\": \"white\", \"showbackground\": true, \"ticks\": \"\", \"zerolinecolor\": \"white\"}}, \"shapedefaults\": {\"line\": {\"color\": \"#2a3f5f\"}}, \"ternary\": {\"aaxis\": {\"gridcolor\": \"white\", \"linecolor\": \"white\", \"ticks\": \"\"}, \"baxis\": {\"gridcolor\": \"white\", \"linecolor\": \"white\", \"ticks\": \"\"}, \"bgcolor\": \"#E5ECF6\", \"caxis\": {\"gridcolor\": \"white\", \"linecolor\": \"white\", \"ticks\": \"\"}}, \"title\": {\"x\": 0.05}, \"xaxis\": {\"automargin\": true, \"gridcolor\": \"white\", \"linecolor\": \"white\", \"ticks\": \"\", \"title\": {\"standoff\": 15}, \"zerolinecolor\": \"white\", \"zerolinewidth\": 2}, \"yaxis\": {\"automargin\": true, \"gridcolor\": \"white\", \"linecolor\": \"white\", \"ticks\": \"\", \"title\": {\"standoff\": 15}, \"zerolinecolor\": \"white\", \"zerolinewidth\": 2}}}, \"title\": {\"text\": \"<span style='font-size: 22px;'><b>Publications per Year<b></span>\", \"x\": 0.5}, \"xaxis\": {\"range\": [2006, 2027], \"title\": {\"text\": \"Year\"}}, \"yaxis\": {\"range\": [0, 8.8], \"title\": {\"text\": \"Number of Publications\"}}},                        {\"responsive\": true}                    ).then(function(){\n",
       "                            \n",
       "var gd = document.getElementById('eb220fc2-76da-4525-a71a-f929ca515f0b');\n",
       "var x = new MutationObserver(function (mutations, observer) {{\n",
       "        var display = window.getComputedStyle(gd).display;\n",
       "        if (!display || display === 'none') {{\n",
       "            console.log([gd, 'removed!']);\n",
       "            Plotly.purge(gd);\n",
       "            observer.disconnect();\n",
       "        }}\n",
       "}});\n",
       "\n",
       "// Listen for the removal of the full notebook cells\n",
       "var notebookContainer = gd.closest('#notebook-container');\n",
       "if (notebookContainer) {{\n",
       "    x.observe(notebookContainer, {childList: true});\n",
       "}}\n",
       "\n",
       "// Listen for the clearing of the current output cell\n",
       "var outputEl = gd.closest('.output');\n",
       "if (outputEl) {{\n",
       "    x.observe(outputEl, {childList: true});\n",
       "}}\n",
       "\n",
       "                        })                };                });            </script>        </div>"
      ]
     },
     "metadata": {},
     "output_type": "display_data"
    }
   ],
   "source": [
    "plots.make_pub_per_year(results_df, 'semantic_scholar')"
   ]
  },
  {
   "cell_type": "code",
   "execution_count": 66,
   "id": "9bf27181",
   "metadata": {
    "hidden": true
   },
   "outputs": [
    {
     "data": {
      "application/vnd.plotly.v1+json": {
       "config": {
        "plotlyServerURL": "https://plot.ly"
       },
       "data": [
        {
         "marker": {
          "color": "#eda109"
         },
         "textangle": 0,
         "textposition": "outside",
         "texttemplate": "%{y}",
         "type": "bar",
         "x": [
          2011,
          2013,
          2014,
          2015,
          2016,
          2017,
          2018,
          2019,
          2020,
          2021
         ],
         "y": [
          215,
          18,
          1,
          1,
          9,
          111,
          10,
          10,
          10,
          4
         ]
        }
       ],
       "layout": {
        "font": {
         "color": "white",
         "family": "Courier New, monospace",
         "size": 12
        },
        "paper_bgcolor": "#101126",
        "plot_bgcolor": "#101126",
        "template": {
         "data": {
          "bar": [
           {
            "error_x": {
             "color": "#2a3f5f"
            },
            "error_y": {
             "color": "#2a3f5f"
            },
            "marker": {
             "line": {
              "color": "#E5ECF6",
              "width": 0.5
             }
            },
            "type": "bar"
           }
          ],
          "barpolar": [
           {
            "marker": {
             "line": {
              "color": "#E5ECF6",
              "width": 0.5
             }
            },
            "type": "barpolar"
           }
          ],
          "carpet": [
           {
            "aaxis": {
             "endlinecolor": "#2a3f5f",
             "gridcolor": "white",
             "linecolor": "white",
             "minorgridcolor": "white",
             "startlinecolor": "#2a3f5f"
            },
            "baxis": {
             "endlinecolor": "#2a3f5f",
             "gridcolor": "white",
             "linecolor": "white",
             "minorgridcolor": "white",
             "startlinecolor": "#2a3f5f"
            },
            "type": "carpet"
           }
          ],
          "choropleth": [
           {
            "colorbar": {
             "outlinewidth": 0,
             "ticks": ""
            },
            "type": "choropleth"
           }
          ],
          "contour": [
           {
            "colorbar": {
             "outlinewidth": 0,
             "ticks": ""
            },
            "colorscale": [
             [
              0,
              "#0d0887"
             ],
             [
              0.1111111111111111,
              "#46039f"
             ],
             [
              0.2222222222222222,
              "#7201a8"
             ],
             [
              0.3333333333333333,
              "#9c179e"
             ],
             [
              0.4444444444444444,
              "#bd3786"
             ],
             [
              0.5555555555555556,
              "#d8576b"
             ],
             [
              0.6666666666666666,
              "#ed7953"
             ],
             [
              0.7777777777777778,
              "#fb9f3a"
             ],
             [
              0.8888888888888888,
              "#fdca26"
             ],
             [
              1,
              "#f0f921"
             ]
            ],
            "type": "contour"
           }
          ],
          "contourcarpet": [
           {
            "colorbar": {
             "outlinewidth": 0,
             "ticks": ""
            },
            "type": "contourcarpet"
           }
          ],
          "heatmap": [
           {
            "colorbar": {
             "outlinewidth": 0,
             "ticks": ""
            },
            "colorscale": [
             [
              0,
              "#0d0887"
             ],
             [
              0.1111111111111111,
              "#46039f"
             ],
             [
              0.2222222222222222,
              "#7201a8"
             ],
             [
              0.3333333333333333,
              "#9c179e"
             ],
             [
              0.4444444444444444,
              "#bd3786"
             ],
             [
              0.5555555555555556,
              "#d8576b"
             ],
             [
              0.6666666666666666,
              "#ed7953"
             ],
             [
              0.7777777777777778,
              "#fb9f3a"
             ],
             [
              0.8888888888888888,
              "#fdca26"
             ],
             [
              1,
              "#f0f921"
             ]
            ],
            "type": "heatmap"
           }
          ],
          "heatmapgl": [
           {
            "colorbar": {
             "outlinewidth": 0,
             "ticks": ""
            },
            "colorscale": [
             [
              0,
              "#0d0887"
             ],
             [
              0.1111111111111111,
              "#46039f"
             ],
             [
              0.2222222222222222,
              "#7201a8"
             ],
             [
              0.3333333333333333,
              "#9c179e"
             ],
             [
              0.4444444444444444,
              "#bd3786"
             ],
             [
              0.5555555555555556,
              "#d8576b"
             ],
             [
              0.6666666666666666,
              "#ed7953"
             ],
             [
              0.7777777777777778,
              "#fb9f3a"
             ],
             [
              0.8888888888888888,
              "#fdca26"
             ],
             [
              1,
              "#f0f921"
             ]
            ],
            "type": "heatmapgl"
           }
          ],
          "histogram": [
           {
            "marker": {
             "colorbar": {
              "outlinewidth": 0,
              "ticks": ""
             }
            },
            "type": "histogram"
           }
          ],
          "histogram2d": [
           {
            "colorbar": {
             "outlinewidth": 0,
             "ticks": ""
            },
            "colorscale": [
             [
              0,
              "#0d0887"
             ],
             [
              0.1111111111111111,
              "#46039f"
             ],
             [
              0.2222222222222222,
              "#7201a8"
             ],
             [
              0.3333333333333333,
              "#9c179e"
             ],
             [
              0.4444444444444444,
              "#bd3786"
             ],
             [
              0.5555555555555556,
              "#d8576b"
             ],
             [
              0.6666666666666666,
              "#ed7953"
             ],
             [
              0.7777777777777778,
              "#fb9f3a"
             ],
             [
              0.8888888888888888,
              "#fdca26"
             ],
             [
              1,
              "#f0f921"
             ]
            ],
            "type": "histogram2d"
           }
          ],
          "histogram2dcontour": [
           {
            "colorbar": {
             "outlinewidth": 0,
             "ticks": ""
            },
            "colorscale": [
             [
              0,
              "#0d0887"
             ],
             [
              0.1111111111111111,
              "#46039f"
             ],
             [
              0.2222222222222222,
              "#7201a8"
             ],
             [
              0.3333333333333333,
              "#9c179e"
             ],
             [
              0.4444444444444444,
              "#bd3786"
             ],
             [
              0.5555555555555556,
              "#d8576b"
             ],
             [
              0.6666666666666666,
              "#ed7953"
             ],
             [
              0.7777777777777778,
              "#fb9f3a"
             ],
             [
              0.8888888888888888,
              "#fdca26"
             ],
             [
              1,
              "#f0f921"
             ]
            ],
            "type": "histogram2dcontour"
           }
          ],
          "mesh3d": [
           {
            "colorbar": {
             "outlinewidth": 0,
             "ticks": ""
            },
            "type": "mesh3d"
           }
          ],
          "parcoords": [
           {
            "line": {
             "colorbar": {
              "outlinewidth": 0,
              "ticks": ""
             }
            },
            "type": "parcoords"
           }
          ],
          "pie": [
           {
            "automargin": true,
            "type": "pie"
           }
          ],
          "scatter": [
           {
            "marker": {
             "colorbar": {
              "outlinewidth": 0,
              "ticks": ""
             }
            },
            "type": "scatter"
           }
          ],
          "scatter3d": [
           {
            "line": {
             "colorbar": {
              "outlinewidth": 0,
              "ticks": ""
             }
            },
            "marker": {
             "colorbar": {
              "outlinewidth": 0,
              "ticks": ""
             }
            },
            "type": "scatter3d"
           }
          ],
          "scattercarpet": [
           {
            "marker": {
             "colorbar": {
              "outlinewidth": 0,
              "ticks": ""
             }
            },
            "type": "scattercarpet"
           }
          ],
          "scattergeo": [
           {
            "marker": {
             "colorbar": {
              "outlinewidth": 0,
              "ticks": ""
             }
            },
            "type": "scattergeo"
           }
          ],
          "scattergl": [
           {
            "marker": {
             "colorbar": {
              "outlinewidth": 0,
              "ticks": ""
             }
            },
            "type": "scattergl"
           }
          ],
          "scattermapbox": [
           {
            "marker": {
             "colorbar": {
              "outlinewidth": 0,
              "ticks": ""
             }
            },
            "type": "scattermapbox"
           }
          ],
          "scatterpolar": [
           {
            "marker": {
             "colorbar": {
              "outlinewidth": 0,
              "ticks": ""
             }
            },
            "type": "scatterpolar"
           }
          ],
          "scatterpolargl": [
           {
            "marker": {
             "colorbar": {
              "outlinewidth": 0,
              "ticks": ""
             }
            },
            "type": "scatterpolargl"
           }
          ],
          "scatterternary": [
           {
            "marker": {
             "colorbar": {
              "outlinewidth": 0,
              "ticks": ""
             }
            },
            "type": "scatterternary"
           }
          ],
          "surface": [
           {
            "colorbar": {
             "outlinewidth": 0,
             "ticks": ""
            },
            "colorscale": [
             [
              0,
              "#0d0887"
             ],
             [
              0.1111111111111111,
              "#46039f"
             ],
             [
              0.2222222222222222,
              "#7201a8"
             ],
             [
              0.3333333333333333,
              "#9c179e"
             ],
             [
              0.4444444444444444,
              "#bd3786"
             ],
             [
              0.5555555555555556,
              "#d8576b"
             ],
             [
              0.6666666666666666,
              "#ed7953"
             ],
             [
              0.7777777777777778,
              "#fb9f3a"
             ],
             [
              0.8888888888888888,
              "#fdca26"
             ],
             [
              1,
              "#f0f921"
             ]
            ],
            "type": "surface"
           }
          ],
          "table": [
           {
            "cells": {
             "fill": {
              "color": "#EBF0F8"
             },
             "line": {
              "color": "white"
             }
            },
            "header": {
             "fill": {
              "color": "#C8D4E3"
             },
             "line": {
              "color": "white"
             }
            },
            "type": "table"
           }
          ]
         },
         "layout": {
          "annotationdefaults": {
           "arrowcolor": "#2a3f5f",
           "arrowhead": 0,
           "arrowwidth": 1
          },
          "autotypenumbers": "strict",
          "coloraxis": {
           "colorbar": {
            "outlinewidth": 0,
            "ticks": ""
           }
          },
          "colorscale": {
           "diverging": [
            [
             0,
             "#8e0152"
            ],
            [
             0.1,
             "#c51b7d"
            ],
            [
             0.2,
             "#de77ae"
            ],
            [
             0.3,
             "#f1b6da"
            ],
            [
             0.4,
             "#fde0ef"
            ],
            [
             0.5,
             "#f7f7f7"
            ],
            [
             0.6,
             "#e6f5d0"
            ],
            [
             0.7,
             "#b8e186"
            ],
            [
             0.8,
             "#7fbc41"
            ],
            [
             0.9,
             "#4d9221"
            ],
            [
             1,
             "#276419"
            ]
           ],
           "sequential": [
            [
             0,
             "#0d0887"
            ],
            [
             0.1111111111111111,
             "#46039f"
            ],
            [
             0.2222222222222222,
             "#7201a8"
            ],
            [
             0.3333333333333333,
             "#9c179e"
            ],
            [
             0.4444444444444444,
             "#bd3786"
            ],
            [
             0.5555555555555556,
             "#d8576b"
            ],
            [
             0.6666666666666666,
             "#ed7953"
            ],
            [
             0.7777777777777778,
             "#fb9f3a"
            ],
            [
             0.8888888888888888,
             "#fdca26"
            ],
            [
             1,
             "#f0f921"
            ]
           ],
           "sequentialminus": [
            [
             0,
             "#0d0887"
            ],
            [
             0.1111111111111111,
             "#46039f"
            ],
            [
             0.2222222222222222,
             "#7201a8"
            ],
            [
             0.3333333333333333,
             "#9c179e"
            ],
            [
             0.4444444444444444,
             "#bd3786"
            ],
            [
             0.5555555555555556,
             "#d8576b"
            ],
            [
             0.6666666666666666,
             "#ed7953"
            ],
            [
             0.7777777777777778,
             "#fb9f3a"
            ],
            [
             0.8888888888888888,
             "#fdca26"
            ],
            [
             1,
             "#f0f921"
            ]
           ]
          },
          "colorway": [
           "#636efa",
           "#EF553B",
           "#00cc96",
           "#ab63fa",
           "#FFA15A",
           "#19d3f3",
           "#FF6692",
           "#B6E880",
           "#FF97FF",
           "#FECB52"
          ],
          "font": {
           "color": "#2a3f5f"
          },
          "geo": {
           "bgcolor": "white",
           "lakecolor": "white",
           "landcolor": "#E5ECF6",
           "showlakes": true,
           "showland": true,
           "subunitcolor": "white"
          },
          "hoverlabel": {
           "align": "left"
          },
          "hovermode": "closest",
          "mapbox": {
           "style": "light"
          },
          "paper_bgcolor": "white",
          "plot_bgcolor": "#E5ECF6",
          "polar": {
           "angularaxis": {
            "gridcolor": "white",
            "linecolor": "white",
            "ticks": ""
           },
           "bgcolor": "#E5ECF6",
           "radialaxis": {
            "gridcolor": "white",
            "linecolor": "white",
            "ticks": ""
           }
          },
          "scene": {
           "xaxis": {
            "backgroundcolor": "#E5ECF6",
            "gridcolor": "white",
            "gridwidth": 2,
            "linecolor": "white",
            "showbackground": true,
            "ticks": "",
            "zerolinecolor": "white"
           },
           "yaxis": {
            "backgroundcolor": "#E5ECF6",
            "gridcolor": "white",
            "gridwidth": 2,
            "linecolor": "white",
            "showbackground": true,
            "ticks": "",
            "zerolinecolor": "white"
           },
           "zaxis": {
            "backgroundcolor": "#E5ECF6",
            "gridcolor": "white",
            "gridwidth": 2,
            "linecolor": "white",
            "showbackground": true,
            "ticks": "",
            "zerolinecolor": "white"
           }
          },
          "shapedefaults": {
           "line": {
            "color": "#2a3f5f"
           }
          },
          "ternary": {
           "aaxis": {
            "gridcolor": "white",
            "linecolor": "white",
            "ticks": ""
           },
           "baxis": {
            "gridcolor": "white",
            "linecolor": "white",
            "ticks": ""
           },
           "bgcolor": "#E5ECF6",
           "caxis": {
            "gridcolor": "white",
            "linecolor": "white",
            "ticks": ""
           }
          },
          "title": {
           "x": 0.05
          },
          "xaxis": {
           "automargin": true,
           "gridcolor": "white",
           "linecolor": "white",
           "ticks": "",
           "title": {
            "standoff": 15
           },
           "zerolinecolor": "white",
           "zerolinewidth": 2
          },
          "yaxis": {
           "automargin": true,
           "gridcolor": "white",
           "linecolor": "white",
           "ticks": "",
           "title": {
            "standoff": 15
           },
           "zerolinecolor": "white",
           "zerolinewidth": 2
          }
         }
        },
        "title": {
         "text": "<span style='font-size: 22px;'><b>Citations per Year<b></span>",
         "x": 0.5
        },
        "xaxis": {
         "range": [
          2006,
          2027
         ],
         "title": {
          "text": "Year"
         }
        },
        "yaxis": {
         "range": [
          0,
          236.50000000000003
         ],
         "title": {
          "text": "Number of Publications"
         }
        }
       }
      },
      "text/html": [
       "<div>                            <div id=\"e5fcfe29-29d1-4b84-aa80-8d49e0b2a988\" class=\"plotly-graph-div\" style=\"height:525px; width:100%;\"></div>            <script type=\"text/javascript\">                require([\"plotly\"], function(Plotly) {                    window.PLOTLYENV=window.PLOTLYENV || {};                                    if (document.getElementById(\"e5fcfe29-29d1-4b84-aa80-8d49e0b2a988\")) {                    Plotly.newPlot(                        \"e5fcfe29-29d1-4b84-aa80-8d49e0b2a988\",                        [{\"marker\": {\"color\": \"#eda109\"}, \"textangle\": 0, \"textposition\": \"outside\", \"texttemplate\": \"%{y}\", \"type\": \"bar\", \"x\": [2011, 2013, 2014, 2015, 2016, 2017, 2018, 2019, 2020, 2021], \"y\": [215, 18, 1, 1, 9, 111, 10, 10, 10, 4]}],                        {\"font\": {\"color\": \"white\", \"family\": \"Courier New, monospace\", \"size\": 12}, \"paper_bgcolor\": \"#101126\", \"plot_bgcolor\": \"#101126\", \"template\": {\"data\": {\"bar\": [{\"error_x\": {\"color\": \"#2a3f5f\"}, \"error_y\": {\"color\": \"#2a3f5f\"}, \"marker\": {\"line\": {\"color\": \"#E5ECF6\", \"width\": 0.5}}, \"type\": \"bar\"}], \"barpolar\": [{\"marker\": {\"line\": {\"color\": \"#E5ECF6\", \"width\": 0.5}}, \"type\": \"barpolar\"}], \"carpet\": [{\"aaxis\": {\"endlinecolor\": \"#2a3f5f\", \"gridcolor\": \"white\", \"linecolor\": \"white\", \"minorgridcolor\": \"white\", \"startlinecolor\": \"#2a3f5f\"}, \"baxis\": {\"endlinecolor\": \"#2a3f5f\", \"gridcolor\": \"white\", \"linecolor\": \"white\", \"minorgridcolor\": \"white\", \"startlinecolor\": \"#2a3f5f\"}, \"type\": \"carpet\"}], \"choropleth\": [{\"colorbar\": {\"outlinewidth\": 0, \"ticks\": \"\"}, \"type\": \"choropleth\"}], \"contour\": [{\"colorbar\": {\"outlinewidth\": 0, \"ticks\": \"\"}, \"colorscale\": [[0.0, \"#0d0887\"], [0.1111111111111111, \"#46039f\"], [0.2222222222222222, \"#7201a8\"], [0.3333333333333333, \"#9c179e\"], [0.4444444444444444, \"#bd3786\"], [0.5555555555555556, \"#d8576b\"], [0.6666666666666666, \"#ed7953\"], [0.7777777777777778, \"#fb9f3a\"], [0.8888888888888888, \"#fdca26\"], [1.0, \"#f0f921\"]], \"type\": \"contour\"}], \"contourcarpet\": [{\"colorbar\": {\"outlinewidth\": 0, \"ticks\": \"\"}, \"type\": \"contourcarpet\"}], \"heatmap\": [{\"colorbar\": {\"outlinewidth\": 0, \"ticks\": \"\"}, \"colorscale\": [[0.0, \"#0d0887\"], [0.1111111111111111, \"#46039f\"], [0.2222222222222222, \"#7201a8\"], [0.3333333333333333, \"#9c179e\"], [0.4444444444444444, \"#bd3786\"], [0.5555555555555556, \"#d8576b\"], [0.6666666666666666, \"#ed7953\"], [0.7777777777777778, \"#fb9f3a\"], [0.8888888888888888, \"#fdca26\"], [1.0, \"#f0f921\"]], \"type\": \"heatmap\"}], \"heatmapgl\": [{\"colorbar\": {\"outlinewidth\": 0, \"ticks\": \"\"}, \"colorscale\": [[0.0, \"#0d0887\"], [0.1111111111111111, \"#46039f\"], [0.2222222222222222, \"#7201a8\"], [0.3333333333333333, \"#9c179e\"], [0.4444444444444444, \"#bd3786\"], [0.5555555555555556, \"#d8576b\"], [0.6666666666666666, \"#ed7953\"], [0.7777777777777778, \"#fb9f3a\"], [0.8888888888888888, \"#fdca26\"], [1.0, \"#f0f921\"]], \"type\": \"heatmapgl\"}], \"histogram\": [{\"marker\": {\"colorbar\": {\"outlinewidth\": 0, \"ticks\": \"\"}}, \"type\": \"histogram\"}], \"histogram2d\": [{\"colorbar\": {\"outlinewidth\": 0, \"ticks\": \"\"}, \"colorscale\": [[0.0, \"#0d0887\"], [0.1111111111111111, \"#46039f\"], [0.2222222222222222, \"#7201a8\"], [0.3333333333333333, \"#9c179e\"], [0.4444444444444444, \"#bd3786\"], [0.5555555555555556, \"#d8576b\"], [0.6666666666666666, \"#ed7953\"], [0.7777777777777778, \"#fb9f3a\"], [0.8888888888888888, \"#fdca26\"], [1.0, \"#f0f921\"]], \"type\": \"histogram2d\"}], \"histogram2dcontour\": [{\"colorbar\": {\"outlinewidth\": 0, \"ticks\": \"\"}, \"colorscale\": [[0.0, \"#0d0887\"], [0.1111111111111111, \"#46039f\"], [0.2222222222222222, \"#7201a8\"], [0.3333333333333333, \"#9c179e\"], [0.4444444444444444, \"#bd3786\"], [0.5555555555555556, \"#d8576b\"], [0.6666666666666666, \"#ed7953\"], [0.7777777777777778, \"#fb9f3a\"], [0.8888888888888888, \"#fdca26\"], [1.0, \"#f0f921\"]], \"type\": \"histogram2dcontour\"}], \"mesh3d\": [{\"colorbar\": {\"outlinewidth\": 0, \"ticks\": \"\"}, \"type\": \"mesh3d\"}], \"parcoords\": [{\"line\": {\"colorbar\": {\"outlinewidth\": 0, \"ticks\": \"\"}}, \"type\": \"parcoords\"}], \"pie\": [{\"automargin\": true, \"type\": \"pie\"}], \"scatter\": [{\"marker\": {\"colorbar\": {\"outlinewidth\": 0, \"ticks\": \"\"}}, \"type\": \"scatter\"}], \"scatter3d\": [{\"line\": {\"colorbar\": {\"outlinewidth\": 0, \"ticks\": \"\"}}, \"marker\": {\"colorbar\": {\"outlinewidth\": 0, \"ticks\": \"\"}}, \"type\": \"scatter3d\"}], \"scattercarpet\": [{\"marker\": {\"colorbar\": {\"outlinewidth\": 0, \"ticks\": \"\"}}, \"type\": \"scattercarpet\"}], \"scattergeo\": [{\"marker\": {\"colorbar\": {\"outlinewidth\": 0, \"ticks\": \"\"}}, \"type\": \"scattergeo\"}], \"scattergl\": [{\"marker\": {\"colorbar\": {\"outlinewidth\": 0, \"ticks\": \"\"}}, \"type\": \"scattergl\"}], \"scattermapbox\": [{\"marker\": {\"colorbar\": {\"outlinewidth\": 0, \"ticks\": \"\"}}, \"type\": \"scattermapbox\"}], \"scatterpolar\": [{\"marker\": {\"colorbar\": {\"outlinewidth\": 0, \"ticks\": \"\"}}, \"type\": \"scatterpolar\"}], \"scatterpolargl\": [{\"marker\": {\"colorbar\": {\"outlinewidth\": 0, \"ticks\": \"\"}}, \"type\": \"scatterpolargl\"}], \"scatterternary\": [{\"marker\": {\"colorbar\": {\"outlinewidth\": 0, \"ticks\": \"\"}}, \"type\": \"scatterternary\"}], \"surface\": [{\"colorbar\": {\"outlinewidth\": 0, \"ticks\": \"\"}, \"colorscale\": [[0.0, \"#0d0887\"], [0.1111111111111111, \"#46039f\"], [0.2222222222222222, \"#7201a8\"], [0.3333333333333333, \"#9c179e\"], [0.4444444444444444, \"#bd3786\"], [0.5555555555555556, \"#d8576b\"], [0.6666666666666666, \"#ed7953\"], [0.7777777777777778, \"#fb9f3a\"], [0.8888888888888888, \"#fdca26\"], [1.0, \"#f0f921\"]], \"type\": \"surface\"}], \"table\": [{\"cells\": {\"fill\": {\"color\": \"#EBF0F8\"}, \"line\": {\"color\": \"white\"}}, \"header\": {\"fill\": {\"color\": \"#C8D4E3\"}, \"line\": {\"color\": \"white\"}}, \"type\": \"table\"}]}, \"layout\": {\"annotationdefaults\": {\"arrowcolor\": \"#2a3f5f\", \"arrowhead\": 0, \"arrowwidth\": 1}, \"autotypenumbers\": \"strict\", \"coloraxis\": {\"colorbar\": {\"outlinewidth\": 0, \"ticks\": \"\"}}, \"colorscale\": {\"diverging\": [[0, \"#8e0152\"], [0.1, \"#c51b7d\"], [0.2, \"#de77ae\"], [0.3, \"#f1b6da\"], [0.4, \"#fde0ef\"], [0.5, \"#f7f7f7\"], [0.6, \"#e6f5d0\"], [0.7, \"#b8e186\"], [0.8, \"#7fbc41\"], [0.9, \"#4d9221\"], [1, \"#276419\"]], \"sequential\": [[0.0, \"#0d0887\"], [0.1111111111111111, \"#46039f\"], [0.2222222222222222, \"#7201a8\"], [0.3333333333333333, \"#9c179e\"], [0.4444444444444444, \"#bd3786\"], [0.5555555555555556, \"#d8576b\"], [0.6666666666666666, \"#ed7953\"], [0.7777777777777778, \"#fb9f3a\"], [0.8888888888888888, \"#fdca26\"], [1.0, \"#f0f921\"]], \"sequentialminus\": [[0.0, \"#0d0887\"], [0.1111111111111111, \"#46039f\"], [0.2222222222222222, \"#7201a8\"], [0.3333333333333333, \"#9c179e\"], [0.4444444444444444, \"#bd3786\"], [0.5555555555555556, \"#d8576b\"], [0.6666666666666666, \"#ed7953\"], [0.7777777777777778, \"#fb9f3a\"], [0.8888888888888888, \"#fdca26\"], [1.0, \"#f0f921\"]]}, \"colorway\": [\"#636efa\", \"#EF553B\", \"#00cc96\", \"#ab63fa\", \"#FFA15A\", \"#19d3f3\", \"#FF6692\", \"#B6E880\", \"#FF97FF\", \"#FECB52\"], \"font\": {\"color\": \"#2a3f5f\"}, \"geo\": {\"bgcolor\": \"white\", \"lakecolor\": \"white\", \"landcolor\": \"#E5ECF6\", \"showlakes\": true, \"showland\": true, \"subunitcolor\": \"white\"}, \"hoverlabel\": {\"align\": \"left\"}, \"hovermode\": \"closest\", \"mapbox\": {\"style\": \"light\"}, \"paper_bgcolor\": \"white\", \"plot_bgcolor\": \"#E5ECF6\", \"polar\": {\"angularaxis\": {\"gridcolor\": \"white\", \"linecolor\": \"white\", \"ticks\": \"\"}, \"bgcolor\": \"#E5ECF6\", \"radialaxis\": {\"gridcolor\": \"white\", \"linecolor\": \"white\", \"ticks\": \"\"}}, \"scene\": {\"xaxis\": {\"backgroundcolor\": \"#E5ECF6\", \"gridcolor\": \"white\", \"gridwidth\": 2, \"linecolor\": \"white\", \"showbackground\": true, \"ticks\": \"\", \"zerolinecolor\": \"white\"}, \"yaxis\": {\"backgroundcolor\": \"#E5ECF6\", \"gridcolor\": \"white\", \"gridwidth\": 2, \"linecolor\": \"white\", \"showbackground\": true, \"ticks\": \"\", \"zerolinecolor\": \"white\"}, \"zaxis\": {\"backgroundcolor\": \"#E5ECF6\", \"gridcolor\": \"white\", \"gridwidth\": 2, \"linecolor\": \"white\", \"showbackground\": true, \"ticks\": \"\", \"zerolinecolor\": \"white\"}}, \"shapedefaults\": {\"line\": {\"color\": \"#2a3f5f\"}}, \"ternary\": {\"aaxis\": {\"gridcolor\": \"white\", \"linecolor\": \"white\", \"ticks\": \"\"}, \"baxis\": {\"gridcolor\": \"white\", \"linecolor\": \"white\", \"ticks\": \"\"}, \"bgcolor\": \"#E5ECF6\", \"caxis\": {\"gridcolor\": \"white\", \"linecolor\": \"white\", \"ticks\": \"\"}}, \"title\": {\"x\": 0.05}, \"xaxis\": {\"automargin\": true, \"gridcolor\": \"white\", \"linecolor\": \"white\", \"ticks\": \"\", \"title\": {\"standoff\": 15}, \"zerolinecolor\": \"white\", \"zerolinewidth\": 2}, \"yaxis\": {\"automargin\": true, \"gridcolor\": \"white\", \"linecolor\": \"white\", \"ticks\": \"\", \"title\": {\"standoff\": 15}, \"zerolinecolor\": \"white\", \"zerolinewidth\": 2}}}, \"title\": {\"text\": \"<span style='font-size: 22px;'><b>Citations per Year<b></span>\", \"x\": 0.5}, \"xaxis\": {\"range\": [2006, 2027], \"title\": {\"text\": \"Year\"}}, \"yaxis\": {\"range\": [0, 236.50000000000003], \"title\": {\"text\": \"Number of Publications\"}}},                        {\"responsive\": true}                    ).then(function(){\n",
       "                            \n",
       "var gd = document.getElementById('e5fcfe29-29d1-4b84-aa80-8d49e0b2a988');\n",
       "var x = new MutationObserver(function (mutations, observer) {{\n",
       "        var display = window.getComputedStyle(gd).display;\n",
       "        if (!display || display === 'none') {{\n",
       "            console.log([gd, 'removed!']);\n",
       "            Plotly.purge(gd);\n",
       "            observer.disconnect();\n",
       "        }}\n",
       "}});\n",
       "\n",
       "// Listen for the removal of the full notebook cells\n",
       "var notebookContainer = gd.closest('#notebook-container');\n",
       "if (notebookContainer) {{\n",
       "    x.observe(notebookContainer, {childList: true});\n",
       "}}\n",
       "\n",
       "// Listen for the clearing of the current output cell\n",
       "var outputEl = gd.closest('.output');\n",
       "if (outputEl) {{\n",
       "    x.observe(outputEl, {childList: true});\n",
       "}}\n",
       "\n",
       "                        })                };                });            </script>        </div>"
      ]
     },
     "metadata": {},
     "output_type": "display_data"
    }
   ],
   "source": [
    "plots.make_citations_per_year(results_df, 'semantic_scholar')"
   ]
  },
  {
   "cell_type": "code",
   "execution_count": 67,
   "id": "5015da57",
   "metadata": {
    "hidden": true,
    "scrolled": false
   },
   "outputs": [
    {
     "data": {
      "application/vnd.plotly.v1+json": {
       "config": {
        "plotlyServerURL": "https://plot.ly"
       },
       "data": [
        {
         "marker": {
          "color": "#eda109"
         },
         "textangle": 0,
         "textposition": "outside",
         "texttemplate": "%{y}",
         "type": "bar",
         "x": [
          "preservation",
          "potential",
          "implications",
          "detection",
          "analog",
          "exploration",
          "earth",
          "diagenesis",
          "playa",
          "spectroscopy",
          "environments",
          "using",
          "high",
          "evaporites",
          "trace"
         ],
         "y": [
          13,
          8,
          8,
          7,
          6,
          5,
          4,
          4,
          3,
          3,
          3,
          3,
          3,
          2,
          2
         ]
        }
       ],
       "layout": {
        "font": {
         "color": "white",
         "family": "Courier New, monospace",
         "size": 12
        },
        "paper_bgcolor": "#101126",
        "plot_bgcolor": "#101126",
        "template": {
         "data": {
          "bar": [
           {
            "error_x": {
             "color": "#2a3f5f"
            },
            "error_y": {
             "color": "#2a3f5f"
            },
            "marker": {
             "line": {
              "color": "#E5ECF6",
              "width": 0.5
             }
            },
            "type": "bar"
           }
          ],
          "barpolar": [
           {
            "marker": {
             "line": {
              "color": "#E5ECF6",
              "width": 0.5
             }
            },
            "type": "barpolar"
           }
          ],
          "carpet": [
           {
            "aaxis": {
             "endlinecolor": "#2a3f5f",
             "gridcolor": "white",
             "linecolor": "white",
             "minorgridcolor": "white",
             "startlinecolor": "#2a3f5f"
            },
            "baxis": {
             "endlinecolor": "#2a3f5f",
             "gridcolor": "white",
             "linecolor": "white",
             "minorgridcolor": "white",
             "startlinecolor": "#2a3f5f"
            },
            "type": "carpet"
           }
          ],
          "choropleth": [
           {
            "colorbar": {
             "outlinewidth": 0,
             "ticks": ""
            },
            "type": "choropleth"
           }
          ],
          "contour": [
           {
            "colorbar": {
             "outlinewidth": 0,
             "ticks": ""
            },
            "colorscale": [
             [
              0,
              "#0d0887"
             ],
             [
              0.1111111111111111,
              "#46039f"
             ],
             [
              0.2222222222222222,
              "#7201a8"
             ],
             [
              0.3333333333333333,
              "#9c179e"
             ],
             [
              0.4444444444444444,
              "#bd3786"
             ],
             [
              0.5555555555555556,
              "#d8576b"
             ],
             [
              0.6666666666666666,
              "#ed7953"
             ],
             [
              0.7777777777777778,
              "#fb9f3a"
             ],
             [
              0.8888888888888888,
              "#fdca26"
             ],
             [
              1,
              "#f0f921"
             ]
            ],
            "type": "contour"
           }
          ],
          "contourcarpet": [
           {
            "colorbar": {
             "outlinewidth": 0,
             "ticks": ""
            },
            "type": "contourcarpet"
           }
          ],
          "heatmap": [
           {
            "colorbar": {
             "outlinewidth": 0,
             "ticks": ""
            },
            "colorscale": [
             [
              0,
              "#0d0887"
             ],
             [
              0.1111111111111111,
              "#46039f"
             ],
             [
              0.2222222222222222,
              "#7201a8"
             ],
             [
              0.3333333333333333,
              "#9c179e"
             ],
             [
              0.4444444444444444,
              "#bd3786"
             ],
             [
              0.5555555555555556,
              "#d8576b"
             ],
             [
              0.6666666666666666,
              "#ed7953"
             ],
             [
              0.7777777777777778,
              "#fb9f3a"
             ],
             [
              0.8888888888888888,
              "#fdca26"
             ],
             [
              1,
              "#f0f921"
             ]
            ],
            "type": "heatmap"
           }
          ],
          "heatmapgl": [
           {
            "colorbar": {
             "outlinewidth": 0,
             "ticks": ""
            },
            "colorscale": [
             [
              0,
              "#0d0887"
             ],
             [
              0.1111111111111111,
              "#46039f"
             ],
             [
              0.2222222222222222,
              "#7201a8"
             ],
             [
              0.3333333333333333,
              "#9c179e"
             ],
             [
              0.4444444444444444,
              "#bd3786"
             ],
             [
              0.5555555555555556,
              "#d8576b"
             ],
             [
              0.6666666666666666,
              "#ed7953"
             ],
             [
              0.7777777777777778,
              "#fb9f3a"
             ],
             [
              0.8888888888888888,
              "#fdca26"
             ],
             [
              1,
              "#f0f921"
             ]
            ],
            "type": "heatmapgl"
           }
          ],
          "histogram": [
           {
            "marker": {
             "colorbar": {
              "outlinewidth": 0,
              "ticks": ""
             }
            },
            "type": "histogram"
           }
          ],
          "histogram2d": [
           {
            "colorbar": {
             "outlinewidth": 0,
             "ticks": ""
            },
            "colorscale": [
             [
              0,
              "#0d0887"
             ],
             [
              0.1111111111111111,
              "#46039f"
             ],
             [
              0.2222222222222222,
              "#7201a8"
             ],
             [
              0.3333333333333333,
              "#9c179e"
             ],
             [
              0.4444444444444444,
              "#bd3786"
             ],
             [
              0.5555555555555556,
              "#d8576b"
             ],
             [
              0.6666666666666666,
              "#ed7953"
             ],
             [
              0.7777777777777778,
              "#fb9f3a"
             ],
             [
              0.8888888888888888,
              "#fdca26"
             ],
             [
              1,
              "#f0f921"
             ]
            ],
            "type": "histogram2d"
           }
          ],
          "histogram2dcontour": [
           {
            "colorbar": {
             "outlinewidth": 0,
             "ticks": ""
            },
            "colorscale": [
             [
              0,
              "#0d0887"
             ],
             [
              0.1111111111111111,
              "#46039f"
             ],
             [
              0.2222222222222222,
              "#7201a8"
             ],
             [
              0.3333333333333333,
              "#9c179e"
             ],
             [
              0.4444444444444444,
              "#bd3786"
             ],
             [
              0.5555555555555556,
              "#d8576b"
             ],
             [
              0.6666666666666666,
              "#ed7953"
             ],
             [
              0.7777777777777778,
              "#fb9f3a"
             ],
             [
              0.8888888888888888,
              "#fdca26"
             ],
             [
              1,
              "#f0f921"
             ]
            ],
            "type": "histogram2dcontour"
           }
          ],
          "mesh3d": [
           {
            "colorbar": {
             "outlinewidth": 0,
             "ticks": ""
            },
            "type": "mesh3d"
           }
          ],
          "parcoords": [
           {
            "line": {
             "colorbar": {
              "outlinewidth": 0,
              "ticks": ""
             }
            },
            "type": "parcoords"
           }
          ],
          "pie": [
           {
            "automargin": true,
            "type": "pie"
           }
          ],
          "scatter": [
           {
            "marker": {
             "colorbar": {
              "outlinewidth": 0,
              "ticks": ""
             }
            },
            "type": "scatter"
           }
          ],
          "scatter3d": [
           {
            "line": {
             "colorbar": {
              "outlinewidth": 0,
              "ticks": ""
             }
            },
            "marker": {
             "colorbar": {
              "outlinewidth": 0,
              "ticks": ""
             }
            },
            "type": "scatter3d"
           }
          ],
          "scattercarpet": [
           {
            "marker": {
             "colorbar": {
              "outlinewidth": 0,
              "ticks": ""
             }
            },
            "type": "scattercarpet"
           }
          ],
          "scattergeo": [
           {
            "marker": {
             "colorbar": {
              "outlinewidth": 0,
              "ticks": ""
             }
            },
            "type": "scattergeo"
           }
          ],
          "scattergl": [
           {
            "marker": {
             "colorbar": {
              "outlinewidth": 0,
              "ticks": ""
             }
            },
            "type": "scattergl"
           }
          ],
          "scattermapbox": [
           {
            "marker": {
             "colorbar": {
              "outlinewidth": 0,
              "ticks": ""
             }
            },
            "type": "scattermapbox"
           }
          ],
          "scatterpolar": [
           {
            "marker": {
             "colorbar": {
              "outlinewidth": 0,
              "ticks": ""
             }
            },
            "type": "scatterpolar"
           }
          ],
          "scatterpolargl": [
           {
            "marker": {
             "colorbar": {
              "outlinewidth": 0,
              "ticks": ""
             }
            },
            "type": "scatterpolargl"
           }
          ],
          "scatterternary": [
           {
            "marker": {
             "colorbar": {
              "outlinewidth": 0,
              "ticks": ""
             }
            },
            "type": "scatterternary"
           }
          ],
          "surface": [
           {
            "colorbar": {
             "outlinewidth": 0,
             "ticks": ""
            },
            "colorscale": [
             [
              0,
              "#0d0887"
             ],
             [
              0.1111111111111111,
              "#46039f"
             ],
             [
              0.2222222222222222,
              "#7201a8"
             ],
             [
              0.3333333333333333,
              "#9c179e"
             ],
             [
              0.4444444444444444,
              "#bd3786"
             ],
             [
              0.5555555555555556,
              "#d8576b"
             ],
             [
              0.6666666666666666,
              "#ed7953"
             ],
             [
              0.7777777777777778,
              "#fb9f3a"
             ],
             [
              0.8888888888888888,
              "#fdca26"
             ],
             [
              1,
              "#f0f921"
             ]
            ],
            "type": "surface"
           }
          ],
          "table": [
           {
            "cells": {
             "fill": {
              "color": "#EBF0F8"
             },
             "line": {
              "color": "white"
             }
            },
            "header": {
             "fill": {
              "color": "#C8D4E3"
             },
             "line": {
              "color": "white"
             }
            },
            "type": "table"
           }
          ]
         },
         "layout": {
          "annotationdefaults": {
           "arrowcolor": "#2a3f5f",
           "arrowhead": 0,
           "arrowwidth": 1
          },
          "autotypenumbers": "strict",
          "coloraxis": {
           "colorbar": {
            "outlinewidth": 0,
            "ticks": ""
           }
          },
          "colorscale": {
           "diverging": [
            [
             0,
             "#8e0152"
            ],
            [
             0.1,
             "#c51b7d"
            ],
            [
             0.2,
             "#de77ae"
            ],
            [
             0.3,
             "#f1b6da"
            ],
            [
             0.4,
             "#fde0ef"
            ],
            [
             0.5,
             "#f7f7f7"
            ],
            [
             0.6,
             "#e6f5d0"
            ],
            [
             0.7,
             "#b8e186"
            ],
            [
             0.8,
             "#7fbc41"
            ],
            [
             0.9,
             "#4d9221"
            ],
            [
             1,
             "#276419"
            ]
           ],
           "sequential": [
            [
             0,
             "#0d0887"
            ],
            [
             0.1111111111111111,
             "#46039f"
            ],
            [
             0.2222222222222222,
             "#7201a8"
            ],
            [
             0.3333333333333333,
             "#9c179e"
            ],
            [
             0.4444444444444444,
             "#bd3786"
            ],
            [
             0.5555555555555556,
             "#d8576b"
            ],
            [
             0.6666666666666666,
             "#ed7953"
            ],
            [
             0.7777777777777778,
             "#fb9f3a"
            ],
            [
             0.8888888888888888,
             "#fdca26"
            ],
            [
             1,
             "#f0f921"
            ]
           ],
           "sequentialminus": [
            [
             0,
             "#0d0887"
            ],
            [
             0.1111111111111111,
             "#46039f"
            ],
            [
             0.2222222222222222,
             "#7201a8"
            ],
            [
             0.3333333333333333,
             "#9c179e"
            ],
            [
             0.4444444444444444,
             "#bd3786"
            ],
            [
             0.5555555555555556,
             "#d8576b"
            ],
            [
             0.6666666666666666,
             "#ed7953"
            ],
            [
             0.7777777777777778,
             "#fb9f3a"
            ],
            [
             0.8888888888888888,
             "#fdca26"
            ],
            [
             1,
             "#f0f921"
            ]
           ]
          },
          "colorway": [
           "#636efa",
           "#EF553B",
           "#00cc96",
           "#ab63fa",
           "#FFA15A",
           "#19d3f3",
           "#FF6692",
           "#B6E880",
           "#FF97FF",
           "#FECB52"
          ],
          "font": {
           "color": "#2a3f5f"
          },
          "geo": {
           "bgcolor": "white",
           "lakecolor": "white",
           "landcolor": "#E5ECF6",
           "showlakes": true,
           "showland": true,
           "subunitcolor": "white"
          },
          "hoverlabel": {
           "align": "left"
          },
          "hovermode": "closest",
          "mapbox": {
           "style": "light"
          },
          "paper_bgcolor": "white",
          "plot_bgcolor": "#E5ECF6",
          "polar": {
           "angularaxis": {
            "gridcolor": "white",
            "linecolor": "white",
            "ticks": ""
           },
           "bgcolor": "#E5ECF6",
           "radialaxis": {
            "gridcolor": "white",
            "linecolor": "white",
            "ticks": ""
           }
          },
          "scene": {
           "xaxis": {
            "backgroundcolor": "#E5ECF6",
            "gridcolor": "white",
            "gridwidth": 2,
            "linecolor": "white",
            "showbackground": true,
            "ticks": "",
            "zerolinecolor": "white"
           },
           "yaxis": {
            "backgroundcolor": "#E5ECF6",
            "gridcolor": "white",
            "gridwidth": 2,
            "linecolor": "white",
            "showbackground": true,
            "ticks": "",
            "zerolinecolor": "white"
           },
           "zaxis": {
            "backgroundcolor": "#E5ECF6",
            "gridcolor": "white",
            "gridwidth": 2,
            "linecolor": "white",
            "showbackground": true,
            "ticks": "",
            "zerolinecolor": "white"
           }
          },
          "shapedefaults": {
           "line": {
            "color": "#2a3f5f"
           }
          },
          "ternary": {
           "aaxis": {
            "gridcolor": "white",
            "linecolor": "white",
            "ticks": ""
           },
           "baxis": {
            "gridcolor": "white",
            "linecolor": "white",
            "ticks": ""
           },
           "bgcolor": "#E5ECF6",
           "caxis": {
            "gridcolor": "white",
            "linecolor": "white",
            "ticks": ""
           }
          },
          "title": {
           "x": 0.05
          },
          "xaxis": {
           "automargin": true,
           "gridcolor": "white",
           "linecolor": "white",
           "ticks": "",
           "title": {
            "standoff": 15
           },
           "zerolinecolor": "white",
           "zerolinewidth": 2
          },
          "yaxis": {
           "automargin": true,
           "gridcolor": "white",
           "linecolor": "white",
           "ticks": "",
           "title": {
            "standoff": 15
           },
           "zerolinecolor": "white",
           "zerolinewidth": 2
          }
         }
        },
        "title": {
         "text": "<span style='font-size: 22px;'><b>Top key words<b></span>",
         "x": 0.5
        },
        "yaxis": {
         "range": [
          0,
          14.3
         ],
         "title": {
          "text": "Number of occurences"
         }
        }
       }
      },
      "text/html": [
       "<div>                            <div id=\"d29f0e61-8cec-4aa1-9f86-3425e5b604c6\" class=\"plotly-graph-div\" style=\"height:525px; width:100%;\"></div>            <script type=\"text/javascript\">                require([\"plotly\"], function(Plotly) {                    window.PLOTLYENV=window.PLOTLYENV || {};                                    if (document.getElementById(\"d29f0e61-8cec-4aa1-9f86-3425e5b604c6\")) {                    Plotly.newPlot(                        \"d29f0e61-8cec-4aa1-9f86-3425e5b604c6\",                        [{\"marker\": {\"color\": \"#eda109\"}, \"textangle\": 0, \"textposition\": \"outside\", \"texttemplate\": \"%{y}\", \"type\": \"bar\", \"x\": [\"preservation\", \"potential\", \"implications\", \"detection\", \"analog\", \"exploration\", \"earth\", \"diagenesis\", \"playa\", \"spectroscopy\", \"environments\", \"using\", \"high\", \"evaporites\", \"trace\"], \"y\": [13, 8, 8, 7, 6, 5, 4, 4, 3, 3, 3, 3, 3, 2, 2]}],                        {\"font\": {\"color\": \"white\", \"family\": \"Courier New, monospace\", \"size\": 12}, \"paper_bgcolor\": \"#101126\", \"plot_bgcolor\": \"#101126\", \"template\": {\"data\": {\"bar\": [{\"error_x\": {\"color\": \"#2a3f5f\"}, \"error_y\": {\"color\": \"#2a3f5f\"}, \"marker\": {\"line\": {\"color\": \"#E5ECF6\", \"width\": 0.5}}, \"type\": \"bar\"}], \"barpolar\": [{\"marker\": {\"line\": {\"color\": \"#E5ECF6\", \"width\": 0.5}}, \"type\": \"barpolar\"}], \"carpet\": [{\"aaxis\": {\"endlinecolor\": \"#2a3f5f\", \"gridcolor\": \"white\", \"linecolor\": \"white\", \"minorgridcolor\": \"white\", \"startlinecolor\": \"#2a3f5f\"}, \"baxis\": {\"endlinecolor\": \"#2a3f5f\", \"gridcolor\": \"white\", \"linecolor\": \"white\", \"minorgridcolor\": \"white\", \"startlinecolor\": \"#2a3f5f\"}, \"type\": \"carpet\"}], \"choropleth\": [{\"colorbar\": {\"outlinewidth\": 0, \"ticks\": \"\"}, \"type\": \"choropleth\"}], \"contour\": [{\"colorbar\": {\"outlinewidth\": 0, \"ticks\": \"\"}, \"colorscale\": [[0.0, \"#0d0887\"], [0.1111111111111111, \"#46039f\"], [0.2222222222222222, \"#7201a8\"], [0.3333333333333333, \"#9c179e\"], [0.4444444444444444, \"#bd3786\"], [0.5555555555555556, \"#d8576b\"], [0.6666666666666666, \"#ed7953\"], [0.7777777777777778, \"#fb9f3a\"], [0.8888888888888888, \"#fdca26\"], [1.0, \"#f0f921\"]], \"type\": \"contour\"}], \"contourcarpet\": [{\"colorbar\": {\"outlinewidth\": 0, \"ticks\": \"\"}, \"type\": \"contourcarpet\"}], \"heatmap\": [{\"colorbar\": {\"outlinewidth\": 0, \"ticks\": \"\"}, \"colorscale\": [[0.0, \"#0d0887\"], [0.1111111111111111, \"#46039f\"], [0.2222222222222222, \"#7201a8\"], [0.3333333333333333, \"#9c179e\"], [0.4444444444444444, \"#bd3786\"], [0.5555555555555556, \"#d8576b\"], [0.6666666666666666, \"#ed7953\"], [0.7777777777777778, \"#fb9f3a\"], [0.8888888888888888, \"#fdca26\"], [1.0, \"#f0f921\"]], \"type\": \"heatmap\"}], \"heatmapgl\": [{\"colorbar\": {\"outlinewidth\": 0, \"ticks\": \"\"}, \"colorscale\": [[0.0, \"#0d0887\"], [0.1111111111111111, \"#46039f\"], [0.2222222222222222, \"#7201a8\"], [0.3333333333333333, \"#9c179e\"], [0.4444444444444444, \"#bd3786\"], [0.5555555555555556, \"#d8576b\"], [0.6666666666666666, \"#ed7953\"], [0.7777777777777778, \"#fb9f3a\"], [0.8888888888888888, \"#fdca26\"], [1.0, \"#f0f921\"]], \"type\": \"heatmapgl\"}], \"histogram\": [{\"marker\": {\"colorbar\": {\"outlinewidth\": 0, \"ticks\": \"\"}}, \"type\": \"histogram\"}], \"histogram2d\": [{\"colorbar\": {\"outlinewidth\": 0, \"ticks\": \"\"}, \"colorscale\": [[0.0, \"#0d0887\"], [0.1111111111111111, \"#46039f\"], [0.2222222222222222, \"#7201a8\"], [0.3333333333333333, \"#9c179e\"], [0.4444444444444444, \"#bd3786\"], [0.5555555555555556, \"#d8576b\"], [0.6666666666666666, \"#ed7953\"], [0.7777777777777778, \"#fb9f3a\"], [0.8888888888888888, \"#fdca26\"], [1.0, \"#f0f921\"]], \"type\": \"histogram2d\"}], \"histogram2dcontour\": [{\"colorbar\": {\"outlinewidth\": 0, \"ticks\": \"\"}, \"colorscale\": [[0.0, \"#0d0887\"], [0.1111111111111111, \"#46039f\"], [0.2222222222222222, \"#7201a8\"], [0.3333333333333333, \"#9c179e\"], [0.4444444444444444, \"#bd3786\"], [0.5555555555555556, \"#d8576b\"], [0.6666666666666666, \"#ed7953\"], [0.7777777777777778, \"#fb9f3a\"], [0.8888888888888888, \"#fdca26\"], [1.0, \"#f0f921\"]], \"type\": \"histogram2dcontour\"}], \"mesh3d\": [{\"colorbar\": {\"outlinewidth\": 0, \"ticks\": \"\"}, \"type\": \"mesh3d\"}], \"parcoords\": [{\"line\": {\"colorbar\": {\"outlinewidth\": 0, \"ticks\": \"\"}}, \"type\": \"parcoords\"}], \"pie\": [{\"automargin\": true, \"type\": \"pie\"}], \"scatter\": [{\"marker\": {\"colorbar\": {\"outlinewidth\": 0, \"ticks\": \"\"}}, \"type\": \"scatter\"}], \"scatter3d\": [{\"line\": {\"colorbar\": {\"outlinewidth\": 0, \"ticks\": \"\"}}, \"marker\": {\"colorbar\": {\"outlinewidth\": 0, \"ticks\": \"\"}}, \"type\": \"scatter3d\"}], \"scattercarpet\": [{\"marker\": {\"colorbar\": {\"outlinewidth\": 0, \"ticks\": \"\"}}, \"type\": \"scattercarpet\"}], \"scattergeo\": [{\"marker\": {\"colorbar\": {\"outlinewidth\": 0, \"ticks\": \"\"}}, \"type\": \"scattergeo\"}], \"scattergl\": [{\"marker\": {\"colorbar\": {\"outlinewidth\": 0, \"ticks\": \"\"}}, \"type\": \"scattergl\"}], \"scattermapbox\": [{\"marker\": {\"colorbar\": {\"outlinewidth\": 0, \"ticks\": \"\"}}, \"type\": \"scattermapbox\"}], \"scatterpolar\": [{\"marker\": {\"colorbar\": {\"outlinewidth\": 0, \"ticks\": \"\"}}, \"type\": \"scatterpolar\"}], \"scatterpolargl\": [{\"marker\": {\"colorbar\": {\"outlinewidth\": 0, \"ticks\": \"\"}}, \"type\": \"scatterpolargl\"}], \"scatterternary\": [{\"marker\": {\"colorbar\": {\"outlinewidth\": 0, \"ticks\": \"\"}}, \"type\": \"scatterternary\"}], \"surface\": [{\"colorbar\": {\"outlinewidth\": 0, \"ticks\": \"\"}, \"colorscale\": [[0.0, \"#0d0887\"], [0.1111111111111111, \"#46039f\"], [0.2222222222222222, \"#7201a8\"], [0.3333333333333333, \"#9c179e\"], [0.4444444444444444, \"#bd3786\"], [0.5555555555555556, \"#d8576b\"], [0.6666666666666666, \"#ed7953\"], [0.7777777777777778, \"#fb9f3a\"], [0.8888888888888888, \"#fdca26\"], [1.0, \"#f0f921\"]], \"type\": \"surface\"}], \"table\": [{\"cells\": {\"fill\": {\"color\": \"#EBF0F8\"}, \"line\": {\"color\": \"white\"}}, \"header\": {\"fill\": {\"color\": \"#C8D4E3\"}, \"line\": {\"color\": \"white\"}}, \"type\": \"table\"}]}, \"layout\": {\"annotationdefaults\": {\"arrowcolor\": \"#2a3f5f\", \"arrowhead\": 0, \"arrowwidth\": 1}, \"autotypenumbers\": \"strict\", \"coloraxis\": {\"colorbar\": {\"outlinewidth\": 0, \"ticks\": \"\"}}, \"colorscale\": {\"diverging\": [[0, \"#8e0152\"], [0.1, \"#c51b7d\"], [0.2, \"#de77ae\"], [0.3, \"#f1b6da\"], [0.4, \"#fde0ef\"], [0.5, \"#f7f7f7\"], [0.6, \"#e6f5d0\"], [0.7, \"#b8e186\"], [0.8, \"#7fbc41\"], [0.9, \"#4d9221\"], [1, \"#276419\"]], \"sequential\": [[0.0, \"#0d0887\"], [0.1111111111111111, \"#46039f\"], [0.2222222222222222, \"#7201a8\"], [0.3333333333333333, \"#9c179e\"], [0.4444444444444444, \"#bd3786\"], [0.5555555555555556, \"#d8576b\"], [0.6666666666666666, \"#ed7953\"], [0.7777777777777778, \"#fb9f3a\"], [0.8888888888888888, \"#fdca26\"], [1.0, \"#f0f921\"]], \"sequentialminus\": [[0.0, \"#0d0887\"], [0.1111111111111111, \"#46039f\"], [0.2222222222222222, \"#7201a8\"], [0.3333333333333333, \"#9c179e\"], [0.4444444444444444, \"#bd3786\"], [0.5555555555555556, \"#d8576b\"], [0.6666666666666666, \"#ed7953\"], [0.7777777777777778, \"#fb9f3a\"], [0.8888888888888888, \"#fdca26\"], [1.0, \"#f0f921\"]]}, \"colorway\": [\"#636efa\", \"#EF553B\", \"#00cc96\", \"#ab63fa\", \"#FFA15A\", \"#19d3f3\", \"#FF6692\", \"#B6E880\", \"#FF97FF\", \"#FECB52\"], \"font\": {\"color\": \"#2a3f5f\"}, \"geo\": {\"bgcolor\": \"white\", \"lakecolor\": \"white\", \"landcolor\": \"#E5ECF6\", \"showlakes\": true, \"showland\": true, \"subunitcolor\": \"white\"}, \"hoverlabel\": {\"align\": \"left\"}, \"hovermode\": \"closest\", \"mapbox\": {\"style\": \"light\"}, \"paper_bgcolor\": \"white\", \"plot_bgcolor\": \"#E5ECF6\", \"polar\": {\"angularaxis\": {\"gridcolor\": \"white\", \"linecolor\": \"white\", \"ticks\": \"\"}, \"bgcolor\": \"#E5ECF6\", \"radialaxis\": {\"gridcolor\": \"white\", \"linecolor\": \"white\", \"ticks\": \"\"}}, \"scene\": {\"xaxis\": {\"backgroundcolor\": \"#E5ECF6\", \"gridcolor\": \"white\", \"gridwidth\": 2, \"linecolor\": \"white\", \"showbackground\": true, \"ticks\": \"\", \"zerolinecolor\": \"white\"}, \"yaxis\": {\"backgroundcolor\": \"#E5ECF6\", \"gridcolor\": \"white\", \"gridwidth\": 2, \"linecolor\": \"white\", \"showbackground\": true, \"ticks\": \"\", \"zerolinecolor\": \"white\"}, \"zaxis\": {\"backgroundcolor\": \"#E5ECF6\", \"gridcolor\": \"white\", \"gridwidth\": 2, \"linecolor\": \"white\", \"showbackground\": true, \"ticks\": \"\", \"zerolinecolor\": \"white\"}}, \"shapedefaults\": {\"line\": {\"color\": \"#2a3f5f\"}}, \"ternary\": {\"aaxis\": {\"gridcolor\": \"white\", \"linecolor\": \"white\", \"ticks\": \"\"}, \"baxis\": {\"gridcolor\": \"white\", \"linecolor\": \"white\", \"ticks\": \"\"}, \"bgcolor\": \"#E5ECF6\", \"caxis\": {\"gridcolor\": \"white\", \"linecolor\": \"white\", \"ticks\": \"\"}}, \"title\": {\"x\": 0.05}, \"xaxis\": {\"automargin\": true, \"gridcolor\": \"white\", \"linecolor\": \"white\", \"ticks\": \"\", \"title\": {\"standoff\": 15}, \"zerolinecolor\": \"white\", \"zerolinewidth\": 2}, \"yaxis\": {\"automargin\": true, \"gridcolor\": \"white\", \"linecolor\": \"white\", \"ticks\": \"\", \"title\": {\"standoff\": 15}, \"zerolinecolor\": \"white\", \"zerolinewidth\": 2}}}, \"title\": {\"text\": \"<span style='font-size: 22px;'><b>Top key words<b></span>\", \"x\": 0.5}, \"yaxis\": {\"range\": [0, 14.3], \"title\": {\"text\": \"Number of occurences\"}}},                        {\"responsive\": true}                    ).then(function(){\n",
       "                            \n",
       "var gd = document.getElementById('d29f0e61-8cec-4aa1-9f86-3425e5b604c6');\n",
       "var x = new MutationObserver(function (mutations, observer) {{\n",
       "        var display = window.getComputedStyle(gd).display;\n",
       "        if (!display || display === 'none') {{\n",
       "            console.log([gd, 'removed!']);\n",
       "            Plotly.purge(gd);\n",
       "            observer.disconnect();\n",
       "        }}\n",
       "}});\n",
       "\n",
       "// Listen for the removal of the full notebook cells\n",
       "var notebookContainer = gd.closest('#notebook-container');\n",
       "if (notebookContainer) {{\n",
       "    x.observe(notebookContainer, {childList: true});\n",
       "}}\n",
       "\n",
       "// Listen for the clearing of the current output cell\n",
       "var outputEl = gd.closest('.output');\n",
       "if (outputEl) {{\n",
       "    x.observe(outputEl, {childList: true});\n",
       "}}\n",
       "\n",
       "                        })                };                });            </script>        </div>"
      ]
     },
     "metadata": {},
     "output_type": "display_data"
    }
   ],
   "source": [
    "plots.make_top_key_words(results_df, query)"
   ]
  },
  {
   "cell_type": "markdown",
   "id": "09038c37",
   "metadata": {
    "heading_collapsed": true,
    "hidden": true
   },
   "source": [
    "#### Fields of Study"
   ]
  },
  {
   "cell_type": "code",
   "execution_count": 16,
   "id": "9c2fe968",
   "metadata": {
    "hidden": true
   },
   "outputs": [],
   "source": [
    "test_list = results_df.fieldsOfStudy.tolist()\n",
    "res = [i for i in test_list if i]\n",
    "flat_list_fields = utils.flatten_list(res)"
   ]
  },
  {
   "cell_type": "code",
   "execution_count": 18,
   "id": "a32d4844",
   "metadata": {
    "hidden": true
   },
   "outputs": [
    {
     "data": {
      "text/html": [
       "<div>\n",
       "<style scoped>\n",
       "    .dataframe tbody tr th:only-of-type {\n",
       "        vertical-align: middle;\n",
       "    }\n",
       "\n",
       "    .dataframe tbody tr th {\n",
       "        vertical-align: top;\n",
       "    }\n",
       "\n",
       "    .dataframe thead th {\n",
       "        text-align: right;\n",
       "    }\n",
       "</style>\n",
       "<table border=\"1\" class=\"dataframe\">\n",
       "  <thead>\n",
       "    <tr style=\"text-align: right;\">\n",
       "      <th></th>\n",
       "      <th>field</th>\n",
       "      <th>occurence</th>\n",
       "    </tr>\n",
       "  </thead>\n",
       "  <tbody>\n",
       "    <tr>\n",
       "      <th>0</th>\n",
       "      <td>Geology</td>\n",
       "      <td>19</td>\n",
       "    </tr>\n",
       "    <tr>\n",
       "      <th>1</th>\n",
       "      <td>Medicine</td>\n",
       "      <td>6</td>\n",
       "    </tr>\n",
       "    <tr>\n",
       "      <th>2</th>\n",
       "      <td>Environmental Science</td>\n",
       "      <td>5</td>\n",
       "    </tr>\n",
       "    <tr>\n",
       "      <th>3</th>\n",
       "      <td>Chemistry</td>\n",
       "      <td>3</td>\n",
       "    </tr>\n",
       "    <tr>\n",
       "      <th>4</th>\n",
       "      <td>Materials Science</td>\n",
       "      <td>1</td>\n",
       "    </tr>\n",
       "  </tbody>\n",
       "</table>\n",
       "</div>"
      ],
      "text/plain": [
       "                   field  occurence\n",
       "0                Geology         19\n",
       "1               Medicine          6\n",
       "2  Environmental Science          5\n",
       "3              Chemistry          3\n",
       "4      Materials Science          1"
      ]
     },
     "execution_count": 18,
     "metadata": {},
     "output_type": "execute_result"
    }
   ],
   "source": [
    "most_common_fields = Counter(flat_list_fields).most_common()\n",
    "most_common_fields_df = pd.DataFrame(most_common_fields, columns=[\"field\", \"occurence\"])\n",
    "most_common_fields_df"
   ]
  },
  {
   "cell_type": "code",
   "execution_count": 21,
   "id": "07a4a721",
   "metadata": {
    "hidden": true
   },
   "outputs": [],
   "source": [
    "def make_fields_pie(df):\n",
    "    test_list = df.fieldsOfStudy.tolist()\n",
    "    res = [i for i in test_list if i]\n",
    "    flat_list_fields = utils.flatten_list(res)\n",
    "    \n",
    "    most_common_fields = Counter(flat_list_fields).most_common()\n",
    "    most_common_fields_df = pd.DataFrame(most_common_fields, columns=[\"field\", \"occurence\"])\n",
    "    \n",
    "    fig = px.pie(most_common_fields_df, values='occurence', names= 'field')\n",
    "\n",
    "    fig.update_layout(\n",
    "    title = \"<span style='font-size: 22px;'><b>Fields of Study<b></span>\", title_x=0.5,\n",
    "    font=dict(\n",
    "        family=\"Courier New, monospace\",\n",
    "        size=14,\n",
    "        color=\"white\"\n",
    "    ),\n",
    "    paper_bgcolor = \"#101126\",\n",
    "    plot_bgcolor = \"#101126\")\n",
    "    return fig"
   ]
  },
  {
   "cell_type": "code",
   "execution_count": 23,
   "id": "9469303d",
   "metadata": {
    "hidden": true,
    "scrolled": false
   },
   "outputs": [
    {
     "data": {
      "application/vnd.plotly.v1+json": {
       "config": {
        "plotlyServerURL": "https://plot.ly"
       },
       "data": [
        {
         "domain": {
          "x": [
           0,
           1
          ],
          "y": [
           0,
           1
          ]
         },
         "hovertemplate": "field=%{label}<br>occurence=%{value}<extra></extra>",
         "labels": [
          "Geology",
          "Medicine",
          "Chemistry",
          "Biology",
          "Physics",
          "Environmental Science",
          "Materials Science",
          "Computer Science",
          "Engineering",
          "Geography",
          "History"
         ],
         "legendgroup": "",
         "name": "",
         "showlegend": true,
         "type": "pie",
         "values": [
          387,
          288,
          154,
          82,
          77,
          59,
          45,
          13,
          10,
          5,
          1
         ]
        }
       ],
       "layout": {
        "font": {
         "color": "white",
         "family": "Courier New, monospace",
         "size": 14
        },
        "legend": {
         "tracegroupgap": 0
        },
        "margin": {
         "t": 60
        },
        "paper_bgcolor": "#101126",
        "plot_bgcolor": "#101126",
        "template": {
         "data": {
          "bar": [
           {
            "error_x": {
             "color": "#2a3f5f"
            },
            "error_y": {
             "color": "#2a3f5f"
            },
            "marker": {
             "line": {
              "color": "#E5ECF6",
              "width": 0.5
             }
            },
            "type": "bar"
           }
          ],
          "barpolar": [
           {
            "marker": {
             "line": {
              "color": "#E5ECF6",
              "width": 0.5
             }
            },
            "type": "barpolar"
           }
          ],
          "carpet": [
           {
            "aaxis": {
             "endlinecolor": "#2a3f5f",
             "gridcolor": "white",
             "linecolor": "white",
             "minorgridcolor": "white",
             "startlinecolor": "#2a3f5f"
            },
            "baxis": {
             "endlinecolor": "#2a3f5f",
             "gridcolor": "white",
             "linecolor": "white",
             "minorgridcolor": "white",
             "startlinecolor": "#2a3f5f"
            },
            "type": "carpet"
           }
          ],
          "choropleth": [
           {
            "colorbar": {
             "outlinewidth": 0,
             "ticks": ""
            },
            "type": "choropleth"
           }
          ],
          "contour": [
           {
            "colorbar": {
             "outlinewidth": 0,
             "ticks": ""
            },
            "colorscale": [
             [
              0,
              "#0d0887"
             ],
             [
              0.1111111111111111,
              "#46039f"
             ],
             [
              0.2222222222222222,
              "#7201a8"
             ],
             [
              0.3333333333333333,
              "#9c179e"
             ],
             [
              0.4444444444444444,
              "#bd3786"
             ],
             [
              0.5555555555555556,
              "#d8576b"
             ],
             [
              0.6666666666666666,
              "#ed7953"
             ],
             [
              0.7777777777777778,
              "#fb9f3a"
             ],
             [
              0.8888888888888888,
              "#fdca26"
             ],
             [
              1,
              "#f0f921"
             ]
            ],
            "type": "contour"
           }
          ],
          "contourcarpet": [
           {
            "colorbar": {
             "outlinewidth": 0,
             "ticks": ""
            },
            "type": "contourcarpet"
           }
          ],
          "heatmap": [
           {
            "colorbar": {
             "outlinewidth": 0,
             "ticks": ""
            },
            "colorscale": [
             [
              0,
              "#0d0887"
             ],
             [
              0.1111111111111111,
              "#46039f"
             ],
             [
              0.2222222222222222,
              "#7201a8"
             ],
             [
              0.3333333333333333,
              "#9c179e"
             ],
             [
              0.4444444444444444,
              "#bd3786"
             ],
             [
              0.5555555555555556,
              "#d8576b"
             ],
             [
              0.6666666666666666,
              "#ed7953"
             ],
             [
              0.7777777777777778,
              "#fb9f3a"
             ],
             [
              0.8888888888888888,
              "#fdca26"
             ],
             [
              1,
              "#f0f921"
             ]
            ],
            "type": "heatmap"
           }
          ],
          "heatmapgl": [
           {
            "colorbar": {
             "outlinewidth": 0,
             "ticks": ""
            },
            "colorscale": [
             [
              0,
              "#0d0887"
             ],
             [
              0.1111111111111111,
              "#46039f"
             ],
             [
              0.2222222222222222,
              "#7201a8"
             ],
             [
              0.3333333333333333,
              "#9c179e"
             ],
             [
              0.4444444444444444,
              "#bd3786"
             ],
             [
              0.5555555555555556,
              "#d8576b"
             ],
             [
              0.6666666666666666,
              "#ed7953"
             ],
             [
              0.7777777777777778,
              "#fb9f3a"
             ],
             [
              0.8888888888888888,
              "#fdca26"
             ],
             [
              1,
              "#f0f921"
             ]
            ],
            "type": "heatmapgl"
           }
          ],
          "histogram": [
           {
            "marker": {
             "colorbar": {
              "outlinewidth": 0,
              "ticks": ""
             }
            },
            "type": "histogram"
           }
          ],
          "histogram2d": [
           {
            "colorbar": {
             "outlinewidth": 0,
             "ticks": ""
            },
            "colorscale": [
             [
              0,
              "#0d0887"
             ],
             [
              0.1111111111111111,
              "#46039f"
             ],
             [
              0.2222222222222222,
              "#7201a8"
             ],
             [
              0.3333333333333333,
              "#9c179e"
             ],
             [
              0.4444444444444444,
              "#bd3786"
             ],
             [
              0.5555555555555556,
              "#d8576b"
             ],
             [
              0.6666666666666666,
              "#ed7953"
             ],
             [
              0.7777777777777778,
              "#fb9f3a"
             ],
             [
              0.8888888888888888,
              "#fdca26"
             ],
             [
              1,
              "#f0f921"
             ]
            ],
            "type": "histogram2d"
           }
          ],
          "histogram2dcontour": [
           {
            "colorbar": {
             "outlinewidth": 0,
             "ticks": ""
            },
            "colorscale": [
             [
              0,
              "#0d0887"
             ],
             [
              0.1111111111111111,
              "#46039f"
             ],
             [
              0.2222222222222222,
              "#7201a8"
             ],
             [
              0.3333333333333333,
              "#9c179e"
             ],
             [
              0.4444444444444444,
              "#bd3786"
             ],
             [
              0.5555555555555556,
              "#d8576b"
             ],
             [
              0.6666666666666666,
              "#ed7953"
             ],
             [
              0.7777777777777778,
              "#fb9f3a"
             ],
             [
              0.8888888888888888,
              "#fdca26"
             ],
             [
              1,
              "#f0f921"
             ]
            ],
            "type": "histogram2dcontour"
           }
          ],
          "mesh3d": [
           {
            "colorbar": {
             "outlinewidth": 0,
             "ticks": ""
            },
            "type": "mesh3d"
           }
          ],
          "parcoords": [
           {
            "line": {
             "colorbar": {
              "outlinewidth": 0,
              "ticks": ""
             }
            },
            "type": "parcoords"
           }
          ],
          "pie": [
           {
            "automargin": true,
            "type": "pie"
           }
          ],
          "scatter": [
           {
            "marker": {
             "colorbar": {
              "outlinewidth": 0,
              "ticks": ""
             }
            },
            "type": "scatter"
           }
          ],
          "scatter3d": [
           {
            "line": {
             "colorbar": {
              "outlinewidth": 0,
              "ticks": ""
             }
            },
            "marker": {
             "colorbar": {
              "outlinewidth": 0,
              "ticks": ""
             }
            },
            "type": "scatter3d"
           }
          ],
          "scattercarpet": [
           {
            "marker": {
             "colorbar": {
              "outlinewidth": 0,
              "ticks": ""
             }
            },
            "type": "scattercarpet"
           }
          ],
          "scattergeo": [
           {
            "marker": {
             "colorbar": {
              "outlinewidth": 0,
              "ticks": ""
             }
            },
            "type": "scattergeo"
           }
          ],
          "scattergl": [
           {
            "marker": {
             "colorbar": {
              "outlinewidth": 0,
              "ticks": ""
             }
            },
            "type": "scattergl"
           }
          ],
          "scattermapbox": [
           {
            "marker": {
             "colorbar": {
              "outlinewidth": 0,
              "ticks": ""
             }
            },
            "type": "scattermapbox"
           }
          ],
          "scatterpolar": [
           {
            "marker": {
             "colorbar": {
              "outlinewidth": 0,
              "ticks": ""
             }
            },
            "type": "scatterpolar"
           }
          ],
          "scatterpolargl": [
           {
            "marker": {
             "colorbar": {
              "outlinewidth": 0,
              "ticks": ""
             }
            },
            "type": "scatterpolargl"
           }
          ],
          "scatterternary": [
           {
            "marker": {
             "colorbar": {
              "outlinewidth": 0,
              "ticks": ""
             }
            },
            "type": "scatterternary"
           }
          ],
          "surface": [
           {
            "colorbar": {
             "outlinewidth": 0,
             "ticks": ""
            },
            "colorscale": [
             [
              0,
              "#0d0887"
             ],
             [
              0.1111111111111111,
              "#46039f"
             ],
             [
              0.2222222222222222,
              "#7201a8"
             ],
             [
              0.3333333333333333,
              "#9c179e"
             ],
             [
              0.4444444444444444,
              "#bd3786"
             ],
             [
              0.5555555555555556,
              "#d8576b"
             ],
             [
              0.6666666666666666,
              "#ed7953"
             ],
             [
              0.7777777777777778,
              "#fb9f3a"
             ],
             [
              0.8888888888888888,
              "#fdca26"
             ],
             [
              1,
              "#f0f921"
             ]
            ],
            "type": "surface"
           }
          ],
          "table": [
           {
            "cells": {
             "fill": {
              "color": "#EBF0F8"
             },
             "line": {
              "color": "white"
             }
            },
            "header": {
             "fill": {
              "color": "#C8D4E3"
             },
             "line": {
              "color": "white"
             }
            },
            "type": "table"
           }
          ]
         },
         "layout": {
          "annotationdefaults": {
           "arrowcolor": "#2a3f5f",
           "arrowhead": 0,
           "arrowwidth": 1
          },
          "autotypenumbers": "strict",
          "coloraxis": {
           "colorbar": {
            "outlinewidth": 0,
            "ticks": ""
           }
          },
          "colorscale": {
           "diverging": [
            [
             0,
             "#8e0152"
            ],
            [
             0.1,
             "#c51b7d"
            ],
            [
             0.2,
             "#de77ae"
            ],
            [
             0.3,
             "#f1b6da"
            ],
            [
             0.4,
             "#fde0ef"
            ],
            [
             0.5,
             "#f7f7f7"
            ],
            [
             0.6,
             "#e6f5d0"
            ],
            [
             0.7,
             "#b8e186"
            ],
            [
             0.8,
             "#7fbc41"
            ],
            [
             0.9,
             "#4d9221"
            ],
            [
             1,
             "#276419"
            ]
           ],
           "sequential": [
            [
             0,
             "#0d0887"
            ],
            [
             0.1111111111111111,
             "#46039f"
            ],
            [
             0.2222222222222222,
             "#7201a8"
            ],
            [
             0.3333333333333333,
             "#9c179e"
            ],
            [
             0.4444444444444444,
             "#bd3786"
            ],
            [
             0.5555555555555556,
             "#d8576b"
            ],
            [
             0.6666666666666666,
             "#ed7953"
            ],
            [
             0.7777777777777778,
             "#fb9f3a"
            ],
            [
             0.8888888888888888,
             "#fdca26"
            ],
            [
             1,
             "#f0f921"
            ]
           ],
           "sequentialminus": [
            [
             0,
             "#0d0887"
            ],
            [
             0.1111111111111111,
             "#46039f"
            ],
            [
             0.2222222222222222,
             "#7201a8"
            ],
            [
             0.3333333333333333,
             "#9c179e"
            ],
            [
             0.4444444444444444,
             "#bd3786"
            ],
            [
             0.5555555555555556,
             "#d8576b"
            ],
            [
             0.6666666666666666,
             "#ed7953"
            ],
            [
             0.7777777777777778,
             "#fb9f3a"
            ],
            [
             0.8888888888888888,
             "#fdca26"
            ],
            [
             1,
             "#f0f921"
            ]
           ]
          },
          "colorway": [
           "#636efa",
           "#EF553B",
           "#00cc96",
           "#ab63fa",
           "#FFA15A",
           "#19d3f3",
           "#FF6692",
           "#B6E880",
           "#FF97FF",
           "#FECB52"
          ],
          "font": {
           "color": "#2a3f5f"
          },
          "geo": {
           "bgcolor": "white",
           "lakecolor": "white",
           "landcolor": "#E5ECF6",
           "showlakes": true,
           "showland": true,
           "subunitcolor": "white"
          },
          "hoverlabel": {
           "align": "left"
          },
          "hovermode": "closest",
          "mapbox": {
           "style": "light"
          },
          "paper_bgcolor": "white",
          "plot_bgcolor": "#E5ECF6",
          "polar": {
           "angularaxis": {
            "gridcolor": "white",
            "linecolor": "white",
            "ticks": ""
           },
           "bgcolor": "#E5ECF6",
           "radialaxis": {
            "gridcolor": "white",
            "linecolor": "white",
            "ticks": ""
           }
          },
          "scene": {
           "xaxis": {
            "backgroundcolor": "#E5ECF6",
            "gridcolor": "white",
            "gridwidth": 2,
            "linecolor": "white",
            "showbackground": true,
            "ticks": "",
            "zerolinecolor": "white"
           },
           "yaxis": {
            "backgroundcolor": "#E5ECF6",
            "gridcolor": "white",
            "gridwidth": 2,
            "linecolor": "white",
            "showbackground": true,
            "ticks": "",
            "zerolinecolor": "white"
           },
           "zaxis": {
            "backgroundcolor": "#E5ECF6",
            "gridcolor": "white",
            "gridwidth": 2,
            "linecolor": "white",
            "showbackground": true,
            "ticks": "",
            "zerolinecolor": "white"
           }
          },
          "shapedefaults": {
           "line": {
            "color": "#2a3f5f"
           }
          },
          "ternary": {
           "aaxis": {
            "gridcolor": "white",
            "linecolor": "white",
            "ticks": ""
           },
           "baxis": {
            "gridcolor": "white",
            "linecolor": "white",
            "ticks": ""
           },
           "bgcolor": "#E5ECF6",
           "caxis": {
            "gridcolor": "white",
            "linecolor": "white",
            "ticks": ""
           }
          },
          "title": {
           "x": 0.05
          },
          "xaxis": {
           "automargin": true,
           "gridcolor": "white",
           "linecolor": "white",
           "ticks": "",
           "title": {
            "standoff": 15
           },
           "zerolinecolor": "white",
           "zerolinewidth": 2
          },
          "yaxis": {
           "automargin": true,
           "gridcolor": "white",
           "linecolor": "white",
           "ticks": "",
           "title": {
            "standoff": 15
           },
           "zerolinecolor": "white",
           "zerolinewidth": 2
          }
         }
        },
        "title": {
         "text": "<span style='font-size: 22px;'><b>Fields of Study<b></span>",
         "x": 0.5
        }
       }
      },
      "text/html": [
       "<div>                            <div id=\"f4768478-7001-43a1-a8c7-bc625c659337\" class=\"plotly-graph-div\" style=\"height:525px; width:100%;\"></div>            <script type=\"text/javascript\">                require([\"plotly\"], function(Plotly) {                    window.PLOTLYENV=window.PLOTLYENV || {};                                    if (document.getElementById(\"f4768478-7001-43a1-a8c7-bc625c659337\")) {                    Plotly.newPlot(                        \"f4768478-7001-43a1-a8c7-bc625c659337\",                        [{\"domain\": {\"x\": [0.0, 1.0], \"y\": [0.0, 1.0]}, \"hovertemplate\": \"field=%{label}<br>occurence=%{value}<extra></extra>\", \"labels\": [\"Geology\", \"Medicine\", \"Chemistry\", \"Biology\", \"Physics\", \"Environmental Science\", \"Materials Science\", \"Computer Science\", \"Engineering\", \"Geography\", \"History\"], \"legendgroup\": \"\", \"name\": \"\", \"showlegend\": true, \"type\": \"pie\", \"values\": [387, 288, 154, 82, 77, 59, 45, 13, 10, 5, 1]}],                        {\"font\": {\"color\": \"white\", \"family\": \"Courier New, monospace\", \"size\": 14}, \"legend\": {\"tracegroupgap\": 0}, \"margin\": {\"t\": 60}, \"paper_bgcolor\": \"#101126\", \"plot_bgcolor\": \"#101126\", \"template\": {\"data\": {\"bar\": [{\"error_x\": {\"color\": \"#2a3f5f\"}, \"error_y\": {\"color\": \"#2a3f5f\"}, \"marker\": {\"line\": {\"color\": \"#E5ECF6\", \"width\": 0.5}}, \"type\": \"bar\"}], \"barpolar\": [{\"marker\": {\"line\": {\"color\": \"#E5ECF6\", \"width\": 0.5}}, \"type\": \"barpolar\"}], \"carpet\": [{\"aaxis\": {\"endlinecolor\": \"#2a3f5f\", \"gridcolor\": \"white\", \"linecolor\": \"white\", \"minorgridcolor\": \"white\", \"startlinecolor\": \"#2a3f5f\"}, \"baxis\": {\"endlinecolor\": \"#2a3f5f\", \"gridcolor\": \"white\", \"linecolor\": \"white\", \"minorgridcolor\": \"white\", \"startlinecolor\": \"#2a3f5f\"}, \"type\": \"carpet\"}], \"choropleth\": [{\"colorbar\": {\"outlinewidth\": 0, \"ticks\": \"\"}, \"type\": \"choropleth\"}], \"contour\": [{\"colorbar\": {\"outlinewidth\": 0, \"ticks\": \"\"}, \"colorscale\": [[0.0, \"#0d0887\"], [0.1111111111111111, \"#46039f\"], [0.2222222222222222, \"#7201a8\"], [0.3333333333333333, \"#9c179e\"], [0.4444444444444444, \"#bd3786\"], [0.5555555555555556, \"#d8576b\"], [0.6666666666666666, \"#ed7953\"], [0.7777777777777778, \"#fb9f3a\"], [0.8888888888888888, \"#fdca26\"], [1.0, \"#f0f921\"]], \"type\": \"contour\"}], \"contourcarpet\": [{\"colorbar\": {\"outlinewidth\": 0, \"ticks\": \"\"}, \"type\": \"contourcarpet\"}], \"heatmap\": [{\"colorbar\": {\"outlinewidth\": 0, \"ticks\": \"\"}, \"colorscale\": [[0.0, \"#0d0887\"], [0.1111111111111111, \"#46039f\"], [0.2222222222222222, \"#7201a8\"], [0.3333333333333333, \"#9c179e\"], [0.4444444444444444, \"#bd3786\"], [0.5555555555555556, \"#d8576b\"], [0.6666666666666666, \"#ed7953\"], [0.7777777777777778, \"#fb9f3a\"], [0.8888888888888888, \"#fdca26\"], [1.0, \"#f0f921\"]], \"type\": \"heatmap\"}], \"heatmapgl\": [{\"colorbar\": {\"outlinewidth\": 0, \"ticks\": \"\"}, \"colorscale\": [[0.0, \"#0d0887\"], [0.1111111111111111, \"#46039f\"], [0.2222222222222222, \"#7201a8\"], [0.3333333333333333, \"#9c179e\"], [0.4444444444444444, \"#bd3786\"], [0.5555555555555556, \"#d8576b\"], [0.6666666666666666, \"#ed7953\"], [0.7777777777777778, \"#fb9f3a\"], [0.8888888888888888, \"#fdca26\"], [1.0, \"#f0f921\"]], \"type\": \"heatmapgl\"}], \"histogram\": [{\"marker\": {\"colorbar\": {\"outlinewidth\": 0, \"ticks\": \"\"}}, \"type\": \"histogram\"}], \"histogram2d\": [{\"colorbar\": {\"outlinewidth\": 0, \"ticks\": \"\"}, \"colorscale\": [[0.0, \"#0d0887\"], [0.1111111111111111, \"#46039f\"], [0.2222222222222222, \"#7201a8\"], [0.3333333333333333, \"#9c179e\"], [0.4444444444444444, \"#bd3786\"], [0.5555555555555556, \"#d8576b\"], [0.6666666666666666, \"#ed7953\"], [0.7777777777777778, \"#fb9f3a\"], [0.8888888888888888, \"#fdca26\"], [1.0, \"#f0f921\"]], \"type\": \"histogram2d\"}], \"histogram2dcontour\": [{\"colorbar\": {\"outlinewidth\": 0, \"ticks\": \"\"}, \"colorscale\": [[0.0, \"#0d0887\"], [0.1111111111111111, \"#46039f\"], [0.2222222222222222, \"#7201a8\"], [0.3333333333333333, \"#9c179e\"], [0.4444444444444444, \"#bd3786\"], [0.5555555555555556, \"#d8576b\"], [0.6666666666666666, \"#ed7953\"], [0.7777777777777778, \"#fb9f3a\"], [0.8888888888888888, \"#fdca26\"], [1.0, \"#f0f921\"]], \"type\": \"histogram2dcontour\"}], \"mesh3d\": [{\"colorbar\": {\"outlinewidth\": 0, \"ticks\": \"\"}, \"type\": \"mesh3d\"}], \"parcoords\": [{\"line\": {\"colorbar\": {\"outlinewidth\": 0, \"ticks\": \"\"}}, \"type\": \"parcoords\"}], \"pie\": [{\"automargin\": true, \"type\": \"pie\"}], \"scatter\": [{\"marker\": {\"colorbar\": {\"outlinewidth\": 0, \"ticks\": \"\"}}, \"type\": \"scatter\"}], \"scatter3d\": [{\"line\": {\"colorbar\": {\"outlinewidth\": 0, \"ticks\": \"\"}}, \"marker\": {\"colorbar\": {\"outlinewidth\": 0, \"ticks\": \"\"}}, \"type\": \"scatter3d\"}], \"scattercarpet\": [{\"marker\": {\"colorbar\": {\"outlinewidth\": 0, \"ticks\": \"\"}}, \"type\": \"scattercarpet\"}], \"scattergeo\": [{\"marker\": {\"colorbar\": {\"outlinewidth\": 0, \"ticks\": \"\"}}, \"type\": \"scattergeo\"}], \"scattergl\": [{\"marker\": {\"colorbar\": {\"outlinewidth\": 0, \"ticks\": \"\"}}, \"type\": \"scattergl\"}], \"scattermapbox\": [{\"marker\": {\"colorbar\": {\"outlinewidth\": 0, \"ticks\": \"\"}}, \"type\": \"scattermapbox\"}], \"scatterpolar\": [{\"marker\": {\"colorbar\": {\"outlinewidth\": 0, \"ticks\": \"\"}}, \"type\": \"scatterpolar\"}], \"scatterpolargl\": [{\"marker\": {\"colorbar\": {\"outlinewidth\": 0, \"ticks\": \"\"}}, \"type\": \"scatterpolargl\"}], \"scatterternary\": [{\"marker\": {\"colorbar\": {\"outlinewidth\": 0, \"ticks\": \"\"}}, \"type\": \"scatterternary\"}], \"surface\": [{\"colorbar\": {\"outlinewidth\": 0, \"ticks\": \"\"}, \"colorscale\": [[0.0, \"#0d0887\"], [0.1111111111111111, \"#46039f\"], [0.2222222222222222, \"#7201a8\"], [0.3333333333333333, \"#9c179e\"], [0.4444444444444444, \"#bd3786\"], [0.5555555555555556, \"#d8576b\"], [0.6666666666666666, \"#ed7953\"], [0.7777777777777778, \"#fb9f3a\"], [0.8888888888888888, \"#fdca26\"], [1.0, \"#f0f921\"]], \"type\": \"surface\"}], \"table\": [{\"cells\": {\"fill\": {\"color\": \"#EBF0F8\"}, \"line\": {\"color\": \"white\"}}, \"header\": {\"fill\": {\"color\": \"#C8D4E3\"}, \"line\": {\"color\": \"white\"}}, \"type\": \"table\"}]}, \"layout\": {\"annotationdefaults\": {\"arrowcolor\": \"#2a3f5f\", \"arrowhead\": 0, \"arrowwidth\": 1}, \"autotypenumbers\": \"strict\", \"coloraxis\": {\"colorbar\": {\"outlinewidth\": 0, \"ticks\": \"\"}}, \"colorscale\": {\"diverging\": [[0, \"#8e0152\"], [0.1, \"#c51b7d\"], [0.2, \"#de77ae\"], [0.3, \"#f1b6da\"], [0.4, \"#fde0ef\"], [0.5, \"#f7f7f7\"], [0.6, \"#e6f5d0\"], [0.7, \"#b8e186\"], [0.8, \"#7fbc41\"], [0.9, \"#4d9221\"], [1, \"#276419\"]], \"sequential\": [[0.0, \"#0d0887\"], [0.1111111111111111, \"#46039f\"], [0.2222222222222222, \"#7201a8\"], [0.3333333333333333, \"#9c179e\"], [0.4444444444444444, \"#bd3786\"], [0.5555555555555556, \"#d8576b\"], [0.6666666666666666, \"#ed7953\"], [0.7777777777777778, \"#fb9f3a\"], [0.8888888888888888, \"#fdca26\"], [1.0, \"#f0f921\"]], \"sequentialminus\": [[0.0, \"#0d0887\"], [0.1111111111111111, \"#46039f\"], [0.2222222222222222, \"#7201a8\"], [0.3333333333333333, \"#9c179e\"], [0.4444444444444444, \"#bd3786\"], [0.5555555555555556, \"#d8576b\"], [0.6666666666666666, \"#ed7953\"], [0.7777777777777778, \"#fb9f3a\"], [0.8888888888888888, \"#fdca26\"], [1.0, \"#f0f921\"]]}, \"colorway\": [\"#636efa\", \"#EF553B\", \"#00cc96\", \"#ab63fa\", \"#FFA15A\", \"#19d3f3\", \"#FF6692\", \"#B6E880\", \"#FF97FF\", \"#FECB52\"], \"font\": {\"color\": \"#2a3f5f\"}, \"geo\": {\"bgcolor\": \"white\", \"lakecolor\": \"white\", \"landcolor\": \"#E5ECF6\", \"showlakes\": true, \"showland\": true, \"subunitcolor\": \"white\"}, \"hoverlabel\": {\"align\": \"left\"}, \"hovermode\": \"closest\", \"mapbox\": {\"style\": \"light\"}, \"paper_bgcolor\": \"white\", \"plot_bgcolor\": \"#E5ECF6\", \"polar\": {\"angularaxis\": {\"gridcolor\": \"white\", \"linecolor\": \"white\", \"ticks\": \"\"}, \"bgcolor\": \"#E5ECF6\", \"radialaxis\": {\"gridcolor\": \"white\", \"linecolor\": \"white\", \"ticks\": \"\"}}, \"scene\": {\"xaxis\": {\"backgroundcolor\": \"#E5ECF6\", \"gridcolor\": \"white\", \"gridwidth\": 2, \"linecolor\": \"white\", \"showbackground\": true, \"ticks\": \"\", \"zerolinecolor\": \"white\"}, \"yaxis\": {\"backgroundcolor\": \"#E5ECF6\", \"gridcolor\": \"white\", \"gridwidth\": 2, \"linecolor\": \"white\", \"showbackground\": true, \"ticks\": \"\", \"zerolinecolor\": \"white\"}, \"zaxis\": {\"backgroundcolor\": \"#E5ECF6\", \"gridcolor\": \"white\", \"gridwidth\": 2, \"linecolor\": \"white\", \"showbackground\": true, \"ticks\": \"\", \"zerolinecolor\": \"white\"}}, \"shapedefaults\": {\"line\": {\"color\": \"#2a3f5f\"}}, \"ternary\": {\"aaxis\": {\"gridcolor\": \"white\", \"linecolor\": \"white\", \"ticks\": \"\"}, \"baxis\": {\"gridcolor\": \"white\", \"linecolor\": \"white\", \"ticks\": \"\"}, \"bgcolor\": \"#E5ECF6\", \"caxis\": {\"gridcolor\": \"white\", \"linecolor\": \"white\", \"ticks\": \"\"}}, \"title\": {\"x\": 0.05}, \"xaxis\": {\"automargin\": true, \"gridcolor\": \"white\", \"linecolor\": \"white\", \"ticks\": \"\", \"title\": {\"standoff\": 15}, \"zerolinecolor\": \"white\", \"zerolinewidth\": 2}, \"yaxis\": {\"automargin\": true, \"gridcolor\": \"white\", \"linecolor\": \"white\", \"ticks\": \"\", \"title\": {\"standoff\": 15}, \"zerolinecolor\": \"white\", \"zerolinewidth\": 2}}}, \"title\": {\"text\": \"<span style='font-size: 22px;'><b>Fields of Study<b></span>\", \"x\": 0.5}},                        {\"responsive\": true}                    ).then(function(){\n",
       "                            \n",
       "var gd = document.getElementById('f4768478-7001-43a1-a8c7-bc625c659337');\n",
       "var x = new MutationObserver(function (mutations, observer) {{\n",
       "        var display = window.getComputedStyle(gd).display;\n",
       "        if (!display || display === 'none') {{\n",
       "            console.log([gd, 'removed!']);\n",
       "            Plotly.purge(gd);\n",
       "            observer.disconnect();\n",
       "        }}\n",
       "}});\n",
       "\n",
       "// Listen for the removal of the full notebook cells\n",
       "var notebookContainer = gd.closest('#notebook-container');\n",
       "if (notebookContainer) {{\n",
       "    x.observe(notebookContainer, {childList: true});\n",
       "}}\n",
       "\n",
       "// Listen for the clearing of the current output cell\n",
       "var outputEl = gd.closest('.output');\n",
       "if (outputEl) {{\n",
       "    x.observe(outputEl, {childList: true});\n",
       "}}\n",
       "\n",
       "                        })                };                });            </script>        </div>"
      ]
     },
     "metadata": {},
     "output_type": "display_data"
    }
   ],
   "source": [
    "make_fields_pie(all_references_df)"
   ]
  },
  {
   "cell_type": "markdown",
   "id": "269e4947",
   "metadata": {
    "heading_collapsed": true,
    "hidden": true
   },
   "source": [
    "#### Authors"
   ]
  },
  {
   "cell_type": "code",
   "execution_count": 27,
   "id": "0691ff05",
   "metadata": {
    "collapsed": true,
    "hidden": true
   },
   "outputs": [
    {
     "data": {
      "text/plain": [
       "['K. Campbell',\n",
       " 'D. Guido',\n",
       " 'J. Farmer',\n",
       " 'M. V. Kranendonk',\n",
       " 'S. Ruff',\n",
       " 'F. Westall',\n",
       " 'R. Summons',\n",
       " 'J. Amend',\n",
       " 'D. Bish',\n",
       " 'R. Buick',\n",
       " 'G. Cody',\n",
       " 'D. D. Des Marais',\n",
       " 'G. Dromart',\n",
       " 'J. Eigenbrode',\n",
       " 'A. Knoll',\n",
       " 'D. Sumner',\n",
       " 'C. Weisbin',\n",
       " 'W. Lincoln',\n",
       " 'D. Papanastassiou',\n",
       " 'M. Coleman',\n",
       " 'K. Campbell',\n",
       " 'D. Guido',\n",
       " 'J. Farmer',\n",
       " 'M. V. Kranendonk',\n",
       " 'S. Ruff',\n",
       " 'F. Westall',\n",
       " 'Joost W. Aerts',\n",
       " 'A. Riedo',\n",
       " 'Daniel J. Melton',\n",
       " 'Simone Martini',\n",
       " 'J. Flahaut',\n",
       " 'U. Meierhenrich',\n",
       " 'C. Meinert',\n",
       " 'I. Myrgorodska',\n",
       " 'R. Lindner',\n",
       " 'P. Ehrenfreund',\n",
       " 'A. Gangidine',\n",
       " 'J. Havig',\n",
       " 'A. Czaja',\n",
       " 'F. Da Pieve',\n",
       " 'G. Gronoff',\n",
       " 'J. Guo',\n",
       " 'C. Mertens',\n",
       " 'L. Neary',\n",
       " 'B. Gu',\n",
       " 'N. Koval',\n",
       " 'J. Kohanoff',\n",
       " 'A. Vandaele',\n",
       " 'F. Cleri',\n",
       " 'M. Nachon',\n",
       " 'R. Ewing',\n",
       " 'M. Tice',\n",
       " 'J. Stromberg',\n",
       " 'A. Parkinson',\n",
       " 'M. Morison',\n",
       " 'E. Cloutis',\n",
       " 'N. Casson',\n",
       " 'D. Applin',\n",
       " 'J. Poitras',\n",
       " 'A. M. Martí',\n",
       " 'C. Maggiori',\n",
       " 'C. Cousins',\n",
       " 'L. Whyte',\n",
       " 'R. Kruzelecky',\n",
       " 'D. Das',\n",
       " 'R. Léveillé',\n",
       " 'K. Berlo',\n",
       " 'Shiv K. Sharma',\n",
       " 'T. Acosta-Maeda',\n",
       " 'M. Daly',\n",
       " 'E. Lalla',\n",
       " 'M. Floyd',\n",
       " 'Amy J. Williams',\n",
       " 'A. Grubisic',\n",
       " 'D. Emerson',\n",
       " 'Joshua Williams',\n",
       " 'T. Nagle-McNaughton',\n",
       " 'H. Newsom',\n",
       " 'Z. Gallegos',\n",
       " 'H. A. Wilkie',\n",
       " 'D. C. Martinez',\n",
       " 'L. Scuderi',\n",
       " 'L. Hays',\n",
       " 'H. Graham',\n",
       " 'D. D. Des Marais',\n",
       " 'E. Hausrath',\n",
       " 'B. Horgan',\n",
       " 'T. McCollom',\n",
       " 'M. Parenteau',\n",
       " 'S. Potter-McIntyre',\n",
       " 'Amy J. Williams',\n",
       " 'K. Lynch',\n",
       " 'S. Shkolyar',\n",
       " 'J. Farmer',\n",
       " 'M. Weng',\n",
       " 'M. Millan',\n",
       " 'E. Zaikova',\n",
       " 'J. Bevilacqua',\n",
       " 'S. S. Johnson',\n",
       " 'L. Hays',\n",
       " 'D. Beaty',\n",
       " 'B. Brenha',\n",
       " 'D. Galante',\n",
       " 'M. Román',\n",
       " 'R. V. Spanning',\n",
       " 'Murilo Carvalho',\n",
       " 'F. Rodrigues',\n",
       " 'F. Callefo',\n",
       " 'V. Teixeira',\n",
       " 'I. Neckel',\n",
       " 'Paula Morão',\n",
       " 'G. Borelli',\n",
       " 'A. Gangidine',\n",
       " 'A. Czaja',\n",
       " 'J. Havig',\n",
       " 'N. Cabrol',\n",
       " 'J. Bishop',\n",
       " 'S. Cady',\n",
       " 'N. Hinman',\n",
       " 'J. Moersch',\n",
       " 'N. Noffke',\n",
       " 'C. Phillips',\n",
       " 'P. Sobrón',\n",
       " 'D. Summers',\n",
       " 'K. Warren-Rhodes',\n",
       " 'D. Wettergreen',\n",
       " 'A. Czaja',\n",
       " 'A. Gangidine',\n",
       " 'K. Lorber',\n",
       " 'J. Osterhout',\n",
       " 'S. Shkolyar',\n",
       " 'J. Farmer',\n",
       " 'A. Pontefract',\n",
       " 'J. Hachey',\n",
       " 'A. Mojarro',\n",
       " 'V. Walker',\n",
       " 'H. Rowedder',\n",
       " 'T. F. Zhu',\n",
       " 'C. Lui',\n",
       " 'M. Zuber',\n",
       " 'G. Ruvkun',\n",
       " 'C. Carr',\n",
       " 'L. Beegle',\n",
       " 'R. Bhartia',\n",
       " 'W. Abbey',\n",
       " 'Jason E. French',\n",
       " 'D. Blake',\n",
       " 'K. Lorber',\n",
       " 'A. Czaja',\n",
       " 'P. Lee',\n",
       " 'D. Hamilton',\n",
       " 'Joshua Williams',\n",
       " 'M. Rice',\n",
       " 'S. Shkolyar',\n",
       " 'J. Farmer',\n",
       " 'J. Stromberg',\n",
       " 'D. Applin',\n",
       " 'E. Cloutis',\n",
       " 'M. Rice',\n",
       " 'G. Berard',\n",
       " 'P. Mann',\n",
       " 'B. Ehlmann',\n",
       " 'J. Mustard',\n",
       " 'S. Murchie',\n",
       " 'R. Green',\n",
       " 'P. Mouroulis',\n",
       " 'B. V. Gorp',\n",
       " 'M. Jeganathan',\n",
       " 'Y. H. Wu',\n",
       " 'T. Glavich',\n",
       " 'R. Bartos',\n",
       " 'J. Nastal',\n",
       " 'K. Strohbehn',\n",
       " 'D. Blaney',\n",
       " 'J. Boardman',\n",
       " 'J. Farmer',\n",
       " 'W. Fischer',\n",
       " 'J. Grotzinger',\n",
       " 'C. Herd',\n",
       " 'T. Hoehler',\n",
       " 'J. Hurowitz',\n",
       " 'M. Schmidt',\n",
       " 'F. Seelos',\n",
       " 'M. Wadhwa',\n",
       " 'A. Santo',\n",
       " 'J. Ferdosi',\n",
       " 'S. Shkolyar',\n",
       " 'E. Lalla',\n",
       " 'M. Konstantindis',\n",
       " 'K. Cote',\n",
       " 'M. Daly',\n",
       " 'A. Steele']"
      ]
     },
     "execution_count": 27,
     "metadata": {},
     "output_type": "execute_result"
    }
   ],
   "source": [
    "authors_list = []\n",
    "for index, row in results_df.iterrows():\n",
    "    for dict_ in row.authors:\n",
    "        authors_list.append(dict_['name'])\n",
    "authors_list"
   ]
  },
  {
   "cell_type": "code",
   "execution_count": 30,
   "id": "794ad8ec",
   "metadata": {
    "hidden": true
   },
   "outputs": [],
   "source": [
    "most_active_authors = Counter(authors_list).most_common()\n",
    "most_active_authors_df = pd.DataFrame(most_active_authors, columns=[\"author\", \"occurence\"])"
   ]
  },
  {
   "cell_type": "code",
   "execution_count": 31,
   "id": "a0bf4da5",
   "metadata": {
    "hidden": true
   },
   "outputs": [
    {
     "data": {
      "text/html": [
       "<div>\n",
       "<style scoped>\n",
       "    .dataframe tbody tr th:only-of-type {\n",
       "        vertical-align: middle;\n",
       "    }\n",
       "\n",
       "    .dataframe tbody tr th {\n",
       "        vertical-align: top;\n",
       "    }\n",
       "\n",
       "    .dataframe thead th {\n",
       "        text-align: right;\n",
       "    }\n",
       "</style>\n",
       "<table border=\"1\" class=\"dataframe\">\n",
       "  <thead>\n",
       "    <tr style=\"text-align: right;\">\n",
       "      <th></th>\n",
       "      <th>author</th>\n",
       "      <th>occurence</th>\n",
       "    </tr>\n",
       "  </thead>\n",
       "  <tbody>\n",
       "    <tr>\n",
       "      <th>0</th>\n",
       "      <td>J. Farmer</td>\n",
       "      <td>6</td>\n",
       "    </tr>\n",
       "    <tr>\n",
       "      <th>1</th>\n",
       "      <td>A. Czaja</td>\n",
       "      <td>4</td>\n",
       "    </tr>\n",
       "    <tr>\n",
       "      <th>2</th>\n",
       "      <td>S. Shkolyar</td>\n",
       "      <td>4</td>\n",
       "    </tr>\n",
       "    <tr>\n",
       "      <th>3</th>\n",
       "      <td>A. Gangidine</td>\n",
       "      <td>3</td>\n",
       "    </tr>\n",
       "    <tr>\n",
       "      <th>4</th>\n",
       "      <td>K. Campbell</td>\n",
       "      <td>2</td>\n",
       "    </tr>\n",
       "    <tr>\n",
       "      <th>...</th>\n",
       "      <td>...</td>\n",
       "      <td>...</td>\n",
       "    </tr>\n",
       "    <tr>\n",
       "      <th>157</th>\n",
       "      <td>A. Santo</td>\n",
       "      <td>1</td>\n",
       "    </tr>\n",
       "    <tr>\n",
       "      <th>158</th>\n",
       "      <td>J. Ferdosi</td>\n",
       "      <td>1</td>\n",
       "    </tr>\n",
       "    <tr>\n",
       "      <th>159</th>\n",
       "      <td>M. Konstantindis</td>\n",
       "      <td>1</td>\n",
       "    </tr>\n",
       "    <tr>\n",
       "      <th>160</th>\n",
       "      <td>K. Cote</td>\n",
       "      <td>1</td>\n",
       "    </tr>\n",
       "    <tr>\n",
       "      <th>161</th>\n",
       "      <td>A. Steele</td>\n",
       "      <td>1</td>\n",
       "    </tr>\n",
       "  </tbody>\n",
       "</table>\n",
       "<p>162 rows × 2 columns</p>\n",
       "</div>"
      ],
      "text/plain": [
       "               author  occurence\n",
       "0           J. Farmer          6\n",
       "1            A. Czaja          4\n",
       "2         S. Shkolyar          4\n",
       "3        A. Gangidine          3\n",
       "4         K. Campbell          2\n",
       "..                ...        ...\n",
       "157          A. Santo          1\n",
       "158        J. Ferdosi          1\n",
       "159  M. Konstantindis          1\n",
       "160           K. Cote          1\n",
       "161         A. Steele          1\n",
       "\n",
       "[162 rows x 2 columns]"
      ]
     },
     "execution_count": 31,
     "metadata": {},
     "output_type": "execute_result"
    }
   ],
   "source": [
    "most_active_authors_df"
   ]
  },
  {
   "cell_type": "code",
   "execution_count": 36,
   "id": "16ce7137",
   "metadata": {
    "hidden": true
   },
   "outputs": [],
   "source": [
    "def make_active_authors(df):\n",
    "    authors_list = []\n",
    "    for index, row in df.iterrows():\n",
    "        for dict_ in row.authors:\n",
    "            authors_list.append(dict_['name'])\n",
    "    most_active_authors = Counter(authors_list).most_common()\n",
    "    most_active_authors_df = pd.DataFrame(most_active_authors, columns=[\"author\", \"occurence\"])\n",
    "    fig = go.Figure(data=[go.Bar(x=most_active_authors_df[0:10].author,\n",
    "                              y= most_active_authors_df[0:10].occurence,\n",
    "                              texttemplate=\"%{y}\",\n",
    "                              textposition=\"outside\",\n",
    "                              textangle=0)])\n",
    "    fig.update_layout(title = \"<span style='font-size: 22px;'><b>Most active authors<b></span>\", title_x=0.5,\n",
    "                    font=dict(\n",
    "                              family=\"Courier New, monospace\",\n",
    "                              size=12,\n",
    "                              color=\"white\"\n",
    "    ),\n",
    "    paper_bgcolor = \"#101126\",\n",
    "    plot_bgcolor = \"#101126\")\n",
    "\n",
    "    fig.update_traces(marker_color='#eda109')\n",
    "    fig.update_xaxes(title=\"Authors\")\n",
    "    fig.update_yaxes(title=\"Number of Publications\", range= [0, 1.1* most_active_authors_df.occurence.max()])\n",
    "    return fig"
   ]
  },
  {
   "cell_type": "code",
   "execution_count": 37,
   "id": "49dfc99a",
   "metadata": {
    "hidden": true
   },
   "outputs": [
    {
     "data": {
      "application/vnd.plotly.v1+json": {
       "config": {
        "plotlyServerURL": "https://plot.ly"
       },
       "data": [
        {
         "marker": {
          "color": "#eda109"
         },
         "textangle": 0,
         "textposition": "outside",
         "texttemplate": "%{y}",
         "type": "bar",
         "x": [
          "J. Farmer",
          "A. Czaja",
          "S. Shkolyar",
          "A. Gangidine",
          "K. Campbell",
          "D. Guido",
          "M. V. Kranendonk",
          "S. Ruff",
          "F. Westall",
          "D. D. Des Marais"
         ],
         "y": [
          6,
          4,
          4,
          3,
          2,
          2,
          2,
          2,
          2,
          2
         ]
        }
       ],
       "layout": {
        "font": {
         "color": "white",
         "family": "Courier New, monospace",
         "size": 12
        },
        "paper_bgcolor": "#101126",
        "plot_bgcolor": "#101126",
        "template": {
         "data": {
          "bar": [
           {
            "error_x": {
             "color": "#2a3f5f"
            },
            "error_y": {
             "color": "#2a3f5f"
            },
            "marker": {
             "line": {
              "color": "#E5ECF6",
              "width": 0.5
             }
            },
            "type": "bar"
           }
          ],
          "barpolar": [
           {
            "marker": {
             "line": {
              "color": "#E5ECF6",
              "width": 0.5
             }
            },
            "type": "barpolar"
           }
          ],
          "carpet": [
           {
            "aaxis": {
             "endlinecolor": "#2a3f5f",
             "gridcolor": "white",
             "linecolor": "white",
             "minorgridcolor": "white",
             "startlinecolor": "#2a3f5f"
            },
            "baxis": {
             "endlinecolor": "#2a3f5f",
             "gridcolor": "white",
             "linecolor": "white",
             "minorgridcolor": "white",
             "startlinecolor": "#2a3f5f"
            },
            "type": "carpet"
           }
          ],
          "choropleth": [
           {
            "colorbar": {
             "outlinewidth": 0,
             "ticks": ""
            },
            "type": "choropleth"
           }
          ],
          "contour": [
           {
            "colorbar": {
             "outlinewidth": 0,
             "ticks": ""
            },
            "colorscale": [
             [
              0,
              "#0d0887"
             ],
             [
              0.1111111111111111,
              "#46039f"
             ],
             [
              0.2222222222222222,
              "#7201a8"
             ],
             [
              0.3333333333333333,
              "#9c179e"
             ],
             [
              0.4444444444444444,
              "#bd3786"
             ],
             [
              0.5555555555555556,
              "#d8576b"
             ],
             [
              0.6666666666666666,
              "#ed7953"
             ],
             [
              0.7777777777777778,
              "#fb9f3a"
             ],
             [
              0.8888888888888888,
              "#fdca26"
             ],
             [
              1,
              "#f0f921"
             ]
            ],
            "type": "contour"
           }
          ],
          "contourcarpet": [
           {
            "colorbar": {
             "outlinewidth": 0,
             "ticks": ""
            },
            "type": "contourcarpet"
           }
          ],
          "heatmap": [
           {
            "colorbar": {
             "outlinewidth": 0,
             "ticks": ""
            },
            "colorscale": [
             [
              0,
              "#0d0887"
             ],
             [
              0.1111111111111111,
              "#46039f"
             ],
             [
              0.2222222222222222,
              "#7201a8"
             ],
             [
              0.3333333333333333,
              "#9c179e"
             ],
             [
              0.4444444444444444,
              "#bd3786"
             ],
             [
              0.5555555555555556,
              "#d8576b"
             ],
             [
              0.6666666666666666,
              "#ed7953"
             ],
             [
              0.7777777777777778,
              "#fb9f3a"
             ],
             [
              0.8888888888888888,
              "#fdca26"
             ],
             [
              1,
              "#f0f921"
             ]
            ],
            "type": "heatmap"
           }
          ],
          "heatmapgl": [
           {
            "colorbar": {
             "outlinewidth": 0,
             "ticks": ""
            },
            "colorscale": [
             [
              0,
              "#0d0887"
             ],
             [
              0.1111111111111111,
              "#46039f"
             ],
             [
              0.2222222222222222,
              "#7201a8"
             ],
             [
              0.3333333333333333,
              "#9c179e"
             ],
             [
              0.4444444444444444,
              "#bd3786"
             ],
             [
              0.5555555555555556,
              "#d8576b"
             ],
             [
              0.6666666666666666,
              "#ed7953"
             ],
             [
              0.7777777777777778,
              "#fb9f3a"
             ],
             [
              0.8888888888888888,
              "#fdca26"
             ],
             [
              1,
              "#f0f921"
             ]
            ],
            "type": "heatmapgl"
           }
          ],
          "histogram": [
           {
            "marker": {
             "colorbar": {
              "outlinewidth": 0,
              "ticks": ""
             }
            },
            "type": "histogram"
           }
          ],
          "histogram2d": [
           {
            "colorbar": {
             "outlinewidth": 0,
             "ticks": ""
            },
            "colorscale": [
             [
              0,
              "#0d0887"
             ],
             [
              0.1111111111111111,
              "#46039f"
             ],
             [
              0.2222222222222222,
              "#7201a8"
             ],
             [
              0.3333333333333333,
              "#9c179e"
             ],
             [
              0.4444444444444444,
              "#bd3786"
             ],
             [
              0.5555555555555556,
              "#d8576b"
             ],
             [
              0.6666666666666666,
              "#ed7953"
             ],
             [
              0.7777777777777778,
              "#fb9f3a"
             ],
             [
              0.8888888888888888,
              "#fdca26"
             ],
             [
              1,
              "#f0f921"
             ]
            ],
            "type": "histogram2d"
           }
          ],
          "histogram2dcontour": [
           {
            "colorbar": {
             "outlinewidth": 0,
             "ticks": ""
            },
            "colorscale": [
             [
              0,
              "#0d0887"
             ],
             [
              0.1111111111111111,
              "#46039f"
             ],
             [
              0.2222222222222222,
              "#7201a8"
             ],
             [
              0.3333333333333333,
              "#9c179e"
             ],
             [
              0.4444444444444444,
              "#bd3786"
             ],
             [
              0.5555555555555556,
              "#d8576b"
             ],
             [
              0.6666666666666666,
              "#ed7953"
             ],
             [
              0.7777777777777778,
              "#fb9f3a"
             ],
             [
              0.8888888888888888,
              "#fdca26"
             ],
             [
              1,
              "#f0f921"
             ]
            ],
            "type": "histogram2dcontour"
           }
          ],
          "mesh3d": [
           {
            "colorbar": {
             "outlinewidth": 0,
             "ticks": ""
            },
            "type": "mesh3d"
           }
          ],
          "parcoords": [
           {
            "line": {
             "colorbar": {
              "outlinewidth": 0,
              "ticks": ""
             }
            },
            "type": "parcoords"
           }
          ],
          "pie": [
           {
            "automargin": true,
            "type": "pie"
           }
          ],
          "scatter": [
           {
            "marker": {
             "colorbar": {
              "outlinewidth": 0,
              "ticks": ""
             }
            },
            "type": "scatter"
           }
          ],
          "scatter3d": [
           {
            "line": {
             "colorbar": {
              "outlinewidth": 0,
              "ticks": ""
             }
            },
            "marker": {
             "colorbar": {
              "outlinewidth": 0,
              "ticks": ""
             }
            },
            "type": "scatter3d"
           }
          ],
          "scattercarpet": [
           {
            "marker": {
             "colorbar": {
              "outlinewidth": 0,
              "ticks": ""
             }
            },
            "type": "scattercarpet"
           }
          ],
          "scattergeo": [
           {
            "marker": {
             "colorbar": {
              "outlinewidth": 0,
              "ticks": ""
             }
            },
            "type": "scattergeo"
           }
          ],
          "scattergl": [
           {
            "marker": {
             "colorbar": {
              "outlinewidth": 0,
              "ticks": ""
             }
            },
            "type": "scattergl"
           }
          ],
          "scattermapbox": [
           {
            "marker": {
             "colorbar": {
              "outlinewidth": 0,
              "ticks": ""
             }
            },
            "type": "scattermapbox"
           }
          ],
          "scatterpolar": [
           {
            "marker": {
             "colorbar": {
              "outlinewidth": 0,
              "ticks": ""
             }
            },
            "type": "scatterpolar"
           }
          ],
          "scatterpolargl": [
           {
            "marker": {
             "colorbar": {
              "outlinewidth": 0,
              "ticks": ""
             }
            },
            "type": "scatterpolargl"
           }
          ],
          "scatterternary": [
           {
            "marker": {
             "colorbar": {
              "outlinewidth": 0,
              "ticks": ""
             }
            },
            "type": "scatterternary"
           }
          ],
          "surface": [
           {
            "colorbar": {
             "outlinewidth": 0,
             "ticks": ""
            },
            "colorscale": [
             [
              0,
              "#0d0887"
             ],
             [
              0.1111111111111111,
              "#46039f"
             ],
             [
              0.2222222222222222,
              "#7201a8"
             ],
             [
              0.3333333333333333,
              "#9c179e"
             ],
             [
              0.4444444444444444,
              "#bd3786"
             ],
             [
              0.5555555555555556,
              "#d8576b"
             ],
             [
              0.6666666666666666,
              "#ed7953"
             ],
             [
              0.7777777777777778,
              "#fb9f3a"
             ],
             [
              0.8888888888888888,
              "#fdca26"
             ],
             [
              1,
              "#f0f921"
             ]
            ],
            "type": "surface"
           }
          ],
          "table": [
           {
            "cells": {
             "fill": {
              "color": "#EBF0F8"
             },
             "line": {
              "color": "white"
             }
            },
            "header": {
             "fill": {
              "color": "#C8D4E3"
             },
             "line": {
              "color": "white"
             }
            },
            "type": "table"
           }
          ]
         },
         "layout": {
          "annotationdefaults": {
           "arrowcolor": "#2a3f5f",
           "arrowhead": 0,
           "arrowwidth": 1
          },
          "autotypenumbers": "strict",
          "coloraxis": {
           "colorbar": {
            "outlinewidth": 0,
            "ticks": ""
           }
          },
          "colorscale": {
           "diverging": [
            [
             0,
             "#8e0152"
            ],
            [
             0.1,
             "#c51b7d"
            ],
            [
             0.2,
             "#de77ae"
            ],
            [
             0.3,
             "#f1b6da"
            ],
            [
             0.4,
             "#fde0ef"
            ],
            [
             0.5,
             "#f7f7f7"
            ],
            [
             0.6,
             "#e6f5d0"
            ],
            [
             0.7,
             "#b8e186"
            ],
            [
             0.8,
             "#7fbc41"
            ],
            [
             0.9,
             "#4d9221"
            ],
            [
             1,
             "#276419"
            ]
           ],
           "sequential": [
            [
             0,
             "#0d0887"
            ],
            [
             0.1111111111111111,
             "#46039f"
            ],
            [
             0.2222222222222222,
             "#7201a8"
            ],
            [
             0.3333333333333333,
             "#9c179e"
            ],
            [
             0.4444444444444444,
             "#bd3786"
            ],
            [
             0.5555555555555556,
             "#d8576b"
            ],
            [
             0.6666666666666666,
             "#ed7953"
            ],
            [
             0.7777777777777778,
             "#fb9f3a"
            ],
            [
             0.8888888888888888,
             "#fdca26"
            ],
            [
             1,
             "#f0f921"
            ]
           ],
           "sequentialminus": [
            [
             0,
             "#0d0887"
            ],
            [
             0.1111111111111111,
             "#46039f"
            ],
            [
             0.2222222222222222,
             "#7201a8"
            ],
            [
             0.3333333333333333,
             "#9c179e"
            ],
            [
             0.4444444444444444,
             "#bd3786"
            ],
            [
             0.5555555555555556,
             "#d8576b"
            ],
            [
             0.6666666666666666,
             "#ed7953"
            ],
            [
             0.7777777777777778,
             "#fb9f3a"
            ],
            [
             0.8888888888888888,
             "#fdca26"
            ],
            [
             1,
             "#f0f921"
            ]
           ]
          },
          "colorway": [
           "#636efa",
           "#EF553B",
           "#00cc96",
           "#ab63fa",
           "#FFA15A",
           "#19d3f3",
           "#FF6692",
           "#B6E880",
           "#FF97FF",
           "#FECB52"
          ],
          "font": {
           "color": "#2a3f5f"
          },
          "geo": {
           "bgcolor": "white",
           "lakecolor": "white",
           "landcolor": "#E5ECF6",
           "showlakes": true,
           "showland": true,
           "subunitcolor": "white"
          },
          "hoverlabel": {
           "align": "left"
          },
          "hovermode": "closest",
          "mapbox": {
           "style": "light"
          },
          "paper_bgcolor": "white",
          "plot_bgcolor": "#E5ECF6",
          "polar": {
           "angularaxis": {
            "gridcolor": "white",
            "linecolor": "white",
            "ticks": ""
           },
           "bgcolor": "#E5ECF6",
           "radialaxis": {
            "gridcolor": "white",
            "linecolor": "white",
            "ticks": ""
           }
          },
          "scene": {
           "xaxis": {
            "backgroundcolor": "#E5ECF6",
            "gridcolor": "white",
            "gridwidth": 2,
            "linecolor": "white",
            "showbackground": true,
            "ticks": "",
            "zerolinecolor": "white"
           },
           "yaxis": {
            "backgroundcolor": "#E5ECF6",
            "gridcolor": "white",
            "gridwidth": 2,
            "linecolor": "white",
            "showbackground": true,
            "ticks": "",
            "zerolinecolor": "white"
           },
           "zaxis": {
            "backgroundcolor": "#E5ECF6",
            "gridcolor": "white",
            "gridwidth": 2,
            "linecolor": "white",
            "showbackground": true,
            "ticks": "",
            "zerolinecolor": "white"
           }
          },
          "shapedefaults": {
           "line": {
            "color": "#2a3f5f"
           }
          },
          "ternary": {
           "aaxis": {
            "gridcolor": "white",
            "linecolor": "white",
            "ticks": ""
           },
           "baxis": {
            "gridcolor": "white",
            "linecolor": "white",
            "ticks": ""
           },
           "bgcolor": "#E5ECF6",
           "caxis": {
            "gridcolor": "white",
            "linecolor": "white",
            "ticks": ""
           }
          },
          "title": {
           "x": 0.05
          },
          "xaxis": {
           "automargin": true,
           "gridcolor": "white",
           "linecolor": "white",
           "ticks": "",
           "title": {
            "standoff": 15
           },
           "zerolinecolor": "white",
           "zerolinewidth": 2
          },
          "yaxis": {
           "automargin": true,
           "gridcolor": "white",
           "linecolor": "white",
           "ticks": "",
           "title": {
            "standoff": 15
           },
           "zerolinecolor": "white",
           "zerolinewidth": 2
          }
         }
        },
        "title": {
         "text": "<span style='font-size: 22px;'><b>Most active authors<b></span>",
         "x": 0.5
        },
        "xaxis": {
         "title": {
          "text": "Authors"
         }
        },
        "yaxis": {
         "range": [
          0,
          6.6000000000000005
         ],
         "title": {
          "text": "Number of Publications"
         }
        }
       }
      },
      "text/html": [
       "<div>                            <div id=\"7ab7501a-2a57-4f80-92a7-334ab909e0ad\" class=\"plotly-graph-div\" style=\"height:525px; width:100%;\"></div>            <script type=\"text/javascript\">                require([\"plotly\"], function(Plotly) {                    window.PLOTLYENV=window.PLOTLYENV || {};                                    if (document.getElementById(\"7ab7501a-2a57-4f80-92a7-334ab909e0ad\")) {                    Plotly.newPlot(                        \"7ab7501a-2a57-4f80-92a7-334ab909e0ad\",                        [{\"marker\": {\"color\": \"#eda109\"}, \"textangle\": 0, \"textposition\": \"outside\", \"texttemplate\": \"%{y}\", \"type\": \"bar\", \"x\": [\"J. Farmer\", \"A. Czaja\", \"S. Shkolyar\", \"A. Gangidine\", \"K. Campbell\", \"D. Guido\", \"M. V. Kranendonk\", \"S. Ruff\", \"F. Westall\", \"D. D. Des Marais\"], \"y\": [6, 4, 4, 3, 2, 2, 2, 2, 2, 2]}],                        {\"font\": {\"color\": \"white\", \"family\": \"Courier New, monospace\", \"size\": 12}, \"paper_bgcolor\": \"#101126\", \"plot_bgcolor\": \"#101126\", \"template\": {\"data\": {\"bar\": [{\"error_x\": {\"color\": \"#2a3f5f\"}, \"error_y\": {\"color\": \"#2a3f5f\"}, \"marker\": {\"line\": {\"color\": \"#E5ECF6\", \"width\": 0.5}}, \"type\": \"bar\"}], \"barpolar\": [{\"marker\": {\"line\": {\"color\": \"#E5ECF6\", \"width\": 0.5}}, \"type\": \"barpolar\"}], \"carpet\": [{\"aaxis\": {\"endlinecolor\": \"#2a3f5f\", \"gridcolor\": \"white\", \"linecolor\": \"white\", \"minorgridcolor\": \"white\", \"startlinecolor\": \"#2a3f5f\"}, \"baxis\": {\"endlinecolor\": \"#2a3f5f\", \"gridcolor\": \"white\", \"linecolor\": \"white\", \"minorgridcolor\": \"white\", \"startlinecolor\": \"#2a3f5f\"}, \"type\": \"carpet\"}], \"choropleth\": [{\"colorbar\": {\"outlinewidth\": 0, \"ticks\": \"\"}, \"type\": \"choropleth\"}], \"contour\": [{\"colorbar\": {\"outlinewidth\": 0, \"ticks\": \"\"}, \"colorscale\": [[0.0, \"#0d0887\"], [0.1111111111111111, \"#46039f\"], [0.2222222222222222, \"#7201a8\"], [0.3333333333333333, \"#9c179e\"], [0.4444444444444444, \"#bd3786\"], [0.5555555555555556, \"#d8576b\"], [0.6666666666666666, \"#ed7953\"], [0.7777777777777778, \"#fb9f3a\"], [0.8888888888888888, \"#fdca26\"], [1.0, \"#f0f921\"]], \"type\": \"contour\"}], \"contourcarpet\": [{\"colorbar\": {\"outlinewidth\": 0, \"ticks\": \"\"}, \"type\": \"contourcarpet\"}], \"heatmap\": [{\"colorbar\": {\"outlinewidth\": 0, \"ticks\": \"\"}, \"colorscale\": [[0.0, \"#0d0887\"], [0.1111111111111111, \"#46039f\"], [0.2222222222222222, \"#7201a8\"], [0.3333333333333333, \"#9c179e\"], [0.4444444444444444, \"#bd3786\"], [0.5555555555555556, \"#d8576b\"], [0.6666666666666666, \"#ed7953\"], [0.7777777777777778, \"#fb9f3a\"], [0.8888888888888888, \"#fdca26\"], [1.0, \"#f0f921\"]], \"type\": \"heatmap\"}], \"heatmapgl\": [{\"colorbar\": {\"outlinewidth\": 0, \"ticks\": \"\"}, \"colorscale\": [[0.0, \"#0d0887\"], [0.1111111111111111, \"#46039f\"], [0.2222222222222222, \"#7201a8\"], [0.3333333333333333, \"#9c179e\"], [0.4444444444444444, \"#bd3786\"], [0.5555555555555556, \"#d8576b\"], [0.6666666666666666, \"#ed7953\"], [0.7777777777777778, \"#fb9f3a\"], [0.8888888888888888, \"#fdca26\"], [1.0, \"#f0f921\"]], \"type\": \"heatmapgl\"}], \"histogram\": [{\"marker\": {\"colorbar\": {\"outlinewidth\": 0, \"ticks\": \"\"}}, \"type\": \"histogram\"}], \"histogram2d\": [{\"colorbar\": {\"outlinewidth\": 0, \"ticks\": \"\"}, \"colorscale\": [[0.0, \"#0d0887\"], [0.1111111111111111, \"#46039f\"], [0.2222222222222222, \"#7201a8\"], [0.3333333333333333, \"#9c179e\"], [0.4444444444444444, \"#bd3786\"], [0.5555555555555556, \"#d8576b\"], [0.6666666666666666, \"#ed7953\"], [0.7777777777777778, \"#fb9f3a\"], [0.8888888888888888, \"#fdca26\"], [1.0, \"#f0f921\"]], \"type\": \"histogram2d\"}], \"histogram2dcontour\": [{\"colorbar\": {\"outlinewidth\": 0, \"ticks\": \"\"}, \"colorscale\": [[0.0, \"#0d0887\"], [0.1111111111111111, \"#46039f\"], [0.2222222222222222, \"#7201a8\"], [0.3333333333333333, \"#9c179e\"], [0.4444444444444444, \"#bd3786\"], [0.5555555555555556, \"#d8576b\"], [0.6666666666666666, \"#ed7953\"], [0.7777777777777778, \"#fb9f3a\"], [0.8888888888888888, \"#fdca26\"], [1.0, \"#f0f921\"]], \"type\": \"histogram2dcontour\"}], \"mesh3d\": [{\"colorbar\": {\"outlinewidth\": 0, \"ticks\": \"\"}, \"type\": \"mesh3d\"}], \"parcoords\": [{\"line\": {\"colorbar\": {\"outlinewidth\": 0, \"ticks\": \"\"}}, \"type\": \"parcoords\"}], \"pie\": [{\"automargin\": true, \"type\": \"pie\"}], \"scatter\": [{\"marker\": {\"colorbar\": {\"outlinewidth\": 0, \"ticks\": \"\"}}, \"type\": \"scatter\"}], \"scatter3d\": [{\"line\": {\"colorbar\": {\"outlinewidth\": 0, \"ticks\": \"\"}}, \"marker\": {\"colorbar\": {\"outlinewidth\": 0, \"ticks\": \"\"}}, \"type\": \"scatter3d\"}], \"scattercarpet\": [{\"marker\": {\"colorbar\": {\"outlinewidth\": 0, \"ticks\": \"\"}}, \"type\": \"scattercarpet\"}], \"scattergeo\": [{\"marker\": {\"colorbar\": {\"outlinewidth\": 0, \"ticks\": \"\"}}, \"type\": \"scattergeo\"}], \"scattergl\": [{\"marker\": {\"colorbar\": {\"outlinewidth\": 0, \"ticks\": \"\"}}, \"type\": \"scattergl\"}], \"scattermapbox\": [{\"marker\": {\"colorbar\": {\"outlinewidth\": 0, \"ticks\": \"\"}}, \"type\": \"scattermapbox\"}], \"scatterpolar\": [{\"marker\": {\"colorbar\": {\"outlinewidth\": 0, \"ticks\": \"\"}}, \"type\": \"scatterpolar\"}], \"scatterpolargl\": [{\"marker\": {\"colorbar\": {\"outlinewidth\": 0, \"ticks\": \"\"}}, \"type\": \"scatterpolargl\"}], \"scatterternary\": [{\"marker\": {\"colorbar\": {\"outlinewidth\": 0, \"ticks\": \"\"}}, \"type\": \"scatterternary\"}], \"surface\": [{\"colorbar\": {\"outlinewidth\": 0, \"ticks\": \"\"}, \"colorscale\": [[0.0, \"#0d0887\"], [0.1111111111111111, \"#46039f\"], [0.2222222222222222, \"#7201a8\"], [0.3333333333333333, \"#9c179e\"], [0.4444444444444444, \"#bd3786\"], [0.5555555555555556, \"#d8576b\"], [0.6666666666666666, \"#ed7953\"], [0.7777777777777778, \"#fb9f3a\"], [0.8888888888888888, \"#fdca26\"], [1.0, \"#f0f921\"]], \"type\": \"surface\"}], \"table\": [{\"cells\": {\"fill\": {\"color\": \"#EBF0F8\"}, \"line\": {\"color\": \"white\"}}, \"header\": {\"fill\": {\"color\": \"#C8D4E3\"}, \"line\": {\"color\": \"white\"}}, \"type\": \"table\"}]}, \"layout\": {\"annotationdefaults\": {\"arrowcolor\": \"#2a3f5f\", \"arrowhead\": 0, \"arrowwidth\": 1}, \"autotypenumbers\": \"strict\", \"coloraxis\": {\"colorbar\": {\"outlinewidth\": 0, \"ticks\": \"\"}}, \"colorscale\": {\"diverging\": [[0, \"#8e0152\"], [0.1, \"#c51b7d\"], [0.2, \"#de77ae\"], [0.3, \"#f1b6da\"], [0.4, \"#fde0ef\"], [0.5, \"#f7f7f7\"], [0.6, \"#e6f5d0\"], [0.7, \"#b8e186\"], [0.8, \"#7fbc41\"], [0.9, \"#4d9221\"], [1, \"#276419\"]], \"sequential\": [[0.0, \"#0d0887\"], [0.1111111111111111, \"#46039f\"], [0.2222222222222222, \"#7201a8\"], [0.3333333333333333, \"#9c179e\"], [0.4444444444444444, \"#bd3786\"], [0.5555555555555556, \"#d8576b\"], [0.6666666666666666, \"#ed7953\"], [0.7777777777777778, \"#fb9f3a\"], [0.8888888888888888, \"#fdca26\"], [1.0, \"#f0f921\"]], \"sequentialminus\": [[0.0, \"#0d0887\"], [0.1111111111111111, \"#46039f\"], [0.2222222222222222, \"#7201a8\"], [0.3333333333333333, \"#9c179e\"], [0.4444444444444444, \"#bd3786\"], [0.5555555555555556, \"#d8576b\"], [0.6666666666666666, \"#ed7953\"], [0.7777777777777778, \"#fb9f3a\"], [0.8888888888888888, \"#fdca26\"], [1.0, \"#f0f921\"]]}, \"colorway\": [\"#636efa\", \"#EF553B\", \"#00cc96\", \"#ab63fa\", \"#FFA15A\", \"#19d3f3\", \"#FF6692\", \"#B6E880\", \"#FF97FF\", \"#FECB52\"], \"font\": {\"color\": \"#2a3f5f\"}, \"geo\": {\"bgcolor\": \"white\", \"lakecolor\": \"white\", \"landcolor\": \"#E5ECF6\", \"showlakes\": true, \"showland\": true, \"subunitcolor\": \"white\"}, \"hoverlabel\": {\"align\": \"left\"}, \"hovermode\": \"closest\", \"mapbox\": {\"style\": \"light\"}, \"paper_bgcolor\": \"white\", \"plot_bgcolor\": \"#E5ECF6\", \"polar\": {\"angularaxis\": {\"gridcolor\": \"white\", \"linecolor\": \"white\", \"ticks\": \"\"}, \"bgcolor\": \"#E5ECF6\", \"radialaxis\": {\"gridcolor\": \"white\", \"linecolor\": \"white\", \"ticks\": \"\"}}, \"scene\": {\"xaxis\": {\"backgroundcolor\": \"#E5ECF6\", \"gridcolor\": \"white\", \"gridwidth\": 2, \"linecolor\": \"white\", \"showbackground\": true, \"ticks\": \"\", \"zerolinecolor\": \"white\"}, \"yaxis\": {\"backgroundcolor\": \"#E5ECF6\", \"gridcolor\": \"white\", \"gridwidth\": 2, \"linecolor\": \"white\", \"showbackground\": true, \"ticks\": \"\", \"zerolinecolor\": \"white\"}, \"zaxis\": {\"backgroundcolor\": \"#E5ECF6\", \"gridcolor\": \"white\", \"gridwidth\": 2, \"linecolor\": \"white\", \"showbackground\": true, \"ticks\": \"\", \"zerolinecolor\": \"white\"}}, \"shapedefaults\": {\"line\": {\"color\": \"#2a3f5f\"}}, \"ternary\": {\"aaxis\": {\"gridcolor\": \"white\", \"linecolor\": \"white\", \"ticks\": \"\"}, \"baxis\": {\"gridcolor\": \"white\", \"linecolor\": \"white\", \"ticks\": \"\"}, \"bgcolor\": \"#E5ECF6\", \"caxis\": {\"gridcolor\": \"white\", \"linecolor\": \"white\", \"ticks\": \"\"}}, \"title\": {\"x\": 0.05}, \"xaxis\": {\"automargin\": true, \"gridcolor\": \"white\", \"linecolor\": \"white\", \"ticks\": \"\", \"title\": {\"standoff\": 15}, \"zerolinecolor\": \"white\", \"zerolinewidth\": 2}, \"yaxis\": {\"automargin\": true, \"gridcolor\": \"white\", \"linecolor\": \"white\", \"ticks\": \"\", \"title\": {\"standoff\": 15}, \"zerolinecolor\": \"white\", \"zerolinewidth\": 2}}}, \"title\": {\"text\": \"<span style='font-size: 22px;'><b>Most active authors<b></span>\", \"x\": 0.5}, \"xaxis\": {\"title\": {\"text\": \"Authors\"}}, \"yaxis\": {\"range\": [0, 6.6000000000000005], \"title\": {\"text\": \"Number of Publications\"}}},                        {\"responsive\": true}                    ).then(function(){\n",
       "                            \n",
       "var gd = document.getElementById('7ab7501a-2a57-4f80-92a7-334ab909e0ad');\n",
       "var x = new MutationObserver(function (mutations, observer) {{\n",
       "        var display = window.getComputedStyle(gd).display;\n",
       "        if (!display || display === 'none') {{\n",
       "            console.log([gd, 'removed!']);\n",
       "            Plotly.purge(gd);\n",
       "            observer.disconnect();\n",
       "        }}\n",
       "}});\n",
       "\n",
       "// Listen for the removal of the full notebook cells\n",
       "var notebookContainer = gd.closest('#notebook-container');\n",
       "if (notebookContainer) {{\n",
       "    x.observe(notebookContainer, {childList: true});\n",
       "}}\n",
       "\n",
       "// Listen for the clearing of the current output cell\n",
       "var outputEl = gd.closest('.output');\n",
       "if (outputEl) {{\n",
       "    x.observe(outputEl, {childList: true});\n",
       "}}\n",
       "\n",
       "                        })                };                });            </script>        </div>"
      ]
     },
     "metadata": {},
     "output_type": "display_data"
    }
   ],
   "source": [
    "make_active_authors(results_df)"
   ]
  },
  {
   "cell_type": "markdown",
   "id": "246e9f7c",
   "metadata": {
    "heading_collapsed": true,
    "hidden": true
   },
   "source": [
    "#### Line charts"
   ]
  },
  {
   "cell_type": "code",
   "execution_count": 42,
   "id": "0bb89078",
   "metadata": {
    "hidden": true
   },
   "outputs": [
    {
     "data": {
      "application/vnd.plotly.v1+json": {
       "config": {
        "plotlyServerURL": "https://plot.ly"
       },
       "data": [
        {
         "hovertemplate": "x=%{x}<br>y=%{y}<extra></extra>",
         "legendgroup": "",
         "line": {
          "color": "#636efa",
          "dash": "solid"
         },
         "marker": {
          "color": "#eda109"
         },
         "mode": "lines",
         "name": "",
         "orientation": "v",
         "showlegend": false,
         "type": "scatter",
         "x": [
          2011,
          2013,
          2014,
          2015,
          2016,
          2017,
          2018,
          2019,
          2020,
          2021
         ],
         "xaxis": "x",
         "y": [
          1,
          2,
          1,
          1,
          6,
          4,
          8,
          2,
          4,
          1
         ],
         "yaxis": "y"
        }
       ],
       "layout": {
        "font": {
         "color": "white",
         "family": "Courier New, monospace",
         "size": 12
        },
        "legend": {
         "tracegroupgap": 0
        },
        "paper_bgcolor": "#101126",
        "plot_bgcolor": "#101126",
        "template": {
         "data": {
          "bar": [
           {
            "error_x": {
             "color": "#2a3f5f"
            },
            "error_y": {
             "color": "#2a3f5f"
            },
            "marker": {
             "line": {
              "color": "#E5ECF6",
              "width": 0.5
             }
            },
            "type": "bar"
           }
          ],
          "barpolar": [
           {
            "marker": {
             "line": {
              "color": "#E5ECF6",
              "width": 0.5
             }
            },
            "type": "barpolar"
           }
          ],
          "carpet": [
           {
            "aaxis": {
             "endlinecolor": "#2a3f5f",
             "gridcolor": "white",
             "linecolor": "white",
             "minorgridcolor": "white",
             "startlinecolor": "#2a3f5f"
            },
            "baxis": {
             "endlinecolor": "#2a3f5f",
             "gridcolor": "white",
             "linecolor": "white",
             "minorgridcolor": "white",
             "startlinecolor": "#2a3f5f"
            },
            "type": "carpet"
           }
          ],
          "choropleth": [
           {
            "colorbar": {
             "outlinewidth": 0,
             "ticks": ""
            },
            "type": "choropleth"
           }
          ],
          "contour": [
           {
            "colorbar": {
             "outlinewidth": 0,
             "ticks": ""
            },
            "colorscale": [
             [
              0,
              "#0d0887"
             ],
             [
              0.1111111111111111,
              "#46039f"
             ],
             [
              0.2222222222222222,
              "#7201a8"
             ],
             [
              0.3333333333333333,
              "#9c179e"
             ],
             [
              0.4444444444444444,
              "#bd3786"
             ],
             [
              0.5555555555555556,
              "#d8576b"
             ],
             [
              0.6666666666666666,
              "#ed7953"
             ],
             [
              0.7777777777777778,
              "#fb9f3a"
             ],
             [
              0.8888888888888888,
              "#fdca26"
             ],
             [
              1,
              "#f0f921"
             ]
            ],
            "type": "contour"
           }
          ],
          "contourcarpet": [
           {
            "colorbar": {
             "outlinewidth": 0,
             "ticks": ""
            },
            "type": "contourcarpet"
           }
          ],
          "heatmap": [
           {
            "colorbar": {
             "outlinewidth": 0,
             "ticks": ""
            },
            "colorscale": [
             [
              0,
              "#0d0887"
             ],
             [
              0.1111111111111111,
              "#46039f"
             ],
             [
              0.2222222222222222,
              "#7201a8"
             ],
             [
              0.3333333333333333,
              "#9c179e"
             ],
             [
              0.4444444444444444,
              "#bd3786"
             ],
             [
              0.5555555555555556,
              "#d8576b"
             ],
             [
              0.6666666666666666,
              "#ed7953"
             ],
             [
              0.7777777777777778,
              "#fb9f3a"
             ],
             [
              0.8888888888888888,
              "#fdca26"
             ],
             [
              1,
              "#f0f921"
             ]
            ],
            "type": "heatmap"
           }
          ],
          "heatmapgl": [
           {
            "colorbar": {
             "outlinewidth": 0,
             "ticks": ""
            },
            "colorscale": [
             [
              0,
              "#0d0887"
             ],
             [
              0.1111111111111111,
              "#46039f"
             ],
             [
              0.2222222222222222,
              "#7201a8"
             ],
             [
              0.3333333333333333,
              "#9c179e"
             ],
             [
              0.4444444444444444,
              "#bd3786"
             ],
             [
              0.5555555555555556,
              "#d8576b"
             ],
             [
              0.6666666666666666,
              "#ed7953"
             ],
             [
              0.7777777777777778,
              "#fb9f3a"
             ],
             [
              0.8888888888888888,
              "#fdca26"
             ],
             [
              1,
              "#f0f921"
             ]
            ],
            "type": "heatmapgl"
           }
          ],
          "histogram": [
           {
            "marker": {
             "colorbar": {
              "outlinewidth": 0,
              "ticks": ""
             }
            },
            "type": "histogram"
           }
          ],
          "histogram2d": [
           {
            "colorbar": {
             "outlinewidth": 0,
             "ticks": ""
            },
            "colorscale": [
             [
              0,
              "#0d0887"
             ],
             [
              0.1111111111111111,
              "#46039f"
             ],
             [
              0.2222222222222222,
              "#7201a8"
             ],
             [
              0.3333333333333333,
              "#9c179e"
             ],
             [
              0.4444444444444444,
              "#bd3786"
             ],
             [
              0.5555555555555556,
              "#d8576b"
             ],
             [
              0.6666666666666666,
              "#ed7953"
             ],
             [
              0.7777777777777778,
              "#fb9f3a"
             ],
             [
              0.8888888888888888,
              "#fdca26"
             ],
             [
              1,
              "#f0f921"
             ]
            ],
            "type": "histogram2d"
           }
          ],
          "histogram2dcontour": [
           {
            "colorbar": {
             "outlinewidth": 0,
             "ticks": ""
            },
            "colorscale": [
             [
              0,
              "#0d0887"
             ],
             [
              0.1111111111111111,
              "#46039f"
             ],
             [
              0.2222222222222222,
              "#7201a8"
             ],
             [
              0.3333333333333333,
              "#9c179e"
             ],
             [
              0.4444444444444444,
              "#bd3786"
             ],
             [
              0.5555555555555556,
              "#d8576b"
             ],
             [
              0.6666666666666666,
              "#ed7953"
             ],
             [
              0.7777777777777778,
              "#fb9f3a"
             ],
             [
              0.8888888888888888,
              "#fdca26"
             ],
             [
              1,
              "#f0f921"
             ]
            ],
            "type": "histogram2dcontour"
           }
          ],
          "mesh3d": [
           {
            "colorbar": {
             "outlinewidth": 0,
             "ticks": ""
            },
            "type": "mesh3d"
           }
          ],
          "parcoords": [
           {
            "line": {
             "colorbar": {
              "outlinewidth": 0,
              "ticks": ""
             }
            },
            "type": "parcoords"
           }
          ],
          "pie": [
           {
            "automargin": true,
            "type": "pie"
           }
          ],
          "scatter": [
           {
            "marker": {
             "colorbar": {
              "outlinewidth": 0,
              "ticks": ""
             }
            },
            "type": "scatter"
           }
          ],
          "scatter3d": [
           {
            "line": {
             "colorbar": {
              "outlinewidth": 0,
              "ticks": ""
             }
            },
            "marker": {
             "colorbar": {
              "outlinewidth": 0,
              "ticks": ""
             }
            },
            "type": "scatter3d"
           }
          ],
          "scattercarpet": [
           {
            "marker": {
             "colorbar": {
              "outlinewidth": 0,
              "ticks": ""
             }
            },
            "type": "scattercarpet"
           }
          ],
          "scattergeo": [
           {
            "marker": {
             "colorbar": {
              "outlinewidth": 0,
              "ticks": ""
             }
            },
            "type": "scattergeo"
           }
          ],
          "scattergl": [
           {
            "marker": {
             "colorbar": {
              "outlinewidth": 0,
              "ticks": ""
             }
            },
            "type": "scattergl"
           }
          ],
          "scattermapbox": [
           {
            "marker": {
             "colorbar": {
              "outlinewidth": 0,
              "ticks": ""
             }
            },
            "type": "scattermapbox"
           }
          ],
          "scatterpolar": [
           {
            "marker": {
             "colorbar": {
              "outlinewidth": 0,
              "ticks": ""
             }
            },
            "type": "scatterpolar"
           }
          ],
          "scatterpolargl": [
           {
            "marker": {
             "colorbar": {
              "outlinewidth": 0,
              "ticks": ""
             }
            },
            "type": "scatterpolargl"
           }
          ],
          "scatterternary": [
           {
            "marker": {
             "colorbar": {
              "outlinewidth": 0,
              "ticks": ""
             }
            },
            "type": "scatterternary"
           }
          ],
          "surface": [
           {
            "colorbar": {
             "outlinewidth": 0,
             "ticks": ""
            },
            "colorscale": [
             [
              0,
              "#0d0887"
             ],
             [
              0.1111111111111111,
              "#46039f"
             ],
             [
              0.2222222222222222,
              "#7201a8"
             ],
             [
              0.3333333333333333,
              "#9c179e"
             ],
             [
              0.4444444444444444,
              "#bd3786"
             ],
             [
              0.5555555555555556,
              "#d8576b"
             ],
             [
              0.6666666666666666,
              "#ed7953"
             ],
             [
              0.7777777777777778,
              "#fb9f3a"
             ],
             [
              0.8888888888888888,
              "#fdca26"
             ],
             [
              1,
              "#f0f921"
             ]
            ],
            "type": "surface"
           }
          ],
          "table": [
           {
            "cells": {
             "fill": {
              "color": "#EBF0F8"
             },
             "line": {
              "color": "white"
             }
            },
            "header": {
             "fill": {
              "color": "#C8D4E3"
             },
             "line": {
              "color": "white"
             }
            },
            "type": "table"
           }
          ]
         },
         "layout": {
          "annotationdefaults": {
           "arrowcolor": "#2a3f5f",
           "arrowhead": 0,
           "arrowwidth": 1
          },
          "autotypenumbers": "strict",
          "coloraxis": {
           "colorbar": {
            "outlinewidth": 0,
            "ticks": ""
           }
          },
          "colorscale": {
           "diverging": [
            [
             0,
             "#8e0152"
            ],
            [
             0.1,
             "#c51b7d"
            ],
            [
             0.2,
             "#de77ae"
            ],
            [
             0.3,
             "#f1b6da"
            ],
            [
             0.4,
             "#fde0ef"
            ],
            [
             0.5,
             "#f7f7f7"
            ],
            [
             0.6,
             "#e6f5d0"
            ],
            [
             0.7,
             "#b8e186"
            ],
            [
             0.8,
             "#7fbc41"
            ],
            [
             0.9,
             "#4d9221"
            ],
            [
             1,
             "#276419"
            ]
           ],
           "sequential": [
            [
             0,
             "#0d0887"
            ],
            [
             0.1111111111111111,
             "#46039f"
            ],
            [
             0.2222222222222222,
             "#7201a8"
            ],
            [
             0.3333333333333333,
             "#9c179e"
            ],
            [
             0.4444444444444444,
             "#bd3786"
            ],
            [
             0.5555555555555556,
             "#d8576b"
            ],
            [
             0.6666666666666666,
             "#ed7953"
            ],
            [
             0.7777777777777778,
             "#fb9f3a"
            ],
            [
             0.8888888888888888,
             "#fdca26"
            ],
            [
             1,
             "#f0f921"
            ]
           ],
           "sequentialminus": [
            [
             0,
             "#0d0887"
            ],
            [
             0.1111111111111111,
             "#46039f"
            ],
            [
             0.2222222222222222,
             "#7201a8"
            ],
            [
             0.3333333333333333,
             "#9c179e"
            ],
            [
             0.4444444444444444,
             "#bd3786"
            ],
            [
             0.5555555555555556,
             "#d8576b"
            ],
            [
             0.6666666666666666,
             "#ed7953"
            ],
            [
             0.7777777777777778,
             "#fb9f3a"
            ],
            [
             0.8888888888888888,
             "#fdca26"
            ],
            [
             1,
             "#f0f921"
            ]
           ]
          },
          "colorway": [
           "#636efa",
           "#EF553B",
           "#00cc96",
           "#ab63fa",
           "#FFA15A",
           "#19d3f3",
           "#FF6692",
           "#B6E880",
           "#FF97FF",
           "#FECB52"
          ],
          "font": {
           "color": "#2a3f5f"
          },
          "geo": {
           "bgcolor": "white",
           "lakecolor": "white",
           "landcolor": "#E5ECF6",
           "showlakes": true,
           "showland": true,
           "subunitcolor": "white"
          },
          "hoverlabel": {
           "align": "left"
          },
          "hovermode": "closest",
          "mapbox": {
           "style": "light"
          },
          "paper_bgcolor": "white",
          "plot_bgcolor": "#E5ECF6",
          "polar": {
           "angularaxis": {
            "gridcolor": "white",
            "linecolor": "white",
            "ticks": ""
           },
           "bgcolor": "#E5ECF6",
           "radialaxis": {
            "gridcolor": "white",
            "linecolor": "white",
            "ticks": ""
           }
          },
          "scene": {
           "xaxis": {
            "backgroundcolor": "#E5ECF6",
            "gridcolor": "white",
            "gridwidth": 2,
            "linecolor": "white",
            "showbackground": true,
            "ticks": "",
            "zerolinecolor": "white"
           },
           "yaxis": {
            "backgroundcolor": "#E5ECF6",
            "gridcolor": "white",
            "gridwidth": 2,
            "linecolor": "white",
            "showbackground": true,
            "ticks": "",
            "zerolinecolor": "white"
           },
           "zaxis": {
            "backgroundcolor": "#E5ECF6",
            "gridcolor": "white",
            "gridwidth": 2,
            "linecolor": "white",
            "showbackground": true,
            "ticks": "",
            "zerolinecolor": "white"
           }
          },
          "shapedefaults": {
           "line": {
            "color": "#2a3f5f"
           }
          },
          "ternary": {
           "aaxis": {
            "gridcolor": "white",
            "linecolor": "white",
            "ticks": ""
           },
           "baxis": {
            "gridcolor": "white",
            "linecolor": "white",
            "ticks": ""
           },
           "bgcolor": "#E5ECF6",
           "caxis": {
            "gridcolor": "white",
            "linecolor": "white",
            "ticks": ""
           }
          },
          "title": {
           "x": 0.05
          },
          "xaxis": {
           "automargin": true,
           "gridcolor": "white",
           "linecolor": "white",
           "ticks": "",
           "title": {
            "standoff": 15
           },
           "zerolinecolor": "white",
           "zerolinewidth": 2
          },
          "yaxis": {
           "automargin": true,
           "gridcolor": "white",
           "linecolor": "white",
           "ticks": "",
           "title": {
            "standoff": 15
           },
           "zerolinecolor": "white",
           "zerolinewidth": 2
          }
         }
        },
        "title": {
         "text": "<span style='font-size: 22px;'><b>Publications per Year<b></span>",
         "x": 0.5
        },
        "xaxis": {
         "anchor": "y",
         "domain": [
          0,
          1
         ],
         "range": [
          2006,
          2027
         ],
         "title": {
          "text": "Year"
         }
        },
        "yaxis": {
         "anchor": "x",
         "domain": [
          0,
          1
         ],
         "range": [
          0,
          8.8
         ],
         "title": {
          "text": "Number of Publications"
         }
        }
       }
      },
      "text/html": [
       "<div>                            <div id=\"c41fc286-accb-4c65-ba2d-cea2d2a3e118\" class=\"plotly-graph-div\" style=\"height:525px; width:100%;\"></div>            <script type=\"text/javascript\">                require([\"plotly\"], function(Plotly) {                    window.PLOTLYENV=window.PLOTLYENV || {};                                    if (document.getElementById(\"c41fc286-accb-4c65-ba2d-cea2d2a3e118\")) {                    Plotly.newPlot(                        \"c41fc286-accb-4c65-ba2d-cea2d2a3e118\",                        [{\"hovertemplate\": \"x=%{x}<br>y=%{y}<extra></extra>\", \"legendgroup\": \"\", \"line\": {\"color\": \"#636efa\", \"dash\": \"solid\"}, \"marker\": {\"color\": \"#eda109\"}, \"mode\": \"lines\", \"name\": \"\", \"orientation\": \"v\", \"showlegend\": false, \"type\": \"scatter\", \"x\": [2011, 2013, 2014, 2015, 2016, 2017, 2018, 2019, 2020, 2021], \"xaxis\": \"x\", \"y\": [1, 2, 1, 1, 6, 4, 8, 2, 4, 1], \"yaxis\": \"y\"}],                        {\"font\": {\"color\": \"white\", \"family\": \"Courier New, monospace\", \"size\": 12}, \"legend\": {\"tracegroupgap\": 0}, \"paper_bgcolor\": \"#101126\", \"plot_bgcolor\": \"#101126\", \"template\": {\"data\": {\"bar\": [{\"error_x\": {\"color\": \"#2a3f5f\"}, \"error_y\": {\"color\": \"#2a3f5f\"}, \"marker\": {\"line\": {\"color\": \"#E5ECF6\", \"width\": 0.5}}, \"type\": \"bar\"}], \"barpolar\": [{\"marker\": {\"line\": {\"color\": \"#E5ECF6\", \"width\": 0.5}}, \"type\": \"barpolar\"}], \"carpet\": [{\"aaxis\": {\"endlinecolor\": \"#2a3f5f\", \"gridcolor\": \"white\", \"linecolor\": \"white\", \"minorgridcolor\": \"white\", \"startlinecolor\": \"#2a3f5f\"}, \"baxis\": {\"endlinecolor\": \"#2a3f5f\", \"gridcolor\": \"white\", \"linecolor\": \"white\", \"minorgridcolor\": \"white\", \"startlinecolor\": \"#2a3f5f\"}, \"type\": \"carpet\"}], \"choropleth\": [{\"colorbar\": {\"outlinewidth\": 0, \"ticks\": \"\"}, \"type\": \"choropleth\"}], \"contour\": [{\"colorbar\": {\"outlinewidth\": 0, \"ticks\": \"\"}, \"colorscale\": [[0.0, \"#0d0887\"], [0.1111111111111111, \"#46039f\"], [0.2222222222222222, \"#7201a8\"], [0.3333333333333333, \"#9c179e\"], [0.4444444444444444, \"#bd3786\"], [0.5555555555555556, \"#d8576b\"], [0.6666666666666666, \"#ed7953\"], [0.7777777777777778, \"#fb9f3a\"], [0.8888888888888888, \"#fdca26\"], [1.0, \"#f0f921\"]], \"type\": \"contour\"}], \"contourcarpet\": [{\"colorbar\": {\"outlinewidth\": 0, \"ticks\": \"\"}, \"type\": \"contourcarpet\"}], \"heatmap\": [{\"colorbar\": {\"outlinewidth\": 0, \"ticks\": \"\"}, \"colorscale\": [[0.0, \"#0d0887\"], [0.1111111111111111, \"#46039f\"], [0.2222222222222222, \"#7201a8\"], [0.3333333333333333, \"#9c179e\"], [0.4444444444444444, \"#bd3786\"], [0.5555555555555556, \"#d8576b\"], [0.6666666666666666, \"#ed7953\"], [0.7777777777777778, \"#fb9f3a\"], [0.8888888888888888, \"#fdca26\"], [1.0, \"#f0f921\"]], \"type\": \"heatmap\"}], \"heatmapgl\": [{\"colorbar\": {\"outlinewidth\": 0, \"ticks\": \"\"}, \"colorscale\": [[0.0, \"#0d0887\"], [0.1111111111111111, \"#46039f\"], [0.2222222222222222, \"#7201a8\"], [0.3333333333333333, \"#9c179e\"], [0.4444444444444444, \"#bd3786\"], [0.5555555555555556, \"#d8576b\"], [0.6666666666666666, \"#ed7953\"], [0.7777777777777778, \"#fb9f3a\"], [0.8888888888888888, \"#fdca26\"], [1.0, \"#f0f921\"]], \"type\": \"heatmapgl\"}], \"histogram\": [{\"marker\": {\"colorbar\": {\"outlinewidth\": 0, \"ticks\": \"\"}}, \"type\": \"histogram\"}], \"histogram2d\": [{\"colorbar\": {\"outlinewidth\": 0, \"ticks\": \"\"}, \"colorscale\": [[0.0, \"#0d0887\"], [0.1111111111111111, \"#46039f\"], [0.2222222222222222, \"#7201a8\"], [0.3333333333333333, \"#9c179e\"], [0.4444444444444444, \"#bd3786\"], [0.5555555555555556, \"#d8576b\"], [0.6666666666666666, \"#ed7953\"], [0.7777777777777778, \"#fb9f3a\"], [0.8888888888888888, \"#fdca26\"], [1.0, \"#f0f921\"]], \"type\": \"histogram2d\"}], \"histogram2dcontour\": [{\"colorbar\": {\"outlinewidth\": 0, \"ticks\": \"\"}, \"colorscale\": [[0.0, \"#0d0887\"], [0.1111111111111111, \"#46039f\"], [0.2222222222222222, \"#7201a8\"], [0.3333333333333333, \"#9c179e\"], [0.4444444444444444, \"#bd3786\"], [0.5555555555555556, \"#d8576b\"], [0.6666666666666666, \"#ed7953\"], [0.7777777777777778, \"#fb9f3a\"], [0.8888888888888888, \"#fdca26\"], [1.0, \"#f0f921\"]], \"type\": \"histogram2dcontour\"}], \"mesh3d\": [{\"colorbar\": {\"outlinewidth\": 0, \"ticks\": \"\"}, \"type\": \"mesh3d\"}], \"parcoords\": [{\"line\": {\"colorbar\": {\"outlinewidth\": 0, \"ticks\": \"\"}}, \"type\": \"parcoords\"}], \"pie\": [{\"automargin\": true, \"type\": \"pie\"}], \"scatter\": [{\"marker\": {\"colorbar\": {\"outlinewidth\": 0, \"ticks\": \"\"}}, \"type\": \"scatter\"}], \"scatter3d\": [{\"line\": {\"colorbar\": {\"outlinewidth\": 0, \"ticks\": \"\"}}, \"marker\": {\"colorbar\": {\"outlinewidth\": 0, \"ticks\": \"\"}}, \"type\": \"scatter3d\"}], \"scattercarpet\": [{\"marker\": {\"colorbar\": {\"outlinewidth\": 0, \"ticks\": \"\"}}, \"type\": \"scattercarpet\"}], \"scattergeo\": [{\"marker\": {\"colorbar\": {\"outlinewidth\": 0, \"ticks\": \"\"}}, \"type\": \"scattergeo\"}], \"scattergl\": [{\"marker\": {\"colorbar\": {\"outlinewidth\": 0, \"ticks\": \"\"}}, \"type\": \"scattergl\"}], \"scattermapbox\": [{\"marker\": {\"colorbar\": {\"outlinewidth\": 0, \"ticks\": \"\"}}, \"type\": \"scattermapbox\"}], \"scatterpolar\": [{\"marker\": {\"colorbar\": {\"outlinewidth\": 0, \"ticks\": \"\"}}, \"type\": \"scatterpolar\"}], \"scatterpolargl\": [{\"marker\": {\"colorbar\": {\"outlinewidth\": 0, \"ticks\": \"\"}}, \"type\": \"scatterpolargl\"}], \"scatterternary\": [{\"marker\": {\"colorbar\": {\"outlinewidth\": 0, \"ticks\": \"\"}}, \"type\": \"scatterternary\"}], \"surface\": [{\"colorbar\": {\"outlinewidth\": 0, \"ticks\": \"\"}, \"colorscale\": [[0.0, \"#0d0887\"], [0.1111111111111111, \"#46039f\"], [0.2222222222222222, \"#7201a8\"], [0.3333333333333333, \"#9c179e\"], [0.4444444444444444, \"#bd3786\"], [0.5555555555555556, \"#d8576b\"], [0.6666666666666666, \"#ed7953\"], [0.7777777777777778, \"#fb9f3a\"], [0.8888888888888888, \"#fdca26\"], [1.0, \"#f0f921\"]], \"type\": \"surface\"}], \"table\": [{\"cells\": {\"fill\": {\"color\": \"#EBF0F8\"}, \"line\": {\"color\": \"white\"}}, \"header\": {\"fill\": {\"color\": \"#C8D4E3\"}, \"line\": {\"color\": \"white\"}}, \"type\": \"table\"}]}, \"layout\": {\"annotationdefaults\": {\"arrowcolor\": \"#2a3f5f\", \"arrowhead\": 0, \"arrowwidth\": 1}, \"autotypenumbers\": \"strict\", \"coloraxis\": {\"colorbar\": {\"outlinewidth\": 0, \"ticks\": \"\"}}, \"colorscale\": {\"diverging\": [[0, \"#8e0152\"], [0.1, \"#c51b7d\"], [0.2, \"#de77ae\"], [0.3, \"#f1b6da\"], [0.4, \"#fde0ef\"], [0.5, \"#f7f7f7\"], [0.6, \"#e6f5d0\"], [0.7, \"#b8e186\"], [0.8, \"#7fbc41\"], [0.9, \"#4d9221\"], [1, \"#276419\"]], \"sequential\": [[0.0, \"#0d0887\"], [0.1111111111111111, \"#46039f\"], [0.2222222222222222, \"#7201a8\"], [0.3333333333333333, \"#9c179e\"], [0.4444444444444444, \"#bd3786\"], [0.5555555555555556, \"#d8576b\"], [0.6666666666666666, \"#ed7953\"], [0.7777777777777778, \"#fb9f3a\"], [0.8888888888888888, \"#fdca26\"], [1.0, \"#f0f921\"]], \"sequentialminus\": [[0.0, \"#0d0887\"], [0.1111111111111111, \"#46039f\"], [0.2222222222222222, \"#7201a8\"], [0.3333333333333333, \"#9c179e\"], [0.4444444444444444, \"#bd3786\"], [0.5555555555555556, \"#d8576b\"], [0.6666666666666666, \"#ed7953\"], [0.7777777777777778, \"#fb9f3a\"], [0.8888888888888888, \"#fdca26\"], [1.0, \"#f0f921\"]]}, \"colorway\": [\"#636efa\", \"#EF553B\", \"#00cc96\", \"#ab63fa\", \"#FFA15A\", \"#19d3f3\", \"#FF6692\", \"#B6E880\", \"#FF97FF\", \"#FECB52\"], \"font\": {\"color\": \"#2a3f5f\"}, \"geo\": {\"bgcolor\": \"white\", \"lakecolor\": \"white\", \"landcolor\": \"#E5ECF6\", \"showlakes\": true, \"showland\": true, \"subunitcolor\": \"white\"}, \"hoverlabel\": {\"align\": \"left\"}, \"hovermode\": \"closest\", \"mapbox\": {\"style\": \"light\"}, \"paper_bgcolor\": \"white\", \"plot_bgcolor\": \"#E5ECF6\", \"polar\": {\"angularaxis\": {\"gridcolor\": \"white\", \"linecolor\": \"white\", \"ticks\": \"\"}, \"bgcolor\": \"#E5ECF6\", \"radialaxis\": {\"gridcolor\": \"white\", \"linecolor\": \"white\", \"ticks\": \"\"}}, \"scene\": {\"xaxis\": {\"backgroundcolor\": \"#E5ECF6\", \"gridcolor\": \"white\", \"gridwidth\": 2, \"linecolor\": \"white\", \"showbackground\": true, \"ticks\": \"\", \"zerolinecolor\": \"white\"}, \"yaxis\": {\"backgroundcolor\": \"#E5ECF6\", \"gridcolor\": \"white\", \"gridwidth\": 2, \"linecolor\": \"white\", \"showbackground\": true, \"ticks\": \"\", \"zerolinecolor\": \"white\"}, \"zaxis\": {\"backgroundcolor\": \"#E5ECF6\", \"gridcolor\": \"white\", \"gridwidth\": 2, \"linecolor\": \"white\", \"showbackground\": true, \"ticks\": \"\", \"zerolinecolor\": \"white\"}}, \"shapedefaults\": {\"line\": {\"color\": \"#2a3f5f\"}}, \"ternary\": {\"aaxis\": {\"gridcolor\": \"white\", \"linecolor\": \"white\", \"ticks\": \"\"}, \"baxis\": {\"gridcolor\": \"white\", \"linecolor\": \"white\", \"ticks\": \"\"}, \"bgcolor\": \"#E5ECF6\", \"caxis\": {\"gridcolor\": \"white\", \"linecolor\": \"white\", \"ticks\": \"\"}}, \"title\": {\"x\": 0.05}, \"xaxis\": {\"automargin\": true, \"gridcolor\": \"white\", \"linecolor\": \"white\", \"ticks\": \"\", \"title\": {\"standoff\": 15}, \"zerolinecolor\": \"white\", \"zerolinewidth\": 2}, \"yaxis\": {\"automargin\": true, \"gridcolor\": \"white\", \"linecolor\": \"white\", \"ticks\": \"\", \"title\": {\"standoff\": 15}, \"zerolinecolor\": \"white\", \"zerolinewidth\": 2}}}, \"title\": {\"text\": \"<span style='font-size: 22px;'><b>Publications per Year<b></span>\", \"x\": 0.5}, \"xaxis\": {\"anchor\": \"y\", \"domain\": [0.0, 1.0], \"range\": [2006, 2027], \"title\": {\"text\": \"Year\"}}, \"yaxis\": {\"anchor\": \"x\", \"domain\": [0.0, 1.0], \"range\": [0, 8.8], \"title\": {\"text\": \"Number of Publications\"}}},                        {\"responsive\": true}                    ).then(function(){\n",
       "                            \n",
       "var gd = document.getElementById('c41fc286-accb-4c65-ba2d-cea2d2a3e118');\n",
       "var x = new MutationObserver(function (mutations, observer) {{\n",
       "        var display = window.getComputedStyle(gd).display;\n",
       "        if (!display || display === 'none') {{\n",
       "            console.log([gd, 'removed!']);\n",
       "            Plotly.purge(gd);\n",
       "            observer.disconnect();\n",
       "        }}\n",
       "}});\n",
       "\n",
       "// Listen for the removal of the full notebook cells\n",
       "var notebookContainer = gd.closest('#notebook-container');\n",
       "if (notebookContainer) {{\n",
       "    x.observe(notebookContainer, {childList: true});\n",
       "}}\n",
       "\n",
       "// Listen for the clearing of the current output cell\n",
       "var outputEl = gd.closest('.output');\n",
       "if (outputEl) {{\n",
       "    x.observe(outputEl, {childList: true});\n",
       "}}\n",
       "\n",
       "                        })                };                });            </script>        </div>"
      ]
     },
     "metadata": {},
     "output_type": "display_data"
    }
   ],
   "source": [
    "#results_df.groupby('year').count()['citationCount']\n",
    "fig = px.line(results_df, x=results_df.groupby('year').count()['citationCount'].index,\n",
    "              y=results_df.groupby('year').count()['citationCount'], title='Publications per year')\n",
    "fig.update_layout(title = \"<span style='font-size: 22px;'><b>Publications per Year<b></span>\", title_x=0.5,\n",
    "                    font=dict(\n",
    "                              family=\"Courier New, monospace\",\n",
    "                              size=12,\n",
    "                              color=\"white\"\n",
    "    ),\n",
    "    paper_bgcolor = \"#101126\",\n",
    "    plot_bgcolor = \"#101126\")\n",
    "  \n",
    "fig.update_traces(marker_color='#eda109')\n",
    "fig.update_xaxes(title=\"Year\", range= [results_df.year.min() - 5, date.today().year + 5])\n",
    "fig.update_yaxes(title=\"Number of Publications\", range= [0, 1.1* results_df.groupby('year').count()['citationCount'].max()])\n",
    "fig.show()"
   ]
  },
  {
   "cell_type": "markdown",
   "id": "05ea31d6",
   "metadata": {},
   "source": [
    "### Network plots"
   ]
  },
  {
   "cell_type": "code",
   "execution_count": 54,
   "id": "93e27311",
   "metadata": {},
   "outputs": [],
   "source": [
    "def generate_collab_network_df(df):\n",
    "    authors_list_of_list = []\n",
    "    ids_list_of_list = []\n",
    "    for index, row in df.iterrows():\n",
    "        authors_list = []\n",
    "        ids_list = []\n",
    "        for dict_ in row.authors:\n",
    "            authors_list.append(dict_['name'])\n",
    "            ids_list.append(dict_['authorId'])\n",
    "        authors_list_of_list.append(authors_list)\n",
    "        ids_list_of_list.append(ids_list)\n",
    "    authors_combinations = []\n",
    "    ids_combinations = []\n",
    "    for authors in authors_list_of_list:\n",
    "        res = [(a, b) for idx, a in enumerate(authors) for b in authors[idx + 1:]]\n",
    "        authors_combinations.append(res)\n",
    "    for ids in ids_list_of_list:\n",
    "        rex = [(a, b) for idx, a in enumerate(ids) for b in ids[idx + 1:]]\n",
    "        ids_combinations.append(rex)\n",
    "    flat_authors_combinations = utils.flatten_list(authors_combinations)\n",
    "    flat_ids_combinations = utils.flatten_list(ids_combinations)\n",
    "    most_common_collab = Counter(flat_authors_combinations).most_common(50)\n",
    "    most_common_collab_ids = Counter(flat_ids_combinations).most_common(50)\n",
    "    unpacked_most_collab = [(a, b, c) for (a, b ), c in most_common_collab]\n",
    "    unpacked_most_collab_ids = [(a, b, c) for (a, b ), c in most_common_collab_ids]\n",
    "    #print(unpacked_most_collab_ids)\n",
    "    nx_df = pd.DataFrame(unpacked_most_collab, columns=['author1', 'author2', 'weight'])\n",
    "    nx_id_df = pd.DataFrame(unpacked_most_collab_ids, columns=['id1', 'id2', 'weight1'])\n",
    "    collabs_df = pd.concat([nx_df, nx_id_df], axis=1)\n",
    "    collabs_df['author1'] = list(zip(collabs_df.author1, collabs_df.id1))\n",
    "    collabs_df['author2'] = list(zip(collabs_df.author2, collabs_df.id2))\n",
    "    collabs_df.drop(['id1', 'id2', 'weight1'], axis = 1, inplace = True)\n",
    "    return collabs_df"
   ]
  },
  {
   "cell_type": "code",
   "execution_count": 63,
   "id": "cd79fb9e",
   "metadata": {},
   "outputs": [],
   "source": [
    "def generate_graph_elements_collab(df):\n",
    "    nx_df = generate_collab_network_df(df)\n",
    "    unique_top_authors = list(set(nx_df.author1.unique().tolist() + nx_df.author2.unique().tolist()))\n",
    "    nodes_list = [{'data': {'id': unique_top_authors[0][1], 'label': unique_top_authors[0][0]}, 'classes': 'author'}]\n",
    "    for element in unique_top_authors[1:]:\n",
    "        nodes_list.append({'data': {'id': element[1], 'label': element[0]}, 'classes': 'author'})\n",
    "    edges_list = [{'data': {'source': nx_df['author1'][0][1], 'target': nx_df['author2'][0][1]}, 'classes': 'collaboration'}]\n",
    "    for index, row in nx_df.iterrows():\n",
    "        edges_list.append({'data': {'source': row.author1[1], 'target': row.author2[1]}, 'classes': 'collaboration'})\n",
    "    elements = nodes_list + edges_list\n",
    "    #print(elements)\n",
    "    return elements"
   ]
  },
  {
   "cell_type": "code",
   "execution_count": 55,
   "id": "31d8e5d6",
   "metadata": {},
   "outputs": [],
   "source": [
    "res_df = generate_collab_network_df(results_df)"
   ]
  },
  {
   "cell_type": "code",
   "execution_count": 6,
   "id": "1731be69",
   "metadata": {},
   "outputs": [],
   "source": [
    "def generate_ref_network_df(df1, df2):\n",
    "    \"\"\"df1 = all_references_df\n",
    "     df2 = results_df\"\"\"\n",
    "    ref1 = []\n",
    "    ref2 = []\n",
    "    for index, row in df1.iterrows():\n",
    "        ref1.append(row.reference)\n",
    "        ref2.append(df2.reference[df2.paperId == row['citedBy']])\n",
    "    ref1_array = np.array(ref1)\n",
    "    ref2_array = np.array(ref2)\n",
    "    ref_network_df = pd.DataFrame(ref1_array, columns=['ref1'])\n",
    "    ref_network_df['ref2'] = ref2_array\n",
    "    print(ref_network_df)\n",
    "    return ref_network_df"
   ]
  },
  {
   "cell_type": "code",
   "execution_count": 7,
   "id": "cf6360b7",
   "metadata": {},
   "outputs": [],
   "source": [
    "def generate_graph_elements_network(df1, df2):\n",
    "    ref_network_df = generate_ref_network_df(df1, df2)\n",
    "    unique_refs = list(set(ref_network_df.ref1.unique().tolist()))\n",
    "    unique_results = list(set(ref_network_df.ref2.unique().tolist()))\n",
    "    #print(unique_results)\n",
    "    nodes_refs = [{'data': {'id': unique_refs[0], 'label': unique_refs[0], 'title': df1.title[df1.reference == unique_refs[0]], 'url': df1.url[df1.reference == unique_refs[0]]}, 'classes': 'ref'}]\n",
    "    nodes_results = [{'data': {'id': unique_results[0], 'label': unique_results[0], 'title': df2.title[df2.reference == unique_results[0]], 'url': df2.url[df2.reference == unique_results[0]]}, 'classes': 'res'}]\n",
    "    nodes_list = nodes_refs + nodes_results\n",
    "    for element in unique_refs[1:]:\n",
    "        nodes_list.append({'data': {'id': element, 'label': element, 'title': df1.title[df1.reference == element], 'url': df1.url[df1.reference == element]}, 'classes': 'ref'})\n",
    "    for element in unique_results[1:]:\n",
    "        nodes_list.append({'data': {'id': element, 'label': element, 'title': df2.title[df2.reference == element], 'url': df2.url[df2.reference == element]}, 'classes': 'res'})\n",
    "    #print (nodes_list)\n",
    "    edges_list = [{'data': {'source': ref_network_df['ref1'][0], 'target': ref_network_df['ref2'][0]}, 'classes': 'citation'}]\n",
    "    for index, row in ref_network_df.iterrows():\n",
    "        edges_list.append({'data': {'source': row.ref1, 'target': row.ref2}, 'classes': 'citation'})\n",
    "    elements = nodes_list + edges_list\n",
    "    #print(elements)\n",
    "    return elements"
   ]
  },
  {
   "cell_type": "code",
   "execution_count": 8,
   "id": "2ddc2b42",
   "metadata": {},
   "outputs": [
    {
     "name": "stdout",
     "output_type": "stream",
     "text": [
      "                          ref1                       ref2\n",
      "0     A. Bradley et al. (2009)   R. Summons et al. (2011)\n",
      "1     M. Brasier et al. (2006)   R. Summons et al. (2011)\n",
      "2             N. Noffke (1978)   R. Summons et al. (2011)\n",
      "3          D. D. Marais (2001)   R. Summons et al. (2011)\n",
      "4     M. Kennedy et al. (2006)   R. Summons et al. (2011)\n",
      "..                         ...                        ...\n",
      "503      M. Gaft et al. (2002)  S. Shkolyar et al. (2021)\n",
      "504    M. Wadhwa et al. (2001)  S. Shkolyar et al. (2021)\n",
      "505    M. Wadhwa et al. (1994)  S. Shkolyar et al. (2021)\n",
      "506  C. Marshall et al. (2010)  S. Shkolyar et al. (2021)\n",
      "507   B. Ehlmann et al. (2008)  S. Shkolyar et al. (2021)\n",
      "\n",
      "[508 rows x 2 columns]\n",
      "[{'data': {'id': 'J. Flahaut et al. (2014)', 'label': 'J. Flahaut et al. (2014)', 'title': 41    Sulfate-Rich Deposits on Mars: A Review of The...\n",
      "Name: title, dtype: object, 'url': 41    https://www.semanticscholar.org/paper/8d6694d5...\n",
      "Name: url, dtype: object}, 'classes': 'ref'}, {'data': {'id': 'J. Stromberg et al. (2013)', 'label': 'J. Stromberg et al. (2013)', 'title': 27    The persistence of a chlorophyll spectral bios...\n",
      "Name: title, dtype: object, 'url': 27    https://www.semanticscholar.org/paper/36d23ffa...\n",
      "Name: url, dtype: object}, 'classes': 'res'}, {'data': {'id': 'R. Wetzel (1975)', 'label': 'R. Wetzel (1975)', 'title': 20    Limnology: Lake and River Ecosystems\n",
      "Name: title, dtype: object, 'url': 20    https://www.semanticscholar.org/paper/14d6bc4f...\n",
      "Name: url, dtype: object}, 'classes': 'ref'}, {'data': {'id': 'L. Rothschild (1990)', 'label': 'L. Rothschild (1990)', 'title': 31    Earth analogs for Martian life. Microbes in ev...\n",
      "Name: title, dtype: object, 'url': 31    https://www.semanticscholar.org/paper/40725dd3...\n",
      "Name: url, dtype: object}, 'classes': 'ref'}, {'data': {'id': 'M. Storrie-Lombardi, M. Fisk (2004)', 'label': 'M. Storrie-Lombardi, M. Fisk (2004)', 'title': 16    Elemental abundance distributions in suboceani...\n",
      "Name: title, dtype: object, 'url': 16    https://www.semanticscholar.org/paper/176c163e...\n",
      "Name: url, dtype: object}, 'classes': 'ref'}, {'data': {'id': 'G. Faure (1977)', 'label': 'G. Faure (1977)', 'title': 23    Principles of isotope geology\n",
      "Name: title, dtype: object, 'url': 23    https://www.semanticscholar.org/paper/1eb9f88b...\n",
      "Name: url, dtype: object}, 'classes': 'ref'}, {'data': {'id': 'A. Aubrey et al. (2006)', 'label': 'A. Aubrey et al. (2006)', 'title': 12    Sulfate minerals and organic compounds on Mars\n",
      "10    Sulfate minerals and organic compounds on Mars\n",
      "Name: title, dtype: object, 'url': 12    https://www.semanticscholar.org/paper/16be05c7...\n",
      "10    https://www.semanticscholar.org/paper/16be05c7...\n",
      "Name: url, dtype: object}, 'classes': 'ref'}, {'data': {'id': 'D. Matthiä et al. (2016)', 'label': 'D. Matthiä et al. (2016)', 'title': 22    The Martian surface radiation environment – a ...\n",
      "Name: title, dtype: object, 'url': 22    https://www.semanticscholar.org/paper/4e4c1e38...\n",
      "Name: url, dtype: object}, 'classes': 'ref'}, {'data': {'id': 'C. Allen et al. (2001)', 'label': 'C. Allen et al. (2001)', 'title': 49    Importance of a martian hematite site for astr...\n",
      "Name: title, dtype: object, 'url': 49    https://www.semanticscholar.org/paper/8bf7b240...\n",
      "Name: url, dtype: object}, 'classes': 'ref'}, {'data': {'id': 'H. Furnes et al. (2007)', 'label': 'H. Furnes et al. (2007)', 'title': 37    Comparing petrographic signatures of bioaltera...\n",
      "Name: title, dtype: object, 'url': 37    https://www.semanticscholar.org/paper/2e07c57d...\n",
      "Name: url, dtype: object}, 'classes': 'ref'}, {'data': {'id': 'D. Kelley et al. (2005)', 'label': 'D. Kelley et al. (2005)', 'title': 20    A Serpentinite-Hosted Ecosystem: The Lost City...\n",
      "Name: title, dtype: object, 'url': 20    https://www.semanticscholar.org/paper/26d6ae4c...\n",
      "Name: url, dtype: object}, 'classes': 'ref'}, {'data': {'id': 'S. Krause et al. (2017)', 'label': 'S. Krause et al. (2017)', 'title': 1    Ecohydrological interfaces as hot spots of eco...\n",
      "Name: title, dtype: object, 'url': 1    https://www.semanticscholar.org/paper/08199d8d...\n",
      "Name: url, dtype: object}, 'classes': 'ref'}, {'data': {'id': 'T. McCollom, J. Seewald (2013)', 'label': 'T. McCollom, J. Seewald (2013)', 'title': 16    Serpentinites, Hydrogen, and Life\n",
      "Name: title, dtype: object, 'url': 16    https://www.semanticscholar.org/paper/1310be66...\n",
      "Name: url, dtype: object}, 'classes': 'ref'}, {'data': {'id': 'E. Anders (1989)', 'label': 'E. Anders (1989)', 'title': 15    Pre-biotic organic matter from comets and aste...\n",
      "Name: title, dtype: object, 'url': 15    https://www.semanticscholar.org/paper/1910a194...\n",
      "Name: url, dtype: object}, 'classes': 'ref'}, {'data': {'id': 'P. Boston et al. (2001)', 'label': 'P. Boston et al. (2001)', 'title': 31    Cave biosignature suites: microbes, minerals, ...\n",
      "Name: title, dtype: object, 'url': 31    https://www.semanticscholar.org/paper/1e2d0c65...\n",
      "Name: url, dtype: object}, 'classes': 'ref'}, {'data': {'id': 'L. Dartnell et al. (2012)', 'label': 'L. Dartnell et al. (2012)', 'title': 28    Destruction of Raman biosignatures by ionising...\n",
      "Name: title, dtype: object, 'url': 28    https://www.semanticscholar.org/paper/b5fa2983...\n",
      "Name: url, dtype: object}, 'classes': 'ref'}, {'data': {'id': 'K. Leslie et al. (2013)', 'label': 'K. Leslie et al. (2013)', 'title': 32    Biogeochemical indicators of buried mineraliza...\n",
      "Name: title, dtype: object, 'url': 32    https://www.semanticscholar.org/paper/1e519423...\n",
      "Name: url, dtype: object}, 'classes': 'ref'}, {'data': {'id': 'E. Shock et al. (2010)', 'label': 'E. Shock et al. (2010)', 'title': 45    Quantifying inorganic sources of geochemical e...\n",
      "Name: title, dtype: object, 'url': 45    https://www.semanticscholar.org/paper/2beaaa04...\n",
      "Name: url, dtype: object}, 'classes': 'ref'}, {'data': {'id': 'M. Engel, S. Macko (1997)', 'label': 'M. Engel, S. Macko (1997)', 'title': 13    Isotopic evidence for extraterrestrial non- ra...\n",
      "Name: title, dtype: object, 'url': 13    https://www.semanticscholar.org/paper/1727a1e0...\n",
      "Name: url, dtype: object}, 'classes': 'ref'}, {'data': {'id': 'S. Nockolds (1954)', 'label': 'S. Nockolds (1954)', 'title': 47    AVERAGE CHEMICAL COMPOSITIONS OF SOME IGNEOUS ...\n",
      "Name: title, dtype: object, 'url': 47    https://www.semanticscholar.org/paper/8865325b...\n",
      "Name: url, dtype: object}, 'classes': 'ref'}, {'data': {'id': 'R. Williams et al. (2013)', 'label': 'R. Williams et al. (2013)', 'title': 6    Martian Fluvial Conglomerates at Gale Crater\n",
      "Name: title, dtype: object, 'url': 6    https://www.semanticscholar.org/paper/1805afc9...\n",
      "Name: url, dtype: object}, 'classes': 'ref'}, {'data': {'id': 'W. D. de Wet, L. Townsend (2017)', 'label': 'W. D. de Wet, L. Townsend (2017)', 'title': 1    A calculation of the radiation environment on ...\n",
      "Name: title, dtype: object, 'url': 1    https://www.semanticscholar.org/paper/0887cf46...\n",
      "Name: url, dtype: object}, 'classes': 'ref'}, {'data': {'id': 'J. P. Greenwood et al. (2000)', 'label': 'J. P. Greenwood et al. (2000)', 'title': 30    Sulfur isotopic compositions of individual sul...\n",
      "Name: title, dtype: object, 'url': 30    https://www.semanticscholar.org/paper/411d51cd...\n",
      "Name: url, dtype: object}, 'classes': 'ref'}, {'data': {'id': 'D. McDonald et al. (2012)', 'label': 'D. McDonald et al. (2012)', 'title': 6    The Biological Observation Matrix (BIOM) forma...\n",
      "Name: title, dtype: object, 'url': 6    https://www.semanticscholar.org/paper/1fb73381...\n",
      "Name: url, dtype: object}, 'classes': 'ref'}, {'data': {'id': 'C. Caudill et al. (2019)', 'label': 'C. Caudill et al. (2019)', 'title': 35    CanMars mission Science Team operational resul...\n",
      "Name: title, dtype: object, 'url': 35    https://www.semanticscholar.org/paper/73ff6e34...\n",
      "Name: url, dtype: object}, 'classes': 'ref'}, {'data': {'id': 'L. Taylor et al. (2002)', 'label': 'L. Taylor et al. (2002)', 'title': 32    Martian meteorite Dhofar 019: A new shergottite\n",
      "Name: title, dtype: object, 'url': 32    https://www.semanticscholar.org/paper/4ab3abd9...\n",
      "Name: url, dtype: object}, 'classes': 'ref'}, {'data': {'id': 'J. Wierzchos et al. (2006)', 'label': 'J. Wierzchos et al. (2006)', 'title': 35    Endolithic cyanobacteria in halite rocks from ...\n",
      "Name: title, dtype: object, 'url': 35    https://www.semanticscholar.org/paper/48d70076...\n",
      "Name: url, dtype: object}, 'classes': 'ref'}, {'data': {'id': 'M. Talbot (1990)', 'label': 'M. Talbot (1990)', 'title': 29    A review of the palaeohydrological interpretat...\n",
      "Name: title, dtype: object, 'url': 29    https://www.semanticscholar.org/paper/bca5afa2...\n",
      "Name: url, dtype: object}, 'classes': 'ref'}, {'data': {'id': 'F. Widdel et al. (1993)', 'label': 'F. Widdel et al. (1993)', 'title': 39    Ferrous iron oxidation by anoxygenic phototrop...\n",
      "Name: title, dtype: object, 'url': 39    https://www.semanticscholar.org/paper/227386b4...\n",
      "Name: url, dtype: object}, 'classes': 'ref'}, {'data': {'id': 'Z. Martins et al. (2007)', 'label': 'Z. Martins et al. (2007)', 'title': 39    Indigenous amino acids in primitive CR meteorites\n",
      "Name: title, dtype: object, 'url': 39    https://www.semanticscholar.org/paper/593b8d7a...\n",
      "Name: url, dtype: object}, 'classes': 'ref'}, {'data': {'id': 'F. Shadkami, R. Helleur (2010)', 'label': 'F. Shadkami, R. Helleur (2010)', 'title': 27    Recent applications in analytical thermochemol...\n",
      "Name: title, dtype: object, 'url': 27    https://www.semanticscholar.org/paper/a94b75d0...\n",
      "Name: url, dtype: object}, 'classes': 'ref'}, {'data': {'id': 'J. Schopf et al. (2012)', 'label': 'J. Schopf et al. (2012)', 'title': 25    Gypsum-permineralized microfossils and their r...\n",
      "Name: title, dtype: object, 'url': 25    https://www.semanticscholar.org/paper/ac8d09f2...\n",
      "Name: url, dtype: object}, 'classes': 'ref'}, {'data': {'id': 'R. Galbraith (2002)', 'label': 'R. Galbraith (2002)', 'title': 46    Some remarks on fission-track observational bi...\n",
      "Name: title, dtype: object, 'url': 46    https://www.semanticscholar.org/paper/36f8df49...\n",
      "Name: url, dtype: object}, 'classes': 'ref'}, {'data': {'id': 'T. Goudge et al. (2015)', 'label': 'T. Goudge et al. (2015)', 'title': 31    Assessing the mineralogy of the watershed and ...\n",
      "Name: title, dtype: object, 'url': 31    https://www.semanticscholar.org/paper/46b186bf...\n",
      "Name: url, dtype: object}, 'classes': 'ref'}, {'data': {'id': 'P. Jiggens et al. (2014)', 'label': 'P. Jiggens et al. (2014)', 'title': 44    The magnitude and effects of extreme solar par...\n",
      "Name: title, dtype: object, 'url': 44    https://www.semanticscholar.org/paper/7de7bfb3...\n",
      "Name: url, dtype: object}, 'classes': 'ref'}, {'data': {'id': 'M. Kennedy et al. (2006)', 'label': 'M. Kennedy et al. (2006)', 'title': 4    Late Precambrian Oxygenation; Inception of the...\n",
      "Name: title, dtype: object, 'url': 4    https://www.semanticscholar.org/paper/03faf87e...\n",
      "Name: url, dtype: object}, 'classes': 'ref'}, {'data': {'id': 'A. Steele et al. (2007)', 'label': 'A. Steele et al. (2007)', 'title': 36    Comprehensive imaging and Raman spectroscopy o...\n",
      "36    Comprehensive imaging and Raman spectroscopy o...\n",
      "Name: title, dtype: object, 'url': 36    https://www.semanticscholar.org/paper/4f0e4a66...\n",
      "36    https://www.semanticscholar.org/paper/4f0e4a66...\n",
      "Name: url, dtype: object}, 'classes': 'ref'}, {'data': {'id': 'R. Mewaldt et al. (2005)', 'label': 'R. Mewaldt et al. (2005)', 'title': 46    Proton, helium, and electron spectra during th...\n",
      "Name: title, dtype: object, 'url': 46    https://www.semanticscholar.org/paper/81f5e129...\n",
      "Name: url, dtype: object}, 'classes': 'ref'}, {'data': {'id': 'D. Mckay et al. (1996)', 'label': 'D. Mckay et al. (1996)', 'title': 22    Search for Past Life on Mars: Possible Relic B...\n",
      "Name: title, dtype: object, 'url': 22    https://www.semanticscholar.org/paper/1e45c90e...\n",
      "Name: url, dtype: object}, 'classes': 'ref'}, {'data': {'id': 'J. Alt (1988)', 'label': 'J. Alt (1988)', 'title': 25    Hydrothermal oxide and nontronite deposits on ...\n",
      "Name: title, dtype: object, 'url': 25    https://www.semanticscholar.org/paper/1868c2ea...\n",
      "Name: url, dtype: object}, 'classes': 'ref'}, {'data': {'id': 'Renato Lemos dos Santos et al. (2016)', 'label': 'Renato Lemos dos Santos et al. (2016)', 'title': 45    Influence of mineralogy on the preservation of...\n",
      "Name: title, dtype: object, 'url': 45    https://www.semanticscholar.org/paper/9aa7294a...\n",
      "Name: url, dtype: object}, 'classes': 'ref'}, {'data': {'id': 'M. Gaft, G. Panczer (2013)', 'label': 'M. Gaft, G. Panczer (2013)', 'title': 21    Laser-induced time-resolved luminescence spect...\n",
      "Name: title, dtype: object, 'url': 21    https://www.semanticscholar.org/paper/2ffabc5e...\n",
      "Name: url, dtype: object}, 'classes': 'ref'}, {'data': {'id': 'N. Feirer, C. Fuqua (2017)', 'label': 'N. Feirer, C. Fuqua (2017)', 'title': 23    Pterin function in bacteria\n",
      "Name: title, dtype: object, 'url': 23    https://www.semanticscholar.org/paper/7d58270f...\n",
      "Name: url, dtype: object}, 'classes': 'ref'}, {'data': {'id': 'D. Burr et al. (2009)', 'label': 'D. Burr et al. (2009)', 'title': 24    Pervasive aqueous paleoflow features in the Ae...\n",
      "Name: title, dtype: object, 'url': 24    https://www.semanticscholar.org/paper/17d74c22...\n",
      "Name: url, dtype: object}, 'classes': 'ref'}, {'data': {'id': 'X. Amashukeli et al. (2007)', 'label': 'X. Amashukeli et al. (2007)', 'title': 44    Subcritical water extraction of amino acids fr...\n",
      "Name: title, dtype: object, 'url': 44    https://www.semanticscholar.org/paper/98e68447...\n",
      "Name: url, dtype: object}, 'classes': 'ref'}, {'data': {'id': 'G. Angelis et al. (2006)', 'label': 'G. Angelis et al. (2006)', 'title': 38    Modeling of the Martian environment for radiat...\n",
      "Name: title, dtype: object, 'url': 38    https://www.semanticscholar.org/paper/70114ea7...\n",
      "Name: url, dtype: object}, 'classes': 'ref'}, {'data': {'id': 'RullFernando et al. (2017)', 'label': 'RullFernando et al. (2017)', 'title': 21    The Raman Laser Spectrometer for the ExoMars R...\n",
      "37    The Raman Laser Spectrometer for the ExoMars R...\n",
      "Name: title, dtype: object, 'url': 21    https://www.semanticscholar.org/paper/51042570...\n",
      "37    https://www.semanticscholar.org/paper/51042570...\n",
      "Name: url, dtype: object}, 'classes': 'ref'}, {'data': {'id': 'T. Geisler et al. (2016)', 'label': 'T. Geisler et al. (2016)', 'title': 20    Evidence for Lattice Strain and Non-ideal Beha...\n",
      "Name: title, dtype: object, 'url': 20    https://www.semanticscholar.org/paper/2f467299...\n",
      "Name: url, dtype: object}, 'classes': 'ref'}, {'data': {'id': 'A. Gleadow et al. (1986)', 'label': 'A. Gleadow et al. (1986)', 'title': 0    Confined fission track lengths in apatite: a d...\n",
      "Name: title, dtype: object, 'url': 0    https://www.semanticscholar.org/paper/0166fd5b...\n",
      "Name: url, dtype: object}, 'classes': 'ref'}, {'data': {'id': 'E. Lalla et al. (2015)', 'label': 'E. Lalla et al. (2015)', 'title': 42    Optical temperature sensor based on the Nd3+ i...\n",
      "Name: title, dtype: object, 'url': 42    https://www.semanticscholar.org/paper/57c23145...\n",
      "Name: url, dtype: object}, 'classes': 'ref'}, {'data': {'id': 'B. Horgan, J. Bell (2012)', 'label': 'B. Horgan, J. Bell (2012)', 'title': 8    Widespread Weathered Glass on the Surface of Mars\n",
      "Name: title, dtype: object, 'url': 8    https://www.semanticscholar.org/paper/0c97d521...\n",
      "Name: url, dtype: object}, 'classes': 'ref'}, {'data': {'id': 'F. Cucinotta et al. (2001)', 'label': 'F. Cucinotta et al. (2001)', 'title': 31    Space Radiation Cancer Risks and Uncertainties...\n",
      "Name: title, dtype: object, 'url': 31    https://www.semanticscholar.org/paper/62e8c9dd...\n",
      "Name: url, dtype: object}, 'classes': 'ref'}, {'data': {'id': 'J. Bandfield et al. (2000)', 'label': 'J. Bandfield et al. (2000)', 'title': 48    A Global View of Martian Surface Compositions ...\n",
      "Name: title, dtype: object, 'url': 48    https://www.semanticscholar.org/paper/38a36740...\n",
      "Name: url, dtype: object}, 'classes': 'ref'}, {'data': {'id': 'D. Hassler et al. (2018)', 'label': 'D. Hassler et al. (2018)', 'title': 14    Space Weather on the Surface of Mars: Impact o...\n",
      "Name: title, dtype: object, 'url': 14    https://www.semanticscholar.org/paper/36414910...\n",
      "Name: url, dtype: object}, 'classes': 'ref'}, {'data': {'id': 'B. Clark et al. (2005)', 'label': 'B. Clark et al. (2005)', 'title': 10    Chemistry and mineralogy of outcrops at Meridi...\n",
      "Name: title, dtype: object, 'url': 10    https://www.semanticscholar.org/paper/225a21aa...\n",
      "Name: url, dtype: object}, 'classes': 'ref'}, {'data': {'id': 'G. Anno et al. (1989)', 'label': 'G. Anno et al. (1989)', 'title': 33    Symptomatology of acute radiation effects in h...\n",
      "Name: title, dtype: object, 'url': 33    https://www.semanticscholar.org/paper/64054e5d...\n",
      "Name: url, dtype: object}, 'classes': 'ref'}, {'data': {'id': 'K. Pedersen et al. (1997)', 'label': 'K. Pedersen et al. (1997)', 'title': 26    Investigation of the potential for microbial c...\n",
      "Name: title, dtype: object, 'url': 26    https://www.semanticscholar.org/paper/1876a0a6...\n",
      "Name: url, dtype: object}, 'classes': 'ref'}, {'data': {'id': 'K. Herkenhoff et al. (2004)', 'label': 'K. Herkenhoff et al. (2004)', 'title': 15    Evidence from Opportunity's Microscopic Imager...\n",
      "Name: title, dtype: object, 'url': 15    https://www.semanticscholar.org/paper/7005144a...\n",
      "Name: url, dtype: object}, 'classes': 'ref'}, {'data': {'id': 'H. McSween et al. (2004)', 'label': 'H. McSween et al. (2004)', 'title': 16    Basaltic rocks analyzed by the Spirit Rover in...\n",
      "Name: title, dtype: object, 'url': 16    https://www.semanticscholar.org/paper/2810247f...\n",
      "Name: url, dtype: object}, 'classes': 'ref'}, {'data': {'id': 'A. Jubb, H. Allen (2010)', 'label': 'A. Jubb, H. Allen (2010)', 'title': 34    Vibrational Spectroscopic Characterization of ...\n",
      "Name: title, dtype: object, 'url': 34    https://www.semanticscholar.org/paper/738f32d0...\n",
      "Name: url, dtype: object}, 'classes': 'ref'}, {'data': {'id': 'T. Dequaire et al. (2016)', 'label': 'T. Dequaire et al. (2016)', 'title': 49    Search for Organic Matter at Mars with LIBS an...\n",
      "Name: title, dtype: object, 'url': 49    https://www.semanticscholar.org/paper/a35916e5...\n",
      "Name: url, dtype: object}, 'classes': 'ref'}, {'data': {'id': 'Amy J. Williams et al. (2015)', 'label': 'Amy J. Williams et al. (2015)', 'title': 40    Preserved Filamentous Microbial Biosignatures ...\n",
      "Name: title, dtype: object, 'url': 40    https://www.semanticscholar.org/paper/dc538b8e...\n",
      "Name: url, dtype: object}, 'classes': 'ref'}, {'data': {'id': 'A. Pavlov et al. (2012)', 'label': 'A. Pavlov et al. (2012)', 'title': 32    Degradation of the organic molecules in the sh...\n",
      "Name: title, dtype: object, 'url': 32    https://www.semanticscholar.org/paper/6376a601...\n",
      "Name: url, dtype: object}, 'classes': 'ref'}, {'data': {'id': 'M. Malin et al. (2010)', 'label': 'M. Malin et al. (2010)', 'title': 22    The Mars Science Laboratory (MSL) Mast-mounted...\n",
      "Name: title, dtype: object, 'url': 22    https://www.semanticscholar.org/paper/338625e8...\n",
      "Name: url, dtype: object}, 'classes': 'ref'}, {'data': {'id': 'R. Fleischer (1988)', 'label': 'R. Fleischer (1988)', 'title': 41    Alpha-recoil damage: Relation to isotopic dise...\n",
      "Name: title, dtype: object, 'url': 41    https://www.semanticscholar.org/paper/33419abe...\n",
      "Name: url, dtype: object}, 'classes': 'ref'}, {'data': {'id': 'F. Westall et al. (2015)', 'label': 'F. Westall et al. (2015)', 'title': 22    Biosignatures on Mars: What, Where, and How? I...\n",
      "28    Archean (3.33 Ga) microbe-sediment systems wer...\n",
      "Name: title, dtype: object, 'url': 22    https://www.semanticscholar.org/paper/1620888a...\n",
      "28    https://www.semanticscholar.org/paper/1b18ca04...\n",
      "Name: url, dtype: object}, 'classes': 'ref'}, {'data': {'id': 'C. Mertens (2016)', 'label': 'C. Mertens (2016)', 'title': 37    Overview of the Radiation Dosimetry Experiment...\n",
      "Name: title, dtype: object, 'url': 37    https://www.semanticscholar.org/paper/6fb0f196...\n",
      "Name: url, dtype: object}, 'classes': 'ref'}, {'data': {'id': 'L. Pratt et al. (2006)', 'label': 'L. Pratt et al. (2006)', 'title': 28    Radiolysis of water as a source of bioavailabl...\n",
      "Name: title, dtype: object, 'url': 28    https://www.semanticscholar.org/paper/3e6e0bea...\n",
      "Name: url, dtype: object}, 'classes': 'ref'}, {'data': {'id': 'K. Lalonde et al. (2012)', 'label': 'K. Lalonde et al. (2012)', 'title': 15    Preservation of organic matter in sediments pr...\n",
      "Name: title, dtype: object, 'url': 15    https://www.semanticscholar.org/paper/693dd2f8...\n",
      "Name: url, dtype: object}, 'classes': 'ref'}, {'data': {'id': 'J. Milliman (1991)', 'label': 'J. Milliman (1991)', 'title': 36    Flux and fate of fluvial sediment and water in...\n",
      "Name: title, dtype: object, 'url': 36    https://www.semanticscholar.org/paper/2181cede...\n",
      "Name: url, dtype: object}, 'classes': 'ref'}, {'data': {'id': 'D. Sumner (2004)', 'label': 'D. Sumner (2004)', 'title': 29    Poor preservation potential of organics in Mer...\n",
      "Name: title, dtype: object, 'url': 29    https://www.semanticscholar.org/paper/b0507d2d...\n",
      "Name: url, dtype: object}, 'classes': 'ref'}, {'data': {'id': 'J. Alt, P. Mata (2000)', 'label': 'J. Alt, P. Mata (2000)', 'title': 11    On the role of microbes in the alteration of s...\n",
      "Name: title, dtype: object, 'url': 11    https://www.semanticscholar.org/paper/133c78e9...\n",
      "Name: url, dtype: object}, 'classes': 'ref'}, {'data': {'id': 'R. Frost et al. (2014)', 'label': 'R. Frost et al. (2014)', 'title': 0    A vibrational spectroscopic study of the silic...\n",
      "Name: title, dtype: object, 'url': 0    https://www.semanticscholar.org/paper/04f75782...\n",
      "Name: url, dtype: object}, 'classes': 'ref'}, {'data': {'id': 'Rebecca M. E. Williams et al. (2009)', 'label': 'Rebecca M. E. Williams et al. (2009)', 'title': 31    Evaluation of paleohydrologic models for terre...\n",
      "Name: title, dtype: object, 'url': 31    https://www.semanticscholar.org/paper/68d9fc69...\n",
      "Name: url, dtype: object}, 'classes': 'ref'}, {'data': {'id': 'L. Preston et al. (2015)', 'label': 'L. Preston et al. (2015)', 'title': 3    Fourier Transform Infrared Spectral Detection ...\n",
      "Name: title, dtype: object, 'url': 3    https://www.semanticscholar.org/paper/0e97b6c9...\n",
      "Name: url, dtype: object}, 'classes': 'ref'}, {'data': {'id': 'D. Vaniman et al. (2014)', 'label': 'D. Vaniman et al. (2014)', 'title': 1    Mineralogy of a Mudstone at Yellowknife Bay, G...\n",
      "1    Mineralogy of a Mudstone at Yellowknife Bay, G...\n",
      "Name: title, dtype: object, 'url': 1    https://www.semanticscholar.org/paper/013d7e8d...\n",
      "1    https://www.semanticscholar.org/paper/013d7e8d...\n",
      "Name: url, dtype: object}, 'classes': 'ref'}, {'data': {'id': 'Yong Chen et al. (2007)', 'label': 'Yong Chen et al. (2007)', 'title': 42    Discovery of CH4-rich high-pressure fluid incl...\n",
      "Name: title, dtype: object, 'url': 42    https://www.semanticscholar.org/paper/8db8be59...\n",
      "Name: url, dtype: object}, 'classes': 'ref'}, {'data': {'id': 'S. Murchie et al. (2009)', 'label': 'S. Murchie et al. (2009)', 'title': 18    A synthesis of Martian aqueous mineralogy afte...\n",
      "34    A synthesis of Martian aqueous mineralogy afte...\n",
      "Name: title, dtype: object, 'url': 18    https://www.semanticscholar.org/paper/482a64ae...\n",
      "34    https://www.semanticscholar.org/paper/482a64ae...\n",
      "Name: url, dtype: object}, 'classes': 'ref'}, {'data': {'id': 'Amy J. Williams et al. (2017)', 'label': 'Amy J. Williams et al. (2017)', 'title': 12    Filamentous Hydrous Ferric Oxide Biosignatures...\n",
      "31    Fatty Acid Detection in Mars-Analogous Rock Sa...\n",
      "Name: title, dtype: object, 'url': 12    https://www.semanticscholar.org/paper/5d87819d...\n",
      "31    https://www.semanticscholar.org/paper/bc1e2582...\n",
      "Name: url, dtype: object}, 'classes': 'ref'}, {'data': {'id': 'L. E. Reichen, J. Fahey (1962)', 'label': 'L. E. Reichen, J. Fahey (1962)', 'title': 17    An improved method for the determination of Fe...\n",
      "Name: title, dtype: object, 'url': 17    https://www.semanticscholar.org/paper/3d899903...\n",
      "Name: url, dtype: object}, 'classes': 'ref'}, {'data': {'id': 'J. Caporaso et al. (2010)', 'label': 'J. Caporaso et al. (2010)', 'title': 21    Global patterns of 16S rRNA diversity at a dep...\n",
      "31    QIIME allows analysis of high-throughput commu...\n",
      "Name: title, dtype: object, 'url': 21    https://www.semanticscholar.org/paper/4dc5a37d...\n",
      "31    https://www.semanticscholar.org/paper/70b48fd1...\n",
      "Name: url, dtype: object}, 'classes': 'ref'}, {'data': {'id': 'G. E. Ericksen (1981)', 'label': 'G. E. Ericksen (1981)', 'title': 11    GEOLOGY AND ORIGIN OF THE CHILEAN NITRATE DEPO...\n",
      "Name: title, dtype: object, 'url': 11    https://www.semanticscholar.org/paper/2d11779f...\n",
      "Name: url, dtype: object}, 'classes': 'ref'}, {'data': {'id': 'N. Petoussi-Henss et al. (2010)', 'label': 'N. Petoussi-Henss et al. (2010)', 'title': 35    Conversion Coefficients for Radiological Prote...\n",
      "Name: title, dtype: object, 'url': 35    https://www.semanticscholar.org/paper/691f9bb0...\n",
      "Name: url, dtype: object}, 'classes': 'ref'}, {'data': {'id': 'S. Squyres et al. (2012)', 'label': 'S. Squyres et al. (2012)', 'title': 19    Ancient Impact and Aqueous Processes at Endeav...\n",
      "Name: title, dtype: object, 'url': 19    https://www.semanticscholar.org/paper/81afded9...\n",
      "Name: url, dtype: object}, 'classes': 'ref'}, {'data': {'id': 'I. A. Berger, R. Cooke (1997)', 'label': 'I. A. Berger, R. Cooke (1997)', 'title': 9    The Origin and Distribution of Salts on Alluvi...\n",
      "Name: title, dtype: object, 'url': 9    https://www.semanticscholar.org/paper/26677313...\n",
      "Name: url, dtype: object}, 'classes': 'ref'}, {'data': {'id': 'C. Pain et al. (2007)', 'label': 'C. Pain et al. (2007)', 'title': 15    Inversion of relief on Mars\n",
      "Name: title, dtype: object, 'url': 15    https://www.semanticscholar.org/paper/3abb4dc5...\n",
      "Name: url, dtype: object}, 'classes': 'ref'}, {'data': {'id': 'M. Trieloff et al. (2003)', 'label': 'M. Trieloff et al. (2003)', 'title': 32    The distribution of mantle and atmospheric arg...\n",
      "Name: title, dtype: object, 'url': 32    https://www.semanticscholar.org/paper/2773ce6c...\n",
      "Name: url, dtype: object}, 'classes': 'ref'}, {'data': {'id': 'R. Müller et al. (2008)', 'label': 'R. Müller et al. (2008)', 'title': 6    Age, spreading rates, and spreading asymmetry ...\n",
      "Name: title, dtype: object, 'url': 6    https://www.semanticscholar.org/paper/0ac9c03c...\n",
      "Name: url, dtype: object}, 'classes': 'ref'}, {'data': {'id': 'L. Hays et al. (2017)', 'label': 'L. Hays et al. (2017)', 'title': 2    Biosignature Preservation and Detection in Mar...\n",
      "3    Biosignature Preservation and Detection in Mar...\n",
      "0    Biosignature Preservation and Detection in Mar...\n",
      "Name: title, dtype: object, 'url': 2    https://www.semanticscholar.org/paper/0e5ab9a0...\n",
      "3    https://www.semanticscholar.org/paper/0e5ab9a0...\n",
      "0    https://www.semanticscholar.org/paper/0e5ab9a0...\n",
      "Name: url, dtype: object}, 'classes': 'ref'}, {'data': {'id': 'M. Leybourne et al. (2007)', 'label': 'M. Leybourne et al. (2007)', 'title': 7    Geochemistry, geology, and isotopic (Sr, S, an...\n",
      "Name: title, dtype: object, 'url': 7    https://www.semanticscholar.org/paper/10bbe97a...\n",
      "Name: url, dtype: object}, 'classes': 'ref'}, {'data': {'id': 'C. Cockell et al. (2002)', 'label': 'C. Cockell et al. (2002)', 'title': 1    Impact‐induced microbial endolithic habitats\n",
      "Name: title, dtype: object, 'url': 1    https://www.semanticscholar.org/paper/028f295c...\n",
      "Name: url, dtype: object}, 'classes': 'ref'}, {'data': {'id': 'M. Guo et al. (2011)', 'label': 'M. Guo et al. (2011)', 'title': 17    UV and visible Raman studies of oxygen vacanci...\n",
      "Name: title, dtype: object, 'url': 17    https://www.semanticscholar.org/paper/2910eedb...\n",
      "Name: url, dtype: object}, 'classes': 'ref'}, {'data': {'id': 'V. Formisano et al. (2004)', 'label': 'V. Formisano et al. (2004)', 'title': 47    Detection of Methane in the Atmosphere of Mars\n",
      "Name: title, dtype: object, 'url': 47    https://www.semanticscholar.org/paper/6ba6590c...\n",
      "Name: url, dtype: object}, 'classes': 'ref'}, {'data': {'id': 'G. Dharmasena, R. Frech (1993)', 'label': 'G. Dharmasena, R. Frech (1993)', 'title': 17    The stabilization of phase III and phase I in ...\n",
      "Name: title, dtype: object, 'url': 17    https://www.semanticscholar.org/paper/7d741f91...\n",
      "Name: url, dtype: object}, 'classes': 'ref'}, {'data': {'id': 'S. Squyres et al. (2006)', 'label': 'S. Squyres et al. (2006)', 'title': 30    Two Years at Meridiani Planum: Results from th...\n",
      "Name: title, dtype: object, 'url': 30    https://www.semanticscholar.org/paper/c9f911b9...\n",
      "Name: url, dtype: object}, 'classes': 'ref'}, {'data': {'id': 'Q. He et al. (2015)', 'label': 'Q. He et al. (2015)', 'title': 25    Petrography and geochemistry of the enriched b...\n",
      "Name: title, dtype: object, 'url': 25    https://www.semanticscholar.org/paper/38c0141f...\n",
      "Name: url, dtype: object}, 'classes': 'ref'}, {'data': {'id': 'H. McSween (2015)', 'label': 'H. McSween (2015)', 'title': 12    Petrology on Mars\n",
      "Name: title, dtype: object, 'url': 12    https://www.semanticscholar.org/paper/23ff13a4...\n",
      "Name: url, dtype: object}, 'classes': 'ref'}, {'data': {'id': 'D. Emerson, M. Floyd (2005)', 'label': 'D. Emerson, M. Floyd (2005)', 'title': 25    Enrichment and isolation of iron-oxidizing bac...\n",
      "Name: title, dtype: object, 'url': 25    https://www.semanticscholar.org/paper/8e276f86...\n",
      "Name: url, dtype: object}, 'classes': 'ref'}, {'data': {'id': 'E. Shock, M. Schulte (1998)', 'label': 'E. Shock, M. Schulte (1998)', 'title': 7    Organic synthesis during fluid mixing in hydro...\n",
      "Name: title, dtype: object, 'url': 7    https://www.semanticscholar.org/paper/091ae7eb...\n",
      "Name: url, dtype: object}, 'classes': 'ref'}, {'data': {'id': 'B. Hynek et al. (2010)', 'label': 'B. Hynek et al. (2010)', 'title': 36    Updated global map of Martian valley networks ...\n",
      "Name: title, dtype: object, 'url': 36    https://www.semanticscholar.org/paper/7bbcb01e...\n",
      "Name: url, dtype: object}, 'classes': 'ref'}, {'data': {'id': 'J. Grotzinger et al. (2005)', 'label': 'J. Grotzinger et al. (2005)', 'title': 25    Stratigraphy and sedimentology of a dry to wet...\n",
      "Name: title, dtype: object, 'url': 25    https://www.semanticscholar.org/paper/378993b9...\n",
      "Name: url, dtype: object}, 'classes': 'ref'}, {'data': {'id': 'C. Chio et al. (2005)', 'label': 'C. Chio et al. (2005)', 'title': 10    Micro-Raman studies of hydrous ferrous sulfate...\n",
      "Name: title, dtype: object, 'url': 10    https://www.semanticscholar.org/paper/2ec43f2f...\n",
      "Name: url, dtype: object}, 'classes': 'ref'}, {'data': {'id': 'S. Squyres et al. (2004)', 'label': 'S. Squyres et al. (2004)', 'title': 27    The Spirit Rover's Athena science investigatio...\n",
      "17    In Situ Evidence for an Ancient Aqueous Enviro...\n",
      "33    In Situ Evidence for an Ancient Aqueous Enviro...\n",
      "Name: title, dtype: object, 'url': 27    https://www.semanticscholar.org/paper/3ddaeb19...\n",
      "17    https://www.semanticscholar.org/paper/46921aae...\n",
      "33    https://www.semanticscholar.org/paper/46921aae...\n",
      "Name: url, dtype: object}, 'classes': 'ref'}, {'data': {'id': 'J. Jankowski, G. Jacobson (1989)', 'label': 'J. Jankowski, G. Jacobson (1989)', 'title': 4    Hydrochemical evolution of regional groundwate...\n",
      "Name: title, dtype: object, 'url': 4    https://www.semanticscholar.org/paper/0c4c5bd1...\n",
      "Name: url, dtype: object}, 'classes': 'ref'}, {'data': {'id': 'M. N. Parenteau et al. (2014)', 'label': 'M. N. Parenteau et al. (2014)', 'title': 14    Production and early preservation of lipid bio...\n",
      "Name: title, dtype: object, 'url': 14    https://www.semanticscholar.org/paper/673b379b...\n",
      "Name: url, dtype: object}, 'classes': 'ref'}, {'data': {'id': 'R. Barco et al. (2015)', 'label': 'R. Barco et al. (2015)', 'title': 26    New Insight into Microbial Iron Oxidation as R...\n",
      "Name: title, dtype: object, 'url': 26    https://www.semanticscholar.org/paper/941d37cc...\n",
      "Name: url, dtype: object}, 'classes': 'ref'}, {'data': {'id': 'R. Pancost et al. (2005)', 'label': 'R. Pancost et al. (2005)', 'title': 46    Lipid biomolecules in silica sinters: indicato...\n",
      "Name: title, dtype: object, 'url': 46    https://www.semanticscholar.org/paper/2c17e31b...\n",
      "Name: url, dtype: object}, 'classes': 'ref'}, {'data': {'id': 'M. Gaft et al. (2002)', 'label': 'M. Gaft et al. (2002)', 'title': 45    Laser-induced time-resolved luminescence spect...\n",
      "Name: title, dtype: object, 'url': 45    https://www.semanticscholar.org/paper/5ee6e2ea...\n",
      "Name: url, dtype: object}, 'classes': 'ref'}, {'data': {'id': 'C. Chan et al. (2016)', 'label': 'C. Chan et al. (2016)', 'title': 38    The role of microaerophilic Fe-oxidizing micro...\n",
      "Name: title, dtype: object, 'url': 38    https://www.semanticscholar.org/paper/d2758632...\n",
      "Name: url, dtype: object}, 'classes': 'ref'}, {'data': {'id': 'B. Ehlmann, J. Mustard (2012)', 'label': 'B. Ehlmann, J. Mustard (2012)', 'title': 37    An in-situ record of major environmental trans...\n",
      "Name: title, dtype: object, 'url': 37    https://www.semanticscholar.org/paper/5458fdc3...\n",
      "Name: url, dtype: object}, 'classes': 'ref'}, {'data': {'id': 'D. Lovley (1993)', 'label': 'D. Lovley (1993)', 'title': 13    Dissimilatory metal reduction.\n",
      "Name: title, dtype: object, 'url': 13    https://www.semanticscholar.org/paper/106f8d12...\n",
      "Name: url, dtype: object}, 'classes': 'ref'}, {'data': {'id': 'E. Lalla et al. (2021)', 'label': 'E. Lalla et al. (2021)', 'title': 18    Structural and vibrational analyses of CePO4 s...\n",
      "Name: title, dtype: object, 'url': 18    https://www.semanticscholar.org/paper/29ea3d61...\n",
      "Name: url, dtype: object}, 'classes': 'ref'}, {'data': {'id': 'R. Léveillé et al. (2014)', 'label': 'R. Léveillé et al. (2014)', 'title': 21    Chemistry of fracture-filling raised ridges in...\n",
      "Name: title, dtype: object, 'url': 21    https://www.semanticscholar.org/paper/15d5aa9e...\n",
      "Name: url, dtype: object}, 'classes': 'ref'}, {'data': {'id': 'P. Allison, K. Pye (1994)', 'label': 'P. Allison, K. Pye (1994)', 'title': 16    Early diagenetic mineralization and fossil pre...\n",
      "Name: title, dtype: object, 'url': 16    https://www.semanticscholar.org/paper/762a63c0...\n",
      "Name: url, dtype: object}, 'classes': 'ref'}, {'data': {'id': 'J. Semkova et al. (2018)', 'label': 'J. Semkova et al. (2018)', 'title': 5    Charged particles radiation measurements with ...\n",
      "Name: title, dtype: object, 'url': 5    https://www.semanticscholar.org/paper/0ea37649...\n",
      "Name: url, dtype: object}, 'classes': 'ref'}, {'data': {'id': 'C. Brolly et al. (2016)', 'label': 'C. Brolly et al. (2016)', 'title': 23    Raman spectroscopy of shocked gypsum from a me...\n",
      "Name: title, dtype: object, 'url': 23    https://www.semanticscholar.org/paper/5c5c1940...\n",
      "Name: url, dtype: object}, 'classes': 'ref'}, {'data': {'id': 'R. Hites (nan)', 'label': 'R. Hites (nan)', 'title': 1    Gas Chromatography Mass Spectrometry\n",
      "Name: title, dtype: object, 'url': 1    https://www.semanticscholar.org/paper/43081dc2...\n",
      "Name: url, dtype: object}, 'classes': 'ref'}, {'data': {'id': 'F. Cucinotta et al. (2011)', 'label': 'F. Cucinotta et al. (2011)', 'title': 3    Space Radiation Cancer Risk Projections and Un...\n",
      "Name: title, dtype: object, 'url': 3    https://www.semanticscholar.org/paper/0d1a1849...\n",
      "Name: url, dtype: object}, 'classes': 'ref'}, {'data': {'id': 'O. Sato et al. (1999)', 'label': 'O. Sato et al. (1999)', 'title': 12    Calculations of Effective Dose and Ambient Dos...\n",
      "Name: title, dtype: object, 'url': 12    https://www.semanticscholar.org/paper/298004ea...\n",
      "Name: url, dtype: object}, 'classes': 'ref'}, {'data': {'id': 'E. Cloutis et al. (2016)', 'label': 'E. Cloutis et al. (2016)', 'title': 32    Identification and discrimination of polycycli...\n",
      "Name: title, dtype: object, 'url': 32    https://www.semanticscholar.org/paper/6b1a07bd...\n",
      "Name: url, dtype: object}, 'classes': 'ref'}, {'data': {'id': 'J. Dran et al. (1980)', 'label': 'J. Dran et al. (1980)', 'title': 13    Radioactive Waste Storage Materials: Their α-R...\n",
      "Name: title, dtype: object, 'url': 13    https://www.semanticscholar.org/paper/14d64f16...\n",
      "Name: url, dtype: object}, 'classes': 'ref'}, {'data': {'id': 'R. Cordero et al. (2018)', 'label': 'R. Cordero et al. (2018)', 'title': 39    Ultraviolet radiation in the Atacama Desert\n",
      "Name: title, dtype: object, 'url': 39    https://www.semanticscholar.org/paper/88b55fdf...\n",
      "Name: url, dtype: object}, 'classes': 'ref'}, {'data': {'id': 'Gurpreet Kaur et al. (2011)', 'label': 'Gurpreet Kaur et al. (2011)', 'title': 37    Preservation of microbial lipids in geothermal...\n",
      "Name: title, dtype: object, 'url': 37    https://www.semanticscholar.org/paper/cce88f4e...\n",
      "Name: url, dtype: object}, 'classes': 'ref'}, {'data': {'id': 'P. Blokker et al. (2002)', 'label': 'P. Blokker et al. (2002)', 'title': 9    At-line gas chromatographic-mass spectrometric...\n",
      "Name: title, dtype: object, 'url': 9    https://www.semanticscholar.org/paper/4667de0a...\n",
      "Name: url, dtype: object}, 'classes': 'ref'}, {'data': {'id': 'L. Dartnell (2011)', 'label': 'L. Dartnell (2011)', 'title': 26    Ionizing radiation and life.\n",
      "Name: title, dtype: object, 'url': 26    https://www.semanticscholar.org/paper/b0e613f6...\n",
      "Name: url, dtype: object}, 'classes': 'ref'}, {'data': {'id': 'M. Janssens et al. (1977)', 'label': 'M. Janssens et al. (1977)', 'title': 42    Rochechouart Meteorite Crater: Identification ...\n",
      "Name: title, dtype: object, 'url': 42    https://www.semanticscholar.org/paper/617ea69c...\n",
      "Name: url, dtype: object}, 'classes': 'ref'}, {'data': {'id': 'F. Poitrasson et al. (2000)', 'label': 'F. Poitrasson et al. (2000)', 'title': 9    Electron microprobe and LA-ICP-MS study of mon...\n",
      "Name: title, dtype: object, 'url': 9    https://www.semanticscholar.org/paper/1718901d...\n",
      "Name: url, dtype: object}, 'classes': 'ref'}, {'data': {'id': 'G. Wanger et al. (2006)', 'label': 'G. Wanger et al. (2006)', 'title': 18    Structural and Chemical Characterization of a ...\n",
      "Name: title, dtype: object, 'url': 18    https://www.semanticscholar.org/paper/1362071b...\n",
      "Name: url, dtype: object}, 'classes': 'ref'}, {'data': {'id': 'N. McLoughlin (2015)', 'label': 'N. McLoughlin (2015)', 'title': 4    Archean Traces of Life\n",
      "Name: title, dtype: object, 'url': 4    https://www.semanticscholar.org/paper/0571e7fb...\n",
      "Name: url, dtype: object}, 'classes': 'ref'}, {'data': {'id': 'K. Campbell et al. (2016)', 'label': 'K. Campbell et al. (2016)', 'title': 27    TRACING HOT-SPRING FACIES AND THEIR GEOTHERMAL...\n",
      "Name: title, dtype: object, 'url': 27    https://www.semanticscholar.org/paper/1935abae...\n",
      "Name: url, dtype: object}, 'classes': 'ref'}, {'data': {'id': 'R. W. Hoham, H. U. Ling (2000)', 'label': 'R. W. Hoham, H. U. Ling (2000)', 'title': 43    Snow Algae: The Effects of Chemical and Physic...\n",
      "Name: title, dtype: object, 'url': 43    https://www.semanticscholar.org/paper/2863fd8c...\n",
      "Name: url, dtype: object}, 'classes': 'ref'}, {'data': {'id': 'J. Albers, J. Bain (1985)', 'label': 'J. Albers, J. Bain (1985)', 'title': 17    Regional setting and new information on some c...\n",
      "Name: title, dtype: object, 'url': 17    https://www.semanticscholar.org/paper/6b0adb32...\n",
      "Name: url, dtype: object}, 'classes': 'ref'}, {'data': {'id': 'D. Anderson et al. (2017)', 'label': 'D. Anderson et al. (2017)', 'title': 43    Characterization of LIBS emission lines for th...\n",
      "Name: title, dtype: object, 'url': 43    https://www.semanticscholar.org/paper/8eb54ec1...\n",
      "Name: url, dtype: object}, 'classes': 'ref'}, {'data': {'id': 'E. Dewitt et al. (2008)', 'label': 'E. Dewitt et al. (2008)', 'title': 6    Geologic Map of the Prescott National Forest a...\n",
      "Name: title, dtype: object, 'url': 6    https://www.semanticscholar.org/paper/19a5de2e...\n",
      "Name: url, dtype: object}, 'classes': 'ref'}, {'data': {'id': 'R. Barbieri et al. (2006)', 'label': 'R. Barbieri et al. (2006)', 'title': 0    Microbial signatures in sabkha evaporite depos...\n",
      "Name: title, dtype: object, 'url': 0    https://www.semanticscholar.org/paper/008b507e...\n",
      "Name: url, dtype: object}, 'classes': 'ref'}, {'data': {'id': 'I. Reid et al. (2006)', 'label': 'I. Reid et al. (2006)', 'title': 32    Terrestrial models for extraterrestrial life: ...\n",
      "Name: title, dtype: object, 'url': 32    https://www.semanticscholar.org/paper/71bb4b88...\n",
      "Name: url, dtype: object}, 'classes': 'ref'}, {'data': {'id': 'J. Fontenot et al. (2009)', 'label': 'J. Fontenot et al. (2009)', 'title': 24    Ambient Dose Equivalent versus Effective Dose ...\n",
      "Name: title, dtype: object, 'url': 24    https://www.semanticscholar.org/paper/55fd1fed...\n",
      "Name: url, dtype: object}, 'classes': 'ref'}, {'data': {'id': 'F. Poulet et al. (2020)', 'label': 'F. Poulet et al. (2020)', 'title': 8    Mawrth Vallis, Mars: A Fascinating Place for F...\n",
      "Name: title, dtype: object, 'url': 8    https://www.semanticscholar.org/paper/1cd18efc...\n",
      "Name: url, dtype: object}, 'classes': 'ref'}, {'data': {'id': 'M. Koblížek (2009)', 'label': 'M. Koblížek (2009)', 'title': 34    The Purple Phototrophic Bacteria\n",
      "Name: title, dtype: object, 'url': 34    https://www.semanticscholar.org/paper/76e1279b...\n",
      "Name: url, dtype: object}, 'classes': 'ref'}, {'data': {'id': 'S. Takasu, S. Shimanuki (1974)', 'label': 'S. Takasu, S. Shimanuki (1974)', 'title': 33    Tunnel-like defects of flux grown magnetic gar...\n",
      "Name: title, dtype: object, 'url': 33    https://www.semanticscholar.org/paper/2a68d0b1...\n",
      "Name: url, dtype: object}, 'classes': 'ref'}, {'data': {'id': 'N. Koura et al. (1996)', 'label': 'N. Koura et al. (1996)', 'title': 11    Alkali carbonates: Raman spectroscopy, ab init...\n",
      "Name: title, dtype: object, 'url': 11    https://www.semanticscholar.org/paper/300ad53f...\n",
      "Name: url, dtype: object}, 'classes': 'ref'}, {'data': {'id': 'S. Agostinelli et al. (2003)', 'label': 'S. Agostinelli et al. (2003)', 'title': 20    Geant4 - A simulation toolkit\n",
      "Name: title, dtype: object, 'url': 20    https://www.semanticscholar.org/paper/4792e7dd...\n",
      "Name: url, dtype: object}, 'classes': 'ref'}, {'data': {'id': 'S. Asher (2006)', 'label': 'S. Asher (2006)', 'title': 34    Ultraviolet Raman Spectrometry\n",
      "Name: title, dtype: object, 'url': 34    https://www.semanticscholar.org/paper/4b2c05f9...\n",
      "Name: url, dtype: object}, 'classes': 'ref'}, {'data': {'id': 'Robert et al. (2008)', 'label': 'Robert et al. (2008)', 'title': 33    Mineral evolution\n",
      "Name: title, dtype: object, 'url': 33    https://www.semanticscholar.org/paper/4481abeb...\n",
      "Name: url, dtype: object}, 'classes': 'ref'}, {'data': {'id': 'E. Singer et al. (2011)', 'label': 'E. Singer et al. (2011)', 'title': 7    Mariprofundus ferrooxydans PV-1 the First Geno...\n",
      "Name: title, dtype: object, 'url': 7    https://www.semanticscholar.org/paper/29dd4339...\n",
      "Name: url, dtype: object}, 'classes': 'ref'}, {'data': {'id': 'B. Schreiber et al. (2001)', 'label': 'B. Schreiber et al. (2001)', 'title': 39    CHARACTERISATION OF ORGANIC MATTER FORMED IN H...\n",
      "Name: title, dtype: object, 'url': 39    https://www.semanticscholar.org/paper/f0bdf4b6...\n",
      "Name: url, dtype: object}, 'classes': 'ref'}, {'data': {'id': 'M. Flower et al. (2006)', 'label': 'M. Flower et al. (2006)', 'title': 26    21. LITHOLOGIC AND CHEMICAL STRATIGRAPHY AT DE...\n",
      "Name: title, dtype: object, 'url': 26    https://www.semanticscholar.org/paper/2028e5af...\n",
      "Name: url, dtype: object}, 'classes': 'ref'}, {'data': {'id': 'Hai Cheng et al. (2000)', 'label': 'Hai Cheng et al. (2000)', 'title': 17    The half-lives of uranium-234 and thorium-230\n",
      "Name: title, dtype: object, 'url': 17    https://www.semanticscholar.org/paper/17d3cc05...\n",
      "Name: url, dtype: object}, 'classes': 'ref'}, {'data': {'id': 'R. Spencer (2000)', 'label': 'R. Spencer (2000)', 'title': 3    Sulfate Minerals in Evaporite Deposits\n",
      "Name: title, dtype: object, 'url': 3    https://www.semanticscholar.org/paper/0566f8a9...\n",
      "Name: url, dtype: object}, 'classes': 'ref'}, {'data': {'id': 'J. Challinor (2001)', 'label': 'J. Challinor (2001)', 'title': 43    Review: the development and applications of th...\n",
      "Name: title, dtype: object, 'url': 43    https://www.semanticscholar.org/paper/f0ba01f7...\n",
      "Name: url, dtype: object}, 'classes': 'ref'}, {'data': {'id': 'M. Wadhwa et al. (2001)', 'label': 'M. Wadhwa et al. (2001)', 'title': 46    A petrologic and trace element study of Dar al...\n",
      "Name: title, dtype: object, 'url': 46    https://www.semanticscholar.org/paper/5f7d7ddd...\n",
      "Name: url, dtype: object}, 'classes': 'ref'}, {'data': {'id': 'N. Stivaletta, R. Barbieri (2009)', 'label': 'N. Stivaletta, R. Barbieri (2009)', 'title': 4    Endolithic microorganisms from spring mound ev...\n",
      "Name: title, dtype: object, 'url': 4    https://www.semanticscholar.org/paper/059c2c6d...\n",
      "Name: url, dtype: object}, 'classes': 'ref'}, {'data': {'id': 'T. Sekiya et al. (2001)', 'label': 'T. Sekiya et al. (2001)', 'title': 5    Raman spectroscopy and phase transition of ana...\n",
      "Name: title, dtype: object, 'url': 5    https://www.semanticscholar.org/paper/10ca84de...\n",
      "Name: url, dtype: object}, 'classes': 'ref'}, {'data': {'id': 'O. Seki et al. (2010)', 'label': 'O. Seki et al. (2010)', 'title': 5    A compound-specific n-alkane δ13C and δD appro...\n",
      "Name: title, dtype: object, 'url': 5    https://www.semanticscholar.org/paper/05cf70d7...\n",
      "Name: url, dtype: object}, 'classes': 'ref'}, {'data': {'id': 'B. Gómez-Silva et al. (2008)', 'label': 'B. Gómez-Silva et al. (2008)', 'title': 22    Atacama Desert Soil Microbiology\n",
      "Name: title, dtype: object, 'url': 22    https://www.semanticscholar.org/paper/546bbd22...\n",
      "Name: url, dtype: object}, 'classes': 'ref'}, {'data': {'id': 'D. Matthiä, T. Berger (2017)', 'label': 'D. Matthiä, T. Berger (2017)', 'title': 48    The radiation environment on the surface of Ma...\n",
      "Name: title, dtype: object, 'url': 48    https://www.semanticscholar.org/paper/89b54920...\n",
      "Name: url, dtype: object}, 'classes': 'ref'}, {'data': {'id': 'J. Pasteris, B. Wopenka (2003)', 'label': 'J. Pasteris, B. Wopenka (2003)', 'title': 0    Necessary, but not sufficient: Raman identific...\n",
      "Name: title, dtype: object, 'url': 0    https://www.semanticscholar.org/paper/003948b0...\n",
      "Name: url, dtype: object}, 'classes': 'ref'}, {'data': {'id': 'P. Franzmann et al. (1988)', 'label': 'P. Franzmann et al. (1988)', 'title': 5    Halobacterium lacusprofundi sp. nov., a Haloph...\n",
      "Name: title, dtype: object, 'url': 5    https://www.semanticscholar.org/paper/1fb473dc...\n",
      "Name: url, dtype: object}, 'classes': 'ref'}, {'data': {'id': 'N. Bokulich et al. (2012)', 'label': 'N. Bokulich et al. (2012)', 'title': 16    Quality-filtering vastly improves diversity es...\n",
      "Name: title, dtype: object, 'url': 16    https://www.semanticscholar.org/paper/42c6fcf0...\n",
      "Name: url, dtype: object}, 'classes': 'ref'}, {'data': {'id': 'J. Stromberg et al. (2013)', 'label': 'J. Stromberg et al. (2013)', 'title': 13    The persistence of a chlorophyll spectral bios...\n",
      "Name: title, dtype: object, 'url': 13    https://www.semanticscholar.org/paper/36d23ffa...\n",
      "Name: url, dtype: object}, 'classes': 'ref'}, {'data': {'id': 'C. Freissinet et al. (2015)', 'label': 'C. Freissinet et al. (2015)', 'title': 40    Organic molecules in the Sheepbed Mudstone, Ga...\n",
      "Name: title, dtype: object, 'url': 40    https://www.semanticscholar.org/paper/8b36dd1e...\n",
      "Name: url, dtype: object}, 'classes': 'ref'}, {'data': {'id': 'Ding Jun-kai et al. (1997)', 'label': 'Ding Jun-kai et al. (1997)', 'title': 45    The effect of isomerization and degradation of...\n",
      "Name: title, dtype: object, 'url': 45    https://www.semanticscholar.org/paper/fb2c5ae4...\n",
      "Name: url, dtype: object}, 'classes': 'ref'}, {'data': {'id': 'G. Proskurowski et al. (2008)', 'label': 'G. Proskurowski et al. (2008)', 'title': 42    Abiogenic Hydrocarbon Production at Lost City ...\n",
      "Name: title, dtype: object, 'url': 42    https://www.semanticscholar.org/paper/5e97cef7...\n",
      "Name: url, dtype: object}, 'classes': 'ref'}, {'data': {'id': 'C. M. Scarfe (1980)', 'label': 'C. M. Scarfe (1980)', 'title': 49    Secondary Minerals in Some Basaltic Rocks from...\n",
      "Name: title, dtype: object, 'url': 49    https://www.semanticscholar.org/paper/39a8a76b...\n",
      "Name: url, dtype: object}, 'classes': 'ref'}, {'data': {'id': 'N. McLoughlin et al. (2010)', 'label': 'N. McLoughlin et al. (2010)', 'title': 40    Mechanisms of microtunneling in rock substrate...\n",
      "Name: title, dtype: object, 'url': 40    https://www.semanticscholar.org/paper/32e74926...\n",
      "Name: url, dtype: object}, 'classes': 'ref'}, {'data': {'id': 'C. Martín (2008)', 'label': 'C. Martín (2008)', 'title': 34    Environmental Genomics\n",
      "Name: title, dtype: object, 'url': 34    https://www.semanticscholar.org/paper/48b3cf8a...\n",
      "Name: url, dtype: object}, 'classes': 'ref'}, {'data': {'id': 'G. Muyzer et al. (1993)', 'label': 'G. Muyzer et al. (1993)', 'title': 7    Profiling of complex microbial populations by ...\n",
      "Name: title, dtype: object, 'url': 7    https://www.semanticscholar.org/paper/221983f9...\n",
      "Name: url, dtype: object}, 'classes': 'ref'}, {'data': {'id': 'Will Curran (1982)', 'label': 'Will Curran (1982)', 'title': 37    A/I: a synthesis\n",
      "Name: title, dtype: object, 'url': 37    https://www.semanticscholar.org/paper/7cb02959...\n",
      "Name: url, dtype: object}, 'classes': 'ref'}, {'data': {'id': 'T. Bristow et al. (2015)', 'label': 'T. Bristow et al. (2015)', 'title': 24    The origin and implications of clay minerals f...\n",
      "Name: title, dtype: object, 'url': 24    https://www.semanticscholar.org/paper/89a17776...\n",
      "Name: url, dtype: object}, 'classes': 'ref'}, {'data': {'id': 'A. Azua-Bustos et al. (2012)', 'label': 'A. Azua-Bustos et al. (2012)', 'title': 38    Life at the dry edge: Microorganisms of the At...\n",
      "Name: title, dtype: object, 'url': 38    https://www.semanticscholar.org/paper/224845c0...\n",
      "Name: url, dtype: object}, 'classes': 'ref'}, {'data': {'id': 'R. Frost et al. (2001)', 'label': 'R. Frost et al. (2001)', 'title': 29    Raman spectroscopy of kaolinites using differe...\n",
      "Name: title, dtype: object, 'url': 29    https://www.semanticscholar.org/paper/68094799...\n",
      "Name: url, dtype: object}, 'classes': 'ref'}, {'data': {'id': 'J. Vago et al. (2017)', 'label': 'J. Vago et al. (2017)', 'title': 43    Habitability on Early Mars and the Search for ...\n",
      "46    Habitability on Early Mars and the Search for ...\n",
      "Name: title, dtype: object, 'url': 43    https://www.semanticscholar.org/paper/970bb38e...\n",
      "46    https://www.semanticscholar.org/paper/970bb38e...\n",
      "Name: url, dtype: object}, 'classes': 'ref'}, {'data': {'id': 'E. Pilles et al. (2019)', 'label': 'E. Pilles et al. (2019)', 'title': 37    Exploring new models for improving planetary r...\n",
      "Name: title, dtype: object, 'url': 37    https://www.semanticscholar.org/paper/85e4fd4b...\n",
      "Name: url, dtype: object}, 'classes': 'ref'}, {'data': {'id': 'Y. Ishida et al. (1999)', 'label': 'Y. Ishida et al. (1999)', 'title': 6    Compositional analysis of polyunsaturated fatt...\n",
      "Name: title, dtype: object, 'url': 6    https://www.semanticscholar.org/paper/26d0c038...\n",
      "Name: url, dtype: object}, 'classes': 'ref'}, {'data': {'id': 'J. Wang et al. (2002)', 'label': 'J. Wang et al. (2002)', 'title': 26    Mineral Surface Control of Organic Carbon in B...\n",
      "Name: title, dtype: object, 'url': 26    https://www.semanticscholar.org/paper/3ce9ed13...\n",
      "Name: url, dtype: object}, 'classes': 'ref'}, {'data': {'id': 'D. Papineau et al. (2005)', 'label': 'D. Papineau et al. (2005)', 'title': 3    Composition and Structure of Microbial Communi...\n",
      "Name: title, dtype: object, 'url': 3    https://www.semanticscholar.org/paper/04b060a4...\n",
      "Name: url, dtype: object}, 'classes': 'ref'}, {'data': {'id': 'A. Rossi et al. (2008)', 'label': 'A. Rossi et al. (2008)', 'title': 2    Large-scale spring deposits on Mars?\n",
      "Name: title, dtype: object, 'url': 2    https://www.semanticscholar.org/paper/02cb8257...\n",
      "Name: url, dtype: object}, 'classes': 'ref'}, {'data': {'id': 'H. Edwards et al. (2004)', 'label': 'H. Edwards et al. (2004)', 'title': 23    Raman spectroscopy of senescing snow algae: pi...\n",
      "Name: title, dtype: object, 'url': 23    https://www.semanticscholar.org/paper/35f3d2a8...\n",
      "Name: url, dtype: object}, 'classes': 'ref'}, {'data': {'id': 'S. Vance et al. (2007)', 'label': 'S. Vance et al. (2007)', 'title': 33    Hydrothermal systems in small ocean planets.\n",
      "Name: title, dtype: object, 'url': 33    https://www.semanticscholar.org/paper/4ad0a0cc...\n",
      "Name: url, dtype: object}, 'classes': 'ref'}, {'data': {'id': 'P. Meyers (1994)', 'label': 'P. Meyers (1994)', 'title': 8    Preservation of elemental and isotopic source ...\n",
      "Name: title, dtype: object, 'url': 8    https://www.semanticscholar.org/paper/1d71730a...\n",
      "Name: url, dtype: object}, 'classes': 'ref'}, {'data': {'id': 'J. Flahaut et al. (2017)', 'label': 'J. Flahaut et al. (2017)', 'title': 46    Remote sensing and in situ mineralogic survey ...\n",
      "Name: title, dtype: object, 'url': 46    https://www.semanticscholar.org/paper/9c997827...\n",
      "Name: url, dtype: object}, 'classes': 'ref'}, {'data': {'id': 'J. Channell et al. (1995)', 'label': 'J. Channell et al. (1995)', 'title': 29    Late Jurassic-Early Cretaceous Time Scales and...\n",
      "Name: title, dtype: object, 'url': 29    https://www.semanticscholar.org/paper/2382b26d...\n",
      "Name: url, dtype: object}, 'classes': 'ref'}, {'data': {'id': 'C. Shearer et al. (2014)', 'label': 'C. Shearer et al. (2014)', 'title': 11    Crystal chemistry of merrillite from Martian m...\n",
      "Name: title, dtype: object, 'url': 11    https://www.semanticscholar.org/paper/213c7c2e...\n",
      "Name: url, dtype: object}, 'classes': 'ref'}, {'data': {'id': 'Shawn D. Domagal-Goldman et al. (2016)', 'label': 'Shawn D. Domagal-Goldman et al. (2016)', 'title': 9    The Astrobiology Primer v2.0\n",
      "Name: title, dtype: object, 'url': 9    https://www.semanticscholar.org/paper/2a722daf...\n",
      "Name: url, dtype: object}, 'classes': 'ref'}, {'data': {'id': 'N. Noffke (2009)', 'label': 'N. Noffke (2009)', 'title': 9    The criteria for the biogeneicity of microbial...\n",
      "Name: title, dtype: object, 'url': 9    https://www.semanticscholar.org/paper/106fa271...\n",
      "Name: url, dtype: object}, 'classes': 'ref'}, {'data': {'id': 'E. Roden et al. (2012)', 'label': 'E. Roden et al. (2012)', 'title': 39    The Microbial Ferrous Wheel in a Neutral pH Gr...\n",
      "Name: title, dtype: object, 'url': 39    https://www.semanticscholar.org/paper/da535265...\n",
      "Name: url, dtype: object}, 'classes': 'ref'}, {'data': {'id': 'D. Hassler et al. (2012)', 'label': 'D. Hassler et al. (2012)', 'title': 0    The Radiation Assessment Detector (RAD) Invest...\n",
      "Name: title, dtype: object, 'url': 0    https://www.semanticscholar.org/paper/00b309ad...\n",
      "Name: url, dtype: object}, 'classes': 'ref'}, {'data': {'id': 'N. McLoughlin et al. (2007)', 'label': 'N. McLoughlin et al. (2007)', 'title': 31    On biogenicity criteria for endolithic microbo...\n",
      "Name: title, dtype: object, 'url': 31    https://www.semanticscholar.org/paper/26379c26...\n",
      "Name: url, dtype: object}, 'classes': 'ref'}, {'data': {'id': 'C. Olariu, J. Bhattacharya (2006)', 'label': 'C. Olariu, J. Bhattacharya (2006)', 'title': 42    Terminal Distributary Channels and Delta Front...\n",
      "Name: title, dtype: object, 'url': 42    https://www.semanticscholar.org/paper/2743a48b...\n",
      "Name: url, dtype: object}, 'classes': 'ref'}, {'data': {'id': 'R. Pel et al. (2004)', 'label': 'R. Pel et al. (2004)', 'title': 41    Analysis of planktonic community structure and...\n",
      "Name: title, dtype: object, 'url': 41    https://www.semanticscholar.org/paper/df1b1fe3...\n",
      "Name: url, dtype: object}, 'classes': 'ref'}, {'data': {'id': 'S. Cady et al. (2003)', 'label': 'S. Cady et al. (2003)', 'title': 38    Morphological biosignatures and the search for...\n",
      "40    Morphological biosignatures and the search for...\n",
      "Name: title, dtype: object, 'url': 38    https://www.semanticscholar.org/paper/552c2f38...\n",
      "40    https://www.semanticscholar.org/paper/552c2f38...\n",
      "Name: url, dtype: object}, 'classes': 'ref'}, {'data': {'id': 'O. Korablev et al. (2017)', 'label': 'O. Korablev et al. (2017)', 'title': 36    Infrared Spectrometer for ExoMars: A Mast-Moun...\n",
      "Name: title, dtype: object, 'url': 36    https://www.semanticscholar.org/paper/7b437ed8...\n",
      "Name: url, dtype: object}, 'classes': 'ref'}, {'data': {'id': 'M. Wilhelm et al. (2017)', 'label': 'M. Wilhelm et al. (2017)', 'title': 44    Xeropreservation of functionalized lipid bioma...\n",
      "Name: title, dtype: object, 'url': 44    https://www.semanticscholar.org/paper/fa779fc6...\n",
      "Name: url, dtype: object}, 'classes': 'ref'}, {'data': {'id': 'R. Galbraith, G. Laslett (1988)', 'label': 'R. Galbraith, G. Laslett (1988)', 'title': 18    Some calculations relevant to thermal annealin...\n",
      "Name: title, dtype: object, 'url': 18    https://www.semanticscholar.org/paper/181a0eeb...\n",
      "Name: url, dtype: object}, 'classes': 'ref'}, {'data': {'id': 'C. Zeitlin et al. (2010)', 'label': 'C. Zeitlin et al. (2010)', 'title': 40    Mars Odyssey measurements of galactic cosmic r...\n",
      "Name: title, dtype: object, 'url': 40    https://www.semanticscholar.org/paper/74ac413c...\n",
      "Name: url, dtype: object}, 'classes': 'ref'}, {'data': {'id': 'L. Richardson (1996)', 'label': 'L. Richardson (1996)', 'title': 0    Remote Sensing of Algal Bloom DynamicsNew rese...\n",
      "Name: title, dtype: object, 'url': 0    https://www.semanticscholar.org/paper/01f669b9...\n",
      "Name: url, dtype: object}, 'classes': 'ref'}, {'data': {'id': 'T. Peters et al. (2015)', 'label': 'T. Peters et al. (2015)', 'title': 10    Tracking the source of the enriched martian me...\n",
      "Name: title, dtype: object, 'url': 10    https://www.semanticscholar.org/paper/1bcc56da...\n",
      "Name: url, dtype: object}, 'classes': 'ref'}, {'data': {'id': 'R. Bhartia et al. (2012)', 'label': 'R. Bhartia et al. (2012)', 'title': 24    Noncontact, reagentless, nondestructive, detec...\n",
      "Name: title, dtype: object, 'url': 24    https://www.semanticscholar.org/paper/350ce562...\n",
      "Name: url, dtype: object}, 'classes': 'ref'}, {'data': {'id': 'S. McKenna-Lawlor et al. (2012)', 'label': 'S. McKenna-Lawlor et al. (2012)', 'title': 27    Overview of energetic particle hazards during ...\n",
      "43    Characterization of the particle radiation env...\n",
      "Name: title, dtype: object, 'url': 27    https://www.semanticscholar.org/paper/5f9860b3...\n",
      "43    https://www.semanticscholar.org/paper/7bf4de67...\n",
      "Name: url, dtype: object}, 'classes': 'ref'}, {'data': {'id': 'R. Summons et al. (2011)', 'label': 'R. Summons et al. (2011)', 'title': 44    Preservation of martian organic and environmen...\n",
      "Name: title, dtype: object, 'url': 44    https://www.semanticscholar.org/paper/958b808c...\n",
      "Name: url, dtype: object}, 'classes': 'ref'}, {'data': {'id': 'S. Heising, B. Schink (1998)', 'label': 'S. Heising, B. Schink (1998)', 'title': 12    Phototrophic oxidation of ferrous iron by a Rh...\n",
      "Name: title, dtype: object, 'url': 12    https://www.semanticscholar.org/paper/0e5a55e8...\n",
      "Name: url, dtype: object}, 'classes': 'ref'}, {'data': {'id': 'Jie Wei et al. (2015)', 'label': 'Jie Wei et al. (2015)', 'title': 11    Autonomous soil analysis by the Mars Micro-bea...\n",
      "Name: title, dtype: object, 'url': 11    https://www.semanticscholar.org/paper/3ebaca03...\n",
      "Name: url, dtype: object}, 'classes': 'ref'}, {'data': {'id': 'S. Potter-McIntyre et al. (2014)', 'label': 'S. Potter-McIntyre et al. (2014)', 'title': 4     Textural and mineralogical characteristics of ...\n",
      "14    Textural and mineralogical characteristics of ...\n",
      "Name: title, dtype: object, 'url': 4     https://www.semanticscholar.org/paper/12640897...\n",
      "14    https://www.semanticscholar.org/paper/12640897...\n",
      "Name: url, dtype: object}, 'classes': 'ref'}, {'data': {'id': 'A. Sandhu et al. (1999)', 'label': 'A. Sandhu et al. (1999)', 'title': 34    Thermal stability of fission tracks in natural...\n",
      "Name: title, dtype: object, 'url': 34    https://www.semanticscholar.org/paper/2bc79641...\n",
      "Name: url, dtype: object}, 'classes': 'ref'}, {'data': {'id': 'H. Matzke (1984)', 'label': 'H. Matzke (1984)', 'title': 30    Actinide behavior and radiation damage produce...\n",
      "Name: title, dtype: object, 'url': 30    https://www.semanticscholar.org/paper/23da62bd...\n",
      "Name: url, dtype: object}, 'classes': 'ref'}, {'data': {'id': 'B. Berg et al. (2014)', 'label': 'B. Berg et al. (2014)', 'title': 45    Spectral features of biogenic calcium carbonat...\n",
      "Name: title, dtype: object, 'url': 45    https://www.semanticscholar.org/paper/963a99d2...\n",
      "Name: url, dtype: object}, 'classes': 'ref'}, {'data': {'id': 'R. Summons et al. (2011.0)', 'label': 'R. Summons et al. (2011.0)', 'title': 3    Preservation of martian organic and environmen...\n",
      "Name: title, dtype: object, 'url': 3    https://www.semanticscholar.org/paper/958b808c...\n",
      "Name: url, dtype: object}, 'classes': 'ref'}, {'data': {'id': 'J. Carter et al. (2013)', 'label': 'J. Carter et al. (2013)', 'title': 13    Hydrous minerals on Mars as seen by the CRISM ...\n",
      "Name: title, dtype: object, 'url': 13    https://www.semanticscholar.org/paper/35a12dc5...\n",
      "Name: url, dtype: object}, 'classes': 'ref'}, {'data': {'id': 'K. Kozarev et al. (2010)', 'label': 'K. Kozarev et al. (2010)', 'title': 25    Modeling the 2003 halloween events with EMMREM...\n",
      "Name: title, dtype: object, 'url': 25    https://www.semanticscholar.org/paper/56b779af...\n",
      "Name: url, dtype: object}, 'classes': 'ref'}, {'data': {'id': 'J. Clarke (2006)', 'label': 'J. Clarke (2006)', 'title': 38    Antiquity of aridity in the Chilean Atacama De...\n",
      "Name: title, dtype: object, 'url': 38    https://www.semanticscholar.org/paper/836f1a29...\n",
      "Name: url, dtype: object}, 'classes': 'ref'}, {'data': {'id': 'R. Fleischer, P. Price (1964)', 'label': 'R. Fleischer, P. Price (1964)', 'title': 42    Fission track evidence for the simultaneous or...\n",
      "Name: title, dtype: object, 'url': 42    https://www.semanticscholar.org/paper/33c8c145...\n",
      "Name: url, dtype: object}, 'classes': 'ref'}, {'data': {'id': 'B. Ehlmann et al. (2008)', 'label': 'B. Ehlmann et al. (2008)', 'title': 43    Clay minerals in delta deposits and organic pr...\n",
      "45    Orbital Identification of Carbonate-Bearing Ro...\n",
      "44    Clay minerals in delta deposits and organic pr...\n",
      "49    Orbital Identification of Carbonate-Bearing Ro...\n",
      "Name: title, dtype: object, 'url': 43    https://www.semanticscholar.org/paper/5ec38b2d...\n",
      "45    https://www.semanticscholar.org/paper/6479c0e4...\n",
      "44    https://www.semanticscholar.org/paper/5ec38b2d...\n",
      "49    https://www.semanticscholar.org/paper/6479c0e4...\n",
      "Name: url, dtype: object}, 'classes': 'ref'}, {'data': {'id': 'D. Emerson et al. (2013)', 'label': 'D. Emerson et al. (2013)', 'title': 34    Comparative genomics of freshwater Fe-oxidizin...\n",
      "Name: title, dtype: object, 'url': 34    https://www.semanticscholar.org/paper/c5cd4b25...\n",
      "Name: url, dtype: object}, 'classes': 'ref'}, {'data': {'id': 'J. Grotzinger (2014)', 'label': 'J. Grotzinger (2014)', 'title': 20    Exploring martian habitability. Habitability, ...\n",
      "Name: title, dtype: object, 'url': 20    https://www.semanticscholar.org/paper/470c2520...\n",
      "Name: url, dtype: object}, 'classes': 'ref'}, {'data': {'id': 'Y. Blanco et al. (2017)', 'label': 'Y. Blanco et al. (2017)', 'title': 24    Critical Assessment of Analytical Techniques i...\n",
      "Name: title, dtype: object, 'url': 24    https://www.semanticscholar.org/paper/5cc46488...\n",
      "Name: url, dtype: object}, 'classes': 'ref'}, {'data': {'id': 'S. E. Bramer (1998.0)', 'label': 'S. E. Bramer (1998.0)', 'title': 0    An Introduction to Mass Spectrometry\n",
      "Name: title, dtype: object, 'url': 0    https://www.semanticscholar.org/paper/0a538148...\n",
      "Name: url, dtype: object}, 'classes': 'ref'}, {'data': {'id': 'C. Cockell et al. (2009)', 'label': 'C. Cockell et al. (2009)', 'title': 39    Alteration textures in terrestrial volcanic gl...\n",
      "Name: title, dtype: object, 'url': 39    https://www.semanticscholar.org/paper/30185d6e...\n",
      "Name: url, dtype: object}, 'classes': 'ref'}, {'data': {'id': 'J. A. Russell et al. (2014)', 'label': 'J. A. Russell et al. (2014)', 'title': 48    Prokaryote populations of extant microbialites...\n",
      "Name: title, dtype: object, 'url': 48    https://www.semanticscholar.org/paper/2da67692...\n",
      "Name: url, dtype: object}, 'classes': 'ref'}, {'data': {'id': 'J. Bell et al. (2003)', 'label': 'J. Bell et al. (2003)', 'title': 15    Mars Exploration Rover Athena Panoramic Camera...\n",
      "Name: title, dtype: object, 'url': 15    https://www.semanticscholar.org/paper/286c555a...\n",
      "Name: url, dtype: object}, 'classes': 'ref'}, {'data': {'id': 'P. King, S. McLennan (2010)', 'label': 'P. King, S. McLennan (2010)', 'title': 18    Sulfur on Mars\n",
      "Name: title, dtype: object, 'url': 18    https://www.semanticscholar.org/paper/2d424d38...\n",
      "Name: url, dtype: object}, 'classes': 'ref'}, {'data': {'id': 'P. Christensen et al. (2000)', 'label': 'P. Christensen et al. (2000)', 'title': 10    Detection of crystalline hematite mineralizati...\n",
      "Name: title, dtype: object, 'url': 10    https://www.semanticscholar.org/paper/0b5099a0...\n",
      "Name: url, dtype: object}, 'classes': 'ref'}, {'data': {'id': 'H. Edwards et al. (2005)', 'label': 'H. Edwards et al. (2005)', 'title': 16    Raman spectroscopic detection of key biomarker...\n",
      "Name: title, dtype: object, 'url': 16    https://www.semanticscholar.org/paper/3c7955b1...\n",
      "Name: url, dtype: object}, 'classes': 'ref'}, {'data': {'id': 'K. Yamauchi et al. (1979)', 'label': 'K. Yamauchi et al. (1979)', 'title': 33    Trimethylsulfonium hydroxide: a new methylatin...\n",
      "Name: title, dtype: object, 'url': 33    https://www.semanticscholar.org/paper/c384a6da...\n",
      "Name: url, dtype: object}, 'classes': 'ref'}, {'data': {'id': 'J. Bada, G. Mcdonald (1995)', 'label': 'J. Bada, G. Mcdonald (1995)', 'title': 47    Amino acid racemization on Mars: implications ...\n",
      "Name: title, dtype: object, 'url': 47    https://www.semanticscholar.org/paper/3767a8da...\n",
      "Name: url, dtype: object}, 'classes': 'ref'}, {'data': {'id': 'M. Izawa et al. (2014)', 'label': 'M. Izawa et al. (2014)', 'title': 22    Reflectance spectroscopy (350–2500 nm) of soli...\n",
      "Name: title, dtype: object, 'url': 22    https://www.semanticscholar.org/paper/594d46a6...\n",
      "Name: url, dtype: object}, 'classes': 'ref'}, {'data': {'id': 'E. Eshelman et al. (2014)', 'label': 'E. Eshelman et al. (2014)', 'title': 39    An ultraviolet Raman wavelength for the in-sit...\n",
      "Name: title, dtype: object, 'url': 39    https://www.semanticscholar.org/paper/8669cce7...\n",
      "Name: url, dtype: object}, 'classes': 'ref'}, {'data': {'id': 'C. Marshall et al. (2010)', 'label': 'C. Marshall et al. (2010)', 'title': 48    Understanding the application of Raman spectro...\n",
      "Name: title, dtype: object, 'url': 48    https://www.semanticscholar.org/paper/62f002b5...\n",
      "Name: url, dtype: object}, 'classes': 'ref'}, {'data': {'id': 'D. D. Des Marais et al. (2003)', 'label': 'D. D. Des Marais et al. (2003)', 'title': 23    The NASA Astrobiology Roadmap.\n",
      "Name: title, dtype: object, 'url': 23    https://www.semanticscholar.org/paper/34e7e7a6...\n",
      "Name: url, dtype: object}, 'classes': 'ref'}, {'data': {'id': 'E. Lymer et al. (2020)', 'label': 'E. Lymer et al. (2020)', 'title': 8    UV laser‐induced fluorescence spectroscopy as ...\n",
      "Name: title, dtype: object, 'url': 8    https://www.semanticscholar.org/paper/1573dfbc...\n",
      "Name: url, dtype: object}, 'classes': 'ref'}, {'data': {'id': 'P. Allison, D. Briggs (1991)', 'label': 'P. Allison, D. Briggs (1991)', 'title': 31    Taphonomy of Nonmineralized Tissues\n",
      "Name: title, dtype: object, 'url': 31    https://www.semanticscholar.org/paper/d93759a5...\n",
      "Name: url, dtype: object}, 'classes': 'ref'}, {'data': {'id': 'C. Alpers et al. (2003)', 'label': 'C. Alpers et al. (2003)', 'title': 10    Extreme acid mine drainage from a pyritic mass...\n",
      "Name: title, dtype: object, 'url': 10    https://www.semanticscholar.org/paper/468f023f...\n",
      "Name: url, dtype: object}, 'classes': 'ref'}, {'data': {'id': 'S. Benner et al. (2000)', 'label': 'S. Benner et al. (2000)', 'title': 18    The missing organic molecules on Mars.\n",
      "Name: title, dtype: object, 'url': 18    https://www.semanticscholar.org/paper/218407ab...\n",
      "Name: url, dtype: object}, 'classes': 'ref'}, {'data': {'id': 'M. Zolotov, J. Kargel (2009)', 'label': 'M. Zolotov, J. Kargel (2009)', 'title': 4    On the Chemical Composition of Europa's Icy Sh...\n",
      "Name: title, dtype: object, 'url': 4    https://www.semanticscholar.org/paper/0e16eef9...\n",
      "Name: url, dtype: object}, 'classes': 'ref'}, {'data': {'id': 'K. Williams et al. (2010)', 'label': 'K. Williams et al. (2010)', 'title': 23    Do ice caves exist on Mars\n",
      "Name: title, dtype: object, 'url': 23    https://www.semanticscholar.org/paper/16761353...\n",
      "Name: url, dtype: object}, 'classes': 'ref'}, {'data': {'id': 'P. Jiggens et al. (2011)', 'label': 'P. Jiggens et al. (2011)', 'title': 42    ESA SEPEM project: Peak flux and fluence model\n",
      "Name: title, dtype: object, 'url': 42    https://www.semanticscholar.org/paper/7aaaea81...\n",
      "Name: url, dtype: object}, 'classes': 'ref'}, {'data': {'id': 'J. Smith, I. Kaplan (1970)', 'label': 'J. Smith, I. Kaplan (1970)', 'title': 41    Endogenous Carbon in Carbonaceous Meteorites\n",
      "Name: title, dtype: object, 'url': 41    https://www.semanticscholar.org/paper/59e42369...\n",
      "Name: url, dtype: object}, 'classes': 'ref'}, {'data': {'id': 'O. Botta et al. (2004)', 'label': 'O. Botta et al. (2004)', 'title': 8    Relative Amino Acid Concentrations as a Signat...\n",
      "Name: title, dtype: object, 'url': 8    https://www.semanticscholar.org/paper/25f1e473...\n",
      "Name: url, dtype: object}, 'classes': 'ref'}, {'data': {'id': 'V. Kolb, P. J. Liesch (2008)', 'label': 'V. Kolb, P. J. Liesch (2008)', 'title': 14    Astrobiological relevance of phenols and their...\n",
      "Name: title, dtype: object, 'url': 14    https://www.semanticscholar.org/paper/25a070b4...\n",
      "Name: url, dtype: object}, 'classes': 'ref'}, {'data': {'id': 'K. Farley, K. Williford (2017)', 'label': 'K. Farley, K. Williford (2017)', 'title': 28    Seeking Signs of Life and More: NASA's Mars 20...\n",
      "Name: title, dtype: object, 'url': 28    https://www.semanticscholar.org/paper/65da3215...\n",
      "Name: url, dtype: object}, 'classes': 'ref'}, {'data': {'id': 'Clara S. Chan et al. (2016)', 'label': 'Clara S. Chan et al. (2016)', 'title': 21    The Architecture of Iron Microbial Mats Reflec...\n",
      "Name: title, dtype: object, 'url': 21    https://www.semanticscholar.org/paper/781f36f4...\n",
      "Name: url, dtype: object}, 'classes': 'ref'}, {'data': {'id': 'J. Cronin, S. Pizzarello (1997)', 'label': 'J. Cronin, S. Pizzarello (1997)', 'title': 14    Enantiomeric Excesses in Meteoritic Amino Acids\n",
      "Name: title, dtype: object, 'url': 14    https://www.semanticscholar.org/paper/18d6f6ca...\n",
      "Name: url, dtype: object}, 'classes': 'ref'}, {'data': {'id': 'L. Haley et al. (1982)', 'label': 'L. Haley et al. (1982)', 'title': 27    An investigation of the lattice and interlayer...\n",
      "Name: title, dtype: object, 'url': 27    https://www.semanticscholar.org/paper/653ecacb...\n",
      "Name: url, dtype: object}, 'classes': 'ref'}, {'data': {'id': 'C. Allen et al. (2000)', 'label': 'C. Allen et al. (2000)', 'title': 1    Microscopic physical biomarkers in carbonate h...\n",
      "Name: title, dtype: object, 'url': 1    https://www.semanticscholar.org/paper/01a5ba51...\n",
      "Name: url, dtype: object}, 'classes': 'ref'}, {'data': {'id': 'J. Grotzinger et al. (2012)', 'label': 'J. Grotzinger et al. (2012)', 'title': 39    Mars Science Laboratory Mission and Science In...\n",
      "Name: title, dtype: object, 'url': 39    https://www.semanticscholar.org/paper/71f0cee4...\n",
      "Name: url, dtype: object}, 'classes': 'ref'}, {'data': {'id': 'C. Kruber et al. (2008)', 'label': 'C. Kruber et al. (2008)', 'title': 36    Seafloor alteration of basaltic glass: Texture...\n",
      "Name: title, dtype: object, 'url': 36    https://www.semanticscholar.org/paper/2c3ce140...\n",
      "Name: url, dtype: object}, 'classes': 'ref'}, {'data': {'id': 'M. Battler et al. (2013)', 'label': 'M. Battler et al. (2013)', 'title': 39    Mineralogy of saline perennial cold springs on...\n",
      "Name: title, dtype: object, 'url': 39    https://www.semanticscholar.org/paper/585a0cf0...\n",
      "Name: url, dtype: object}, 'classes': 'ref'}, {'data': {'id': 'A. Beliaev et al. (2002)', 'label': 'A. Beliaev et al. (2002)', 'title': 42    Gene and protein expression profiles of Shewan...\n",
      "Name: title, dtype: object, 'url': 42    https://www.semanticscholar.org/paper/eceb150e...\n",
      "Name: url, dtype: object}, 'classes': 'ref'}, {'data': {'id': 'J. Bibring et al. (2006)', 'label': 'J. Bibring et al. (2006)', 'title': 14    Global Mineralogical and Aqueous Mars History ...\n",
      "Name: title, dtype: object, 'url': 14    https://www.semanticscholar.org/paper/39fce80e...\n",
      "Name: url, dtype: object}, 'classes': 'ref'}, {'data': {'id': 'F. Cucinotta et al. (2006)', 'label': 'F. Cucinotta et al. (2006)', 'title': 23    Evaluating shielding effectiveness for reducin...\n",
      "Name: title, dtype: object, 'url': 23    https://www.semanticscholar.org/paper/55ca6437...\n",
      "Name: url, dtype: object}, 'classes': 'ref'}, {'data': {'id': 'K. F. Weaver (1973)', 'label': 'K. F. Weaver (1973)', 'title': 11    The search for life on Mars\n",
      "Name: title, dtype: object, 'url': 11    https://www.semanticscholar.org/paper/1a31203f...\n",
      "Name: url, dtype: object}, 'classes': 'ref'}, {'data': {'id': 'G. Berard et al. (2013)', 'label': 'G. Berard et al. (2013)', 'title': 45    A hypersaline spring analogue in Manitoba, Can...\n",
      "Name: title, dtype: object, 'url': 45    https://www.semanticscholar.org/paper/675079b1...\n",
      "Name: url, dtype: object}, 'classes': 'ref'}, {'data': {'id': 'U. Schwertmann, R. M. Cornell (2003)', 'label': 'U. Schwertmann, R. M. Cornell (2003)', 'title': 20    The Iron Oxides\n",
      "Name: title, dtype: object, 'url': 20    https://www.semanticscholar.org/paper/82745994...\n",
      "Name: url, dtype: object}, 'classes': 'ref'}, {'data': {'id': 'M. Carr, J. Head (2010)', 'label': 'M. Carr, J. Head (2010)', 'title': 33    Geologic history of Mars\n",
      "Name: title, dtype: object, 'url': 33    https://www.semanticscholar.org/paper/721301ad...\n",
      "Name: url, dtype: object}, 'classes': 'ref'}, {'data': {'id': 'B. Ehlmann et al. (2009)', 'label': 'B. Ehlmann et al. (2009)', 'title': 30    Identification of hydrated silicate minerals o...\n",
      "Name: title, dtype: object, 'url': 30    https://www.semanticscholar.org/paper/462d207d...\n",
      "Name: url, dtype: object}, 'classes': 'ref'}, {'data': {'id': 'S. Atreya et al. (2006)', 'label': 'S. Atreya et al. (2006)', 'title': 10    Oxidant enhancement in martian dust devils and...\n",
      "Name: title, dtype: object, 'url': 10    https://www.semanticscholar.org/paper/128f71c2...\n",
      "Name: url, dtype: object}, 'classes': 'ref'}, {'data': {'id': 'A. Aubrey et al. (2008.0)', 'label': 'A. Aubrey et al. (2008.0)', 'title': 4    The Urey instrument: an advanced in situ organ...\n",
      "Name: title, dtype: object, 'url': 4    https://www.semanticscholar.org/paper/c65efcd2...\n",
      "Name: url, dtype: object}, 'classes': 'ref'}, {'data': {'id': 'P. Ehrenfreund et al. (2011)', 'label': 'P. Ehrenfreund et al. (2011)', 'title': 19    Astrobiology and habitability studies in prepa...\n",
      "Name: title, dtype: object, 'url': 19    https://www.semanticscholar.org/paper/421b2269...\n",
      "Name: url, dtype: object}, 'classes': 'ref'}, {'data': {'id': 'D. Northup et al. (2011)', 'label': 'D. Northup et al. (2011)', 'title': 34    Lava cave microbial communities within mats an...\n",
      "Name: title, dtype: object, 'url': 34    https://www.semanticscholar.org/paper/1ed879ed...\n",
      "Name: url, dtype: object}, 'classes': 'ref'}, {'data': {'id': 'D. Ming et al. (2014)', 'label': 'D. Ming et al. (2014)', 'title': 33    Volatile and Organic Compositions of Sedimenta...\n",
      "19    Volatile and Organic Compositions of Sedimenta...\n",
      "Name: title, dtype: object, 'url': 33    https://www.semanticscholar.org/paper/6c1f7fae...\n",
      "19    https://www.semanticscholar.org/paper/6c1f7fae...\n",
      "Name: url, dtype: object}, 'classes': 'ref'}, {'data': {'id': 'K. Hughes, B. Lawley (2003)', 'label': 'K. Hughes, B. Lawley (2003)', 'title': 21    A novel Antarctic microbial endolithic communi...\n",
      "Name: title, dtype: object, 'url': 21    https://www.semanticscholar.org/paper/31bdbff0...\n",
      "Name: url, dtype: object}, 'classes': 'ref'}, {'data': {'id': 'L. Dartnell et al. (2007)', 'label': 'L. Dartnell et al. (2007)', 'title': 2     Modelling the surface and subsurface Martian r...\n",
      "11    Modelling the surface and subsurface Martian r...\n",
      "5     Modelling the surface and subsurface Martian r...\n",
      "Name: title, dtype: object, 'url': 2     https://www.semanticscholar.org/paper/0c613f8a...\n",
      "11    https://www.semanticscholar.org/paper/0c613f8a...\n",
      "5     https://www.semanticscholar.org/paper/0c613f8a...\n",
      "Name: url, dtype: object}, 'classes': 'ref'}, {'data': {'id': 'S. Grasby, K. Londry (2007)', 'label': 'S. Grasby, K. Londry (2007)', 'title': 27    Biogeochemistry of hypersaline springs support...\n",
      "Name: title, dtype: object, 'url': 27    https://www.semanticscholar.org/paper/3ad93207...\n",
      "Name: url, dtype: object}, 'classes': 'ref'}, {'data': {'id': 'R. Quinn et al. (2013)', 'label': 'R. Quinn et al. (2013)', 'title': 35    Perchlorate radiolysis on Mars and the origin ...\n",
      "Name: title, dtype: object, 'url': 35    https://www.semanticscholar.org/paper/7843076f...\n",
      "Name: url, dtype: object}, 'classes': 'ref'}, {'data': {'id': 'R. Castenholz (1988)', 'label': 'R. Castenholz (1988)', 'title': 37    [3] Culturing methods for cyanobacteria\n",
      "Name: title, dtype: object, 'url': 37    https://www.semanticscholar.org/paper/22357837...\n",
      "Name: url, dtype: object}, 'classes': 'ref'}, {'data': {'id': 'Furnes et al. (1999)', 'label': 'Furnes et al. (1999)', 'title': 12    Depth of active bio‐alteration in the ocean cr...\n",
      "Name: title, dtype: object, 'url': 12    https://www.semanticscholar.org/paper/13d27d08...\n",
      "Name: url, dtype: object}, 'classes': 'ref'}, {'data': {'id': 'E. Cloutis et al. (2015)', 'label': 'E. Cloutis et al. (2015)', 'title': 8    The Canadian space agency planetary analogue m...\n",
      "Name: title, dtype: object, 'url': 8    https://www.semanticscholar.org/paper/20328886...\n",
      "Name: url, dtype: object}, 'classes': 'ref'}, {'data': {'id': 'W. M. Haynes (1990)', 'label': 'W. M. Haynes (1990)', 'title': 19    CRC Handbook of Chemistry and Physics\n",
      "Name: title, dtype: object, 'url': 19    https://www.semanticscholar.org/paper/49cdf164...\n",
      "Name: url, dtype: object}, 'classes': 'ref'}, {'data': {'id': 'A. Bradley et al. (2009)', 'label': 'A. Bradley et al. (2009)', 'title': 0    Extraordinary 13C enrichment of diether lipids...\n",
      "Name: title, dtype: object, 'url': 0    https://www.semanticscholar.org/paper/00af4322...\n",
      "Name: url, dtype: object}, 'classes': 'ref'}, {'data': {'id': 'N. Beukes et al. (1990)', 'label': 'N. Beukes et al. (1990)', 'title': 6    Carbonate petrography, kerogen distribution, a...\n",
      "Name: title, dtype: object, 'url': 6    https://www.semanticscholar.org/paper/06cce826...\n",
      "Name: url, dtype: object}, 'classes': 'ref'}, {'data': {'id': 'S. McLennan et al. (2005)', 'label': 'S. McLennan et al. (2005)', 'title': 32    Provenance and diagenesis of the evaporite-bea...\n",
      "Name: title, dtype: object, 'url': 32    https://www.semanticscholar.org/paper/dcfe4514...\n",
      "Name: url, dtype: object}, 'classes': 'ref'}, {'data': {'id': 'J. Bishop et al. (2008)', 'label': 'J. Bishop et al. (2008)', 'title': 37    Reflectance and emission spectroscopy study of...\n",
      "Name: title, dtype: object, 'url': 37    https://www.semanticscholar.org/paper/efff25ec...\n",
      "Name: url, dtype: object}, 'classes': 'ref'}, {'data': {'id': 'J. Bell et al. (2006)', 'label': 'J. Bell et al. (2006)', 'title': 17    In‐flight calibration and performance of the M...\n",
      "Name: title, dtype: object, 'url': 17    https://www.semanticscholar.org/paper/2a4693b5...\n",
      "Name: url, dtype: object}, 'classes': 'ref'}, {'data': {'id': 'K. Biemann (2007)', 'label': 'K. Biemann (2007)', 'title': 49    On the ability of the Viking gas chromatograph...\n",
      "Name: title, dtype: object, 'url': 49    https://www.semanticscholar.org/paper/7305159d...\n",
      "Name: url, dtype: object}, 'classes': 'ref'}, {'data': {'id': None, 'label': None, 'title': Series([], Name: title, dtype: object), 'url': Series([], Name: url, dtype: object)}, 'classes': 'ref'}, {'data': {'id': 'Chris McKay (2004)', 'label': 'Chris McKay (2004)', 'title': 23    What Is Life—and How Do We Search for It in Ot...\n",
      "Name: title, dtype: object, 'url': 23    https://www.semanticscholar.org/paper/2d80e279...\n",
      "Name: url, dtype: object}, 'classes': 'ref'}, {'data': {'id': 'F. Westall (2008)', 'label': 'F. Westall (2008)', 'title': 34    Morphological Biosignatures in Early Terrestri...\n",
      "Name: title, dtype: object, 'url': 34    https://www.semanticscholar.org/paper/e298b34b...\n",
      "Name: url, dtype: object}, 'classes': 'ref'}, {'data': {'id': 'R. Rieder et al. (2004)', 'label': 'R. Rieder et al. (2004)', 'title': 14    Chemistry of Rocks and Soils at Meridiani Plan...\n",
      "Name: title, dtype: object, 'url': 14    https://www.semanticscholar.org/paper/14f00de9...\n",
      "Name: url, dtype: object}, 'classes': 'ref'}, {'data': {'id': 'R. Mancinelli et al. (2004)', 'label': 'R. Mancinelli et al. (2004)', 'title': 32    Brines and evaporites: analogs for Martian life\n",
      "Name: title, dtype: object, 'url': 32    https://www.semanticscholar.org/paper/410d1d89...\n",
      "Name: url, dtype: object}, 'classes': 'ref'}, {'data': {'id': 'J. Hedges, P. E. Hare (1987)', 'label': 'J. Hedges, P. E. Hare (1987)', 'title': 38    Amino acid adsorption by clay minerals in dist...\n",
      "Name: title, dtype: object, 'url': 38    https://www.semanticscholar.org/paper/5839b70e...\n",
      "Name: url, dtype: object}, 'classes': 'ref'}, {'data': {'id': 'F. Gómez et al. (2011)', 'label': 'F. Gómez et al. (2011)', 'title': 44    Multidisciplinary integrated field campaign to...\n",
      "Name: title, dtype: object, 'url': 44    https://www.semanticscholar.org/paper/6609176c...\n",
      "Name: url, dtype: object}, 'classes': 'ref'}, {'data': {'id': 'E. Cloutis et al. (2007)', 'label': 'E. Cloutis et al. (2007)', 'title': 28    Stability of hydrated minerals on Mars\n",
      "Name: title, dtype: object, 'url': 28    https://www.semanticscholar.org/paper/3dd83e05...\n",
      "Name: url, dtype: object}, 'classes': 'ref'}, {'data': {'id': 'R. Summons et al. (1988)', 'label': 'R. Summons et al. (1988)', 'title': 30    Distinctive hydrocarbon biomarkers from fossil...\n",
      "Name: title, dtype: object, 'url': 30    https://www.semanticscholar.org/paper/b2907666...\n",
      "Name: url, dtype: object}, 'classes': 'ref'}, {'data': {'id': 'A. Hamilton, R. I. Menzies (2010)', 'label': 'A. Hamilton, R. I. Menzies (2010)', 'title': 21    Raman spectra of mirabilite, Na2SO4·10H2O and ...\n",
      "Name: title, dtype: object, 'url': 21    https://www.semanticscholar.org/paper/85f5a5e8...\n",
      "Name: url, dtype: object}, 'classes': 'ref'}, {'data': {'id': 'H. Furnes et al. (1996)', 'label': 'H. Furnes et al. (1996)', 'title': 21    Microbial activity in the alteration of glass ...\n",
      "Name: title, dtype: object, 'url': 21    https://www.semanticscholar.org/paper/1e2b7c00...\n",
      "Name: url, dtype: object}, 'classes': 'ref'}, {'data': {'id': 'R. Steiger, E. Jäger (1977)', 'label': 'R. Steiger, E. Jäger (1977)', 'title': 27    Subcommission on geochronology: Convention on ...\n",
      "Name: title, dtype: object, 'url': 27    https://www.semanticscholar.org/paper/228d82d3...\n",
      "Name: url, dtype: object}, 'classes': 'ref'}, {'data': {'id': 'D. Matthiä et al. (2017)', 'label': 'D. Matthiä et al. (2017)', 'title': 4    The radiation environment on the surface of Ma...\n",
      "Name: title, dtype: object, 'url': 4    https://www.semanticscholar.org/paper/0ddc985b...\n",
      "Name: url, dtype: object}, 'classes': 'ref'}, {'data': {'id': 'R. Yamada et al. (1993)', 'label': 'R. Yamada et al. (1993)', 'title': 38    Assessment of overetching factor for confined ...\n",
      "Name: title, dtype: object, 'url': 38    https://www.semanticscholar.org/paper/2ff2397b...\n",
      "Name: url, dtype: object}, 'classes': 'ref'}, {'data': {'id': 'H. Edwards et al. (2012)', 'label': 'H. Edwards et al. (2012)', 'title': 48    The ExoMars Raman spectrometer and the identif...\n",
      "Name: title, dtype: object, 'url': 48    https://www.semanticscholar.org/paper/6dfbf383...\n",
      "Name: url, dtype: object}, 'classes': 'ref'}, {'data': {'id': 'G. Osinski et al. (2019)', 'label': 'G. Osinski et al. (2019)', 'title': 12    The CanMars Mars Sample Return analogue mission\n",
      "Name: title, dtype: object, 'url': 12    https://www.semanticscholar.org/paper/3506daaa...\n",
      "Name: url, dtype: object}, 'classes': 'ref'}, {'data': {'id': 'S. Gainey et al. (2017)', 'label': 'S. Gainey et al. (2017)', 'title': 18    Clay mineral formation under oxidized conditio...\n",
      "Name: title, dtype: object, 'url': 18    https://www.semanticscholar.org/paper/4010eb5e...\n",
      "Name: url, dtype: object}, 'classes': 'ref'}, {'data': {'id': 'F. Grunthaner et al. (2012.0)', 'label': 'F. Grunthaner et al. (2012.0)', 'title': 2    Integrated End-to-End Sampling System with Rea...\n",
      "Name: title, dtype: object, 'url': 2    https://www.semanticscholar.org/paper/48861439...\n",
      "Name: url, dtype: object}, 'classes': 'ref'}, {'data': {'id': 'O. Prieto-Ballesteros et al. (2003)', 'label': 'O. Prieto-Ballesteros et al. (2003)', 'title': 22    Tírez lake as a terrestrial analog of Europa.\n",
      "Name: title, dtype: object, 'url': 22    https://www.semanticscholar.org/paper/90f4e6c9...\n",
      "Name: url, dtype: object}, 'classes': 'ref'}, {'data': {'id': 'T. G. Powell (1986)', 'label': 'T. G. Powell (1986)', 'title': 7    Petroleum geochemistry and depositional settin...\n",
      "Name: title, dtype: object, 'url': 7    https://www.semanticscholar.org/paper/19b1312a...\n",
      "Name: url, dtype: object}, 'classes': 'ref'}, {'data': {'id': 'I. Foster et al. (2010)', 'label': 'I. Foster et al. (2010)', 'title': 41    Characterization of halophiles in natural MgSO...\n",
      "Name: title, dtype: object, 'url': 41    https://www.semanticscholar.org/paper/5d04a193...\n",
      "Name: url, dtype: object}, 'classes': 'ref'}, {'data': {'id': 'D. Canfield (2001)', 'label': 'D. Canfield (2001)', 'title': 22    Biogeochemistry of Sulfur Isotopes\n",
      "Name: title, dtype: object, 'url': 22    https://www.semanticscholar.org/paper/2cc939e0...\n",
      "Name: url, dtype: object}, 'classes': 'ref'}, {'data': {'id': 'R. Barbieri, N. Stivaletta (2011)', 'label': 'R. Barbieri, N. Stivaletta (2011)', 'title': 20    Continental evaporites and the search for evid...\n",
      "Name: title, dtype: object, 'url': 20    https://www.semanticscholar.org/paper/30e43a55...\n",
      "Name: url, dtype: object}, 'classes': 'ref'}, {'data': {'id': 'P. Christensen et al. (2001)', 'label': 'P. Christensen et al. (2001)', 'title': 40    Global mapping of Martian hematite mineral dep...\n",
      "Name: title, dtype: object, 'url': 40    https://www.semanticscholar.org/paper/24e379db...\n",
      "Name: url, dtype: object}, 'classes': 'ref'}, {'data': {'id': 'L. Leshin et al. (2013)', 'label': 'L. Leshin et al. (2013)', 'title': 9    Volatile, Isotope, and Organic Analysis of Mar...\n",
      "Name: title, dtype: object, 'url': 9    https://www.semanticscholar.org/paper/0a5c756f...\n",
      "Name: url, dtype: object}, 'classes': 'ref'}, {'data': {'id': 'A. Davila et al. (2008)', 'label': 'A. Davila et al. (2008)', 'title': 30    Subsurface formation of oxidants on Mars and i...\n",
      "Name: title, dtype: object, 'url': 30    https://www.semanticscholar.org/paper/1dd4af19...\n",
      "Name: url, dtype: object}, 'classes': 'ref'}, {'data': {'id': 'D. Burr et al. (2002)', 'label': 'D. Burr et al. (2002)', 'title': 49    Repeated Aqueous Flooding from the Cerberus Fo...\n",
      "Name: title, dtype: object, 'url': 49    https://www.semanticscholar.org/paper/6ee09d12...\n",
      "Name: url, dtype: object}, 'classes': 'ref'}, {'data': {'id': 'H. Furnes et al. (2005)', 'label': 'H. Furnes et al. (2005)', 'title': 15    Preservation of biosignatures in metaglassy vo...\n",
      "Name: title, dtype: object, 'url': 15    https://www.semanticscholar.org/paper/16066211...\n",
      "Name: url, dtype: object}, 'classes': 'ref'}, {'data': {'id': 'J. Bell et al. (2012)', 'label': 'J. Bell et al. (2012)', 'title': 14    Mastcam Multispectral Imaging on the Mars Scie...\n",
      "Name: title, dtype: object, 'url': 14    https://www.semanticscholar.org/paper/2178132d...\n",
      "Name: url, dtype: object}, 'classes': 'ref'}, {'data': {'id': 'N. Sleep, D. Bird (2007)', 'label': 'N. Sleep, D. Bird (2007)', 'title': 21    Niches of the pre‐photosynthetic biosphere and...\n",
      "Name: title, dtype: object, 'url': 21    https://www.semanticscholar.org/paper/2b5049f3...\n",
      "Name: url, dtype: object}, 'classes': 'ref'}, {'data': {'id': 'D. Emerson et al. (2010)', 'label': 'D. Emerson et al. (2010)', 'title': 16    Iron-oxidizing bacteria: an environmental and ...\n",
      "Name: title, dtype: object, 'url': 16    https://www.semanticscholar.org/paper/6951ce3c...\n",
      "Name: url, dtype: object}, 'classes': 'ref'}, {'data': {'id': 'J. Farmer, D. D. Des Marais (1999)', 'label': 'J. Farmer, D. D. Des Marais (1999)', 'title': 11    Exploring for a record of ancient Martian life.\n",
      "15    Exploring for a record of ancient Martian life.\n",
      "8     Exploring for a record of ancient Martian life.\n",
      "6     Exploring for a record of ancient Martian life.\n",
      "Name: title, dtype: object, 'url': 11    https://www.semanticscholar.org/paper/129df25c...\n",
      "15    https://www.semanticscholar.org/paper/129df25c...\n",
      "8     https://www.semanticscholar.org/paper/129df25c...\n",
      "6     https://www.semanticscholar.org/paper/129df25c...\n",
      "Name: url, dtype: object}, 'classes': 'ref'}, {'data': {'id': 'E. Lester et al. (2007)', 'label': 'E. Lester et al. (2007)', 'title': 12    Microflora of extreme arid Atacama Desert soils\n",
      "Name: title, dtype: object, 'url': 12    https://www.semanticscholar.org/paper/2fdf4af8...\n",
      "Name: url, dtype: object}, 'classes': 'ref'}, {'data': {'id': 'T. Rhind et al. (2014)', 'label': 'T. Rhind et al. (2014)', 'title': 48    Gypsum-hosted endolithic communities of the La...\n",
      "Name: title, dtype: object, 'url': 48    https://www.semanticscholar.org/paper/9e019338...\n",
      "Name: url, dtype: object}, 'classes': 'ref'}, {'data': {'id': 'Lennart Roestel et al. (2020)', 'label': 'Lennart Roestel et al. (2020)', 'title': 30    Subsurface Radiation Environment of Mars and I...\n",
      "Name: title, dtype: object, 'url': 30    https://www.semanticscholar.org/paper/61ef3322...\n",
      "Name: url, dtype: object}, 'classes': 'ref'}, {'data': {'id': 'A. Steele et al. (2016)', 'label': 'A. Steele et al. (2016)', 'title': 28    The provenance, formation, and implications of...\n",
      "Name: title, dtype: object, 'url': 28    https://www.semanticscholar.org/paper/4143ed53...\n",
      "Name: url, dtype: object}, 'classes': 'ref'}, {'data': {'id': 'T. Hoehler (2007)', 'label': 'T. Hoehler (2007)', 'title': 1    An energy balance concept for habitability.\n",
      "Name: title, dtype: object, 'url': 1    https://www.semanticscholar.org/paper/014ea795...\n",
      "Name: url, dtype: object}, 'classes': 'ref'}, {'data': {'id': 'C. McKay et al. (2003)', 'label': 'C. McKay et al. (2003)', 'title': 24    Temperature and moisture conditions for life i...\n",
      "Name: title, dtype: object, 'url': 24    https://www.semanticscholar.org/paper/5836bf0c...\n",
      "Name: url, dtype: object}, 'classes': 'ref'}, {'data': {'id': 'N. Rividi et al. (2010)', 'label': 'N. Rividi et al. (2010)', 'title': 18    Calibration of carbonate composition using mic...\n",
      "Name: title, dtype: object, 'url': 18    https://www.semanticscholar.org/paper/7e3c44b9...\n",
      "Name: url, dtype: object}, 'classes': 'ref'}, {'data': {'id': 'K. A. Ross, R. V. Fisher (1986)', 'label': 'K. A. Ross, R. V. Fisher (1986)', 'title': 35    Biogenic grooving on glass shards\n",
      "Name: title, dtype: object, 'url': 35    https://www.semanticscholar.org/paper/2c2c5138...\n",
      "Name: url, dtype: object}, 'classes': 'ref'}, {'data': {'id': 'M. Fisk et al. (2003)', 'label': 'M. Fisk et al. (2003)', 'title': 20    Evidence of biological activity in Hawaiian su...\n",
      "Name: title, dtype: object, 'url': 20    https://www.semanticscholar.org/paper/1c7fab8f...\n",
      "Name: url, dtype: object}, 'classes': 'ref'}, {'data': {'id': 'R. Bhartia et al. (2008)', 'label': 'R. Bhartia et al. (2008)', 'title': 29    Classification of Organic and Biological Mater...\n",
      "Name: title, dtype: object, 'url': 29    https://www.semanticscholar.org/paper/45ce86de...\n",
      "Name: url, dtype: object}, 'classes': 'ref'}, {'data': {'id': 'H. Posamentier, V. Kolla (2003)', 'label': 'H. Posamentier, V. Kolla (2003)', 'title': 44    Seismic Geomorphology and Stratigraphy of Depo...\n",
      "Name: title, dtype: object, 'url': 44    https://www.semanticscholar.org/paper/29f96614...\n",
      "Name: url, dtype: object}, 'classes': 'ref'}, {'data': {'id': 'A. Mrigakshi et al. (2012)', 'label': 'A. Mrigakshi et al. (2012)', 'title': 41    Assessment of galactic cosmic ray models\n",
      "Name: title, dtype: object, 'url': 41    https://www.semanticscholar.org/paper/79076871...\n",
      "Name: url, dtype: object}, 'classes': 'ref'}, {'data': {'id': 'S. Shkolyar et al. (2018)', 'label': 'S. Shkolyar et al. (2018)', 'title': 33    Detecting Kerogen as a Biosignature Using Colo...\n",
      "Name: title, dtype: object, 'url': 33    https://www.semanticscholar.org/paper/df23a6cb...\n",
      "Name: url, dtype: object}, 'classes': 'ref'}, {'data': {'id': 'G. Wagner, P. Haute (1992)', 'label': 'G. Wagner, P. Haute (1992)', 'title': 7    Fission track dating\n",
      "Name: title, dtype: object, 'url': 7    https://www.semanticscholar.org/paper/0ba4b79c...\n",
      "Name: url, dtype: object}, 'classes': 'ref'}, {'data': {'id': 'Jingnan Guo et al. (2017)', 'label': 'Jingnan Guo et al. (2017)', 'title': 18    A generalized approach to model the spectra an...\n",
      "29    Dependence of the Martian radiation environmen...\n",
      "Name: title, dtype: object, 'url': 18    https://www.semanticscholar.org/paper/40003f98...\n",
      "29    https://www.semanticscholar.org/paper/60634ca9...\n",
      "Name: url, dtype: object}, 'classes': 'ref'}, {'data': {'id': 'K. István et al. (2003)', 'label': 'K. István et al. (2003)', 'title': 35    Normal Raman and surface enhanced Raman spectr...\n",
      "Name: title, dtype: object, 'url': 35    https://www.semanticscholar.org/paper/4e4e0c34...\n",
      "Name: url, dtype: object}, 'classes': 'ref'}, {'data': {'id': 'D. Fliegel et al. (2010)', 'label': 'D. Fliegel et al. (2010)', 'title': 25    In-situ dating of the Earth's oldest trace fos...\n",
      "Name: title, dtype: object, 'url': 25    https://www.semanticscholar.org/paper/1fdf39df...\n",
      "Name: url, dtype: object}, 'classes': 'ref'}, {'data': {'id': 'G. Loppnow et al. (2004)', 'label': 'G. Loppnow et al. (2004)', 'title': 27    UV Raman spectroscopy of hydrocarbons\n",
      "Name: title, dtype: object, 'url': 27    https://www.semanticscholar.org/paper/3bcaf3d1...\n",
      "Name: url, dtype: object}, 'classes': 'ref'}, {'data': {'id': 'C. Fassett et al. (2010)', 'label': 'C. Fassett et al. (2010)', 'title': 30    Supraglacial and proglacial valleys on Amazoni...\n",
      "Name: title, dtype: object, 'url': 30    https://www.semanticscholar.org/paper/40720fee...\n",
      "Name: url, dtype: object}, 'classes': 'ref'}, {'data': {'id': 'J. Masarik, R. Reedy (1996)', 'label': 'J. Masarik, R. Reedy (1996)', 'title': 28    Gamma ray production and transport in Mars\n",
      "Name: title, dtype: object, 'url': 28    https://www.semanticscholar.org/paper/5feaea80...\n",
      "Name: url, dtype: object}, 'classes': 'ref'}, {'data': {'id': 'K. Williford et al. (2018)', 'label': 'K. Williford et al. (2018)', 'title': 41    The NASA Mars 2020 Rover Mission and the Searc...\n",
      "Name: title, dtype: object, 'url': 41    https://www.semanticscholar.org/paper/56c301de...\n",
      "Name: url, dtype: object}, 'classes': 'ref'}, {'data': {'id': 'Division on Earth (2007)', 'label': 'Division on Earth (2007)', 'title': 8    The Limits of Organic Life in Planetary Systems\n",
      "Name: title, dtype: object, 'url': 8    https://www.semanticscholar.org/paper/0d6a9b1f...\n",
      "Name: url, dtype: object}, 'classes': 'ref'}, {'data': {'id': 'P. A. Baker, S. Bloomer (1988)', 'label': 'P. A. Baker, S. Bloomer (1988)', 'title': 24    The origin of celestite in deep-sea carbonate ...\n",
      "Name: title, dtype: object, 'url': 24    https://www.semanticscholar.org/paper/a8fd2f09...\n",
      "Name: url, dtype: object}, 'classes': 'ref'}, {'data': {'id': 'N. Noffke (1978)', 'label': 'N. Noffke (1978)', 'title': 2    Microbially induced sedimentary structures\n",
      "2    Microbially induced sedimentary structures\n",
      "Name: title, dtype: object, 'url': 2    https://www.semanticscholar.org/paper/0272fe47...\n",
      "2    https://www.semanticscholar.org/paper/0272fe47...\n",
      "Name: url, dtype: object}, 'classes': 'ref'}, {'data': {'id': 'R. Haberle et al. (2014)', 'label': 'R. Haberle et al. (2014)', 'title': 11    Preliminary interpretation of the REMS pressur...\n",
      "Name: title, dtype: object, 'url': 11    https://www.semanticscholar.org/paper/2830dd89...\n",
      "Name: url, dtype: object}, 'classes': 'ref'}, {'data': {'id': 'M. Brasier et al. (2006)', 'label': 'M. Brasier et al. (2006)', 'title': 1    A fresh look at the fossil evidence for early ...\n",
      "Name: title, dtype: object, 'url': 1    https://www.semanticscholar.org/paper/0129ac6b...\n",
      "Name: url, dtype: object}, 'classes': 'ref'}, {'data': {'id': 'J. Freeman et al. (2008)', 'label': 'J. Freeman et al. (2008)', 'title': 26    CHARACTERIZATION OF NATURAL FELDSPARS BY RAMAN...\n",
      "Name: title, dtype: object, 'url': 26    https://www.semanticscholar.org/paper/6521adea...\n",
      "Name: url, dtype: object}, 'classes': 'ref'}, {'data': {'id': 'L. Kozlowski (2016)', 'label': 'L. Kozlowski (2016)', 'title': 23    Proteome-pI: proteome isoelectric point database\n",
      "Name: title, dtype: object, 'url': 23    https://www.semanticscholar.org/paper/5532e437...\n",
      "Name: url, dtype: object}, 'classes': 'ref'}, {'data': {'id': 'J. Longworth et al. (1966)', 'label': 'J. Longworth et al. (1966)', 'title': 3    Luminescence of pyrimidines, purines, nucleosi...\n",
      "Name: title, dtype: object, 'url': 3    https://www.semanticscholar.org/paper/0b4fa62d...\n",
      "Name: url, dtype: object}, 'classes': 'ref'}, {'data': {'id': 'P. Meyers, R. Ishiwatari (1995)', 'label': 'P. Meyers, R. Ishiwatari (1995)', 'title': 32    Organic Matter Accumulation Records in Lake Se...\n",
      "Name: title, dtype: object, 'url': 32    https://www.semanticscholar.org/paper/4406ae32...\n",
      "Name: url, dtype: object}, 'classes': 'ref'}, {'data': {'id': 'N. Trewin (2007)', 'label': 'N. Trewin (2007)', 'title': 29    The Rhynie cherts: an early Devonian ecosystem...\n",
      "Name: title, dtype: object, 'url': 29    https://www.semanticscholar.org/paper/3f7b678d...\n",
      "Name: url, dtype: object}, 'classes': 'ref'}, {'data': {'id': 'G. P. Butler (1973)', 'label': 'G. P. Butler (1973)', 'title': 27    Strontium Geochemistry of Modern and Ancient C...\n",
      "Name: title, dtype: object, 'url': 27    https://www.semanticscholar.org/paper/b564debd...\n",
      "Name: url, dtype: object}, 'classes': 'ref'}, {'data': {'id': 'Botta et al. (2008)', 'label': 'Botta et al. (2008)', 'title': 44    Strategies of Life Detection\n",
      "Name: title, dtype: object, 'url': 44    https://www.semanticscholar.org/paper/5fe63b45...\n",
      "Name: url, dtype: object}, 'classes': 'ref'}, {'data': {'id': 'A. D. Rogers, J. Bandfield (2009)', 'label': 'A. D. Rogers, J. Bandfield (2009)', 'title': 17    Mineralogical characterization of Mars Science...\n",
      "Name: title, dtype: object, 'url': 17    https://www.semanticscholar.org/paper/3ba6da47...\n",
      "Name: url, dtype: object}, 'classes': 'ref'}, {'data': {'id': 'W. Hug et al. (2005)', 'label': 'W. Hug et al. (2005)', 'title': 5    Status of miniature integrated UV resonance fl...\n",
      "Name: title, dtype: object, 'url': 5    https://www.semanticscholar.org/paper/101a693d...\n",
      "Name: url, dtype: object}, 'classes': 'ref'}, {'data': {'id': 'J. Caporaso et al. (2009)', 'label': 'J. Caporaso et al. (2009)', 'title': 15    PyNAST: a flexible tool for aligning sequences...\n",
      "Name: title, dtype: object, 'url': 15    https://www.semanticscholar.org/paper/3e1a8243...\n",
      "Name: url, dtype: object}, 'classes': 'ref'}, {'data': {'id': 'J. Laing et al. (2015)', 'label': 'J. Laing et al. (2015)', 'title': 7    An Assessment of macro-scale in situ Raman and...\n",
      "Name: title, dtype: object, 'url': 7    https://www.semanticscholar.org/paper/1d8a27ec...\n",
      "Name: url, dtype: object}, 'classes': 'ref'}, {'data': {'id': 'D. Herlemann et al. (2011)', 'label': 'D. Herlemann et al. (2011)', 'title': 10    Transitions in bacterial communities along the...\n",
      "Name: title, dtype: object, 'url': 10    https://www.semanticscholar.org/paper/297e66c4...\n",
      "Name: url, dtype: object}, 'classes': 'ref'}, {'data': {'id': 'L. Mayer (1994)', 'label': 'L. Mayer (1994)', 'title': 31    Relationships between mineral surfaces and org...\n",
      "40    SURFACE AREA CONTROL OF ORGANIC CARBON ACCUMUL...\n",
      "Name: title, dtype: object, 'url': 31    https://www.semanticscholar.org/paper/414106f9...\n",
      "40    https://www.semanticscholar.org/paper/5977e7ba...\n",
      "Name: url, dtype: object}, 'classes': 'ref'}, {'data': {'id': 'M. Pelliccioni (2000)', 'label': 'M. Pelliccioni (2000)', 'title': 15    Overview of Fluence-to-Effective Dose and Flue...\n",
      "Name: title, dtype: object, 'url': 15    https://www.semanticscholar.org/paper/39263d5b...\n",
      "Name: url, dtype: object}, 'classes': 'ref'}, {'data': {'id': 'C. Cockell et al. (2000)', 'label': 'C. Cockell et al. (2000)', 'title': 6    The ultraviolet environment of Mars: biologica...\n",
      "Name: title, dtype: object, 'url': 6    https://www.semanticscholar.org/paper/0e71e2d6...\n",
      "Name: url, dtype: object}, 'classes': 'ref'}, {'data': {'id': 'C. Lee et al. (2009)', 'label': 'C. Lee et al. (2009)', 'title': 21    Thermal Tides in the Martian Middle Atmosphere...\n",
      "Name: title, dtype: object, 'url': 21    https://www.semanticscholar.org/paper/4deb2bc6...\n",
      "Name: url, dtype: object}, 'classes': 'ref'}, {'data': {'id': 'T. McCollom, J. Seewald (2006)', 'label': 'T. McCollom, J. Seewald (2006)', 'title': 16    Carbon isotope composition of organic compound...\n",
      "Name: title, dtype: object, 'url': 16    https://www.semanticscholar.org/paper/1c828584...\n",
      "Name: url, dtype: object}, 'classes': 'ref'}, {'data': {'id': 'N. Bridge et al. (2010)', 'label': 'N. Bridge et al. (2010)', 'title': 44    A volcanic habitat for early life preserved in...\n",
      "Name: title, dtype: object, 'url': 44    https://www.semanticscholar.org/paper/34573169...\n",
      "Name: url, dtype: object}, 'classes': 'ref'}, {'data': {'id': 'S. H. Richardson et al. (1980)', 'label': 'S. H. Richardson et al. (1980)', 'title': 5    Vein mineral ages of old oceanic crust\n",
      "Name: title, dtype: object, 'url': 5    https://www.semanticscholar.org/paper/0770cea4...\n",
      "Name: url, dtype: object}, 'classes': 'ref'}, {'data': {'id': 'B. Ehlmann et al. (2013)', 'label': 'B. Ehlmann et al. (2013)', 'title': 35    Geochemical Consequences of Widespread Clay Mi...\n",
      "Name: title, dtype: object, 'url': 35    https://www.semanticscholar.org/paper/21018076...\n",
      "Name: url, dtype: object}, 'classes': 'ref'}, {'data': {'id': 'J. Pollack et al. (1987)', 'label': 'J. Pollack et al. (1987)', 'title': 40    The case for a wet, warm climate on early Mars.\n",
      "Name: title, dtype: object, 'url': 40    https://www.semanticscholar.org/paper/8d511733...\n",
      "Name: url, dtype: object}, 'classes': 'ref'}, {'data': {'id': 'Ł. Karwowski et al. (2013)', 'label': 'Ł. Karwowski et al. (2013)', 'title': 41    Raman spectra of selected mineral phases of th...\n",
      "Name: title, dtype: object, 'url': 41    https://www.semanticscholar.org/paper/8d2d4d6e...\n",
      "Name: url, dtype: object}, 'classes': 'ref'}, {'data': {'id': 'J. Baross (2006)', 'label': 'J. Baross (2006)', 'title': 6    The Limits of Organic Life in Planetary Systems\n",
      "Name: title, dtype: object, 'url': 6    https://www.semanticscholar.org/paper/0763653d...\n",
      "Name: url, dtype: object}, 'classes': 'ref'}, {'data': {'id': 'N. Wardlaw et al. (1969)', 'label': 'N. Wardlaw et al. (1969)', 'title': 25    Striations, giant grooves, and superposed drag...\n",
      "Name: title, dtype: object, 'url': 25    https://www.semanticscholar.org/paper/3a40526c...\n",
      "Name: url, dtype: object}, 'classes': 'ref'}, {'data': {'id': 'Maury Morgenstein, T. J. Riley (1975)', 'label': 'Maury Morgenstein, T. J. Riley (1975)', 'title': 28    Hydration-Rind Dating of Basaltic Glass: A New...\n",
      "Name: title, dtype: object, 'url': 28    https://www.semanticscholar.org/paper/229f12b4...\n",
      "Name: url, dtype: object}, 'classes': 'ref'}, {'data': {'id': 'G. Gronoff et al. (2015)', 'label': 'G. Gronoff et al. (2015)', 'title': 16    Computation of Cosmic Ray Ionization and Dose ...\n",
      "Name: title, dtype: object, 'url': 16    https://www.semanticscholar.org/paper/3aef9313...\n",
      "Name: url, dtype: object}, 'classes': 'ref'}, {'data': {'id': 'S.K. Sharma et al. (2020)', 'label': 'S.K. Sharma et al. (2020)', 'title': 7    Standoff Raman spectroscopy for future Europa ...\n",
      "Name: title, dtype: object, 'url': 7    https://www.semanticscholar.org/paper/13f85a94...\n",
      "Name: url, dtype: object}, 'classes': 'ref'}, {'data': {'id': 'H. Furnes et al. (2002)', 'label': 'H. Furnes et al. (2002)', 'title': 43    Identifying bio-interaction with basaltic glas...\n",
      "Name: title, dtype: object, 'url': 43    https://www.semanticscholar.org/paper/33d0a84b...\n",
      "Name: url, dtype: object}, 'classes': 'ref'}, {'data': {'id': 'S. Durairaju Nisshanthini et al. (2015)', 'label': 'S. Durairaju Nisshanthini et al. (2015)', 'title': 13    Spectral characterization of a pteridine deriv...\n",
      "Name: title, dtype: object, 'url': 13    https://www.semanticscholar.org/paper/63fdce67...\n",
      "Name: url, dtype: object}, 'classes': 'ref'}, {'data': {'id': 'S. Krishnaswami et al. (1974)', 'label': 'S. Krishnaswami et al. (1974)', 'title': 9    Characteristics of fission tracks in zircon: a...\n",
      "Name: title, dtype: object, 'url': 9    https://www.semanticscholar.org/paper/0d185ac7...\n",
      "Name: url, dtype: object}, 'classes': 'ref'}, {'data': {'id': 'L. Simonsen et al. (1990)', 'label': 'L. Simonsen et al. (1990)', 'title': 9    Radiation exposure for manned Mars surface mis...\n",
      "Name: title, dtype: object, 'url': 9    https://www.semanticscholar.org/paper/22f8bf61...\n",
      "Name: url, dtype: object}, 'classes': 'ref'}, {'data': {'id': 'M. Price et al. (2009)', 'label': 'M. Price et al. (2009)', 'title': 47    FastTree: Computing Large Minimum Evolution Tr...\n",
      "Name: title, dtype: object, 'url': 47    https://www.semanticscholar.org/paper/9d054caa...\n",
      "Name: url, dtype: object}, 'classes': 'ref'}, {'data': {'id': 'Pelin Yilmaz et al. (2013)', 'label': 'Pelin Yilmaz et al. (2013)', 'title': 29    The SILVA and “All-species Living Tree Project...\n",
      "Name: title, dtype: object, 'url': 29    https://www.semanticscholar.org/paper/6ef7a8f0...\n",
      "Name: url, dtype: object}, 'classes': 'ref'}, {'data': {'id': 'S. Xiao, A. Knoll (2007)', 'label': 'S. Xiao, A. Knoll (2007)', 'title': 19    Fossil preservation in the Neoproterozoic Dous...\n",
      "Name: title, dtype: object, 'url': 19    https://www.semanticscholar.org/paper/2569b3a5...\n",
      "Name: url, dtype: object}, 'classes': 'ref'}, {'data': {'id': 'D. Hassler et al. (2014)', 'label': 'D. Hassler et al. (2014)', 'title': 25    Mars’ Surface Radiation Environment Measured w...\n",
      "26    Mars’ Surface Radiation Environment Measured w...\n",
      "Name: title, dtype: object, 'url': 25    https://www.semanticscholar.org/paper/59073ed0...\n",
      "26    https://www.semanticscholar.org/paper/59073ed0...\n",
      "Name: url, dtype: object}, 'classes': 'ref'}, {'data': {'id': 'D. D. Des Marais et al. (2008)', 'label': 'D. D. Des Marais et al. (2008)', 'title': 38    The NASA Astrobiology Roadmap.\n",
      "Name: title, dtype: object, 'url': 38    https://www.semanticscholar.org/paper/f062f6f7...\n",
      "Name: url, dtype: object}, 'classes': 'ref'}, {'data': {'id': 'F. Forget et al. (1999)', 'label': 'F. Forget et al. (1999)', 'title': 7    Improved general circulation models of the Mar...\n",
      "Name: title, dtype: object, 'url': 7    https://www.semanticscholar.org/paper/1b6017d6...\n",
      "Name: url, dtype: object}, 'classes': 'ref'}, {'data': {'id': 'S. D. Angelis et al. (2013)', 'label': 'S. D. Angelis et al. (2013)', 'title': 12    A VIS-NIR Laboratory Spectral Library of Terre...\n",
      "Name: title, dtype: object, 'url': 12    https://www.semanticscholar.org/paper/1fb0e01f...\n",
      "Name: url, dtype: object}, 'classes': 'ref'}, {'data': {'id': 'C. Cockell et al. (2005)', 'label': 'C. Cockell et al. (2005)', 'title': 19    Effects of a simulated martian UV flux on the ...\n",
      "Name: title, dtype: object, 'url': 19    https://www.semanticscholar.org/paper/2f0d1ec7...\n",
      "Name: url, dtype: object}, 'classes': 'ref'}, {'data': {'id': 'U. Meierhenrich (2008)', 'label': 'U. Meierhenrich (2008)', 'title': 26    Amino Acids and the Asymmetry of Life\n",
      "Name: title, dtype: object, 'url': 26    https://www.semanticscholar.org/paper/5ea2d1a1...\n",
      "Name: url, dtype: object}, 'classes': 'ref'}, {'data': {'id': 'R. Schmitt, R. Smith (1963)', 'label': 'R. Schmitt, R. Smith (1963)', 'title': 43    Implications of Similarity in Rare-Earth Fract...\n",
      "Name: title, dtype: object, 'url': 43    https://www.semanticscholar.org/paper/5ad5d4a2...\n",
      "Name: url, dtype: object}, 'classes': 'ref'}, {'data': {'id': 'Emily Knowles et al. (2012)', 'label': 'Emily Knowles et al. (2012)', 'title': 3    A comparative analysis of potential biosignatu...\n",
      "Name: title, dtype: object, 'url': 3    https://www.semanticscholar.org/paper/05522fef...\n",
      "Name: url, dtype: object}, 'classes': 'ref'}, {'data': {'id': 'W. Abbey et al. (2017)', 'label': 'W. Abbey et al. (2017)', 'title': 47    Deep UV Raman spectroscopy for planetary explo...\n",
      "Name: title, dtype: object, 'url': 47    https://www.semanticscholar.org/paper/9d642c00...\n",
      "Name: url, dtype: object}, 'classes': 'ref'}, {'data': {'id': 'M. PourArsalan et al. (2010)', 'label': 'M. PourArsalan et al. (2010)', 'title': 36    Time‐dependent estimates of organ dose and dos...\n",
      "Name: title, dtype: object, 'url': 36    https://www.semanticscholar.org/paper/6ad8f03e...\n",
      "Name: url, dtype: object}, 'classes': 'ref'}, {'data': {'id': 'M. Ilbert, V. Bonnefoy (2013)', 'label': 'M. Ilbert, V. Bonnefoy (2013)', 'title': 22    Insight into the evolution of the iron oxidati...\n",
      "Name: title, dtype: object, 'url': 22    https://www.semanticscholar.org/paper/7ada44e2...\n",
      "Name: url, dtype: object}, 'classes': 'ref'}, {'data': {'id': 'N. Banerjee et al. (2007)', 'label': 'N. Banerjee et al. (2007)', 'title': 10    Direct dating of Archean microbial ichnofossils\n",
      "Name: title, dtype: object, 'url': 10    https://www.semanticscholar.org/paper/107b0546...\n",
      "Name: url, dtype: object}, 'classes': 'ref'}, {'data': {'id': 'N. Stivaletta et al. (2005)', 'label': 'N. Stivaletta et al. (2005)', 'title': 24    Fossil Endolithic Cyanobacteria in Evaporites:...\n",
      "Name: title, dtype: object, 'url': 24    https://www.semanticscholar.org/paper/3705287b...\n",
      "Name: url, dtype: object}, 'classes': 'ref'}, {'data': {'id': 'N. Buzgar et al. (2009)', 'label': 'N. Buzgar et al. (2009)', 'title': 30    The Raman study on certain sulfates\n",
      "Name: title, dtype: object, 'url': 30    https://www.semanticscholar.org/paper/6899e2de...\n",
      "Name: url, dtype: object}, 'classes': 'ref'}, {'data': {'id': 'D. Fernández-Remolar et al. (2013)', 'label': 'D. Fernández-Remolar et al. (2013)', 'title': 28    Molecular preservation in halite‐ and perchlor...\n",
      "Name: title, dtype: object, 'url': 28    https://www.semanticscholar.org/paper/68b3308f...\n",
      "Name: url, dtype: object}, 'classes': 'ref'}, {'data': {'id': 'J. Farmer (1995)', 'label': 'J. Farmer (1995)', 'title': 23    Mars exopaleontology.\n",
      "Name: title, dtype: object, 'url': 23    https://www.semanticscholar.org/paper/9e90e5b6...\n",
      "Name: url, dtype: object}, 'classes': 'ref'}, {'data': {'id': 'F. Košek et al. (2017)', 'label': 'F. Košek et al. (2017)', 'title': 14    Applying portable Raman spectrometers for fiel...\n",
      "Name: title, dtype: object, 'url': 14    https://www.semanticscholar.org/paper/39ef79b8...\n",
      "Name: url, dtype: object}, 'classes': 'ref'}, {'data': {'id': 'Shiv K. Sharma et al. (2002)', 'label': 'Shiv K. Sharma et al. (2002)', 'title': 25    Remote Pulsed Laser Raman Spectroscopy System ...\n",
      "Name: title, dtype: object, 'url': 25    https://www.semanticscholar.org/paper/60d9261d...\n",
      "Name: url, dtype: object}, 'classes': 'ref'}, {'data': {'id': 'R. Navarro‐González et al. (2006)', 'label': 'R. Navarro‐González et al. (2006)', 'title': 37    The limitations on organic detection in Mars-l...\n",
      "Name: title, dtype: object, 'url': 37    https://www.semanticscholar.org/paper/5007ca64...\n",
      "Name: url, dtype: object}, 'classes': 'ref'}, {'data': {'id': 'T. Stevens, J. Mckinley (2000)', 'label': 'T. Stevens, J. Mckinley (2000)', 'title': 17    Abiotic controls on H2 production from basalt-...\n",
      "Name: title, dtype: object, 'url': 17    https://www.semanticscholar.org/paper/1353f385...\n",
      "Name: url, dtype: object}, 'classes': 'ref'}, {'data': {'id': 'B. Ehresmann et al. (2011)', 'label': 'B. Ehresmann et al. (2011)', 'title': 6    Influence of higher atmospheric pressure on th...\n",
      "Name: title, dtype: object, 'url': 6    https://www.semanticscholar.org/paper/0f1e3f2a...\n",
      "Name: url, dtype: object}, 'classes': 'ref'}, {'data': {'id': 'N. Pfennig (2004)', 'label': 'N. Pfennig (2004)', 'title': 7    Rhodopseudomonas globiformis, sp. n., a new sp...\n",
      "Name: title, dtype: object, 'url': 7    https://www.semanticscholar.org/paper/072a871c...\n",
      "Name: url, dtype: object}, 'classes': 'ref'}, {'data': {'id': 'G. Brass (1980)', 'label': 'G. Brass (1980)', 'title': 2    Stability of brines on Mars\n",
      "Name: title, dtype: object, 'url': 2    https://www.semanticscholar.org/paper/0cf91d84...\n",
      "Name: url, dtype: object}, 'classes': 'ref'}, {'data': {'id': 'R. Harmon et al. (2013)', 'label': 'R. Harmon et al. (2013)', 'title': 4    Applications of laser-induced breakdown spectr...\n",
      "Name: title, dtype: object, 'url': 4    https://www.semanticscholar.org/paper/0fd000df...\n",
      "Name: url, dtype: object}, 'classes': 'ref'}, {'data': {'id': 'H. Dill (2010)', 'label': 'H. Dill (2010)', 'title': 8    The “chessboard” classification scheme of mine...\n",
      "Name: title, dtype: object, 'url': 8    https://www.semanticscholar.org/paper/09a4ec03...\n",
      "Name: url, dtype: object}, 'classes': 'ref'}, {'data': {'id': 'V. Melezhik et al. (2001)', 'label': 'V. Melezhik et al. (2001)', 'title': 14    Palaeoproterozoic magnesite: lithological and ...\n",
      "Name: title, dtype: object, 'url': 14    https://www.semanticscholar.org/paper/6ee2119a...\n",
      "Name: url, dtype: object}, 'classes': 'ref'}, {'data': {'id': 'J. Flahaut et al. (2015)', 'label': 'J. Flahaut et al. (2015)', 'title': 20    Embedded clays and sulfates in Meridiani Planu...\n",
      "Name: title, dtype: object, 'url': 20    https://www.semanticscholar.org/paper/4aa000de...\n",
      "Name: url, dtype: object}, 'classes': 'ref'}, {'data': {'id': 'K. Warren-Rhodes et al. (2006)', 'label': 'K. Warren-Rhodes et al. (2006)', 'title': 27    Hypolithic Cyanobacteria, Dry Limit of Photosy...\n",
      "Name: title, dtype: object, 'url': 27    https://www.semanticscholar.org/paper/66e171bf...\n",
      "Name: url, dtype: object}, 'classes': 'ref'}, {'data': {'id': 'M. Kennedy et al. (2002)', 'label': 'M. Kennedy et al. (2002)', 'title': 9    Mineral Surface Control of Organic Carbon in B...\n",
      "Name: title, dtype: object, 'url': 9    https://www.semanticscholar.org/paper/1e068951...\n",
      "Name: url, dtype: object}, 'classes': 'ref'}, {'data': {'id': 'J. Grant et al. (2010)', 'label': 'J. Grant et al. (2010)', 'title': 4    Aqueous depositional settings in Holden crater...\n",
      "Name: title, dtype: object, 'url': 4    https://www.semanticscholar.org/paper/04f86d47...\n",
      "Name: url, dtype: object}, 'classes': 'ref'}, {'data': {'id': 'Joost W. Aerts et al. (2016)', 'label': 'Joost W. Aerts et al. (2016)', 'title': 13    A contamination assessment of the CI carbonace...\n",
      "Name: title, dtype: object, 'url': 13    https://www.semanticscholar.org/paper/37a4c41c...\n",
      "Name: url, dtype: object}, 'classes': 'ref'}, {'data': {'id': 'J. Havig et al. (2017)', 'label': 'J. Havig et al. (2017)', 'title': 5    Geochemistry and microbial community compositi...\n",
      "Name: title, dtype: object, 'url': 5    https://www.semanticscholar.org/paper/1b18d58f...\n",
      "Name: url, dtype: object}, 'classes': 'ref'}, {'data': {'id': 'B. Lollar et al. (2006)', 'label': 'B. Lollar et al. (2006)', 'title': 17    Unravelling abiogenic and biogenic sources of ...\n",
      "Name: title, dtype: object, 'url': 17    https://www.semanticscholar.org/paper/20e7958d...\n",
      "Name: url, dtype: object}, 'classes': 'ref'}, {'data': {'id': 'A. Lambert et al. (1998)', 'label': 'A. Lambert et al. (1998)', 'title': 46    Combining geomorphological and geodetic data t...\n",
      "Name: title, dtype: object, 'url': 46    https://www.semanticscholar.org/paper/680b0bfa...\n",
      "Name: url, dtype: object}, 'classes': 'ref'}, {'data': {'id': 'E. Eshelman (2016)', 'label': 'E. Eshelman (2016)', 'title': 26    Stand-Off Detection of Organic Compounds on Ma...\n",
      "Name: title, dtype: object, 'url': 26    https://www.semanticscholar.org/paper/3a4a0afd...\n",
      "Name: url, dtype: object}, 'classes': 'ref'}, {'data': {'id': 'R. Garstang (1957)', 'label': 'R. Garstang (1957)', 'title': 38    Transition Probabilities for Forbidden Lines o...\n",
      "Name: title, dtype: object, 'url': 38    https://www.semanticscholar.org/paper/53930b3b...\n",
      "Name: url, dtype: object}, 'classes': 'ref'}, {'data': {'id': 'D. Sherman, T. Waite (1985)', 'label': 'D. Sherman, T. Waite (1985)', 'title': 36    Electronic spectra of Fe3+ oxides and oxide hy...\n",
      "Name: title, dtype: object, 'url': 36    https://www.semanticscholar.org/paper/4ceed324...\n",
      "Name: url, dtype: object}, 'classes': 'ref'}, {'data': {'id': 'R. Sinha et al. (2002)', 'label': 'R. Sinha et al. (2002)', 'title': 40    Effects of UV and visible light on cyanobacter...\n",
      "Name: title, dtype: object, 'url': 40    https://www.semanticscholar.org/paper/5b7fcf3b...\n",
      "Name: url, dtype: object}, 'classes': 'ref'}, {'data': {'id': 'Marcel Martin (2011)', 'label': 'Marcel Martin (2011)', 'title': 3    Cutadapt removes adapter sequences from high-t...\n",
      "Name: title, dtype: object, 'url': 3    https://www.semanticscholar.org/paper/17d01d94...\n",
      "Name: url, dtype: object}, 'classes': 'ref'}, {'data': {'id': 'R. Clark, T. Roush (1984)', 'label': 'R. Clark, T. Roush (1984)', 'title': 16    Reflectance spectroscopy - Quantitative analys...\n",
      "Name: title, dtype: object, 'url': 16    https://www.semanticscholar.org/paper/28b004d7...\n",
      "Name: url, dtype: object}, 'classes': 'ref'}, {'data': {'id': 'J. Albers (1985)', 'label': 'J. Albers (1985)', 'title': 20    Geology of the Brick Flat massive sulfide body...\n",
      "Name: title, dtype: object, 'url': 20    https://www.semanticscholar.org/paper/6dda257a...\n",
      "Name: url, dtype: object}, 'classes': 'ref'}, {'data': {'id': 'L. Akoto et al. (2005)', 'label': 'L. Akoto et al. (2005)', 'title': 36    Automated GC–MS analysis of raw biological sam...\n",
      "Name: title, dtype: object, 'url': 36    https://www.semanticscholar.org/paper/cbe8bf43...\n",
      "Name: url, dtype: object}, 'classes': 'ref'}, {'data': {'id': 'B. Berenblut et al. (1973)', 'label': 'B. Berenblut et al. (1973)', 'title': 36    A comparison of the Raman spectra of anhydrite...\n",
      "Name: title, dtype: object, 'url': 36    https://www.semanticscholar.org/paper/ee035de2...\n",
      "Name: url, dtype: object}, 'classes': 'ref'}, {'data': {'id': 'B. Rasmussen (2000)', 'label': 'B. Rasmussen (2000)', 'title': 5    Filamentous microfossils in a 3,235-million-ye...\n",
      "Name: title, dtype: object, 'url': 5    https://www.semanticscholar.org/paper/06d035f4...\n",
      "Name: url, dtype: object}, 'classes': 'ref'}, {'data': {'id': 'D. Birgel et al. (2008)', 'label': 'D. Birgel et al. (2008)', 'title': 48    A new constraint on the antiquity of anaerobic...\n",
      "Name: title, dtype: object, 'url': 48    https://www.semanticscholar.org/paper/72c17b27...\n",
      "Name: url, dtype: object}, 'classes': 'ref'}, {'data': {'id': 'K. Campbell et al. (2013)', 'label': 'K. Campbell et al. (2013)', 'title': 18    Characterization and remediation of iron(III) ...\n",
      "Name: title, dtype: object, 'url': 18    https://www.semanticscholar.org/paper/6b4a05bd...\n",
      "Name: url, dtype: object}, 'classes': 'ref'}, {'data': {'id': 'O. Takano, A. Waseda (2003)', 'label': 'O. Takano, A. Waseda (2003)', 'title': 41    Sequence stratigraphic architecture of a diffe...\n",
      "Name: title, dtype: object, 'url': 41    https://www.semanticscholar.org/paper/25345a7f...\n",
      "Name: url, dtype: object}, 'classes': 'ref'}, {'data': {'id': 'L. Nyquist et al. (2016)', 'label': 'L. Nyquist et al. (2016)', 'title': 2    Rb-Sr and Sm-Nd isotopic and REE studies of ig...\n",
      "Name: title, dtype: object, 'url': 2    https://www.semanticscholar.org/paper/015c69dd...\n",
      "Name: url, dtype: object}, 'classes': 'ref'}, {'data': {'id': 'N. McLoughlin et al. (2012)', 'label': 'N. McLoughlin et al. (2012)', 'title': 19    Sulfur isotope evidence for a Paleoarchean sub...\n",
      "Name: title, dtype: object, 'url': 19    https://www.semanticscholar.org/paper/1c0ee1a2...\n",
      "Name: url, dtype: object}, 'classes': 'ref'}, {'data': {'id': 'Junhong Chen et al. (2003)', 'label': 'Junhong Chen et al. (2003)', 'title': 35    The Paleoproterozoic McArthur River (HYC) Pb/Z...\n",
      "Name: title, dtype: object, 'url': 35    https://www.semanticscholar.org/paper/49f6f1d1...\n",
      "Name: url, dtype: object}, 'classes': 'ref'}, {'data': {'id': 'D. Bower et al. (2013)', 'label': 'D. Bower et al. (2013)', 'title': 22    Micro Raman spectroscopy of carbonaceous mater...\n",
      "Name: title, dtype: object, 'url': 22    https://www.semanticscholar.org/paper/32c8b0d6...\n",
      "Name: url, dtype: object}, 'classes': 'ref'}, {'data': {'id': 'B. Ehlmann et al. (2011)', 'label': 'B. Ehlmann et al. (2011)', 'title': 4     Subsurface water and clay mineral formation du...\n",
      "29    Subsurface water and clay mineral formation du...\n",
      "Name: title, dtype: object, 'url': 4     https://www.semanticscholar.org/paper/1ba5e3af...\n",
      "29    https://www.semanticscholar.org/paper/1ba5e3af...\n",
      "Name: url, dtype: object}, 'classes': 'ref'}, {'data': {'id': 'M. Malin, K. Edgett (2000)', 'label': 'M. Malin, K. Edgett (2000)', 'title': 29    Evidence for recent groundwater seepage and su...\n",
      "Name: title, dtype: object, 'url': 29    https://www.semanticscholar.org/paper/3fb45e68...\n",
      "Name: url, dtype: object}, 'classes': 'ref'}, {'data': {'id': 'M. Carr (1996)', 'label': 'M. Carr (1996)', 'title': 49    Water on early Mars.\n",
      "Name: title, dtype: object, 'url': 49    https://www.semanticscholar.org/paper/a1571e4e...\n",
      "Name: url, dtype: object}, 'classes': 'ref'}, {'data': {'id': 'S. Heising et al. (1999)', 'label': 'S. Heising et al. (1999)', 'title': 0    Chlorobium ferrooxidans sp. nov., a phototroph...\n",
      "Name: title, dtype: object, 'url': 0    https://www.semanticscholar.org/paper/0028bae8...\n",
      "Name: url, dtype: object}, 'classes': 'ref'}, {'data': {'id': 'Shiv K. Sharma et al. (2012)', 'label': 'Shiv K. Sharma et al. (2012)', 'title': 19    Time-resolved remote Raman and fluorescence sp...\n",
      "Name: title, dtype: object, 'url': 19    https://www.semanticscholar.org/paper/2e7026b8...\n",
      "Name: url, dtype: object}, 'classes': 'ref'}, {'data': {'id': 'M. Wadhwa et al. (1994)', 'label': 'M. Wadhwa et al. (1994)', 'title': 47    Petrogenesis of shergottite meteorites inferre...\n",
      "Name: title, dtype: object, 'url': 47    https://www.semanticscholar.org/paper/610b4713...\n",
      "Name: url, dtype: object}, 'classes': 'ref'}, {'data': {'id': 'Patrícia N. Refojo et al. (2012)', 'label': 'Patrícia N. Refojo et al. (2012)', 'title': 32    The Alternative complex III: properties and po...\n",
      "Name: title, dtype: object, 'url': 32    https://www.semanticscholar.org/paper/c138b7d3...\n",
      "Name: url, dtype: object}, 'classes': 'ref'}, {'data': {'id': 'C. Zeitlin et al. (2018)', 'label': 'C. Zeitlin et al. (2018)', 'title': 34    Analysis of the Radiation Hazard Observed by R...\n",
      "Name: title, dtype: object, 'url': 34    https://www.semanticscholar.org/paper/661e72a4...\n",
      "Name: url, dtype: object}, 'classes': 'ref'}, {'data': {'id': 'W. Rapin et al. (2016)', 'label': 'W. Rapin et al. (2016)', 'title': 35    Hydration state of calcium sulfates in Gale cr...\n",
      "Name: title, dtype: object, 'url': 35    https://www.semanticscholar.org/paper/e65e7b97...\n",
      "Name: url, dtype: object}, 'classes': 'ref'}, {'data': {'id': 'J. Vesenka et al. (2018)', 'label': 'J. Vesenka et al. (2018)', 'title': 28    A Model for Sheath Formation Coupled to Motili...\n",
      "Name: title, dtype: object, 'url': 28    https://www.semanticscholar.org/paper/ab0c27ae...\n",
      "Name: url, dtype: object}, 'classes': 'ref'}, {'data': {'id': 'M. Sélo, D. Storzer (1981)', 'label': 'M. Sélo, D. Storzer (1981)', 'title': 24    Uranium distribution and age pattern of some d...\n",
      "Name: title, dtype: object, 'url': 24    https://www.semanticscholar.org/paper/1f13129f...\n",
      "Name: url, dtype: object}, 'classes': 'ref'}, {'data': {'id': 'D. Smith et al. (2001)', 'label': 'D. Smith et al. (2001)', 'title': 10    Mars Orbiter Laser Altimeter: Experiment summa...\n",
      "Name: title, dtype: object, 'url': 10    https://www.semanticscholar.org/paper/2671eb43...\n",
      "Name: url, dtype: object}, 'classes': 'ref'}, {'data': {'id': 'R. Vance, K. Condie (1987)', 'label': 'R. Vance, K. Condie (1987)', 'title': 12    Geochemistry of footwall alteration associated...\n",
      "Name: title, dtype: object, 'url': 12    https://www.semanticscholar.org/paper/3fc130ee...\n",
      "Name: url, dtype: object}, 'classes': 'ref'}, {'data': {'id': 'C. Cockell, A. Herrera (2008)', 'label': 'C. Cockell, A. Herrera (2008)', 'title': 2    Why are some microorganisms boring?\n",
      "Name: title, dtype: object, 'url': 2    https://www.semanticscholar.org/paper/039048df...\n",
      "Name: url, dtype: object}, 'classes': 'ref'}, {'data': {'id': 'A. Cairns-smith (1978)', 'label': 'A. Cairns-smith (1978)', 'title': 49    Precambrian solution photochemistry, inverse s...\n",
      "Name: title, dtype: object, 'url': 49    https://www.semanticscholar.org/paper/2e6235ba...\n",
      "Name: url, dtype: object}, 'classes': 'ref'}, {'data': {'id': 'N. Zotov et al. (1999)', 'label': 'N. Zotov et al. (1999)', 'title': 38    Calculation of Raman spectra and vibrational p...\n",
      "Name: title, dtype: object, 'url': 38    https://www.semanticscholar.org/paper/86340d6c...\n",
      "Name: url, dtype: object}, 'classes': 'ref'}, {'data': {'id': 'K. Edwards et al. (1999)', 'label': 'K. Edwards et al. (1999)', 'title': 35    Geomicrobiology of Pyrite (FeS2) Dissolution: ...\n",
      "Name: title, dtype: object, 'url': 35    https://www.semanticscholar.org/paper/cb55df63...\n",
      "Name: url, dtype: object}, 'classes': 'ref'}, {'data': {'id': 'A. Allwood et al. (2009)', 'label': 'A. Allwood et al. (2009)', 'title': 13    Controls on development and diversity of Early...\n",
      "Name: title, dtype: object, 'url': 13    https://www.semanticscholar.org/paper/649d1d8c...\n",
      "Name: url, dtype: object}, 'classes': 'ref'}, {'data': {'id': 'J. Dworzanski et al. (1990)', 'label': 'J. Dworzanski et al. (1990)', 'title': 11    Pyrolytic Methylation-Gas Chromatography of Wh...\n",
      "Name: title, dtype: object, 'url': 11    https://www.semanticscholar.org/paper/5d6bd3a8...\n",
      "Name: url, dtype: object}, 'classes': 'ref'}, {'data': {'id': 'W. Farrand et al. (2014)', 'label': 'W. Farrand et al. (2014)', 'title': 33    Detection of copiapite in the northern Mawrth ...\n",
      "Name: title, dtype: object, 'url': 33    https://www.semanticscholar.org/paper/1e782959...\n",
      "Name: url, dtype: object}, 'classes': 'ref'}, {'data': {'id': 'H. Sapers et al. (2019)', 'label': 'H. Sapers et al. (2019)', 'title': 13    The Cell and the Sum of Its Parts: Patterns of...\n",
      "Name: title, dtype: object, 'url': 13    https://www.semanticscholar.org/paper/25827ae9...\n",
      "Name: url, dtype: object}, 'classes': 'ref'}, {'data': {'id': 'G. E. Stoertz, G. E. Ericksen (1974)', 'label': 'G. E. Stoertz, G. E. Ericksen (1974)', 'title': 42    Geology of salars in Northern Chile\n",
      "Name: title, dtype: object, 'url': 42    https://www.semanticscholar.org/paper/946d7897...\n",
      "Name: url, dtype: object}, 'classes': 'ref'}, {'data': {'id': 'P. Ehrenfreund et al. (2000)', 'label': 'P. Ehrenfreund et al. (2000)', 'title': 48    A voyage from dark clouds to the early Earth\n",
      "Name: title, dtype: object, 'url': 48    https://www.semanticscholar.org/paper/9dd06329...\n",
      "Name: url, dtype: object}, 'classes': 'ref'}, {'data': {'id': 'A. Oren (2014)', 'label': 'A. Oren (2014)', 'title': 30    Halophilic archaea on Earth and in space: grow...\n",
      "Name: title, dtype: object, 'url': 30    https://www.semanticscholar.org/paper/6f897a7a...\n",
      "Name: url, dtype: object}, 'classes': 'ref'}, {'data': {'id': 'S. Grasby et al. (2003)', 'label': 'S. Grasby et al. (2003)', 'title': 43    Supraglacial sulfur springs and associated bio...\n",
      "Name: title, dtype: object, 'url': 43    https://www.semanticscholar.org/paper/641255a3...\n",
      "Name: url, dtype: object}, 'classes': 'ref'}, {'data': {'id': 'J. Grotzinger et al. (2014)', 'label': 'J. Grotzinger et al. (2014)', 'title': 0    A Habitable Fluvio-Lacustrine Environment at Y...\n",
      "2    A Habitable Fluvio-Lacustrine Environment at Y...\n",
      "3    A Habitable Fluvio-Lacustrine Environment at Y...\n",
      "Name: title, dtype: object, 'url': 0    https://www.semanticscholar.org/paper/0480c5e6...\n",
      "2    https://www.semanticscholar.org/paper/0480c5e6...\n",
      "3    https://www.semanticscholar.org/paper/0480c5e6...\n",
      "Name: url, dtype: object}, 'classes': 'ref'}, {'data': {'id': 'C. Oze, Mukul Sharma (2005)', 'label': 'C. Oze, Mukul Sharma (2005)', 'title': 46    Have olivine, will gas: Serpentinization and t...\n",
      "Name: title, dtype: object, 'url': 46    https://www.semanticscholar.org/paper/64d96aec...\n",
      "Name: url, dtype: object}, 'classes': 'ref'}, {'data': {'id': 'C. Cousins et al. (2010)', 'label': 'C. Cousins et al. (2010)', 'title': 13    Astrobiological considerations for the selecti...\n",
      "Name: title, dtype: object, 'url': 13    https://www.semanticscholar.org/paper/201326fa...\n",
      "Name: url, dtype: object}, 'classes': 'ref'}, {'data': {'id': 'M. Osterloo et al. (2008)', 'label': 'M. Osterloo et al. (2008)', 'title': 1    Chloride-Bearing Materials in the Southern Hig...\n",
      "Name: title, dtype: object, 'url': 1    https://www.semanticscholar.org/paper/0a29b73f...\n",
      "Name: url, dtype: object}, 'classes': 'ref'}, {'data': {'id': 'J. Theo Kloprogge et al. (2001)', 'label': 'J. Theo Kloprogge et al. (2001)', 'title': 40    FT-IR and Raman microscopic study at 293 K and...\n",
      "Name: title, dtype: object, 'url': 40    https://www.semanticscholar.org/paper/fb423110...\n",
      "Name: url, dtype: object}, 'classes': 'ref'}, {'data': {'id': 'C. Alexander et al. (2007)', 'label': 'C. Alexander et al. (2007)', 'title': 24    The origin and evolution of chondrites recorde...\n",
      "Name: title, dtype: object, 'url': 24    https://www.semanticscholar.org/paper/318a4998...\n",
      "Name: url, dtype: object}, 'classes': 'ref'}, {'data': {'id': 'D. Lario et al. (2005)', 'label': 'D. Lario et al. (2005)', 'title': 19    Heliospheric energetic particle observations d...\n",
      "Name: title, dtype: object, 'url': 19    https://www.semanticscholar.org/paper/42a075b4...\n",
      "Name: url, dtype: object}, 'classes': 'ref'}, {'data': {'id': 'R. B. Norman et al. (2016)', 'label': 'R. B. Norman et al. (2016)', 'title': 45    Evaluating galactic cosmic ray environment mod...\n",
      "Name: title, dtype: object, 'url': 45    https://www.semanticscholar.org/paper/7f15ea35...\n",
      "Name: url, dtype: object}, 'classes': 'ref'}, {'data': {'id': 'G. Kminek, J. Bada (2006)', 'label': 'G. Kminek, J. Bada (2006)', 'title': 26    The effect of ionizing radiation on the preser...\n",
      "Name: title, dtype: object, 'url': 26    https://www.semanticscholar.org/paper/3a9ea8df...\n",
      "Name: url, dtype: object}, 'classes': 'ref'}, {'data': {'id': 'J. Gottsmann et al. (2004)', 'label': 'J. Gottsmann et al. (2004)', 'title': 45    Thermal history of Hawaiian pāhoehoe lava crus...\n",
      "Name: title, dtype: object, 'url': 45    https://www.semanticscholar.org/paper/34e36913...\n",
      "Name: url, dtype: object}, 'classes': 'ref'}, {'data': {'id': 'M. Morsy et al. (1999)', 'label': 'M. Morsy et al. (1999)', 'title': 15    Fluorescence of Thymine Tautomers at Room Temp...\n",
      "Name: title, dtype: object, 'url': 15    https://www.semanticscholar.org/paper/27e9c956...\n",
      "Name: url, dtype: object}, 'classes': 'ref'}, {'data': {'id': 'D. D. Marais (2001)', 'label': 'D. D. Marais (2001)', 'title': 3    Isotopic Evolution of the Biogeochemical Carbo...\n",
      "2    Isotopic Evolution of the Biogeochemical Carbo...\n",
      "Name: title, dtype: object, 'url': 3    https://www.semanticscholar.org/paper/03eeb393...\n",
      "2    https://www.semanticscholar.org/paper/03eeb393...\n",
      "Name: url, dtype: object}, 'classes': 'ref'}, {'data': {'id': 'B. Schubert et al. (2009)', 'label': 'B. Schubert et al. (2009)', 'title': 9    Microscopic identification of prokaryotes in m...\n",
      "Name: title, dtype: object, 'url': 9    https://www.semanticscholar.org/paper/14ac33a1...\n",
      "Name: url, dtype: object}, 'classes': 'ref'}, {'data': {'id': 'S. Bose, H. Chafetz (2012)', 'label': 'S. Bose, H. Chafetz (2012)', 'title': 19    Morphology and Distribution of Miss: A Compari...\n",
      "Name: title, dtype: object, 'url': 19    https://www.semanticscholar.org/paper/13dd9c9c...\n",
      "Name: url, dtype: object}, 'classes': 'ref'}, {'data': {'id': 'B. Katz et al. (1987)', 'label': 'B. Katz et al. (1987)', 'title': 5    Factors Limiting Potential of Evaporites As Hy...\n",
      "Name: title, dtype: object, 'url': 5    https://www.semanticscholar.org/paper/157320ed...\n",
      "Name: url, dtype: object}, 'classes': 'ref'}, {'data': {'id': 'J. Head et al. (1999)', 'label': 'J. Head et al. (1999)', 'title': 47    Possible ancient oceans on Mars: evidence from...\n",
      "Name: title, dtype: object, 'url': 47    https://www.semanticscholar.org/paper/6ce41b69...\n",
      "Name: url, dtype: object}, 'classes': 'ref'}, {'data': {'id': 'Y. Liu et al. (2013)', 'label': 'Y. Liu et al. (2013)', 'title': 39    New constraints on the formation of shergottit...\n",
      "Name: title, dtype: object, 'url': 39    https://www.semanticscholar.org/paper/54c40289...\n",
      "Name: url, dtype: object}, 'classes': 'ref'}, {'data': {'id': 'L. Grasset et al. (2002)', 'label': 'L. Grasset et al. (2002)', 'title': 8    Free and esterified aliphatic carboxylic acids...\n",
      "Name: title, dtype: object, 'url': 8    https://www.semanticscholar.org/paper/2d3c832a...\n",
      "Name: url, dtype: object}, 'classes': 'ref'}, {'data': {'id': 'JACK A. Peary, R. Castenholz (1964)', 'label': 'JACK A. Peary, R. Castenholz (1964)', 'title': 47    Temperature Strains of a Thermophilic Blue-gre...\n",
      "Name: title, dtype: object, 'url': 47    https://www.semanticscholar.org/paper/2d538cb9...\n",
      "Name: url, dtype: object}, 'classes': 'ref'}, {'data': {'id': 'R. Summons et al. (2011)', 'label': 'R. Summons et al. (2011)', 'title': 1    Preservation of martian organic and environmen...\n",
      "Name: title, dtype: object, 'url': 1    https://www.semanticscholar.org/paper/958b808c...\n",
      "Name: url, dtype: object}, 'classes': 'res'}, {'data': {'id': 'J. Stromberg et al. (2019)', 'label': 'J. Stromberg et al. (2019)', 'title': 8    Biosignature detection by Mars rover equivalen...\n",
      "Name: title, dtype: object, 'url': 8    https://www.semanticscholar.org/paper/73e782e5...\n",
      "Name: url, dtype: object}, 'classes': 'res'}, {'data': {'id': 'S. Shkolyar, J. Farmer (2018)', 'label': 'S. Shkolyar, J. Farmer (2018)', 'title': 12    Biosignature Preservation Potential in Playa E...\n",
      "18    Biosignature Preservation Potential in a Playa...\n",
      "Name: title, dtype: object, 'url': 12    https://www.semanticscholar.org/paper/9a40cc60...\n",
      "18    https://www.semanticscholar.org/paper/d67a56be...\n",
      "Name: url, dtype: object}, 'classes': 'res'}, {'data': {'id': 'C. Weisbin et al. (2013)', 'label': 'C. Weisbin et al. (2013)', 'title': 2    Mars Biosignature - Detection Capabilities: A ...\n",
      "Name: title, dtype: object, 'url': 2    https://www.semanticscholar.org/paper/61d144bd...\n",
      "Name: url, dtype: object}, 'classes': 'res'}, {'data': {'id': 'Jason E. French, D. Blake (2016)', 'label': 'Jason E. French, D. Blake (2016)', 'title': 22    Discovery of Naturally Etched Fission Tracks a...\n",
      "Name: title, dtype: object, 'url': 22    https://www.semanticscholar.org/paper/8bd506fa...\n",
      "Name: url, dtype: object}, 'classes': 'res'}, {'data': {'id': 'F. Da Pieve et al. (2020)', 'label': 'F. Da Pieve et al. (2020)', 'title': 6    Radiation Environment and Doses on Mars at Oxi...\n",
      "Name: title, dtype: object, 'url': 6    https://www.semanticscholar.org/paper/15f56931...\n",
      "Name: url, dtype: object}, 'classes': 'res'}, {'data': {'id': 'L. Hays et al. (2017)', 'label': 'L. Hays et al. (2017)', 'title': 11    Biosignature Preservation and Detection in Mar...\n",
      "Name: title, dtype: object, 'url': 11    https://www.semanticscholar.org/paper/0e5ab9a0...\n",
      "Name: url, dtype: object}, 'classes': 'res'}, {'data': {'id': 'S. Shkolyar et al. (2021)', 'label': 'S. Shkolyar et al. (2021)', 'title': 29    Detecting Ce3+ as a biosignature mimicker usin...\n",
      "Name: title, dtype: object, 'url': 29    https://www.semanticscholar.org/paper/a491bc56...\n",
      "Name: url, dtype: object}, 'classes': 'res'}, {'data': {'id': 'M. Floyd et al. (2018)', 'label': 'M. Floyd et al. (2018)', 'title': 9    Metabolic Processes Preserved as Biosignatures...\n",
      "Name: title, dtype: object, 'url': 9    https://www.semanticscholar.org/paper/e9040c63...\n",
      "Name: url, dtype: object}, 'classes': 'res'}, {'data': {'id': 'Joost W. Aerts et al. (2020)', 'label': 'Joost W. Aerts et al. (2020)', 'title': 4    Biosignature Analysis of Mars Soil Analogs fro...\n",
      "Name: title, dtype: object, 'url': 4    https://www.semanticscholar.org/paper/f1376f87...\n",
      "Name: url, dtype: object}, 'classes': 'res'}, {'data': {'id': 'L. Hays, D. Beaty (2017)', 'label': 'L. Hays, D. Beaty (2017)', 'title': 14    Conference Report: Biosignature Preservation a...\n",
      "Name: title, dtype: object, 'url': 14    https://www.semanticscholar.org/paper/be0a6eb0...\n",
      "Name: url, dtype: object}, 'classes': 'res'}]\n"
     ]
    }
   ],
   "source": [
    "net_data = generate_graph_elements_network(all_references_df, results_df)"
   ]
  },
  {
   "cell_type": "code",
   "execution_count": 11,
   "id": "ac5c455e",
   "metadata": {},
   "outputs": [
    {
     "data": {
      "text/plain": [
       "{'data': {'source': 'L. Pratt et al. (2006)',\n",
       "  'target': 'R. Summons et al. (2011)'},\n",
       " 'classes': 'citation'}"
      ]
     },
     "execution_count": 11,
     "metadata": {},
     "output_type": "execute_result"
    }
   ],
   "source": [
    "net_data[500]"
   ]
  },
  {
   "cell_type": "code",
   "execution_count": 12,
   "id": "ddae3d1c",
   "metadata": {},
   "outputs": [
    {
     "ename": "TypeError",
     "evalue": "list indices must be integers or slices, not str",
     "output_type": "error",
     "traceback": [
      "\u001b[0;31m---------------------------------------------------------------------------\u001b[0m",
      "\u001b[0;31mTypeError\u001b[0m                                 Traceback (most recent call last)",
      "\u001b[0;32m<ipython-input-12-5f58ef215ca2>\u001b[0m in \u001b[0;36m<module>\u001b[0;34m\u001b[0m\n\u001b[0;32m----> 1\u001b[0;31m \u001b[0mnet_data\u001b[0m\u001b[0;34m[\u001b[0m\u001b[0;34m'data'\u001b[0m\u001b[0;34m]\u001b[0m\u001b[0;34m[\u001b[0m\u001b[0;34m'target'\u001b[0m\u001b[0;34m]\u001b[0m\u001b[0;34m[\u001b[0m\u001b[0mnet_data\u001b[0m\u001b[0;34m[\u001b[0m\u001b[0;34m'data'\u001b[0m\u001b[0;34m]\u001b[0m\u001b[0;34m[\u001b[0m\u001b[0;34m'source'\u001b[0m\u001b[0;34m]\u001b[0m \u001b[0;34m==\u001b[0m \u001b[0;34m'R. Summons'\u001b[0m\u001b[0;34m]\u001b[0m\u001b[0;34m\u001b[0m\u001b[0;34m\u001b[0m\u001b[0m\n\u001b[0m",
      "\u001b[0;31mTypeError\u001b[0m: list indices must be integers or slices, not str"
     ]
    }
   ],
   "source": [
    "net_data['data']['target'][net_data['data']['source'] == 'R. Summons']"
   ]
  }
 ],
 "metadata": {
  "kernelspec": {
   "display_name": "Python 3",
   "language": "python",
   "name": "python3"
  },
  "language_info": {
   "codemirror_mode": {
    "name": "ipython",
    "version": 3
   },
   "file_extension": ".py",
   "mimetype": "text/x-python",
   "name": "python",
   "nbconvert_exporter": "python",
   "pygments_lexer": "ipython3",
   "version": "3.8.6"
  },
  "toc": {
   "base_numbering": 1,
   "nav_menu": {},
   "number_sections": true,
   "sideBar": true,
   "skip_h1_title": false,
   "title_cell": "Table of Contents",
   "title_sidebar": "Contents",
   "toc_cell": false,
   "toc_position": {},
   "toc_section_display": true,
   "toc_window_display": false
  }
 },
 "nbformat": 4,
 "nbformat_minor": 5
}
