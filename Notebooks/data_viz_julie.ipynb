{
 "cells": [
  {
   "cell_type": "markdown",
   "id": "1117ade2",
   "metadata": {},
   "source": [
    "# Scraping the data"
   ]
  },
  {
   "cell_type": "markdown",
   "id": "9cf95a00",
   "metadata": {},
   "source": [
    "**The following code requested SerpAPI ( about 50 requests) and saved the dataframes into csv files in the `data` folder**\n",
    "\n",
    "**Please do not re-run this code as it will use all the API credits**\n",
    "\n",
    "**Use the code from section 2 instead to read the data**"
   ]
  },
  {
   "cell_type": "markdown",
   "id": "ee765a55",
   "metadata": {},
   "source": [
    "## Imports"
   ]
  },
  {
   "cell_type": "code",
   "execution_count": 21,
   "id": "afa61183",
   "metadata": {},
   "outputs": [],
   "source": [
    "from serpapi import GoogleSearch\n",
    "import pandas as pd\n",
    "import numpy as np\n",
    "import re\n",
    "\n",
    "import matplotlib.pyplot as plt\n",
    "import plotly.graph_objects as go\n",
    "from plotly.subplots import make_subplots\n",
    "import plotly.express as px\n",
    "import plotly.offline as py\n",
    "\n",
    "from startupjh import serpapi\n",
    "from startupjh import data_preprocess"
   ]
  },
  {
   "cell_type": "markdown",
   "id": "673091b5",
   "metadata": {
    "heading_collapsed": true
   },
   "source": [
    "## Collecting data using `serpapi.py`\n"
   ]
  },
  {
   "cell_type": "code",
   "execution_count": 4,
   "id": "1baf6930",
   "metadata": {
    "hidden": true
   },
   "outputs": [
    {
     "name": "stdout",
     "output_type": "stream",
     "text": [
      "Enter key words: automation container terminal\n"
     ]
    }
   ],
   "source": [
    "papers_df = serpapi.serpapi_og_results()"
   ]
  },
  {
   "cell_type": "code",
   "execution_count": 6,
   "id": "371fe4e9",
   "metadata": {
    "hidden": true
   },
   "outputs": [],
   "source": [
    "primary_df = serpapi.serpapi_full_cite(papers_df)"
   ]
  },
  {
   "cell_type": "code",
   "execution_count": 8,
   "id": "1a43bf22",
   "metadata": {
    "hidden": true
   },
   "outputs": [],
   "source": [
    "citing_papers = serpapi.serpapi_cited_by_list(primary_df)"
   ]
  },
  {
   "cell_type": "code",
   "execution_count": 11,
   "id": "2a70c937",
   "metadata": {
    "hidden": true
   },
   "outputs": [],
   "source": [
    "# Saves the two dataframes to csv files in the `data` folder\n",
    "primary_df.to_csv('../data/primary_results.csv', index=False)\n",
    "citing_papers.to_csv('../data/citing_papers.csv', index=False)"
   ]
  },
  {
   "cell_type": "markdown",
   "id": "5aeb93de",
   "metadata": {},
   "source": [
    "# Basic preprocessing"
   ]
  },
  {
   "cell_type": "markdown",
   "id": "4a740335",
   "metadata": {},
   "source": [
    "## Loads the data from `csv` files"
   ]
  },
  {
   "cell_type": "code",
   "execution_count": 3,
   "id": "bc53b483",
   "metadata": {},
   "outputs": [],
   "source": [
    "# primary_df contains the results from the google scholar search\n",
    "primary_df = pd.read_csv('../data/primary_results.csv')"
   ]
  },
  {
   "cell_type": "code",
   "execution_count": 4,
   "id": "39378a8b",
   "metadata": {},
   "outputs": [],
   "source": [
    "# citing_df contains the papers that cite every single paper in primary_df\n",
    "citing_df = pd.read_csv('../data/citing_papers.csv')"
   ]
  },
  {
   "cell_type": "markdown",
   "id": "f26c9217",
   "metadata": {},
   "source": [
    "## Extract `authors`, `year`, `pub_info` from `primary_df`\n"
   ]
  },
  {
   "cell_type": "code",
   "execution_count": 8,
   "id": "b5ac1d30",
   "metadata": {},
   "outputs": [],
   "source": [
    "extended_primary_df = data_preprocess.extract_pub_info(primary_df)"
   ]
  },
  {
   "cell_type": "markdown",
   "id": "57ce288a",
   "metadata": {},
   "source": [
    "## Extract `key_words` from `titles` in both dataframes\n"
   ]
  },
  {
   "cell_type": "code",
   "execution_count": 10,
   "id": "80b86751",
   "metadata": {},
   "outputs": [],
   "source": [
    "extracted_primary_df = data_preprocess.extract_key_words(extended_primary_df)"
   ]
  },
  {
   "cell_type": "code",
   "execution_count": 12,
   "id": "a002a12d",
   "metadata": {},
   "outputs": [],
   "source": [
    "extracted_citing_df = data_preprocess.extract_key_words(citing_df)"
   ]
  },
  {
   "cell_type": "markdown",
   "id": "f61c982d",
   "metadata": {},
   "source": [
    "# Basic vizualisation"
   ]
  },
  {
   "cell_type": "code",
   "execution_count": 16,
   "id": "3725169f",
   "metadata": {},
   "outputs": [
    {
     "data": {
      "text/html": [
       "<div>\n",
       "<style scoped>\n",
       "    .dataframe tbody tr th:only-of-type {\n",
       "        vertical-align: middle;\n",
       "    }\n",
       "\n",
       "    .dataframe tbody tr th {\n",
       "        vertical-align: top;\n",
       "    }\n",
       "\n",
       "    .dataframe thead th {\n",
       "        text-align: right;\n",
       "    }\n",
       "</style>\n",
       "<table border=\"1\" class=\"dataframe\">\n",
       "  <thead>\n",
       "    <tr style=\"text-align: right;\">\n",
       "      <th></th>\n",
       "      <th>paper_id</th>\n",
       "      <th>citing_paper_id</th>\n",
       "      <th>title</th>\n",
       "      <th>result_id</th>\n",
       "      <th>link</th>\n",
       "      <th>snippet</th>\n",
       "      <th>resources_title</th>\n",
       "      <th>resources_link</th>\n",
       "      <th>citation_count</th>\n",
       "      <th>cites_id</th>\n",
       "      <th>versions</th>\n",
       "      <th>cluster_id</th>\n",
       "      <th>key_words</th>\n",
       "    </tr>\n",
       "  </thead>\n",
       "  <tbody>\n",
       "    <tr>\n",
       "      <th>0</th>\n",
       "      <td>0</td>\n",
       "      <td>0</td>\n",
       "      <td>MicroPort: A general simulation platform for s...</td>\n",
       "      <td>o4mmoriNu70J</td>\n",
       "      <td>https://www.sciencedirect.com/science/article/...</td>\n",
       "      <td>Seaport container terminals are essential node...</td>\n",
       "      <td>no data</td>\n",
       "      <td>no data</td>\n",
       "      <td>86</td>\n",
       "      <td>13671676917955594659</td>\n",
       "      <td>4</td>\n",
       "      <td>13671676917955594659</td>\n",
       "      <td>microport, general, simulation, platform, seap...</td>\n",
       "    </tr>\n",
       "    <tr>\n",
       "      <th>1</th>\n",
       "      <td>1</td>\n",
       "      <td>0</td>\n",
       "      <td>Agent-based simulation of stakeholders relatio...</td>\n",
       "      <td>p-ou00crS34J</td>\n",
       "      <td>https://citeseerx.ist.psu.edu/viewdoc/download...</td>\n",
       "      <td>Port management is often faced with many vexin...</td>\n",
       "      <td>psu.edu</td>\n",
       "      <td>https://citeseerx.ist.psu.edu/viewdoc/download...</td>\n",
       "      <td>75</td>\n",
       "      <td>9100415059517958823</td>\n",
       "      <td>7</td>\n",
       "      <td>9100415059517958823</td>\n",
       "      <td>agentbased, simulation, stakeholders, relation...</td>\n",
       "    </tr>\n",
       "    <tr>\n",
       "      <th>2</th>\n",
       "      <td>2</td>\n",
       "      <td>0</td>\n",
       "      <td>Agent based simulation architecture for evalua...</td>\n",
       "      <td>bnLMKYOdJ9YJ</td>\n",
       "      <td>https://link.springer.com/article/10.1007/s104...</td>\n",
       "      <td>An agent based simulator for evaluating operat...</td>\n",
       "      <td>sc.edu</td>\n",
       "      <td>https://jmvidal.cse.sc.edu/library/henesey09b.pdf</td>\n",
       "      <td>59</td>\n",
       "      <td>15431475834875834990</td>\n",
       "      <td>11</td>\n",
       "      <td>15431475834875834990</td>\n",
       "      <td>agent, based, simulation, architecture, evalua...</td>\n",
       "    </tr>\n",
       "    <tr>\n",
       "      <th>3</th>\n",
       "      <td>3</td>\n",
       "      <td>0</td>\n",
       "      <td>Agent based simulation architecture for evalua...</td>\n",
       "      <td>oXp7vE9e2RsJ</td>\n",
       "      <td>https://link.springer.com/chapter/10.1007/1187...</td>\n",
       "      <td>An agent based simulator for evaluating operat...</td>\n",
       "      <td>psu.edu</td>\n",
       "      <td>http://citeseerx.ist.psu.edu/viewdoc/download?...</td>\n",
       "      <td>52</td>\n",
       "      <td>2006738805527902881</td>\n",
       "      <td>16</td>\n",
       "      <td>2006738805527902881</td>\n",
       "      <td>agent, based, simulation, architecture, evalua...</td>\n",
       "    </tr>\n",
       "    <tr>\n",
       "      <th>4</th>\n",
       "      <td>4</td>\n",
       "      <td>0</td>\n",
       "      <td>Agent-based approaches to transport logistics</td>\n",
       "      <td>m6wq9uLSXOgJ</td>\n",
       "      <td>https://citeseerx.ist.psu.edu/viewdoc/download...</td>\n",
       "      <td>This paper provides a survey of existing resea...</td>\n",
       "      <td>psu.edu</td>\n",
       "      <td>https://citeseerx.ist.psu.edu/viewdoc/download...</td>\n",
       "      <td>43</td>\n",
       "      <td>16743489386891095195</td>\n",
       "      <td>4</td>\n",
       "      <td>16743489386891095195</td>\n",
       "      <td>agentbased, approaches, transport, logistics</td>\n",
       "    </tr>\n",
       "    <tr>\n",
       "      <th>5</th>\n",
       "      <td>5</td>\n",
       "      <td>0</td>\n",
       "      <td>Simulation and the lean port environment</td>\n",
       "      <td>v7e1Dmpk43sJ</td>\n",
       "      <td>https://link.springer.com/article/10.1057/palg...</td>\n",
       "      <td>This paper considers the applicability of simu...</td>\n",
       "      <td>no data</td>\n",
       "      <td>no data</td>\n",
       "      <td>31</td>\n",
       "      <td>8927089293054556095</td>\n",
       "      <td>6</td>\n",
       "      <td>8927089293054556095</td>\n",
       "      <td>simulation, lean, port, environment</td>\n",
       "    </tr>\n",
       "    <tr>\n",
       "      <th>6</th>\n",
       "      <td>6</td>\n",
       "      <td>0</td>\n",
       "      <td>A market-based approach to container port term...</td>\n",
       "      <td>sjtE2dT97mYJ</td>\n",
       "      <td>https://www.researchgate.net/profile/Ingo-Timm...</td>\n",
       "      <td>In sea ports, the management of container term...</td>\n",
       "      <td>researchgate.net</td>\n",
       "      <td>https://www.researchgate.net/profile/Ingo-Timm...</td>\n",
       "      <td>31</td>\n",
       "      <td>7417144726945807282</td>\n",
       "      <td>3</td>\n",
       "      <td>7417144726945807282</td>\n",
       "      <td>marketbased, approach, container, port, termin...</td>\n",
       "    </tr>\n",
       "    <tr>\n",
       "      <th>7</th>\n",
       "      <td>7</td>\n",
       "      <td>0</td>\n",
       "      <td>Analysing trade‐offs in container loading: com...</td>\n",
       "      <td>edSwUWCSIOMJ</td>\n",
       "      <td>https://onlinelibrary.wiley.com/doi/abs/10.111...</td>\n",
       "      <td>In this paper we describe two operations resea...</td>\n",
       "      <td>exeter.ac.uk</td>\n",
       "      <td>https://ore.exeter.ac.uk/repository/bitstream/...</td>\n",
       "      <td>23</td>\n",
       "      <td>16366241988249441401</td>\n",
       "      <td>4</td>\n",
       "      <td>16366241988249441401</td>\n",
       "      <td>analysing, trade‐offs, container, loading, com...</td>\n",
       "    </tr>\n",
       "    <tr>\n",
       "      <th>8</th>\n",
       "      <td>8</td>\n",
       "      <td>0</td>\n",
       "      <td>Multiobjective optimization of a port-of-entry...</td>\n",
       "      <td>ZcMjKkz2bGEJ</td>\n",
       "      <td>https://ieeexplore.ieee.org/abstract/document/...</td>\n",
       "      <td>At the port-of-entry, containers are inspected...</td>\n",
       "      <td>arxiv.org</td>\n",
       "      <td>https://arxiv.org/pdf/1505.05184</td>\n",
       "      <td>23</td>\n",
       "      <td>7020256726148694885</td>\n",
       "      <td>23</td>\n",
       "      <td>7020256726148694885</td>\n",
       "      <td>multiobjective, optimization, portofentry, ins...</td>\n",
       "    </tr>\n",
       "    <tr>\n",
       "      <th>9</th>\n",
       "      <td>9</td>\n",
       "      <td>0</td>\n",
       "      <td>Container Handling using multi-agent architecture</td>\n",
       "      <td>oyFvORrVEAQJ</td>\n",
       "      <td>https://link.springer.com/chapter/10.1007/978-...</td>\n",
       "      <td>Container terminals are essential intermodal i...</td>\n",
       "      <td>academia.edu</td>\n",
       "      <td>https://www.academia.edu/download/50379242/Con...</td>\n",
       "      <td>19</td>\n",
       "      <td>292968284388532643</td>\n",
       "      <td>7</td>\n",
       "      <td>292968284388532643</td>\n",
       "      <td>container, handling, using, multiagent, archit...</td>\n",
       "    </tr>\n",
       "    <tr>\n",
       "      <th>10</th>\n",
       "      <td>0</td>\n",
       "      <td>1</td>\n",
       "      <td>Sustainable supply chain management in the dig...</td>\n",
       "      <td>FPH8hUi0mU4J</td>\n",
       "      <td>https://www.sciencedirect.com/science/article/...</td>\n",
       "      <td>Internationalization of markets and climate ch...</td>\n",
       "      <td>cam.ac.uk</td>\n",
       "      <td>https://www.repository.cam.ac.uk/bitstream/han...</td>\n",
       "      <td>141</td>\n",
       "      <td>5663756229973700884</td>\n",
       "      <td>10</td>\n",
       "      <td>5663756229973700884</td>\n",
       "      <td>sustainable, supply, chain, management, digita...</td>\n",
       "    </tr>\n",
       "    <tr>\n",
       "      <th>11</th>\n",
       "      <td>1</td>\n",
       "      <td>1</td>\n",
       "      <td>Digitization in maritime logistics—What is the...</td>\n",
       "      <td>S6M3V7m5TqUJ</td>\n",
       "      <td>https://www.tandfonline.com/doi/abs/10.1080/23...</td>\n",
       "      <td>The global seaports are of pivotal importance ...</td>\n",
       "      <td>tandfonline.com</td>\n",
       "      <td>https://www.tandfonline.com/doi/pdf/10.1080/23...</td>\n",
       "      <td>72</td>\n",
       "      <td>11911662270124893003</td>\n",
       "      <td>8</td>\n",
       "      <td>11911662270124893003</td>\n",
       "      <td>digitization, maritime, logistics—what, missing</td>\n",
       "    </tr>\n",
       "    <tr>\n",
       "      <th>12</th>\n",
       "      <td>2</td>\n",
       "      <td>1</td>\n",
       "      <td>An integrated scheduling method for AGV routin...</td>\n",
       "      <td>HpDUUovk0l0J</td>\n",
       "      <td>https://www.sciencedirect.com/science/article/...</td>\n",
       "      <td>The simultaneous scheduling of quay cranes (QC...</td>\n",
       "      <td>no data</td>\n",
       "      <td>no data</td>\n",
       "      <td>48</td>\n",
       "      <td>6760717277677785118</td>\n",
       "      <td>2</td>\n",
       "      <td>6760717277677785118</td>\n",
       "      <td>integrated, scheduling, method, agv, routing, ...</td>\n",
       "    </tr>\n",
       "    <tr>\n",
       "      <th>13</th>\n",
       "      <td>3</td>\n",
       "      <td>1</td>\n",
       "      <td>Energy efficiency in European ports: State-of-...</td>\n",
       "      <td>wxxtxK3UHtMJ</td>\n",
       "      <td>https://www.mdpi.com/532128</td>\n",
       "      <td>The changing energy landscape in Europe, marke...</td>\n",
       "      <td>mdpi.com</td>\n",
       "      <td>https://www.mdpi.com/2071-1050/11/18/4952/pdf</td>\n",
       "      <td>16</td>\n",
       "      <td>15212830434094030019</td>\n",
       "      <td>7</td>\n",
       "      <td>15212830434094030019</td>\n",
       "      <td>energy, efficiency, european, ports, stateofpr...</td>\n",
       "    </tr>\n",
       "    <tr>\n",
       "      <th>14</th>\n",
       "      <td>4</td>\n",
       "      <td>1</td>\n",
       "      <td>A fuzzy AHP classification of container terminals</td>\n",
       "      <td>0qw-1drBWEoJ</td>\n",
       "      <td>https://link.springer.com/article/10.1057/s412...</td>\n",
       "      <td>This article proposes a methodology for the cl...</td>\n",
       "      <td>no data</td>\n",
       "      <td>no data</td>\n",
       "      <td>8</td>\n",
       "      <td>5357244902381890770</td>\n",
       "      <td>5</td>\n",
       "      <td>5357244902381890770</td>\n",
       "      <td>fuzzy, ahp, classification, container, terminals</td>\n",
       "    </tr>\n",
       "  </tbody>\n",
       "</table>\n",
       "</div>"
      ],
      "text/plain": [
       "    paper_id  citing_paper_id  \\\n",
       "0          0                0   \n",
       "1          1                0   \n",
       "2          2                0   \n",
       "3          3                0   \n",
       "4          4                0   \n",
       "5          5                0   \n",
       "6          6                0   \n",
       "7          7                0   \n",
       "8          8                0   \n",
       "9          9                0   \n",
       "10         0                1   \n",
       "11         1                1   \n",
       "12         2                1   \n",
       "13         3                1   \n",
       "14         4                1   \n",
       "\n",
       "                                                title     result_id  \\\n",
       "0   MicroPort: A general simulation platform for s...  o4mmoriNu70J   \n",
       "1   Agent-based simulation of stakeholders relatio...  p-ou00crS34J   \n",
       "2   Agent based simulation architecture for evalua...  bnLMKYOdJ9YJ   \n",
       "3   Agent based simulation architecture for evalua...  oXp7vE9e2RsJ   \n",
       "4       Agent-based approaches to transport logistics  m6wq9uLSXOgJ   \n",
       "5            Simulation and the lean port environment  v7e1Dmpk43sJ   \n",
       "6   A market-based approach to container port term...  sjtE2dT97mYJ   \n",
       "7   Analysing trade‐offs in container loading: com...  edSwUWCSIOMJ   \n",
       "8   Multiobjective optimization of a port-of-entry...  ZcMjKkz2bGEJ   \n",
       "9   Container Handling using multi-agent architecture  oyFvORrVEAQJ   \n",
       "10  Sustainable supply chain management in the dig...  FPH8hUi0mU4J   \n",
       "11  Digitization in maritime logistics—What is the...  S6M3V7m5TqUJ   \n",
       "12  An integrated scheduling method for AGV routin...  HpDUUovk0l0J   \n",
       "13  Energy efficiency in European ports: State-of-...  wxxtxK3UHtMJ   \n",
       "14  A fuzzy AHP classification of container terminals  0qw-1drBWEoJ   \n",
       "\n",
       "                                                 link  \\\n",
       "0   https://www.sciencedirect.com/science/article/...   \n",
       "1   https://citeseerx.ist.psu.edu/viewdoc/download...   \n",
       "2   https://link.springer.com/article/10.1007/s104...   \n",
       "3   https://link.springer.com/chapter/10.1007/1187...   \n",
       "4   https://citeseerx.ist.psu.edu/viewdoc/download...   \n",
       "5   https://link.springer.com/article/10.1057/palg...   \n",
       "6   https://www.researchgate.net/profile/Ingo-Timm...   \n",
       "7   https://onlinelibrary.wiley.com/doi/abs/10.111...   \n",
       "8   https://ieeexplore.ieee.org/abstract/document/...   \n",
       "9   https://link.springer.com/chapter/10.1007/978-...   \n",
       "10  https://www.sciencedirect.com/science/article/...   \n",
       "11  https://www.tandfonline.com/doi/abs/10.1080/23...   \n",
       "12  https://www.sciencedirect.com/science/article/...   \n",
       "13                        https://www.mdpi.com/532128   \n",
       "14  https://link.springer.com/article/10.1057/s412...   \n",
       "\n",
       "                                              snippet   resources_title  \\\n",
       "0   Seaport container terminals are essential node...           no data   \n",
       "1   Port management is often faced with many vexin...           psu.edu   \n",
       "2   An agent based simulator for evaluating operat...            sc.edu   \n",
       "3   An agent based simulator for evaluating operat...           psu.edu   \n",
       "4   This paper provides a survey of existing resea...           psu.edu   \n",
       "5   This paper considers the applicability of simu...           no data   \n",
       "6   In sea ports, the management of container term...  researchgate.net   \n",
       "7   In this paper we describe two operations resea...      exeter.ac.uk   \n",
       "8   At the port-of-entry, containers are inspected...         arxiv.org   \n",
       "9   Container terminals are essential intermodal i...      academia.edu   \n",
       "10  Internationalization of markets and climate ch...         cam.ac.uk   \n",
       "11  The global seaports are of pivotal importance ...   tandfonline.com   \n",
       "12  The simultaneous scheduling of quay cranes (QC...           no data   \n",
       "13  The changing energy landscape in Europe, marke...          mdpi.com   \n",
       "14  This article proposes a methodology for the cl...           no data   \n",
       "\n",
       "                                       resources_link  citation_count  \\\n",
       "0                                             no data              86   \n",
       "1   https://citeseerx.ist.psu.edu/viewdoc/download...              75   \n",
       "2   https://jmvidal.cse.sc.edu/library/henesey09b.pdf              59   \n",
       "3   http://citeseerx.ist.psu.edu/viewdoc/download?...              52   \n",
       "4   https://citeseerx.ist.psu.edu/viewdoc/download...              43   \n",
       "5                                             no data              31   \n",
       "6   https://www.researchgate.net/profile/Ingo-Timm...              31   \n",
       "7   https://ore.exeter.ac.uk/repository/bitstream/...              23   \n",
       "8                    https://arxiv.org/pdf/1505.05184              23   \n",
       "9   https://www.academia.edu/download/50379242/Con...              19   \n",
       "10  https://www.repository.cam.ac.uk/bitstream/han...             141   \n",
       "11  https://www.tandfonline.com/doi/pdf/10.1080/23...              72   \n",
       "12                                            no data              48   \n",
       "13      https://www.mdpi.com/2071-1050/11/18/4952/pdf              16   \n",
       "14                                            no data               8   \n",
       "\n",
       "                cites_id versions            cluster_id  \\\n",
       "0   13671676917955594659        4  13671676917955594659   \n",
       "1    9100415059517958823        7   9100415059517958823   \n",
       "2   15431475834875834990       11  15431475834875834990   \n",
       "3    2006738805527902881       16   2006738805527902881   \n",
       "4   16743489386891095195        4  16743489386891095195   \n",
       "5    8927089293054556095        6   8927089293054556095   \n",
       "6    7417144726945807282        3   7417144726945807282   \n",
       "7   16366241988249441401        4  16366241988249441401   \n",
       "8    7020256726148694885       23   7020256726148694885   \n",
       "9     292968284388532643        7    292968284388532643   \n",
       "10   5663756229973700884       10   5663756229973700884   \n",
       "11  11911662270124893003        8  11911662270124893003   \n",
       "12   6760717277677785118        2   6760717277677785118   \n",
       "13  15212830434094030019        7  15212830434094030019   \n",
       "14   5357244902381890770        5   5357244902381890770   \n",
       "\n",
       "                                            key_words  \n",
       "0   microport, general, simulation, platform, seap...  \n",
       "1   agentbased, simulation, stakeholders, relation...  \n",
       "2   agent, based, simulation, architecture, evalua...  \n",
       "3   agent, based, simulation, architecture, evalua...  \n",
       "4        agentbased, approaches, transport, logistics  \n",
       "5                 simulation, lean, port, environment  \n",
       "6   marketbased, approach, container, port, termin...  \n",
       "7   analysing, trade‐offs, container, loading, com...  \n",
       "8   multiobjective, optimization, portofentry, ins...  \n",
       "9   container, handling, using, multiagent, archit...  \n",
       "10  sustainable, supply, chain, management, digita...  \n",
       "11    digitization, maritime, logistics—what, missing  \n",
       "12  integrated, scheduling, method, agv, routing, ...  \n",
       "13  energy, efficiency, european, ports, stateofpr...  \n",
       "14   fuzzy, ahp, classification, container, terminals  "
      ]
     },
     "execution_count": 16,
     "metadata": {},
     "output_type": "execute_result"
    }
   ],
   "source": [
    "extracted_citing_df.head(15)"
   ]
  },
  {
   "cell_type": "code",
   "execution_count": 31,
   "id": "eda2ef10",
   "metadata": {},
   "outputs": [
    {
     "data": {
      "application/vnd.plotly.v1+json": {
       "config": {
        "plotlyServerURL": "https://plot.ly"
       },
       "data": [
        {
         "textangle": 0,
         "textposition": "outside",
         "type": "bar",
         "x": [
          "1999",
          "2000",
          "2004",
          "2006",
          "2014",
          "2018",
          "2019",
          "2021"
         ],
         "y": [
          1,
          1,
          1,
          1,
          2,
          2,
          1,
          1
         ]
        }
       ],
       "layout": {
        "template": {
         "data": {
          "bar": [
           {
            "error_x": {
             "color": "#2a3f5f"
            },
            "error_y": {
             "color": "#2a3f5f"
            },
            "marker": {
             "line": {
              "color": "#E5ECF6",
              "width": 0.5
             }
            },
            "type": "bar"
           }
          ],
          "barpolar": [
           {
            "marker": {
             "line": {
              "color": "#E5ECF6",
              "width": 0.5
             }
            },
            "type": "barpolar"
           }
          ],
          "carpet": [
           {
            "aaxis": {
             "endlinecolor": "#2a3f5f",
             "gridcolor": "white",
             "linecolor": "white",
             "minorgridcolor": "white",
             "startlinecolor": "#2a3f5f"
            },
            "baxis": {
             "endlinecolor": "#2a3f5f",
             "gridcolor": "white",
             "linecolor": "white",
             "minorgridcolor": "white",
             "startlinecolor": "#2a3f5f"
            },
            "type": "carpet"
           }
          ],
          "choropleth": [
           {
            "colorbar": {
             "outlinewidth": 0,
             "ticks": ""
            },
            "type": "choropleth"
           }
          ],
          "contour": [
           {
            "colorbar": {
             "outlinewidth": 0,
             "ticks": ""
            },
            "colorscale": [
             [
              0,
              "#0d0887"
             ],
             [
              0.1111111111111111,
              "#46039f"
             ],
             [
              0.2222222222222222,
              "#7201a8"
             ],
             [
              0.3333333333333333,
              "#9c179e"
             ],
             [
              0.4444444444444444,
              "#bd3786"
             ],
             [
              0.5555555555555556,
              "#d8576b"
             ],
             [
              0.6666666666666666,
              "#ed7953"
             ],
             [
              0.7777777777777778,
              "#fb9f3a"
             ],
             [
              0.8888888888888888,
              "#fdca26"
             ],
             [
              1,
              "#f0f921"
             ]
            ],
            "type": "contour"
           }
          ],
          "contourcarpet": [
           {
            "colorbar": {
             "outlinewidth": 0,
             "ticks": ""
            },
            "type": "contourcarpet"
           }
          ],
          "heatmap": [
           {
            "colorbar": {
             "outlinewidth": 0,
             "ticks": ""
            },
            "colorscale": [
             [
              0,
              "#0d0887"
             ],
             [
              0.1111111111111111,
              "#46039f"
             ],
             [
              0.2222222222222222,
              "#7201a8"
             ],
             [
              0.3333333333333333,
              "#9c179e"
             ],
             [
              0.4444444444444444,
              "#bd3786"
             ],
             [
              0.5555555555555556,
              "#d8576b"
             ],
             [
              0.6666666666666666,
              "#ed7953"
             ],
             [
              0.7777777777777778,
              "#fb9f3a"
             ],
             [
              0.8888888888888888,
              "#fdca26"
             ],
             [
              1,
              "#f0f921"
             ]
            ],
            "type": "heatmap"
           }
          ],
          "heatmapgl": [
           {
            "colorbar": {
             "outlinewidth": 0,
             "ticks": ""
            },
            "colorscale": [
             [
              0,
              "#0d0887"
             ],
             [
              0.1111111111111111,
              "#46039f"
             ],
             [
              0.2222222222222222,
              "#7201a8"
             ],
             [
              0.3333333333333333,
              "#9c179e"
             ],
             [
              0.4444444444444444,
              "#bd3786"
             ],
             [
              0.5555555555555556,
              "#d8576b"
             ],
             [
              0.6666666666666666,
              "#ed7953"
             ],
             [
              0.7777777777777778,
              "#fb9f3a"
             ],
             [
              0.8888888888888888,
              "#fdca26"
             ],
             [
              1,
              "#f0f921"
             ]
            ],
            "type": "heatmapgl"
           }
          ],
          "histogram": [
           {
            "marker": {
             "colorbar": {
              "outlinewidth": 0,
              "ticks": ""
             }
            },
            "type": "histogram"
           }
          ],
          "histogram2d": [
           {
            "colorbar": {
             "outlinewidth": 0,
             "ticks": ""
            },
            "colorscale": [
             [
              0,
              "#0d0887"
             ],
             [
              0.1111111111111111,
              "#46039f"
             ],
             [
              0.2222222222222222,
              "#7201a8"
             ],
             [
              0.3333333333333333,
              "#9c179e"
             ],
             [
              0.4444444444444444,
              "#bd3786"
             ],
             [
              0.5555555555555556,
              "#d8576b"
             ],
             [
              0.6666666666666666,
              "#ed7953"
             ],
             [
              0.7777777777777778,
              "#fb9f3a"
             ],
             [
              0.8888888888888888,
              "#fdca26"
             ],
             [
              1,
              "#f0f921"
             ]
            ],
            "type": "histogram2d"
           }
          ],
          "histogram2dcontour": [
           {
            "colorbar": {
             "outlinewidth": 0,
             "ticks": ""
            },
            "colorscale": [
             [
              0,
              "#0d0887"
             ],
             [
              0.1111111111111111,
              "#46039f"
             ],
             [
              0.2222222222222222,
              "#7201a8"
             ],
             [
              0.3333333333333333,
              "#9c179e"
             ],
             [
              0.4444444444444444,
              "#bd3786"
             ],
             [
              0.5555555555555556,
              "#d8576b"
             ],
             [
              0.6666666666666666,
              "#ed7953"
             ],
             [
              0.7777777777777778,
              "#fb9f3a"
             ],
             [
              0.8888888888888888,
              "#fdca26"
             ],
             [
              1,
              "#f0f921"
             ]
            ],
            "type": "histogram2dcontour"
           }
          ],
          "mesh3d": [
           {
            "colorbar": {
             "outlinewidth": 0,
             "ticks": ""
            },
            "type": "mesh3d"
           }
          ],
          "parcoords": [
           {
            "line": {
             "colorbar": {
              "outlinewidth": 0,
              "ticks": ""
             }
            },
            "type": "parcoords"
           }
          ],
          "pie": [
           {
            "automargin": true,
            "type": "pie"
           }
          ],
          "scatter": [
           {
            "marker": {
             "colorbar": {
              "outlinewidth": 0,
              "ticks": ""
             }
            },
            "type": "scatter"
           }
          ],
          "scatter3d": [
           {
            "line": {
             "colorbar": {
              "outlinewidth": 0,
              "ticks": ""
             }
            },
            "marker": {
             "colorbar": {
              "outlinewidth": 0,
              "ticks": ""
             }
            },
            "type": "scatter3d"
           }
          ],
          "scattercarpet": [
           {
            "marker": {
             "colorbar": {
              "outlinewidth": 0,
              "ticks": ""
             }
            },
            "type": "scattercarpet"
           }
          ],
          "scattergeo": [
           {
            "marker": {
             "colorbar": {
              "outlinewidth": 0,
              "ticks": ""
             }
            },
            "type": "scattergeo"
           }
          ],
          "scattergl": [
           {
            "marker": {
             "colorbar": {
              "outlinewidth": 0,
              "ticks": ""
             }
            },
            "type": "scattergl"
           }
          ],
          "scattermapbox": [
           {
            "marker": {
             "colorbar": {
              "outlinewidth": 0,
              "ticks": ""
             }
            },
            "type": "scattermapbox"
           }
          ],
          "scatterpolar": [
           {
            "marker": {
             "colorbar": {
              "outlinewidth": 0,
              "ticks": ""
             }
            },
            "type": "scatterpolar"
           }
          ],
          "scatterpolargl": [
           {
            "marker": {
             "colorbar": {
              "outlinewidth": 0,
              "ticks": ""
             }
            },
            "type": "scatterpolargl"
           }
          ],
          "scatterternary": [
           {
            "marker": {
             "colorbar": {
              "outlinewidth": 0,
              "ticks": ""
             }
            },
            "type": "scatterternary"
           }
          ],
          "surface": [
           {
            "colorbar": {
             "outlinewidth": 0,
             "ticks": ""
            },
            "colorscale": [
             [
              0,
              "#0d0887"
             ],
             [
              0.1111111111111111,
              "#46039f"
             ],
             [
              0.2222222222222222,
              "#7201a8"
             ],
             [
              0.3333333333333333,
              "#9c179e"
             ],
             [
              0.4444444444444444,
              "#bd3786"
             ],
             [
              0.5555555555555556,
              "#d8576b"
             ],
             [
              0.6666666666666666,
              "#ed7953"
             ],
             [
              0.7777777777777778,
              "#fb9f3a"
             ],
             [
              0.8888888888888888,
              "#fdca26"
             ],
             [
              1,
              "#f0f921"
             ]
            ],
            "type": "surface"
           }
          ],
          "table": [
           {
            "cells": {
             "fill": {
              "color": "#EBF0F8"
             },
             "line": {
              "color": "white"
             }
            },
            "header": {
             "fill": {
              "color": "#C8D4E3"
             },
             "line": {
              "color": "white"
             }
            },
            "type": "table"
           }
          ]
         },
         "layout": {
          "annotationdefaults": {
           "arrowcolor": "#2a3f5f",
           "arrowhead": 0,
           "arrowwidth": 1
          },
          "autotypenumbers": "strict",
          "coloraxis": {
           "colorbar": {
            "outlinewidth": 0,
            "ticks": ""
           }
          },
          "colorscale": {
           "diverging": [
            [
             0,
             "#8e0152"
            ],
            [
             0.1,
             "#c51b7d"
            ],
            [
             0.2,
             "#de77ae"
            ],
            [
             0.3,
             "#f1b6da"
            ],
            [
             0.4,
             "#fde0ef"
            ],
            [
             0.5,
             "#f7f7f7"
            ],
            [
             0.6,
             "#e6f5d0"
            ],
            [
             0.7,
             "#b8e186"
            ],
            [
             0.8,
             "#7fbc41"
            ],
            [
             0.9,
             "#4d9221"
            ],
            [
             1,
             "#276419"
            ]
           ],
           "sequential": [
            [
             0,
             "#0d0887"
            ],
            [
             0.1111111111111111,
             "#46039f"
            ],
            [
             0.2222222222222222,
             "#7201a8"
            ],
            [
             0.3333333333333333,
             "#9c179e"
            ],
            [
             0.4444444444444444,
             "#bd3786"
            ],
            [
             0.5555555555555556,
             "#d8576b"
            ],
            [
             0.6666666666666666,
             "#ed7953"
            ],
            [
             0.7777777777777778,
             "#fb9f3a"
            ],
            [
             0.8888888888888888,
             "#fdca26"
            ],
            [
             1,
             "#f0f921"
            ]
           ],
           "sequentialminus": [
            [
             0,
             "#0d0887"
            ],
            [
             0.1111111111111111,
             "#46039f"
            ],
            [
             0.2222222222222222,
             "#7201a8"
            ],
            [
             0.3333333333333333,
             "#9c179e"
            ],
            [
             0.4444444444444444,
             "#bd3786"
            ],
            [
             0.5555555555555556,
             "#d8576b"
            ],
            [
             0.6666666666666666,
             "#ed7953"
            ],
            [
             0.7777777777777778,
             "#fb9f3a"
            ],
            [
             0.8888888888888888,
             "#fdca26"
            ],
            [
             1,
             "#f0f921"
            ]
           ]
          },
          "colorway": [
           "#636efa",
           "#EF553B",
           "#00cc96",
           "#ab63fa",
           "#FFA15A",
           "#19d3f3",
           "#FF6692",
           "#B6E880",
           "#FF97FF",
           "#FECB52"
          ],
          "font": {
           "color": "#2a3f5f"
          },
          "geo": {
           "bgcolor": "white",
           "lakecolor": "white",
           "landcolor": "#E5ECF6",
           "showlakes": true,
           "showland": true,
           "subunitcolor": "white"
          },
          "hoverlabel": {
           "align": "left"
          },
          "hovermode": "closest",
          "mapbox": {
           "style": "light"
          },
          "paper_bgcolor": "white",
          "plot_bgcolor": "#E5ECF6",
          "polar": {
           "angularaxis": {
            "gridcolor": "white",
            "linecolor": "white",
            "ticks": ""
           },
           "bgcolor": "#E5ECF6",
           "radialaxis": {
            "gridcolor": "white",
            "linecolor": "white",
            "ticks": ""
           }
          },
          "scene": {
           "xaxis": {
            "backgroundcolor": "#E5ECF6",
            "gridcolor": "white",
            "gridwidth": 2,
            "linecolor": "white",
            "showbackground": true,
            "ticks": "",
            "zerolinecolor": "white"
           },
           "yaxis": {
            "backgroundcolor": "#E5ECF6",
            "gridcolor": "white",
            "gridwidth": 2,
            "linecolor": "white",
            "showbackground": true,
            "ticks": "",
            "zerolinecolor": "white"
           },
           "zaxis": {
            "backgroundcolor": "#E5ECF6",
            "gridcolor": "white",
            "gridwidth": 2,
            "linecolor": "white",
            "showbackground": true,
            "ticks": "",
            "zerolinecolor": "white"
           }
          },
          "shapedefaults": {
           "line": {
            "color": "#2a3f5f"
           }
          },
          "ternary": {
           "aaxis": {
            "gridcolor": "white",
            "linecolor": "white",
            "ticks": ""
           },
           "baxis": {
            "gridcolor": "white",
            "linecolor": "white",
            "ticks": ""
           },
           "bgcolor": "#E5ECF6",
           "caxis": {
            "gridcolor": "white",
            "linecolor": "white",
            "ticks": ""
           }
          },
          "title": {
           "x": 0.05
          },
          "xaxis": {
           "automargin": true,
           "gridcolor": "white",
           "linecolor": "white",
           "ticks": "",
           "title": {
            "standoff": 15
           },
           "zerolinecolor": "white",
           "zerolinewidth": 2
          },
          "yaxis": {
           "automargin": true,
           "gridcolor": "white",
           "linecolor": "white",
           "ticks": "",
           "title": {
            "standoff": 15
           },
           "zerolinecolor": "white",
           "zerolinewidth": 2
          }
         }
        },
        "title": {
         "text": "Publications per Year - 'automation container terminal'"
        },
        "xaxis": {
         "title": {
          "text": "Year of Publication"
         }
        },
        "yaxis": {
         "title": {
          "text": "Number of Publications"
         }
        }
       }
      },
      "text/html": [
       "<div>                            <div id=\"46798cd4-d70a-49d3-8b6a-ec639924a494\" class=\"plotly-graph-div\" style=\"height:525px; width:100%;\"></div>            <script type=\"text/javascript\">                require([\"plotly\"], function(Plotly) {                    window.PLOTLYENV=window.PLOTLYENV || {};                                    if (document.getElementById(\"46798cd4-d70a-49d3-8b6a-ec639924a494\")) {                    Plotly.newPlot(                        \"46798cd4-d70a-49d3-8b6a-ec639924a494\",                        [{\"textangle\": 0, \"textposition\": \"outside\", \"type\": \"bar\", \"x\": [\"1999\", \"2000\", \"2004\", \"2006\", \"2014\", \"2018\", \"2019\", \"2021\"], \"y\": [1, 1, 1, 1, 2, 2, 1, 1]}],                        {\"template\": {\"data\": {\"bar\": [{\"error_x\": {\"color\": \"#2a3f5f\"}, \"error_y\": {\"color\": \"#2a3f5f\"}, \"marker\": {\"line\": {\"color\": \"#E5ECF6\", \"width\": 0.5}}, \"type\": \"bar\"}], \"barpolar\": [{\"marker\": {\"line\": {\"color\": \"#E5ECF6\", \"width\": 0.5}}, \"type\": \"barpolar\"}], \"carpet\": [{\"aaxis\": {\"endlinecolor\": \"#2a3f5f\", \"gridcolor\": \"white\", \"linecolor\": \"white\", \"minorgridcolor\": \"white\", \"startlinecolor\": \"#2a3f5f\"}, \"baxis\": {\"endlinecolor\": \"#2a3f5f\", \"gridcolor\": \"white\", \"linecolor\": \"white\", \"minorgridcolor\": \"white\", \"startlinecolor\": \"#2a3f5f\"}, \"type\": \"carpet\"}], \"choropleth\": [{\"colorbar\": {\"outlinewidth\": 0, \"ticks\": \"\"}, \"type\": \"choropleth\"}], \"contour\": [{\"colorbar\": {\"outlinewidth\": 0, \"ticks\": \"\"}, \"colorscale\": [[0.0, \"#0d0887\"], [0.1111111111111111, \"#46039f\"], [0.2222222222222222, \"#7201a8\"], [0.3333333333333333, \"#9c179e\"], [0.4444444444444444, \"#bd3786\"], [0.5555555555555556, \"#d8576b\"], [0.6666666666666666, \"#ed7953\"], [0.7777777777777778, \"#fb9f3a\"], [0.8888888888888888, \"#fdca26\"], [1.0, \"#f0f921\"]], \"type\": \"contour\"}], \"contourcarpet\": [{\"colorbar\": {\"outlinewidth\": 0, \"ticks\": \"\"}, \"type\": \"contourcarpet\"}], \"heatmap\": [{\"colorbar\": {\"outlinewidth\": 0, \"ticks\": \"\"}, \"colorscale\": [[0.0, \"#0d0887\"], [0.1111111111111111, \"#46039f\"], [0.2222222222222222, \"#7201a8\"], [0.3333333333333333, \"#9c179e\"], [0.4444444444444444, \"#bd3786\"], [0.5555555555555556, \"#d8576b\"], [0.6666666666666666, \"#ed7953\"], [0.7777777777777778, \"#fb9f3a\"], [0.8888888888888888, \"#fdca26\"], [1.0, \"#f0f921\"]], \"type\": \"heatmap\"}], \"heatmapgl\": [{\"colorbar\": {\"outlinewidth\": 0, \"ticks\": \"\"}, \"colorscale\": [[0.0, \"#0d0887\"], [0.1111111111111111, \"#46039f\"], [0.2222222222222222, \"#7201a8\"], [0.3333333333333333, \"#9c179e\"], [0.4444444444444444, \"#bd3786\"], [0.5555555555555556, \"#d8576b\"], [0.6666666666666666, \"#ed7953\"], [0.7777777777777778, \"#fb9f3a\"], [0.8888888888888888, \"#fdca26\"], [1.0, \"#f0f921\"]], \"type\": \"heatmapgl\"}], \"histogram\": [{\"marker\": {\"colorbar\": {\"outlinewidth\": 0, \"ticks\": \"\"}}, \"type\": \"histogram\"}], \"histogram2d\": [{\"colorbar\": {\"outlinewidth\": 0, \"ticks\": \"\"}, \"colorscale\": [[0.0, \"#0d0887\"], [0.1111111111111111, \"#46039f\"], [0.2222222222222222, \"#7201a8\"], [0.3333333333333333, \"#9c179e\"], [0.4444444444444444, \"#bd3786\"], [0.5555555555555556, \"#d8576b\"], [0.6666666666666666, \"#ed7953\"], [0.7777777777777778, \"#fb9f3a\"], [0.8888888888888888, \"#fdca26\"], [1.0, \"#f0f921\"]], \"type\": \"histogram2d\"}], \"histogram2dcontour\": [{\"colorbar\": {\"outlinewidth\": 0, \"ticks\": \"\"}, \"colorscale\": [[0.0, \"#0d0887\"], [0.1111111111111111, \"#46039f\"], [0.2222222222222222, \"#7201a8\"], [0.3333333333333333, \"#9c179e\"], [0.4444444444444444, \"#bd3786\"], [0.5555555555555556, \"#d8576b\"], [0.6666666666666666, \"#ed7953\"], [0.7777777777777778, \"#fb9f3a\"], [0.8888888888888888, \"#fdca26\"], [1.0, \"#f0f921\"]], \"type\": \"histogram2dcontour\"}], \"mesh3d\": [{\"colorbar\": {\"outlinewidth\": 0, \"ticks\": \"\"}, \"type\": \"mesh3d\"}], \"parcoords\": [{\"line\": {\"colorbar\": {\"outlinewidth\": 0, \"ticks\": \"\"}}, \"type\": \"parcoords\"}], \"pie\": [{\"automargin\": true, \"type\": \"pie\"}], \"scatter\": [{\"marker\": {\"colorbar\": {\"outlinewidth\": 0, \"ticks\": \"\"}}, \"type\": \"scatter\"}], \"scatter3d\": [{\"line\": {\"colorbar\": {\"outlinewidth\": 0, \"ticks\": \"\"}}, \"marker\": {\"colorbar\": {\"outlinewidth\": 0, \"ticks\": \"\"}}, \"type\": \"scatter3d\"}], \"scattercarpet\": [{\"marker\": {\"colorbar\": {\"outlinewidth\": 0, \"ticks\": \"\"}}, \"type\": \"scattercarpet\"}], \"scattergeo\": [{\"marker\": {\"colorbar\": {\"outlinewidth\": 0, \"ticks\": \"\"}}, \"type\": \"scattergeo\"}], \"scattergl\": [{\"marker\": {\"colorbar\": {\"outlinewidth\": 0, \"ticks\": \"\"}}, \"type\": \"scattergl\"}], \"scattermapbox\": [{\"marker\": {\"colorbar\": {\"outlinewidth\": 0, \"ticks\": \"\"}}, \"type\": \"scattermapbox\"}], \"scatterpolar\": [{\"marker\": {\"colorbar\": {\"outlinewidth\": 0, \"ticks\": \"\"}}, \"type\": \"scatterpolar\"}], \"scatterpolargl\": [{\"marker\": {\"colorbar\": {\"outlinewidth\": 0, \"ticks\": \"\"}}, \"type\": \"scatterpolargl\"}], \"scatterternary\": [{\"marker\": {\"colorbar\": {\"outlinewidth\": 0, \"ticks\": \"\"}}, \"type\": \"scatterternary\"}], \"surface\": [{\"colorbar\": {\"outlinewidth\": 0, \"ticks\": \"\"}, \"colorscale\": [[0.0, \"#0d0887\"], [0.1111111111111111, \"#46039f\"], [0.2222222222222222, \"#7201a8\"], [0.3333333333333333, \"#9c179e\"], [0.4444444444444444, \"#bd3786\"], [0.5555555555555556, \"#d8576b\"], [0.6666666666666666, \"#ed7953\"], [0.7777777777777778, \"#fb9f3a\"], [0.8888888888888888, \"#fdca26\"], [1.0, \"#f0f921\"]], \"type\": \"surface\"}], \"table\": [{\"cells\": {\"fill\": {\"color\": \"#EBF0F8\"}, \"line\": {\"color\": \"white\"}}, \"header\": {\"fill\": {\"color\": \"#C8D4E3\"}, \"line\": {\"color\": \"white\"}}, \"type\": \"table\"}]}, \"layout\": {\"annotationdefaults\": {\"arrowcolor\": \"#2a3f5f\", \"arrowhead\": 0, \"arrowwidth\": 1}, \"autotypenumbers\": \"strict\", \"coloraxis\": {\"colorbar\": {\"outlinewidth\": 0, \"ticks\": \"\"}}, \"colorscale\": {\"diverging\": [[0, \"#8e0152\"], [0.1, \"#c51b7d\"], [0.2, \"#de77ae\"], [0.3, \"#f1b6da\"], [0.4, \"#fde0ef\"], [0.5, \"#f7f7f7\"], [0.6, \"#e6f5d0\"], [0.7, \"#b8e186\"], [0.8, \"#7fbc41\"], [0.9, \"#4d9221\"], [1, \"#276419\"]], \"sequential\": [[0.0, \"#0d0887\"], [0.1111111111111111, \"#46039f\"], [0.2222222222222222, \"#7201a8\"], [0.3333333333333333, \"#9c179e\"], [0.4444444444444444, \"#bd3786\"], [0.5555555555555556, \"#d8576b\"], [0.6666666666666666, \"#ed7953\"], [0.7777777777777778, \"#fb9f3a\"], [0.8888888888888888, \"#fdca26\"], [1.0, \"#f0f921\"]], \"sequentialminus\": [[0.0, \"#0d0887\"], [0.1111111111111111, \"#46039f\"], [0.2222222222222222, \"#7201a8\"], [0.3333333333333333, \"#9c179e\"], [0.4444444444444444, \"#bd3786\"], [0.5555555555555556, \"#d8576b\"], [0.6666666666666666, \"#ed7953\"], [0.7777777777777778, \"#fb9f3a\"], [0.8888888888888888, \"#fdca26\"], [1.0, \"#f0f921\"]]}, \"colorway\": [\"#636efa\", \"#EF553B\", \"#00cc96\", \"#ab63fa\", \"#FFA15A\", \"#19d3f3\", \"#FF6692\", \"#B6E880\", \"#FF97FF\", \"#FECB52\"], \"font\": {\"color\": \"#2a3f5f\"}, \"geo\": {\"bgcolor\": \"white\", \"lakecolor\": \"white\", \"landcolor\": \"#E5ECF6\", \"showlakes\": true, \"showland\": true, \"subunitcolor\": \"white\"}, \"hoverlabel\": {\"align\": \"left\"}, \"hovermode\": \"closest\", \"mapbox\": {\"style\": \"light\"}, \"paper_bgcolor\": \"white\", \"plot_bgcolor\": \"#E5ECF6\", \"polar\": {\"angularaxis\": {\"gridcolor\": \"white\", \"linecolor\": \"white\", \"ticks\": \"\"}, \"bgcolor\": \"#E5ECF6\", \"radialaxis\": {\"gridcolor\": \"white\", \"linecolor\": \"white\", \"ticks\": \"\"}}, \"scene\": {\"xaxis\": {\"backgroundcolor\": \"#E5ECF6\", \"gridcolor\": \"white\", \"gridwidth\": 2, \"linecolor\": \"white\", \"showbackground\": true, \"ticks\": \"\", \"zerolinecolor\": \"white\"}, \"yaxis\": {\"backgroundcolor\": \"#E5ECF6\", \"gridcolor\": \"white\", \"gridwidth\": 2, \"linecolor\": \"white\", \"showbackground\": true, \"ticks\": \"\", \"zerolinecolor\": \"white\"}, \"zaxis\": {\"backgroundcolor\": \"#E5ECF6\", \"gridcolor\": \"white\", \"gridwidth\": 2, \"linecolor\": \"white\", \"showbackground\": true, \"ticks\": \"\", \"zerolinecolor\": \"white\"}}, \"shapedefaults\": {\"line\": {\"color\": \"#2a3f5f\"}}, \"ternary\": {\"aaxis\": {\"gridcolor\": \"white\", \"linecolor\": \"white\", \"ticks\": \"\"}, \"baxis\": {\"gridcolor\": \"white\", \"linecolor\": \"white\", \"ticks\": \"\"}, \"bgcolor\": \"#E5ECF6\", \"caxis\": {\"gridcolor\": \"white\", \"linecolor\": \"white\", \"ticks\": \"\"}}, \"title\": {\"x\": 0.05}, \"xaxis\": {\"automargin\": true, \"gridcolor\": \"white\", \"linecolor\": \"white\", \"ticks\": \"\", \"title\": {\"standoff\": 15}, \"zerolinecolor\": \"white\", \"zerolinewidth\": 2}, \"yaxis\": {\"automargin\": true, \"gridcolor\": \"white\", \"linecolor\": \"white\", \"ticks\": \"\", \"title\": {\"standoff\": 15}, \"zerolinecolor\": \"white\", \"zerolinewidth\": 2}}}, \"title\": {\"text\": \"Publications per Year - 'automation container terminal'\"}, \"xaxis\": {\"title\": {\"text\": \"Year of Publication\"}}, \"yaxis\": {\"title\": {\"text\": \"Number of Publications\"}}},                        {\"responsive\": true}                    ).then(function(){\n",
       "                            \n",
       "var gd = document.getElementById('46798cd4-d70a-49d3-8b6a-ec639924a494');\n",
       "var x = new MutationObserver(function (mutations, observer) {{\n",
       "        var display = window.getComputedStyle(gd).display;\n",
       "        if (!display || display === 'none') {{\n",
       "            console.log([gd, 'removed!']);\n",
       "            Plotly.purge(gd);\n",
       "            observer.disconnect();\n",
       "        }}\n",
       "}});\n",
       "\n",
       "// Listen for the removal of the full notebook cells\n",
       "var notebookContainer = gd.closest('#notebook-container');\n",
       "if (notebookContainer) {{\n",
       "    x.observe(notebookContainer, {childList: true});\n",
       "}}\n",
       "\n",
       "// Listen for the clearing of the current output cell\n",
       "var outputEl = gd.closest('.output');\n",
       "if (outputEl) {{\n",
       "    x.observe(outputEl, {childList: true});\n",
       "}}\n",
       "\n",
       "                        })                };                });            </script>        </div>"
      ]
     },
     "metadata": {},
     "output_type": "display_data"
    }
   ],
   "source": [
    "# Plots the number of publications per year for extracted_primary_df\n",
    "fig = go.Figure(data=[go.Bar(x=extracted_primary_df.groupby(\"year\").count()[\"paper_id\"].index, y= extracted_primary_df.groupby(\"year\").count()[\"paper_id\"],\n",
    "        textposition=\"outside\",\n",
    "        textangle=0)])\n",
    "\n",
    "\n",
    "fig.update_layout(title = \"Publications per Year - 'automation container terminal'\" )\n",
    "\n",
    "# Update xaxis properties\n",
    "fig.update_xaxes(title=\"Year of Publication\")\n",
    "\n",
    "# Update yaxis properties\n",
    "fig.update_yaxes(title=\"Number of Publications\")"
   ]
  },
  {
   "cell_type": "code",
   "execution_count": 48,
   "id": "bf75ae80",
   "metadata": {
    "scrolled": true
   },
   "outputs": [
    {
     "data": {
      "text/html": [
       "<div>\n",
       "<style scoped>\n",
       "    .dataframe tbody tr th:only-of-type {\n",
       "        vertical-align: middle;\n",
       "    }\n",
       "\n",
       "    .dataframe tbody tr th {\n",
       "        vertical-align: top;\n",
       "    }\n",
       "\n",
       "    .dataframe thead th {\n",
       "        text-align: right;\n",
       "    }\n",
       "</style>\n",
       "<table border=\"1\" class=\"dataframe\">\n",
       "  <thead>\n",
       "    <tr style=\"text-align: right;\">\n",
       "      <th></th>\n",
       "      <th>paper_id</th>\n",
       "      <th>title</th>\n",
       "      <th>result_id</th>\n",
       "      <th>link</th>\n",
       "      <th>snippet</th>\n",
       "      <th>resources_title</th>\n",
       "      <th>resources_link</th>\n",
       "      <th>citation_count</th>\n",
       "      <th>cites_id</th>\n",
       "      <th>versions</th>\n",
       "      <th>cluster_id</th>\n",
       "      <th>full_citation</th>\n",
       "      <th>authors</th>\n",
       "      <th>pub_info</th>\n",
       "      <th>year</th>\n",
       "      <th>key_words</th>\n",
       "      <th>key_words_list</th>\n",
       "    </tr>\n",
       "  </thead>\n",
       "  <tbody>\n",
       "    <tr>\n",
       "      <th>0</th>\n",
       "      <td>0</td>\n",
       "      <td>A multi-agent system for the automation of a p...</td>\n",
       "      <td>qljx-SC6MYEJ</td>\n",
       "      <td>https://www.academia.edu/download/48859036/A_m...</td>\n",
       "      <td>This paper presents a system architecture whic...</td>\n",
       "      <td>academia.edu</td>\n",
       "      <td>https://www.academia.edu/download/48859036/A_m...</td>\n",
       "      <td>75</td>\n",
       "      <td>9309426555546589354</td>\n",
       "      <td>4</td>\n",
       "      <td>9309426555546589354</td>\n",
       "      <td>Rebollo, Miguel, et al. \"A multi-agent system ...</td>\n",
       "      <td>Rebollo, Miguel, et al.</td>\n",
       "      <td>Workshop in Agents in Industry. Barcelona. 2000.</td>\n",
       "      <td>2000</td>\n",
       "      <td>multiagent, system, automation, port, containe...</td>\n",
       "      <td>[multiagent,  system,  automation,  port,  con...</td>\n",
       "    </tr>\n",
       "    <tr>\n",
       "      <th>1</th>\n",
       "      <td>1</td>\n",
       "      <td>Automation in port container terminals</td>\n",
       "      <td>hQkbtalB1OAJ</td>\n",
       "      <td>https://www.sciencedirect.com/science/article/...</td>\n",
       "      <td>… “ Business Process Model and Notation (BPMN)...</td>\n",
       "      <td>sciencedirect.com</td>\n",
       "      <td>https://www.sciencedirect.com/science/article/...</td>\n",
       "      <td>49</td>\n",
       "      <td>16200645956702243205</td>\n",
       "      <td>3</td>\n",
       "      <td>16200645956702243205</td>\n",
       "      <td>Martín-Soberón, Ana María, et al. \"Automation ...</td>\n",
       "      <td>Martín-Soberón, Ana María, et al.</td>\n",
       "      <td>Procedia-Social and Behavioral Sciences 160 (2...</td>\n",
       "      <td>2014</td>\n",
       "      <td>automation, port, container, terminals</td>\n",
       "      <td>[automation,  port,  container,  terminals]</td>\n",
       "    </tr>\n",
       "  </tbody>\n",
       "</table>\n",
       "</div>"
      ],
      "text/plain": [
       "   paper_id                                              title     result_id  \\\n",
       "0         0  A multi-agent system for the automation of a p...  qljx-SC6MYEJ   \n",
       "1         1             Automation in port container terminals  hQkbtalB1OAJ   \n",
       "\n",
       "                                                link  \\\n",
       "0  https://www.academia.edu/download/48859036/A_m...   \n",
       "1  https://www.sciencedirect.com/science/article/...   \n",
       "\n",
       "                                             snippet    resources_title  \\\n",
       "0  This paper presents a system architecture whic...       academia.edu   \n",
       "1  … “ Business Process Model and Notation (BPMN)...  sciencedirect.com   \n",
       "\n",
       "                                      resources_link  citation_count  \\\n",
       "0  https://www.academia.edu/download/48859036/A_m...              75   \n",
       "1  https://www.sciencedirect.com/science/article/...              49   \n",
       "\n",
       "               cites_id versions            cluster_id  \\\n",
       "0   9309426555546589354        4   9309426555546589354   \n",
       "1  16200645956702243205        3  16200645956702243205   \n",
       "\n",
       "                                       full_citation  \\\n",
       "0  Rebollo, Miguel, et al. \"A multi-agent system ...   \n",
       "1  Martín-Soberón, Ana María, et al. \"Automation ...   \n",
       "\n",
       "                             authors  \\\n",
       "0            Rebollo, Miguel, et al.   \n",
       "1  Martín-Soberón, Ana María, et al.   \n",
       "\n",
       "                                            pub_info  year  \\\n",
       "0   Workshop in Agents in Industry. Barcelona. 2000.  2000   \n",
       "1  Procedia-Social and Behavioral Sciences 160 (2...  2014   \n",
       "\n",
       "                                           key_words  \\\n",
       "0  multiagent, system, automation, port, containe...   \n",
       "1             automation, port, container, terminals   \n",
       "\n",
       "                                      key_words_list  \n",
       "0  [multiagent,  system,  automation,  port,  con...  \n",
       "1        [automation,  port,  container,  terminals]  "
      ]
     },
     "execution_count": 48,
     "metadata": {},
     "output_type": "execute_result"
    }
   ],
   "source": [
    "key_words = []\n",
    "for _, row in extracted_primary_df.iterrows():\n",
    "    key_word_list = row.key_words.split(',')\n",
    "    key_words.append(key_word_list)\n",
    "extracted_primary_df[\"key_words_list\"] = key_words\n",
    "extracted_primary_df.head(2)"
   ]
  },
  {
   "cell_type": "code",
   "execution_count": 56,
   "id": "5ee32bf3",
   "metadata": {},
   "outputs": [],
   "source": [
    "stripped_key_words = []\n",
    "for _, row in extracted_primary_df.iterrows():\n",
    "    kw_list = []\n",
    "    for e in row.key_words_list:\n",
    "        kw_list.append(e.strip())\n",
    "    stripped_key_words.append(kw_list)\n",
    "extracted_primary_df[\"stripped_kw_list\"] = stripped_key_words"
   ]
  },
  {
   "cell_type": "code",
   "execution_count": 59,
   "id": "2e527f19",
   "metadata": {},
   "outputs": [
    {
     "data": {
      "text/plain": [
       "['automation', 'port', 'container', 'terminals']"
      ]
     },
     "execution_count": 59,
     "metadata": {},
     "output_type": "execute_result"
    }
   ],
   "source": [
    "extracted_primary_df.stripped_kw_list[1]"
   ]
  },
  {
   "cell_type": "code",
   "execution_count": 62,
   "id": "52a89e17",
   "metadata": {},
   "outputs": [],
   "source": [
    "extracted_primary_df.drop(axis=1, columns = [\"key_words\", \"key_words_list\"], inplace=True)"
   ]
  },
  {
   "cell_type": "code",
   "execution_count": 63,
   "id": "0e73160d",
   "metadata": {},
   "outputs": [
    {
     "data": {
      "text/html": [
       "<div>\n",
       "<style scoped>\n",
       "    .dataframe tbody tr th:only-of-type {\n",
       "        vertical-align: middle;\n",
       "    }\n",
       "\n",
       "    .dataframe tbody tr th {\n",
       "        vertical-align: top;\n",
       "    }\n",
       "\n",
       "    .dataframe thead th {\n",
       "        text-align: right;\n",
       "    }\n",
       "</style>\n",
       "<table border=\"1\" class=\"dataframe\">\n",
       "  <thead>\n",
       "    <tr style=\"text-align: right;\">\n",
       "      <th></th>\n",
       "      <th>paper_id</th>\n",
       "      <th>title</th>\n",
       "      <th>result_id</th>\n",
       "      <th>link</th>\n",
       "      <th>snippet</th>\n",
       "      <th>resources_title</th>\n",
       "      <th>resources_link</th>\n",
       "      <th>citation_count</th>\n",
       "      <th>cites_id</th>\n",
       "      <th>versions</th>\n",
       "      <th>cluster_id</th>\n",
       "      <th>full_citation</th>\n",
       "      <th>authors</th>\n",
       "      <th>pub_info</th>\n",
       "      <th>year</th>\n",
       "      <th>stripped_kw_list</th>\n",
       "    </tr>\n",
       "  </thead>\n",
       "  <tbody>\n",
       "    <tr>\n",
       "      <th>0</th>\n",
       "      <td>0</td>\n",
       "      <td>A multi-agent system for the automation of a p...</td>\n",
       "      <td>qljx-SC6MYEJ</td>\n",
       "      <td>https://www.academia.edu/download/48859036/A_m...</td>\n",
       "      <td>This paper presents a system architecture whic...</td>\n",
       "      <td>academia.edu</td>\n",
       "      <td>https://www.academia.edu/download/48859036/A_m...</td>\n",
       "      <td>75</td>\n",
       "      <td>9309426555546589354</td>\n",
       "      <td>4</td>\n",
       "      <td>9309426555546589354</td>\n",
       "      <td>Rebollo, Miguel, et al. \"A multi-agent system ...</td>\n",
       "      <td>Rebollo, Miguel, et al.</td>\n",
       "      <td>Workshop in Agents in Industry. Barcelona. 2000.</td>\n",
       "      <td>2000</td>\n",
       "      <td>[multiagent, system, automation, port, contain...</td>\n",
       "    </tr>\n",
       "    <tr>\n",
       "      <th>1</th>\n",
       "      <td>1</td>\n",
       "      <td>Automation in port container terminals</td>\n",
       "      <td>hQkbtalB1OAJ</td>\n",
       "      <td>https://www.sciencedirect.com/science/article/...</td>\n",
       "      <td>… “ Business Process Model and Notation (BPMN)...</td>\n",
       "      <td>sciencedirect.com</td>\n",
       "      <td>https://www.sciencedirect.com/science/article/...</td>\n",
       "      <td>49</td>\n",
       "      <td>16200645956702243205</td>\n",
       "      <td>3</td>\n",
       "      <td>16200645956702243205</td>\n",
       "      <td>Martín-Soberón, Ana María, et al. \"Automation ...</td>\n",
       "      <td>Martín-Soberón, Ana María, et al.</td>\n",
       "      <td>Procedia-Social and Behavioral Sciences 160 (2...</td>\n",
       "      <td>2014</td>\n",
       "      <td>[automation, port, container, terminals]</td>\n",
       "    </tr>\n",
       "    <tr>\n",
       "      <th>2</th>\n",
       "      <td>2</td>\n",
       "      <td>Container port automation</td>\n",
       "      <td>0q7hE6UAsyEJ</td>\n",
       "      <td>https://link.springer.com/content/pdf/10.1007/...</td>\n",
       "      <td>… The Patrick Fisherman's Island terminal is n...</td>\n",
       "      <td>no data</td>\n",
       "      <td>no data</td>\n",
       "      <td>13</td>\n",
       "      <td>2428285333085990610</td>\n",
       "      <td>6</td>\n",
       "      <td>2428285333085990610</td>\n",
       "      <td>Nelmes, Graeme. \"Container port automation.\" F...</td>\n",
       "      <td>Nelmes, Graeme.</td>\n",
       "      <td>Field and Service Robotics. Springer, Berlin, ...</td>\n",
       "      <td>2006</td>\n",
       "      <td>[container, port, automation]</td>\n",
       "    </tr>\n",
       "    <tr>\n",
       "      <th>3</th>\n",
       "      <td>3</td>\n",
       "      <td>TRACES: TRAFFIC CONTROL ENGINEERING SYSTEM A c...</td>\n",
       "      <td>wgi33W6YplUJ</td>\n",
       "      <td>https://citeseerx.ist.psu.edu/viewdoc/download...</td>\n",
       "      <td>In this study a control system to coordinate t...</td>\n",
       "      <td>psu.edu</td>\n",
       "      <td>https://citeseerx.ist.psu.edu/viewdoc/download...</td>\n",
       "      <td>27</td>\n",
       "      <td>6171787941291428034</td>\n",
       "      <td>6</td>\n",
       "      <td>6171787941291428034</td>\n",
       "      <td>Duinkerken, Mark B., Joseph JM Evers, and Jaap...</td>\n",
       "      <td>Duinkerken, Mark B., Joseph JM Evers, and Jaap...</td>\n",
       "      <td>signal 2 (1999): v3.</td>\n",
       "      <td>1999</td>\n",
       "      <td>[traces, traffic, control, engineering, system...</td>\n",
       "    </tr>\n",
       "    <tr>\n",
       "      <th>4</th>\n",
       "      <td>4</td>\n",
       "      <td>Multi-agent system technology in a port contai...</td>\n",
       "      <td>Q4_ut9Yo1yoJ</td>\n",
       "      <td>https://www.researchgate.net/profile/V-Botti/p...</td>\n",
       "      <td>In response to the arrival of a ship (ship age...</td>\n",
       "      <td>researchgate.net</td>\n",
       "      <td>https://www.researchgate.net/profile/V-Botti/p...</td>\n",
       "      <td>13</td>\n",
       "      <td>3086980972259741507</td>\n",
       "      <td>no data</td>\n",
       "      <td>no data</td>\n",
       "      <td>Botti, Vicent J. \"Multi-agent system technolog...</td>\n",
       "      <td>Botti, Vicent J.</td>\n",
       "      <td>ERCIM News 56 (2004): 37-39.</td>\n",
       "      <td>2004</td>\n",
       "      <td>[multiagent, system, technology, port, contain...</td>\n",
       "    </tr>\n",
       "    <tr>\n",
       "      <th>5</th>\n",
       "      <td>5</td>\n",
       "      <td>Alignments between strategic content and proce...</td>\n",
       "      <td>CcJLei5JHs4J</td>\n",
       "      <td>https://link.springer.com/article/10.1057/s412...</td>\n",
       "      <td>During the last three decades, technological i...</td>\n",
       "      <td>springer.com</td>\n",
       "      <td>https://link.springer.com/article/10.1057/s412...</td>\n",
       "      <td>14</td>\n",
       "      <td>14852389085083582985</td>\n",
       "      <td>9</td>\n",
       "      <td>14852389085083582985</td>\n",
       "      <td>Wang, Ping, Joan P. Mileski, and Qingcheng Zen...</td>\n",
       "      <td>Wang, Ping, Joan P. Mileski, and Qingcheng Zeng.</td>\n",
       "      <td>Maritime Economics &amp; Logistics 21.4 (2019): 54...</td>\n",
       "      <td>2019</td>\n",
       "      <td>[alignments, strategic, content, process, stru...</td>\n",
       "    </tr>\n",
       "    <tr>\n",
       "      <th>6</th>\n",
       "      <td>6</td>\n",
       "      <td>Performance analysis of a new type of automate...</td>\n",
       "      <td>bIPMB1zTRUsJ</td>\n",
       "      <td>http://citeseerx.ist.psu.edu/viewdoc/download?...</td>\n",
       "      <td>… This paper analyzes the efficient and econom...</td>\n",
       "      <td>psu.edu</td>\n",
       "      <td>http://citeseerx.ist.psu.edu/viewdoc/download?...</td>\n",
       "      <td>8</td>\n",
       "      <td>5423973718458925932</td>\n",
       "      <td>4</td>\n",
       "      <td>5423973718458925932</td>\n",
       "      <td>Yan, Wei, Yishi Zhu, and Junliang He. \"Perform...</td>\n",
       "      <td>Yan, Wei, Yishi Zhu, and Junliang He.</td>\n",
       "      <td>International Journal of Hybrid Information 7....</td>\n",
       "      <td>2014</td>\n",
       "      <td>[performance, analysis, new, type, automated, ...</td>\n",
       "    </tr>\n",
       "    <tr>\n",
       "      <th>7</th>\n",
       "      <td>7</td>\n",
       "      <td>A Study on Application of Yard Transportaion E...</td>\n",
       "      <td>pb-3CDRxiGEJ</td>\n",
       "      <td>https://www.koreascience.or.kr/article/JAKO201...</td>\n",
       "      <td>International major container terminals are tr...</td>\n",
       "      <td>koreascience.or.kr</td>\n",
       "      <td>https://www.koreascience.or.kr/article/JAKO201...</td>\n",
       "      <td>5</td>\n",
       "      <td>7027991686810156965</td>\n",
       "      <td>2</td>\n",
       "      <td>7027991686810156965</td>\n",
       "      <td>Cha, Sang-Hyun, and Chang-Kyun Noh. \"A Study o...</td>\n",
       "      <td>Cha, Sang-Hyun, and Chang-Kyun Noh.</td>\n",
       "      <td>Journal of Navigation and Port Research 42.3 (...</td>\n",
       "      <td>2018</td>\n",
       "      <td>[study, application, yard, transportaion, equi...</td>\n",
       "    </tr>\n",
       "    <tr>\n",
       "      <th>8</th>\n",
       "      <td>8</td>\n",
       "      <td>Cooperative Scheduling of AGV and ASC in Autom...</td>\n",
       "      <td>T70_WBefKj8J</td>\n",
       "      <td>https://www.hindawi.com/journals/mpe/2021/5764...</td>\n",
       "      <td>The key problem of operation optimization for ...</td>\n",
       "      <td>hindawi.com</td>\n",
       "      <td>https://www.hindawi.com/journals/mpe/2021/5764...</td>\n",
       "      <td>1</td>\n",
       "      <td>4551625296024943951</td>\n",
       "      <td>6</td>\n",
       "      <td>4551625296024943951</td>\n",
       "      <td>Zhang, Qinglei, et al. \"Cooperative Scheduling...</td>\n",
       "      <td>Zhang, Qinglei, et al.</td>\n",
       "      <td>Mathematical Problems in Engineering 2021 (2021).</td>\n",
       "      <td>2021</td>\n",
       "      <td>[cooperative, scheduling, agv, asc, automation...</td>\n",
       "    </tr>\n",
       "    <tr>\n",
       "      <th>9</th>\n",
       "      <td>9</td>\n",
       "      <td>New technologies and the transformation of wor...</td>\n",
       "      <td>4q8DAnoCKioJ</td>\n",
       "      <td>https://onlinelibrary.wiley.com/doi/abs/10.111...</td>\n",
       "      <td>… and Sydney terminals. The newly introduced V...</td>\n",
       "      <td>no data</td>\n",
       "      <td>no data</td>\n",
       "      <td>30</td>\n",
       "      <td>3038243621657882594</td>\n",
       "      <td>2</td>\n",
       "      <td>3038243621657882594</td>\n",
       "      <td>Gekara, Victor Oyaro, and Vi‐Xuan Thanh Nguyen...</td>\n",
       "      <td>Gekara, Victor Oyaro, and Vi‐Xuan Thanh Nguyen.</td>\n",
       "      <td>New Technology, Work and Employment 33.3 (2018...</td>\n",
       "      <td>2018</td>\n",
       "      <td>[new, technologies, transformation, work, skil...</td>\n",
       "    </tr>\n",
       "  </tbody>\n",
       "</table>\n",
       "</div>"
      ],
      "text/plain": [
       "   paper_id                                              title     result_id  \\\n",
       "0         0  A multi-agent system for the automation of a p...  qljx-SC6MYEJ   \n",
       "1         1             Automation in port container terminals  hQkbtalB1OAJ   \n",
       "2         2                          Container port automation  0q7hE6UAsyEJ   \n",
       "3         3  TRACES: TRAFFIC CONTROL ENGINEERING SYSTEM A c...  wgi33W6YplUJ   \n",
       "4         4  Multi-agent system technology in a port contai...  Q4_ut9Yo1yoJ   \n",
       "5         5  Alignments between strategic content and proce...  CcJLei5JHs4J   \n",
       "6         6  Performance analysis of a new type of automate...  bIPMB1zTRUsJ   \n",
       "7         7  A Study on Application of Yard Transportaion E...  pb-3CDRxiGEJ   \n",
       "8         8  Cooperative Scheduling of AGV and ASC in Autom...  T70_WBefKj8J   \n",
       "9         9  New technologies and the transformation of wor...  4q8DAnoCKioJ   \n",
       "\n",
       "                                                link  \\\n",
       "0  https://www.academia.edu/download/48859036/A_m...   \n",
       "1  https://www.sciencedirect.com/science/article/...   \n",
       "2  https://link.springer.com/content/pdf/10.1007/...   \n",
       "3  https://citeseerx.ist.psu.edu/viewdoc/download...   \n",
       "4  https://www.researchgate.net/profile/V-Botti/p...   \n",
       "5  https://link.springer.com/article/10.1057/s412...   \n",
       "6  http://citeseerx.ist.psu.edu/viewdoc/download?...   \n",
       "7  https://www.koreascience.or.kr/article/JAKO201...   \n",
       "8  https://www.hindawi.com/journals/mpe/2021/5764...   \n",
       "9  https://onlinelibrary.wiley.com/doi/abs/10.111...   \n",
       "\n",
       "                                             snippet     resources_title  \\\n",
       "0  This paper presents a system architecture whic...        academia.edu   \n",
       "1  … “ Business Process Model and Notation (BPMN)...   sciencedirect.com   \n",
       "2  … The Patrick Fisherman's Island terminal is n...             no data   \n",
       "3  In this study a control system to coordinate t...             psu.edu   \n",
       "4  In response to the arrival of a ship (ship age...    researchgate.net   \n",
       "5  During the last three decades, technological i...        springer.com   \n",
       "6  … This paper analyzes the efficient and econom...             psu.edu   \n",
       "7  International major container terminals are tr...  koreascience.or.kr   \n",
       "8  The key problem of operation optimization for ...         hindawi.com   \n",
       "9  … and Sydney terminals. The newly introduced V...             no data   \n",
       "\n",
       "                                      resources_link  citation_count  \\\n",
       "0  https://www.academia.edu/download/48859036/A_m...              75   \n",
       "1  https://www.sciencedirect.com/science/article/...              49   \n",
       "2                                            no data              13   \n",
       "3  https://citeseerx.ist.psu.edu/viewdoc/download...              27   \n",
       "4  https://www.researchgate.net/profile/V-Botti/p...              13   \n",
       "5  https://link.springer.com/article/10.1057/s412...              14   \n",
       "6  http://citeseerx.ist.psu.edu/viewdoc/download?...               8   \n",
       "7  https://www.koreascience.or.kr/article/JAKO201...               5   \n",
       "8  https://www.hindawi.com/journals/mpe/2021/5764...               1   \n",
       "9                                            no data              30   \n",
       "\n",
       "               cites_id versions            cluster_id  \\\n",
       "0   9309426555546589354        4   9309426555546589354   \n",
       "1  16200645956702243205        3  16200645956702243205   \n",
       "2   2428285333085990610        6   2428285333085990610   \n",
       "3   6171787941291428034        6   6171787941291428034   \n",
       "4   3086980972259741507  no data               no data   \n",
       "5  14852389085083582985        9  14852389085083582985   \n",
       "6   5423973718458925932        4   5423973718458925932   \n",
       "7   7027991686810156965        2   7027991686810156965   \n",
       "8   4551625296024943951        6   4551625296024943951   \n",
       "9   3038243621657882594        2   3038243621657882594   \n",
       "\n",
       "                                       full_citation  \\\n",
       "0  Rebollo, Miguel, et al. \"A multi-agent system ...   \n",
       "1  Martín-Soberón, Ana María, et al. \"Automation ...   \n",
       "2  Nelmes, Graeme. \"Container port automation.\" F...   \n",
       "3  Duinkerken, Mark B., Joseph JM Evers, and Jaap...   \n",
       "4  Botti, Vicent J. \"Multi-agent system technolog...   \n",
       "5  Wang, Ping, Joan P. Mileski, and Qingcheng Zen...   \n",
       "6  Yan, Wei, Yishi Zhu, and Junliang He. \"Perform...   \n",
       "7  Cha, Sang-Hyun, and Chang-Kyun Noh. \"A Study o...   \n",
       "8  Zhang, Qinglei, et al. \"Cooperative Scheduling...   \n",
       "9  Gekara, Victor Oyaro, and Vi‐Xuan Thanh Nguyen...   \n",
       "\n",
       "                                             authors  \\\n",
       "0                            Rebollo, Miguel, et al.   \n",
       "1                  Martín-Soberón, Ana María, et al.   \n",
       "2                                    Nelmes, Graeme.   \n",
       "3  Duinkerken, Mark B., Joseph JM Evers, and Jaap...   \n",
       "4                                   Botti, Vicent J.   \n",
       "5   Wang, Ping, Joan P. Mileski, and Qingcheng Zeng.   \n",
       "6              Yan, Wei, Yishi Zhu, and Junliang He.   \n",
       "7                Cha, Sang-Hyun, and Chang-Kyun Noh.   \n",
       "8                             Zhang, Qinglei, et al.   \n",
       "9    Gekara, Victor Oyaro, and Vi‐Xuan Thanh Nguyen.   \n",
       "\n",
       "                                            pub_info  year  \\\n",
       "0   Workshop in Agents in Industry. Barcelona. 2000.  2000   \n",
       "1  Procedia-Social and Behavioral Sciences 160 (2...  2014   \n",
       "2  Field and Service Robotics. Springer, Berlin, ...  2006   \n",
       "3                               signal 2 (1999): v3.  1999   \n",
       "4                       ERCIM News 56 (2004): 37-39.  2004   \n",
       "5  Maritime Economics & Logistics 21.4 (2019): 54...  2019   \n",
       "6  International Journal of Hybrid Information 7....  2014   \n",
       "7  Journal of Navigation and Port Research 42.3 (...  2018   \n",
       "8  Mathematical Problems in Engineering 2021 (2021).  2021   \n",
       "9  New Technology, Work and Employment 33.3 (2018...  2018   \n",
       "\n",
       "                                    stripped_kw_list  \n",
       "0  [multiagent, system, automation, port, contain...  \n",
       "1           [automation, port, container, terminals]  \n",
       "2                      [container, port, automation]  \n",
       "3  [traces, traffic, control, engineering, system...  \n",
       "4  [multiagent, system, technology, port, contain...  \n",
       "5  [alignments, strategic, content, process, stru...  \n",
       "6  [performance, analysis, new, type, automated, ...  \n",
       "7  [study, application, yard, transportaion, equi...  \n",
       "8  [cooperative, scheduling, agv, asc, automation...  \n",
       "9  [new, technologies, transformation, work, skil...  "
      ]
     },
     "execution_count": 63,
     "metadata": {},
     "output_type": "execute_result"
    }
   ],
   "source": [
    "extracted_primary_df"
   ]
  },
  {
   "cell_type": "code",
   "execution_count": 64,
   "id": "bcc55448",
   "metadata": {
    "collapsed": true
   },
   "outputs": [
    {
     "data": {
      "text/plain": [
       "[['multiagent', 'system', 'automation', 'port', 'container', 'terminal'],\n",
       " ['automation', 'port', 'container', 'terminals'],\n",
       " ['container', 'port', 'automation'],\n",
       " ['traces',\n",
       "  'traffic',\n",
       "  'control',\n",
       "  'engineering',\n",
       "  'system',\n",
       "  'casestudy',\n",
       "  'container',\n",
       "  'terminal',\n",
       "  'automation'],\n",
       " ['multiagent',\n",
       "  'system',\n",
       "  'technology',\n",
       "  'port',\n",
       "  'container',\n",
       "  'terminal',\n",
       "  'automation'],\n",
       " ['alignments',\n",
       "  'strategic',\n",
       "  'content',\n",
       "  'process',\n",
       "  'structure',\n",
       "  'case',\n",
       "  'container',\n",
       "  'terminal',\n",
       "  'service',\n",
       "  'process',\n",
       "  'automation'],\n",
       " ['performance',\n",
       "  'analysis',\n",
       "  'new',\n",
       "  'type',\n",
       "  'automated',\n",
       "  'container',\n",
       "  'terminal'],\n",
       " ['study',\n",
       "  'application',\n",
       "  'yard',\n",
       "  'transportaion',\n",
       "  'equipment',\n",
       "  'automation',\n",
       "  'system',\n",
       "  'container',\n",
       "  'terminal'],\n",
       " ['cooperative',\n",
       "  'scheduling',\n",
       "  'agv',\n",
       "  'asc',\n",
       "  'automation',\n",
       "  'container',\n",
       "  'terminal',\n",
       "  'relay',\n",
       "  'operation',\n",
       "  'mode'],\n",
       " ['new',\n",
       "  'technologies',\n",
       "  'transformation',\n",
       "  'work',\n",
       "  'skills',\n",
       "  'study',\n",
       "  'computerisation',\n",
       "  'automation',\n",
       "  'australian',\n",
       "  'container',\n",
       "  'terminals']]"
      ]
     },
     "execution_count": 64,
     "metadata": {},
     "output_type": "execute_result"
    }
   ],
   "source": [
    "all_key_words = []\n",
    "for _, row in extracted_primary_df.iterrows():\n",
    "    all_key_words.append(row.stripped_kw_list)\n",
    "all_key_words"
   ]
  },
  {
   "cell_type": "code",
   "execution_count": 65,
   "id": "0be3609c",
   "metadata": {
    "collapsed": true
   },
   "outputs": [
    {
     "data": {
      "text/plain": [
       "['multiagent',\n",
       " 'system',\n",
       " 'automation',\n",
       " 'port',\n",
       " 'container',\n",
       " 'terminal',\n",
       " 'automation',\n",
       " 'port',\n",
       " 'container',\n",
       " 'terminals',\n",
       " 'container',\n",
       " 'port',\n",
       " 'automation',\n",
       " 'traces',\n",
       " 'traffic',\n",
       " 'control',\n",
       " 'engineering',\n",
       " 'system',\n",
       " 'casestudy',\n",
       " 'container',\n",
       " 'terminal',\n",
       " 'automation',\n",
       " 'multiagent',\n",
       " 'system',\n",
       " 'technology',\n",
       " 'port',\n",
       " 'container',\n",
       " 'terminal',\n",
       " 'automation',\n",
       " 'alignments',\n",
       " 'strategic',\n",
       " 'content',\n",
       " 'process',\n",
       " 'structure',\n",
       " 'case',\n",
       " 'container',\n",
       " 'terminal',\n",
       " 'service',\n",
       " 'process',\n",
       " 'automation',\n",
       " 'performance',\n",
       " 'analysis',\n",
       " 'new',\n",
       " 'type',\n",
       " 'automated',\n",
       " 'container',\n",
       " 'terminal',\n",
       " 'study',\n",
       " 'application',\n",
       " 'yard',\n",
       " 'transportaion',\n",
       " 'equipment',\n",
       " 'automation',\n",
       " 'system',\n",
       " 'container',\n",
       " 'terminal',\n",
       " 'cooperative',\n",
       " 'scheduling',\n",
       " 'agv',\n",
       " 'asc',\n",
       " 'automation',\n",
       " 'container',\n",
       " 'terminal',\n",
       " 'relay',\n",
       " 'operation',\n",
       " 'mode',\n",
       " 'new',\n",
       " 'technologies',\n",
       " 'transformation',\n",
       " 'work',\n",
       " 'skills',\n",
       " 'study',\n",
       " 'computerisation',\n",
       " 'automation',\n",
       " 'australian',\n",
       " 'container',\n",
       " 'terminals']"
      ]
     },
     "execution_count": 65,
     "metadata": {},
     "output_type": "execute_result"
    }
   ],
   "source": [
    "flat_kw_list = [item for sublist in all_key_words for item in sublist]\n",
    "flat_kw_list"
   ]
  },
  {
   "cell_type": "code",
   "execution_count": 66,
   "id": "f24a3da2",
   "metadata": {
    "scrolled": true
   },
   "outputs": [
    {
     "data": {
      "text/plain": [
       "[('container', 10),\n",
       " ('automation', 9),\n",
       " ('terminal', 7),\n",
       " ('system', 4),\n",
       " ('port', 4),\n",
       " ('multiagent', 2),\n",
       " ('terminals', 2),\n",
       " ('process', 2),\n",
       " ('new', 2),\n",
       " ('study', 2),\n",
       " ('traces', 1),\n",
       " ('traffic', 1),\n",
       " ('control', 1),\n",
       " ('engineering', 1),\n",
       " ('casestudy', 1),\n",
       " ('technology', 1),\n",
       " ('alignments', 1),\n",
       " ('strategic', 1),\n",
       " ('content', 1),\n",
       " ('structure', 1),\n",
       " ('case', 1),\n",
       " ('service', 1),\n",
       " ('performance', 1),\n",
       " ('analysis', 1),\n",
       " ('type', 1),\n",
       " ('automated', 1),\n",
       " ('application', 1),\n",
       " ('yard', 1),\n",
       " ('transportaion', 1),\n",
       " ('equipment', 1),\n",
       " ('cooperative', 1),\n",
       " ('scheduling', 1),\n",
       " ('agv', 1),\n",
       " ('asc', 1),\n",
       " ('relay', 1),\n",
       " ('operation', 1),\n",
       " ('mode', 1),\n",
       " ('technologies', 1),\n",
       " ('transformation', 1),\n",
       " ('work', 1),\n",
       " ('skills', 1),\n",
       " ('computerisation', 1),\n",
       " ('australian', 1)]"
      ]
     },
     "execution_count": 66,
     "metadata": {},
     "output_type": "execute_result"
    }
   ],
   "source": [
    "from collections import Counter\n",
    "\n",
    "key_words_sorted = Counter(flat_kw_list).most_common()\n",
    "key_words_sorted"
   ]
  },
  {
   "cell_type": "code",
   "execution_count": 68,
   "id": "bc7c646d",
   "metadata": {
    "scrolled": true
   },
   "outputs": [
    {
     "data": {
      "text/html": [
       "<div>\n",
       "<style scoped>\n",
       "    .dataframe tbody tr th:only-of-type {\n",
       "        vertical-align: middle;\n",
       "    }\n",
       "\n",
       "    .dataframe tbody tr th {\n",
       "        vertical-align: top;\n",
       "    }\n",
       "\n",
       "    .dataframe thead th {\n",
       "        text-align: right;\n",
       "    }\n",
       "</style>\n",
       "<table border=\"1\" class=\"dataframe\">\n",
       "  <thead>\n",
       "    <tr style=\"text-align: right;\">\n",
       "      <th></th>\n",
       "      <th>key_word</th>\n",
       "      <th>occurence</th>\n",
       "    </tr>\n",
       "  </thead>\n",
       "  <tbody>\n",
       "    <tr>\n",
       "      <th>0</th>\n",
       "      <td>container</td>\n",
       "      <td>10</td>\n",
       "    </tr>\n",
       "    <tr>\n",
       "      <th>1</th>\n",
       "      <td>automation</td>\n",
       "      <td>9</td>\n",
       "    </tr>\n",
       "    <tr>\n",
       "      <th>2</th>\n",
       "      <td>terminal</td>\n",
       "      <td>7</td>\n",
       "    </tr>\n",
       "    <tr>\n",
       "      <th>3</th>\n",
       "      <td>system</td>\n",
       "      <td>4</td>\n",
       "    </tr>\n",
       "    <tr>\n",
       "      <th>4</th>\n",
       "      <td>port</td>\n",
       "      <td>4</td>\n",
       "    </tr>\n",
       "  </tbody>\n",
       "</table>\n",
       "</div>"
      ],
      "text/plain": [
       "     key_word  occurence\n",
       "0   container         10\n",
       "1  automation          9\n",
       "2    terminal          7\n",
       "3      system          4\n",
       "4        port          4"
      ]
     },
     "execution_count": 68,
     "metadata": {},
     "output_type": "execute_result"
    }
   ],
   "source": [
    "key_words_df = pd.DataFrame(key_words_sorted, columns=[\"key_word\", \"occurence\"])\n",
    "key_words_df.head(5)"
   ]
  },
  {
   "cell_type": "code",
   "execution_count": 69,
   "id": "e2e5a5f0",
   "metadata": {},
   "outputs": [
    {
     "data": {
      "application/vnd.plotly.v1+json": {
       "config": {
        "plotlyServerURL": "https://plot.ly"
       },
       "data": [
        {
         "textangle": 0,
         "textposition": "outside",
         "type": "bar",
         "x": [
          "container",
          "automation",
          "terminal",
          "system",
          "port",
          "multiagent",
          "terminals",
          "process",
          "new",
          "study",
          "traces",
          "traffic",
          "control",
          "engineering",
          "casestudy",
          "technology",
          "alignments",
          "strategic",
          "content",
          "structure",
          "case",
          "service",
          "performance",
          "analysis",
          "type",
          "automated",
          "application",
          "yard",
          "transportaion",
          "equipment",
          "cooperative",
          "scheduling",
          "agv",
          "asc",
          "relay",
          "operation",
          "mode",
          "technologies",
          "transformation",
          "work",
          "skills",
          "computerisation",
          "australian"
         ],
         "y": [
          10,
          9,
          7,
          4,
          4,
          2,
          2,
          2,
          2,
          2,
          1,
          1,
          1,
          1,
          1,
          1,
          1,
          1,
          1,
          1,
          1,
          1,
          1,
          1,
          1,
          1,
          1,
          1,
          1,
          1,
          1,
          1,
          1,
          1,
          1,
          1,
          1,
          1,
          1,
          1,
          1,
          1,
          1
         ]
        }
       ],
       "layout": {
        "template": {
         "data": {
          "bar": [
           {
            "error_x": {
             "color": "#2a3f5f"
            },
            "error_y": {
             "color": "#2a3f5f"
            },
            "marker": {
             "line": {
              "color": "#E5ECF6",
              "width": 0.5
             }
            },
            "type": "bar"
           }
          ],
          "barpolar": [
           {
            "marker": {
             "line": {
              "color": "#E5ECF6",
              "width": 0.5
             }
            },
            "type": "barpolar"
           }
          ],
          "carpet": [
           {
            "aaxis": {
             "endlinecolor": "#2a3f5f",
             "gridcolor": "white",
             "linecolor": "white",
             "minorgridcolor": "white",
             "startlinecolor": "#2a3f5f"
            },
            "baxis": {
             "endlinecolor": "#2a3f5f",
             "gridcolor": "white",
             "linecolor": "white",
             "minorgridcolor": "white",
             "startlinecolor": "#2a3f5f"
            },
            "type": "carpet"
           }
          ],
          "choropleth": [
           {
            "colorbar": {
             "outlinewidth": 0,
             "ticks": ""
            },
            "type": "choropleth"
           }
          ],
          "contour": [
           {
            "colorbar": {
             "outlinewidth": 0,
             "ticks": ""
            },
            "colorscale": [
             [
              0,
              "#0d0887"
             ],
             [
              0.1111111111111111,
              "#46039f"
             ],
             [
              0.2222222222222222,
              "#7201a8"
             ],
             [
              0.3333333333333333,
              "#9c179e"
             ],
             [
              0.4444444444444444,
              "#bd3786"
             ],
             [
              0.5555555555555556,
              "#d8576b"
             ],
             [
              0.6666666666666666,
              "#ed7953"
             ],
             [
              0.7777777777777778,
              "#fb9f3a"
             ],
             [
              0.8888888888888888,
              "#fdca26"
             ],
             [
              1,
              "#f0f921"
             ]
            ],
            "type": "contour"
           }
          ],
          "contourcarpet": [
           {
            "colorbar": {
             "outlinewidth": 0,
             "ticks": ""
            },
            "type": "contourcarpet"
           }
          ],
          "heatmap": [
           {
            "colorbar": {
             "outlinewidth": 0,
             "ticks": ""
            },
            "colorscale": [
             [
              0,
              "#0d0887"
             ],
             [
              0.1111111111111111,
              "#46039f"
             ],
             [
              0.2222222222222222,
              "#7201a8"
             ],
             [
              0.3333333333333333,
              "#9c179e"
             ],
             [
              0.4444444444444444,
              "#bd3786"
             ],
             [
              0.5555555555555556,
              "#d8576b"
             ],
             [
              0.6666666666666666,
              "#ed7953"
             ],
             [
              0.7777777777777778,
              "#fb9f3a"
             ],
             [
              0.8888888888888888,
              "#fdca26"
             ],
             [
              1,
              "#f0f921"
             ]
            ],
            "type": "heatmap"
           }
          ],
          "heatmapgl": [
           {
            "colorbar": {
             "outlinewidth": 0,
             "ticks": ""
            },
            "colorscale": [
             [
              0,
              "#0d0887"
             ],
             [
              0.1111111111111111,
              "#46039f"
             ],
             [
              0.2222222222222222,
              "#7201a8"
             ],
             [
              0.3333333333333333,
              "#9c179e"
             ],
             [
              0.4444444444444444,
              "#bd3786"
             ],
             [
              0.5555555555555556,
              "#d8576b"
             ],
             [
              0.6666666666666666,
              "#ed7953"
             ],
             [
              0.7777777777777778,
              "#fb9f3a"
             ],
             [
              0.8888888888888888,
              "#fdca26"
             ],
             [
              1,
              "#f0f921"
             ]
            ],
            "type": "heatmapgl"
           }
          ],
          "histogram": [
           {
            "marker": {
             "colorbar": {
              "outlinewidth": 0,
              "ticks": ""
             }
            },
            "type": "histogram"
           }
          ],
          "histogram2d": [
           {
            "colorbar": {
             "outlinewidth": 0,
             "ticks": ""
            },
            "colorscale": [
             [
              0,
              "#0d0887"
             ],
             [
              0.1111111111111111,
              "#46039f"
             ],
             [
              0.2222222222222222,
              "#7201a8"
             ],
             [
              0.3333333333333333,
              "#9c179e"
             ],
             [
              0.4444444444444444,
              "#bd3786"
             ],
             [
              0.5555555555555556,
              "#d8576b"
             ],
             [
              0.6666666666666666,
              "#ed7953"
             ],
             [
              0.7777777777777778,
              "#fb9f3a"
             ],
             [
              0.8888888888888888,
              "#fdca26"
             ],
             [
              1,
              "#f0f921"
             ]
            ],
            "type": "histogram2d"
           }
          ],
          "histogram2dcontour": [
           {
            "colorbar": {
             "outlinewidth": 0,
             "ticks": ""
            },
            "colorscale": [
             [
              0,
              "#0d0887"
             ],
             [
              0.1111111111111111,
              "#46039f"
             ],
             [
              0.2222222222222222,
              "#7201a8"
             ],
             [
              0.3333333333333333,
              "#9c179e"
             ],
             [
              0.4444444444444444,
              "#bd3786"
             ],
             [
              0.5555555555555556,
              "#d8576b"
             ],
             [
              0.6666666666666666,
              "#ed7953"
             ],
             [
              0.7777777777777778,
              "#fb9f3a"
             ],
             [
              0.8888888888888888,
              "#fdca26"
             ],
             [
              1,
              "#f0f921"
             ]
            ],
            "type": "histogram2dcontour"
           }
          ],
          "mesh3d": [
           {
            "colorbar": {
             "outlinewidth": 0,
             "ticks": ""
            },
            "type": "mesh3d"
           }
          ],
          "parcoords": [
           {
            "line": {
             "colorbar": {
              "outlinewidth": 0,
              "ticks": ""
             }
            },
            "type": "parcoords"
           }
          ],
          "pie": [
           {
            "automargin": true,
            "type": "pie"
           }
          ],
          "scatter": [
           {
            "marker": {
             "colorbar": {
              "outlinewidth": 0,
              "ticks": ""
             }
            },
            "type": "scatter"
           }
          ],
          "scatter3d": [
           {
            "line": {
             "colorbar": {
              "outlinewidth": 0,
              "ticks": ""
             }
            },
            "marker": {
             "colorbar": {
              "outlinewidth": 0,
              "ticks": ""
             }
            },
            "type": "scatter3d"
           }
          ],
          "scattercarpet": [
           {
            "marker": {
             "colorbar": {
              "outlinewidth": 0,
              "ticks": ""
             }
            },
            "type": "scattercarpet"
           }
          ],
          "scattergeo": [
           {
            "marker": {
             "colorbar": {
              "outlinewidth": 0,
              "ticks": ""
             }
            },
            "type": "scattergeo"
           }
          ],
          "scattergl": [
           {
            "marker": {
             "colorbar": {
              "outlinewidth": 0,
              "ticks": ""
             }
            },
            "type": "scattergl"
           }
          ],
          "scattermapbox": [
           {
            "marker": {
             "colorbar": {
              "outlinewidth": 0,
              "ticks": ""
             }
            },
            "type": "scattermapbox"
           }
          ],
          "scatterpolar": [
           {
            "marker": {
             "colorbar": {
              "outlinewidth": 0,
              "ticks": ""
             }
            },
            "type": "scatterpolar"
           }
          ],
          "scatterpolargl": [
           {
            "marker": {
             "colorbar": {
              "outlinewidth": 0,
              "ticks": ""
             }
            },
            "type": "scatterpolargl"
           }
          ],
          "scatterternary": [
           {
            "marker": {
             "colorbar": {
              "outlinewidth": 0,
              "ticks": ""
             }
            },
            "type": "scatterternary"
           }
          ],
          "surface": [
           {
            "colorbar": {
             "outlinewidth": 0,
             "ticks": ""
            },
            "colorscale": [
             [
              0,
              "#0d0887"
             ],
             [
              0.1111111111111111,
              "#46039f"
             ],
             [
              0.2222222222222222,
              "#7201a8"
             ],
             [
              0.3333333333333333,
              "#9c179e"
             ],
             [
              0.4444444444444444,
              "#bd3786"
             ],
             [
              0.5555555555555556,
              "#d8576b"
             ],
             [
              0.6666666666666666,
              "#ed7953"
             ],
             [
              0.7777777777777778,
              "#fb9f3a"
             ],
             [
              0.8888888888888888,
              "#fdca26"
             ],
             [
              1,
              "#f0f921"
             ]
            ],
            "type": "surface"
           }
          ],
          "table": [
           {
            "cells": {
             "fill": {
              "color": "#EBF0F8"
             },
             "line": {
              "color": "white"
             }
            },
            "header": {
             "fill": {
              "color": "#C8D4E3"
             },
             "line": {
              "color": "white"
             }
            },
            "type": "table"
           }
          ]
         },
         "layout": {
          "annotationdefaults": {
           "arrowcolor": "#2a3f5f",
           "arrowhead": 0,
           "arrowwidth": 1
          },
          "autotypenumbers": "strict",
          "coloraxis": {
           "colorbar": {
            "outlinewidth": 0,
            "ticks": ""
           }
          },
          "colorscale": {
           "diverging": [
            [
             0,
             "#8e0152"
            ],
            [
             0.1,
             "#c51b7d"
            ],
            [
             0.2,
             "#de77ae"
            ],
            [
             0.3,
             "#f1b6da"
            ],
            [
             0.4,
             "#fde0ef"
            ],
            [
             0.5,
             "#f7f7f7"
            ],
            [
             0.6,
             "#e6f5d0"
            ],
            [
             0.7,
             "#b8e186"
            ],
            [
             0.8,
             "#7fbc41"
            ],
            [
             0.9,
             "#4d9221"
            ],
            [
             1,
             "#276419"
            ]
           ],
           "sequential": [
            [
             0,
             "#0d0887"
            ],
            [
             0.1111111111111111,
             "#46039f"
            ],
            [
             0.2222222222222222,
             "#7201a8"
            ],
            [
             0.3333333333333333,
             "#9c179e"
            ],
            [
             0.4444444444444444,
             "#bd3786"
            ],
            [
             0.5555555555555556,
             "#d8576b"
            ],
            [
             0.6666666666666666,
             "#ed7953"
            ],
            [
             0.7777777777777778,
             "#fb9f3a"
            ],
            [
             0.8888888888888888,
             "#fdca26"
            ],
            [
             1,
             "#f0f921"
            ]
           ],
           "sequentialminus": [
            [
             0,
             "#0d0887"
            ],
            [
             0.1111111111111111,
             "#46039f"
            ],
            [
             0.2222222222222222,
             "#7201a8"
            ],
            [
             0.3333333333333333,
             "#9c179e"
            ],
            [
             0.4444444444444444,
             "#bd3786"
            ],
            [
             0.5555555555555556,
             "#d8576b"
            ],
            [
             0.6666666666666666,
             "#ed7953"
            ],
            [
             0.7777777777777778,
             "#fb9f3a"
            ],
            [
             0.8888888888888888,
             "#fdca26"
            ],
            [
             1,
             "#f0f921"
            ]
           ]
          },
          "colorway": [
           "#636efa",
           "#EF553B",
           "#00cc96",
           "#ab63fa",
           "#FFA15A",
           "#19d3f3",
           "#FF6692",
           "#B6E880",
           "#FF97FF",
           "#FECB52"
          ],
          "font": {
           "color": "#2a3f5f"
          },
          "geo": {
           "bgcolor": "white",
           "lakecolor": "white",
           "landcolor": "#E5ECF6",
           "showlakes": true,
           "showland": true,
           "subunitcolor": "white"
          },
          "hoverlabel": {
           "align": "left"
          },
          "hovermode": "closest",
          "mapbox": {
           "style": "light"
          },
          "paper_bgcolor": "white",
          "plot_bgcolor": "#E5ECF6",
          "polar": {
           "angularaxis": {
            "gridcolor": "white",
            "linecolor": "white",
            "ticks": ""
           },
           "bgcolor": "#E5ECF6",
           "radialaxis": {
            "gridcolor": "white",
            "linecolor": "white",
            "ticks": ""
           }
          },
          "scene": {
           "xaxis": {
            "backgroundcolor": "#E5ECF6",
            "gridcolor": "white",
            "gridwidth": 2,
            "linecolor": "white",
            "showbackground": true,
            "ticks": "",
            "zerolinecolor": "white"
           },
           "yaxis": {
            "backgroundcolor": "#E5ECF6",
            "gridcolor": "white",
            "gridwidth": 2,
            "linecolor": "white",
            "showbackground": true,
            "ticks": "",
            "zerolinecolor": "white"
           },
           "zaxis": {
            "backgroundcolor": "#E5ECF6",
            "gridcolor": "white",
            "gridwidth": 2,
            "linecolor": "white",
            "showbackground": true,
            "ticks": "",
            "zerolinecolor": "white"
           }
          },
          "shapedefaults": {
           "line": {
            "color": "#2a3f5f"
           }
          },
          "ternary": {
           "aaxis": {
            "gridcolor": "white",
            "linecolor": "white",
            "ticks": ""
           },
           "baxis": {
            "gridcolor": "white",
            "linecolor": "white",
            "ticks": ""
           },
           "bgcolor": "#E5ECF6",
           "caxis": {
            "gridcolor": "white",
            "linecolor": "white",
            "ticks": ""
           }
          },
          "title": {
           "x": 0.05
          },
          "xaxis": {
           "automargin": true,
           "gridcolor": "white",
           "linecolor": "white",
           "ticks": "",
           "title": {
            "standoff": 15
           },
           "zerolinecolor": "white",
           "zerolinewidth": 2
          },
          "yaxis": {
           "automargin": true,
           "gridcolor": "white",
           "linecolor": "white",
           "ticks": "",
           "title": {
            "standoff": 15
           },
           "zerolinecolor": "white",
           "zerolinewidth": 2
          }
         }
        },
        "title": {
         "text": "Most common key words - 'automation container terminal'"
        },
        "xaxis": {
         "title": {
          "text": "Key word"
         }
        },
        "yaxis": {
         "title": {
          "text": "Number of occurences"
         }
        }
       }
      },
      "text/html": [
       "<div>                            <div id=\"b978558d-2ffc-422a-893b-3506f9734fe1\" class=\"plotly-graph-div\" style=\"height:525px; width:100%;\"></div>            <script type=\"text/javascript\">                require([\"plotly\"], function(Plotly) {                    window.PLOTLYENV=window.PLOTLYENV || {};                                    if (document.getElementById(\"b978558d-2ffc-422a-893b-3506f9734fe1\")) {                    Plotly.newPlot(                        \"b978558d-2ffc-422a-893b-3506f9734fe1\",                        [{\"textangle\": 0, \"textposition\": \"outside\", \"type\": \"bar\", \"x\": [\"container\", \"automation\", \"terminal\", \"system\", \"port\", \"multiagent\", \"terminals\", \"process\", \"new\", \"study\", \"traces\", \"traffic\", \"control\", \"engineering\", \"casestudy\", \"technology\", \"alignments\", \"strategic\", \"content\", \"structure\", \"case\", \"service\", \"performance\", \"analysis\", \"type\", \"automated\", \"application\", \"yard\", \"transportaion\", \"equipment\", \"cooperative\", \"scheduling\", \"agv\", \"asc\", \"relay\", \"operation\", \"mode\", \"technologies\", \"transformation\", \"work\", \"skills\", \"computerisation\", \"australian\"], \"y\": [10, 9, 7, 4, 4, 2, 2, 2, 2, 2, 1, 1, 1, 1, 1, 1, 1, 1, 1, 1, 1, 1, 1, 1, 1, 1, 1, 1, 1, 1, 1, 1, 1, 1, 1, 1, 1, 1, 1, 1, 1, 1, 1]}],                        {\"template\": {\"data\": {\"bar\": [{\"error_x\": {\"color\": \"#2a3f5f\"}, \"error_y\": {\"color\": \"#2a3f5f\"}, \"marker\": {\"line\": {\"color\": \"#E5ECF6\", \"width\": 0.5}}, \"type\": \"bar\"}], \"barpolar\": [{\"marker\": {\"line\": {\"color\": \"#E5ECF6\", \"width\": 0.5}}, \"type\": \"barpolar\"}], \"carpet\": [{\"aaxis\": {\"endlinecolor\": \"#2a3f5f\", \"gridcolor\": \"white\", \"linecolor\": \"white\", \"minorgridcolor\": \"white\", \"startlinecolor\": \"#2a3f5f\"}, \"baxis\": {\"endlinecolor\": \"#2a3f5f\", \"gridcolor\": \"white\", \"linecolor\": \"white\", \"minorgridcolor\": \"white\", \"startlinecolor\": \"#2a3f5f\"}, \"type\": \"carpet\"}], \"choropleth\": [{\"colorbar\": {\"outlinewidth\": 0, \"ticks\": \"\"}, \"type\": \"choropleth\"}], \"contour\": [{\"colorbar\": {\"outlinewidth\": 0, \"ticks\": \"\"}, \"colorscale\": [[0.0, \"#0d0887\"], [0.1111111111111111, \"#46039f\"], [0.2222222222222222, \"#7201a8\"], [0.3333333333333333, \"#9c179e\"], [0.4444444444444444, \"#bd3786\"], [0.5555555555555556, \"#d8576b\"], [0.6666666666666666, \"#ed7953\"], [0.7777777777777778, \"#fb9f3a\"], [0.8888888888888888, \"#fdca26\"], [1.0, \"#f0f921\"]], \"type\": \"contour\"}], \"contourcarpet\": [{\"colorbar\": {\"outlinewidth\": 0, \"ticks\": \"\"}, \"type\": \"contourcarpet\"}], \"heatmap\": [{\"colorbar\": {\"outlinewidth\": 0, \"ticks\": \"\"}, \"colorscale\": [[0.0, \"#0d0887\"], [0.1111111111111111, \"#46039f\"], [0.2222222222222222, \"#7201a8\"], [0.3333333333333333, \"#9c179e\"], [0.4444444444444444, \"#bd3786\"], [0.5555555555555556, \"#d8576b\"], [0.6666666666666666, \"#ed7953\"], [0.7777777777777778, \"#fb9f3a\"], [0.8888888888888888, \"#fdca26\"], [1.0, \"#f0f921\"]], \"type\": \"heatmap\"}], \"heatmapgl\": [{\"colorbar\": {\"outlinewidth\": 0, \"ticks\": \"\"}, \"colorscale\": [[0.0, \"#0d0887\"], [0.1111111111111111, \"#46039f\"], [0.2222222222222222, \"#7201a8\"], [0.3333333333333333, \"#9c179e\"], [0.4444444444444444, \"#bd3786\"], [0.5555555555555556, \"#d8576b\"], [0.6666666666666666, \"#ed7953\"], [0.7777777777777778, \"#fb9f3a\"], [0.8888888888888888, \"#fdca26\"], [1.0, \"#f0f921\"]], \"type\": \"heatmapgl\"}], \"histogram\": [{\"marker\": {\"colorbar\": {\"outlinewidth\": 0, \"ticks\": \"\"}}, \"type\": \"histogram\"}], \"histogram2d\": [{\"colorbar\": {\"outlinewidth\": 0, \"ticks\": \"\"}, \"colorscale\": [[0.0, \"#0d0887\"], [0.1111111111111111, \"#46039f\"], [0.2222222222222222, \"#7201a8\"], [0.3333333333333333, \"#9c179e\"], [0.4444444444444444, \"#bd3786\"], [0.5555555555555556, \"#d8576b\"], [0.6666666666666666, \"#ed7953\"], [0.7777777777777778, \"#fb9f3a\"], [0.8888888888888888, \"#fdca26\"], [1.0, \"#f0f921\"]], \"type\": \"histogram2d\"}], \"histogram2dcontour\": [{\"colorbar\": {\"outlinewidth\": 0, \"ticks\": \"\"}, \"colorscale\": [[0.0, \"#0d0887\"], [0.1111111111111111, \"#46039f\"], [0.2222222222222222, \"#7201a8\"], [0.3333333333333333, \"#9c179e\"], [0.4444444444444444, \"#bd3786\"], [0.5555555555555556, \"#d8576b\"], [0.6666666666666666, \"#ed7953\"], [0.7777777777777778, \"#fb9f3a\"], [0.8888888888888888, \"#fdca26\"], [1.0, \"#f0f921\"]], \"type\": \"histogram2dcontour\"}], \"mesh3d\": [{\"colorbar\": {\"outlinewidth\": 0, \"ticks\": \"\"}, \"type\": \"mesh3d\"}], \"parcoords\": [{\"line\": {\"colorbar\": {\"outlinewidth\": 0, \"ticks\": \"\"}}, \"type\": \"parcoords\"}], \"pie\": [{\"automargin\": true, \"type\": \"pie\"}], \"scatter\": [{\"marker\": {\"colorbar\": {\"outlinewidth\": 0, \"ticks\": \"\"}}, \"type\": \"scatter\"}], \"scatter3d\": [{\"line\": {\"colorbar\": {\"outlinewidth\": 0, \"ticks\": \"\"}}, \"marker\": {\"colorbar\": {\"outlinewidth\": 0, \"ticks\": \"\"}}, \"type\": \"scatter3d\"}], \"scattercarpet\": [{\"marker\": {\"colorbar\": {\"outlinewidth\": 0, \"ticks\": \"\"}}, \"type\": \"scattercarpet\"}], \"scattergeo\": [{\"marker\": {\"colorbar\": {\"outlinewidth\": 0, \"ticks\": \"\"}}, \"type\": \"scattergeo\"}], \"scattergl\": [{\"marker\": {\"colorbar\": {\"outlinewidth\": 0, \"ticks\": \"\"}}, \"type\": \"scattergl\"}], \"scattermapbox\": [{\"marker\": {\"colorbar\": {\"outlinewidth\": 0, \"ticks\": \"\"}}, \"type\": \"scattermapbox\"}], \"scatterpolar\": [{\"marker\": {\"colorbar\": {\"outlinewidth\": 0, \"ticks\": \"\"}}, \"type\": \"scatterpolar\"}], \"scatterpolargl\": [{\"marker\": {\"colorbar\": {\"outlinewidth\": 0, \"ticks\": \"\"}}, \"type\": \"scatterpolargl\"}], \"scatterternary\": [{\"marker\": {\"colorbar\": {\"outlinewidth\": 0, \"ticks\": \"\"}}, \"type\": \"scatterternary\"}], \"surface\": [{\"colorbar\": {\"outlinewidth\": 0, \"ticks\": \"\"}, \"colorscale\": [[0.0, \"#0d0887\"], [0.1111111111111111, \"#46039f\"], [0.2222222222222222, \"#7201a8\"], [0.3333333333333333, \"#9c179e\"], [0.4444444444444444, \"#bd3786\"], [0.5555555555555556, \"#d8576b\"], [0.6666666666666666, \"#ed7953\"], [0.7777777777777778, \"#fb9f3a\"], [0.8888888888888888, \"#fdca26\"], [1.0, \"#f0f921\"]], \"type\": \"surface\"}], \"table\": [{\"cells\": {\"fill\": {\"color\": \"#EBF0F8\"}, \"line\": {\"color\": \"white\"}}, \"header\": {\"fill\": {\"color\": \"#C8D4E3\"}, \"line\": {\"color\": \"white\"}}, \"type\": \"table\"}]}, \"layout\": {\"annotationdefaults\": {\"arrowcolor\": \"#2a3f5f\", \"arrowhead\": 0, \"arrowwidth\": 1}, \"autotypenumbers\": \"strict\", \"coloraxis\": {\"colorbar\": {\"outlinewidth\": 0, \"ticks\": \"\"}}, \"colorscale\": {\"diverging\": [[0, \"#8e0152\"], [0.1, \"#c51b7d\"], [0.2, \"#de77ae\"], [0.3, \"#f1b6da\"], [0.4, \"#fde0ef\"], [0.5, \"#f7f7f7\"], [0.6, \"#e6f5d0\"], [0.7, \"#b8e186\"], [0.8, \"#7fbc41\"], [0.9, \"#4d9221\"], [1, \"#276419\"]], \"sequential\": [[0.0, \"#0d0887\"], [0.1111111111111111, \"#46039f\"], [0.2222222222222222, \"#7201a8\"], [0.3333333333333333, \"#9c179e\"], [0.4444444444444444, \"#bd3786\"], [0.5555555555555556, \"#d8576b\"], [0.6666666666666666, \"#ed7953\"], [0.7777777777777778, \"#fb9f3a\"], [0.8888888888888888, \"#fdca26\"], [1.0, \"#f0f921\"]], \"sequentialminus\": [[0.0, \"#0d0887\"], [0.1111111111111111, \"#46039f\"], [0.2222222222222222, \"#7201a8\"], [0.3333333333333333, \"#9c179e\"], [0.4444444444444444, \"#bd3786\"], [0.5555555555555556, \"#d8576b\"], [0.6666666666666666, \"#ed7953\"], [0.7777777777777778, \"#fb9f3a\"], [0.8888888888888888, \"#fdca26\"], [1.0, \"#f0f921\"]]}, \"colorway\": [\"#636efa\", \"#EF553B\", \"#00cc96\", \"#ab63fa\", \"#FFA15A\", \"#19d3f3\", \"#FF6692\", \"#B6E880\", \"#FF97FF\", \"#FECB52\"], \"font\": {\"color\": \"#2a3f5f\"}, \"geo\": {\"bgcolor\": \"white\", \"lakecolor\": \"white\", \"landcolor\": \"#E5ECF6\", \"showlakes\": true, \"showland\": true, \"subunitcolor\": \"white\"}, \"hoverlabel\": {\"align\": \"left\"}, \"hovermode\": \"closest\", \"mapbox\": {\"style\": \"light\"}, \"paper_bgcolor\": \"white\", \"plot_bgcolor\": \"#E5ECF6\", \"polar\": {\"angularaxis\": {\"gridcolor\": \"white\", \"linecolor\": \"white\", \"ticks\": \"\"}, \"bgcolor\": \"#E5ECF6\", \"radialaxis\": {\"gridcolor\": \"white\", \"linecolor\": \"white\", \"ticks\": \"\"}}, \"scene\": {\"xaxis\": {\"backgroundcolor\": \"#E5ECF6\", \"gridcolor\": \"white\", \"gridwidth\": 2, \"linecolor\": \"white\", \"showbackground\": true, \"ticks\": \"\", \"zerolinecolor\": \"white\"}, \"yaxis\": {\"backgroundcolor\": \"#E5ECF6\", \"gridcolor\": \"white\", \"gridwidth\": 2, \"linecolor\": \"white\", \"showbackground\": true, \"ticks\": \"\", \"zerolinecolor\": \"white\"}, \"zaxis\": {\"backgroundcolor\": \"#E5ECF6\", \"gridcolor\": \"white\", \"gridwidth\": 2, \"linecolor\": \"white\", \"showbackground\": true, \"ticks\": \"\", \"zerolinecolor\": \"white\"}}, \"shapedefaults\": {\"line\": {\"color\": \"#2a3f5f\"}}, \"ternary\": {\"aaxis\": {\"gridcolor\": \"white\", \"linecolor\": \"white\", \"ticks\": \"\"}, \"baxis\": {\"gridcolor\": \"white\", \"linecolor\": \"white\", \"ticks\": \"\"}, \"bgcolor\": \"#E5ECF6\", \"caxis\": {\"gridcolor\": \"white\", \"linecolor\": \"white\", \"ticks\": \"\"}}, \"title\": {\"x\": 0.05}, \"xaxis\": {\"automargin\": true, \"gridcolor\": \"white\", \"linecolor\": \"white\", \"ticks\": \"\", \"title\": {\"standoff\": 15}, \"zerolinecolor\": \"white\", \"zerolinewidth\": 2}, \"yaxis\": {\"automargin\": true, \"gridcolor\": \"white\", \"linecolor\": \"white\", \"ticks\": \"\", \"title\": {\"standoff\": 15}, \"zerolinecolor\": \"white\", \"zerolinewidth\": 2}}}, \"title\": {\"text\": \"Most common key words - 'automation container terminal'\"}, \"xaxis\": {\"title\": {\"text\": \"Key word\"}}, \"yaxis\": {\"title\": {\"text\": \"Number of occurences\"}}},                        {\"responsive\": true}                    ).then(function(){\n",
       "                            \n",
       "var gd = document.getElementById('b978558d-2ffc-422a-893b-3506f9734fe1');\n",
       "var x = new MutationObserver(function (mutations, observer) {{\n",
       "        var display = window.getComputedStyle(gd).display;\n",
       "        if (!display || display === 'none') {{\n",
       "            console.log([gd, 'removed!']);\n",
       "            Plotly.purge(gd);\n",
       "            observer.disconnect();\n",
       "        }}\n",
       "}});\n",
       "\n",
       "// Listen for the removal of the full notebook cells\n",
       "var notebookContainer = gd.closest('#notebook-container');\n",
       "if (notebookContainer) {{\n",
       "    x.observe(notebookContainer, {childList: true});\n",
       "}}\n",
       "\n",
       "// Listen for the clearing of the current output cell\n",
       "var outputEl = gd.closest('.output');\n",
       "if (outputEl) {{\n",
       "    x.observe(outputEl, {childList: true});\n",
       "}}\n",
       "\n",
       "                        })                };                });            </script>        </div>"
      ]
     },
     "metadata": {},
     "output_type": "display_data"
    }
   ],
   "source": [
    "# Plots the number of publications per year for extracted_primary_df\n",
    "fig = go.Figure(data=[go.Bar(x=key_words_df[\"key_word\"], y= key_words_df[\"occurence\"],\n",
    "        textposition=\"outside\",\n",
    "        textangle=0)])\n",
    "\n",
    "\n",
    "fig.update_layout(title = \"Most common key words - 'automation container terminal'\" )\n",
    "\n",
    "# Update xaxis properties\n",
    "fig.update_xaxes(title=\"Key word\")\n",
    "\n",
    "# Update yaxis properties\n",
    "fig.update_yaxes(title=\"Number of occurences\")"
   ]
  },
  {
   "cell_type": "markdown",
   "id": "8c05d67a",
   "metadata": {
    "heading_collapsed": true
   },
   "source": [
    "# Other"
   ]
  },
  {
   "cell_type": "markdown",
   "id": "3f33ff1e",
   "metadata": {
    "heading_collapsed": true,
    "hidden": true
   },
   "source": [
    "## Remove duplicates from `citing_df`\n"
   ]
  },
  {
   "cell_type": "code",
   "execution_count": 89,
   "id": "b638d51c",
   "metadata": {
    "hidden": true
   },
   "outputs": [
    {
     "data": {
      "text/plain": [
       "2"
      ]
     },
     "execution_count": 89,
     "metadata": {},
     "output_type": "execute_result"
    }
   ],
   "source": [
    "# Two papers appear twice, most probably due to different sources\n",
    "citing_df['title'].duplicated().sum()"
   ]
  },
  {
   "cell_type": "code",
   "execution_count": 90,
   "id": "11f26e5f",
   "metadata": {
    "hidden": true
   },
   "outputs": [
    {
     "data": {
      "text/html": [
       "<div>\n",
       "<style scoped>\n",
       "    .dataframe tbody tr th:only-of-type {\n",
       "        vertical-align: middle;\n",
       "    }\n",
       "\n",
       "    .dataframe tbody tr th {\n",
       "        vertical-align: top;\n",
       "    }\n",
       "\n",
       "    .dataframe thead th {\n",
       "        text-align: right;\n",
       "    }\n",
       "</style>\n",
       "<table border=\"1\" class=\"dataframe\">\n",
       "  <thead>\n",
       "    <tr style=\"text-align: right;\">\n",
       "      <th></th>\n",
       "      <th>paper_id</th>\n",
       "      <th>citing_paper_id</th>\n",
       "      <th>title</th>\n",
       "      <th>result_id</th>\n",
       "      <th>link</th>\n",
       "      <th>snippet</th>\n",
       "      <th>resources_title</th>\n",
       "      <th>resources_link</th>\n",
       "      <th>citation_count</th>\n",
       "      <th>cites_id</th>\n",
       "      <th>versions</th>\n",
       "      <th>cluster_id</th>\n",
       "    </tr>\n",
       "  </thead>\n",
       "  <tbody>\n",
       "    <tr>\n",
       "      <th>3</th>\n",
       "      <td>3</td>\n",
       "      <td>0</td>\n",
       "      <td>Agent based simulation architecture for evalua...</td>\n",
       "      <td>oXp7vE9e2RsJ</td>\n",
       "      <td>https://link.springer.com/chapter/10.1007/1187...</td>\n",
       "      <td>An agent based simulator for evaluating operat...</td>\n",
       "      <td>psu.edu</td>\n",
       "      <td>http://citeseerx.ist.psu.edu/viewdoc/download?...</td>\n",
       "      <td>52</td>\n",
       "      <td>2006738805527902881</td>\n",
       "      <td>16</td>\n",
       "      <td>2006738805527902881</td>\n",
       "    </tr>\n",
       "    <tr>\n",
       "      <th>43</th>\n",
       "      <td>3</td>\n",
       "      <td>4</td>\n",
       "      <td>Blockchain applications and architectures for ...</td>\n",
       "      <td>U_RW57CJHoYJ</td>\n",
       "      <td>https://www.sciencedirect.com/science/article/...</td>\n",
       "      <td>Efficient port logistic operations and managem...</td>\n",
       "      <td>no data</td>\n",
       "      <td>no data</td>\n",
       "      <td>7</td>\n",
       "      <td>9664313243272148051</td>\n",
       "      <td>3</td>\n",
       "      <td>9664313243272148051</td>\n",
       "    </tr>\n",
       "  </tbody>\n",
       "</table>\n",
       "</div>"
      ],
      "text/plain": [
       "    paper_id  citing_paper_id  \\\n",
       "3          3                0   \n",
       "43         3                4   \n",
       "\n",
       "                                                title     result_id  \\\n",
       "3   Agent based simulation architecture for evalua...  oXp7vE9e2RsJ   \n",
       "43  Blockchain applications and architectures for ...  U_RW57CJHoYJ   \n",
       "\n",
       "                                                 link  \\\n",
       "3   https://link.springer.com/chapter/10.1007/1187...   \n",
       "43  https://www.sciencedirect.com/science/article/...   \n",
       "\n",
       "                                              snippet resources_title  \\\n",
       "3   An agent based simulator for evaluating operat...         psu.edu   \n",
       "43  Efficient port logistic operations and managem...         no data   \n",
       "\n",
       "                                       resources_link  citation_count  \\\n",
       "3   http://citeseerx.ist.psu.edu/viewdoc/download?...              52   \n",
       "43                                            no data               7   \n",
       "\n",
       "               cites_id versions           cluster_id  \n",
       "3   2006738805527902881       16  2006738805527902881  \n",
       "43  9664313243272148051        3  9664313243272148051  "
      ]
     },
     "execution_count": 90,
     "metadata": {},
     "output_type": "execute_result"
    }
   ],
   "source": [
    "# These two papers appear twice in citing_df\n",
    "citing_df.loc[citing_df['title'].duplicated()]"
   ]
  },
  {
   "cell_type": "code",
   "execution_count": 91,
   "id": "a9038f34",
   "metadata": {
    "hidden": true
   },
   "outputs": [],
   "source": [
    "# Let's drop them\n",
    "citing_df.drop(axis=0, index=[3, 43], inplace=True)"
   ]
  },
  {
   "cell_type": "code",
   "execution_count": 92,
   "id": "8e769ef7",
   "metadata": {
    "hidden": true
   },
   "outputs": [
    {
     "data": {
      "text/plain": [
       "0"
      ]
     },
     "execution_count": 92,
     "metadata": {},
     "output_type": "execute_result"
    }
   ],
   "source": [
    "# Check that the duplicate papers have been removed OK\n",
    "citing_df['title'].duplicated().sum()"
   ]
  },
  {
   "cell_type": "code",
   "execution_count": 93,
   "id": "1b96b6e0",
   "metadata": {
    "hidden": true
   },
   "outputs": [],
   "source": [
    "citing_df.reset_index(drop=True, inplace=True)"
   ]
  },
  {
   "cell_type": "code",
   "execution_count": 94,
   "id": "15bfa884",
   "metadata": {
    "collapsed": true,
    "hidden": true
   },
   "outputs": [
    {
     "data": {
      "text/html": [
       "<div>\n",
       "<style scoped>\n",
       "    .dataframe tbody tr th:only-of-type {\n",
       "        vertical-align: middle;\n",
       "    }\n",
       "\n",
       "    .dataframe tbody tr th {\n",
       "        vertical-align: top;\n",
       "    }\n",
       "\n",
       "    .dataframe thead th {\n",
       "        text-align: right;\n",
       "    }\n",
       "</style>\n",
       "<table border=\"1\" class=\"dataframe\">\n",
       "  <thead>\n",
       "    <tr style=\"text-align: right;\">\n",
       "      <th></th>\n",
       "      <th>paper_id</th>\n",
       "      <th>citing_paper_id</th>\n",
       "      <th>title</th>\n",
       "      <th>result_id</th>\n",
       "      <th>link</th>\n",
       "      <th>snippet</th>\n",
       "      <th>resources_title</th>\n",
       "      <th>resources_link</th>\n",
       "      <th>citation_count</th>\n",
       "      <th>cites_id</th>\n",
       "      <th>versions</th>\n",
       "      <th>cluster_id</th>\n",
       "    </tr>\n",
       "  </thead>\n",
       "  <tbody>\n",
       "    <tr>\n",
       "      <th>0</th>\n",
       "      <td>0</td>\n",
       "      <td>0</td>\n",
       "      <td>MicroPort: A general simulation platform for s...</td>\n",
       "      <td>o4mmoriNu70J</td>\n",
       "      <td>https://www.sciencedirect.com/science/article/...</td>\n",
       "      <td>Seaport container terminals are essential node...</td>\n",
       "      <td>no data</td>\n",
       "      <td>no data</td>\n",
       "      <td>86</td>\n",
       "      <td>13671676917955594659</td>\n",
       "      <td>4</td>\n",
       "      <td>13671676917955594659</td>\n",
       "    </tr>\n",
       "    <tr>\n",
       "      <th>1</th>\n",
       "      <td>1</td>\n",
       "      <td>0</td>\n",
       "      <td>Agent-based simulation of stakeholders relatio...</td>\n",
       "      <td>p-ou00crS34J</td>\n",
       "      <td>https://citeseerx.ist.psu.edu/viewdoc/download...</td>\n",
       "      <td>Port management is often faced with many vexin...</td>\n",
       "      <td>psu.edu</td>\n",
       "      <td>https://citeseerx.ist.psu.edu/viewdoc/download...</td>\n",
       "      <td>75</td>\n",
       "      <td>9100415059517958823</td>\n",
       "      <td>7</td>\n",
       "      <td>9100415059517958823</td>\n",
       "    </tr>\n",
       "    <tr>\n",
       "      <th>2</th>\n",
       "      <td>2</td>\n",
       "      <td>0</td>\n",
       "      <td>Agent based simulation architecture for evalua...</td>\n",
       "      <td>bnLMKYOdJ9YJ</td>\n",
       "      <td>https://link.springer.com/article/10.1007/s104...</td>\n",
       "      <td>An agent based simulator for evaluating operat...</td>\n",
       "      <td>sc.edu</td>\n",
       "      <td>https://jmvidal.cse.sc.edu/library/henesey09b.pdf</td>\n",
       "      <td>59</td>\n",
       "      <td>15431475834875834990</td>\n",
       "      <td>11</td>\n",
       "      <td>15431475834875834990</td>\n",
       "    </tr>\n",
       "    <tr>\n",
       "      <th>3</th>\n",
       "      <td>4</td>\n",
       "      <td>0</td>\n",
       "      <td>Agent-based approaches to transport logistics</td>\n",
       "      <td>m6wq9uLSXOgJ</td>\n",
       "      <td>https://citeseerx.ist.psu.edu/viewdoc/download...</td>\n",
       "      <td>This paper provides a survey of existing resea...</td>\n",
       "      <td>psu.edu</td>\n",
       "      <td>https://citeseerx.ist.psu.edu/viewdoc/download...</td>\n",
       "      <td>43</td>\n",
       "      <td>16743489386891095195</td>\n",
       "      <td>4</td>\n",
       "      <td>16743489386891095195</td>\n",
       "    </tr>\n",
       "    <tr>\n",
       "      <th>4</th>\n",
       "      <td>5</td>\n",
       "      <td>0</td>\n",
       "      <td>Simulation and the lean port environment</td>\n",
       "      <td>v7e1Dmpk43sJ</td>\n",
       "      <td>https://link.springer.com/article/10.1057/palg...</td>\n",
       "      <td>This paper considers the applicability of simu...</td>\n",
       "      <td>no data</td>\n",
       "      <td>no data</td>\n",
       "      <td>31</td>\n",
       "      <td>8927089293054556095</td>\n",
       "      <td>6</td>\n",
       "      <td>8927089293054556095</td>\n",
       "    </tr>\n",
       "    <tr>\n",
       "      <th>...</th>\n",
       "      <td>...</td>\n",
       "      <td>...</td>\n",
       "      <td>...</td>\n",
       "      <td>...</td>\n",
       "      <td>...</td>\n",
       "      <td>...</td>\n",
       "      <td>...</td>\n",
       "      <td>...</td>\n",
       "      <td>...</td>\n",
       "      <td>...</td>\n",
       "      <td>...</td>\n",
       "      <td>...</td>\n",
       "    </tr>\n",
       "    <tr>\n",
       "      <th>77</th>\n",
       "      <td>5</td>\n",
       "      <td>9</td>\n",
       "      <td>Work in progress: barriers and concerns of eld...</td>\n",
       "      <td>3K84JhHMHmMJ</td>\n",
       "      <td>https://link.springer.com/chapter/10.1007/978-...</td>\n",
       "      <td>Digital transformation of work is in progress ...</td>\n",
       "      <td>no data</td>\n",
       "      <td>no data</td>\n",
       "      <td>5</td>\n",
       "      <td>7142370433083944924</td>\n",
       "      <td>no data</td>\n",
       "      <td>no data</td>\n",
       "    </tr>\n",
       "    <tr>\n",
       "      <th>78</th>\n",
       "      <td>6</td>\n",
       "      <td>9</td>\n",
       "      <td>The role of collective bargaining in a digitiz...</td>\n",
       "      <td>uQmUnSWbrrYJ</td>\n",
       "      <td>http://lerachapters.org/OJS/ojs-2.4.4-1/index....</td>\n",
       "      <td>It is all too common these days to read headli...</td>\n",
       "      <td>lerachapters.org</td>\n",
       "      <td>http://lerachapters.org/OJS/ojs-2.4.4-1/index....</td>\n",
       "      <td>5</td>\n",
       "      <td>13163629346710358457</td>\n",
       "      <td>2</td>\n",
       "      <td>13163629346710358457</td>\n",
       "    </tr>\n",
       "    <tr>\n",
       "      <th>79</th>\n",
       "      <td>7</td>\n",
       "      <td>9</td>\n",
       "      <td>Bridging the Skill Gap in Robotics: Global and...</td>\n",
       "      <td>9jbaQgnutcEJ</td>\n",
       "      <td>https://journals.sagepub.com/doi/abs/10.1177/2...</td>\n",
       "      <td>This article focuses on the demand for skills ...</td>\n",
       "      <td>sagepub.com</td>\n",
       "      <td>https://journals.sagepub.com/doi/pdf/10.1177/2...</td>\n",
       "      <td>5</td>\n",
       "      <td>13958324343648433910</td>\n",
       "      <td>4</td>\n",
       "      <td>13958324343648433910</td>\n",
       "    </tr>\n",
       "    <tr>\n",
       "      <th>80</th>\n",
       "      <td>8</td>\n",
       "      <td>9</td>\n",
       "      <td>Understanding the role of employees in digital...</td>\n",
       "      <td>LrjxtsJ5d7oJ</td>\n",
       "      <td>https://www.emerald.com/insight/content/doi/10...</td>\n",
       "      <td>Purpose Much of recent academic and profession...</td>\n",
       "      <td>no data</td>\n",
       "      <td>no data</td>\n",
       "      <td>6</td>\n",
       "      <td>13436341890483075118</td>\n",
       "      <td>4</td>\n",
       "      <td>13436341890483075118</td>\n",
       "    </tr>\n",
       "    <tr>\n",
       "      <th>81</th>\n",
       "      <td>9</td>\n",
       "      <td>9</td>\n",
       "      <td>From AI to digital transformation: The AI read...</td>\n",
       "      <td>-UMtKnsBL0oJ</td>\n",
       "      <td>https://www.sciencedirect.com/science/article/...</td>\n",
       "      <td>Strategies and means for selecting and impleme...</td>\n",
       "      <td>sciencedirect.com</td>\n",
       "      <td>https://www.sciencedirect.com/science/article/...</td>\n",
       "      <td>6</td>\n",
       "      <td>5345492911212282873</td>\n",
       "      <td>2</td>\n",
       "      <td>5345492911212282873</td>\n",
       "    </tr>\n",
       "  </tbody>\n",
       "</table>\n",
       "<p>82 rows × 12 columns</p>\n",
       "</div>"
      ],
      "text/plain": [
       "    paper_id  citing_paper_id  \\\n",
       "0          0                0   \n",
       "1          1                0   \n",
       "2          2                0   \n",
       "3          4                0   \n",
       "4          5                0   \n",
       "..       ...              ...   \n",
       "77         5                9   \n",
       "78         6                9   \n",
       "79         7                9   \n",
       "80         8                9   \n",
       "81         9                9   \n",
       "\n",
       "                                                title     result_id  \\\n",
       "0   MicroPort: A general simulation platform for s...  o4mmoriNu70J   \n",
       "1   Agent-based simulation of stakeholders relatio...  p-ou00crS34J   \n",
       "2   Agent based simulation architecture for evalua...  bnLMKYOdJ9YJ   \n",
       "3       Agent-based approaches to transport logistics  m6wq9uLSXOgJ   \n",
       "4            Simulation and the lean port environment  v7e1Dmpk43sJ   \n",
       "..                                                ...           ...   \n",
       "77  Work in progress: barriers and concerns of eld...  3K84JhHMHmMJ   \n",
       "78  The role of collective bargaining in a digitiz...  uQmUnSWbrrYJ   \n",
       "79  Bridging the Skill Gap in Robotics: Global and...  9jbaQgnutcEJ   \n",
       "80  Understanding the role of employees in digital...  LrjxtsJ5d7oJ   \n",
       "81  From AI to digital transformation: The AI read...  -UMtKnsBL0oJ   \n",
       "\n",
       "                                                 link  \\\n",
       "0   https://www.sciencedirect.com/science/article/...   \n",
       "1   https://citeseerx.ist.psu.edu/viewdoc/download...   \n",
       "2   https://link.springer.com/article/10.1007/s104...   \n",
       "3   https://citeseerx.ist.psu.edu/viewdoc/download...   \n",
       "4   https://link.springer.com/article/10.1057/palg...   \n",
       "..                                                ...   \n",
       "77  https://link.springer.com/chapter/10.1007/978-...   \n",
       "78  http://lerachapters.org/OJS/ojs-2.4.4-1/index....   \n",
       "79  https://journals.sagepub.com/doi/abs/10.1177/2...   \n",
       "80  https://www.emerald.com/insight/content/doi/10...   \n",
       "81  https://www.sciencedirect.com/science/article/...   \n",
       "\n",
       "                                              snippet    resources_title  \\\n",
       "0   Seaport container terminals are essential node...            no data   \n",
       "1   Port management is often faced with many vexin...            psu.edu   \n",
       "2   An agent based simulator for evaluating operat...             sc.edu   \n",
       "3   This paper provides a survey of existing resea...            psu.edu   \n",
       "4   This paper considers the applicability of simu...            no data   \n",
       "..                                                ...                ...   \n",
       "77  Digital transformation of work is in progress ...            no data   \n",
       "78  It is all too common these days to read headli...   lerachapters.org   \n",
       "79  This article focuses on the demand for skills ...        sagepub.com   \n",
       "80  Purpose Much of recent academic and profession...            no data   \n",
       "81  Strategies and means for selecting and impleme...  sciencedirect.com   \n",
       "\n",
       "                                       resources_link  citation_count  \\\n",
       "0                                             no data              86   \n",
       "1   https://citeseerx.ist.psu.edu/viewdoc/download...              75   \n",
       "2   https://jmvidal.cse.sc.edu/library/henesey09b.pdf              59   \n",
       "3   https://citeseerx.ist.psu.edu/viewdoc/download...              43   \n",
       "4                                             no data              31   \n",
       "..                                                ...             ...   \n",
       "77                                            no data               5   \n",
       "78  http://lerachapters.org/OJS/ojs-2.4.4-1/index....               5   \n",
       "79  https://journals.sagepub.com/doi/pdf/10.1177/2...               5   \n",
       "80                                            no data               6   \n",
       "81  https://www.sciencedirect.com/science/article/...               6   \n",
       "\n",
       "                cites_id versions            cluster_id  \n",
       "0   13671676917955594659        4  13671676917955594659  \n",
       "1    9100415059517958823        7   9100415059517958823  \n",
       "2   15431475834875834990       11  15431475834875834990  \n",
       "3   16743489386891095195        4  16743489386891095195  \n",
       "4    8927089293054556095        6   8927089293054556095  \n",
       "..                   ...      ...                   ...  \n",
       "77   7142370433083944924  no data               no data  \n",
       "78  13163629346710358457        2  13163629346710358457  \n",
       "79  13958324343648433910        4  13958324343648433910  \n",
       "80  13436341890483075118        4  13436341890483075118  \n",
       "81   5345492911212282873        2   5345492911212282873  \n",
       "\n",
       "[82 rows x 12 columns]"
      ]
     },
     "execution_count": 94,
     "metadata": {},
     "output_type": "execute_result"
    }
   ],
   "source": [
    "citing_df"
   ]
  },
  {
   "cell_type": "markdown",
   "id": "2ed08bc1",
   "metadata": {
    "heading_collapsed": true,
    "hidden": true
   },
   "source": [
    "## Fix `paper_id` to make sure each `paper_id` is uniqu`\n"
   ]
  },
  {
   "cell_type": "code",
   "execution_count": 97,
   "id": "859fcf4d",
   "metadata": {
    "hidden": true
   },
   "outputs": [],
   "source": [
    "paper_id = []\n",
    "for i in range(len(citing_df)):\n",
    "    paper_id.append(i)"
   ]
  },
  {
   "cell_type": "code",
   "execution_count": 98,
   "id": "8eab39ec",
   "metadata": {
    "hidden": true
   },
   "outputs": [
    {
     "data": {
      "text/html": [
       "<div>\n",
       "<style scoped>\n",
       "    .dataframe tbody tr th:only-of-type {\n",
       "        vertical-align: middle;\n",
       "    }\n",
       "\n",
       "    .dataframe tbody tr th {\n",
       "        vertical-align: top;\n",
       "    }\n",
       "\n",
       "    .dataframe thead th {\n",
       "        text-align: right;\n",
       "    }\n",
       "</style>\n",
       "<table border=\"1\" class=\"dataframe\">\n",
       "  <thead>\n",
       "    <tr style=\"text-align: right;\">\n",
       "      <th></th>\n",
       "      <th>paper_id</th>\n",
       "      <th>citing_paper_id</th>\n",
       "      <th>title</th>\n",
       "      <th>result_id</th>\n",
       "      <th>link</th>\n",
       "      <th>snippet</th>\n",
       "      <th>resources_title</th>\n",
       "      <th>resources_link</th>\n",
       "      <th>citation_count</th>\n",
       "      <th>cites_id</th>\n",
       "      <th>versions</th>\n",
       "      <th>cluster_id</th>\n",
       "    </tr>\n",
       "  </thead>\n",
       "  <tbody>\n",
       "    <tr>\n",
       "      <th>0</th>\n",
       "      <td>0</td>\n",
       "      <td>0</td>\n",
       "      <td>MicroPort: A general simulation platform for s...</td>\n",
       "      <td>o4mmoriNu70J</td>\n",
       "      <td>https://www.sciencedirect.com/science/article/...</td>\n",
       "      <td>Seaport container terminals are essential node...</td>\n",
       "      <td>no data</td>\n",
       "      <td>no data</td>\n",
       "      <td>86</td>\n",
       "      <td>13671676917955594659</td>\n",
       "      <td>4</td>\n",
       "      <td>13671676917955594659</td>\n",
       "    </tr>\n",
       "    <tr>\n",
       "      <th>1</th>\n",
       "      <td>1</td>\n",
       "      <td>0</td>\n",
       "      <td>Agent-based simulation of stakeholders relatio...</td>\n",
       "      <td>p-ou00crS34J</td>\n",
       "      <td>https://citeseerx.ist.psu.edu/viewdoc/download...</td>\n",
       "      <td>Port management is often faced with many vexin...</td>\n",
       "      <td>psu.edu</td>\n",
       "      <td>https://citeseerx.ist.psu.edu/viewdoc/download...</td>\n",
       "      <td>75</td>\n",
       "      <td>9100415059517958823</td>\n",
       "      <td>7</td>\n",
       "      <td>9100415059517958823</td>\n",
       "    </tr>\n",
       "    <tr>\n",
       "      <th>2</th>\n",
       "      <td>2</td>\n",
       "      <td>0</td>\n",
       "      <td>Agent based simulation architecture for evalua...</td>\n",
       "      <td>bnLMKYOdJ9YJ</td>\n",
       "      <td>https://link.springer.com/article/10.1007/s104...</td>\n",
       "      <td>An agent based simulator for evaluating operat...</td>\n",
       "      <td>sc.edu</td>\n",
       "      <td>https://jmvidal.cse.sc.edu/library/henesey09b.pdf</td>\n",
       "      <td>59</td>\n",
       "      <td>15431475834875834990</td>\n",
       "      <td>11</td>\n",
       "      <td>15431475834875834990</td>\n",
       "    </tr>\n",
       "    <tr>\n",
       "      <th>3</th>\n",
       "      <td>3</td>\n",
       "      <td>0</td>\n",
       "      <td>Agent-based approaches to transport logistics</td>\n",
       "      <td>m6wq9uLSXOgJ</td>\n",
       "      <td>https://citeseerx.ist.psu.edu/viewdoc/download...</td>\n",
       "      <td>This paper provides a survey of existing resea...</td>\n",
       "      <td>psu.edu</td>\n",
       "      <td>https://citeseerx.ist.psu.edu/viewdoc/download...</td>\n",
       "      <td>43</td>\n",
       "      <td>16743489386891095195</td>\n",
       "      <td>4</td>\n",
       "      <td>16743489386891095195</td>\n",
       "    </tr>\n",
       "    <tr>\n",
       "      <th>4</th>\n",
       "      <td>4</td>\n",
       "      <td>0</td>\n",
       "      <td>Simulation and the lean port environment</td>\n",
       "      <td>v7e1Dmpk43sJ</td>\n",
       "      <td>https://link.springer.com/article/10.1057/palg...</td>\n",
       "      <td>This paper considers the applicability of simu...</td>\n",
       "      <td>no data</td>\n",
       "      <td>no data</td>\n",
       "      <td>31</td>\n",
       "      <td>8927089293054556095</td>\n",
       "      <td>6</td>\n",
       "      <td>8927089293054556095</td>\n",
       "    </tr>\n",
       "    <tr>\n",
       "      <th>...</th>\n",
       "      <td>...</td>\n",
       "      <td>...</td>\n",
       "      <td>...</td>\n",
       "      <td>...</td>\n",
       "      <td>...</td>\n",
       "      <td>...</td>\n",
       "      <td>...</td>\n",
       "      <td>...</td>\n",
       "      <td>...</td>\n",
       "      <td>...</td>\n",
       "      <td>...</td>\n",
       "      <td>...</td>\n",
       "    </tr>\n",
       "    <tr>\n",
       "      <th>77</th>\n",
       "      <td>77</td>\n",
       "      <td>9</td>\n",
       "      <td>Work in progress: barriers and concerns of eld...</td>\n",
       "      <td>3K84JhHMHmMJ</td>\n",
       "      <td>https://link.springer.com/chapter/10.1007/978-...</td>\n",
       "      <td>Digital transformation of work is in progress ...</td>\n",
       "      <td>no data</td>\n",
       "      <td>no data</td>\n",
       "      <td>5</td>\n",
       "      <td>7142370433083944924</td>\n",
       "      <td>no data</td>\n",
       "      <td>no data</td>\n",
       "    </tr>\n",
       "    <tr>\n",
       "      <th>78</th>\n",
       "      <td>78</td>\n",
       "      <td>9</td>\n",
       "      <td>The role of collective bargaining in a digitiz...</td>\n",
       "      <td>uQmUnSWbrrYJ</td>\n",
       "      <td>http://lerachapters.org/OJS/ojs-2.4.4-1/index....</td>\n",
       "      <td>It is all too common these days to read headli...</td>\n",
       "      <td>lerachapters.org</td>\n",
       "      <td>http://lerachapters.org/OJS/ojs-2.4.4-1/index....</td>\n",
       "      <td>5</td>\n",
       "      <td>13163629346710358457</td>\n",
       "      <td>2</td>\n",
       "      <td>13163629346710358457</td>\n",
       "    </tr>\n",
       "    <tr>\n",
       "      <th>79</th>\n",
       "      <td>79</td>\n",
       "      <td>9</td>\n",
       "      <td>Bridging the Skill Gap in Robotics: Global and...</td>\n",
       "      <td>9jbaQgnutcEJ</td>\n",
       "      <td>https://journals.sagepub.com/doi/abs/10.1177/2...</td>\n",
       "      <td>This article focuses on the demand for skills ...</td>\n",
       "      <td>sagepub.com</td>\n",
       "      <td>https://journals.sagepub.com/doi/pdf/10.1177/2...</td>\n",
       "      <td>5</td>\n",
       "      <td>13958324343648433910</td>\n",
       "      <td>4</td>\n",
       "      <td>13958324343648433910</td>\n",
       "    </tr>\n",
       "    <tr>\n",
       "      <th>80</th>\n",
       "      <td>80</td>\n",
       "      <td>9</td>\n",
       "      <td>Understanding the role of employees in digital...</td>\n",
       "      <td>LrjxtsJ5d7oJ</td>\n",
       "      <td>https://www.emerald.com/insight/content/doi/10...</td>\n",
       "      <td>Purpose Much of recent academic and profession...</td>\n",
       "      <td>no data</td>\n",
       "      <td>no data</td>\n",
       "      <td>6</td>\n",
       "      <td>13436341890483075118</td>\n",
       "      <td>4</td>\n",
       "      <td>13436341890483075118</td>\n",
       "    </tr>\n",
       "    <tr>\n",
       "      <th>81</th>\n",
       "      <td>81</td>\n",
       "      <td>9</td>\n",
       "      <td>From AI to digital transformation: The AI read...</td>\n",
       "      <td>-UMtKnsBL0oJ</td>\n",
       "      <td>https://www.sciencedirect.com/science/article/...</td>\n",
       "      <td>Strategies and means for selecting and impleme...</td>\n",
       "      <td>sciencedirect.com</td>\n",
       "      <td>https://www.sciencedirect.com/science/article/...</td>\n",
       "      <td>6</td>\n",
       "      <td>5345492911212282873</td>\n",
       "      <td>2</td>\n",
       "      <td>5345492911212282873</td>\n",
       "    </tr>\n",
       "  </tbody>\n",
       "</table>\n",
       "<p>82 rows × 12 columns</p>\n",
       "</div>"
      ],
      "text/plain": [
       "    paper_id  citing_paper_id  \\\n",
       "0          0                0   \n",
       "1          1                0   \n",
       "2          2                0   \n",
       "3          3                0   \n",
       "4          4                0   \n",
       "..       ...              ...   \n",
       "77        77                9   \n",
       "78        78                9   \n",
       "79        79                9   \n",
       "80        80                9   \n",
       "81        81                9   \n",
       "\n",
       "                                                title     result_id  \\\n",
       "0   MicroPort: A general simulation platform for s...  o4mmoriNu70J   \n",
       "1   Agent-based simulation of stakeholders relatio...  p-ou00crS34J   \n",
       "2   Agent based simulation architecture for evalua...  bnLMKYOdJ9YJ   \n",
       "3       Agent-based approaches to transport logistics  m6wq9uLSXOgJ   \n",
       "4            Simulation and the lean port environment  v7e1Dmpk43sJ   \n",
       "..                                                ...           ...   \n",
       "77  Work in progress: barriers and concerns of eld...  3K84JhHMHmMJ   \n",
       "78  The role of collective bargaining in a digitiz...  uQmUnSWbrrYJ   \n",
       "79  Bridging the Skill Gap in Robotics: Global and...  9jbaQgnutcEJ   \n",
       "80  Understanding the role of employees in digital...  LrjxtsJ5d7oJ   \n",
       "81  From AI to digital transformation: The AI read...  -UMtKnsBL0oJ   \n",
       "\n",
       "                                                 link  \\\n",
       "0   https://www.sciencedirect.com/science/article/...   \n",
       "1   https://citeseerx.ist.psu.edu/viewdoc/download...   \n",
       "2   https://link.springer.com/article/10.1007/s104...   \n",
       "3   https://citeseerx.ist.psu.edu/viewdoc/download...   \n",
       "4   https://link.springer.com/article/10.1057/palg...   \n",
       "..                                                ...   \n",
       "77  https://link.springer.com/chapter/10.1007/978-...   \n",
       "78  http://lerachapters.org/OJS/ojs-2.4.4-1/index....   \n",
       "79  https://journals.sagepub.com/doi/abs/10.1177/2...   \n",
       "80  https://www.emerald.com/insight/content/doi/10...   \n",
       "81  https://www.sciencedirect.com/science/article/...   \n",
       "\n",
       "                                              snippet    resources_title  \\\n",
       "0   Seaport container terminals are essential node...            no data   \n",
       "1   Port management is often faced with many vexin...            psu.edu   \n",
       "2   An agent based simulator for evaluating operat...             sc.edu   \n",
       "3   This paper provides a survey of existing resea...            psu.edu   \n",
       "4   This paper considers the applicability of simu...            no data   \n",
       "..                                                ...                ...   \n",
       "77  Digital transformation of work is in progress ...            no data   \n",
       "78  It is all too common these days to read headli...   lerachapters.org   \n",
       "79  This article focuses on the demand for skills ...        sagepub.com   \n",
       "80  Purpose Much of recent academic and profession...            no data   \n",
       "81  Strategies and means for selecting and impleme...  sciencedirect.com   \n",
       "\n",
       "                                       resources_link  citation_count  \\\n",
       "0                                             no data              86   \n",
       "1   https://citeseerx.ist.psu.edu/viewdoc/download...              75   \n",
       "2   https://jmvidal.cse.sc.edu/library/henesey09b.pdf              59   \n",
       "3   https://citeseerx.ist.psu.edu/viewdoc/download...              43   \n",
       "4                                             no data              31   \n",
       "..                                                ...             ...   \n",
       "77                                            no data               5   \n",
       "78  http://lerachapters.org/OJS/ojs-2.4.4-1/index....               5   \n",
       "79  https://journals.sagepub.com/doi/pdf/10.1177/2...               5   \n",
       "80                                            no data               6   \n",
       "81  https://www.sciencedirect.com/science/article/...               6   \n",
       "\n",
       "                cites_id versions            cluster_id  \n",
       "0   13671676917955594659        4  13671676917955594659  \n",
       "1    9100415059517958823        7   9100415059517958823  \n",
       "2   15431475834875834990       11  15431475834875834990  \n",
       "3   16743489386891095195        4  16743489386891095195  \n",
       "4    8927089293054556095        6   8927089293054556095  \n",
       "..                   ...      ...                   ...  \n",
       "77   7142370433083944924  no data               no data  \n",
       "78  13163629346710358457        2  13163629346710358457  \n",
       "79  13958324343648433910        4  13958324343648433910  \n",
       "80  13436341890483075118        4  13436341890483075118  \n",
       "81   5345492911212282873        2   5345492911212282873  \n",
       "\n",
       "[82 rows x 12 columns]"
      ]
     },
     "execution_count": 98,
     "metadata": {},
     "output_type": "execute_result"
    }
   ],
   "source": [
    "citing_df[\"paper_id\"] = paper_id\n",
    "citing_df"
   ]
  },
  {
   "cell_type": "markdown",
   "id": "43cd1ac0",
   "metadata": {
    "heading_collapsed": true,
    "hidden": true
   },
   "source": [
    "## Create SQL database from the two \"relational\" dataframes"
   ]
  },
  {
   "cell_type": "code",
   "execution_count": 118,
   "id": "fe9b19fb",
   "metadata": {
    "hidden": true
   },
   "outputs": [],
   "source": [
    "import sqlite3\n",
    "\n",
    "conn = sqlite3.connect('papers_database')\n",
    "c = conn.cursor()\n",
    "\n",
    "c.execute('CREATE TABLE IF NOT EXISTS citingPapers (paper_id number, citing_paper_id number, title text, result_id text, link text, snippet text, resources_title text, resources_link text, citation_count number, cites_id text, versions text, cluster_id text)')\n",
    "conn.commit()\n",
    "\n",
    "citing_df.to_sql('citingPapers', conn, if_exists='replace', index = False)"
   ]
  },
  {
   "cell_type": "code",
   "execution_count": 102,
   "id": "a12c984b",
   "metadata": {
    "collapsed": true,
    "hidden": true
   },
   "outputs": [
    {
     "data": {
      "text/plain": [
       "paper_id            int64\n",
       "title              object\n",
       "result_id          object\n",
       "link               object\n",
       "snippet            object\n",
       "resources_title    object\n",
       "resources_link     object\n",
       "citation_count      int64\n",
       "cites_id           uint64\n",
       "versions           object\n",
       "cluster_id         object\n",
       "full_citation      object\n",
       "authors            object\n",
       "pub_info           object\n",
       "year               object\n",
       "dtype: object"
      ]
     },
     "execution_count": 102,
     "metadata": {},
     "output_type": "execute_result"
    }
   ],
   "source": [
    "# First we need to convert all `uint64` to `int64`\n",
    "primary_df.dtypes"
   ]
  },
  {
   "cell_type": "code",
   "execution_count": 107,
   "id": "a7ea1206",
   "metadata": {
    "hidden": true
   },
   "outputs": [],
   "source": [
    "primary_df[\"cites_id\"] = primary_df[\"cites_id\"].astype(np.int64)"
   ]
  },
  {
   "cell_type": "code",
   "execution_count": 112,
   "id": "9025eea0",
   "metadata": {
    "collapsed": true,
    "hidden": true
   },
   "outputs": [
    {
     "data": {
      "text/plain": [
       "paper_id            int64\n",
       "citing_paper_id     int64\n",
       "title              object\n",
       "result_id          object\n",
       "link               object\n",
       "snippet            object\n",
       "resources_title    object\n",
       "resources_link     object\n",
       "citation_count      int64\n",
       "cites_id           object\n",
       "versions           object\n",
       "cluster_id         object\n",
       "dtype: object"
      ]
     },
     "execution_count": 112,
     "metadata": {},
     "output_type": "execute_result"
    }
   ],
   "source": [
    "# Now on to citing_df, all types are good\n",
    "citing_df.dtypes"
   ]
  },
  {
   "cell_type": "code",
   "execution_count": 119,
   "id": "bf8feb7d",
   "metadata": {
    "hidden": true
   },
   "outputs": [
    {
     "data": {
      "text/plain": [
       "<sqlite3.Cursor at 0x129c06110>"
      ]
     },
     "execution_count": 119,
     "metadata": {},
     "output_type": "execute_result"
    }
   ],
   "source": [
    "c.execute('''  \n",
    "        SELECT * FROM citingPapers\n",
    "        WHERE citing_paper_id = 4\n",
    "          ''')"
   ]
  },
  {
   "cell_type": "code",
   "execution_count": 120,
   "id": "8bd15e81",
   "metadata": {
    "hidden": true
   },
   "outputs": [
    {
     "name": "stdout",
     "output_type": "stream",
     "text": [
      "   0   1                                                  2             3   \\\n",
      "0  39   4  An agent-based solution for the berth allocati...  tW2BTadnl9UJ   \n",
      "1  40   4  A multi-agent system for container terminal ma...  FIGR_pEPI6IJ   \n",
      "2  41   4        Agent-based container terminal optimisation  OsmmhJM3uI4J   \n",
      "3  42   4                           基于 MAS 的集装箱自动化码头协同作业系统模型  QU3Et9QnREcJ   \n",
      "4  43   4                        集装箱堆场收发箱管理 Multi—Agent 系统研究  H7zmDzkOxbcJ   \n",
      "5  44   4  Automatic Damage-Detecting System for Port Con...  5p0VMZGeMUcJ   \n",
      "6  45   4        Agent-Based Container Terminal Optimisation  9GwPOa9xTzcJ   \n",
      "7  46   4  Container Number Recognition Method Based on S...  T_cGg-fvK1AJ   \n",
      "8  47   4  Research on Automatic Control System of Bulk T...  e5Yy7J_XF78J   \n",
      "\n",
      "                                                  4   \\\n",
      "0  http://univagora.ro/jour/index.php/ijccc/artic...   \n",
      "1  https://ieeexplore.ieee.org/abstract/document/...   \n",
      "2  https://link.springer.com/chapter/10.1007/978-...   \n",
      "3  http://www.cqvip.com/qk/93231x/201304/45288464...   \n",
      "4  http://www.cqvip.com/qk/90724x/201303/45912075...   \n",
      "5  https://dl.acm.org/doi/abs/10.1145/3436369.343...   \n",
      "6   https://ourarchive.otago.ac.nz/handle/10523/1773   \n",
      "7  https://www.asrjetsjournal.org/index.php/Ameri...   \n",
      "8  https://iopscience.iop.org/article/10.1088/174...   \n",
      "\n",
      "                                                  5                   6   \\\n",
      "0  This work presents the development of MABAP, a...        univagora.ro   \n",
      "1  Solutions for improving container terminal pro...             no data   \n",
      "2  Container terminals play a critical role in in...        academia.edu   \n",
      "3  ZPMC 新型集装箱自动化码头使用低架桥轨道和电动小车构成立体装卸系统, 将集装箱的装卸分解...             no data   \n",
      "4  考虑集装箱码头堆场管理的动态性, 复杂性和分布式特点, 在对集装箱堆场作业工艺分析的基础上,...             no data   \n",
      "5  In this paper, in order to realize the intelle...             no data   \n",
      "6  Container terminals have become important comp...         otago.ac.nz   \n",
      "7  Aiming at how to realize the recognition of th...  asrjetsjournal.org   \n",
      "8  Due to the wide variety of cargo types, the sh...             iop.org   \n",
      "\n",
      "                                                  7   8   \\\n",
      "0  http://univagora.ro/jour/index.php/ijccc/artic...  10   \n",
      "1                                            no data  10   \n",
      "2  https://www.academia.edu/download/47878939/Age...   5   \n",
      "3                                            no data   4   \n",
      "4                                            no data   2   \n",
      "5                                            no data   0   \n",
      "6  https://ourarchive.otago.ac.nz/bitstream/handl...   0   \n",
      "7  https://www.asrjetsjournal.org/index.php/Ameri...   0   \n",
      "8  https://iopscience.iop.org/article/10.1088/174...   0   \n",
      "\n",
      "                     9        10                    11  \n",
      "0  15390884219819486645        9  15390884219819486645  \n",
      "1  11683198978044821780        2  11683198978044821780  \n",
      "2  10284030855825770810        9  10284030855825770810  \n",
      "3   5135273269678853441        2   5135273269678853441  \n",
      "4  13242005917595515935        2  13242005917595515935  \n",
      "5               no data  no data               no data  \n",
      "6               no data        8   3985529192636706036  \n",
      "7               no data        2   5776974724647548751  \n",
      "8               no data        2  13769711467571091067  \n"
     ]
    }
   ],
   "source": [
    "df = pd.DataFrame(c.fetchall())    \n",
    "print (df)"
   ]
  },
  {
   "cell_type": "code",
   "execution_count": null,
   "id": "1cf7537d",
   "metadata": {
    "hidden": true
   },
   "outputs": [],
   "source": []
  }
 ],
 "metadata": {
  "kernelspec": {
   "display_name": "Python 3",
   "language": "python",
   "name": "python3"
  },
  "language_info": {
   "codemirror_mode": {
    "name": "ipython",
    "version": 3
   },
   "file_extension": ".py",
   "mimetype": "text/x-python",
   "name": "python",
   "nbconvert_exporter": "python",
   "pygments_lexer": "ipython3",
   "version": "3.8.6"
  },
  "toc": {
   "base_numbering": 1,
   "nav_menu": {},
   "number_sections": true,
   "sideBar": true,
   "skip_h1_title": false,
   "title_cell": "Table of Contents",
   "title_sidebar": "Contents",
   "toc_cell": false,
   "toc_position": {},
   "toc_section_display": true,
   "toc_window_display": false
  }
 },
 "nbformat": 4,
 "nbformat_minor": 5
}
