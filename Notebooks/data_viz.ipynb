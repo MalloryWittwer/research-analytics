{
 "cells": [
  {
   "cell_type": "markdown",
   "id": "3f92a48f",
   "metadata": {},
   "source": [
    "# Data visualisation "
   ]
  },
  {
   "cell_type": "markdown",
   "id": "21d5f088",
   "metadata": {},
   "source": [
    "## Imports"
   ]
  },
  {
   "cell_type": "code",
   "execution_count": 14,
   "id": "4a1e62fd",
   "metadata": {},
   "outputs": [],
   "source": [
    "import matplotlib.pyplot as plt\n",
    "import plotly.graph_objects as go\n",
    "from plotly.subplots import make_subplots\n",
    "import plotly.express as px\n",
    "\n",
    "import pandas as pd\n",
    "import numpy as np\n",
    "import seaborn as sns\n",
    "import math"
   ]
  },
  {
   "cell_type": "markdown",
   "id": "4d5417ee",
   "metadata": {},
   "source": [
    "## Read CSV file containing all papers"
   ]
  },
  {
   "cell_type": "code",
   "execution_count": 5,
   "id": "e6a80f3a",
   "metadata": {},
   "outputs": [],
   "source": [
    "papers_df = pd.read_csv('../startupjh/papers.csv')"
   ]
  },
  {
   "cell_type": "code",
   "execution_count": 6,
   "id": "0a0b6567",
   "metadata": {},
   "outputs": [
    {
     "data": {
      "text/html": [
       "<div>\n",
       "<style scoped>\n",
       "    .dataframe tbody tr th:only-of-type {\n",
       "        vertical-align: middle;\n",
       "    }\n",
       "\n",
       "    .dataframe tbody tr th {\n",
       "        vertical-align: top;\n",
       "    }\n",
       "\n",
       "    .dataframe thead th {\n",
       "        text-align: right;\n",
       "    }\n",
       "</style>\n",
       "<table border=\"1\" class=\"dataframe\">\n",
       "  <thead>\n",
       "    <tr style=\"text-align: right;\">\n",
       "      <th></th>\n",
       "      <th>title</th>\n",
       "      <th>year</th>\n",
       "      <th>citations</th>\n",
       "      <th>cited_by_url</th>\n",
       "    </tr>\n",
       "  </thead>\n",
       "  <tbody>\n",
       "    <tr>\n",
       "      <th>0</th>\n",
       "      <td>The path to automation in an RTG terminal</td>\n",
       "      <td>2018</td>\n",
       "      <td>2</td>\n",
       "      <td>https://scholar.google.com.tw/scholar?start=00...</td>\n",
       "    </tr>\n",
       "    <tr>\n",
       "      <th>1</th>\n",
       "      <td>Simulation Methodology for Automation of Port ...</td>\n",
       "      <td>2010</td>\n",
       "      <td>0</td>\n",
       "      <td>https://scholar.google.com.tw/scholar?start=00...</td>\n",
       "    </tr>\n",
       "    <tr>\n",
       "      <th>2</th>\n",
       "      <td>–Terminal Automation</td>\n",
       "      <td>0</td>\n",
       "      <td>0</td>\n",
       "      <td>https://scholar.google.com.tw/scholar?start=00...</td>\n",
       "    </tr>\n",
       "    <tr>\n",
       "      <th>3</th>\n",
       "      <td>A case study of automation management system o...</td>\n",
       "      <td>2017</td>\n",
       "      <td>4</td>\n",
       "      <td>https://scholar.google.com.tw/scholar?start=00...</td>\n",
       "    </tr>\n",
       "    <tr>\n",
       "      <th>4</th>\n",
       "      <td>INFORMATION TECHNOLOGY IN PORT CONTAINER TERMI...</td>\n",
       "      <td>0</td>\n",
       "      <td>0</td>\n",
       "      <td>https://scholar.google.com.tw/scholar?start=00...</td>\n",
       "    </tr>\n",
       "    <tr>\n",
       "      <th>5</th>\n",
       "      <td>Authentication Technologies of X-ray Inspectio...</td>\n",
       "      <td>2005</td>\n",
       "      <td>0</td>\n",
       "      <td>https://scholar.google.com.tw/scholar?start=00...</td>\n",
       "    </tr>\n",
       "    <tr>\n",
       "      <th>6</th>\n",
       "      <td>INFORMATION TECHNOLOGY IN PORT CONTAINER TERMI...</td>\n",
       "      <td>2017</td>\n",
       "      <td>0</td>\n",
       "      <td>https://scholar.google.com.tw/scholar?start=00...</td>\n",
       "    </tr>\n",
       "    <tr>\n",
       "      <th>7</th>\n",
       "      <td>A Study on the perception of the subjects abou...</td>\n",
       "      <td>2020</td>\n",
       "      <td>1</td>\n",
       "      <td>https://scholar.google.com.tw/scholar?start=00...</td>\n",
       "    </tr>\n",
       "    <tr>\n",
       "      <th>8</th>\n",
       "      <td>Correction to: Alignments between strategic co...</td>\n",
       "      <td>2020</td>\n",
       "      <td>4</td>\n",
       "      <td>https://scholar.google.com.tw/scholar?start=00...</td>\n",
       "    </tr>\n",
       "    <tr>\n",
       "      <th>9</th>\n",
       "      <td>An approach for designing robotized marine con...</td>\n",
       "      <td>2004</td>\n",
       "      <td>94</td>\n",
       "      <td>https://scholar.google.com.tw/scholar?start=00...</td>\n",
       "    </tr>\n",
       "    <tr>\n",
       "      <th>10</th>\n",
       "      <td>Automated guided vehicle system for two contai...</td>\n",
       "      <td>2004</td>\n",
       "      <td>187</td>\n",
       "      <td>https://scholar.google.com.tw/scholar?start=00...</td>\n",
       "    </tr>\n",
       "    <tr>\n",
       "      <th>11</th>\n",
       "      <td>Status and visions of automated container term...</td>\n",
       "      <td>2005</td>\n",
       "      <td>5</td>\n",
       "      <td>https://scholar.google.com.tw/scholar?start=00...</td>\n",
       "    </tr>\n",
       "    <tr>\n",
       "      <th>12</th>\n",
       "      <td>An attention mechanism oriented hybrid CNN-RNN...</td>\n",
       "      <td>2021</td>\n",
       "      <td>1</td>\n",
       "      <td>https://scholar.google.com.tw/scholar?start=00...</td>\n",
       "    </tr>\n",
       "    <tr>\n",
       "      <th>13</th>\n",
       "      <td>Information technology applied to container te...</td>\n",
       "      <td>2012</td>\n",
       "      <td>0</td>\n",
       "      <td>https://scholar.google.com.tw/scholar?start=00...</td>\n",
       "    </tr>\n",
       "    <tr>\n",
       "      <th>14</th>\n",
       "      <td>MOCONT: a new system for container terminal mo...</td>\n",
       "      <td>2001</td>\n",
       "      <td>13</td>\n",
       "      <td>https://scholar.google.com.tw/scholar?start=00...</td>\n",
       "    </tr>\n",
       "    <tr>\n",
       "      <th>15</th>\n",
       "      <td>Container terminal operation and operations re...</td>\n",
       "      <td>2004</td>\n",
       "      <td>1733</td>\n",
       "      <td>https://scholar.google.com.tw/scholar?start=00...</td>\n",
       "    </tr>\n",
       "    <tr>\n",
       "      <th>16</th>\n",
       "      <td>Automation and Electric Drives</td>\n",
       "      <td>2020</td>\n",
       "      <td>0</td>\n",
       "      <td>https://scholar.google.com.tw/scholar?start=00...</td>\n",
       "    </tr>\n",
       "    <tr>\n",
       "      <th>17</th>\n",
       "      <td>3D Virtual and physical simulation of automate...</td>\n",
       "      <td>2000</td>\n",
       "      <td>37</td>\n",
       "      <td>https://scholar.google.com.tw/scholar?start=00...</td>\n",
       "    </tr>\n",
       "    <tr>\n",
       "      <th>18</th>\n",
       "      <td>Developing skills for terminal automation</td>\n",
       "      <td>0</td>\n",
       "      <td>0</td>\n",
       "      <td>https://scholar.google.com.tw/scholar?start=00...</td>\n",
       "    </tr>\n",
       "    <tr>\n",
       "      <th>19</th>\n",
       "      <td>Automation of operations in Durres Port Contai...</td>\n",
       "      <td>2012</td>\n",
       "      <td>0</td>\n",
       "      <td>https://scholar.google.com.tw/scholar?start=00...</td>\n",
       "    </tr>\n",
       "    <tr>\n",
       "      <th>20</th>\n",
       "      <td>Design, simulation, and evaluation of automate...</td>\n",
       "      <td>2002</td>\n",
       "      <td>316</td>\n",
       "      <td>https://scholar.google.com.tw/scholar?start=00...</td>\n",
       "    </tr>\n",
       "    <tr>\n",
       "      <th>21</th>\n",
       "      <td>Planning approach for dimensioning of automate...</td>\n",
       "      <td>2011</td>\n",
       "      <td>12</td>\n",
       "      <td>https://scholar.google.com.tw/scholar?start=00...</td>\n",
       "    </tr>\n",
       "    <tr>\n",
       "      <th>22</th>\n",
       "      <td>Architectural design of terminal operating sys...</td>\n",
       "      <td>2016</td>\n",
       "      <td>4</td>\n",
       "      <td>https://scholar.google.com.tw/scholar?start=00...</td>\n",
       "    </tr>\n",
       "    <tr>\n",
       "      <th>23</th>\n",
       "      <td>Simulation and comparison of advanced operatio...</td>\n",
       "      <td>2015</td>\n",
       "      <td>2</td>\n",
       "      <td>https://scholar.google.com.tw/scholar?start=00...</td>\n",
       "    </tr>\n",
       "    <tr>\n",
       "      <th>24</th>\n",
       "      <td>Driving control of an AGV for an automated con...</td>\n",
       "      <td>2005</td>\n",
       "      <td>12</td>\n",
       "      <td>https://scholar.google.com.tw/scholar?start=00...</td>\n",
       "    </tr>\n",
       "    <tr>\n",
       "      <th>25</th>\n",
       "      <td>Market-driven control in container terminal ma...</td>\n",
       "      <td>2003</td>\n",
       "      <td>51</td>\n",
       "      <td>https://scholar.google.com.tw/scholar?start=00...</td>\n",
       "    </tr>\n",
       "    <tr>\n",
       "      <th>26</th>\n",
       "      <td>Vision-Based Measurement: Actualities and Deve...</td>\n",
       "      <td>2021</td>\n",
       "      <td>11</td>\n",
       "      <td>https://scholar.google.com.tw/scholar?start=00...</td>\n",
       "    </tr>\n",
       "    <tr>\n",
       "      <th>27</th>\n",
       "      <td>Supporting automated container terminal design...</td>\n",
       "      <td>2012</td>\n",
       "      <td>6</td>\n",
       "      <td>https://scholar.google.com.tw/scholar?start=00...</td>\n",
       "    </tr>\n",
       "    <tr>\n",
       "      <th>28</th>\n",
       "      <td>Operation Analysis of Automation System Termin...</td>\n",
       "      <td>2020</td>\n",
       "      <td>0</td>\n",
       "      <td>https://scholar.google.com.tw/scholar?start=00...</td>\n",
       "    </tr>\n",
       "    <tr>\n",
       "      <th>29</th>\n",
       "      <td>Research on Optimal Scheduling on Gate Operati...</td>\n",
       "      <td>2008</td>\n",
       "      <td>4</td>\n",
       "      <td>https://scholar.google.com.tw/scholar?start=00...</td>\n",
       "    </tr>\n",
       "    <tr>\n",
       "      <th>30</th>\n",
       "      <td>Users introduce component based automation sol...</td>\n",
       "      <td>2004</td>\n",
       "      <td>13</td>\n",
       "      <td>https://scholar.google.com.tw/scholar?start=00...</td>\n",
       "    </tr>\n",
       "    <tr>\n",
       "      <th>31</th>\n",
       "      <td>Sequencing twin automated stacking cranes in a...</td>\n",
       "      <td>2016</td>\n",
       "      <td>33</td>\n",
       "      <td>https://scholar.google.com.tw/scholar?start=00...</td>\n",
       "    </tr>\n",
       "    <tr>\n",
       "      <th>32</th>\n",
       "      <td>Design of efficient automatic container termin...</td>\n",
       "      <td>2011</td>\n",
       "      <td>1</td>\n",
       "      <td>https://scholar.google.com.tw/scholar?start=00...</td>\n",
       "    </tr>\n",
       "    <tr>\n",
       "      <th>33</th>\n",
       "      <td>A modelling and simulation methodology for man...</td>\n",
       "      <td>1998</td>\n",
       "      <td>80</td>\n",
       "      <td>https://scholar.google.com.tw/scholar?start=00...</td>\n",
       "    </tr>\n",
       "    <tr>\n",
       "      <th>34</th>\n",
       "      <td>Yard crane and AGV scheduling in automated con...</td>\n",
       "      <td>2020</td>\n",
       "      <td>11</td>\n",
       "      <td>https://scholar.google.com.tw/scholar?start=00...</td>\n",
       "    </tr>\n",
       "    <tr>\n",
       "      <th>35</th>\n",
       "      <td>Retrofit solution-mitigate 480V power system h...</td>\n",
       "      <td>2017</td>\n",
       "      <td>4</td>\n",
       "      <td>https://scholar.google.com.tw/scholar?start=00...</td>\n",
       "    </tr>\n",
       "    <tr>\n",
       "      <th>36</th>\n",
       "      <td>Automated Container Terminal Production Operat...</td>\n",
       "      <td>2021</td>\n",
       "      <td>4</td>\n",
       "      <td>https://scholar.google.com.tw/scholar?start=00...</td>\n",
       "    </tr>\n",
       "    <tr>\n",
       "      <th>37</th>\n",
       "      <td>On the Automation of Ports and Logistics Chain...</td>\n",
       "      <td>2020</td>\n",
       "      <td>2</td>\n",
       "      <td>https://scholar.google.com.tw/scholar?start=00...</td>\n",
       "    </tr>\n",
       "    <tr>\n",
       "      <th>38</th>\n",
       "      <td>Challenges of implementing container terminal ...</td>\n",
       "      <td>2020</td>\n",
       "      <td>8</td>\n",
       "      <td>https://scholar.google.com.tw/scholar?start=00...</td>\n",
       "    </tr>\n",
       "    <tr>\n",
       "      <th>39</th>\n",
       "      <td>Innovations in a container terminal area and e...</td>\n",
       "      <td>2016</td>\n",
       "      <td>13</td>\n",
       "      <td>https://scholar.google.com.tw/scholar?start=00...</td>\n",
       "    </tr>\n",
       "    <tr>\n",
       "      <th>40</th>\n",
       "      <td>A simulation study of the performance of twin ...</td>\n",
       "      <td>2017</td>\n",
       "      <td>57</td>\n",
       "      <td>https://scholar.google.com.tw/scholar?start=00...</td>\n",
       "    </tr>\n",
       "    <tr>\n",
       "      <th>41</th>\n",
       "      <td>Rule Based Object-Oriented Petri Net Modeling ...</td>\n",
       "      <td>2007</td>\n",
       "      <td>6</td>\n",
       "      <td>https://scholar.google.com.tw/scholar?start=00...</td>\n",
       "    </tr>\n",
       "    <tr>\n",
       "      <th>42</th>\n",
       "      <td>A multi agent based simulator for managing a c...</td>\n",
       "      <td>2004</td>\n",
       "      <td>9</td>\n",
       "      <td>https://scholar.google.com.tw/scholar?start=00...</td>\n",
       "    </tr>\n",
       "    <tr>\n",
       "      <th>43</th>\n",
       "      <td>Performance Estimation and Design Optimization...</td>\n",
       "      <td>2021</td>\n",
       "      <td>0</td>\n",
       "      <td>https://scholar.google.com.tw/scholar?start=00...</td>\n",
       "    </tr>\n",
       "    <tr>\n",
       "      <th>44</th>\n",
       "      <td>A multi-agent system for container terminal ma...</td>\n",
       "      <td>2008</td>\n",
       "      <td>10</td>\n",
       "      <td>https://scholar.google.com.tw/scholar?start=00...</td>\n",
       "    </tr>\n",
       "    <tr>\n",
       "      <th>45</th>\n",
       "      <td>Simulation Study of Loading/Unloading Operatio...</td>\n",
       "      <td>2009</td>\n",
       "      <td>3</td>\n",
       "      <td>https://scholar.google.com.tw/scholar?start=00...</td>\n",
       "    </tr>\n",
       "    <tr>\n",
       "      <th>46</th>\n",
       "      <td>Dispatching automated guided vehicles in a con...</td>\n",
       "      <td>2005</td>\n",
       "      <td>71</td>\n",
       "      <td>https://scholar.google.com.tw/scholar?start=00...</td>\n",
       "    </tr>\n",
       "    <tr>\n",
       "      <th>47</th>\n",
       "      <td>Container terminal layout design: transition a...</td>\n",
       "      <td>2020</td>\n",
       "      <td>19</td>\n",
       "      <td>https://scholar.google.com.tw/scholar?start=00...</td>\n",
       "    </tr>\n",
       "    <tr>\n",
       "      <th>48</th>\n",
       "      <td>Modelling of integrated vehicle scheduling and...</td>\n",
       "      <td>2016</td>\n",
       "      <td>51</td>\n",
       "      <td>https://scholar.google.com.tw/scholar?start=00...</td>\n",
       "    </tr>\n",
       "    <tr>\n",
       "      <th>49</th>\n",
       "      <td>Modeling and Simulation for Stevedoring Techno...</td>\n",
       "      <td>2011</td>\n",
       "      <td>1</td>\n",
       "      <td>https://scholar.google.com.tw/scholar?start=00...</td>\n",
       "    </tr>\n",
       "    <tr>\n",
       "      <th>50</th>\n",
       "      <td>Digitalization in container terminal logistics...</td>\n",
       "      <td>2019</td>\n",
       "      <td>13</td>\n",
       "      <td>https://scholar.google.com.tw/scholar?start=00...</td>\n",
       "    </tr>\n",
       "    <tr>\n",
       "      <th>51</th>\n",
       "      <td>The future for GB container terminals-lecture ...</td>\n",
       "      <td>2010</td>\n",
       "      <td>0</td>\n",
       "      <td>https://scholar.google.com.tw/scholar?start=00...</td>\n",
       "    </tr>\n",
       "    <tr>\n",
       "      <th>52</th>\n",
       "      <td>OPTIMIZATION OF OPERATIONS IN DURRES PORT CONT...</td>\n",
       "      <td>2012</td>\n",
       "      <td>2</td>\n",
       "      <td>https://scholar.google.com.tw/scholar?start=00...</td>\n",
       "    </tr>\n",
       "    <tr>\n",
       "      <th>53</th>\n",
       "      <td>Research on the integrated management of conta...</td>\n",
       "      <td>2011</td>\n",
       "      <td>2</td>\n",
       "      <td>https://scholar.google.com.tw/scholar?start=00...</td>\n",
       "    </tr>\n",
       "    <tr>\n",
       "      <th>54</th>\n",
       "      <td>Robotics-logistics: Challenges for automation ...</td>\n",
       "      <td>2008</td>\n",
       "      <td>62</td>\n",
       "      <td>https://scholar.google.com.tw/scholar?start=00...</td>\n",
       "    </tr>\n",
       "    <tr>\n",
       "      <th>55</th>\n",
       "      <td>Introduction to Intelligent Freight Transporta...</td>\n",
       "      <td>2008</td>\n",
       "      <td>61</td>\n",
       "      <td>https://scholar.google.com.tw/scholar?start=00...</td>\n",
       "    </tr>\n",
       "    <tr>\n",
       "      <th>56</th>\n",
       "      <td>AUTOMATION IN PORT INDUSTRY AND ITS IMPACT ON ...</td>\n",
       "      <td>0</td>\n",
       "      <td>0</td>\n",
       "      <td>https://scholar.google.com.tw/scholar?start=00...</td>\n",
       "    </tr>\n",
       "    <tr>\n",
       "      <th>57</th>\n",
       "      <td>Multi-agent system based collaborative operati...</td>\n",
       "      <td>2013</td>\n",
       "      <td>4</td>\n",
       "      <td>https://scholar.google.com.tw/scholar?start=00...</td>\n",
       "    </tr>\n",
       "    <tr>\n",
       "      <th>58</th>\n",
       "      <td>Increasing effectiveness of the transportation...</td>\n",
       "      <td>2018</td>\n",
       "      <td>40</td>\n",
       "      <td>https://scholar.google.com.tw/scholar?start=00...</td>\n",
       "    </tr>\n",
       "    <tr>\n",
       "      <th>59</th>\n",
       "      <td>Detection of grasping position from video imag...</td>\n",
       "      <td>2018</td>\n",
       "      <td>3</td>\n",
       "      <td>https://scholar.google.com.tw/scholar?start=00...</td>\n",
       "    </tr>\n",
       "  </tbody>\n",
       "</table>\n",
       "</div>"
      ],
      "text/plain": [
       "                                                title  year  citations  \\\n",
       "0           The path to automation in an RTG terminal  2018          2   \n",
       "1   Simulation Methodology for Automation of Port ...  2010          0   \n",
       "2                                –Terminal Automation     0          0   \n",
       "3   A case study of automation management system o...  2017          4   \n",
       "4   INFORMATION TECHNOLOGY IN PORT CONTAINER TERMI...     0          0   \n",
       "5   Authentication Technologies of X-ray Inspectio...  2005          0   \n",
       "6   INFORMATION TECHNOLOGY IN PORT CONTAINER TERMI...  2017          0   \n",
       "7   A Study on the perception of the subjects abou...  2020          1   \n",
       "8   Correction to: Alignments between strategic co...  2020          4   \n",
       "9   An approach for designing robotized marine con...  2004         94   \n",
       "10  Automated guided vehicle system for two contai...  2004        187   \n",
       "11  Status and visions of automated container term...  2005          5   \n",
       "12  An attention mechanism oriented hybrid CNN-RNN...  2021          1   \n",
       "13  Information technology applied to container te...  2012          0   \n",
       "14  MOCONT: a new system for container terminal mo...  2001         13   \n",
       "15  Container terminal operation and operations re...  2004       1733   \n",
       "16                     Automation and Electric Drives  2020          0   \n",
       "17  3D Virtual and physical simulation of automate...  2000         37   \n",
       "18          Developing skills for terminal automation     0          0   \n",
       "19  Automation of operations in Durres Port Contai...  2012          0   \n",
       "20  Design, simulation, and evaluation of automate...  2002        316   \n",
       "21  Planning approach for dimensioning of automate...  2011         12   \n",
       "22  Architectural design of terminal operating sys...  2016          4   \n",
       "23  Simulation and comparison of advanced operatio...  2015          2   \n",
       "24  Driving control of an AGV for an automated con...  2005         12   \n",
       "25  Market-driven control in container terminal ma...  2003         51   \n",
       "26  Vision-Based Measurement: Actualities and Deve...  2021         11   \n",
       "27  Supporting automated container terminal design...  2012          6   \n",
       "28  Operation Analysis of Automation System Termin...  2020          0   \n",
       "29  Research on Optimal Scheduling on Gate Operati...  2008          4   \n",
       "30  Users introduce component based automation sol...  2004         13   \n",
       "31  Sequencing twin automated stacking cranes in a...  2016         33   \n",
       "32  Design of efficient automatic container termin...  2011          1   \n",
       "33  A modelling and simulation methodology for man...  1998         80   \n",
       "34  Yard crane and AGV scheduling in automated con...  2020         11   \n",
       "35  Retrofit solution-mitigate 480V power system h...  2017          4   \n",
       "36  Automated Container Terminal Production Operat...  2021          4   \n",
       "37  On the Automation of Ports and Logistics Chain...  2020          2   \n",
       "38  Challenges of implementing container terminal ...  2020          8   \n",
       "39  Innovations in a container terminal area and e...  2016         13   \n",
       "40  A simulation study of the performance of twin ...  2017         57   \n",
       "41  Rule Based Object-Oriented Petri Net Modeling ...  2007          6   \n",
       "42  A multi agent based simulator for managing a c...  2004          9   \n",
       "43  Performance Estimation and Design Optimization...  2021          0   \n",
       "44  A multi-agent system for container terminal ma...  2008         10   \n",
       "45  Simulation Study of Loading/Unloading Operatio...  2009          3   \n",
       "46  Dispatching automated guided vehicles in a con...  2005         71   \n",
       "47  Container terminal layout design: transition a...  2020         19   \n",
       "48  Modelling of integrated vehicle scheduling and...  2016         51   \n",
       "49  Modeling and Simulation for Stevedoring Techno...  2011          1   \n",
       "50  Digitalization in container terminal logistics...  2019         13   \n",
       "51  The future for GB container terminals-lecture ...  2010          0   \n",
       "52  OPTIMIZATION OF OPERATIONS IN DURRES PORT CONT...  2012          2   \n",
       "53  Research on the integrated management of conta...  2011          2   \n",
       "54  Robotics-logistics: Challenges for automation ...  2008         62   \n",
       "55  Introduction to Intelligent Freight Transporta...  2008         61   \n",
       "56  AUTOMATION IN PORT INDUSTRY AND ITS IMPACT ON ...     0          0   \n",
       "57  Multi-agent system based collaborative operati...  2013          4   \n",
       "58  Increasing effectiveness of the transportation...  2018         40   \n",
       "59  Detection of grasping position from video imag...  2018          3   \n",
       "\n",
       "                                         cited_by_url  \n",
       "0   https://scholar.google.com.tw/scholar?start=00...  \n",
       "1   https://scholar.google.com.tw/scholar?start=00...  \n",
       "2   https://scholar.google.com.tw/scholar?start=00...  \n",
       "3   https://scholar.google.com.tw/scholar?start=00...  \n",
       "4   https://scholar.google.com.tw/scholar?start=00...  \n",
       "5   https://scholar.google.com.tw/scholar?start=00...  \n",
       "6   https://scholar.google.com.tw/scholar?start=00...  \n",
       "7   https://scholar.google.com.tw/scholar?start=00...  \n",
       "8   https://scholar.google.com.tw/scholar?start=00...  \n",
       "9   https://scholar.google.com.tw/scholar?start=00...  \n",
       "10  https://scholar.google.com.tw/scholar?start=00...  \n",
       "11  https://scholar.google.com.tw/scholar?start=00...  \n",
       "12  https://scholar.google.com.tw/scholar?start=00...  \n",
       "13  https://scholar.google.com.tw/scholar?start=00...  \n",
       "14  https://scholar.google.com.tw/scholar?start=00...  \n",
       "15  https://scholar.google.com.tw/scholar?start=00...  \n",
       "16  https://scholar.google.com.tw/scholar?start=00...  \n",
       "17  https://scholar.google.com.tw/scholar?start=00...  \n",
       "18  https://scholar.google.com.tw/scholar?start=00...  \n",
       "19  https://scholar.google.com.tw/scholar?start=00...  \n",
       "20  https://scholar.google.com.tw/scholar?start=00...  \n",
       "21  https://scholar.google.com.tw/scholar?start=00...  \n",
       "22  https://scholar.google.com.tw/scholar?start=00...  \n",
       "23  https://scholar.google.com.tw/scholar?start=00...  \n",
       "24  https://scholar.google.com.tw/scholar?start=00...  \n",
       "25  https://scholar.google.com.tw/scholar?start=00...  \n",
       "26  https://scholar.google.com.tw/scholar?start=00...  \n",
       "27  https://scholar.google.com.tw/scholar?start=00...  \n",
       "28  https://scholar.google.com.tw/scholar?start=00...  \n",
       "29  https://scholar.google.com.tw/scholar?start=00...  \n",
       "30  https://scholar.google.com.tw/scholar?start=00...  \n",
       "31  https://scholar.google.com.tw/scholar?start=00...  \n",
       "32  https://scholar.google.com.tw/scholar?start=00...  \n",
       "33  https://scholar.google.com.tw/scholar?start=00...  \n",
       "34  https://scholar.google.com.tw/scholar?start=00...  \n",
       "35  https://scholar.google.com.tw/scholar?start=00...  \n",
       "36  https://scholar.google.com.tw/scholar?start=00...  \n",
       "37  https://scholar.google.com.tw/scholar?start=00...  \n",
       "38  https://scholar.google.com.tw/scholar?start=00...  \n",
       "39  https://scholar.google.com.tw/scholar?start=00...  \n",
       "40  https://scholar.google.com.tw/scholar?start=00...  \n",
       "41  https://scholar.google.com.tw/scholar?start=00...  \n",
       "42  https://scholar.google.com.tw/scholar?start=00...  \n",
       "43  https://scholar.google.com.tw/scholar?start=00...  \n",
       "44  https://scholar.google.com.tw/scholar?start=00...  \n",
       "45  https://scholar.google.com.tw/scholar?start=00...  \n",
       "46  https://scholar.google.com.tw/scholar?start=00...  \n",
       "47  https://scholar.google.com.tw/scholar?start=00...  \n",
       "48  https://scholar.google.com.tw/scholar?start=00...  \n",
       "49  https://scholar.google.com.tw/scholar?start=00...  \n",
       "50  https://scholar.google.com.tw/scholar?start=00...  \n",
       "51  https://scholar.google.com.tw/scholar?start=00...  \n",
       "52  https://scholar.google.com.tw/scholar?start=00...  \n",
       "53  https://scholar.google.com.tw/scholar?start=00...  \n",
       "54  https://scholar.google.com.tw/scholar?start=00...  \n",
       "55  https://scholar.google.com.tw/scholar?start=00...  \n",
       "56  https://scholar.google.com.tw/scholar?start=00...  \n",
       "57  https://scholar.google.com.tw/scholar?start=00...  \n",
       "58  https://scholar.google.com.tw/scholar?start=00...  \n",
       "59  https://scholar.google.com.tw/scholar?start=00...  "
      ]
     },
     "execution_count": 6,
     "metadata": {},
     "output_type": "execute_result"
    }
   ],
   "source": [
    "papers_df"
   ]
  },
  {
   "cell_type": "markdown",
   "id": "271a9a74",
   "metadata": {},
   "source": [
    "## Basic visualisation"
   ]
  },
  {
   "cell_type": "code",
   "execution_count": 8,
   "id": "73eb8a5a",
   "metadata": {},
   "outputs": [],
   "source": [
    "topic = 'Automation Container Terminal'"
   ]
  },
  {
   "cell_type": "markdown",
   "id": "378c1e9a",
   "metadata": {},
   "source": [
    "### Publications per year"
   ]
  },
  {
   "cell_type": "code",
   "execution_count": 9,
   "id": "e3599b7a",
   "metadata": {},
   "outputs": [
    {
     "data": {
      "image/png": "[encoded data removed]",
      "text/plain": [
       "<Figure size 1080x504 with 2 Axes>"
      ]
     },
     "metadata": {
      "needs_background": "light"
     },
     "output_type": "display_data"
    }
   ],
   "source": [
    "plt.figure(figsize=(15, 7))\n",
    "plt.subplot(1,2,1)\n",
    "plt.plot(papers_df.groupby(\"year\").count()[\"title\"])\n",
    "plt.xlabel(\"Year\")\n",
    "plt.ylabel(\"Number of publications\")\n",
    "plt.title(f\"Topic: {topic}\")\n",
    "plt.xlim((1975,2025))\n",
    "plt.xticks(np.arange(1980,2025,5))\n",
    "\n",
    "plt.subplot(1,2,2)\n",
    "plt.bar(papers_df.groupby(\"year\").count()[\"title\"].index, papers_df.groupby(\"year\").count()[\"title\"])\n",
    "plt.xlabel(\"Year\")\n",
    "plt.ylabel(\"Number of publications\")\n",
    "plt.title(f\"Topic: {topic}\")\n",
    "plt.xlim((1975,2025))\n",
    "plt.xticks(np.arange(1980,2025,5));"
   ]
  },
  {
   "cell_type": "code",
   "execution_count": 23,
   "id": "143aeb7b",
   "metadata": {},
   "outputs": [
    {
     "ename": "TypeError",
     "evalue": "add_trace() got an unexpected keyword argument 'mode'",
     "output_type": "error",
     "traceback": [
      "\u001b[1;31m---------------------------------------------------------------------------\u001b[0m",
      "\u001b[1;31mTypeError\u001b[0m                                 Traceback (most recent call last)",
      "\u001b[1;32m~\\AppData\\Local\\Temp/ipykernel_20624/738340595.py\u001b[0m in \u001b[0;36m<module>\u001b[1;34m\u001b[0m\n\u001b[0;32m      4\u001b[0m \u001b[1;33m\u001b[0m\u001b[0m\n\u001b[0;32m      5\u001b[0m \u001b[1;31m# Add traces\u001b[0m\u001b[1;33m\u001b[0m\u001b[1;33m\u001b[0m\u001b[0m\n\u001b[1;32m----> 6\u001b[1;33m \u001b[0mfig\u001b[0m\u001b[1;33m.\u001b[0m\u001b[0madd_trace\u001b[0m\u001b[1;33m(\u001b[0m\u001b[0mgo\u001b[0m\u001b[1;33m.\u001b[0m\u001b[0mScatter\u001b[0m\u001b[1;33m(\u001b[0m\u001b[0mx\u001b[0m\u001b[1;33m=\u001b[0m\u001b[0mpapers_df\u001b[0m\u001b[1;33m[\u001b[0m\u001b[1;34m'year'\u001b[0m\u001b[1;33m]\u001b[0m\u001b[1;33m,\u001b[0m \u001b[0my\u001b[0m\u001b[1;33m=\u001b[0m \u001b[0mpapers_df\u001b[0m\u001b[1;33m.\u001b[0m\u001b[0mgroupby\u001b[0m\u001b[1;33m(\u001b[0m\u001b[1;34m\"year\"\u001b[0m\u001b[1;33m)\u001b[0m\u001b[1;33m.\u001b[0m\u001b[0mcount\u001b[0m\u001b[1;33m(\u001b[0m\u001b[1;33m)\u001b[0m\u001b[1;33m[\u001b[0m\u001b[1;34m\"title\"\u001b[0m\u001b[1;33m]\u001b[0m\u001b[1;33m)\u001b[0m\u001b[1;33m,\u001b[0m \u001b[0mmode\u001b[0m\u001b[1;33m=\u001b[0m\u001b[1;34m\"lines+markers\"\u001b[0m\u001b[1;33m,\u001b[0m \u001b[0mrow\u001b[0m\u001b[1;33m=\u001b[0m\u001b[1;36m1\u001b[0m\u001b[1;33m,\u001b[0m \u001b[0mcol\u001b[0m\u001b[1;33m=\u001b[0m\u001b[1;36m1\u001b[0m\u001b[1;33m)\u001b[0m\u001b[1;33m\u001b[0m\u001b[1;33m\u001b[0m\u001b[0m\n\u001b[0m\u001b[0;32m      7\u001b[0m \u001b[0mfig\u001b[0m\u001b[1;33m.\u001b[0m\u001b[0madd_trace\u001b[0m\u001b[1;33m(\u001b[0m\u001b[0mgo\u001b[0m\u001b[1;33m.\u001b[0m\u001b[0mBar\u001b[0m\u001b[1;33m(\u001b[0m\u001b[0mx\u001b[0m\u001b[1;33m=\u001b[0m\u001b[0mpapers_df\u001b[0m\u001b[1;33m[\u001b[0m\u001b[1;34m'year'\u001b[0m\u001b[1;33m]\u001b[0m\u001b[1;33m,\u001b[0m \u001b[0my\u001b[0m\u001b[1;33m=\u001b[0m \u001b[0mpapers_df\u001b[0m\u001b[1;33m.\u001b[0m\u001b[0mgroupby\u001b[0m\u001b[1;33m(\u001b[0m\u001b[1;34m\"year\"\u001b[0m\u001b[1;33m)\u001b[0m\u001b[1;33m.\u001b[0m\u001b[0mcount\u001b[0m\u001b[1;33m(\u001b[0m\u001b[1;33m)\u001b[0m\u001b[1;33m[\u001b[0m\u001b[1;34m\"title\"\u001b[0m\u001b[1;33m]\u001b[0m\u001b[1;33m)\u001b[0m\u001b[1;33m,\u001b[0m \u001b[0mrow\u001b[0m\u001b[1;33m=\u001b[0m\u001b[1;36m1\u001b[0m\u001b[1;33m,\u001b[0m \u001b[0mcol\u001b[0m\u001b[1;33m=\u001b[0m\u001b[1;36m2\u001b[0m\u001b[1;33m)\u001b[0m\u001b[1;33m\u001b[0m\u001b[1;33m\u001b[0m\u001b[0m\n\u001b[0;32m      8\u001b[0m \u001b[1;33m\u001b[0m\u001b[0m\n",
      "\u001b[1;31mTypeError\u001b[0m: add_trace() got an unexpected keyword argument 'mode'"
     ]
    }
   ],
   "source": [
    "fig = make_subplots(\n",
    "    rows=1, cols=2, subplot_titles=(\"Line Plot: \"+f\"Topic: {topic}\", \"Bar Chart: \"+f\"Topic: {topic}\")\n",
    ")\n",
    "\n",
    "# Add traces\n",
    "fig.add_trace(go.Scatter(x=papers_df['year'], y= papers_df.groupby(\"year\").count()[\"title\"]), mode=\"lines+markers\", row=1, col=1)\n",
    "fig.add_trace(go.Bar(x=papers_df['year'], y= papers_df.groupby(\"year\").count()[\"title\"]), row=1, col=2)\n",
    "\n",
    "# Update xaxis properties\n",
    "fig.update_xaxes(title_text=\"Year of Publication\", range=[1995, 2021], row=1, col=1)\n",
    "fig.update_xaxes(title_text=\"Year of Publication\",range=[1995, 2021], row=1, col=2)\n",
    "\n",
    "# Update yaxis properties\n",
    "fig.update_yaxes(title_text=\"Number of Publications\", row=1, col=1)\n",
    "fig.update_yaxes(title_text=\"Number of Publications\", row=1, col=2)\n",
    "\n",
    "# Update title and height\n",
    "fig.update_layout(title_text= topic, height=700)"
   ]
  },
  {
   "cell_type": "markdown",
   "id": "274a7ec1",
   "metadata": {},
   "source": [
    "### Total citations per year"
   ]
  },
  {
   "cell_type": "code",
   "execution_count": 10,
   "id": "acba4ac3",
   "metadata": {},
   "outputs": [
    {
     "data": {
      "image/png": "[encoded data removed]",
      "text/plain": [
       "<Figure size 432x288 with 1 Axes>"
      ]
     },
     "metadata": {
      "needs_background": "light"
     },
     "output_type": "display_data"
    }
   ],
   "source": [
    "# Plot of total number of citations per year\n",
    "plt.plot(papers_df.groupby(\"year\").sum().index, papers_df.groupby(\"year\").sum())\n",
    "plt.xlim((1990, 2025))\n",
    "plt.title(\"Total number of citations per year\")\n",
    "plt.xlabel(\"Year\")\n",
    "plt.ylabel(\"Number of citations\");"
   ]
  },
  {
   "cell_type": "markdown",
   "id": "18cd7d53",
   "metadata": {},
   "source": [
    "### Advanced visualisation (custom atom graph)"
   ]
  },
  {
   "cell_type": "code",
   "execution_count": 11,
   "id": "d90fd306",
   "metadata": {},
   "outputs": [],
   "source": [
    "# Sorting of dataframe + create \"radius\" column\n",
    "sorted_df = papers_df.sort_values(by=\"citations\", ascending = False)\n",
    "sorted_df[\"radius\"] = (sorted_df[\"citations\"]/314)*2 + 0.5"
   ]
  },
  {
   "cell_type": "code",
   "execution_count": 12,
   "id": "5a1c3e60",
   "metadata": {},
   "outputs": [
    {
     "ename": "ValueError",
     "evalue": "Length of values (58) does not match length of index (60)",
     "output_type": "error",
     "traceback": [
      "\u001b[1;31m---------------------------------------------------------------------------\u001b[0m",
      "\u001b[1;31mValueError\u001b[0m                                Traceback (most recent call last)",
      "\u001b[1;32m~\\AppData\\Local\\Temp/ipykernel_20624/3207727189.py\u001b[0m in \u001b[0;36m<module>\u001b[1;34m\u001b[0m\n\u001b[0;32m     11\u001b[0m \u001b[0mthetas\u001b[0m \u001b[1;33m=\u001b[0m \u001b[0mnp\u001b[0m\u001b[1;33m.\u001b[0m\u001b[0mhstack\u001b[0m\u001b[1;33m(\u001b[0m\u001b[1;33m(\u001b[0m\u001b[0malpha\u001b[0m\u001b[1;33m,\u001b[0m \u001b[0mtheta1\u001b[0m\u001b[1;33m,\u001b[0m\u001b[0mtheta2\u001b[0m\u001b[1;33m,\u001b[0m \u001b[0mtheta3\u001b[0m\u001b[1;33m)\u001b[0m\u001b[1;33m)\u001b[0m\u001b[1;33m\u001b[0m\u001b[1;33m\u001b[0m\u001b[0m\n\u001b[0;32m     12\u001b[0m \u001b[1;33m\u001b[0m\u001b[0m\n\u001b[1;32m---> 13\u001b[1;33m \u001b[0msorted_df\u001b[0m\u001b[1;33m[\u001b[0m\u001b[1;34m\"thetas\"\u001b[0m\u001b[1;33m]\u001b[0m \u001b[1;33m=\u001b[0m \u001b[0mthetas\u001b[0m\u001b[1;33m\u001b[0m\u001b[1;33m\u001b[0m\u001b[0m\n\u001b[0m",
      "\u001b[1;32m~\\AppData\\Local\\Packages\\PythonSoftwareFoundation.Python.3.9_qbz5n2kfra8p0\\LocalCache\\local-packages\\Python39\\site-packages\\pandas\\core\\frame.py\u001b[0m in \u001b[0;36m__setitem__\u001b[1;34m(self, key, value)\u001b[0m\n\u001b[0;32m   3610\u001b[0m         \u001b[1;32melse\u001b[0m\u001b[1;33m:\u001b[0m\u001b[1;33m\u001b[0m\u001b[1;33m\u001b[0m\u001b[0m\n\u001b[0;32m   3611\u001b[0m             \u001b[1;31m# set column\u001b[0m\u001b[1;33m\u001b[0m\u001b[1;33m\u001b[0m\u001b[0m\n\u001b[1;32m-> 3612\u001b[1;33m             \u001b[0mself\u001b[0m\u001b[1;33m.\u001b[0m\u001b[0m_set_item\u001b[0m\u001b[1;33m(\u001b[0m\u001b[0mkey\u001b[0m\u001b[1;33m,\u001b[0m \u001b[0mvalue\u001b[0m\u001b[1;33m)\u001b[0m\u001b[1;33m\u001b[0m\u001b[1;33m\u001b[0m\u001b[0m\n\u001b[0m\u001b[0;32m   3613\u001b[0m \u001b[1;33m\u001b[0m\u001b[0m\n\u001b[0;32m   3614\u001b[0m     \u001b[1;32mdef\u001b[0m \u001b[0m_setitem_slice\u001b[0m\u001b[1;33m(\u001b[0m\u001b[0mself\u001b[0m\u001b[1;33m,\u001b[0m \u001b[0mkey\u001b[0m\u001b[1;33m:\u001b[0m \u001b[0mslice\u001b[0m\u001b[1;33m,\u001b[0m \u001b[0mvalue\u001b[0m\u001b[1;33m)\u001b[0m\u001b[1;33m:\u001b[0m\u001b[1;33m\u001b[0m\u001b[1;33m\u001b[0m\u001b[0m\n",
      "\u001b[1;32m~\\AppData\\Local\\Packages\\PythonSoftwareFoundation.Python.3.9_qbz5n2kfra8p0\\LocalCache\\local-packages\\Python39\\site-packages\\pandas\\core\\frame.py\u001b[0m in \u001b[0;36m_set_item\u001b[1;34m(self, key, value)\u001b[0m\n\u001b[0;32m   3782\u001b[0m         \u001b[0mensure\u001b[0m \u001b[0mhomogeneity\u001b[0m\u001b[1;33m.\u001b[0m\u001b[1;33m\u001b[0m\u001b[1;33m\u001b[0m\u001b[0m\n\u001b[0;32m   3783\u001b[0m         \"\"\"\n\u001b[1;32m-> 3784\u001b[1;33m         \u001b[0mvalue\u001b[0m \u001b[1;33m=\u001b[0m \u001b[0mself\u001b[0m\u001b[1;33m.\u001b[0m\u001b[0m_sanitize_column\u001b[0m\u001b[1;33m(\u001b[0m\u001b[0mvalue\u001b[0m\u001b[1;33m)\u001b[0m\u001b[1;33m\u001b[0m\u001b[1;33m\u001b[0m\u001b[0m\n\u001b[0m\u001b[0;32m   3785\u001b[0m \u001b[1;33m\u001b[0m\u001b[0m\n\u001b[0;32m   3786\u001b[0m         if (\n",
      "\u001b[1;32m~\\AppData\\Local\\Packages\\PythonSoftwareFoundation.Python.3.9_qbz5n2kfra8p0\\LocalCache\\local-packages\\Python39\\site-packages\\pandas\\core\\frame.py\u001b[0m in \u001b[0;36m_sanitize_column\u001b[1;34m(self, value)\u001b[0m\n\u001b[0;32m   4507\u001b[0m \u001b[1;33m\u001b[0m\u001b[0m\n\u001b[0;32m   4508\u001b[0m         \u001b[1;32mif\u001b[0m \u001b[0mis_list_like\u001b[0m\u001b[1;33m(\u001b[0m\u001b[0mvalue\u001b[0m\u001b[1;33m)\u001b[0m\u001b[1;33m:\u001b[0m\u001b[1;33m\u001b[0m\u001b[1;33m\u001b[0m\u001b[0m\n\u001b[1;32m-> 4509\u001b[1;33m             \u001b[0mcom\u001b[0m\u001b[1;33m.\u001b[0m\u001b[0mrequire_length_match\u001b[0m\u001b[1;33m(\u001b[0m\u001b[0mvalue\u001b[0m\u001b[1;33m,\u001b[0m \u001b[0mself\u001b[0m\u001b[1;33m.\u001b[0m\u001b[0mindex\u001b[0m\u001b[1;33m)\u001b[0m\u001b[1;33m\u001b[0m\u001b[1;33m\u001b[0m\u001b[0m\n\u001b[0m\u001b[0;32m   4510\u001b[0m         \u001b[1;32mreturn\u001b[0m \u001b[0msanitize_array\u001b[0m\u001b[1;33m(\u001b[0m\u001b[0mvalue\u001b[0m\u001b[1;33m,\u001b[0m \u001b[0mself\u001b[0m\u001b[1;33m.\u001b[0m\u001b[0mindex\u001b[0m\u001b[1;33m,\u001b[0m \u001b[0mcopy\u001b[0m\u001b[1;33m=\u001b[0m\u001b[1;32mTrue\u001b[0m\u001b[1;33m,\u001b[0m \u001b[0mallow_2d\u001b[0m\u001b[1;33m=\u001b[0m\u001b[1;32mTrue\u001b[0m\u001b[1;33m)\u001b[0m\u001b[1;33m\u001b[0m\u001b[1;33m\u001b[0m\u001b[0m\n\u001b[0;32m   4511\u001b[0m \u001b[1;33m\u001b[0m\u001b[0m\n",
      "\u001b[1;32m~\\AppData\\Local\\Packages\\PythonSoftwareFoundation.Python.3.9_qbz5n2kfra8p0\\LocalCache\\local-packages\\Python39\\site-packages\\pandas\\core\\common.py\u001b[0m in \u001b[0;36mrequire_length_match\u001b[1;34m(data, index)\u001b[0m\n\u001b[0;32m    529\u001b[0m     \"\"\"\n\u001b[0;32m    530\u001b[0m     \u001b[1;32mif\u001b[0m \u001b[0mlen\u001b[0m\u001b[1;33m(\u001b[0m\u001b[0mdata\u001b[0m\u001b[1;33m)\u001b[0m \u001b[1;33m!=\u001b[0m \u001b[0mlen\u001b[0m\u001b[1;33m(\u001b[0m\u001b[0mindex\u001b[0m\u001b[1;33m)\u001b[0m\u001b[1;33m:\u001b[0m\u001b[1;33m\u001b[0m\u001b[1;33m\u001b[0m\u001b[0m\n\u001b[1;32m--> 531\u001b[1;33m         raise ValueError(\n\u001b[0m\u001b[0;32m    532\u001b[0m             \u001b[1;34m\"Length of values \"\u001b[0m\u001b[1;33m\u001b[0m\u001b[1;33m\u001b[0m\u001b[0m\n\u001b[0;32m    533\u001b[0m             \u001b[1;34mf\"({len(data)}) \"\u001b[0m\u001b[1;33m\u001b[0m\u001b[1;33m\u001b[0m\u001b[0m\n",
      "\u001b[1;31mValueError\u001b[0m: Length of values (58) does not match length of index (60)"
     ]
    }
   ],
   "source": [
    "# Creation of thetas column\n",
    "n_low_cited  = sorted_df[sorted_df[\"citations\"]<=5].count()[0]\n",
    "n_mid_cited  = sorted_df[(sorted_df[\"citations\"]>5) & (sorted_df[\"citations\"] <= 20)].count()[0]\n",
    "n_high_cited = sorted_df[(sorted_df[\"citations\"]>20) & (sorted_df[\"citations\"] <= 100)].count()[0]\n",
    "\n",
    "theta3 = np.linspace(0, 360, num=n_high_cited, endpoint=False)\n",
    "theta2 = np.linspace(0, 360, num=n_mid_cited, endpoint=False)\n",
    "theta1 = np.linspace(0, 360, num=n_low_cited, endpoint=False)\n",
    "\n",
    "alpha = np.array(0)\n",
    "thetas = np.hstack((alpha, theta1,theta2, theta3))\n",
    "\n",
    "sorted_df[\"thetas\"] = thetas"
   ]
  },
  {
   "cell_type": "code",
   "execution_count": 157,
   "id": "e9e4382d",
   "metadata": {},
   "outputs": [],
   "source": [
    "# Creation of \"coeff\" column\n",
    "sorted_df[\"coeff\"] = 0\n",
    "\n",
    "for i in sorted_df.index:\n",
    "    if sorted_df.at[i, \"citations\"] <= 5:\n",
    "        sorted_df.at[i, 'coeff'] = 8\n",
    "    elif (sorted_df.at[i, \"citations\"] > 5) & (sorted_df.at[i, \"citations\"] <= 20):\n",
    "        sorted_df.at[i, 'coeff'] = 6\n",
    "    elif (sorted_df.at[i, \"citations\"] > 20) & (sorted_df.at[i, \"citations\"] <= 100):\n",
    "        sorted_df.at[i, 'coeff'] = 4"
   ]
  },
  {
   "cell_type": "code",
   "execution_count": 160,
   "id": "7f607b8c",
   "metadata": {},
   "outputs": [
    {
     "data": {
      "text/html": [
       "<div>\n",
       "<style scoped>\n",
       "    .dataframe tbody tr th:only-of-type {\n",
       "        vertical-align: middle;\n",
       "    }\n",
       "\n",
       "    .dataframe tbody tr th {\n",
       "        vertical-align: top;\n",
       "    }\n",
       "\n",
       "    .dataframe thead th {\n",
       "        text-align: right;\n",
       "    }\n",
       "</style>\n",
       "<table border=\"1\" class=\"dataframe\">\n",
       "  <thead>\n",
       "    <tr style=\"text-align: right;\">\n",
       "      <th></th>\n",
       "      <th>title</th>\n",
       "      <th>year</th>\n",
       "      <th>citations</th>\n",
       "      <th>radius</th>\n",
       "      <th>thetas</th>\n",
       "      <th>coeff</th>\n",
       "      <th>x_center</th>\n",
       "      <th>y_center</th>\n",
       "    </tr>\n",
       "  </thead>\n",
       "  <tbody>\n",
       "    <tr>\n",
       "      <th>51</th>\n",
       "      <td>Design, simulation, and evaluation of automate...</td>\n",
       "      <td>2002</td>\n",
       "      <td>314</td>\n",
       "      <td>2.500000</td>\n",
       "      <td>0.0</td>\n",
       "      <td>0</td>\n",
       "      <td>10</td>\n",
       "      <td>10</td>\n",
       "    </tr>\n",
       "    <tr>\n",
       "      <th>19</th>\n",
       "      <td>Deadlock prevention for automated guided vehic...</td>\n",
       "      <td>2007</td>\n",
       "      <td>80</td>\n",
       "      <td>1.009554</td>\n",
       "      <td>0.0</td>\n",
       "      <td>4</td>\n",
       "      <td>14</td>\n",
       "      <td>10</td>\n",
       "    </tr>\n",
       "    <tr>\n",
       "      <th>64</th>\n",
       "      <td>A modelling and simulation methodology for man...</td>\n",
       "      <td>1998</td>\n",
       "      <td>80</td>\n",
       "      <td>1.009554</td>\n",
       "      <td>8.0</td>\n",
       "      <td>4</td>\n",
       "      <td>9</td>\n",
       "      <td>13</td>\n",
       "    </tr>\n",
       "    <tr>\n",
       "      <th>48</th>\n",
       "      <td>An ERP approach for container terminal operati...</td>\n",
       "      <td>2003</td>\n",
       "      <td>68</td>\n",
       "      <td>0.933121</td>\n",
       "      <td>16.0</td>\n",
       "      <td>4</td>\n",
       "      <td>6</td>\n",
       "      <td>8</td>\n",
       "    </tr>\n",
       "    <tr>\n",
       "      <th>43</th>\n",
       "      <td>Optimisation for job scheduling at automated c...</td>\n",
       "      <td>2013</td>\n",
       "      <td>63</td>\n",
       "      <td>0.901274</td>\n",
       "      <td>24.0</td>\n",
       "      <td>4</td>\n",
       "      <td>11</td>\n",
       "      <td>6</td>\n",
       "    </tr>\n",
       "    <tr>\n",
       "      <th>...</th>\n",
       "      <td>...</td>\n",
       "      <td>...</td>\n",
       "      <td>...</td>\n",
       "      <td>...</td>\n",
       "      <td>...</td>\n",
       "      <td>...</td>\n",
       "      <td>...</td>\n",
       "      <td>...</td>\n",
       "    </tr>\n",
       "    <tr>\n",
       "      <th>40</th>\n",
       "      <td>Automation of operations in Durres Port Contai...</td>\n",
       "      <td>2012</td>\n",
       "      <td>0</td>\n",
       "      <td>0.500000</td>\n",
       "      <td>160.0</td>\n",
       "      <td>8</td>\n",
       "      <td>2</td>\n",
       "      <td>11</td>\n",
       "    </tr>\n",
       "    <tr>\n",
       "      <th>30</th>\n",
       "      <td>Simulation Methodology for Automation of Port ...</td>\n",
       "      <td>2010</td>\n",
       "      <td>0</td>\n",
       "      <td>0.500000</td>\n",
       "      <td>200.0</td>\n",
       "      <td>8</td>\n",
       "      <td>13</td>\n",
       "      <td>3</td>\n",
       "    </tr>\n",
       "    <tr>\n",
       "      <th>36</th>\n",
       "      <td>INFORMATION TECHNOLOGY IN PORT CONTAINER TERMI...</td>\n",
       "      <td>2017</td>\n",
       "      <td>0</td>\n",
       "      <td>0.500000</td>\n",
       "      <td>240.0</td>\n",
       "      <td>8</td>\n",
       "      <td>12</td>\n",
       "      <td>17</td>\n",
       "    </tr>\n",
       "    <tr>\n",
       "      <th>34</th>\n",
       "      <td>Authentication Technologies of X-ray Inspectio...</td>\n",
       "      <td>2005</td>\n",
       "      <td>0</td>\n",
       "      <td>0.500000</td>\n",
       "      <td>280.0</td>\n",
       "      <td>8</td>\n",
       "      <td>2</td>\n",
       "      <td>6</td>\n",
       "    </tr>\n",
       "    <tr>\n",
       "      <th>21</th>\n",
       "      <td>PRODUCTIVITY OF CONTAINER TERMINAL OPERATIONS ...</td>\n",
       "      <td>2015</td>\n",
       "      <td>0</td>\n",
       "      <td>0.500000</td>\n",
       "      <td>320.0</td>\n",
       "      <td>8</td>\n",
       "      <td>17</td>\n",
       "      <td>6</td>\n",
       "    </tr>\n",
       "  </tbody>\n",
       "</table>\n",
       "<p>70 rows × 8 columns</p>\n",
       "</div>"
      ],
      "text/plain": [
       "                                                title  year  citations  \\\n",
       "51  Design, simulation, and evaluation of automate...  2002        314   \n",
       "19  Deadlock prevention for automated guided vehic...  2007         80   \n",
       "64  A modelling and simulation methodology for man...  1998         80   \n",
       "48  An ERP approach for container terminal operati...  2003         68   \n",
       "43  Optimisation for job scheduling at automated c...  2013         63   \n",
       "..                                                ...   ...        ...   \n",
       "40  Automation of operations in Durres Port Contai...  2012          0   \n",
       "30  Simulation Methodology for Automation of Port ...  2010          0   \n",
       "36  INFORMATION TECHNOLOGY IN PORT CONTAINER TERMI...  2017          0   \n",
       "34  Authentication Technologies of X-ray Inspectio...  2005          0   \n",
       "21  PRODUCTIVITY OF CONTAINER TERMINAL OPERATIONS ...  2015          0   \n",
       "\n",
       "      radius  thetas  coeff  x_center  y_center  \n",
       "51  2.500000     0.0      0        10        10  \n",
       "19  1.009554     0.0      4        14        10  \n",
       "64  1.009554     8.0      4         9        13  \n",
       "48  0.933121    16.0      4         6         8  \n",
       "43  0.901274    24.0      4        11         6  \n",
       "..       ...     ...    ...       ...       ...  \n",
       "40  0.500000   160.0      8         2        11  \n",
       "30  0.500000   200.0      8        13         3  \n",
       "36  0.500000   240.0      8        12        17  \n",
       "34  0.500000   280.0      8         2         6  \n",
       "21  0.500000   320.0      8        17         6  \n",
       "\n",
       "[70 rows x 8 columns]"
      ]
     },
     "execution_count": 160,
     "metadata": {},
     "output_type": "execute_result"
    }
   ],
   "source": [
    "# Creation of \"x_center\" and \"y_center\" columns\n",
    "sorted_df[\"x_center\"] = 10\n",
    "sorted_df[\"y_center\"] = 10\n",
    "\n",
    "for i in sorted_df.index:\n",
    "    sorted_df.at[i, 'x_center'] = np.cos(sorted_df.at[i, 'thetas'])*sorted_df.at[i, 'coeff'] + 10\n",
    "    sorted_df.at[i, 'y_center'] = np.sin(sorted_df.at[i, 'thetas'])*sorted_df.at[i, 'coeff'] + 10\n",
    "    \n",
    "sorted_df"
   ]
  },
  {
   "cell_type": "code",
   "execution_count": 168,
   "id": "18763478",
   "metadata": {},
   "outputs": [
    {
     "data": {
      "application/vnd.plotly.v1+json": {
       "config": {
        "plotlyServerURL": "https://plot.ly"
       },
       "data": [
        {
         "mode": "markers",
         "type": "scatter",
         "x": [
          10,
          14,
          9,
          6,
          11,
          13,
          7,
          7,
          13,
          11,
          4,
          9,
          15,
          8,
          4,
          12,
          14,
          5,
          6,
          15,
          12,
          4,
          9,
          15,
          8,
          2,
          13,
          16,
          4,
          5,
          17,
          12,
          2,
          9,
          17,
          8,
          2,
          14,
          16,
          4,
          5,
          17,
          12,
          2,
          9,
          17,
          18,
          13,
          4,
          2,
          8,
          16,
          16,
          9,
          2,
          4,
          12,
          17,
          14,
          5,
          2,
          18,
          4,
          9,
          16,
          2,
          13,
          12,
          2,
          17
         ],
         "y": [
          10,
          10,
          13,
          8,
          6,
          12,
          12,
          6,
          7,
          13,
          11,
          4,
          10,
          15,
          8,
          4,
          13,
          14,
          5,
          7,
          15,
          11,
          4,
          10,
          15,
          7,
          3,
          14,
          15,
          3,
          6,
          17,
          11,
          2,
          10,
          17,
          6,
          3,
          15,
          15,
          3,
          6,
          17,
          11,
          2,
          11,
          10,
          2,
          3,
          12,
          17,
          14,
          6,
          2,
          7,
          15,
          17,
          10,
          3,
          3,
          11,
          10,
          15,
          2,
          14,
          11,
          3,
          17,
          6,
          6
         ]
        }
       ],
       "layout": {
        "height": 800,
        "shapes": [
         {
          "fillcolor": "LightSeaGreen",
          "line": {
           "color": "black"
          },
          "type": "circle",
          "x0": 8.5,
          "x1": 11.5,
          "xref": "x",
          "y0": 8.5,
          "y1": 11.5,
          "yref": "y"
         },
         {
          "line": {
           "color": "black"
          },
          "type": "circle",
          "x0": 6,
          "x1": 14,
          "xref": "x",
          "y0": 6,
          "y1": 14,
          "yref": "y"
         },
         {
          "line": {
           "color": "black"
          },
          "type": "circle",
          "x0": 4,
          "x1": 16,
          "xref": "x",
          "y0": 4,
          "y1": 16,
          "yref": "y"
         },
         {
          "line": {
           "color": "black"
          },
          "type": "circle",
          "x0": 2,
          "x1": 18,
          "xref": "x",
          "y0": 2,
          "y1": 18,
          "yref": "y"
         },
         {
          "fillcolor": "green",
          "type": "circle",
          "x0": 13.495222929936306,
          "x1": 14.504777070063694,
          "xref": "x",
          "y0": 9.495222929936306,
          "y1": 10.504777070063694,
          "yref": "y"
         },
         {
          "fillcolor": "green",
          "type": "circle",
          "x0": 6.827470683327258,
          "x1": 7.837024823454646,
          "xref": "x",
          "y0": 12.475675571853701,
          "y1": 13.48522971198109,
          "yref": "y"
         },
         {
          "fillcolor": "green",
          "type": "circle",
          "x0": 9.09189051508967,
          "x1": 10.02501153419795,
          "xref": "x",
          "y0": 5.557884874752359,
          "y1": 6.49100589386064,
          "yref": "y"
         },
         {
          "fillcolor": "green",
          "type": "circle",
          "x0": 12.806086939431088,
          "x1": 13.707360824781405,
          "xref": "x",
          "y0": 11.871807794174098,
          "y1": 12.773081679524415,
          "yref": "y"
         },
         {
          "fillcolor": "green",
          "type": "circle",
          "x0": 5.675508226526057,
          "x1": 6.519457271112044,
          "xref": "x",
          "y0": 10.455726511223025,
          "y1": 11.299675555809012,
          "yref": "y"
         },
         {
          "fillcolor": "green",
          "type": "circle",
          "x0": 11.536330317862419,
          "x1": 12.361171082193628,
          "xref": "x",
          "y0": 6.094390428978417,
          "y1": 6.919231193309627,
          "yref": "y"
         },
         {
          "fillcolor": "green",
          "type": "circle",
          "x0": 10.903443693478172,
          "x1": 11.702806750803012,
          "xref": "x",
          "y0": 13.382099091022047,
          "y1": 14.181462148346887,
          "yref": "y"
         },
         {
          "fillcolor": "green",
          "type": "circle",
          "x0": 5.916544865196113,
          "x1": 6.709538495769361,
          "xref": "x",
          "y0": 8.052265501396457,
          "y1": 8.845259131969707,
          "yref": "y"
         },
         {
          "fillcolor": "green",
          "type": "circle",
          "x0": 13.259724906481182,
          "x1": 13.96991598928373,
          "xref": "x",
          "y0": 7.93228274626092,
          "y1": 8.642473829063468,
          "yref": "y"
         },
         {
          "fillcolor": "yellow",
          "type": "circle",
          "x0": 15.686305732484076,
          "x1": 16.313694267515924,
          "xref": "x",
          "y0": 9.686305732484076,
          "y1": 10.313694267515924,
          "yref": "y"
         },
         {
          "fillcolor": "yellow",
          "type": "circle",
          "x0": 12.234564489881855,
          "x1": 12.85558359816211,
          "xref": "x",
          "y0": 4.25602027382013,
          "y1": 4.877039382100384,
          "yref": "y"
         },
         {
          "fillcolor": "yellow",
          "type": "circle",
          "x0": 5.854993835796267,
          "x1": 6.463274090573337,
          "xref": "x",
          "y0": 5.086331904669464,
          "y1": 5.6946121594465335,
          "yref": "y"
         },
         {
          "fillcolor": "yellow",
          "type": "circle",
          "x0": 3.8923563429681702,
          "x1": 4.50063659774524,
          "xref": "x",
          "y0": 11.218800049183681,
          "y1": 11.827080303960752,
          "yref": "y"
         },
         {
          "fillcolor": "yellow",
          "type": "circle",
          "x0": 8.626016030368147,
          "x1": 9.208818578138848,
          "xref": "x",
          "y0": 15.610125198720718,
          "y1": 16.192927746491417,
          "yref": "y"
         },
         {
          "fillcolor": "yellow",
          "type": "circle",
          "x0": 14.593684549274021,
          "x1": 15.176487097044722,
          "xref": "x",
          "y0": 13.192265831388536,
          "y1": 13.775068379159237,
          "yref": "y"
         },
         {
          "fillcolor": "yellow",
          "type": "circle",
          "x0": 14.938667845684506,
          "x1": 15.515100966703613,
          "xref": "x",
          "y0": 6.7656538760996305,
          "y1": 7.342086997118738,
          "yref": "y"
         },
         {
          "fillcolor": "yellow",
          "type": "circle",
          "x0": 9.260966894100328,
          "x1": 9.837400015119435,
          "xref": "x",
          "y0": 3.728743706845967,
          "y1": 4.3051768278650755,
          "yref": "y"
         },
         {
          "fillcolor": "yellow",
          "type": "circle",
          "x0": 4.1056299172428306,
          "x1": 4.675693611510346,
          "xref": "x",
          "y0": 7.585338006955165,
          "y1": 8.155401701222681,
          "yref": "y"
         },
         {
          "fillcolor": "yellow",
          "type": "circle",
          "x0": 5.413427075799552,
          "x1": 5.9707519165638825,
          "xref": "x",
          "y0": 13.897688509687303,
          "y1": 14.455013350451633,
          "yref": "y"
         },
         {
          "fillcolor": "yellow",
          "type": "circle",
          "x0": 11.67921012620452,
          "x1": 12.230165540217257,
          "xref": "x",
          "y0": 15.397193222520333,
          "y1": 15.94814863653307,
          "yref": "y"
         },
         {
          "fillcolor": "yellow",
          "type": "circle",
          "x0": 15.69070788630211,
          "x1": 16.24166330031485,
          "xref": "x",
          "y0": 10.360627210596313,
          "y1": 10.911582624609053,
          "yref": "y"
         },
         {
          "fillcolor": "yellow",
          "type": "circle",
          "x0": 12.831295824898511,
          "x1": 13.382251238911248,
          "xref": "x",
          "y0": 4.5914960684887065,
          "y1": 5.142451482501445,
          "yref": "y"
         },
         {
          "fillcolor": "yellow",
          "type": "circle",
          "x0": 6.400362352005277,
          "x1": 6.9385789125148305,
          "xref": "x",
          "y0": 4.740142865051997,
          "y1": 5.2783594255615505,
          "yref": "y"
         },
         {
          "fillcolor": "yellow",
          "type": "circle",
          "x0": 3.7986369056110503,
          "x1": 4.336853466120604,
          "xref": "x",
          "y0": 10.629976154146092,
          "y1": 11.168192714655646,
          "yref": "y"
         },
         {
          "fillcolor": "orange",
          "type": "circle",
          "x0": 17.734076433121018,
          "x1": 18.265923566878982,
          "xref": "x",
          "y0": 9.73407643312102,
          "y1": 10.26592356687898,
          "yref": "y"
         },
         {
          "fillcolor": "orange",
          "type": "circle",
          "x0": 8.573260876027907,
          "x1": 9.098738583034278,
          "xref": "x",
          "y0": 17.652127119483872,
          "y1": 18.17760482649024,
          "yref": "y"
         },
         {
          "fillcolor": "orange",
          "type": "circle",
          "x0": 2.075985303909738,
          "x1": 2.6014630109161074,
          "xref": "x",
          "y0": 7.434034613176292,
          "y1": 7.959512320182663,
          "yref": "y"
         },
         {
          "fillcolor": "orange",
          "type": "circle",
          "x0": 13.13069320519279,
          "x1": 13.65617091219916,
          "xref": "x",
          "y0": 2.492634250443824,
          "y1": 3.0181119574501936,
          "yref": "y"
         },
         {
          "fillcolor": "orange",
          "type": "circle",
          "x0": 16.411048030548898,
          "x1": 16.936525737555264,
          "xref": "x",
          "y0": 14.14867459643034,
          "y1": 14.67415230343671,
          "yref": "y"
         },
         {
          "fillcolor": "orange",
          "type": "circle",
          "x0": 4.401756653278721,
          "x1": 4.927234360285089,
          "xref": "x",
          "y0": 15.698166430331606,
          "y1": 16.223644137337974,
          "yref": "y"
         },
         {
          "fillcolor": "orange",
          "type": "circle",
          "x0": 4.616106430743217,
          "x1": 5.141584137749588,
          "xref": "x",
          "y0": 3.5912238559074807,
          "y1": 4.11670156291385,
          "yref": "y"
         },
         {
          "fillcolor": "orange",
          "type": "circle",
          "x0": 16.56302200827749,
          "x1": 17.088499715283856,
          "xref": "x",
          "y0": 5.56485312980152,
          "y1": 6.09033083680789,
          "yref": "y"
         },
         {
          "fillcolor": "orange",
          "type": "circle",
          "x0": 12.875303703309012,
          "x1": 13.394411983563788,
          "xref": "x",
          "y0": 17.100654165446937,
          "y1": 17.619762445701713,
          "yref": "y"
         },
         {
          "fillcolor": "orange",
          "type": "circle",
          "x0": 2.005625867057348,
          "x1": 2.518364720560533,
          "xref": "x",
          "y0": 11.774217475344699,
          "y1": 12.286956328847882,
          "yref": "y"
         },
         {
          "fillcolor": "orange",
          "type": "circle",
          "x0": 8.860532622536027,
          "x1": 9.37327147603921,
          "xref": "x",
          "y0": 1.7925213418614059,
          "y1": 2.305260195364591,
          "yref": "y"
         },
         {
          "fillcolor": "orange",
          "type": "circle",
          "x0": 17.738616842809403,
          "x1": 18.25135569631259,
          "xref": "x",
          "y0": 10.026816995117693,
          "y1": 10.539555848620877,
          "yref": "y"
         },
         {
          "fillcolor": "orange",
          "type": "circle",
          "x0": 8.300186978919736,
          "x1": 8.81292583242292,
          "xref": "x",
          "y0": 17.612332536723166,
          "y1": 18.125071390226353,
          "yref": "y"
         },
         {
          "fillcolor": "orange",
          "type": "circle",
          "x0": 2.1686864872387064,
          "x1": 2.6814253407418915,
          "xref": "x",
          "y0": 7.1706513479481595,
          "y1": 7.683390201451345,
          "yref": "y"
         },
         {
          "fillcolor": "orange",
          "type": "circle",
          "x0": 13.391383408802616,
          "x1": 13.9041222623058,
          "xref": "x",
          "y0": 2.6236657383137407,
          "y1": 3.136404591816926,
          "yref": "y"
         },
         {
          "fillcolor": "orange",
          "type": "circle",
          "x0": 16.2570783374609,
          "x1": 16.769817190964087,
          "xref": "x",
          "y0": 14.388520046946923,
          "y1": 14.901258900450106,
          "yref": "y"
         },
         {
          "fillcolor": "orange",
          "type": "circle",
          "x0": 4.2036487112628835,
          "x1": 4.710018138014475,
          "xref": "x",
          "y0": 15.515116970638056,
          "y1": 16.021486397389648,
          "yref": "y"
         },
         {
          "fillcolor": "orange",
          "type": "circle",
          "x0": 4.846429370655407,
          "x1": 5.352798797406999,
          "xref": "x",
          "y0": 3.4233496328410937,
          "y1": 3.9297190595926863,
          "yref": "y"
         },
         {
          "fillcolor": "orange",
          "type": "circle",
          "x0": 16.715994494882953,
          "x1": 17.222363921634543,
          "xref": "x",
          "y0": 5.8186425354364495,
          "y1": 6.325011962188041,
          "yref": "y"
         },
         {
          "fillcolor": "orange",
          "type": "circle",
          "x0": 12.619169581753132,
          "x1": 13.125539008504726,
          "xref": "x",
          "y0": 17.213379476615103,
          "y1": 17.719748903366693,
          "yref": "y"
         },
         {
          "fillcolor": "orange",
          "type": "circle",
          "x0": 1.941780784262305,
          "x1": 2.4481502110138975,
          "xref": "x",
          "y0": 11.50221735365624,
          "y1": 12.008586780407834,
          "yref": "y"
         },
         {
          "fillcolor": "orange",
          "type": "circle",
          "x0": 9.145726559437378,
          "x1": 9.652095986188971,
          "xref": "x",
          "y0": 1.769428976431565,
          "y1": 2.2757984031831575,
          "yref": "y"
         },
         {
          "fillcolor": "orange",
          "type": "circle",
          "x0": 17.726766649241423,
          "x1": 18.233136075993013,
          "xref": "x",
          "y0": 10.312833175266965,
          "y1": 10.819202602018558,
          "yref": "y"
         },
         {
          "fillcolor": "orange",
          "type": "circle",
          "x0": 8.025737627707235,
          "x1": 8.532107054458828,
          "xref": "x",
          "y0": 17.55949035294924,
          "y1": 18.06585977970083,
          "yref": "y"
         },
         {
          "fillcolor": "orange",
          "type": "circle",
          "x0": 2.267697639126322,
          "x1": 2.7740670658779147,
          "xref": "x",
          "y0": 6.9073084254094335,
          "y1": 7.413677852161025,
          "yref": "y"
         },
         {
          "fillcolor": "orange",
          "type": "circle",
          "x0": 13.64431668668025,
          "x1": 14.150686113431844,
          "xref": "x",
          "y0": 2.7604369089122476,
          "y1": 3.26680633566384,
          "yref": "y"
         },
         {
          "fillcolor": "orange",
          "type": "circle",
          "x0": 16.091759763167538,
          "x1": 16.598129189919128,
          "xref": "x",
          "y0": 14.619358728152685,
          "y1": 15.125728154904278,
          "yref": "y"
         },
         {
          "fillcolor": "orange",
          "type": "circle",
          "x0": 4.002934614866494,
          "x1": 4.509304041618086,
          "xref": "x",
          "y0": 15.315283193383495,
          "y1": 15.821652620135088,
          "yref": "y"
         },
         {
          "fillcolor": "orange",
          "type": "circle",
          "x0": 5.073340473947646,
          "x1": 5.579709900699238,
          "xref": "x",
          "y0": 3.2538473077044086,
          "y1": 3.760216734456001,
          "yref": "y"
         },
         {
          "fillcolor": "orange",
          "type": "circle",
          "x0": 16.8506774448782,
          "x1": 17.35704687162979,
          "xref": "x",
          "y0": 6.067801500767063,
          "y1": 6.574170927518654,
          "yref": "y"
         },
         {
          "fillcolor": "orange",
          "type": "circle",
          "x0": 12.356250444281185,
          "x1": 12.856250444281185,
          "xref": "x",
          "y0": 17.313561239368934,
          "y1": 17.813561239368934,
          "yref": "y"
         },
         {
          "fillcolor": "orange",
          "type": "circle",
          "x0": 1.8877187862327522,
          "x1": 2.3877187862327522,
          "xref": "x",
          "y0": 11.228016953773745,
          "y1": 11.728016953773745,
          "yref": "y"
         },
         {
          "fillcolor": "orange",
          "type": "circle",
          "x0": 9.431673920550738,
          "x1": 9.931673920550738,
          "xref": "x",
          "y0": 1.7563357271434983,
          "y1": 2.2563357271434983,
          "yref": "y"
         },
         {
          "fillcolor": "orange",
          "type": "circle",
          "x0": 17.70491412441131,
          "x1": 18.20491412441131,
          "xref": "x",
          "y0": 10.59813989013691,
          "y1": 11.09813989013691,
          "yref": "y"
         },
         {
          "fillcolor": "orange",
          "type": "circle",
          "x0": 7.753445531356336,
          "x1": 8.253445531356336,
          "xref": "x",
          "y0": 17.496855507477793,
          "y1": 17.996855507477793,
          "yref": "y"
         },
         {
          "fillcolor": "orange",
          "type": "circle",
          "x0": 2.376083360965474,
          "x1": 2.876083360965474,
          "xref": "x",
          "y0": 6.647524633366164,
          "y1": 7.147524633366164,
          "yref": "y"
         },
         {
          "fillcolor": "orange",
          "type": "circle",
          "x0": 13.892364709206507,
          "x1": 14.392364709206507,
          "xref": "x",
          "y0": 2.905965033993434,
          "y1": 3.405965033993434,
          "yref": "y"
         },
         {
          "fillcolor": "orange",
          "type": "circle",
          "x0": 15.918488228560218,
          "x1": 16.418488228560218,
          "xref": "x",
          "y0": 14.844090004516413,
          "y1": 15.344090004516413,
          "yref": "y"
         },
         {
          "fillcolor": "orange",
          "type": "circle",
          "x0": 3.812604799186401,
          "x1": 4.312604799186401,
          "xref": "x",
          "y0": 15.111654430244048,
          "y1": 15.611654430244048,
          "yref": "y"
         },
         {
          "fillcolor": "orange",
          "type": "circle",
          "x0": 5.3092941763467385,
          "x1": 5.8092941763467385,
          "xref": "x",
          "y0": 3.0956681937423642,
          "y1": 3.5956681937423642,
          "yref": "y"
         },
         {
          "fillcolor": "orange",
          "type": "circle",
          "x0": 16.979640895764913,
          "x1": 17.479640895764913,
          "xref": "x",
          "y0": 6.324756575324388,
          "y1": 6.824756575324388,
          "yref": "y"
         },
         {
          "fillcolor": "orange",
          "type": "circle",
          "x0": 12.086879834137402,
          "x1": 12.586879834137402,
          "xref": "x",
          "y0": 17.4010778744437,
          "y1": 17.9010778744437,
          "yref": "y"
         },
         {
          "fillcolor": "orange",
          "type": "circle",
          "x0": 1.8403269144877692,
          "x1": 2.340326914487769,
          "xref": "x",
          "y0": 10.948779245867826,
          "y1": 11.448779245867826,
          "yref": "y"
         },
         {
          "fillcolor": "orange",
          "type": "circle",
          "x0": 9.714835568576818,
          "x1": 10.214835568576818,
          "xref": "x",
          "y0": 1.750077283950633,
          "y1": 2.250077283950633,
          "yref": "y"
         },
         {
          "fillcolor": "orange",
          "type": "circle",
          "x0": 17.6699059374341,
          "x1": 18.1699059374341,
          "xref": "x",
          "y0": 10.87919880543513,
          "y1": 11.37919880543513,
          "yref": "y"
         }
        ],
        "template": {
         "data": {
          "bar": [
           {
            "error_x": {
             "color": "#2a3f5f"
            },
            "error_y": {
             "color": "#2a3f5f"
            },
            "marker": {
             "line": {
              "color": "#E5ECF6",
              "width": 0.5
             }
            },
            "type": "bar"
           }
          ],
          "barpolar": [
           {
            "marker": {
             "line": {
              "color": "#E5ECF6",
              "width": 0.5
             }
            },
            "type": "barpolar"
           }
          ],
          "carpet": [
           {
            "aaxis": {
             "endlinecolor": "#2a3f5f",
             "gridcolor": "white",
             "linecolor": "white",
             "minorgridcolor": "white",
             "startlinecolor": "#2a3f5f"
            },
            "baxis": {
             "endlinecolor": "#2a3f5f",
             "gridcolor": "white",
             "linecolor": "white",
             "minorgridcolor": "white",
             "startlinecolor": "#2a3f5f"
            },
            "type": "carpet"
           }
          ],
          "choropleth": [
           {
            "colorbar": {
             "outlinewidth": 0,
             "ticks": ""
            },
            "type": "choropleth"
           }
          ],
          "contour": [
           {
            "colorbar": {
             "outlinewidth": 0,
             "ticks": ""
            },
            "colorscale": [
             [
              0,
              "#0d0887"
             ],
             [
              0.1111111111111111,
              "#46039f"
             ],
             [
              0.2222222222222222,
              "#7201a8"
             ],
             [
              0.3333333333333333,
              "#9c179e"
             ],
             [
              0.4444444444444444,
              "#bd3786"
             ],
             [
              0.5555555555555556,
              "#d8576b"
             ],
             [
              0.6666666666666666,
              "#ed7953"
             ],
             [
              0.7777777777777778,
              "#fb9f3a"
             ],
             [
              0.8888888888888888,
              "#fdca26"
             ],
             [
              1,
              "#f0f921"
             ]
            ],
            "type": "contour"
           }
          ],
          "contourcarpet": [
           {
            "colorbar": {
             "outlinewidth": 0,
             "ticks": ""
            },
            "type": "contourcarpet"
           }
          ],
          "heatmap": [
           {
            "colorbar": {
             "outlinewidth": 0,
             "ticks": ""
            },
            "colorscale": [
             [
              0,
              "#0d0887"
             ],
             [
              0.1111111111111111,
              "#46039f"
             ],
             [
              0.2222222222222222,
              "#7201a8"
             ],
             [
              0.3333333333333333,
              "#9c179e"
             ],
             [
              0.4444444444444444,
              "#bd3786"
             ],
             [
              0.5555555555555556,
              "#d8576b"
             ],
             [
              0.6666666666666666,
              "#ed7953"
             ],
             [
              0.7777777777777778,
              "#fb9f3a"
             ],
             [
              0.8888888888888888,
              "#fdca26"
             ],
             [
              1,
              "#f0f921"
             ]
            ],
            "type": "heatmap"
           }
          ],
          "heatmapgl": [
           {
            "colorbar": {
             "outlinewidth": 0,
             "ticks": ""
            },
            "colorscale": [
             [
              0,
              "#0d0887"
             ],
             [
              0.1111111111111111,
              "#46039f"
             ],
             [
              0.2222222222222222,
              "#7201a8"
             ],
             [
              0.3333333333333333,
              "#9c179e"
             ],
             [
              0.4444444444444444,
              "#bd3786"
             ],
             [
              0.5555555555555556,
              "#d8576b"
             ],
             [
              0.6666666666666666,
              "#ed7953"
             ],
             [
              0.7777777777777778,
              "#fb9f3a"
             ],
             [
              0.8888888888888888,
              "#fdca26"
             ],
             [
              1,
              "#f0f921"
             ]
            ],
            "type": "heatmapgl"
           }
          ],
          "histogram": [
           {
            "marker": {
             "colorbar": {
              "outlinewidth": 0,
              "ticks": ""
             }
            },
            "type": "histogram"
           }
          ],
          "histogram2d": [
           {
            "colorbar": {
             "outlinewidth": 0,
             "ticks": ""
            },
            "colorscale": [
             [
              0,
              "#0d0887"
             ],
             [
              0.1111111111111111,
              "#46039f"
             ],
             [
              0.2222222222222222,
              "#7201a8"
             ],
             [
              0.3333333333333333,
              "#9c179e"
             ],
             [
              0.4444444444444444,
              "#bd3786"
             ],
             [
              0.5555555555555556,
              "#d8576b"
             ],
             [
              0.6666666666666666,
              "#ed7953"
             ],
             [
              0.7777777777777778,
              "#fb9f3a"
             ],
             [
              0.8888888888888888,
              "#fdca26"
             ],
             [
              1,
              "#f0f921"
             ]
            ],
            "type": "histogram2d"
           }
          ],
          "histogram2dcontour": [
           {
            "colorbar": {
             "outlinewidth": 0,
             "ticks": ""
            },
            "colorscale": [
             [
              0,
              "#0d0887"
             ],
             [
              0.1111111111111111,
              "#46039f"
             ],
             [
              0.2222222222222222,
              "#7201a8"
             ],
             [
              0.3333333333333333,
              "#9c179e"
             ],
             [
              0.4444444444444444,
              "#bd3786"
             ],
             [
              0.5555555555555556,
              "#d8576b"
             ],
             [
              0.6666666666666666,
              "#ed7953"
             ],
             [
              0.7777777777777778,
              "#fb9f3a"
             ],
             [
              0.8888888888888888,
              "#fdca26"
             ],
             [
              1,
              "#f0f921"
             ]
            ],
            "type": "histogram2dcontour"
           }
          ],
          "mesh3d": [
           {
            "colorbar": {
             "outlinewidth": 0,
             "ticks": ""
            },
            "type": "mesh3d"
           }
          ],
          "parcoords": [
           {
            "line": {
             "colorbar": {
              "outlinewidth": 0,
              "ticks": ""
             }
            },
            "type": "parcoords"
           }
          ],
          "pie": [
           {
            "automargin": true,
            "type": "pie"
           }
          ],
          "scatter": [
           {
            "marker": {
             "colorbar": {
              "outlinewidth": 0,
              "ticks": ""
             }
            },
            "type": "scatter"
           }
          ],
          "scatter3d": [
           {
            "line": {
             "colorbar": {
              "outlinewidth": 0,
              "ticks": ""
             }
            },
            "marker": {
             "colorbar": {
              "outlinewidth": 0,
              "ticks": ""
             }
            },
            "type": "scatter3d"
           }
          ],
          "scattercarpet": [
           {
            "marker": {
             "colorbar": {
              "outlinewidth": 0,
              "ticks": ""
             }
            },
            "type": "scattercarpet"
           }
          ],
          "scattergeo": [
           {
            "marker": {
             "colorbar": {
              "outlinewidth": 0,
              "ticks": ""
             }
            },
            "type": "scattergeo"
           }
          ],
          "scattergl": [
           {
            "marker": {
             "colorbar": {
              "outlinewidth": 0,
              "ticks": ""
             }
            },
            "type": "scattergl"
           }
          ],
          "scattermapbox": [
           {
            "marker": {
             "colorbar": {
              "outlinewidth": 0,
              "ticks": ""
             }
            },
            "type": "scattermapbox"
           }
          ],
          "scatterpolar": [
           {
            "marker": {
             "colorbar": {
              "outlinewidth": 0,
              "ticks": ""
             }
            },
            "type": "scatterpolar"
           }
          ],
          "scatterpolargl": [
           {
            "marker": {
             "colorbar": {
              "outlinewidth": 0,
              "ticks": ""
             }
            },
            "type": "scatterpolargl"
           }
          ],
          "scatterternary": [
           {
            "marker": {
             "colorbar": {
              "outlinewidth": 0,
              "ticks": ""
             }
            },
            "type": "scatterternary"
           }
          ],
          "surface": [
           {
            "colorbar": {
             "outlinewidth": 0,
             "ticks": ""
            },
            "colorscale": [
             [
              0,
              "#0d0887"
             ],
             [
              0.1111111111111111,
              "#46039f"
             ],
             [
              0.2222222222222222,
              "#7201a8"
             ],
             [
              0.3333333333333333,
              "#9c179e"
             ],
             [
              0.4444444444444444,
              "#bd3786"
             ],
             [
              0.5555555555555556,
              "#d8576b"
             ],
             [
              0.6666666666666666,
              "#ed7953"
             ],
             [
              0.7777777777777778,
              "#fb9f3a"
             ],
             [
              0.8888888888888888,
              "#fdca26"
             ],
             [
              1,
              "#f0f921"
             ]
            ],
            "type": "surface"
           }
          ],
          "table": [
           {
            "cells": {
             "fill": {
              "color": "#EBF0F8"
             },
             "line": {
              "color": "white"
             }
            },
            "header": {
             "fill": {
              "color": "#C8D4E3"
             },
             "line": {
              "color": "white"
             }
            },
            "type": "table"
           }
          ]
         },
         "layout": {
          "annotationdefaults": {
           "arrowcolor": "#2a3f5f",
           "arrowhead": 0,
           "arrowwidth": 1
          },
          "autotypenumbers": "strict",
          "coloraxis": {
           "colorbar": {
            "outlinewidth": 0,
            "ticks": ""
           }
          },
          "colorscale": {
           "diverging": [
            [
             0,
             "#8e0152"
            ],
            [
             0.1,
             "#c51b7d"
            ],
            [
             0.2,
             "#de77ae"
            ],
            [
             0.3,
             "#f1b6da"
            ],
            [
             0.4,
             "#fde0ef"
            ],
            [
             0.5,
             "#f7f7f7"
            ],
            [
             0.6,
             "#e6f5d0"
            ],
            [
             0.7,
             "#b8e186"
            ],
            [
             0.8,
             "#7fbc41"
            ],
            [
             0.9,
             "#4d9221"
            ],
            [
             1,
             "#276419"
            ]
           ],
           "sequential": [
            [
             0,
             "#0d0887"
            ],
            [
             0.1111111111111111,
             "#46039f"
            ],
            [
             0.2222222222222222,
             "#7201a8"
            ],
            [
             0.3333333333333333,
             "#9c179e"
            ],
            [
             0.4444444444444444,
             "#bd3786"
            ],
            [
             0.5555555555555556,
             "#d8576b"
            ],
            [
             0.6666666666666666,
             "#ed7953"
            ],
            [
             0.7777777777777778,
             "#fb9f3a"
            ],
            [
             0.8888888888888888,
             "#fdca26"
            ],
            [
             1,
             "#f0f921"
            ]
           ],
           "sequentialminus": [
            [
             0,
             "#0d0887"
            ],
            [
             0.1111111111111111,
             "#46039f"
            ],
            [
             0.2222222222222222,
             "#7201a8"
            ],
            [
             0.3333333333333333,
             "#9c179e"
            ],
            [
             0.4444444444444444,
             "#bd3786"
            ],
            [
             0.5555555555555556,
             "#d8576b"
            ],
            [
             0.6666666666666666,
             "#ed7953"
            ],
            [
             0.7777777777777778,
             "#fb9f3a"
            ],
            [
             0.8888888888888888,
             "#fdca26"
            ],
            [
             1,
             "#f0f921"
            ]
           ]
          },
          "colorway": [
           "#636efa",
           "#EF553B",
           "#00cc96",
           "#ab63fa",
           "#FFA15A",
           "#19d3f3",
           "#FF6692",
           "#B6E880",
           "#FF97FF",
           "#FECB52"
          ],
          "font": {
           "color": "#2a3f5f"
          },
          "geo": {
           "bgcolor": "white",
           "lakecolor": "white",
           "landcolor": "#E5ECF6",
           "showlakes": true,
           "showland": true,
           "subunitcolor": "white"
          },
          "hoverlabel": {
           "align": "left"
          },
          "hovermode": "closest",
          "mapbox": {
           "style": "light"
          },
          "paper_bgcolor": "white",
          "plot_bgcolor": "#E5ECF6",
          "polar": {
           "angularaxis": {
            "gridcolor": "white",
            "linecolor": "white",
            "ticks": ""
           },
           "bgcolor": "#E5ECF6",
           "radialaxis": {
            "gridcolor": "white",
            "linecolor": "white",
            "ticks": ""
           }
          },
          "scene": {
           "xaxis": {
            "backgroundcolor": "#E5ECF6",
            "gridcolor": "white",
            "gridwidth": 2,
            "linecolor": "white",
            "showbackground": true,
            "ticks": "",
            "zerolinecolor": "white"
           },
           "yaxis": {
            "backgroundcolor": "#E5ECF6",
            "gridcolor": "white",
            "gridwidth": 2,
            "linecolor": "white",
            "showbackground": true,
            "ticks": "",
            "zerolinecolor": "white"
           },
           "zaxis": {
            "backgroundcolor": "#E5ECF6",
            "gridcolor": "white",
            "gridwidth": 2,
            "linecolor": "white",
            "showbackground": true,
            "ticks": "",
            "zerolinecolor": "white"
           }
          },
          "shapedefaults": {
           "line": {
            "color": "#2a3f5f"
           }
          },
          "ternary": {
           "aaxis": {
            "gridcolor": "white",
            "linecolor": "white",
            "ticks": ""
           },
           "baxis": {
            "gridcolor": "white",
            "linecolor": "white",
            "ticks": ""
           },
           "bgcolor": "#E5ECF6",
           "caxis": {
            "gridcolor": "white",
            "linecolor": "white",
            "ticks": ""
           }
          },
          "title": {
           "x": 0.05
          },
          "xaxis": {
           "automargin": true,
           "gridcolor": "white",
           "linecolor": "white",
           "ticks": "",
           "title": {
            "standoff": 15
           },
           "zerolinecolor": "white",
           "zerolinewidth": 2
          },
          "yaxis": {
           "automargin": true,
           "gridcolor": "white",
           "linecolor": "white",
           "ticks": "",
           "title": {
            "standoff": 15
           },
           "zerolinecolor": "white",
           "zerolinewidth": 2
          }
         }
        },
        "width": 800,
        "xaxis": {
         "range": [
          0,
          20
         ],
         "zeroline": false
        },
        "yaxis": {
         "range": [
          0,
          20
         ]
        }
       }
      },
      "text/html": [
       "<div>                            <div id=\"0033c1ac-f522-4a4a-86e6-5eda7a5f25c5\" class=\"plotly-graph-div\" style=\"height:800px; width:800px;\"></div>            <script type=\"text/javascript\">                require([\"plotly\"], function(Plotly) {                    window.PLOTLYENV=window.PLOTLYENV || {};                                    if (document.getElementById(\"0033c1ac-f522-4a4a-86e6-5eda7a5f25c5\")) {                    Plotly.newPlot(                        \"0033c1ac-f522-4a4a-86e6-5eda7a5f25c5\",                        [{\"mode\": \"markers\", \"type\": \"scatter\", \"x\": [10, 14, 9, 6, 11, 13, 7, 7, 13, 11, 4, 9, 15, 8, 4, 12, 14, 5, 6, 15, 12, 4, 9, 15, 8, 2, 13, 16, 4, 5, 17, 12, 2, 9, 17, 8, 2, 14, 16, 4, 5, 17, 12, 2, 9, 17, 18, 13, 4, 2, 8, 16, 16, 9, 2, 4, 12, 17, 14, 5, 2, 18, 4, 9, 16, 2, 13, 12, 2, 17], \"y\": [10, 10, 13, 8, 6, 12, 12, 6, 7, 13, 11, 4, 10, 15, 8, 4, 13, 14, 5, 7, 15, 11, 4, 10, 15, 7, 3, 14, 15, 3, 6, 17, 11, 2, 10, 17, 6, 3, 15, 15, 3, 6, 17, 11, 2, 11, 10, 2, 3, 12, 17, 14, 6, 2, 7, 15, 17, 10, 3, 3, 11, 10, 15, 2, 14, 11, 3, 17, 6, 6]}],                        {\"height\": 800, \"shapes\": [{\"fillcolor\": \"LightSeaGreen\", \"line\": {\"color\": \"black\"}, \"type\": \"circle\", \"x0\": 8.5, \"x1\": 11.5, \"xref\": \"x\", \"y0\": 8.5, \"y1\": 11.5, \"yref\": \"y\"}, {\"line\": {\"color\": \"black\"}, \"type\": \"circle\", \"x0\": 6, \"x1\": 14, \"xref\": \"x\", \"y0\": 6, \"y1\": 14, \"yref\": \"y\"}, {\"line\": {\"color\": \"black\"}, \"type\": \"circle\", \"x0\": 4, \"x1\": 16, \"xref\": \"x\", \"y0\": 4, \"y1\": 16, \"yref\": \"y\"}, {\"line\": {\"color\": \"black\"}, \"type\": \"circle\", \"x0\": 2, \"x1\": 18, \"xref\": \"x\", \"y0\": 2, \"y1\": 18, \"yref\": \"y\"}, {\"fillcolor\": \"green\", \"type\": \"circle\", \"x0\": 13.495222929936306, \"x1\": 14.504777070063694, \"xref\": \"x\", \"y0\": 9.495222929936306, \"y1\": 10.504777070063694, \"yref\": \"y\"}, {\"fillcolor\": \"green\", \"type\": \"circle\", \"x0\": 6.827470683327258, \"x1\": 7.837024823454646, \"xref\": \"x\", \"y0\": 12.475675571853701, \"y1\": 13.48522971198109, \"yref\": \"y\"}, {\"fillcolor\": \"green\", \"type\": \"circle\", \"x0\": 9.09189051508967, \"x1\": 10.02501153419795, \"xref\": \"x\", \"y0\": 5.557884874752359, \"y1\": 6.49100589386064, \"yref\": \"y\"}, {\"fillcolor\": \"green\", \"type\": \"circle\", \"x0\": 12.806086939431088, \"x1\": 13.707360824781405, \"xref\": \"x\", \"y0\": 11.871807794174098, \"y1\": 12.773081679524415, \"yref\": \"y\"}, {\"fillcolor\": \"green\", \"type\": \"circle\", \"x0\": 5.675508226526057, \"x1\": 6.519457271112044, \"xref\": \"x\", \"y0\": 10.455726511223025, \"y1\": 11.299675555809012, \"yref\": \"y\"}, {\"fillcolor\": \"green\", \"type\": \"circle\", \"x0\": 11.536330317862419, \"x1\": 12.361171082193628, \"xref\": \"x\", \"y0\": 6.094390428978417, \"y1\": 6.919231193309627, \"yref\": \"y\"}, {\"fillcolor\": \"green\", \"type\": \"circle\", \"x0\": 10.903443693478172, \"x1\": 11.702806750803012, \"xref\": \"x\", \"y0\": 13.382099091022047, \"y1\": 14.181462148346887, \"yref\": \"y\"}, {\"fillcolor\": \"green\", \"type\": \"circle\", \"x0\": 5.916544865196113, \"x1\": 6.709538495769361, \"xref\": \"x\", \"y0\": 8.052265501396457, \"y1\": 8.845259131969707, \"yref\": \"y\"}, {\"fillcolor\": \"green\", \"type\": \"circle\", \"x0\": 13.259724906481182, \"x1\": 13.96991598928373, \"xref\": \"x\", \"y0\": 7.93228274626092, \"y1\": 8.642473829063468, \"yref\": \"y\"}, {\"fillcolor\": \"yellow\", \"type\": \"circle\", \"x0\": 15.686305732484076, \"x1\": 16.313694267515924, \"xref\": \"x\", \"y0\": 9.686305732484076, \"y1\": 10.313694267515924, \"yref\": \"y\"}, {\"fillcolor\": \"yellow\", \"type\": \"circle\", \"x0\": 12.234564489881855, \"x1\": 12.85558359816211, \"xref\": \"x\", \"y0\": 4.25602027382013, \"y1\": 4.877039382100384, \"yref\": \"y\"}, {\"fillcolor\": \"yellow\", \"type\": \"circle\", \"x0\": 5.854993835796267, \"x1\": 6.463274090573337, \"xref\": \"x\", \"y0\": 5.086331904669464, \"y1\": 5.6946121594465335, \"yref\": \"y\"}, {\"fillcolor\": \"yellow\", \"type\": \"circle\", \"x0\": 3.8923563429681702, \"x1\": 4.50063659774524, \"xref\": \"x\", \"y0\": 11.218800049183681, \"y1\": 11.827080303960752, \"yref\": \"y\"}, {\"fillcolor\": \"yellow\", \"type\": \"circle\", \"x0\": 8.626016030368147, \"x1\": 9.208818578138848, \"xref\": \"x\", \"y0\": 15.610125198720718, \"y1\": 16.192927746491417, \"yref\": \"y\"}, {\"fillcolor\": \"yellow\", \"type\": \"circle\", \"x0\": 14.593684549274021, \"x1\": 15.176487097044722, \"xref\": \"x\", \"y0\": 13.192265831388536, \"y1\": 13.775068379159237, \"yref\": \"y\"}, {\"fillcolor\": \"yellow\", \"type\": \"circle\", \"x0\": 14.938667845684506, \"x1\": 15.515100966703613, \"xref\": \"x\", \"y0\": 6.7656538760996305, \"y1\": 7.342086997118738, \"yref\": \"y\"}, {\"fillcolor\": \"yellow\", \"type\": \"circle\", \"x0\": 9.260966894100328, \"x1\": 9.837400015119435, \"xref\": \"x\", \"y0\": 3.728743706845967, \"y1\": 4.3051768278650755, \"yref\": \"y\"}, {\"fillcolor\": \"yellow\", \"type\": \"circle\", \"x0\": 4.1056299172428306, \"x1\": 4.675693611510346, \"xref\": \"x\", \"y0\": 7.585338006955165, \"y1\": 8.155401701222681, \"yref\": \"y\"}, {\"fillcolor\": \"yellow\", \"type\": \"circle\", \"x0\": 5.413427075799552, \"x1\": 5.9707519165638825, \"xref\": \"x\", \"y0\": 13.897688509687303, \"y1\": 14.455013350451633, \"yref\": \"y\"}, {\"fillcolor\": \"yellow\", \"type\": \"circle\", \"x0\": 11.67921012620452, \"x1\": 12.230165540217257, \"xref\": \"x\", \"y0\": 15.397193222520333, \"y1\": 15.94814863653307, \"yref\": \"y\"}, {\"fillcolor\": \"yellow\", \"type\": \"circle\", \"x0\": 15.69070788630211, \"x1\": 16.24166330031485, \"xref\": \"x\", \"y0\": 10.360627210596313, \"y1\": 10.911582624609053, \"yref\": \"y\"}, {\"fillcolor\": \"yellow\", \"type\": \"circle\", \"x0\": 12.831295824898511, \"x1\": 13.382251238911248, \"xref\": \"x\", \"y0\": 4.5914960684887065, \"y1\": 5.142451482501445, \"yref\": \"y\"}, {\"fillcolor\": \"yellow\", \"type\": \"circle\", \"x0\": 6.400362352005277, \"x1\": 6.9385789125148305, \"xref\": \"x\", \"y0\": 4.740142865051997, \"y1\": 5.2783594255615505, \"yref\": \"y\"}, {\"fillcolor\": \"yellow\", \"type\": \"circle\", \"x0\": 3.7986369056110503, \"x1\": 4.336853466120604, \"xref\": \"x\", \"y0\": 10.629976154146092, \"y1\": 11.168192714655646, \"yref\": \"y\"}, {\"fillcolor\": \"orange\", \"type\": \"circle\", \"x0\": 17.734076433121018, \"x1\": 18.265923566878982, \"xref\": \"x\", \"y0\": 9.73407643312102, \"y1\": 10.26592356687898, \"yref\": \"y\"}, {\"fillcolor\": \"orange\", \"type\": \"circle\", \"x0\": 8.573260876027907, \"x1\": 9.098738583034278, \"xref\": \"x\", \"y0\": 17.652127119483872, \"y1\": 18.17760482649024, \"yref\": \"y\"}, {\"fillcolor\": \"orange\", \"type\": \"circle\", \"x0\": 2.075985303909738, \"x1\": 2.6014630109161074, \"xref\": \"x\", \"y0\": 7.434034613176292, \"y1\": 7.959512320182663, \"yref\": \"y\"}, {\"fillcolor\": \"orange\", \"type\": \"circle\", \"x0\": 13.13069320519279, \"x1\": 13.65617091219916, \"xref\": \"x\", \"y0\": 2.492634250443824, \"y1\": 3.0181119574501936, \"yref\": \"y\"}, {\"fillcolor\": \"orange\", \"type\": \"circle\", \"x0\": 16.411048030548898, \"x1\": 16.936525737555264, \"xref\": \"x\", \"y0\": 14.14867459643034, \"y1\": 14.67415230343671, \"yref\": \"y\"}, {\"fillcolor\": \"orange\", \"type\": \"circle\", \"x0\": 4.401756653278721, \"x1\": 4.927234360285089, \"xref\": \"x\", \"y0\": 15.698166430331606, \"y1\": 16.223644137337974, \"yref\": \"y\"}, {\"fillcolor\": \"orange\", \"type\": \"circle\", \"x0\": 4.616106430743217, \"x1\": 5.141584137749588, \"xref\": \"x\", \"y0\": 3.5912238559074807, \"y1\": 4.11670156291385, \"yref\": \"y\"}, {\"fillcolor\": \"orange\", \"type\": \"circle\", \"x0\": 16.56302200827749, \"x1\": 17.088499715283856, \"xref\": \"x\", \"y0\": 5.56485312980152, \"y1\": 6.09033083680789, \"yref\": \"y\"}, {\"fillcolor\": \"orange\", \"type\": \"circle\", \"x0\": 12.875303703309012, \"x1\": 13.394411983563788, \"xref\": \"x\", \"y0\": 17.100654165446937, \"y1\": 17.619762445701713, \"yref\": \"y\"}, {\"fillcolor\": \"orange\", \"type\": \"circle\", \"x0\": 2.005625867057348, \"x1\": 2.518364720560533, \"xref\": \"x\", \"y0\": 11.774217475344699, \"y1\": 12.286956328847882, \"yref\": \"y\"}, {\"fillcolor\": \"orange\", \"type\": \"circle\", \"x0\": 8.860532622536027, \"x1\": 9.37327147603921, \"xref\": \"x\", \"y0\": 1.7925213418614059, \"y1\": 2.305260195364591, \"yref\": \"y\"}, {\"fillcolor\": \"orange\", \"type\": \"circle\", \"x0\": 17.738616842809403, \"x1\": 18.25135569631259, \"xref\": \"x\", \"y0\": 10.026816995117693, \"y1\": 10.539555848620877, \"yref\": \"y\"}, {\"fillcolor\": \"orange\", \"type\": \"circle\", \"x0\": 8.300186978919736, \"x1\": 8.81292583242292, \"xref\": \"x\", \"y0\": 17.612332536723166, \"y1\": 18.125071390226353, \"yref\": \"y\"}, {\"fillcolor\": \"orange\", \"type\": \"circle\", \"x0\": 2.1686864872387064, \"x1\": 2.6814253407418915, \"xref\": \"x\", \"y0\": 7.1706513479481595, \"y1\": 7.683390201451345, \"yref\": \"y\"}, {\"fillcolor\": \"orange\", \"type\": \"circle\", \"x0\": 13.391383408802616, \"x1\": 13.9041222623058, \"xref\": \"x\", \"y0\": 2.6236657383137407, \"y1\": 3.136404591816926, \"yref\": \"y\"}, {\"fillcolor\": \"orange\", \"type\": \"circle\", \"x0\": 16.2570783374609, \"x1\": 16.769817190964087, \"xref\": \"x\", \"y0\": 14.388520046946923, \"y1\": 14.901258900450106, \"yref\": \"y\"}, {\"fillcolor\": \"orange\", \"type\": \"circle\", \"x0\": 4.2036487112628835, \"x1\": 4.710018138014475, \"xref\": \"x\", \"y0\": 15.515116970638056, \"y1\": 16.021486397389648, \"yref\": \"y\"}, {\"fillcolor\": \"orange\", \"type\": \"circle\", \"x0\": 4.846429370655407, \"x1\": 5.352798797406999, \"xref\": \"x\", \"y0\": 3.4233496328410937, \"y1\": 3.9297190595926863, \"yref\": \"y\"}, {\"fillcolor\": \"orange\", \"type\": \"circle\", \"x0\": 16.715994494882953, \"x1\": 17.222363921634543, \"xref\": \"x\", \"y0\": 5.8186425354364495, \"y1\": 6.325011962188041, \"yref\": \"y\"}, {\"fillcolor\": \"orange\", \"type\": \"circle\", \"x0\": 12.619169581753132, \"x1\": 13.125539008504726, \"xref\": \"x\", \"y0\": 17.213379476615103, \"y1\": 17.719748903366693, \"yref\": \"y\"}, {\"fillcolor\": \"orange\", \"type\": \"circle\", \"x0\": 1.941780784262305, \"x1\": 2.4481502110138975, \"xref\": \"x\", \"y0\": 11.50221735365624, \"y1\": 12.008586780407834, \"yref\": \"y\"}, {\"fillcolor\": \"orange\", \"type\": \"circle\", \"x0\": 9.145726559437378, \"x1\": 9.652095986188971, \"xref\": \"x\", \"y0\": 1.769428976431565, \"y1\": 2.2757984031831575, \"yref\": \"y\"}, {\"fillcolor\": \"orange\", \"type\": \"circle\", \"x0\": 17.726766649241423, \"x1\": 18.233136075993013, \"xref\": \"x\", \"y0\": 10.312833175266965, \"y1\": 10.819202602018558, \"yref\": \"y\"}, {\"fillcolor\": \"orange\", \"type\": \"circle\", \"x0\": 8.025737627707235, \"x1\": 8.532107054458828, \"xref\": \"x\", \"y0\": 17.55949035294924, \"y1\": 18.06585977970083, \"yref\": \"y\"}, {\"fillcolor\": \"orange\", \"type\": \"circle\", \"x0\": 2.267697639126322, \"x1\": 2.7740670658779147, \"xref\": \"x\", \"y0\": 6.9073084254094335, \"y1\": 7.413677852161025, \"yref\": \"y\"}, {\"fillcolor\": \"orange\", \"type\": \"circle\", \"x0\": 13.64431668668025, \"x1\": 14.150686113431844, \"xref\": \"x\", \"y0\": 2.7604369089122476, \"y1\": 3.26680633566384, \"yref\": \"y\"}, {\"fillcolor\": \"orange\", \"type\": \"circle\", \"x0\": 16.091759763167538, \"x1\": 16.598129189919128, \"xref\": \"x\", \"y0\": 14.619358728152685, \"y1\": 15.125728154904278, \"yref\": \"y\"}, {\"fillcolor\": \"orange\", \"type\": \"circle\", \"x0\": 4.002934614866494, \"x1\": 4.509304041618086, \"xref\": \"x\", \"y0\": 15.315283193383495, \"y1\": 15.821652620135088, \"yref\": \"y\"}, {\"fillcolor\": \"orange\", \"type\": \"circle\", \"x0\": 5.073340473947646, \"x1\": 5.579709900699238, \"xref\": \"x\", \"y0\": 3.2538473077044086, \"y1\": 3.760216734456001, \"yref\": \"y\"}, {\"fillcolor\": \"orange\", \"type\": \"circle\", \"x0\": 16.8506774448782, \"x1\": 17.35704687162979, \"xref\": \"x\", \"y0\": 6.067801500767063, \"y1\": 6.574170927518654, \"yref\": \"y\"}, {\"fillcolor\": \"orange\", \"type\": \"circle\", \"x0\": 12.356250444281185, \"x1\": 12.856250444281185, \"xref\": \"x\", \"y0\": 17.313561239368934, \"y1\": 17.813561239368934, \"yref\": \"y\"}, {\"fillcolor\": \"orange\", \"type\": \"circle\", \"x0\": 1.8877187862327522, \"x1\": 2.3877187862327522, \"xref\": \"x\", \"y0\": 11.228016953773745, \"y1\": 11.728016953773745, \"yref\": \"y\"}, {\"fillcolor\": \"orange\", \"type\": \"circle\", \"x0\": 9.431673920550738, \"x1\": 9.931673920550738, \"xref\": \"x\", \"y0\": 1.7563357271434983, \"y1\": 2.2563357271434983, \"yref\": \"y\"}, {\"fillcolor\": \"orange\", \"type\": \"circle\", \"x0\": 17.70491412441131, \"x1\": 18.20491412441131, \"xref\": \"x\", \"y0\": 10.59813989013691, \"y1\": 11.09813989013691, \"yref\": \"y\"}, {\"fillcolor\": \"orange\", \"type\": \"circle\", \"x0\": 7.753445531356336, \"x1\": 8.253445531356336, \"xref\": \"x\", \"y0\": 17.496855507477793, \"y1\": 17.996855507477793, \"yref\": \"y\"}, {\"fillcolor\": \"orange\", \"type\": \"circle\", \"x0\": 2.376083360965474, \"x1\": 2.876083360965474, \"xref\": \"x\", \"y0\": 6.647524633366164, \"y1\": 7.147524633366164, \"yref\": \"y\"}, {\"fillcolor\": \"orange\", \"type\": \"circle\", \"x0\": 13.892364709206507, \"x1\": 14.392364709206507, \"xref\": \"x\", \"y0\": 2.905965033993434, \"y1\": 3.405965033993434, \"yref\": \"y\"}, {\"fillcolor\": \"orange\", \"type\": \"circle\", \"x0\": 15.918488228560218, \"x1\": 16.418488228560218, \"xref\": \"x\", \"y0\": 14.844090004516413, \"y1\": 15.344090004516413, \"yref\": \"y\"}, {\"fillcolor\": \"orange\", \"type\": \"circle\", \"x0\": 3.812604799186401, \"x1\": 4.312604799186401, \"xref\": \"x\", \"y0\": 15.111654430244048, \"y1\": 15.611654430244048, \"yref\": \"y\"}, {\"fillcolor\": \"orange\", \"type\": \"circle\", \"x0\": 5.3092941763467385, \"x1\": 5.8092941763467385, \"xref\": \"x\", \"y0\": 3.0956681937423642, \"y1\": 3.5956681937423642, \"yref\": \"y\"}, {\"fillcolor\": \"orange\", \"type\": \"circle\", \"x0\": 16.979640895764913, \"x1\": 17.479640895764913, \"xref\": \"x\", \"y0\": 6.324756575324388, \"y1\": 6.824756575324388, \"yref\": \"y\"}, {\"fillcolor\": \"orange\", \"type\": \"circle\", \"x0\": 12.086879834137402, \"x1\": 12.586879834137402, \"xref\": \"x\", \"y0\": 17.4010778744437, \"y1\": 17.9010778744437, \"yref\": \"y\"}, {\"fillcolor\": \"orange\", \"type\": \"circle\", \"x0\": 1.8403269144877692, \"x1\": 2.340326914487769, \"xref\": \"x\", \"y0\": 10.948779245867826, \"y1\": 11.448779245867826, \"yref\": \"y\"}, {\"fillcolor\": \"orange\", \"type\": \"circle\", \"x0\": 9.714835568576818, \"x1\": 10.214835568576818, \"xref\": \"x\", \"y0\": 1.750077283950633, \"y1\": 2.250077283950633, \"yref\": \"y\"}, {\"fillcolor\": \"orange\", \"type\": \"circle\", \"x0\": 17.6699059374341, \"x1\": 18.1699059374341, \"xref\": \"x\", \"y0\": 10.87919880543513, \"y1\": 11.37919880543513, \"yref\": \"y\"}], \"template\": {\"data\": {\"bar\": [{\"error_x\": {\"color\": \"#2a3f5f\"}, \"error_y\": {\"color\": \"#2a3f5f\"}, \"marker\": {\"line\": {\"color\": \"#E5ECF6\", \"width\": 0.5}}, \"type\": \"bar\"}], \"barpolar\": [{\"marker\": {\"line\": {\"color\": \"#E5ECF6\", \"width\": 0.5}}, \"type\": \"barpolar\"}], \"carpet\": [{\"aaxis\": {\"endlinecolor\": \"#2a3f5f\", \"gridcolor\": \"white\", \"linecolor\": \"white\", \"minorgridcolor\": \"white\", \"startlinecolor\": \"#2a3f5f\"}, \"baxis\": {\"endlinecolor\": \"#2a3f5f\", \"gridcolor\": \"white\", \"linecolor\": \"white\", \"minorgridcolor\": \"white\", \"startlinecolor\": \"#2a3f5f\"}, \"type\": \"carpet\"}], \"choropleth\": [{\"colorbar\": {\"outlinewidth\": 0, \"ticks\": \"\"}, \"type\": \"choropleth\"}], \"contour\": [{\"colorbar\": {\"outlinewidth\": 0, \"ticks\": \"\"}, \"colorscale\": [[0.0, \"#0d0887\"], [0.1111111111111111, \"#46039f\"], [0.2222222222222222, \"#7201a8\"], [0.3333333333333333, \"#9c179e\"], [0.4444444444444444, \"#bd3786\"], [0.5555555555555556, \"#d8576b\"], [0.6666666666666666, \"#ed7953\"], [0.7777777777777778, \"#fb9f3a\"], [0.8888888888888888, \"#fdca26\"], [1.0, \"#f0f921\"]], \"type\": \"contour\"}], \"contourcarpet\": [{\"colorbar\": {\"outlinewidth\": 0, \"ticks\": \"\"}, \"type\": \"contourcarpet\"}], \"heatmap\": [{\"colorbar\": {\"outlinewidth\": 0, \"ticks\": \"\"}, \"colorscale\": [[0.0, \"#0d0887\"], [0.1111111111111111, \"#46039f\"], [0.2222222222222222, \"#7201a8\"], [0.3333333333333333, \"#9c179e\"], [0.4444444444444444, \"#bd3786\"], [0.5555555555555556, \"#d8576b\"], [0.6666666666666666, \"#ed7953\"], [0.7777777777777778, \"#fb9f3a\"], [0.8888888888888888, \"#fdca26\"], [1.0, \"#f0f921\"]], \"type\": \"heatmap\"}], \"heatmapgl\": [{\"colorbar\": {\"outlinewidth\": 0, \"ticks\": \"\"}, \"colorscale\": [[0.0, \"#0d0887\"], [0.1111111111111111, \"#46039f\"], [0.2222222222222222, \"#7201a8\"], [0.3333333333333333, \"#9c179e\"], [0.4444444444444444, \"#bd3786\"], [0.5555555555555556, \"#d8576b\"], [0.6666666666666666, \"#ed7953\"], [0.7777777777777778, \"#fb9f3a\"], [0.8888888888888888, \"#fdca26\"], [1.0, \"#f0f921\"]], \"type\": \"heatmapgl\"}], \"histogram\": [{\"marker\": {\"colorbar\": {\"outlinewidth\": 0, \"ticks\": \"\"}}, \"type\": \"histogram\"}], \"histogram2d\": [{\"colorbar\": {\"outlinewidth\": 0, \"ticks\": \"\"}, \"colorscale\": [[0.0, \"#0d0887\"], [0.1111111111111111, \"#46039f\"], [0.2222222222222222, \"#7201a8\"], [0.3333333333333333, \"#9c179e\"], [0.4444444444444444, \"#bd3786\"], [0.5555555555555556, \"#d8576b\"], [0.6666666666666666, \"#ed7953\"], [0.7777777777777778, \"#fb9f3a\"], [0.8888888888888888, \"#fdca26\"], [1.0, \"#f0f921\"]], \"type\": \"histogram2d\"}], \"histogram2dcontour\": [{\"colorbar\": {\"outlinewidth\": 0, \"ticks\": \"\"}, \"colorscale\": [[0.0, \"#0d0887\"], [0.1111111111111111, \"#46039f\"], [0.2222222222222222, \"#7201a8\"], [0.3333333333333333, \"#9c179e\"], [0.4444444444444444, \"#bd3786\"], [0.5555555555555556, \"#d8576b\"], [0.6666666666666666, \"#ed7953\"], [0.7777777777777778, \"#fb9f3a\"], [0.8888888888888888, \"#fdca26\"], [1.0, \"#f0f921\"]], \"type\": \"histogram2dcontour\"}], \"mesh3d\": [{\"colorbar\": {\"outlinewidth\": 0, \"ticks\": \"\"}, \"type\": \"mesh3d\"}], \"parcoords\": [{\"line\": {\"colorbar\": {\"outlinewidth\": 0, \"ticks\": \"\"}}, \"type\": \"parcoords\"}], \"pie\": [{\"automargin\": true, \"type\": \"pie\"}], \"scatter\": [{\"marker\": {\"colorbar\": {\"outlinewidth\": 0, \"ticks\": \"\"}}, \"type\": \"scatter\"}], \"scatter3d\": [{\"line\": {\"colorbar\": {\"outlinewidth\": 0, \"ticks\": \"\"}}, \"marker\": {\"colorbar\": {\"outlinewidth\": 0, \"ticks\": \"\"}}, \"type\": \"scatter3d\"}], \"scattercarpet\": [{\"marker\": {\"colorbar\": {\"outlinewidth\": 0, \"ticks\": \"\"}}, \"type\": \"scattercarpet\"}], \"scattergeo\": [{\"marker\": {\"colorbar\": {\"outlinewidth\": 0, \"ticks\": \"\"}}, \"type\": \"scattergeo\"}], \"scattergl\": [{\"marker\": {\"colorbar\": {\"outlinewidth\": 0, \"ticks\": \"\"}}, \"type\": \"scattergl\"}], \"scattermapbox\": [{\"marker\": {\"colorbar\": {\"outlinewidth\": 0, \"ticks\": \"\"}}, \"type\": \"scattermapbox\"}], \"scatterpolar\": [{\"marker\": {\"colorbar\": {\"outlinewidth\": 0, \"ticks\": \"\"}}, \"type\": \"scatterpolar\"}], \"scatterpolargl\": [{\"marker\": {\"colorbar\": {\"outlinewidth\": 0, \"ticks\": \"\"}}, \"type\": \"scatterpolargl\"}], \"scatterternary\": [{\"marker\": {\"colorbar\": {\"outlinewidth\": 0, \"ticks\": \"\"}}, \"type\": \"scatterternary\"}], \"surface\": [{\"colorbar\": {\"outlinewidth\": 0, \"ticks\": \"\"}, \"colorscale\": [[0.0, \"#0d0887\"], [0.1111111111111111, \"#46039f\"], [0.2222222222222222, \"#7201a8\"], [0.3333333333333333, \"#9c179e\"], [0.4444444444444444, \"#bd3786\"], [0.5555555555555556, \"#d8576b\"], [0.6666666666666666, \"#ed7953\"], [0.7777777777777778, \"#fb9f3a\"], [0.8888888888888888, \"#fdca26\"], [1.0, \"#f0f921\"]], \"type\": \"surface\"}], \"table\": [{\"cells\": {\"fill\": {\"color\": \"#EBF0F8\"}, \"line\": {\"color\": \"white\"}}, \"header\": {\"fill\": {\"color\": \"#C8D4E3\"}, \"line\": {\"color\": \"white\"}}, \"type\": \"table\"}]}, \"layout\": {\"annotationdefaults\": {\"arrowcolor\": \"#2a3f5f\", \"arrowhead\": 0, \"arrowwidth\": 1}, \"autotypenumbers\": \"strict\", \"coloraxis\": {\"colorbar\": {\"outlinewidth\": 0, \"ticks\": \"\"}}, \"colorscale\": {\"diverging\": [[0, \"#8e0152\"], [0.1, \"#c51b7d\"], [0.2, \"#de77ae\"], [0.3, \"#f1b6da\"], [0.4, \"#fde0ef\"], [0.5, \"#f7f7f7\"], [0.6, \"#e6f5d0\"], [0.7, \"#b8e186\"], [0.8, \"#7fbc41\"], [0.9, \"#4d9221\"], [1, \"#276419\"]], \"sequential\": [[0.0, \"#0d0887\"], [0.1111111111111111, \"#46039f\"], [0.2222222222222222, \"#7201a8\"], [0.3333333333333333, \"#9c179e\"], [0.4444444444444444, \"#bd3786\"], [0.5555555555555556, \"#d8576b\"], [0.6666666666666666, \"#ed7953\"], [0.7777777777777778, \"#fb9f3a\"], [0.8888888888888888, \"#fdca26\"], [1.0, \"#f0f921\"]], \"sequentialminus\": [[0.0, \"#0d0887\"], [0.1111111111111111, \"#46039f\"], [0.2222222222222222, \"#7201a8\"], [0.3333333333333333, \"#9c179e\"], [0.4444444444444444, \"#bd3786\"], [0.5555555555555556, \"#d8576b\"], [0.6666666666666666, \"#ed7953\"], [0.7777777777777778, \"#fb9f3a\"], [0.8888888888888888, \"#fdca26\"], [1.0, \"#f0f921\"]]}, \"colorway\": [\"#636efa\", \"#EF553B\", \"#00cc96\", \"#ab63fa\", \"#FFA15A\", \"#19d3f3\", \"#FF6692\", \"#B6E880\", \"#FF97FF\", \"#FECB52\"], \"font\": {\"color\": \"#2a3f5f\"}, \"geo\": {\"bgcolor\": \"white\", \"lakecolor\": \"white\", \"landcolor\": \"#E5ECF6\", \"showlakes\": true, \"showland\": true, \"subunitcolor\": \"white\"}, \"hoverlabel\": {\"align\": \"left\"}, \"hovermode\": \"closest\", \"mapbox\": {\"style\": \"light\"}, \"paper_bgcolor\": \"white\", \"plot_bgcolor\": \"#E5ECF6\", \"polar\": {\"angularaxis\": {\"gridcolor\": \"white\", \"linecolor\": \"white\", \"ticks\": \"\"}, \"bgcolor\": \"#E5ECF6\", \"radialaxis\": {\"gridcolor\": \"white\", \"linecolor\": \"white\", \"ticks\": \"\"}}, \"scene\": {\"xaxis\": {\"backgroundcolor\": \"#E5ECF6\", \"gridcolor\": \"white\", \"gridwidth\": 2, \"linecolor\": \"white\", \"showbackground\": true, \"ticks\": \"\", \"zerolinecolor\": \"white\"}, \"yaxis\": {\"backgroundcolor\": \"#E5ECF6\", \"gridcolor\": \"white\", \"gridwidth\": 2, \"linecolor\": \"white\", \"showbackground\": true, \"ticks\": \"\", \"zerolinecolor\": \"white\"}, \"zaxis\": {\"backgroundcolor\": \"#E5ECF6\", \"gridcolor\": \"white\", \"gridwidth\": 2, \"linecolor\": \"white\", \"showbackground\": true, \"ticks\": \"\", \"zerolinecolor\": \"white\"}}, \"shapedefaults\": {\"line\": {\"color\": \"#2a3f5f\"}}, \"ternary\": {\"aaxis\": {\"gridcolor\": \"white\", \"linecolor\": \"white\", \"ticks\": \"\"}, \"baxis\": {\"gridcolor\": \"white\", \"linecolor\": \"white\", \"ticks\": \"\"}, \"bgcolor\": \"#E5ECF6\", \"caxis\": {\"gridcolor\": \"white\", \"linecolor\": \"white\", \"ticks\": \"\"}}, \"title\": {\"x\": 0.05}, \"xaxis\": {\"automargin\": true, \"gridcolor\": \"white\", \"linecolor\": \"white\", \"ticks\": \"\", \"title\": {\"standoff\": 15}, \"zerolinecolor\": \"white\", \"zerolinewidth\": 2}, \"yaxis\": {\"automargin\": true, \"gridcolor\": \"white\", \"linecolor\": \"white\", \"ticks\": \"\", \"title\": {\"standoff\": 15}, \"zerolinecolor\": \"white\", \"zerolinewidth\": 2}}}, \"width\": 800, \"xaxis\": {\"range\": [0, 20], \"zeroline\": false}, \"yaxis\": {\"range\": [0, 20]}},                        {\"responsive\": true}                    ).then(function(){\n",
       "                            \n",
       "var gd = document.getElementById('0033c1ac-f522-4a4a-86e6-5eda7a5f25c5');\n",
       "var x = new MutationObserver(function (mutations, observer) {{\n",
       "        var display = window.getComputedStyle(gd).display;\n",
       "        if (!display || display === 'none') {{\n",
       "            console.log([gd, 'removed!']);\n",
       "            Plotly.purge(gd);\n",
       "            observer.disconnect();\n",
       "        }}\n",
       "}});\n",
       "\n",
       "// Listen for the removal of the full notebook cells\n",
       "var notebookContainer = gd.closest('#notebook-container');\n",
       "if (notebookContainer) {{\n",
       "    x.observe(notebookContainer, {childList: true});\n",
       "}}\n",
       "\n",
       "// Listen for the clearing of the current output cell\n",
       "var outputEl = gd.closest('.output');\n",
       "if (outputEl) {{\n",
       "    x.observe(outputEl, {childList: true});\n",
       "}}\n",
       "\n",
       "                        })                };                });            </script>        </div>"
      ]
     },
     "metadata": {},
     "output_type": "display_data"
    }
   ],
   "source": [
    "# Creation of custom \"ATOM\" graph\n",
    "# The most cited paper(s) stands in the middle, and least cited papers gravitate around\n",
    "# The bigger the dot, the more citations\n",
    "# Colors indicate range of citations\n",
    "# Problem: the centers (blue dots) are not aligned with the colored circles\n",
    "# Also, want to change hovering text to Year + Citations (instead of x_center, y_center)\n",
    "\n",
    "fig = go.Figure(data=go.Scatter(x=sorted_df[\"x_center\"], y=sorted_df[\"y_center\"], mode='markers'))\n",
    "\n",
    "# Set axes properties\n",
    "fig.update_xaxes(range=[0, 20], zeroline=False)\n",
    "fig.update_yaxes(range=[0, 20])\n",
    "\n",
    "# Add circles\n",
    "fig.add_shape(type=\"circle\",\n",
    "    xref=\"x\", yref=\"y\",\n",
    "    fillcolor=\"LightSeaGreen\",\n",
    "    x0=8.5, y0=8.5, x1=11.5, y1=11.5,\n",
    "    line_color=\"black\",\n",
    ")\n",
    "fig.add_shape(type=\"circle\",\n",
    "    xref=\"x\", yref=\"y\",\n",
    "    x0=6, y0=6, x1=14, y1=14,\n",
    "    line_color=\"black\",\n",
    ")\n",
    "fig.add_shape(type=\"circle\",\n",
    "    xref=\"x\", yref=\"y\",\n",
    "    x0=4, y0=4, x1=16, y1=16,\n",
    "    line_color=\"black\",\n",
    ")\n",
    "fig.add_shape(type=\"circle\",\n",
    "    xref=\"x\", yref=\"y\",\n",
    "    x0=2, y0=2, x1=18, y1=18,\n",
    "    line_color=\"black\",\n",
    ")\n",
    "\n",
    "# Mx = cosØ*r and My = sinØ*r\n",
    "j = 0\n",
    "k = 0\n",
    "l = 0\n",
    "for i, row in sorted_df[1:].iterrows():\n",
    "    #print(row.radius)\n",
    "    theta = randint(0,360)\n",
    "    if row.citations <= 5:\n",
    "        theta = theta1[j]\n",
    "        x_center = np.cos(theta)*8 + 10\n",
    "        y_center = np.sin(theta)*8 + 10\n",
    "        color = \"orange\"\n",
    "        j = j + 1\n",
    "    elif row.citations > 5 and row.citations <=20:\n",
    "        theta = theta2[k]\n",
    "        x_center = np.cos(theta)*6 + 10\n",
    "        y_center = np.sin(theta)*6 + 10\n",
    "        color = \"yellow\"\n",
    "        k = k + 1\n",
    "    elif row.citations > 20 and row.citations <= 100:\n",
    "        theta = theta3[l]\n",
    "        x_center = np.cos(theta)*4 + 10\n",
    "        y_center = np.sin(theta)*4 + 10\n",
    "        color = \"green\"\n",
    "        l = l + 1\n",
    "    fig.add_shape(type=\"circle\",\n",
    "    xref=\"x\", yref=\"y\",\n",
    "    x0=x_center-(row.radius/2), y0=y_center-(row.radius/2), x1=x_center+(row.radius/2), y1=y_center+(row.radius/2),\n",
    "    fillcolor=color,\n",
    "    )\n",
    "\n",
    "# Set figure size\n",
    "fig.update_layout(width=800, height=800)\n",
    "\n",
    "fig.show()"
   ]
  }
 ],
 "metadata": {
  "kernelspec": {
   "display_name": "Python 3 (ipykernel)",
   "language": "python",
   "name": "python3"
  },
  "language_info": {
   "codemirror_mode": {
    "name": "ipython",
    "version": 3
   },
   "file_extension": ".py",
   "mimetype": "text/x-python",
   "name": "python",
   "nbconvert_exporter": "python",
   "pygments_lexer": "ipython3",
   "version": "3.9.7"
  },
  "toc": {
   "base_numbering": 1,
   "nav_menu": {},
   "number_sections": true,
   "sideBar": true,
   "skip_h1_title": false,
   "title_cell": "Table of Contents",
   "title_sidebar": "Contents",
   "toc_cell": false,
   "toc_position": {},
   "toc_section_display": true,
   "toc_window_display": false
  }
 },
 "nbformat": 4,
 "nbformat_minor": 5
}
